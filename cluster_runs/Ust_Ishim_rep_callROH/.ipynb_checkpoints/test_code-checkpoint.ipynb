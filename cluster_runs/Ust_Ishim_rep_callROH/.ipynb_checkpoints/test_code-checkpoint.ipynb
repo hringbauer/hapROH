{
 "cells": [
  {
   "cell_type": "code",
   "execution_count": 7,
   "metadata": {},
   "outputs": [],
   "source": [
    "import numpy as np\n",
    "import os as os\n",
    "import sys as sys\n",
    "import pandas as pd\n",
    "import socket\n",
    "\n",
    "#### 1) Set the Path to default HAPSBURG\n",
    "path = \"/project2/jnovembre/hringbauer/HAPSBURG/\"  # The Path on Midway Cluster\n",
    "os.chdir(path)\n",
    "from hapsburg.PackagesSupport.hapsburg_run import hapsb_ind  # Need this import"
   ]
  },
  {
   "cell_type": "code",
   "execution_count": 22,
   "metadata": {},
   "outputs": [],
   "source": [
    "\"\"\"\n",
    "Run Eigenstrat inference on the cluster.\n",
    "Called with array jobs from sbatch\n",
    "@ Author: Harald Ringbauer, 2019, All rights reserved\n",
    "\"\"\"\n",
    "\n",
    "\n",
    "#########################################################\n",
    "\n",
    "def get_iid_path(i, reps=20, down_sampling_covs = np.linspace(0.2, 1.0, 9),\n",
    "                 base_path=\"./Data/SA_1240kHDF5/Ust_Ishim_rep/downsample_ph_r\"):\n",
    "    \"\"\"Get the Individual IID\"\"\"\n",
    "    batch = int(np.floor(i/reps))\n",
    "    rep = i%reps\n",
    "    \n",
    "    path_hd = base_path + str(rep) + \".h5\"\n",
    "    c = down_sampling_covs[batch]\n",
    "    iid = f\"{c:.4f}_r{rep}\" \n",
    "    return iid, path_hd\n",
    "\n",
    "#########################################################\n",
    "#########################################################\n",
    "\n",
    "if __name__ == \"__main__\":\n",
    "    if len(sys.argv) < 2:\n",
    "        raise RuntimeError(\"Script needs argument (indiviual i)\")\n",
    "    run_nr = int(sys.argv[1]) # The Parameter passed to the Python Script from outside\n",
    "\n",
    "    iid, path_target = get_iid_path(i=run_nr)\n",
    "    \n",
    "    hapsb_ind(iid=iid, chs=range(1, 23), \n",
    "              path_targets=path_target, # The path before the .ind, .snp, .geno\n",
    "              h5_path1000g='./Data/1000Genomes/HDF5/1240kHDF5/all1240int8/chr', \n",
    "              meta_path_ref='./Data/1000Genomes/Individuals/meta_df_all.csv', \n",
    "              folder_out=\"./Empirical/1240k/SA_Readcounts/Ust_Ishim_rep/\", prefix_out='', \n",
    "              e_model='haploid', p_model='MosaicHDF5', \n",
    "              post_model='Standard', processes=1, delete=False, output=True, save=True, \n",
    "              save_fp=False, n_ref=2504, exclude_pops=[], readcounts=False, random_allele=True, \n",
    "              roh_in=1, roh_out=20, roh_jump=300, e_rate=0.01, e_rate_ref=0.0, \n",
    "              cutoff_post=0.999, max_gap=0, roh_min_l=0.01, \n",
    "              logfile=True, combine=True, file_result='_roh_full.csv')"
   ]
  },
  {
   "cell_type": "code",
   "execution_count": null,
   "metadata": {},
   "outputs": [],
   "source": []
  },
  {
   "cell_type": "markdown",
   "metadata": {},
   "source": [
    "# Test a single run"
   ]
  },
  {
   "cell_type": "code",
   "execution_count": 48,
   "metadata": {},
   "outputs": [],
   "source": [
    "iid, path_target = get_iid_path(i=157)"
   ]
  },
  {
   "cell_type": "code",
   "execution_count": 49,
   "metadata": {},
   "outputs": [
    {
     "data": {
      "text/plain": [
       "'0.9000_r17'"
      ]
     },
     "execution_count": 49,
     "metadata": {},
     "output_type": "execute_result"
    }
   ],
   "source": [
    "iid"
   ]
  },
  {
   "cell_type": "code",
   "execution_count": 50,
   "metadata": {},
   "outputs": [
    {
     "data": {
      "text/plain": [
       "'./Data/SA_1240kHDF5/Ust_Ishim_rep/downsample_ph_r17.h5'"
      ]
     },
     "execution_count": 50,
     "metadata": {},
     "output_type": "execute_result"
    }
   ],
   "source": [
    "path_target"
   ]
  },
  {
   "cell_type": "code",
   "execution_count": 51,
   "metadata": {},
   "outputs": [
    {
     "name": "stdout",
     "output_type": "stream",
     "text": [
      "Doing Individual 0.9000_r17...\n",
      "Running 2 total jobs; 1 in parallel.\n",
      "Using Low-Mem Cython Linear Speed Up.\n",
      "Loaded Pre Processing Model: MosaicHDF5\n",
      "Loading Individual: 0.9000_r17\n",
      "\n",
      "Loaded 1115315 variants\n",
      "Loaded 9 individuals\n",
      "HDF5 loaded from ./Data/SA_1240kHDF5/Ust_Ishim_rep/downsample_ph_r17.h5\n",
      "\n",
      "Loaded 77652 variants\n",
      "Loaded 2504 individuals\n",
      "HDF5 loaded from ./Data/1000Genomes/HDF5/1240kHDF5/all1240int8/chr3.hdf5\n",
      "Nr of Matching Refs: 77610 / 77652 SNPs\n",
      "Both Ref/Alt Identical: 77608 / 77652\n",
      "2504 / 2504 Individuals included in Reference\n",
      "Extracting up to 2504 Individuals\n",
      "Extraction of 2 Haplotypes complete\n",
      "Extraction of 5008 Haplotypes complete\n",
      "Reduced to markers called 69722 / 77608\n",
      "Fraction SNPs covered: 0.8984\n",
      "Successfully saved to: ./Empirical/1240k/SA_Readcounts/Ust_Ishim_rep/0.9000_r17/chr3/\n",
      "Shuffling phase of target...\n",
      "Successfully loaded Data from: ./Empirical/1240k/SA_Readcounts/Ust_Ishim_rep/0.9000_r17/chr3/\n",
      "Loaded Emission Model: haploid\n",
      "Loaded Transition Model: model\n",
      "Loaded Post Processing Model: Standard\n",
      "Minimum Genetic Map: 0.0000 Morgan\n",
      "Maximum Genetic Map: 2.2326 Morgan\n",
      "Gaps bigger than 0.1 cM: 232\n",
      "Maximum Gap: 0.2499 cM\n",
      "Upper Gap Cutoff: 5.0000 cM\n",
      "Loaded Transition and Emission Matrix:\n",
      "(3, 3)\n",
      "(5009, 69722)\n",
      "Loaded Observations:\n",
      "(2, 69722)\n",
      "Memory Usage: 3339.272192 mB\n",
      "Reference Number: 5008\n",
      "Total Log likelihood: -26238.094\n",
      "Memory Usage: 3340.210176 mB\n",
      "Finished Calculation State Posteriors\n",
      "Saved Zero State Posterior to ./Empirical/1240k/SA_Readcounts/Ust_Ishim_rep/0.9000_r17/chr3/.\n",
      "Successfully loaded for PP. from ./Empirical/1240k/SA_Readcounts/Ust_Ishim_rep/0.9000_r17/chr3/\n",
      "Fraction Markers in ROH: 0.2597\n",
      "Merged n=0 gaps < 0 M\n",
      "Called n=13 ROH Blocks > 1.0 cM\n",
      "Longest Block: 5.60 cM\n",
      "Successfully saved to ./Empirical/1240k/SA_Readcounts/Ust_Ishim_rep/0.9000_r17/chr3/roh.csv\n",
      "Using Low-Mem Cython Linear Speed Up.\n",
      "Loaded Pre Processing Model: MosaicHDF5\n",
      "Loading Individual: 0.9000_r17\n",
      "\n",
      "Loaded 1115315 variants\n",
      "Loaded 9 individuals\n",
      "HDF5 loaded from ./Data/SA_1240kHDF5/Ust_Ishim_rep/downsample_ph_r17.h5\n",
      "\n",
      "Loaded 68759 variants\n",
      "Loaded 2504 individuals\n",
      "HDF5 loaded from ./Data/1000Genomes/HDF5/1240kHDF5/all1240int8/chr4.hdf5\n",
      "Nr of Matching Refs: 68708 / 68757 SNPs\n",
      "Both Ref/Alt Identical: 68703 / 68757\n",
      "2504 / 2504 Individuals included in Reference\n",
      "Extracting up to 2504 Individuals\n",
      "Extraction of 2 Haplotypes complete\n",
      "Extraction of 5008 Haplotypes complete\n",
      "Reduced to markers called 62011 / 68703\n",
      "Fraction SNPs covered: 0.9026\n",
      "Successfully saved to: ./Empirical/1240k/SA_Readcounts/Ust_Ishim_rep/0.9000_r17/chr4/\n",
      "Shuffling phase of target...\n",
      "Successfully loaded Data from: ./Empirical/1240k/SA_Readcounts/Ust_Ishim_rep/0.9000_r17/chr4/\n",
      "Loaded Emission Model: haploid\n",
      "Loaded Transition Model: model\n",
      "Loaded Post Processing Model: Standard\n",
      "Minimum Genetic Map: 0.0034 Morgan\n",
      "Maximum Genetic Map: 2.1454 Morgan\n",
      "Gaps bigger than 0.1 cM: 204\n",
      "Maximum Gap: 2.0422 cM\n",
      "Upper Gap Cutoff: 5.0000 cM\n",
      "Loaded Transition and Emission Matrix:\n",
      "(3, 3)\n",
      "(5009, 62011)\n",
      "Loaded Observations:\n",
      "(2, 62011)\n",
      "Memory Usage: 2993.139712 mB\n",
      "Reference Number: 5008\n",
      "Total Log likelihood: -21591.310\n",
      "Memory Usage: 2993.147904 mB\n",
      "Finished Calculation State Posteriors\n",
      "Saved Zero State Posterior to ./Empirical/1240k/SA_Readcounts/Ust_Ishim_rep/0.9000_r17/chr4/.\n",
      "Successfully loaded for PP. from ./Empirical/1240k/SA_Readcounts/Ust_Ishim_rep/0.9000_r17/chr4/\n",
      "Fraction Markers in ROH: 0.3121\n",
      "Merged n=0 gaps < 0 M\n",
      "Called n=15 ROH Blocks > 1.0 cM\n",
      "Longest Block: 4.56 cM\n",
      "Successfully saved to ./Empirical/1240k/SA_Readcounts/Ust_Ishim_rep/0.9000_r17/chr4/roh.csv\n",
      "Combining Information for 2 Chromosomes...\n",
      "Run finished successfully!\n"
     ]
    }
   ],
   "source": [
    "hapsb_ind(iid=iid, chs=range(3, 5), \n",
    "          path_targets=path_target, # The path before the .ind, .snp, .geno\n",
    "          h5_path1000g='./Data/1000Genomes/HDF5/1240kHDF5/all1240int8/chr', \n",
    "          meta_path_ref='./Data/1000Genomes/Individuals/meta_df_all.csv', \n",
    "          folder_out=\"./Empirical/1240k/SA_Readcounts/Ust_Ishim_rep/\", prefix_out='', \n",
    "          e_model='haploid', p_model='MosaicHDF5', \n",
    "          post_model='Standard', processes=1, delete=False, output=True, save=True, \n",
    "          save_fp=False, n_ref=2504, exclude_pops=[], readcounts=False, random_allele=True, \n",
    "          roh_in=1, roh_out=20, roh_jump=300, e_rate=0.01, e_rate_ref=0.0, \n",
    "          cutoff_post=0.999, max_gap=0, roh_min_l=0.01, \n",
    "          logfile=False, combine=True, file_result='_roh_full.csv')"
   ]
  },
  {
   "cell_type": "code",
   "execution_count": 13,
   "metadata": {},
   "outputs": [
    {
     "data": {
      "text/plain": [
       "1"
      ]
     },
     "execution_count": 13,
     "metadata": {},
     "output_type": "execute_result"
    }
   ],
   "source": []
  },
  {
   "cell_type": "code",
   "execution_count": null,
   "metadata": {},
   "outputs": [],
   "source": []
  }
 ],
 "metadata": {
  "kernelspec": {
   "display_name": "Python 3",
   "language": "python",
   "name": "python3"
  },
  "language_info": {
   "codemirror_mode": {
    "name": "ipython",
    "version": 3
   },
   "file_extension": ".py",
   "mimetype": "text/x-python",
   "name": "python",
   "nbconvert_exporter": "python",
   "pygments_lexer": "ipython3",
   "version": "3.7.0"
  }
 },
 "nbformat": 4,
 "nbformat_minor": 4
}
