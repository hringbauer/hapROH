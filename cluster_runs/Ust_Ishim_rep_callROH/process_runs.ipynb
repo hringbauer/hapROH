{
 "cells": [
  {
   "cell_type": "markdown",
   "metadata": {},
   "source": [
    "# Post-Process Ust_Ishim Replicate Runs"
   ]
  },
  {
   "cell_type": "code",
   "execution_count": 7,
   "metadata": {},
   "outputs": [
    {
     "name": "stdout",
     "output_type": "stream",
     "text": [
      "midway2-0401.rcc.local\n",
      "Midway jnovmbre partition detected.\n",
      "/project2/jnovembre/hringbauer/HAPSBURG\n",
      "CPU Count: 28\n"
     ]
    }
   ],
   "source": [
    "import numpy as np\n",
    "import os as os\n",
    "import sys as sys\n",
    "import multiprocessing as mp\n",
    "import matplotlib.pyplot as plt\n",
    "\n",
    "import pandas as pd\n",
    "import socket\n",
    "\n",
    "### For Arial Font\n",
    "from matplotlib import rcParams\n",
    "rcParams['font.family'] = 'sans-serif'   # Set the defaul\n",
    "rcParams['font.sans-serif'] = ['Arial']  # Make sure to have the font installed (it is on cluster for Harald)\n",
    "\n",
    "#######################################################\n",
    "### Pick the right path (whether on cluster or at home)\n",
    "socket_name = socket.gethostname()\n",
    "print(socket_name)\n",
    "if socket_name == \"VioletQueen\":\n",
    "    path = \"/home/harald/git/HAPSBURG/\"   # The Path on Harald's machine\n",
    "elif socket_name.startswith(\"midway2\"):\n",
    "    print(\"Midway jnovmbre partition detected.\")\n",
    "    path = \"/project2/jnovembre/hringbauer/HAPSBURG/\"  # The Path on Midway Cluster\n",
    "    sys.path.append(\"/project2/jnovembre/hringbauer/HAPSBURG/package/\")\n",
    "else: \n",
    "    raise RuntimeWarning(\"Not compatible machine. Check!!\")\n",
    "    \n",
    "os.chdir(path)  # Set the right Path (in line with Atom default)\n",
    "print(os.getcwd()) # Show the current working directory. Should be HAPSBURG/Notebooks/ParallelRuns\n",
    "print(f\"CPU Count: {mp.cpu_count()}\")\n",
    "\n",
    "### Import hapsburg Packages\n",
    "from hapsburg.PackagesSupport.pp_individual_roh_csvs import create_combined_ROH_df, give_iid_paths, pp_individual_roh"
   ]
  },
  {
   "cell_type": "markdown",
   "metadata": {},
   "source": [
    "### Forumla to get the IDs over Replicates"
   ]
  },
  {
   "cell_type": "code",
   "execution_count": 8,
   "metadata": {},
   "outputs": [],
   "source": [
    "def get_iid_rep(i, reps=70, down_sampling_covs = np.linspace(0.2, 1.0, 9),\n",
    "                 base_path=\"./Data/SA_1240kHDF5/Ust_Ishim_rep/downsample_ph_r\"):\n",
    "    \"\"\"Get the Individual IID\"\"\"\n",
    "    batch = int(np.floor(i/reps))\n",
    "    rep = i%reps\n",
    "    c = f\"{down_sampling_covs[batch]:.4f}\"\n",
    "    iid = f\"{c}_r{rep}\" \n",
    "    return iid, c"
   ]
  },
  {
   "cell_type": "code",
   "execution_count": 9,
   "metadata": {},
   "outputs": [
    {
     "data": {
      "text/plain": [
       "('0.2000_r10', '0.2000')"
      ]
     },
     "execution_count": 9,
     "metadata": {},
     "output_type": "execute_result"
    }
   ],
   "source": [
    "get_iid_rep(10)"
   ]
  },
  {
   "cell_type": "markdown",
   "metadata": {},
   "source": [
    "### Combine Ust Ishim Replicates"
   ]
  },
  {
   "cell_type": "code",
   "execution_count": 11,
   "metadata": {},
   "outputs": [],
   "source": [
    "n=100 * 9\n",
    "iids = np.array([get_iid_rep(i, reps=100)[0] for i in range(n)])\n",
    "clsts= np.array([get_iid_rep(i, reps=100)[1] for i in range(n)])\n",
    "paths = give_iid_paths(iids, base_folder=\"./Empirical/1240k/SA_Readcounts/Ust_Ishim_rep/\", suffix='_roh_full.csv')"
   ]
  },
  {
   "cell_type": "code",
   "execution_count": 12,
   "metadata": {},
   "outputs": [
    {
     "name": "stdout",
     "output_type": "stream",
     "text": [
      "CPU times: user 12min 33s, sys: 1.54 s, total: 12min 35s\n",
      "Wall time: 12min 57s\n"
     ]
    }
   ],
   "source": [
    "%%time\n",
    "df1 = create_combined_ROH_df(paths, iids, pops=clsts, min_cm=[4,8,12,20], snp_cm=50, \n",
    "                             gap=0.5, min_len1=2, min_len2=4,\n",
    "                             output=False, sort=False)"
   ]
  },
  {
   "cell_type": "code",
   "execution_count": 13,
   "metadata": {},
   "outputs": [
    {
     "name": "stdout",
     "output_type": "stream",
     "text": [
      "Successfully saved 900 Individuals to ./Empirical/1240k/SA_Readcounts/Ust_Ishim_rep/combined_roh05.tsv\n"
     ]
    }
   ],
   "source": [
    "### Save\n",
    "path_save = \"./Empirical/1240k/SA_Readcounts/Ust_Ishim_rep/combined_roh05.tsv\"\n",
    "df1.to_csv(path_save, sep=\"\\t\", index=False)\n",
    "df1[\"pop\"] = df1[\"pop\"].astype(\"str\")\n",
    "print(f\"Successfully saved {len(df1)} Individuals to {path_save}\")"
   ]
  },
  {
   "cell_type": "markdown",
   "metadata": {},
   "source": [
    "### Combine IPK12 Replicates"
   ]
  },
  {
   "cell_type": "code",
   "execution_count": null,
   "metadata": {},
   "outputs": [],
   "source": []
  }
 ],
 "metadata": {
  "kernelspec": {
   "display_name": "Python 3",
   "language": "python",
   "name": "python3"
  },
  "language_info": {
   "codemirror_mode": {
    "name": "ipython",
    "version": 3
   },
   "file_extension": ".py",
   "mimetype": "text/x-python",
   "name": "python",
   "nbconvert_exporter": "python",
   "pygments_lexer": "ipython3",
   "version": "3.7.0"
  }
 },
 "nbformat": 4,
 "nbformat_minor": 4
}
