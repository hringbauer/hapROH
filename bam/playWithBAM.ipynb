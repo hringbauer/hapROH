{
 "cells": [
  {
   "cell_type": "markdown",
   "source": [
    "play with .bam file with pysam "
   ],
   "metadata": {}
  },
  {
   "cell_type": "code",
   "execution_count": 2,
   "source": [
    "import pysam\n",
    "path2bam = \"/mnt/archgen/users/yilei/Data/BAM/I10939/I10939_1240k.bam\""
   ],
   "outputs": [],
   "metadata": {}
  },
  {
   "cell_type": "code",
   "execution_count": 3,
   "source": [
    "sf = pysam.AlignmentFile(path2bam, \"rb\")"
   ],
   "outputs": [],
   "metadata": {}
  },
  {
   "cell_type": "code",
   "execution_count": 27,
   "source": [
    "print(sf.references)\n",
    "print(sf.lengths)"
   ],
   "outputs": [
    {
     "output_type": "stream",
     "name": "stdout",
     "text": [
      "('1', '2', '3', '4', '5', '6', '7', '8', '9', '10', '11', '12', '13', '14', '15', '16', '17', '18', '19', '20', '21', '22', 'X', 'Y', 'MT', 'GL000207.1', 'GL000226.1', 'GL000229.1', 'GL000231.1', 'GL000210.1', 'GL000239.1', 'GL000235.1', 'GL000201.1', 'GL000247.1', 'GL000245.1', 'GL000197.1', 'GL000203.1', 'GL000246.1', 'GL000249.1', 'GL000196.1', 'GL000248.1', 'GL000244.1', 'GL000238.1', 'GL000202.1', 'GL000234.1', 'GL000232.1', 'GL000206.1', 'GL000240.1', 'GL000236.1', 'GL000241.1', 'GL000243.1', 'GL000242.1', 'GL000230.1', 'GL000237.1', 'GL000233.1', 'GL000204.1', 'GL000198.1', 'GL000208.1', 'GL000191.1', 'GL000227.1', 'GL000228.1', 'GL000214.1', 'GL000221.1', 'GL000209.1', 'GL000218.1', 'GL000220.1', 'GL000213.1', 'GL000211.1', 'GL000199.1', 'GL000217.1', 'GL000216.1', 'GL000215.1', 'GL000205.1', 'GL000219.1', 'GL000224.1', 'GL000223.1', 'GL000195.1', 'GL000212.1', 'GL000222.1', 'GL000200.1', 'GL000193.1', 'GL000194.1', 'GL000225.1', 'GL000192.1')\n",
      "(249250621, 243199373, 198022430, 191154276, 180915260, 171115067, 159138663, 146364022, 141213431, 135534747, 135006516, 133851895, 115169878, 107349540, 102531392, 90354753, 81195210, 78077248, 59128983, 63025520, 48129895, 51304566, 155270560, 59373566, 16569, 4262, 15008, 19913, 27386, 27682, 33824, 34474, 36148, 36422, 36651, 37175, 37498, 38154, 38502, 38914, 39786, 39929, 39939, 40103, 40531, 40652, 41001, 41933, 41934, 42152, 43341, 43523, 43691, 45867, 45941, 81310, 90085, 92689, 106433, 128374, 129120, 137718, 155397, 159169, 161147, 161802, 164239, 166566, 169874, 172149, 172294, 172545, 174588, 179198, 179693, 180455, 182896, 186858, 186861, 187035, 189789, 191469, 211173, 547496)\n"
     ]
    }
   ],
   "metadata": {}
  },
  {
   "cell_type": "code",
   "execution_count": 31,
   "source": [
    "start = 1e7\n",
    "end = 5e7\n",
    "MapQual = []\n",
    "count_highQ = 0\n",
    "for read in sf.fetch('X'):\n",
    "    mapq = read.mapping_quality\n",
    "    MapQual.append(read.mapping_quality)\n",
    "    if mapq > 20:\n",
    "        count_highQ += 1\n",
    "ct = sf.count('X')\n",
    "print(f'{ct} reads aligned to region {start}-{end}')\n",
    "print(f'{count_highQ} reads have mapping quality greater than 20.')\n",
    "\n",
    "import matplotlib.pyplot as plt\n",
    "plt.hist(MapQual)\n"
   ],
   "outputs": [
    {
     "output_type": "stream",
     "name": "stdout",
     "text": [
      "690638 reads aligned to region 10000000.0-50000000.0\n",
      "421053 reads have mapping quality greater than 20.\n"
     ]
    },
    {
     "output_type": "execute_result",
     "data": {
      "text/plain": [
       "(array([230553.,   6058.,   8346.,   6845.,  12115.,   5668.,  21559.,\n",
       "             0.,      0., 399494.]),\n",
       " array([ 0. ,  3.7,  7.4, 11.1, 14.8, 18.5, 22.2, 25.9, 29.6, 33.3, 37. ]),\n",
       " <a list of 10 Patch objects>)"
      ]
     },
     "metadata": {},
     "execution_count": 31
    },
    {
     "output_type": "display_data",
     "data": {
      "image/png": "[encoded data removed]",
      "text/plain": [
       "<Figure size 432x288 with 1 Axes>"
      ]
     },
     "metadata": {
      "needs_background": "light"
     }
    }
   ],
   "metadata": {}
  },
  {
   "cell_type": "code",
   "execution_count": 5,
   "source": [
    "for pileupcolumn in sf.pileup(\"X\", 10000000, 10000001):\n",
    "    print (\"\\ncoverage at base %s = %s\" %\n",
    "           (pileupcolumn.pos, pileupcolumn.n))\n",
    "    for pileupread in pileupcolumn.pileups:\n",
    "        if not pileupread.is_del and not pileupread.is_refskip:\n",
    "            # query position is None if is_del or is_refskip is set.c\n",
    "            print ('\\tbase in read %s = %s' %\n",
    "                  (pileupread.alignment.query_name,\n",
    "                   pileupread.alignment.query_sequence[pileupread.query_position]))"
   ],
   "outputs": [],
   "metadata": {}
  },
  {
   "cell_type": "code",
   "execution_count": 5,
   "source": [
    "import h5py\n",
    "import numpy as np\n",
    "import gzip\n",
    "import time\n",
    "# compare mismatch rate at variable and non-variable sites\n",
    "# grep all variable sites on chrX from 1240k panel\n",
    "# f = h5py.File('/mnt/archgen/users/yilei/Data/1000G/1000g1240khdf5/all1240/chrX.hdf5', 'r')\n",
    "# pos = f['variants/POS']\n",
    "\n",
    "#use ANGSD's HapMapChrX instead?\n",
    "pos = []\n",
    "with gzip.open('/mnt/archgen/users/yilei/bin/angsd/RES/HapMapChrX.gz') as file:\n",
    "    for line in file:\n",
    "        phy, *_ = line.strip().split()\n",
    "        pos.append(int(phy))\n",
    "print(f'number of SNP sites to check: {len(pos)}')\n",
    "pos = np.array(pos)\n",
    "pos -= 1 # pysam's use 0-based coordinate system\n",
    "pos = pos[:10]\n",
    "\n",
    "major_adj = 0\n",
    "minor_adj = 0\n",
    "major_foc = 0\n",
    "minor_foc = 0\n",
    "\n",
    "base2index = {'A':0, 'C':1, 'G':2, 'T':3}\n",
    "t = 0.0\n",
    "\n",
    "for p in pos:\n",
    "    #print(f'###### focal site: {p} #######')\n",
    "    for pileupcolumn in sf.pileup('X', p-4, p+5, min_mapping_quality=30, min_base_quality=20):\n",
    "        basePos = pileupcolumn.pos\n",
    "        cov = pileupcolumn.n\n",
    "        if cov == 1:\n",
    "            continue\n",
    "        if basePos >= p+5:\n",
    "            break\n",
    "        elif basePos < p-4: #or basePos == p:\n",
    "            continue\n",
    "        else:\n",
    "            rc = np.zeros(4)\n",
    "            print(f'coverage at base {pileupcolumn.pos}: {pileupcolumn.n}')\n",
    "            for pileupread in pileupcolumn.pileups:\n",
    "                if not pileupread.is_del and not pileupread.is_refskip:\n",
    "                    baseCall = pileupread.alignment.query_sequence[pileupread.query_position]\n",
    "                    rc[base2index[baseCall]] += 1\n",
    "            if basePos != p:\n",
    "                major_adj += np.max(rc)\n",
    "                minor_adj += np.sum(rc) - np.max(rc)\n",
    "            else:\n",
    "                major_foc += np.max(rc)\n",
    "                minor_foc += np.sum(rc) - np.max(rc)\n",
    "            if np.sum(rc == 0) < 2:\n",
    "                print(f'more than 2 genotype calls at {basePos}')\n",
    "\n",
    "print(f'number of major reads at flanking sites: {major_adj}')\n",
    "print(f'number of minor reads at flanking sites: {minor_adj}')\n",
    "print(f'number of major reads at focal sites: {major_foc}')\n",
    "print(f'number of minor reads at focal sites: {minor_foc}')\n",
    "\n",
    "print(f'err rate at flanking sites: {minor_adj/(minor_adj + major_adj)}')\n",
    "print(f'err rate at focal sites: {minor_foc/(minor_foc + major_foc)}')\n",
    "\n",
    "\n"
   ],
   "outputs": [
    {
     "output_type": "stream",
     "name": "stdout",
     "text": [
      "number of SNP sites to check: 73562\n"
     ]
    }
   ],
   "metadata": {}
  }
 ],
 "metadata": {
  "orig_nbformat": 4,
  "language_info": {
   "name": "python",
   "version": "3.8.10",
   "mimetype": "text/x-python",
   "codemirror_mode": {
    "name": "ipython",
    "version": 3
   },
   "pygments_lexer": "ipython3",
   "nbconvert_exporter": "python",
   "file_extension": ".py"
  },
  "kernelspec": {
   "name": "python3",
   "display_name": "Python 3.8.10 64-bit"
  },
  "interpreter": {
   "hash": "31f2aee4e71d21fbe5cf8b01ff0e069b9275f58929596ceb00d14d90e3e16cd6"
  }
 },
 "nbformat": 4,
 "nbformat_minor": 2
}