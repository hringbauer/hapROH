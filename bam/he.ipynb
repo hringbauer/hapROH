{
 "cells": [
  {
   "cell_type": "markdown",
   "metadata": {},
   "source": [
    "analyze He's data to see how much ROH there is.\n",
    "Turns out there isn't much.\n",
    "In the two minimally contaminated male samples, there are only about 25cM of ROH genome-wide, I don't think that's enough for reliable inference.\n",
    "I think the Carribean dataset is a better alternative."
   ]
  },
  {
   "cell_type": "code",
   "execution_count": 1,
   "metadata": {},
   "outputs": [],
   "source": [
    "iid=\"GFW002.003\""
   ]
  },
  {
   "cell_type": "code",
   "execution_count": null,
   "metadata": {},
   "outputs": [],
   "source": [
    "# convert mpileup to hdf5\n",
    "from toHDF5 import mpileup2hdf5\n",
    "\n",
    "basepath=f\"/mnt/archgen/users/yilei/Data/He/contamX/{iid}\"\n",
    "for ch in range(1, 23):\n",
    "    print(f'processing chr{ch}')\n",
    "    mpileup2hdf5(f'{basepath}/mpileup/{iid}.chr{ch}.mpileup', \n",
    "        f'/mnt/archgen/users/yilei/Data/1000G/1000g1240khdf5/all1240/chr{ch}.hdf5',\n",
    "        iid=iid, outPath=f'{basepath}/hdf5/')\n"
   ]
  },
  {
   "cell_type": "code",
   "execution_count": 2,
   "metadata": {},
   "outputs": [],
   "source": [
    "import sys\n",
    "sys.path.insert(0, \"/mnt/archgen/users/yilei/tools/hapROH/package\")  # hack to get local package first in path [FROM HARALD - DELETE!!!]\n",
    "from hapsburg.PackagesSupport.hapsburg_run import hapsb_ind  # Need this import\n",
    "from hapsburg.PackagesSupport.hapsburg_run import hapsb_chunk_negloglik\n",
    "from hapsburg.PackagesSupport.hapsburg_run import hapsb_femaleROHcontam"
   ]
  },
  {
   "cell_type": "code",
   "execution_count": null,
   "metadata": {},
   "outputs": [],
   "source": [
    "hapsb_ind(iid, chs=range(1,23), \n",
    "    path_targets_prefix = f\"/mnt/archgen/users/yilei/Data/He/contamX/{iid}/hdf5\",\n",
    "    h5_path1000g = \"/mnt/archgen/users/yilei/Data/1000G/1000g1240khdf5/all1240/chr\", \n",
    "    meta_path_ref = \"/mnt/archgen/users/yilei/Data/1000G/1000g1240khdf5/all1240/meta_df_all.csv\",\n",
    "    folder_out=f\"/mnt/archgen/users/yilei/Data/He/contamX/{iid}/hapRoh/\", prefix_out=\"\",\n",
    "    e_model=\"readcount\", p_model=\"SardHDF5\", post_model=\"Standard\",\n",
    "    processes=4, delete=False, output=True, save=True, save_fp=False, \n",
    "    n_ref=2504, diploid_ref=True, exclude_pops=[], readcounts=True, random_allele=False,\n",
    "    roh_in=1, roh_out=20, roh_jump=300, e_rate=0.01, e_rate_ref=1e-3, \n",
    "    cutoff_post = 0.999, max_gap=0, roh_min_l = 0.04, logfile=True, combine=True, \n",
    "    file_result=\"_roh_full.csv\")"
   ]
  },
  {
   "cell_type": "code",
   "execution_count": null,
   "metadata": {},
   "outputs": [],
   "source": [
    "hapsb_chunk_negloglik(iid, 3, 0.05, 0.55, \n",
    "    f\"/mnt/archgen/users/yilei/Data/He/contamX/{iid}/hdf5/{iid}.chr3.hdf5\",\n",
    "    \"/mnt/archgen/users/yilei/Data/1000G/1000g1240khdf5/all1240/chr\", \n",
    "    \"/mnt/archgen/users/yilei/Data/1000G/1000g1240khdf5/all1240/meta_df_all.csv\",\n",
    "    f\"/mnt/archgen/users/yilei/Data/He/contamX/{iid}/hapRoh/\",\n",
    "    0.0, roh_in=1, roh_out=20, roh_jump=300, e_rate=0.01, e_rate_ref=0.0,\n",
    "    save=False, save_fp=False, n_ref=2504, diploid_ref=True, \n",
    "    exclude_pops=[], e_model=\"readcount_contam\", p_model=\"SardHDF5\", \n",
    "    readcounts=True, random_allele=False, prefix_out=\"\", logfile=False)"
   ]
  },
  {
   "cell_type": "code",
   "execution_count": 3,
   "metadata": {},
   "outputs": [
    {
     "name": "stdout",
     "output_type": "stream",
     "text": [
      "a total of 4 ROH blocks found.\n",
      "running using 4 processes...\n",
      "Running 4 total jobs; 4 in parallel.\n",
      "Starting Pool of multiple workers...\n",
      "\n",
      "Loaded 39018 variants\n",
      "Loaded 36301 variants\n",
      "Loaded 32790 variants\n",
      "Loaded 58020 variants\n",
      "\n",
      "\n",
      "\n",
      "Loaded 1 individualsLoaded 1 individualsLoaded 1 individuals\n",
      "\n",
      "Loaded 1 individuals\n",
      "HDF5 loaded from /mnt/archgen/users/yilei/Data/He/contamX/GFW005.A0101/hdf5/GFW005.A0101.chr14.hdf5\n",
      "HDF5 loaded from /mnt/archgen/users/yilei/Data/He/contamX/GFW005.A0101/hdf5/GFW005.A0101.chr13.hdf5HDF5 loaded from /mnt/archgen/users/yilei/Data/He/contamX/GFW005.A0101/hdf5/GFW005.A0101.chr16.hdf5\n",
      "\n",
      "HDF5 loaded from /mnt/archgen/users/yilei/Data/He/contamX/GFW005.A0101/hdf5/GFW005.A0101.chr2.hdf5\n",
      "\n",
      "\n",
      "Loaded 36301 variants\n",
      "Loaded 39018 variants\n",
      "Loaded 34402 variants\n",
      "\n",
      "\n",
      "\n",
      "Loaded 94239 variantsLoaded 2504 individualsLoaded 2504 individuals\n",
      "Loaded 2504 individuals\n",
      "\n",
      "HDF5 loaded from /mnt/archgen/users/yilei/Data/1000G/1000g1240khdf5/all1240/chr14.hdf5\n",
      "HDF5 loaded from /mnt/archgen/users/yilei/Data/1000G/1000g1240khdf5/all1240/chr13.hdf5\n",
      "Loaded 2504 individualsHDF5 loaded from /mnt/archgen/users/yilei/Data/1000G/1000g1240khdf5/all1240/chr16.hdf5\n",
      "\n",
      "\n",
      "HDF5 loaded from /mnt/archgen/users/yilei/Data/1000G/1000g1240khdf5/all1240/chr2.hdf5\n",
      "subsetting reference panel to between 0.25254301 and 0.335471, chunk length: 0.08292799000000001M\n",
      "subsetting reference panel to between 1.0920889399999998 and 1.14606797, chunk length: 0.05397903000000026M\n",
      "subsetting reference panel to between 1.25526703 and 1.30030298, chunk length: 0.04503595000000016M\n",
      "subsetting reference panel to between 1.3864220399999998 and 1.43186903, chunk length: 0.0454469900000003M\n",
      "99 / 2504 individuals included in contamination population\n",
      "Exctraction of hdf5 done. Subsetting...!\n",
      "size of gts matrix: (2, 1750)\n",
      "99 / 2504 individuals included in contamination population\n",
      "Exctraction of hdf5 done. Subsetting...!\n",
      "size of gts matrix: (2, 1301)\n",
      "99 / 2504 individuals included in contamination population\n",
      "Exctraction of hdf5 done. Subsetting...!\n",
      "size of gts matrix: (2, 1109)\n",
      "99 / 2504 individuals included in contamination population\n",
      "Exctraction of hdf5 done. Subsetting...!\n",
      "size of gts matrix: (2, 1348)\n",
      "Exctraction of hdf5 done. Subsetting...!\n",
      "size of gts matrix: (5008, 1750)\n",
      "Exctraction of hdf5 done. Subsetting...!\n",
      "size of gts matrix: (5008, 1109)\n",
      "Exctraction of hdf5 done. Subsetting...!\n",
      "size of gts matrix: (5008, 1301)size of gts_con matrix: (1750, 99, 2)\n",
      "\n",
      "size of gts_con matrix: (198, 1750)\n",
      "size of gts_con matrix: (1109, 99, 2)\n",
      "size of gts_con matrix: (198, 1109)\n",
      "size of gts_con matrix: (1301, 99, 2)\n",
      "size of gts_con matrix: (198, 1301)\n",
      "Reference Number: 5008\n",
      "Reference Number: 5008\n",
      "Reference Number: 5008\n",
      "Exctraction of hdf5 done. Subsetting...!\n",
      "size of gts matrix: (5008, 1348)\n",
      "size of gts_con matrix: (1348, 99, 2)\n",
      "size of gts_con matrix: (198, 1348)\n",
      "Reference Number: 5008\n"
     ]
    },
    {
     "ename": "TypeError",
     "evalue": "unsupported operand type(s) for +=: 'int' and 'list'",
     "output_type": "error",
     "traceback": [
      "\u001b[0;31m---------------------------------------------------------------------------\u001b[0m",
      "\u001b[0;31mTypeError\u001b[0m                                 Traceback (most recent call last)",
      "\u001b[0;32m/tmp/ipykernel_4184360/783685613.py\u001b[0m in \u001b[0;36m<module>\u001b[0;34m\u001b[0m\n\u001b[1;32m      1\u001b[0m \u001b[0miid\u001b[0m\u001b[0;34m=\u001b[0m\u001b[0;34m\"GFW005.A0101\"\u001b[0m\u001b[0;34m\u001b[0m\u001b[0;34m\u001b[0m\u001b[0m\n\u001b[0;32m----> 2\u001b[0;31m hapsb_femaleROHcontam(iid, f\"/mnt/archgen/users/yilei/Data/He/contamX/{iid}/hapRoh/{iid}_roh_full.csv\", \n\u001b[0m\u001b[1;32m      3\u001b[0m     \u001b[0;34mf\"/mnt/archgen/users/yilei/Data/He/contamX/{iid}/hdf5/\"\u001b[0m\u001b[0;34m,\u001b[0m\u001b[0;34m\u001b[0m\u001b[0;34m\u001b[0m\u001b[0m\n\u001b[1;32m      4\u001b[0m     \u001b[0;34m\"/mnt/archgen/users/yilei/Data/1000G/1000g1240khdf5/all1240/chr\"\u001b[0m\u001b[0;34m,\u001b[0m\u001b[0;34m\u001b[0m\u001b[0;34m\u001b[0m\u001b[0m\n\u001b[1;32m      5\u001b[0m     \u001b[0;34m\"/mnt/archgen/users/yilei/Data/1000G/1000g1240khdf5/all1240/meta_df_all.csv\"\u001b[0m\u001b[0;34m,\u001b[0m\u001b[0;34m\u001b[0m\u001b[0;34m\u001b[0m\u001b[0m\n",
      "\u001b[0;32m/mnt/archgen/users/yilei/tools/hapROH/package/hapsburg/PackagesSupport/hapsburg_run.py\u001b[0m in \u001b[0;36mhapsb_femaleROHcontam\u001b[0;34m(iid, roh_list, path_targets_prefix, h5_path1000g, meta_path_ref, folder_out, init_c, trim, minLen, conPop, roh_in, roh_out, roh_jump, e_rate, e_rate_ref, processes, save, save_fp, n_ref, diploid_ref, exclude_pops, e_model, p_model, readcounts, random_allele, prefix_out, logfile)\u001b[0m\n\u001b[1;32m     92\u001b[0m         \u001b[0;32mif\u001b[0m \u001b[0;32mnot\u001b[0m \u001b[0mpath_targets_prefix\u001b[0m\u001b[0;34m.\u001b[0m\u001b[0mendswith\u001b[0m\u001b[0;34m(\u001b[0m\u001b[0;34m'/'\u001b[0m\u001b[0;34m)\u001b[0m\u001b[0;34m:\u001b[0m\u001b[0;34m\u001b[0m\u001b[0;34m\u001b[0m\u001b[0m\n\u001b[1;32m     93\u001b[0m             \u001b[0mpath_targets_prefix\u001b[0m \u001b[0;34m+=\u001b[0m \u001b[0;34m\"/\"\u001b[0m\u001b[0;34m\u001b[0m\u001b[0;34m\u001b[0m\u001b[0m\n\u001b[0;32m---> 94\u001b[0;31m         res = minimize(hapsb_multiChunk, init_c, \n\u001b[0m\u001b[1;32m     95\u001b[0m             args=(chunks, iid, path_targets_prefix, h5_path1000g, meta_path_ref, folder_out,\n\u001b[1;32m     96\u001b[0m                 \u001b[0mconPop\u001b[0m\u001b[0;34m,\u001b[0m \u001b[0mroh_in\u001b[0m\u001b[0;34m,\u001b[0m \u001b[0mroh_out\u001b[0m\u001b[0;34m,\u001b[0m \u001b[0mroh_jump\u001b[0m\u001b[0;34m,\u001b[0m \u001b[0me_rate\u001b[0m\u001b[0;34m,\u001b[0m \u001b[0me_rate_ref\u001b[0m\u001b[0;34m,\u001b[0m \u001b[0mprocesses\u001b[0m\u001b[0;34m,\u001b[0m \u001b[0msave\u001b[0m\u001b[0;34m,\u001b[0m \u001b[0msave_fp\u001b[0m\u001b[0;34m,\u001b[0m \u001b[0mn_ref\u001b[0m\u001b[0;34m,\u001b[0m \u001b[0mdiploid_ref\u001b[0m\u001b[0;34m,\u001b[0m\u001b[0;34m\u001b[0m\u001b[0;34m\u001b[0m\u001b[0m\n",
      "\u001b[0;32m/usr/local/lib/python3.8/dist-packages/scipy-1.4.1-py3.8-linux-x86_64.egg/scipy/optimize/_minimize.py\u001b[0m in \u001b[0;36mminimize\u001b[0;34m(fun, x0, args, method, jac, hess, hessp, bounds, constraints, tol, callback, options)\u001b[0m\n\u001b[1;32m    607\u001b[0m                                   **options)\n\u001b[1;32m    608\u001b[0m     \u001b[0;32melif\u001b[0m \u001b[0mmeth\u001b[0m \u001b[0;34m==\u001b[0m \u001b[0;34m'l-bfgs-b'\u001b[0m\u001b[0;34m:\u001b[0m\u001b[0;34m\u001b[0m\u001b[0;34m\u001b[0m\u001b[0m\n\u001b[0;32m--> 609\u001b[0;31m         return _minimize_lbfgsb(fun, x0, args, jac, bounds,\n\u001b[0m\u001b[1;32m    610\u001b[0m                                 callback=callback, **options)\n\u001b[1;32m    611\u001b[0m     \u001b[0;32melif\u001b[0m \u001b[0mmeth\u001b[0m \u001b[0;34m==\u001b[0m \u001b[0;34m'tnc'\u001b[0m\u001b[0;34m:\u001b[0m\u001b[0;34m\u001b[0m\u001b[0;34m\u001b[0m\u001b[0m\n",
      "\u001b[0;32m/usr/local/lib/python3.8/dist-packages/scipy-1.4.1-py3.8-linux-x86_64.egg/scipy/optimize/lbfgsb.py\u001b[0m in \u001b[0;36m_minimize_lbfgsb\u001b[0;34m(fun, x0, args, jac, bounds, disp, maxcor, ftol, gtol, eps, maxfun, maxiter, iprint, callback, maxls, **unknown_options)\u001b[0m\n\u001b[1;32m    343\u001b[0m             \u001b[0;31m# until the completion of the current minimization iteration.\u001b[0m\u001b[0;34m\u001b[0m\u001b[0;34m\u001b[0m\u001b[0;34m\u001b[0m\u001b[0m\n\u001b[1;32m    344\u001b[0m             \u001b[0;31m# Overwrite f and g:\u001b[0m\u001b[0;34m\u001b[0m\u001b[0;34m\u001b[0m\u001b[0;34m\u001b[0m\u001b[0m\n\u001b[0;32m--> 345\u001b[0;31m             \u001b[0mf\u001b[0m\u001b[0;34m,\u001b[0m \u001b[0mg\u001b[0m \u001b[0;34m=\u001b[0m \u001b[0mfunc_and_grad\u001b[0m\u001b[0;34m(\u001b[0m\u001b[0mx\u001b[0m\u001b[0;34m)\u001b[0m\u001b[0;34m\u001b[0m\u001b[0;34m\u001b[0m\u001b[0m\n\u001b[0m\u001b[1;32m    346\u001b[0m         \u001b[0;32melif\u001b[0m \u001b[0mtask_str\u001b[0m\u001b[0;34m.\u001b[0m\u001b[0mstartswith\u001b[0m\u001b[0;34m(\u001b[0m\u001b[0;34mb'NEW_X'\u001b[0m\u001b[0;34m)\u001b[0m\u001b[0;34m:\u001b[0m\u001b[0;34m\u001b[0m\u001b[0;34m\u001b[0m\u001b[0m\n\u001b[1;32m    347\u001b[0m             \u001b[0;31m# new iteration\u001b[0m\u001b[0;34m\u001b[0m\u001b[0;34m\u001b[0m\u001b[0;34m\u001b[0m\u001b[0m\n",
      "\u001b[0;32m/usr/local/lib/python3.8/dist-packages/scipy-1.4.1-py3.8-linux-x86_64.egg/scipy/optimize/lbfgsb.py\u001b[0m in \u001b[0;36mfunc_and_grad\u001b[0;34m(x)\u001b[0m\n\u001b[1;32m    288\u001b[0m     \u001b[0;32mif\u001b[0m \u001b[0mjac\u001b[0m \u001b[0;32mis\u001b[0m \u001b[0;32mNone\u001b[0m\u001b[0;34m:\u001b[0m\u001b[0;34m\u001b[0m\u001b[0;34m\u001b[0m\u001b[0m\n\u001b[1;32m    289\u001b[0m         \u001b[0;32mdef\u001b[0m \u001b[0mfunc_and_grad\u001b[0m\u001b[0;34m(\u001b[0m\u001b[0mx\u001b[0m\u001b[0;34m)\u001b[0m\u001b[0;34m:\u001b[0m\u001b[0;34m\u001b[0m\u001b[0;34m\u001b[0m\u001b[0m\n\u001b[0;32m--> 290\u001b[0;31m             \u001b[0mf\u001b[0m \u001b[0;34m=\u001b[0m \u001b[0mfun\u001b[0m\u001b[0;34m(\u001b[0m\u001b[0mx\u001b[0m\u001b[0;34m,\u001b[0m \u001b[0;34m*\u001b[0m\u001b[0margs\u001b[0m\u001b[0;34m)\u001b[0m\u001b[0;34m\u001b[0m\u001b[0;34m\u001b[0m\u001b[0m\n\u001b[0m\u001b[1;32m    291\u001b[0m             \u001b[0mg\u001b[0m \u001b[0;34m=\u001b[0m \u001b[0m_approx_fprime_helper\u001b[0m\u001b[0;34m(\u001b[0m\u001b[0mx\u001b[0m\u001b[0;34m,\u001b[0m \u001b[0mfun\u001b[0m\u001b[0;34m,\u001b[0m \u001b[0mepsilon\u001b[0m\u001b[0;34m,\u001b[0m \u001b[0margs\u001b[0m\u001b[0;34m=\u001b[0m\u001b[0margs\u001b[0m\u001b[0;34m,\u001b[0m \u001b[0mf0\u001b[0m\u001b[0;34m=\u001b[0m\u001b[0mf\u001b[0m\u001b[0;34m)\u001b[0m\u001b[0;34m\u001b[0m\u001b[0;34m\u001b[0m\u001b[0m\n\u001b[1;32m    292\u001b[0m             \u001b[0;32mreturn\u001b[0m \u001b[0mf\u001b[0m\u001b[0;34m,\u001b[0m \u001b[0mg\u001b[0m\u001b[0;34m\u001b[0m\u001b[0;34m\u001b[0m\u001b[0m\n",
      "\u001b[0;32m/usr/local/lib/python3.8/dist-packages/scipy-1.4.1-py3.8-linux-x86_64.egg/scipy/optimize/optimize.py\u001b[0m in \u001b[0;36mfunction_wrapper\u001b[0;34m(*wrapper_args)\u001b[0m\n\u001b[1;32m    325\u001b[0m     \u001b[0;32mdef\u001b[0m \u001b[0mfunction_wrapper\u001b[0m\u001b[0;34m(\u001b[0m\u001b[0;34m*\u001b[0m\u001b[0mwrapper_args\u001b[0m\u001b[0;34m)\u001b[0m\u001b[0;34m:\u001b[0m\u001b[0;34m\u001b[0m\u001b[0;34m\u001b[0m\u001b[0m\n\u001b[1;32m    326\u001b[0m         \u001b[0mncalls\u001b[0m\u001b[0;34m[\u001b[0m\u001b[0;36m0\u001b[0m\u001b[0;34m]\u001b[0m \u001b[0;34m+=\u001b[0m \u001b[0;36m1\u001b[0m\u001b[0;34m\u001b[0m\u001b[0;34m\u001b[0m\u001b[0m\n\u001b[0;32m--> 327\u001b[0;31m         \u001b[0;32mreturn\u001b[0m \u001b[0mfunction\u001b[0m\u001b[0;34m(\u001b[0m\u001b[0;34m*\u001b[0m\u001b[0;34m(\u001b[0m\u001b[0mwrapper_args\u001b[0m \u001b[0;34m+\u001b[0m \u001b[0margs\u001b[0m\u001b[0;34m)\u001b[0m\u001b[0;34m)\u001b[0m\u001b[0;34m\u001b[0m\u001b[0;34m\u001b[0m\u001b[0m\n\u001b[0m\u001b[1;32m    328\u001b[0m \u001b[0;34m\u001b[0m\u001b[0m\n\u001b[1;32m    329\u001b[0m     \u001b[0;32mreturn\u001b[0m \u001b[0mncalls\u001b[0m\u001b[0;34m,\u001b[0m \u001b[0mfunction_wrapper\u001b[0m\u001b[0;34m\u001b[0m\u001b[0;34m\u001b[0m\u001b[0m\n",
      "\u001b[0;32m/mnt/archgen/users/yilei/tools/hapROH/package/hapsburg/PackagesSupport/hapsburg_run.py\u001b[0m in \u001b[0;36mhapsb_multiChunk\u001b[0;34m(c, chunks, iid, path_targets_prefix, h5_path1000g, meta_path_ref, folder_out, conPop, roh_in, roh_out, roh_jump, e_rate, e_rate_ref, processes, save, save_fp, n_ref, diploid_ref, exclude_pops, e_model, p_model, readcounts, random_allele, prefix_out, logfile)\u001b[0m\n\u001b[1;32m     70\u001b[0m                 for ch, (start, end) in chunks.items()]\n\u001b[1;32m     71\u001b[0m         \u001b[0mresults\u001b[0m \u001b[0;34m=\u001b[0m \u001b[0mmulti_run\u001b[0m\u001b[0;34m(\u001b[0m\u001b[0mhapsb_chunk_negloglik\u001b[0m\u001b[0;34m,\u001b[0m \u001b[0mprms\u001b[0m\u001b[0;34m,\u001b[0m \u001b[0mprocesses\u001b[0m \u001b[0;34m=\u001b[0m \u001b[0mprocesses\u001b[0m\u001b[0;34m)\u001b[0m\u001b[0;34m\u001b[0m\u001b[0;34m\u001b[0m\u001b[0m\n\u001b[0;32m---> 72\u001b[0;31m         \u001b[0mtot_neg_loglik\u001b[0m \u001b[0;34m+=\u001b[0m \u001b[0mresults\u001b[0m\u001b[0;34m\u001b[0m\u001b[0;34m\u001b[0m\u001b[0m\n\u001b[0m\u001b[1;32m     73\u001b[0m     \u001b[0;32mreturn\u001b[0m \u001b[0mtot_neg_loglik\u001b[0m\u001b[0;34m\u001b[0m\u001b[0;34m\u001b[0m\u001b[0m\n\u001b[1;32m     74\u001b[0m \u001b[0;34m\u001b[0m\u001b[0m\n",
      "\u001b[0;31mTypeError\u001b[0m: unsupported operand type(s) for +=: 'int' and 'list'"
     ]
    }
   ],
   "source": [
    "iid=\"GFW005.A0101\"\n",
    "hapsb_femaleROHcontam(iid, f\"/mnt/archgen/users/yilei/Data/He/contamX/{iid}/hapRoh/{iid}_roh_full.csv\", \n",
    "    f\"/mnt/archgen/users/yilei/Data/He/contamX/{iid}/hdf5/\", \n",
    "    \"/mnt/archgen/users/yilei/Data/1000G/1000g1240khdf5/all1240/chr\", \n",
    "    \"/mnt/archgen/users/yilei/Data/1000G/1000g1240khdf5/all1240/meta_df_all.csv\",\n",
    "    f\"/mnt/archgen/users/yilei/Data/He/contamX/{iid}/hapRoh/\", processes=4)"
   ]
  }
 ],
 "metadata": {
  "interpreter": {
   "hash": "31f2aee4e71d21fbe5cf8b01ff0e069b9275f58929596ceb00d14d90e3e16cd6"
  },
  "kernelspec": {
   "display_name": "Python 3.8.10 64-bit",
   "name": "python3"
  },
  "language_info": {
   "codemirror_mode": {
    "name": "ipython",
    "version": 3
   },
   "file_extension": ".py",
   "mimetype": "text/x-python",
   "name": "python",
   "nbconvert_exporter": "python",
   "pygments_lexer": "ipython3",
   "version": "3.8.10"
  },
  "orig_nbformat": 4
 },
 "nbformat": 4,
 "nbformat_minor": 2
}
