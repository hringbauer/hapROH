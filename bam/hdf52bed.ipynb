{
 "cells": [
  {
   "cell_type": "code",
   "execution_count": 1,
   "metadata": {},
   "outputs": [],
   "source": [
    "import h5py\n",
    "import numpy as np\n",
    "\n",
    "# f = h5py.File('/mnt/archgen/users/yilei/Data/1000G/1000g1240khdf5/all1240/chrX.hdf5', 'r')\n",
    "# pos = np.array(f['variants/POS'])\n",
    "# with open(f'/mnt/archgen/users/yilei/Data/1000G/1000g1240khdf5/all1240/1240kChrX_target.bed', 'w') as out:\n",
    "#     for bp in pos:\n",
    "#         out.write(f'chrX\\t{bp-1}\\t{bp}\\n')\n",
    "\n",
    "\n",
    "# write a bed file for 1240k target sites on chrX\n",
    "# f = h5py.File('/mnt/archgen/users/yilei/Data/1000G/1000g1240khdf5/all1240/chrX.hdf5', 'r')\n",
    "# pos = np.array(f['variants/POS'])\n",
    "# with open(f'/mnt/archgen/users/yilei/Data/1000G/1000g1240khdf5/all1240/1240kChrX_sard.bed', 'w') as out:\n",
    "#     for bp in pos:\n",
    "#         bp -= 1\n",
    "#         out.write(f'chrX\\t{bp-4}\\t{bp+5}\\n')\n",
    "\n",
    "\n",
    "# f = h5py.File('/mnt/archgen/users/yilei/Data/1000G/1000g1240khdf5/all1240/maf02_filter_chrX.hdf5', 'r')\n",
    "# pos = np.array(f['variants/POS'])\n",
    "# with open(f'/mnt/archgen/users/yilei/Data/1000G/1000g1240khdf5/all1240/maf02FilterChrX.bed', 'w') as out:\n",
    "#     for bp in pos:\n",
    "#         bp -= 1\n",
    "#         out.write(f'X\\t{bp-4}\\t{bp+5}\\n')\n",
    "\n",
    "\n",
    "# f = h5py.File('/mnt/archgen/users/yilei/Data/1000G/1000g1240khdf5/all1240/maf20_filter_chrX.hdf5', 'r')\n",
    "# pos = np.array(f['variants/POS'])\n",
    "# with open(f'/mnt/archgen/users/yilei/Data/1000G/1000g1240khdf5/all1240/maf20FilterChrX.bed', 'w') as out:\n",
    "#     for bp in pos:\n",
    "#         bp -= 1\n",
    "#         out.write(f'X\\t{bp-4}\\t{bp+5}\\n')\n",
    "\n",
    "# write a bed file for autosome 1240k\n",
    "for ch in range(1, 23):\n",
    "    f = h5py.File(f'/mnt/archgen/users/yilei/Data/1000G/1000g1240khdf5/all1240/chr{ch}.hdf5', 'r')\n",
    "    pos = np.unique(np.array(f['variants/POS']))\n",
    "    with open(f'/mnt/archgen/users/yilei/Data/1000G/1000g1240khdf5/all1240/target/1240kChr{ch}.target.bed', 'w') as out:\n",
    "        for bp in pos:\n",
    "            bp -= 1\n",
    "            out.write(f'{ch}\\t{bp-1}\\t{bp}\\n')\n",
    "\n",
    "# write a bed file for autosome 5% MAF\n",
    "# for ch in range(1, 23):\n",
    "#     f = h5py.File(f'/mnt/archgen/users/yilei/Data/1000G/1000g1240khdf5/all1240/maf5_auto/maf5_chr{ch}.hdf5', 'r')\n",
    "#     pos = np.unique(np.array(f['variants/POS']))\n",
    "#     with open(f'/mnt/archgen/users/yilei/Data/1000G/1000g1240khdf5/all1240/maf5_auto/maf5_chr{ch}.bed', 'w') as out:\n",
    "#         for bp in pos:\n",
    "#             bp -= 1\n",
    "#             out.write(f'{ch}\\t{bp-4}\\t{bp+5}\\n')\n",
    "\n",
    "\n"
   ]
  }
 ],
 "metadata": {
  "interpreter": {
   "hash": "31f2aee4e71d21fbe5cf8b01ff0e069b9275f58929596ceb00d14d90e3e16cd6"
  },
  "kernelspec": {
   "display_name": "Python 3.8.2 64-bit",
   "name": "python3"
  },
  "language_info": {
   "codemirror_mode": {
    "name": "ipython",
    "version": 3
   },
   "file_extension": ".py",
   "mimetype": "text/x-python",
   "name": "python",
   "nbconvert_exporter": "python",
   "pygments_lexer": "ipython3",
   "version": "3.8.10"
  },
  "orig_nbformat": 4
 },
 "nbformat": 4,
 "nbformat_minor": 2
}
