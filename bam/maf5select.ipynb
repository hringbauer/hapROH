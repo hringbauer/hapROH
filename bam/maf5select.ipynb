{
 "cells": [
  {
   "cell_type": "code",
   "execution_count": null,
   "metadata": {},
   "outputs": [],
   "source": [
    "import h5py\n",
    "import pandas as pd\n",
    "import numpy as np\n",
    "\n",
    "path2meta=\"/mnt/archgen/users/yilei/Data/1000G/meta_df_all.csv\"\n",
    "path2hdf5=\"/mnt/archgen/users/yilei/Data/1000G/1000g1240khdf5/all1240/maf5_filter_chrX.hdf5\""
   ]
  },
  {
   "cell_type": "code",
   "execution_count": null,
   "metadata": {},
   "outputs": [],
   "source": [
    "meta_df = pd.read_csv(path2meta, sep=\"\\t\")\n",
    "for pop in ['AFR', 'CEU', 'EAS', 'AMR', 'SAS']:\n",
    "    iids = np.where(meta_df[\"super_pop\"].isin([pop]))[0]\n",
    "    print(f'{len(iids)} in population {pop}')\n",
    "    \n",
    "\n",
    "\n"
   ]
  }
 ],
 "metadata": {
  "language_info": {
   "name": "python"
  },
  "orig_nbformat": 4
 },
 "nbformat": 4,
 "nbformat_minor": 2
}
