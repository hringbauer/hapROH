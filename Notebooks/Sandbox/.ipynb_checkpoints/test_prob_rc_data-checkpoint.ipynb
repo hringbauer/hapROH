{
 "cells": [
  {
   "cell_type": "markdown",
   "metadata": {},
   "source": [
    "# This is a first test Notebook to calculate Probabilities for Read Count Data\n",
    "@ Author: Harald Ringbauer, July 2019"
   ]
  },
  {
   "cell_type": "code",
   "execution_count": 78,
   "metadata": {},
   "outputs": [
    {
     "name": "stdout",
     "output_type": "stream",
     "text": [
      "Midway jnovmbre partition detected.\n",
      "/project/jnovembre/hringbauer/HAPSBURG\n",
      "CPU Count: 28\n"
     ]
    }
   ],
   "source": [
    "import numpy as np\n",
    "import os as os\n",
    "import sys as sys\n",
    "import multiprocessing as mp\n",
    "import pandas as pd\n",
    "import socket\n",
    "from scipy.stats import binom\n",
    "\n",
    "### Pick the right path (whether on cluster or at home)\n",
    "if socket.gethostname() == \"VioletQueen\":\n",
    "    path = \"/home/harald/git/HAPSBURG/\"   # The Path on Harald's machine\n",
    "elif socket.gethostname() == \"midway2-0401.rcc.local\" or socket.gethostname() == 'midway2-0402.rcc.local':\n",
    "    print(\"Midway jnovmbre partition detected.\")\n",
    "    path = \"/project/jnovembre/hringbauer/HAPSBURG/\"  # The Path on Midway Cluster\n",
    "else: \n",
    "    raise RuntimeWarning(\"Not compatible machine. Check!!\")\n",
    "    \n",
    "os.chdir(path)  # Set the right Path (in line with Atom default)\n",
    "\n",
    "sys.path.append(\"./Python3/\")  # Since now we are in the Root Directory\n",
    "from hmm_inference import HMM_Analyze   # Do not move. Should be after sys.path..\n",
    "#sys.path.append(\"./Python3/create1000G_Mosaic/\")  # Since now we are in the Root Directory\n",
    "#from createMosaicsMulti import Mosaic_1000G_Multi  # Import the object that can create the Multiruns\n",
    "\n",
    "print(os.getcwd()) # Show the current working directory. Should be HAPSBURG/Notebooks/ParallelRuns\n",
    "print(f\"CPU Count: {mp.cpu_count()}\")"
   ]
  },
  {
   "cell_type": "markdown",
   "metadata": {},
   "source": [
    "## Description of task:\n",
    "Need to implement two functions of object:\n",
    "\n",
    "has as fields:\n",
    "- ref_mat [n_ref, n_loc]\n",
    "- p [Allele Frequency in the Ref]\n",
    "- e_rate [Error Rate]\n",
    "\n",
    "def give_emission_matrix(self, remember=True):\n",
    "    return emission_matrix (n_ref+1, n_loc, 2)    Which is the general Emission matrix for all possible observed states\n",
    "    \n",
    "def give_emission_state(self, ob_stat, e_mat):  Which is Emission Matrix of the OBSERVED states\n",
    "    return e_prob (n_ref+1, n_loc)\n",
    "\n",
    "Both are return NOT in log space"
   ]
  },
  {
   "cell_type": "markdown",
   "metadata": {},
   "source": [
    "# Solution Here:\n",
    "- I: give_emission_matrix: Calculate the emission probabilities for all 3 possible Genotypes \n",
    "- II: give_emission_state: Do the Binomial Step"
   ]
  },
  {
   "cell_type": "markdown",
   "metadata": {},
   "source": [
    "### Calculate Emission Matrix\n",
    "(for read of 0 OR 1, i.e. Ref OR ALT)"
   ]
  },
  {
   "cell_type": "code",
   "execution_count": 183,
   "metadata": {},
   "outputs": [],
   "source": [
    "### Step 1: Do Probabilities given genotypes\n",
    "n_ref = 3\n",
    "n_loci = 5\n",
    "e_rate = 1e-2   # The error rate for the reads\n",
    "e_rate_ref = 1e-3  # The error rate for the reference genome (to not run into trouble for high cooverage SNPs)"
   ]
  },
  {
   "cell_type": "code",
   "execution_count": 184,
   "metadata": {},
   "outputs": [],
   "source": [
    "#p = []   # Vector of mean allele frequencies in Reference\n",
    "#ref_haps = []"
   ]
  },
  {
   "cell_type": "code",
   "execution_count": 191,
   "metadata": {},
   "outputs": [
    {
     "data": {
      "text/plain": [
       "array([5.00e-04, 5.00e-04, 9.99e-01])"
      ]
     },
     "execution_count": 191,
     "metadata": {},
     "output_type": "execute_result"
    }
   ],
   "source": [
    "# Calculate the probabilities for the three hidden Genotypes given each state and each locus\n",
    "p_hgeno = -np.ones((n_ref + 1, n_loci, 3)) \n",
    "\n",
    "### Do the HW State\n",
    "p_hgeno[0,:,0] = (1 - p) ** 2\n",
    "p_hgeno[0,:,1] = 2 * p * (1 - p)\n",
    "p_hgeno[0,:, 2] = p ** 2\n",
    "\n",
    "### Do the copying states\n",
    "p_hgeno[1:, :, 1] = e_rate_ref / 2\n",
    "p_hgeno[1:, :, 0] =  (ref_haps==0) * (1 - e_rate_ref) + (ref_haps==1) * e_rate_ref/2\n",
    "p_hgeno[1:, :, 2] =  (ref_haps==1) * (1 - e_rate_ref) + (ref_haps==0) * e_rate_ref/2\n",
    "\n",
    "\n",
    "### Allow small error in Reference Genome:\n",
    "#p_hgeno[p_hgeno==1] = 1 - e_rate_ref\n",
    "#p_hgeno[p_hgeno==0] = e_rate_ref\n",
    "\n",
    "assert(np.all(np.isclose(np.sum(p_hgeno, axis=2), 1)))  # Sanity Check if genotype probabilities sum up to (approx.) 1\n",
    "assert((np.min(p_hgeno)>=0) & (np.max(p_hgeno)<=1))   # Sanity Check\n",
    "\n",
    "p_hgeno[1, 4, :]"
   ]
  },
  {
   "cell_type": "markdown",
   "metadata": {},
   "source": [
    "### Give Emission Matrix Given State\n",
    "(Binomial Calculation from p per locus)"
   ]
  },
  {
   "cell_type": "code",
   "execution_count": 192,
   "metadata": {},
   "outputs": [
    {
     "name": "stdout",
     "output_type": "stream",
     "text": [
      "(5, 3)\n"
     ]
    }
   ],
   "source": [
    "### For each Genotype state, calculate the probability of derived read\n",
    "\n",
    "### What's the probability of observing a dervided read given hidden genotypes 00 01 11\n",
    "p_read = np.array([e_rate, 0.5, 1 - e_rate]) \n",
    "\n",
    "### Calculate the Binomial Likelihoods of RC Data\n",
    "rc_tot = np.sum(ob_stat, axis=0)\n",
    "rc_der = ob_stat[1, :]\n",
    "\n",
    "prob_binom = binom.pmf(rc_der[:,None], rc_tot[:,None], p_read[None,:])\n",
    "print(np.shape(prob_binom))"
   ]
  },
  {
   "cell_type": "code",
   "execution_count": 193,
   "metadata": {},
   "outputs": [],
   "source": [
    "### Sum the probabilities to getfull emission probabilities\n",
    "p_full = np.sum(p_hgeno * prob_binom[None, :, :], axis=2)"
   ]
  },
  {
   "cell_type": "code",
   "execution_count": 194,
   "metadata": {},
   "outputs": [
    {
     "data": {
      "text/plain": [
       "array([[6.70264014e-02, 1.38899670e-01, 5.46722222e-01, 6.63333333e-01,\n",
       "        2.33222222e-01],\n",
       "       [5.70492186e-02, 1.75646277e-04, 9.79244950e-01, 1.07350000e-02,\n",
       "        2.00401000e-02],\n",
       "       [7.54052949e-05, 1.75646277e-04, 7.14950000e-04, 9.89265000e-01,\n",
       "        2.00401000e-02],\n",
       "       [5.70492186e-02, 1.75646277e-04, 9.79244950e-01, 9.89265000e-01,\n",
       "        2.00401000e-02]])"
      ]
     },
     "execution_count": 194,
     "metadata": {},
     "output_type": "execute_result"
    }
   ],
   "source": [
    "p_full"
   ]
  },
  {
   "cell_type": "markdown",
   "metadata": {},
   "source": [
    "# Area 51"
   ]
  },
  {
   "cell_type": "markdown",
   "metadata": {},
   "source": [
    "### Test Case\n",
    "Test the code on mini example and verify calculations"
   ]
  },
  {
   "cell_type": "markdown",
   "metadata": {},
   "source": [
    "### Create test data:\n",
    "- RC for l=5 Loci (2, l)\n",
    "- 3 References:\n",
    "(n, l) = (3, 5)"
   ]
  },
  {
   "cell_type": "code",
   "execution_count": 188,
   "metadata": {},
   "outputs": [
    {
     "data": {
      "text/plain": [
       "array([[1, 3, 0, 1, 1],\n",
       "       [5, 3, 2, 0, 1]])"
      ]
     },
     "execution_count": 188,
     "metadata": {},
     "output_type": "execute_result"
    }
   ],
   "source": [
    "ob_stat = np.array([[1, 5], [3, 3], [0, 2], [1, 0], [1,1]]).T\n",
    "ob_stat"
   ]
  },
  {
   "cell_type": "code",
   "execution_count": 189,
   "metadata": {},
   "outputs": [
    {
     "data": {
      "text/plain": [
       "array([[1, 1, 1, 1, 1],\n",
       "       [0, 0, 0, 0, 0],\n",
       "       [1, 1, 1, 0, 0]])"
      ]
     },
     "execution_count": 189,
     "metadata": {},
     "output_type": "execute_result"
    }
   ],
   "source": [
    "ref_haps = np.array([[1, 1, 1, 1, 1], [0, 0, 0, 0, 0], [1, 1, 1, 0, 0]])\n",
    "ref_haps"
   ]
  },
  {
   "cell_type": "code",
   "execution_count": 190,
   "metadata": {},
   "outputs": [
    {
     "data": {
      "text/plain": [
       "array([0.66666667, 0.66666667, 0.66666667, 0.33333333, 0.33333333])"
      ]
     },
     "execution_count": 190,
     "metadata": {},
     "output_type": "execute_result"
    }
   ],
   "source": [
    "p = np.mean(ref_haps, axis=0)\n",
    "p"
   ]
  },
  {
   "cell_type": "code",
   "execution_count": 90,
   "metadata": {},
   "outputs": [
    {
     "data": {
      "text/plain": [
       "array([0.729, 0.125, 0.729])"
      ]
     },
     "execution_count": 90,
     "metadata": {},
     "output_type": "execute_result"
    }
   ],
   "source": [
    "p = np.array([0.1, 0.5, 0.9])\n",
    "x = np.array([0, 0, 3])\n",
    "binom.pmf(x, 3, p)"
   ]
  },
  {
   "cell_type": "code",
   "execution_count": 96,
   "metadata": {},
   "outputs": [
    {
     "data": {
      "text/plain": [
       "array([1.0000000e-08, 5.0000000e-01, 9.9999999e-01])"
      ]
     },
     "execution_count": 96,
     "metadata": {},
     "output_type": "execute_result"
    }
   ],
   "source": [
    "p_read"
   ]
  },
  {
   "cell_type": "code",
   "execution_count": 109,
   "metadata": {},
   "outputs": [
    {
     "data": {
      "text/plain": [
       "0.09375000000000003"
      ]
     },
     "execution_count": 109,
     "metadata": {},
     "output_type": "execute_result"
    }
   ],
   "source": [
    "binom.pmf(1, 6, p_read[1])"
   ]
  },
  {
   "cell_type": "code",
   "execution_count": 101,
   "metadata": {},
   "outputs": [
    {
     "data": {
      "text/plain": [
       "array([6, 6, 2, 1, 2])"
      ]
     },
     "execution_count": 101,
     "metadata": {},
     "output_type": "execute_result"
    }
   ],
   "source": [
    "rc_tot"
   ]
  },
  {
   "cell_type": "code",
   "execution_count": 158,
   "metadata": {},
   "outputs": [
    {
     "data": {
      "text/plain": [
       "0.04166648499791815"
      ]
     },
     "execution_count": 158,
     "metadata": {},
     "output_type": "execute_result"
    }
   ],
   "source": [
    "binom.pmf(5, 6, e_rate) * 0.33**2 + binom.pmf(5, 6, 0.5) * 2*0.33333*0.66667 + binom.pmf(5, 6, 1 - e_rate) * 0.6666667**2"
   ]
  },
  {
   "cell_type": "code",
   "execution_count": 165,
   "metadata": {},
   "outputs": [
    {
     "data": {
      "text/plain": [
       "0.999912480002"
      ]
     },
     "execution_count": 165,
     "metadata": {},
     "output_type": "execute_result"
    }
   ],
   "source": [
    "binom.pmf(2, 2, e_rate) * e_rate_ref/2 + binom.pmf(2, 2, 0.5) * e_rate_ref/2 + binom.pmf(2, 2, 1 - e_rate) * (1 - e_rate_ref)"
   ]
  },
  {
   "cell_type": "code",
   "execution_count": null,
   "metadata": {},
   "outputs": [],
   "source": []
  }
 ],
 "metadata": {
  "kernelspec": {
   "display_name": "Python 3",
   "language": "python",
   "name": "python3"
  },
  "language_info": {
   "codemirror_mode": {
    "name": "ipython",
    "version": 3
   },
   "file_extension": ".py",
   "mimetype": "text/x-python",
   "name": "python",
   "nbconvert_exporter": "python",
   "pygments_lexer": "ipython3",
   "version": "3.7.0"
  }
 },
 "nbformat": 4,
 "nbformat_minor": 2
}
