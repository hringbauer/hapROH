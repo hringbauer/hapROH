{
 "cells": [
  {
   "cell_type": "markdown",
   "metadata": {},
   "source": [
    "# Notebook to test random Code chunks.\n",
    "The ultimate Sandbox"
   ]
  },
  {
   "cell_type": "code",
   "execution_count": 4,
   "metadata": {},
   "outputs": [
    {
     "name": "stdout",
     "output_type": "stream",
     "text": [
      "midway2-0403.rcc.local\n",
      "Midway jnovmbre partition detected.\n",
      "/project2/jnovembre/hringbauer/HAPSBURG\n",
      "CPU Count: 28\n"
     ]
    }
   ],
   "source": [
    "import numpy as np\n",
    "import os as os\n",
    "import sys as sys\n",
    "import multiprocessing as mp\n",
    "import pandas as pd\n",
    "import socket\n",
    "\n",
    "### Pick the right path (whether on cluster or at home)\n",
    "socket_name = socket.gethostname()\n",
    "print(socket_name)\n",
    "if socket_name == \"VioletQueen\":\n",
    "    path = \"/home/harald/git/HAPSBURG/\"   # The Path on Harald's machine\n",
    "elif socket_name.startswith(\"midway2\"):\n",
    "    print(\"Midway jnovmbre partition detected.\")\n",
    "    path = \"/project2/jnovembre/hringbauer/HAPSBURG/\"  # The Path on Midway Cluster\n",
    "else: \n",
    "    raise RuntimeWarning(\"Not compatible machine. Check!!\")\n",
    "    \n",
    "os.chdir(path)  # Set the right Path (in line with Atom default)\n",
    "\n",
    "sys.path.append(\"./Python3/\")  # Since now we are in the Root Directory\n",
    "from hmm_inference import HMM_Analyze   # Do not move. Should be after sys.path..\n",
    "#sys.path.append(\"./Python3/create1000G_Mosaic/\")  # Since now we are in the Root Directory\n",
    "#from createMosaicsMulti import Mosaic_1000G_Multi  # Import the object that can create the Multiruns\n",
    "\n",
    "print(os.getcwd()) # Show the current working directory. Should be HAPSBURG/Notebooks/ParallelRuns\n",
    "print(f\"CPU Count: {mp.cpu_count()}\")"
   ]
  },
  {
   "cell_type": "markdown",
   "metadata": {},
   "source": [
    "# Test direct shell code on cluster"
   ]
  },
  {
   "cell_type": "code",
   "execution_count": 7,
   "metadata": {},
   "outputs": [
    {
     "name": "stdout",
     "output_type": "stream",
     "text": [
      "/project2/jnovembre/hringbauer/HAPSBURG/PackagesSupport/cluster_runs/Marcus_callROH\n"
     ]
    }
   ],
   "source": [
    "os.chdir(\"./PackagesSupport/cluster_runs/Marcus_callROH/\")  # Set the right Path (in line with Atom default)\n",
    "print(os.getcwd())"
   ]
  },
  {
   "cell_type": "code",
   "execution_count": 12,
   "metadata": {},
   "outputs": [
    {
     "name": "stdout",
     "output_type": "stream",
     "text": [
      "Loaded 1002 Ancients\n",
      "Nr. high coverage ancients: 517\n",
      "Doing Individual I2105...\n",
      "Using Low-Mem Cython Linear Speed Up.\n",
      "Loaded Pre Processing Model: SardHDF5\n",
      "Loading Individual: I2105\n",
      "\n",
      "Loaded 1145647 variants\n",
      "Loaded 4616 individuals\n",
      "HDF5 loaded from ./Data/Marcus2019_1240k/mod_reich_sardinia_ancients_rev_mrg_dedup_3trm_anno.h5\n",
      "\n",
      "Loaded 89147 variants\n",
      "Loaded 2504 individuals\n",
      "HDF5 loaded from ./Data/1000Genomes/HDF5/1240kHDF5/all1240/chr1.hdf5\n",
      "\n",
      "Intersection on Positions: 89143\n",
      "Nr of Matching Refs: 89143 / 89143\n",
      "Full Intersection Ref/Alt Identical: 89079 / 89143\n",
      "2504 / 2504 Individuals included in Reference\n",
      "Extraction of 2 Haplotypes complete\n",
      "Extraction of 5008 Haplotypes complete\n",
      "Reduced to markers called 63347 / 89079\n",
      "(Fraction SNP: 0.7111328146925763)\n",
      "Successfully saved to: ./Empirical/1240k/MarcusAncsPH/I2105/chr1/\n",
      "Shuffling phase of target...\n",
      "Successfully loaded Data from: ./Empirical/1240k/MarcusAncsPH/I2105/chr1/\n",
      "Loaded Emission Model: haploid\n",
      "Loaded Transition Model: model\n",
      "Loaded Post Processing Model: Standard\n",
      "Minimum Genetic Map: 0.0201\n",
      "Maximum Genetic Map: 2.8627\n",
      "Gaps bigger than 0.1 cM: 330\n",
      "Maximum Gap: 2.9229 cM\n",
      "Loaded Transition and Emission Matrix:\n",
      "(3, 3)\n",
      "(5009, 63347)\n",
      "Loaded Observations:\n",
      "(2, 63347)\n",
      "Memory Usage: 3053.572096 mB\n",
      "Reference Number: 5008\n",
      "Total Log likelihood: -22797.444\n",
      "Memory Usage: 3054.481408 mB\n",
      "Finished Calculation State Posteriors\n",
      "Saved Zero State Posterior to ./Empirical/1240k/MarcusAncsPH/I2105/chr1/.\n",
      "Successfully loaded for PP. from ./Empirical/1240k/MarcusAncsPH/I2105/chr1/\n",
      "Fraction Markers in ROH: 0.3975\n",
      "Merged n=0 gaps < 0.0 M\n",
      "Called n=7 ROH Blocks > 1.0 cM\n",
      "Longest Block: 1.513\n",
      "Successfully saved to ./Empirical/1240k/MarcusAncsPH/I2105/chr1/roh.csv\n",
      "Using Low-Mem Cython Linear Speed Up.\n",
      "Loaded Pre Processing Model: SardHDF5\n",
      "Loading Individual: I2105\n",
      "\n",
      "Loaded 1145647 variants\n",
      "Loaded 4616 individuals\n",
      "HDF5 loaded from ./Data/Marcus2019_1240k/mod_reich_sardinia_ancients_rev_mrg_dedup_3trm_anno.h5\n",
      "\n",
      "Loaded 94239 variants\n",
      "Loaded 2504 individuals\n",
      "HDF5 loaded from ./Data/1000Genomes/HDF5/1240kHDF5/all1240/chr2.hdf5\n",
      "\n",
      "Intersection on Positions: 94237\n",
      "Nr of Matching Refs: 94205 / 94237\n",
      "Full Intersection Ref/Alt Identical: 94137 / 94237\n",
      "2504 / 2504 Individuals included in Reference\n",
      "Extraction of 2 Haplotypes complete\n",
      "Extraction of 5008 Haplotypes complete\n",
      "Reduced to markers called 63765 / 94137\n",
      "(Fraction SNP: 0.6773638420599765)\n",
      "Successfully saved to: ./Empirical/1240k/MarcusAncsPH/I2105/chr2/\n",
      "Shuffling phase of target...\n",
      "Successfully loaded Data from: ./Empirical/1240k/MarcusAncsPH/I2105/chr2/\n",
      "Loaded Emission Model: haploid\n",
      "Loaded Transition Model: model\n",
      "Loaded Post Processing Model: Standard\n",
      "Minimum Genetic Map: 0.0001\n",
      "Maximum Genetic Map: 2.6883\n",
      "Gaps bigger than 0.1 cM: 301\n",
      "Maximum Gap: 2.1083 cM\n",
      "Loaded Transition and Emission Matrix:\n",
      "(3, 3)\n",
      "(5009, 63765)\n",
      "Loaded Observations:\n",
      "(2, 63765)\n",
      "Memory Usage: 3090.038784 mB\n",
      "Reference Number: 5008\n",
      "Total Log likelihood: -23204.447\n",
      "Memory Usage: 3090.046976 mB\n",
      "Finished Calculation State Posteriors\n",
      "Saved Zero State Posterior to ./Empirical/1240k/MarcusAncsPH/I2105/chr2/.\n",
      "Successfully loaded for PP. from ./Empirical/1240k/MarcusAncsPH/I2105/chr2/\n",
      "Fraction Markers in ROH: 0.3860\n",
      "Merged n=0 gaps < 0.0 M\n",
      "Called n=10 ROH Blocks > 1.0 cM\n",
      "Longest Block: 2.621\n",
      "Successfully saved to ./Empirical/1240k/MarcusAncsPH/I2105/chr2/roh.csv\n"
     ]
    }
   ],
   "source": [
    "!python3 run_individual_Marcus.py 0"
   ]
  },
  {
   "cell_type": "markdown",
   "metadata": {},
   "source": [
    "# Random Code Chunks"
   ]
  },
  {
   "cell_type": "code",
   "execution_count": 5,
   "metadata": {},
   "outputs": [
    {
     "name": "stdout",
     "output_type": "stream",
     "text": [
      "Loaded 517 High Coverage Ancients\n"
     ]
    }
   ],
   "source": [
    "meta_path = \"./Data/Marcus2019_1240k/meta_rev_final.csv\"\n",
    "anc_sardind= 85\n",
    "anc_ind =  1087\n",
    "cutoff_cov = 0.5    \n",
    "\n",
    "### Coverage Cutoff\n",
    "meta_df = pd.read_csv(meta_path)\n",
    "anc_sard_df = meta_df[anc_sardind:anc_ind]\n",
    "\n",
    "df_anno = anc_sard_df[(anc_sard_df[\"mean_cov\"] > cutoff_cov) & (anc_sard_df[\"include_alt\"] > 0)]\n",
    "print(f\"Loaded {len(df_anno)} High Coverage Ancients\")"
   ]
  },
  {
   "cell_type": "code",
   "execution_count": null,
   "metadata": {},
   "outputs": [],
   "source": []
  }
 ],
 "metadata": {
  "kernelspec": {
   "display_name": "Python 3",
   "language": "python",
   "name": "python3"
  },
  "language_info": {
   "codemirror_mode": {
    "name": "ipython",
    "version": 3
   },
   "file_extension": ".py",
   "mimetype": "text/x-python",
   "name": "python",
   "nbconvert_exporter": "python",
   "pygments_lexer": "ipython3",
   "version": "3.7.0"
  }
 },
 "nbformat": 4,
 "nbformat_minor": 2
}
