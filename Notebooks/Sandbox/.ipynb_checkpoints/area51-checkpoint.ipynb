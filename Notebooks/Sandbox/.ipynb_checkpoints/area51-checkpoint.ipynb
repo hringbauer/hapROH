{
 "cells": [
  {
   "cell_type": "markdown",
   "metadata": {},
   "source": [
    "# Notebook to test random Code chunks.\n",
    "The ultimate Sandbox"
   ]
  },
  {
   "cell_type": "code",
   "execution_count": 1,
   "metadata": {},
   "outputs": [
    {
     "name": "stdout",
     "output_type": "stream",
     "text": [
      "midway2-0402.rcc.local\n",
      "Midway jnovmbre partition detected.\n",
      "/project2/jnovembre/hringbauer/HAPSBURG\n",
      "CPU Count: 28\n"
     ]
    }
   ],
   "source": [
    "import numpy as np\n",
    "import os as os\n",
    "import sys as sys\n",
    "import multiprocessing as mp\n",
    "import matplotlib.pyplot as plt\n",
    "import pandas as pd\n",
    "import socket\n",
    "import matplotlib.cm as cm\n",
    "from scipy.special import kv\n",
    "\n",
    "### Pick the right path (whether on cluster or at home)\n",
    "socket_name = socket.gethostname()\n",
    "print(socket_name)\n",
    "if socket_name == \"VioletQueen\":\n",
    "    path = \"/home/harald/git/HAPSBURG/\"   # The Path on Harald's machine\n",
    "elif socket_name.startswith(\"midway2\"):\n",
    "    print(\"Midway jnovmbre partition detected.\")\n",
    "    path = \"/project2/jnovembre/hringbauer/HAPSBURG/\"  # The Path on Midway Cluster\n",
    "elif socket_name.startswith(\"Harald-Laptop-X1\"):\n",
    "    path = \"/home/hringbauer/git/HAPSBURG/\"\n",
    "else: \n",
    "    raise RuntimeWarning(\"Not compatible machine. Check!!\")\n",
    "    \n",
    "os.chdir(path)  # Set the right Path (in line with Atom default)\n",
    "\n",
    "#sys.path.append(\"./Python3/\")  # Since now we are in the Root Directory\n",
    "#from hmm_inference import HMM_Analyze   # Do not move. Should be after sys.path..\n",
    "#sys.path.append(\"./Python3/create1000G_Mosaic/\")  # Since now we are in the Root Directory\n",
    "#from createMosaicsMulti import Mosaic_1000G_Multi  # Import the object that can create the Multiruns\n",
    "\n",
    "print(os.getcwd()) # Show the current working directory. Should be HAPSBURG/Notebooks/ParallelRuns\n",
    "print(f\"CPU Count: {mp.cpu_count()}\")"
   ]
  },
  {
   "cell_type": "code",
   "execution_count": 3,
   "metadata": {},
   "outputs": [],
   "source": [
    "df1 = pd.read_csv(\"./Empirical/HO/combined_roh_dip05.tsv\", sep=\"\\t\")"
   ]
  },
  {
   "cell_type": "code",
   "execution_count": 4,
   "metadata": {},
   "outputs": [
    {
     "data": {
      "text/html": [
       "<div>\n",
       "<style scoped>\n",
       "    .dataframe tbody tr th:only-of-type {\n",
       "        vertical-align: middle;\n",
       "    }\n",
       "\n",
       "    .dataframe tbody tr th {\n",
       "        vertical-align: top;\n",
       "    }\n",
       "\n",
       "    .dataframe thead th {\n",
       "        text-align: right;\n",
       "    }\n",
       "</style>\n",
       "<table border=\"1\" class=\"dataframe\">\n",
       "  <thead>\n",
       "    <tr style=\"text-align: right;\">\n",
       "      <th></th>\n",
       "      <th>iid</th>\n",
       "      <th>pop</th>\n",
       "      <th>max_roh</th>\n",
       "      <th>sum_roh&gt;4</th>\n",
       "      <th>n_roh&gt;4</th>\n",
       "      <th>sum_roh&gt;8</th>\n",
       "      <th>n_roh&gt;8</th>\n",
       "      <th>sum_roh&gt;12</th>\n",
       "      <th>n_roh&gt;12</th>\n",
       "      <th>sum_roh&gt;20</th>\n",
       "      <th>...</th>\n",
       "      <th>study</th>\n",
       "      <th>clst_alt</th>\n",
       "      <th>period_alt</th>\n",
       "      <th>include_alt</th>\n",
       "      <th>clst</th>\n",
       "      <th>mean_cov</th>\n",
       "      <th>med_cov</th>\n",
       "      <th>n_cov_snp_read</th>\n",
       "      <th>full_iid</th>\n",
       "      <th>n_cov_snp</th>\n",
       "    </tr>\n",
       "  </thead>\n",
       "  <tbody>\n",
       "    <tr>\n",
       "      <th>393</th>\n",
       "      <td>Mbuti_0</td>\n",
       "      <td>Mbuti</td>\n",
       "      <td>25.682604</td>\n",
       "      <td>54.596603</td>\n",
       "      <td>3</td>\n",
       "      <td>54.596603</td>\n",
       "      <td>3</td>\n",
       "      <td>54.596603</td>\n",
       "      <td>3</td>\n",
       "      <td>25.682604</td>\n",
       "      <td>...</td>\n",
       "      <td>Lazaridis et al. 2014</td>\n",
       "      <td>Mbuti</td>\n",
       "      <td>NaN</td>\n",
       "      <td>1</td>\n",
       "      <td>Mbuti</td>\n",
       "      <td>NaN</td>\n",
       "      <td>NaN</td>\n",
       "      <td>NaN</td>\n",
       "      <td>HGDP00449</td>\n",
       "      <td>551079</td>\n",
       "    </tr>\n",
       "  </tbody>\n",
       "</table>\n",
       "<p>1 rows × 27 columns</p>\n",
       "</div>"
      ],
      "text/plain": [
       "         iid    pop    max_roh  sum_roh>4  n_roh>4  sum_roh>8  n_roh>8  \\\n",
       "393  Mbuti_0  Mbuti  25.682604  54.596603        3  54.596603        3   \n",
       "\n",
       "     sum_roh>12  n_roh>12  sum_roh>20  ...                  study clst_alt  \\\n",
       "393   54.596603         3   25.682604  ...  Lazaridis et al. 2014    Mbuti   \n",
       "\n",
       "     period_alt  include_alt   clst  mean_cov  med_cov n_cov_snp_read  \\\n",
       "393         NaN            1  Mbuti       NaN      NaN            NaN   \n",
       "\n",
       "      full_iid  n_cov_snp  \n",
       "393  HGDP00449     551079  \n",
       "\n",
       "[1 rows x 27 columns]"
      ]
     },
     "execution_count": 4,
     "metadata": {},
     "output_type": "execute_result"
    }
   ],
   "source": [
    "df1[df1[\"full_iid\"].str.contains(\"HGDP00449\")]"
   ]
  },
  {
   "cell_type": "code",
   "execution_count": 5,
   "metadata": {},
   "outputs": [
    {
     "data": {
      "text/html": [
       "<div>\n",
       "<style scoped>\n",
       "    .dataframe tbody tr th:only-of-type {\n",
       "        vertical-align: middle;\n",
       "    }\n",
       "\n",
       "    .dataframe tbody tr th {\n",
       "        vertical-align: top;\n",
       "    }\n",
       "\n",
       "    .dataframe thead th {\n",
       "        text-align: right;\n",
       "    }\n",
       "</style>\n",
       "<table border=\"1\" class=\"dataframe\">\n",
       "  <thead>\n",
       "    <tr style=\"text-align: right;\">\n",
       "      <th></th>\n",
       "      <th>iid</th>\n",
       "      <th>pop</th>\n",
       "      <th>max_roh</th>\n",
       "      <th>sum_roh&gt;4</th>\n",
       "      <th>n_roh&gt;4</th>\n",
       "      <th>sum_roh&gt;8</th>\n",
       "      <th>n_roh&gt;8</th>\n",
       "      <th>sum_roh&gt;12</th>\n",
       "      <th>n_roh&gt;12</th>\n",
       "      <th>sum_roh&gt;20</th>\n",
       "      <th>...</th>\n",
       "      <th>study</th>\n",
       "      <th>clst_alt</th>\n",
       "      <th>period_alt</th>\n",
       "      <th>include_alt</th>\n",
       "      <th>clst</th>\n",
       "      <th>mean_cov</th>\n",
       "      <th>med_cov</th>\n",
       "      <th>n_cov_snp_read</th>\n",
       "      <th>full_iid</th>\n",
       "      <th>n_cov_snp</th>\n",
       "    </tr>\n",
       "  </thead>\n",
       "  <tbody>\n",
       "    <tr>\n",
       "      <th>413</th>\n",
       "      <td>Ju_hoan_North_1</td>\n",
       "      <td>Ju_hoan_North</td>\n",
       "      <td>14.166605</td>\n",
       "      <td>50.141307</td>\n",
       "      <td>6</td>\n",
       "      <td>27.161806</td>\n",
       "      <td>2</td>\n",
       "      <td>27.161806</td>\n",
       "      <td>2</td>\n",
       "      <td>0.0</td>\n",
       "      <td>...</td>\n",
       "      <td>Lazaridis et al. 2014</td>\n",
       "      <td>Ju_hoan_North</td>\n",
       "      <td>NaN</td>\n",
       "      <td>1</td>\n",
       "      <td>Ju_hoan_North</td>\n",
       "      <td>NaN</td>\n",
       "      <td>NaN</td>\n",
       "      <td>NaN</td>\n",
       "      <td>HGDP00991</td>\n",
       "      <td>552765</td>\n",
       "    </tr>\n",
       "  </tbody>\n",
       "</table>\n",
       "<p>1 rows × 27 columns</p>\n",
       "</div>"
      ],
      "text/plain": [
       "                 iid            pop    max_roh  sum_roh>4  n_roh>4  sum_roh>8  \\\n",
       "413  Ju_hoan_North_1  Ju_hoan_North  14.166605  50.141307        6  27.161806   \n",
       "\n",
       "     n_roh>8  sum_roh>12  n_roh>12  sum_roh>20  ...                  study  \\\n",
       "413        2   27.161806         2         0.0  ...  Lazaridis et al. 2014   \n",
       "\n",
       "          clst_alt  period_alt  include_alt           clst  mean_cov  med_cov  \\\n",
       "413  Ju_hoan_North         NaN            1  Ju_hoan_North       NaN      NaN   \n",
       "\n",
       "    n_cov_snp_read   full_iid  n_cov_snp  \n",
       "413            NaN  HGDP00991     552765  \n",
       "\n",
       "[1 rows x 27 columns]"
      ]
     },
     "execution_count": 5,
     "metadata": {},
     "output_type": "execute_result"
    }
   ],
   "source": [
    "df1[df1[\"full_iid\"].str.contains(\"HGDP00991\")]"
   ]
  },
  {
   "cell_type": "markdown",
   "metadata": {},
   "source": [
    "## Plot some Bessel Functinos"
   ]
  },
  {
   "cell_type": "code",
   "execution_count": 59,
   "metadata": {},
   "outputs": [],
   "source": [
    "xlim =[0,20]\n",
    "x = np.linspace(0.1,20, 10000)\n",
    "\n",
    "y0 = kv(0, x)\n",
    "y1 = x * kv(1, x)\n",
    "y2 = x**2 * kv(2, x)\n",
    "y3 = x**3 * kv(3, x)\n",
    "\n",
    "cmap = cm.get_cmap('viridis_r')\n",
    "cs = cmap(np.linspace(0,0.6,4))"
   ]
  },
  {
   "cell_type": "code",
   "execution_count": 65,
   "metadata": {},
   "outputs": [
    {
     "name": "stdout",
     "output_type": "stream",
     "text": [
      "Saved figure to ./figures/dumpster/pw_fraction.png\n"
     ]
    },
    {
     "data": {
      "image/png": "[encoded data removed]",
      "text/plain": [
       "<Figure size 288x432 with 1 Axes>"
      ]
     },
     "metadata": {
      "needs_background": "light"
     },
     "output_type": "display_data"
    }
   ],
   "source": [
    "savepath=(\"./figures/dumpster/pw_fraction.png\")\n",
    "\n",
    "plt.figure(figsize=(4,6))\n",
    "ax = plt.gca()\n",
    "ax.plot(x, y0, label=f\"$0$\", lw=2, c=cs[0])\n",
    "ax.plot(x, y1, label=f\"$1$\", lw=2, c=cs[1])\n",
    "ax.plot(x, y2, label=f\"$2$\", lw=2, c=cs[2])\n",
    "ax.plot(x, y3, label=f\"$3$\", lw=2, c=cs[3])\n",
    "ax.legend(title=\"Mutations apart\")\n",
    "ax.set_xlim(xlim)\n",
    "ax.set_yscale(\"log\")\n",
    "ax.set_xlabel(f\"Pairwise Distance [$\\sigma$]\")\n",
    "ax.set_ylabel(\"Fraction of sample pairs\")\n",
    "ax.set_title(\"Formulas up to a mult. constant\")\n",
    "\n",
    "if len(savepath)>0:\n",
    "    plt.savefig(savepath, bbox_inches = 'tight', pad_inches = 0, dpi=400)\n",
    "    print(f\"Saved figure to {savepath}\")\n",
    "\n",
    "\n",
    "plt.show()"
   ]
  },
  {
   "cell_type": "code",
   "execution_count": null,
   "metadata": {},
   "outputs": [],
   "source": []
  }
 ],
 "metadata": {
  "kernelspec": {
   "display_name": "Python 3",
   "language": "python",
   "name": "python3"
  },
  "language_info": {
   "codemirror_mode": {
    "name": "ipython",
    "version": 3
   },
   "file_extension": ".py",
   "mimetype": "text/x-python",
   "name": "python",
   "nbconvert_exporter": "python",
   "pygments_lexer": "ipython3",
   "version": "3.7.0"
  }
 },
 "nbformat": 4,
 "nbformat_minor": 4
}
