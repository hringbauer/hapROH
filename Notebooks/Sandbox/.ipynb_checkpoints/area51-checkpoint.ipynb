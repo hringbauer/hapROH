{
 "cells": [
  {
   "cell_type": "markdown",
   "metadata": {},
   "source": [
    "# Notebook to test random Code chunks.\n",
    "The ultimate Sandbox"
   ]
  },
  {
   "cell_type": "code",
   "execution_count": 2,
   "metadata": {},
   "outputs": [],
   "source": [
    "import numpy as np\n",
    "import os\n",
    "import psutil"
   ]
  },
  {
   "cell_type": "code",
   "execution_count": 3,
   "metadata": {},
   "outputs": [
    {
     "name": "stdout",
     "output_type": "stream",
     "text": [
      "Deleted ../../Simulated/1000G_Mosaic/TSI/ch3_3cm/output/iid1/chr3/readcounts.csv\n",
      "Deleted ../../Simulated/1000G_Mosaic/TSI/ch3_3cm/output/iid1/chr3/posterior_cm.png\n",
      "Deleted ../../Simulated/1000G_Mosaic/TSI/ch3_3cm/output/iid1/chr3/hap.csv\n",
      "Deleted ../../Simulated/1000G_Mosaic/TSI/ch3_3cm/output/iid1/chr3/posterior0.csv\n",
      "Deleted ../../Simulated/1000G_Mosaic/TSI/ch3_3cm/output/iid1/chr3/viterbi_path.csv\n",
      "Deleted ../../Simulated/1000G_Mosaic/TSI/ch3_3cm/output/iid1/chr3/map.csv\n",
      "Deleted ../../Simulated/1000G_Mosaic/TSI/ch3_3cm/output/iid1/chr3/posterior_cm.pdf\n",
      "CPU times: user 2.76 ms, sys: 0 ns, total: 2.76 ms\n",
      "Wall time: 7.21 ms\n"
     ]
    }
   ],
   "source": [
    "%%time\n",
    "keep_files = [\"roh.csv\", \"roh_gt.csv\"]\n",
    "folder = \"../../Simulated/1000G_Mosaic/TSI/ch3_3cm/output/iid1/chr3/\"\n",
    "\n",
    "for the_file in os.listdir(folder):\n",
    "    file_path = os.path.join(folder, the_file)\n",
    "\n",
    "    if os.path.isfile(file_path) and (the_file not in keep_files):\n",
    "        os.unlink(file_path)   # Delete the File\n",
    "        print(f\"Deleted {file_path}\")"
   ]
  },
  {
   "cell_type": "code",
   "execution_count": 4,
   "metadata": {},
   "outputs": [
    {
     "name": "stdout",
     "output_type": "stream",
     "text": [
      "/project/jnovembre/hringbauer/HAPSBURG/scripts/cluster_runs\n"
     ]
    }
   ],
   "source": [
    "os.chdir(\"../../scripts/cluster_runs/\")  # Set the right Path (in line with Atom default)\n",
    "print(os.getcwd())"
   ]
  },
  {
   "cell_type": "code",
   "execution_count": 35,
   "metadata": {},
   "outputs": [
    {
     "name": "stdout",
     "output_type": "stream",
     "text": [
      "Doing Individual Hazara_3...\n",
      "Using Low-Mem Cython Linear Speed Up.\n",
      "Loaded Pre Processing Model: SardHDF5\n",
      "Loading Individual: Hazara_3\n",
      "\n",
      "Loaded 1145647 variants\n",
      "Loaded 4616 individuals\n",
      "HDF5 loaded from ./Data/Marcus2019_1240k/mod_reich_sardinia_ancients_rev_mrg_dedup_3trm_anno.h5\n",
      "\n",
      "Loaded 89147 variants\n",
      "Loaded 2504 individuals\n",
      "HDF5 loaded from ./Data/1000Genomes/HDF5/1240kHDF5/all1240/chr1.hdf5\n",
      "\n",
      "Intersection on Positions: 89143\n",
      "Nr of Matching Refs: 89143 / 89143\n",
      "Full Intersection Ref/Alt Identical: 89079 / 89143\n",
      "2504 / 2504 Individuals included in Reference\n",
      "Extraction of 5008 Haplotypes Complete!\n",
      "Markers called 47446 / 89079\n",
      "Successfully saved to: ./Empirical/HO/Hazara_3/chr1/\n",
      "Successfully loaded Data from: ./Empirical/HO/Hazara_3/chr1/\n",
      "Loaded Emission Model: diploid_gt\n",
      "Loaded Transition Model: model\n",
      "Loaded Post Processing Model: Standard\n",
      "Minimum Genetic Map: 0.0201\n",
      "Maximum Genetic Map: 2.8623\n",
      "Gaps bigger than 0.1 cM: 425\n",
      "Maximum Gap: 3.9814 cM\n",
      "Loaded Transition and Emission Matrix:\n",
      "(3, 3)\n",
      "(5009, 47446)\n",
      "Loaded Observations:\n",
      "(2, 47446)\n",
      "Memory Usage: 2336.89088 mB\n",
      "Reference Number: 5008\n",
      "Total Log likelihood: -24130.924\n",
      "Memory Usage: 2337.804288 mB\n",
      "Finished Calculation State Posteriors\n",
      "Saved Zero State Posterior to ./Empirical/HO/Hazara_3/chr1/.\n",
      "Successfully loaded for PP. from ./Empirical/HO/Hazara_3/chr1/\n",
      "Fraction Markers in ROH: 0.2542\n",
      "Merged n=0 gaps < 0.0 M\n",
      "Called n=2 ROH Blocks > 1.0 cM\n",
      "Longest Block: 1.165\n",
      "Successfully saved to ./Empirical/HO/Hazara_3/chr1/roh.csv\n",
      "Using Low-Mem Cython Linear Speed Up.\n",
      "Loaded Pre Processing Model: SardHDF5\n",
      "Loading Individual: Hazara_3\n",
      "\n",
      "Loaded 1145647 variants\n",
      "Loaded 4616 individuals\n",
      "HDF5 loaded from ./Data/Marcus2019_1240k/mod_reich_sardinia_ancients_rev_mrg_dedup_3trm_anno.h5\n",
      "\n",
      "Loaded 94239 variants\n",
      "Loaded 2504 individuals\n",
      "HDF5 loaded from ./Data/1000Genomes/HDF5/1240kHDF5/all1240/chr2.hdf5\n",
      "\n",
      "Intersection on Positions: 94237\n",
      "Nr of Matching Refs: 94205 / 94237\n",
      "Full Intersection Ref/Alt Identical: 94137 / 94237\n",
      "2504 / 2504 Individuals included in Reference\n",
      "Extraction of 5008 Haplotypes Complete!\n",
      "Markers called 48969 / 94137\n",
      "Successfully saved to: ./Empirical/HO/Hazara_3/chr2/\n",
      "Successfully loaded Data from: ./Empirical/HO/Hazara_3/chr2/\n",
      "Loaded Emission Model: diploid_gt\n",
      "Loaded Transition Model: model\n",
      "Loaded Post Processing Model: Standard\n",
      "Minimum Genetic Map: 0.0001\n",
      "Maximum Genetic Map: 2.6883\n",
      "Gaps bigger than 0.1 cM: 397\n",
      "Maximum Gap: 2.0159 cM\n",
      "Loaded Transition and Emission Matrix:\n",
      "(3, 3)\n",
      "(5009, 48969)\n",
      "Loaded Observations:\n",
      "(2, 48969)\n",
      "Memory Usage: 2408.660992 mB\n",
      "Reference Number: 5008\n",
      "Total Log likelihood: -24896.945\n",
      "Memory Usage: 2408.669184 mB\n",
      "Finished Calculation State Posteriors\n",
      "Saved Zero State Posterior to ./Empirical/HO/Hazara_3/chr2/.\n",
      "Successfully loaded for PP. from ./Empirical/HO/Hazara_3/chr2/\n",
      "Fraction Markers in ROH: 0.2683\n",
      "Merged n=0 gaps < 0.0 M\n",
      "Called n=1 ROH Blocks > 1.0 cM\n",
      "Longest Block: 1.220\n",
      "Successfully saved to ./Empirical/HO/Hazara_3/chr2/roh.csv\n",
      "Run for Individual Hazara_3: Complete! Yeah!!\n"
     ]
    }
   ],
   "source": [
    "!python3 run_individual_HO.py 150"
   ]
  },
  {
   "cell_type": "code",
   "execution_count": null,
   "metadata": {},
   "outputs": [],
   "source": []
  }
 ],
 "metadata": {
  "kernelspec": {
   "display_name": "Python 3",
   "language": "python",
   "name": "python3"
  },
  "language_info": {
   "codemirror_mode": {
    "name": "ipython",
    "version": 3
   },
   "file_extension": ".py",
   "mimetype": "text/x-python",
   "name": "python",
   "nbconvert_exporter": "python",
   "pygments_lexer": "ipython3",
   "version": "3.7.0"
  }
 },
 "nbformat": 4,
 "nbformat_minor": 2
}
