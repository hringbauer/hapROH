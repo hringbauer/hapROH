{
 "cells": [
  {
   "cell_type": "code",
   "execution_count": 5,
   "metadata": {},
   "outputs": [],
   "source": [
    "import numpy as np \n",
    "import matplotlib.pyplot as plt\n",
    "import pandas as pd"
   ]
  },
  {
   "cell_type": "code",
   "execution_count": 2,
   "metadata": {},
   "outputs": [],
   "source": [
    "def sloppyROH (recoMap, target, refHaps, windowSize = 0.001):\n",
    "    \n",
    "    # figure out per snp agreement between references and reads from target\n",
    "    # how many reads agree with reference alleles?\n",
    "    refAgree = (1-refHaps) * target[0,:]\n",
    "    # how many reads agree with alternative alleles?\n",
    "    altAgree = refHaps * target[1,:]\n",
    "    # the total agreement at each SNP\n",
    "    totalAgree = refAgree + altAgree\n",
    "    \n",
    "    # make a dict that tells you which SNPs fall in a window around the focal SNP\n",
    "    neighborhood = {}\n",
    "    for p in range(numSnps):\n",
    "        # debug print\n",
    "#         if (p % 10000 == 0):\n",
    "#             print (p)\n",
    "        # the map relative to snp p\n",
    "        relativeMap = recoMap - recoMap[p]\n",
    "        # the indices of the snps that are in the window around p\n",
    "        themIndices = np.nonzero(abs(relativeMap) < windowSize)\n",
    "        neighborhood[p] = themIndices\n",
    "    \n",
    "    # need total counts per snp too normalize\n",
    "    countsPerSnp = numpy.sum (target, axis=0)\n",
    "    \n",
    "    # now compute the number for every snp using the neighborhoods\n",
    "    myROH = np.zeros(numSnps)\n",
    "    for p in range(numSnps):\n",
    "        # debug print\n",
    "#         if (p % 10000 == 0):\n",
    "#             print (p)\n",
    "        # get your window\n",
    "        daHood = neighborhood[p]\n",
    "        # total number of reads in this window\n",
    "        totalReads = np.sum(countsPerSnp[daHood])\n",
    "        # get the agreement with ref haps in this window\n",
    "        neighborAgreePerSnp = totalAgree[:,daHood]\n",
    "        # total agreement with each ref hap in this window\n",
    "        totalNeighborAgree = np.sum(neighborAgreePerSnp, axis=2)\n",
    "        # relative to count number in window\n",
    "        relativeNeighborAgree = totalNeighborAgree / totalReads\n",
    "        # and store the max\n",
    "        myROH[p] = np.max(relativeNeighborAgree)\n",
    "        \n",
    "    # give it away now\n",
    "    return myROH"
   ]
  },
  {
   "cell_type": "code",
   "execution_count": null,
   "metadata": {},
   "outputs": [],
   "source": [
    "def sloppyROH_Harald(recoMap, target, refHaps, windowSize = 0.001):\n",
    "    \n",
    "    # figure out per snp agreement between references and reads from target\n",
    "    # how many reads agree with reference alleles?\n",
    "    refAgree = (1-refHaps) * target[0,:]\n",
    "    # how many reads agree with alternative alleles?\n",
    "    altAgree = refHaps * target[1,:]\n",
    "    # the total agreement at each SNP\n",
    "    totalAgree = refAgree + altAgree\n",
    "    \n",
    "    # make a dict that tells you which SNPs fall in a window around the focal SNP\n",
    "    neighborhood = {}\n",
    "    for p in range(numSnps):\n",
    "        # debug print\n",
    "#         if (p % 10000 == 0):\n",
    "#             print (p)\n",
    "        # the map relative to snp p\n",
    "        relativeMap = recoMap - recoMap[p]\n",
    "        # the indices of the snps that are in the window around p\n",
    "        themIndices = np.nonzero(abs(relativeMap) < windowSize)\n",
    "        neighborhood[p] = themIndices\n",
    "    \n",
    "    # need total counts per snp too normalize\n",
    "    countsPerSnp = numpy.sum (target, axis=0)\n",
    "    \n",
    "    # now compute the number for every snp using the neighborhoods\n",
    "    myROH = np.zeros(numSnps)\n",
    "    for p in range(numSnps):\n",
    "        # debug print\n",
    "#         if (p % 10000 == 0):\n",
    "#             print (p)\n",
    "        # get your window\n",
    "        daHood = neighborhood[p]\n",
    "        # total number of reads in this window\n",
    "        totalReads = np.sum(countsPerSnp[daHood])\n",
    "        # get the agreement with ref haps in this window\n",
    "        neighborAgreePerSnp = totalAgree[:,daHood]\n",
    "        # total agreement with each ref hap in this window\n",
    "        totalNeighborAgree = np.sum(neighborAgreePerSnp, axis=2)\n",
    "        # relative to count number in window\n",
    "        relativeNeighborAgree = totalNeighborAgree / totalReads\n",
    "        # and store the max\n",
    "        myROH[p] = np.max(relativeNeighborAgree)\n",
    "        \n",
    "    # give it away now\n",
    "    return myROH"
   ]
  },
  {
   "cell_type": "code",
   "execution_count": 7,
   "metadata": {},
   "outputs": [],
   "source": [
    "def load_data(basefolder = \"\"):\n",
    "    \"\"\"Load and return the necessary Data from HAPSBURG output Folders.\n",
    "    basefolder: Which folder to find the necessary data in\"\"\"\n",
    "\n",
    "    posterior = np.loadtxt(basefolder + \"posterior0.csv\")\n",
    "    # load some files maybe\n",
    "    # recombination map (in morgan)\n",
    "    recoMap = np.loadtxt(basefolder + \"map.csv\", delimiter=',')\n",
    "    print (recoMap.shape)\n",
    "    # readcounts for target individual\n",
    "    # first line: reads for ref; second line: reads for alt\n",
    "    target = np.loadtxt(basefolder + \"readcounts.csv\", delimiter=',')\n",
    "    print (target.shape)\n",
    "    numSnps = target.shape[1]\n",
    "    # read in references\n",
    "    refHaps = numpy.loadtxt(basefolder + \"refs.csv\", delimiter=',')\n",
    "    print (refHaps.shape)\n",
    "    \n",
    "    return posterior, recoMap, target, refHaps, numSnps"
   ]
  },
  {
   "cell_type": "code",
   "execution_count": 9,
   "metadata": {},
   "outputs": [
    {
     "name": "stdout",
     "output_type": "stream",
     "text": [
      "(38032,)\n",
      "(2, 38032)\n"
     ]
    },
    {
     "ename": "OSError",
     "evalue": "../../Simulated/1000G_Mosaic/TSI5/lambda_rc1.0/ch3_4cm/output/iid0/chr3/refs.csv not found.",
     "output_type": "error",
     "traceback": [
      "\u001b[0;31m---------------------------------------------------------------------------\u001b[0m",
      "\u001b[0;31mOSError\u001b[0m                                   Traceback (most recent call last)",
      "\u001b[0;32m<ipython-input-9-9bf6bde0aa76>\u001b[0m in \u001b[0;36m<module>\u001b[0;34m()\u001b[0m\n\u001b[0;32m----> 1\u001b[0;31m \u001b[0mposterior\u001b[0m\u001b[0;34m,\u001b[0m \u001b[0mrecoMap\u001b[0m\u001b[0;34m,\u001b[0m \u001b[0mtarget\u001b[0m\u001b[0;34m,\u001b[0m \u001b[0mrefHaps\u001b[0m\u001b[0;34m,\u001b[0m \u001b[0mnumSnps\u001b[0m \u001b[0;34m=\u001b[0m \u001b[0mload_data\u001b[0m\u001b[0;34m(\u001b[0m\u001b[0mbasefolder\u001b[0m \u001b[0;34m=\u001b[0m \u001b[0;34m\"../../Simulated/1000G_Mosaic/TSI5/lambda_rc1.0/ch3_4cm/output/iid0/chr3/\"\u001b[0m\u001b[0;34m)\u001b[0m\u001b[0;34m\u001b[0m\u001b[0m\n\u001b[0m",
      "\u001b[0;32m<ipython-input-7-d5114c9d8724>\u001b[0m in \u001b[0;36mload_data\u001b[0;34m(basefolder)\u001b[0m\n\u001b[1;32m     14\u001b[0m     \u001b[0mnumSnps\u001b[0m \u001b[0;34m=\u001b[0m \u001b[0mtarget\u001b[0m\u001b[0;34m.\u001b[0m\u001b[0mshape\u001b[0m\u001b[0;34m[\u001b[0m\u001b[0;36m1\u001b[0m\u001b[0;34m]\u001b[0m\u001b[0;34m\u001b[0m\u001b[0m\n\u001b[1;32m     15\u001b[0m     \u001b[0;31m# read in references\u001b[0m\u001b[0;34m\u001b[0m\u001b[0;34m\u001b[0m\u001b[0m\n\u001b[0;32m---> 16\u001b[0;31m     \u001b[0mrefHaps\u001b[0m \u001b[0;34m=\u001b[0m \u001b[0mnumpy\u001b[0m\u001b[0;34m.\u001b[0m\u001b[0mloadtxt\u001b[0m\u001b[0;34m(\u001b[0m\u001b[0mbasefolder\u001b[0m \u001b[0;34m+\u001b[0m \u001b[0;34m\"refs.csv\"\u001b[0m\u001b[0;34m,\u001b[0m \u001b[0mdelimiter\u001b[0m\u001b[0;34m=\u001b[0m\u001b[0;34m','\u001b[0m\u001b[0;34m)\u001b[0m\u001b[0;34m\u001b[0m\u001b[0m\n\u001b[0m\u001b[1;32m     17\u001b[0m     \u001b[0mprint\u001b[0m \u001b[0;34m(\u001b[0m\u001b[0mrefHaps\u001b[0m\u001b[0;34m.\u001b[0m\u001b[0mshape\u001b[0m\u001b[0;34m)\u001b[0m\u001b[0;34m\u001b[0m\u001b[0m\n\u001b[1;32m     18\u001b[0m \u001b[0;34m\u001b[0m\u001b[0m\n",
      "\u001b[0;32m/software/python-3.7.0-el7-x86_64/lib/python3.7/site-packages/numpy/lib/npyio.py\u001b[0m in \u001b[0;36mloadtxt\u001b[0;34m(fname, dtype, comments, delimiter, converters, skiprows, usecols, unpack, ndmin, encoding)\u001b[0m\n\u001b[1;32m    924\u001b[0m             \u001b[0mfname\u001b[0m \u001b[0;34m=\u001b[0m \u001b[0mstr\u001b[0m\u001b[0;34m(\u001b[0m\u001b[0mfname\u001b[0m\u001b[0;34m)\u001b[0m\u001b[0;34m\u001b[0m\u001b[0m\n\u001b[1;32m    925\u001b[0m         \u001b[0;32mif\u001b[0m \u001b[0m_is_string_like\u001b[0m\u001b[0;34m(\u001b[0m\u001b[0mfname\u001b[0m\u001b[0;34m)\u001b[0m\u001b[0;34m:\u001b[0m\u001b[0;34m\u001b[0m\u001b[0m\n\u001b[0;32m--> 926\u001b[0;31m             \u001b[0mfh\u001b[0m \u001b[0;34m=\u001b[0m \u001b[0mnp\u001b[0m\u001b[0;34m.\u001b[0m\u001b[0mlib\u001b[0m\u001b[0;34m.\u001b[0m\u001b[0m_datasource\u001b[0m\u001b[0;34m.\u001b[0m\u001b[0mopen\u001b[0m\u001b[0;34m(\u001b[0m\u001b[0mfname\u001b[0m\u001b[0;34m,\u001b[0m \u001b[0;34m'rt'\u001b[0m\u001b[0;34m,\u001b[0m \u001b[0mencoding\u001b[0m\u001b[0;34m=\u001b[0m\u001b[0mencoding\u001b[0m\u001b[0;34m)\u001b[0m\u001b[0;34m\u001b[0m\u001b[0m\n\u001b[0m\u001b[1;32m    927\u001b[0m             \u001b[0mfencoding\u001b[0m \u001b[0;34m=\u001b[0m \u001b[0mgetattr\u001b[0m\u001b[0;34m(\u001b[0m\u001b[0mfh\u001b[0m\u001b[0;34m,\u001b[0m \u001b[0;34m'encoding'\u001b[0m\u001b[0;34m,\u001b[0m \u001b[0;34m'latin1'\u001b[0m\u001b[0;34m)\u001b[0m\u001b[0;34m\u001b[0m\u001b[0m\n\u001b[1;32m    928\u001b[0m             \u001b[0mfh\u001b[0m \u001b[0;34m=\u001b[0m \u001b[0miter\u001b[0m\u001b[0;34m(\u001b[0m\u001b[0mfh\u001b[0m\u001b[0;34m)\u001b[0m\u001b[0;34m\u001b[0m\u001b[0m\n",
      "\u001b[0;32m/software/python-3.7.0-el7-x86_64/lib/python3.7/site-packages/numpy/lib/_datasource.py\u001b[0m in \u001b[0;36mopen\u001b[0;34m(path, mode, destpath, encoding, newline)\u001b[0m\n\u001b[1;32m    260\u001b[0m \u001b[0;34m\u001b[0m\u001b[0m\n\u001b[1;32m    261\u001b[0m     \u001b[0mds\u001b[0m \u001b[0;34m=\u001b[0m \u001b[0mDataSource\u001b[0m\u001b[0;34m(\u001b[0m\u001b[0mdestpath\u001b[0m\u001b[0;34m)\u001b[0m\u001b[0;34m\u001b[0m\u001b[0m\n\u001b[0;32m--> 262\u001b[0;31m     \u001b[0;32mreturn\u001b[0m \u001b[0mds\u001b[0m\u001b[0;34m.\u001b[0m\u001b[0mopen\u001b[0m\u001b[0;34m(\u001b[0m\u001b[0mpath\u001b[0m\u001b[0;34m,\u001b[0m \u001b[0mmode\u001b[0m\u001b[0;34m,\u001b[0m \u001b[0mencoding\u001b[0m\u001b[0;34m=\u001b[0m\u001b[0mencoding\u001b[0m\u001b[0;34m,\u001b[0m \u001b[0mnewline\u001b[0m\u001b[0;34m=\u001b[0m\u001b[0mnewline\u001b[0m\u001b[0;34m)\u001b[0m\u001b[0;34m\u001b[0m\u001b[0m\n\u001b[0m\u001b[1;32m    263\u001b[0m \u001b[0;34m\u001b[0m\u001b[0m\n\u001b[1;32m    264\u001b[0m \u001b[0;34m\u001b[0m\u001b[0m\n",
      "\u001b[0;32m/software/python-3.7.0-el7-x86_64/lib/python3.7/site-packages/numpy/lib/_datasource.py\u001b[0m in \u001b[0;36mopen\u001b[0;34m(self, path, mode, encoding, newline)\u001b[0m\n\u001b[1;32m    616\u001b[0m                                       encoding=encoding, newline=newline)\n\u001b[1;32m    617\u001b[0m         \u001b[0;32melse\u001b[0m\u001b[0;34m:\u001b[0m\u001b[0;34m\u001b[0m\u001b[0m\n\u001b[0;32m--> 618\u001b[0;31m             \u001b[0;32mraise\u001b[0m \u001b[0mIOError\u001b[0m\u001b[0;34m(\u001b[0m\u001b[0;34m\"%s not found.\"\u001b[0m \u001b[0;34m%\u001b[0m \u001b[0mpath\u001b[0m\u001b[0;34m)\u001b[0m\u001b[0;34m\u001b[0m\u001b[0m\n\u001b[0m\u001b[1;32m    619\u001b[0m \u001b[0;34m\u001b[0m\u001b[0m\n\u001b[1;32m    620\u001b[0m \u001b[0;34m\u001b[0m\u001b[0m\n",
      "\u001b[0;31mOSError\u001b[0m: ../../Simulated/1000G_Mosaic/TSI5/lambda_rc1.0/ch3_4cm/output/iid0/chr3/refs.csv not found."
     ]
    }
   ],
   "source": [
    "posterior, recoMap, target, refHaps, numSnps = load_data(basefolder = \"../../Simulated/1000G_Mosaic/TSI5/lambda_rc1.0/ch3_4cm/output/iid0/chr3/\")"
   ]
  },
  {
   "cell_type": "code",
   "execution_count": 7,
   "metadata": {},
   "outputs": [],
   "source": [
    "myRoh = sloppyROH (recoMap, target, refHaps)"
   ]
  },
  {
   "cell_type": "code",
   "execution_count": 9,
   "metadata": {},
   "outputs": [
    {
     "name": "stdout",
     "output_type": "stream",
     "text": [
      "(38032,)\n"
     ]
    }
   ],
   "source": [
    "# change it into counts per snp and fraction of that alt\n",
    "countsPerSnp = numpy.sum (target, axis=0)\n",
    "print (countsPerSnp.shape)"
   ]
  },
  {
   "cell_type": "code",
   "execution_count": 6,
   "metadata": {},
   "outputs": [
    {
     "name": "stdout",
     "output_type": "stream",
     "text": [
      "0\n",
      "10000\n",
      "20000\n",
      "30000\n"
     ]
    }
   ],
   "source": [
    "# first make a dict that tells you which SNPs fall in a window around the focal SNP\n",
    "windowSize = 0.001\n",
    "neighborhood = {}\n",
    "for p in range(numSnps):\n",
    "    # debug print\n",
    "    if (p % 10000 == 0):\n",
    "        print (p)\n",
    "    # the map relative to snp p\n",
    "    relativeMap = map - map[p]\n",
    "    # the indices of the snps that are in the window around p\n",
    "    themIndices = numpy.nonzero(abs(relativeMap) < windowSize)\n",
    "    neighborhood[p] = themIndices"
   ]
  },
  {
   "cell_type": "code",
   "execution_count": 7,
   "metadata": {},
   "outputs": [],
   "source": [
    "# figure out the agreement between referneces and target\n",
    "# how many reads agree with reference alleles?\n",
    "refAgree = (1-refHaps) * target[0,:]\n",
    "# how many reads agree with alternative alleles?\n",
    "altAgree = refHaps * target[1,:]\n",
    "# the total agreement at each SNP\n",
    "totalAgree = refAgree + altAgree"
   ]
  },
  {
   "cell_type": "code",
   "execution_count": 19,
   "metadata": {},
   "outputs": [
    {
     "name": "stdout",
     "output_type": "stream",
     "text": [
      "0\n",
      "10000\n",
      "20000\n",
      "30000\n"
     ]
    }
   ],
   "source": [
    "# now compute the number for every snp using the neighborhoods\n",
    "sloppyROH = numpy.zeros(numSnps)\n",
    "for p in range(numSnps):\n",
    "    # debug print\n",
    "    if (p % 10000 == 0):\n",
    "        print (p)\n",
    "    # get your window\n",
    "    daHood = neighborhood[p]\n",
    "    # total number of reads in this window\n",
    "    totalReads = numpy.sum(countsPerSnp[daHood])\n",
    "    # get the agreement with ref haps in this window\n",
    "    neighborAgreePerSnp = totalAgree[:,daHood]\n",
    "    # total agreement with each ref hap in this window\n",
    "    totalNeighborAgree = numpy.sum (neighborAgreePerSnp, axis=2)\n",
    "    # relative to count number in window\n",
    "    relativeNeighborAgree = totalNeighborAgree / totalReads\n",
    "    # and store the max\n",
    "    sloppyROH[p] = numpy.max (relativeNeighborAgree)"
   ]
  },
  {
   "cell_type": "code",
   "execution_count": 8,
   "metadata": {},
   "outputs": [],
   "source": [
    "hets = (target[0,:]>0) * (target[1,:]>0)"
   ]
  },
  {
   "cell_type": "code",
   "execution_count": 9,
   "metadata": {},
   "outputs": [],
   "source": [
    "th = numpy.min(myRoh) + 0.9 * (numpy.max(myRoh) - numpy.min(myRoh))"
   ]
  },
  {
   "cell_type": "code",
   "execution_count": 20,
   "metadata": {},
   "outputs": [
    {
     "data": {
      "text/plain": [
       "[<matplotlib.lines.Line2D at 0x7fd538133470>,\n",
       " <matplotlib.lines.Line2D at 0x7fd538133668>,\n",
       " <matplotlib.lines.Line2D at 0x7fd5381339b0>]"
      ]
     },
     "execution_count": 20,
     "metadata": {},
     "output_type": "execute_result"
    },
    {
     "data": {
      "image/png": "[encoded data removed]",
      "text/plain": [
       "<Figure size 1152x288 with 1 Axes>"
      ]
     },
     "metadata": {
      "needs_background": "light"
     },
     "output_type": "display_data"
    }
   ],
   "source": [
    "daRange = numpy.arange(2000,4000)\n",
    "plt.figure (figsize=(16,4))\n",
    "# plt.plot (recoMap[daRange]*100, 1-numpy.exp(posterior[daRange]), recoMap[daRange]*100, myRoh[daRange])\n",
    "# plt.plot (recoMap[daRange]*100, 1-numpy.exp(posterior[daRange]), recoMap[daRange]*100, (hets[daRange]-0.1)*1.2, \"o\")\n",
    "# plt.plot (recoMap[daRange]*100, 1-numpy.exp(posterior[daRange])>0.8, recoMap[daRange]*100, (myRoh > th)[daRange])\n",
    "plt.plot (recoMap[daRange]*100, 1-numpy.exp(posterior[daRange])>0.8, recoMap[daRange]*100, (myRoh > th)[daRange], recoMap[daRange]*100, (hets[daRange]-0.1)*1.2, \"o\")\n",
    "# plt.plot (recoMap[daRange]*100, 1-numpy.exp(posterior[daRange])>0.8, recoMap[daRange]*100, (myRoh > th)[daRange])\n"
   ]
  },
  {
   "cell_type": "code",
   "execution_count": 21,
   "metadata": {},
   "outputs": [
    {
     "data": {
      "text/plain": [
       "array([[1.        , 0.69542516],\n",
       "       [0.69542516, 1.        ]])"
      ]
     },
     "execution_count": 21,
     "metadata": {},
     "output_type": "execute_result"
    }
   ],
   "source": [
    "numpy.corrcoef (1-numpy.exp(posterior),myRoh)"
   ]
  }
 ],
 "metadata": {
  "kernelspec": {
   "display_name": "Python 3",
   "language": "python",
   "name": "python3"
  },
  "language_info": {
   "codemirror_mode": {
    "name": "ipython",
    "version": 3
   },
   "file_extension": ".py",
   "mimetype": "text/x-python",
   "name": "python",
   "nbconvert_exporter": "python",
   "pygments_lexer": "ipython3",
   "version": "3.7.0"
  }
 },
 "nbformat": 4,
 "nbformat_minor": 2
}
