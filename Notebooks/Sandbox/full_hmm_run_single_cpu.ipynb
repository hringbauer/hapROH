{
 "cells": [
  {
   "cell_type": "markdown",
   "metadata": {},
   "source": [
    "# Test a Full Run on a single CPU\n",
    "Goal: Test Code (after updates / rewrites)"
   ]
  },
  {
   "cell_type": "code",
   "execution_count": 1,
   "metadata": {},
   "outputs": [
    {
     "name": "stdout",
     "output_type": "stream",
     "text": [
      "VioletQueen\n",
      "/home/harald/git/HAPSBURG\n",
      "CPU Count: 4\n"
     ]
    }
   ],
   "source": [
    "import numpy as np\n",
    "import os as os\n",
    "import sys as sys\n",
    "import multiprocessing as mp\n",
    "import pandas as pd\n",
    "import socket\n",
    "\n",
    "socket_name = socket.gethostname()\n",
    "print(socket_name)\n",
    "if socket_name == \"VioletQueen\":\n",
    "    path = \"/home/harald/git/HAPSBURG/\"   # The Path on Harald's machine\n",
    "elif socket_name.startswith(\"midway2\"):\n",
    "    print(\"Midway jnovmbre partition detected.\")\n",
    "    path = \"/project/jnovembre/hringbauer/HAPSBURG/\"  # The Path on Midway Cluster\n",
    "else: \n",
    "    raise RuntimeWarning(\"Not compatible machine. Check!!\")\n",
    "\n",
    "os.chdir(path)  # Set the right Path (in line with Atom default)\n",
    "sys.path.append(\"./Python3/\")  # Since now we are in the Root Directory\n",
    "from hmm_inference import HMM_Analyze   # Do not move. Should be after sys.path..\n",
    "#sys.path.append(\"./Python3/create1000G_Mosaic/\")  # Since now we are in the Root Directory\n",
    "#from createMosaicsMulti import Mosaic_1000G_Multi  # Import the object that can create the Multiruns\n",
    "\n",
    "print(os.getcwd()) # Show the current working directory. Should be HAPSBURG/Notebooks/ParallelRuns\n",
    "print(f\"CPU Count: {mp.cpu_count()}\")"
   ]
  },
  {
   "cell_type": "code",
   "execution_count": 2,
   "metadata": {},
   "outputs": [],
   "source": [
    "def analyze_individual(iid, ch=3, n_ref=503, save=True, save_fp=False,\n",
    "                       path_mosaic=\"./Simulated/1000G_Mosaic/TSI/ch3_5cm/\",\n",
    "                       exclude_pops=[\"TSI\", ], prefix_out=\"\", \n",
    "                       roh_in=1, roh_out=10, roh_jump=100, e_rate=0.001, \n",
    "                       destroy_phase=True, clean_up=False, \n",
    "                       e_model=\"haploid\", p_model=\"MosaicHDF5\"):\n",
    "    \"\"\"Run the analysis for one individual and chromosome.\n",
    "    Wrapper for HMM Class\"\"\"\n",
    "    \n",
    "    ### Create Folder if needed, and pipe output if wanted\n",
    "    if not os.path.exists(path_mosaic):\n",
    "        raise RuntimeError(f\"Path {path_mosaic} not Found. Check!\")\n",
    "\n",
    "    ### Do the full HMM Analysis\n",
    "    hmm = HMM_Analyze(cython=2, p_model=p_model, e_model=e_model,\n",
    "                      manual_load=True, save=save, save_fp=save_fp)  # diploid_gt for analysis of dpld.\n",
    "\n",
    "    ### Load and prepare the pre-processing Model\n",
    "    hmm.load_preprocessing_model()              # Load the preprocessing Model\n",
    "    hmm.p_obj.set_folder(path_mosaic)         # Set the Folder\n",
    "    hmm.p_obj.set_params(destroy_phase=destroy_phase, prefix_out_data=prefix_out,\n",
    "                        excluded=exclude_pops)\n",
    "    \n",
    "    ### DELETE when run for with European Reference!!\n",
    "    #hmm.p_obj.set_params(h5_path1000g = \"./Data/1000Genomes/HDF5/1240kHDF5/all1240/chr\", \n",
    "    #                     meta_path_ref = \"./Data/1000Genomes/Individuals/meta_df_all.csv\")\n",
    "    \n",
    "    hmm.load_data(iid=iid, ch=ch, n_ref=n_ref)  # Load the actual Data\n",
    "    \n",
    "    ### Emission and Transition Model\n",
    "    hmm.load_secondary_objects()\n",
    "    \n",
    "    ### Set the Parameters\n",
    "    hmm.t_obj.set_params(roh_in=roh_in, roh_out=roh_out, roh_jump=roh_jump)\n",
    "    hmm.e_obj.set_params(e_rate=e_rate)\n",
    "    \n",
    "    #hmm.calc_viterbi_path(save=save)           # Calculate the Viterbi Path.\n",
    "    hmm.calc_posterior(save=save)              # Calculate the Posterior.\n",
    "    hmm.post_processing(save=save)             # Do the Post-Processing.\n",
    "    \n",
    "    if clean_up == True:\n",
    "        hmm.post_obj.clean_up()   # Delete all but ROH csvs\n",
    "    \n",
    "    print(f\"Analysis of {iid} and Chr. {ch} successfully concluded!\")"
   ]
  },
  {
   "cell_type": "code",
   "execution_count": 6,
   "metadata": {
    "scrolled": true
   },
   "outputs": [
    {
     "name": "stdout",
     "output_type": "stream",
     "text": [
      "Using Low-Mem Cython Linear Speed Up.\n",
      "Loaded Pre Processing Model: MosaicHDF5\n",
      "Loading Individual: iid0\n",
      "\n",
      "Loaded 77652 variants\n",
      "Loaded 20 individuals\n",
      "HDF5 loaded from ./Simulated/1000G_Mosaic/TSI/ch3_5cm/data.h5\n",
      "\n",
      "Loaded 77652 variants\n",
      "Loaded 503 individuals\n",
      "HDF5 loaded from ./Data/1000Genomes/HDF5/1240kHDF5/Eur1240chr3.hdf5\n",
      "\n",
      "Intersection on Positions: 77652\n",
      "Nr of Matching Refs: 77652 / 77652\n",
      "Full Intersection Ref/Alt Identical: 77652 / 77652\n",
      "396 / 503 Individuals included in Reference\n",
      "Extraction of 792 Haplotypes Complete!\n",
      "Markers called 77652 / 77652\n",
      "Successfully saved to: ./Simulated/1000G_Mosaic/TSI/ch3_5cm/output/iid0/chr3/test/\n",
      "Shuffling phase of target...\n",
      "Successfully loaded Data from: ./Simulated/1000G_Mosaic/TSI/ch3_5cm/output/iid0/chr3/test/\n",
      "Loaded Emission Model: haploid\n",
      "Loaded Transition Model: model\n",
      "Loaded Post Processing Model: Standard\n",
      "Minimum Genetic Map: 0.0000\n",
      "Maximum Genetic Map: 2.2326\n",
      "Gaps bigger than 0.1 cM: 214\n",
      "Maximum Gap: 0.2348 cM\n",
      "Loaded Transition and Emission Matrix:\n",
      "(3, 3)\n",
      "(793, 77652)\n",
      "Loaded Observations:\n",
      "(2, 77652)\n",
      "Memory Usage: 636.260352 mB\n",
      "Reference Number: 792\n",
      "Total Log likelihood: -24802.754\n",
      "Memory Usage: 636.260352 mB\n",
      "Finished Calculation State Posteriors\n",
      "Saved Zero State Posterior to ./Simulated/1000G_Mosaic/TSI/ch3_5cm/output/iid0/chr3/test/.\n",
      "Successfully loaded for PP. from ./Simulated/1000G_Mosaic/TSI/ch3_5cm/output/iid0/chr3/test/\n",
      "Fraction Markers in ROH: 0.3995\n",
      "Merged n=1 gaps < 0.01 M\n",
      "Called n=5 ROH Blocks > 1.0 cM\n",
      "Longest Block: 5.568\n",
      "Successfully saved to ./Simulated/1000G_Mosaic/TSI/ch3_5cm/output/iid0/chr3/test/roh.csv\n",
      "Analysis of iid0 and Chr. 3 successfully concluded!\n",
      "CPU times: user 26.8 s, sys: 603 ms, total: 27.4 s\n",
      "Wall time: 27.3 s\n"
     ]
    }
   ],
   "source": [
    "%%time\n",
    "analyze_individual(iid=\"iid0\", ch=3, n_ref=500, save=True, save_fp=False,\n",
    "                   path_mosaic=\"./Simulated/1000G_Mosaic/TSI/ch3_5cm/\",\n",
    "                   exclude_pops=[\"TSI\", ], prefix_out=\"test/\", \n",
    "                   roh_in=100, roh_out=100, roh_jump=300, e_rate=0.001,\n",
    "                   destroy_phase=True, clean_up=False)"
   ]
  },
  {
   "cell_type": "markdown",
   "metadata": {},
   "source": [
    "## Run it for diploid Genotype Data"
   ]
  },
  {
   "cell_type": "code",
   "execution_count": 3,
   "metadata": {},
   "outputs": [
    {
     "name": "stdout",
     "output_type": "stream",
     "text": [
      "Using Low-Mem Cython Linear Speed Up.\n",
      "Loaded Pre Processing Model: MosaicHDF5\n",
      "Loading Individual: iid0\n",
      "\n",
      "Loaded 77652 variants\n",
      "Loaded 20 individuals\n",
      "HDF5 loaded from ./Simulated/1000G_Mosaic/TSI/ch3_5cm/data.h5\n",
      "\n",
      "Loaded 77652 variants\n",
      "Loaded 503 individuals\n",
      "HDF5 loaded from ./Data/1000Genomes/HDF5/1240kHDF5/Eur1240chr3.hdf5\n",
      "\n",
      "Intersection on Positions: 77652\n",
      "Nr of Matching Refs: 77652 / 77652\n",
      "Full Intersection Ref/Alt Identical: 77652 / 77652\n",
      "396 / 503 Individuals included in Reference\n",
      "Extraction of 792 Haplotypes Complete!\n",
      "Markers called 77652 / 77652\n",
      "Successfully saved to: ./Simulated/1000G_Mosaic/TSI/ch3_5cm/output/iid0/chr3/testDIPLOID/\n",
      "Successfully loaded Data from: ./Simulated/1000G_Mosaic/TSI/ch3_5cm/output/iid0/chr3/testDIPLOID/\n",
      "Loaded Emission Model: diploid_gt\n",
      "Loaded Transition Model: model\n",
      "Loaded Post Processing Model: Standard\n",
      "Minimum Genetic Map: 0.0000\n",
      "Maximum Genetic Map: 2.2326\n",
      "Gaps bigger than 0.1 cM: 214\n",
      "Maximum Gap: 0.2348 cM\n",
      "Loaded Transition and Emission Matrix:\n",
      "(3, 3)\n",
      "(793, 77652)\n",
      "Loaded Observations:\n",
      "(2, 77652)\n",
      "Memory Usage: 676.294656 mB\n",
      "Reference Number: 792\n",
      "Total Log likelihood: -36129.059\n",
      "Memory Usage: 686.526464 mB\n",
      "Finished Calculation State Posteriors\n",
      "Saved Zero State Posterior to ./Simulated/1000G_Mosaic/TSI/ch3_5cm/output/iid0/chr3/testDIPLOID/.\n",
      "Successfully loaded for PP. from ./Simulated/1000G_Mosaic/TSI/ch3_5cm/output/iid0/chr3/testDIPLOID/\n",
      "Fraction Markers in ROH: 0.3636\n",
      "Merged n=0 gaps < 0.01 M\n",
      "Called n=5 ROH Blocks > 1.0 cM\n",
      "Longest Block: 5.435\n",
      "Successfully saved to ./Simulated/1000G_Mosaic/TSI/ch3_5cm/output/iid0/chr3/testDIPLOID/roh.csv\n",
      "Analysis of iid0 and Chr. 3 successfully concluded!\n",
      "CPU times: user 27.3 s, sys: 2.81 s, total: 30.1 s\n",
      "Wall time: 30.1 s\n"
     ]
    }
   ],
   "source": [
    "%%time\n",
    "analyze_individual(iid=\"iid0\", ch=3, n_ref=500, save=True, save_fp=False,\n",
    "                   path_mosaic=\"./Simulated/1000G_Mosaic/TSI/ch3_5cm/\",\n",
    "                   exclude_pops=[\"TSI\", ], prefix_out=\"testDIPLOID/\", \n",
    "                   roh_in=100, roh_out=100, roh_jump=300, e_rate=0.001,\n",
    "                   destroy_phase=False, clean_up=False, e_model=\"diploid_gt\")"
   ]
  },
  {
   "cell_type": "code",
   "execution_count": null,
   "metadata": {},
   "outputs": [],
   "source": []
  }
 ],
 "metadata": {
  "kernelspec": {
   "display_name": "Python 3",
   "language": "python",
   "name": "python3"
  },
  "language_info": {
   "codemirror_mode": {
    "name": "ipython",
    "version": 3
   },
   "file_extension": ".py",
   "mimetype": "text/x-python",
   "name": "python",
   "nbconvert_exporter": "python",
   "pygments_lexer": "ipython3",
   "version": "3.6.8"
  }
 },
 "nbformat": 4,
 "nbformat_minor": 2
}
