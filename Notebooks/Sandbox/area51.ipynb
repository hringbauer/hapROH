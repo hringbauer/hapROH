{
 "cells": [
  {
   "cell_type": "markdown",
   "metadata": {},
   "source": [
    "# Notebook to test random Code chunks.\n",
    "The ultimate Sandbox"
   ]
  },
  {
   "cell_type": "code",
   "execution_count": 1,
   "metadata": {},
   "outputs": [],
   "source": [
    "import numpy as np\n",
    "import os\n",
    "import psutil"
   ]
  },
  {
   "cell_type": "code",
   "execution_count": 3,
   "metadata": {},
   "outputs": [
    {
     "name": "stdout",
     "output_type": "stream",
     "text": [
      "Deleted ../../Simulated/1000G_Mosaic/TSI/ch3_3cm/output/iid1/chr3/readcounts.csv\n",
      "Deleted ../../Simulated/1000G_Mosaic/TSI/ch3_3cm/output/iid1/chr3/posterior_cm.png\n",
      "Deleted ../../Simulated/1000G_Mosaic/TSI/ch3_3cm/output/iid1/chr3/hap.csv\n",
      "Deleted ../../Simulated/1000G_Mosaic/TSI/ch3_3cm/output/iid1/chr3/posterior0.csv\n",
      "Deleted ../../Simulated/1000G_Mosaic/TSI/ch3_3cm/output/iid1/chr3/viterbi_path.csv\n",
      "Deleted ../../Simulated/1000G_Mosaic/TSI/ch3_3cm/output/iid1/chr3/map.csv\n",
      "Deleted ../../Simulated/1000G_Mosaic/TSI/ch3_3cm/output/iid1/chr3/posterior_cm.pdf\n",
      "CPU times: user 2.76 ms, sys: 0 ns, total: 2.76 ms\n",
      "Wall time: 7.21 ms\n"
     ]
    }
   ],
   "source": [
    "%%time\n",
    "keep_files = [\"roh.csv\", \"roh_gt.csv\"]\n",
    "folder = \"../../Simulated/1000G_Mosaic/TSI/ch3_3cm/output/iid1/chr3/\"\n",
    "\n",
    "for the_file in os.listdir(folder):\n",
    "    file_path = os.path.join(folder, the_file)\n",
    "\n",
    "    if os.path.isfile(file_path) and (the_file not in keep_files):\n",
    "        os.unlink(file_path)   # Delete the File\n",
    "        print(f\"Deleted {file_path}\")"
   ]
  },
  {
   "cell_type": "code",
   "execution_count": null,
   "metadata": {},
   "outputs": [],
   "source": []
  }
 ],
 "metadata": {
  "kernelspec": {
   "display_name": "Python 3",
   "language": "python",
   "name": "python3"
  },
  "language_info": {
   "codemirror_mode": {
    "name": "ipython",
    "version": 3
   },
   "file_extension": ".py",
   "mimetype": "text/x-python",
   "name": "python",
   "nbconvert_exporter": "python",
   "pygments_lexer": "ipython3",
   "version": "3.6.8"
  }
 },
 "nbformat": 4,
 "nbformat_minor": 2
}
