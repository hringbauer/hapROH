{
 "cells": [
  {
   "cell_type": "markdown",
   "metadata": {},
   "source": [
    "# Notebook to test whether D. Reichs big Eigenstrat File can be loaded"
   ]
  },
  {
   "cell_type": "code",
   "execution_count": 2,
   "metadata": {},
   "outputs": [
    {
     "name": "stdout",
     "output_type": "stream",
     "text": [
      "midway2-0402.rcc.local\n",
      "Midway jnovmbre partition detected.\n",
      "/project2/jnovembre/hringbauer/HAPSBURG\n",
      "CPU Count: 28\n"
     ]
    }
   ],
   "source": [
    "import numpy as np\n",
    "import pandas as pd\n",
    "import os as os\n",
    "import sys as sys\n",
    "import multiprocessing as mp\n",
    "import socket\n",
    "\n",
    "### Pick the right path (whether on cluster or at home)\n",
    "socket_name = socket.gethostname()\n",
    "print(socket_name)\n",
    "if socket_name == \"VioletQueen\":\n",
    "    path = \"/home/harald/git/HAPSBURG/\"   # The Path on Harald's machine\n",
    "elif socket_name.startswith(\"midway2\"):\n",
    "    print(\"Midway jnovmbre partition detected.\")\n",
    "    path = \"/project2/jnovembre/hringbauer/HAPSBURG/\"  # The Path on Midway Cluster\n",
    "else: \n",
    "    raise RuntimeWarning(\"Not compatible machine. Check!!\")\n",
    "    \n",
    "os.chdir(path)  # Set the right Path (in line with Atom default)\n",
    "\n",
    "sys.path.append(\"./Python3/\")  # Since now we are in the Root Directory\n",
    "from hmm_inference import HMM_Analyze   # Do not move. Should be after sys.path..\n",
    "#sys.path.append(\"./Python3/create1000G_Mosaic/\")  # Since now we are in the Root Directory\n",
    "#from createMosaicsMulti import Mosaic_1000G_Multi  # Import the object that can create the Multiruns\n",
    "\n",
    "print(os.getcwd()) # Show the current working directory. Should be HAPSBURG/Notebooks/ParallelRuns\n",
    "print(f\"CPU Count: {mp.cpu_count()}\")"
   ]
  },
  {
   "cell_type": "markdown",
   "metadata": {},
   "source": [
    "# Direct Code Testing Playgroud\n",
    "(For Python package test see below)"
   ]
  },
  {
   "cell_type": "code",
   "execution_count": 2,
   "metadata": {},
   "outputs": [],
   "source": [
    "### Base Path\n",
    "folder = \"./Data/Olalde19/Olalde_et_al_genotypes\"\n",
    "#folder = \"./Data/Freilich20/AncCroatia1240KallSNPs\""
   ]
  },
  {
   "cell_type": "markdown",
   "metadata": {},
   "source": [
    "### Load the SNP File"
   ]
  },
  {
   "cell_type": "code",
   "execution_count": 7,
   "metadata": {},
   "outputs": [
    {
     "name": "stdout",
     "output_type": "stream",
     "text": [
      "Loaded 1233013 SNPs\n",
      "CPU times: user 5.6 s, sys: 320 ms, total: 5.92 s\n",
      "Wall time: 5.93 s\n"
     ]
    }
   ],
   "source": [
    "%%time\n",
    "# On Harald's machine: About 7.14s\n",
    "rsnp = np.loadtxt(folder + \".snp\", dtype=\"str\") \n",
    "print(f\"Loaded {len(rsnp)} SNPs\")"
   ]
  },
  {
   "cell_type": "markdown",
   "metadata": {},
   "source": [
    "## Load the Geno File"
   ]
  },
  {
   "cell_type": "code",
   "execution_count": 57,
   "metadata": {},
   "outputs": [
    {
     "name": "stdout",
     "output_type": "stream",
     "text": [
      "278\n",
      "1233013\n",
      "CPU times: user 2.15 s, sys: 483 ms, total: 2.64 s\n",
      "Wall time: 2.64 s\n"
     ]
    }
   ],
   "source": [
    "%%time\n",
    "geno_file = open(folder+\".geno\", \"rb\")\n",
    "header=geno_file.read(20)         #Ignoring hashes\n",
    "#if header.split()[0]!=\"GENO\":\n",
    "#    raise Exception(\"This does not look like a packedancestrymap file\")\n",
    "nind,nsnp=[int(x) for x in header.split()[1:3]]        \n",
    "nind=nind\n",
    "nsnp=nsnp\n",
    "rlen=max(48,int(np.ceil(nind*2/8)))    #assuming sizeof(char)=1 here\n",
    "geno_file.seek(rlen)         #set pointer to start of genotypes\n",
    "\n",
    "geno=np.fromfile(folder+\".geno\", dtype='uint8')[rlen:] #without header\n",
    "geno.shape=(nsnp, rlen)\n",
    "geno=np.unpackbits(geno, axis=1)[:,:(2*nind)]\n",
    "geno=2*geno[:,::2]+geno[:,1::2]\n",
    "#geno=geno[:,:]\n",
    "geno[geno==3]=9                       #set missing values\n",
    "geno = geno[:,0]\n",
    "\n",
    "print(nind)\n",
    "print(nsnp)"
   ]
  },
  {
   "cell_type": "markdown",
   "metadata": {},
   "source": [
    "## Run it piece by piece\n",
    "(for debugging)"
   ]
  },
  {
   "cell_type": "code",
   "execution_count": 58,
   "metadata": {},
   "outputs": [
    {
     "name": "stdout",
     "output_type": "stream",
     "text": [
      "CPU times: user 1.18 ms, sys: 0 ns, total: 1.18 ms\n",
      "Wall time: 1.21 ms\n"
     ]
    }
   ],
   "source": [
    "%%time\n",
    "geno_file = open(folder+\".geno\", \"rb\")\n",
    "header=geno_file.read(20)         #Ignoring hashes\n",
    "nind,nsnp=[int(x) for x in header.split()[1:3]]        \n",
    "nind=nind\n",
    "nsnp=nsnp\n",
    "rlen=max(48,int(np.ceil(nind*2/8)))    #assuming sizeof(char)=1 here"
   ]
  },
  {
   "cell_type": "code",
   "execution_count": 59,
   "metadata": {},
   "outputs": [
    {
     "data": {
      "text/plain": [
       "278"
      ]
     },
     "execution_count": 59,
     "metadata": {},
     "output_type": "execute_result"
    }
   ],
   "source": [
    "nind"
   ]
  },
  {
   "cell_type": "code",
   "execution_count": 60,
   "metadata": {},
   "outputs": [
    {
     "data": {
      "text/plain": [
       "70"
      ]
     },
     "execution_count": 60,
     "metadata": {},
     "output_type": "execute_result"
    }
   ],
   "source": [
    "rlen"
   ]
  },
  {
   "cell_type": "code",
   "execution_count": 61,
   "metadata": {},
   "outputs": [
    {
     "name": "stdout",
     "output_type": "stream",
     "text": [
      "(1233013, 70)\n",
      "CPU times: user 0 ns, sys: 148 ms, total: 148 ms\n",
      "Wall time: 151 ms\n"
     ]
    }
   ],
   "source": [
    "%%time\n",
    "geno=np.fromfile(folder+\".geno\", dtype='uint8')[rlen:] #without header\n",
    "geno.shape=(nsnp, rlen)\n",
    "print(geno.shape)"
   ]
  },
  {
   "cell_type": "markdown",
   "metadata": {},
   "source": [
    "### Unpack only the first couple of individuals\n",
    "(set by n unload)"
   ]
  },
  {
   "cell_type": "code",
   "execution_count": 62,
   "metadata": {},
   "outputs": [
    {
     "name": "stdout",
     "output_type": "stream",
     "text": [
      "2\n"
     ]
    }
   ],
   "source": [
    "n_sub =8\n",
    "rlen_sub = int(np.ceil(n_sub*2/8))\n",
    "print(rlen_sub)"
   ]
  },
  {
   "cell_type": "code",
   "execution_count": 63,
   "metadata": {},
   "outputs": [
    {
     "name": "stdout",
     "output_type": "stream",
     "text": [
      "(1233013, 8)\n"
     ]
    }
   ],
   "source": [
    "geno_sub = geno[:,:rlen_sub]\n",
    "geno_sub=np.unpackbits(geno_sub, axis=1)[:,:(2*n_sub)]\n",
    "geno_sub=2*geno_sub[:,::2]+geno_sub[:,1::2]\n",
    "#geno=geno[:,:]\n",
    "geno_sub[geno_sub==3]=9                       #set missing values\n",
    "#geno_sub = geno_sub[:,0]\n",
    "\n",
    "print(np.shape(geno_sub))"
   ]
  },
  {
   "cell_type": "code",
   "execution_count": 64,
   "metadata": {},
   "outputs": [
    {
     "data": {
      "text/plain": [
       "1051699"
      ]
     },
     "execution_count": 64,
     "metadata": {},
     "output_type": "execute_result"
    }
   ],
   "source": [
    "np.sum(geno_sub[:,6]!=9)"
   ]
  },
  {
   "cell_type": "markdown",
   "metadata": {},
   "source": [
    "# Test the Python Support Package"
   ]
  },
  {
   "cell_type": "code",
   "execution_count": 3,
   "metadata": {},
   "outputs": [],
   "source": [
    "sys.path.append(\"./PackagesSupport/loadEigenstrat/\")  # Since now we are in the Root Directory\n",
    "from loadEigenstrat import EigenstratLoad, load_eigenstrat"
   ]
  },
  {
   "cell_type": "code",
   "execution_count": 4,
   "metadata": {},
   "outputs": [
    {
     "name": "stdout",
     "output_type": "stream",
     "text": [
      "3 Eigenstrat Files with 28 Individuals and 1233013 SNPs\n",
      "CPU times: user 6.58 s, sys: 437 ms, total: 7.02 s\n",
      "Wall time: 7.58 s\n"
     ]
    }
   ],
   "source": [
    "%%time\n",
    "### Packed\n",
    "#basepath = \"./Data/Olalde19/Olalde_et_al_genotypes\"\n",
    "#es = EigenstratLoad(base_path = basepath, sep=\"\\t\")\n",
    "\n",
    "### Unpacked\n",
    "basepath = \"./Data/Freilich20/AncCroatia1240KallSNPs\"\n",
    "es = load_eigenstrat(basepath, output=True, \n",
    "                     sep=r\"\\t\", packed=False)"
   ]
  },
  {
   "cell_type": "code",
   "execution_count": 5,
   "metadata": {},
   "outputs": [
    {
     "data": {
      "text/html": [
       "<div>\n",
       "<style scoped>\n",
       "    .dataframe tbody tr th:only-of-type {\n",
       "        vertical-align: middle;\n",
       "    }\n",
       "\n",
       "    .dataframe tbody tr th {\n",
       "        vertical-align: top;\n",
       "    }\n",
       "\n",
       "    .dataframe thead th {\n",
       "        text-align: right;\n",
       "    }\n",
       "</style>\n",
       "<table border=\"1\" class=\"dataframe\">\n",
       "  <thead>\n",
       "    <tr style=\"text-align: right;\">\n",
       "      <th></th>\n",
       "      <th>SNP</th>\n",
       "      <th>chr</th>\n",
       "      <th>map</th>\n",
       "      <th>pos</th>\n",
       "      <th>ref</th>\n",
       "      <th>alt</th>\n",
       "    </tr>\n",
       "  </thead>\n",
       "  <tbody>\n",
       "    <tr>\n",
       "      <th>0</th>\n",
       "      <td>1_752566</td>\n",
       "      <td>1</td>\n",
       "      <td>0</td>\n",
       "      <td>752566</td>\n",
       "      <td>G</td>\n",
       "      <td>A</td>\n",
       "    </tr>\n",
       "    <tr>\n",
       "      <th>1</th>\n",
       "      <td>1_776546</td>\n",
       "      <td>1</td>\n",
       "      <td>0</td>\n",
       "      <td>776546</td>\n",
       "      <td>A</td>\n",
       "      <td>G</td>\n",
       "    </tr>\n",
       "    <tr>\n",
       "      <th>2</th>\n",
       "      <td>1_832918</td>\n",
       "      <td>1</td>\n",
       "      <td>0</td>\n",
       "      <td>832918</td>\n",
       "      <td>T</td>\n",
       "      <td>C</td>\n",
       "    </tr>\n",
       "  </tbody>\n",
       "</table>\n",
       "</div>"
      ],
      "text/plain": [
       "        SNP  chr  map     pos ref alt\n",
       "0  1_752566    1    0  752566   G   A\n",
       "1  1_776546    1    0  776546   A   G\n",
       "2  1_832918    1    0  832918   T   C"
      ]
     },
     "execution_count": 5,
     "metadata": {},
     "output_type": "execute_result"
    }
   ],
   "source": [
    "es.df_snp.head(3)"
   ]
  },
  {
   "cell_type": "code",
   "execution_count": 6,
   "metadata": {},
   "outputs": [
    {
     "data": {
      "text/html": [
       "<div>\n",
       "<style scoped>\n",
       "    .dataframe tbody tr th:only-of-type {\n",
       "        vertical-align: middle;\n",
       "    }\n",
       "\n",
       "    .dataframe tbody tr th {\n",
       "        vertical-align: top;\n",
       "    }\n",
       "\n",
       "    .dataframe thead th {\n",
       "        text-align: right;\n",
       "    }\n",
       "</style>\n",
       "<table border=\"1\" class=\"dataframe\">\n",
       "  <thead>\n",
       "    <tr style=\"text-align: right;\">\n",
       "      <th></th>\n",
       "      <th>iid</th>\n",
       "      <th>sex</th>\n",
       "      <th>cls</th>\n",
       "    </tr>\n",
       "  </thead>\n",
       "  <tbody>\n",
       "    <tr>\n",
       "      <th>0</th>\n",
       "      <td>JAG34</td>\n",
       "      <td>M</td>\n",
       "      <td>Croatia_Jagodnjak_MBA</td>\n",
       "    </tr>\n",
       "    <tr>\n",
       "      <th>1</th>\n",
       "      <td>JAG58</td>\n",
       "      <td>M</td>\n",
       "      <td>Croatia_Jagodnjak_MBA</td>\n",
       "    </tr>\n",
       "    <tr>\n",
       "      <th>2</th>\n",
       "      <td>JAG06</td>\n",
       "      <td>M</td>\n",
       "      <td>Croatia_Jagodnjak_MBA</td>\n",
       "    </tr>\n",
       "  </tbody>\n",
       "</table>\n",
       "</div>"
      ],
      "text/plain": [
       "     iid sex                    cls\n",
       "0  JAG34   M  Croatia_Jagodnjak_MBA\n",
       "1  JAG58   M  Croatia_Jagodnjak_MBA\n",
       "2  JAG06   M  Croatia_Jagodnjak_MBA"
      ]
     },
     "execution_count": 6,
     "metadata": {},
     "output_type": "execute_result"
    }
   ],
   "source": [
    "es.df_ind.head(3)"
   ]
  },
  {
   "cell_type": "code",
   "execution_count": 7,
   "metadata": {},
   "outputs": [
    {
     "name": "stdout",
     "output_type": "stream",
     "text": [
      "Avg. Coverage: 0.745962\n",
      "SNps covered: 919781\n",
      "Avg. Coverage: 0.618166\n",
      "SNps covered: 762207\n",
      "Avg. Coverage: 0.686809\n",
      "SNps covered: 846845\n"
     ]
    }
   ],
   "source": [
    "for i in range(3):\n",
    "    g = es.get_geno_i(i)\n",
    "    print(f\"Avg. Coverage: {1 - np.mean(g==3):.6f}\")\n",
    "    print(f\"SNps covered: {np.sum(g!=3)}\")"
   ]
  },
  {
   "cell_type": "code",
   "execution_count": 6,
   "metadata": {},
   "outputs": [
    {
     "name": "stdout",
     "output_type": "stream",
     "text": [
      "Avg. Coverage: 0.596029\n",
      "SNps covered: 734912\n"
     ]
    }
   ],
   "source": [
    "g = es.get_geno_i(5)\n",
    "print(f\"Avg. Coverage: {1-np.mean(g==3):.6f}\")\n",
    "print(f\"SNps covered: {np.sum(g!=3)}\")"
   ]
  },
  {
   "cell_type": "code",
   "execution_count": 8,
   "metadata": {},
   "outputs": [
    {
     "data": {
      "text/plain": [
       "(array(['A', 'G', 'T', ..., 'C', 'A', 'T'], dtype=object),\n",
       " array(['C', 'A', 'C', ..., 'T', 'G', 'G'], dtype=object))"
      ]
     },
     "execution_count": 8,
     "metadata": {},
     "output_type": "execute_result"
    }
   ],
   "source": [
    "es.give_ref_alt(3)"
   ]
  },
  {
   "cell_type": "code",
   "execution_count": 9,
   "metadata": {},
   "outputs": [],
   "source": [
    "gt = es.extract_snps(0, range(10))"
   ]
  },
  {
   "cell_type": "code",
   "execution_count": 10,
   "metadata": {},
   "outputs": [],
   "source": [
    "ps = es.give_positions(ch=3)"
   ]
  },
  {
   "cell_type": "code",
   "execution_count": 11,
   "metadata": {},
   "outputs": [
    {
     "data": {
      "text/plain": [
       "array([[ 1, -1,  0,  0,  1, -1,  1, -1, -1,  0],\n",
       "       [ 1, -1,  0,  0,  1, -1,  1, -1, -1,  0]], dtype=int8)"
      ]
     },
     "execution_count": 11,
     "metadata": {},
     "output_type": "execute_result"
    }
   ],
   "source": [
    "gt"
   ]
  },
  {
   "cell_type": "markdown",
   "metadata": {},
   "source": [
    "# Area 51"
   ]
  },
  {
   "cell_type": "markdown",
   "metadata": {},
   "source": [
    "### Test Loading Suzanne's data"
   ]
  },
  {
   "cell_type": "code",
   "execution_count": 55,
   "metadata": {},
   "outputs": [
    {
     "data": {
      "text/plain": [
       "(1233013, 6)"
      ]
     },
     "execution_count": 55,
     "metadata": {},
     "output_type": "execute_result"
    }
   ],
   "source": [
    "np.shape(df_snp)"
   ]
  },
  {
   "cell_type": "markdown",
   "metadata": {},
   "source": [
    "### Load Particular Individual"
   ]
  },
  {
   "cell_type": "code",
   "execution_count": null,
   "metadata": {},
   "outputs": [],
   "source": []
  }
 ],
 "metadata": {
  "kernelspec": {
   "display_name": "Python 3",
   "language": "python",
   "name": "python3"
  },
  "language_info": {
   "codemirror_mode": {
    "name": "ipython",
    "version": 3
   },
   "file_extension": ".py",
   "mimetype": "text/x-python",
   "name": "python",
   "nbconvert_exporter": "python",
   "pygments_lexer": "ipython3",
   "version": "3.6.9"
  }
 },
 "nbformat": 4,
 "nbformat_minor": 2
}
