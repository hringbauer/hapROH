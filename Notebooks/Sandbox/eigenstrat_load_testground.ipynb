{
 "cells": [
  {
   "cell_type": "markdown",
   "metadata": {},
   "source": [
    "# Notebook to test whether D. Reichs big Eigenstrat File can be loaded"
   ]
  },
  {
   "cell_type": "code",
   "execution_count": 2,
   "metadata": {},
   "outputs": [
    {
     "name": "stdout",
     "output_type": "stream",
     "text": [
      "compute-e-16-236.o2.rc.hms.harvard.edu\n",
      "HSM Computational partition detected.\n",
      "/n/groups/reich/hringbauer\n",
      "CPU Count: 28\n"
     ]
    }
   ],
   "source": [
    "import numpy as np\n",
    "import pandas as pd\n",
    "import os as os\n",
    "import sys as sys\n",
    "import multiprocessing as mp\n",
    "import socket\n",
    "\n",
    "### Pick the right path (whether on cluster or at home)\n",
    "socket_name = socket.gethostname()\n",
    "print(socket_name)\n",
    "if socket_name == \"VioletQueen\":\n",
    "    path = \"/home/harald/git/HAPSBURG/\"   # The Path on Harald's machine\n",
    "elif socket_name.startswith(\"midway2\"):\n",
    "    print(\"Midway jnovmbre partition detected.\")\n",
    "    path = \"/project2/jnovembre/hringbauer/HAPSBURG/\"  # The Path on Midway Cluster\n",
    "elif socket_name.startswith(\"compute-\"):\n",
    "    print(\"HSM Computational partition detected.\")\n",
    "    path = \"/n/groups/reich/hringbauer/\"  # The Path on Midway Cluster\n",
    "else: \n",
    "    raise RuntimeWarning(\"Not compatible machine. Check!!\")\n",
    "    \n",
    "os.chdir(path)  # Set the right Path (in line with Atom default)\n",
    "\n",
    "#from hmm_inference import HMM_Analyze   # Do not move. Should be after sys.path..\n",
    "#sys.path.append(\"./Python3/create1000G_Mosaic/\")  # Since now we are in the Root Directory\n",
    "#from createMosaicsMulti import Mosaic_1000G_Multi  # Import the object that can create the Multiruns\n",
    "\n",
    "print(os.getcwd()) # Show the current working directory. Should be HAPSBURG/Notebooks/ParallelRuns\n",
    "print(f\"CPU Count: {mp.cpu_count()}\")"
   ]
  },
  {
   "cell_type": "markdown",
   "metadata": {},
   "source": [
    "# Direct Code Testing Playgroud\n",
    "(For Python package test see below)"
   ]
  },
  {
   "cell_type": "code",
   "execution_count": 3,
   "metadata": {},
   "outputs": [],
   "source": [
    "### Base Path\n",
    "folder = \"./Data/Lars20/1240k_ForHarald\"\n",
    "#folder = \"./Data/Freilich20/AncCroatia1240KallSNPs\""
   ]
  },
  {
   "cell_type": "markdown",
   "metadata": {},
   "source": [
    "### Load the SNP File"
   ]
  },
  {
   "cell_type": "code",
   "execution_count": 4,
   "metadata": {},
   "outputs": [
    {
     "name": "stdout",
     "output_type": "stream",
     "text": [
      "Loaded 1233013 SNPs\n",
      "CPU times: user 9.53 s, sys: 359 ms, total: 9.89 s\n",
      "Wall time: 9.81 s\n"
     ]
    }
   ],
   "source": [
    "%%time\n",
    "# On Harald's machine: About 7.14s\n",
    "rsnp = np.loadtxt(folder + \".snp\", dtype=\"str\") \n",
    "print(f\"Loaded {len(rsnp)} SNPs\")"
   ]
  },
  {
   "cell_type": "code",
   "execution_count": 5,
   "metadata": {},
   "outputs": [
    {
     "data": {
      "text/plain": [
       "array([['rs3094315', '1', '0.007526', '752566', 'G', 'A'],\n",
       "       ['rs12124819', '1', '0.007765', '776546', 'A', 'G'],\n",
       "       ['rs28765502', '1', '0.008329', '832918', 'T', 'C'],\n",
       "       ...,\n",
       "       ['rs28628009', '24', '0.590331', '59033110', 'A', 'T'],\n",
       "       ['rs55686319', '24', '0.590331', '59033139', 'T', 'C'],\n",
       "       ['rs75089321', '24', '0.590332', '59033249', 'G', 'T']],\n",
       "      dtype='<U15')"
      ]
     },
     "execution_count": 5,
     "metadata": {},
     "output_type": "execute_result"
    }
   ],
   "source": [
    "rsnp"
   ]
  },
  {
   "cell_type": "markdown",
   "metadata": {},
   "source": [
    "## Load the Geno File"
   ]
  },
  {
   "cell_type": "code",
   "execution_count": 57,
   "metadata": {},
   "outputs": [
    {
     "name": "stdout",
     "output_type": "stream",
     "text": [
      "278\n",
      "1233013\n",
      "CPU times: user 2.15 s, sys: 483 ms, total: 2.64 s\n",
      "Wall time: 2.64 s\n"
     ]
    }
   ],
   "source": [
    "%%time\n",
    "geno_file = open(folder+\".geno\", \"rb\")\n",
    "header=geno_file.read(20)         #Ignoring hashes\n",
    "#if header.split()[0]!=\"GENO\":\n",
    "#    raise Exception(\"This does not look like a packedancestrymap file\")\n",
    "nind,nsnp=[int(x) for x in header.split()[1:3]]        \n",
    "nind=nind\n",
    "nsnp=nsnp\n",
    "rlen=max(48,int(np.ceil(nind*2/8)))    #assuming sizeof(char)=1 here\n",
    "geno_file.seek(rlen)         #set pointer to start of genotypes\n",
    "\n",
    "geno=np.fromfile(folder+\".geno\", dtype='uint8')[rlen:] #without header\n",
    "geno.shape=(nsnp, rlen)\n",
    "geno=np.unpackbits(geno, axis=1)[:,:(2*nind)]\n",
    "geno=2*geno[:,::2]+geno[:,1::2]\n",
    "#geno=geno[:,:]\n",
    "geno[geno==3]=9                       #set missing values\n",
    "geno = geno[:,0]\n",
    "\n",
    "print(nind)\n",
    "print(nsnp)"
   ]
  },
  {
   "cell_type": "markdown",
   "metadata": {},
   "source": [
    "## Run it piece by piece\n",
    "(for debugging)"
   ]
  },
  {
   "cell_type": "code",
   "execution_count": 58,
   "metadata": {},
   "outputs": [
    {
     "name": "stdout",
     "output_type": "stream",
     "text": [
      "CPU times: user 1.18 ms, sys: 0 ns, total: 1.18 ms\n",
      "Wall time: 1.21 ms\n"
     ]
    }
   ],
   "source": [
    "%%time\n",
    "geno_file = open(folder+\".geno\", \"rb\")\n",
    "header=geno_file.read(20)         #Ignoring hashes\n",
    "nind,nsnp=[int(x) for x in header.split()[1:3]]        \n",
    "nind=nind\n",
    "nsnp=nsnp\n",
    "rlen=max(48,int(np.ceil(nind*2/8)))    #assuming sizeof(char)=1 here"
   ]
  },
  {
   "cell_type": "code",
   "execution_count": 59,
   "metadata": {},
   "outputs": [
    {
     "data": {
      "text/plain": [
       "278"
      ]
     },
     "execution_count": 59,
     "metadata": {},
     "output_type": "execute_result"
    }
   ],
   "source": [
    "nind"
   ]
  },
  {
   "cell_type": "code",
   "execution_count": 60,
   "metadata": {},
   "outputs": [
    {
     "data": {
      "text/plain": [
       "70"
      ]
     },
     "execution_count": 60,
     "metadata": {},
     "output_type": "execute_result"
    }
   ],
   "source": [
    "rlen"
   ]
  },
  {
   "cell_type": "code",
   "execution_count": 61,
   "metadata": {},
   "outputs": [
    {
     "name": "stdout",
     "output_type": "stream",
     "text": [
      "(1233013, 70)\n",
      "CPU times: user 0 ns, sys: 148 ms, total: 148 ms\n",
      "Wall time: 151 ms\n"
     ]
    }
   ],
   "source": [
    "%%time\n",
    "geno=np.fromfile(folder+\".geno\", dtype='uint8')[rlen:] #without header\n",
    "geno.shape=(nsnp, rlen)\n",
    "print(geno.shape)"
   ]
  },
  {
   "cell_type": "markdown",
   "metadata": {},
   "source": [
    "### Unpack only the first couple of individuals\n",
    "(set by n unload)"
   ]
  },
  {
   "cell_type": "code",
   "execution_count": 62,
   "metadata": {},
   "outputs": [
    {
     "name": "stdout",
     "output_type": "stream",
     "text": [
      "2\n"
     ]
    }
   ],
   "source": [
    "n_sub =8\n",
    "rlen_sub = int(np.ceil(n_sub*2/8))\n",
    "print(rlen_sub)"
   ]
  },
  {
   "cell_type": "code",
   "execution_count": 63,
   "metadata": {},
   "outputs": [
    {
     "name": "stdout",
     "output_type": "stream",
     "text": [
      "(1233013, 8)\n"
     ]
    }
   ],
   "source": [
    "geno_sub = geno[:,:rlen_sub]\n",
    "geno_sub=np.unpackbits(geno_sub, axis=1)[:,:(2*n_sub)]\n",
    "geno_sub=2*geno_sub[:,::2]+geno_sub[:,1::2]\n",
    "#geno=geno[:,:]\n",
    "geno_sub[geno_sub==3]=9                       #set missing values\n",
    "#geno_sub = geno_sub[:,0]\n",
    "\n",
    "print(np.shape(geno_sub))"
   ]
  },
  {
   "cell_type": "code",
   "execution_count": 64,
   "metadata": {},
   "outputs": [
    {
     "data": {
      "text/plain": [
       "1051699"
      ]
     },
     "execution_count": 64,
     "metadata": {},
     "output_type": "execute_result"
    }
   ],
   "source": [
    "np.sum(geno_sub[:,6]!=9)"
   ]
  },
  {
   "cell_type": "markdown",
   "metadata": {},
   "source": [
    "# Test the Python Support Package"
   ]
  },
  {
   "cell_type": "code",
   "execution_count": 3,
   "metadata": {},
   "outputs": [],
   "source": [
    "sys.path.append(\"./PackagesSupport/loadEigenstrat/\")  # Since now we are in the Root Directory\n",
    "from loadEigenstrat import EigenstratLoad, load_eigenstrat"
   ]
  },
  {
   "cell_type": "code",
   "execution_count": 4,
   "metadata": {},
   "outputs": [
    {
     "name": "stdout",
     "output_type": "stream",
     "text": [
      "3 Eigenstrat Files with 28 Individuals and 1233013 SNPs\n",
      "CPU times: user 6.58 s, sys: 437 ms, total: 7.02 s\n",
      "Wall time: 7.58 s\n"
     ]
    }
   ],
   "source": [
    "%%time\n",
    "### Packed\n",
    "#basepath = \"./Data/Olalde19/Olalde_et_al_genotypes\"\n",
    "#es = EigenstratLoad(base_path = basepath, sep=\"\\t\")\n",
    "\n",
    "### Unpacked\n",
    "basepath = \"./Data/Freilich20/AncCroatia1240KallSNPs\"\n",
    "es = load_eigenstrat(basepath, output=True, \n",
    "                     sep=r\"\\t\", packed=False)"
   ]
  },
  {
   "cell_type": "code",
   "execution_count": 5,
   "metadata": {},
   "outputs": [
    {
     "data": {
      "text/html": [
       "<div>\n",
       "<style scoped>\n",
       "    .dataframe tbody tr th:only-of-type {\n",
       "        vertical-align: middle;\n",
       "    }\n",
       "\n",
       "    .dataframe tbody tr th {\n",
       "        vertical-align: top;\n",
       "    }\n",
       "\n",
       "    .dataframe thead th {\n",
       "        text-align: right;\n",
       "    }\n",
       "</style>\n",
       "<table border=\"1\" class=\"dataframe\">\n",
       "  <thead>\n",
       "    <tr style=\"text-align: right;\">\n",
       "      <th></th>\n",
       "      <th>SNP</th>\n",
       "      <th>chr</th>\n",
       "      <th>map</th>\n",
       "      <th>pos</th>\n",
       "      <th>ref</th>\n",
       "      <th>alt</th>\n",
       "    </tr>\n",
       "  </thead>\n",
       "  <tbody>\n",
       "    <tr>\n",
       "      <th>0</th>\n",
       "      <td>1_752566</td>\n",
       "      <td>1</td>\n",
       "      <td>0</td>\n",
       "      <td>752566</td>\n",
       "      <td>G</td>\n",
       "      <td>A</td>\n",
       "    </tr>\n",
       "    <tr>\n",
       "      <th>1</th>\n",
       "      <td>1_776546</td>\n",
       "      <td>1</td>\n",
       "      <td>0</td>\n",
       "      <td>776546</td>\n",
       "      <td>A</td>\n",
       "      <td>G</td>\n",
       "    </tr>\n",
       "    <tr>\n",
       "      <th>2</th>\n",
       "      <td>1_832918</td>\n",
       "      <td>1</td>\n",
       "      <td>0</td>\n",
       "      <td>832918</td>\n",
       "      <td>T</td>\n",
       "      <td>C</td>\n",
       "    </tr>\n",
       "  </tbody>\n",
       "</table>\n",
       "</div>"
      ],
      "text/plain": [
       "        SNP  chr  map     pos ref alt\n",
       "0  1_752566    1    0  752566   G   A\n",
       "1  1_776546    1    0  776546   A   G\n",
       "2  1_832918    1    0  832918   T   C"
      ]
     },
     "execution_count": 5,
     "metadata": {},
     "output_type": "execute_result"
    }
   ],
   "source": [
    "es.df_snp.head(3)"
   ]
  },
  {
   "cell_type": "code",
   "execution_count": 6,
   "metadata": {},
   "outputs": [
    {
     "data": {
      "text/html": [
       "<div>\n",
       "<style scoped>\n",
       "    .dataframe tbody tr th:only-of-type {\n",
       "        vertical-align: middle;\n",
       "    }\n",
       "\n",
       "    .dataframe tbody tr th {\n",
       "        vertical-align: top;\n",
       "    }\n",
       "\n",
       "    .dataframe thead th {\n",
       "        text-align: right;\n",
       "    }\n",
       "</style>\n",
       "<table border=\"1\" class=\"dataframe\">\n",
       "  <thead>\n",
       "    <tr style=\"text-align: right;\">\n",
       "      <th></th>\n",
       "      <th>iid</th>\n",
       "      <th>sex</th>\n",
       "      <th>cls</th>\n",
       "    </tr>\n",
       "  </thead>\n",
       "  <tbody>\n",
       "    <tr>\n",
       "      <th>0</th>\n",
       "      <td>JAG34</td>\n",
       "      <td>M</td>\n",
       "      <td>Croatia_Jagodnjak_MBA</td>\n",
       "    </tr>\n",
       "    <tr>\n",
       "      <th>1</th>\n",
       "      <td>JAG58</td>\n",
       "      <td>M</td>\n",
       "      <td>Croatia_Jagodnjak_MBA</td>\n",
       "    </tr>\n",
       "    <tr>\n",
       "      <th>2</th>\n",
       "      <td>JAG06</td>\n",
       "      <td>M</td>\n",
       "      <td>Croatia_Jagodnjak_MBA</td>\n",
       "    </tr>\n",
       "  </tbody>\n",
       "</table>\n",
       "</div>"
      ],
      "text/plain": [
       "     iid sex                    cls\n",
       "0  JAG34   M  Croatia_Jagodnjak_MBA\n",
       "1  JAG58   M  Croatia_Jagodnjak_MBA\n",
       "2  JAG06   M  Croatia_Jagodnjak_MBA"
      ]
     },
     "execution_count": 6,
     "metadata": {},
     "output_type": "execute_result"
    }
   ],
   "source": [
    "es.df_ind.head(3)"
   ]
  },
  {
   "cell_type": "code",
   "execution_count": 7,
   "metadata": {},
   "outputs": [
    {
     "name": "stdout",
     "output_type": "stream",
     "text": [
      "Avg. Coverage: 0.745962\n",
      "SNps covered: 919781\n",
      "Avg. Coverage: 0.618166\n",
      "SNps covered: 762207\n",
      "Avg. Coverage: 0.686809\n",
      "SNps covered: 846845\n"
     ]
    }
   ],
   "source": [
    "for i in range(3):\n",
    "    g = es.get_geno_i(i)\n",
    "    print(f\"Avg. Coverage: {1 - np.mean(g==3):.6f}\")\n",
    "    print(f\"SNps covered: {np.sum(g!=3)}\")"
   ]
  },
  {
   "cell_type": "code",
   "execution_count": 6,
   "metadata": {},
   "outputs": [
    {
     "name": "stdout",
     "output_type": "stream",
     "text": [
      "Avg. Coverage: 0.596029\n",
      "SNps covered: 734912\n"
     ]
    }
   ],
   "source": [
    "g = es.get_geno_i(5)\n",
    "print(f\"Avg. Coverage: {1-np.mean(g==3):.6f}\")\n",
    "print(f\"SNps covered: {np.sum(g!=3)}\")"
   ]
  },
  {
   "cell_type": "code",
   "execution_count": 8,
   "metadata": {},
   "outputs": [
    {
     "data": {
      "text/plain": [
       "(array(['A', 'G', 'T', ..., 'C', 'A', 'T'], dtype=object),\n",
       " array(['C', 'A', 'C', ..., 'T', 'G', 'G'], dtype=object))"
      ]
     },
     "execution_count": 8,
     "metadata": {},
     "output_type": "execute_result"
    }
   ],
   "source": [
    "es.give_ref_alt(3)"
   ]
  },
  {
   "cell_type": "code",
   "execution_count": 9,
   "metadata": {},
   "outputs": [],
   "source": [
    "gt = es.extract_snps(0, range(10))"
   ]
  },
  {
   "cell_type": "code",
   "execution_count": 10,
   "metadata": {},
   "outputs": [],
   "source": [
    "ps = es.give_positions(ch=3)"
   ]
  },
  {
   "cell_type": "code",
   "execution_count": 11,
   "metadata": {},
   "outputs": [
    {
     "data": {
      "text/plain": [
       "array([[ 1, -1,  0,  0,  1, -1,  1, -1, -1,  0],\n",
       "       [ 1, -1,  0,  0,  1, -1,  1, -1, -1,  0]], dtype=int8)"
      ]
     },
     "execution_count": 11,
     "metadata": {},
     "output_type": "execute_result"
    }
   ],
   "source": [
    "gt"
   ]
  },
  {
   "cell_type": "code",
   "execution_count": 6,
   "metadata": {},
   "outputs": [],
   "source": [
    "def load_ind_df(base_path, sep=r\"\\s+\"):\n",
    "    \"\"\"Load the Individual dataframe.\n",
    "    Uses self.base_path\n",
    "    sep: What separator to use when loading the File\"\"\"\n",
    "    path_ind = base_path + \".ind\"\n",
    "    df_ind = pd.read_csv(path_ind, header=None,\n",
    "                         sep=r\"\\s+\", engine=\"python\")\n",
    "    df_ind.columns = [\"iid\", \"sex\", \"cls\"]  # Set the Columns\n",
    "    return df_ind\n",
    "\n",
    "def load_snp_df(base_path, sep=r\"\\s+\"):\n",
    "    \"\"\"Load the SNP dataframe.\n",
    "    Uses self.base_path\n",
    "    sep: What separator to use when loading the File\"\"\"\n",
    "    path_snp = base_path + \".snp\"\n",
    "    df_snp = pd.read_csv(path_snp, header=None,\n",
    "                         sep=sep, engine=\"python\")\n",
    "    df_snp.columns = [\"SNP\", \"chr\", \"map\",\n",
    "                      \"pos\", \"ref\", \"alt\"]  # Set the Columns\n",
    "    return df_snp"
   ]
  },
  {
   "cell_type": "code",
   "execution_count": 9,
   "metadata": {},
   "outputs": [
    {
     "ename": "ValueError",
     "evalue": "Length mismatch: Expected axis has 1 elements, new values have 6 elements",
     "output_type": "error",
     "traceback": [
      "\u001b[0;31m---------------------------------------------------------------------------\u001b[0m",
      "\u001b[0;31mValueError\u001b[0m                                Traceback (most recent call last)",
      "\u001b[0;32m<ipython-input-9-50d731bab450>\u001b[0m in \u001b[0;36m<module>\u001b[0;34m\u001b[0m\n\u001b[1;32m      1\u001b[0m \u001b[0mfolder\u001b[0m \u001b[0;34m=\u001b[0m \u001b[0;34m\"./Data/Lars20/1240k_ForHarald\"\u001b[0m\u001b[0;34m\u001b[0m\u001b[0;34m\u001b[0m\u001b[0m\n\u001b[1;32m      2\u001b[0m \u001b[0;34m\u001b[0m\u001b[0m\n\u001b[0;32m----> 3\u001b[0;31m \u001b[0mdf\u001b[0m \u001b[0;34m=\u001b[0m \u001b[0mload_snp_df\u001b[0m\u001b[0;34m(\u001b[0m\u001b[0mfolder\u001b[0m\u001b[0;34m,\u001b[0m \u001b[0msep\u001b[0m\u001b[0;34m=\u001b[0m\u001b[0;34m\"\\t\"\u001b[0m\u001b[0;34m)\u001b[0m\u001b[0;34m\u001b[0m\u001b[0;34m\u001b[0m\u001b[0m\n\u001b[0m",
      "\u001b[0;32m<ipython-input-6-bf387f5fa22d>\u001b[0m in \u001b[0;36mload_snp_df\u001b[0;34m(base_path, sep)\u001b[0m\n\u001b[1;32m     17\u001b[0m                          sep=sep, engine=\"python\")\n\u001b[1;32m     18\u001b[0m     df_snp.columns = [\"SNP\", \"chr\", \"map\",\n\u001b[0;32m---> 19\u001b[0;31m                       \"pos\", \"ref\", \"alt\"]  # Set the Columns\n\u001b[0m\u001b[1;32m     20\u001b[0m     \u001b[0;32mreturn\u001b[0m \u001b[0mdf_snp\u001b[0m\u001b[0;34m\u001b[0m\u001b[0;34m\u001b[0m\u001b[0m\n",
      "\u001b[0;32m/n/groups/reich/hringbauer/explore_ntbk/jptvenv37/lib/python3.7/site-packages/pandas/core/generic.py\u001b[0m in \u001b[0;36m__setattr__\u001b[0;34m(self, name, value)\u001b[0m\n\u001b[1;32m   5284\u001b[0m         \u001b[0;32mtry\u001b[0m\u001b[0;34m:\u001b[0m\u001b[0;34m\u001b[0m\u001b[0;34m\u001b[0m\u001b[0m\n\u001b[1;32m   5285\u001b[0m             \u001b[0mobject\u001b[0m\u001b[0;34m.\u001b[0m\u001b[0m__getattribute__\u001b[0m\u001b[0;34m(\u001b[0m\u001b[0mself\u001b[0m\u001b[0;34m,\u001b[0m \u001b[0mname\u001b[0m\u001b[0;34m)\u001b[0m\u001b[0;34m\u001b[0m\u001b[0;34m\u001b[0m\u001b[0m\n\u001b[0;32m-> 5286\u001b[0;31m             \u001b[0;32mreturn\u001b[0m \u001b[0mobject\u001b[0m\u001b[0;34m.\u001b[0m\u001b[0m__setattr__\u001b[0m\u001b[0;34m(\u001b[0m\u001b[0mself\u001b[0m\u001b[0;34m,\u001b[0m \u001b[0mname\u001b[0m\u001b[0;34m,\u001b[0m \u001b[0mvalue\u001b[0m\u001b[0;34m)\u001b[0m\u001b[0;34m\u001b[0m\u001b[0;34m\u001b[0m\u001b[0m\n\u001b[0m\u001b[1;32m   5287\u001b[0m         \u001b[0;32mexcept\u001b[0m \u001b[0mAttributeError\u001b[0m\u001b[0;34m:\u001b[0m\u001b[0;34m\u001b[0m\u001b[0;34m\u001b[0m\u001b[0m\n\u001b[1;32m   5288\u001b[0m             \u001b[0;32mpass\u001b[0m\u001b[0;34m\u001b[0m\u001b[0;34m\u001b[0m\u001b[0m\n",
      "\u001b[0;32mpandas/_libs/properties.pyx\u001b[0m in \u001b[0;36mpandas._libs.properties.AxisProperty.__set__\u001b[0;34m()\u001b[0m\n",
      "\u001b[0;32m/n/groups/reich/hringbauer/explore_ntbk/jptvenv37/lib/python3.7/site-packages/pandas/core/generic.py\u001b[0m in \u001b[0;36m_set_axis\u001b[0;34m(self, axis, labels)\u001b[0m\n\u001b[1;32m    659\u001b[0m \u001b[0;34m\u001b[0m\u001b[0m\n\u001b[1;32m    660\u001b[0m     \u001b[0;32mdef\u001b[0m \u001b[0m_set_axis\u001b[0m\u001b[0;34m(\u001b[0m\u001b[0mself\u001b[0m\u001b[0;34m,\u001b[0m \u001b[0maxis\u001b[0m\u001b[0;34m,\u001b[0m \u001b[0mlabels\u001b[0m\u001b[0;34m)\u001b[0m \u001b[0;34m->\u001b[0m \u001b[0;32mNone\u001b[0m\u001b[0;34m:\u001b[0m\u001b[0;34m\u001b[0m\u001b[0;34m\u001b[0m\u001b[0m\n\u001b[0;32m--> 661\u001b[0;31m         \u001b[0mself\u001b[0m\u001b[0;34m.\u001b[0m\u001b[0m_data\u001b[0m\u001b[0;34m.\u001b[0m\u001b[0mset_axis\u001b[0m\u001b[0;34m(\u001b[0m\u001b[0maxis\u001b[0m\u001b[0;34m,\u001b[0m \u001b[0mlabels\u001b[0m\u001b[0;34m)\u001b[0m\u001b[0;34m\u001b[0m\u001b[0;34m\u001b[0m\u001b[0m\n\u001b[0m\u001b[1;32m    662\u001b[0m         \u001b[0mself\u001b[0m\u001b[0;34m.\u001b[0m\u001b[0m_clear_item_cache\u001b[0m\u001b[0;34m(\u001b[0m\u001b[0;34m)\u001b[0m\u001b[0;34m\u001b[0m\u001b[0;34m\u001b[0m\u001b[0m\n\u001b[1;32m    663\u001b[0m \u001b[0;34m\u001b[0m\u001b[0m\n",
      "\u001b[0;32m/n/groups/reich/hringbauer/explore_ntbk/jptvenv37/lib/python3.7/site-packages/pandas/core/internals/managers.py\u001b[0m in \u001b[0;36mset_axis\u001b[0;34m(self, axis, new_labels)\u001b[0m\n\u001b[1;32m    176\u001b[0m         \u001b[0;32mif\u001b[0m \u001b[0mnew_len\u001b[0m \u001b[0;34m!=\u001b[0m \u001b[0mold_len\u001b[0m\u001b[0;34m:\u001b[0m\u001b[0;34m\u001b[0m\u001b[0;34m\u001b[0m\u001b[0m\n\u001b[1;32m    177\u001b[0m             raise ValueError(\n\u001b[0;32m--> 178\u001b[0;31m                 \u001b[0;34mf\"Length mismatch: Expected axis has {old_len} elements, new \"\u001b[0m\u001b[0;34m\u001b[0m\u001b[0;34m\u001b[0m\u001b[0m\n\u001b[0m\u001b[1;32m    179\u001b[0m                 \u001b[0;34mf\"values have {new_len} elements\"\u001b[0m\u001b[0;34m\u001b[0m\u001b[0;34m\u001b[0m\u001b[0m\n\u001b[1;32m    180\u001b[0m             )\n",
      "\u001b[0;31mValueError\u001b[0m: Length mismatch: Expected axis has 1 elements, new values have 6 elements"
     ]
    }
   ],
   "source": [
    "folder = \"./Data/Lars20/1240k_ForHarald\"\n",
    "\n",
    "df = load_snp_df(folder, sep=\"\\t\")"
   ]
  },
  {
   "cell_type": "code",
   "execution_count": 8,
   "metadata": {},
   "outputs": [
    {
     "data": {
      "text/html": [
       "<div>\n",
       "<style scoped>\n",
       "    .dataframe tbody tr th:only-of-type {\n",
       "        vertical-align: middle;\n",
       "    }\n",
       "\n",
       "    .dataframe tbody tr th {\n",
       "        vertical-align: top;\n",
       "    }\n",
       "\n",
       "    .dataframe thead th {\n",
       "        text-align: right;\n",
       "    }\n",
       "</style>\n",
       "<table border=\"1\" class=\"dataframe\">\n",
       "  <thead>\n",
       "    <tr style=\"text-align: right;\">\n",
       "      <th></th>\n",
       "      <th>SNP</th>\n",
       "      <th>chr</th>\n",
       "      <th>map</th>\n",
       "      <th>pos</th>\n",
       "      <th>ref</th>\n",
       "      <th>alt</th>\n",
       "    </tr>\n",
       "  </thead>\n",
       "  <tbody>\n",
       "    <tr>\n",
       "      <th>0</th>\n",
       "      <td>rs3094315</td>\n",
       "      <td>1</td>\n",
       "      <td>0.007526</td>\n",
       "      <td>752566</td>\n",
       "      <td>G</td>\n",
       "      <td>A</td>\n",
       "    </tr>\n",
       "    <tr>\n",
       "      <th>1</th>\n",
       "      <td>rs12124819</td>\n",
       "      <td>1</td>\n",
       "      <td>0.007765</td>\n",
       "      <td>776546</td>\n",
       "      <td>A</td>\n",
       "      <td>G</td>\n",
       "    </tr>\n",
       "    <tr>\n",
       "      <th>2</th>\n",
       "      <td>rs28765502</td>\n",
       "      <td>1</td>\n",
       "      <td>0.008329</td>\n",
       "      <td>832918</td>\n",
       "      <td>T</td>\n",
       "      <td>C</td>\n",
       "    </tr>\n",
       "    <tr>\n",
       "      <th>3</th>\n",
       "      <td>rs7419119</td>\n",
       "      <td>1</td>\n",
       "      <td>0.008420</td>\n",
       "      <td>842013</td>\n",
       "      <td>T</td>\n",
       "      <td>G</td>\n",
       "    </tr>\n",
       "    <tr>\n",
       "      <th>4</th>\n",
       "      <td>rs950122</td>\n",
       "      <td>1</td>\n",
       "      <td>0.008469</td>\n",
       "      <td>846864</td>\n",
       "      <td>G</td>\n",
       "      <td>C</td>\n",
       "    </tr>\n",
       "    <tr>\n",
       "      <th>...</th>\n",
       "      <td>...</td>\n",
       "      <td>...</td>\n",
       "      <td>...</td>\n",
       "      <td>...</td>\n",
       "      <td>...</td>\n",
       "      <td>...</td>\n",
       "    </tr>\n",
       "    <tr>\n",
       "      <th>1233008</th>\n",
       "      <td>rs60847530</td>\n",
       "      <td>24</td>\n",
       "      <td>0.590306</td>\n",
       "      <td>59030572</td>\n",
       "      <td>T</td>\n",
       "      <td>A</td>\n",
       "    </tr>\n",
       "    <tr>\n",
       "      <th>1233009</th>\n",
       "      <td>snp_24_59033099</td>\n",
       "      <td>24</td>\n",
       "      <td>0.590331</td>\n",
       "      <td>59033099</td>\n",
       "      <td>T</td>\n",
       "      <td>C</td>\n",
       "    </tr>\n",
       "    <tr>\n",
       "      <th>1233010</th>\n",
       "      <td>rs28628009</td>\n",
       "      <td>24</td>\n",
       "      <td>0.590331</td>\n",
       "      <td>59033110</td>\n",
       "      <td>A</td>\n",
       "      <td>T</td>\n",
       "    </tr>\n",
       "    <tr>\n",
       "      <th>1233011</th>\n",
       "      <td>rs55686319</td>\n",
       "      <td>24</td>\n",
       "      <td>0.590331</td>\n",
       "      <td>59033139</td>\n",
       "      <td>T</td>\n",
       "      <td>C</td>\n",
       "    </tr>\n",
       "    <tr>\n",
       "      <th>1233012</th>\n",
       "      <td>rs75089321</td>\n",
       "      <td>24</td>\n",
       "      <td>0.590332</td>\n",
       "      <td>59033249</td>\n",
       "      <td>G</td>\n",
       "      <td>T</td>\n",
       "    </tr>\n",
       "  </tbody>\n",
       "</table>\n",
       "<p>1233013 rows × 6 columns</p>\n",
       "</div>"
      ],
      "text/plain": [
       "                     SNP  chr       map       pos ref alt\n",
       "0              rs3094315    1  0.007526    752566   G   A\n",
       "1             rs12124819    1  0.007765    776546   A   G\n",
       "2             rs28765502    1  0.008329    832918   T   C\n",
       "3              rs7419119    1  0.008420    842013   T   G\n",
       "4               rs950122    1  0.008469    846864   G   C\n",
       "...                  ...  ...       ...       ...  ..  ..\n",
       "1233008       rs60847530   24  0.590306  59030572   T   A\n",
       "1233009  snp_24_59033099   24  0.590331  59033099   T   C\n",
       "1233010       rs28628009   24  0.590331  59033110   A   T\n",
       "1233011       rs55686319   24  0.590331  59033139   T   C\n",
       "1233012       rs75089321   24  0.590332  59033249   G   T\n",
       "\n",
       "[1233013 rows x 6 columns]"
      ]
     },
     "execution_count": 8,
     "metadata": {},
     "output_type": "execute_result"
    }
   ],
   "source": [
    "df"
   ]
  },
  {
   "cell_type": "markdown",
   "metadata": {},
   "source": [
    "# Area 51"
   ]
  },
  {
   "cell_type": "markdown",
   "metadata": {},
   "source": [
    "### Test Loading Suzanne's data"
   ]
  },
  {
   "cell_type": "code",
   "execution_count": 55,
   "metadata": {},
   "outputs": [
    {
     "data": {
      "text/plain": [
       "(1233013, 6)"
      ]
     },
     "execution_count": 55,
     "metadata": {},
     "output_type": "execute_result"
    }
   ],
   "source": [
    "np.shape(df_snp)"
   ]
  },
  {
   "cell_type": "markdown",
   "metadata": {},
   "source": [
    "### Load Particular Individual"
   ]
  },
  {
   "cell_type": "code",
   "execution_count": null,
   "metadata": {},
   "outputs": [],
   "source": []
  }
 ],
 "metadata": {
  "kernelspec": {
   "display_name": "Python 3",
   "language": "python",
   "name": "python3"
  },
  "language_info": {
   "codemirror_mode": {
    "name": "ipython",
    "version": 3
   },
   "file_extension": ".py",
   "mimetype": "text/x-python",
   "name": "python",
   "nbconvert_exporter": "python",
   "pygments_lexer": "ipython3",
   "version": "3.7.4"
  }
 },
 "nbformat": 4,
 "nbformat_minor": 4
}
