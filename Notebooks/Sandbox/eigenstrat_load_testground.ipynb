{
 "cells": [
  {
   "cell_type": "markdown",
   "metadata": {},
   "source": [
    "# Notebook to test whether D. Reichs big Eigenstrat File can be loaded"
   ]
  },
  {
   "cell_type": "code",
   "execution_count": 1,
   "metadata": {},
   "outputs": [
    {
     "name": "stdout",
     "output_type": "stream",
     "text": [
      "VioletQueen\n",
      "/home/harald/git/HAPSBURG\n",
      "CPU Count: 4\n"
     ]
    }
   ],
   "source": [
    "import numpy as np\n",
    "import pandas as pd\n",
    "import os as os\n",
    "import sys as sys\n",
    "import multiprocessing as mp\n",
    "import socket\n",
    "\n",
    "### Pick the right path (whether on cluster or at home)\n",
    "socket_name = socket.gethostname()\n",
    "print(socket_name)\n",
    "if socket_name == \"VioletQueen\":\n",
    "    path = \"/home/harald/git/HAPSBURG/\"   # The Path on Harald's machine\n",
    "elif socket_name.startswith(\"midway2\"):\n",
    "    print(\"Midway jnovmbre partition detected.\")\n",
    "    path = \"/project/jnovembre/hringbauer/HAPSBURG/\"  # The Path on Midway Cluster\n",
    "else: \n",
    "    raise RuntimeWarning(\"Not compatible machine. Check!!\")\n",
    "    \n",
    "os.chdir(path)  # Set the right Path (in line with Atom default)\n",
    "\n",
    "sys.path.append(\"./Python3/\")  # Since now we are in the Root Directory\n",
    "from hmm_inference import HMM_Analyze   # Do not move. Should be after sys.path..\n",
    "#sys.path.append(\"./Python3/create1000G_Mosaic/\")  # Since now we are in the Root Directory\n",
    "#from createMosaicsMulti import Mosaic_1000G_Multi  # Import the object that can create the Multiruns\n",
    "\n",
    "print(os.getcwd()) # Show the current working directory. Should be HAPSBURG/Notebooks/ParallelRuns\n",
    "print(f\"CPU Count: {mp.cpu_count()}\")"
   ]
  },
  {
   "cell_type": "markdown",
   "metadata": {},
   "source": [
    "### The BaseBath (without the .snp/ind/geno)"
   ]
  },
  {
   "cell_type": "code",
   "execution_count": 51,
   "metadata": {},
   "outputs": [],
   "source": [
    "folder = \"./Data/ReichLabEigenstrat/Olalde2019/Olalde_et_al_genotypes\""
   ]
  },
  {
   "cell_type": "markdown",
   "metadata": {},
   "source": [
    "### Load the SNP File"
   ]
  },
  {
   "cell_type": "code",
   "execution_count": 56,
   "metadata": {},
   "outputs": [
    {
     "name": "stdout",
     "output_type": "stream",
     "text": [
      "Loaded 1233013 SNPs\n",
      "CPU times: user 6.72 s, sys: 537 ms, total: 7.26 s\n",
      "Wall time: 7.28 s\n"
     ]
    }
   ],
   "source": [
    "%%time\n",
    "# On Harald's machine: About 7.14s\n",
    "rsnp = np.loadtxt(folder + \".snp\", dtype=\"str\") \n",
    "print(f\"Loaded {len(rsnp)} SNPs\")"
   ]
  },
  {
   "cell_type": "markdown",
   "metadata": {},
   "source": [
    "## Load the Geno File"
   ]
  },
  {
   "cell_type": "code",
   "execution_count": 57,
   "metadata": {},
   "outputs": [
    {
     "name": "stdout",
     "output_type": "stream",
     "text": [
      "278\n",
      "1233013\n",
      "CPU times: user 2.15 s, sys: 483 ms, total: 2.64 s\n",
      "Wall time: 2.64 s\n"
     ]
    }
   ],
   "source": [
    "%%time\n",
    "geno_file = open(folder+\".geno\", \"rb\")\n",
    "header=geno_file.read(20)         #Ignoring hashes\n",
    "#if header.split()[0]!=\"GENO\":\n",
    "#    raise Exception(\"This does not look like a packedancestrymap file\")\n",
    "nind,nsnp=[int(x) for x in header.split()[1:3]]        \n",
    "nind=nind\n",
    "nsnp=nsnp\n",
    "rlen=max(48,int(np.ceil(nind*2/8)))    #assuming sizeof(char)=1 here\n",
    "geno_file.seek(rlen)         #set pointer to start of genotypes\n",
    "\n",
    "geno=np.fromfile(folder+\".geno\", dtype='uint8')[rlen:] #without header\n",
    "geno.shape=(nsnp, rlen)\n",
    "geno=np.unpackbits(geno, axis=1)[:,:(2*nind)]\n",
    "geno=2*geno[:,::2]+geno[:,1::2]\n",
    "#geno=geno[:,:]\n",
    "geno[geno==3]=9                       #set missing values\n",
    "geno = geno[:,0]\n",
    "\n",
    "print(nind)\n",
    "print(nsnp)"
   ]
  },
  {
   "cell_type": "markdown",
   "metadata": {},
   "source": [
    "## Run it piece by piece\n",
    "(for debugging)"
   ]
  },
  {
   "cell_type": "code",
   "execution_count": 58,
   "metadata": {},
   "outputs": [
    {
     "name": "stdout",
     "output_type": "stream",
     "text": [
      "CPU times: user 1.18 ms, sys: 0 ns, total: 1.18 ms\n",
      "Wall time: 1.21 ms\n"
     ]
    }
   ],
   "source": [
    "%%time\n",
    "geno_file = open(folder+\".geno\", \"rb\")\n",
    "header=geno_file.read(20)         #Ignoring hashes\n",
    "nind,nsnp=[int(x) for x in header.split()[1:3]]        \n",
    "nind=nind\n",
    "nsnp=nsnp\n",
    "rlen=max(48,int(np.ceil(nind*2/8)))    #assuming sizeof(char)=1 here"
   ]
  },
  {
   "cell_type": "code",
   "execution_count": 59,
   "metadata": {},
   "outputs": [
    {
     "data": {
      "text/plain": [
       "278"
      ]
     },
     "execution_count": 59,
     "metadata": {},
     "output_type": "execute_result"
    }
   ],
   "source": [
    "nind"
   ]
  },
  {
   "cell_type": "code",
   "execution_count": 60,
   "metadata": {},
   "outputs": [
    {
     "data": {
      "text/plain": [
       "70"
      ]
     },
     "execution_count": 60,
     "metadata": {},
     "output_type": "execute_result"
    }
   ],
   "source": [
    "rlen"
   ]
  },
  {
   "cell_type": "code",
   "execution_count": 61,
   "metadata": {},
   "outputs": [
    {
     "name": "stdout",
     "output_type": "stream",
     "text": [
      "(1233013, 70)\n",
      "CPU times: user 0 ns, sys: 148 ms, total: 148 ms\n",
      "Wall time: 151 ms\n"
     ]
    }
   ],
   "source": [
    "%%time\n",
    "geno=np.fromfile(folder+\".geno\", dtype='uint8')[rlen:] #without header\n",
    "geno.shape=(nsnp, rlen)\n",
    "print(geno.shape)"
   ]
  },
  {
   "cell_type": "markdown",
   "metadata": {},
   "source": [
    "### Unpack only the first couple of individuals\n",
    "(set by n unload)"
   ]
  },
  {
   "cell_type": "code",
   "execution_count": 62,
   "metadata": {},
   "outputs": [
    {
     "name": "stdout",
     "output_type": "stream",
     "text": [
      "2\n"
     ]
    }
   ],
   "source": [
    "n_sub =8\n",
    "rlen_sub = int(np.ceil(n_sub*2/8))\n",
    "print(rlen_sub)"
   ]
  },
  {
   "cell_type": "code",
   "execution_count": 63,
   "metadata": {},
   "outputs": [
    {
     "name": "stdout",
     "output_type": "stream",
     "text": [
      "(1233013, 8)\n"
     ]
    }
   ],
   "source": [
    "geno_sub = geno[:,:rlen_sub]\n",
    "geno_sub=np.unpackbits(geno_sub, axis=1)[:,:(2*n_sub)]\n",
    "geno_sub=2*geno_sub[:,::2]+geno_sub[:,1::2]\n",
    "#geno=geno[:,:]\n",
    "geno_sub[geno_sub==3]=9                       #set missing values\n",
    "#geno_sub = geno_sub[:,0]\n",
    "\n",
    "print(np.shape(geno_sub))"
   ]
  },
  {
   "cell_type": "code",
   "execution_count": 64,
   "metadata": {},
   "outputs": [
    {
     "data": {
      "text/plain": [
       "1051699"
      ]
     },
     "execution_count": 64,
     "metadata": {},
     "output_type": "execute_result"
    }
   ],
   "source": [
    "np.sum(geno_sub[:,6]!=9)"
   ]
  },
  {
   "cell_type": "markdown",
   "metadata": {},
   "source": [
    "# And now write own class to extract specific Individual"
   ]
  },
  {
   "cell_type": "code",
   "execution_count": 39,
   "metadata": {},
   "outputs": [],
   "source": [
    "class EigenstratLoad(object):\n",
    "    \"\"\"Class that loads and postprocesses Eigenstrats\"\"\"\n",
    "    base_path = \"./Data/ReichLabEigenstrat/Raw/v37.2.1240K\"\n",
    "    nsnp = 0\n",
    "    nind = 0\n",
    "    rlen = 0\n",
    "    \n",
    "    def __init__(self, base_path=\"\"):\n",
    "        if len(base_path)==0:\n",
    "            base_path = self.base_path # Go to Default\n",
    "        geno_file = open(base_path +\".geno\", \"rb\")\n",
    "        header = geno_file.read(20)         #Ignoring hashes\n",
    "        self.nind, self.nsnp = [int(x) for x in header.split()[1:3]]        \n",
    "        self.rlen=max(48, int(np.ceil(nind*2/8)))    #assuming sizeof(char)=1 here\n",
    "        print(f\"File with {self.nind} Individuals and {self.nsnp} SNPs\")\n",
    "                       \n",
    "    def get_geno_i(self, i, missing_val=3):\n",
    "        \"\"\"Load Individual i\"\"\"\n",
    "        batch, eff = self.get_enc_index(i)\n",
    "        geno = self.give_bit_file()  # Load the whole bit file\n",
    "\n",
    "        geno_sub = geno[:,[batch]]  # Byte value of batch\n",
    "        geno_sub = np.unpackbits(geno_sub, axis=1)[:,2*eff:2*eff+2]\n",
    "        geno_sub = 2*geno_sub[:,0] + geno_sub[:,1]\n",
    "        geno_sub[geno_sub==3] = missing_val  #set missing values\n",
    "        return geno_sub\n",
    "      \n",
    "    def get_geno_indvidiaul_iid(self, iid):\n",
    "        \"\"\"Return Genotypes of Individual iid\"\"\"\n",
    "        i = self.get_i_from_iid(iid)\n",
    "        g = self.get_geno_i(i)\n",
    "        return g\n",
    "        \n",
    "    def get_i_from_iid(self, iid):\n",
    "        \"\"\"Get the Index of Individual iid\"\"\"\n",
    "        raise NotImplementedError(\"Implement this\")\n",
    "        \n",
    "    def give_bit_file(self):\n",
    "        base_path = self.base_path\n",
    "        geno=np.fromfile(base_path+\".geno\", dtype='uint8')[self.rlen:] #without header\n",
    "        geno.shape=(self.nsnp, self.rlen)\n",
    "        return geno\n",
    "    \n",
    "    def get_enc_index(self, i):\n",
    "        \"\"\"Get the Index in the Encoding and the modulo 4 value\n",
    "        (position in batch)\"\"\"\n",
    "        rlen_sub = int(np.floor(i * 2/8)) # Effectively dividing by four\n",
    "        mod_i = i % 4  # Calculate the rest\n",
    "        return rlen_sub, mod_i"
   ]
  },
  {
   "cell_type": "markdown",
   "metadata": {},
   "source": [
    "### Test the Code"
   ]
  },
  {
   "cell_type": "code",
   "execution_count": 63,
   "metadata": {},
   "outputs": [
    {
     "name": "stdout",
     "output_type": "stream",
     "text": [
      "File with 5081 Individuals and 1233013 SNPs\n",
      "CPU times: user 31.7 ms, sys: 848 ms, total: 880 ms\n",
      "Wall time: 887 ms\n"
     ]
    }
   ],
   "source": [
    "%%time\n",
    "es = EigenstratLoad(base_path = \"./Data/ReichLabEigenstrat/Raw/v37.2.1240K\")\n",
    "g = es.get_geno_i(0)"
   ]
  },
  {
   "cell_type": "code",
   "execution_count": 80,
   "metadata": {},
   "outputs": [
    {
     "name": "stdout",
     "output_type": "stream",
     "text": [
      "File with 5081 Individuals and 1233013 SNPs\n",
      "Avg. Coverage: 0.048705\n",
      "SNps covered: 60054\n",
      "Avg. Coverage: 0.105648\n",
      "SNps covered: 130265\n",
      "Avg. Coverage: 0.112596\n",
      "SNps covered: 138832\n",
      "Avg. Coverage: 0.056045\n",
      "SNps covered: 69104\n",
      "Avg. Coverage: 0.435407\n",
      "SNps covered: 536862\n",
      "Avg. Coverage: 0.055553\n",
      "SNps covered: 68498\n",
      "Avg. Coverage: 0.631162\n",
      "SNps covered: 778231\n",
      "Avg. Coverage: 0.026451\n",
      "SNps covered: 32614\n",
      "Avg. Coverage: 0.091817\n",
      "SNps covered: 113211\n",
      "Avg. Coverage: 0.055737\n",
      "SNps covered: 68724\n",
      "CPU times: user 364 ms, sys: 7.19 s, total: 7.55 s\n",
      "Wall time: 7.55 s\n"
     ]
    }
   ],
   "source": [
    "%%time\n",
    "es = EigenstratLoad(base_path = \"./Data/ReichLabEigenstrat/Raw/v37.2.1240K\")\n",
    "for i in range(10):\n",
    "    g = es.get_geno_i(i)\n",
    "    print(f\"Avg. Coverage: {1-np.mean(g==3):.6f}\")\n",
    "    print(f\"SNps covered: {np.sum(g!=3)}\")"
   ]
  },
  {
   "cell_type": "markdown",
   "metadata": {},
   "source": [
    "# Test the Python file"
   ]
  },
  {
   "cell_type": "code",
   "execution_count": 2,
   "metadata": {},
   "outputs": [],
   "source": [
    "sys.path.append(\"./PackagesSupport/loadEigenstrat/\")  # Since now we are in the Root Directory\n",
    "from loadEigenstrat import EigenstratLoad"
   ]
  },
  {
   "cell_type": "code",
   "execution_count": 3,
   "metadata": {},
   "outputs": [
    {
     "name": "stdout",
     "output_type": "stream",
     "text": [
      "File with 5081 Individuals and 1233013 SNPs\n"
     ]
    }
   ],
   "source": [
    "es = EigenstratLoad(base_path = \"./Data/ReichLabEigenstrat/Raw/v37.2.1240K\")"
   ]
  },
  {
   "cell_type": "code",
   "execution_count": 4,
   "metadata": {},
   "outputs": [
    {
     "data": {
      "text/plain": [
       "array([['rs3094315', '1', '0.020130', '752566', 'G', 'A'],\n",
       "       ['rs12124819', '1', '0.020242', '776546', 'A', 'G'],\n",
       "       ['rs28765502', '1', '0.022137', '832918', 'T', 'C'],\n",
       "       ...,\n",
       "       ['rs28628009', '24', '0', '59033110', 'A', 'T'],\n",
       "       ['rs55686319', '24', '0', '59033139', 'T', 'C'],\n",
       "       ['rs75089321', '24', '0', '59033249', 'G', 'T']], dtype='<U15')"
      ]
     },
     "execution_count": 4,
     "metadata": {},
     "output_type": "execute_result"
    }
   ],
   "source": [
    "es.df_snp"
   ]
  },
  {
   "cell_type": "code",
   "execution_count": 42,
   "metadata": {},
   "outputs": [
    {
     "name": "stdout",
     "output_type": "stream",
     "text": [
      "Avg. Coverage: 0.048705\n",
      "SNps covered: 60054\n",
      "Avg. Coverage: 0.105648\n",
      "SNps covered: 130265\n",
      "Avg. Coverage: 0.112596\n",
      "SNps covered: 138832\n",
      "Avg. Coverage: 0.056045\n",
      "SNps covered: 69104\n",
      "Avg. Coverage: 0.435407\n",
      "SNps covered: 536862\n",
      "Avg. Coverage: 0.055553\n",
      "SNps covered: 68498\n",
      "Avg. Coverage: 0.631162\n",
      "SNps covered: 778231\n",
      "Avg. Coverage: 0.026451\n",
      "SNps covered: 32614\n",
      "Avg. Coverage: 0.091817\n",
      "SNps covered: 113211\n",
      "Avg. Coverage: 0.055737\n",
      "SNps covered: 68724\n"
     ]
    }
   ],
   "source": [
    "for i in range(10):\n",
    "    g = es.get_geno_i(i)\n",
    "    print(f\"Avg. Coverage: {1-np.mean(g==3):.6f}\")\n",
    "    print(f\"SNps covered: {np.sum(g!=3)}\")"
   ]
  },
  {
   "cell_type": "code",
   "execution_count": 28,
   "metadata": {},
   "outputs": [
    {
     "name": "stdout",
     "output_type": "stream",
     "text": [
      "Avg. Coverage: 0.921500\n",
      "SNps covered: 1136222\n"
     ]
    }
   ],
   "source": [
    "g = es.get_geno_i(953)\n",
    "print(f\"Avg. Coverage: {1-np.mean(g==3):.6f}\")\n",
    "print(f\"SNps covered: {np.sum(g!=3)}\")"
   ]
  },
  {
   "cell_type": "markdown",
   "metadata": {},
   "source": [
    "### And now try out the Olalde Paper"
   ]
  },
  {
   "cell_type": "code",
   "execution_count": 5,
   "metadata": {},
   "outputs": [
    {
     "name": "stdout",
     "output_type": "stream",
     "text": [
      "File with 278 Individuals and 1233013 SNPs\n"
     ]
    }
   ],
   "source": [
    "es = EigenstratLoad(base_path = \"./Data/ReichLabEigenstrat/Olalde2019/Olalde_et_al_genotypes\")"
   ]
  },
  {
   "cell_type": "code",
   "execution_count": 6,
   "metadata": {},
   "outputs": [
    {
     "name": "stdout",
     "output_type": "stream",
     "text": [
      "Avg. Coverage: 0.122928\n",
      "SNps covered: 151572\n",
      "Avg. Coverage: 0.436765\n",
      "SNps covered: 538537\n",
      "Avg. Coverage: 0.047256\n",
      "SNps covered: 58267\n",
      "Avg. Coverage: 0.576944\n",
      "SNps covered: 711380\n",
      "Avg. Coverage: 0.120054\n",
      "SNps covered: 148028\n",
      "Avg. Coverage: 0.347864\n",
      "SNps covered: 428921\n",
      "Avg. Coverage: 0.852950\n",
      "SNps covered: 1051699\n",
      "Avg. Coverage: 0.098032\n",
      "SNps covered: 120875\n",
      "Avg. Coverage: 0.517977\n",
      "SNps covered: 638672\n",
      "Avg. Coverage: 0.203932\n",
      "SNps covered: 251451\n"
     ]
    }
   ],
   "source": [
    "for i in range(10):\n",
    "    g = es.get_geno_i(i)\n",
    "    print(f\"Avg. Coverage: {1-np.mean(g==3):.6f}\")\n",
    "    print(f\"SNps covered: {np.sum(g!=3)}\")"
   ]
  },
  {
   "cell_type": "markdown",
   "metadata": {},
   "source": [
    "# Area 51"
   ]
  },
  {
   "cell_type": "code",
   "execution_count": 49,
   "metadata": {},
   "outputs": [
    {
     "name": "stdout",
     "output_type": "stream",
     "text": [
      "CPU times: user 6.68 s, sys: 180 ms, total: 6.86 s\n",
      "Wall time: 6.93 s\n"
     ]
    },
    {
     "data": {
      "text/plain": [
       "array([['rs3094315', '1', '0.020130', '752566', 'G', 'A'],\n",
       "       ['rs12124819', '1', '0.020242', '776546', 'A', 'G'],\n",
       "       ['rs28765502', '1', '0.022137', '832918', 'T', 'C'],\n",
       "       ...,\n",
       "       ['rs28628009', '24', '0', '59033110', 'A', 'T'],\n",
       "       ['rs55686319', '24', '0', '59033139', 'T', 'C'],\n",
       "       ['rs75089321', '24', '0', '59033249', 'G', 'T']], dtype='<U15')"
      ]
     },
     "execution_count": 49,
     "metadata": {},
     "output_type": "execute_result"
    }
   ],
   "source": [
    "%%time\n",
    "np.loadtxt(\"./Data/ReichLabEigenstrat/Olalde2019/Olalde_et_al_genotypes.snp\", dtype=\"str\")"
   ]
  },
  {
   "cell_type": "code",
   "execution_count": 14,
   "metadata": {},
   "outputs": [
    {
     "name": "stdout",
     "output_type": "stream",
     "text": [
      "CPU times: user 9.65 s, sys: 131 ms, total: 9.78 s\n",
      "Wall time: 9.79 s\n"
     ]
    }
   ],
   "source": [
    "%%time\n",
    "df_snp = pd.read_csv(\"./Data/ReichLabEigenstrat/Olalde2019/Olalde_et_al_genotypes.snp\", header=None, \n",
    "                     sep=r\"\\s+\", engine=\"python\")\n",
    "df_snp.columns = [\"SNP\", \"chr\", \"map\", \"pos\", \"ref\", \"alt\"] # Set the Columns"
   ]
  },
  {
   "cell_type": "code",
   "execution_count": 20,
   "metadata": {},
   "outputs": [
    {
     "data": {
      "text/html": [
       "<div>\n",
       "<style scoped>\n",
       "    .dataframe tbody tr th:only-of-type {\n",
       "        vertical-align: middle;\n",
       "    }\n",
       "\n",
       "    .dataframe tbody tr th {\n",
       "        vertical-align: top;\n",
       "    }\n",
       "\n",
       "    .dataframe thead th {\n",
       "        text-align: right;\n",
       "    }\n",
       "</style>\n",
       "<table border=\"1\" class=\"dataframe\">\n",
       "  <thead>\n",
       "    <tr style=\"text-align: right;\">\n",
       "      <th></th>\n",
       "      <th>SNP</th>\n",
       "      <th>chr</th>\n",
       "      <th>map</th>\n",
       "      <th>pos</th>\n",
       "      <th>ref</th>\n",
       "      <th>alt</th>\n",
       "    </tr>\n",
       "  </thead>\n",
       "  <tbody>\n",
       "    <tr>\n",
       "      <th>0</th>\n",
       "      <td>rs3094315</td>\n",
       "      <td>1</td>\n",
       "      <td>0.020130</td>\n",
       "      <td>752566</td>\n",
       "      <td>G</td>\n",
       "      <td>A</td>\n",
       "    </tr>\n",
       "    <tr>\n",
       "      <th>1</th>\n",
       "      <td>rs12124819</td>\n",
       "      <td>1</td>\n",
       "      <td>0.020242</td>\n",
       "      <td>776546</td>\n",
       "      <td>A</td>\n",
       "      <td>G</td>\n",
       "    </tr>\n",
       "    <tr>\n",
       "      <th>2</th>\n",
       "      <td>rs28765502</td>\n",
       "      <td>1</td>\n",
       "      <td>0.022137</td>\n",
       "      <td>832918</td>\n",
       "      <td>T</td>\n",
       "      <td>C</td>\n",
       "    </tr>\n",
       "    <tr>\n",
       "      <th>3</th>\n",
       "      <td>rs7419119</td>\n",
       "      <td>1</td>\n",
       "      <td>0.022518</td>\n",
       "      <td>842013</td>\n",
       "      <td>T</td>\n",
       "      <td>G</td>\n",
       "    </tr>\n",
       "    <tr>\n",
       "      <th>4</th>\n",
       "      <td>rs950122</td>\n",
       "      <td>1</td>\n",
       "      <td>0.022720</td>\n",
       "      <td>846864</td>\n",
       "      <td>G</td>\n",
       "      <td>C</td>\n",
       "    </tr>\n",
       "    <tr>\n",
       "      <th>5</th>\n",
       "      <td>rs113171913</td>\n",
       "      <td>1</td>\n",
       "      <td>0.023436</td>\n",
       "      <td>869303</td>\n",
       "      <td>C</td>\n",
       "      <td>T</td>\n",
       "    </tr>\n",
       "    <tr>\n",
       "      <th>6</th>\n",
       "      <td>rs13302957</td>\n",
       "      <td>1</td>\n",
       "      <td>0.024116</td>\n",
       "      <td>891021</td>\n",
       "      <td>G</td>\n",
       "      <td>A</td>\n",
       "    </tr>\n",
       "    <tr>\n",
       "      <th>7</th>\n",
       "      <td>rs59986066</td>\n",
       "      <td>1</td>\n",
       "      <td>0.024183</td>\n",
       "      <td>893462</td>\n",
       "      <td>C</td>\n",
       "      <td>T</td>\n",
       "    </tr>\n",
       "    <tr>\n",
       "      <th>8</th>\n",
       "      <td>rs112905931</td>\n",
       "      <td>1</td>\n",
       "      <td>0.024260</td>\n",
       "      <td>896271</td>\n",
       "      <td>C</td>\n",
       "      <td>T</td>\n",
       "    </tr>\n",
       "    <tr>\n",
       "      <th>9</th>\n",
       "      <td>rs6696609</td>\n",
       "      <td>1</td>\n",
       "      <td>0.024457</td>\n",
       "      <td>903426</td>\n",
       "      <td>C</td>\n",
       "      <td>T</td>\n",
       "    </tr>\n",
       "    <tr>\n",
       "      <th>10</th>\n",
       "      <td>rs13303368</td>\n",
       "      <td>1</td>\n",
       "      <td>0.024771</td>\n",
       "      <td>914852</td>\n",
       "      <td>G</td>\n",
       "      <td>C</td>\n",
       "    </tr>\n",
       "    <tr>\n",
       "      <th>11</th>\n",
       "      <td>rs8997</td>\n",
       "      <td>1</td>\n",
       "      <td>0.025727</td>\n",
       "      <td>949654</td>\n",
       "      <td>A</td>\n",
       "      <td>G</td>\n",
       "    </tr>\n",
       "    <tr>\n",
       "      <th>12</th>\n",
       "      <td>rs4075116</td>\n",
       "      <td>1</td>\n",
       "      <td>0.026208</td>\n",
       "      <td>1003629</td>\n",
       "      <td>C</td>\n",
       "      <td>T</td>\n",
       "    </tr>\n",
       "    <tr>\n",
       "      <th>13</th>\n",
       "      <td>rs3934834</td>\n",
       "      <td>1</td>\n",
       "      <td>0.026219</td>\n",
       "      <td>1005806</td>\n",
       "      <td>C</td>\n",
       "      <td>T</td>\n",
       "    </tr>\n",
       "    <tr>\n",
       "      <th>14</th>\n",
       "      <td>rs9442372</td>\n",
       "      <td>1</td>\n",
       "      <td>0.026288</td>\n",
       "      <td>1018704</td>\n",
       "      <td>A</td>\n",
       "      <td>G</td>\n",
       "    </tr>\n",
       "    <tr>\n",
       "      <th>15</th>\n",
       "      <td>rs3737728</td>\n",
       "      <td>1</td>\n",
       "      <td>0.026324</td>\n",
       "      <td>1021415</td>\n",
       "      <td>A</td>\n",
       "      <td>G</td>\n",
       "    </tr>\n",
       "    <tr>\n",
       "      <th>16</th>\n",
       "      <td>rs11260588</td>\n",
       "      <td>1</td>\n",
       "      <td>0.026330</td>\n",
       "      <td>1021658</td>\n",
       "      <td>G</td>\n",
       "      <td>A</td>\n",
       "    </tr>\n",
       "    <tr>\n",
       "      <th>17</th>\n",
       "      <td>rs9442398</td>\n",
       "      <td>1</td>\n",
       "      <td>0.026331</td>\n",
       "      <td>1021695</td>\n",
       "      <td>A</td>\n",
       "      <td>G</td>\n",
       "    </tr>\n",
       "    <tr>\n",
       "      <th>18</th>\n",
       "      <td>rs6687776</td>\n",
       "      <td>1</td>\n",
       "      <td>0.026621</td>\n",
       "      <td>1030565</td>\n",
       "      <td>C</td>\n",
       "      <td>T</td>\n",
       "    </tr>\n",
       "    <tr>\n",
       "      <th>19</th>\n",
       "      <td>rs9651273</td>\n",
       "      <td>1</td>\n",
       "      <td>0.026628</td>\n",
       "      <td>1031540</td>\n",
       "      <td>A</td>\n",
       "      <td>G</td>\n",
       "    </tr>\n",
       "    <tr>\n",
       "      <th>20</th>\n",
       "      <td>rs147606383</td>\n",
       "      <td>1</td>\n",
       "      <td>0.026665</td>\n",
       "      <td>1045331</td>\n",
       "      <td>G</td>\n",
       "      <td>A</td>\n",
       "    </tr>\n",
       "    <tr>\n",
       "      <th>21</th>\n",
       "      <td>rs4970405</td>\n",
       "      <td>1</td>\n",
       "      <td>0.026674</td>\n",
       "      <td>1048955</td>\n",
       "      <td>A</td>\n",
       "      <td>G</td>\n",
       "    </tr>\n",
       "    <tr>\n",
       "      <th>22</th>\n",
       "      <td>rs12726255</td>\n",
       "      <td>1</td>\n",
       "      <td>0.026677</td>\n",
       "      <td>1049950</td>\n",
       "      <td>A</td>\n",
       "      <td>G</td>\n",
       "    </tr>\n",
       "    <tr>\n",
       "      <th>23</th>\n",
       "      <td>rs7540009</td>\n",
       "      <td>1</td>\n",
       "      <td>0.026704</td>\n",
       "      <td>1060235</td>\n",
       "      <td>G</td>\n",
       "      <td>A</td>\n",
       "    </tr>\n",
       "    <tr>\n",
       "      <th>24</th>\n",
       "      <td>rs11807848</td>\n",
       "      <td>1</td>\n",
       "      <td>0.026711</td>\n",
       "      <td>1061166</td>\n",
       "      <td>T</td>\n",
       "      <td>C</td>\n",
       "    </tr>\n",
       "    <tr>\n",
       "      <th>25</th>\n",
       "      <td>rs9442373</td>\n",
       "      <td>1</td>\n",
       "      <td>0.026733</td>\n",
       "      <td>1062638</td>\n",
       "      <td>C</td>\n",
       "      <td>A</td>\n",
       "    </tr>\n",
       "    <tr>\n",
       "      <th>26</th>\n",
       "      <td>rs2298217</td>\n",
       "      <td>1</td>\n",
       "      <td>0.026806</td>\n",
       "      <td>1064979</td>\n",
       "      <td>C</td>\n",
       "      <td>T</td>\n",
       "    </tr>\n",
       "    <tr>\n",
       "      <th>27</th>\n",
       "      <td>rs12145826</td>\n",
       "      <td>1</td>\n",
       "      <td>0.026839</td>\n",
       "      <td>1066029</td>\n",
       "      <td>G</td>\n",
       "      <td>A</td>\n",
       "    </tr>\n",
       "    <tr>\n",
       "      <th>28</th>\n",
       "      <td>rs4970357</td>\n",
       "      <td>1</td>\n",
       "      <td>0.027073</td>\n",
       "      <td>1077064</td>\n",
       "      <td>C</td>\n",
       "      <td>A</td>\n",
       "    </tr>\n",
       "    <tr>\n",
       "      <th>29</th>\n",
       "      <td>rs11260603</td>\n",
       "      <td>1</td>\n",
       "      <td>0.027116</td>\n",
       "      <td>1079198</td>\n",
       "      <td>T</td>\n",
       "      <td>C</td>\n",
       "    </tr>\n",
       "    <tr>\n",
       "      <th>...</th>\n",
       "      <td>...</td>\n",
       "      <td>...</td>\n",
       "      <td>...</td>\n",
       "      <td>...</td>\n",
       "      <td>...</td>\n",
       "      <td>...</td>\n",
       "    </tr>\n",
       "    <tr>\n",
       "      <th>93136</th>\n",
       "      <td>rs7532941</td>\n",
       "      <td>1</td>\n",
       "      <td>2.861465</td>\n",
       "      <td>249066372</td>\n",
       "      <td>T</td>\n",
       "      <td>C</td>\n",
       "    </tr>\n",
       "    <tr>\n",
       "      <th>93137</th>\n",
       "      <td>rs12748771</td>\n",
       "      <td>1</td>\n",
       "      <td>2.861524</td>\n",
       "      <td>249068929</td>\n",
       "      <td>T</td>\n",
       "      <td>C</td>\n",
       "    </tr>\n",
       "    <tr>\n",
       "      <th>93138</th>\n",
       "      <td>rs12750069</td>\n",
       "      <td>1</td>\n",
       "      <td>2.861533</td>\n",
       "      <td>249069190</td>\n",
       "      <td>G</td>\n",
       "      <td>A</td>\n",
       "    </tr>\n",
       "    <tr>\n",
       "      <th>93139</th>\n",
       "      <td>rs12563983</td>\n",
       "      <td>1</td>\n",
       "      <td>2.861582</td>\n",
       "      <td>249074032</td>\n",
       "      <td>T</td>\n",
       "      <td>C</td>\n",
       "    </tr>\n",
       "    <tr>\n",
       "      <th>93140</th>\n",
       "      <td>rs6683472</td>\n",
       "      <td>1</td>\n",
       "      <td>2.861588</td>\n",
       "      <td>249075377</td>\n",
       "      <td>T</td>\n",
       "      <td>G</td>\n",
       "    </tr>\n",
       "    <tr>\n",
       "      <th>93141</th>\n",
       "      <td>rs11205395</td>\n",
       "      <td>1</td>\n",
       "      <td>2.861600</td>\n",
       "      <td>249076621</td>\n",
       "      <td>C</td>\n",
       "      <td>T</td>\n",
       "    </tr>\n",
       "    <tr>\n",
       "      <th>93142</th>\n",
       "      <td>rs5024942</td>\n",
       "      <td>1</td>\n",
       "      <td>2.861620</td>\n",
       "      <td>249077321</td>\n",
       "      <td>T</td>\n",
       "      <td>C</td>\n",
       "    </tr>\n",
       "    <tr>\n",
       "      <th>93143</th>\n",
       "      <td>rs11205405</td>\n",
       "      <td>1</td>\n",
       "      <td>2.861741</td>\n",
       "      <td>249081043</td>\n",
       "      <td>G</td>\n",
       "      <td>A</td>\n",
       "    </tr>\n",
       "    <tr>\n",
       "      <th>93144</th>\n",
       "      <td>rs4281354</td>\n",
       "      <td>1</td>\n",
       "      <td>2.861773</td>\n",
       "      <td>249083236</td>\n",
       "      <td>G</td>\n",
       "      <td>A</td>\n",
       "    </tr>\n",
       "    <tr>\n",
       "      <th>93145</th>\n",
       "      <td>rs7529822</td>\n",
       "      <td>1</td>\n",
       "      <td>2.861832</td>\n",
       "      <td>249088459</td>\n",
       "      <td>G</td>\n",
       "      <td>A</td>\n",
       "    </tr>\n",
       "    <tr>\n",
       "      <th>93146</th>\n",
       "      <td>rs4539172</td>\n",
       "      <td>1</td>\n",
       "      <td>2.861835</td>\n",
       "      <td>249089971</td>\n",
       "      <td>G</td>\n",
       "      <td>T</td>\n",
       "    </tr>\n",
       "    <tr>\n",
       "      <th>93147</th>\n",
       "      <td>rs12059437</td>\n",
       "      <td>1</td>\n",
       "      <td>2.861863</td>\n",
       "      <td>249094557</td>\n",
       "      <td>C</td>\n",
       "      <td>T</td>\n",
       "    </tr>\n",
       "    <tr>\n",
       "      <th>93148</th>\n",
       "      <td>rs4307600</td>\n",
       "      <td>1</td>\n",
       "      <td>2.861945</td>\n",
       "      <td>249105163</td>\n",
       "      <td>T</td>\n",
       "      <td>C</td>\n",
       "    </tr>\n",
       "    <tr>\n",
       "      <th>93149</th>\n",
       "      <td>rs6688948</td>\n",
       "      <td>1</td>\n",
       "      <td>2.861990</td>\n",
       "      <td>249114846</td>\n",
       "      <td>C</td>\n",
       "      <td>T</td>\n",
       "    </tr>\n",
       "    <tr>\n",
       "      <th>93150</th>\n",
       "      <td>rs4926509</td>\n",
       "      <td>1</td>\n",
       "      <td>2.861993</td>\n",
       "      <td>249115467</td>\n",
       "      <td>C</td>\n",
       "      <td>A</td>\n",
       "    </tr>\n",
       "    <tr>\n",
       "      <th>93151</th>\n",
       "      <td>rs7526416</td>\n",
       "      <td>1</td>\n",
       "      <td>2.862003</td>\n",
       "      <td>249117341</td>\n",
       "      <td>G</td>\n",
       "      <td>A</td>\n",
       "    </tr>\n",
       "    <tr>\n",
       "      <th>93152</th>\n",
       "      <td>rs11205415</td>\n",
       "      <td>1</td>\n",
       "      <td>2.862020</td>\n",
       "      <td>249120684</td>\n",
       "      <td>T</td>\n",
       "      <td>G</td>\n",
       "    </tr>\n",
       "    <tr>\n",
       "      <th>93153</th>\n",
       "      <td>rs11800006</td>\n",
       "      <td>1</td>\n",
       "      <td>2.862039</td>\n",
       "      <td>249122243</td>\n",
       "      <td>T</td>\n",
       "      <td>C</td>\n",
       "    </tr>\n",
       "    <tr>\n",
       "      <th>93154</th>\n",
       "      <td>rs9727917</td>\n",
       "      <td>1</td>\n",
       "      <td>2.862095</td>\n",
       "      <td>249126973</td>\n",
       "      <td>A</td>\n",
       "      <td>G</td>\n",
       "    </tr>\n",
       "    <tr>\n",
       "      <th>93155</th>\n",
       "      <td>rs10157709</td>\n",
       "      <td>1</td>\n",
       "      <td>2.862202</td>\n",
       "      <td>249154567</td>\n",
       "      <td>T</td>\n",
       "      <td>C</td>\n",
       "    </tr>\n",
       "    <tr>\n",
       "      <th>93156</th>\n",
       "      <td>rs4072273</td>\n",
       "      <td>1</td>\n",
       "      <td>2.862210</td>\n",
       "      <td>249158239</td>\n",
       "      <td>A</td>\n",
       "      <td>C</td>\n",
       "    </tr>\n",
       "    <tr>\n",
       "      <th>93157</th>\n",
       "      <td>rs6587759</td>\n",
       "      <td>1</td>\n",
       "      <td>2.862221</td>\n",
       "      <td>249163530</td>\n",
       "      <td>G</td>\n",
       "      <td>A</td>\n",
       "    </tr>\n",
       "    <tr>\n",
       "      <th>93158</th>\n",
       "      <td>rs12033802</td>\n",
       "      <td>1</td>\n",
       "      <td>2.862235</td>\n",
       "      <td>249164875</td>\n",
       "      <td>T</td>\n",
       "      <td>C</td>\n",
       "    </tr>\n",
       "    <tr>\n",
       "      <th>93159</th>\n",
       "      <td>rs10788875</td>\n",
       "      <td>1</td>\n",
       "      <td>2.862322</td>\n",
       "      <td>249170711</td>\n",
       "      <td>G</td>\n",
       "      <td>T</td>\n",
       "    </tr>\n",
       "    <tr>\n",
       "      <th>93160</th>\n",
       "      <td>rs4359061</td>\n",
       "      <td>1</td>\n",
       "      <td>2.862432</td>\n",
       "      <td>249174682</td>\n",
       "      <td>G</td>\n",
       "      <td>A</td>\n",
       "    </tr>\n",
       "    <tr>\n",
       "      <th>93161</th>\n",
       "      <td>rs12043282</td>\n",
       "      <td>1</td>\n",
       "      <td>2.862505</td>\n",
       "      <td>249179856</td>\n",
       "      <td>T</td>\n",
       "      <td>C</td>\n",
       "    </tr>\n",
       "    <tr>\n",
       "      <th>93162</th>\n",
       "      <td>rs12087178</td>\n",
       "      <td>1</td>\n",
       "      <td>2.862563</td>\n",
       "      <td>249188627</td>\n",
       "      <td>G</td>\n",
       "      <td>A</td>\n",
       "    </tr>\n",
       "    <tr>\n",
       "      <th>93163</th>\n",
       "      <td>rs6587762</td>\n",
       "      <td>1</td>\n",
       "      <td>2.862626</td>\n",
       "      <td>249198164</td>\n",
       "      <td>G</td>\n",
       "      <td>A</td>\n",
       "    </tr>\n",
       "    <tr>\n",
       "      <th>93164</th>\n",
       "      <td>rs7527472</td>\n",
       "      <td>1</td>\n",
       "      <td>2.862668</td>\n",
       "      <td>249202567</td>\n",
       "      <td>C</td>\n",
       "      <td>T</td>\n",
       "    </tr>\n",
       "    <tr>\n",
       "      <th>93165</th>\n",
       "      <td>rs6704311</td>\n",
       "      <td>1</td>\n",
       "      <td>2.862730</td>\n",
       "      <td>249210707</td>\n",
       "      <td>G</td>\n",
       "      <td>A</td>\n",
       "    </tr>\n",
       "  </tbody>\n",
       "</table>\n",
       "<p>93166 rows × 6 columns</p>\n",
       "</div>"
      ],
      "text/plain": [
       "               SNP  chr       map        pos ref alt\n",
       "0        rs3094315    1  0.020130     752566   G   A\n",
       "1       rs12124819    1  0.020242     776546   A   G\n",
       "2       rs28765502    1  0.022137     832918   T   C\n",
       "3        rs7419119    1  0.022518     842013   T   G\n",
       "4         rs950122    1  0.022720     846864   G   C\n",
       "5      rs113171913    1  0.023436     869303   C   T\n",
       "6       rs13302957    1  0.024116     891021   G   A\n",
       "7       rs59986066    1  0.024183     893462   C   T\n",
       "8      rs112905931    1  0.024260     896271   C   T\n",
       "9        rs6696609    1  0.024457     903426   C   T\n",
       "10      rs13303368    1  0.024771     914852   G   C\n",
       "11          rs8997    1  0.025727     949654   A   G\n",
       "12       rs4075116    1  0.026208    1003629   C   T\n",
       "13       rs3934834    1  0.026219    1005806   C   T\n",
       "14       rs9442372    1  0.026288    1018704   A   G\n",
       "15       rs3737728    1  0.026324    1021415   A   G\n",
       "16      rs11260588    1  0.026330    1021658   G   A\n",
       "17       rs9442398    1  0.026331    1021695   A   G\n",
       "18       rs6687776    1  0.026621    1030565   C   T\n",
       "19       rs9651273    1  0.026628    1031540   A   G\n",
       "20     rs147606383    1  0.026665    1045331   G   A\n",
       "21       rs4970405    1  0.026674    1048955   A   G\n",
       "22      rs12726255    1  0.026677    1049950   A   G\n",
       "23       rs7540009    1  0.026704    1060235   G   A\n",
       "24      rs11807848    1  0.026711    1061166   T   C\n",
       "25       rs9442373    1  0.026733    1062638   C   A\n",
       "26       rs2298217    1  0.026806    1064979   C   T\n",
       "27      rs12145826    1  0.026839    1066029   G   A\n",
       "28       rs4970357    1  0.027073    1077064   C   A\n",
       "29      rs11260603    1  0.027116    1079198   T   C\n",
       "...            ...  ...       ...        ...  ..  ..\n",
       "93136    rs7532941    1  2.861465  249066372   T   C\n",
       "93137   rs12748771    1  2.861524  249068929   T   C\n",
       "93138   rs12750069    1  2.861533  249069190   G   A\n",
       "93139   rs12563983    1  2.861582  249074032   T   C\n",
       "93140    rs6683472    1  2.861588  249075377   T   G\n",
       "93141   rs11205395    1  2.861600  249076621   C   T\n",
       "93142    rs5024942    1  2.861620  249077321   T   C\n",
       "93143   rs11205405    1  2.861741  249081043   G   A\n",
       "93144    rs4281354    1  2.861773  249083236   G   A\n",
       "93145    rs7529822    1  2.861832  249088459   G   A\n",
       "93146    rs4539172    1  2.861835  249089971   G   T\n",
       "93147   rs12059437    1  2.861863  249094557   C   T\n",
       "93148    rs4307600    1  2.861945  249105163   T   C\n",
       "93149    rs6688948    1  2.861990  249114846   C   T\n",
       "93150    rs4926509    1  2.861993  249115467   C   A\n",
       "93151    rs7526416    1  2.862003  249117341   G   A\n",
       "93152   rs11205415    1  2.862020  249120684   T   G\n",
       "93153   rs11800006    1  2.862039  249122243   T   C\n",
       "93154    rs9727917    1  2.862095  249126973   A   G\n",
       "93155   rs10157709    1  2.862202  249154567   T   C\n",
       "93156    rs4072273    1  2.862210  249158239   A   C\n",
       "93157    rs6587759    1  2.862221  249163530   G   A\n",
       "93158   rs12033802    1  2.862235  249164875   T   C\n",
       "93159   rs10788875    1  2.862322  249170711   G   T\n",
       "93160    rs4359061    1  2.862432  249174682   G   A\n",
       "93161   rs12043282    1  2.862505  249179856   T   C\n",
       "93162   rs12087178    1  2.862563  249188627   G   A\n",
       "93163    rs6587762    1  2.862626  249198164   G   A\n",
       "93164    rs7527472    1  2.862668  249202567   C   T\n",
       "93165    rs6704311    1  2.862730  249210707   G   A\n",
       "\n",
       "[93166 rows x 6 columns]"
      ]
     },
     "execution_count": 20,
     "metadata": {},
     "output_type": "execute_result"
    }
   ],
   "source": [
    "ch =1\n",
    "df_snp[df_snp[\"chr\"]==ch]"
   ]
  },
  {
   "cell_type": "code",
   "execution_count": 41,
   "metadata": {},
   "outputs": [],
   "source": [
    "df_t = df_snp.loc[df_snp[\"chr\"]==1, [\"ref\", \"alt\"]]"
   ]
  },
  {
   "cell_type": "code",
   "execution_count": 42,
   "metadata": {},
   "outputs": [],
   "source": [
    "ref, alt = df_t[\"ref\"].values, df_t[\"alt\"].values"
   ]
  },
  {
   "cell_type": "code",
   "execution_count": 44,
   "metadata": {},
   "outputs": [
    {
     "data": {
      "text/plain": [
       "array(['A', 'G', 'C', ..., 'A', 'T', 'A'], dtype=object)"
      ]
     },
     "execution_count": 44,
     "metadata": {},
     "output_type": "execute_result"
    }
   ],
   "source": [
    "alt"
   ]
  },
  {
   "cell_type": "code",
   "execution_count": 48,
   "metadata": {},
   "outputs": [
    {
     "data": {
      "text/plain": [
       "array([   752566,    776546,    832918, ..., 249198164, 249202567,\n",
       "       249210707])"
      ]
     },
     "execution_count": 48,
     "metadata": {},
     "output_type": "execute_result"
    }
   ],
   "source": [
    "pos = df_snp.loc[df_snp[\"chr\"]==ch, \"pos\"]\n",
    "pos.values"
   ]
  },
  {
   "cell_type": "code",
   "execution_count": 51,
   "metadata": {},
   "outputs": [
    {
     "name": "stdout",
     "output_type": "stream",
     "text": [
      "CPU times: user 2.38 ms, sys: 3.95 ms, total: 6.33 ms\n",
      "Wall time: 5.9 ms\n"
     ]
    }
   ],
   "source": [
    "%%time\n",
    "df_ind = pd.read_csv(\"./Data/ReichLabEigenstrat/Olalde2019/Olalde_et_al_genotypes.ind\", header=None, \n",
    "                     sep=r\"\\s+\", engine=\"python\")\n",
    "df_ind.columns = [\"iid\", \"sex\", \"cls\"] # Set the Columns"
   ]
  },
  {
   "cell_type": "code",
   "execution_count": 53,
   "metadata": {},
   "outputs": [
    {
     "data": {
      "text/plain": [
       "278"
      ]
     },
     "execution_count": 53,
     "metadata": {},
     "output_type": "execute_result"
    }
   ],
   "source": [
    "len(df_ind)"
   ]
  },
  {
   "cell_type": "code",
   "execution_count": 55,
   "metadata": {},
   "outputs": [
    {
     "data": {
      "text/html": [
       "<div>\n",
       "<style scoped>\n",
       "    .dataframe tbody tr th:only-of-type {\n",
       "        vertical-align: middle;\n",
       "    }\n",
       "\n",
       "    .dataframe tbody tr th {\n",
       "        vertical-align: top;\n",
       "    }\n",
       "\n",
       "    .dataframe thead th {\n",
       "        text-align: right;\n",
       "    }\n",
       "</style>\n",
       "<table border=\"1\" class=\"dataframe\">\n",
       "  <thead>\n",
       "    <tr style=\"text-align: right;\">\n",
       "      <th></th>\n",
       "      <th>iid</th>\n",
       "      <th>sex</th>\n",
       "      <th>cls</th>\n",
       "    </tr>\n",
       "  </thead>\n",
       "  <tbody>\n",
       "    <tr>\n",
       "      <th>0</th>\n",
       "      <td>I3807</td>\n",
       "      <td>M</td>\n",
       "      <td>SE_Iberia_c.10-16CE</td>\n",
       "    </tr>\n",
       "    <tr>\n",
       "      <th>1</th>\n",
       "      <td>I3981</td>\n",
       "      <td>M</td>\n",
       "      <td>SE_Iberia_c.5-8CE</td>\n",
       "    </tr>\n",
       "    <tr>\n",
       "      <th>2</th>\n",
       "      <td>I4055</td>\n",
       "      <td>M</td>\n",
       "      <td>SE_Iberia_c.3-4CE</td>\n",
       "    </tr>\n",
       "    <tr>\n",
       "      <th>3</th>\n",
       "      <td>I4246</td>\n",
       "      <td>M</td>\n",
       "      <td>C_Iberia_CA_Afr</td>\n",
       "    </tr>\n",
       "    <tr>\n",
       "      <th>4</th>\n",
       "      <td>I2472</td>\n",
       "      <td>M</td>\n",
       "      <td>N_Iberia_BA</td>\n",
       "    </tr>\n",
       "  </tbody>\n",
       "</table>\n",
       "</div>"
      ],
      "text/plain": [
       "     iid sex                  cls\n",
       "0  I3807   M  SE_Iberia_c.10-16CE\n",
       "1  I3981   M    SE_Iberia_c.5-8CE\n",
       "2  I4055   M    SE_Iberia_c.3-4CE\n",
       "3  I4246   M      C_Iberia_CA_Afr\n",
       "4  I2472   M          N_Iberia_BA"
      ]
     },
     "execution_count": 55,
     "metadata": {},
     "output_type": "execute_result"
    }
   ],
   "source": [
    "df_ind.head(5)"
   ]
  },
  {
   "cell_type": "code",
   "execution_count": 61,
   "metadata": {},
   "outputs": [
    {
     "data": {
      "text/plain": [
       "2"
      ]
     },
     "execution_count": 61,
     "metadata": {},
     "output_type": "execute_result"
    }
   ],
   "source": [
    "np.where(df_ind[\"iid\"]=='I4055')[0][0]"
   ]
  },
  {
   "cell_type": "code",
   "execution_count": null,
   "metadata": {},
   "outputs": [],
   "source": []
  }
 ],
 "metadata": {
  "kernelspec": {
   "display_name": "Python 3",
   "language": "python",
   "name": "python3"
  },
  "language_info": {
   "codemirror_mode": {
    "name": "ipython",
    "version": 3
   },
   "file_extension": ".py",
   "mimetype": "text/x-python",
   "name": "python",
   "nbconvert_exporter": "python",
   "pygments_lexer": "ipython3",
   "version": "3.6.8"
  }
 },
 "nbformat": 4,
 "nbformat_minor": 2
}
