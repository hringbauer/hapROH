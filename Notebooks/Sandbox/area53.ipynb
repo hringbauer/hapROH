{
 "cells": [
  {
   "cell_type": "code",
   "execution_count": 1,
   "metadata": {},
   "outputs": [],
   "source": [
    "import numpy\n",
    "import matplotlib.pyplot as plt\n",
    "import pandas\n",
    "import os\n",
    "import sys\n",
    "import scipy.linalg\n",
    "import scipy.stats\n",
    "import importlib\n",
    "import pickle\n",
    "sys.path.append(\"../../Python3/\")\n",
    "# from msHMM import HapsburgFiftyThree\n",
    "from msHMM import HapsburgFiftyThree"
   ]
  },
  {
   "cell_type": "code",
   "execution_count": 2,
   "metadata": {},
   "outputs": [
    {
     "name": "stdout",
     "output_type": "stream",
     "text": [
      "(38032,)\n",
      "(2, 38032)\n",
      "(792, 38032)\n"
     ]
    }
   ],
   "source": [
    "# read in posterior\n",
    "posterior = numpy.loadtxt (\"/Users/steinrue/googleDrive/misc/data_matthias/posterior0.csv\")\n",
    "# load some files maybe\n",
    "# recombination map (in morgan)\n",
    "recoMap = numpy.loadtxt (\"/Users/steinrue/googleDrive/misc/data_matthias/map.csv\", delimiter=',')\n",
    "print (recoMap.shape)\n",
    "# readcounts for target individual\n",
    "# first line: reads for ref; second line: reads for alt\n",
    "target = numpy.loadtxt (\"/Users/steinrue/googleDrive/misc/data_matthias/readcounts.csv\", delimiter=',')\n",
    "print (target.shape)\n",
    "numSnps = target.shape[1]\n",
    "# read in references\n",
    "# 0 in refHaps is refAllele\n",
    "refHaps = numpy.loadtxt (\"/Users/steinrue/googleDrive/misc/data_matthias/refs.csv\", delimiter=',')\n",
    "print (refHaps.shape)"
   ]
  },
  {
   "cell_type": "code",
   "execution_count": 3,
   "metadata": {},
   "outputs": [
    {
     "name": "stdout",
     "output_type": "stream",
     "text": [
      "Memory Usage Full:\n",
      "Memory Usage: 3798.667264 mB\n"
     ]
    }
   ],
   "source": [
    "# set up a hapsburg\n",
    "hapsburg = HapsburgFiftyThree (refHaps, recoMap)\n",
    "\n",
    "# analyze a target\n",
    "newPost = hapsburg.compute_long_ROH_posterior (target)"
   ]
  },
  {
   "cell_type": "code",
   "execution_count": 4,
   "metadata": {},
   "outputs": [
    {
     "data": {
      "text/plain": [
       "Text(0.5,0,'Position in cM')"
      ]
     },
     "execution_count": 4,
     "metadata": {},
     "output_type": "execute_result"
    },
    {
     "data": {
      "image/png": "[encoded data removed]",
      "text/plain": [
       "<Figure size 432x288 with 1 Axes>"
      ]
     },
     "metadata": {},
     "output_type": "display_data"
    }
   ],
   "source": [
    "daRange = numpy.arange(0,38032)\n",
    "xs = 100 * recoMap[daRange]\n",
    "plt.plot (xs, newPost[daRange], 'red')\n",
    "# plt.legend ([\"Posterior: Long ROH\", \"True ROH\"])\n",
    "# plt.ylim([-0.1,1.45])\n",
    "plt.xlabel (\"Position in cM\")\n",
    "# plt.savefig (\"full_posterior.pdf\")"
   ]
  },
  {
   "cell_type": "code",
   "execution_count": 5,
   "metadata": {},
   "outputs": [],
   "source": [
    "# make it small for now, so we see what we are doing\n",
    "numHaps = 8\n",
    "numLoci = 3\n",
    "myRefHaps = refHaps[0:numHaps,0:numLoci]\n",
    "myTarget = target[:,0:numLoci]\n",
    "myRecoMap = recoMap[0:numLoci]"
   ]
  },
  {
   "cell_type": "code",
   "execution_count": 6,
   "metadata": {},
   "outputs": [],
   "source": [
    "pickle_rick = [myRefHaps, myTarget, myRecoMap]\n",
    "pickle.dump (pickle_rick, open(\"tmp.pickle\", \"wb\"))"
   ]
  },
  {
   "cell_type": "code",
   "execution_count": 7,
   "metadata": {},
   "outputs": [],
   "source": [
    "pickle_rick = pickle.load (open(\"tmp.pickle\", \"rb\"))\n",
    "myRefHaps = pickle_rick[0]\n",
    "myTarget = pickle_rick[1]\n",
    "myRecoMap = pickle_rick[2]"
   ]
  },
  {
   "cell_type": "code",
   "execution_count": 8,
   "metadata": {},
   "outputs": [],
   "source": [
    "def analyze_targets (targets, refHaps, recoMap):\n",
    "    \n",
    "    # see how many targets we have\n",
    "    if (len(targets.shape) == 2):\n",
    "        # only one target, prepare accordingly\n",
    "        targets = targets[None,:,:]\n",
    "    # if already multiple targets, all fine\n",
    "\n",
    "    # prepare the analysis\n",
    "    hapsburg = HapsburgFiftyThree (refHaps, recoMap)\n",
    "    \n",
    "    # and analyze all targets\n",
    "    # now the target specific things\n",
    "    all_ll = numpy.zeros ((targets.shape[0],targets.shape[2]))\n",
    "    for i in range(targets.shape[0]):\n",
    "        thisTarget = targets[i]\n",
    "#         print (thisTarget)\n",
    "        \n",
    "        (newPost, fwd, bwd, tot_ll) = hapsburg.compute_full_log_posterior (thisTarget)\n",
    "\n",
    "        # sum over hidden states\n",
    "        all_ll[i,:] = numpy.sum(numpy.exp(fwd),axis=1)\n",
    "        print (numpy.sum (numpy.exp(newPost), axis=1))\n",
    "    \n",
    "    # give it away now\n",
    "    return all_ll"
   ]
  },
  {
   "cell_type": "code",
   "execution_count": 9,
   "metadata": {},
   "outputs": [
    {
     "data": {
      "text/plain": [
       "(3,)"
      ]
     },
     "execution_count": 9,
     "metadata": {},
     "output_type": "execute_result"
    }
   ],
   "source": [
    "myRecoMap.shape"
   ]
  },
  {
   "cell_type": "code",
   "execution_count": 10,
   "metadata": {},
   "outputs": [
    {
     "name": "stdout",
     "output_type": "stream",
     "text": [
      "Memory Usage Full:\n",
      "Memory Usage: 2351.3088 mB\n",
      "[1. 1. 1.]\n"
     ]
    }
   ],
   "source": [
    "results = analyze_targets (myTarget, myRefHaps, myRecoMap)"
   ]
  },
  {
   "cell_type": "code",
   "execution_count": 11,
   "metadata": {},
   "outputs": [],
   "source": [
    "allTargets = -numpy.ones((12,2,3))\n",
    "\n",
    "allTargets[0] = numpy.array([[0,0,0],\n",
    "                             [1,1,2]])\n",
    "\n",
    "allTargets[1] = numpy.array([[0,0,1],\n",
    "                             [1,1,1]])\n",
    "\n",
    "allTargets[2] = numpy.array([[0,0,2],\n",
    "                             [1,1,0]])\n",
    "\n",
    "allTargets[3] = numpy.array([[0,1,0],\n",
    "                             [1,0,2]])\n",
    "\n",
    "allTargets[4] = numpy.array([[0,1,1],\n",
    "                             [1,0,1]])\n",
    "\n",
    "allTargets[5] = numpy.array([[0,1,2],\n",
    "                             [1,0,0]])\n",
    "\n",
    "allTargets[6] = numpy.array([[1,0,0],\n",
    "                             [0,1,2]])\n",
    "\n",
    "allTargets[7] = numpy.array([[1,0,1],\n",
    "                             [0,1,1]])\n",
    "\n",
    "allTargets[8] = numpy.array([[1,0,2],\n",
    "                             [0,1,0]])\n",
    "\n",
    "allTargets[9] = numpy.array([[1,1,0],\n",
    "                             [0,0,2]])\n",
    "\n",
    "allTargets[10] = numpy.array([[1,1,1],\n",
    "                              [0,0,1]])\n",
    "\n",
    "allTargets[11] = numpy.array([[1,1,2],\n",
    "                              [0,0,0]])\n"
   ]
  },
  {
   "cell_type": "code",
   "execution_count": 12,
   "metadata": {
    "scrolled": true
   },
   "outputs": [
    {
     "name": "stdout",
     "output_type": "stream",
     "text": [
      "Memory Usage Full:\n",
      "Memory Usage: 2351.34976 mB\n",
      "[1. 1. 1.]\n",
      "Memory Usage Full:\n",
      "Memory Usage: 2351.353856 mB\n",
      "[1. 1. 1.]\n",
      "Memory Usage Full:\n",
      "Memory Usage: 2351.353856 mB\n",
      "[1. 1. 1.]\n",
      "Memory Usage Full:\n",
      "Memory Usage: 2351.353856 mB\n",
      "[1. 1. 1.]\n",
      "Memory Usage Full:\n",
      "Memory Usage: 2351.353856 mB\n",
      "[1. 1. 1.]\n",
      "Memory Usage Full:\n",
      "Memory Usage: 2351.353856 mB\n",
      "[1. 1. 1.]\n",
      "Memory Usage Full:\n",
      "Memory Usage: 2351.353856 mB\n",
      "[1. 1. 1.]\n",
      "Memory Usage Full:\n",
      "Memory Usage: 2351.353856 mB\n",
      "[1. 1. 1.]\n",
      "Memory Usage Full:\n",
      "Memory Usage: 2351.353856 mB\n",
      "[1. 1. 1.]\n",
      "Memory Usage Full:\n",
      "Memory Usage: 2351.353856 mB\n",
      "[1. 1. 1.]\n",
      "Memory Usage Full:\n",
      "Memory Usage: 2351.353856 mB\n",
      "[1. 1. 1.]\n",
      "Memory Usage Full:\n",
      "Memory Usage: 2351.353856 mB\n",
      "[1. 1. 1.]\n"
     ]
    }
   ],
   "source": [
    "# results = analyze_targets (allTargets, myRefHaps, myRecoMap, pi_s = 0, pi_l = 0)\n",
    "results = analyze_targets (allTargets, myRefHaps, myRecoMap)"
   ]
  },
  {
   "cell_type": "code",
   "execution_count": 13,
   "metadata": {},
   "outputs": [
    {
     "data": {
      "text/plain": [
       "1.0"
      ]
     },
     "execution_count": 13,
     "metadata": {},
     "output_type": "execute_result"
    }
   ],
   "source": [
    "numpy.sum(results[:,0])/6"
   ]
  },
  {
   "cell_type": "code",
   "execution_count": 14,
   "metadata": {},
   "outputs": [
    {
     "data": {
      "text/plain": [
       "0.9999999999999994"
      ]
     },
     "execution_count": 14,
     "metadata": {},
     "output_type": "execute_result"
    }
   ],
   "source": [
    "numpy.sum(results[:,1])/3"
   ]
  },
  {
   "cell_type": "code",
   "execution_count": 15,
   "metadata": {},
   "outputs": [
    {
     "data": {
      "text/plain": [
       "0.9999999999999994"
      ]
     },
     "execution_count": 15,
     "metadata": {},
     "output_type": "execute_result"
    }
   ],
   "source": [
    "numpy.sum(results[:,2])"
   ]
  },
  {
   "cell_type": "code",
   "execution_count": null,
   "metadata": {},
   "outputs": [],
   "source": []
  }
 ],
 "metadata": {
  "kernelspec": {
   "display_name": "Python 3",
   "language": "python",
   "name": "python3"
  },
  "language_info": {
   "codemirror_mode": {
    "name": "ipython",
    "version": 3
   },
   "file_extension": ".py",
   "mimetype": "text/x-python",
   "name": "python",
   "nbconvert_exporter": "python",
   "pygments_lexer": "ipython3",
   "version": "3.6.4"
  }
 },
 "nbformat": 4,
 "nbformat_minor": 2
}
