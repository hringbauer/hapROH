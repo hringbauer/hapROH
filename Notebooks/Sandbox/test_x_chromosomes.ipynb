{
 "cells": [
  {
   "cell_type": "markdown",
   "metadata": {},
   "source": [
    "# Load and test X Chromosomes"
   ]
  },
  {
   "cell_type": "code",
   "execution_count": 1,
   "metadata": {},
   "outputs": [
    {
     "name": "stdout",
     "output_type": "stream",
     "text": [
      "midway2-0401.rcc.local\n",
      "Midway jnovmbre partition detected.\n",
      "/project2/jnovembre/hringbauer/HAPSBURG\n",
      "CPU Count: 28\n"
     ]
    }
   ],
   "source": [
    "import allel\n",
    "import h5py  # Python Package to do the HDF5.\n",
    "import numpy as np\n",
    "import pandas as pd\n",
    "import socket\n",
    "import os as os\n",
    "import sys as sys\n",
    "import multiprocessing as mp\n",
    "import matplotlib.pyplot as plt\n",
    "\n",
    "socket_name = socket.gethostname()\n",
    "print(socket_name)\n",
    "if socket_name == \"VioletQueen\":\n",
    "    path = \"/home/harald/git/HAPSBURG/\"   # The Path on Harald's machine\n",
    "elif socket_name.startswith(\"midway2\"):\n",
    "    print(\"Midway jnovmbre partition detected.\")\n",
    "    path = \"/project2/jnovembre/hringbauer/HAPSBURG/\"  # The Path on Midway Cluster\n",
    "else: \n",
    "    raise RuntimeWarning(\"Not compatible machine. Check!!\")\n",
    "    \n",
    "os.chdir(path)  # Set the right Path (in line with Atom default)\n",
    "\n",
    "print(os.getcwd()) # Show the current working directory. Should be HAPSBURG/Notebooks/ParallelRuns\n",
    "print(f\"CPU Count: {mp.cpu_count()}\")\n",
    "\n",
    "import sys\n",
    "sys.path.insert(0, \"./package/\")  # hack to get local package first in path [FROM HARALD - DELETE!!!]"
   ]
  },
  {
   "cell_type": "markdown",
   "metadata": {},
   "source": [
    "### Load the reference dataset"
   ]
  },
  {
   "cell_type": "code",
   "execution_count": 2,
   "metadata": {},
   "outputs": [
    {
     "name": "stdout",
     "output_type": "stream",
     "text": [
      "Loaded HDF5\n",
      "Loaded 47898 variants\n",
      "Loaded 2504 individuals\n",
      "['GT']\n",
      "['ALT', 'CHROM', 'FILTER_PASS', 'ID', 'MAP', 'POS', 'QUAL', 'REF']\n"
     ]
    }
   ],
   "source": [
    "path_load = \"./Data/1000Genomes/HDF5/1240kHDF5/all1240/chrX.hdf5\"\n",
    "#path_load = \"./Data/SA_1240kHDF5/IPK12_downsample_ph.h5\"\n",
    "f = h5py.File(path_load, \"r\") # Load for Sanity Check. See below!\n",
    "        \n",
    "print(\"Loaded HDF5\")\n",
    "print(\"Loaded %i variants\" % np.shape(f[\"calldata/GT\"])[0])\n",
    "print(\"Loaded %i individuals\" % np.shape(f[\"calldata/GT\"])[1])\n",
    "print(list(f[\"calldata\"].keys()))\n",
    "print(list(f[\"variants\"].keys()))"
   ]
  },
  {
   "cell_type": "code",
   "execution_count": 4,
   "metadata": {},
   "outputs": [
    {
     "data": {
      "text/plain": [
       "<HDF5 dataset \"GT\": shape (47900, 2504, 2), type \"|i1\">"
      ]
     },
     "execution_count": 4,
     "metadata": {},
     "output_type": "execute_result"
    }
   ],
   "source": [
    "f[\"calldata/GT\"]"
   ]
  },
  {
   "cell_type": "markdown",
   "metadata": {},
   "source": [
    "### Load a target"
   ]
  },
  {
   "cell_type": "code",
   "execution_count": 6,
   "metadata": {},
   "outputs": [
    {
     "name": "stdout",
     "output_type": "stream",
     "text": [
      "Loaded HDF5\n",
      "Loaded 49701 variants\n",
      "Loaded 1 individuals\n",
      "['AD', 'GT']\n",
      "['ALT', 'CH', 'MAP', 'POS', 'REF']\n"
     ]
    }
   ],
   "source": [
    "path_load = \"/project2/jnovembre/hringbauer/HAPSBURG/Simulated/1000G_Mosaic/TSI5/\"\n",
    "#path_load = \"./Data/SA_1240kHDF5/IPK12_downsample_ph.h5\"\n",
    "ft = h5py.File(path_load, \"r\") # Load for Sanity Check. See below!\n",
    "        \n",
    "print(\"Loaded HDF5\")\n",
    "print(\"Loaded %i variants\" % np.shape(ft[\"calldata/GT\"])[0])\n",
    "print(\"Loaded %i individuals\" % np.shape(ft[\"calldata/GT\"])[1])\n",
    "print(list(ft[\"calldata\"].keys()))\n",
    "print(list(ft[\"variants\"].keys()))"
   ]
  },
  {
   "cell_type": "markdown",
   "metadata": {},
   "source": [
    "# Check for intersection"
   ]
  },
  {
   "cell_type": "code",
   "execution_count": 16,
   "metadata": {},
   "outputs": [
    {
     "name": "stdout",
     "output_type": "stream",
     "text": [
      "Intersection found: 47894 SNPs on Position\n"
     ]
    }
   ],
   "source": [
    "_, idx1, idx2 = np.intersect1d(f[\"variants/POS\"], ft[\"variants/POS\"], return_indices=True)\n",
    "print(f\"Intersection found: {len(idx1)} SNPs on Position\")"
   ]
  },
  {
   "cell_type": "code",
   "execution_count": 14,
   "metadata": {},
   "outputs": [
    {
     "data": {
      "text/plain": [
       "47894"
      ]
     },
     "execution_count": 14,
     "metadata": {},
     "output_type": "execute_result"
    }
   ],
   "source": [
    "len(idx1)"
   ]
  },
  {
   "cell_type": "code",
   "execution_count": 39,
   "metadata": {},
   "outputs": [],
   "source": [
    "der = ft[\"calldata/AD\"][:, 0, 1]"
   ]
  },
  {
   "cell_type": "code",
   "execution_count": 33,
   "metadata": {},
   "outputs": [],
   "source": [
    "### Calculate Mean allele frequency\n",
    "p = np.mean(f[\"calldata/GT\"][:,:,0]==1, axis=1)"
   ]
  },
  {
   "cell_type": "code",
   "execution_count": 34,
   "metadata": {},
   "outputs": [
    {
     "data": {
      "text/plain": [
       "array([0.44968051, 0.13857827, 0.03634185, ..., 0.49960064, 0.33426518,\n",
       "       0.01317891])"
      ]
     },
     "execution_count": 34,
     "metadata": {},
     "output_type": "execute_result"
    }
   ],
   "source": [
    "p\n"
   ]
  },
  {
   "cell_type": "code",
   "execution_count": 37,
   "metadata": {},
   "outputs": [
    {
     "data": {
      "image/png": "[encoded data removed]",
      "text/plain": [
       "<Figure size 432x288 with 1 Axes>"
      ]
     },
     "metadata": {
      "needs_background": "light"
     },
     "output_type": "display_data"
    }
   ],
   "source": [
    "plt.figure()\n",
    "ax=plt.gca()\n",
    "ax.hist(p, ec=\"k\", bins=20)\n",
    "plt.show()"
   ]
  },
  {
   "cell_type": "code",
   "execution_count": 43,
   "metadata": {},
   "outputs": [
    {
     "data": {
      "image/png": "[encoded data removed]",
      "text/plain": [
       "<Figure size 432x288 with 1 Axes>"
      ]
     },
     "metadata": {
      "needs_background": "light"
     },
     "output_type": "display_data"
    }
   ],
   "source": [
    "plt.figure()\n",
    "ax=plt.gca()\n",
    "ax.scatter(p[idx1], der[idx2],alpha=0.1)\n",
    "plt.show()"
   ]
  },
  {
   "cell_type": "code",
   "execution_count": 44,
   "metadata": {},
   "outputs": [
    {
     "data": {
      "text/plain": [
       "array([[ 1.        , -0.05319018],\n",
       "       [-0.05319018,  1.        ]])"
      ]
     },
     "execution_count": 44,
     "metadata": {},
     "output_type": "execute_result"
    }
   ],
   "source": [
    "np.corrcoef(p[idx1], der[idx2])"
   ]
  },
  {
   "cell_type": "code",
   "execution_count": 52,
   "metadata": {},
   "outputs": [
    {
     "data": {
      "text/plain": [
       "array(['T', 'G', 'G', 'G', 'G', 'C', 'A', 'T', 'C', 'C', 'G', 'C', 'A',\n",
       "       'C', 'A', 'G', 'G', 'T', 'A', 'T'], dtype=object)"
      ]
     },
     "execution_count": 52,
     "metadata": {},
     "output_type": "execute_result"
    }
   ],
   "source": [
    "f[\"variants/REF\"][:][idx1][:20]"
   ]
  },
  {
   "cell_type": "code",
   "execution_count": 53,
   "metadata": {},
   "outputs": [
    {
     "data": {
      "text/plain": [
       "array(['A', 'C', 'C', 'T', 'T', 'T', 'T', 'A', 'A', 'G', 'C', 'G', 'T',\n",
       "       'G', 'T', 'T', 'T', 'G', 'T', 'G'], dtype=object)"
      ]
     },
     "execution_count": 53,
     "metadata": {},
     "output_type": "execute_result"
    }
   ],
   "source": [
    "f[\"variants/ALT\"][:,0][idx1][:20]"
   ]
  },
  {
   "cell_type": "code",
   "execution_count": 56,
   "metadata": {},
   "outputs": [
    {
     "data": {
      "text/plain": [
       "array(['A', 'C', 'C', 'G', 'T', 'C', 'A', 'A', 'C', 'G', 'C', 'G', 'T',\n",
       "       'G', 'T', 'T', 'T', 'G', 'T', 'T'], dtype=object)"
      ]
     },
     "execution_count": 56,
     "metadata": {},
     "output_type": "execute_result"
    }
   ],
   "source": [
    "ft[\"variants/REF\"][:][idx2][:20]"
   ]
  },
  {
   "cell_type": "code",
   "execution_count": 57,
   "metadata": {},
   "outputs": [
    {
     "data": {
      "text/plain": [
       "array(['T', 'G', 'G', 'T', 'G', 'T', 'T', 'T', 'A', 'C', 'G', 'C', 'A',\n",
       "       'C', 'A', 'G', 'G', 'T', 'A', 'G'], dtype=object)"
      ]
     },
     "execution_count": 57,
     "metadata": {},
     "output_type": "execute_result"
    }
   ],
   "source": [
    "ft[\"variants/ALT\"][:][idx2][:20]"
   ]
  },
  {
   "cell_type": "markdown",
   "metadata": {},
   "source": [
    "# Run hapROH on the X Chromosome"
   ]
  },
  {
   "cell_type": "code",
   "execution_count": 2,
   "metadata": {},
   "outputs": [],
   "source": [
    "from hapsburg.hmm_inference import HMM_Analyze   # The HMM core object\n",
    "from hapsburg.PackagesSupport.parallel_runs.helper_functions import prepare_path, multi_run, combine_individual_data"
   ]
  },
  {
   "cell_type": "code",
   "execution_count": 3,
   "metadata": {},
   "outputs": [],
   "source": [
    "def hapsb_chromX(iid, save=True, save_fp=False, n_ref=2504, exclude_pops=[],\n",
    "                e_model=\"EigenstratPacked\", p_model=\"MosaicHDF5\", readcounts=True, random_allele=True,\n",
    "                post_model=\"Standard\", path_targets = \"./Data/SA_1240kHDF5/IPK12.h5\",\n",
    "                h5_path1000g = \"./Data/1000Genomes/HDF5/1240kHDF5/all1240/chr\", \n",
    "                meta_path_ref = \"./Data/1000Genomes/Individuals/meta_df_all_sex.tsv\",\n",
    "                folder_out=\"./Empirical/Eigenstrat/Reichall/test/\", prefix_out=\"\",\n",
    "                roh_in=1, roh_out=20, roh_jump=300, e_rate=0.01, e_rate_ref=0.0,\n",
    "                max_gap=0, cutoff_post = 0.999, roh_min_l = 0.02, logfile=True):\n",
    "    \"\"\"Run Hapsburg analysis for one chromosome on eigenstrat data\n",
    "    Wrapper for HMM Class.\n",
    "    iid: IID of the Target Individual, as found in Eigenstrat [str]\n",
    "    ch: Chromosome to run [float]\n",
    "    path_targets: Path of the target files [str]\n",
    "    h5_path1000g: Path of the reference genotypes [str]\n",
    "    meta_path_ref: Path of the meta file for the references [str]\n",
    "    folder_out: Path of the basis folder for output [str]\n",
    "    prefix_out: Path to insert in output string, e.g. test/ [str]\n",
    "    e_model: Emission model to use [str]\n",
    "    p_model: Preprocessing model tu use [str]\n",
    "    post_model: Model to post-process the data [str]\n",
    "    processes: How many Processes to use [int]\n",
    "    delete: Whether to delete raw posterior per locus [bool]\n",
    "    output: Whether to print extensive output [bool]\n",
    "    save: Whether to save the inferred ROH [bool]\n",
    "    save_fp: Whether to save the full posterior matrix [bool]\n",
    "    n_ref: Number of (diploid) reference Individuals to use [int]\n",
    "    exclude_pops: Which populations to exclude from reference [list of str]\n",
    "    readcounts: Whether to load readcount data [bool]\n",
    "    random_allele: Whether to pick a random of the two target alleles per locus [bool]\n",
    "    roh_in: Parater to jump into ROH state (per Morgan) [float]\n",
    "    roh_out: Parameter to jump out of ROH state (per Morgan) [float]\n",
    "    roh_jump: Parameter to jump (per Morgan) [float]\n",
    "    e_rate: Error rate target [float]\n",
    "    e_rate_ref: Error rate refernce [float]\n",
    "    cutoff_post: Posterior cutoff [float]\n",
    "    max_gap: Maximum gap to merge (Morgan) [float]\n",
    "    roh_min_l: Minimum length ROH (Morgan) [float]\n",
    "    logfile: Whether to use logfile [bool]\n",
    "    combine: Wether to combine output of all chromosomes [bool]\n",
    "    file_result: Appendix to individual results [string]\"\"\"\n",
    "    \n",
    "    hmm = HMM_Analyze(cython=2, p_model=p_model, e_model=e_model,\n",
    "                      manual_load=True, save=save, save_fp=save_fp)\n",
    "\n",
    "    ### Load and prepare the pre-processing Model\n",
    "    hmm.load_preprocessing_model()              # Load the preprocessing Model\n",
    "    hmm.p_obj.set_params(readcounts = readcounts, random_allele=random_allele,\n",
    "                         folder_out=folder_out, prefix_out_data=prefix_out, \n",
    "                         excluded=exclude_pops, \n",
    "                         diploid_ref=False, samples_field= \"inds/samples\")\n",
    "    \n",
    "    ### Set the paths to ref & target\n",
    "    hmm.p_obj.set_params(h5_path1000g = h5_path1000g, path_targets = path_targets, \n",
    "                         meta_path_ref = meta_path_ref, n_ref=n_ref)\n",
    "    hmm.load_data(iid=iid, ch=\"X\")  # Load the actual Data\n",
    "    hmm.load_secondary_objects()\n",
    "\n",
    "    ### Set the Parameters\n",
    "    hmm.e_obj.set_params(e_rate = e_rate, e_rate_ref = e_rate_ref)\n",
    "    hmm.t_obj.set_params(roh_in=roh_in, roh_out=roh_out, roh_jump=roh_jump)\n",
    "    hmm.post_obj.set_params(max_gap=max_gap, cutoff_post=cutoff_post, roh_min_l = roh_min_l)\n",
    "    \n",
    "    ### hmm.calc_viterbi_path(save=save)           # Calculate the Viterbi Path.\n",
    "    hmm.calc_posterior(save=save)              # Calculate the Posterior.\n",
    "    hmm.post_processing(save=save)             # Do the Post-Processing."
   ]
  },
  {
   "cell_type": "code",
   "execution_count": 5,
   "metadata": {},
   "outputs": [
    {
     "name": "stdout",
     "output_type": "stream",
     "text": [
      "Using Low-Mem Cython Linear Speed Up.\n",
      "Loaded Pre Processing Model: MosaicHDF5\n",
      "Loading Individual: I15590_I15963\n",
      "\n",
      "Loaded 49701 variants\n",
      "Loaded 1 individuals\n",
      "HDF5 loaded from /project2/jnovembre/hringbauer/caribbean_roh/data/hdf5/ibdx/test.h5\n",
      "\n",
      "Loaded 47898 variants\n",
      "Loaded 2504 individuals\n",
      "HDF5 loaded from ./Data/1000Genomes/HDF5/1240kHDF5/all1240/chrX.hdf5\n",
      "\n",
      "Intersection on Positions: 47894\n",
      "Nr of Matching Refs: 9790 / 47894\n",
      "Ref/Alt Matching: 9772 / 47894\n",
      "Flipped Ref/Alt Matching: 37993\n",
      "Together: 47765 / 47894\n",
      "2504 / 2504 Individuals included in Reference\n",
      "Extracting up to 2504 Individuals\n",
      "Extraction of 2 Haplotypes complete\n",
      "Flipping Ref/Alt in target for 37993 SNPs...\n",
      "Extraction of 2504 Haplotypes complete\n",
      "Reduced to markers called 21271 / 47765\n",
      "Fraction SNPs covered: 0.4453\n",
      "Successfully saved to: ./Empirical/dumpster/testx/I15590_I15963/chrX/\n",
      "Loading Readcounts...\n",
      "Mean Readcount markers loaded: 1.32791\n",
      "Successfully loaded Data from: ./Empirical/dumpster/testx/I15590_I15963/chrX/\n",
      "Loaded Emission Model: readcount\n",
      "Loaded Transition Model: model\n",
      "Loaded Post Processing Model: Standard\n",
      "Minimum Genetic Map: 0.2089 Morgan\n",
      "Maximum Genetic Map: 2.0205 Morgan\n",
      "Gaps bigger than 0.1 cM: 330\n",
      "Maximum Gap: 1.1754 cM\n",
      "Upper Gap Cutoff: 5.0000 cM\n",
      "Loaded Transition and Emission Matrix:\n",
      "(3, 3)\n",
      "(2505, 21271)\n",
      "Loaded Observations:\n",
      "(2, 21271)\n",
      "Reference Number: 2504\n",
      "Total Log likelihood: -5880.539\n",
      "Memory Usage: 638.58688 mB\n",
      "Finished Calculation State Posteriors\n",
      "Saved Zero State Posterior to ./Empirical/dumpster/testx/I15590_I15963/chrX/.\n",
      "Successfully loaded for PP. from ./Empirical/dumpster/testx/I15590_I15963/chrX/\n",
      "Fraction Markers in ROH: 0.5153\n",
      "Merged n=0 gaps < 0 M\n",
      "Called n=7 ROH Blocks > 2.0 cM\n",
      "Longest Block: 26.65 cM\n",
      "Successfully saved to ./Empirical/dumpster/testx/I15590_I15963/chrX/roh.csv\n"
     ]
    }
   ],
   "source": [
    "hapsb_chromX(iid=\"I15590_I15963\", save=True, save_fp=False, n_ref=2504, exclude_pops=[],\n",
    "                e_model='readcount', p_model='MosaicHDF5', readcounts=True, random_allele=False,\n",
    "                post_model=\"Standard\", logfile=False, \n",
    "                path_targets = \"/project2/jnovembre/hringbauer/caribbean_roh/data/hdf5/ibdx/test.h5\",\n",
    "                h5_path1000g = \"./Data/1000Genomes/HDF5/1240kHDF5/all1240/chr\", \n",
    "                meta_path_ref = \"./Data/1000Genomes/Individuals/meta_df_all_sex.tsv\",\n",
    "                folder_out=\"./Empirical/dumpster/testx/\")"
   ]
  },
  {
   "cell_type": "markdown",
   "metadata": {},
   "source": [
    "### Test 2nd pair with long ROH"
   ]
  },
  {
   "cell_type": "code",
   "execution_count": 9,
   "metadata": {},
   "outputs": [
    {
     "name": "stdout",
     "output_type": "stream",
     "text": [
      "Using Low-Mem Cython Linear Speed Up.\n",
      "Loaded Pre Processing Model: MosaicHDF5\n",
      "Loading Individual: I15965_I16171\n",
      "\n",
      "Loaded 49701 variants\n",
      "Loaded 1 individuals\n",
      "HDF5 loaded from /project2/jnovembre/hringbauer/caribbean_roh/data/hdf5/ibdx/test2.h5\n",
      "\n",
      "Loaded 47898 variants\n",
      "Loaded 2504 individuals\n",
      "HDF5 loaded from ./Data/1000Genomes/HDF5/1240kHDF5/all1240/chrX.hdf5\n",
      "\n",
      "Intersection on Positions: 47894\n",
      "Nr of Matching Refs: 9790 / 47894\n",
      "Ref/Alt Matching: 9772 / 47894\n",
      "Flipped Ref/Alt Matching: 37993\n",
      "Together: 47765 / 47894\n",
      "2504 / 2504 Individuals included in Reference\n",
      "Extracting up to 2504 Individuals\n",
      "Extraction of 2 Haplotypes complete\n",
      "Flipping Ref/Alt in target for 37993 SNPs...\n",
      "Extraction of 2504 Haplotypes complete\n",
      "Reduced to markers called 21263 / 47765\n",
      "Fraction SNPs covered: 0.4452\n",
      "Successfully saved to: ./Empirical/dumpster/testx/I15965_I16171/chrX/\n",
      "Loading Readcounts...\n",
      "Mean Readcount markers loaded: 1.42017\n",
      "Successfully loaded Data from: ./Empirical/dumpster/testx/I15965_I16171/chrX/\n",
      "Loaded Emission Model: readcount\n",
      "Loaded Transition Model: model\n",
      "Loaded Post Processing Model: Standard\n",
      "Minimum Genetic Map: 0.2090 Morgan\n",
      "Maximum Genetic Map: 2.0206 Morgan\n",
      "Gaps bigger than 0.1 cM: 326\n",
      "Maximum Gap: 1.3160 cM\n",
      "Upper Gap Cutoff: 5.0000 cM\n",
      "Loaded Transition and Emission Matrix:\n",
      "(3, 3)\n",
      "(2505, 21263)\n",
      "Loaded Observations:\n",
      "(2, 21263)\n",
      "Reference Number: 2504\n",
      "Total Log likelihood: -6731.477\n",
      "Memory Usage: 1020.633088 mB\n",
      "Finished Calculation State Posteriors\n",
      "Saved Zero State Posterior to ./Empirical/dumpster/testx/I15965_I16171/chrX/.\n",
      "Successfully loaded for PP. from ./Empirical/dumpster/testx/I15965_I16171/chrX/\n",
      "Fraction Markers in ROH: 0.4254\n",
      "Merged n=0 gaps < 0 M\n",
      "Called n=2 ROH Blocks > 2.0 cM\n",
      "Longest Block: 36.10 cM\n",
      "Successfully saved to ./Empirical/dumpster/testx/I15965_I16171/chrX/roh.csv\n",
      "CPU times: user 36.1 s, sys: 3.13 s, total: 39.2 s\n",
      "Wall time: 38.8 s\n"
     ]
    }
   ],
   "source": [
    "%%time\n",
    "hapsb_chromX(iid=\"I15965_I16171\", save=True, save_fp=False, n_ref=2504, exclude_pops=[],\n",
    "                e_model='readcount', p_model='MosaicHDF5', readcounts=True, random_allele=False,\n",
    "                post_model=\"Standard\", logfile=False, \n",
    "                path_targets = \"/project2/jnovembre/hringbauer/caribbean_roh/data/hdf5/ibdx/test2.h5\",\n",
    "                h5_path1000g = \"./Data/1000Genomes/HDF5/1240kHDF5/all1240/chr\", \n",
    "                meta_path_ref = \"./Data/1000Genomes/Individuals/meta_df_all_sex.tsv\",\n",
    "                folder_out=\"./Empirical/dumpster/testx/\")"
   ]
  },
  {
   "cell_type": "markdown",
   "metadata": {},
   "source": [
    "### On haploid genotypes"
   ]
  },
  {
   "cell_type": "code",
   "execution_count": 8,
   "metadata": {},
   "outputs": [
    {
     "name": "stdout",
     "output_type": "stream",
     "text": [
      "Using Low-Mem Cython Linear Speed Up.\n",
      "Loaded Pre Processing Model: MosaicHDF5\n",
      "Loading Individual: I15965_I16171\n",
      "\n",
      "Loaded 49701 variants\n",
      "Loaded 1 individuals\n",
      "HDF5 loaded from /project2/jnovembre/hringbauer/caribbean_roh/data/hdf5/ibdx/test2.h5\n",
      "\n",
      "Loaded 47898 variants\n",
      "Loaded 2504 individuals\n",
      "HDF5 loaded from ./Data/1000Genomes/HDF5/1240kHDF5/all1240/chrX.hdf5\n",
      "\n",
      "Intersection on Positions: 47894\n",
      "Nr of Matching Refs: 9790 / 47894\n",
      "Ref/Alt Matching: 9772 / 47894\n",
      "Flipped Ref/Alt Matching: 37993\n",
      "Together: 47765 / 47894\n",
      "2504 / 2504 Individuals included in Reference\n",
      "Extracting up to 2504 Individuals\n",
      "Extraction of 2 Haplotypes complete\n",
      "Flipping Ref/Alt in target for 37993 SNPs...\n",
      "Extraction of 2504 Haplotypes complete\n",
      "Reduced to markers called 16885 / 47765\n",
      "Fraction SNPs covered: 0.3535\n",
      "Successfully saved to: ./Empirical/dumpster/testx/I15965_I16171/chrX/\n",
      "Successfully loaded Data from: ./Empirical/dumpster/testx/I15965_I16171/chrX/\n",
      "Loaded Emission Model: haploid\n",
      "Loaded Transition Model: model\n",
      "Loaded Post Processing Model: Standard\n",
      "Minimum Genetic Map: 0.2090 Morgan\n",
      "Maximum Genetic Map: 2.0206 Morgan\n",
      "Gaps bigger than 0.1 cM: 363\n",
      "Maximum Gap: 1.3160 cM\n",
      "Upper Gap Cutoff: 5.0000 cM\n",
      "Loaded Transition and Emission Matrix:\n",
      "(3, 3)\n",
      "(2505, 16885)\n",
      "Loaded Observations:\n",
      "(2, 16885)\n",
      "Reference Number: 2504\n",
      "Total Log likelihood: -1684.539\n",
      "Memory Usage: 921.624576 mB\n",
      "Finished Calculation State Posteriors\n",
      "Saved Zero State Posterior to ./Empirical/dumpster/testx/I15965_I16171/chrX/.\n",
      "Successfully loaded for PP. from ./Empirical/dumpster/testx/I15965_I16171/chrX/\n",
      "Fraction Markers in ROH: 0.9941\n",
      "Merged n=0 gaps < 0 M\n",
      "Called n=5 ROH Blocks > 2.0 cM\n",
      "Longest Block: 76.39 cM\n",
      "Successfully saved to ./Empirical/dumpster/testx/I15965_I16171/chrX/roh.csv\n",
      "CPU times: user 28.9 s, sys: 956 ms, total: 29.8 s\n",
      "Wall time: 29.5 s\n"
     ]
    }
   ],
   "source": [
    "%%time\n",
    "hapsb_chromX(iid=\"I15965_I16171\", save=True, save_fp=False, n_ref=2504, exclude_pops=[],\n",
    "                e_model='haploid', p_model='MosaicHDF5', readcounts=False, random_allele=False,\n",
    "                post_model=\"Standard\", logfile=False, \n",
    "                path_targets = \"/project2/jnovembre/hringbauer/caribbean_roh/data/hdf5/ibdx/test2.h5\",\n",
    "                h5_path1000g = \"./Data/1000Genomes/HDF5/1240kHDF5/all1240/chr\", \n",
    "                meta_path_ref = \"./Data/1000Genomes/Individuals/meta_df_all_sex.tsv\",\n",
    "                folder_out=\"./Empirical/dumpster/testx/\")"
   ]
  },
  {
   "cell_type": "code",
   "execution_count": null,
   "metadata": {},
   "outputs": [],
   "source": []
  }
 ],
 "metadata": {
  "kernelspec": {
   "display_name": "Python 3",
   "language": "python",
   "name": "python3"
  },
  "language_info": {
   "codemirror_mode": {
    "name": "ipython",
    "version": 3
   },
   "file_extension": ".py",
   "mimetype": "text/x-python",
   "name": "python",
   "nbconvert_exporter": "python",
   "pygments_lexer": "ipython3",
   "version": "3.7.0"
  }
 },
 "nbformat": 4,
 "nbformat_minor": 4
}
