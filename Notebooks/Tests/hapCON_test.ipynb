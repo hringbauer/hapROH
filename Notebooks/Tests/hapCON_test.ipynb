{
 "cells": [
  {
   "cell_type": "markdown",
   "metadata": {},
   "source": [
    "# some tests for hapCON"
   ]
  },
  {
   "cell_type": "markdown",
   "metadata": {},
   "source": [
    "# Test for 1240k panel on a Sardinian"
   ]
  },
  {
   "cell_type": "code",
   "execution_count": 5,
   "metadata": {},
   "outputs": [
    {
     "name": "stdout",
     "output_type": "stream",
     "text": [
      "[mpileup] 1 samples in 1 input files\n"
     ]
    }
   ],
   "source": [
    "# data preparation\n",
    "path2bam=\"../Vignettes/Data/SUA001.bam\"\n",
    "path2bed1240k=\"/mnt/archgen/users/yilei/Data/1000G/1000g1240khdf5/all1240/1240kChrX.bed\"\n",
    "!samtools index $path2bam\n",
    "!samtools mpileup --positions $path2bed1240k -r X -q 30 -Q 30 -o ../Vignettes/Data/SUA001.mpileup $path2bam"
   ]
  },
  {
   "cell_type": "code",
   "execution_count": 7,
   "metadata": {},
   "outputs": [],
   "source": [
    "import sys\n",
    "sys.path.insert(0, \"/mnt/archgen/users/yilei/tools/hapROH/package\")\n",
    "from hapsburg.PackagesSupport.hapsburg_run import hapCon_chrom_BFGS\n",
    "path2ref1240k=\"/mnt/archgen/users/yilei/Data/1000G/1000g1240khdf5/all1240/chrX.hdf5\"\n",
    "path2meta=\"/mnt/archgen/users/yilei/Data/1000G/1000g1240khdf5/all1240/meta_df_all.csv\""
   ]
  },
  {
   "cell_type": "code",
   "execution_count": 9,
   "metadata": {},
   "outputs": [
    {
     "name": "stdout",
     "output_type": "stream",
     "text": [
      "exclude 1033 sites outside the specified region\n",
      "exclude 0 non-SNP sites\n",
      "number of major reads at flanking sites: 10636\n",
      "number of minor reads at flanking sites: 16\n",
      "number of major reads at focal sites: 1291\n",
      "number of minor reads at focal sites: 27\n",
      "err rate at flanking sites: 0.001502\n",
      "err rate at focal sites: 0.020486\n",
      "saving sample as SUA001 in /mnt/archgen/users/yilei/tools/hapROH/Notebooks/Vignettes/Data/SUA001.hdf5\n",
      "estimated genotyping error by flanking sites: 0.001502\n",
      "number of sites covered by at least one read: 3999, fraction covered: 0.085\n",
      "hdf5 file saved to /mnt/archgen/users/yilei/tools/hapROH/Notebooks/Vignettes/Data/SUA001.hdf5\n",
      "finished reading mpileup file, takes 2.511.\n",
      "number of sites covered by at least one read: 3999\n",
      "hdf5 file saved to /mnt/archgen/users/yilei/tools/hapROH/Notebooks/Vignettes/Data/SUA001.hdf5\n",
      "estimated contamination rate: 0.102144(0.076822 - 0.127466)\n",
      "estimated contamination: 0.10214392880751269\n"
     ]
    }
   ],
   "source": [
    "conmle, _, _ = hapCon_chrom_BFGS(iid=\"SUA001\", mpileup=\"../Vignettes/Data/SUA001.mpileup\",\n",
    "    h5_path1000g = path2ref1240k, meta_path_ref = path2meta)\n",
    "assert(conmle > 0.1 and conmle < 0.105)"
   ]
  },
  {
   "cell_type": "code",
   "execution_count": 10,
   "metadata": {},
   "outputs": [
    {
     "name": "stdout",
     "output_type": "stream",
     "text": [
      "total number of mapped reads: 14755\n",
      "number of major reads at flanking sites: 10521\n",
      "number of minor reads at flanking sites: 15\n",
      "number of major reads at focal sites: 1291\n",
      "number of minor reads at focal sites: 27\n",
      "err rate at flanking sites: 0.001424\n",
      "err rate at focal sites: 0.020486\n",
      "saving sample as SUA001 in /mnt/archgen/users/yilei/tools/hapROH/Notebooks/Vignettes/Data/SUA001.hdf5\n",
      "estimated genotyping error by flanking sites: 0.001424\n",
      "number of sites covered by at least one read: 3999, fraction covered: 0.085\n",
      "hdf5 file saved to /mnt/archgen/users/yilei/tools/hapROH/Notebooks/Vignettes/Data/SUA001.hdf5\n",
      "finished reading bam file, takes 89.202.\n",
      "number of sites covered by at least one read: 3999\n",
      "hdf5 file saved to /mnt/archgen/users/yilei/tools/hapROH/Notebooks/Vignettes/Data/SUA001.hdf5\n",
      "estimated contamination rate: 0.102215(0.076894 - 0.127536)\n"
     ]
    }
   ],
   "source": [
    "# test running directly from bam file\n",
    "conmle, _, _ = hapCon_chrom_BFGS(iid=\"SUA001\", bam=\"../Vignettes/Data/SUA001.bam\",\n",
    "    h5_path1000g = path2ref1240k, meta_path_ref = path2meta)\n",
    "assert(conmle > 0.1 and conmle < 0.105)"
   ]
  },
  {
   "cell_type": "markdown",
   "metadata": {},
   "source": [
    "# test 1000G panel with XiongNu DA43 sample"
   ]
  },
  {
   "cell_type": "code",
   "execution_count": 11,
   "metadata": {},
   "outputs": [
    {
     "name": "stdout",
     "output_type": "stream",
     "text": [
      "[mpileup] 1 samples in 1 input files\n"
     ]
    }
   ],
   "source": [
    "path2bam=\"../Vignettes/Data/DA43.bam\"\n",
    "path2bed1kg=\"/mnt/archgen/users/yilei/Data/1000G/1000g1240khdf5/all1240/maf5FilterChrX.bed\"\n",
    "!samtools index $path2bam\n",
    "!samtools mpileup --positions $path2bed1kg -r X -q 30 -Q 30 -o ./Data/DA43.mpileup $path2bam"
   ]
  },
  {
   "cell_type": "code",
   "execution_count": 12,
   "metadata": {},
   "outputs": [
    {
     "name": "stdout",
     "output_type": "stream",
     "text": [
      "exclude 1033 sites outside the specified region\n",
      "exclude 0 non-SNP sites\n",
      "number of major reads at flanking sites: 18220\n",
      "number of minor reads at flanking sites: 184\n",
      "number of major reads at focal sites: 390\n",
      "number of minor reads at focal sites: 13\n",
      "err rate at flanking sites: 0.009998\n",
      "err rate at focal sites: 0.032258\n",
      "saving sample as DA43 in /mnt/archgen/users/yilei/tools/hapROH/Notebooks/Tests/Data/DA43.hdf5\n",
      "estimated genotyping error by flanking sites: 0.009998\n",
      "number of sites covered by at least one read: 3595, fraction covered: 0.077\n",
      "hdf5 file saved to /mnt/archgen/users/yilei/tools/hapROH/Notebooks/Tests/Data/DA43.hdf5\n",
      "finished reading mpileup file, takes 9.801.\n",
      "number of sites covered by at least one read: 3595\n",
      "hdf5 file saved to /mnt/archgen/users/yilei/tools/hapROH/Notebooks/Tests/Data/DA43.hdf5\n",
      "estimated contamination rate: 0.022853(0.008851 - 0.036855)\n"
     ]
    }
   ],
   "source": [
    "path2ref1kg=\"/mnt/archgen/users/yilei/Data/1000G/1000g1240khdf5/all1240/maf5_filter_chrX.hdf5\"\n",
    "conmle, _, _ = hapCon_chrom_BFGS(iid=\"DA43\", mpileup=\"./Data/DA43.mpileup\",\n",
    "    h5_path1000g = path2ref1240k, meta_path_ref = path2meta)\n",
    "assert(conmle > 0.02 and conmle < 0.025)"
   ]
  },
  {
   "cell_type": "code",
   "execution_count": 14,
   "metadata": {},
   "outputs": [
    {
     "name": "stdout",
     "output_type": "stream",
     "text": [
      "total number of mapped reads: 281907\n",
      "number of major reads at flanking sites: 4776\n",
      "number of minor reads at flanking sites: 41\n",
      "number of major reads at focal sites: 569\n",
      "number of minor reads at focal sites: 16\n",
      "err rate at flanking sites: 0.008512\n",
      "err rate at focal sites: 0.027350\n",
      "saving sample as DA43 in /mnt/archgen/users/yilei/tools/hapROH/Notebooks/Vignettes/Data/DA43.hdf5\n",
      "estimated genotyping error by flanking sites: 0.008512\n",
      "number of sites covered by at least one read: 5074, fraction covered: 0.108\n",
      "hdf5 file saved to /mnt/archgen/users/yilei/tools/hapROH/Notebooks/Vignettes/Data/DA43.hdf5\n",
      "finished reading bam file, takes 78.631.\n",
      "number of sites covered by at least one read: 5074\n",
      "hdf5 file saved to /mnt/archgen/users/yilei/tools/hapROH/Notebooks/Vignettes/Data/DA43.hdf5\n",
      "estimated contamination rate: 0.021743(0.008636 - 0.034850)\n"
     ]
    }
   ],
   "source": [
    "conmle, _, _ = hapCon_chrom_BFGS(iid=\"DA43\", bam=\"../Vignettes/Data/DA43.bam\",\n",
    "    h5_path1000g = path2ref1240k, meta_path_ref = path2meta)\n",
    "assert(conmle > 0.02 and conmle < 0.025)"
   ]
  }
 ],
 "metadata": {
  "interpreter": {
   "hash": "31f2aee4e71d21fbe5cf8b01ff0e069b9275f58929596ceb00d14d90e3e16cd6"
  },
  "kernelspec": {
   "display_name": "Python 3.8.2 64-bit",
   "language": "python",
   "name": "python3"
  },
  "language_info": {
   "codemirror_mode": {
    "name": "ipython",
    "version": 3
   },
   "file_extension": ".py",
   "mimetype": "text/x-python",
   "name": "python",
   "nbconvert_exporter": "python",
   "pygments_lexer": "ipython3",
   "version": "3.8.10"
  },
  "orig_nbformat": 4
 },
 "nbformat": 4,
 "nbformat_minor": 2
}
