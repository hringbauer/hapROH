{
 "cells": [
  {
   "cell_type": "markdown",
   "metadata": {},
   "source": [
    "# Tests for hapCON designed to run on Leipzig MPI EVA cluster"
   ]
  },
  {
   "cell_type": "code",
   "execution_count": 1,
   "metadata": {},
   "outputs": [
    {
     "name": "stdout",
     "output_type": "stream",
     "text": [
      "hpc030\n",
      "/mnt/archgen/users/hringbauer/git/hapROH\n",
      "CPU Count: 128\n"
     ]
    }
   ],
   "source": [
    "### Some Code to set right paths (checks whether on Chicago cluster)\n",
    "import numpy as np\n",
    "import pandas as pd\n",
    "import matplotlib.pyplot as plt\n",
    "import os as os\n",
    "import sys as sys\n",
    "import multiprocessing as mp\n",
    "import sys\n",
    "import socket as socket\n",
    "\n",
    "socket_name = socket.gethostname()\n",
    "print(socket_name)\n",
    "\n",
    "if socket_name.startswith(\"bionc\") or socket_name.startswith(\"hpc\"):\n",
    "     path = \"/mnt/archgen/users/hringbauer/git/hapROH/\"   # The Path on Harald's machine\n",
    "else: \n",
    "     raise RuntimeWarning(\"Not compatible machine. Check!!\")\n",
    "    \n",
    "os.chdir(path)  # Set the right Path (in line with Atom default)\n",
    "\n",
    "print(os.getcwd()) # Show the current working directory. Should be HAPSBURG/Notebooks/ParallelRuns\n",
    "print(f\"CPU Count: {mp.cpu_count()}\")\n",
    "\n",
    "############################################\n",
    "### If wanting to use local version and not  pip installed version\n",
    "### Comment out to test installed version. Comment in to test development version:\n",
    "### \n",
    "\n",
    "#sys.path.insert(0,\"./package/\")  # hack to get local UoC package first in path\n",
    "#sys.path.insert(0, \"/mnt/archgen/users/yilei/tools/hapROH/package\")  ### Yilei's Version at MPI EVA\n",
    "#sys.path.insert(0, \"/mnt/archgen/users/hringbauer/git/hapROH/package\")  ### Leipzig Version Harald\n",
    "\n",
    "#from hapsburg.PackagesSupport.hapsburg_run import hapsb_ind\n",
    "from hapsburg.PackagesSupport.hapsburg_run import hapCon_chrom_BFGS"
   ]
  },
  {
   "cell_type": "code",
   "execution_count": 2,
   "metadata": {},
   "outputs": [],
   "source": [
    "def test_passed(value, acceptable=[]):\n",
    "    \"\"\"Check wether test passed.\n",
    "    If value in acceptable [List length 2],\n",
    "    return 0\"\"\"\n",
    "    \n",
    "    passed = (value > acceptable[0] and value < acceptable[1])\n",
    "    \n",
    "    exit = 1\n",
    "    if passed:\n",
    "        print(f\"Test sussessful!\")\n",
    "        exit = 0\n",
    "    else:\n",
    "        print(\"ALARM ALARM ALARM\")       \n",
    "    return exit"
   ]
  },
  {
   "cell_type": "markdown",
   "metadata": {},
   "source": [
    "## 1)a) hapCon with 1240k panel on a Sardinian, using Python function\n",
    "- 35s on Leipzig cluster"
   ]
  },
  {
   "cell_type": "code",
   "execution_count": 3,
   "metadata": {},
   "outputs": [
    {
     "name": "stdout",
     "output_type": "stream",
     "text": [
      "[mpileup] 1 samples in 1 input files\n",
      "exclude 1033 sites outside the specified region\n",
      "exclude 0 non-SNP sites\n",
      "time taken to read mpileup: 0.15 seconds\n",
      "number of major reads at flanking sites: 10636\n",
      "number of minor reads at flanking sites: 16\n",
      "number of major reads at focal sites: 1291\n",
      "number of minor reads at focal sites: 27\n",
      "err rate at flanking sites: 0.001502\n",
      "err rate at focal sites: 0.020486\n",
      "saving sample as SUA001 in /mnt/archgen/users/hringbauer/area51/tmp/SUA001.hdf5\n",
      "time taken to save hdf5: 0.06 seconds\n",
      "estimated genotyping error by flanking sites: 0.001502\n",
      "number of sites covered by at least one read: 3999, fraction covered: 0.085\n",
      "hdf5 file saved to /mnt/archgen/users/hringbauer/area51/tmp/SUA001.hdf5\n",
      "finished reading mpileup file, takes 0.359.\n",
      "number of sites covered by at least one read: 3999\n",
      "hdf5 file saved to /mnt/archgen/users/hringbauer/area51/tmp/SUA001.hdf5\n",
      "Using Pre-Processing Model fm: HDF5\n",
      "Loading H5\n",
      "estimated contamination rate: 0.101227(0.075982 - 0.126472)\n",
      "Test sussessful!\n",
      "CPU times: user 11.7 s, sys: 1.86 s, total: 13.6 s\n",
      "Wall time: 14.4 s\n"
     ]
    },
    {
     "data": {
      "text/plain": [
       "0"
      ]
     },
     "execution_count": 3,
     "metadata": {},
     "output_type": "execute_result"
    }
   ],
   "source": [
    "%%time\n",
    "\n",
    "### Relevant Paths\n",
    "path2bam=\"/mnt/archgen/users/yilei/tools/hapROH/Notebooks/Vignettes/Data/SUA001.bam\"\n",
    "outpath = \"/mnt/archgen/users/hringbauer/area51/tmp/SUA001.mpileup\"\n",
    "path2bed1240k=\"/mnt/archgen/users/yilei/Data/1000G/1000g1240khdf5/all1240/1240kChrX.bed\"\n",
    "path2ref1240k=\"/mnt/archgen/users/yilei/Data/1000G/1000g1240khdf5/all1240/chrX.hdf5\"\n",
    "path2meta=\"/mnt/archgen/users/yilei/Data/1000G/1000g1240khdf5/all1240/meta_df_all.csv\"\n",
    "\n",
    "\n",
    "!samtools index $path2bam\n",
    "!samtools mpileup --positions $path2bed1240k -r X -q 30 -Q 30 -o $outpath $path2bam\n",
    "\n",
    "### Run the actual conatmination estimate\n",
    "conmle = hapCon_chrom_BFGS(iid=\"SUA001\", mpileup=outpath,\n",
    "    h5_path1000g = path2ref1240k, meta_path_ref = path2meta)\n",
    "\n",
    "test_passed(conmle[0], acceptable=[0.1,0.11])"
   ]
  },
  {
   "cell_type": "markdown",
   "metadata": {},
   "source": [
    "### 1)b) Test running directly running from bam File, using Python function\n",
    "- 1min11s on Leipzig cluster"
   ]
  },
  {
   "cell_type": "code",
   "execution_count": 4,
   "metadata": {},
   "outputs": [
    {
     "name": "stdout",
     "output_type": "stream",
     "text": [
      "exclude 1033 sites outside the specified region\n",
      "exclude 0 non-SNP sites\n",
      "total number of mapped reads: 14755\n",
      "number of major reads at flanking sites: 10521\n",
      "number of minor reads at flanking sites: 15\n",
      "number of major reads at focal sites: 1291\n",
      "number of minor reads at focal sites: 27\n",
      "err rate at flanking sites: 0.001424\n",
      "err rate at focal sites: 0.020486\n",
      "saving sample as SUA001 in /mnt/archgen/users/yilei/tools/hapROH/Notebooks/Vignettes/Data/SUA001.hdf5\n",
      "estimated genotyping error by flanking sites: 0.001424\n",
      "number of sites covered by at least one read: 3999, fraction covered: 0.085\n",
      "hdf5 file saved to /mnt/archgen/users/yilei/tools/hapROH/Notebooks/Vignettes/Data/SUA001.hdf5\n",
      "finished reading bam file, takes 54.748.\n",
      "number of sites covered by at least one read: 3999\n",
      "hdf5 file saved to /mnt/archgen/users/yilei/tools/hapROH/Notebooks/Vignettes/Data/SUA001.hdf5\n",
      "Using Pre-Processing Model fm: HDF5\n",
      "Loading H5\n",
      "estimated contamination rate: 0.101304(0.076059 - 0.126550)\n",
      "Test sussessful!\n",
      "CPU times: user 39.2 s, sys: 6.68 s, total: 45.9 s\n",
      "Wall time: 1min 2s\n"
     ]
    },
    {
     "data": {
      "text/plain": [
       "0"
      ]
     },
     "execution_count": 4,
     "metadata": {},
     "output_type": "execute_result"
    }
   ],
   "source": [
    "%%time\n",
    "\n",
    "# test running directly from bam file\n",
    "path2bam=\"/mnt/archgen/users/yilei/tools/hapROH/Notebooks/Vignettes/Data/SUA001.bam\"\n",
    "outpath = \"/mnt/archgen/users/hringbauer/area51/tmp/SUA001.mpileup\"\n",
    "#path2bed1240k=\"/mnt/archgen/users/yilei/Data/1000G/1000g1240khdf5/all1240/1240kChrX.bed\"\n",
    "path2ref1240k=\"/mnt/archgen/users/yilei/Data/1000G/1000g1240khdf5/all1240/chrX.hdf5\"\n",
    "path2meta=\"/mnt/archgen/users/yilei/Data/1000G/1000g1240khdf5/all1240/meta_df_all.csv\"\n",
    "\n",
    "conmle = hapCon_chrom_BFGS(iid=\"SUA001\", bam=path2bam,\n",
    "    h5_path1000g = path2ref1240k, meta_path_ref = path2meta)\n",
    "\n",
    "test_passed(conmle[0], acceptable=[0.1,0.11])"
   ]
  },
  {
   "cell_type": "markdown",
   "metadata": {},
   "source": [
    "## 2)a) Test 1000G panel and WGS XiongNu DA43 sample"
   ]
  },
  {
   "cell_type": "code",
   "execution_count": 5,
   "metadata": {},
   "outputs": [
    {
     "name": "stdout",
     "output_type": "stream",
     "text": [
      "[mpileup] 1 samples in 1 input files\n",
      "exclude 1033 sites outside the specified region\n",
      "exclude 0 non-SNP sites\n",
      "time taken to read mpileup: 0.59 seconds\n",
      "number of major reads at flanking sites: 18220\n",
      "number of minor reads at flanking sites: 184\n",
      "number of major reads at focal sites: 390\n",
      "number of minor reads at focal sites: 13\n",
      "err rate at flanking sites: 0.009998\n",
      "err rate at focal sites: 0.032258\n",
      "saving sample as DA43 in /mnt/archgen/users/hringbauer/area51/tmp/DA43.hdf5\n",
      "time taken to save hdf5: 0.06 seconds\n",
      "estimated genotyping error by flanking sites: 0.009998\n",
      "number of sites covered by at least one read: 3595, fraction covered: 0.077\n",
      "hdf5 file saved to /mnt/archgen/users/hringbauer/area51/tmp/DA43.hdf5\n",
      "finished reading mpileup file, takes 0.933.\n",
      "number of sites covered by at least one read: 3595\n",
      "hdf5 file saved to /mnt/archgen/users/hringbauer/area51/tmp/DA43.hdf5\n",
      "Using Pre-Processing Model fm: HDF5\n",
      "Loading H5\n",
      "estimated contamination rate: 0.022870(0.008922 - 0.036819)\n",
      "Test sussessful!\n",
      "CPU times: user 8.37 s, sys: 1.6 s, total: 9.96 s\n",
      "Wall time: 9.02 s\n"
     ]
    },
    {
     "data": {
      "text/plain": [
       "0"
      ]
     },
     "execution_count": 5,
     "metadata": {},
     "output_type": "execute_result"
    }
   ],
   "source": [
    "%%time \n",
    "\n",
    "path2bam=\"/mnt/archgen/users/yilei/tools/hapROH/Notebooks/Vignettes/Data/DA43.bam\"\n",
    "path2bed1kg=\"/mnt/archgen/users/yilei/Data/1000G/1000g1240khdf5/all1240/maf5FilterChrX.bed\"\n",
    "path2ref1kg=\"/mnt/archgen/users/yilei/Data/1000G/1000g1240khdf5/all1240/maf5_filter_chrX.hdf5\"\n",
    "outpath = \"/mnt/archgen/users/hringbauer/area51/tmp/DA43.mpileup\"\n",
    "\n",
    "!samtools index $path2bam\n",
    "!samtools mpileup --positions $path2bed1kg -r X -q 30 -Q 30 -o $outpath $path2bam\n",
    "\n",
    "\n",
    "conmle = hapCon_chrom_BFGS(iid=\"DA43\", mpileup=outpath,\n",
    "    h5_path1000g = path2ref1240k, meta_path_ref = path2meta)\n",
    "\n",
    "test_passed(conmle[0], acceptable=[0.02,0.025])"
   ]
  },
  {
   "cell_type": "markdown",
   "metadata": {},
   "source": [
    "### 2)b) Run XiongNu directly from .bam file"
   ]
  },
  {
   "cell_type": "code",
   "execution_count": 6,
   "metadata": {},
   "outputs": [
    {
     "name": "stdout",
     "output_type": "stream",
     "text": [
      "exclude 1033 sites outside the specified region\n",
      "exclude 0 non-SNP sites\n",
      "total number of mapped reads: 281907\n",
      "number of major reads at flanking sites: 4776\n",
      "number of minor reads at flanking sites: 41\n",
      "number of major reads at focal sites: 569\n",
      "number of minor reads at focal sites: 16\n",
      "err rate at flanking sites: 0.008512\n",
      "err rate at focal sites: 0.027350\n",
      "saving sample as DA43 in /mnt/archgen/users/yilei/tools/hapROH/Notebooks/Vignettes/Data/DA43.hdf5\n",
      "estimated genotyping error by flanking sites: 0.008512\n",
      "number of sites covered by at least one read: 5074, fraction covered: 0.108\n",
      "hdf5 file saved to /mnt/archgen/users/yilei/tools/hapROH/Notebooks/Vignettes/Data/DA43.hdf5\n",
      "finished reading bam file, takes 49.833.\n",
      "number of sites covered by at least one read: 5074\n",
      "hdf5 file saved to /mnt/archgen/users/yilei/tools/hapROH/Notebooks/Vignettes/Data/DA43.hdf5\n",
      "Using Pre-Processing Model fm: HDF5\n",
      "Loading H5\n",
      "estimated contamination rate: 0.021418(0.008458 - 0.034378)\n",
      "Test sussessful!\n",
      "CPU times: user 33.4 s, sys: 6.32 s, total: 39.7 s\n",
      "Wall time: 57 s\n"
     ]
    },
    {
     "data": {
      "text/plain": [
       "0"
      ]
     },
     "execution_count": 6,
     "metadata": {},
     "output_type": "execute_result"
    }
   ],
   "source": [
    "%%time\n",
    "\n",
    "path2bam=\"/mnt/archgen/users/yilei/tools/hapROH/Notebooks/Vignettes/Data/DA43.bam\"\n",
    "\n",
    "conmle  = hapCon_chrom_BFGS(iid=\"DA43\", bam=path2bam,\n",
    "    h5_path1000g = path2ref1240k, meta_path_ref = path2meta)\n",
    "test_passed(conmle[0], acceptable=[0.02,0.025])"
   ]
  },
  {
   "cell_type": "code",
   "execution_count": null,
   "metadata": {},
   "outputs": [],
   "source": []
  }
 ],
 "metadata": {
  "interpreter": {
   "hash": "31f2aee4e71d21fbe5cf8b01ff0e069b9275f58929596ceb00d14d90e3e16cd6"
  },
  "kernelspec": {
   "display_name": "Python 3 (ipykernel)",
   "language": "python",
   "name": "python3"
  },
  "language_info": {
   "codemirror_mode": {
    "name": "ipython",
    "version": 3
   },
   "file_extension": ".py",
   "mimetype": "text/x-python",
   "name": "python",
   "nbconvert_exporter": "python",
   "pygments_lexer": "ipython3",
   "version": "3.12.3"
  }
 },
 "nbformat": 4,
 "nbformat_minor": 4
}
