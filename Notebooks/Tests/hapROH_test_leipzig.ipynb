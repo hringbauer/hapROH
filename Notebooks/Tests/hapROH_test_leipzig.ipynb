{
 "cells": [
  {
   "cell_type": "markdown",
   "metadata": {},
   "source": [
    "# Test to assess whether ROH caller works as intended\n",
    "Run ROH caller on known test cases to assess whether the caller behaves as expected.\n",
    "Contains various test cases."
   ]
  },
  {
   "cell_type": "code",
   "execution_count": 5,
   "metadata": {},
   "outputs": [
    {
     "name": "stdout",
     "output_type": "stream",
     "text": [
      "bionc21\n",
      "/mnt/archgen/users/hringbauer/git/hapROH\n",
      "CPU Count: 40\n"
     ]
    }
   ],
   "source": [
    "### Some Code to set right paths (checks whether on Chicago cluster)\n",
    "import numpy as np\n",
    "import pandas as pd\n",
    "import matplotlib.pyplot as plt\n",
    "import os as os\n",
    "import sys as sys\n",
    "import multiprocessing as mp\n",
    "import sys\n",
    "import socket as socket\n",
    "\n",
    "socket_name = socket.gethostname()\n",
    "print(socket_name)\n",
    "\n",
    "if socket_name == \"bionc21\":\n",
    "     path = \"/mnt/archgen/users/hringbauer/git/hapROH/\"   # The Path on Harald's machine\n",
    "else: \n",
    "     raise RuntimeWarning(\"Not compatible machine. Check!!\")\n",
    "    \n",
    "os.chdir(path)  # Set the right Path (in line with Atom default)\n",
    "\n",
    "print(os.getcwd()) # Show the current working directory. Should be HAPSBURG/Notebooks/ParallelRuns\n",
    "print(f\"CPU Count: {mp.cpu_count()}\")\n",
    "\n",
    "############################################\n",
    "### If wanting to use local version and not  pip installed version\n",
    "### Comment out to test installed version. Comment in to test development version:\n",
    "### \n",
    "# Hack to get local UoC package first in path\n",
    "#sys.path.insert(0, \"/mnt/archgen/users/hringbauer/git/hapROH/package\")  ### Leipzig Version Harald\n",
    "#sys.path.insert(0, \"/mnt/archgen/users/yilei/tools/hapROH/package\")  ### Yilei's Version at MPI EVA\n",
    "\n",
    "from hapsburg.PackagesSupport.hapsburg_run import hapsb_ind"
   ]
  },
  {
   "cell_type": "code",
   "execution_count": 7,
   "metadata": {},
   "outputs": [],
   "source": [
    "############################################\n",
    "#### define some common path on MPI EVA's server\n",
    "h5_path1000g=\"/mnt/archgen/users/yilei/Data/1000G/1000g1240khdf5/all1240/chr\"\n",
    "meta_df=\"/mnt/archgen/users/yilei/Data/1000G/1000g1240khdf5/all1240/meta_df_all.csv\"\n",
    "folder_out=\"/mnt/archgen/users/yilei/tools/hapROH/Empirical/Eigenstrat/Example\"\n",
    "\n",
    "##############################################\n",
    "### Helper Functions for tests\n",
    "\n",
    "def check_max_roh(path_roh_file, roh_max=(0.05,0.1)):\n",
    "    \"\"\"Check if file at path_roh_file has \n",
    "    maximum roh in roh_max [array of size 2, Morgan]\"\"\"\n",
    "    df =  pd.read_csv(path_roh_file)\n",
    "    m = np.max(df[\"lengthM\"])\n",
    "    as_should= (roh_max[0]<m<roh_max[1])\n",
    "    return as_should\n",
    "\n",
    "##############################################\n",
    "\n",
    "def test_chromosome_roh():\n",
    "    \"\"\"Do a testrun for one chromosome with known ROH (ca. 15 cM).\n",
    "    Test hapROH function hapsb_ind\"\"\"\n",
    "    path_roh_file = f\"{folder_out}/I1178/chr20/roh.csv\"\n",
    "    ### Delete the exisiting ROH file\n",
    "    if os.path.exists(path_roh_file):\n",
    "        os.remove(path_roh_file)\n",
    "\n",
    "    hapsb_ind(iid=\"I1178\", chs=range(20, 21), \n",
    "              path_targets='/mnt/archgen/users/yilei/tools/hapROH/Empirical/Data/Levant_ChL/Levant_ChL', # The path before the .ind, .snp, .geno\n",
    "              h5_path1000g=h5_path1000g, meta_path_ref=meta_df, \n",
    "              folder_out=folder_out, prefix_out='', \n",
    "              e_model='haploid', p_model='Eigenstrat', \n",
    "              post_model='Standard', processes=1, delete=False, output=True, save=True, \n",
    "              save_fp=False, n_ref=2504, exclude_pops=[], readcounts=False, random_allele=True, \n",
    "              roh_in=1, roh_out=20, roh_jump=300, e_rate=0.01, e_rate_ref=0.0, \n",
    "              cutoff_post=0.999, max_gap=0, roh_min_l_initial=0.01, \n",
    "              logfile=False, combine=False, file_result='_roh_full.csv')\n",
    "    \n",
    "    ### Load the ROH file\n",
    "    m =check_max_roh(path_roh_file, roh_max=(0.14,0.17)) # should be 15.87 cM\n",
    "    assert(m)    \n",
    "    print(f\"\\nTest Passed!\")\n",
    "    return 0\n",
    "\n",
    "##############################################\n",
    "### Test Individual ROH Caller\n",
    "\n",
    "def test_individual_roh(procs=6):\n",
    "    \"\"\"Test running indiviudal, combining and multiprocessing.\n",
    "    procs: How many Processors to use\"\"\"\n",
    "    ### Delete old files\n",
    "    for ch in range(1,23):\n",
    "        path_roh_file = f\"{folder_out}/I1178/chr{ch}/roh.csv\"\n",
    "        if os.path.exists(path_roh_file):\n",
    "            os.remove(path_roh_file)\n",
    "            print(f\"Deleted {path_roh_file}\")\n",
    "            \n",
    "    path_full = f\"{folder_out}/I1178_roh_full.csv\"\n",
    "    if os.path.exists(path_full):\n",
    "        os.remove(path_full)\n",
    "        print(f\"Deleted {path_full}\")\n",
    "    \n",
    "    hapsb_ind(iid=\"I1178\", chs=range(1,23), processes=procs, \n",
    "          path_targets='/mnt/archgen/users/yilei/tools/hapROH/Empirical/Data/Levant_ChL/Levant_ChL', \n",
    "          h5_path1000g=h5_path1000g, meta_path_ref=meta_df, \n",
    "          folder_out=folder_out, prefix_out='', \n",
    "          e_model=\"haploid\", p_model=\"Eigenstrat\",\n",
    "          random_allele=True, readcounts=False,\n",
    "          delete=False, logfile=True, combine=True)\n",
    "    \n",
    "    ### Now load the data again (to check that part)\n",
    "    df =  pd.read_csv(path_full)\n",
    "    df_long = df[df[\"lengthM\"]>0.04]\n",
    "    s_roh = np.sum(df_long[\"lengthM\"])\n",
    "    assert(6<s_roh<8)\n",
    "    print(f\"\\n Test passed!\")\n",
    "    return 0\n",
    "\n",
    "##############################################\n",
    "### Test Individual Autosome Caller\n",
    "\n",
    "def test_diploid_gt():\n",
    "    \"\"\"Do a testrun for one chromosome with known ROH (ca. 15 cM).\n",
    "    Test hapROH function hapsb_ind\"\"\"\n",
    "    path_roh_file = f\"{folder_out}/Algerian_4/chr12/roh.csv\"\n",
    "    \n",
    "    ### Delete the exisiting ROH file\n",
    "    if os.path.exists(path_roh_file):\n",
    "        os.remove(path_roh_file)\n",
    "\n",
    "    hapsb_ind(iid=\"Algerian_4\", chs=range(12, 13), \n",
    "              path_targets='/mnt/archgen/users/hringbauer/data/marcus2020.h5', # The path before the .ind, .snp, .geno\n",
    "              h5_path1000g=h5_path1000g, meta_path_ref=meta_df, \n",
    "              folder_out=folder_out, prefix_out='', \n",
    "              e_model='diploid_gt', p_model='SardHDF5', \n",
    "              post_model='Standard', processes=1, delete=False, output=True, save=True, \n",
    "              save_fp=False, n_ref=2504, exclude_pops=[], readcounts=False, random_allele=False, \n",
    "              roh_in=1, roh_out=20, roh_jump=300, e_rate=0.01, e_rate_ref=0.0, \n",
    "              cutoff_post=0.999, max_gap=0, roh_min_l_initial=0.01, \n",
    "              logfile=False, combine=False, file_result='_roh_full.csv')\n",
    "\n",
    "    ### Load the ROH file\n",
    "    m = check_max_roh(path_roh_file, roh_max=(0.2,0.22)) # should be 15.87 cM\n",
    "    assert(m)    \n",
    "    print(f\"\\nTest Passed!\")\n",
    "\n",
    "##############################################\n",
    "### Test Individual ROH Caller\n",
    "\n",
    "# def test_X_IBD():\n",
    "#     \"\"\"Do a testrun for one chromosome with known ROH (ca. 15 cM).\n",
    "#     Test hapROH function hapsb_ind\"\"\"\n",
    "#     path_roh_file = \"/project2/jnovembre/hringbauer/HAPSBURG/Empirical/dumpster/testx/I15965_I16171/chr23/roh.csv\"\n",
    "#     ### Delete the exisiting ROH file\n",
    "#     if os.path.exists(path_roh_file):\n",
    "#         os.remove(path_roh_file)\n",
    "\n",
    "#     hapsb_chrom(iid=[\"I15965\",\"I16171\"], ch=23, save=True, save_fp=False, n_ref=2504, diploid_ref=False, exclude_pops=[],\n",
    "#                 e_model='readcount', p_model='EigenstratX', readcounts=True, random_allele=False,\n",
    "#                 post_model=\"IBD_X\", logfile=False, \n",
    "#                 path_targets = \"/project2/jnovembre/hringbauer/caribbean_roh/data/eigenstrat/v421_CaribIllu1000GancSam_bySite_PAM\",\n",
    "#                 h5_path1000g = \"/project2/jnovembre/hringbauer/HAPSBURG/Data/1000Genomes/HDF5/1240kHDF5/all1240/chr\", \n",
    "#                 meta_path_ref = \"/project2/jnovembre/hringbauer/HAPSBURG/Data/1000Genomes/Individuals/meta_df_all_sex.tsv\",\n",
    "#                 folder_out = \"/project2/jnovembre/hringbauer/HAPSBURG/Empirical/dumpster/testx/\")\n",
    "    \n",
    "#     ### Load the ROH file\n",
    "#     m =check_max_roh(path_roh_file, roh_max=(0.35,0.37))\n",
    "#     assert(m)\n",
    "#     print(f\"\\nTest Passed!\")\n",
    "#     return 0"
   ]
  },
  {
   "cell_type": "markdown",
   "metadata": {},
   "source": [
    "# Run the tests\n",
    "Print \"test passed\" in the end and functions return 0 if test was successful"
   ]
  },
  {
   "cell_type": "markdown",
   "metadata": {},
   "source": [
    "### Single Chromsome with long ROH.\n",
    "Using Individual I1178. Run ROH analysis for chromosome 20.\n",
    "Save results in folder, then load them and check if long ROH block is there as should."
   ]
  },
  {
   "cell_type": "code",
   "execution_count": 3,
   "metadata": {},
   "outputs": [
    {
     "name": "stdout",
     "output_type": "stream",
     "text": [
      "Doing Individual I1178...\n",
      "Using Rescaled HMM.\n",
      "Loaded Pre Processing Model: Eigenstrat\n",
      "Loading Individual: I1178\n",
      "\n",
      "Loaded 29078 variants\n",
      "Loaded 2504 individuals\n",
      "HDF5 loaded from /mnt/archgen/users/yilei/Data/1000G/1000g1240khdf5/all1240/chr20.hdf5\n",
      "Eigenstrat packed: True\n",
      "3 Eigenstrat Files with 22 Individuals and 1233013 SNPs\n",
      "\n",
      "Intersection on Positions: 29078\n",
      "Nr of Matching Refs: 29078 / 29078\n",
      "Ref/Alt Matching: 29053 / 29078\n",
      "Flipped Ref/Alt Matching: 0\n",
      "Together: 29053 / 29078\n",
      "2504 / 2504 Individuals included in Reference\n",
      "Extracting up to 2504 Individuals\n",
      "Reduced to markers with data: 19815 / 29053\n",
      "Fraction SNPs covered: 0.6820\n",
      "Exctraction of hdf5 done. Subsetting...!\n",
      "Extraction of 5008 Haplotypes complete\n",
      "Flipping Ref/Alt Alleles in target for 0 SNPs...\n",
      "Successfully saved target individual data to: /mnt/archgen/users/yilei/tools/hapROH/Empirical/Eigenstrat/Example/I1178/chr20/\n",
      "Shuffling phase of target...\n",
      "Successfully loaded Data from: /mnt/archgen/users/yilei/tools/hapROH/Empirical/Eigenstrat/Example/I1178/chr20/\n",
      "Loaded Emission Model: haploid\n",
      "Loaded Transition Model: model\n",
      "Loaded Post Processing Model: Standard\n",
      "\n",
      "Parameters in hapsb_chrom:\n",
      "iid\tI1178\n",
      "ch\t20\n",
      "save\tTrue\n",
      "save_fp\tFalse\n",
      "n_ref\t2504\n",
      "diploid_ref\tTrue\n",
      "exclude_pops\t[]\n",
      "e_model\thaploid\n",
      "p_model\tEigenstrat\n",
      "readcounts\tFalse\n",
      "random_allele\tTrue\n",
      "downsample\tFalse\n",
      "post_model\tStandard\n",
      "path_targets\t/mnt/archgen/users/yilei/tools/hapROH/Empirical/Data/Levant_ChL/Levant_ChL\n",
      "h5_path1000g\t/mnt/archgen/users/yilei/Data/1000G/1000g1240khdf5/all1240/chr\n",
      "meta_path_ref\t/mnt/archgen/users/yilei/Data/1000G/1000g1240khdf5/all1240/meta_df_all.csv\n",
      "folder_out\t/mnt/archgen/users/yilei/tools/hapROH/Empirical/Eigenstrat/Example\n",
      "prefix_out\t\n",
      "c\t0.0\n",
      "conPop\t['CEU']\n",
      "roh_in\t1\n",
      "roh_out\t20\n",
      "roh_jump\t300\n",
      "e_rate\t0.01\n",
      "e_rate_ref\t0.0\n",
      "max_gap\t0\n",
      "roh_min_l_initial\t0.01\n",
      "roh_min_l_final\t0.04\n",
      "min_len1\t0.02\n",
      "min_len2\t0.04\n",
      "cutoff_post\t0.999\n",
      "logfile\tFalse\n",
      "\n",
      "\n",
      "Minimum Genetic Map: 0.0000 Morgan\n",
      "Maximum Genetic Map: 1.0821 Morgan\n",
      "Gaps bigger than 0.1 cM: 159\n",
      "Maximum Gap: 0.4744 cM\n",
      "Upper Gap Cutoff: 5.0000 cM\n",
      "Loaded Transition and Emission Matrix:\n",
      "(3, 3)\n",
      "(5009, 19815)\n",
      "Loaded Observations:\n",
      "(2, 19815)\n",
      "Memory Usage at end of HMM:\n",
      "Memory Usage: 1138.937856 mB\n",
      "Total Log likelihood: -5803.614\n",
      "Finished Calculation State Posteriors\n",
      "Saved Zero State Posterior to folder /mnt/archgen/users/yilei/tools/hapROH/Empirical/Eigenstrat/Example/I1178/chr20/.\n",
      "Successfully loaded for PP. from /mnt/archgen/users/yilei/tools/hapROH/Empirical/Eigenstrat/Example/I1178/chr20/\n",
      "Fraction Markers in ROH: 0.4818\n",
      "Called n=2 ROH Blocks > 4.0 cM\n",
      "Longest Block: 15.87 cM\n",
      "Successfully saved to /mnt/archgen/users/yilei/tools/hapROH/Empirical/Eigenstrat/Example/I1178/chr20/roh.csv\n",
      "Run finished successfully!\n",
      "\n",
      "Test Passed!\n",
      "CPU times: user 17.5 s, sys: 1.62 s, total: 19.1 s\n",
      "Wall time: 19.4 s\n"
     ]
    },
    {
     "data": {
      "text/plain": [
       "0"
      ]
     },
     "execution_count": 3,
     "metadata": {},
     "output_type": "execute_result"
    }
   ],
   "source": [
    "%%time\n",
    "test_chromosome_roh()"
   ]
  },
  {
   "cell_type": "markdown",
   "metadata": {},
   "source": [
    "# Whole individual\n",
    "Run indivudal I1178. \n",
    "- Takes about 5 minutes with 6 processes. \n",
    "- After updating to rescaling: 3 minutes :) \n",
    "- After low-mem rescaling: 1min52s :) :)"
   ]
  },
  {
   "cell_type": "code",
   "execution_count": 4,
   "metadata": {},
   "outputs": [
    {
     "name": "stdout",
     "output_type": "stream",
     "text": [
      "Deleted /mnt/archgen/users/yilei/tools/hapROH/Empirical/Eigenstrat/Example/I1178/chr1/roh.csv\n",
      "Deleted /mnt/archgen/users/yilei/tools/hapROH/Empirical/Eigenstrat/Example/I1178/chr2/roh.csv\n",
      "Deleted /mnt/archgen/users/yilei/tools/hapROH/Empirical/Eigenstrat/Example/I1178/chr3/roh.csv\n",
      "Deleted /mnt/archgen/users/yilei/tools/hapROH/Empirical/Eigenstrat/Example/I1178/chr4/roh.csv\n",
      "Deleted /mnt/archgen/users/yilei/tools/hapROH/Empirical/Eigenstrat/Example/I1178/chr5/roh.csv\n",
      "Deleted /mnt/archgen/users/yilei/tools/hapROH/Empirical/Eigenstrat/Example/I1178/chr6/roh.csv\n",
      "Deleted /mnt/archgen/users/yilei/tools/hapROH/Empirical/Eigenstrat/Example/I1178/chr7/roh.csv\n",
      "Deleted /mnt/archgen/users/yilei/tools/hapROH/Empirical/Eigenstrat/Example/I1178/chr8/roh.csv\n",
      "Deleted /mnt/archgen/users/yilei/tools/hapROH/Empirical/Eigenstrat/Example/I1178/chr9/roh.csv\n",
      "Deleted /mnt/archgen/users/yilei/tools/hapROH/Empirical/Eigenstrat/Example/I1178/chr10/roh.csv\n",
      "Deleted /mnt/archgen/users/yilei/tools/hapROH/Empirical/Eigenstrat/Example/I1178/chr11/roh.csv\n",
      "Deleted /mnt/archgen/users/yilei/tools/hapROH/Empirical/Eigenstrat/Example/I1178/chr12/roh.csv\n",
      "Deleted /mnt/archgen/users/yilei/tools/hapROH/Empirical/Eigenstrat/Example/I1178/chr13/roh.csv\n",
      "Deleted /mnt/archgen/users/yilei/tools/hapROH/Empirical/Eigenstrat/Example/I1178/chr14/roh.csv\n",
      "Deleted /mnt/archgen/users/yilei/tools/hapROH/Empirical/Eigenstrat/Example/I1178/chr15/roh.csv\n",
      "Deleted /mnt/archgen/users/yilei/tools/hapROH/Empirical/Eigenstrat/Example/I1178/chr16/roh.csv\n",
      "Deleted /mnt/archgen/users/yilei/tools/hapROH/Empirical/Eigenstrat/Example/I1178/chr17/roh.csv\n",
      "Deleted /mnt/archgen/users/yilei/tools/hapROH/Empirical/Eigenstrat/Example/I1178/chr18/roh.csv\n",
      "Deleted /mnt/archgen/users/yilei/tools/hapROH/Empirical/Eigenstrat/Example/I1178/chr19/roh.csv\n",
      "Deleted /mnt/archgen/users/yilei/tools/hapROH/Empirical/Eigenstrat/Example/I1178/chr20/roh.csv\n",
      "Deleted /mnt/archgen/users/yilei/tools/hapROH/Empirical/Eigenstrat/Example/I1178/chr21/roh.csv\n",
      "Deleted /mnt/archgen/users/yilei/tools/hapROH/Empirical/Eigenstrat/Example/I1178/chr22/roh.csv\n",
      "Deleted /mnt/archgen/users/yilei/tools/hapROH/Empirical/Eigenstrat/Example/I1178_roh_full.csv\n",
      "Doing Individual I1178...\n",
      "Set Output Log path: /mnt/archgen/users/yilei/tools/hapROH/Empirical/Eigenstrat/Example/I1178/chr2/hmm_run_log.txtSet Output Log path: /mnt/archgen/users/yilei/tools/hapROH/Empirical/Eigenstrat/Example/I1178/chr1/hmm_run_log.txtSet Output Log path: /mnt/archgen/users/yilei/tools/hapROH/Empirical/Eigenstrat/Example/I1178/chr3/hmm_run_log.txtSet Output Log path: /mnt/archgen/users/yilei/tools/hapROH/Empirical/Eigenstrat/Example/I1178/chr4/hmm_run_log.txt\n",
      "\n",
      "\n",
      "\n",
      "Set Output Log path: /mnt/archgen/users/yilei/tools/hapROH/Empirical/Eigenstrat/Example/I1178/chr5/hmm_run_log.txtSet Output Log path: /mnt/archgen/users/yilei/tools/hapROH/Empirical/Eigenstrat/Example/I1178/chr6/hmm_run_log.txt\n",
      "\n",
      "Combining Information for 22 Chromosomes...\n",
      "\n",
      " Test passed!\n",
      "CPU times: user 132 ms, sys: 58 ms, total: 190 ms\n",
      "Wall time: 1min 38s\n"
     ]
    },
    {
     "data": {
      "text/plain": [
       "0"
      ]
     },
     "execution_count": 4,
     "metadata": {},
     "output_type": "execute_result"
    }
   ],
   "source": [
    "%%time\n",
    "test_individual_roh(procs=6)"
   ]
  },
  {
   "cell_type": "markdown",
   "metadata": {},
   "source": [
    "### Test Diploid HO Individual from HDF5\n",
    "Run Algerian 4, Chromosome 12"
   ]
  },
  {
   "cell_type": "code",
   "execution_count": 9,
   "metadata": {},
   "outputs": [
    {
     "name": "stdout",
     "output_type": "stream",
     "text": [
      "Doing Individual Algerian_4...\n",
      "Using Rescaled HMM.\n",
      "Loaded Pre Processing Model: SardHDF5\n",
      "Loading Individual: Algerian_4\n",
      "\n",
      "Loaded 1145647 variants\n",
      "Loaded 3039 individuals\n",
      "HDF5 loaded from /mnt/archgen/users/hringbauer/data/marcus2020.h5\n",
      "\n",
      "Loaded 53911 variants\n",
      "Loaded 2504 individuals\n",
      "HDF5 loaded from /mnt/archgen/users/yilei/Data/1000G/1000g1240khdf5/all1240/chr12.hdf5\n",
      "\n",
      "Intersection on Positions: 53911\n",
      "Nr of Matching Refs: 53713 / 53911\n",
      "Ref/Alt Allele Matching: 53672 / 53911\n",
      "Flipped Ref/Alt Alleles for 38 SNPs\n",
      "Together: 53710 / 53911\n",
      "2504 / 2504 Individuals included in Reference\n",
      "Extracting up to 2504 Individuals\n",
      "99 / 2504 individuals included in contamination population\n",
      "Exctraction of hdf5 done. Subsetting...!\n",
      "Extraction of 2 Haplotypes complete\n",
      "Flipping Ref/Alt Allele in target for 38 SNPs...\n",
      "Exctraction of hdf5 done. Subsetting...!\n",
      "Extraction of 5008 Haplotypes complete\n",
      "Subset to markers with data: 27381 / 53710\n",
      "Fraction SNPs covered: 0.5098\n",
      "Successfully saved target individual data to: /mnt/archgen/users/yilei/tools/hapROH/Empirical/Eigenstrat/Example/Algerian_4/chr12/\n",
      "Successfully loaded Data from: /mnt/archgen/users/yilei/tools/hapROH/Empirical/Eigenstrat/Example/Algerian_4/chr12/\n",
      "Loaded Emission Model: diploid_gt\n",
      "Loaded Transition Model: model\n",
      "Loaded Post Processing Model: Standard\n",
      "\n",
      "Parameters in hapsb_chrom:\n",
      "iid\tAlgerian_4\n",
      "ch\t12\n",
      "save\tTrue\n",
      "save_fp\tFalse\n",
      "n_ref\t2504\n",
      "diploid_ref\tTrue\n",
      "exclude_pops\t[]\n",
      "e_model\tdiploid_gt\n",
      "p_model\tSardHDF5\n",
      "readcounts\tFalse\n",
      "random_allele\tFalse\n",
      "downsample\tFalse\n",
      "post_model\tStandard\n",
      "path_targets\t/mnt/archgen/users/hringbauer/data/marcus2020.h5\n",
      "h5_path1000g\t/mnt/archgen/users/yilei/Data/1000G/1000g1240khdf5/all1240/chr\n",
      "meta_path_ref\t/mnt/archgen/users/yilei/Data/1000G/1000g1240khdf5/all1240/meta_df_all.csv\n",
      "folder_out\t/mnt/archgen/users/yilei/tools/hapROH/Empirical/Eigenstrat/Example\n",
      "prefix_out\t\n",
      "c\t0.0\n",
      "conPop\t['CEU']\n",
      "roh_in\t1\n",
      "roh_out\t20\n",
      "roh_jump\t300\n",
      "e_rate\t0.01\n",
      "e_rate_ref\t0.0\n",
      "max_gap\t0\n",
      "roh_min_l_initial\t0.01\n",
      "roh_min_l_final\t0.04\n",
      "min_len1\t0.02\n",
      "min_len2\t0.04\n",
      "cutoff_post\t0.999\n",
      "logfile\tFalse\n",
      "\n",
      "\n",
      "Minimum Genetic Map: 0.0009 Morgan\n",
      "Maximum Genetic Map: 1.7468 Morgan\n",
      "Gaps bigger than 0.1 cM: 285\n",
      "Maximum Gap: 0.8015 cM\n",
      "Upper Gap Cutoff: 5.0000 cM\n",
      "Loaded Transition and Emission Matrix:\n",
      "(3, 3)\n",
      "(5009, 27381)\n",
      "Loaded Observations:\n",
      "(2, 27381)\n",
      "Memory Usage at end of HMM:\n",
      "Memory Usage: 1525.28896 mB\n",
      "Total Log likelihood: -15170.032\n",
      "Finished Calculation State Posteriors\n",
      "Saved Zero State Posterior to folder /mnt/archgen/users/yilei/tools/hapROH/Empirical/Eigenstrat/Example/Algerian_4/chr12/.\n",
      "Successfully loaded for PP. from /mnt/archgen/users/yilei/tools/hapROH/Empirical/Eigenstrat/Example/Algerian_4/chr12/\n",
      "Fraction Markers in ROH: 0.2007\n",
      "Called n=1 ROH Blocks > 4.0 cM\n",
      "Longest Block: 21.14 cM\n",
      "Successfully saved to /mnt/archgen/users/yilei/tools/hapROH/Empirical/Eigenstrat/Example/Algerian_4/chr12/roh.csv\n",
      "Run finished successfully!\n",
      "\n",
      "Test Passed!\n",
      "CPU times: user 11.1 s, sys: 1.46 s, total: 12.5 s\n",
      "Wall time: 12.4 s\n"
     ]
    }
   ],
   "source": [
    "%%time\n",
    "test_diploid_gt()"
   ]
  },
  {
   "cell_type": "markdown",
   "metadata": {},
   "source": [
    "# Call IBD on male X Chromosomes\n",
    "Test IBD Calls between two male X chromosomes"
   ]
  },
  {
   "cell_type": "code",
   "execution_count": null,
   "metadata": {},
   "outputs": [],
   "source": [
    "%%time\n",
    "# I don't have data for this sample so I cannot run this test\n",
    "# test_X_IBD()"
   ]
  },
  {
   "cell_type": "markdown",
   "metadata": {},
   "source": [
    "# Test plotting functions\n",
    "Essentially just check whether they run without error and produce the desired output"
   ]
  },
  {
   "cell_type": "code",
   "execution_count": 10,
   "metadata": {},
   "outputs": [],
   "source": [
    "from hapsburg.figures.plot_posterior import plot_posterior_cm\n",
    "from hapsburg.figures.plot_individual_roh import plot_roh_individual, plot_pde_individual"
   ]
  },
  {
   "cell_type": "code",
   "execution_count": 11,
   "metadata": {},
   "outputs": [],
   "source": [
    "folder_out=\"/mnt/archgen/users/yilei/tools/hapROH/Empirical/Eigenstrat/Example\"\n",
    "\n",
    "def test_plot_posterior():\n",
    "    plot_posterior_cm(folder = f\"{folder_out}/I1178/chr6/\", savepath=\"\", title=\"I1178, Chr. 6\", \n",
    "                      empirical=True, m=2, cm_lim=[], min_cm=4, \n",
    "                      groundtruth = False, readcount=False, figsize=(10,4))\n",
    "    print(f\"\\nTest Passed!\")\n",
    "    return 0\n",
    "\n",
    "\n",
    "def test_plot_roh_individual():\n",
    "    plot_roh_individual(iid=\"I1178\", savepath=\"\", folder=folder_out+\"/\", title=\"\",\n",
    "                        min_cm=4, plot_bad=False, prefix_out=\"\", gap=0.5, output=False) \n",
    "    print(f\"\\nTest Passed!\")\n",
    "    return 0\n",
    "\n",
    "def test_plot_pde_individual():\n",
    "    plot_pde_individual(iid='I1178', min_cm=4, snp_cm=50, bw_cm=4, kde_plot=False, \n",
    "                        plotlim=[4, 100], savepath='', folder=folder_out+\"/\", \n",
    "                        prefix_out='', output=False, gap=0.5)\n",
    "    print(f\"\\nTest Passed!\")\n",
    "    return 0"
   ]
  },
  {
   "cell_type": "code",
   "execution_count": 12,
   "metadata": {},
   "outputs": [
    {
     "name": "stderr",
     "output_type": "stream",
     "text": [
      "findfont: Font family ['sans-serif'] not found. Falling back to DejaVu Sans.\n",
      "findfont: Font family ['sans-serif'] not found. Falling back to DejaVu Sans.\n",
      "findfont: Font family ['sans-serif'] not found. Falling back to DejaVu Sans.\n"
     ]
    },
    {
     "name": "stdout",
     "output_type": "stream",
     "text": [
      "Successfully loaded Data from: /mnt/archgen/users/yilei/tools/hapROH/Empirical/Eigenstrat/Example/I1178/chr6/\n"
     ]
    },
    {
     "data": {
      "image/png": "[encoded data removed]",
      "text/plain": [
       "<Figure size 720x288 with 2 Axes>"
      ]
     },
     "metadata": {
      "needs_background": "light"
     },
     "output_type": "display_data"
    },
    {
     "name": "stdout",
     "output_type": "stream",
     "text": [
      "\n",
      "Test Passed!\n"
     ]
    },
    {
     "data": {
      "text/plain": [
       "0"
      ]
     },
     "execution_count": 12,
     "metadata": {},
     "output_type": "execute_result"
    }
   ],
   "source": [
    "test_plot_posterior()"
   ]
  },
  {
   "cell_type": "code",
   "execution_count": 13,
   "metadata": {},
   "outputs": [
    {
     "name": "stderr",
     "output_type": "stream",
     "text": [
      "findfont: Font family ['sans-serif'] not found. Falling back to DejaVu Sans.\n"
     ]
    },
    {
     "data": {
      "image/png": "[encoded data removed]",
      "text/plain": [
       "<Figure size 576x576 with 2 Axes>"
      ]
     },
     "metadata": {
      "needs_background": "light"
     },
     "output_type": "display_data"
    },
    {
     "name": "stdout",
     "output_type": "stream",
     "text": [
      "\n",
      "Test Passed!\n"
     ]
    },
    {
     "data": {
      "text/plain": [
       "0"
      ]
     },
     "execution_count": 13,
     "metadata": {},
     "output_type": "execute_result"
    }
   ],
   "source": [
    "test_plot_roh_individual()"
   ]
  },
  {
   "cell_type": "code",
   "execution_count": 14,
   "metadata": {},
   "outputs": [
    {
     "name": "stderr",
     "output_type": "stream",
     "text": [
      "findfont: Font family ['sans-serif'] not found. Falling back to DejaVu Sans.\n"
     ]
    },
    {
     "data": {
      "image/png": "[encoded data removed]",
      "text/plain": [
       "<Figure size 576x432 with 1 Axes>"
      ]
     },
     "metadata": {
      "needs_background": "light"
     },
     "output_type": "display_data"
    },
    {
     "name": "stdout",
     "output_type": "stream",
     "text": [
      "\n",
      "Test Passed!\n"
     ]
    },
    {
     "data": {
      "text/plain": [
       "0"
      ]
     },
     "execution_count": 14,
     "metadata": {},
     "output_type": "execute_result"
    }
   ],
   "source": [
    "test_plot_pde_individual()"
   ]
  }
 ],
 "metadata": {
  "kernelspec": {
   "display_name": "Python 3",
   "language": "python",
   "name": "python3"
  },
  "language_info": {
   "codemirror_mode": {
    "name": "ipython",
    "version": 3
   },
   "file_extension": ".py",
   "mimetype": "text/x-python",
   "name": "python",
   "nbconvert_exporter": "python",
   "pygments_lexer": "ipython3",
   "version": "3.8.10"
  }
 },
 "nbformat": 4,
 "nbformat_minor": 4
}
