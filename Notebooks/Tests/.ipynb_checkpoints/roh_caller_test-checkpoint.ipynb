{
 "cells": [
  {
   "cell_type": "markdown",
   "metadata": {},
   "source": [
    "# Test to assess whether ROH caller works\n",
    "Run ROH caller on known test cases to assess whether it behaves correctly"
   ]
  },
  {
   "cell_type": "code",
   "execution_count": null,
   "metadata": {},
   "outputs": [],
   "source": [
    "### Some Code to set right paths on Harald's Machine\n",
    "import numpy as np\n",
    "import pandas as pd\n",
    "import matplotlib.pyplot as plt\n",
    "import os as os\n",
    "import sys as sys\n",
    "import multiprocessing as mp\n",
    "import sys\n",
    "import socket as socket\n",
    "\n",
    "socket_name = socket.gethostname()\n",
    "print(socket_name)\n",
    "if socket_name == \"VioletQueen\":\n",
    "    path = \"/home/harald/git/HAPSBURG/\"   # The Path on Harald's machine\n",
    "elif socket_name.startswith(\"midway2\"):\n",
    "    print(\"Midway jnovmbre partition detected.\")\n",
    "    path = \"/project2/jnovembre/hringbauer/HAPSBURG/\"  # The Path on Midway Cluster\n",
    "else: \n",
    "    raise RuntimeWarning(\"Not compatible machine. Check!!\")\n",
    "    \n",
    "os.chdir(path)  # Set the right Path (in line with Atom default)\n",
    "\n",
    "print(os.getcwd()) # Show the current working directory. Should be HAPSBURG/Notebooks/ParallelRuns\n",
    "print(f\"CPU Count: {mp.cpu_count()}\")\n",
    "\n",
    "### If wanting to use local version and not  pip installed version\n",
    "#sys.path.append(\"./package/\") # Append local Hapsburg Folder\n",
    "sys.path.insert(0,\"./package/\")  # hack to get local package first in path\n",
    "from hapsburg.PackagesSupport.hapsburg_run import hapsb_ind, hapsb_chrom  # Need this import"
   ]
  },
  {
   "cell_type": "code",
   "execution_count": 4,
   "metadata": {},
   "outputs": [],
   "source": [
    "##############################################\n",
    "### Helper Functions for tests\n",
    "\n",
    "def check_max_roh(path_roh_file, roh_max=(0.05,0.1)):\n",
    "    \"\"\"Check if file at path_roh_file has \n",
    "    maximum roh in roh_max [array of size 2, Morgan]\"\"\"\n",
    "    df =  pd.read_csv(path_roh_file)\n",
    "    m = np.max(df[\"lengthM\"])\n",
    "    return (roh_max[0]<m<roh_max[1])\n",
    "\n",
    "##############################################\n",
    "\n",
    "def test_chromosome_roh():\n",
    "    \"\"\"Do a testrun for one chromosome with known ROH (ca. 15 cM).\n",
    "    Test hapROH function hapsb_ind\"\"\"\n",
    "    path_roh_file = \"./Empirical/Eigenstrat/Example/I1178/chr20/roh.csv\"\n",
    "    ### Delete the exisiting ROH file\n",
    "    if os.path.exists(path_roh_file):\n",
    "        os.remove(path_roh_file)\n",
    "\n",
    "    hapsb_ind(iid=\"I1178\", chs=range(20, 21), \n",
    "              path_targets='./Data/ExampleData/Levant_ChL', # The path before the .ind, .snp, .geno\n",
    "              h5_path1000g='./Data/1000Genomes/HDF5/1240kHDF5/all1240int8/chr', \n",
    "              meta_path_ref='./Data/1000Genomes/Individuals/meta_df_all.csv', \n",
    "              folder_out='./Empirical/Eigenstrat/Example/', prefix_out='', \n",
    "              e_model='haploid', p_model='Eigenstrat', \n",
    "              post_model='Standard', processes=1, delete=False, output=True, save=True, \n",
    "              save_fp=False, n_ref=2504, exclude_pops=[], readcounts=False, random_allele=True, \n",
    "              roh_in=1, roh_out=20, roh_jump=300, e_rate=0.01, e_rate_ref=0.0, \n",
    "              cutoff_post=0.999, max_gap=0, roh_min_l=0.01, \n",
    "              logfile=False, combine=False, file_result='_roh_full.csv')\n",
    "    \n",
    "    ### Load the ROH file\n",
    "    m =check_max_roh(path_roh_file, roh_max=(0.14,0.17))\n",
    "    assert(m)    \n",
    "    print(f\"\\nTest Passed!\")\n",
    "    return 0\n",
    "\n",
    "##############################################\n",
    "### Test Individual ROH Caller\n",
    "\n",
    "def test_individual_roh(procs=6):\n",
    "    \"\"\"Test running indiviudal, combining and multiprocessing.\n",
    "    procs: How many Processors to use\"\"\"\n",
    "    ### Delete old files\n",
    "    for ch in range(1,23):\n",
    "        path_roh_file = f\"./Empirical/Eigenstrat/Example/I1178/chr{ch}/roh.csv\"\n",
    "        if os.path.exists(path_roh_file):\n",
    "            os.remove(path_roh_file)\n",
    "            print(f\"Deleted {path_roh_file}\")\n",
    "            \n",
    "    path_full = \"./Empirical/Eigenstrat/Example/I1178_roh_full.csv\"\n",
    "    if os.path.exists(path_full):\n",
    "        os.remove(path_full)\n",
    "        print(f\"Deleted {path_full}\")\n",
    "    \n",
    "    hapsb_ind(iid=\"I1178\", chs=range(1,23), processes=procs, \n",
    "          path_targets='./Data/ExampleData/Levant_ChL', \n",
    "          h5_path1000g='./Data/1000Genomes/HDF5/1240kHDF5/all1240int8/chr', \n",
    "          meta_path_ref='./Data/1000Genomes/Individuals/meta_df_all.csv', \n",
    "          folder_out='./Empirical/Eigenstrat/Example/', prefix_out='', \n",
    "          e_model=\"haploid\", p_model=\"Eigenstrat\",\n",
    "          random_allele=True, readcounts=False,\n",
    "          delete=False, logfile=True, combine=True)\n",
    "    \n",
    "    df =  pd.read_csv(path_full)\n",
    "    df_long = df[df[\"lengthM\"]>0.04]\n",
    "    s_roh = np.sum(df_long[\"lengthM\"])\n",
    "    assert(6<s_roh<8)\n",
    "    print(f\"\\n Test passed!\")\n",
    "    return 0\n",
    "\n",
    "##############################################\n",
    "### Test Individual ROH Caller\n",
    "\n",
    "def test_X_IBD():\n",
    "    \"\"\"Do a testrun for one chromosome with known ROH (ca. 15 cM).\n",
    "    Test hapROH function hapsb_ind\"\"\"\n",
    "    path_roh_file = \"/project2/jnovembre/hringbauer/HAPSBURG/Empirical/dumpster/testx/I15965_I16171/chrX/roh.csv\"\n",
    "    ### Delete the exisiting ROH file\n",
    "    if os.path.exists(path_roh_file):\n",
    "        os.remove(path_roh_file)\n",
    "\n",
    "    hapsb_chrom(iid=[\"I15965\",\"I16171\"], ch=23, save=True, save_fp=False, n_ref=2504, diploid_ref=False, exclude_pops=[],\n",
    "                e_model='readcount', p_model='EigenstratX', readcounts=True, random_allele=False,\n",
    "                post_model=\"IBD_X\", logfile=False, \n",
    "                path_targets = \"/project2/jnovembre/hringbauer/caribbean_roh/data/eigenstrat/v421_CaribIllu1000GancSam_bySite_PAM\",\n",
    "                h5_path1000g = \"/project2/jnovembre/hringbauer/HAPSBURG/Data/1000Genomes/HDF5/1240kHDF5/all1240/chr\", \n",
    "                meta_path_ref = \"/project2/jnovembre/hringbauer/HAPSBURG/Data/1000Genomes/Individuals/meta_df_all_sex.tsv\",\n",
    "                folder_out = \"/project2/jnovembre/hringbauer/HAPSBURG/Empirical/dumpster/testx/\")\n",
    "    \n",
    "    ### Load the ROH file\n",
    "    m =check_max_roh(path_roh_file, roh_max=(0.35,0.38))\n",
    "    assert(m)\n",
    "    print(f\"\\nTest Passed!\")\n",
    "    return 0"
   ]
  },
  {
   "cell_type": "markdown",
   "metadata": {},
   "source": [
    "# Run the tests\n",
    "Print \"test passed\" in the end and functions return 0 if test successful"
   ]
  },
  {
   "cell_type": "markdown",
   "metadata": {},
   "source": [
    "### Single Chromsome with long ROH"
   ]
  },
  {
   "cell_type": "code",
   "execution_count": 5,
   "metadata": {},
   "outputs": [
    {
     "name": "stdout",
     "output_type": "stream",
     "text": [
      "Doing Individual I1178...\n",
      "Running 1 total jobs; 1 in parallel.\n",
      "Using Low-Mem Cython Linear Speed Up.\n",
      "Loaded Pre Processing Model: Eigenstrat\n",
      "Loading Individual: I1178\n",
      "\n",
      "Loaded 29078 variants\n",
      "Loaded 2504 individuals\n",
      "HDF5 loaded from ./Data/1000Genomes/HDF5/1240kHDF5/all1240int8/chr20.hdf5\n",
      "Eigenstrat packed: True\n",
      "3 Eigenstrat Files with 22 Individuals and 1233013 SNPs\n",
      "\n",
      "Intersection on Positions: 29078\n",
      "Nr of Matching Refs: 29078 / 29078\n",
      "Ref/Alt Matching: 29053 / 29078\n",
      "Flipped Ref/Alt Matching: 0\n",
      "Together: 29053 / 29078\n",
      "2504 / 2504 Individuals included in Reference\n",
      "Extracting up to 2504 Individuals\n",
      "Extraction of 5008 Haplotypes complete\n",
      "Flipping Ref/Alt in target for 0 SNPs...\n",
      "Reduced to markers called 19815 / 29053\n",
      "Fraction SNPs covered: 0.6820\n",
      "Successfully saved to: ./Empirical/Eigenstrat/Example/I1178/chr20/\n",
      "Shuffling phase of target...\n",
      "Successfully loaded Data from: ./Empirical/Eigenstrat/Example/I1178/chr20/\n",
      "Loaded Emission Model: haploid\n",
      "Loaded Transition Model: model\n",
      "Loaded Post Processing Model: Standard\n",
      "Minimum Genetic Map: 0.0000 Morgan\n",
      "Maximum Genetic Map: 1.0821 Morgan\n",
      "Gaps bigger than 0.1 cM: 159\n",
      "Maximum Gap: 0.4744 cM\n",
      "Upper Gap Cutoff: 5.0000 cM\n",
      "Loaded Transition and Emission Matrix:\n",
      "(3, 3)\n",
      "(5009, 19815)\n",
      "Loaded Observations:\n",
      "(2, 19815)\n",
      "Reference Number: 5008\n",
      "Total Log likelihood: -5804.329\n",
      "Memory Usage: 1081.4464 mB\n",
      "Finished Calculation State Posteriors\n",
      "Saved Zero State Posterior to ./Empirical/Eigenstrat/Example/I1178/chr20/.\n",
      "Successfully loaded for PP. from ./Empirical/Eigenstrat/Example/I1178/chr20/\n",
      "Fraction Markers in ROH: 0.4818\n",
      "Merged n=0 gaps < 0 M\n",
      "Called n=4 ROH Blocks > 1.0 cM\n",
      "Longest Block: 15.87 cM\n",
      "Successfully saved to ./Empirical/Eigenstrat/Example/I1178/chr20/roh.csv\n",
      "Run finished successfully!\n",
      "\n",
      "Test Passed!\n"
     ]
    },
    {
     "data": {
      "text/plain": [
       "0"
      ]
     },
     "execution_count": 5,
     "metadata": {},
     "output_type": "execute_result"
    }
   ],
   "source": [
    "test_chromosome_roh()"
   ]
  },
  {
   "cell_type": "markdown",
   "metadata": {},
   "source": [
    "# Whole individual\n",
    "Run indiivudal I1178"
   ]
  },
  {
   "cell_type": "code",
   "execution_count": 6,
   "metadata": {},
   "outputs": [
    {
     "name": "stdout",
     "output_type": "stream",
     "text": [
      "Deleted ./Empirical/Eigenstrat/Example/I1178/chr1/roh.csv\n",
      "Deleted ./Empirical/Eigenstrat/Example/I1178/chr2/roh.csv\n",
      "Deleted ./Empirical/Eigenstrat/Example/I1178/chr3/roh.csv\n",
      "Deleted ./Empirical/Eigenstrat/Example/I1178/chr4/roh.csv\n",
      "Deleted ./Empirical/Eigenstrat/Example/I1178/chr5/roh.csv\n",
      "Deleted ./Empirical/Eigenstrat/Example/I1178/chr6/roh.csv\n",
      "Deleted ./Empirical/Eigenstrat/Example/I1178/chr7/roh.csv\n",
      "Deleted ./Empirical/Eigenstrat/Example/I1178/chr8/roh.csv\n",
      "Deleted ./Empirical/Eigenstrat/Example/I1178/chr9/roh.csv\n",
      "Deleted ./Empirical/Eigenstrat/Example/I1178/chr10/roh.csv\n",
      "Deleted ./Empirical/Eigenstrat/Example/I1178/chr11/roh.csv\n",
      "Deleted ./Empirical/Eigenstrat/Example/I1178/chr12/roh.csv\n",
      "Deleted ./Empirical/Eigenstrat/Example/I1178/chr13/roh.csv\n",
      "Deleted ./Empirical/Eigenstrat/Example/I1178/chr14/roh.csv\n",
      "Deleted ./Empirical/Eigenstrat/Example/I1178/chr15/roh.csv\n",
      "Deleted ./Empirical/Eigenstrat/Example/I1178/chr16/roh.csv\n",
      "Deleted ./Empirical/Eigenstrat/Example/I1178/chr17/roh.csv\n",
      "Deleted ./Empirical/Eigenstrat/Example/I1178/chr18/roh.csv\n",
      "Deleted ./Empirical/Eigenstrat/Example/I1178/chr19/roh.csv\n",
      "Deleted ./Empirical/Eigenstrat/Example/I1178/chr20/roh.csv\n",
      "Deleted ./Empirical/Eigenstrat/Example/I1178/chr21/roh.csv\n",
      "Deleted ./Empirical/Eigenstrat/Example/I1178/chr22/roh.csv\n",
      "Deleted ./Empirical/Eigenstrat/Example/I1178_roh_full.csv\n",
      "Doing Individual I1178...\n",
      "Running 22 total jobs; 6 in parallel.\n",
      "Set Output Log path: ./Empirical/Eigenstrat/Example/I1178/chr2/hmm_run_log.txt\n",
      "Set Output Log path: ./Empirical/Eigenstrat/Example/I1178/chr1/hmm_run_log.txt\n",
      "Set Output Log path: ./Empirical/Eigenstrat/Example/I1178/chr3/hmm_run_log.txt\n",
      "Set Output Log path: ./Empirical/Eigenstrat/Example/I1178/chr4/hmm_run_log.txt\n",
      "Set Output Log path: ./Empirical/Eigenstrat/Example/I1178/chr5/hmm_run_log.txt\n",
      "Set Output Log path: ./Empirical/Eigenstrat/Example/I1178/chr6/hmm_run_log.txt\n",
      "Combining Information for 22 Chromosomes...\n",
      "Run finished successfully!\n",
      "\n",
      " Test passed!\n"
     ]
    },
    {
     "data": {
      "text/plain": [
       "0"
      ]
     },
     "execution_count": 6,
     "metadata": {},
     "output_type": "execute_result"
    }
   ],
   "source": [
    "test_individual_roh(procs=6)"
   ]
  },
  {
   "cell_type": "markdown",
   "metadata": {},
   "source": [
    "# X Chromosome\n",
    "Test IBD Calls between two male X chromosomes"
   ]
  },
  {
   "cell_type": "code",
   "execution_count": 7,
   "metadata": {},
   "outputs": [
    {
     "name": "stdout",
     "output_type": "stream",
     "text": [
      "Using Low-Mem Cython Linear Speed Up.\n",
      "Loaded Pre Processing Model: EigenstratX\n",
      "Loading Individual: ['I15965', 'I16171']\n",
      "\n",
      "Loaded 47898 variants\n",
      "Loaded 2504 individuals\n",
      "HDF5 loaded from /project2/jnovembre/hringbauer/HAPSBURG/Data/1000Genomes/HDF5/1240kHDF5/all1240/chrX.hdf5\n",
      "Eigenstrat packed: True\n",
      "3 Eigenstrat Files with 1488 Individuals and 1233013 SNPs\n",
      "\n",
      "Intersection on Positions: 47895\n",
      "Nr of Matching Refs: 9790 / 47895\n",
      "Ref/Alt Matching: 9772 / 47895\n",
      "Flipped Ref/Alt Matching: 37994\n",
      "Together: 47766 / 47895\n",
      "2504 / 2504 Individuals included in Reference\n",
      "Extracting up to 2504 Individuals\n",
      "Extraction of 2504 Haplotypes complete\n",
      "Flipping Ref/Alt in target for 37994 SNPs...\n",
      "Reduced to markers called 21264 / 47766\n",
      "Fraction SNPs covered: 0.4452\n",
      "Successfully saved to: /project2/jnovembre/hringbauer/HAPSBURG/Empirical/dumpster/testx/I15965_I16171/chrX/\n",
      "Loading Readcounts...\n",
      "Mean Readcount markers loaded: 1.42019\n",
      "Successfully loaded Data from: /project2/jnovembre/hringbauer/HAPSBURG/Empirical/dumpster/testx/I15965_I16171/chrX/\n",
      "Loaded Emission Model: readcount\n",
      "Loaded Transition Model: model\n",
      "Loaded Post Processing Model: IBD_X\n",
      "Minimum Genetic Map: 0.2085 Morgan\n",
      "Maximum Genetic Map: 2.0206 Morgan\n",
      "Gaps bigger than 0.1 cM: 326\n",
      "Maximum Gap: 1.3160 cM\n",
      "Upper Gap Cutoff: 5.0000 cM\n",
      "Loaded Transition and Emission Matrix:\n",
      "(3, 3)\n",
      "(2505, 21264)\n",
      "Loaded Observations:\n",
      "(2, 21264)\n",
      "Reference Number: 2504\n",
      "Total Log likelihood: -6731.517\n",
      "Memory Usage: 672.899072 mB\n",
      "Finished Calculation State Posteriors\n",
      "Saved Zero State Posterior to /project2/jnovembre/hringbauer/HAPSBURG/Empirical/dumpster/testx/I15965_I16171/chrX/.\n",
      "Successfully loaded for PP. from /project2/jnovembre/hringbauer/HAPSBURG/Empirical/dumpster/testx/I15965_I16171/chrX/\n",
      "Fraction Markers in ROH: 0.4254\n",
      "Merged n=0 gaps < 0 M\n",
      "Called n=11 ROH Blocks > 1.0 cM\n",
      "Longest Block: 36.10 cM\n",
      "Successfully saved to /project2/jnovembre/hringbauer/HAPSBURG/Empirical/dumpster/testx/I15965_I16171/chrX/roh.csv\n",
      "\n",
      "Test Passed!\n"
     ]
    },
    {
     "data": {
      "text/plain": [
       "0"
      ]
     },
     "execution_count": 7,
     "metadata": {},
     "output_type": "execute_result"
    }
   ],
   "source": [
    "test_X_IBD()"
   ]
  },
  {
   "cell_type": "code",
   "execution_count": null,
   "metadata": {},
   "outputs": [],
   "source": []
  }
 ],
 "metadata": {
  "kernelspec": {
   "display_name": "Python 3",
   "language": "python",
   "name": "python3"
  },
  "language_info": {
   "codemirror_mode": {
    "name": "ipython",
    "version": 3
   },
   "file_extension": ".py",
   "mimetype": "text/x-python",
   "name": "python",
   "nbconvert_exporter": "python",
   "pygments_lexer": "ipython3",
   "version": "3.7.0"
  }
 },
 "nbformat": 4,
 "nbformat_minor": 4
}
