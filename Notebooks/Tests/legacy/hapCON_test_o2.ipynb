{
 "cells": [
  {
   "cell_type": "markdown",
   "metadata": {},
   "source": [
    "# Run Tests for hapCon\n",
    "Make use of O2 cluster [Haravard]"
   ]
  },
  {
   "cell_type": "code",
   "execution_count": 1,
   "metadata": {},
   "outputs": [],
   "source": [
    "from hapsburg.PackagesSupport.hapsburg_run import hapCon_chrom_BFGS"
   ]
  },
  {
   "cell_type": "markdown",
   "metadata": {},
   "source": [
    "# Test for 1240k panel on a Sardinian"
   ]
  },
  {
   "cell_type": "code",
   "execution_count": 3,
   "metadata": {},
   "outputs": [],
   "source": [
    "path2bam = \"/n/data1/hms/genetics/reich/1000Genomes/amh_samples/marcus2019_sardinia_samples/A-round1/B-fix/SUA001/hg19/SUA001.md_no1kgvar.bam.by_chr/SUA001.md_no1kgvar.X.bam\"\n",
    "path2bed1240k=\"/n/groups/reich/hringbauer/git/HAPSBURG/Data/hapCon/chrX_1240k.bed\"\n",
    "outpath = \"/n/groups/reich/hringbauer/git/HAPSBURG/output/hapConTest/SUA001.mpileup\"\n",
    "\n",
    "path2ref1240k=\"/n/groups/reich/hringbauer/Data/1000G_hdf5s/chrX.hdf5\"\n",
    "path2meta=\"/n/groups/reich/hringbauer/Data/1000G_hdf5s/meta_df_all.csv\""
   ]
  },
  {
   "cell_type": "code",
   "execution_count": 5,
   "metadata": {},
   "outputs": [],
   "source": [
    "#!samtools index $path2bam\n",
    "!samtools mpileup --positions $path2bed1240k -r X -q 30 -Q 30 -o $outpath $path2bam"
   ]
  },
  {
   "cell_type": "code",
   "execution_count": 6,
   "metadata": {},
   "outputs": [
    {
     "name": "stdout",
     "output_type": "stream",
     "text": [
      "exclude 1033 sites outside the specified region\n",
      "exclude 0 non-SNP sites\n",
      "number of major reads at flanking sites: 307685\n",
      "number of minor reads at flanking sites: 313\n",
      "number of major reads at focal sites: 37104\n",
      "number of minor reads at focal sites: 901\n",
      "err rate at flanking sites: 0.001016\n",
      "err rate at focal sites: 0.023707\n",
      "saving sample as SUA001 in /n/groups/reich/hringbauer/git/HAPSBURG/output/hapConTest/SUA001.hdf5\n",
      "estimated genotyping error by flanking sites: 0.001016\n",
      "number of sites covered by at least one read: 19094, fraction covered: 0.407\n",
      "hdf5 file saved to /n/groups/reich/hringbauer/git/HAPSBURG/output/hapConTest/SUA001.hdf5\n",
      "finished reading mpileup file, takes 9.759.\n",
      "number of sites covered by at least one read: 19094\n",
      "hdf5 file saved to /n/groups/reich/hringbauer/git/HAPSBURG/output/hapConTest/SUA001.hdf5\n",
      "estimated contamination rate: 0.106539(0.100053 - 0.113025)\n"
     ]
    }
   ],
   "source": [
    "conmle, _, _ , _ = hapCon_chrom_BFGS(iid=\"SUA001\", mpileup=outpath, h5_path1000g = path2ref1240k, meta_path_ref = path2meta)\n",
    "assert(conmle > 0.1 and conmle < 0.11)\n",
    "print(f\"Test passed!\")"
   ]
  },
  {
   "cell_type": "markdown",
   "metadata": {},
   "source": [
    "### Test Run directly from Shell [using pileup]"
   ]
  },
  {
   "cell_type": "code",
   "execution_count": 7,
   "metadata": {},
   "outputs": [
    {
     "name": "stdout",
     "output_type": "stream",
     "text": [
      "exclude 1033 sites outside the specified region\n",
      "exclude 0 non-SNP sites\n",
      "number of major reads at flanking sites: 307685\n",
      "number of minor reads at flanking sites: 313\n",
      "number of major reads at focal sites: 37104\n",
      "number of minor reads at focal sites: 901\n",
      "err rate at flanking sites: 0.001016\n",
      "err rate at focal sites: 0.023707\n",
      "saving sample as SUA001 in /n/groups/reich/hringbauer/git/HAPSBURG/output/hapConTest/SUA001.hdf5\n",
      "estimated genotyping error by flanking sites: 0.001016\n",
      "number of sites covered by at least one read: 19094, fraction covered: 0.407\n",
      "hdf5 file saved to /n/groups/reich/hringbauer/git/HAPSBURG/output/hapConTest/SUA001.hdf5\n",
      "finished reading mpileup file, takes 13.357.\n",
      "number of sites covered by at least one read: 19094\n",
      "hdf5 file saved to /n/groups/reich/hringbauer/git/HAPSBURG/output/hapConTest/SUA001.hdf5\n",
      "estimated contamination rate: 0.106539(0.100053 - 0.113025)\n",
      "CPU times: user 2.04 s, sys: 502 ms, total: 2.54 s\n",
      "Wall time: 1min 32s\n"
     ]
    }
   ],
   "source": [
    "%%time\n",
    "!hapConX -m $outpath -r $path2ref1240k --meta $path2meta"
   ]
  },
  {
   "cell_type": "markdown",
   "metadata": {},
   "source": [
    "# Testrun of hapCon-ROH"
   ]
  },
  {
   "cell_type": "code",
   "execution_count": 9,
   "metadata": {},
   "outputs": [
    {
     "name": "stdout",
     "output_type": "stream",
     "text": [
      "usage: hapCon_ROH [-h] [--mpileup MPATH] [--bamTable BAMTABLE] -i IID -r R\n",
      "                  --meta META [--minL MINL] [-p PROCESSES] [--niter NITER]\n",
      "                  [--tol TOL] [--prefix PREFIX]\n",
      "\n",
      "Run hapCon_ROH from either mpileup or BamTable output\n",
      "\n",
      "optional arguments:\n",
      "  -h, --help           show this help message and exit\n",
      "  --mpileup MPATH      Basepath to a list of mpileup file\n",
      "  --bamTable BAMTABLE  Basepath to a list of BamTable file\n",
      "  -i IID               IID of the target individual. Note that the filename of\n",
      "                       mpileup output or BamTable should follow\n",
      "                       $iid.chr$ch.mpileup or $iid.chr$ch.BamTable\n",
      "  -r R                 path to reference panel hdf5 file.\n",
      "  --meta META          path to the metadata for the reference panel.\n",
      "  --minL MINL          minimum length of ROH that will be used in\n",
      "                       contamination estimation (in cM).\n",
      "  -p PROCESSES         Number of processes to use.\n",
      "  --niter NITER        Maximum number of iterations.\n",
      "  --tol TOL            Stopping criterion. If the estimated contamination\n",
      "                       rates between two consecutive iterations differ less\n",
      "                       than this value, stop iteration.\n",
      "  --prefix PREFIX      prefix of the output. The output will be named as\n",
      "                       $iid.$prefix.hapCon_ROH.txt\n"
     ]
    }
   ],
   "source": [
    "!hapCon_ROH -h"
   ]
  },
  {
   "cell_type": "code",
   "execution_count": null,
   "metadata": {},
   "outputs": [],
   "source": [
    "!mkdir ./Data/BamTable\n",
    "!for ch in {1..22}; do /mnt/archgen/users/yilei/bin/BamTable-2.0.3/BamTable -f /mnt/archgen/users/yilei/Data/1"
   ]
  },
  {
   "cell_type": "code",
   "execution_count": null,
   "metadata": {},
   "outputs": [],
   "source": [
    "!hapCon_ROH --bamTable ./Data/BamTable -i test -p 4 --prefix iter_ROH -r $path2ref1240k --meta $path2meta"
   ]
  },
  {
   "cell_type": "markdown",
   "metadata": {},
   "source": [
    "# 2) Test 1000G panel with XiongNu DA43 sample"
   ]
  },
  {
   "cell_type": "code",
   "execution_count": 11,
   "metadata": {},
   "outputs": [
    {
     "name": "stdout",
     "output_type": "stream",
     "text": [
      "[mpileup] 1 samples in 1 input files\n"
     ]
    }
   ],
   "source": [
    "path2bam=\"../Vignettes/Data/DA43.bam\"\n",
    "path2bed1kg=\"/mnt/archgen/users/yilei/Data/1000G/1000g1240khdf5/all1240/maf5FilterChrX.bed\"\n"
   ]
  },
  {
   "cell_type": "code",
   "execution_count": null,
   "metadata": {},
   "outputs": [],
   "source": [
    "!samtools index $path2bam\n",
    "!samtools mpileup --positions $path2bed1kg -r X -q 30 -Q 30 -o ./Data/DA43.mpileup $path2bam"
   ]
  },
  {
   "cell_type": "code",
   "execution_count": 12,
   "metadata": {},
   "outputs": [
    {
     "name": "stdout",
     "output_type": "stream",
     "text": [
      "exclude 1033 sites outside the specified region\n",
      "exclude 0 non-SNP sites\n",
      "number of major reads at flanking sites: 18220\n",
      "number of minor reads at flanking sites: 184\n",
      "number of major reads at focal sites: 390\n",
      "number of minor reads at focal sites: 13\n",
      "err rate at flanking sites: 0.009998\n",
      "err rate at focal sites: 0.032258\n",
      "saving sample as DA43 in /mnt/archgen/users/yilei/tools/hapROH/Notebooks/Tests/Data/DA43.hdf5\n",
      "estimated genotyping error by flanking sites: 0.009998\n",
      "number of sites covered by at least one read: 3595, fraction covered: 0.077\n",
      "hdf5 file saved to /mnt/archgen/users/yilei/tools/hapROH/Notebooks/Tests/Data/DA43.hdf5\n",
      "finished reading mpileup file, takes 9.801.\n",
      "number of sites covered by at least one read: 3595\n",
      "hdf5 file saved to /mnt/archgen/users/yilei/tools/hapROH/Notebooks/Tests/Data/DA43.hdf5\n",
      "estimated contamination rate: 0.022853(0.008851 - 0.036855)\n"
     ]
    }
   ],
   "source": [
    "path2ref1kg=\"/mnt/archgen/users/yilei/Data/1000G/1000g1240khdf5/all1240/maf5_filter_chrX.hdf5\"\n",
    "conmle, _, _ = hapCon_chrom_BFGS(iid=\"DA43\", mpileup=\"./Data/DA43.mpileup\",\n",
    "    h5_path1000g = path2ref1240k, meta_path_ref = path2meta)\n",
    "assert(conmle > 0.02 and conmle < 0.025)"
   ]
  },
  {
   "cell_type": "code",
   "execution_count": 14,
   "metadata": {},
   "outputs": [
    {
     "name": "stdout",
     "output_type": "stream",
     "text": [
      "total number of mapped reads: 281907\n",
      "number of major reads at flanking sites: 4776\n",
      "number of minor reads at flanking sites: 41\n",
      "number of major reads at focal sites: 569\n",
      "number of minor reads at focal sites: 16\n",
      "err rate at flanking sites: 0.008512\n",
      "err rate at focal sites: 0.027350\n",
      "saving sample as DA43 in /mnt/archgen/users/yilei/tools/hapROH/Notebooks/Vignettes/Data/DA43.hdf5\n",
      "estimated genotyping error by flanking sites: 0.008512\n",
      "number of sites covered by at least one read: 5074, fraction covered: 0.108\n",
      "hdf5 file saved to /mnt/archgen/users/yilei/tools/hapROH/Notebooks/Vignettes/Data/DA43.hdf5\n",
      "finished reading bam file, takes 78.631.\n",
      "number of sites covered by at least one read: 5074\n",
      "hdf5 file saved to /mnt/archgen/users/yilei/tools/hapROH/Notebooks/Vignettes/Data/DA43.hdf5\n",
      "estimated contamination rate: 0.021743(0.008636 - 0.034850)\n"
     ]
    }
   ],
   "source": [
    "conmle, _, _ = hapCon_chrom_BFGS(iid=\"DA43\", bam=\"../Vignettes/Data/DA43.bam\",\n",
    "    h5_path1000g = path2ref1240k, meta_path_ref = path2meta)\n",
    "assert(conmle > 0.02 and conmle < 0.025)"
   ]
  }
 ],
 "metadata": {
  "interpreter": {
   "hash": "31f2aee4e71d21fbe5cf8b01ff0e069b9275f58929596ceb00d14d90e3e16cd6"
  },
  "kernelspec": {
   "display_name": "Python 3",
   "language": "python",
   "name": "python3"
  },
  "language_info": {
   "codemirror_mode": {
    "name": "ipython",
    "version": 3
   },
   "file_extension": ".py",
   "mimetype": "text/x-python",
   "name": "python",
   "nbconvert_exporter": "python",
   "pygments_lexer": "ipython3",
   "version": "3.7.4"
  }
 },
 "nbformat": 4,
 "nbformat_minor": 4
}
