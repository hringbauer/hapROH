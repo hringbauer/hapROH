{
 "cells": [
  {
   "cell_type": "markdown",
   "metadata": {},
   "source": [
    "# Test to assess whether ROH caller works\n",
    "Run ROH caller on known test cases to assess whether it behaves correctly"
   ]
  },
  {
   "cell_type": "code",
   "execution_count": 6,
   "metadata": {},
   "outputs": [
    {
     "name": "stdout",
     "output_type": "stream",
     "text": [
      "midway2-0403.rcc.local\n",
      "Midway jnovmbre partition detected.\n",
      "/project2/jnovembre/hringbauer/HAPSBURG\n",
      "CPU Count: 28\n"
     ]
    }
   ],
   "source": [
    "### Some Code to set right paths on Harald's Machine\n",
    "import numpy as np\n",
    "import pandas as pd\n",
    "import matplotlib.pyplot as plt\n",
    "import os as os\n",
    "import sys as sys\n",
    "import multiprocessing as mp\n",
    "import sys\n",
    "import socket as socket\n",
    "\n",
    "socket_name = socket.gethostname()\n",
    "print(socket_name)\n",
    "if socket_name == \"VioletQueen\":\n",
    "    path = \"/home/harald/git/HAPSBURG/\"   # The Path on Harald's machine\n",
    "elif socket_name.startswith(\"midway2\"):\n",
    "    print(\"Midway jnovmbre partition detected.\")\n",
    "    path = \"/project2/jnovembre/hringbauer/HAPSBURG/\"  # The Path on Midway Cluster\n",
    "else: \n",
    "    raise RuntimeWarning(\"Not compatible machine. Check!!\")\n",
    "    \n",
    "os.chdir(path)  # Set the right Path (in line with Atom default)\n",
    "\n",
    "print(os.getcwd()) # Show the current working directory. Should be HAPSBURG/Notebooks/ParallelRuns\n",
    "print(f\"CPU Count: {mp.cpu_count()}\")\n",
    "\n",
    "### If wanting to use local version and not  pip installed version\n",
    "#sys.path.append(\"./package/\") # Append local Hapsburg Folder\n",
    "sys.path.insert(0,\"./package/\")  # hack to get local package first in path\n",
    "from hapsburg.PackagesSupport.hapsburg_run import hapsb_ind, hapsb_chrom  # Need this import"
   ]
  },
  {
   "cell_type": "code",
   "execution_count": 11,
   "metadata": {},
   "outputs": [],
   "source": [
    "##############################################\n",
    "### Helper Functions for tests\n",
    "\n",
    "def check_max_roh(path_roh_file, roh_max=(0.05,0.1)):\n",
    "    \"\"\"Check if file at path_roh_file has \n",
    "    maximum roh in roh_max [array of size 2, Morgan]\"\"\"\n",
    "    df =  pd.read_csv(path_roh_file)\n",
    "    m = np.max(df[\"lengthM\"])\n",
    "    return (roh_max[0]<m<roh_max[1])\n",
    "\n",
    "##############################################\n",
    "\n",
    "def test_chromosome_roh():\n",
    "    \"\"\"Do a testrun for one chromosome with known ROH (ca. 15 cM).\n",
    "    Test hapROH function hapsb_ind\"\"\"\n",
    "    path_roh_file = \"./Empirical/Eigenstrat/Example/I1178/chr20/roh.csv\"\n",
    "    ### Delete the exisiting ROH file\n",
    "    if os.path.exists(path_roh_file):\n",
    "        os.remove(path_roh_file)\n",
    "\n",
    "    hapsb_ind(iid=\"I1178\", chs=range(20, 21), \n",
    "              path_targets='./Data/ExampleData/Levant_ChL', # The path before the .ind, .snp, .geno\n",
    "              h5_path1000g='./Data/1000Genomes/HDF5/1240kHDF5/all1240int8/chr', \n",
    "              meta_path_ref='./Data/1000Genomes/Individuals/meta_df_all.csv', \n",
    "              folder_out='./Empirical/Eigenstrat/Example/', prefix_out='', \n",
    "              e_model='haploid', p_model='Eigenstrat', \n",
    "              post_model='Standard', processes=1, delete=False, output=True, save=True, \n",
    "              save_fp=False, n_ref=2504, exclude_pops=[], readcounts=True, random_allele=True, \n",
    "              roh_in=1, roh_out=20, roh_jump=300, e_rate=0.01, e_rate_ref=0.0, \n",
    "              cutoff_post=0.999, max_gap=0, roh_min_l=0.01, \n",
    "              logfile=False, combine=False, file_result='_roh_full.csv')\n",
    "    \n",
    "    ### Load the ROH file\n",
    "    m =check_max_roh(path_roh_file, roh_max=(0.14,0.17))\n",
    "    assert(m)    \n",
    "    print(f\"\\nTest Passed!\")\n",
    "    return 0\n",
    "\n",
    "##############################################\n",
    "### Test Individual ROH Caller\n",
    "\n",
    "def test_individual_roh(procs=6):\n",
    "    \"\"\"Test running indiviudal, combining and multiprocessing.\n",
    "    procs: How many Processors to use\"\"\"\n",
    "    ### Delete old files\n",
    "    for ch in range(1,23):\n",
    "        path_roh_file = f\"./Empirical/Eigenstrat/Example/I1178/chr{ch}/roh.csv\"\n",
    "        if os.path.exists(path_roh_file):\n",
    "            os.remove(path_roh_file)\n",
    "            print(f\"Deleted {path_roh_file}\")\n",
    "            \n",
    "    path_full = \"./Empirical/Eigenstrat/Example/I1178_roh_full.csv\"\n",
    "    if os.path.exists(path_full):\n",
    "        os.remove(path_full)\n",
    "        print(f\"Deleted {path_full}\")\n",
    "    \n",
    "    hapsb_ind(iid=\"I1178\", chs=range(1,23), processes=procs, \n",
    "          path_targets='./Data/ExampleData/Levant_ChL', \n",
    "          h5_path1000g='./Data/1000Genomes/HDF5/1240kHDF5/all1240int8/chr', \n",
    "          meta_path_ref='./Data/1000Genomes/Individuals/meta_df_all.csv', \n",
    "          folder_out='./Empirical/Eigenstrat/Example/', prefix_out='', \n",
    "          e_model=\"haploid\", p_model=\"Eigenstrat\",\n",
    "          random_allele=True, readcounts=False,\n",
    "          delete=False, logfile=True, combine=True)\n",
    "    \n",
    "    df =  pd.read_csv(path_full)\n",
    "    df_long = df[df[\"lengthM\"]>0.04]\n",
    "    s_roh = np.sum(df_long[\"lengthM\"])\n",
    "    assert(6<s_roh<8)\n",
    "    print(f\"\\n Test passed!\")\n",
    "    return 0\n",
    "\n",
    "##############################################\n",
    "### Test Individual ROH Caller\n",
    "\n",
    "def test_X_IBD():\n",
    "    \"\"\"Do a testrun for one chromosome with known ROH (ca. 15 cM).\n",
    "    Test hapROH function hapsb_ind\"\"\"\n",
    "    path_roh_file = \"/project2/jnovembre/hringbauer/HAPSBURG/Empirical/dumpster/testx/I15965_I16171/chrX/roh.csv\"\n",
    "    ### Delete the exisiting ROH file\n",
    "    if os.path.exists(path_roh_file):\n",
    "        os.remove(path_roh_file)\n",
    "\n",
    "    hapsb_chrom(iid=[\"I15965\",\"I16171\"], ch=23, save=True, save_fp=False, n_ref=2504, diploid_ref=False, exclude_pops=[],\n",
    "                e_model='readcount', p_model='EigenstratX', readcounts=True, random_allele=False,\n",
    "                post_model=\"IBD_X\", logfile=False, \n",
    "                path_targets = \"/project2/jnovembre/hringbauer/caribbean_roh/data/eigenstrat/v421_CaribIllu1000GancSam_bySite_PAM\",\n",
    "                h5_path1000g = \"/project2/jnovembre/hringbauer/HAPSBURG/Data/1000Genomes/HDF5/1240kHDF5/all1240/chr\", \n",
    "                meta_path_ref = \"/project2/jnovembre/hringbauer/HAPSBURG/Data/1000Genomes/Individuals/meta_df_all_sex.tsv\",\n",
    "                folder_out = \"/project2/jnovembre/hringbauer/HAPSBURG/Empirical/dumpster/testx/\")\n",
    "    \n",
    "    ### Load the ROH file\n",
    "    m =check_max_roh(path_roh_file, roh_max=(0.35,0.38))\n",
    "    assert(m)\n",
    "    print(f\"\\nTest Passed!\")\n",
    "    return 0"
   ]
  },
  {
   "cell_type": "markdown",
   "metadata": {},
   "source": [
    "### Run the tests"
   ]
  },
  {
   "cell_type": "markdown",
   "metadata": {},
   "source": [
    "### Single Chromsome with long ROH"
   ]
  },
  {
   "cell_type": "code",
   "execution_count": null,
   "metadata": {},
   "outputs": [],
   "source": [
    "test_chromosome_roh()"
   ]
  },
  {
   "cell_type": "markdown",
   "metadata": {},
   "source": [
    "# Whole individual\n",
    "Run indiivudal I1178"
   ]
  },
  {
   "cell_type": "code",
   "execution_count": 5,
   "metadata": {},
   "outputs": [
    {
     "name": "stdout",
     "output_type": "stream",
     "text": [
      "Doing Individual I1178...\n",
      "Running 22 total jobs; 6 in parallel.\n",
      "Set Output Log path: ./Empirical/Eigenstrat/Example/I1178/chr2/hmm_run_log.txt\n",
      "Set Output Log path: ./Empirical/Eigenstrat/Example/I1178/chr1/hmm_run_log.txt\n",
      "Set Output Log path: ./Empirical/Eigenstrat/Example/I1178/chr3/hmm_run_log.txt\n",
      "Set Output Log path: ./Empirical/Eigenstrat/Example/I1178/chr4/hmm_run_log.txt\n",
      "Set Output Log path: ./Empirical/Eigenstrat/Example/I1178/chr6/hmm_run_log.txt\n",
      "Set Output Log path: ./Empirical/Eigenstrat/Example/I1178/chr5/hmm_run_log.txt\n",
      "Combining Information for 22 Chromosomes...\n",
      "Run finished successfully!\n",
      "\n",
      " Test passed!\n"
     ]
    },
    {
     "data": {
      "text/plain": [
       "0"
      ]
     },
     "execution_count": 5,
     "metadata": {},
     "output_type": "execute_result"
    }
   ],
   "source": [
    "test_individual_roh(procs=6)"
   ]
  },
  {
   "cell_type": "markdown",
   "metadata": {},
   "source": [
    "# X Chromosome\n",
    "Test IBD Calls between two male X chromosomes"
   ]
  },
  {
   "cell_type": "code",
   "execution_count": null,
   "metadata": {},
   "outputs": [],
   "source": [
    "test_X_IBD()"
   ]
  },
  {
   "cell_type": "code",
   "execution_count": null,
   "metadata": {},
   "outputs": [],
   "source": []
  }
 ],
 "metadata": {
  "kernelspec": {
   "display_name": "Python 3",
   "language": "python",
   "name": "python3"
  },
  "language_info": {
   "codemirror_mode": {
    "name": "ipython",
    "version": 3
   },
   "file_extension": ".py",
   "mimetype": "text/x-python",
   "name": "python",
   "nbconvert_exporter": "python",
   "pygments_lexer": "ipython3",
   "version": "3.7.0"
  }
 },
 "nbformat": 4,
 "nbformat_minor": 4
}
