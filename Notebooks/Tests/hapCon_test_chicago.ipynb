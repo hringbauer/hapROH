{
 "cells": [
  {
   "cell_type": "markdown",
   "metadata": {},
   "source": [
    "# Unit tests for hapCON\n",
    "WIth Paths for UoC Server"
   ]
  },
  {
   "cell_type": "code",
   "execution_count": 1,
   "metadata": {},
   "outputs": [
    {
     "name": "stdout",
     "output_type": "stream",
     "text": [
      "compute-e-16-229.o2.rc.hms.harvard.edu\n",
      "/n/groups/reich/hringbauer/git/HAPSBURG\n",
      "CPU Count: 28\n"
     ]
    }
   ],
   "source": [
    "### Some Code to set right paths (checks whether on Chicago cluster)\n",
    "import numpy as np\n",
    "import pandas as pd\n",
    "import matplotlib.pyplot as plt\n",
    "import os as os\n",
    "import sys as sys\n",
    "import multiprocessing as mp\n",
    "import sys\n",
    "import socket as socket\n",
    "\n",
    "socket_name = socket.gethostname()\n",
    "print(socket_name)\n",
    "if socket_name == \"VioletQueen\":\n",
    "     path = \"/home/harald/git/HAPSBURG/\"   # The Path on Harald's machine\n",
    "elif socket_name.startswith(\"midway2\"):\n",
    "    print(\"Midway jnovmbre partition detected.\")\n",
    "    path = \"/project2/jnovembre/hringbauer/HAPSBURG/\"  # The Path on Midway Cluster\n",
    "elif socket_name.startswith(\"compute\"):\n",
    "    path = \"/n/groups/reich/hringbauer/git/HAPSBURG/\"\n",
    "else:\n",
    "    raise RuntimeWarning(\"Not compatible machine. Check!!\")\n",
    "    \n",
    "os.chdir(path)  # Set the right Path (in line with Atom default)\n",
    "\n",
    "print(os.getcwd()) # Show the current working directory. Should be HAPSBURG/Notebooks/ParallelRuns\n",
    "print(f\"CPU Count: {mp.cpu_count()}\")\n",
    "\n",
    "### If wanting to use local version and not  pip installed version\n",
    "### Comment out to test installed version. Comment in to test development version:\n",
    "### \n",
    "\n",
    "# Comment in if testing Developer Package\n",
    "sys.path.insert(0,\"./package/\")  # hack to get local UoC Development package first in path\n",
    "#sys.path.insert(0, \"/mnt/archgen/users/yilei/tools/hapROH/package\")  # Yilei's Development Version at MPI EVA"
   ]
  },
  {
   "cell_type": "markdown",
   "metadata": {},
   "source": [
    "# Test for 1240k panel on a Sardinian"
   ]
  },
  {
   "cell_type": "code",
   "execution_count": 6,
   "metadata": {},
   "outputs": [],
   "source": [
    "# data preparation.\n",
    "from hapsburg.PackagesSupport.hapsburg_run import hapCon_chrom_BFGS\n",
    "\n",
    "path2bam=\"./Notebooks/Vignettes/Data/SUA001.bam\"\n",
    "path2bed1240k=\"./Notebooks/Vignettes/Data/chrX_1240k.bed\"\n",
    "outpath=\"./Notebooks/Vignettes/Data/SUA001.mpileup\"\n",
    "\n",
    "path2ref1240k=\"./Notebooks/Vignettes/Data/chrX_1240k.hdf5\"\n",
    "path2meta=\"./Notebooks/Vignettes/Data/meta_df_all.csv\""
   ]
  },
  {
   "cell_type": "code",
   "execution_count": 7,
   "metadata": {},
   "outputs": [
    {
     "name": "stdout",
     "output_type": "stream",
     "text": [
      "[mpileup] 1 samples in 1 input files\n",
      "CPU times: user 12.9 ms, sys: 19.1 ms, total: 32 ms\n",
      "Wall time: 589 ms\n"
     ]
    }
   ],
   "source": [
    "%%time\n",
    "!module load samtools; samtools index $path2bam\n",
    "!module load samtools; samtools mpileup --positions $path2bed1240k -r X -q 30 -Q 30 -o $outpath $path2bam"
   ]
  },
  {
   "cell_type": "code",
   "execution_count": 7,
   "metadata": {},
   "outputs": [
    {
     "name": "stdout",
     "output_type": "stream",
     "text": [
      "exclude 1033 sites outside the specified region\n",
      "exclude 0 non-SNP sites\n",
      "number of major reads at flanking sites: 10636\n",
      "number of minor reads at flanking sites: 16\n",
      "number of major reads at focal sites: 1291\n",
      "number of minor reads at focal sites: 27\n",
      "err rate at flanking sites: 0.001502\n",
      "err rate at focal sites: 0.020486\n",
      "saving sample as SUA001 in /project2/jnovembre/hringbauer/HAPSBURG/Notebooks/Vignettes/Data/SUA001.hdf5\n",
      "estimated genotyping error by flanking sites: 0.001502\n",
      "number of sites covered by at least one read: 3999, fraction covered: 0.085\n",
      "hdf5 file saved to /project2/jnovembre/hringbauer/HAPSBURG/Notebooks/Vignettes/Data/SUA001.hdf5\n",
      "finished reading mpileup file, takes 1.987.\n",
      "number of sites covered by at least one read: 3999\n",
      "hdf5 file saved to /project2/jnovembre/hringbauer/HAPSBURG/Notebooks/Vignettes/Data/SUA001.hdf5\n",
      "estimated contamination rate: 0.102113(0.076802 - 0.127424)\n",
      "CPU times: user 9.51 s, sys: 6.14 s, total: 15.7 s\n",
      "Wall time: 15.2 s\n"
     ]
    }
   ],
   "source": [
    "%%time \n",
    "conmle, _, _, _ = hapCon_chrom_BFGS(iid=\"SUA001\", mpileup=outpath,\n",
    "    h5_path1000g = path2ref1240k, meta_path_ref = path2meta)\n",
    "assert(conmle > 0.1 and conmle < 0.105)"
   ]
  },
  {
   "cell_type": "code",
   "execution_count": 8,
   "metadata": {},
   "outputs": [
    {
     "name": "stdout",
     "output_type": "stream",
     "text": [
      "exclude 1033 sites outside the specified region\n",
      "exclude 0 non-SNP sites\n",
      "number of major reads at flanking sites: 10636\n",
      "number of minor reads at flanking sites: 16\n",
      "number of major reads at focal sites: 1291\n",
      "number of minor reads at focal sites: 27\n",
      "err rate at flanking sites: 0.001502\n",
      "err rate at focal sites: 0.020486\n",
      "saving sample as SUA001 in /project2/jnovembre/hringbauer/HAPSBURG/Notebooks/Vignettes/Data/SUA001.hdf5\n",
      "estimated genotyping error by flanking sites: 0.001502\n",
      "number of sites covered by at least one read: 3999, fraction covered: 0.085\n",
      "hdf5 file saved to /project2/jnovembre/hringbauer/HAPSBURG/Notebooks/Vignettes/Data/SUA001.hdf5\n",
      "finished reading mpileup file, takes 1.809.\n",
      "number of sites covered by at least one read: 3999\n",
      "hdf5 file saved to /project2/jnovembre/hringbauer/HAPSBURG/Notebooks/Vignettes/Data/SUA001.hdf5\n",
      "estimated contamination rate: 0.102113(0.076802 - 0.127424)\n",
      "CPU times: user 676 ms, sys: 125 ms, total: 801 ms\n",
      "Wall time: 28.6 s\n"
     ]
    }
   ],
   "source": [
    "%%time\n",
    "!hapConX -m $outpath -r $path2ref1240k --meta $path2meta"
   ]
  },
  {
   "cell_type": "markdown",
   "metadata": {},
   "source": [
    "### Test Running directly from bam file"
   ]
  },
  {
   "cell_type": "code",
   "execution_count": 9,
   "metadata": {},
   "outputs": [
    {
     "name": "stdout",
     "output_type": "stream",
     "text": [
      "exclude 1033 sites outside the specified region\n",
      "exclude 0 non-SNP sites\n",
      "total number of mapped reads: 14755\n",
      "number of major reads at flanking sites: 10521\n",
      "number of minor reads at flanking sites: 15\n",
      "number of major reads at focal sites: 1291\n",
      "number of minor reads at focal sites: 27\n",
      "err rate at flanking sites: 0.001424\n",
      "err rate at focal sites: 0.020486\n",
      "saving sample as SUA001 in /project2/jnovembre/hringbauer/HAPSBURG/Notebooks/Vignettes/Data/SUA001.hdf5\n",
      "estimated genotyping error by flanking sites: 0.001424\n",
      "number of sites covered by at least one read: 3999, fraction covered: 0.085\n",
      "hdf5 file saved to /project2/jnovembre/hringbauer/HAPSBURG/Notebooks/Vignettes/Data/SUA001.hdf5\n",
      "finished reading bam file, takes 89.488.\n",
      "number of sites covered by at least one read: 3999\n",
      "hdf5 file saved to /project2/jnovembre/hringbauer/HAPSBURG/Notebooks/Vignettes/Data/SUA001.hdf5\n",
      "estimated contamination rate: 0.102190(0.076878 - 0.127501)\n",
      "CPU times: user 1min 23s, sys: 12.7 s, total: 1min 36s\n",
      "Wall time: 1min 36s\n"
     ]
    }
   ],
   "source": [
    "%%time\n",
    "# test running directly from bam file\n",
    "conmle, _, _, _ = hapCon_chrom_BFGS(iid=\"SUA001\", bam=path2bam,\n",
    "                                    h5_path1000g = path2ref1240k, meta_path_ref = path2meta)\n",
    "assert(conmle > 0.1 and conmle < 0.105)"
   ]
  },
  {
   "cell_type": "markdown",
   "metadata": {},
   "source": [
    "# 2) Test 1000G panel with XiongNu DA43 sample"
   ]
  },
  {
   "cell_type": "code",
   "execution_count": 10,
   "metadata": {},
   "outputs": [
    {
     "name": "stdout",
     "output_type": "stream",
     "text": [
      "[mpileup] 1 samples in 1 input files\n",
      "CPU times: user 44.5 ms, sys: 38.5 ms, total: 83 ms\n",
      "Wall time: 2.24 s\n"
     ]
    }
   ],
   "source": [
    "%%time\n",
    "path2bam=\"./Notebooks/Vignettes/Data/DA43.bam\"\n",
    "path2bed1kg=\"./Notebooks/Vignettes/Data/chrX_1000G.bed\"\n",
    "!module load samtools; samtools index $path2bam\n",
    "!module load samtools; samtools mpileup --positions $path2bed1kg -r X -q 30 -Q 30 -o ./Data/DA43.mpileup $path2bam"
   ]
  },
  {
   "cell_type": "code",
   "execution_count": 11,
   "metadata": {},
   "outputs": [
    {
     "name": "stdout",
     "output_type": "stream",
     "text": [
      "exclude 1033 sites outside the specified region\n",
      "exclude 0 non-SNP sites\n",
      "total number of mapped reads: 281907\n",
      "number of major reads at flanking sites: 4776\n",
      "number of minor reads at flanking sites: 41\n",
      "number of major reads at focal sites: 569\n",
      "number of minor reads at focal sites: 16\n",
      "err rate at flanking sites: 0.008512\n",
      "err rate at focal sites: 0.027350\n",
      "saving sample as DA43 in /project2/jnovembre/hringbauer/HAPSBURG/Notebooks/Vignettes/Data/DA43.hdf5\n",
      "estimated genotyping error by flanking sites: 0.008512\n",
      "number of sites covered by at least one read: 5074, fraction covered: 0.108\n",
      "hdf5 file saved to /project2/jnovembre/hringbauer/HAPSBURG/Notebooks/Vignettes/Data/DA43.hdf5\n",
      "finished reading bam file, takes 77.717.\n",
      "number of sites covered by at least one read: 5074\n",
      "hdf5 file saved to /project2/jnovembre/hringbauer/HAPSBURG/Notebooks/Vignettes/Data/DA43.hdf5\n",
      "estimated contamination rate: 0.021650(0.008590 - 0.034710)\n",
      "CPU times: user 1min 13s, sys: 10.3 s, total: 1min 24s\n",
      "Wall time: 1min 24s\n"
     ]
    }
   ],
   "source": [
    "%%time\n",
    "\n",
    "conmle, _, _, _ = hapCon_chrom_BFGS(iid=\"DA43\", bam=path2bam,\n",
    "                                    h5_path1000g = path2ref1240k, meta_path_ref = path2meta)\n",
    "assert(conmle > 0.02 and conmle < 0.025)"
   ]
  },
  {
   "cell_type": "markdown",
   "metadata": {},
   "source": [
    "# Test hapCon ROH\n",
    "Assumes Data is downloaded and put into HAPSBURG/Data/hapCon_ROH/ folder\n",
    "(Source data: https://share.eva.mpg.de/index.php/s/Nsrd3kBCe8XSgcg)\n",
    "\n",
    "This is available on Chicago as well as O2 (Harvard) Cluster"
   ]
  },
  {
   "cell_type": "code",
   "execution_count": 3,
   "metadata": {},
   "outputs": [],
   "source": [
    "### Download Data if needed(ca. 5gb)\n",
    "# Commented out as it only runs from the shell\n",
    "# !wget https://share.eva.mpg.de/index.php/s/Nsrd3kBCe8XSgcg/download/hapCon_ROH.zip"
   ]
  },
  {
   "cell_type": "code",
   "execution_count": 4,
   "metadata": {},
   "outputs": [
    {
     "name": "stdout",
     "output_type": "stream",
     "text": [
      "usage: hapCon_ROH [-h] [--mpileup MPATH] [--bamTable BAMTABLE] -i IID -r R\n",
      "                  --meta META [-p PROCESSES] [--niter NITER] [--tol TOL]\n",
      "                  [--prefix PREFIX]\n",
      "\n",
      "Run hapCon_ROH from either mpileup or BamTable output\n",
      "\n",
      "optional arguments:\n",
      "  -h, --help           show this help message and exit\n",
      "  --mpileup MPATH      Basepath to a list of mpileup file\n",
      "  --bamTable BAMTABLE  Basepath to a list of BamTable file\n",
      "  -i IID               IID of the target individual. Note that the filename of\n",
      "                       mpileup output or BamTable should follow\n",
      "                       $iid.chr$ch.mpileup or $iid.chr$ch.BamTable\n",
      "  -r R                 path to reference panel hdf5 file.\n",
      "  --meta META          path to the metadata for the reference panel.\n",
      "  -p PROCESSES         Number of processes to use.\n",
      "  --niter NITER        Maximum number of iterations.\n",
      "  --tol TOL            Stopping criterion. If the estimated contamination\n",
      "                       rates between two consecutive iterations differ less\n",
      "                       than this value, stop iteration.\n",
      "  --prefix PREFIX      prefix of the output. The output will be named as\n",
      "                       $iid.$prefix.hapCon_ROH.txt\n"
     ]
    }
   ],
   "source": [
    "### Check whether hapCon actually works\n",
    "!hapCon_ROH -h\n"
   ]
  },
  {
   "cell_type": "code",
   "execution_count": 5,
   "metadata": {},
   "outputs": [],
   "source": [
    "def prep_hapcon_roh(testbam = \"./Data/hapCon_ROH/ROH_contam.test.bam\"):\n",
    "    !module load samtools; samtools index $testbam\n",
    "    !mkdir ./Data/mpileup\n",
    "    !module load samtools; for ch in {1..22}; do samtools mpileup --positions ./Data/hapCon_ROH/reference_1240k/1240kChr$ch.bed -r $ch -q 30 -Q 30 -o ./Data/mpileup/test.chr$ch.mpileup ./Data/hapCon_ROH/ROH_contam.test.bam; done\n",
    "\n",
    "def run_hapcon_roh(metapath = \"./Data/hapCon_ROH/meta_df_all.csv\",\n",
    "                   ref_files = \"./Data/hapCon_ROH/reference_1240k/chr\",\n",
    "                   pileups = \"./Data/mpileup\"):\n",
    "    !hapCon_ROH --mpileup $pileups -i test -p 4 --prefix iter_ROH -r $ref_files --meta $metapath\n",
    "    \n",
    "    \n",
    "def check_hapcon_roh():\n",
    "    \"\"\"Runs hapcon ROH on example Data\"\"\"\n",
    "    # Step 1: Prepare Data\n",
    "    prep_hapcon_roh()\n",
    "    \n",
    "    # Step 2 Run the method\n",
    "    run_hapcon_roh()\n",
    "    \n",
    "    ### Check output"
   ]
  },
  {
   "cell_type": "code",
   "execution_count": 10,
   "metadata": {},
   "outputs": [
    {
     "name": "stdout",
     "output_type": "stream",
     "text": [
      "[mpileup] 1 samples in 1 input files\n",
      "[mpileup] 1 samples in 1 input files\n",
      "[mpileup] 1 samples in 1 input files\n",
      "[mpileup] 1 samples in 1 input files\n",
      "[mpileup] 1 samples in 1 input files\n",
      "[mpileup] 1 samples in 1 input files\n",
      "[mpileup] 1 samples in 1 input files\n",
      "[mpileup] 1 samples in 1 input files\n",
      "[mpileup] 1 samples in 1 input files\n",
      "[mpileup] 1 samples in 1 input files\n",
      "[mpileup] 1 samples in 1 input files\n",
      "[mpileup] 1 samples in 1 input files\n",
      "[mpileup] 1 samples in 1 input files\n",
      "[mpileup] 1 samples in 1 input files\n",
      "[mpileup] 1 samples in 1 input files\n",
      "[mpileup] 1 samples in 1 input files\n",
      "[mpileup] 1 samples in 1 input files\n",
      "[mpileup] 1 samples in 1 input files\n",
      "[mpileup] 1 samples in 1 input files\n",
      "[mpileup] 1 samples in 1 input files\n",
      "[mpileup] 1 samples in 1 input files\n",
      "[mpileup] 1 samples in 1 input files\n",
      "CPU times: user 890 ms, sys: 259 ms, total: 1.15 s\n",
      "Wall time: 41.8 s\n"
     ]
    }
   ],
   "source": [
    "%%time\n",
    "prep_hapcon_roh() # Takes about 40s"
   ]
  },
  {
   "cell_type": "code",
   "execution_count": 6,
   "metadata": {},
   "outputs": [
    {
     "name": "stdout",
     "output_type": "stream",
     "text": [
      "saving hdf5 files in /n/groups/reich/hringbauer/git/HAPSBURG/Data/hdf5\n",
      "exclude 0 sites outside the specified region\n",
      "exclude 0 non-SNP sites\n",
      "exclude 0 sites outside the specified region\n",
      "exclude 0 non-SNP sites\n",
      "exclude 0 sites outside the specified region\n",
      "exclude 0 non-SNP sites\n",
      "exclude 0 sites outside the specified region\n",
      "exclude 0 non-SNP sites\n",
      "saving sample as test in /n/groups/reich/hringbauer/git/HAPSBURG/Data/hdf5/test.chr7.hdf5\n",
      "exclude 0 sites outside the specified region\n",
      "exclude 0 non-SNP sites\n",
      "saving sample as test in /n/groups/reich/hringbauer/git/HAPSBURG/Data/hdf5/test.chr5.hdf5\n",
      "exclude 0 sites outside the specified region\n",
      "exclude 0 non-SNP sites\n",
      "saving sample as test in /n/groups/reich/hringbauer/git/HAPSBURG/Data/hdf5/test.chr3.hdf5\n",
      "exclude 0 sites outside the specified region\n",
      "exclude 0 non-SNP sites\n",
      "saving sample as test in /n/groups/reich/hringbauer/git/HAPSBURG/Data/hdf5/test.chr6.hdf5\n",
      "exclude 0 sites outside the specified region\n",
      "exclude 0 non-SNP sites\n",
      "saving sample as test in /n/groups/reich/hringbauer/git/HAPSBURG/Data/hdf5/test.chr1.hdf5\n",
      "saving sample as test in /n/groups/reich/hringbauer/git/HAPSBURG/Data/hdf5/test.chr8.hdf5\n",
      "exclude 0 sites outside the specified region\n",
      "exclude 0 non-SNP sites\n",
      "exclude 0 sites outside the specified region\n",
      "exclude 0 non-SNP sites\n",
      "saving sample as test in /n/groups/reich/hringbauer/git/HAPSBURG/Data/hdf5/test.chr4.hdf5\n",
      "exclude 0 sites outside the specified region\n",
      "exclude 0 non-SNP sites\n",
      "saving sample as test in /n/groups/reich/hringbauer/git/HAPSBURG/Data/hdf5/test.chr13.hdf5\n",
      "saving sample as test in /n/groups/reich/hringbauer/git/HAPSBURG/Data/hdf5/test.chr9.hdf5\n",
      "exclude 0 sites outside the specified region\n",
      "exclude 0 non-SNP sites\n",
      "exclude 0 sites outside the specified region\n",
      "exclude 0 non-SNP sites\n",
      "saving sample as test in /n/groups/reich/hringbauer/git/HAPSBURG/Data/hdf5/test.chr11.hdf5\n",
      "exclude 0 sites outside the specified region\n",
      "exclude 0 non-SNP sites\n",
      "saving sample as test in /n/groups/reich/hringbauer/git/HAPSBURG/Data/hdf5/test.chr14.hdf5\n",
      "exclude 0 sites outside the specified region\n",
      "exclude 0 non-SNP sites\n",
      "saving sample as test in /n/groups/reich/hringbauer/git/HAPSBURG/Data/hdf5/test.chr2.hdf5\n",
      "exclude 0 sites outside the specified region\n",
      "exclude 0 non-SNP sites\n",
      "saving sample as test in /n/groups/reich/hringbauer/git/HAPSBURG/Data/hdf5/test.chr15.hdf5\n",
      "exclude 0 sites outside the specified region\n",
      "exclude 0 non-SNP sites\n",
      "saving sample as test in /n/groups/reich/hringbauer/git/HAPSBURG/Data/hdf5/test.chr17.hdf5\n",
      "saving sample as test in /n/groups/reich/hringbauer/git/HAPSBURG/Data/hdf5/test.chr10.hdf5\n",
      "exclude 0 sites outside the specified region\n",
      "exclude 0 non-SNP sites\n",
      "exclude 0 sites outside the specified region\n",
      "exclude 0 non-SNP sites\n",
      "saving sample as test in /n/groups/reich/hringbauer/git/HAPSBURG/Data/hdf5/test.chr12.hdf5\n",
      "exclude 0 sites outside the specified region\n",
      "exclude 0 non-SNP sites\n",
      "saving sample as test in /n/groups/reich/hringbauer/git/HAPSBURG/Data/hdf5/test.chr21.hdf5\n",
      "exclude 0 sites outside the specified region\n",
      "exclude 0 non-SNP sites\n",
      "saving sample as test in /n/groups/reich/hringbauer/git/HAPSBURG/Data/hdf5/test.chr19.hdf5\n",
      "exclude 0 sites outside the specified region\n",
      "exclude 0 non-SNP sites\n",
      "saving sample as test in /n/groups/reich/hringbauer/git/HAPSBURG/Data/hdf5/test.chr18.hdf5\n",
      "saving sample as test in /n/groups/reich/hringbauer/git/HAPSBURG/Data/hdf5/test.chr22.hdf5\n",
      "saving sample as test in /n/groups/reich/hringbauer/git/HAPSBURG/Data/hdf5/test.chr16.hdf5\n",
      "saving sample as test in /n/groups/reich/hringbauer/git/HAPSBURG/Data/hdf5/test.chr20.hdf5\n",
      "finished reading input files, takes 49.187s\n",
      "estimated genotyping error: 0.00212473699762951\n",
      "fraction of sites covered by at least one read: 0.23277030218043637\n",
      "Doing Individual test...\n",
      "Set Output Log path: /n/groups/reich/hringbauer/git/HAPSBURG/Data/hapRoh_iter/test/chr1/hmm_run_log.txt\n",
      "Set Output Log path: /n/groups/reich/hringbauer/git/HAPSBURG/Data/hapRoh_iter/test/chr3/hmm_run_log.txt\n",
      "Set Output Log path: /n/groups/reich/hringbauer/git/HAPSBURG/Data/hapRoh_iter/test/chr5/hmm_run_log.txt\n",
      "Set Output Log path: /n/groups/reich/hringbauer/git/HAPSBURG/Data/hapRoh_iter/test/chr7/hmm_run_log.txt\n",
      "Combining Information for 22 Chromosomes...\n",
      "number of blocks found with null-model: 1 with total length 8.413cM\n",
      "Doing Individual test...\n",
      "Set Output Log path: /n/groups/reich/hringbauer/git/HAPSBURG/Data/hapRoh_iter/test/chr1/hmm_run_log.txt\n",
      "Set Output Log path: /n/groups/reich/hringbauer/git/HAPSBURG/Data/hapRoh_iter/test/chr3/hmm_run_log.txt\n",
      "Set Output Log path: /n/groups/reich/hringbauer/git/HAPSBURG/Data/hapRoh_iter/test/chr5/hmm_run_log.txt\n",
      "Set Output Log path: /n/groups/reich/hringbauer/git/HAPSBURG/Data/hapRoh_iter/test/chr7/hmm_run_log.txt\n",
      "Combining Information for 22 Chromosomes...\n",
      "chr1\t0.473231\t0.560521\n",
      "chr1\t0.566908\t0.634141\n",
      "chr6\t1.025714\t1.12797\n",
      "chr6\t1.141434\t1.198869\n",
      "chr6\t1.540625\t1.60132\n",
      "a total of 5 ROH blocks passing filtering threshold found, total length after trimming: 32.491cM.\n",
      "5 hmm models loaded, takes 119.939s\n",
      "hapsb_multiChunk_preload takes 3.227051258087158\n",
      "hapsb_multiChunk_preload takes 2.396474838256836\n",
      "hapsb_multiChunk_preload takes 2.8348453044891357\n",
      "hapsb_multiChunk_preload takes 2.689079999923706\n",
      "hapsb_multiChunk_preload takes 2.6032469272613525\n",
      "hapsb_multiChunk_preload takes 2.6647746562957764\n",
      "hapsb_multiChunk_preload takes 2.7495346069335938\n",
      "hapsb_multiChunk_preload takes 2.574427604675293\n",
      "hapsb_multiChunk_preload takes 2.4936091899871826\n",
      "hapsb_multiChunk_preload takes 2.6148436069488525\n",
      "hapsb_multiChunk_preload takes 2.597963571548462\n",
      "hapsb_multiChunk_preload takes 2.4929018020629883\n",
      "hapsb_multiChunk_preload takes 2.8259053230285645\n",
      "hapsb_multiChunk_preload takes 2.694641590118408\n",
      "hapsb_multiChunk_preload takes 2.5296335220336914\n",
      "hapsb_multiChunk_preload takes 2.8281362056732178\n",
      "hapsb_multiChunk_preload takes 2.9161124229431152\n",
      "hapsb_multiChunk_preload takes 2.6811575889587402\n",
      "hapsb_multiChunk_preload takes 2.8845980167388916\n",
      "hapsb_multiChunk_preload takes 2.6029207706451416\n",
      "hapsb_multiChunk_preload takes 2.6359763145446777\n",
      "hapsb_multiChunk_preload takes 2.5727524757385254\n",
      "hapsb_multiChunk_preload takes 2.534550666809082\n",
      "estimated contamination rate 0.06898 greater than 0.05, start iteration.\n",
      "Doing Individual test...\n",
      "Set Output Log path: /n/groups/reich/hringbauer/git/HAPSBURG/Data/hapRoh_iter/test/chr1/hmm_run_log.txt\n",
      "Set Output Log path: /n/groups/reich/hringbauer/git/HAPSBURG/Data/hapRoh_iter/test/chr3/hmm_run_log.txt\n",
      "Set Output Log path: /n/groups/reich/hringbauer/git/HAPSBURG/Data/hapRoh_iter/test/chr5/hmm_run_log.txt\n",
      "Set Output Log path: /n/groups/reich/hringbauer/git/HAPSBURG/Data/hapRoh_iter/test/chr7/hmm_run_log.txt\n",
      "Combining Information for 22 Chromosomes...\n",
      "chr1\t0.473231\t0.634161\n",
      "chr6\t1.025443\t1.12797\n",
      "chr6\t1.139976\t1.199261\n",
      "chr6\t1.539983\t1.601544\n",
      "chr9\t0.960394\t1.042119\n",
      "chr16\t0.366929\t0.420858\n",
      "a total of 6 ROH blocks passing filtering threshold found, total length after trimming: 45.996cM.\n",
      "6 hmm models loaded, takes 93.561s\n",
      "hapsb_multiChunk_preload takes 3.605210065841675\n",
      "hapsb_multiChunk_preload takes 3.153759241104126\n",
      "hapsb_multiChunk_preload takes 2.918909788131714\n",
      "hapsb_multiChunk_preload takes 2.943329095840454\n",
      "hapsb_multiChunk_preload takes 3.0731029510498047\n",
      "hapsb_multiChunk_preload takes 2.9147393703460693\n",
      "hapsb_multiChunk_preload takes 2.9339816570281982\n",
      "hapsb_multiChunk_preload takes 3.0284526348114014\n",
      "hapsb_multiChunk_preload takes 2.938453435897827\n",
      "hapsb_multiChunk_preload takes 2.9455113410949707\n",
      "hapsb_multiChunk_preload takes 2.8976526260375977\n",
      "hapsb_multiChunk_preload takes 3.005091905593872\n",
      "hapsb_multiChunk_preload takes 3.050321340560913\n",
      "hapsb_multiChunk_preload takes 3.2099435329437256\n",
      "hapsb_multiChunk_preload takes 2.920557737350464\n",
      "hapsb_multiChunk_preload takes 3.041074514389038\n",
      "hapsb_multiChunk_preload takes 2.8883113861083984\n",
      "hapsb_multiChunk_preload takes 2.896339178085327\n",
      "hapsb_multiChunk_preload takes 3.0399694442749023\n",
      "hapsb_multiChunk_preload takes 2.877821207046509\n",
      "hapsb_multiChunk_preload takes 3.622668743133545\n",
      "hapsb_multiChunk_preload takes 2.868891716003418\n",
      "hapsb_multiChunk_preload takes 3.116132974624634\n",
      "iteration 2 done, prev contam: 0.06898, current contam: 0.084306\n",
      "Doing Individual test...\n",
      "Set Output Log path: /n/groups/reich/hringbauer/git/HAPSBURG/Data/hapRoh_iter/test/chr1/hmm_run_log.txt\n",
      "Set Output Log path: /n/groups/reich/hringbauer/git/HAPSBURG/Data/hapRoh_iter/test/chr3/hmm_run_log.txt\n",
      "Set Output Log path: /n/groups/reich/hringbauer/git/HAPSBURG/Data/hapRoh_iter/test/chr5/hmm_run_log.txt\n",
      "Set Output Log path: /n/groups/reich/hringbauer/git/HAPSBURG/Data/hapRoh_iter/test/chr7/hmm_run_log.txt\n",
      "Combining Information for 22 Chromosomes...\n",
      "chr1\t0.473231\t0.634161\n",
      "chr6\t1.025443\t1.12797\n",
      "chr6\t1.134323\t1.199303\n",
      "chr6\t1.53991\t1.601775\n",
      "chr9\t0.960394\t1.04961\n",
      "chr12\t0.25418\t0.304997\n",
      "chr16\t0.365624\t0.421563\n",
      "a total of 7 ROH blocks passing filtering threshold found, total length after trimming: 51.627cM.\n",
      "7 hmm models loaded, takes 108.336s\n",
      "hapsb_multiChunk_preload takes 3.923661947250366\n",
      "hapsb_multiChunk_preload takes 3.0659005641937256\n",
      "hapsb_multiChunk_preload takes 3.186370849609375\n",
      "hapsb_multiChunk_preload takes 3.0695505142211914\n",
      "hapsb_multiChunk_preload takes 3.184004068374634\n",
      "hapsb_multiChunk_preload takes 3.2783734798431396\n",
      "hapsb_multiChunk_preload takes 2.9528841972351074\n",
      "hapsb_multiChunk_preload takes 3.452730417251587\n",
      "hapsb_multiChunk_preload takes 3.368229389190674\n",
      "hapsb_multiChunk_preload takes 3.1335434913635254\n",
      "hapsb_multiChunk_preload takes 3.1602089405059814\n",
      "hapsb_multiChunk_preload takes 3.2315030097961426\n",
      "hapsb_multiChunk_preload takes 3.2453837394714355\n",
      "hapsb_multiChunk_preload takes 3.3152735233306885\n",
      "hapsb_multiChunk_preload takes 3.056025266647339\n",
      "hapsb_multiChunk_preload takes 3.3490569591522217\n",
      "hapsb_multiChunk_preload takes 3.1841278076171875\n",
      "hapsb_multiChunk_preload takes 2.8796122074127197\n",
      "hapsb_multiChunk_preload takes 3.109133243560791\n",
      "hapsb_multiChunk_preload takes 3.8384687900543213\n",
      "hapsb_multiChunk_preload takes 3.162539005279541\n",
      "iteration 3 done, prev contam: 0.084306, current contam: 0.099623\n",
      "Doing Individual test...\n",
      "Set Output Log path: /n/groups/reich/hringbauer/git/HAPSBURG/Data/hapRoh_iter/test/chr1/hmm_run_log.txt\n",
      "Set Output Log path: /n/groups/reich/hringbauer/git/HAPSBURG/Data/hapRoh_iter/test/chr3/hmm_run_log.txt\n",
      "Set Output Log path: /n/groups/reich/hringbauer/git/HAPSBURG/Data/hapRoh_iter/test/chr5/hmm_run_log.txt\n",
      "Set Output Log path: /n/groups/reich/hringbauer/git/HAPSBURG/Data/hapRoh_iter/test/chr7/hmm_run_log.txt\n",
      "Combining Information for 22 Chromosomes...\n",
      "chr1\t0.473231\t0.634183\n",
      "chr4\t1.760827\t1.814818\n",
      "chr6\t1.025443\t1.128872\n",
      "chr6\t1.134323\t1.199303\n",
      "chr6\t1.539716\t1.601775\n",
      "chr9\t0.960394\t1.049704\n",
      "chr12\t0.25418\t0.308609\n",
      "chr16\t0.365547\t0.421693\n",
      "a total of 8 ROH blocks passing filtering threshold found, total length after trimming: 56.530cM.\n",
      "8 hmm models loaded, takes 121.713s\n",
      "hapsb_multiChunk_preload takes 4.103224515914917\n",
      "hapsb_multiChunk_preload takes 3.178006172180176\n",
      "hapsb_multiChunk_preload takes 3.1184914112091064\n",
      "hapsb_multiChunk_preload takes 3.306687831878662\n",
      "hapsb_multiChunk_preload takes 3.340646505355835\n",
      "hapsb_multiChunk_preload takes 3.0860018730163574\n",
      "hapsb_multiChunk_preload takes 3.1436078548431396\n",
      "hapsb_multiChunk_preload takes 2.9286415576934814\n",
      "hapsb_multiChunk_preload takes 3.035754442214966\n",
      "hapsb_multiChunk_preload takes 3.3558831214904785\n",
      "hapsb_multiChunk_preload takes 3.2551188468933105\n",
      "hapsb_multiChunk_preload takes 3.0014281272888184\n",
      "hapsb_multiChunk_preload takes 3.011507511138916\n",
      "hapsb_multiChunk_preload takes 3.334376096725464\n",
      "hapsb_multiChunk_preload takes 3.2216265201568604\n",
      "hapsb_multiChunk_preload takes 3.171229600906372\n",
      "hapsb_multiChunk_preload takes 3.0504844188690186\n",
      "hapsb_multiChunk_preload takes 3.0240533351898193\n",
      "hapsb_multiChunk_preload takes 3.2002217769622803\n",
      "hapsb_multiChunk_preload takes 4.119431734085083\n",
      "hapsb_multiChunk_preload takes 3.445873260498047\n",
      "iteration 4 done, prev contam: 0.099623, current contam: 0.100474\n",
      "contamination rate converged after 4 iterations.\n",
      "Doing Individual test...\n",
      "Set Output Log path: /n/groups/reich/hringbauer/git/HAPSBURG/Data/hapRoh_iter/test/chr1/hmm_run_log.txt\n",
      "Set Output Log path: /n/groups/reich/hringbauer/git/HAPSBURG/Data/hapRoh_iter/test/chr3/hmm_run_log.txt\n",
      "Set Output Log path: /n/groups/reich/hringbauer/git/HAPSBURG/Data/hapRoh_iter/test/chr5/hmm_run_log.txt\n",
      "Set Output Log path: /n/groups/reich/hringbauer/git/HAPSBURG/Data/hapRoh_iter/test/chr7/hmm_run_log.txt\n",
      "Combining Information for 22 Chromosomes...\n",
      "CPU times: user 29.6 s, sys: 6.58 s, total: 36.2 s\n",
      "Wall time: 21min 8s\n"
     ]
    }
   ],
   "source": [
    "%%time\n",
    "run_hapcon_roh()"
   ]
  }
 ],
 "metadata": {
  "interpreter": {
   "hash": "31f2aee4e71d21fbe5cf8b01ff0e069b9275f58929596ceb00d14d90e3e16cd6"
  },
  "kernelspec": {
   "display_name": "Python 3",
   "language": "python",
   "name": "python3"
  },
  "language_info": {
   "codemirror_mode": {
    "name": "ipython",
    "version": 3
   },
   "file_extension": ".py",
   "mimetype": "text/x-python",
   "name": "python",
   "nbconvert_exporter": "python",
   "pygments_lexer": "ipython3",
   "version": "3.7.4"
  }
 },
 "nbformat": 4,
 "nbformat_minor": 4
}
