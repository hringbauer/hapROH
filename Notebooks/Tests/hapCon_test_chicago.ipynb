{
 "cells": [
  {
   "cell_type": "markdown",
   "metadata": {},
   "source": [
    "# Unit tests for hapCON\n",
    "WIth Paths for UoC Server"
   ]
  },
  {
   "cell_type": "code",
   "execution_count": 1,
   "metadata": {},
   "outputs": [
    {
     "name": "stdout",
     "output_type": "stream",
     "text": [
      "midway2-0401.rcc.local\n",
      "Midway jnovmbre partition detected.\n",
      "/project2/jnovembre/hringbauer/HAPSBURG\n",
      "CPU Count: 28\n"
     ]
    }
   ],
   "source": [
    "### Some Code to set right paths (checks whether on Chicago cluster)\n",
    "import numpy as np\n",
    "import pandas as pd\n",
    "import matplotlib.pyplot as plt\n",
    "import os as os\n",
    "import sys as sys\n",
    "import multiprocessing as mp\n",
    "import sys\n",
    "import socket as socket\n",
    "\n",
    "socket_name = socket.gethostname()\n",
    "print(socket_name)\n",
    "if socket_name == \"VioletQueen\":\n",
    "     path = \"/home/harald/git/HAPSBURG/\"   # The Path on Harald's machine\n",
    "elif socket_name.startswith(\"midway2\"):\n",
    "     print(\"Midway jnovmbre partition detected.\")\n",
    "     path = \"/project2/jnovembre/hringbauer/HAPSBURG/\"  # The Path on Midway Cluster\n",
    "else: \n",
    "     raise RuntimeWarning(\"Not compatible machine. Check!!\")\n",
    "    \n",
    "os.chdir(path)  # Set the right Path (in line with Atom default)\n",
    "\n",
    "print(os.getcwd()) # Show the current working directory. Should be HAPSBURG/Notebooks/ParallelRuns\n",
    "print(f\"CPU Count: {mp.cpu_count()}\")\n",
    "\n",
    "### If wanting to use local version and not  pip installed version\n",
    "### Comment out to test installed version. Comment in to test development version:\n",
    "### \n",
    "\n",
    "\n",
    "# Comment in if testing Developer Package\n",
    "#sys.path.insert(0,\"./package/\")  # hack to get local UoC Development package first in path\n",
    "#sys.path.insert(0, \"/mnt/archgen/users/yilei/tools/hapROH/package\")  # Yilei's Development Version at MPI EVA\n",
    "\n",
    "from hapsburg.PackagesSupport.hapsburg_run import hapsb_ind  # To test import"
   ]
  },
  {
   "cell_type": "markdown",
   "metadata": {},
   "source": [
    "# Test for 1240k panel on a Sardinian"
   ]
  },
  {
   "cell_type": "code",
   "execution_count": 2,
   "metadata": {},
   "outputs": [
    {
     "name": "stdout",
     "output_type": "stream",
     "text": [
      "[mpileup] 1 samples in 1 input files\n"
     ]
    }
   ],
   "source": [
    "# data preparation.\n",
    "path2bam=\"./Notebooks/Vignettes/Data/SUA001.bam\"\n",
    "path2bed1240k=\"./Notebooks/Vignettes/Data/chrX_1240k.bed\"\n",
    "outpath=\"./Notebooks/Vignettes/Data/SUA001.mpileup\"\n",
    "\n",
    "!module load samtools; samtools index $path2bam\n",
    "!module load samtools; samtools mpileup --positions $path2bed1240k -r X -q 30 -Q 30 -o $outpath $path2bam"
   ]
  },
  {
   "cell_type": "code",
   "execution_count": 3,
   "metadata": {},
   "outputs": [],
   "source": [
    "from hapsburg.PackagesSupport.hapsburg_run import hapCon_chrom_BFGS\n",
    "\n",
    "path2ref1240k=\"./Notebooks/Vignettes/Data/chrX_1240k.hdf5\"\n",
    "path2meta=\"./Notebooks/Vignettes/Data/meta_df_all.csv\""
   ]
  },
  {
   "cell_type": "code",
   "execution_count": 4,
   "metadata": {},
   "outputs": [
    {
     "name": "stdout",
     "output_type": "stream",
     "text": [
      "exclude 1033 sites outside the specified region\n",
      "exclude 0 non-SNP sites\n",
      "number of major reads at flanking sites: 10636\n",
      "number of minor reads at flanking sites: 16\n",
      "number of major reads at focal sites: 1291\n",
      "number of minor reads at focal sites: 27\n",
      "err rate at flanking sites: 0.001502\n",
      "err rate at focal sites: 0.020486\n",
      "saving sample as SUA001 in /project2/jnovembre/hringbauer/HAPSBURG/Notebooks/Vignettes/Data/SUA001.hdf5\n",
      "estimated genotyping error by flanking sites: 0.001502\n",
      "number of sites covered by at least one read: 3999, fraction covered: 0.085\n",
      "hdf5 file saved to /project2/jnovembre/hringbauer/HAPSBURG/Notebooks/Vignettes/Data/SUA001.hdf5\n",
      "finished reading mpileup file, takes 2.024.\n",
      "number of sites covered by at least one read: 3999\n",
      "hdf5 file saved to /project2/jnovembre/hringbauer/HAPSBURG/Notebooks/Vignettes/Data/SUA001.hdf5\n",
      "estimated contamination rate: 0.102113(0.076802 - 0.127424)\n",
      "CPU times: user 10.2 s, sys: 6.33 s, total: 16.6 s\n",
      "Wall time: 19.4 s\n"
     ]
    }
   ],
   "source": [
    "%%time \n",
    "conmle, _, _, _ = hapCon_chrom_BFGS(iid=\"SUA001\", mpileup=outpath,\n",
    "    h5_path1000g = path2ref1240k, meta_path_ref = path2meta)\n",
    "assert(conmle > 0.1 and conmle < 0.105)"
   ]
  },
  {
   "cell_type": "markdown",
   "metadata": {},
   "source": [
    "### Test Running directly from bam file"
   ]
  },
  {
   "cell_type": "code",
   "execution_count": 5,
   "metadata": {},
   "outputs": [
    {
     "name": "stdout",
     "output_type": "stream",
     "text": [
      "exclude 1033 sites outside the specified region\n",
      "exclude 0 non-SNP sites\n",
      "total number of mapped reads: 14755\n",
      "number of major reads at flanking sites: 10521\n",
      "number of minor reads at flanking sites: 15\n",
      "number of major reads at focal sites: 1291\n",
      "number of minor reads at focal sites: 27\n",
      "err rate at flanking sites: 0.001424\n",
      "err rate at focal sites: 0.020486\n",
      "saving sample as SUA001 in /project2/jnovembre/hringbauer/HAPSBURG/Notebooks/Vignettes/Data/SUA001.hdf5\n",
      "estimated genotyping error by flanking sites: 0.001424\n",
      "number of sites covered by at least one read: 3999, fraction covered: 0.085\n",
      "hdf5 file saved to /project2/jnovembre/hringbauer/HAPSBURG/Notebooks/Vignettes/Data/SUA001.hdf5\n",
      "finished reading bam file, takes 63.976.\n",
      "number of sites covered by at least one read: 3999\n",
      "hdf5 file saved to /project2/jnovembre/hringbauer/HAPSBURG/Notebooks/Vignettes/Data/SUA001.hdf5\n",
      "estimated contamination rate: 0.102190(0.076878 - 0.127501)\n",
      "CPU times: user 1min 6s, sys: 9.58 s, total: 1min 16s\n",
      "Wall time: 1min 11s\n"
     ]
    }
   ],
   "source": [
    "%%time\n",
    "# test running directly from bam file\n",
    "conmle, _, _, _ = hapCon_chrom_BFGS(iid=\"SUA001\", bam=path2bam,\n",
    "                                    h5_path1000g = path2ref1240k, meta_path_ref = path2meta)\n",
    "assert(conmle > 0.1 and conmle < 0.105)"
   ]
  },
  {
   "cell_type": "markdown",
   "metadata": {},
   "source": [
    "# 2) Test 1000G panel with XiongNu DA43 sample"
   ]
  },
  {
   "cell_type": "code",
   "execution_count": 6,
   "metadata": {},
   "outputs": [
    {
     "name": "stdout",
     "output_type": "stream",
     "text": [
      "[mpileup] 1 samples in 1 input files\n",
      "CPU times: user 31 ms, sys: 32.1 ms, total: 63.1 ms\n",
      "Wall time: 1.89 s\n"
     ]
    }
   ],
   "source": [
    "%%time\n",
    "path2bam=\"./Notebooks/Vignettes/Data/DA43.bam\"\n",
    "path2bed1kg=\"./Notebooks/Vignettes/Data/chrX_1000G.bed\"\n",
    "!module load samtools; samtools index $path2bam\n",
    "!module load samtools; samtools mpileup --positions $path2bed1kg -r X -q 30 -Q 30 -o ./Data/DA43.mpileup $path2bam"
   ]
  },
  {
   "cell_type": "code",
   "execution_count": 21,
   "metadata": {},
   "outputs": [
    {
     "name": "stdout",
     "output_type": "stream",
     "text": [
      "exclude 1033 sites outside the specified region\n",
      "exclude 0 non-SNP sites\n",
      "total number of mapped reads: 281907\n",
      "number of major reads at flanking sites: 4776\n",
      "number of minor reads at flanking sites: 41\n",
      "number of major reads at focal sites: 569\n",
      "number of minor reads at focal sites: 16\n",
      "err rate at flanking sites: 0.008512\n",
      "err rate at focal sites: 0.027350\n",
      "saving sample as DA43 in /project2/jnovembre/hringbauer/HAPSBURG/Notebooks/Vignettes/Data/DA43.hdf5\n",
      "estimated genotyping error by flanking sites: 0.008512\n",
      "number of sites covered by at least one read: 5074, fraction covered: 0.108\n",
      "hdf5 file saved to /project2/jnovembre/hringbauer/HAPSBURG/Notebooks/Vignettes/Data/DA43.hdf5\n",
      "finished reading bam file, takes 51.532.\n",
      "number of sites covered by at least one read: 5074\n",
      "hdf5 file saved to /project2/jnovembre/hringbauer/HAPSBURG/Notebooks/Vignettes/Data/DA43.hdf5\n",
      "estimated contamination rate: 0.021650(0.008590 - 0.034710)\n",
      "CPU times: user 53.7 s, sys: 7.3 s, total: 1min\n",
      "Wall time: 57.7 s\n"
     ]
    }
   ],
   "source": [
    "%%time\n",
    "\n",
    "conmle, _, _, _ = hapCon_chrom_BFGS(iid=\"DA43\", bam=path2bam,\n",
    "                                    h5_path1000g = path2ref1240k, meta_path_ref = path2meta)\n",
    "assert(conmle > 0.02 and conmle < 0.025)"
   ]
  }
 ],
 "metadata": {
  "interpreter": {
   "hash": "31f2aee4e71d21fbe5cf8b01ff0e069b9275f58929596ceb00d14d90e3e16cd6"
  },
  "kernelspec": {
   "display_name": "Python 3",
   "language": "python",
   "name": "python3"
  },
  "language_info": {
   "codemirror_mode": {
    "name": "ipython",
    "version": 3
   },
   "file_extension": ".py",
   "mimetype": "text/x-python",
   "name": "python",
   "nbconvert_exporter": "python",
   "pygments_lexer": "ipython3",
   "version": "3.7.6"
  }
 },
 "nbformat": 4,
 "nbformat_minor": 4
}
