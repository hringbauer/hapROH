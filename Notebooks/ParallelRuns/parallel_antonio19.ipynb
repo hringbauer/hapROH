{
 "cells": [
  {
   "cell_type": "markdown",
   "metadata": {},
   "source": [
    "# Notebook to call ROH for individuals of HDF5 from Antonio19\n",
    "Notebooks that import the code for the calling ROHs on pseudohaploid genotype individuals, and then a function to parallelize it.\n",
    "\n",
    "Very similar to parallel_mosaic_callroh.ipynb\n",
    "\n",
    "\n",
    "@Author: Harald Ringbauer, November 2019\n",
    "All rights reserved."
   ]
  },
  {
   "cell_type": "code",
   "execution_count": 5,
   "metadata": {},
   "outputs": [
    {
     "name": "stdout",
     "output_type": "stream",
     "text": [
      "midway2-0401.rcc.local\n",
      "Midway jnovmbre partition detected.\n",
      "/project2/jnovembre/hringbauer/HAPSBURG\n",
      "CPU Count: 28\n"
     ]
    }
   ],
   "source": [
    "import numpy as np\n",
    "import os as os\n",
    "import sys as sys\n",
    "import multiprocessing as mp\n",
    "import pandas as pd\n",
    "import socket\n",
    "\n",
    "### Pick the right path (whether on cluster or at home)\n",
    "socket_name = socket.gethostname()\n",
    "print(socket_name)\n",
    "if socket_name == \"VioletQueen\":\n",
    "    path = \"/home/harald/git/HAPSBURG/\"   # The Path on Harald's machine\n",
    "elif socket_name.startswith(\"midway2\"):\n",
    "    print(\"Midway jnovmbre partition detected.\")\n",
    "    path = \"/project2/jnovembre/hringbauer/HAPSBURG/\"  # The Path on Midway Cluster\n",
    "else: \n",
    "    raise RuntimeWarning(\"Not compatible machine. Check!!\")\n",
    "    \n",
    "os.chdir(path)  # Set the right Path (in line with Atom default)\n",
    "print(os.getcwd()) # Show the current working directory. Should be HAPSBURG/Notebooks/ParallelRuns\n",
    "print(f\"CPU Count: {mp.cpu_count()}\")\n",
    "\n",
    "# Assume that now we are in the root directory\n",
    "sys.path.append(\"./package/hapsburg/\")  # Since now we are in the Root Directory\n",
    "#sys.path.append(\"./PackagesSupport/parallel_runs/\")\n",
    "#sys.path.append(\"./PackagesSupport/\")\n",
    "\n",
    "from hmm_inference import HMM_Analyze   # The HMM core object\n",
    "from PackagesSupport.hapsburg_run import hapsb_chrom, hapsb_ind\n",
    "from PackagesSupport.pp_individual_roh_csvs import pp_individual_roh\n",
    "#from PackagesSupport. import prepare_path, multi_run, combine_individual_data"
   ]
  },
  {
   "cell_type": "markdown",
   "metadata": {},
   "source": [
    "# Main Analysis.\n",
    "(In future import these functions)"
   ]
  },
  {
   "cell_type": "markdown",
   "metadata": {},
   "source": [
    "### Call ROH single Individual\n",
    "For reanalysis run with delete=False (saves all data) to plot that indivdual / further analysis of posterior"
   ]
  },
  {
   "cell_type": "code",
   "execution_count": null,
   "metadata": {},
   "outputs": [],
   "source": [
    "hapsb_ind(iid=\"RMPR-11\", chs=range(1,23), processes=1, \n",
    "          h5_path_targets = \"./Data/Antonio/rmpr_unigeno_1240k.hdf5\",\n",
    "          base_out_folder=\"./Empirical/1240k/Antonio/\",\n",
    "          e_model=\"readcount\", p_model=\"MosaicHDF5\", n_ref=2504,\n",
    "          delete=False, logfile=False, combine=True)"
   ]
  },
  {
   "cell_type": "markdown",
   "metadata": {},
   "source": [
    "# Post-Process all Individuals >0.5x Coverage\n",
    "(run individuals via sbatch in Packages Support for Antonio Files\n",
    "\n",
    "Stand Alone (to be safe run imports from above)"
   ]
  },
  {
   "cell_type": "code",
   "execution_count": 7,
   "metadata": {},
   "outputs": [
    {
     "name": "stdout",
     "output_type": "stream",
     "text": [
      "131 Individuals with coverage > 0.5\n"
     ]
    }
   ],
   "source": [
    "meta_path=\"./Data/Antonio/meta_processed.csv\"\n",
    "df_anno = pd.read_csv(meta_path)\n",
    "df_ana = df_anno[df_anno[\"mean_cov\"]>0.5]\n",
    "print(f\"{len(df_ana)} Individuals with coverage > {0.5}\")\n",
    "iids = df_ana[\"iid\"].values"
   ]
  },
  {
   "cell_type": "code",
   "execution_count": 8,
   "metadata": {},
   "outputs": [
    {
     "name": "stdout",
     "output_type": "stream",
     "text": [
      "Loaded 131 / 134 Individuals from Meta\n",
      "Saved to: ./Empirical/1240k/Antonio/combined_roh05.csv\n",
      "CPU times: user 29.9 s, sys: 67 ms, total: 29.9 s\n",
      "Wall time: 33.2 s\n"
     ]
    }
   ],
   "source": [
    "%%time\n",
    "df1 = pp_individual_roh(iids, meta_path=\"./Data/Antonio/meta_processed.csv\", base_folder=\"./Empirical/1240k/Antonio/\",\n",
    "                        save_path=\"./Empirical/1240k/Antonio/combined_roh05.csv\", output=False, \n",
    "                        min_cm=[4,8,12,20], snp_cm=50, gap=0.5, \n",
    "                        min_len1=2, min_len2=4)"
   ]
  },
  {
   "cell_type": "markdown",
   "metadata": {},
   "source": [
    "### Create the .csv with IIDs for a rerun in ./PackagesSupport/cluster_runs\n",
    "Only needed once to create .csv with missign Individuals"
   ]
  },
  {
   "cell_type": "code",
   "execution_count": null,
   "metadata": {},
   "outputs": [],
   "source": [
    "rerun = []\n",
    "\n",
    "for iid in iids:\n",
    "    if not os.path.exists(\"./Empirical/1240k/Antonio/\" + iid + \"_roh_full.csv\"):\n",
    "        rerun.append(iid)\n",
    "        \n",
    "print(len(rerun))\n",
    "df_rerun = pd.DataFrame({\"iid\":rerun})\n",
    "df_rerun.to_csv(\"./PackagesSupport/cluster_runs/Antonio_callROH/rerun.csv\", index=None, sep=\"\\t\")"
   ]
  },
  {
   "cell_type": "markdown",
   "metadata": {},
   "source": [
    "# Area 51"
   ]
  },
  {
   "cell_type": "code",
   "execution_count": 9,
   "metadata": {},
   "outputs": [],
   "source": [
    "df1 = pd.read_csv(\"./Empirical/1240k/Antonio/combined_roh05.csv\", sep=\"\\t\")"
   ]
  },
  {
   "cell_type": "markdown",
   "metadata": {},
   "source": [
    "### Do Olalde Individuals\n",
    "(Later move code over there, with above import box)"
   ]
  },
  {
   "cell_type": "code",
   "execution_count": null,
   "metadata": {},
   "outputs": [],
   "source": []
  }
 ],
 "metadata": {
  "kernelspec": {
   "display_name": "Python 3",
   "language": "python",
   "name": "python3"
  },
  "language_info": {
   "codemirror_mode": {
    "name": "ipython",
    "version": 3
   },
   "file_extension": ".py",
   "mimetype": "text/x-python",
   "name": "python",
   "nbconvert_exporter": "python",
   "pygments_lexer": "ipython3",
   "version": "3.7.0"
  }
 },
 "nbformat": 4,
 "nbformat_minor": 2
}
