{
 "cells": [
  {
   "cell_type": "markdown",
   "metadata": {},
   "source": [
    "# Notebook to call ROH for individuals within a Eigenstrat folder\n",
    "Notebooks that import the code for the calling ROHs on pseudohaploid genotype individuals, and then a function to parallelize it.\n",
    "\n",
    "Very similar to parallel_mosaic_callroh.ipynb\n",
    "\n",
    "\n",
    "@Author: Harald Ringbauer, September 2019\n",
    "All rights reserved."
   ]
  },
  {
   "cell_type": "code",
   "execution_count": 1,
   "metadata": {},
   "outputs": [
    {
     "name": "stdout",
     "output_type": "stream",
     "text": [
      "midway2-0401.rcc.local\n",
      "Midway jnovmbre partition detected.\n",
      "/project2/jnovembre/hringbauer/HAPSBURG\n",
      "CPU Count: 28\n"
     ]
    }
   ],
   "source": [
    "import numpy as np\n",
    "import os as os\n",
    "import sys as sys\n",
    "import multiprocessing as mp\n",
    "import pandas as pd\n",
    "import socket\n",
    "\n",
    "### Pick the right path (whether on cluster or at home)\n",
    "socket_name = socket.gethostname()\n",
    "print(socket_name)\n",
    "if socket_name == \"VioletQueen\":\n",
    "    path = \"/home/harald/git/HAPSBURG/\"   # The Path on Harald's machine\n",
    "elif socket_name.startswith(\"midway2\"):\n",
    "    print(\"Midway jnovmbre partition detected.\")\n",
    "    path = \"/project2/jnovembre/hringbauer/HAPSBURG/\"  # The Path on Midway Cluster\n",
    "else: \n",
    "    raise RuntimeWarning(\"Not compatible machine. Check!!\")\n",
    "    \n",
    "os.chdir(path)  # Set the right Path (in line with Atom default)\n",
    "\n",
    "# Assume that now we are in the root directory\n",
    "sys.path.append(\"./Python3/\")  \n",
    "sys.path.append(\"./PackagesSupport/parallel_runs/\")\n",
    "\n",
    "from hmm_inference import HMM_Analyze   # The HMM core object\n",
    "from helper_functions import prepare_path, multi_run, combine_individual_data\n",
    "\n",
    "print(os.getcwd()) # Show the current working directory. Should be HAPSBURG/Notebooks/ParallelRuns\n",
    "print(f\"CPU Count: {mp.cpu_count()}\")"
   ]
  },
  {
   "cell_type": "code",
   "execution_count": 2,
   "metadata": {},
   "outputs": [],
   "source": [
    "def analyze_chromosome_es(iid, ch=3, n_ref=503, save=True, save_fp=False, exclude_pops=[], \n",
    "                          base_out_folder=\"./Empirical/Eigenstrat/Reichall/test/\", prefix_out=\"\",\n",
    "                          roh_in=100, roh_out=100, roh_jump=300, e_rate=0.01, e_rate_ref=0.001, \n",
    "                          max_gap=0, logfile=True):\n",
    "    \"\"\"Run the analysis for one individual and chromosome on eigenstrat data\n",
    "    Wrapper for HMM Class. Takes 13 Parameters\"\"\"\n",
    "    \n",
    "    ### The folder on what to run the Data on (PERMANENTLY set here to fixed loaction)\n",
    "    ## What Eigenstrat File to run on:\n",
    "    es_target_path=\"./Data/ReichLabEigenstrat/Raw/v37.2.1240K\"\n",
    "    \n",
    "    ## Reference Files:\n",
    "    h5_path1000g = \"./Data/1000Genomes/HDF5/1240kHDF5/all1240/chr\" \n",
    "    meta_path_ref = \"./Data/1000Genomes/Individuals/meta_df_all.csv\"\n",
    "    \n",
    "    ### Create Folder if needed, and pipe output if wanted\n",
    "    path_out = prepare_path(base_out_folder, iid, ch, prefix_out, logfile=logfile)\n",
    "    \n",
    "    hmm = HMM_Analyze(cython=2, p_model=\"Eigenstrat\", e_model=\"haploid\", post_model=\"Standard\",\n",
    "                      manual_load=True, save=save, save_fp=save_fp)\n",
    "\n",
    "    ### Load and prepare the pre-processing Model\n",
    "    hmm.load_preprocessing_model()              # Load the preprocessing Model\n",
    "    hmm.p_obj.set_params(es_target_path=es_target_path, readcounts = False, destroy_phase=False,\n",
    "                base_out_folder=base_out_folder, prefix_out_data=prefix_out, excluded=exclude_pops)   \n",
    "    \n",
    "    ### Set to run with full 1000G reference. DELETE when run for with European Reference!!\n",
    "    hmm.p_obj.set_params(h5_path1000g = h5_path1000g, meta_path_ref = meta_path_ref)\n",
    "    \n",
    "    hmm.load_data(iid=iid, ch=ch, n_ref=n_ref)  # Load the actual Data\n",
    "    hmm.load_secondary_objects()\n",
    "\n",
    "    ### Set the Parameters\n",
    "    hmm.e_obj.set_params(e_rate = e_rate, e_rate_ref = e_rate_ref)\n",
    "    hmm.t_obj.set_params(roh_in=roh_in, roh_out=roh_out, roh_jump=roh_jump)\n",
    "    hmm.post_obj.set_params(max_gap=max_gap)\n",
    "    \n",
    "    #hmm.calc_viterbi_path(save=save)           # Calculate the Viterbi Path.\n",
    "    hmm.calc_posterior(save=save)              # Calculate the Posterior.\n",
    "    hmm.post_processing(save=save)             # Do the Post-Processing.\n",
    "                         \n",
    "#########################################################\n",
    "def analyze_individual_es(iid, chs=range(1,23), n_ref=2504, save=True, save_fp=False, \n",
    "                          exclude_pops=[], base_out_folder=\"./Empirical/Eigenstrat/Reichall/test/\", \n",
    "                          prefix_out=\"\", roh_in=100, roh_out=100, roh_jump=300, e_rate=0.001, \n",
    "                          e_rate_ref=0.001, max_gap=0, logfile=True, output=True, processes=5, delete=True):\n",
    "    \"\"\"Analyze a full single individual in a parallelized fasion. Run all Chromosome analyses in parallel\n",
    "    Wrapper for analyze_chromosome_gt.\n",
    "    logfile: Whether to use a logfile\n",
    "    output: Whether to print general Output\"\"\"\n",
    "                            \n",
    "    if output == True:\n",
    "        print(f\"Doing Individual {iid}...\")\n",
    "    \n",
    "    ### Prepare the Parameters for that Indivdiual\n",
    "    prms = [[iid, ch, n_ref, save, save_fp, exclude_pops, base_out_folder, prefix_out,\n",
    "         roh_in, roh_out, roh_jump, e_rate, e_rate_ref, max_gap, logfile] for ch in chs] \n",
    "                            \n",
    "    ### Run the analysis in parallel\n",
    "    multi_run(analyze_chromosome_es, prms, processes = processes)\n",
    "                            \n",
    "    ### Merge results for that Individual\n",
    "    combine_individual_data(base_out_folder, iid=iid, delete=delete, chs=chs)                  \n",
    "    return"
   ]
  },
  {
   "cell_type": "markdown",
   "metadata": {},
   "source": [
    "## Call ROH single Individual\n",
    "For reanalysis with delete=True (saves all data) to plot that indivdual / further analysis of posterior"
   ]
  },
  {
   "cell_type": "code",
   "execution_count": 6,
   "metadata": {},
   "outputs": [
    {
     "name": "stdout",
     "output_type": "stream",
     "text": [
      "Doing Individual CovaMoura9B.SG...\n",
      "Running 22 jobs in parallel.\n",
      "Set Output Log path: ./Empirical/Eigenstrat/Reichall/test/CovaMoura9B.SG/chr5/hmm_run_log.txt\n",
      "Set Output Log path: ./Empirical/Eigenstrat/Reichall/test/CovaMoura9B.SG/chr1/hmm_run_log.txt\n",
      "Set Output Log path: ./Empirical/Eigenstrat/Reichall/test/CovaMoura9B.SG/chr2/hmm_run_log.txt\n",
      "Set Output Log path: ./Empirical/Eigenstrat/Reichall/test/CovaMoura9B.SG/chr3/hmm_run_log.txt\n",
      "Set Output Log path: ./Empirical/Eigenstrat/Reichall/test/CovaMoura9B.SG/chr4/hmm_run_log.txt\n",
      "Set Output Log path: ./Empirical/Eigenstrat/Reichall/test/CovaMoura9B.SG/chr6/hmm_run_log.txt\n",
      "CPU times: user 551 ms, sys: 177 ms, total: 728 ms\n",
      "Wall time: 8min 28s\n"
     ]
    }
   ],
   "source": [
    "%%time\n",
    "analyze_individual_es(iid=\"CovaMoura9B.SG\", chs=range(1,23), processes=6, delete=False, logfile=True, n_ref=2504)"
   ]
  },
  {
   "cell_type": "markdown",
   "metadata": {},
   "source": [
    "# Post-Process the individual output files\n",
    "(Standalone from here - but Imports above)"
   ]
  },
  {
   "cell_type": "code",
   "execution_count": 3,
   "metadata": {},
   "outputs": [],
   "source": [
    "sys.path.append(\"./PackagesSupport/\")\n",
    "from pp_individual_roh_csvs import create_combined_ROH_df, give_iid_paths, pp_individual_roh"
   ]
  },
  {
   "cell_type": "markdown",
   "metadata": {},
   "source": [
    "### Decide which IIDs to post-process"
   ]
  },
  {
   "cell_type": "code",
   "execution_count": 4,
   "metadata": {},
   "outputs": [
    {
     "name": "stdout",
     "output_type": "stream",
     "text": [
      "1099\n"
     ]
    }
   ],
   "source": [
    "meta_path=\"./Data/ReichLabEigenstrat/Raw/meta.csv\"\n",
    "df_anno = pd.read_csv(meta_path)\n",
    "df_ana = df_anno[df_anno[\"mean_cov\"]>0.5]\n",
    "print(len(df_ana))\n",
    "df_ana = df_ana[:]  # how many individuals to extract\n",
    "iids = df_ana[\"iid\"]"
   ]
  },
  {
   "cell_type": "code",
   "execution_count": 6,
   "metadata": {},
   "outputs": [
    {
     "name": "stdout",
     "output_type": "stream",
     "text": [
      "Loaded 1000 / 2106 Individuals from Meta\n",
      "Warning, could not find 143 Paths:\n",
      "['./Empirical/Eigenstrat/Reichall/DolmenAnsiao96B.SG_roh_full.csv', './Empirical/Eigenstrat/Reichall/LugarCanto42.SG_roh_full.csv', './Empirical/Eigenstrat/Reichall/LugarCanto44.SG_roh_full.csv', './Empirical/Eigenstrat/Reichall/Bon002.SG_roh_full.csv', './Empirical/Eigenstrat/Reichall/Altai_snpAD.DG_roh_full.csv', './Empirical/Eigenstrat/Reichall/Denisova_snpAD.DG_roh_full.csv', './Empirical/Eigenstrat/Reichall/Loschbour_snpAD.DG_roh_full.csv', './Empirical/Eigenstrat/Reichall/UstIshim_snpAD.DG_roh_full.csv', './Empirical/Eigenstrat/Reichall/Vindija_snpAD.DG_roh_full.csv', './Empirical/Eigenstrat/Reichall/Altai_published.DG_roh_full.csv', './Empirical/Eigenstrat/Reichall/Denisova_published.DG_roh_full.csv', './Empirical/Eigenstrat/Reichall/Loschbour_published.DG_roh_full.csv', './Empirical/Eigenstrat/Reichall/Stuttgart_published.DG_roh_full.csv', './Empirical/Eigenstrat/Reichall/Ust_Ishim_published.DG_roh_full.csv', './Empirical/Eigenstrat/Reichall/Bar31.SG_roh_full.csv', './Empirical/Eigenstrat/Reichall/Bar8.SG_roh_full.csv', './Empirical/Eigenstrat/Reichall/Klei10.SG_roh_full.csv', './Empirical/Eigenstrat/Reichall/C1.SG_roh_full.csv', './Empirical/Eigenstrat/Reichall/S10.SG_roh_full.csv', './Empirical/Eigenstrat/Reichall/S35.SG_roh_full.csv', './Empirical/Eigenstrat/Reichall/S41.SG_roh_full.csv', './Empirical/Eigenstrat/Reichall/F38.SG_roh_full.csv', './Empirical/Eigenstrat/Reichall/WC1.SG_roh_full.csv', './Empirical/Eigenstrat/Reichall/I0157.SG_roh_full.csv', './Empirical/Eigenstrat/Reichall/I0159.SG_roh_full.csv', './Empirical/Eigenstrat/Reichall/I0160.SG_roh_full.csv', './Empirical/Eigenstrat/Reichall/I0774.SG_roh_full.csv', './Empirical/Eigenstrat/Reichall/I0777.SG_roh_full.csv', './Empirical/Eigenstrat/Reichall/I0440_roh_full.csv', './Empirical/Eigenstrat/Reichall/I0232_published_roh_full.csv', './Empirical/Eigenstrat/Reichall/I0231_published_roh_full.csv', './Empirical/Eigenstrat/Reichall/I0562_roh_full.csv', './Empirical/Eigenstrat/Reichall/I0061_roh_full.csv', './Empirical/Eigenstrat/Reichall/I0745_roh_full.csv', './Empirical/Eigenstrat/Reichall/I0746_roh_full.csv', './Empirical/Eigenstrat/Reichall/I0707_roh_full.csv', './Empirical/Eigenstrat/Reichall/Inuk.SG_roh_full.csv', './Empirical/Eigenstrat/Reichall/Kostenki14.SG_roh_full.csv', './Empirical/Eigenstrat/Reichall/BR2.SG_roh_full.csv', './Empirical/Eigenstrat/Reichall/NE1.SG_roh_full.csv', './Empirical/Eigenstrat/Reichall/Ajvide58.SG_roh_full.csv', './Empirical/Eigenstrat/Reichall/Iceman.SG_roh_full.csv', './Empirical/Eigenstrat/Reichall/LaBrana1_published.SG_roh_full.csv', './Empirical/Eigenstrat/Reichall/Anzick.SG_roh_full.csv', './Empirical/Eigenstrat/Reichall/I0061.SG_roh_full.csv', './Empirical/Eigenstrat/Reichall/RISE98.SG_roh_full.csv', './Empirical/Eigenstrat/Reichall/RISE493.SG_roh_full.csv', './Empirical/Eigenstrat/Reichall/RISE495.SG_roh_full.csv', './Empirical/Eigenstrat/Reichall/RISE496.SG_roh_full.csv', './Empirical/Eigenstrat/Reichall/RISE497.SG_roh_full.csv', './Empirical/Eigenstrat/Reichall/RISE505.SG_roh_full.csv', './Empirical/Eigenstrat/Reichall/RISE511.SG_roh_full.csv', './Empirical/Eigenstrat/Reichall/RISE523.SG_roh_full.csv', './Empirical/Eigenstrat/Reichall/I0443_roh_full.csv', './Empirical/Eigenstrat/Reichall/I0581_roh_full.csv', './Empirical/Eigenstrat/Reichall/I0103_roh_full.csv', './Empirical/Eigenstrat/Reichall/I0172_roh_full.csv', './Empirical/Eigenstrat/Reichall/I0054_roh_full.csv', './Empirical/Eigenstrat/Reichall/I0118_roh_full.csv', './Empirical/Eigenstrat/Reichall/Kostenki14_roh_full.csv', './Empirical/Eigenstrat/Reichall/mota.SG_roh_full.csv', './Empirical/Eigenstrat/Reichall/I0100_roh_full.csv', './Empirical/Eigenstrat/Reichall/Bichon.SG_roh_full.csv', './Empirical/Eigenstrat/Reichall/KK1.SG_roh_full.csv', './Empirical/Eigenstrat/Reichall/I9133.SG_roh_full.csv', './Empirical/Eigenstrat/Reichall/bally.SG_roh_full.csv', './Empirical/Eigenstrat/Reichall/rath1.SG_roh_full.csv', './Empirical/Eigenstrat/Reichall/I0017.SG_roh_full.csv', './Empirical/Eigenstrat/Reichall/Latvia_HG2.SG_roh_full.csv', './Empirical/Eigenstrat/Reichall/I1169_roh_full.csv', './Empirical/Eigenstrat/Reichall/I1583_roh_full.csv', './Empirical/Eigenstrat/Reichall/I1907_roh_full.csv', './Empirical/Eigenstrat/Reichall/I2366_roh_full.csv', './Empirical/Eigenstrat/Reichall/I2790_roh_full.csv', './Empirical/Eigenstrat/Reichall/I2793_roh_full.csv', './Empirical/Eigenstrat/Reichall/I2794_roh_full.csv', './Empirical/Eigenstrat/Reichall/I3921_all_roh_full.csv', './Empirical/Eigenstrat/Reichall/I4105_all_roh_full.csv', './Empirical/Eigenstrat/Reichall/I4106_all_roh_full.csv', './Empirical/Eigenstrat/Reichall/Chan.SG_roh_full.csv', './Empirical/Eigenstrat/Reichall/GB.SG_roh_full.csv', './Empirical/Eigenstrat/Reichall/M96.SG_roh_full.csv', './Empirical/Eigenstrat/Reichall/I4096_all_roh_full.csv', './Empirical/Eigenstrat/Reichall/I2495_roh_full.csv', './Empirical/Eigenstrat/Reichall/Sunghir2.SG_roh_full.csv', './Empirical/Eigenstrat/Reichall/Sunghir3.SG_roh_full.csv', './Empirical/Eigenstrat/Reichall/Sunghir4.SG_roh_full.csv', './Empirical/Eigenstrat/Reichall/Sunghir6.SG_roh_full.csv', './Empirical/Eigenstrat/Reichall/baa001.SG_roh_full.csv', './Empirical/Eigenstrat/Reichall/ela001.SG_roh_full.csv', './Empirical/Eigenstrat/Reichall/mfo001.SG_roh_full.csv', './Empirical/Eigenstrat/Reichall/new001.SG_roh_full.csv', './Empirical/Eigenstrat/Reichall/gun011.SG_roh_full.csv', './Empirical/Eigenstrat/Reichall/Hum2.SG_roh_full.csv', './Empirical/Eigenstrat/Reichall/SF12.SG_roh_full.csv', './Empirical/Eigenstrat/Reichall/USR1.SG_roh_full.csv', './Empirical/Eigenstrat/Reichall/Gyvakarai1_10bp_roh_full.csv', './Empirical/Eigenstrat/Reichall/Kretuonas4_roh_full.csv', './Empirical/Eigenstrat/Reichall/TAF011_roh_full.csv', './Empirical/Eigenstrat/Reichall/PC537.SG_roh_full.csv', './Empirical/Eigenstrat/Reichall/atp002.SG_roh_full.csv', './Empirical/Eigenstrat/Reichall/atp016.SG_roh_full.csv', './Empirical/Eigenstrat/Reichall/atp12-1420.SG_roh_full.csv', './Empirical/Eigenstrat/Reichall/mur.SG_roh_full.csv', './Empirical/Eigenstrat/Reichall/DA101.SG_roh_full.csv', './Empirical/Eigenstrat/Reichall/DA177.SG_roh_full.csv', './Empirical/Eigenstrat/Reichall/DA221.SG_roh_full.csv', './Empirical/Eigenstrat/Reichall/DA222.SG_roh_full.csv', './Empirical/Eigenstrat/Reichall/DA223.SG_roh_full.csv', './Empirical/Eigenstrat/Reichall/DA228.SG_roh_full.csv', './Empirical/Eigenstrat/Reichall/DA243.SG_roh_full.csv', './Empirical/Eigenstrat/Reichall/DA28.SG_roh_full.csv', './Empirical/Eigenstrat/Reichall/DA38.SG_roh_full.csv', './Empirical/Eigenstrat/Reichall/DA45.SG_roh_full.csv', './Empirical/Eigenstrat/Reichall/BOT14.SG_roh_full.csv', './Empirical/Eigenstrat/Reichall/BOT15.SG_roh_full.csv', './Empirical/Eigenstrat/Reichall/BOT2016.SG_roh_full.csv', './Empirical/Eigenstrat/Reichall/DA246.SG_roh_full.csv', './Empirical/Eigenstrat/Reichall/DA247.SG_roh_full.csv', './Empirical/Eigenstrat/Reichall/DA249.SG_roh_full.csv', './Empirical/Eigenstrat/Reichall/DA253.SG_roh_full.csv', './Empirical/Eigenstrat/Reichall/EBA1.SG_roh_full.csv', './Empirical/Eigenstrat/Reichall/EBA2.SG_roh_full.csv', './Empirical/Eigenstrat/Reichall/RISE664.SG_roh_full.csv', './Empirical/Eigenstrat/Reichall/RISE674.SG_roh_full.csv', './Empirical/Eigenstrat/Reichall/Sidelkino.SG_roh_full.csv', './Empirical/Eigenstrat/Reichall/Yamnaya.SG_roh_full.csv', './Empirical/Eigenstrat/Reichall/Alh10.SG_roh_full.csv', './Empirical/Eigenstrat/Reichall/Alh1.SG_roh_full.csv', './Empirical/Eigenstrat/Reichall/FN2.SG_roh_full.csv', './Empirical/Eigenstrat/Reichall/CR-01.SG_roh_full.csv', './Empirical/Eigenstrat/Reichall/CT-01.SG_roh_full.csv', './Empirical/Eigenstrat/Reichall/SC-05.SG_roh_full.csv', './Empirical/Eigenstrat/Reichall/SN-44.SG_roh_full.csv', './Empirical/Eigenstrat/Reichall/IPK12.SG_roh_full.csv', './Empirical/Eigenstrat/Reichall/IPK13a.SG_roh_full.csv', './Empirical/Eigenstrat/Reichall/IPY10.SG_roh_full.csv', './Empirical/Eigenstrat/Reichall/vik_84001.SG_roh_full.csv', './Empirical/Eigenstrat/Reichall/vik_grt035.SG_roh_full.csv', './Empirical/Eigenstrat/Reichall/vik_grt036.SG_roh_full.csv', './Empirical/Eigenstrat/Reichall/vik_stg021.SG_roh_full.csv', './Empirical/Eigenstrat/Reichall/Denisova11.SG_roh_full.csv', './Empirical/Eigenstrat/Reichall/Anzick_realigned.SG_roh_full.csv']\n",
      "Saved to: ./Empirical/Eigenstrat/Reichall/combined_roh_test.csv\n",
      "CPU times: user 8min 37s, sys: 292 ms, total: 8min 37s\n",
      "Wall time: 8min 40s\n"
     ]
    }
   ],
   "source": [
    "%%time\n",
    "df1 = pp_individual_roh(iids[:1000], meta_path=\"./Data/ReichLabEigenstrat/Raw/meta.csv\", base_folder=\"./Empirical/Eigenstrat/Reichall/\",\n",
    "                        save_path=\"./Empirical/Eigenstrat/Reichall/combined_roh_test.csv\", output=False, min_cm=4, snp_cm=50)"
   ]
  },
  {
   "cell_type": "code",
   "execution_count": 22,
   "metadata": {},
   "outputs": [],
   "source": [
    "#df_merge = pd.merge(df1[[\"iid\", \"max_roh\", \"sum_roh\",\"n_roh\"]], df_anno, on=\"iid\")\n",
    "#df_merge.to_csv(\"./Empirical/Eigenstrat/Reichall/combined_roh_test2.csv\", index=\"False\", sep=\"\\t\")"
   ]
  },
  {
   "cell_type": "markdown",
   "metadata": {},
   "source": [
    "### Create List of Individuals that did not work"
   ]
  },
  {
   "cell_type": "markdown",
   "metadata": {},
   "source": [
    "# Area 51\n",
    "Area to test code here"
   ]
  },
  {
   "cell_type": "markdown",
   "metadata": {},
   "source": [
    "### Test one Eigenstrat individual"
   ]
  },
  {
   "cell_type": "code",
   "execution_count": 3,
   "metadata": {},
   "outputs": [
    {
     "name": "stdout",
     "output_type": "stream",
     "text": [
      "Using Low-Mem Cython Linear Speed Up.\n",
      "Loaded Pre Processing Model: Eigenstrat\n",
      "Loading Individual: I7579\n",
      "\n",
      "Loaded 77652 variants\n",
      "Loaded 2504 individuals\n",
      "HDF5 loaded from ./Data/1000Genomes/HDF5/1240kHDF5/all1240/chr3.hdf5\n",
      "3 Eigenstrat Files with 5081 Individuals and 1233013 SNPs\n",
      "\n",
      "Intersection on Positions: 77652\n",
      "Nr of Matching Refs: 77652 / 77652\n",
      "Full Intersection Ref/Alt Identical: 77601 / 77652\n",
      "2504 / 2504 Individuals included in Reference\n",
      "Extraction of 1000 Haplotypes complete\n",
      "Reduced to markers called 49849 / 77601\n",
      "(Fraction SNP: 0.6423757425806369)\n",
      "Successfully saved to: ./Empirical/Eigenstrat/Reichall/test/I7579/chr3/\n",
      "Successfully loaded Data from: ./Empirical/Eigenstrat/Reichall/test/I7579/chr3/\n",
      "Loaded Emission Model: haploid\n",
      "Loaded Transition Model: model\n",
      "Loaded Post Processing Model: Standard\n",
      "Minimum Genetic Map: 0.0000\n",
      "Maximum Genetic Map: 2.2325\n",
      "Gaps bigger than 0.1 cM: 291\n",
      "Maximum Gap: 0.2662 cM\n",
      "Loaded Transition and Emission Matrix:\n",
      "(3, 3)\n",
      "(1001, 49849)\n",
      "Loaded Observations:\n",
      "(2, 49849)\n",
      "Memory Usage: 668.151808 mB\n",
      "Reference Number: 1000\n",
      "Total Log likelihood: -17858.274\n",
      "Memory Usage: 668.151808 mB\n",
      "Finished Calculation State Posteriors\n",
      "Saved Zero State Posterior to ./Empirical/Eigenstrat/Reichall/test/I7579/chr3/.\n",
      "Successfully loaded for PP. from ./Empirical/Eigenstrat/Reichall/test/I7579/chr3/\n",
      "Fraction Markers in ROH: 0.3629\n",
      "Merged n=0 gaps < 0 M\n",
      "Called n=6 ROH Blocks > 1.0 cM\n",
      "Longest Block: 1.377\n",
      "Successfully saved to ./Empirical/Eigenstrat/Reichall/test/I7579/chr3/roh.csv\n"
     ]
    }
   ],
   "source": [
    "analyze_chromosome_es(iid=\"I7579\", ch=3, n_ref=500, save=True, save_fp=False, exclude_pops=[], \n",
    "                      base_out_folder=\"./Empirical/Eigenstrat/Reichall/test/\", prefix_out=\"\",\n",
    "                      roh_in=100, roh_out=100, roh_jump=300, e_rate=0.01, e_rate_ref=0.001, \n",
    "                      max_gap=0, logfile=False)"
   ]
  },
  {
   "cell_type": "markdown",
   "metadata": {},
   "source": []
  }
 ],
 "metadata": {
  "kernelspec": {
   "display_name": "Python 3",
   "language": "python",
   "name": "python3"
  },
  "language_info": {
   "codemirror_mode": {
    "name": "ipython",
    "version": 3
   },
   "file_extension": ".py",
   "mimetype": "text/x-python",
   "name": "python",
   "nbconvert_exporter": "python",
   "pygments_lexer": "ipython3",
   "version": "3.7.0"
  }
 },
 "nbformat": 4,
 "nbformat_minor": 2
}
