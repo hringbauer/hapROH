{
 "cells": [
  {
   "cell_type": "markdown",
   "metadata": {},
   "source": [
    "# Notebook to call ROH in parallel\n",
    "Import the code for calling ROHs on test cases (simulated mosaics), \n",
    "and then functions for various cases to parallelize it\n",
    "\n",
    "Original version with manual function is in ./Legacy\n",
    "\n",
    "@Author: Harald Ringbauer, February 2020"
   ]
  },
  {
   "cell_type": "code",
   "execution_count": 2,
   "metadata": {},
   "outputs": [
    {
     "name": "stdout",
     "output_type": "stream",
     "text": [
      "midway2-0402.rcc.local\n",
      "Midway jnovmbre partition detected.\n",
      "/project2/jnovembre/hringbauer/HAPSBURG\n",
      "CPU Count: 28\n"
     ]
    }
   ],
   "source": [
    "import numpy as np\n",
    "import os as os\n",
    "import sys as sys\n",
    "import multiprocessing as mp\n",
    "import pandas as pd\n",
    "import socket\n",
    "\n",
    "socket_name = socket.gethostname()\n",
    "print(socket_name)\n",
    "if socket_name == \"VioletQueen\":\n",
    "    path = \"/home/harald/git/HAPSBURG/\"   # The Path on Harald's machine\n",
    "elif socket_name.startswith(\"midway2\"):\n",
    "    print(\"Midway jnovmbre partition detected.\")\n",
    "    path = \"/project2/jnovembre/hringbauer/HAPSBURG/\"  # The Path on Midway Cluster\n",
    "else: \n",
    "    raise RuntimeWarning(\"Not compatible machine. Check!!\")\n",
    "\n",
    "os.chdir(path)  # Set the right Path (in line with Atom default)\n",
    "print(os.getcwd()) # Show the current working directory. Should be HAPSBURG/Notebooks/ParallelRuns\n",
    "print(f\"CPU Count: {mp.cpu_count()}\")\n",
    "\n",
    "sys.path.append(\"./package/hapsburg/\")  # Since now we are in the Root Directory\n",
    "from hmm_inference import HMM_Analyze   # Do not move. Should be after sys.path..\n",
    "\n",
    "#from PackagesSupport.parallel_runs.helper_functions import prepare_path, create_folders, postprocess_iid\n",
    "from PackagesSupport.hapsburg_run import hapsb_chrom\n",
    "from PackagesSupport.parallel_runs.helper_functions import multi_run, split_up_roh_df  # Parallel Runs and forward ground truth"
   ]
  },
  {
   "cell_type": "markdown",
   "metadata": {},
   "source": [
    "# Run Parallel Calling on TSI (single Target HDF5)"
   ]
  },
  {
   "cell_type": "code",
   "execution_count": 3,
   "metadata": {},
   "outputs": [],
   "source": [
    "### Prepare Parameter files and run\n",
    "#### Create the parameters array for the starmap:\n",
    "iids = [\"iid\" + str(i) for i in range(100)]   # List of iids to iterate over\n",
    "### Create list of IIDs and of Folders\n",
    "\n",
    "ch = 3 # For test case here: Only do Chromosome #3\n",
    "n_ref = 503  # 2504 All 503 Europe/TSI\n",
    "save=True\n",
    "save_fp=False\n",
    "n_ref = 502\n",
    "\n",
    "exclude_pops = [\"TSI\", ]\n",
    "\n",
    "e_model = \"haploid\"\n",
    "p_model = \"MosaicHDF5\"  \n",
    "readcounts=False\n",
    "destroy_phase=True\n",
    "\n",
    "post_model = \"Standard\"\n",
    "h5_path1000g = \"./Data/1000Genomes/HDF5/1240kHDF5/all1240/chr\" # Switch: Eur1240chr\n",
    "meta_path_ref = \"./Data/1000Genomes/Individuals/meta_df_all.csv\"  # meta_df.csv for full 1000G\n",
    "\n",
    "roh_in = 1 \n",
    "roh_out = 25\n",
    "roh_jump = 400\n",
    "e_rate = 0.01  # The Error Rate\n",
    "e_rate_ref = 0.0\n",
    "max_gap = 0.00 # Gap Merging. In M\n",
    "\n",
    "logfile = False\n",
    "#lengths = [0, 2, 4, 6, 8, 10] # Which Block Lengths to test\n",
    "lengths = [4, 0]  # Relevant ones for key performance testing\n",
    "\n",
    "base_path=\"./Simulated/1000G_Mosaic/TSI5/\"\n",
    "prefix_out = \"test2/\"\n",
    "folders = [base_path + \"ch\" + str(ch) + \"_\" + str(int(l)) + \"cm/\" for l in lengths]  # Prepare Length folders\n",
    "\n",
    "#########################################################\n",
    "### Create the List of Parameter Lists (input for starmap)\n",
    "prms = []\n",
    "for f in folders:\n",
    "    path_targets = f + \"data.h5\"\n",
    "    base_out_folder = os.path.join(f, \"output\", \"\")\n",
    "    for iid in iids:\n",
    "        new_par = [iid, ch, save, save_fp, n_ref, exclude_pops, e_model, p_model, readcounts, destroy_phase,\n",
    "        post_model, path_targets, h5_path1000g, meta_path_ref, base_out_folder, prefix_out,\n",
    "        roh_in, roh_out, roh_jump, e_rate, e_rate_ref, max_gap, logfile]\n",
    "        prms.append(new_par)  # Append to the Parameters\n",
    "        \n",
    "assert(len(prms[0])==23)   # Sanity Check"
   ]
  },
  {
   "cell_type": "markdown",
   "metadata": {},
   "source": [
    "## Testrun on single Set of Parameters for TSI5"
   ]
  },
  {
   "cell_type": "code",
   "execution_count": null,
   "metadata": {},
   "outputs": [
    {
     "name": "stdout",
     "output_type": "stream",
     "text": [
      "Running 1 total jobs; 1 in parallel.\n",
      "Using Low-Mem Cython Linear Speed Up.\n",
      "Loaded Pre Processing Model: MosaicHDF5\n",
      "Loading Individual: iid0\n",
      "\n",
      "Loaded 77652 variants\n",
      "Loaded 100 individuals\n",
      "HDF5 loaded from ./Simulated/1000G_Mosaic/TSI5/ch3_4cm/data.h5\n",
      "\n",
      "Loaded 77652 variants\n",
      "Loaded 2504 individuals\n",
      "HDF5 loaded from ./Data/1000Genomes/HDF5/1240kHDF5/all1240/chr3.hdf5\n",
      "Nr of Matching Refs: 77652 / 77652 SNPs\n",
      "Both Ref/Alt Identical: 77652 / 77652\n",
      "2397 / 2504 Individuals included in Reference\n",
      "Extraction of 2 Haplotypes complete\n",
      "Extraction of 1006 Haplotypes complete\n",
      "Reduced to markers called 77652 / 77652\n",
      "Fraction SNPs covered: 1.0000\n",
      "Successfully saved to: ./Simulated/1000G_Mosaic/TSI5/ch3_4cm/output/iid0/chr3/test2/\n",
      "Shuffling phase of target...\n",
      "Successfully loaded Data from: ./Simulated/1000G_Mosaic/TSI5/ch3_4cm/output/iid0/chr3/test2/\n",
      "Loaded Emission Model: haploid\n",
      "Loaded Transition Model: model\n",
      "Loaded Post Processing Model: Standard\n",
      "Minimum Genetic Map: 0.0000 Morgan\n",
      "Maximum Genetic Map: 2.2326 Morgan\n",
      "Gaps bigger than 0.1 cM: 214\n",
      "Maximum Gap: 0.2348 cM\n",
      "Loaded Transition and Emission Matrix:\n",
      "(3, 3)\n",
      "(1007, 77652)\n",
      "Loaded Observations:\n",
      "(2, 77652)\n",
      "Memory Usage: 859.52512 mB\n",
      "Reference Number: 1006\n"
     ]
    }
   ],
   "source": [
    "%%time\n",
    "multi_run(hapsb_chrom, [prms[0]], processes = 1)"
   ]
  },
  {
   "cell_type": "markdown",
   "metadata": {},
   "source": [
    "## Run all Individuals"
   ]
  },
  {
   "cell_type": "code",
   "execution_count": null,
   "metadata": {},
   "outputs": [
    {
     "name": "stdout",
     "output_type": "stream",
     "text": [
      "Running 200 total jobs; 12 in parallel.\n",
      "Set Output Log path: ./Simulated/1000G_Mosaic/TSI5/ch3_4cm/output/iid5/chr3/ROH400allref/hmm_run_log.txt\n",
      "Set Output Log path: ./Simulated/1000G_Mosaic/TSI5/ch3_4cm/output/iid15/chr3/ROH400allref/hmm_run_log.txt\n",
      "Set Output Log path: ./Simulated/1000G_Mosaic/TSI5/ch3_4cm/output/iid10/chr3/ROH400allref/hmm_run_log.txt\n",
      "Set Output Log path: ./Simulated/1000G_Mosaic/TSI5/ch3_4cm/output/iid30/chr3/ROH400allref/hmm_run_log.txt\n",
      "Set Output Log path: ./Simulated/1000G_Mosaic/TSI5/ch3_4cm/output/iid35/chr3/ROH400allref/hmm_run_log.txt\n",
      "Set Output Log path: ./Simulated/1000G_Mosaic/TSI5/ch3_4cm/output/iid20/chr3/ROH400allref/hmm_run_log.txt\n",
      "Set Output Log path: ./Simulated/1000G_Mosaic/TSI5/ch3_4cm/output/iid40/chr3/ROH400allref/hmm_run_log.txt\n",
      "Set Output Log path: ./Simulated/1000G_Mosaic/TSI5/ch3_4cm/output/iid25/chr3/ROH400allref/hmm_run_log.txt\n",
      "Set Output Log path: ./Simulated/1000G_Mosaic/TSI5/ch3_4cm/output/iid50/chr3/ROH400allref/hmm_run_log.txt\n",
      "Set Output Log path: ./Simulated/1000G_Mosaic/TSI5/ch3_4cm/output/iid45/chr3/ROH400allref/hmm_run_log.txt\n",
      "Set Output Log path: ./Simulated/1000G_Mosaic/TSI5/ch3_4cm/output/iid0/chr3/ROH400allref/hmm_run_log.txt\n",
      "Set Output Log path: ./Simulated/1000G_Mosaic/TSI5/ch3_4cm/output/iid55/chr3/ROH400allref/hmm_run_log.txt\n"
     ]
    }
   ],
   "source": [
    "%%time\n",
    "multi_run(hapsb_chrom, prms[:], processes = 12)"
   ]
  },
  {
   "cell_type": "code",
   "execution_count": 27,
   "metadata": {},
   "outputs": [
    {
     "name": "stdout",
     "output_type": "stream",
     "text": [
      "./Simulated/1000G_Mosaic/TSI5/ch3_4cm/output/iid0/chr3/test/\n",
      "./Simulated/1000G_Mosaic/TSI5/ch3_0cm/output/iid0/chr3/test/\n",
      "CPU times: user 18.4 ms, sys: 1.94 ms, total: 20.4 ms\n",
      "Wall time: 33.8 ms\n"
     ]
    }
   ],
   "source": [
    "%%time\n",
    "### Split up ground truth roh.csv \n",
    "#(to pack into output folder as well for easier comparison)\n",
    "\n",
    "for f in folders:\n",
    "    for iid in iids[:]:\n",
    "        path_out = os.path.join(f, \"output\", iid, \"chr\"+str(ch), prefix_out)\n",
    "        split_up_roh_df(f, path_out, iid, \n",
    "                    file_in=\"roh_info.csv\", file_out=\"roh_gt.csv\")"
   ]
  },
  {
   "cell_type": "code",
   "execution_count": 23,
   "metadata": {},
   "outputs": [
    {
     "name": "stdout",
     "output_type": "stream",
     "text": [
      "Hello Blizzard? WC3?\n"
     ]
    }
   ],
   "source": [
    "print(\"Hello Blizzard? WC3?\")"
   ]
  },
  {
   "cell_type": "markdown",
   "metadata": {},
   "source": [
    "# Area 51"
   ]
  }
 ],
 "metadata": {
  "kernelspec": {
   "display_name": "Python 3",
   "language": "python",
   "name": "python3"
  },
  "language_info": {
   "codemirror_mode": {
    "name": "ipython",
    "version": 3
   },
   "file_extension": ".py",
   "mimetype": "text/x-python",
   "name": "python",
   "nbconvert_exporter": "python",
   "pygments_lexer": "ipython3",
   "version": "3.7.0"
  }
 },
 "nbformat": 4,
 "nbformat_minor": 2
}
