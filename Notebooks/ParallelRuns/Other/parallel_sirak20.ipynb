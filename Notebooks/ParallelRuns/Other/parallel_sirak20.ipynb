{
 "cells": [
  {
   "cell_type": "code",
   "execution_count": 1,
   "metadata": {},
   "outputs": [
    {
     "name": "stdout",
     "output_type": "stream",
     "text": [
      "midway2-0402.rcc.local\n",
      "Midway jnovmbre partition detected.\n",
      "/project2/jnovembre/hringbauer/HAPSBURG\n",
      "CPU Count: 28\n"
     ]
    }
   ],
   "source": [
    "import numpy as np\n",
    "import os as os\n",
    "import sys as sys\n",
    "import multiprocessing as mp\n",
    "import pandas as pd\n",
    "import socket\n",
    "\n",
    "### Pick the right path (whether on cluster or at home)\n",
    "socket_name = socket.gethostname()\n",
    "print(socket_name)\n",
    "if socket_name == \"VioletQueen\":\n",
    "    path = \"/home/harald/git/HAPSBURG/\"   # The Path on Harald's machine\n",
    "elif socket_name.startswith(\"midway2\"):\n",
    "    print(\"Midway jnovmbre partition detected.\")\n",
    "    path = \"/project2/jnovembre/hringbauer/HAPSBURG/\"  # The Path on Midway Cluster\n",
    "else: \n",
    "    raise RuntimeWarning(\"Not compatible machine. Check!!\")\n",
    "    \n",
    "os.chdir(path)  # Set the right Path (in line with Atom default)\n",
    "print(os.getcwd()) # Show the current working directory. Should be HAPSBURG/Notebooks/ParallelRuns\n",
    "print(f\"CPU Count: {mp.cpu_count()}\")\n",
    "\n",
    "### Assume that now we are in the root directory\n",
    "#sys.path.append(\"./Python3/\")  \n",
    "#sys.path.append(\"./PackagesSupport/parallel_runs/\")\n",
    "#sys.path.append(\"./PackagesSupport/\")\n",
    "sys.path.append(\"./package/\")\n",
    "\n",
    "from hapsburg.hmm_inference import HMM_Analyze   # The HMM core object\n",
    "#from hapsburg.PackagesSupport.pp_individual_roh import prepare_path, multi_run, combine_individual_data\n",
    "from hapsburg.PackagesSupport.hapsburg_run import hapsb_chrom, hapsb_ind\n",
    "from hapsburg.PackagesSupport.pp_individual_roh_csvs import create_combined_ROH_df, give_iid_paths, pp_individual_roh"
   ]
  },
  {
   "cell_type": "markdown",
   "metadata": {},
   "source": [
    "### Test single Individual"
   ]
  },
  {
   "cell_type": "code",
   "execution_count": null,
   "metadata": {},
   "outputs": [
    {
     "name": "stdout",
     "output_type": "stream",
     "text": [
      "Doing Individual I12575...\n",
      "Running 1 total jobs; 1 in parallel.\n",
      "Using Low-Mem Cython Linear Speed Up.\n",
      "Loaded Pre Processing Model: EigenstratPacked\n",
      "Loading Individual: I12575\n",
      "\n",
      "Loaded 16038 variants\n",
      "Loaded 2504 individuals\n",
      "HDF5 loaded from ./Data/1000Genomes/HDF5/1240kHDF5/all1240/chr21.hdf5\n"
     ]
    }
   ],
   "source": [
    "hapsb_ind(iid=\"I12575\", chs=range(21,22), processes=1, \n",
    "          path_targets = \"./Data/Sirak20/v421_CaribIllu1000GancSam_bySite_PAM\",\n",
    "          base_out_folder=\"./Empirical/Eigenstrat/Sirak20/\",\n",
    "          e_model=\"haploid\", p_model=\"EigenstratPacked\", n_ref=2504,\n",
    "          destroy_phase=True, readcounts=False,\n",
    "          delete=False, logfile=False, combine=True)"
   ]
  },
  {
   "cell_type": "markdown",
   "metadata": {},
   "source": [
    "# Run all Individuals"
   ]
  },
  {
   "cell_type": "code",
   "execution_count": 7,
   "metadata": {},
   "outputs": [
    {
     "data": {
      "text/plain": [
       "170"
      ]
     },
     "execution_count": 7,
     "metadata": {},
     "output_type": "execute_result"
    }
   ],
   "source": [
    "meta_path=\"./Data/Sirak20/meta_processed.csv\"\n",
    "df = pd.read_csv(meta_path)\n",
    "df = df[(df[\"n_cov_snp\"]>400000)  & (df[\"include_alt\"]>=1)]\n",
    "len(df[\"iid\"])"
   ]
  },
  {
   "cell_type": "code",
   "execution_count": null,
   "metadata": {},
   "outputs": [],
   "source": [
    "for iid in df[\"iid\"].values[:]:\n",
    "    print(f\"Doing Individual: {iid}\")\n",
    "    hapsb_ind(iid=iid, chs=range(1,23), processes=8, \n",
    "              path_targets = \"./Data/Sirak20/v421_CaribIllu1000GancSam_bySite_PAM\",\n",
    "              base_out_folder=\"./Empirical/Eigenstrat/Sirak20/\",\n",
    "              e_model=\"haploid\", p_model=\"EigenstratPacked\", n_ref=2504,\n",
    "              destroy_phase=True, readcounts=False,\n",
    "              delete=False, logfile=True, combine=True)"
   ]
  },
  {
   "cell_type": "markdown",
   "metadata": {},
   "source": [
    "### Postprocess Sirak20 Individuals into one .csv"
   ]
  },
  {
   "cell_type": "code",
   "execution_count": 7,
   "metadata": {},
   "outputs": [
    {
     "name": "stdout",
     "output_type": "stream",
     "text": [
      "170 Individuals with coverage >400000\n"
     ]
    },
    {
     "data": {
      "text/plain": [
       "170"
      ]
     },
     "execution_count": 7,
     "metadata": {},
     "output_type": "execute_result"
    }
   ],
   "source": [
    "meta_path=\"./Data/Sirak20/meta_processed.csv\"\n",
    "df_anno = pd.read_csv(meta_path)\n",
    "df_ana = df_anno[(df_anno[\"n_cov_snp\"]>4e5) & (df_anno[\"include_alt\"]>0)]\n",
    "print(f\"{len(df_ana)} Individuals with coverage >{4e5:.0f}\")\n",
    "iids = df_ana[\"iid\"].values\n",
    "len(iids)"
   ]
  },
  {
   "cell_type": "code",
   "execution_count": 8,
   "metadata": {},
   "outputs": [
    {
     "name": "stdout",
     "output_type": "stream",
     "text": [
      "Loaded 170 / 210 Individuals from Meta\n",
      "Saved to: ./Empirical/Eigenstrat/Sirak20/combined_roh05.csv\n",
      "CPU times: user 3min 59s, sys: 241 ms, total: 3min 59s\n",
      "Wall time: 4min 7s\n"
     ]
    }
   ],
   "source": [
    "%%time\n",
    "df1 = pp_individual_roh(iids, meta_path=\"./Data/Sirak20/meta_processed.csv\", base_folder=\"./Empirical/Eigenstrat/Sirak20/\",\n",
    "                        save_path=\"./Empirical/Eigenstrat/Sirak20/combined_roh05.csv\", \n",
    "                        output=False, min_cm=[4,8,12,20], snp_cm=50, gap=0.5, \n",
    "                        min_len1=2.0, min_len2=4.0)"
   ]
  },
  {
   "cell_type": "code",
   "execution_count": null,
   "metadata": {},
   "outputs": [],
   "source": [
    "df1.sort_values(by=\"age\", ascending=False)"
   ]
  },
  {
   "cell_type": "code",
   "execution_count": null,
   "metadata": {},
   "outputs": [],
   "source": []
  }
 ],
 "metadata": {
  "kernelspec": {
   "display_name": "Python 3",
   "language": "python",
   "name": "python3"
  },
  "language_info": {
   "codemirror_mode": {
    "name": "ipython",
    "version": 3
   },
   "file_extension": ".py",
   "mimetype": "text/x-python",
   "name": "python",
   "nbconvert_exporter": "python",
   "pygments_lexer": "ipython3",
   "version": "3.7.0"
  }
 },
 "nbformat": 4,
 "nbformat_minor": 2
}
