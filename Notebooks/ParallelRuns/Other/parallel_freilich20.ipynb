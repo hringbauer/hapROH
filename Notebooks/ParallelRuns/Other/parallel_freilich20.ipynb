{
 "cells": [
  {
   "cell_type": "code",
   "execution_count": 1,
   "metadata": {},
   "outputs": [
    {
     "name": "stdout",
     "output_type": "stream",
     "text": [
      "midway2-0408.rcc.local\n",
      "Midway jnovmbre partition detected.\n",
      "/project2/jnovembre/hringbauer/HAPSBURG\n",
      "CPU Count: 28\n"
     ]
    }
   ],
   "source": [
    "import numpy as np\n",
    "import os as os\n",
    "import sys as sys\n",
    "import multiprocessing as mp\n",
    "import pandas as pd\n",
    "import socket\n",
    "\n",
    "### Pick the right path (whether on cluster or at home)\n",
    "socket_name = socket.gethostname()\n",
    "print(socket_name)\n",
    "if socket_name == \"VioletQueen\":\n",
    "    path = \"/home/harald/git/HAPSBURG/\"   # The Path on Harald's machine\n",
    "elif socket_name.startswith(\"midway2\"):\n",
    "    print(\"Midway jnovmbre partition detected.\")\n",
    "    path = \"/project2/jnovembre/hringbauer/HAPSBURG/\"  # The Path on Midway Cluster\n",
    "else: \n",
    "    raise RuntimeWarning(\"Not compatible machine. Check!!\")\n",
    "    \n",
    "os.chdir(path)  # Set the right Path (in line with Atom default)\n",
    "print(os.getcwd()) # Show the current working directory. Should be HAPSBURG/Notebooks/ParallelRuns\n",
    "print(f\"CPU Count: {mp.cpu_count()}\")\n",
    "\n",
    "### Assume that now we are in the root directory\n",
    "sys.path.append(\"./hapsburg/\")  \n",
    "#sys.path.append(\"./Python3/PackagesSupport/parallel_runs/\")\n",
    "#sys.path.append(\"./Python3/PackagesSupport/\")\n",
    "\n",
    "#from hmm_inference import HMM_Analyze   # The HMM core object\n",
    "from PackagesSupport.parallel_runs.helper_functions import prepare_path, multi_run, combine_individual_data\n",
    "from PackagesSupport.hapsburg_run import hapsb_chrom, hapsb_ind\n",
    "from PackagesSupport.pp_individual_roh_csvs import create_combined_ROH_df, give_iid_paths, pp_individual_roh"
   ]
  },
  {
   "cell_type": "markdown",
   "metadata": {},
   "source": [
    "### Test single Individual"
   ]
  },
  {
   "cell_type": "code",
   "execution_count": 5,
   "metadata": {},
   "outputs": [
    {
     "name": "stdout",
     "output_type": "stream",
     "text": [
      "Doing Individual ZEM05...\n",
      "Running 1 total jobs; 1 in parallel.\n",
      "Using Low-Mem Cython Linear Speed Up.\n",
      "Loaded Pre Processing Model: EigenstratUnpacked\n",
      "Loading Individual: ZEM05\n",
      "\n",
      "Loaded 39018 variants\n",
      "Loaded 2504 individuals\n",
      "HDF5 loaded from ./Data/1000Genomes/HDF5/1240kHDF5/all1240/chr13.hdf5\n",
      "3 Eigenstrat Files with 28 Individuals and 1233013 SNPs\n",
      "\n",
      "Intersection on Positions: 39018\n",
      "Nr of Matching Refs: 39018 / 39018\n",
      "Ref/Alt Matching: 38994 / 39018\n",
      "Flipped Ref/Alt Matching: 0\n",
      "Together: 38994 / 39018\n",
      "2504 / 2504 Individuals included in Reference\n",
      "Extraction of 5008 Haplotypes complete\n",
      "Flipping Ref/Alt in target for 0 SNPs...\n",
      "Reduced to markers called 26917 / 38994\n",
      "(Fraction SNP: 0.690285684977176)\n",
      "Successfully saved to: ./Empirical/Eigenstrat/Freilich20/ZEM05/chr13/\n",
      "Shuffling phase of target...\n",
      "Successfully loaded Data from: ./Empirical/Eigenstrat/Freilich20/ZEM05/chr13/\n",
      "Loaded Emission Model: haploid\n",
      "Loaded Transition Model: model\n",
      "Loaded Post Processing Model: Standard\n",
      "Minimum Genetic Map: 0.0021\n",
      "Maximum Genetic Map: 1.2570\n",
      "Gaps bigger than 0.1 cM: 176\n",
      "Maximum Gap: 1.2216 cM\n",
      "Loaded Transition and Emission Matrix:\n",
      "(3, 3)\n",
      "(5009, 26917)\n",
      "Loaded Observations:\n",
      "(2, 26917)\n",
      "Memory Usage: 1422.483456 mB\n",
      "Reference Number: 5008\n",
      "Total Log likelihood: -7632.682\n",
      "Memory Usage: 1423.429632 mB\n",
      "Finished Calculation State Posteriors\n",
      "Saved Zero State Posterior to ./Empirical/Eigenstrat/Freilich20/ZEM05/chr13/.\n",
      "Successfully loaded for PP. from ./Empirical/Eigenstrat/Freilich20/ZEM05/chr13/\n",
      "Fraction Markers in ROH: 0.6337\n",
      "Merged n=0 gaps < 0 M\n",
      "Called n=8 ROH Blocks > 1.0 cM\n",
      "Longest Block: 37.762\n",
      "Successfully saved to ./Empirical/Eigenstrat/Freilich20/ZEM05/chr13/roh.csv\n",
      "Run finished successfully!\n"
     ]
    }
   ],
   "source": [
    "hapsb_ind(iid=\"ZEM05\", chs=range(13,14), processes=1, \n",
    "          path_targets = \"./Data/Freilich20/AncCroatia1240KallSNPs\",\n",
    "          base_out_folder=\"./Empirical/Eigenstrat/Freilich20/\",\n",
    "          e_model=\"haploid\", p_model=\"EigenstratUnpacked\", n_ref=2504,\n",
    "          destroy_phase=True, readcounts=False,\n",
    "          delete=False, logfile=False, combine=False)"
   ]
  },
  {
   "cell_type": "markdown",
   "metadata": {},
   "source": [
    "# Run all Individuals"
   ]
  },
  {
   "cell_type": "code",
   "execution_count": 2,
   "metadata": {},
   "outputs": [
    {
     "data": {
      "text/plain": [
       "28"
      ]
     },
     "execution_count": 2,
     "metadata": {},
     "output_type": "execute_result"
    }
   ],
   "source": [
    "meta_path=\"./Data/Freilich20/meta_processed.csv\"\n",
    "df = pd.read_csv(meta_path)\n",
    "df = df[df[\"n_cov_snp\"]>300000]\n",
    "len(df[\"iid\"])"
   ]
  },
  {
   "cell_type": "code",
   "execution_count": null,
   "metadata": {},
   "outputs": [],
   "source": [
    "for iid in df[\"iid\"].values[:]:\n",
    "    print(f\"Doing Individual: {iid}\")\n",
    "    hapsb_ind(iid=iid, chs=range(1,23), processes=8, \n",
    "              path_targets = \"./Data/Freilich20/AncCroatia1240KallSNPs\",\n",
    "              base_out_folder=\"./Empirical/Eigenstrat/Freilich20/\",\n",
    "              e_model=\"haploid\", p_model=\"EigenstratUnpacked\", n_ref=2504,\n",
    "              destroy_phase=True, readcounts=False,\n",
    "              delete=False, logfile=True, combine=True)"
   ]
  },
  {
   "cell_type": "markdown",
   "metadata": {},
   "source": [
    "# Postprocess Freilich20 Individuals into one .csv"
   ]
  },
  {
   "cell_type": "code",
   "execution_count": 2,
   "metadata": {},
   "outputs": [
    {
     "name": "stdout",
     "output_type": "stream",
     "text": [
      "28 Individuals with coverage >400000\n"
     ]
    },
    {
     "data": {
      "text/plain": [
       "28"
      ]
     },
     "execution_count": 2,
     "metadata": {},
     "output_type": "execute_result"
    }
   ],
   "source": [
    "meta_path=\"./Data/Freilich20/meta_processed.csv\"\n",
    "df_anno = pd.read_csv(meta_path)\n",
    "df_ana = df_anno[df_anno[\"n_cov_snp\"]>3e5]\n",
    "print(f\"{len(df_ana)} Individuals with coverage >{4e5:.0f}\")\n",
    "iids = df_ana[\"iid\"].values\n",
    "len(iids)"
   ]
  },
  {
   "cell_type": "code",
   "execution_count": 3,
   "metadata": {},
   "outputs": [
    {
     "name": "stdout",
     "output_type": "stream",
     "text": [
      "Loaded 28 / 28 Individuals from Meta\n",
      "Saved to: ./Empirical/Eigenstrat/Freilich20/combined_roh05.csv\n",
      "CPU times: user 14.5 s, sys: 21.2 ms, total: 14.6 s\n",
      "Wall time: 15.5 s\n"
     ]
    }
   ],
   "source": [
    "%%time\n",
    "df1 = pp_individual_roh(iids, meta_path=\"./Data/Freilich20/meta_processed.csv\", base_folder=\"./Empirical/Eigenstrat/Freilich20/\",\n",
    "                        save_path=\"./Empirical/Eigenstrat/Freilich20/combined_roh05.csv\", \n",
    "                        output=False, min_cm=[4,8,12,20], snp_cm=50, \n",
    "                        gap=0.5, min_len1=2.0, min_len2=4.0)"
   ]
  }
 ],
 "metadata": {
  "kernelspec": {
   "display_name": "Python 3",
   "language": "python",
   "name": "python3"
  },
  "language_info": {
   "codemirror_mode": {
    "name": "ipython",
    "version": 3
   },
   "file_extension": ".py",
   "mimetype": "text/x-python",
   "name": "python",
   "nbconvert_exporter": "python",
   "pygments_lexer": "ipython3",
   "version": "3.7.0"
  }
 },
 "nbformat": 4,
 "nbformat_minor": 2
}
