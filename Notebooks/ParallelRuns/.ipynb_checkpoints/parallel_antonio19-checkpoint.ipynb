{
 "cells": [
  {
   "cell_type": "markdown",
   "metadata": {},
   "source": [
    "# Notebook to call ROH for individuals of HDF5 from Antonio19\n",
    "Notebooks that import the code for the calling ROHs on pseudohaploid genotype individuals, and then a function to parallelize it.\n",
    "\n",
    "Very similar to parallel_mosaic_callroh.ipynb\n",
    "\n",
    "\n",
    "@Author: Harald Ringbauer, November 2019\n",
    "All rights reserved."
   ]
  },
  {
   "cell_type": "code",
   "execution_count": 1,
   "metadata": {},
   "outputs": [
    {
     "name": "stdout",
     "output_type": "stream",
     "text": [
      "midway2-0402.rcc.local\n",
      "Midway jnovmbre partition detected.\n",
      "/project2/jnovembre/hringbauer/HAPSBURG\n",
      "CPU Count: 28\n"
     ]
    }
   ],
   "source": [
    "import numpy as np\n",
    "import os as os\n",
    "import sys as sys\n",
    "import multiprocessing as mp\n",
    "import pandas as pd\n",
    "import socket\n",
    "\n",
    "### Pick the right path (whether on cluster or at home)\n",
    "socket_name = socket.gethostname()\n",
    "print(socket_name)\n",
    "if socket_name == \"VioletQueen\":\n",
    "    path = \"/home/harald/git/HAPSBURG/\"   # The Path on Harald's machine\n",
    "elif socket_name.startswith(\"midway2\"):\n",
    "    print(\"Midway jnovmbre partition detected.\")\n",
    "    path = \"/project2/jnovembre/hringbauer/HAPSBURG/\"  # The Path on Midway Cluster\n",
    "else: \n",
    "    raise RuntimeWarning(\"Not compatible machine. Check!!\")\n",
    "    \n",
    "os.chdir(path)  # Set the right Path (in line with Atom default)\n",
    "print(os.getcwd()) # Show the current working directory. Should be HAPSBURG/Notebooks/ParallelRuns\n",
    "print(f\"CPU Count: {mp.cpu_count()}\")\n",
    "\n",
    "# Assume that now we are in the root directory\n",
    "sys.path.append(\"./Python3/\")  \n",
    "sys.path.append(\"./PackagesSupport/parallel_runs/\")\n",
    "sys.path.append(\"./PackagesSupport/\")\n",
    "\n",
    "from hmm_inference import HMM_Analyze   # The HMM core object\n",
    "from helper_functions import prepare_path, multi_run, combine_individual_data\n",
    "from hapsburg_run import hapsb_chrom, hapsb_ind"
   ]
  },
  {
   "cell_type": "markdown",
   "metadata": {},
   "source": [
    "# Main Analysis.\n",
    "(In future import these functions)"
   ]
  },
  {
   "cell_type": "markdown",
   "metadata": {},
   "source": [
    "### Call ROH single Individual\n",
    "For reanalysis run with delete=False (saves all data) to plot that indivdual / further analysis of posterior"
   ]
  },
  {
   "cell_type": "code",
   "execution_count": 4,
   "metadata": {},
   "outputs": [
    {
     "name": "stdout",
     "output_type": "stream",
     "text": [
      "Doing Individual RMPR-1015...\n",
      "Running 22 jobs in parallel.\n",
      "Set Output Log path: ./Empirical/1240k/Antonio/RMPR-1015/chr1/hmm_run_log.txt\n",
      "Set Output Log path: ./Empirical/1240k/Antonio/RMPR-1015/chr7/hmm_run_log.txt\n",
      "Set Output Log path: ./Empirical/1240k/Antonio/RMPR-1015/chr3/hmm_run_log.txt\n",
      "Set Output Log path: ./Empirical/1240k/Antonio/RMPR-1015/chr5/hmm_run_log.txt\n",
      "Combining Information for 22 Chromosomes...\n",
      "Run finished successfully!\n"
     ]
    }
   ],
   "source": [
    "hapsb_ind(iid=\"RMPR-1015\", chs=range(1,23), processes=4, \n",
    "          h5_path_targets = \"./Data/Antonio/rmpr_unigeno_1240k.hdf5\",\n",
    "          base_out_folder=\"./Empirical/1240k/Antonio/\",\n",
    "          e_model=\"readcount\", p_model=\"MosaicHDF5\", n_ref=2504,\n",
    "          delete=False, logfile=True, combine=True)"
   ]
  },
  {
   "cell_type": "markdown",
   "metadata": {},
   "source": [
    "# Post-Process all Individuals >0.5x Coverage\n",
    "(run individuals via sbatch in Packages Support for Antonio Files\n",
    "\n",
    "Stand Alone (to be safe run imports from above)"
   ]
  },
  {
   "cell_type": "code",
   "execution_count": 2,
   "metadata": {},
   "outputs": [],
   "source": [
    "sys.path.append(\"./PackagesSupport/\")\n",
    "from pp_individual_roh_csvs import create_combined_ROH_df, give_iid_paths, pp_individual_roh"
   ]
  },
  {
   "cell_type": "code",
   "execution_count": 3,
   "metadata": {},
   "outputs": [
    {
     "name": "stdout",
     "output_type": "stream",
     "text": [
      "131 Individuas with coverage > 0.5\n"
     ]
    }
   ],
   "source": [
    "meta_path=\"./Data/Antonio/meta_processed.csv\"\n",
    "df_anno = pd.read_csv(meta_path)\n",
    "df_ana = df_anno[df_anno[\"mean_cov\"]>0.5]\n",
    "print(f\"{len(df_ana)} Individuals with coverage > {0.5}\")\n",
    "iids = df_ana[\"iid\"].values"
   ]
  },
  {
   "cell_type": "code",
   "execution_count": 4,
   "metadata": {},
   "outputs": [
    {
     "name": "stdout",
     "output_type": "stream",
     "text": [
      "Loaded 131 / 134 Individuals from Meta\n",
      "Warning, could not find 51 Paths:\n",
      "['./Empirical/1240k/Antonio/RMPR-11_roh_full.csv', './Empirical/1240k/Antonio/RMPR-7_roh_full.csv', './Empirical/1240k/Antonio/RMPR-15_roh_full.csv', './Empirical/1240k/Antonio/RMPR-2_roh_full.csv', './Empirical/1240k/Antonio/RMPR-3_roh_full.csv', './Empirical/1240k/Antonio/RMPR-10_roh_full.csv', './Empirical/1240k/Antonio/RMPR-9_roh_full.csv', './Empirical/1240k/Antonio/RMPR-4_roh_full.csv', './Empirical/1240k/Antonio/RMPR-5_roh_full.csv', './Empirical/1240k/Antonio/RMPR-1_roh_full.csv', './Empirical/1240k/Antonio/RMPR-473_roh_full.csv', './Empirical/1240k/Antonio/RMPR-474b_roh_full.csv', './Empirical/1240k/Antonio/RMPR-475b_roh_full.csv', './Empirical/1240k/Antonio/RMPR-437b_roh_full.csv', './Empirical/1240k/Antonio/RMPR-42_roh_full.csv', './Empirical/1240k/Antonio/RMPR-80_roh_full.csv', './Empirical/1240k/Antonio/RMPR-39_roh_full.csv', './Empirical/1240k/Antonio/RMPR-436_roh_full.csv', './Empirical/1240k/Antonio/RMPR-67_roh_full.csv', './Empirical/1240k/Antonio/RMPR-68_roh_full.csv', './Empirical/1240k/Antonio/RMPR-69_roh_full.csv', './Empirical/1240k/Antonio/RMPR-50_roh_full.csv', './Empirical/1240k/Antonio/RMPR-132_roh_full.csv', './Empirical/1240k/Antonio/RMPR-49_roh_full.csv', './Empirical/1240k/Antonio/RMPR-43_roh_full.csv', './Empirical/1240k/Antonio/RMPR-1545_roh_full.csv', './Empirical/1240k/Antonio/RMPR-130_roh_full.csv', './Empirical/1240k/Antonio/RMPR-133_roh_full.csv', './Empirical/1240k/Antonio/RMPR-134_roh_full.csv', './Empirical/1240k/Antonio/RMPR-136_roh_full.csv', './Empirical/1240k/Antonio/RMPR-137_roh_full.csv', './Empirical/1240k/Antonio/RMPR-31_roh_full.csv', './Empirical/1240k/Antonio/RMPR-36_roh_full.csv', './Empirical/1240k/Antonio/RMPR-107_roh_full.csv', './Empirical/1240k/Antonio/RMPR-30_roh_full.csv', './Empirical/1240k/Antonio/RMPR-33_roh_full.csv', './Empirical/1240k/Antonio/RMPR-122_roh_full.csv', './Empirical/1240k/Antonio/RMPR-60_roh_full.csv', './Empirical/1240k/Antonio/RMPR-59_roh_full.csv', './Empirical/1240k/Antonio/RMPR-63_roh_full.csv', './Empirical/1240k/Antonio/RMPR-58_roh_full.csv', './Empirical/1240k/Antonio/RMPR-57_roh_full.csv', './Empirical/1240k/Antonio/RMPR-65_roh_full.csv', './Empirical/1240k/Antonio/RMPR-64_roh_full.csv', './Empirical/1240k/Antonio/RMPR-62_roh_full.csv', './Empirical/1240k/Antonio/RMPR-55_roh_full.csv', './Empirical/1240k/Antonio/RMPR-61_roh_full.csv', './Empirical/1240k/Antonio/RMPR-1219_roh_full.csv', './Empirical/1240k/Antonio/RMPR-1221_roh_full.csv', './Empirical/1240k/Antonio/RMPR-1224_roh_full.csv', './Empirical/1240k/Antonio/RMPR-969_roh_full.csv']\n",
      "Saved to: ./Empirical/1240k/Antonio/combined_roh05.csv\n",
      "CPU times: user 20.5 s, sys: 5.27 ms, total: 20.5 s\n",
      "Wall time: 21 s\n"
     ]
    }
   ],
   "source": [
    "%%time\n",
    "df1 = pp_individual_roh(iids, meta_path=\"./Data/Antonio/meta_processed.csv\", base_folder=\"./Empirical/1240k/Antonio/\",\n",
    "                        save_path=\"./Empirical/1240k/Antonio/combined_roh05.csv\", output=False, min_cm=[4,8,12], snp_cm=50, gap=0.5)"
   ]
  },
  {
   "cell_type": "markdown",
   "metadata": {},
   "source": [
    "# Area 51"
   ]
  },
  {
   "cell_type": "code",
   "execution_count": 5,
   "metadata": {},
   "outputs": [],
   "source": [
    "df1 =pd.read_csv(\"./Empirical/1240k/Antonio/combined_roh05.csv\", sep=\"\\t\")"
   ]
  },
  {
   "cell_type": "markdown",
   "metadata": {},
   "source": [
    "### Create the .csv for the rerun"
   ]
  },
  {
   "cell_type": "code",
   "execution_count": 15,
   "metadata": {},
   "outputs": [
    {
     "name": "stdout",
     "output_type": "stream",
     "text": [
      "51\n"
     ]
    }
   ],
   "source": [
    "rerun = []\n",
    "\n",
    "for iid in iids:\n",
    "    if not os.path.exists(\"./Empirical/1240k/Antonio/\" + iid + \"_roh_full.csv\"):\n",
    "        rerun.append(iid)\n",
    "        \n",
    "print(len(rerun))\n",
    "df_rerun = pd.DataFrame({\"iid\":rerun})\n",
    "df_rerun.to_csv(\"./PackagesSupport/cluster_runs/Antonio_callROH/rerun.csv\", index=None, sep=\"\\t\")"
   ]
  }
 ],
 "metadata": {
  "kernelspec": {
   "display_name": "Python 3",
   "language": "python",
   "name": "python3"
  },
  "language_info": {
   "codemirror_mode": {
    "name": "ipython",
    "version": 3
   },
   "file_extension": ".py",
   "mimetype": "text/x-python",
   "name": "python",
   "nbconvert_exporter": "python",
   "pygments_lexer": "ipython3",
   "version": "3.7.0"
  }
 },
 "nbformat": 4,
 "nbformat_minor": 2
}
