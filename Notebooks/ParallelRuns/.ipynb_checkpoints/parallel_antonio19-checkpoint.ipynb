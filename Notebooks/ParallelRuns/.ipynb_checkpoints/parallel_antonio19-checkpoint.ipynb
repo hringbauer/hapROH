{
 "cells": [
  {
   "cell_type": "markdown",
   "metadata": {},
   "source": [
    "# Notebook to call ROH for individuals of HDF5 from Antonio19\n",
    "Notebooks that import the code for the calling ROHs on pseudohaploid genotype individuals, and then a function to parallelize it.\n",
    "\n",
    "Very similar to parallel_mosaic_callroh.ipynb\n",
    "\n",
    "\n",
    "@Author: Harald Ringbauer, November 2019\n",
    "All rights reserved."
   ]
  },
  {
   "cell_type": "code",
   "execution_count": 1,
   "metadata": {},
   "outputs": [
    {
     "name": "stdout",
     "output_type": "stream",
     "text": [
      "midway2-0401.rcc.local\n",
      "Midway jnovmbre partition detected.\n",
      "/project2/jnovembre/hringbauer/HAPSBURG\n",
      "CPU Count: 28\n"
     ]
    }
   ],
   "source": [
    "import numpy as np\n",
    "import os as os\n",
    "import sys as sys\n",
    "import multiprocessing as mp\n",
    "import pandas as pd\n",
    "import socket\n",
    "\n",
    "### Pick the right path (whether on cluster or at home)\n",
    "socket_name = socket.gethostname()\n",
    "print(socket_name)\n",
    "if socket_name == \"VioletQueen\":\n",
    "    path = \"/home/harald/git/HAPSBURG/\"   # The Path on Harald's machine\n",
    "elif socket_name.startswith(\"midway2\"):\n",
    "    print(\"Midway jnovmbre partition detected.\")\n",
    "    path = \"/project2/jnovembre/hringbauer/HAPSBURG/\"  # The Path on Midway Cluster\n",
    "else: \n",
    "    raise RuntimeWarning(\"Not compatible machine. Check!!\")\n",
    "    \n",
    "os.chdir(path)  # Set the right Path (in line with Atom default)\n",
    "print(os.getcwd()) # Show the current working directory. Should be HAPSBURG/Notebooks/ParallelRuns\n",
    "print(f\"CPU Count: {mp.cpu_count()}\")\n",
    "\n",
    "# Assume that now we are in the root directory\n",
    "sys.path.append(\"./Python3/\")  \n",
    "sys.path.append(\"./PackagesSupport/parallel_runs/\")\n",
    "sys.path.append(\"./PackagesSupport/\")\n",
    "\n",
    "from hmm_inference import HMM_Analyze   # The HMM core object\n",
    "from helper_functions import prepare_path, multi_run, combine_individual_data\n",
    "from hapsburg_run import hapsb_chrom, hapsb_ind"
   ]
  },
  {
   "cell_type": "markdown",
   "metadata": {},
   "source": [
    "# Main Analysis.\n",
    "(In future import these functions)"
   ]
  },
  {
   "cell_type": "markdown",
   "metadata": {},
   "source": [
    "### Call ROH single Individual\n",
    "For reanalysis run with delete=False (saves all data) to plot that indivdual / further analysis of posterior"
   ]
  },
  {
   "cell_type": "code",
   "execution_count": null,
   "metadata": {},
   "outputs": [
    {
     "name": "stdout",
     "output_type": "stream",
     "text": [
      "Doing Individual RMPR-11...\n",
      "Running 22 jobs in parallel.\n",
      "Set Output Log path: ./Empirical/1240k/Antonio/RMPR-11/chr1/hmm_run_log.txt\n"
     ]
    }
   ],
   "source": [
    "hapsb_ind(iid=\"RMPR-11\", chs=range(1,23), processes=1, \n",
    "          h5_path_targets = \"./Data/Antonio/rmpr_unigeno_1240k.hdf5\",\n",
    "          base_out_folder=\"./Empirical/1240k/Antonio/\",\n",
    "          e_model=\"readcount\", p_model=\"MosaicHDF5\", n_ref=2504,\n",
    "          delete=False, logfile=True, combine=True)"
   ]
  },
  {
   "cell_type": "markdown",
   "metadata": {},
   "source": [
    "# Post-Process all Individuals >0.5x Coverage\n",
    "(run individuals via sbatch in Packages Support for Antonio Files\n",
    "\n",
    "Stand Alone (to be safe run imports from above)"
   ]
  },
  {
   "cell_type": "code",
   "execution_count": 2,
   "metadata": {},
   "outputs": [],
   "source": [
    "sys.path.append(\"./PackagesSupport/\")\n",
    "from pp_individual_roh_csvs import create_combined_ROH_df, give_iid_paths, pp_individual_roh"
   ]
  },
  {
   "cell_type": "code",
   "execution_count": 4,
   "metadata": {},
   "outputs": [
    {
     "name": "stdout",
     "output_type": "stream",
     "text": [
      "131 Individuals with coverage > 0.5\n"
     ]
    }
   ],
   "source": [
    "meta_path=\"./Data/Antonio/meta_processed.csv\"\n",
    "df_anno = pd.read_csv(meta_path)\n",
    "df_ana = df_anno[df_anno[\"mean_cov\"]>0.5]\n",
    "print(f\"{len(df_ana)} Individuals with coverage > {0.5}\")\n",
    "iids = df_ana[\"iid\"].values"
   ]
  },
  {
   "cell_type": "code",
   "execution_count": 8,
   "metadata": {},
   "outputs": [
    {
     "name": "stdout",
     "output_type": "stream",
     "text": [
      "Loaded 131 / 134 Individuals from Meta\n",
      "Saved to: ./Empirical/1240k/Antonio/combined_roh05.csv\n",
      "CPU times: user 28.6 s, sys: 42.6 ms, total: 28.6 s\n",
      "Wall time: 29.2 s\n"
     ]
    }
   ],
   "source": [
    "%%time\n",
    "df1 = pp_individual_roh(iids, meta_path=\"./Data/Antonio/meta_processed.csv\", base_folder=\"./Empirical/1240k/Antonio/\",\n",
    "                        save_path=\"./Empirical/1240k/Antonio/combined_roh05.csv\", output=False, min_cm=[4,8,12], snp_cm=50, gap=0.5)"
   ]
  },
  {
   "cell_type": "markdown",
   "metadata": {},
   "source": [
    "### Create the .csv for a rerun in ./PackagesSupport/cluster_runs\n",
    "Only needed once to create .csv with missign Individuals"
   ]
  },
  {
   "cell_type": "code",
   "execution_count": null,
   "metadata": {},
   "outputs": [],
   "source": [
    "rerun = []\n",
    "\n",
    "for iid in iids:\n",
    "    if not os.path.exists(\"./Empirical/1240k/Antonio/\" + iid + \"_roh_full.csv\"):\n",
    "        rerun.append(iid)\n",
    "        \n",
    "print(len(rerun))\n",
    "df_rerun = pd.DataFrame({\"iid\":rerun})\n",
    "df_rerun.to_csv(\"./PackagesSupport/cluster_runs/Antonio_callROH/rerun.csv\", index=None, sep=\"\\t\")"
   ]
  },
  {
   "cell_type": "markdown",
   "metadata": {},
   "source": [
    "# Area 51"
   ]
  },
  {
   "cell_type": "code",
   "execution_count": 9,
   "metadata": {},
   "outputs": [],
   "source": [
    "df1 = pd.read_csv(\"./Empirical/1240k/Antonio/combined_roh05.csv\", sep=\"\\t\")"
   ]
  },
  {
   "cell_type": "markdown",
   "metadata": {},
   "source": [
    "### Do Olalde Individuals\n",
    "(Later move code over there, with above import box)"
   ]
  },
  {
   "cell_type": "code",
   "execution_count": 17,
   "metadata": {},
   "outputs": [
    {
     "name": "stdout",
     "output_type": "stream",
     "text": [
      "137 Individuals with coverage > 400000.0\n"
     ]
    }
   ],
   "source": [
    "meta_path=\"./Data/Olalde19/meta_processed.csv\"\n",
    "df_anno = pd.read_csv(meta_path)\n",
    "df_ana = df_anno[df_anno[\"n_cov_snp\"]>4e5]\n",
    "print(f\"{len(df_ana)} Individuals with coverage > {4e5}\")\n",
    "iids = df_ana[\"iid\"].values"
   ]
  },
  {
   "cell_type": "code",
   "execution_count": null,
   "metadata": {},
   "outputs": [
    {
     "name": "stdout",
     "output_type": "stream",
     "text": [
      "Loaded 137 / 403 Individuals from Meta\n",
      "Warning, could not find 70 Paths:\n",
      "['./Empirical/Eigenstrat/Olalde19/I10866_roh_full.csv', './Empirical/Eigenstrat/Olalde19/I8475_roh_full.csv', './Empirical/Eigenstrat/Olalde19/I12031_roh_full.csv', './Empirical/Eigenstrat/Olalde19/I12034_roh_full.csv', './Empirical/Eigenstrat/Olalde19/I12162_roh_full.csv', './Empirical/Eigenstrat/Olalde19/I12163_roh_full.csv', './Empirical/Eigenstrat/Olalde19/I10892_roh_full.csv', './Empirical/Eigenstrat/Olalde19/I10895_roh_full.csv', './Empirical/Eigenstrat/Olalde19/I3983_roh_full.csv', './Empirical/Eigenstrat/Olalde19/I3982_roh_full.csv', './Empirical/Eigenstrat/Olalde19/I3581_roh_full.csv', './Empirical/Eigenstrat/Olalde19/I3576_roh_full.csv', './Empirical/Eigenstrat/Olalde19/I3585_roh_full.csv', './Empirical/Eigenstrat/Olalde19/I3981_roh_full.csv', './Empirical/Eigenstrat/Olalde19/I7498_roh_full.csv', './Empirical/Eigenstrat/Olalde19/I7499_roh_full.csv', './Empirical/Eigenstrat/Olalde19/I7457_roh_full.csv', './Empirical/Eigenstrat/Olalde19/I7424_roh_full.csv', './Empirical/Eigenstrat/Olalde19/I3808_roh_full.csv', './Empirical/Eigenstrat/Olalde19/I7425_roh_full.csv', './Empirical/Eigenstrat/Olalde19/I12644_roh_full.csv', './Empirical/Eigenstrat/Olalde19/I12647_roh_full.csv', './Empirical/Eigenstrat/Olalde19/I12514_roh_full.csv', './Empirical/Eigenstrat/Olalde19/I12515_roh_full.csv', './Empirical/Eigenstrat/Olalde19/I12516_roh_full.csv', './Empirical/Eigenstrat/Olalde19/El Mirón_d_roh_full.csv', './Empirical/Eigenstrat/Olalde19/I0585_roh_full.csv', './Empirical/Eigenstrat/Olalde19/Chan.SG_roh_full.csv', './Empirical/Eigenstrat/Olalde19/Canes.SG_roh_full.csv', './Empirical/Eigenstrat/Olalde19/I0409_roh_full.csv', './Empirical/Eigenstrat/Olalde19/I0410_roh_full.csv', './Empirical/Eigenstrat/Olalde19/I0413_roh_full.csv', './Empirical/Eigenstrat/Olalde19/I0412_roh_full.csv', './Empirical/Eigenstrat/Olalde19/CB13.SG_roh_full.csv', './Empirical/Eigenstrat/Olalde19/mur.SG_roh_full.csv', './Empirical/Eigenstrat/Olalde19/I0407_roh_full.csv', './Empirical/Eigenstrat/Olalde19/I0406_roh_full.csv', './Empirical/Eigenstrat/Olalde19/I0408_roh_full.csv', './Empirical/Eigenstrat/Olalde19/DolmenAnsiao96B.SG_roh_full.csv', './Empirical/Eigenstrat/Olalde19/LugarCanto41.SG_roh_full.csv', './Empirical/Eigenstrat/Olalde19/LugarCanto44.SG_roh_full.csv', './Empirical/Eigenstrat/Olalde19/LugarCanto42.SG_roh_full.csv', './Empirical/Eigenstrat/Olalde19/I0459_roh_full.csv', './Empirical/Eigenstrat/Olalde19/I1303_roh_full.csv', './Empirical/Eigenstrat/Olalde19/I1277_roh_full.csv', './Empirical/Eigenstrat/Olalde19/I1272_roh_full.csv', './Empirical/Eigenstrat/Olalde19/I1281_roh_full.csv', './Empirical/Eigenstrat/Olalde19/I5838_roh_full.csv', './Empirical/Eigenstrat/Olalde19/I1300_roh_full.csv', './Empirical/Eigenstrat/Olalde19/I0581_roh_full.csv', './Empirical/Eigenstrat/Olalde19/I1843_roh_full.csv', './Empirical/Eigenstrat/Olalde19/I3276_roh_full.csv', './Empirical/Eigenstrat/Olalde19/I3269_roh_full.csv', './Empirical/Eigenstrat/Olalde19/I1838_roh_full.csv', './Empirical/Eigenstrat/Olalde19/I4229_roh_full.csv', './Empirical/Eigenstrat/Olalde19/por002.SG_roh_full.csv', './Empirical/Eigenstrat/Olalde19/atp016.SG_roh_full.csv', './Empirical/Eigenstrat/Olalde19/atp12-1420.SG_roh_full.csv', './Empirical/Eigenstrat/Olalde19/atp002.SG_roh_full.csv', './Empirical/Eigenstrat/Olalde19/CovaMoura364.SG_roh_full.csv', './Empirical/Eigenstrat/Olalde19/CovaMoura9B.SG_roh_full.csv', './Empirical/Eigenstrat/Olalde19/I0461_roh_full.csv', './Empirical/Eigenstrat/Olalde19/I6623_roh_full.csv', './Empirical/Eigenstrat/Olalde19/I6539_roh_full.csv', './Empirical/Eigenstrat/Olalde19/I5665_roh_full.csv', './Empirical/Eigenstrat/Olalde19/esp005.SG_roh_full.csv', './Empirical/Eigenstrat/Olalde19/ATP9.SG_roh_full.csv', './Empirical/Eigenstrat/Olalde19/MonteGato104.SG_roh_full.csv', './Empirical/Eigenstrat/Olalde19/TV32032extra.SG_roh_full.csv', './Empirical/Eigenstrat/Olalde19/TV3831.SG_roh_full.csv']\n"
     ]
    }
   ],
   "source": [
    "%%time\n",
    "df1 = pp_individual_roh(iids, meta_path=\"./Data/Olalde19/meta_processed.csv\", base_folder=\"./Empirical/Eigenstrat/Olalde19/\",\n",
    "                        save_path=\"./Empirical/Eigenstrat/Olalde19/combined_roh05.csv\", output=False, min_cm=[4,8,12], snp_cm=50, gap=0.5)"
   ]
  },
  {
   "cell_type": "code",
   "execution_count": null,
   "metadata": {},
   "outputs": [],
   "source": [
    "df1"
   ]
  },
  {
   "cell_type": "code",
   "execution_count": null,
   "metadata": {},
   "outputs": [],
   "source": []
  }
 ],
 "metadata": {
  "kernelspec": {
   "display_name": "Python 3",
   "language": "python",
   "name": "python3"
  },
  "language_info": {
   "codemirror_mode": {
    "name": "ipython",
    "version": 3
   },
   "file_extension": ".py",
   "mimetype": "text/x-python",
   "name": "python",
   "nbconvert_exporter": "python",
   "pygments_lexer": "ipython3",
   "version": "3.7.0"
  }
 },
 "nbformat": 4,
 "nbformat_minor": 2
}
