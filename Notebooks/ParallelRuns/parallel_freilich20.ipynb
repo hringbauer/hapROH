{
 "cells": [
  {
   "cell_type": "code",
   "execution_count": 3,
   "metadata": {},
   "outputs": [
    {
     "name": "stdout",
     "output_type": "stream",
     "text": [
      "midway2-0402.rcc.local\n",
      "Midway jnovmbre partition detected.\n",
      "/project2/jnovembre/hringbauer/HAPSBURG\n",
      "CPU Count: 28\n"
     ]
    }
   ],
   "source": [
    "import numpy as np\n",
    "import os as os\n",
    "import sys as sys\n",
    "import multiprocessing as mp\n",
    "import pandas as pd\n",
    "import socket\n",
    "\n",
    "### Pick the right path (whether on cluster or at home)\n",
    "socket_name = socket.gethostname()\n",
    "print(socket_name)\n",
    "if socket_name == \"VioletQueen\":\n",
    "    path = \"/home/harald/git/HAPSBURG/\"   # The Path on Harald's machine\n",
    "elif socket_name.startswith(\"midway2\"):\n",
    "    print(\"Midway jnovmbre partition detected.\")\n",
    "    path = \"/project2/jnovembre/hringbauer/HAPSBURG/\"  # The Path on Midway Cluster\n",
    "else: \n",
    "    raise RuntimeWarning(\"Not compatible machine. Check!!\")\n",
    "    \n",
    "os.chdir(path)  # Set the right Path (in line with Atom default)\n",
    "print(os.getcwd()) # Show the current working directory. Should be HAPSBURG/Notebooks/ParallelRuns\n",
    "print(f\"CPU Count: {mp.cpu_count()}\")\n",
    "\n",
    "### Assume that now we are in the root directory\n",
    "sys.path.append(\"./Python3/\")  \n",
    "sys.path.append(\"./PackagesSupport/parallel_runs/\")\n",
    "sys.path.append(\"./PackagesSupport/\")\n",
    "\n",
    "from hmm_inference import HMM_Analyze   # The HMM core object\n",
    "from helper_functions import prepare_path, multi_run, combine_individual_data\n",
    "from hapsburg_run import hapsb_chrom, hapsb_ind\n",
    "from pp_individual_roh_csvs import create_combined_ROH_df, give_iid_paths, pp_individual_roh"
   ]
  },
  {
   "cell_type": "markdown",
   "metadata": {},
   "source": [
    "### Test single Individual"
   ]
  },
  {
   "cell_type": "code",
   "execution_count": null,
   "metadata": {},
   "outputs": [],
   "source": [
    "hapsb_ind(iid=\"El Mirón_d\", chs=range(1,23), processes=1, \n",
    "          path_targets = \"./Data/Freilich20/AncCroatia1240KallSNPs\",\n",
    "          base_out_folder=\"./Empirical/Eigenstrat/Freilich20/\",\n",
    "          e_model=\"haploid\", p_model=\"EigenstratUnpacked\", n_ref=2504,\n",
    "          destroy_phase=True, readcounts=False,\n",
    "          delete=False, logfile=False, combine=True)"
   ]
  },
  {
   "cell_type": "markdown",
   "metadata": {},
   "source": [
    "# Run all Individuals"
   ]
  },
  {
   "cell_type": "code",
   "execution_count": 5,
   "metadata": {},
   "outputs": [
    {
     "data": {
      "text/plain": [
       "28"
      ]
     },
     "execution_count": 5,
     "metadata": {},
     "output_type": "execute_result"
    }
   ],
   "source": [
    "meta_path=\"./Data/Freilich20/meta_processed.csv\"\n",
    "df = pd.read_csv(meta_path)\n",
    "df = df[df[\"n_cov_snp\"]>300000]\n",
    "len(df[\"iid\"])"
   ]
  },
  {
   "cell_type": "code",
   "execution_count": null,
   "metadata": {},
   "outputs": [
    {
     "name": "stdout",
     "output_type": "stream",
     "text": [
      "Doing Individual: ZEM02\n",
      "Doing Individual ZEM02...\n",
      "Running 22 total jobs; 8 in parallel.\n",
      "Set Output Log path: ./Empirical/Eigenstrat/Freilich20/ZEM02/chr1/hmm_run_log.txt\n",
      "Set Output Log path: ./Empirical/Eigenstrat/Freilich20/ZEM02/chr2/hmm_run_log.txt\n",
      "Set Output Log path: ./Empirical/Eigenstrat/Freilich20/ZEM02/chr3/hmm_run_log.txt\n",
      "Set Output Log path: ./Empirical/Eigenstrat/Freilich20/ZEM02/chr5/hmm_run_log.txt\n",
      "Set Output Log path: ./Empirical/Eigenstrat/Freilich20/ZEM02/chr6/hmm_run_log.txt\n",
      "Set Output Log path: ./Empirical/Eigenstrat/Freilich20/ZEM02/chr7/hmm_run_log.txt\n",
      "Set Output Log path: ./Empirical/Eigenstrat/Freilich20/ZEM02/chr8/hmm_run_log.txt\n",
      "Set Output Log path: ./Empirical/Eigenstrat/Freilich20/ZEM02/chr4/hmm_run_log.txt\n",
      "Combining Information for 22 Chromosomes...\n",
      "Run finished successfully!\n",
      "Doing Individual: ZEM04\n",
      "Doing Individual ZEM04...\n",
      "Running 22 total jobs; 8 in parallel.\n",
      "Set Output Log path: ./Empirical/Eigenstrat/Freilich20/ZEM04/chr1/hmm_run_log.txt\n",
      "Set Output Log path: ./Empirical/Eigenstrat/Freilich20/ZEM04/chr5/hmm_run_log.txt\n",
      "Set Output Log path: ./Empirical/Eigenstrat/Freilich20/ZEM04/chr2/hmm_run_log.txt\n",
      "Set Output Log path: ./Empirical/Eigenstrat/Freilich20/ZEM04/chr4/hmm_run_log.txt\n",
      "Set Output Log path: ./Empirical/Eigenstrat/Freilich20/ZEM04/chr3/hmm_run_log.txt\n",
      "Set Output Log path: ./Empirical/Eigenstrat/Freilich20/ZEM04/chr7/hmm_run_log.txt\n",
      "Set Output Log path: ./Empirical/Eigenstrat/Freilich20/ZEM04/chr8/hmm_run_log.txt\n",
      "Set Output Log path: ./Empirical/Eigenstrat/Freilich20/ZEM04/chr6/hmm_run_log.txt\n",
      "Combining Information for 22 Chromosomes...\n",
      "Run finished successfully!\n",
      "Doing Individual: ZEM05\n",
      "Doing Individual ZEM05...\n",
      "Running 22 total jobs; 8 in parallel.\n",
      "Set Output Log path: ./Empirical/Eigenstrat/Freilich20/ZEM05/chr1/hmm_run_log.txt\n",
      "Set Output Log path: ./Empirical/Eigenstrat/Freilich20/ZEM05/chr2/hmm_run_log.txt\n",
      "Set Output Log path: ./Empirical/Eigenstrat/Freilich20/ZEM05/chr3/hmm_run_log.txt\n",
      "Set Output Log path: ./Empirical/Eigenstrat/Freilich20/ZEM05/chr5/hmm_run_log.txt\n",
      "Set Output Log path: ./Empirical/Eigenstrat/Freilich20/ZEM05/chr6/hmm_run_log.txt\n",
      "Set Output Log path: ./Empirical/Eigenstrat/Freilich20/ZEM05/chr7/hmm_run_log.txt\n",
      "Set Output Log path: ./Empirical/Eigenstrat/Freilich20/ZEM05/chr8/hmm_run_log.txt\n",
      "Set Output Log path: ./Empirical/Eigenstrat/Freilich20/ZEM05/chr4/hmm_run_log.txt\n",
      "Combining Information for 22 Chromosomes...\n",
      "Run finished successfully!\n",
      "Doing Individual: ZEM06\n",
      "Doing Individual ZEM06...\n",
      "Running 22 total jobs; 8 in parallel.\n",
      "Set Output Log path: ./Empirical/Eigenstrat/Freilich20/ZEM06/chr1/hmm_run_log.txt\n",
      "Set Output Log path: ./Empirical/Eigenstrat/Freilich20/ZEM06/chr2/hmm_run_log.txt\n",
      "Set Output Log path: ./Empirical/Eigenstrat/Freilich20/ZEM06/chr3/hmm_run_log.txt\n",
      "Set Output Log path: ./Empirical/Eigenstrat/Freilich20/ZEM06/chr4/hmm_run_log.txt\n",
      "Set Output Log path: ./Empirical/Eigenstrat/Freilich20/ZEM06/chr5/hmm_run_log.txt\n",
      "Set Output Log path: ./Empirical/Eigenstrat/Freilich20/ZEM06/chr6/hmm_run_log.txt\n",
      "Set Output Log path: ./Empirical/Eigenstrat/Freilich20/ZEM06/chr7/hmm_run_log.txt\n",
      "Set Output Log path: ./Empirical/Eigenstrat/Freilich20/ZEM06/chr8/hmm_run_log.txt\n",
      "Combining Information for 22 Chromosomes...\n",
      "Run finished successfully!\n",
      "Doing Individual: ZEM07\n",
      "Doing Individual ZEM07...\n",
      "Running 22 total jobs; 8 in parallel.\n",
      "Set Output Log path: ./Empirical/Eigenstrat/Freilich20/ZEM07/chr8/hmm_run_log.txt\n",
      "Set Output Log path: ./Empirical/Eigenstrat/Freilich20/ZEM07/chr1/hmm_run_log.txt\n",
      "Set Output Log path: ./Empirical/Eigenstrat/Freilich20/ZEM07/chr4/hmm_run_log.txt\n",
      "Set Output Log path: ./Empirical/Eigenstrat/Freilich20/ZEM07/chr2/hmm_run_log.txt\n",
      "Set Output Log path: ./Empirical/Eigenstrat/Freilich20/ZEM07/chr3/hmm_run_log.txt\n",
      "Set Output Log path: ./Empirical/Eigenstrat/Freilich20/ZEM07/chr7/hmm_run_log.txt\n",
      "Set Output Log path: ./Empirical/Eigenstrat/Freilich20/ZEM07/chr5/hmm_run_log.txt\n",
      "Set Output Log path: ./Empirical/Eigenstrat/Freilich20/ZEM07/chr6/hmm_run_log.txt\n",
      "Combining Information for 22 Chromosomes...\n",
      "Run finished successfully!\n",
      "Doing Individual: ZEM08\n",
      "Doing Individual ZEM08...\n",
      "Running 22 total jobs; 8 in parallel.\n",
      "Set Output Log path: ./Empirical/Eigenstrat/Freilich20/ZEM08/chr1/hmm_run_log.txt\n",
      "Set Output Log path: ./Empirical/Eigenstrat/Freilich20/ZEM08/chr5/hmm_run_log.txt\n",
      "Set Output Log path: ./Empirical/Eigenstrat/Freilich20/ZEM08/chr4/hmm_run_log.txt\n",
      "Set Output Log path: ./Empirical/Eigenstrat/Freilich20/ZEM08/chr3/hmm_run_log.txt\n",
      "Set Output Log path: ./Empirical/Eigenstrat/Freilich20/ZEM08/chr2/hmm_run_log.txt\n",
      "Set Output Log path: ./Empirical/Eigenstrat/Freilich20/ZEM08/chr6/hmm_run_log.txt\n",
      "Set Output Log path: ./Empirical/Eigenstrat/Freilich20/ZEM08/chr7/hmm_run_log.txt\n",
      "Set Output Log path: ./Empirical/Eigenstrat/Freilich20/ZEM08/chr8/hmm_run_log.txt\n",
      "Combining Information for 22 Chromosomes...\n",
      "Run finished successfully!\n",
      "Doing Individual: ZEM09\n",
      "Doing Individual ZEM09...\n",
      "Running 22 total jobs; 8 in parallel.\n",
      "Set Output Log path: ./Empirical/Eigenstrat/Freilich20/ZEM09/chr1/hmm_run_log.txt\n",
      "Set Output Log path: ./Empirical/Eigenstrat/Freilich20/ZEM09/chr4/hmm_run_log.txt\n",
      "Set Output Log path: ./Empirical/Eigenstrat/Freilich20/ZEM09/chr2/hmm_run_log.txt\n",
      "Set Output Log path: ./Empirical/Eigenstrat/Freilich20/ZEM09/chr3/hmm_run_log.txt\n",
      "Set Output Log path: ./Empirical/Eigenstrat/Freilich20/ZEM09/chr5/hmm_run_log.txt\n",
      "Set Output Log path: ./Empirical/Eigenstrat/Freilich20/ZEM09/chr7/hmm_run_log.txt\n",
      "Set Output Log path: ./Empirical/Eigenstrat/Freilich20/ZEM09/chr6/hmm_run_log.txt\n",
      "Set Output Log path: ./Empirical/Eigenstrat/Freilich20/ZEM09/chr8/hmm_run_log.txt\n",
      "Combining Information for 22 Chromosomes...\n",
      "Run finished successfully!\n",
      "Doing Individual: ZEM11\n",
      "Doing Individual ZEM11...\n",
      "Running 22 total jobs; 8 in parallel.\n",
      "Set Output Log path: ./Empirical/Eigenstrat/Freilich20/ZEM11/chr1/hmm_run_log.txt\n",
      "Set Output Log path: ./Empirical/Eigenstrat/Freilich20/ZEM11/chr5/hmm_run_log.txt\n",
      "Set Output Log path: ./Empirical/Eigenstrat/Freilich20/ZEM11/chr2/hmm_run_log.txt\n",
      "Set Output Log path: ./Empirical/Eigenstrat/Freilich20/ZEM11/chr3/hmm_run_log.txt\n",
      "Set Output Log path: ./Empirical/Eigenstrat/Freilich20/ZEM11/chr6/hmm_run_log.txt\n",
      "Set Output Log path: ./Empirical/Eigenstrat/Freilich20/ZEM11/chr7/hmm_run_log.txt\n",
      "Set Output Log path: ./Empirical/Eigenstrat/Freilich20/ZEM11/chr4/hmm_run_log.txt\n",
      "Set Output Log path: ./Empirical/Eigenstrat/Freilich20/ZEM11/chr8/hmm_run_log.txt\n",
      "Combining Information for 22 Chromosomes...\n",
      "Run finished successfully!\n",
      "Doing Individual: ZEM12\n",
      "Doing Individual ZEM12...\n",
      "Running 22 total jobs; 8 in parallel.\n",
      "Set Output Log path: ./Empirical/Eigenstrat/Freilich20/ZEM12/chr4/hmm_run_log.txt\n",
      "Set Output Log path: ./Empirical/Eigenstrat/Freilich20/ZEM12/chr5/hmm_run_log.txt\n",
      "Set Output Log path: ./Empirical/Eigenstrat/Freilich20/ZEM12/chr2/hmm_run_log.txt\n",
      "Set Output Log path: ./Empirical/Eigenstrat/Freilich20/ZEM12/chr1/hmm_run_log.txt\n",
      "Set Output Log path: ./Empirical/Eigenstrat/Freilich20/ZEM12/chr3/hmm_run_log.txt\n",
      "Set Output Log path: ./Empirical/Eigenstrat/Freilich20/ZEM12/chr6/hmm_run_log.txt\n",
      "Set Output Log path: ./Empirical/Eigenstrat/Freilich20/ZEM12/chr7/hmm_run_log.txt\n",
      "Set Output Log path: ./Empirical/Eigenstrat/Freilich20/ZEM12/chr8/hmm_run_log.txt\n",
      "Combining Information for 22 Chromosomes...\n",
      "Run finished successfully!\n",
      "Doing Individual: ZEM13\n",
      "Doing Individual ZEM13...\n",
      "Running 22 total jobs; 8 in parallel.\n",
      "Set Output Log path: ./Empirical/Eigenstrat/Freilich20/ZEM13/chr1/hmm_run_log.txt\n",
      "Set Output Log path: ./Empirical/Eigenstrat/Freilich20/ZEM13/chr3/hmm_run_log.txt\n",
      "Set Output Log path: ./Empirical/Eigenstrat/Freilich20/ZEM13/chr2/hmm_run_log.txt\n",
      "Set Output Log path: ./Empirical/Eigenstrat/Freilich20/ZEM13/chr4/hmm_run_log.txt\n",
      "Set Output Log path: ./Empirical/Eigenstrat/Freilich20/ZEM13/chr5/hmm_run_log.txt\n",
      "Set Output Log path: ./Empirical/Eigenstrat/Freilich20/ZEM13/chr6/hmm_run_log.txt\n",
      "Set Output Log path: ./Empirical/Eigenstrat/Freilich20/ZEM13/chr7/hmm_run_log.txt\n",
      "Set Output Log path: ./Empirical/Eigenstrat/Freilich20/ZEM13/chr8/hmm_run_log.txt\n"
     ]
    }
   ],
   "source": [
    "for iid in df[\"iid\"].values[:]:\n",
    "    print(f\"Doing Individual: {iid}\")\n",
    "    hapsb_ind(iid=iid, chs=range(1,23), processes=8, \n",
    "              path_targets = \"./Data/Freilich20/AncCroatia1240KallSNPs\",\n",
    "              base_out_folder=\"./Empirical/Eigenstrat/Freilich20/\",\n",
    "              e_model=\"haploid\", p_model=\"EigenstratUnpacked\", n_ref=2504,\n",
    "              destroy_phase=True, readcounts=False,\n",
    "              delete=False, logfile=True, combine=True)"
   ]
  },
  {
   "cell_type": "code",
   "execution_count": null,
   "metadata": {},
   "outputs": [],
   "source": []
  }
 ],
 "metadata": {
  "kernelspec": {
   "display_name": "Python 3",
   "language": "python",
   "name": "python3"
  },
  "language_info": {
   "codemirror_mode": {
    "name": "ipython",
    "version": 3
   },
   "file_extension": ".py",
   "mimetype": "text/x-python",
   "name": "python",
   "nbconvert_exporter": "python",
   "pygments_lexer": "ipython3",
   "version": "3.7.0"
  }
 },
 "nbformat": 4,
 "nbformat_minor": 2
}
