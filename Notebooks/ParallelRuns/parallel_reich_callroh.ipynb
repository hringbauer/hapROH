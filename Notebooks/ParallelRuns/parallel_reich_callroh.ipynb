{
 "cells": [
  {
   "cell_type": "markdown",
   "metadata": {},
   "source": [
    "# Notebook to call ROH for individuals within a Eigenstrat folder\n",
    "Notebooks that import the code for the calling ROHs on pseudohaploid genotype individuals, and then a function to parallelize it.\n",
    "\n",
    "Very similar to parallel_mosaic_callroh.ipynb\n",
    "\n",
    "\n",
    "@Author: Harald Ringbauer, September 2019\n",
    "All rights reserved."
   ]
  },
  {
   "cell_type": "code",
   "execution_count": 2,
   "metadata": {},
   "outputs": [
    {
     "name": "stdout",
     "output_type": "stream",
     "text": [
      "midway2-0401.rcc.local\n",
      "Midway jnovmbre partition detected.\n",
      "/project2/jnovembre/hringbauer/HAPSBURG\n",
      "CPU Count: 28\n"
     ]
    }
   ],
   "source": [
    "import numpy as np\n",
    "import os as os\n",
    "import sys as sys\n",
    "import multiprocessing as mp\n",
    "import pandas as pd\n",
    "import socket\n",
    "\n",
    "### Pick the right path (whether on cluster or at home)\n",
    "socket_name = socket.gethostname()\n",
    "print(socket_name)\n",
    "if socket_name == \"VioletQueen\":\n",
    "    path = \"/home/harald/git/HAPSBURG/\"   # The Path on Harald's machine\n",
    "elif socket_name.startswith(\"midway2\"):\n",
    "    print(\"Midway jnovmbre partition detected.\")\n",
    "    path = \"/project2/jnovembre/hringbauer/HAPSBURG/\"  # The Path on Midway Cluster\n",
    "else: \n",
    "    raise RuntimeWarning(\"Not compatible machine. Check!!\")\n",
    "    \n",
    "os.chdir(path)  # Set the right Path (in line with Atom default)\n",
    "\n",
    "# Assume that now we are in the root directory\n",
    "sys.path.append(\"./package/hapsburg/\")  \n",
    "\n",
    "from hmm_inference import HMM_Analyze   # The HMM core object\n",
    "from PackagesSupport.parallel_runs.helper_functions import prepare_path, multi_run, combine_individual_data\n",
    "#from PackagesSupport.hapsburg_run import hapsb_chrom, hapsb_ind\n",
    "from PackagesSupport.pp_individual_roh_csvs import create_combined_ROH_df, give_iid_paths, pp_individual_roh\n",
    "\n",
    "print(os.getcwd()) # Show the current working directory. Should be HAPSBURG/Notebooks/ParallelRuns\n",
    "print(f\"CPU Count: {mp.cpu_count()}\")"
   ]
  },
  {
   "cell_type": "markdown",
   "metadata": {},
   "source": [
    "### TODO:\n",
    "Use the defined (refactored) function for runs of Eigenstrats"
   ]
  },
  {
   "cell_type": "code",
   "execution_count": 18,
   "metadata": {},
   "outputs": [],
   "source": [
    "def analyze_chromosome_es(iid, ch=3, n_ref=503, save=True, save_fp=False, exclude_pops=[], \n",
    "                          base_out_folder=\"./Empirical/Eigenstrat/Reichall/test/\", prefix_out=\"\",\n",
    "                          roh_in=100, roh_out=100, roh_jump=300, e_rate=0.01, e_rate_ref=0.001, \n",
    "                          max_gap=0, logfile=True):\n",
    "    \"\"\"Run the analysis for one individual and chromosome on eigenstrat data\n",
    "    Wrapper for HMM Class. Takes 13 Parameters\"\"\"\n",
    "    \n",
    "    ### The folder on what to run the Data on (PERMANENTLY set here to fixed loaction)\n",
    "    ## What Eigenstrat File to run on:\n",
    "    es_target_path=\"./Data/ReichLabEigenstrat/Raw/v37.2.1240K\"\n",
    "    \n",
    "    ## Reference Files:\n",
    "    h5_path1000g = \"./Data/1000Genomes/HDF5/1240kHDF5/all1240/chr\" \n",
    "    meta_path_ref = \"./Data/1000Genomes/Individuals/meta_df_all.csv\"\n",
    "    \n",
    "    ### Create Folder if needed, and pipe output if wanted\n",
    "    path_out = prepare_path(base_out_folder, iid, ch, prefix_out, logfile=logfile)\n",
    "    \n",
    "    hmm = HMM_Analyze(cython=2, p_model=\"Eigenstrat\", e_model=\"haploid\", post_model=\"Standard\",\n",
    "                      manual_load=True, save=save, save_fp=save_fp)\n",
    "\n",
    "    ### Load and prepare the pre-processing Model\n",
    "    hmm.load_preprocessing_model()              # Load the preprocessing Model\n",
    "    hmm.p_obj.set_params(es_target_path=es_target_path, readcounts = False, destroy_phase=True,\n",
    "                base_out_folder=base_out_folder, prefix_out_data=prefix_out, excluded=exclude_pops)   \n",
    "    \n",
    "    ### Set to run with full 1000G reference. DELETE when run for with European Reference!!\n",
    "    hmm.p_obj.set_params(h5_path1000g = h5_path1000g, meta_path_ref = meta_path_ref)\n",
    "    \n",
    "    hmm.load_data(iid=iid, ch=ch, n_ref=n_ref)  # Load the actual Data\n",
    "    hmm.load_secondary_objects()\n",
    "\n",
    "    ### Set the Parameters\n",
    "    hmm.e_obj.set_params(e_rate = e_rate, e_rate_ref = e_rate_ref)\n",
    "    hmm.t_obj.set_params(roh_in=roh_in, roh_out=roh_out, roh_jump=roh_jump)\n",
    "    hmm.post_obj.set_params(max_gap=max_gap)\n",
    "    \n",
    "    #hmm.calc_viterbi_path(save=save)           # Calculate the Viterbi Path.\n",
    "    hmm.calc_posterior(save=save)              # Calculate the Posterior.\n",
    "    hmm.post_processing(save=save)             # Do the Post-Processing.\n",
    "                         \n",
    "#########################################################\n",
    "def analyze_individual_es(iid, chs=range(1,23), n_ref=2504, save=True, save_fp=False, \n",
    "                          exclude_pops=[], base_out_folder=\"./Empirical/Eigenstrat/Reichall/\", \n",
    "                          prefix_out=\"\", roh_in=100, roh_out=100, roh_jump=300, e_rate=0.01, \n",
    "                          e_rate_ref=0.01, max_gap=0, logfile=True, output=True, processes=5, delete=True):\n",
    "    \"\"\"Analyze a full single individual in a parallelized fasion. Run all Chromosome analyses in parallel\n",
    "    Wrapper for analyze_chromosome_gt.\n",
    "    logfile: Whether to use a logfile\n",
    "    output: Whether to print general Output\"\"\"\n",
    "                            \n",
    "    if output == True:\n",
    "        print(f\"Doing Individual {iid}...\")\n",
    "    \n",
    "    ### Prepare the Parameters for that Indivdiual\n",
    "    prms = [[iid, ch, n_ref, save, save_fp, exclude_pops, base_out_folder, prefix_out,\n",
    "         roh_in, roh_out, roh_jump, e_rate, e_rate_ref, max_gap, logfile] for ch in chs] \n",
    "                            \n",
    "    ### Run the analysis in parallel\n",
    "    #multi_run(analyze_chromosome_es, prms, processes = processes)\n",
    "                            \n",
    "    ### Merge results for that Individual\n",
    "    combine_individual_data(base_out_folder, iid=iid, delete=delete, chs=chs)                  \n",
    "    return #prms"
   ]
  },
  {
   "cell_type": "markdown",
   "metadata": {},
   "source": [
    "## Call ROH single Individual\n",
    "For reanalysis with delete=True (saves all data) to plot that indivdual / further analysis of posterior"
   ]
  },
  {
   "cell_type": "code",
   "execution_count": 19,
   "metadata": {},
   "outputs": [
    {
     "name": "stdout",
     "output_type": "stream",
     "text": [
      "Doing Individual IPY10.SG...\n",
      "CPU times: user 29.9 ms, sys: 2.05 ms, total: 31.9 ms\n",
      "Wall time: 35.3 ms\n"
     ]
    }
   ],
   "source": [
    "%%time\n",
    "prms = analyze_individual_es(iid=\"IPY10.SG\", chs=range(1,11), processes=5, delete=False, logfile=False, n_ref=2504) #Goyet_final.SG"
   ]
  },
  {
   "cell_type": "code",
   "execution_count": 17,
   "metadata": {},
   "outputs": [
    {
     "name": "stdout",
     "output_type": "stream",
     "text": [
      "Using Low-Mem Cython Linear Speed Up.\n",
      "Loaded Pre Processing Model: Eigenstrat\n",
      "Loading Individual: IPY10.SG\n",
      "\n",
      "Loaded 77652 variants\n",
      "Loaded 2504 individuals\n",
      "HDF5 loaded from ./Data/1000Genomes/HDF5/1240kHDF5/all1240/chr3.hdf5\n",
      "3 Eigenstrat Files with 5081 Individuals and 1233013 SNPs\n",
      "\n",
      "Intersection on Positions: 77652\n",
      "Nr of Matching Refs: 77652 / 77652\n",
      "Full Intersection Ref/Alt Identical: 77601 / 77652\n",
      "2504 / 2504 Individuals included in Reference\n",
      "Extraction of 5008 Haplotypes complete\n",
      "Reduced to markers called 77289 / 77601\n",
      "(Fraction SNP: 0.9959794332547262)\n",
      "Successfully saved to: ./Empirical/Eigenstrat/Reichall/IPY10.SG/chr3/\n",
      "Shuffling phase of target...\n",
      "Successfully loaded Data from: ./Empirical/Eigenstrat/Reichall/IPY10.SG/chr3/\n",
      "Loaded Emission Model: haploid\n",
      "Loaded Transition Model: model\n",
      "Loaded Post Processing Model: Standard\n",
      "Minimum Genetic Map: 0.0000\n",
      "Maximum Genetic Map: 2.2326\n",
      "Gaps bigger than 0.1 cM: 214\n",
      "Maximum Gap: 0.2409 cM\n",
      "Loaded Transition and Emission Matrix:\n",
      "(3, 3)\n",
      "(5009, 77289)\n",
      "Loaded Observations:\n",
      "(2, 77289)\n",
      "Memory Usage: 3758.206976 mB\n",
      "Reference Number: 5008\n",
      "Total Log likelihood: -20083.239\n",
      "Memory Usage: 3758.206976 mB\n",
      "Finished Calculation State Posteriors\n",
      "Saved Zero State Posterior to ./Empirical/Eigenstrat/Reichall/IPY10.SG/chr3/.\n",
      "Successfully loaded for PP. from ./Empirical/Eigenstrat/Reichall/IPY10.SG/chr3/\n",
      "Fraction Markers in ROH: 0.6063\n",
      "Merged n=0 gaps < 0 M\n",
      "Called n=29 ROH Blocks > 1.0 cM\n",
      "Longest Block: 10.839\n",
      "Successfully saved to ./Empirical/Eigenstrat/Reichall/IPY10.SG/chr3/roh.csv\n"
     ]
    }
   ],
   "source": [
    "analyze_chromosome_es(*prms[2])"
   ]
  },
  {
   "cell_type": "markdown",
   "metadata": {},
   "source": [
    "# Post-Process the individual output files into one summary .csv\n",
    "(Standalone from here - but **need imports** from above)"
   ]
  },
  {
   "cell_type": "markdown",
   "metadata": {},
   "source": [
    "### Decide which IIDs to post-process"
   ]
  },
  {
   "cell_type": "code",
   "execution_count": 4,
   "metadata": {},
   "outputs": [
    {
     "name": "stdout",
     "output_type": "stream",
     "text": [
      "1099\n",
      "Loaded 1098 Individuals\n"
     ]
    }
   ],
   "source": [
    "meta_path=\"./Data/ReichLabEigenstrat/Raw/meta.csv\"\n",
    "df_anno = pd.read_csv(meta_path)\n",
    "df_ana = df_anno[df_anno[\"mean_cov\"]>0.5]\n",
    "print(len(df_ana))\n",
    "df_ana = df_ana[:]  # how many individuals to extract\n",
    "iids = df_ana[\"iid\"].values\n",
    "\n",
    "### Delete IPY10.SG (missing data for Chr.11-23)\n",
    "d = np.where(iids==\"IPY10.SG\")[0][0]\n",
    "iids = np.delete(iids, d)\n",
    "print(f\"Loaded {len(iids)} Individuals\")"
   ]
  },
  {
   "cell_type": "code",
   "execution_count": 5,
   "metadata": {},
   "outputs": [
    {
     "name": "stdout",
     "output_type": "stream",
     "text": [
      "Loaded 1098 / 2106 Individuals from Meta\n",
      "Saved to: ./Empirical/Eigenstrat/Reichall/combined_roh05.csv\n",
      "CPU times: user 12min 30s, sys: 550 ms, total: 12min 31s\n",
      "Wall time: 13min 6s\n"
     ]
    }
   ],
   "source": [
    "%%time\n",
    "df1 = pp_individual_roh(iids, meta_path=\"./Data/ReichLabEigenstrat/Raw/meta.csv\", base_folder=\"./Empirical/Eigenstrat/Reichall/\",\n",
    "                        save_path=\"./Empirical/Eigenstrat/Reichall/combined_roh05.csv\", output=False, min_cm=[4,8,12,20], \n",
    "                        snp_cm=50, gap=0.5, min_len1=2, min_len2=4)"
   ]
  },
  {
   "cell_type": "markdown",
   "metadata": {},
   "source": [
    "### Legacy (delted now): Create list of IIDs that did not work\n",
    "Some individuals failed in the first run due to OOM. They were colleced\n",
    "and run again."
   ]
  },
  {
   "cell_type": "markdown",
   "metadata": {},
   "source": [
    "## Postprocess only Iosifs Individuals"
   ]
  },
  {
   "cell_type": "code",
   "execution_count": 13,
   "metadata": {},
   "outputs": [
    {
     "name": "stdout",
     "output_type": "stream",
     "text": [
      "11\n"
     ]
    }
   ],
   "source": [
    "meta_path=\"./Data/ReichLabEigenstrat/Raw/meta.csv\"\n",
    "df_anno = pd.read_csv(meta_path)\n",
    "df_ana = df_anno[df_anno[\"mean_cov\"]>0.5]\n",
    "df_ana = df_ana[df_ana[\"study\"]==\"LazaridisNature2017\"]\n",
    "print(len(df_ana))\n",
    "df_ana = df_ana[:]  # how many individuals to extract\n",
    "iids = df_ana[\"iid\"].values"
   ]
  },
  {
   "cell_type": "code",
   "execution_count": 16,
   "metadata": {},
   "outputs": [
    {
     "name": "stdout",
     "output_type": "stream",
     "text": [
      "Loaded 11 / 2106 Individuals from Meta\n",
      "Saved to: ./Empirical/Eigenstrat/Reichall/lazaridis11_combined_roh05.csv\n",
      "CPU times: user 8.23 s, sys: 1.31 ms, total: 8.23 s\n",
      "Wall time: 8.66 s\n"
     ]
    }
   ],
   "source": [
    "%%time\n",
    "df1 = pp_individual_roh(iids, meta_path=\"./Data/ReichLabEigenstrat/Raw/meta.csv\", base_folder=\"./Empirical/Eigenstrat/Reichall/\",\n",
    "                        save_path=\"./Empirical/Eigenstrat/Reichall/lazaridis11_combined_roh05.csv\", \n",
    "                        output=False, min_cm=[4,8,12,20], snp_cm=50, \n",
    "                        gap=0.5, min_len1=2.0, min_len2=4.0)"
   ]
  },
  {
   "cell_type": "markdown",
   "metadata": {},
   "source": [
    "# Area 51\n",
    "Area to test code here"
   ]
  },
  {
   "cell_type": "markdown",
   "metadata": {},
   "source": [
    "### Test one Eigenstrat individual"
   ]
  },
  {
   "cell_type": "code",
   "execution_count": null,
   "metadata": {},
   "outputs": [],
   "source": [
    "analyze_chromosome_es(iid=\"I7579\", ch=3, n_ref=500, save=True, save_fp=False, exclude_pops=[], \n",
    "                      base_out_folder=\"./Empirical/Eigenstrat/Reichall/test/\", prefix_out=\"\",\n",
    "                      roh_in=100, roh_out=100, roh_jump=300, e_rate=0.01, e_rate_ref=0.001, \n",
    "                      max_gap=0, logfile=False)"
   ]
  },
  {
   "cell_type": "markdown",
   "metadata": {},
   "source": []
  },
  {
   "cell_type": "code",
   "execution_count": 32,
   "metadata": {},
   "outputs": [],
   "source": [
    "#df_test = pd.read_csv(\"./Empirical/Eigenstrat/Reichall/IPY10.SG_roh_full.csv\")\n",
    "df_test = pd.read_csv(\"./Empirical/Eigenstrat/Reichall/IPK12.SG_roh_full.csv\")"
   ]
  }
 ],
 "metadata": {
  "kernelspec": {
   "display_name": "Python 3",
   "language": "python",
   "name": "python3"
  },
  "language_info": {
   "codemirror_mode": {
    "name": "ipython",
    "version": 3
   },
   "file_extension": ".py",
   "mimetype": "text/x-python",
   "name": "python",
   "nbconvert_exporter": "python",
   "pygments_lexer": "ipython3",
   "version": "3.7.0"
  }
 },
 "nbformat": 4,
 "nbformat_minor": 2
}
