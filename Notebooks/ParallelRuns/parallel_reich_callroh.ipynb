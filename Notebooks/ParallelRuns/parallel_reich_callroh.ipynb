{
 "cells": [
  {
   "cell_type": "markdown",
   "metadata": {},
   "source": [
    "# Notebook to call ROH for individuals within a Eigenstrat folder\n",
    "Notebooks that import the code for the calling ROHs on pseudohaploid genotype individuals, and then a function to parallelize it.\n",
    "\n",
    "Very similar to parallel_mosaic_callroh.ipynb\n",
    "\n",
    "\n",
    "@Author: Harald Ringbauer, September 2019\n",
    "All rights reserved."
   ]
  },
  {
   "cell_type": "code",
   "execution_count": 1,
   "metadata": {},
   "outputs": [
    {
     "name": "stdout",
     "output_type": "stream",
     "text": [
      "midway2-0401.rcc.local\n",
      "Midway jnovmbre partition detected.\n",
      "/project2/jnovembre/hringbauer/HAPSBURG\n",
      "CPU Count: 28\n"
     ]
    }
   ],
   "source": [
    "import numpy as np\n",
    "import os as os\n",
    "import sys as sys\n",
    "import multiprocessing as mp\n",
    "import pandas as pd\n",
    "import socket\n",
    "\n",
    "### Pick the right path (whether on cluster or at home)\n",
    "socket_name = socket.gethostname()\n",
    "print(socket_name)\n",
    "\n",
    "if socket_name == \"VioletQueen\":\n",
    "    path = \"/home/harald/git/HAPSBURG/\"   # The Path on Harald's machine\n",
    "elif socket_name.startswith(\"midway2\"):\n",
    "    print(\"Midway jnovmbre partition detected.\")\n",
    "    path = \"/project2/jnovembre/hringbauer/HAPSBURG/\"  # The Path on Midway Cluster\n",
    "else: \n",
    "    raise RuntimeWarning(\"Not compatible machine. Check!!\")\n",
    "    \n",
    "os.chdir(path)  # Set the right Path (in line with Atom default)\n",
    "\n",
    "# Assume that now we are in the root directory\n",
    "sys.path.append(\"./package/\")  \n",
    "\n",
    "from hapsburg.hmm_inference import HMM_Analyze   # The HMM core object\n",
    "\n",
    "from hapsburg.PackagesSupport.hapsburg_run import hapsb_chrom, hapsb_ind\n",
    "#from hapsburg.PackagesSupport.parallel_runs.helper_functions import prepare_path, multi_run, combine_individual_data\n",
    "from hapsburg.PackagesSupport.pp_individual_roh_csvs import create_combined_ROH_df, give_iid_paths, pp_individual_roh\n",
    "\n",
    "print(os.getcwd()) # Show the current working directory. Should be HAPSBURG/Notebooks/ParallelRuns\n",
    "print(f\"CPU Count: {mp.cpu_count()}\")"
   ]
  },
  {
   "cell_type": "markdown",
   "metadata": {},
   "source": [
    "### TODO:\n",
    "Use the defined (refactored) function for runs of Eigenstrats"
   ]
  },
  {
   "cell_type": "markdown",
   "metadata": {},
   "source": [
    "## Call ROH single Individual\n",
    "For reanalysis with delete=True (saves all data) to plot that indivdual / further analysis of posterior"
   ]
  },
  {
   "cell_type": "code",
   "execution_count": null,
   "metadata": {},
   "outputs": [],
   "source": [
    "%%time\n",
    "hapsb_ind(iid=\"TAF010\", chs=range(22,23), processes=1, delete=False, \n",
    "          output=True, save=True, save_fp=False, n_ref=2504, \n",
    "          exclude_pops=[], e_model=\"haploid\", p_model=\"EigenstratPacked\", readcounts=False, destroy_phase=True,\n",
    "          post_model=\"Standard\", path_targets = \"./Data/ReichLabEigenstrat/Raw/v37.2.1240K\",\n",
    "          h5_path1000g = \"./Data/1000Genomes/HDF5/1240kHDF5/all1240int8/chr\", \n",
    "          meta_path_ref = \"./Data/1000Genomes/Individuals/meta_df_all.csv\",\n",
    "          base_out_folder=\"./Empirical/Eigenstrat/Reichall/test/\", prefix_out=\"\",\n",
    "          roh_in=1, roh_out=10, roh_jump=300, e_rate=0.01, e_rate_ref=0.00, \n",
    "          max_gap=0, cutoff = 0.999, l_cutoff = 0.01, logfile=False, \n",
    "          combine=True, file_name=\"_roh_full.csv\")"
   ]
  },
  {
   "cell_type": "markdown",
   "metadata": {},
   "source": [
    "### Run full Individual"
   ]
  },
  {
   "cell_type": "code",
   "execution_count": null,
   "metadata": {},
   "outputs": [
    {
     "name": "stdout",
     "output_type": "stream",
     "text": [
      "Doing Individual Loschbour_published.DG...\n",
      "Running 22 total jobs; 8 in parallel.\n",
      "Set Output Log path: ./Empirical/Eigenstrat/Reichall/test/Loschbour_published.DG/chr2/hmm_run_log.txt\n",
      "Set Output Log path: ./Empirical/Eigenstrat/Reichall/test/Loschbour_published.DG/chr5/hmm_run_log.txt\n",
      "Set Output Log path: ./Empirical/Eigenstrat/Reichall/test/Loschbour_published.DG/chr1/hmm_run_log.txt\n",
      "Set Output Log path: ./Empirical/Eigenstrat/Reichall/test/Loschbour_published.DG/chr3/hmm_run_log.txt\n",
      "Set Output Log path: ./Empirical/Eigenstrat/Reichall/test/Loschbour_published.DG/chr8/hmm_run_log.txt\n",
      "Set Output Log path: ./Empirical/Eigenstrat/Reichall/test/Loschbour_published.DG/chr4/hmm_run_log.txt\n",
      "Set Output Log path: ./Empirical/Eigenstrat/Reichall/test/Loschbour_published.DG/chr6/hmm_run_log.txt\n",
      "Set Output Log path: ./Empirical/Eigenstrat/Reichall/test/Loschbour_published.DG/chr7/hmm_run_log.txt\n",
      "Set Output Log path: ./Empirical/Eigenstrat/Reichall/test/Loschbour_published.DG/chr9/hmm_run_log.txt\n",
      "Set Output Log path: ./Empirical/Eigenstrat/Reichall/test/Loschbour_published.DG/chr10/hmm_run_log.txt\n",
      "Set Output Log path: ./Empirical/Eigenstrat/Reichall/test/Loschbour_published.DG/chr11/hmm_run_log.txt\n",
      "Set Output Log path: ./Empirical/Eigenstrat/Reichall/test/Loschbour_published.DG/chr12/hmm_run_log.txt\n",
      "Set Output Log path: ./Empirical/Eigenstrat/Reichall/test/Loschbour_published.DG/chr13/hmm_run_log.txt\n",
      "Set Output Log path: ./Empirical/Eigenstrat/Reichall/test/Loschbour_published.DG/chr14/hmm_run_log.txt\n"
     ]
    }
   ],
   "source": [
    "hapsb_ind(iid=\"Yaghan895.SG\", chs=range(1,23), processes=8, delete=False, output=True, \n",
    "          save=True, save_fp=False, n_ref=2504, \n",
    "          exclude_pops=[], e_model=\"haploid\", p_model=\"EigenstratPacked\", readcounts=False, destroy_phase=True,\n",
    "          post_model=\"Standard\", path_targets = \"./Data/ReichLabEigenstrat/Raw/v37.2.1240K\",\n",
    "          h5_path1000g = \"./Data/1000Genomes/HDF5/1240kHDF5/all1240int8/chr\", \n",
    "          meta_path_ref = \"./Data/1000Genomes/Individuals/meta_df_all.csv\",\n",
    "          base_out_folder=\"./Empirical/Eigenstrat/Reichall/test/\", prefix_out=\"\",\n",
    "          roh_in=1, roh_out=10, roh_jump=300, e_rate=0.01, e_rate_ref=0.00, \n",
    "          max_gap=0, cutoff = 0.999, l_cutoff = 0.01, logfile=True, combine=True, file_name=\"_roh_full.csv\")"
   ]
  },
  {
   "cell_type": "markdown",
   "metadata": {},
   "source": [
    "# Post-Process the individual output files into one summary .csv\n",
    "(Standalone from here - but **need imports** from above)"
   ]
  },
  {
   "cell_type": "markdown",
   "metadata": {},
   "source": [
    "### Decide which IIDs to post-process"
   ]
  },
  {
   "cell_type": "code",
   "execution_count": 4,
   "metadata": {},
   "outputs": [
    {
     "name": "stdout",
     "output_type": "stream",
     "text": [
      "1099\n",
      "Loaded 1098 Individuals\n"
     ]
    }
   ],
   "source": [
    "### Legacy Cell\n",
    "meta_path=\"./Data/ReichLabEigenstrat/Raw/meta.csv\"\n",
    "df_anno = pd.read_csv(meta_path)\n",
    "df_ana = df_anno[df_anno[\"mean_cov\"]>0.5]\n",
    "print(len(df_ana))\n",
    "df_ana = df_ana[:]  # how many individuals to extract\n",
    "iids = df_ana[\"iid\"].values\n",
    "\n",
    "### Delete IPY10.SG (missing data for Chr.11-23)\n",
    "d = np.where(iids==\"IPY10.SG\")[0][0]\n",
    "iids = np.delete(iids, d)\n",
    "print(f\"Loaded {len(iids)} Individuals\")"
   ]
  },
  {
   "cell_type": "code",
   "execution_count": 2,
   "metadata": {},
   "outputs": [],
   "source": [
    "def load_eigenstrat_anno(path=\"./Data/ReichLabEigenstrat/Raw/v37.2.1240K.clean4.anno\", \n",
    "                         anc_only=True, min_snps=400000):\n",
    "    \"\"\"Load annotated Eigenstrat (from D. Reich's group).\n",
    "    anc_only: Return only the ancients with age>0\"\"\"\n",
    "    df_anno = pd.read_csv(path, sep=\"\\t\", engine=\"python\")\n",
    "    coverage = pd.to_numeric(df_anno[\"Coverage\"], errors='coerce')\n",
    "    df_anno[\"coverage\"]=coverage\n",
    "\n",
    "    # Convert the Ages as well\n",
    "    ages = df_anno[\"Average of 95.4% date range in calBP (defined as 1950 CE)  \"]\n",
    "    df_anno[\"ages\"] = pd.to_numeric(ages, errors='coerce')  #\n",
    "\n",
    "    ### Convert Longitude and Latitude\n",
    "    lat = df_anno[\"Lat.\"]\n",
    "    lon = df_anno[\"Long.\"]\n",
    "    df_anno[\"lat\"] = pd.to_numeric(lat, errors='coerce')\n",
    "    df_anno[\"lon\"] = pd.to_numeric(lon, errors='coerce')\n",
    "    \n",
    "    df_anc = df_anno[df_anno[\"ages\"]>0]\n",
    "\n",
    "    print(f\"Loaded {len(df_anc)} / {len(df_anno)} ancient Indivdiuals Anno File.\")\n",
    "    \n",
    "    if anc_only:\n",
    "        df_anno=df_anc\n",
    "        \n",
    "    df_anno = df_anno[df_anno[\"SNPs hit on autosomes\"]>min_snps]\n",
    "    print(f\"Loaded {len(df_anno)} Individuals with >{min_snps} SNPs covered\")\n",
    "    return df_anno"
   ]
  },
  {
   "cell_type": "code",
   "execution_count": 6,
   "metadata": {},
   "outputs": [
    {
     "name": "stdout",
     "output_type": "stream",
     "text": [
      "Loaded 2106 / 5081 ancient Indivdiuals Anno File.\n",
      "Loaded 1095 Individuals with >400000 SNPs covered\n"
     ]
    }
   ],
   "source": [
    "df_anno = load_eigenstrat_anno()\n",
    "iids = df_anno[\"Instance ID\"]"
   ]
  },
  {
   "cell_type": "code",
   "execution_count": 8,
   "metadata": {},
   "outputs": [
    {
     "name": "stdout",
     "output_type": "stream",
     "text": [
      "Loaded 1095 / 2106 Individuals from Meta\n",
      "Warning, could not find 1 Paths:\n",
      "['./Empirical/Eigenstrat/Reichall/final/IPY10.SG_roh_full.csv']\n",
      "Saved to: ./Empirical/Eigenstrat/Reichall/final/combined_roh05.csv\n",
      "CPU times: user 8min 13s, sys: 893 ms, total: 8min 14s\n",
      "Wall time: 8min 46s\n"
     ]
    }
   ],
   "source": [
    "%%time\n",
    "df1 = pp_individual_roh(iids=iids, meta_path=\"./Data/ReichLabEigenstrat/Raw/meta.csv\", base_folder=\"./Empirical/Eigenstrat/Reichall/final/\",\n",
    "                        save_path=\"./Empirical/Eigenstrat/Reichall/final/combined_roh05.csv\", output=False, min_cm=[4,8,12,20], \n",
    "                        snp_cm=50, gap=0.5, min_len1=2, min_len2=4)"
   ]
  },
  {
   "cell_type": "markdown",
   "metadata": {},
   "source": [
    "### Legacy (delted now): Create list of IIDs that did not work\n",
    "Some individuals failed in the first run due to OOM. They were colleced\n",
    "and run again."
   ]
  },
  {
   "cell_type": "markdown",
   "metadata": {},
   "source": [
    "## Postprocess only Iosifs Individuals"
   ]
  },
  {
   "cell_type": "code",
   "execution_count": 13,
   "metadata": {},
   "outputs": [
    {
     "name": "stdout",
     "output_type": "stream",
     "text": [
      "11\n"
     ]
    }
   ],
   "source": [
    "meta_path=\"./Data/ReichLabEigenstrat/Raw/meta.csv\"\n",
    "df_anno = pd.read_csv(meta_path)\n",
    "df_ana = df_anno[df_anno[\"mean_cov\"]>0.5]\n",
    "df_ana = df_ana[df_ana[\"study\"]==\"LazaridisNature2017\"]\n",
    "print(len(df_ana))\n",
    "df_ana = df_ana[:]  # how many individuals to extract\n",
    "iids = df_ana[\"iid\"].values"
   ]
  },
  {
   "cell_type": "code",
   "execution_count": 16,
   "metadata": {},
   "outputs": [
    {
     "name": "stdout",
     "output_type": "stream",
     "text": [
      "Loaded 11 / 2106 Individuals from Meta\n",
      "Saved to: ./Empirical/Eigenstrat/Reichall/lazaridis11_combined_roh05.csv\n",
      "CPU times: user 8.23 s, sys: 1.31 ms, total: 8.23 s\n",
      "Wall time: 8.66 s\n"
     ]
    }
   ],
   "source": [
    "%%time\n",
    "df1 = pp_individual_roh(iids, meta_path=\"./Data/ReichLabEigenstrat/Raw/meta.csv\", base_folder=\"./Empirical/Eigenstrat/Reichall/\",\n",
    "                        save_path=\"./Empirical/Eigenstrat/Reichall/lazaridis11_combined_roh05.csv\", \n",
    "                        output=False, min_cm=[4,8,12,20], snp_cm=50, \n",
    "                        gap=0.5, min_len1=2.0, min_len2=4.0)"
   ]
  },
  {
   "cell_type": "markdown",
   "metadata": {},
   "source": [
    "# Legacy (for refactored Code)"
   ]
  },
  {
   "cell_type": "code",
   "execution_count": null,
   "metadata": {},
   "outputs": [],
   "source": [
    "analyze_chromosome_es(*prms[2])"
   ]
  },
  {
   "cell_type": "markdown",
   "metadata": {},
   "source": [
    "# Area 51\n",
    "Area to test code here"
   ]
  },
  {
   "cell_type": "markdown",
   "metadata": {},
   "source": [
    "### Test one Eigenstrat individual"
   ]
  },
  {
   "cell_type": "code",
   "execution_count": null,
   "metadata": {},
   "outputs": [],
   "source": [
    "analyze_chromosome_es(iid=\"I7579\", ch=3, n_ref=500, save=True, save_fp=False, exclude_pops=[], \n",
    "                      base_out_folder=\"./Empirical/Eigenstrat/Reichall/test/\", prefix_out=\"\",\n",
    "                      roh_in=100, roh_out=100, roh_jump=300, e_rate=0.01, e_rate_ref=0.001, \n",
    "                      max_gap=0, logfile=False)"
   ]
  },
  {
   "cell_type": "markdown",
   "metadata": {},
   "source": []
  },
  {
   "cell_type": "code",
   "execution_count": 32,
   "metadata": {},
   "outputs": [],
   "source": [
    "#df_test = pd.read_csv(\"./Empirical/Eigenstrat/Reichall/IPY10.SG_roh_full.csv\")\n",
    "df_test = pd.read_csv(\"./Empirical/Eigenstrat/Reichall/IPK12.SG_roh_full.csv\")"
   ]
  }
 ],
 "metadata": {
  "kernelspec": {
   "display_name": "Python 3",
   "language": "python",
   "name": "python3"
  },
  "language_info": {
   "codemirror_mode": {
    "name": "ipython",
    "version": 3
   },
   "file_extension": ".py",
   "mimetype": "text/x-python",
   "name": "python",
   "nbconvert_exporter": "python",
   "pygments_lexer": "ipython3",
   "version": "3.7.0"
  }
 },
 "nbformat": 4,
 "nbformat_minor": 2
}
