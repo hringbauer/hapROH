{
 "cells": [
  {
   "cell_type": "markdown",
   "metadata": {},
   "source": [
    "# Parallel Mosaic Creation \n",
    "Notebook to run parallel Mosaics creations\n",
    "\n",
    "Has Notebooks that import the code for the Mosaic Creation, and then functions for various cases to parallelize it\n",
    "\n",
    "@Author: Harald Ringbauer, June 2019"
   ]
  },
  {
   "cell_type": "code",
   "execution_count": 1,
   "metadata": {},
   "outputs": [
    {
     "name": "stdout",
     "output_type": "stream",
     "text": [
      "midway2-0401.rcc.local\n",
      "Midway jnovmbre partition detected.\n",
      "/project/jnovembre/hringbauer/HAPSBURG\n",
      "CPU Count: 28\n"
     ]
    }
   ],
   "source": [
    "import numpy as np\n",
    "import os as os\n",
    "import sys as sys\n",
    "import multiprocessing as mp\n",
    "import socket\n",
    "\n",
    "socket_name = socket.gethostname()\n",
    "print(socket_name)\n",
    "if socket_name == \"VioletQueen\":\n",
    "    path = \"/home/harald/git/HAPSBURG/\"   # The Path on Harald's machine\n",
    "elif socket_name.startswith(\"midway2\"):\n",
    "    print(\"Midway jnovmbre partition detected.\")\n",
    "    path = \"/project/jnovembre/hringbauer/HAPSBURG/\"  # The Path on Midway Cluster\n",
    "else: \n",
    "    raise RuntimeWarning(\"Not compatible machine. Check!!\")\n",
    "\n",
    "os.chdir(path)  # Set the right Path (in line with Atom default)\n",
    "\n",
    "sys.path.append(\"./Python3/create1000G_Mosaic/\")  # Since now we are in the Root Directory\n",
    "from createMosaicsMulti import Mosaic_1000G_Multi  # Import the object that can create the Multiruns\n",
    "\n",
    "print(os.getcwd()) # Show the current working directory. Should be HAPSBURG/Notebooks/ParallelRuns\n",
    "print(f\"CPU Count: {mp.cpu_count()}\")"
   ]
  },
  {
   "cell_type": "markdown",
   "metadata": {},
   "source": [
    "# Function for the MultiRun"
   ]
  },
  {
   "cell_type": "code",
   "execution_count": 2,
   "metadata": {},
   "outputs": [],
   "source": [
    "def create_individual_mosaic(base_path=\"./Simulated/1000G_Mosaic/TSI1/\", \n",
    "                             path1000G=\"./Data/1000Genomes/HDF5/1240kHDF5/Eur1240chr\",\n",
    "                    pop_list=[\"TSI\"], n=2, ch=3, chunk_length=0.005, l = 1, n_blocks=5):\n",
    "    \"\"\"Create Multiple ROH runs and saves combined data into base_path hdf5 and roh_info df\n",
    "    base_path:  Start of SavePaths\n",
    "    path1000G: Where to find the 1000 Genome Data\n",
    "    pop_list: The Reference Populations for Mosaic\n",
    "    n: Number of Individuals to simulate\n",
    "    chunk_length: Lenths of the Chunks to mosaic\n",
    "    ch: Chromosome to use\n",
    "    l: Length of the \n",
    "    n_blocks: The NR of the Blocks to copy in\"\"\"\n",
    "    \n",
    "    ########### Pipe the output\n",
    "    save_path = base_path + \"ch\" + str(ch) + \"_\" + str(int(l)) + \"cm/\"\n",
    "    \n",
    "    if not os.path.exists(save_path):\n",
    "            os.makedirs(save_path)\n",
    "    \n",
    "    print(f\"Setting save path...: {save_path}\")\n",
    "    sys.stdout = open(save_path + \"mosaic_out.txt\", 'w')\n",
    "    \n",
    "    t = Mosaic_1000G_Multi()  # Create the MltiRUn Object\n",
    "    \n",
    "    ##################################\n",
    "    ### Set the parameters for the run\n",
    "    t.pop_list = pop_list\n",
    "    t.path1000G = path1000G\n",
    "    t.n = n\n",
    "    t.chunk_length = chunk_length\n",
    "    t.ch = ch  # The Chromosome\n",
    "    t.roh_lengths = np.ones(n_blocks) * 0.01 * l  # Set the Lengths\n",
    "    t.save_path = save_path\n",
    "    t.load_m_object()\n",
    "    t.create_individuals()\n",
    "    \n",
    "def multi_run(fun, prms, processes = 4):\n",
    "    \"\"\"Implementation of running in Parallel.\n",
    "    fun: Function\n",
    "    prms: The Parameter Files\n",
    "    processes: How many Processes to use\"\"\"\n",
    "    print(f\"Running {len(prms)} jobs in parallel.\")\n",
    "    \n",
    "    with mp.Pool(processes = processes) as pool:\n",
    "        results = pool.starmap(fun, prms)"
   ]
  },
  {
   "cell_type": "markdown",
   "metadata": {},
   "source": [
    "### Multirun TSI Individuals"
   ]
  },
  {
   "cell_type": "code",
   "execution_count": 3,
   "metadata": {},
   "outputs": [],
   "source": [
    "#### Create the parameters array for the starmap:\n",
    "base_path=\"./Simulated/1000G_Mosaic/TSI5/\" \n",
    "path1000G=\"./Data/1000Genomes/HDF5/1240kHDF5/Eur1240chr\"\n",
    "pop_list=[\"TSI\"] \n",
    "n=100   # Number of Individuals\n",
    "ch=3\n",
    "chunk_length=0.0025\n",
    "l = 0  # This will be overwritten here\n",
    "n_blocks=5 # How many blocks will be copied in\n",
    "\n",
    "### Create the List of Parameter Lists (input for starmap)\n",
    "prms = []\n",
    "\n",
    "for l in [2, 4, 6, 8, 10]:\n",
    "    new_par = [base_path, path1000G, pop_list, n, ch, chunk_length, l, n_blocks]\n",
    "    prms.append(new_par)  # Append to the Parameters\n",
    "\n",
    "assert(len(prms[0])==8)   # The function takes 8 Parameters as input"
   ]
  },
  {
   "cell_type": "code",
   "execution_count": 5,
   "metadata": {},
   "outputs": [
    {
     "name": "stdout",
     "output_type": "stream",
     "text": [
      "Running 5 jobs in parallel.\n",
      "Setting save path...: ./Simulated/1000G_Mosaic/TSI5/ch3_6cm/\n",
      "Setting save path...: ./Simulated/1000G_Mosaic/TSI5/ch3_4cm/\n",
      "Setting save path...: ./Simulated/1000G_Mosaic/TSI5/ch3_10cm/\n",
      "Setting save path...: ./Simulated/1000G_Mosaic/TSI5/ch3_2cm/\n",
      "Setting save path...: ./Simulated/1000G_Mosaic/TSI5/ch3_8cm/\n"
     ]
    }
   ],
   "source": [
    "multi_run(create_individual_mosaic, prms, processes = 8)"
   ]
  },
  {
   "cell_type": "code",
   "execution_count": 7,
   "metadata": {},
   "outputs": [
    {
     "name": "stdout",
     "output_type": "stream",
     "text": [
      "Run complete\n"
     ]
    }
   ],
   "source": [
    "print(\"Run complete\")"
   ]
  },
  {
   "cell_type": "markdown",
   "metadata": {},
   "source": [
    "### Create False Positive Individuals without any copied in blocks (for TSI)"
   ]
  },
  {
   "cell_type": "code",
   "execution_count": 5,
   "metadata": {},
   "outputs": [],
   "source": [
    "#### Create the parameters array for the starmap:\n",
    "base_path=\"./Simulated/1000G_Mosaic/TSI5/\" \n",
    "path1000G=\"./Data/1000Genomes/HDF5/1240kHDF5/Eur1240chr\"\n",
    "pop_list=[\"TSI\"] \n",
    "n=100   # Number of Individuals\n",
    "ch=3\n",
    "chunk_length=0.0025\n",
    "l = 0  # No blocks copied in\n",
    "n_blocks=0 # How many blocks will be copied in\n",
    "\n",
    "### Create the List of Parameter Lists (input for starmap)\n",
    "prms = []\n",
    "\n",
    "new_par = [base_path, path1000G, pop_list, n, ch, chunk_length, l, n_blocks]\n",
    "prms.append(new_par)  # Append to the Parameters\n",
    "\n",
    "assert(len(prms[0])==8)   # The function takes 8 Parameters as input"
   ]
  },
  {
   "cell_type": "code",
   "execution_count": 6,
   "metadata": {},
   "outputs": [
    {
     "name": "stdout",
     "output_type": "stream",
     "text": [
      "Running 1 jobs in parallel.\n",
      "Setting save path...: ./Simulated/1000G_Mosaic/TSI5/ch3_0cm/\n",
      "Run Complete!\n"
     ]
    }
   ],
   "source": [
    "multi_run(create_individual_mosaic, prms, processes = 4)\n",
    "print(\"Run Complete!\")"
   ]
  },
  {
   "cell_type": "code",
   "execution_count": 7,
   "metadata": {},
   "outputs": [
    {
     "name": "stdout",
     "output_type": "stream",
     "text": [
      "Run Complete!\n"
     ]
    }
   ],
   "source": [
    "print(\"Run Complete!\")"
   ]
  },
  {
   "cell_type": "markdown",
   "metadata": {},
   "source": [
    "# Test another Population [CHB, CLM and YRI]\n",
    "Loop through pops and through lengths"
   ]
  },
  {
   "cell_type": "code",
   "execution_count": 4,
   "metadata": {},
   "outputs": [],
   "source": [
    "#### Create the parameters array for the starmap:\n",
    "path1000G=\"./Data/1000Genomes/HDF5/1240kHDF5/NonEur1240chr\"\n",
    "\n",
    "n=100   # Number of Individuals\n",
    "ch=3\n",
    "chunk_length=0.0025\n",
    "l = 0  # Will be overwritten down there\n",
    "n_blocks = 0 # How many blocks will be copied in (Default: 5)\n",
    "\n",
    "### Create the List of Parameter Lists (input for starmap)\n",
    "prms = []\n",
    "\n",
    "#target_pops = [\"CHB\", \"CLM\", \"YRI\"]\n",
    "target_pops = [\"CLM\"]\n",
    "\n",
    "for t in target_pops:\n",
    "    base_path=\"./Simulated/1000G_Mosaic/\" + str(t) + \"/\" \n",
    "    pop_list = [str(t)]\n",
    "    \n",
    "    #for l in [2, 4, 6, 8, 10]:\n",
    "    for l in [0]:\n",
    "        new_par = [base_path, path1000G, pop_list, n, ch, chunk_length, l, n_blocks]\n",
    "        prms.append(new_par)  # Append to the Parameters\n",
    "\n",
    "assert(len(prms[0])==8)   # The function takes 8 Parameters as input"
   ]
  },
  {
   "cell_type": "code",
   "execution_count": 13,
   "metadata": {},
   "outputs": [
    {
     "ename": "OSError",
     "evalue": "Can't read data (inflate() failed)",
     "output_type": "error",
     "traceback": [
      "\u001b[0;31m---------------------------------------------------------------------------\u001b[0m",
      "\u001b[0;31mRemoteTraceback\u001b[0m                           Traceback (most recent call last)",
      "\u001b[0;31mRemoteTraceback\u001b[0m: \n\"\"\"\nTraceback (most recent call last):\n  File \"/software/python-3.7.0-el7-x86_64/lib/python3.7/multiprocessing/pool.py\", line 121, in worker\n    result = (True, func(*args, **kwds))\n  File \"/software/python-3.7.0-el7-x86_64/lib/python3.7/multiprocessing/pool.py\", line 47, in starmapstar\n    return list(itertools.starmap(args[0], args[1]))\n  File \"<ipython-input-4-42e07a2182a1>\", line 35, in create_individual_mosaic\n    t.create_individuals()\n  File \"./Python3/create1000G_Mosaic/createMosaicsMulti.py\", line 118, in create_individuals\n    chunk_length=chunk_length, roh_list=roh_list, pop_list=pop_list)\n  File \"./Python3/create1000G_Mosaic/createMosaic.py\", line 94, in create_chunked_roh_individual\n    gts_new, rec = self.create_chunked_gts(chunk_length, iids)\n  File \"./Python3/create1000G_Mosaic/createMosaic.py\", line 144, in create_chunked_gts\n    1] = f[\"calldata/GT\"][i_min:i_max + 1, ind, 0]\n  File \"h5py/_objects.pyx\", line 54, in h5py._objects.with_phil.wrapper\n  File \"h5py/_objects.pyx\", line 55, in h5py._objects.with_phil.wrapper\n  File \"/software/python-3.7.0-el7-x86_64/lib/python3.7/site-packages/h5py/_hl/dataset.py\", line 496, in __getitem__\n    self.id.read(mspace, fspace, arr, mtype, dxpl=self._dxpl)\n  File \"h5py/_objects.pyx\", line 54, in h5py._objects.with_phil.wrapper\n  File \"h5py/_objects.pyx\", line 55, in h5py._objects.with_phil.wrapper\n  File \"h5py/h5d.pyx\", line 181, in h5py.h5d.DatasetID.read\n  File \"h5py/_proxy.pyx\", line 130, in h5py._proxy.dset_rw\n  File \"h5py/_proxy.pyx\", line 84, in h5py._proxy.H5PY_H5Dread\nOSError: Can't read data (inflate() failed)\n\"\"\"",
      "\nThe above exception was the direct cause of the following exception:\n",
      "\u001b[0;31mOSError\u001b[0m                                   Traceback (most recent call last)",
      "\u001b[0;32m<ipython-input-13-6a1b0470d4d7>\u001b[0m in \u001b[0;36m<module>\u001b[0;34m()\u001b[0m\n\u001b[0;32m----> 1\u001b[0;31m \u001b[0mmulti_run\u001b[0m\u001b[0;34m(\u001b[0m\u001b[0mcreate_individual_mosaic\u001b[0m\u001b[0;34m,\u001b[0m \u001b[0mprms\u001b[0m\u001b[0;34m,\u001b[0m \u001b[0mprocesses\u001b[0m \u001b[0;34m=\u001b[0m \u001b[0;36m5\u001b[0m\u001b[0;34m)\u001b[0m\u001b[0;34m\u001b[0m\u001b[0m\n\u001b[0m",
      "\u001b[0;32m<ipython-input-4-42e07a2182a1>\u001b[0m in \u001b[0;36mmulti_run\u001b[0;34m(fun, prms, processes)\u001b[0m\n\u001b[1;32m     43\u001b[0m \u001b[0;34m\u001b[0m\u001b[0m\n\u001b[1;32m     44\u001b[0m     \u001b[0;32mwith\u001b[0m \u001b[0mmp\u001b[0m\u001b[0;34m.\u001b[0m\u001b[0mPool\u001b[0m\u001b[0;34m(\u001b[0m\u001b[0mprocesses\u001b[0m \u001b[0;34m=\u001b[0m \u001b[0mprocesses\u001b[0m\u001b[0;34m)\u001b[0m \u001b[0;32mas\u001b[0m \u001b[0mpool\u001b[0m\u001b[0;34m:\u001b[0m\u001b[0;34m\u001b[0m\u001b[0m\n\u001b[0;32m---> 45\u001b[0;31m         \u001b[0mresults\u001b[0m \u001b[0;34m=\u001b[0m \u001b[0mpool\u001b[0m\u001b[0;34m.\u001b[0m\u001b[0mstarmap\u001b[0m\u001b[0;34m(\u001b[0m\u001b[0mfun\u001b[0m\u001b[0;34m,\u001b[0m \u001b[0mprms\u001b[0m\u001b[0;34m)\u001b[0m\u001b[0;34m\u001b[0m\u001b[0m\n\u001b[0m",
      "\u001b[0;32m/software/python-3.7.0-el7-x86_64/lib/python3.7/multiprocessing/pool.py\u001b[0m in \u001b[0;36mstarmap\u001b[0;34m(self, func, iterable, chunksize)\u001b[0m\n\u001b[1;32m    274\u001b[0m         \u001b[0;31m`\u001b[0m\u001b[0mfunc\u001b[0m\u001b[0;31m`\u001b[0m \u001b[0;32mand\u001b[0m \u001b[0;34m(\u001b[0m\u001b[0ma\u001b[0m\u001b[0;34m,\u001b[0m \u001b[0mb\u001b[0m\u001b[0;34m)\u001b[0m \u001b[0mbecomes\u001b[0m \u001b[0mfunc\u001b[0m\u001b[0;34m(\u001b[0m\u001b[0ma\u001b[0m\u001b[0;34m,\u001b[0m \u001b[0mb\u001b[0m\u001b[0;34m)\u001b[0m\u001b[0;34m.\u001b[0m\u001b[0;34m\u001b[0m\u001b[0m\n\u001b[1;32m    275\u001b[0m         '''\n\u001b[0;32m--> 276\u001b[0;31m         \u001b[0;32mreturn\u001b[0m \u001b[0mself\u001b[0m\u001b[0;34m.\u001b[0m\u001b[0m_map_async\u001b[0m\u001b[0;34m(\u001b[0m\u001b[0mfunc\u001b[0m\u001b[0;34m,\u001b[0m \u001b[0miterable\u001b[0m\u001b[0;34m,\u001b[0m \u001b[0mstarmapstar\u001b[0m\u001b[0;34m,\u001b[0m \u001b[0mchunksize\u001b[0m\u001b[0;34m)\u001b[0m\u001b[0;34m.\u001b[0m\u001b[0mget\u001b[0m\u001b[0;34m(\u001b[0m\u001b[0;34m)\u001b[0m\u001b[0;34m\u001b[0m\u001b[0m\n\u001b[0m\u001b[1;32m    277\u001b[0m \u001b[0;34m\u001b[0m\u001b[0m\n\u001b[1;32m    278\u001b[0m     def starmap_async(self, func, iterable, chunksize=None, callback=None,\n",
      "\u001b[0;32m/software/python-3.7.0-el7-x86_64/lib/python3.7/multiprocessing/pool.py\u001b[0m in \u001b[0;36mget\u001b[0;34m(self, timeout)\u001b[0m\n\u001b[1;32m    655\u001b[0m             \u001b[0;32mreturn\u001b[0m \u001b[0mself\u001b[0m\u001b[0;34m.\u001b[0m\u001b[0m_value\u001b[0m\u001b[0;34m\u001b[0m\u001b[0m\n\u001b[1;32m    656\u001b[0m         \u001b[0;32melse\u001b[0m\u001b[0;34m:\u001b[0m\u001b[0;34m\u001b[0m\u001b[0m\n\u001b[0;32m--> 657\u001b[0;31m             \u001b[0;32mraise\u001b[0m \u001b[0mself\u001b[0m\u001b[0;34m.\u001b[0m\u001b[0m_value\u001b[0m\u001b[0;34m\u001b[0m\u001b[0m\n\u001b[0m\u001b[1;32m    658\u001b[0m \u001b[0;34m\u001b[0m\u001b[0m\n\u001b[1;32m    659\u001b[0m     \u001b[0;32mdef\u001b[0m \u001b[0m_set\u001b[0m\u001b[0;34m(\u001b[0m\u001b[0mself\u001b[0m\u001b[0;34m,\u001b[0m \u001b[0mi\u001b[0m\u001b[0;34m,\u001b[0m \u001b[0mobj\u001b[0m\u001b[0;34m)\u001b[0m\u001b[0;34m:\u001b[0m\u001b[0;34m\u001b[0m\u001b[0m\n",
      "\u001b[0;31mOSError\u001b[0m: Can't read data (inflate() failed)"
     ]
    }
   ],
   "source": [
    "multi_run(create_individual_mosaic, prms, processes = 5)"
   ]
  },
  {
   "cell_type": "markdown",
   "metadata": {},
   "source": [
    "# Area 51"
   ]
  },
  {
   "cell_type": "code",
   "execution_count": 6,
   "metadata": {},
   "outputs": [
    {
     "name": "stdout",
     "output_type": "stream",
     "text": [
      "Setting save path...: ./Simulated/1000G_Mosaic/CLM/ch3_0cm/\n"
     ]
    }
   ],
   "source": [
    "create_individual_mosaic(*prms[0])"
   ]
  },
  {
   "cell_type": "code",
   "execution_count": 8,
   "metadata": {},
   "outputs": [],
   "source": [
    "print(\"Run finished\")"
   ]
  },
  {
   "cell_type": "code",
   "execution_count": 5,
   "metadata": {},
   "outputs": [
    {
     "data": {
      "text/plain": [
       "1"
      ]
     },
     "execution_count": 5,
     "metadata": {},
     "output_type": "execute_result"
    }
   ],
   "source": [
    "len(prms)"
   ]
  },
  {
   "cell_type": "code",
   "execution_count": 17,
   "metadata": {},
   "outputs": [
    {
     "data": {
      "text/plain": [
       "['./Simulated/1000G_Mosaic/CLM/',\n",
       " './Data/1000Genomes/HDF5/1240kHDF5/NonEur1240chr',\n",
       " ['CLM'],\n",
       " 100,\n",
       " 3,\n",
       " 0.0025,\n",
       " 0,\n",
       " 0]"
      ]
     },
     "execution_count": 17,
     "metadata": {},
     "output_type": "execute_result"
    }
   ],
   "source": [
    "prms[0]"
   ]
  },
  {
   "cell_type": "code",
   "execution_count": null,
   "metadata": {},
   "outputs": [],
   "source": []
  }
 ],
 "metadata": {
  "kernelspec": {
   "display_name": "Python 3",
   "language": "python",
   "name": "python3"
  },
  "language_info": {
   "codemirror_mode": {
    "name": "ipython",
    "version": 3
   },
   "file_extension": ".py",
   "mimetype": "text/x-python",
   "name": "python",
   "nbconvert_exporter": "python",
   "pygments_lexer": "ipython3",
   "version": "3.7.0"
  }
 },
 "nbformat": 4,
 "nbformat_minor": 2
}
