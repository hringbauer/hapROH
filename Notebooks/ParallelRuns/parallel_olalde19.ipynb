{
 "cells": [
  {
   "cell_type": "code",
   "execution_count": 2,
   "metadata": {},
   "outputs": [
    {
     "name": "stdout",
     "output_type": "stream",
     "text": [
      "midway2-0401.rcc.local\n",
      "Midway jnovmbre partition detected.\n",
      "/project2/jnovembre/hringbauer/HAPSBURG\n",
      "CPU Count: 28\n"
     ]
    }
   ],
   "source": [
    "import numpy as np\n",
    "import os as os\n",
    "import sys as sys\n",
    "import multiprocessing as mp\n",
    "import pandas as pd\n",
    "import socket\n",
    "\n",
    "### Pick the right path (whether on cluster or at home)\n",
    "socket_name = socket.gethostname()\n",
    "print(socket_name)\n",
    "if socket_name == \"VioletQueen\":\n",
    "    path = \"/home/harald/git/HAPSBURG/\"   # The Path on Harald's machine\n",
    "elif socket_name.startswith(\"midway2\"):\n",
    "    print(\"Midway jnovmbre partition detected.\")\n",
    "    path = \"/project2/jnovembre/hringbauer/HAPSBURG/\"  # The Path on Midway Cluster\n",
    "else: \n",
    "    raise RuntimeWarning(\"Not compatible machine. Check!!\")\n",
    "    \n",
    "os.chdir(path)  # Set the right Path (in line with Atom default)\n",
    "print(os.getcwd()) # Show the current working directory. Should be HAPSBURG/Notebooks/ParallelRuns\n",
    "print(f\"CPU Count: {mp.cpu_count()}\")\n",
    "\n",
    "### Assume that now we are in the hapsburg root directory\n",
    "sys.path.append(\"./package/hapsburg/\")  \n",
    "\n",
    "from hmm_inference import HMM_Analyze   # The HMM core object\n",
    "from PackagesSupport.parallel_runs.helper_functions import prepare_path, multi_run, combine_individual_data\n",
    "from PackagesSupport.hapsburg_run import hapsb_chrom, hapsb_ind\n",
    "from PackagesSupport.pp_individual_roh_csvs import create_combined_ROH_df, give_iid_paths, pp_individual_roh"
   ]
  },
  {
   "cell_type": "markdown",
   "metadata": {},
   "source": [
    "### Test single Individual"
   ]
  },
  {
   "cell_type": "code",
   "execution_count": null,
   "metadata": {},
   "outputs": [],
   "source": [
    "hapsb_ind(iid=\"El Mirón_d\", chs=range(1,23), processes=1, \n",
    "          path_targets = \"./Data/Olalde19/Olalde_et_al_genotypes\",\n",
    "          base_out_folder=\"./Empirical/Eigenstrat/Olalde19/\",\n",
    "          e_model=\"haploid\", p_model=\"Eigenstrat\", n_ref=2504,\n",
    "          destroy_phase=True, readcounts=False,\n",
    "          delete=False, logfile=False, combine=True)"
   ]
  },
  {
   "cell_type": "markdown",
   "metadata": {},
   "source": [
    "# Run all individuals"
   ]
  },
  {
   "cell_type": "code",
   "execution_count": 34,
   "metadata": {},
   "outputs": [],
   "source": [
    "meta_path=\"./Data/Olalde19/meta_processed.csv\"\n",
    "df = pd.read_csv(meta_path)\n",
    "df = df[df[\"n_cov_snp\"]>400000]\n",
    "len(df[\"iid\"])"
   ]
  },
  {
   "cell_type": "code",
   "execution_count": null,
   "metadata": {},
   "outputs": [],
   "source": [
    "for iid in df[\"iid\"].values[:]:\n",
    "    print(f\"Doing Individual: {iid}\")\n",
    "    hapsb_ind(iid=iid, chs=range(1,23), processes=8, \n",
    "              path_targets = \"./Data/Olalde19/Olalde_et_al_genotypes\",\n",
    "              base_out_folder=\"./Empirical/Eigenstrat/Olalde19/\",\n",
    "              e_model=\"haploid\", p_model=\"Eigenstrat\", n_ref=2504,\n",
    "              destroy_phase=True, readcounts=False,\n",
    "              delete=False, logfile=True, combine=True)"
   ]
  },
  {
   "cell_type": "markdown",
   "metadata": {},
   "source": [
    "# Post-Process all Individuals with >400k Coverage\n",
    "(one-time necessary condition: run all individuals via above parallelization)"
   ]
  },
  {
   "cell_type": "code",
   "execution_count": 3,
   "metadata": {},
   "outputs": [
    {
     "name": "stdout",
     "output_type": "stream",
     "text": [
      "92 Individuals with coverage >400000\n"
     ]
    }
   ],
   "source": [
    "meta_path=\"./Data/Olalde19/meta_processed.csv\"\n",
    "df_anno = pd.read_csv(meta_path)\n",
    "df_ana = df_anno[df_anno[\"n_cov_snp\"]>4e5]\n",
    "print(f\"{len(df_ana)} Individuals with coverage >{4e5:.0f}\")\n",
    "iids = df_ana[\"iid\"].values"
   ]
  },
  {
   "cell_type": "code",
   "execution_count": 4,
   "metadata": {},
   "outputs": [
    {
     "name": "stdout",
     "output_type": "stream",
     "text": [
      "Loaded 92 / 278 Individuals from Meta\n",
      "Saved to: ./Empirical/Eigenstrat/Olalde19/combined_roh05.csv\n",
      "CPU times: user 1min, sys: 69 ms, total: 1min\n",
      "Wall time: 1min 3s\n"
     ]
    }
   ],
   "source": [
    "%%time\n",
    "df1 = pp_individual_roh(iids, meta_path=\"./Data/Olalde19/meta_processed.csv\", base_folder=\"./Empirical/Eigenstrat/Olalde19/\",\n",
    "                        save_path=\"./Empirical/Eigenstrat/Olalde19/combined_roh05.csv\", output=False, \n",
    "                        min_cm=[4,8,12,20], snp_cm=50, gap=0.5, min_len1=2.0, min_len2=4.0)"
   ]
  },
  {
   "cell_type": "markdown",
   "metadata": {},
   "source": [
    "# Area 51"
   ]
  },
  {
   "cell_type": "code",
   "execution_count": null,
   "metadata": {},
   "outputs": [],
   "source": []
  }
 ],
 "metadata": {
  "kernelspec": {
   "display_name": "Python 3",
   "language": "python",
   "name": "python3"
  },
  "language_info": {
   "codemirror_mode": {
    "name": "ipython",
    "version": 3
   },
   "file_extension": ".py",
   "mimetype": "text/x-python",
   "name": "python",
   "nbconvert_exporter": "python",
   "pygments_lexer": "ipython3",
   "version": "3.7.0"
  }
 },
 "nbformat": 4,
 "nbformat_minor": 2
}
