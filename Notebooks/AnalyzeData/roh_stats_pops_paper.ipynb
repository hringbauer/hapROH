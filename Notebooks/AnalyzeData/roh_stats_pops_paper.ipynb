{
 "cells": [
  {
   "cell_type": "markdown",
   "metadata": {},
   "source": [
    "# Stats for populations\n",
    "Use v42 data release here"
   ]
  },
  {
   "cell_type": "code",
   "execution_count": 1,
   "metadata": {},
   "outputs": [
    {
     "name": "stdout",
     "output_type": "stream",
     "text": [
      "midway2-0401.rcc.local\n",
      "Midway jnovmbre partition detected.\n",
      "/project2/jnovembre/hringbauer/HAPSBURG\n",
      "CPU Count: 28\n"
     ]
    }
   ],
   "source": [
    "import numpy as np\n",
    "import os  # For Saving to Folder\n",
    "import pandas as pd\n",
    "\n",
    "import socket\n",
    "import os as os\n",
    "import sys as sys\n",
    "import multiprocessing as mp\n",
    "\n",
    "### For Arial Font\n",
    "from matplotlib import rcParams\n",
    "rcParams['font.family'] = 'sans-serif'   # Set the defaul\n",
    "rcParams['font.sans-serif'] = ['Arial']  # Make sure to have the font installed (it is on cluster for Harald)\n",
    "\n",
    "socket_name = socket.gethostname()\n",
    "print(socket_name)\n",
    "if socket_name == \"VioletQueen\":\n",
    "    path = \"/home/harald/git/HAPSBURG/\"   # The Path on Harald's machine\n",
    "elif socket_name.startswith(\"midway2\"):\n",
    "    print(\"Midway jnovmbre partition detected.\")\n",
    "    path = \"/project2/jnovembre/hringbauer/HAPSBURG/\"  # The Path on Midway Cluster\n",
    "elif socket_name.startswith(\"Harald-Laptop\"):\n",
    "    print(\"Harald laptop detected.\")\n",
    "    path = \"/home/hringbauer/git/HAPSBURG/\"  # The Path on Midway Cluster\n",
    "else: \n",
    "    raise RuntimeWarning(\"Not compatible machine. Check!!\")\n",
    "\n",
    "os.chdir(path)  # Set the right Path (in line with Atom default)\n",
    "print(os.getcwd()) # Show the current working directory. Should be HAPSBURG/Notebooks/ParallelRuns\n",
    "print(f\"CPU Count: {mp.cpu_count()}\")"
   ]
  },
  {
   "cell_type": "markdown",
   "metadata": {},
   "source": [
    "### Function to print ROH summary stats"
   ]
  },
  {
   "cell_type": "code",
   "execution_count": 2,
   "metadata": {},
   "outputs": [],
   "source": [
    "def give_roh_stats(df, cm1, cm2=0):\n",
    "    \"\"\"Gives ROH Stats for dataframe df\n",
    "    for all ROH blocks between cm1-cm2 cm long\"\"\"\n",
    "    cm_vec = df[f\"sum_roh>{cm1}\"]\n",
    "    if cm2>0:\n",
    "        cm_vec = cm_vec -  df[f\"sum_roh>{cm2}\"]\n",
    "        \n",
    "    print(f\"# Individuals: {len(cm_vec)}\")\n",
    "    print(f\"Mean: {np.mean(cm_vec):.4f}\")\n",
    "    print(f\"Median: {np.median(cm_vec):.4f}\")\n",
    "    \n",
    "    idx = cm_vec==0\n",
    "    print(f\"No ROH in bin: n={np.sum(idx)}/{len(idx)}\")\n",
    "    return cm_vec"
   ]
  },
  {
   "cell_type": "markdown",
   "metadata": {},
   "source": [
    "# Populations older than 10k years"
   ]
  },
  {
   "cell_type": "code",
   "execution_count": 35,
   "metadata": {},
   "outputs": [
    {
     "name": "stdout",
     "output_type": "stream",
     "text": [
      "Loaded 3732 Individuals\n"
     ]
    }
   ],
   "source": [
    "df1 = pd.read_csv(\"./Empirical/roh_all_inds_final_v42.csv\", sep='\\t')\n",
    "print(f\"Loaded {len(df1)} Individuals\")"
   ]
  },
  {
   "cell_type": "code",
   "execution_count": null,
   "metadata": {},
   "outputs": [],
   "source": [
    "### Analyze 8000 BP Individuals\n",
    "df_anc = df1[df1[\"age\"]>10000]\n",
    "cm_vec = give_roh_stats(df_anc, cm1=4, cm2=8)\n",
    "#cm_vec"
   ]
  },
  {
   "cell_type": "code",
   "execution_count": null,
   "metadata": {},
   "outputs": [],
   "source": [
    "df_anc.sort_values(by=\"sum_roh>4\")"
   ]
  },
  {
   "cell_type": "markdown",
   "metadata": {},
   "source": [
    "# Hunter Gatherers in General"
   ]
  },
  {
   "cell_type": "code",
   "execution_count": 31,
   "metadata": {},
   "outputs": [
    {
     "name": "stdout",
     "output_type": "stream",
     "text": [
      "Loaded 3732 Individuals\n",
      "# Individuals: 64\n",
      "Mean: 29.4594\n",
      "Median: 22.3342\n",
      "No ROH in bin: n=3/64\n"
     ]
    }
   ],
   "source": [
    "df1 = pd.read_csv(\"./Empirical/roh_all_inds_final_v42.csv\", sep='\\t')\n",
    "print(f\"Loaded {len(df1)} Individuals\")\n",
    "df_t= df1[df1[\"economy\"]==\"Hunter Gatherer\"]\n",
    "df_t = df_t[(df_t[\"age\"]>8000)]\n",
    "cm_vec = give_roh_stats(df_t, cm1=4, cm2=8)"
   ]
  },
  {
   "cell_type": "markdown",
   "metadata": {},
   "source": [
    "### Populations between 10-8k years"
   ]
  },
  {
   "cell_type": "code",
   "execution_count": 4,
   "metadata": {},
   "outputs": [
    {
     "name": "stdout",
     "output_type": "stream",
     "text": [
      "Loaded 3732 Individuals\n"
     ]
    }
   ],
   "source": [
    "df1 = pd.read_csv(\"./Empirical/roh_all_inds_final_v42.csv\", sep='\\t')\n",
    "print(f\"Loaded {len(df1)} Individuals\")\n",
    "df_t= df1[df1[\"economy\"]==\"Hunter Gatherer\"]\n",
    "df_t = df_t[(df_t[\"age\"]<10000) & (df_t[\"age\"]>8000)]"
   ]
  },
  {
   "cell_type": "code",
   "execution_count": 5,
   "metadata": {},
   "outputs": [
    {
     "name": "stdout",
     "output_type": "stream",
     "text": [
      "# Individuals: 39\n",
      "Mean: 18.5735\n",
      "Median: 14.2146\n",
      "No ROH in bin: n=3/39\n"
     ]
    }
   ],
   "source": [
    "cm_vec = give_roh_stats(df_t, cm1=4, cm2=8)\n",
    "#df_t.sort_values(by=\"sum_roh>4\")"
   ]
  },
  {
   "cell_type": "markdown",
   "metadata": {},
   "source": [
    "### Long ROH in San Nicholas"
   ]
  },
  {
   "cell_type": "code",
   "execution_count": null,
   "metadata": {},
   "outputs": [],
   "source": [
    "df1 = pd.read_csv(\"./Empirical/roh_all_inds_final_v42.csv\", sep='\\t')\n",
    "print(f\"Loaded {len(df1)} Individuals\")\n",
    "df_t = df1[df1[\"pop\"].str.contains(\"SanNicolas\")]\n",
    "df_t"
   ]
  },
  {
   "cell_type": "markdown",
   "metadata": {},
   "source": [
    "### Anatolian Neolithic Farmer populations"
   ]
  },
  {
   "cell_type": "code",
   "execution_count": 32,
   "metadata": {},
   "outputs": [
    {
     "name": "stdout",
     "output_type": "stream",
     "text": [
      "Loaded 3732 Individuals\n",
      "# Individuals: 23\n",
      "Mean: 1.9081\n",
      "Median: 0.0000\n",
      "No ROH in bin: n=18/23\n"
     ]
    }
   ],
   "source": [
    "df1 = pd.read_csv(\"./Empirical/roh_all_inds_final_v42.csv\", sep='\\t')\n",
    "print(f\"Loaded {len(df1)} Individuals\")\n",
    "df_t= df1[df1[\"economy\"]==\"Agricultural\"]\n",
    "\n",
    "df_t = df_t[df_t[\"pop\"].str.contains(\"Anatolia_N\")]\n",
    "cm_vec = give_roh_stats(df_t, cm1=4, cm2=8)"
   ]
  },
  {
   "cell_type": "markdown",
   "metadata": {},
   "source": [
    "### Anatolian aceramic Farmer populations"
   ]
  },
  {
   "cell_type": "code",
   "execution_count": 50,
   "metadata": {},
   "outputs": [
    {
     "name": "stdout",
     "output_type": "stream",
     "text": [
      "Loaded 3732 Individuals\n",
      "# Individuals: 6\n",
      "Mean: 28.8752\n",
      "Median: 36.7019\n",
      "No ROH in bin: n=0/6\n"
     ]
    }
   ],
   "source": [
    "df1 = pd.read_csv(\"./Empirical/roh_all_inds_final_v42.csv\", sep='\\t')\n",
    "print(f\"Loaded {len(df1)} Individuals\")\n",
    "df_t= df1[df1[\"economy\"]==\"Aceramic Farmer\"]\n",
    "df_t=df_t[df_t[\"pop\"].str.contains(\"Anatolia\")]\n",
    "cm_vec = give_roh_stats(df_t, cm1=4, cm2=8)\n",
    "df_t"
   ]
  },
  {
   "cell_type": "markdown",
   "metadata": {},
   "source": [
    "# Iberia Middle Neolithic"
   ]
  },
  {
   "cell_type": "code",
   "execution_count": 18,
   "metadata": {},
   "outputs": [
    {
     "name": "stdout",
     "output_type": "stream",
     "text": [
      "Loaded 3732 Individuals\n",
      "# Individuals: 7\n",
      "Mean: 30.4273\n",
      "Median: 32.8301\n",
      "No ROH in bin: n=0/7\n"
     ]
    },
    {
     "data": {
      "text/plain": [
       "32.83009500000001"
      ]
     },
     "execution_count": 18,
     "metadata": {},
     "output_type": "execute_result"
    }
   ],
   "source": [
    "df1 = pd.read_csv(\"./Empirical/roh_all_inds_final_v42.csv\", sep='\\t')\n",
    "print(f\"Loaded {len(df1)} Individuals\")\n",
    "df_t= df1[df1[\"economy\"]==\"Agricultural\"]\n",
    "df_t=df_t[df_t[\"pop\"].str.contains(\"Iberia_EN\")]\n",
    "cm_vec = give_roh_stats(df_t, cm1=4, cm2=8)\n",
    "np.median(cm_vec)"
   ]
  },
  {
   "cell_type": "markdown",
   "metadata": {},
   "source": [
    "### Steppe Pastoralists"
   ]
  },
  {
   "cell_type": "code",
   "execution_count": 66,
   "metadata": {},
   "outputs": [
    {
     "name": "stdout",
     "output_type": "stream",
     "text": [
      "Loaded 3732 Individuals\n"
     ]
    }
   ],
   "source": [
    "df1 = pd.read_csv(\"./Empirical/roh_all_inds_final_v42.csv\", sep='\\t')\n",
    "print(f\"Loaded {len(df1)} Individuals\")\n",
    "df_t= df1[df1[\"economy\"]==\"Pastoralist\"]\n",
    "df_t = df_t[(df_t[\"age\"]>4000) & (df_t[\"age\"]<5000)]\n",
    "cm_vec = give_roh_stats(df_t, cm1=4, cm2=8)"
   ]
  },
  {
   "cell_type": "markdown",
   "metadata": {},
   "source": [
    "# Pakistan Middle Age"
   ]
  },
  {
   "cell_type": "code",
   "execution_count": 29,
   "metadata": {},
   "outputs": [],
   "source": [
    "df1 = pd.read_csv(\"./Empirical/roh_all_inds_final_v42.csv\", sep='\\t')\n",
    "df_t = df1[df1[\"region\"].str.contains(\"Pakistan\") & (df1[\"age\"]==0)]"
   ]
  },
  {
   "cell_type": "code",
   "execution_count": null,
   "metadata": {},
   "outputs": [],
   "source": [
    "#df_t[df_t[\"pop\"].str.contains(\"Pakistan_IA\")][[\"pop\", \"age\",\"lat\", \"lon\"]].sort_values(by=\"lat\")"
   ]
  },
  {
   "cell_type": "markdown",
   "metadata": {},
   "source": [
    "### Present-day Pakistan"
   ]
  },
  {
   "cell_type": "code",
   "execution_count": 8,
   "metadata": {},
   "outputs": [],
   "source": [
    "df1 = pd.read_csv(\"./Empirical/roh_all_inds_final_v42.csv\", sep='\\t')\n",
    "df_t = df1[df1[\"region\"].str.contains(\"Pakistan\") & (df1[\"age\"]==0)]\n",
    "df_t = df_t[df_t[\"pop\"].str.contains(\"Kalash\")]"
   ]
  },
  {
   "cell_type": "code",
   "execution_count": 10,
   "metadata": {},
   "outputs": [
    {
     "name": "stdout",
     "output_type": "stream",
     "text": [
      "# Individuals: 18\n",
      "Mean: 9.8760\n",
      "Median: 0.0000\n",
      "No ROH in bin: n=13/18\n"
     ]
    }
   ],
   "source": [
    "cm_vec = give_roh_stats(df_t, cm1=20, cm2=0)"
   ]
  },
  {
   "cell_type": "code",
   "execution_count": 12,
   "metadata": {},
   "outputs": [
    {
     "data": {
      "text/plain": [
       "18"
      ]
     },
     "execution_count": 12,
     "metadata": {},
     "output_type": "execute_result"
    }
   ],
   "source": [
    "len(cm_vec)"
   ]
  },
  {
   "cell_type": "markdown",
   "metadata": {},
   "source": [
    "# San Nicholas"
   ]
  },
  {
   "cell_type": "code",
   "execution_count": 4,
   "metadata": {},
   "outputs": [
    {
     "name": "stdout",
     "output_type": "stream",
     "text": [
      "Loaded 3732 Individuals\n"
     ]
    }
   ],
   "source": [
    "df1 = pd.read_csv(\"./Empirical/roh_all_inds_final_v42.csv\", sep='\\t')\n",
    "print(f\"Loaded {len(df1)} Individuals\")"
   ]
  },
  {
   "cell_type": "code",
   "execution_count": null,
   "metadata": {},
   "outputs": [],
   "source": [
    "df1[df1[\"pop\"].str.contains(\"Nicolas\")]"
   ]
  },
  {
   "cell_type": "markdown",
   "metadata": {},
   "source": [
    "# Order all ROH"
   ]
  },
  {
   "cell_type": "code",
   "execution_count": null,
   "metadata": {},
   "outputs": [],
   "source": [
    "df1 = pd.read_csv(\"./Empirical/roh_all_inds_final_v42.csv\", sep='\\t')\n",
    "print(f\"Loaded {len(df1)} Individuals\")\n",
    "df1.sort_values(by=\"sum_roh>12\", ascending=False)"
   ]
  },
  {
   "cell_type": "markdown",
   "metadata": {},
   "source": [
    "### Steppe Cultures"
   ]
  },
  {
   "cell_type": "markdown",
   "metadata": {},
   "source": [
    "# Area 51"
   ]
  },
  {
   "cell_type": "code",
   "execution_count": 34,
   "metadata": {},
   "outputs": [
    {
     "name": "stdout",
     "output_type": "stream",
     "text": [
      "Loaded 3732 Individuals\n"
     ]
    }
   ],
   "source": [
    "df1 = pd.read_csv(\"./Empirical/roh_all_inds_final_v42.csv\", sep='\\t')\n",
    "print(f\"Loaded {len(df1)} Individuals\")"
   ]
  },
  {
   "cell_type": "code",
   "execution_count": null,
   "metadata": {},
   "outputs": [],
   "source": [
    "df1[(df1[\"region\"].str.contains(\"Levant\")) & (df1[\"age\"]==0)][\"pop\"].value_counts()"
   ]
  },
  {
   "cell_type": "code",
   "execution_count": null,
   "metadata": {},
   "outputs": [],
   "source": [
    "df1[df1[\"region\"].str.contains(\"Levant\")  & (df1[\"age\"]>0)].sort_values(by=\"age\")[-160:]"
   ]
  },
  {
   "cell_type": "code",
   "execution_count": null,
   "metadata": {},
   "outputs": [],
   "source": []
  }
 ],
 "metadata": {
  "kernelspec": {
   "display_name": "Python 3",
   "language": "python",
   "name": "python3"
  },
  "language_info": {
   "codemirror_mode": {
    "name": "ipython",
    "version": 3
   },
   "file_extension": ".py",
   "mimetype": "text/x-python",
   "name": "python",
   "nbconvert_exporter": "python",
   "pygments_lexer": "ipython3",
   "version": "3.7.0"
  }
 },
 "nbformat": 4,
 "nbformat_minor": 2
}
