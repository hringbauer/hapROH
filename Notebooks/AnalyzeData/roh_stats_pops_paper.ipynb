{
 "cells": [
  {
   "cell_type": "markdown",
   "metadata": {},
   "source": [
    "# Stats for populations\n",
    "Use v42 data release here"
   ]
  },
  {
   "cell_type": "code",
   "execution_count": 1,
   "metadata": {},
   "outputs": [
    {
     "name": "stdout",
     "output_type": "stream",
     "text": [
      "midway2-0401.rcc.local\n",
      "Midway jnovmbre partition detected.\n",
      "/project2/jnovembre/hringbauer/HAPSBURG\n",
      "CPU Count: 28\n"
     ]
    }
   ],
   "source": [
    "import numpy as np\n",
    "import os  # For Saving to Folder\n",
    "import pandas as pd\n",
    "\n",
    "import socket\n",
    "import os as os\n",
    "import sys as sys\n",
    "import multiprocessing as mp\n",
    "\n",
    "### For Arial Font\n",
    "from matplotlib import rcParams\n",
    "rcParams['font.family'] = 'sans-serif'   # Set the defaul\n",
    "rcParams['font.sans-serif'] = ['Arial']  # Make sure to have the font installed (it is on cluster for Harald)\n",
    "\n",
    "socket_name = socket.gethostname()\n",
    "print(socket_name)\n",
    "if socket_name == \"VioletQueen\":\n",
    "    path = \"/home/harald/git/HAPSBURG/\"   # The Path on Harald's machine\n",
    "elif socket_name.startswith(\"midway2\"):\n",
    "    print(\"Midway jnovmbre partition detected.\")\n",
    "    path = \"/project2/jnovembre/hringbauer/HAPSBURG/\"  # The Path on Midway Cluster\n",
    "elif socket_name.startswith(\"Harald-Laptop\"):\n",
    "    print(\"Harald laptop detected.\")\n",
    "    path = \"/home/hringbauer/git/HAPSBURG/\"  # The Path on Midway Cluster\n",
    "else: \n",
    "    raise RuntimeWarning(\"Not compatible machine. Check!!\")\n",
    "\n",
    "os.chdir(path)  # Set the right Path (in line with Atom default)\n",
    "print(os.getcwd()) # Show the current working directory. Should be HAPSBURG/Notebooks/ParallelRuns\n",
    "print(f\"CPU Count: {mp.cpu_count()}\")"
   ]
  },
  {
   "cell_type": "markdown",
   "metadata": {},
   "source": [
    "### Function to print ROH summary stats"
   ]
  },
  {
   "cell_type": "code",
   "execution_count": 2,
   "metadata": {},
   "outputs": [],
   "source": [
    "def give_roh_stats(df, cm1, cm2=0):\n",
    "    \"\"\"Gives ROH Stats for dataframe df\n",
    "    for all ROH blocks between cm1-cm2 cm long\"\"\"\n",
    "    cm_vec = df[f\"sum_roh>{cm1}\"]\n",
    "    if cm2>0:\n",
    "        cm_vec = cm_vec -  df[f\"sum_roh>{cm2}\"]\n",
    "        \n",
    "    print(f\"# Individuals: {len(cm_vec)}\")\n",
    "    print(f\"Mean: {np.mean(cm_vec):.4f}\")\n",
    "    print(f\"Median: {np.median(cm_vec):.4f}\")\n",
    "    \n",
    "    idx = cm_vec==0\n",
    "    print(f\"No ROH in bin: n={np.sum(idx)}/{len(idx)}\")\n",
    "    return cm_vec"
   ]
  },
  {
   "cell_type": "code",
   "execution_count": 3,
   "metadata": {},
   "outputs": [],
   "source": []
  },
  {
   "cell_type": "markdown",
   "metadata": {},
   "source": [
    "# Populations older than 10k years"
   ]
  },
  {
   "cell_type": "code",
   "execution_count": 47,
   "metadata": {},
   "outputs": [
    {
     "name": "stdout",
     "output_type": "stream",
     "text": [
      "Loaded 3732 Individuals\n"
     ]
    }
   ],
   "source": [
    "df1 = pd.read_csv(\"./Empirical/roh_all_inds_final_v42.csv\", sep='\\t')\n",
    "print(f\"Loaded {len(df1)} Individuals\")"
   ]
  },
  {
   "cell_type": "code",
   "execution_count": 48,
   "metadata": {},
   "outputs": [
    {
     "name": "stdout",
     "output_type": "stream",
     "text": [
      "# Individuals: 43\n",
      "Mean: 58.5418\n",
      "Median: 54.6003\n",
      "No ROH in bin: n=0/43\n"
     ]
    }
   ],
   "source": [
    "### Analyze 8000 BP Individuals\n",
    "df_anc = df1[df1[\"age\"]>10000]\n",
    "cm_vec = give_roh_stats(df_anc, cm1=4, cm2=8)\n",
    "#cm_vec"
   ]
  },
  {
   "cell_type": "code",
   "execution_count": null,
   "metadata": {},
   "outputs": [],
   "source": [
    "df_anc.sort_values(by=\"sum_roh>4\")"
   ]
  },
  {
   "cell_type": "markdown",
   "metadata": {},
   "source": [
    "### Populations between 10-8k years"
   ]
  },
  {
   "cell_type": "code",
   "execution_count": 27,
   "metadata": {},
   "outputs": [
    {
     "name": "stdout",
     "output_type": "stream",
     "text": [
      "Loaded 3732 Individuals\n"
     ]
    }
   ],
   "source": [
    "df1 = pd.read_csv(\"./Empirical/roh_all_inds_final_v42.csv\", sep='\\t')\n",
    "print(f\"Loaded {len(df1)} Individuals\")\n",
    "df_t= df1[df1[\"economy\"]==\"Hunter Gatherer\"]\n",
    "df_t = df_t[(df_t[\"age\"]<10000) & (df_t[\"age\"]>8000)]"
   ]
  },
  {
   "cell_type": "code",
   "execution_count": 33,
   "metadata": {},
   "outputs": [
    {
     "name": "stdout",
     "output_type": "stream",
     "text": [
      "# Individuals: 39\n",
      "Mean: 18.5735\n",
      "Median: 14.2146\n",
      "No ROH in bin: n=3/39\n"
     ]
    }
   ],
   "source": [
    "cm_vec = give_roh_stats(df_t, cm1=4, cm2=8)\n",
    "#df_t.sort_values(by=\"sum_roh>4\")"
   ]
  },
  {
   "cell_type": "markdown",
   "metadata": {},
   "source": [
    "### Long ROH in San Nicholas"
   ]
  },
  {
   "cell_type": "code",
   "execution_count": 58,
   "metadata": {},
   "outputs": [
    {
     "name": "stdout",
     "output_type": "stream",
     "text": [
      "Loaded 3732 Individuals\n"
     ]
    },
    {
     "data": {
      "text/html": [
       "<div>\n",
       "<style scoped>\n",
       "    .dataframe tbody tr th:only-of-type {\n",
       "        vertical-align: middle;\n",
       "    }\n",
       "\n",
       "    .dataframe tbody tr th {\n",
       "        vertical-align: top;\n",
       "    }\n",
       "\n",
       "    .dataframe thead th {\n",
       "        text-align: right;\n",
       "    }\n",
       "</style>\n",
       "<table border=\"1\" class=\"dataframe\">\n",
       "  <thead>\n",
       "    <tr style=\"text-align: right;\">\n",
       "      <th></th>\n",
       "      <th>iid</th>\n",
       "      <th>pop</th>\n",
       "      <th>max_roh</th>\n",
       "      <th>sum_roh&gt;4</th>\n",
       "      <th>n_roh&gt;4</th>\n",
       "      <th>sum_roh&gt;8</th>\n",
       "      <th>n_roh&gt;8</th>\n",
       "      <th>sum_roh&gt;12</th>\n",
       "      <th>n_roh&gt;12</th>\n",
       "      <th>sum_roh&gt;20</th>\n",
       "      <th>...</th>\n",
       "      <th>lon</th>\n",
       "      <th>age</th>\n",
       "      <th>study</th>\n",
       "      <th>clst</th>\n",
       "      <th>mean_cov</th>\n",
       "      <th>n_cov_snp</th>\n",
       "      <th>include_alt</th>\n",
       "      <th>region</th>\n",
       "      <th>color</th>\n",
       "      <th>economy</th>\n",
       "    </tr>\n",
       "  </thead>\n",
       "  <tbody>\n",
       "    <tr>\n",
       "      <th>101</th>\n",
       "      <td>SN-44.SG</td>\n",
       "      <td>USA_CA_Early_SanNicolas.SG</td>\n",
       "      <td>65.982402</td>\n",
       "      <td>688.231434</td>\n",
       "      <td>58</td>\n",
       "      <td>525.930033</td>\n",
       "      <td>29</td>\n",
       "      <td>436.336621</td>\n",
       "      <td>20</td>\n",
       "      <td>247.849303</td>\n",
       "      <td>...</td>\n",
       "      <td>-119.539000</td>\n",
       "      <td>5337.0</td>\n",
       "      <td>ScheibScience2018</td>\n",
       "      <td>USA_CA_Early_SanNicolas.SG</td>\n",
       "      <td>3.097140</td>\n",
       "      <td>1111229</td>\n",
       "      <td>1</td>\n",
       "      <td>Pacific NW</td>\n",
       "      <td>silver</td>\n",
       "      <td>NaN</td>\n",
       "    </tr>\n",
       "    <tr>\n",
       "      <th>236</th>\n",
       "      <td>SN-11.SG</td>\n",
       "      <td>USA_CA_Late_SanNicolas.SG</td>\n",
       "      <td>36.820000</td>\n",
       "      <td>325.577445</td>\n",
       "      <td>33</td>\n",
       "      <td>216.507680</td>\n",
       "      <td>13</td>\n",
       "      <td>169.222088</td>\n",
       "      <td>8</td>\n",
       "      <td>87.133599</td>\n",
       "      <td>...</td>\n",
       "      <td>-119.539000</td>\n",
       "      <td>1100.0</td>\n",
       "      <td>ScheibScience2018</td>\n",
       "      <td>USA_CA_Late_SanNicolas.SG</td>\n",
       "      <td>1.850441</td>\n",
       "      <td>975879</td>\n",
       "      <td>1</td>\n",
       "      <td>Pacific NW</td>\n",
       "      <td>silver</td>\n",
       "      <td>NaN</td>\n",
       "    </tr>\n",
       "    <tr>\n",
       "      <th>3507</th>\n",
       "      <td>SN-13.SG</td>\n",
       "      <td>USA_CA_Late_SanNicolas.SG</td>\n",
       "      <td>59.737399</td>\n",
       "      <td>455.327516</td>\n",
       "      <td>32</td>\n",
       "      <td>387.192213</td>\n",
       "      <td>19</td>\n",
       "      <td>351.594299</td>\n",
       "      <td>15</td>\n",
       "      <td>226.224903</td>\n",
       "      <td>...</td>\n",
       "      <td>-119.539000</td>\n",
       "      <td>811.0</td>\n",
       "      <td>ScheibScience2018</td>\n",
       "      <td>USA_CA_Late_SanNicolas.SG</td>\n",
       "      <td>0.580568</td>\n",
       "      <td>509837</td>\n",
       "      <td>1</td>\n",
       "      <td>Pacific NW</td>\n",
       "      <td>silver</td>\n",
       "      <td>NaN</td>\n",
       "    </tr>\n",
       "    <tr>\n",
       "      <th>3680</th>\n",
       "      <td>SN-50.SG</td>\n",
       "      <td>USA_CA_Late_SanNicolas.SG</td>\n",
       "      <td>20.095896</td>\n",
       "      <td>256.183607</td>\n",
       "      <td>30</td>\n",
       "      <td>171.953598</td>\n",
       "      <td>13</td>\n",
       "      <td>109.210103</td>\n",
       "      <td>7</td>\n",
       "      <td>20.095896</td>\n",
       "      <td>...</td>\n",
       "      <td>-119.499561</td>\n",
       "      <td>1477.0</td>\n",
       "      <td>ScheibScience2018</td>\n",
       "      <td>USA_CA_Late_SanNicolas.SG</td>\n",
       "      <td>0.447410</td>\n",
       "      <td>420801</td>\n",
       "      <td>1</td>\n",
       "      <td>Pacific NW</td>\n",
       "      <td>silver</td>\n",
       "      <td>NaN</td>\n",
       "    </tr>\n",
       "  </tbody>\n",
       "</table>\n",
       "<p>4 rows × 22 columns</p>\n",
       "</div>"
      ],
      "text/plain": [
       "           iid                         pop    max_roh   sum_roh>4  n_roh>4  \\\n",
       "101   SN-44.SG  USA_CA_Early_SanNicolas.SG  65.982402  688.231434       58   \n",
       "236   SN-11.SG   USA_CA_Late_SanNicolas.SG  36.820000  325.577445       33   \n",
       "3507  SN-13.SG   USA_CA_Late_SanNicolas.SG  59.737399  455.327516       32   \n",
       "3680  SN-50.SG   USA_CA_Late_SanNicolas.SG  20.095896  256.183607       30   \n",
       "\n",
       "       sum_roh>8  n_roh>8  sum_roh>12  n_roh>12  sum_roh>20   ...    \\\n",
       "101   525.930033       29  436.336621        20  247.849303   ...     \n",
       "236   216.507680       13  169.222088         8   87.133599   ...     \n",
       "3507  387.192213       19  351.594299        15  226.224903   ...     \n",
       "3680  171.953598       13  109.210103         7   20.095896   ...     \n",
       "\n",
       "             lon     age              study                        clst  \\\n",
       "101  -119.539000  5337.0  ScheibScience2018  USA_CA_Early_SanNicolas.SG   \n",
       "236  -119.539000  1100.0  ScheibScience2018   USA_CA_Late_SanNicolas.SG   \n",
       "3507 -119.539000   811.0  ScheibScience2018   USA_CA_Late_SanNicolas.SG   \n",
       "3680 -119.499561  1477.0  ScheibScience2018   USA_CA_Late_SanNicolas.SG   \n",
       "\n",
       "      mean_cov n_cov_snp  include_alt      region   color economy  \n",
       "101   3.097140   1111229            1  Pacific NW  silver     NaN  \n",
       "236   1.850441    975879            1  Pacific NW  silver     NaN  \n",
       "3507  0.580568    509837            1  Pacific NW  silver     NaN  \n",
       "3680  0.447410    420801            1  Pacific NW  silver     NaN  \n",
       "\n",
       "[4 rows x 22 columns]"
      ]
     },
     "execution_count": 58,
     "metadata": {},
     "output_type": "execute_result"
    }
   ],
   "source": [
    "df1 = pd.read_csv(\"./Empirical/roh_all_inds_final_v42.csv\", sep='\\t')\n",
    "print(f\"Loaded {len(df1)} Individuals\")\n",
    "df_t = df1[df1[\"pop\"].str.contains(\"SanNicolas\")]\n",
    "df_t"
   ]
  },
  {
   "cell_type": "markdown",
   "metadata": {},
   "source": [
    "### Anatolian Neolithic Farmer populations"
   ]
  },
  {
   "cell_type": "code",
   "execution_count": 23,
   "metadata": {},
   "outputs": [
    {
     "name": "stdout",
     "output_type": "stream",
     "text": [
      "Loaded 3732 Individuals\n",
      "# Individuals: 23\n",
      "Mean: 3.2379\n",
      "Median: 0.0000\n",
      "No ROH in bin: n=15/23\n"
     ]
    }
   ],
   "source": [
    "df1 = pd.read_csv(\"./Empirical/roh_all_inds_final_v42.csv\", sep='\\t')\n",
    "print(f\"Loaded {len(df1)} Individuals\")\n",
    "df_t= df1[df1[\"economy\"]==\"Agricultural\"]\n",
    "\n",
    "df_t = df_t[df_t[\"pop\"].str.contains(\"Anatolia_N\")]\n",
    "cm_vec = give_roh_stats(df_t, cm1=4, cm2=0)"
   ]
  },
  {
   "cell_type": "markdown",
   "metadata": {},
   "source": [
    "### Anatolian aceramic Farmer populations"
   ]
  },
  {
   "cell_type": "code",
   "execution_count": 50,
   "metadata": {},
   "outputs": [
    {
     "name": "stdout",
     "output_type": "stream",
     "text": [
      "Loaded 3732 Individuals\n",
      "# Individuals: 6\n",
      "Mean: 28.8752\n",
      "Median: 36.7019\n",
      "No ROH in bin: n=0/6\n"
     ]
    }
   ],
   "source": [
    "df1 = pd.read_csv(\"./Empirical/roh_all_inds_final_v42.csv\", sep='\\t')\n",
    "print(f\"Loaded {len(df1)} Individuals\")\n",
    "df_t= df1[df1[\"economy\"]==\"Aceramic Farmer\"]\n",
    "df_t=df_t[df_t[\"pop\"].str.contains(\"Anatolia\")]\n",
    "cm_vec = give_roh_stats(df_t, cm1=4, cm2=8)"
   ]
  },
  {
   "cell_type": "code",
   "execution_count": 46,
   "metadata": {},
   "outputs": [
    {
     "data": {
      "text/html": [
       "<div>\n",
       "<style scoped>\n",
       "    .dataframe tbody tr th:only-of-type {\n",
       "        vertical-align: middle;\n",
       "    }\n",
       "\n",
       "    .dataframe tbody tr th {\n",
       "        vertical-align: top;\n",
       "    }\n",
       "\n",
       "    .dataframe thead th {\n",
       "        text-align: right;\n",
       "    }\n",
       "</style>\n",
       "<table border=\"1\" class=\"dataframe\">\n",
       "  <thead>\n",
       "    <tr style=\"text-align: right;\">\n",
       "      <th></th>\n",
       "      <th>iid</th>\n",
       "      <th>pop</th>\n",
       "      <th>max_roh</th>\n",
       "      <th>sum_roh&gt;4</th>\n",
       "      <th>n_roh&gt;4</th>\n",
       "      <th>sum_roh&gt;8</th>\n",
       "      <th>n_roh&gt;8</th>\n",
       "      <th>sum_roh&gt;12</th>\n",
       "      <th>n_roh&gt;12</th>\n",
       "      <th>sum_roh&gt;20</th>\n",
       "      <th>...</th>\n",
       "      <th>lon</th>\n",
       "      <th>age</th>\n",
       "      <th>study</th>\n",
       "      <th>clst</th>\n",
       "      <th>mean_cov</th>\n",
       "      <th>n_cov_snp</th>\n",
       "      <th>include_alt</th>\n",
       "      <th>region</th>\n",
       "      <th>color</th>\n",
       "      <th>economy</th>\n",
       "    </tr>\n",
       "  </thead>\n",
       "  <tbody>\n",
       "    <tr>\n",
       "      <th>128</th>\n",
       "      <td>Bon002.SG</td>\n",
       "      <td>Anatolia_Boncuklu_N.SG</td>\n",
       "      <td>10.415697</td>\n",
       "      <td>23.633311</td>\n",
       "      <td>4</td>\n",
       "      <td>10.415697</td>\n",
       "      <td>1</td>\n",
       "      <td>0.000000</td>\n",
       "      <td>0</td>\n",
       "      <td>0.0</td>\n",
       "      <td>...</td>\n",
       "      <td>32.864901</td>\n",
       "      <td>10078.0</td>\n",
       "      <td>KilincCurrentBiology2016</td>\n",
       "      <td>Anatolia_Boncuklu_N.SG</td>\n",
       "      <td>3.950000</td>\n",
       "      <td>1077088</td>\n",
       "      <td>1</td>\n",
       "      <td>Aegan</td>\n",
       "      <td>plum</td>\n",
       "      <td>Aceramic Farmer</td>\n",
       "    </tr>\n",
       "    <tr>\n",
       "      <th>843</th>\n",
       "      <td>ZHAG_BON004.A0101_Luk10</td>\n",
       "      <td>Anatolia_N</td>\n",
       "      <td>19.811200</td>\n",
       "      <td>84.981384</td>\n",
       "      <td>10</td>\n",
       "      <td>47.030193</td>\n",
       "      <td>3</td>\n",
       "      <td>38.851399</td>\n",
       "      <td>2</td>\n",
       "      <td>0.0</td>\n",
       "      <td>...</td>\n",
       "      <td>32.866667</td>\n",
       "      <td>9900.0</td>\n",
       "      <td>FeldmanNatureCommunications2019</td>\n",
       "      <td>Anatolia_N</td>\n",
       "      <td>1.243703</td>\n",
       "      <td>772944</td>\n",
       "      <td>1</td>\n",
       "      <td>Aegan</td>\n",
       "      <td>plum</td>\n",
       "      <td>Aceramic Farmer</td>\n",
       "    </tr>\n",
       "    <tr>\n",
       "      <th>1387</th>\n",
       "      <td>ZKO_BON001.A0101_Luk7</td>\n",
       "      <td>Anatolia_N</td>\n",
       "      <td>9.699196</td>\n",
       "      <td>46.889787</td>\n",
       "      <td>8</td>\n",
       "      <td>9.699196</td>\n",
       "      <td>1</td>\n",
       "      <td>0.000000</td>\n",
       "      <td>0</td>\n",
       "      <td>0.0</td>\n",
       "      <td>...</td>\n",
       "      <td>32.866667</td>\n",
       "      <td>10000.0</td>\n",
       "      <td>FeldmanNatureCommunications2019</td>\n",
       "      <td>Anatolia_N</td>\n",
       "      <td>0.742933</td>\n",
       "      <td>592138</td>\n",
       "      <td>1</td>\n",
       "      <td>Aegan</td>\n",
       "      <td>plum</td>\n",
       "      <td>Aceramic Farmer</td>\n",
       "    </tr>\n",
       "    <tr>\n",
       "      <th>3460</th>\n",
       "      <td>ZHJ_BON024.A0101_Luk84</td>\n",
       "      <td>Anatolia_N</td>\n",
       "      <td>12.023400</td>\n",
       "      <td>16.641604</td>\n",
       "      <td>2</td>\n",
       "      <td>12.023400</td>\n",
       "      <td>1</td>\n",
       "      <td>12.023400</td>\n",
       "      <td>1</td>\n",
       "      <td>0.0</td>\n",
       "      <td>...</td>\n",
       "      <td>32.866667</td>\n",
       "      <td>10190.0</td>\n",
       "      <td>FeldmanNatureCommunications2019</td>\n",
       "      <td>Anatolia_N</td>\n",
       "      <td>0.629825</td>\n",
       "      <td>529709</td>\n",
       "      <td>1</td>\n",
       "      <td>Aegan</td>\n",
       "      <td>plum</td>\n",
       "      <td>Aceramic Farmer</td>\n",
       "    </tr>\n",
       "    <tr>\n",
       "      <th>3461</th>\n",
       "      <td>ZMOJ_BON014.A0101_Luk21</td>\n",
       "      <td>Anatolia_N</td>\n",
       "      <td>6.821099</td>\n",
       "      <td>36.213295</td>\n",
       "      <td>7</td>\n",
       "      <td>0.000000</td>\n",
       "      <td>0</td>\n",
       "      <td>0.000000</td>\n",
       "      <td>0</td>\n",
       "      <td>0.0</td>\n",
       "      <td>...</td>\n",
       "      <td>32.866667</td>\n",
       "      <td>9900.0</td>\n",
       "      <td>FeldmanNatureCommunications2019</td>\n",
       "      <td>Anatolia_N</td>\n",
       "      <td>0.646215</td>\n",
       "      <td>529618</td>\n",
       "      <td>1</td>\n",
       "      <td>Aegan</td>\n",
       "      <td>plum</td>\n",
       "      <td>Aceramic Farmer</td>\n",
       "    </tr>\n",
       "    <tr>\n",
       "      <th>3556</th>\n",
       "      <td>ZHAJ_BON034.A0101_Luk9</td>\n",
       "      <td>Anatolia_N</td>\n",
       "      <td>9.003902</td>\n",
       "      <td>53.063994</td>\n",
       "      <td>9</td>\n",
       "      <td>9.003902</td>\n",
       "      <td>1</td>\n",
       "      <td>0.000000</td>\n",
       "      <td>0</td>\n",
       "      <td>0.0</td>\n",
       "      <td>...</td>\n",
       "      <td>32.866667</td>\n",
       "      <td>9900.0</td>\n",
       "      <td>FeldmanNatureCommunications2019</td>\n",
       "      <td>Anatolia_N</td>\n",
       "      <td>0.567341</td>\n",
       "      <td>486511</td>\n",
       "      <td>1</td>\n",
       "      <td>Aegan</td>\n",
       "      <td>plum</td>\n",
       "      <td>Aceramic Farmer</td>\n",
       "    </tr>\n",
       "  </tbody>\n",
       "</table>\n",
       "<p>6 rows × 22 columns</p>\n",
       "</div>"
      ],
      "text/plain": [
       "                          iid                     pop    max_roh  sum_roh>4  \\\n",
       "128                 Bon002.SG  Anatolia_Boncuklu_N.SG  10.415697  23.633311   \n",
       "843   ZHAG_BON004.A0101_Luk10              Anatolia_N  19.811200  84.981384   \n",
       "1387    ZKO_BON001.A0101_Luk7              Anatolia_N   9.699196  46.889787   \n",
       "3460   ZHJ_BON024.A0101_Luk84              Anatolia_N  12.023400  16.641604   \n",
       "3461  ZMOJ_BON014.A0101_Luk21              Anatolia_N   6.821099  36.213295   \n",
       "3556   ZHAJ_BON034.A0101_Luk9              Anatolia_N   9.003902  53.063994   \n",
       "\n",
       "      n_roh>4  sum_roh>8  n_roh>8  sum_roh>12  n_roh>12  sum_roh>20  \\\n",
       "128         4  10.415697        1    0.000000         0         0.0   \n",
       "843        10  47.030193        3   38.851399         2         0.0   \n",
       "1387        8   9.699196        1    0.000000         0         0.0   \n",
       "3460        2  12.023400        1   12.023400         1         0.0   \n",
       "3461        7   0.000000        0    0.000000         0         0.0   \n",
       "3556        9   9.003902        1    0.000000         0         0.0   \n",
       "\n",
       "           ...               lon      age                            study  \\\n",
       "128        ...         32.864901  10078.0         KilincCurrentBiology2016   \n",
       "843        ...         32.866667   9900.0  FeldmanNatureCommunications2019   \n",
       "1387       ...         32.866667  10000.0  FeldmanNatureCommunications2019   \n",
       "3460       ...         32.866667  10190.0  FeldmanNatureCommunications2019   \n",
       "3461       ...         32.866667   9900.0  FeldmanNatureCommunications2019   \n",
       "3556       ...         32.866667   9900.0  FeldmanNatureCommunications2019   \n",
       "\n",
       "                        clst  mean_cov n_cov_snp  include_alt  region  color  \\\n",
       "128   Anatolia_Boncuklu_N.SG  3.950000   1077088            1   Aegan   plum   \n",
       "843               Anatolia_N  1.243703    772944            1   Aegan   plum   \n",
       "1387              Anatolia_N  0.742933    592138            1   Aegan   plum   \n",
       "3460              Anatolia_N  0.629825    529709            1   Aegan   plum   \n",
       "3461              Anatolia_N  0.646215    529618            1   Aegan   plum   \n",
       "3556              Anatolia_N  0.567341    486511            1   Aegan   plum   \n",
       "\n",
       "              economy  \n",
       "128   Aceramic Farmer  \n",
       "843   Aceramic Farmer  \n",
       "1387  Aceramic Farmer  \n",
       "3460  Aceramic Farmer  \n",
       "3461  Aceramic Farmer  \n",
       "3556  Aceramic Farmer  \n",
       "\n",
       "[6 rows x 22 columns]"
      ]
     },
     "execution_count": 46,
     "metadata": {},
     "output_type": "execute_result"
    }
   ],
   "source": [
    "df_t"
   ]
  },
  {
   "cell_type": "markdown",
   "metadata": {},
   "source": [
    "### Steppe Pastoralists"
   ]
  },
  {
   "cell_type": "code",
   "execution_count": 66,
   "metadata": {},
   "outputs": [
    {
     "name": "stdout",
     "output_type": "stream",
     "text": [
      "Loaded 3732 Individuals\n"
     ]
    }
   ],
   "source": [
    "df1 = pd.read_csv(\"./Empirical/roh_all_inds_final_v42.csv\", sep='\\t')\n",
    "print(f\"Loaded {len(df1)} Individuals\")\n",
    "df_t= df1[df1[\"economy\"]==\"Pastoralist\"]\n",
    "df_t = df_t[(df_t[\"age\"]>4000) & (df_t[\"age\"]<5000)]"
   ]
  },
  {
   "cell_type": "code",
   "execution_count": 75,
   "metadata": {},
   "outputs": [
    {
     "name": "stdout",
     "output_type": "stream",
     "text": [
      "# Individuals: 91\n",
      "Mean: 14.6942\n",
      "Median: 15.0520\n",
      "No ROH in bin: n=11/91\n"
     ]
    }
   ],
   "source": [
    "cm_vec = give_roh_stats(df_t, cm1=4, cm2=8)"
   ]
  },
  {
   "cell_type": "code",
   "execution_count": 71,
   "metadata": {},
   "outputs": [
    {
     "data": {
      "text/html": [
       "<div>\n",
       "<style scoped>\n",
       "    .dataframe tbody tr th:only-of-type {\n",
       "        vertical-align: middle;\n",
       "    }\n",
       "\n",
       "    .dataframe tbody tr th {\n",
       "        vertical-align: top;\n",
       "    }\n",
       "\n",
       "    .dataframe thead th {\n",
       "        text-align: right;\n",
       "    }\n",
       "</style>\n",
       "<table border=\"1\" class=\"dataframe\">\n",
       "  <thead>\n",
       "    <tr style=\"text-align: right;\">\n",
       "      <th></th>\n",
       "      <th>iid</th>\n",
       "      <th>pop</th>\n",
       "      <th>max_roh</th>\n",
       "      <th>sum_roh&gt;4</th>\n",
       "      <th>n_roh&gt;4</th>\n",
       "      <th>sum_roh&gt;8</th>\n",
       "      <th>n_roh&gt;8</th>\n",
       "      <th>sum_roh&gt;12</th>\n",
       "      <th>n_roh&gt;12</th>\n",
       "      <th>sum_roh&gt;20</th>\n",
       "      <th>...</th>\n",
       "      <th>lon</th>\n",
       "      <th>age</th>\n",
       "      <th>study</th>\n",
       "      <th>clst</th>\n",
       "      <th>mean_cov</th>\n",
       "      <th>n_cov_snp</th>\n",
       "      <th>include_alt</th>\n",
       "      <th>region</th>\n",
       "      <th>color</th>\n",
       "      <th>economy</th>\n",
       "    </tr>\n",
       "  </thead>\n",
       "  <tbody>\n",
       "  </tbody>\n",
       "</table>\n",
       "<p>0 rows × 22 columns</p>\n",
       "</div>"
      ],
      "text/plain": [
       "Empty DataFrame\n",
       "Columns: [iid, pop, max_roh, sum_roh>4, n_roh>4, sum_roh>8, n_roh>8, sum_roh>12, n_roh>12, sum_roh>20, n_roh>20, lat, lon, age, study, clst, mean_cov, n_cov_snp, include_alt, region, color, economy]\n",
       "Index: []\n",
       "\n",
       "[0 rows x 22 columns]"
      ]
     },
     "execution_count": 71,
     "metadata": {},
     "output_type": "execute_result"
    }
   ],
   "source": [
    "df_t[df_t[\"sum_roh>20\"]>50]"
   ]
  },
  {
   "cell_type": "markdown",
   "metadata": {},
   "source": [
    "# Order all ROH"
   ]
  },
  {
   "cell_type": "code",
   "execution_count": null,
   "metadata": {},
   "outputs": [],
   "source": [
    "df1 = pd.read_csv(\"./Empirical/roh_all_inds_final_v42.csv\", sep='\\t')\n",
    "print(f\"Loaded {len(df1)} Individuals\")\n",
    "df1.sort_values(by=\"sum_roh>12\", ascending=False)"
   ]
  },
  {
   "cell_type": "code",
   "execution_count": null,
   "metadata": {},
   "outputs": [],
   "source": []
  }
 ],
 "metadata": {
  "kernelspec": {
   "display_name": "Python 3",
   "language": "python",
   "name": "python3"
  },
  "language_info": {
   "codemirror_mode": {
    "name": "ipython",
    "version": 3
   },
   "file_extension": ".py",
   "mimetype": "text/x-python",
   "name": "python",
   "nbconvert_exporter": "python",
   "pygments_lexer": "ipython3",
   "version": "3.7.0"
  }
 },
 "nbformat": 4,
 "nbformat_minor": 2
}
