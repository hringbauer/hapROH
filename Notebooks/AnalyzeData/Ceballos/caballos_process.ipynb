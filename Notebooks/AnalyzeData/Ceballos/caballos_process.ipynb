{
 "cells": [
  {
   "cell_type": "markdown",
   "metadata": {},
   "source": [
    "# Code to process the Ceballos samples"
   ]
  },
  {
   "cell_type": "code",
   "execution_count": 33,
   "metadata": {},
   "outputs": [
    {
     "name": "stdout",
     "output_type": "stream",
     "text": [
      "midway2-0401.rcc.local\n",
      "Midway jnovmbre partition detected.\n",
      "/project2/jnovembre/hringbauer/HAPSBURG\n",
      "CPU Count: 28\n"
     ]
    }
   ],
   "source": [
    "import numpy as np\n",
    "import os  # For Saving to Folder\n",
    "import pandas as pd\n",
    "import matplotlib.pyplot as plt\n",
    "import matplotlib.cm as cm\n",
    "import matplotlib.colorbar as clb\n",
    "import matplotlib.colors as cls\n",
    "from matplotlib import gridspec\n",
    "from mpl_toolkits.axes_grid1 import make_axes_locatable\n",
    "#from mpl_toolkits.basemap import Basemap\n",
    "\n",
    "import socket\n",
    "import os as os\n",
    "import sys as sys\n",
    "import multiprocessing as mp\n",
    "\n",
    "### For Arial Font\n",
    "from matplotlib import rcParams\n",
    "rcParams['font.family'] = 'sans-serif'   # Set the defaul\n",
    "rcParams['font.sans-serif'] = ['Arial']  # Make sure to have the font installed (it is on cluster for Harald)\n",
    "\n",
    "### To do lowess smoothing\n",
    "#import statsmodels.api as sm\n",
    "#lowess = sm.nonparametric.lowess\n",
    "\n",
    "socket_name = socket.gethostname()\n",
    "print(socket_name)\n",
    "if socket_name == \"VioletQueen\":\n",
    "    path = \"/home/harald/git/HAPSBURG/\"   # The Path on Harald's machine\n",
    "elif socket_name.startswith(\"midway2\"):\n",
    "    print(\"Midway jnovmbre partition detected.\")\n",
    "    path = \"/project2/jnovembre/hringbauer/HAPSBURG/\"  # The Path on Midway Cluster\n",
    "elif socket_name.startswith(\"Harald-Laptop\"):\n",
    "    print(\"Midway jnovmbre partition detected.\")\n",
    "    path = \"/home/hringbauer/git/HAPSBURG/\"  # The Path on Midway Cluster\n",
    "else: \n",
    "    raise RuntimeWarning(\"Not compatible machine. Check!!\")\n",
    "\n",
    "os.chdir(path)  # Set the right Path (in line with Atom default)\n",
    "print(os.getcwd()) # Show the current working directory. Should be HAPSBURG/Notebooks/ParallelRuns\n",
    "print(f\"CPU Count: {mp.cpu_count()}\")\n",
    "\n",
    "sys.path.append(\"./package/hapsburg\") # Append Hapsburg Folder\n",
    "from PackagesSupport.roh_expectations import Expected_Roh"
   ]
  },
  {
   "cell_type": "code",
   "execution_count": 34,
   "metadata": {},
   "outputs": [],
   "source": [
    "def load_df_ceballos(path_ceballos=\"./Data/Ceballos/ROH500_cM_het0_v3.csv\"):\n",
    "    \"\"\"Load Dataframe of Ceballos\"\"\"\n",
    "    df = pd.read_csv(path_ceballos)\n",
    "    l = len(set(df[\"IID\"]))\n",
    "    print(f\"Loaded {len(df)} ROH from {l} Individuals\")\n",
    "\n",
    "    df1 = df[[\"POS1\", \"POS2\", \"cM.1\", \"cM.2\", \"IID\", \"CHR\"]].copy()\n",
    "    df1.columns = ['Start', 'End', 'StartM', 'EndM','iid', 'ch']\n",
    "    df1['length'] = df1[\"End\"] - df1[\"Start\"]\n",
    "    df1[\"EndM\"] = df1[\"EndM\"]/100\n",
    "    df1[\"StartM\"] = df1[\"StartM\"]/100\n",
    "    df1[\"lengthM\"] = df1['EndM'] - df1['StartM']\n",
    "    return df1\n",
    "\n",
    "def save_roh_to_ch(df, path=\"./Empirical/ceballos/Ust_Ishim/chr\", ch=3, \n",
    "                   file=\"roh.csv\", suffix=\"\", output=True):\n",
    "    \"\"\"Save Chromosomes of hapROH dataframe\n",
    "    path: The path without chromosomes number\"\"\"\n",
    "    folder = path + str(ch) + suffix\n",
    "    if not os.path.exists(folder):\n",
    "        if output:\n",
    "            print(f\"Creating Path {folder}...\")\n",
    "        os.makedirs(folder)\n",
    "    \n",
    "    ### Extract and Save\n",
    "    df_c = df[df[\"ch\"]==ch].copy()\n",
    "    save_path = os.path.join(folder,file)\n",
    "    df_c.to_csv(save_path, sep=\",\", index=False)\n",
    "    if output:\n",
    "        print(f\"Saved {len(df_c)} ROH to {save_path}\")\n",
    "    \n",
    "def get_ceballos_iids(df, col_iid=\"iid\"):\n",
    "    \"\"\"Given dataframe in Ceballos format, extract\n",
    "    the pure iids. Return array of iids\n",
    "    folder_out: Where to save the \"\"\"\n",
    "    temp = df[\"iid\"].str.split(\"/\").str[-1]\n",
    "    #iids = temp.str.split(\".\").str[0].values\n",
    "    return list(set(temp))\n",
    "\n",
    "def create_ceballos_folders(path, folder_out=\"./Empirical/ceballos/\",\n",
    "                           chromosomes=False, output=False):\n",
    "    df1 = load_df_ceballos(path_ceballos=path)\n",
    "    l = len(set(df1[\"iid\"]))\n",
    "    \n",
    "    iids = get_ceballos_iids(df1)\n",
    "    assert(len(iids)==l) # Sanity check if unique IIDs are correct lenght\n",
    "    print(f\"Found {len(iids)} unique iids\")\n",
    "    for iid in iids:\n",
    "        df2 = df1[df1[\"iid\"].str.contains(iid)]\n",
    "        \n",
    "        if chromosomes:\n",
    "            for ch in range(1,23):\n",
    "                save_roh_to_ch(df2, path=f\"{folder_out}{iid}/chr\", \n",
    "                               ch=ch, file=\"roh.csv\", suffix=\"\", output=outut) # suffix=\"/e01/\"\n",
    "        else:\n",
    "            if not os.path.exists(folder_out):\n",
    "                if output:\n",
    "                    print(f\"Creating Path {folder_out}...\")\n",
    "                os.makedirs(folder_out)\n",
    "            save_path = os.path.join(folder_out, iid + \"_roh_full.csv\")\n",
    "            df2.to_csv(save_path, sep=\",\", index=False)\n",
    "            if output:\n",
    "                print(f\"Saved {len(df_c)} ROH to {save_path}\")"
   ]
  },
  {
   "cell_type": "markdown",
   "metadata": {},
   "source": [
    "# Extract and save single Individual"
   ]
  },
  {
   "cell_type": "code",
   "execution_count": 40,
   "metadata": {},
   "outputs": [
    {
     "name": "stdout",
     "output_type": "stream",
     "text": [
      "Loaded 65326 ROH from 505 Individuals\n"
     ]
    }
   ],
   "source": [
    "### Load and convert dataframe of Ceballos\n",
    "df1 = load_df_ceballos(path_ceballos=\"./Data/Ceballos/ROH500_cM_het1_v3.csv\")\n",
    "#df1 = load_df_ceballos(path_ceballos=\"./Data/Ceballos/ROH500_cM_het0_v3.csv\")\n",
    "#df1 = load_df_ceballos(path_ceballos=\"./Data/Ceballos/ROH500_cM_het1_4samples.csv\")\n",
    "# I6671, I2521, R7 and Villabruna"
   ]
  },
  {
   "cell_type": "markdown",
   "metadata": {},
   "source": [
    "### Extract all Individuals from one table"
   ]
  },
  {
   "cell_type": "code",
   "execution_count": 36,
   "metadata": {},
   "outputs": [
    {
     "name": "stdout",
     "output_type": "stream",
     "text": [
      "Loaded 28149 ROH from 499 Individuals\n",
      "Found 499 unique iids\n"
     ]
    }
   ],
   "source": [
    "create_ceballos_folders(path=\"./Data/Ceballos/ROH500_cM_het0_v3.csv\",\n",
    "                        folder_out=\"./Empirical/ceballos/het0/\", chromosomes=False)"
   ]
  },
  {
   "cell_type": "markdown",
   "metadata": {},
   "source": [
    "## Extract single Individual\n",
    "Done for QC and checking. Skipable"
   ]
  },
  {
   "cell_type": "code",
   "execution_count": 42,
   "metadata": {},
   "outputs": [],
   "source": [
    "iid = \"R2.bam\"\n",
    "df2 = df1[df1[\"iid\"].str.contains(iid)]"
   ]
  },
  {
   "cell_type": "code",
   "execution_count": 15,
   "metadata": {},
   "outputs": [],
   "source": [
    "### Copy over ROH calls from hapROH\n",
    "folder_from = f\"./Empirical/1240k/MarcusAncs/{iid}/\"\n",
    "folder_to = f\"./Empirical/ceballos/{iid}/\"\n",
    "!cp -r $folder_from $folder_to"
   ]
  },
  {
   "cell_type": "code",
   "execution_count": null,
   "metadata": {},
   "outputs": [],
   "source": [
    "## Copy in ROH calls from Ceballos\n",
    "for ch in range(1,23):\n",
    "    save_roh_to_ch(df2, path=f\"./Empirical/ceballos/{iid}/chr\", \n",
    "                   ch=ch, file=\"roh.csv\", suffix=\"/e01/\")"
   ]
  },
  {
   "cell_type": "code",
   "execution_count": null,
   "metadata": {},
   "outputs": [],
   "source": [
    "df2[df2[\"ch\"]==4]"
   ]
  },
  {
   "cell_type": "code",
   "execution_count": 43,
   "metadata": {},
   "outputs": [
    {
     "name": "stdout",
     "output_type": "stream",
     "text": [
      "ROH>0.04: 0.24180257989976892\n",
      "ROH>0.08: 0.19589754925980893\n",
      "ROH>0.12: 0.19589754925980893\n",
      "ROH>0.2: 0.0\n"
     ]
    }
   ],
   "source": [
    "### Check out all ROH longer than thresholds\n",
    "for c in [0.04,0.08,0.12,0.2]: \n",
    "    d = np.sum(df2[df2[\"lengthM\"]>c][\"lengthM\"])\n",
    "    print(f\"ROH>{c}: {d}\")"
   ]
  },
  {
   "cell_type": "code",
   "execution_count": 44,
   "metadata": {},
   "outputs": [
    {
     "data": {
      "text/html": [
       "<div>\n",
       "<style scoped>\n",
       "    .dataframe tbody tr th:only-of-type {\n",
       "        vertical-align: middle;\n",
       "    }\n",
       "\n",
       "    .dataframe tbody tr th {\n",
       "        vertical-align: top;\n",
       "    }\n",
       "\n",
       "    .dataframe thead th {\n",
       "        text-align: right;\n",
       "    }\n",
       "</style>\n",
       "<table border=\"1\" class=\"dataframe\">\n",
       "  <thead>\n",
       "    <tr style=\"text-align: right;\">\n",
       "      <th></th>\n",
       "      <th>Start</th>\n",
       "      <th>End</th>\n",
       "      <th>StartM</th>\n",
       "      <th>EndM</th>\n",
       "      <th>iid</th>\n",
       "      <th>ch</th>\n",
       "      <th>length</th>\n",
       "      <th>lengthM</th>\n",
       "    </tr>\n",
       "  </thead>\n",
       "  <tbody>\n",
       "    <tr>\n",
       "      <th>33246</th>\n",
       "      <td>72600000</td>\n",
       "      <td>75700000</td>\n",
       "      <td>0.810773</td>\n",
       "      <td>0.856678</td>\n",
       "      <td>/mnt/NEOGENE1/share/dna/hsa/trimmedbams/R2.bam...</td>\n",
       "      <td>5</td>\n",
       "      <td>3100000</td>\n",
       "      <td>0.045905</td>\n",
       "    </tr>\n",
       "    <tr>\n",
       "      <th>33274</th>\n",
       "      <td>2100000</td>\n",
       "      <td>12100000</td>\n",
       "      <td>0.036957</td>\n",
       "      <td>0.232855</td>\n",
       "      <td>/mnt/NEOGENE1/share/dna/hsa/trimmedbams/R2.bam...</td>\n",
       "      <td>11</td>\n",
       "      <td>10000000</td>\n",
       "      <td>0.195898</td>\n",
       "    </tr>\n",
       "  </tbody>\n",
       "</table>\n",
       "</div>"
      ],
      "text/plain": [
       "          Start       End    StartM      EndM  \\\n",
       "33246  72600000  75700000  0.810773  0.856678   \n",
       "33274   2100000  12100000  0.036957  0.232855   \n",
       "\n",
       "                                                     iid  ch    length  \\\n",
       "33246  /mnt/NEOGENE1/share/dna/hsa/trimmedbams/R2.bam...   5   3100000   \n",
       "33274  /mnt/NEOGENE1/share/dna/hsa/trimmedbams/R2.bam...  11  10000000   \n",
       "\n",
       "        lengthM  \n",
       "33246  0.045905  \n",
       "33274  0.195898  "
      ]
     },
     "execution_count": 44,
     "metadata": {},
     "output_type": "execute_result"
    }
   ],
   "source": [
    "df2[df2[\"lengthM\"]>0.04]"
   ]
  },
  {
   "cell_type": "markdown",
   "metadata": {},
   "source": [
    "# Area 51"
   ]
  },
  {
   "cell_type": "code",
   "execution_count": 13,
   "metadata": {},
   "outputs": [],
   "source": [
    "#df_m = pd.read_csv(\"./Empirical/1240k/MarcusAncs/combined_roh05.csv\", sep=\"\\t\")\n",
    "df_m = pd.read_csv(\"./Empirical/roh_all_inds_final_v42.1.csv\", sep=\"\\t\")"
   ]
  },
  {
   "cell_type": "code",
   "execution_count": 27,
   "metadata": {},
   "outputs": [
    {
     "data": {
      "text/html": [
       "<div>\n",
       "<style scoped>\n",
       "    .dataframe tbody tr th:only-of-type {\n",
       "        vertical-align: middle;\n",
       "    }\n",
       "\n",
       "    .dataframe tbody tr th {\n",
       "        vertical-align: top;\n",
       "    }\n",
       "\n",
       "    .dataframe thead th {\n",
       "        text-align: right;\n",
       "    }\n",
       "</style>\n",
       "<table border=\"1\" class=\"dataframe\">\n",
       "  <thead>\n",
       "    <tr style=\"text-align: right;\">\n",
       "      <th></th>\n",
       "      <th>iid</th>\n",
       "      <th>pop</th>\n",
       "      <th>max_roh</th>\n",
       "      <th>sum_roh&gt;4</th>\n",
       "      <th>n_roh&gt;4</th>\n",
       "      <th>sum_roh&gt;8</th>\n",
       "      <th>n_roh&gt;8</th>\n",
       "      <th>sum_roh&gt;12</th>\n",
       "      <th>n_roh&gt;12</th>\n",
       "      <th>sum_roh&gt;20</th>\n",
       "      <th>...</th>\n",
       "      <th>lon</th>\n",
       "      <th>age</th>\n",
       "      <th>study</th>\n",
       "      <th>clst</th>\n",
       "      <th>mean_cov</th>\n",
       "      <th>n_cov_snp</th>\n",
       "      <th>include_alt</th>\n",
       "      <th>region</th>\n",
       "      <th>color</th>\n",
       "      <th>economy</th>\n",
       "    </tr>\n",
       "  </thead>\n",
       "  <tbody>\n",
       "    <tr>\n",
       "      <th>0</th>\n",
       "      <td>BR2.SG</td>\n",
       "      <td>Hungary_LBA.SG</td>\n",
       "      <td>5.221403</td>\n",
       "      <td>5.221403</td>\n",
       "      <td>1</td>\n",
       "      <td>0.000000</td>\n",
       "      <td>0</td>\n",
       "      <td>0.000000</td>\n",
       "      <td>0</td>\n",
       "      <td>0.0</td>\n",
       "      <td>...</td>\n",
       "      <td>19.95</td>\n",
       "      <td>3140.0</td>\n",
       "      <td>GambaNatureCommunications2014</td>\n",
       "      <td>Hungary_LBA.SG</td>\n",
       "      <td>19.164000</td>\n",
       "      <td>1182644</td>\n",
       "      <td>1</td>\n",
       "      <td>Eastern Europe</td>\n",
       "      <td>blue</td>\n",
       "      <td>Agriculture</td>\n",
       "    </tr>\n",
       "    <tr>\n",
       "      <th>92</th>\n",
       "      <td>R2.SG</td>\n",
       "      <td>Italy_N.SG</td>\n",
       "      <td>18.837799</td>\n",
       "      <td>27.403600</td>\n",
       "      <td>3</td>\n",
       "      <td>18.837799</td>\n",
       "      <td>1</td>\n",
       "      <td>18.837799</td>\n",
       "      <td>1</td>\n",
       "      <td>0.0</td>\n",
       "      <td>...</td>\n",
       "      <td>13.54</td>\n",
       "      <td>7984.0</td>\n",
       "      <td>AntonioGaoMootsScience2019</td>\n",
       "      <td>Italy_N.SG</td>\n",
       "      <td>4.013658</td>\n",
       "      <td>1119222</td>\n",
       "      <td>1</td>\n",
       "      <td>Central Italy</td>\n",
       "      <td>blue</td>\n",
       "      <td>Agriculture</td>\n",
       "    </tr>\n",
       "  </tbody>\n",
       "</table>\n",
       "<p>2 rows × 22 columns</p>\n",
       "</div>"
      ],
      "text/plain": [
       "       iid             pop    max_roh  sum_roh>4  n_roh>4  sum_roh>8  n_roh>8  \\\n",
       "0   BR2.SG  Hungary_LBA.SG   5.221403   5.221403        1   0.000000        0   \n",
       "92   R2.SG      Italy_N.SG  18.837799  27.403600        3  18.837799        1   \n",
       "\n",
       "    sum_roh>12  n_roh>12  sum_roh>20  ...    lon     age  \\\n",
       "0     0.000000         0         0.0  ...  19.95  3140.0   \n",
       "92   18.837799         1         0.0  ...  13.54  7984.0   \n",
       "\n",
       "                            study            clst   mean_cov n_cov_snp  \\\n",
       "0   GambaNatureCommunications2014  Hungary_LBA.SG  19.164000   1182644   \n",
       "92     AntonioGaoMootsScience2019      Italy_N.SG   4.013658   1119222   \n",
       "\n",
       "    include_alt          region  color      economy  \n",
       "0             1  Eastern Europe   blue  Agriculture  \n",
       "92            1   Central Italy   blue  Agriculture  \n",
       "\n",
       "[2 rows x 22 columns]"
      ]
     },
     "execution_count": 27,
     "metadata": {},
     "output_type": "execute_result"
    }
   ],
   "source": [
    "df_m[df_m[\"iid\"].str.contains(\"R2.SG\")]"
   ]
  },
  {
   "cell_type": "code",
   "execution_count": 45,
   "metadata": {},
   "outputs": [
    {
     "name": "stdout",
     "output_type": "stream",
     "text": [
      "ROH>0.04: 328.405093\n",
      "ROH>0.08: 299.530998\n",
      "ROH>0.12: 299.530998\n",
      "ROH>0.2: 265.89269599999994\n"
     ]
    }
   ],
   "source": [
    "for c in [0.04,0.08,0.12,0.2]: \n",
    "    d = df_m[df_m[\"iid\"].str.contains(\"I2521\")][f\"sum_roh>{int(c*100)}\"].values[0]\n",
    "    print(f\"ROH>{c}: {d}\")"
   ]
  },
  {
   "cell_type": "code",
   "execution_count": 135,
   "metadata": {},
   "outputs": [],
   "source": [
    "iids = df_m.sort_values(by=\"sum_roh>20\", ascending=False)[:50][\"iid\"]"
   ]
  },
  {
   "cell_type": "code",
   "execution_count": null,
   "metadata": {},
   "outputs": [],
   "source": [
    "df_m.sort_values(by=\"sum_roh>20\", ascending=False)[:50]"
   ]
  },
  {
   "cell_type": "code",
   "execution_count": null,
   "metadata": {},
   "outputs": [],
   "source": [
    "df_g = pd.read_csv(\"./Empirical/roh_all_inds_final_v42.1.csv\", sep=\"\\t\")\n",
    "df_g[df_g[\"iid\"].str.contains(\"Kosten\")]\n",
    "df_g.head(3)"
   ]
  },
  {
   "cell_type": "code",
   "execution_count": null,
   "metadata": {},
   "outputs": [],
   "source": [
    "### Test whether Ceballos Individuals are covered\n",
    "for iid in iids:\n",
    "    print(iid)\n",
    "    df2 = df1[df1[\"iid\"].str.contains(iid)]\n",
    "    print(len(df2))"
   ]
  },
  {
   "cell_type": "code",
   "execution_count": null,
   "metadata": {},
   "outputs": [],
   "source": []
  }
 ],
 "metadata": {
  "kernelspec": {
   "display_name": "Python 3",
   "language": "python",
   "name": "python3"
  },
  "language_info": {
   "codemirror_mode": {
    "name": "ipython",
    "version": 3
   },
   "file_extension": ".py",
   "mimetype": "text/x-python",
   "name": "python",
   "nbconvert_exporter": "python",
   "pygments_lexer": "ipython3",
   "version": "3.7.0"
  }
 },
 "nbformat": 4,
 "nbformat_minor": 4
}
