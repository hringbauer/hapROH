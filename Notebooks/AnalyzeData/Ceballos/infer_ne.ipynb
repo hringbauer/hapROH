{
 "cells": [
  {
   "cell_type": "markdown",
   "metadata": {},
   "source": [
    "# Code to infer effective population size for each Ceballos ndividual from ROH 4-20 cM"
   ]
  },
  {
   "cell_type": "code",
   "execution_count": 3,
   "metadata": {},
   "outputs": [
    {
     "name": "stdout",
     "output_type": "stream",
     "text": [
      "midway2-0401.rcc.local\n",
      "Midway jnovmbre partition detected.\n",
      "/project2/jnovembre/hringbauer/HAPSBURG\n",
      "CPU Count: 28\n"
     ]
    }
   ],
   "source": [
    "import numpy as np\n",
    "import os  # For Saving to Folder\n",
    "import pandas as pd\n",
    "import matplotlib.pyplot as plt\n",
    "import matplotlib.cm as cm\n",
    "import matplotlib.colorbar as clb\n",
    "import matplotlib.colors as cls\n",
    "from matplotlib import gridspec\n",
    "from mpl_toolkits.axes_grid1 import make_axes_locatable\n",
    "#from mpl_toolkits.basemap import Basemap\n",
    "\n",
    "import socket\n",
    "import os as os\n",
    "import sys as sys\n",
    "import multiprocessing as mp\n",
    "\n",
    "### For Arial Font\n",
    "from matplotlib import rcParams\n",
    "rcParams['font.family'] = 'sans-serif'   # Set the defaul\n",
    "rcParams['font.sans-serif'] = ['Arial']  # Make sure to have the font installed (it is on cluster for Harald)\n",
    "\n",
    "### To do lowess smoothing\n",
    "#import statsmodels.api as sm\n",
    "#lowess = sm.nonparametric.lowess\n",
    "\n",
    "socket_name = socket.gethostname()\n",
    "print(socket_name)\n",
    "if socket_name == \"VioletQueen\":\n",
    "    path = \"/home/harald/git/HAPSBURG/\"   # The Path on Harald's machine\n",
    "elif socket_name.startswith(\"midway2\"):\n",
    "    print(\"Midway jnovmbre partition detected.\")\n",
    "    path = \"/project2/jnovembre/hringbauer/HAPSBURG/\"  # The Path on Midway Cluster\n",
    "elif socket_name.startswith(\"Harald-Laptop\"):\n",
    "    print(\"Midway jnovmbre partition detected.\")\n",
    "    path = \"/home/hringbauer/git/HAPSBURG/\"  # The Path on Midway Cluster\n",
    "else: \n",
    "    raise RuntimeWarning(\"Not compatible machine. Check!!\")\n",
    "\n",
    "os.chdir(path)  # Set the right Path (in line with Atom default)\n",
    "print(os.getcwd()) # Show the current working directory. Should be HAPSBURG/Notebooks/ParallelRuns\n",
    "print(f\"CPU Count: {mp.cpu_count()}\")\n",
    "\n",
    "local_folder = \"./package/\"\n",
    "#sys.path.append(local_folder) # Append Hapsburg Folder\n",
    "sys.path.insert(0, local_folder)\n",
    "from hapsburg.PackagesSupport.roh_expectations import Expected_Roh\n",
    "\n",
    "### Import hapsburg Packages\n",
    "from hapsburg.PackagesSupport.fit_ne import MLE_ROH_Ne, load_roh_vec"
   ]
  },
  {
   "cell_type": "code",
   "execution_count": 2,
   "metadata": {},
   "outputs": [],
   "source": [
    "def get_iids(df, target, col=\"clst\", iid_col=\"iid\", contains=False):\n",
    "    \"\"\"Return all matching iids from meta file\"\"\"\n",
    "    if contains:\n",
    "        iids = df.loc[df[col].str.contains(target), iid_col].values\n",
    "    else:\n",
    "        iids = df.loc[df[col]==target, iid_col].values\n",
    "    assert(len(iids)==len(set(iids))) # Sanity Check if only unique Values\n",
    "    return iids\n",
    "\n",
    "def load_iids_in_dir(path = \"./Empirical/ceballos/het1/\",\n",
    "                     suffix = \"_roh_full.csv\"):\n",
    "    \"\"\"Load all IIDs in a directory.\n",
    "    Return list of these iids.\"\"\"\n",
    "    iids = os.listdir(path=path)\n",
    "    l = len(suffix)\n",
    "    iids = [iid[:-l] for iid in iids]\n",
    "    return iids\n",
    "\n",
    "def get_default_res():\n",
    "    \"\"\"REturn default line of results dataframe.\n",
    "    Used for unfittable scenarios\"\"\"\n",
    "    dct= {\"coef\":[np.nan],\n",
    "          \"std err\":[np.nan],\n",
    "          \"0.025\":[np.nan],\n",
    "          \"0.975\":[np.nan],\n",
    "          \"n\":[np.nan]}\n",
    "    df = pd.DataFrame(dct)\n",
    "    return df\n",
    "\n",
    "def inferNe_single_iids(iids=[], base_path=\"\", suffix=\"_roh_full.csv\",\n",
    "                        start_param=1000, min_len=4, max_len=20):\n",
    "    \"\"\"Infer Ne from single Individuals.\n",
    "    Return full summary dataframe\"\"\"\n",
    "    df_full=[]\n",
    "    \n",
    "    for iid in iids:\n",
    "        #print(f\"Doing IID {iid}...\")\n",
    "        roh_vec = load_roh_vec(iids=[iid], base_path = base_path, suffix=suffix)\n",
    "\n",
    "        # Remove NAN values\n",
    "        idx = np.isnan(roh_vec[0])  # Get missing blocks\n",
    "        roh_vec[0][idx]=0.0 \n",
    "\n",
    "        mle = MLE_ROH_Ne(start_params=start_param, endog=roh_vec,\n",
    "                         min_len=min_len, max_len=max_len,\n",
    "                         error_model=False, output=False)\n",
    "       # bl = mle.print_block_nr() ### Get Block # that is useful\n",
    "       #df_res = get_default_res()\n",
    "        fit = mle.fit_ll_profile()\n",
    "        df_res = mle.summary\n",
    "        df_res[\"iid\"]=iid\n",
    "        df_full.append(df_res)\n",
    "    df1 = pd.concat(df_full).reset_index(drop=True)\n",
    "    return df1"
   ]
  },
  {
   "cell_type": "markdown",
   "metadata": {},
   "source": [
    "## Estimate the het1 Individuals"
   ]
  },
  {
   "cell_type": "code",
   "execution_count": 12,
   "metadata": {},
   "outputs": [
    {
     "name": "stdout",
     "output_type": "stream",
     "text": [
      "Loaded 505 IIDs\n",
      "CPU times: user 1min 26s, sys: 119 ms, total: 1min 26s\n",
      "Wall time: 1min 36s\n"
     ]
    }
   ],
   "source": [
    "%%time\n",
    "path = \"./Empirical/ceballos/het1/\"\n",
    "suffix = \"_roh_full.csv\"\n",
    "\n",
    "iids = load_iids_in_dir(path = path,\n",
    "                        suffix = suffix)\n",
    "print(f\"Loaded {len(iids)} IIDs\")\n",
    "df1 = inferNe_single_iids(iids=iids, base_path=path, suffix=suffix,\n",
    "                        start_param=1000, min_len=4, max_len=12)"
   ]
  },
  {
   "cell_type": "code",
   "execution_count": 13,
   "metadata": {},
   "outputs": [],
   "source": [
    "savepath = './Empirical/ceballos/het1_estimates_ne_v3.tsv'\n",
    "df1.to_csv(savepath, sep=\"\\t\", index=False)"
   ]
  },
  {
   "cell_type": "markdown",
   "metadata": {},
   "source": [
    "## Estimate the het0 Individuals"
   ]
  },
  {
   "cell_type": "code",
   "execution_count": 74,
   "metadata": {},
   "outputs": [
    {
     "name": "stdout",
     "output_type": "stream",
     "text": [
      "Loaded 499 IIDs\n",
      "CPU times: user 29.2 s, sys: 71 ms, total: 29.3 s\n",
      "Wall time: 30 s\n"
     ]
    }
   ],
   "source": [
    "%%time\n",
    "path=\"./Empirical/ceballos/het0/\"\n",
    "suffix=\"_roh_full.csv\"\n",
    "savepath = './Empirical/ceballos/het0_estimates_ne_v3.tsv'\n",
    "\n",
    "iids = load_iids_in_dir(path = path,\n",
    "                        suffix = suffix)\n",
    "print(f\"Loaded {len(iids)} IIDs\")\n",
    "df1 = inferNe_single_iids(iids=iids, base_path=path, suffix=suffix,\n",
    "                        start_param=1000, min_len=4, max_len=12)\n",
    "df1.to_csv(savepath, sep=\"\\t\", index=False)"
   ]
  },
  {
   "cell_type": "markdown",
   "metadata": {},
   "source": [
    "# Area 51"
   ]
  },
  {
   "cell_type": "code",
   "execution_count": 115,
   "metadata": {},
   "outputs": [],
   "source": [
    "#df1 = pd.read_csv(\"./Empirical/ceballos/het0_estimates_ne_v3.tsv\", sep=\"\\t\")\n",
    "df1 = pd.read_csv(\"./Empirical/ceballos/het1_estimates_ne_v1.tsv\", sep=\"\\t\")\n",
    "df2 = df1[~df1[\"coef\"].isnull()]"
   ]
  },
  {
   "cell_type": "code",
   "execution_count": 122,
   "metadata": {},
   "outputs": [
    {
     "data": {
      "text/html": [
       "<div>\n",
       "<style scoped>\n",
       "    .dataframe tbody tr th:only-of-type {\n",
       "        vertical-align: middle;\n",
       "    }\n",
       "\n",
       "    .dataframe tbody tr th {\n",
       "        vertical-align: top;\n",
       "    }\n",
       "\n",
       "    .dataframe thead th {\n",
       "        text-align: right;\n",
       "    }\n",
       "</style>\n",
       "<table border=\"1\" class=\"dataframe\">\n",
       "  <thead>\n",
       "    <tr style=\"text-align: right;\">\n",
       "      <th></th>\n",
       "      <th>coef</th>\n",
       "      <th>std err</th>\n",
       "      <th>z</th>\n",
       "      <th>P&gt;|z|</th>\n",
       "      <th>0.025</th>\n",
       "      <th>0.975</th>\n",
       "      <th>n</th>\n",
       "      <th>iid</th>\n",
       "    </tr>\n",
       "  </thead>\n",
       "  <tbody>\n",
       "    <tr>\n",
       "      <th>113</th>\n",
       "      <td>120.6021</td>\n",
       "      <td>18.386</td>\n",
       "      <td>6.559</td>\n",
       "      <td>0.000</td>\n",
       "      <td>84.566</td>\n",
       "      <td>156.639</td>\n",
       "      <td>1</td>\n",
       "      <td>STR241.full-hg19.bam.hs37d5.cons.90perc.trim.bam</td>\n",
       "    </tr>\n",
       "    <tr>\n",
       "      <th>231</th>\n",
       "      <td>170.7343</td>\n",
       "      <td>28.239</td>\n",
       "      <td>6.046</td>\n",
       "      <td>0.000</td>\n",
       "      <td>115.387</td>\n",
       "      <td>226.082</td>\n",
       "      <td>1</td>\n",
       "      <td>STR266b.full-hg19.bam.hs37d5.cons.90perc.trim.bam</td>\n",
       "    </tr>\n",
       "    <tr>\n",
       "      <th>254</th>\n",
       "      <td>9807.5634</td>\n",
       "      <td>9834.360</td>\n",
       "      <td>0.997</td>\n",
       "      <td>0.319</td>\n",
       "      <td>-9467.427</td>\n",
       "      <td>29100.000</td>\n",
       "      <td>1</td>\n",
       "      <td>R2.bam.hs37d5.fa.cons.90perc.trimBAM.bam</td>\n",
       "    </tr>\n",
       "  </tbody>\n",
       "</table>\n",
       "</div>"
      ],
      "text/plain": [
       "          coef   std err      z  P>|z|     0.025      0.975  n  \\\n",
       "113   120.6021    18.386  6.559  0.000    84.566    156.639  1   \n",
       "231   170.7343    28.239  6.046  0.000   115.387    226.082  1   \n",
       "254  9807.5634  9834.360  0.997  0.319 -9467.427  29100.000  1   \n",
       "\n",
       "                                                   iid  \n",
       "113   STR241.full-hg19.bam.hs37d5.cons.90perc.trim.bam  \n",
       "231  STR266b.full-hg19.bam.hs37d5.cons.90perc.trim.bam  \n",
       "254           R2.bam.hs37d5.fa.cons.90perc.trimBAM.bam  "
      ]
     },
     "execution_count": 122,
     "metadata": {},
     "output_type": "execute_result"
    }
   ],
   "source": [
    "df1[df1[\"iid\"].str.contains(\"R2\")]"
   ]
  },
  {
   "cell_type": "code",
   "execution_count": null,
   "metadata": {},
   "outputs": [],
   "source": [
    "df2.sort_values(by=\"coef\")"
   ]
  },
  {
   "cell_type": "code",
   "execution_count": null,
   "metadata": {},
   "outputs": [],
   "source": [
    "df2.sort_values(by=\"coef\")"
   ]
  },
  {
   "cell_type": "code",
   "execution_count": 120,
   "metadata": {},
   "outputs": [
    {
     "name": "stderr",
     "output_type": "stream",
     "text": [
      "/home/hringbauer/.local/lib/python3.7/site-packages/pandas/core/frame.py:3997: SettingWithCopyWarning: \n",
      "A value is trying to be set on a copy of a slice from a DataFrame\n",
      "\n",
      "See the caveats in the documentation: https://pandas.pydata.org/pandas-docs/stable/user_guide/indexing.html#returning-a-view-versus-a-copy\n",
      "  errors=errors,\n"
     ]
    }
   ],
   "source": [
    "df2.drop(columns=[\"z\",\"P>|z|\"], inplace=True)"
   ]
  },
  {
   "cell_type": "code",
   "execution_count": null,
   "metadata": {},
   "outputs": [],
   "source": [
    "df2"
   ]
  },
  {
   "cell_type": "markdown",
   "metadata": {},
   "source": [
    "### For implementation of likelihood model"
   ]
  },
  {
   "cell_type": "code",
   "execution_count": 12,
   "metadata": {},
   "outputs": [],
   "source": [
    "roh_vec = load_roh_vec(iids=[\"R2.bam.hs37d5.fa.cons.90perc.trimBAM.bam\"], \n",
    "                       base_path = \"./Empirical/ceballos/het1/\", \n",
    "                       suffix=\"_roh_full.csv\")"
   ]
  },
  {
   "cell_type": "code",
   "execution_count": 8,
   "metadata": {},
   "outputs": [
    {
     "data": {
      "text/html": [
       "<div>\n",
       "<style scoped>\n",
       "    .dataframe tbody tr th:only-of-type {\n",
       "        vertical-align: middle;\n",
       "    }\n",
       "\n",
       "    .dataframe tbody tr th {\n",
       "        vertical-align: top;\n",
       "    }\n",
       "\n",
       "    .dataframe thead th {\n",
       "        text-align: right;\n",
       "    }\n",
       "</style>\n",
       "<table border=\"1\" class=\"dataframe\">\n",
       "  <thead>\n",
       "    <tr style=\"text-align: right;\">\n",
       "      <th></th>\n",
       "      <th>coef</th>\n",
       "      <th>std err</th>\n",
       "      <th>0.025</th>\n",
       "      <th>0.975</th>\n",
       "      <th>n</th>\n",
       "    </tr>\n",
       "  </thead>\n",
       "  <tbody>\n",
       "    <tr>\n",
       "      <th>0</th>\n",
       "      <td>10000.0</td>\n",
       "      <td>NaN</td>\n",
       "      <td>2310.1297</td>\n",
       "      <td>100000.0</td>\n",
       "      <td>1</td>\n",
       "    </tr>\n",
       "  </tbody>\n",
       "</table>\n",
       "</div>"
      ],
      "text/plain": [
       "      coef  std err      0.025     0.975  n\n",
       "0  10000.0      NaN  2310.1297  100000.0  1"
      ]
     },
     "execution_count": 8,
     "metadata": {},
     "output_type": "execute_result"
    }
   ],
   "source": [
    "mle = MLE_ROH_Ne(start_params=1000, endog=roh_vec,\n",
    "                 min_len=4, max_len=12,\n",
    "                 error_model=False, output=False)\n",
    "#bl = mle.print_block_nr() ### Get Block # that is useful\n",
    "mle.fit_ll_profile(ns=[], level=1.92)"
   ]
  },
  {
   "cell_type": "code",
   "execution_count": 11,
   "metadata": {},
   "outputs": [
    {
     "data": {
      "text/html": [
       "<div>\n",
       "<style scoped>\n",
       "    .dataframe tbody tr th:only-of-type {\n",
       "        vertical-align: middle;\n",
       "    }\n",
       "\n",
       "    .dataframe tbody tr th {\n",
       "        vertical-align: top;\n",
       "    }\n",
       "\n",
       "    .dataframe thead th {\n",
       "        text-align: right;\n",
       "    }\n",
       "</style>\n",
       "<table border=\"1\" class=\"dataframe\">\n",
       "  <thead>\n",
       "    <tr style=\"text-align: right;\">\n",
       "      <th></th>\n",
       "      <th>coef</th>\n",
       "      <th>std err</th>\n",
       "      <th>0.025</th>\n",
       "      <th>0.975</th>\n",
       "      <th>n</th>\n",
       "    </tr>\n",
       "  </thead>\n",
       "  <tbody>\n",
       "    <tr>\n",
       "      <th>0</th>\n",
       "      <td>403.701726</td>\n",
       "      <td>NaN</td>\n",
       "      <td>100.0</td>\n",
       "      <td>7054.802311</td>\n",
       "      <td>1</td>\n",
       "    </tr>\n",
       "  </tbody>\n",
       "</table>\n",
       "</div>"
      ],
      "text/plain": [
       "         coef  std err  0.025        0.975  n\n",
       "0  403.701726      NaN  100.0  7054.802311  1"
      ]
     },
     "execution_count": 11,
     "metadata": {},
     "output_type": "execute_result"
    }
   ],
   "source": [
    "mle = MLE_ROH_Ne(start_params=1000, endog=roh_vec,\n",
    "                 min_len=4, max_len=12, chr_lgts=[150],\n",
    "                 error_model=False, output=False)\n",
    "#bl = mle.print_block_nr() ### Get Block # that is useful\n",
    "mle.fit_ll_profile(ns=[], level=1.92)"
   ]
  },
  {
   "cell_type": "code",
   "execution_count": 128,
   "metadata": {},
   "outputs": [
    {
     "data": {
      "text/plain": [
       "19.58975492598089"
      ]
     },
     "execution_count": 128,
     "metadata": {},
     "output_type": "execute_result"
    }
   ],
   "source": [
    "i np.max(roh_vec[0])"
   ]
  },
  {
   "cell_type": "code",
   "execution_count": 133,
   "metadata": {},
   "outputs": [
    {
     "data": {
      "text/plain": [
       "array([ 4.59050306, 19.58975493])"
      ]
     },
     "execution_count": 133,
     "metadata": {},
     "output_type": "execute_result"
    }
   ],
   "source": [
    "roh_vec[0][roh_vec[0]>4]"
   ]
  },
  {
   "cell_type": "code",
   "execution_count": 7,
   "metadata": {},
   "outputs": [
    {
     "name": "stdout",
     "output_type": "stream",
     "text": [
      "Optimization terminated successfully.\n",
      "         Current function value: 4.264875\n",
      "         Iterations: 33\n",
      "         Function evaluations: 67\n"
     ]
    },
    {
     "data": {
      "text/plain": [
       "<statsmodels.base.model.GenericLikelihoodModelResults at 0x7ff621a44f98>"
      ]
     },
     "execution_count": 7,
     "metadata": {},
     "output_type": "execute_result"
    }
   ],
   "source": [
    "### Calculate Likelihood Profile\n",
    "mle.fit()"
   ]
  },
  {
   "cell_type": "code",
   "execution_count": 10,
   "metadata": {},
   "outputs": [
    {
     "data": {
      "text/html": [
       "<div>\n",
       "<style scoped>\n",
       "    .dataframe tbody tr th:only-of-type {\n",
       "        vertical-align: middle;\n",
       "    }\n",
       "\n",
       "    .dataframe tbody tr th {\n",
       "        vertical-align: top;\n",
       "    }\n",
       "\n",
       "    .dataframe thead th {\n",
       "        text-align: right;\n",
       "    }\n",
       "</style>\n",
       "<table border=\"1\" class=\"dataframe\">\n",
       "  <thead>\n",
       "    <tr style=\"text-align: right;\">\n",
       "      <th></th>\n",
       "      <th>coef</th>\n",
       "      <th>std err</th>\n",
       "      <th>0.025</th>\n",
       "      <th>0.975</th>\n",
       "    </tr>\n",
       "  </thead>\n",
       "  <tbody>\n",
       "    <tr>\n",
       "      <th>const</th>\n",
       "      <td>9807.5634</td>\n",
       "      <td>9834.36</td>\n",
       "      <td>-9467.427</td>\n",
       "      <td>29100.0</td>\n",
       "    </tr>\n",
       "  </tbody>\n",
       "</table>\n",
       "</div>"
      ],
      "text/plain": [
       "            coef  std err     0.025    0.975\n",
       "const  9807.5634  9834.36 -9467.427  29100.0"
      ]
     },
     "execution_count": 10,
     "metadata": {},
     "output_type": "execute_result"
    }
   ],
   "source": [
    "mle.summary"
   ]
  },
  {
   "cell_type": "code",
   "execution_count": 162,
   "metadata": {},
   "outputs": [
    {
     "data": {
      "image/png": "[encoded data removed]",
      "text/plain": [
       "<Figure size 576x432 with 1 Axes>"
      ]
     },
     "metadata": {
      "needs_background": "light"
     },
     "output_type": "display_data"
    }
   ],
   "source": [
    "m = np.max(lls)\n",
    "\n",
    "fs = (8,6)\n",
    "plt.figure(figsize=fs)\n",
    "ax = plt.gca()\n",
    "ax.plot(ns,lls,\"ro-\")\n",
    "ax.set_ylim([m-10,m+1])\n",
    "ax.set_xlabel(f\"$2N_e$\")\n",
    "ax.set_ylabel(\"Relative Log Likelihood\")\n",
    "plt.show()"
   ]
  },
  {
   "cell_type": "code",
   "execution_count": 198,
   "metadata": {},
   "outputs": [],
   "source": [
    "df_res[\"0.025\"]=2"
   ]
  },
  {
   "cell_type": "code",
   "execution_count": 199,
   "metadata": {},
   "outputs": [
    {
     "data": {
      "text/html": [
       "<div>\n",
       "<style scoped>\n",
       "    .dataframe tbody tr th:only-of-type {\n",
       "        vertical-align: middle;\n",
       "    }\n",
       "\n",
       "    .dataframe tbody tr th {\n",
       "        vertical-align: top;\n",
       "    }\n",
       "\n",
       "    .dataframe thead th {\n",
       "        text-align: right;\n",
       "    }\n",
       "</style>\n",
       "<table border=\"1\" class=\"dataframe\">\n",
       "  <thead>\n",
       "    <tr style=\"text-align: right;\">\n",
       "      <th></th>\n",
       "      <th>coef</th>\n",
       "      <th>std err</th>\n",
       "      <th>z</th>\n",
       "      <th>P&gt;|z|</th>\n",
       "      <th>0.025</th>\n",
       "      <th>0.975</th>\n",
       "      <th>n</th>\n",
       "      <th>iid</th>\n",
       "    </tr>\n",
       "  </thead>\n",
       "  <tbody>\n",
       "    <tr>\n",
       "      <th>0</th>\n",
       "      <td>NaN</td>\n",
       "      <td>NaN</td>\n",
       "      <td>NaN</td>\n",
       "      <td>NaN</td>\n",
       "      <td>2</td>\n",
       "      <td>NaN</td>\n",
       "      <td>1</td>\n",
       "      <td>I5769.mathieson2018.hs37d5.fa.cons.90perc.trim...</td>\n",
       "    </tr>\n",
       "  </tbody>\n",
       "</table>\n",
       "</div>"
      ],
      "text/plain": [
       "   coef  std err   z  P>|z|  0.025  0.975  n  \\\n",
       "0   NaN      NaN NaN    NaN      2    NaN  1   \n",
       "\n",
       "                                                 iid  \n",
       "0  I5769.mathieson2018.hs37d5.fa.cons.90perc.trim...  "
      ]
     },
     "execution_count": 199,
     "metadata": {},
     "output_type": "execute_result"
    }
   ],
   "source": [
    "df_res"
   ]
  }
 ],
 "metadata": {
  "kernelspec": {
   "display_name": "Python 3",
   "language": "python",
   "name": "python3"
  },
  "language_info": {
   "codemirror_mode": {
    "name": "ipython",
    "version": 3
   },
   "file_extension": ".py",
   "mimetype": "text/x-python",
   "name": "python",
   "nbconvert_exporter": "python",
   "pygments_lexer": "ipython3",
   "version": "3.7.0"
  }
 },
 "nbformat": 4,
 "nbformat_minor": 4
}
