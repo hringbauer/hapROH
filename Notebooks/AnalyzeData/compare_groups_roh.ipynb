{
 "cells": [
  {
   "cell_type": "markdown",
   "metadata": {},
   "source": [
    "# Compare ROH between groups\n",
    "Load empirical ROH Dataframe, and compare ROH sharing between groups.\n",
    "Assumes data is ROH analyzed, and pre-processed (into one dataframe, with region and clst Columns set."
   ]
  },
  {
   "cell_type": "code",
   "execution_count": 69,
   "metadata": {},
   "outputs": [
    {
     "name": "stdout",
     "output_type": "stream",
     "text": [
      "midway2-0401.rcc.local\n",
      "Midway jnovmbre partition detected.\n",
      "/project2/jnovembre/hringbauer/HAPSBURG\n",
      "CPU Count: 28\n"
     ]
    }
   ],
   "source": [
    "import pandas as pd\n",
    "import numpy as np\n",
    "import matplotlib.pyplot as plt\n",
    "import socket\n",
    "import os as os\n",
    "import sys as sys\n",
    "import multiprocessing as mp\n",
    "\n",
    "socket_name = socket.gethostname()\n",
    "print(socket_name)\n",
    "if socket_name == \"VioletQueen\":\n",
    "    path = \"/home/harald/git/HAPSBURG/\"   # The Path on Harald's machine\n",
    "elif socket_name.startswith(\"midway2\"):\n",
    "    print(\"Midway jnovmbre partition detected.\")\n",
    "    path = \"/project2/jnovembre/hringbauer/HAPSBURG/\"  # The Path on Midway Cluster\n",
    "else: \n",
    "    raise RuntimeWarning(\"Not compatible machine. Check!!\")\n",
    "    \n",
    "from scipy.stats import mannwhitneyu\n",
    "\n",
    "os.chdir(path)  # Set the right Path (in line with Atom default)\n",
    "print(os.getcwd()) # Show the current working directory. Should be HAPSBURG/Notebooks/ParallelRuns\n",
    "print(f\"CPU Count: {mp.cpu_count()}\")"
   ]
  },
  {
   "cell_type": "markdown",
   "metadata": {},
   "source": [
    "### Test Mann Whitney U Test"
   ]
  },
  {
   "cell_type": "code",
   "execution_count": 66,
   "metadata": {},
   "outputs": [
    {
     "name": "stdout",
     "output_type": "stream",
     "text": [
      "CPU times: user 301 ms, sys: 2.34 ms, total: 304 ms\n",
      "Wall time: 301 ms\n"
     ]
    }
   ],
   "source": [
    "%%time\n",
    "reps = 1000\n",
    "mean1, mean2 = 1.0, 50.0\n",
    "s1, s2 = 2, 20\n",
    "std1, std2 = 1.0, 10.0\n",
    "\n",
    "p = np.zeros(reps)\n",
    "\n",
    "for i in range(reps):\n",
    "    x = np.random.normal(loc=mean1, scale=std1, size=s1)\n",
    "    y = np.random.normal(loc=mean2, scale=std2, size=s2)\n",
    "    p[i] = mannwhitneyu(x, y)[1]"
   ]
  },
  {
   "cell_type": "code",
   "execution_count": 67,
   "metadata": {},
   "outputs": [
    {
     "data": {
      "image/png": "[encoded data removed]",
      "text/plain": [
       "<Figure size 432x288 with 1 Axes>"
      ]
     },
     "metadata": {
      "needs_background": "light"
     },
     "output_type": "display_data"
    }
   ],
   "source": [
    "plt.figure()\n",
    "ax = plt.gca()\n",
    "ax.hist(p, bins=20)\n",
    "plt.show()"
   ]
  },
  {
   "cell_type": "markdown",
   "metadata": {},
   "source": [
    "### Apply to empirical Data"
   ]
  },
  {
   "cell_type": "code",
   "execution_count": 81,
   "metadata": {},
   "outputs": [],
   "source": [
    "### Load Big Data Frame (only ancients)\n",
    "df = pd.read_csv(\"./Empirical/roh_all_inds.csv\", sep='\\t')\n",
    "df = df[df[\"age\"]>0]\n",
    "df[\"sum_roh_4-8\"] = df[\"sum_roh>4\"] - df[\"sum_roh>8\"]"
   ]
  },
  {
   "cell_type": "code",
   "execution_count": 101,
   "metadata": {},
   "outputs": [],
   "source": [
    "def test_mwu(df, region=\"Iberia\", clst1=\"Early Neolithic\", clst2=\"Neolithic\", col=\"sum_roh_4-8\"):\n",
    "    \"\"\"MWann Whitney U-Test. Print and return\n",
    "    df: Dataframe to test on\"\"\"\n",
    "    df_t = df[df[\"region\"]==region]\n",
    "    print(f\"Loaded {len(df_t)} Samples from Region {region}\")\n",
    "    df1 = df_t[df_t[\"clst\"]==clst1]\n",
    "    df2 = df_t[df_t[\"clst\"]==clst2]\n",
    "\n",
    "    print(f\"Loaded {len(df1)} Samples from clst {clst1}\")\n",
    "    print(f\"Loaded {len(df2)} Samples from clst {clst2}\")\n",
    "\n",
    "    test = mannwhitneyu(df1[col], df2[col])\n",
    "    print(test)\n",
    "    return test"
   ]
  },
  {
   "cell_type": "code",
   "execution_count": 85,
   "metadata": {},
   "outputs": [
    {
     "data": {
      "text/plain": [
       "MannwhitneyuResult(statistic=0.0, pvalue=0.008021976068646297)"
      ]
     },
     "execution_count": 85,
     "metadata": {},
     "output_type": "execute_result"
    }
   ],
   "source": [
    "mannwhitneyu(df1[\"sum_roh_4-8\"], df2[\"sum_roh_4-8\"])"
   ]
  },
  {
   "cell_type": "code",
   "execution_count": 107,
   "metadata": {},
   "outputs": [
    {
     "name": "stdout",
     "output_type": "stream",
     "text": [
      "Loaded 134 Samples from Region Iberia\n",
      "Loaded 7 Samples from clst Mesolithic\n",
      "Loaded 6 Samples from clst Early Neolithic\n",
      "MannwhitneyuResult(statistic=19.0, pvalue=0.41516212882789766)\n",
      "Loaded 134 Samples from Region Iberia\n",
      "Loaded 6 Samples from clst Early Neolithic\n",
      "Loaded 24 Samples from clst Neolithic\n",
      "MannwhitneyuResult(statistic=16.0, pvalue=0.0019335151809012796)\n",
      "Loaded 134 Samples from Region Iberia\n",
      "Loaded 7 Samples from clst Mesolithic\n",
      "Loaded 24 Samples from clst Neolithic\n",
      "MannwhitneyuResult(statistic=10.0, pvalue=0.0002461920026151975)\n",
      "\n",
      "\n",
      "Loaded 158 Samples from Region Balkans\n",
      "Loaded 37 Samples from clst Mesolithic\n",
      "Loaded 12 Samples from clst Early Neolithic\n",
      "MannwhitneyuResult(statistic=142.0, pvalue=0.032273361794745783)\n",
      "Loaded 158 Samples from Region Balkans\n",
      "Loaded 12 Samples from clst Early Neolithic\n",
      "Loaded 32 Samples from clst Neolithic\n",
      "MannwhitneyuResult(statistic=146.0, pvalue=0.11456653385781473)\n",
      "Loaded 158 Samples from Region Balkans\n",
      "Loaded 37 Samples from clst Mesolithic\n",
      "Loaded 32 Samples from clst Neolithic\n",
      "MannwhitneyuResult(statistic=214.0, pvalue=2.762126757607364e-06)\n",
      "\n",
      "\n",
      "Loaded 124 Samples from Region Rome\n",
      "Loaded 3 Samples from clst Mesolithic\n",
      "Loaded 9 Samples from clst Early Neolithic\n",
      "MannwhitneyuResult(statistic=0.0, pvalue=0.008021976068646297)\n",
      "Loaded 124 Samples from Region Rome\n",
      "Loaded 9 Samples from clst Early Neolithic\n",
      "Loaded 0 Samples from clst Neolithic\n",
      "MannwhitneyuResult(statistic=0.0, pvalue=0.0)\n",
      "Loaded 124 Samples from Region Rome\n",
      "Loaded 3 Samples from clst Mesolithic\n",
      "Loaded 0 Samples from clst Neolithic\n",
      "MannwhitneyuResult(statistic=0.0, pvalue=0.0)\n",
      "\n",
      "\n",
      "Loaded 125 Samples from Region Central Europe\n",
      "Loaded 4 Samples from clst Mesolithic\n",
      "Loaded 20 Samples from clst Early Neolithic\n",
      "MannwhitneyuResult(statistic=0.0, pvalue=0.0010594252448954183)\n",
      "Loaded 125 Samples from Region Central Europe\n",
      "Loaded 20 Samples from clst Early Neolithic\n",
      "Loaded 5 Samples from clst Neolithic\n",
      "MannwhitneyuResult(statistic=30.0, pvalue=0.09177742937490624)\n",
      "Loaded 125 Samples from Region Central Europe\n",
      "Loaded 4 Samples from clst Mesolithic\n",
      "Loaded 5 Samples from clst Neolithic\n",
      "MannwhitneyuResult(statistic=0.0, pvalue=0.009982226652608022)\n",
      "\n",
      "\n",
      "Loaded 26 Samples from Region Black Sea\n",
      "Loaded 4 Samples from clst Mesolithic\n",
      "Loaded 0 Samples from clst Early Neolithic\n",
      "MannwhitneyuResult(statistic=0.0, pvalue=0.0)\n",
      "Loaded 26 Samples from Region Black Sea\n",
      "Loaded 0 Samples from clst Early Neolithic\n",
      "Loaded 14 Samples from clst Neolithic\n",
      "MannwhitneyuResult(statistic=0.0, pvalue=0.0)\n",
      "Loaded 26 Samples from Region Black Sea\n",
      "Loaded 4 Samples from clst Mesolithic\n",
      "Loaded 14 Samples from clst Neolithic\n",
      "MannwhitneyuResult(statistic=17.0, pvalue=0.13240637538732886)\n",
      "\n",
      "\n",
      "Loaded 46 Samples from Region Baltic Sea\n",
      "Loaded 26 Samples from clst Mesolithic\n",
      "Loaded 0 Samples from clst Early Neolithic\n",
      "MannwhitneyuResult(statistic=0.0, pvalue=0.0)\n",
      "Loaded 46 Samples from Region Baltic Sea\n",
      "Loaded 0 Samples from clst Early Neolithic\n",
      "Loaded 9 Samples from clst Neolithic\n",
      "MannwhitneyuResult(statistic=0.0, pvalue=0.0)\n",
      "Loaded 46 Samples from Region Baltic Sea\n",
      "Loaded 26 Samples from clst Mesolithic\n",
      "Loaded 9 Samples from clst Neolithic\n",
      "MannwhitneyuResult(statistic=96.0, pvalue=0.21954741431447916)\n",
      "\n",
      "\n"
     ]
    },
    {
     "name": "stderr",
     "output_type": "stream",
     "text": [
      "/home/hringbauer/.local/lib/python3.7/site-packages/scipy/stats/stats.py:5700: RuntimeWarning: divide by zero encountered in double_scalars\n",
      "  z = (bigu - meanrank) / sd\n"
     ]
    }
   ],
   "source": [
    "for reg in [\"Iberia\", \"Balkans\", \"Rome\", \"Central Europe\", \"Black Sea\", \"Baltic Sea\"]:\n",
    "    test_mwu(df, region=reg, clst1=\"Mesolithic\", clst2=\"Early Neolithic\")\n",
    "    test_mwu(df, region=reg, clst1=\"Early Neolithic\", clst2=\"Neolithic\")\n",
    "    test_mwu(df, region=reg, clst1=\"Mesolithic\", clst2=\"Neolithic\")\n",
    "    print(\"\\n\")"
   ]
  },
  {
   "cell_type": "code",
   "execution_count": null,
   "metadata": {},
   "outputs": [],
   "source": []
  }
 ],
 "metadata": {
  "kernelspec": {
   "display_name": "Python 3",
   "language": "python",
   "name": "python3"
  },
  "language_info": {
   "codemirror_mode": {
    "name": "ipython",
    "version": 3
   },
   "file_extension": ".py",
   "mimetype": "text/x-python",
   "name": "python",
   "nbconvert_exporter": "python",
   "pygments_lexer": "ipython3",
   "version": "3.7.0"
  }
 },
 "nbformat": 4,
 "nbformat_minor": 2
}
