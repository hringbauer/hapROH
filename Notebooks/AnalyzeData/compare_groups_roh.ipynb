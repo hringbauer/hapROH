{
 "cells": [
  {
   "cell_type": "markdown",
   "metadata": {},
   "source": [
    "# Compare ROH between groups\n",
    "Load empirical ROH Dataframe, and compare ROH sharing between groups with statistical tests (producing p-Values)\n",
    "Assumes data is ROH analyzed, and pre-processed (into one dataframe, with region and clst Columns set."
   ]
  },
  {
   "cell_type": "code",
   "execution_count": 1,
   "metadata": {},
   "outputs": [
    {
     "name": "stdout",
     "output_type": "stream",
     "text": [
      "midway2-0401.rcc.local\n",
      "Midway jnovmbre partition detected.\n",
      "/project2/jnovembre/hringbauer/HAPSBURG\n",
      "CPU Count: 28\n"
     ]
    }
   ],
   "source": [
    "import pandas as pd\n",
    "import numpy as np\n",
    "import matplotlib.pyplot as plt\n",
    "import socket\n",
    "import os as os\n",
    "import sys as sys\n",
    "import multiprocessing as mp\n",
    "import itertools as it\n",
    "from math import log10, floor\n",
    "\n",
    "socket_name = socket.gethostname()\n",
    "print(socket_name)\n",
    "if socket_name == \"VioletQueen\":\n",
    "    path = \"/home/harald/git/HAPSBURG/\"   # The Path on Harald's machine\n",
    "elif socket_name.startswith(\"midway2\"):\n",
    "    print(\"Midway jnovmbre partition detected.\")\n",
    "    path = \"/project2/jnovembre/hringbauer/HAPSBURG/\"  # The Path on Midway Cluster\n",
    "else: \n",
    "    raise RuntimeWarning(\"Not compatible machine. Check!!\")\n",
    "    \n",
    "from scipy.stats import mannwhitneyu\n",
    "\n",
    "os.chdir(path)  # Set the right Path (in line with Atom default)\n",
    "print(os.getcwd()) # Show the current working directory. Should be HAPSBURG/Notebooks/ParallelRuns\n",
    "print(f\"CPU Count: {mp.cpu_count()}\")"
   ]
  },
  {
   "cell_type": "markdown",
   "metadata": {},
   "source": [
    "### Mann Whitney U Test"
   ]
  },
  {
   "cell_type": "code",
   "execution_count": 120,
   "metadata": {},
   "outputs": [],
   "source": [
    "def test_mwu(df, region1=\"Iberia\", region2=\"Iberia\", clst1=\"Early Neolithic\", clst2=\"Neolithic\", \n",
    "             col=\"sum_roh_4-8\", prt=True, alternative='two-sided', col_group=\"region\"):\n",
    "    \"\"\"MWann Whitney U-Test. Print and return result and nr Individuals in each group\n",
    "    df: Dataframe to test on\n",
    "    prt: Whether to print the results\"\"\"\n",
    "    df1 = df[(df[\"clst\"]==clst1) & (df[col_group]==region1)]\n",
    "    df2 = df[(df[\"clst\"]==clst2) & (df[col_group]==region2)]\n",
    "    \n",
    "    test = mannwhitneyu(df1[col], df2[col], alternative=alternative)\n",
    "    if prt:\n",
    "        print(test)\n",
    "        print(f\"Loaded {len(df1)} Samples from clst {clst1} {region1}\")\n",
    "        print(f\"Loaded {len(df2)} Samples from clst {clst2} {region2}\")\n",
    "        \n",
    "    return test, len(df1), len(df2)\n",
    "\n",
    "def test_mwu_groups(df1, df2, col=\"sum_roh_4-8\",\n",
    "                    prt=True, alternative='two-sided'):\n",
    "    \"\"\"Compare two Dataframes with values in col with mannwhitneyu Test\"\"\"\n",
    "    test = mannwhitneyu(df1[col], df2[col], alternative=alternative)\n",
    "    mean2 = np.mean(df2[col])\n",
    "    mean1 = np.mean(df1[col])\n",
    "    mean_diff =  mean2 - mean1\n",
    "    \n",
    "    if prt:\n",
    "        print(test)\n",
    "        print(f\"Loaded {len(df1)} Samples Set1\")\n",
    "        print(f\"Loaded {len(df2)} Samples Set2\") \n",
    "        print(f\"Mean 1: {mean1:.4f}\")\n",
    "        print(f\"Mean 2: {mean2:.4f}\")\n",
    "        print(f\"Mean difference 2 - 1: {mean_diff:.4f}\")\n",
    "    return test, len(df1), len(df2)\n",
    "\n",
    "def load_ROH_nolong(path=\"./Empirical/roh_all_inds_final_v42.csv\",\n",
    "                    cm=20, cutoff=50):\n",
    "    \"\"\"Load Dataframe without ROH\"\"\"\n",
    "    df = pd.read_csv(path, sep='\\t')\n",
    "    df[\"sum_roh_4-8\"] = df[\"sum_roh>4\"] - df[\"sum_roh>8\"]\n",
    "    print(f\"Loaded {len(df)} Individuals\")\n",
    "    df = df[df[f\"sum_roh>{cm}\"]<cutoff]\n",
    "    print(f\"Filtered to {len(df)} Individuals with no long ROH\")\n",
    "    return df\n",
    "\n",
    "def compare_groups(df1, df2, col=\"sum_roh_4-8\",\n",
    "                   label1=\"\", label2=\"\", rep_panova=0,\n",
    "                   alternative=\"two-sided\", sig=2, \n",
    "                   pr=False):\n",
    "    \n",
    "    df = pd.DataFrame({\"Group A\":[label1], \"Group B\":[label2]})\n",
    "    \n",
    "    ### Set the summary Stats\n",
    "    df[\"Median A\"] = np.median(df1[col])\n",
    "    df[\"#Zero A\"] = np.sum(df1[col]==0) \n",
    "    df[\"# A\"]= len(df1)\n",
    "    df[\"Median B\"] = np.median(df2[col])\n",
    "    df[\"#Zero B\"] = np.sum(df2[col]==0)\n",
    "    df[\"# B\"] = len(df2)\n",
    "    \n",
    "    ### Set the p-Value\n",
    "    x, y = df1[col], df2[col]\n",
    "    test = mannwhitneyu(x, y, alternative=alternative)\n",
    "    #df[\"p\"] = round_sig(test[1], sig=sig)\n",
    "    df[\"p\"] = test[1]\n",
    "    df[\"p\"] = df[\"p\"].apply(lambda x: '{:.1e}'.format(x))\n",
    "    \n",
    "    if rep_panova>0:\n",
    "        test1 = anova_2group(x, y, reps=rep_panova)\n",
    "        df[\"p1\"] = test1[\"p-value\"]\n",
    "        df[\"p1\"] = df[\"p1\"].apply(lambda x: '{:.1e}'.format(x))\n",
    "    \n",
    "    if pr:\n",
    "        print_latex(df)\n",
    "    return df\n",
    "\n",
    "def round_sig(x, sig=2):\n",
    "    \"\"\"Round to Significant digits.\n",
    "    Return rounded number\"\"\"\n",
    "    return round(x, sig-int(floor(log10(abs(x))))-1)\n",
    "\n",
    "####################################################################\n",
    "####################################################################\n",
    "\n",
    "def prep_distance_matrix(x,y):\n",
    "    \"\"\"Prepare a Distance Matrix\"\"\"\n",
    "    z=np.concatenate((x,y))\n",
    "    d_mat = np.abs(z-z[:,None])\n",
    "    dm = DistanceMatrix(d_mat)\n",
    "    return dm\n",
    "\n",
    "def anova_2group(x, y, reps=999):\n",
    "    \"\"\"Calculate Anove for 2Group. Return Statistic object\"\"\"\n",
    "    dm = prep_distance_matrix(x,y)\n",
    "    grouping = [\"A\"]*len(x) + [\"B\"]*len(y)\n",
    "    pma = permanova(dm, grouping, permutations=reps)\n",
    "    return pma\n",
    "\n",
    "####################################################################\n",
    "####################################################################\n",
    "\n",
    "def print_latex(df, index=False,  float_format=\"%.1f\", ret=False):\n",
    "    \"\"\"Print Latex table from Dataframe\"\"\"\n",
    "    out = df.to_latex(index=index, float_format=float_format)\n",
    "    print(out)\n",
    "\n",
    "    if ret:\n",
    "        return out"
   ]
  },
  {
   "cell_type": "markdown",
   "metadata": {},
   "source": [
    "# Early HG vrs later HG"
   ]
  },
  {
   "cell_type": "code",
   "execution_count": 115,
   "metadata": {},
   "outputs": [
    {
     "name": "stdout",
     "output_type": "stream",
     "text": [
      "Loaded 3732 Individuals\n",
      "Filtered to 3497 Individuals with no long ROH\n",
      "Filtered to 1739 Inviduals in age range\n"
     ]
    }
   ],
   "source": [
    "df = load_ROH_nolong(path=\"./Empirical/roh_all_inds_final_v42.csv\")\n",
    "df1 = df[(df[\"age\"]>0) & (df[\"age\"]<100000)]\n",
    "print(f\"Filtered to {len(df1)} Inviduals in age range\")\n",
    "df_hg = df1[(df1[\"economy\"]==\"Hunter Gatherer\")]"
   ]
  },
  {
   "cell_type": "code",
   "execution_count": 116,
   "metadata": {},
   "outputs": [],
   "source": [
    "df_hg1 =  df_hg[df_hg[\"age\"]>10e3]\n",
    "df_hg2 =  df_hg[(df_hg[\"age\"]>8e3) & (df_hg[\"age\"]<10e3)]"
   ]
  },
  {
   "cell_type": "code",
   "execution_count": 137,
   "metadata": {},
   "outputs": [
    {
     "name": "stdout",
     "output_type": "stream",
     "text": [
      "\\begin{tabular}{llrrrrrrll}\n",
      "\\toprule\n",
      "     Group A &       Group B &  Median A &  \\#Zero A &  \\# A &  Median B &  \\#Zero B &  \\# B &        p &       p1 \\\\\n",
      "\\midrule\n",
      " HG > 10k BP &  HG  8-10k BP &      30.5 &        0 &   22 &      14.1 &        3 &   37 &  1.5e-04 &  1.0e-04 \\\\\n",
      "\\bottomrule\n",
      "\\end{tabular}\n",
      "\n",
      "CPU times: user 1.35 s, sys: 2.14 ms, total: 1.35 s\n",
      "Wall time: 1.35 s\n"
     ]
    }
   ],
   "source": [
    "%%time\n",
    "df_add = compare_groups(df_hg1, df_hg2, label1 = \"HG > 10k BP\",  label2 = \"HG  8-10k BP\", \\\n",
    "                        pr=True, rep_panova=9999)"
   ]
  },
  {
   "cell_type": "markdown",
   "metadata": {},
   "source": [
    "# EEF vrs HG Table [Paper]"
   ]
  },
  {
   "cell_type": "code",
   "execution_count": 127,
   "metadata": {},
   "outputs": [
    {
     "name": "stdout",
     "output_type": "stream",
     "text": [
      "Loaded 3732 Individuals\n",
      "Filtered to 3497 Individuals with no long ROH\n",
      "Filtered to 1739 Inviduals in age range\n"
     ]
    }
   ],
   "source": [
    "df = load_ROH_nolong(path=\"./Empirical/roh_all_inds_final_v42.csv\")\n",
    "df1 = df[(df[\"age\"]>0) & (df[\"age\"]<100000)]\n",
    "print(f\"Filtered to {len(df1)} Inviduals in age range\")\n",
    "df_hg = df1[(df1[\"economy\"]==\"Hunter Gatherer\")]\n",
    "df_ef = df1[(df1[\"economy\"]==\"Agricultural\")]\n",
    "#set(df_hg[\"region\"])"
   ]
  },
  {
   "cell_type": "markdown",
   "metadata": {},
   "source": [
    "### All HG vrs Agriculturalists"
   ]
  },
  {
   "cell_type": "code",
   "execution_count": 128,
   "metadata": {},
   "outputs": [
    {
     "name": "stdout",
     "output_type": "stream",
     "text": [
      "\\begin{tabular}{llrrrrrrll}\n",
      "\\toprule\n",
      "Group A &      Group B &  Median A &  \\#Zero A &  \\# A &  Median B &  \\#Zero B &  \\# B &        p &       p1 \\\\\n",
      "\\midrule\n",
      " All HG &  All Farmers &      17.0 &       16 &  138 &       0.0 &      543 &  921 &  2.3e-47 &  1.0e-04 \\\\\n",
      "\\bottomrule\n",
      "\\end{tabular}\n",
      "\n"
     ]
    }
   ],
   "source": [
    "df_add = compare_groups(df_hg, df_ef, label1 = \"All HG\",  label2 = \"All Farmers\", \n",
    "                        pr=True, rep_panova=9999)"
   ]
  },
  {
   "cell_type": "markdown",
   "metadata": {},
   "source": [
    "# HG vrs early Agriculturalists"
   ]
  },
  {
   "cell_type": "code",
   "execution_count": 129,
   "metadata": {},
   "outputs": [
    {
     "name": "stdout",
     "output_type": "stream",
     "text": [
      "Loaded 3732 Individuals\n",
      "Filtered to 3497 Individuals with no long ROH\n",
      "Filtered to 1739 Inviduals in age range\n",
      "Aegan: Reduced to 27/47, Age Max: 8505.0\n",
      "Balkans: Reduced to 41/101, Age Max: 7836.0\n",
      "Britain: Reduced to 90/135, Age Max: 5770.0\n",
      "Central Europe: Reduced to 25/129, Age Max: 7140.0\n",
      "Iberia: Reduced to 20/128, Age Max: 7348.0\n",
      "Rome: Reduced to 11/120, Age Max: 7984.0\n",
      "Steppe: Reduced to 10/10, Age Max: 5456.0\n",
      "Black Sea: Reduced to 3/3, Age Max: 4754.0\n",
      "North Africa: Reduced to 1/1, Age Max: 3635.0\n",
      "Baltic Sea: Reduced to 10/10, Age Max: 1431.0\n"
     ]
    }
   ],
   "source": [
    "df = load_ROH_nolong(path=\"./Empirical/roh_all_inds_final_v42.csv\")\n",
    "df1 = df[(df[\"age\"]>0) & (df[\"age\"]<100000)]\n",
    "print(f\"Filtered to {len(df1)} Inviduals in age range\")\n",
    "df_hg = df1[(df1[\"economy\"]==\"Hunter Gatherer\")]\n",
    "df_ef = df1[(df1[\"economy\"]==\"Agricultural\")]\n",
    "\n",
    "regions = ['Aegan', 'Balkans', \n",
    "           'Britain', 'Central Europe',\n",
    "           'Iberia', 'Rome', 'Steppe', \n",
    "           'Black Sea', 'North Africa',  \"Baltic Sea\"]\n",
    "\n",
    "df_efs, df_vec = [], []\n",
    "\n",
    "for r in regions:\n",
    "    df1 = df_hg[df_hg[\"region\"]==r]\n",
    "    df2 = df_ef[df_ef[\"region\"]==r]\n",
    "    \n",
    "    # Set age boundary\n",
    "    age_max = np.max(df2[\"age\"])\n",
    "    df3 = df2[df2[\"age\"]> (age_max-2000)].reset_index()\n",
    "    df_efs.append(df3)\n",
    "    print(f\"{r}: Reduced to {len(df3)}/{len(df2)}, Age Max: {age_max}\")\n",
    "    label1 = r + \"-HG\"\n",
    "    label2 = r + \"-EF\"\n",
    "    df_add = compare_groups(df1, df3, label1 = label1,  label2 = label2, \n",
    "                            rep_panova=9999, pr=False)\n",
    "    df_vec.append(df_add)\n",
    "    \n",
    "df_res = pd.concat(df_vec)"
   ]
  },
  {
   "cell_type": "code",
   "execution_count": 130,
   "metadata": {},
   "outputs": [
    {
     "name": "stdout",
     "output_type": "stream",
     "text": [
      "\\begin{tabular}{llrrrrrrll}\n",
      "\\toprule\n",
      "           Group A &            Group B &  Median A &  \\#Zero A &  \\# A &  Median B &  \\#Zero B &  \\# B &        p &       p1 \\\\\n",
      "\\midrule\n",
      "          Aegan-HG &           Aegan-EF &      30.9 &        0 &    1 &       0.0 &       18 &   27 &  6.0e-02 &  3.5e-02 \\\\\n",
      "        Balkans-HG &         Balkans-EF &      13.3 &        3 &   37 &       4.2 &       17 &   41 &  5.5e-06 &  1.0e-04 \\\\\n",
      "        Britain-HG &         Britain-EF &      39.8 &        0 &    1 &       5.6 &       18 &   90 &  8.9e-02 &  9.1e-03 \\\\\n",
      " Central Europe-HG &  Central Europe-EF &      42.8 &        0 &    1 &       0.0 &       15 &   25 &  7.5e-02 &  4.1e-02 \\\\\n",
      "         Iberia-HG &          Iberia-EF &      25.6 &        0 &    4 &       4.7 &        7 &   20 &  1.5e-01 &  9.3e-02 \\\\\n",
      "           Rome-HG &            Rome-EF &      65.8 &        0 &    2 &       4.4 &        5 &   11 &  3.3e-02 &  1.2e-02 \\\\\n",
      "         Steppe-HG &          Steppe-EF &      39.2 &        2 &   12 &       7.1 &        3 &   10 &  1.9e-02 &  4.9e-03 \\\\\n",
      "      Black Sea-HG &       Black Sea-EF &      14.7 &        1 &   14 &      15.1 &        1 &    3 &  5.3e-01 &  4.5e-01 \\\\\n",
      "   North Africa-HG &    North Africa-EF &      29.1 &        0 &    3 &       0.0 &        1 &    1 &  3.7e-01 &  2.5e-01 \\\\\n",
      "     Baltic Sea-HG &      Baltic Sea-EF &      21.8 &        5 &   34 &       0.0 &        6 &   10 &  5.5e-04 &  3.2e-03 \\\\\n",
      "\\bottomrule\n",
      "\\end{tabular}\n",
      "\n"
     ]
    }
   ],
   "source": [
    "print(df_res.to_latex(index=False,  float_format=\"%.1f\"))"
   ]
  },
  {
   "cell_type": "markdown",
   "metadata": {},
   "source": [
    "### HG vrs Early Farmers \n",
    "Needs above function"
   ]
  },
  {
   "cell_type": "code",
   "execution_count": 131,
   "metadata": {},
   "outputs": [
    {
     "name": "stdout",
     "output_type": "stream",
     "text": [
      "\\begin{tabular}{llrrrrrrll}\n",
      "\\toprule\n",
      "Group A &             Group B &  Median A &  \\#Zero A &  \\# A &  Median B &  \\#Zero B &  \\# B &        p &       p1 \\\\\n",
      "\\midrule\n",
      " All HG &  Early Farmers (EF) &      17.0 &       16 &  138 &       4.5 &       91 &  238 &  3.1e-22 &  1.0e-04 \\\\\n",
      "\\bottomrule\n",
      "\\end{tabular}\n",
      "\n"
     ]
    }
   ],
   "source": [
    "df1 = pd.concat(df_efs)\n",
    "df_res = compare_groups(df_hg, df1, label1 = \"All HG\",  label2 = \"Early Farmers (EF)\", \n",
    "                        rep_panova=9999, pr=True)"
   ]
  },
  {
   "cell_type": "markdown",
   "metadata": {},
   "source": [
    "### Iberia"
   ]
  },
  {
   "cell_type": "code",
   "execution_count": 132,
   "metadata": {},
   "outputs": [
    {
     "name": "stdout",
     "output_type": "stream",
     "text": [
      "Loaded 3732 Individuals\n",
      "Filtered to 3497 Individuals with no long ROH\n"
     ]
    }
   ],
   "source": [
    "df = load_ROH_nolong(path=\"./Empirical/roh_all_inds_final_v42.csv\")\n",
    "df_ef = df[(df[\"economy\"]==\"Agricultural\")]\n",
    "df1 = df_ef[df_ef[\"pop\"].str.contains(\"Iberia_EN\")]\n",
    "df2 = df_ef[df_ef[\"pop\"].str.contains(\"Iberia_MN\")]"
   ]
  },
  {
   "cell_type": "code",
   "execution_count": 133,
   "metadata": {},
   "outputs": [
    {
     "name": "stdout",
     "output_type": "stream",
     "text": [
      "\\begin{tabular}{llrrrrrrll}\n",
      "\\toprule\n",
      "   Group A &    Group B &  Median A &  \\#Zero A &  \\# A &  Median B &  \\#Zero B &  \\# B &        p &       p1 \\\\\n",
      "\\midrule\n",
      " Iberia-EN &  Iberia-MN &      32.8 &        0 &    7 &       0.0 &        9 &   15 &  1.5e-04 &  1.0e-04 \\\\\n",
      "\\bottomrule\n",
      "\\end{tabular}\n",
      "\n"
     ]
    }
   ],
   "source": [
    "df_add = compare_groups(df1, df2, label1 = \"Iberia-EN\",  label2 = \"Iberia-MN\", \n",
    "                        rep_panova=9999, pr=True)"
   ]
  },
  {
   "cell_type": "markdown",
   "metadata": {},
   "source": [
    "### Aceramic to Anatolia-N"
   ]
  },
  {
   "cell_type": "code",
   "execution_count": 134,
   "metadata": {},
   "outputs": [
    {
     "name": "stdout",
     "output_type": "stream",
     "text": [
      "Loaded 3732 Individuals\n",
      "Filtered to 3497 Individuals with no long ROH\n"
     ]
    }
   ],
   "source": [
    "df = load_ROH_nolong(path=\"./Empirical/roh_all_inds_final_v42.csv\")\n",
    "\n",
    "df_ac = df[(df[\"economy\"]==\"Aceramic Farmer\")]\n",
    "df1 = df_ac[df_ac[\"pop\"].str.contains(\"Anatolia\")]\n",
    "\n",
    "df_ef = df[(df[\"economy\"]==\"Agricultural\")]\n",
    "df2 = df_ef[df_ef[\"pop\"].str.contains(\"Anatolia_N\")]"
   ]
  },
  {
   "cell_type": "code",
   "execution_count": 136,
   "metadata": {},
   "outputs": [
    {
     "name": "stdout",
     "output_type": "stream",
     "text": [
      "\\begin{tabular}{llrrrrrrll}\n",
      "\\toprule\n",
      "     Group A &     Group B &  Median A &  \\#Zero A &  \\# A &  Median B &  \\#Zero B &  \\# B &        p &       p1 \\\\\n",
      "\\midrule\n",
      " Anatolia-AC &  Anatolia-N &      36.7 &        0 &    6 &       0.0 &       18 &   23 &  8.9e-05 &  2.0e-04 \\\\\n",
      "\\bottomrule\n",
      "\\end{tabular}\n",
      "\n"
     ]
    }
   ],
   "source": [
    "df_add = compare_groups(df1, df2, label1 = \"Anatolia-AC\",  label2 = \"Anatolia-N\", \n",
    "                        pr=True, rep_panova=9999)"
   ]
  },
  {
   "cell_type": "markdown",
   "metadata": {},
   "source": [
    "# Area 51"
   ]
  },
  {
   "cell_type": "markdown",
   "metadata": {},
   "source": [
    "### Test permanova"
   ]
  },
  {
   "cell_type": "code",
   "execution_count": 4,
   "metadata": {},
   "outputs": [],
   "source": [
    "dm = DistanceMatrix([[0, 1, 1, 4],\n",
    "                     [1, 0, 3, 2],\n",
    "                     [1, 3, 0, 3],\n",
    "                     [4, 2, 3, 0]],\n",
    "                     ['s1', 's2', 's3', 's4'])\n",
    "grouping = ['Group1', 'Group1', 'Group2', 'Group2']"
   ]
  },
  {
   "cell_type": "code",
   "execution_count": 5,
   "metadata": {},
   "outputs": [],
   "source": [
    "from skbio.stats.distance import permanova\n",
    "from skbio import DistanceMatrix"
   ]
  },
  {
   "cell_type": "code",
   "execution_count": 11,
   "metadata": {},
   "outputs": [
    {
     "name": "stdout",
     "output_type": "stream",
     "text": [
      "CPU times: user 886 ms, sys: 0 ns, total: 886 ms\n",
      "Wall time: 880 ms\n"
     ]
    },
    {
     "data": {
      "text/plain": [
       "method name               PERMANOVA\n",
       "test statistic name        pseudo-F\n",
       "sample size                       4\n",
       "number of groups                  2\n",
       "test statistic                    2\n",
       "p-value                      0.6709\n",
       "number of permutations         9999\n",
       "Name: PERMANOVA results, dtype: object"
      ]
     },
     "execution_count": 11,
     "metadata": {},
     "output_type": "execute_result"
    }
   ],
   "source": [
    "%%time\n",
    "permanova(dm, grouping, permutations=9999)"
   ]
  },
  {
   "cell_type": "markdown",
   "metadata": {},
   "source": [
    "### Permanova implementation with 1D Dist"
   ]
  },
  {
   "cell_type": "code",
   "execution_count": 45,
   "metadata": {},
   "outputs": [],
   "source": []
  },
  {
   "cell_type": "code",
   "execution_count": 41,
   "metadata": {},
   "outputs": [
    {
     "name": "stdout",
     "output_type": "stream",
     "text": [
      "CPU times: user 1.49 ms, sys: 68 µs, total: 1.56 ms\n",
      "Wall time: 950 µs\n"
     ]
    }
   ],
   "source": [
    "%%time\n",
    "dm = prep_distance_matrix(x,y)"
   ]
  },
  {
   "cell_type": "code",
   "execution_count": 48,
   "metadata": {},
   "outputs": [
    {
     "name": "stdout",
     "output_type": "stream",
     "text": [
      "CPU times: user 93.2 ms, sys: 1.02 ms, total: 94.2 ms\n",
      "Wall time: 92.5 ms\n"
     ]
    }
   ],
   "source": [
    "%%time\n",
    "pma=anova_2group(x, y, reps=99)"
   ]
  },
  {
   "cell_type": "code",
   "execution_count": 54,
   "metadata": {},
   "outputs": [
    {
     "data": {
      "text/plain": [
       "method name               PERMANOVA\n",
       "test statistic name        pseudo-F\n",
       "sample size                     200\n",
       "number of groups                  2\n",
       "test statistic             0.491598\n",
       "p-value                         0.5\n",
       "number of permutations           99\n",
       "Name: PERMANOVA results, dtype: object"
      ]
     },
     "execution_count": 54,
     "metadata": {},
     "output_type": "execute_result"
    }
   ],
   "source": [
    "pma"
   ]
  },
  {
   "cell_type": "markdown",
   "metadata": {},
   "source": [
    "### Tests MWU"
   ]
  },
  {
   "cell_type": "code",
   "execution_count": 110,
   "metadata": {},
   "outputs": [
    {
     "data": {
      "image/png": "[encoded data removed]",
      "text/plain": [
       "<Figure size 432x288 with 1 Axes>"
      ]
     },
     "metadata": {
      "needs_background": "light"
     },
     "output_type": "display_data"
    },
    {
     "name": "stdout",
     "output_type": "stream",
     "text": [
      "CPU times: user 490 ms, sys: 7.01 ms, total: 497 ms\n",
      "Wall time: 495 ms\n"
     ]
    }
   ],
   "source": [
    "%%time\n",
    "reps = 999\n",
    "mean1, mean2 = 1, 1\n",
    "s1, s2 = 1, 10\n",
    "std1, std2 = 1.0, 1.0\n",
    "\n",
    "p = np.zeros(reps)\n",
    "\n",
    "for i in range(reps):\n",
    "    x = np.random.normal(loc=mean1, scale=std1, size=s1)\n",
    "    y = np.random.normal(loc=mean2, scale=std2, size=s2)\n",
    "    #x=np.clip(x, 0, None)\n",
    "    #y=np.clip(y, 0, None)\n",
    "    p[i] = mannwhitneyu(x, y, alternative='two-sided')[1]\n",
    "    \n",
    "##### Plot figures of distribution p-Values\n",
    "plt.figure()\n",
    "ax = plt.gca()\n",
    "ax.hist(p, bins=20, ec=\"k\")\n",
    "ax.set_title(\"WMU\")\n",
    "ax.set_xlabel(\"p-Values\")\n",
    "ax.set_ylabel(\"Counts\")\n",
    "plt.show()"
   ]
  },
  {
   "cell_type": "markdown",
   "metadata": {},
   "source": [
    "### Test Permanova"
   ]
  },
  {
   "cell_type": "code",
   "execution_count": 109,
   "metadata": {},
   "outputs": [
    {
     "data": {
      "image/png": "[encoded data removed]",
      "text/plain": [
       "<Figure size 432x288 with 1 Axes>"
      ]
     },
     "metadata": {
      "needs_background": "light"
     },
     "output_type": "display_data"
    },
    {
     "name": "stdout",
     "output_type": "stream",
     "text": [
      "CPU times: user 8.44 s, sys: 7.97 ms, total: 8.45 s\n",
      "Wall time: 8.45 s\n"
     ]
    }
   ],
   "source": [
    "%%time\n",
    "reps = 999\n",
    "mean1, mean2 = 1, 1\n",
    "s1, s2 = 1, 10\n",
    "std1, std2 = 1.0, 1.0\n",
    "\n",
    "p = np.zeros(reps)\n",
    "\n",
    "for i in range(reps):\n",
    "    x = np.random.normal(loc=mean1, scale=std1, size=s1)\n",
    "    y = np.random.normal(loc=mean2, scale=std2, size=s2)\n",
    "    x=np.clip(x, 0, None)\n",
    "    y=np.clip(y, 0, None)\n",
    "    \n",
    "    p[i] = anova_2group(x, y, reps=99)[\"p-value\"]\n",
    "    \n",
    "##### Plot figures of distribution p-Values\n",
    "plt.figure()\n",
    "ax = plt.gca()\n",
    "ax.hist(p, bins=20, ec=\"k\")\n",
    "ax.set_title(\"Permanova\")\n",
    "ax.set_xlabel(\"p-Values\")\n",
    "ax.set_ylabel(\"Counts\")\n",
    "plt.show()"
   ]
  },
  {
   "cell_type": "code",
   "execution_count": null,
   "metadata": {},
   "outputs": [],
   "source": []
  }
 ],
 "metadata": {
  "kernelspec": {
   "display_name": "Python 3",
   "language": "python",
   "name": "python3"
  },
  "language_info": {
   "codemirror_mode": {
    "name": "ipython",
    "version": 3
   },
   "file_extension": ".py",
   "mimetype": "text/x-python",
   "name": "python",
   "nbconvert_exporter": "python",
   "pygments_lexer": "ipython3",
   "version": "3.7.0"
  }
 },
 "nbformat": 4,
 "nbformat_minor": 2
}
