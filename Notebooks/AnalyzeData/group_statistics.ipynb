{
 "cells": [
  {
   "cell_type": "markdown",
   "metadata": {},
   "source": [
    "# Calculate Group Statistics.\n",
    "Has Functions to calculate Fractions per Population Group.\n",
    "- Calculate uncertainties per Group\n",
    "- Save them as Pandas Dataframe\n",
    "- Modify Pandas Data\n",
    "- Save as .csv"
   ]
  },
  {
   "cell_type": "code",
   "execution_count": 1,
   "metadata": {},
   "outputs": [
    {
     "name": "stdout",
     "output_type": "stream",
     "text": [
      "midway2-0403.rcc.local\n",
      "Midway jnovmbre partition detected.\n",
      "/project2/jnovembre/hringbauer/HAPSBURG\n",
      "CPU Count: 28\n"
     ]
    }
   ],
   "source": [
    "import numpy as np\n",
    "import os as os\n",
    "import sys as sys\n",
    "import multiprocessing as mp\n",
    "import pandas as pd\n",
    "import socket\n",
    "import matplotlib.pyplot as plt\n",
    "\n",
    "### Do the Arial \n",
    "from matplotlib import rcParams\n",
    "rcParams['font.family'] = 'sans-serif'   # Set the default\n",
    "rcParams['font.sans-serif'] = ['Arial']  # Make sure to have the font installed (it is on cluster for Harald)\n",
    "\n",
    "### Pick the right path (whether on cluster or at home)\n",
    "socket_name = socket.gethostname()\n",
    "print(socket_name)\n",
    "if socket_name == \"VioletQueen\":\n",
    "    path = \"/home/harald/git/HAPSBURG/\"   # The Path on Harald's machine\n",
    "elif socket_name.startswith(\"midway2\"):\n",
    "    print(\"Midway jnovmbre partition detected.\")\n",
    "    path = \"/project2/jnovembre/hringbauer/HAPSBURG/\"  # The Path on Midway Cluster\n",
    "elif socket_name.startswith(\"Harald-Laptop\"):\n",
    "    print(\"Harald's new laptop detected!\")\n",
    "    path = \"/home/hringbauer/git/HAPSBURG/\" \n",
    "else: \n",
    "    raise RuntimeWarning(\"Not compatible machine. Check!!\")\n",
    "    \n",
    "os.chdir(path)  # Set the right Path (in line with Atom default)\n",
    "\n",
    "sys.path.append(\"./Python3/\")  # Since now we are in the Root Directory\n",
    "from statsmodels.stats.proportion import proportion_confint  # Estimate Binomial proportion Confidence Intervalls\n",
    "\n",
    "print(os.getcwd()) # Show the current working directory. Should be HAPSBURG/Notebooks/ParallelRuns\n",
    "print(f\"CPU Count: {mp.cpu_count()}\")"
   ]
  },
  {
   "cell_type": "markdown",
   "metadata": {},
   "source": [
    "### Helper Functions"
   ]
  },
  {
   "cell_type": "code",
   "execution_count": 2,
   "metadata": {},
   "outputs": [],
   "source": [
    "def cutoff_statistic_perpop(df, cutoff= 70, col=\"statistic\", round_dgts=3,\n",
    "                            method=\"wilson\", groupby=\"pop\", sort=True, bigger=True):\n",
    "    \"\"\"Calculate Cutoff Statistics per Group \n",
    "    and return summary dataframe with unctertainty.\n",
    "    method: Which Method to use for binomial uncertainty fractions\n",
    "    groupby: What colum(s) to group by (can be list).\n",
    "    bigger: Whether to count values bigger than the cutoff\"\"\"\n",
    "    if bigger:\n",
    "        df[f\"statistic>{cutoff}\"] = (df[col] >= cutoff)\n",
    "    else:\n",
    "        df[f\"statistic>{cutoff}\"] = (df[col] <= cutoff)\n",
    "        \n",
    "    df_mg = df.groupby(groupby, sort=False) # Sort by First Occurence\n",
    "    df_pop_stat = df_mg[f\"statistic>{cutoff}\"].agg([\"sum\", 'count']).astype(\"int\")\n",
    "    df_pop_stat[\"frac\"] = df_pop_stat[\"sum\"]/df_pop_stat[\"count\"]\n",
    "    if sort:\n",
    "        df_pop_stat = df_pop_stat.sort_values(by=\"frac\", ascending=False)  # Sort for better output\n",
    "    df_pop_stat = estimate_ci_fractions(df_pop_stat, col_c=\"sum\", col_n=\"count\", method=method)\n",
    "    df_pop_stat = df_pop_stat.round(round_dgts)\n",
    "    return df_pop_stat.reset_index()\n",
    "\n",
    "def estimate_ci_fractions(df, col_c=\"sum\", col_n=\"count\", method=\"wilson\"):\n",
    "    \"\"\"Estimate Confidence Intervals from Binomial Fractions.\n",
    "    Add these fractions as two new columns to data frame\n",
    "    (frac_low, frac_high) and return dataframe\n",
    "    df: Dataframe to use\n",
    "    col_c: Count Column\n",
    "    col_n Total Count Column\n",
    "    method: Which binomial proportion confidence interval to use\"\"\"\n",
    "    c, n = df[col_c].values, df[col_n].values\n",
    "    low, high = proportion_confint(c,n,method=method)\n",
    "    df[\"frac_low\"], df[\"frac_high\"] = low, high\n",
    "    return df\n",
    "\n",
    "def calc_statistic(df, frac=0.65, cm = [4,8,12] ):\n",
    "    \"\"\"Calculate the \"statistic\" from cutoff.\n",
    "    cm: Cutoffs [in centiMorgan]\n",
    "    frac: Fraction of the lower category to substract\"\"\"\n",
    "    statistic = df[f\"sum_roh>{cm[2]}\"] - frac * ((df[f\"sum_roh>{cm[0]}\"]) - df[f\"sum_roh>{cm[1]}\"])\n",
    "    return statistic\n",
    "\n",
    "def plot_bars_fractions(df, col=\"frac\", col_l=\"frac_low\", col_h=\"frac_high\", xticks=[],\n",
    "                        figsize=(18,5), bar_width=0.9, fs_l=7, ec=\"k\", c=\"coral\", legend=True,\n",
    "                        savepath=\"\", ylabel=\"\"):\n",
    "    \"\"\"Plot Fractions in dataframe df. \n",
    "    col: Which column has values\n",
    "    col_l, col_h: Values for low & high CIs\"\"\"\n",
    "    x = np.arange(len(df))\n",
    "    y = df[col].values\n",
    "\n",
    "    plt.figure(figsize=figsize)\n",
    "    ax=plt.gca()\n",
    "    ax.bar(x, y, width = bar_width, color = c, edgecolor = ec)\n",
    "    # yerr=[df_t[\"frac_low\"], df_t[\"frac_high\"]]\n",
    "\n",
    "    # general layout\n",
    "    ax.set_xticks(x)\n",
    "    ax.set_xticklabels(xticks, rotation=90, fontsize=fs_l)\n",
    "    ax.set_xlim([-0.5,np.max(x)+0.5])\n",
    "    ax.set_ylim([0,1])\n",
    "    ax.set_ylabel(ylabel)\n",
    "    ax.vlines(x, df[col_l], df[col_h], lw=0.5, label=\"95% CI Intervalls\")\n",
    "    if legend:\n",
    "        ax.legend(loc=\"upper right\")\n",
    "        \n",
    "    if len(savepath)>0:\n",
    "        plt.savefig(savepath, bbox_inches = 'tight', pad_inches = 0)\n",
    "        print(f\"Saved to {savepath}\")\n",
    "    plt.show()"
   ]
  },
  {
   "cell_type": "markdown",
   "metadata": {},
   "source": [
    "# Cousin Statistic"
   ]
  },
  {
   "cell_type": "markdown",
   "metadata": {},
   "source": [
    "# Calculate Human Origin Fractions"
   ]
  },
  {
   "cell_type": "code",
   "execution_count": 3,
   "metadata": {},
   "outputs": [
    {
     "name": "stdout",
     "output_type": "stream",
     "text": [
      "Filtered to 1941 HO individuals\n"
     ]
    }
   ],
   "source": [
    "df = pd.read_csv(\"./Empirical/roh_all_inds_final_v42.csv\", sep=\"\\t\")\n",
    "df1 = df[df[\"age\"]==0]\n",
    "print(f\"Filtered to {len(df1)} HO individuals\")"
   ]
  },
  {
   "cell_type": "code",
   "execution_count": 5,
   "metadata": {},
   "outputs": [
    {
     "data": {
      "text/plain": [
       "176"
      ]
     },
     "execution_count": 5,
     "metadata": {},
     "output_type": "execute_result"
    }
   ],
   "source": [
    "np.sum(df1[\"sum_roh>20\"]>50)"
   ]
  },
  {
   "cell_type": "code",
   "execution_count": null,
   "metadata": {},
   "outputs": [],
   "source": [
    "df[df[\"study\"].str.contains(\"Lazaridis et al. 2014\")]"
   ]
  },
  {
   "cell_type": "markdown",
   "metadata": {},
   "source": [
    "## Modern HO Populations"
   ]
  },
  {
   "cell_type": "code",
   "execution_count": 11,
   "metadata": {},
   "outputs": [],
   "source": [
    "###### Do the Cousin Statistic\n",
    "df = pd.read_csv(\"./Empirical/roh_all_inds_final_v42.csv\", sep='\\t')\n",
    "statistic = calc_statistic(df)\n",
    "df[\"statistic\"] = statistic\n",
    "df = df[df[\"age\"]==0].copy()   ### Extract Modern (HO) Samples\n",
    "df_t = cutoff_statistic_perpop(df, cutoff=70)\n",
    "\n",
    "###### Do Statistic for >50 >20cM ROH\n",
    "df = pd.read_csv(\"./Empirical/roh_all_inds.csv\", sep='\\t')\n",
    "statistic = calc_statistic(df)\n",
    "df[\"statistic\"] = df[\"sum_roh>20\"]\n",
    "df = df[df[\"age\"]==0].copy()   ### Extract Modern (HO) Samples\n",
    "df_t = cutoff_statistic_perpop(df, cutoff=50)"
   ]
  },
  {
   "cell_type": "code",
   "execution_count": 12,
   "metadata": {},
   "outputs": [
    {
     "name": "stdout",
     "output_type": "stream",
     "text": [
      "Saved to ./figures_test/bar_stat/bar_stat_modern.pdf\n"
     ]
    },
    {
     "data": {
      "image/png": "[encoded data removed]",
      "text/plain": [
       "<Figure size 1824x360 with 1 Axes>"
      ]
     },
     "metadata": {
      "needs_background": "light"
     },
     "output_type": "display_data"
    }
   ],
   "source": [
    "### Plot Results\n",
    "df_plot = df_t[df_t[\"count\"]>=5].copy()  ### Extract Pops with at least 5 individuals\n",
    "plot_bars_fractions(df_plot, col=\"frac\", xticks=df_plot[\"pop\"],\n",
    "                    col_l='frac_low', col_h='frac_high', figsize=(len(df_plot)/6, 5),\n",
    "                    savepath=\"./figures_test/bar_stat/bar_stat_modern.pdf\",\n",
    "                    ylabel=\"Fraction Individuals with >100cM ROH>20cM\")\n",
    "df_ho = df_t"
   ]
  },
  {
   "cell_type": "code",
   "execution_count": 16,
   "metadata": {},
   "outputs": [
    {
     "data": {
      "text/plain": [
       "14"
      ]
     },
     "execution_count": 16,
     "metadata": {},
     "output_type": "execute_result"
    }
   ],
   "source": [
    "np.sum(df_ho[\"sum\"]>3)"
   ]
  },
  {
   "cell_type": "code",
   "execution_count": 17,
   "metadata": {},
   "outputs": [
    {
     "data": {
      "text/plain": [
       "162"
      ]
     },
     "execution_count": 17,
     "metadata": {},
     "output_type": "execute_result"
    }
   ],
   "source": [
    "len(df_ho)"
   ]
  },
  {
   "cell_type": "code",
   "execution_count": 20,
   "metadata": {},
   "outputs": [
    {
     "data": {
      "text/plain": [
       "70"
      ]
     },
     "execution_count": 20,
     "metadata": {},
     "output_type": "execute_result"
    }
   ],
   "source": [
    "np.max(df_ho[\"count\"])"
   ]
  },
  {
   "cell_type": "code",
   "execution_count": 48,
   "metadata": {},
   "outputs": [],
   "source": [
    "df_many = df_ho[df_ho[\"count\"]>10]"
   ]
  },
  {
   "cell_type": "code",
   "execution_count": 49,
   "metadata": {},
   "outputs": [
    {
     "data": {
      "text/plain": [
       "10"
      ]
     },
     "execution_count": 49,
     "metadata": {},
     "output_type": "execute_result"
    }
   ],
   "source": [
    "np.sum(df_many[\"frac\"]>=0.2)"
   ]
  },
  {
   "cell_type": "code",
   "execution_count": 50,
   "metadata": {},
   "outputs": [
    {
     "data": {
      "text/plain": [
       "48"
      ]
     },
     "execution_count": 50,
     "metadata": {},
     "output_type": "execute_result"
    }
   ],
   "source": [
    "len(df_many)"
   ]
  },
  {
   "cell_type": "markdown",
   "metadata": {},
   "source": [
    "## Ancient Individuals"
   ]
  },
  {
   "cell_type": "markdown",
   "metadata": {},
   "source": [
    "### Over all Periods"
   ]
  },
  {
   "cell_type": "code",
   "execution_count": 28,
   "metadata": {},
   "outputs": [
    {
     "name": "stdout",
     "output_type": "stream",
     "text": [
      "Saved to ./figures_test/bar_stat/bar_stat_ancient.pdf\n"
     ]
    },
    {
     "data": {
      "image/png": "[encoded data removed]",
      "text/plain": [
       "<Figure size 378x360 with 1 Axes>"
      ]
     },
     "metadata": {
      "needs_background": "light"
     },
     "output_type": "display_data"
    }
   ],
   "source": [
    "df = pd.read_csv(\"./Empirical/roh_all_inds.csv\", sep='\\t')\n",
    "df = df[df[\"age\"]>0].copy()   ### Extract Ancient Samples\n",
    "statistic = calc_statistic(df)\n",
    "#df[\"statistic\"] = statistic\n",
    "df[\"statistic\"] = df[\"sum_roh>20\"]\n",
    "\n",
    "df_t = cutoff_statistic_perpop(df, cutoff=40, col=\"statistic\", groupby=\"region\")\n",
    "df_plot = df_t[df_t[\"count\"]>=5]\n",
    "plot_bars_fractions(df_plot, col=\"frac\", col_l='frac_low', figsize=(len(df_plot)/4, 5),\n",
    "                    col_h='frac_high', xticks=df_plot[\"region\"],\n",
    "                   savepath=\"./figures_test/bar_stat/bar_stat_ancient.pdf\",\n",
    "                     ylabel=\"Fraction Individuals with >40cM ROH>20cM\")"
   ]
  },
  {
   "cell_type": "markdown",
   "metadata": {},
   "source": [
    "### Broken up into Mesolithic/Neolithic/Early Neolithic"
   ]
  },
  {
   "cell_type": "code",
   "execution_count": 29,
   "metadata": {},
   "outputs": [
    {
     "name": "stdout",
     "output_type": "stream",
     "text": [
      "Extracting 352 Individuals in ['Mesolithic', 'Neolithic', 'Early Neolithic']\n"
     ]
    }
   ],
   "source": [
    "df = pd.read_csv(\"./Empirical/roh_all_inds.csv\", sep='\\t')\n",
    "df = df[df[\"age\"]>0].copy()   ### Extract Ancient Samples\n",
    "statistic = calc_statistic(df)\n",
    "#df[\"statistic\"] = statistic\n",
    "df[\"statistic\"] = df[\"sum_roh>20\"]\n",
    "period = [\"Mesolithic\", \"Neolithic\", \"Early Neolithic\"]\n",
    "idx = df[\"clst\"].isin(period)\n",
    "print(f\"Extracting {np.sum(idx)} Individuals in {period}\")\n",
    "df = df[idx].copy()\n",
    "df = df.sort_values(['region', 'age'], ascending=False) # Sort so that groupby is in order (age)"
   ]
  },
  {
   "cell_type": "code",
   "execution_count": 30,
   "metadata": {},
   "outputs": [
    {
     "name": "stdout",
     "output_type": "stream",
     "text": [
      "Saved to ./figures_test/bar_stat/bar_stat_meso_neo_europe.pdf\n"
     ]
    },
    {
     "data": {
      "image/png": "[encoded data removed]",
      "text/plain": [
       "<Figure size 414x432 with 1 Axes>"
      ]
     },
     "metadata": {
      "needs_background": "light"
     },
     "output_type": "display_data"
    }
   ],
   "source": [
    "df_t = cutoff_statistic_perpop(df, cutoff=40, col=\"statistic\", groupby=[\"region\", \"clst\"], sort=False)\n",
    "df_plot = df_t[df_t[\"count\"]>=3]\n",
    "plot_bars_fractions(df_plot, col=\"frac\", col_l='frac_low', col_h='frac_high',\n",
    "                   figsize=(len(df_plot)/4, 6), xticks=df_plot[\"region\"]+ \"-\" + df_plot[\"clst\"],\n",
    "                   savepath=\"./figures_test/bar_stat/bar_stat_meso_neo_europe.pdf\",\n",
    "                    ylabel=\"Fraction Individuals with >40cM ROH>20cM\")\n",
    "df_eu_anc = df_plot"
   ]
  },
  {
   "cell_type": "markdown",
   "metadata": {},
   "source": [
    "### Split up South American Ancients"
   ]
  },
  {
   "cell_type": "code",
   "execution_count": 31,
   "metadata": {},
   "outputs": [
    {
     "name": "stdout",
     "output_type": "stream",
     "text": [
      "Extracting 60 Individuals in ['Pacific NW', 'Andean', 'Patagonia', 'Atlantic Coast']\n"
     ]
    }
   ],
   "source": [
    "df = pd.read_csv(\"./Empirical/roh_all_inds.csv\", sep='\\t')\n",
    "df = df[df[\"age\"]>0].copy()   ### Extract Ancient Samples\n",
    "statistic = calc_statistic(df)\n",
    "#df[\"statistic\"] = statistic\n",
    "df[\"statistic\"] = df[\"sum_roh>20\"]\n",
    "regions = [\"Pacific NW\", \"Andean\", \"Patagonia\", \"Atlantic Coast\"]\n",
    "idx = df[\"region\"].isin(regions)\n",
    "print(f\"Extracting {np.sum(idx)} Individuals in {regions}\")\n",
    "df = df[idx].copy()\n",
    "df = df.sort_values('region', ascending=True) # Sort so that groupby is in alphabetical"
   ]
  },
  {
   "cell_type": "code",
   "execution_count": 32,
   "metadata": {},
   "outputs": [
    {
     "name": "stdout",
     "output_type": "stream",
     "text": [
      "Saved to ./figures_test/bar_stat/bar_stat_sa.pdf\n"
     ]
    },
    {
     "data": {
      "image/png": "[encoded data removed]",
      "text/plain": [
       "<Figure size 72x360 with 1 Axes>"
      ]
     },
     "metadata": {
      "needs_background": "light"
     },
     "output_type": "display_data"
    }
   ],
   "source": [
    "df_t = cutoff_statistic_perpop(df, cutoff=40, col=\"statistic\", groupby=\"region\", sort=False)\n",
    "df_plot = df_t[df_t[\"count\"]>=3]\n",
    "plot_bars_fractions(df_plot, col=\"frac\", col_l='frac_low', col_h='frac_high', xticks=df_plot[\"region\"], \n",
    "                    figsize=(len(df_plot)/4, 5), legend=False,\n",
    "                    savepath=\"./figures_test/bar_stat/bar_stat_sa.pdf\",\n",
    "                    ylabel=\"Fraction Individuals with >40cM ROH>20cM\")\n",
    "df_sa_anc = df_plot"
   ]
  },
  {
   "cell_type": "markdown",
   "metadata": {},
   "source": [
    "# Ancients from Vanuatu, East & South Africa"
   ]
  },
  {
   "cell_type": "code",
   "execution_count": 43,
   "metadata": {},
   "outputs": [
    {
     "name": "stdout",
     "output_type": "stream",
     "text": [
      "Extracting 32 Individuals in ['Vanuatu', 'East Africa', 'South Africa']\n"
     ]
    }
   ],
   "source": [
    "df = pd.read_csv(\"./Empirical/roh_all_inds.csv\", sep='\\t')\n",
    "df = df[df[\"age\"]>0].copy()   ### Extract Ancient Samples\n",
    "statistic = calc_statistic(df)\n",
    "df[\"statistic\"] = statistic\n",
    "regions = [\"Vanuatu\", \"East Africa\", \"South Africa\"]\n",
    "idx = df[\"region\"].isin(regions)\n",
    "print(f\"Extracting {np.sum(idx)} Individuals in {regions}\")\n",
    "df = df[idx].copy()\n",
    "df = df.sort_values('region', ascending=True) # Sort so that groupby is in alphabetical"
   ]
  },
  {
   "cell_type": "code",
   "execution_count": 44,
   "metadata": {},
   "outputs": [
    {
     "name": "stdout",
     "output_type": "stream",
     "text": [
      "Saved to ./figures_test/bar_stat/bar_stat_gl.pdf\n"
     ]
    },
    {
     "data": {
      "image/png": "[encoded data removed]",
      "text/plain": [
       "<Figure size 54x360 with 1 Axes>"
      ]
     },
     "metadata": {
      "needs_background": "light"
     },
     "output_type": "display_data"
    }
   ],
   "source": [
    "df_t = cutoff_statistic_perpop(df, cutoff=70, col=\"statistic\", groupby=\"region\", sort=False)\n",
    "df_plot = df_t[df_t[\"count\"]>=3]\n",
    "plot_bars_fractions(df_plot, col=\"frac\", col_l='frac_low', col_h='frac_high', xticks=df_plot[\"region\"], \n",
    "                    figsize=(len(df_plot)/4, 5), legend=False, savepath=\"./figures_test/bar_stat/bar_stat_gl.pdf\")\n",
    "df_rest_anc = df_plot"
   ]
  },
  {
   "cell_type": "markdown",
   "metadata": {},
   "source": [
    "# Combine and produce Latex Code for Tables Paper"
   ]
  },
  {
   "cell_type": "code",
   "execution_count": 73,
   "metadata": {},
   "outputs": [
    {
     "name": "stdout",
     "output_type": "stream",
     "text": [
      "\\begin{tabular}{llrrrrr}\n",
      "\\toprule\n",
      "            all &       Mesolithic &  0 &  11 &  0.000 &  0.000 &  0.259 \\\\\n",
      "            all &  Early Neolithic &  0 &   4 &  0.000 &  0.000 &  0.490 \\\\\n",
      "            all &        Neolithic &  1 &  18 &  0.056 &  0.010 &  0.258 \\\\\n",
      "         Steppe &       Mesolithic &  0 &  10 &  0.000 &  0.000 &  0.278 \\\\\n",
      "           Rome &       Mesolithic &  1 &   3 &  0.333 &  0.061 &  0.792 \\\\\n",
      "           Rome &  Early Neolithic &  0 &   9 &  0.000 &  0.000 &  0.299 \\\\\n",
      "   North Africa &       Mesolithic &  1 &   4 &  0.250 &  0.046 &  0.699 \\\\\n",
      "         Iberia &       Mesolithic &  1 &   7 &  0.143 &  0.026 &  0.513 \\\\\n",
      "         Iberia &  Early Neolithic &  0 &   6 &  0.000 &  0.000 &  0.390 \\\\\n",
      "         Iberia &        Neolithic &  1 &  24 &  0.042 &  0.007 &  0.202 \\\\\n",
      "    East Steppe &  Early Neolithic &  1 &  13 &  0.077 &  0.014 &  0.333 \\\\\n",
      " Central Europe &       Mesolithic &  1 &   4 &  0.250 &  0.046 &  0.699 \\\\\n",
      " Central Europe &  Early Neolithic &  0 &  20 &  0.000 &  0.000 &  0.161 \\\\\n",
      " Central Europe &        Neolithic &  0 &   5 &  0.000 &  0.000 &  0.434 \\\\\n",
      "        Britain &        Neolithic &  1 &  37 &  0.027 &  0.005 &  0.138 \\\\\n",
      "      Black Sea &       Mesolithic &  0 &   4 &  0.000 &  0.000 &  0.490 \\\\\n",
      "      Black Sea &        Neolithic &  0 &  14 &  0.000 &  0.000 &  0.215 \\\\\n",
      "     Baltic Sea &       Mesolithic &  0 &  26 &  0.000 &  0.000 &  0.129 \\\\\n",
      "     Baltic Sea &        Neolithic &  0 &   9 &  0.000 &  0.000 &  0.299 \\\\\n",
      "        Balkans &       Mesolithic &  1 &  37 &  0.027 &  0.005 &  0.138 \\\\\n",
      "        Balkans &  Early Neolithic &  0 &  12 &  0.000 &  0.000 &  0.242 \\\\\n",
      "        Balkans &        Neolithic &  1 &  32 &  0.031 &  0.006 &  0.157 \\\\\n",
      "          Aegan &        Neolithic &  0 &  32 &  0.000 &  0.000 &  0.107 \\\\\n",
      "\\bottomrule\n",
      "\\end{tabular}\n",
      "\n"
     ]
    }
   ],
   "source": [
    "out = df_eu_anc.to_latex(header=False, index=False)\n",
    "print(out)"
   ]
  },
  {
   "cell_type": "code",
   "execution_count": 143,
   "metadata": {},
   "outputs": [
    {
     "name": "stdout",
     "output_type": "stream",
     "text": [
      "\\begin{tabular}{llrrrrr}\n",
      "\\toprule\n",
      "      Syrian &  modern &   5 &   8 &  0.625 &  0.306 &  0.863 \\\\\n",
      "     Makrani &  modern &  10 &  20 &  0.500 &  0.299 &  0.701 \\\\\n",
      "    BedouinA &  modern &  11 &  25 &  0.440 &  0.267 &  0.629 \\\\\n",
      "    Tunisian &  modern &   3 &   8 &  0.375 &  0.137 &  0.694 \\\\\n",
      " Palestinian &  modern &   9 &  38 &  0.237 &  0.130 &  0.392 \\\\\n",
      "      Pathan &  modern &   4 &  19 &  0.211 &  0.085 &  0.433 \\\\\n",
      "       Biaka &  modern &   1 &  20 &  0.050 &  0.009 &  0.236 \\\\\n",
      "      French &  modern &   1 &  25 &  0.040 &  0.007 &  0.195 \\\\\n",
      "       Masai &  modern &   0 &  12 &  0.000 &  0.000 &  0.242 \\\\\n",
      "       Yakut &  modern &   0 &  20 &  0.000 &  0.000 &  0.161 \\\\\n",
      "         Han &  modern &   0 &  33 &  0.000 &  0.000 &  0.104 \\\\\n",
      "\\bottomrule\n",
      "\\end{tabular}\n",
      "\n"
     ]
    }
   ],
   "source": [
    "outpops = [\"Makrani\", \"Palestinian\", \"Pathan\", \"Tunisian\", \"Biaka\", \"Yakut\",\n",
    "                            \"French\", \"Han\", \"Masai\", \"Syrian\", \"BedouinA\"]\n",
    "df_out = df_ho[df_ho[\"pop\"].isin(outpops)]\n",
    "df_out.insert (1, \"Period\", \"modern\") # Insert Modern Label\n",
    "out = df_out.to_latex(header=False, index=False)\n",
    "print(out)"
   ]
  },
  {
   "cell_type": "markdown",
   "metadata": {},
   "source": [
    "## Combine and save .csvs"
   ]
  },
  {
   "cell_type": "code",
   "execution_count": null,
   "metadata": {},
   "outputs": [],
   "source": [
    "df_ho.insert (1, \"clst\", \"modern\") # Insert Modern Label\n",
    "df_ho.rename(columns={'pop':'region'}, inplace=True)\n",
    "df_ho"
   ]
  },
  {
   "cell_type": "code",
   "execution_count": null,
   "metadata": {},
   "outputs": [],
   "source": [
    "df_sa_anc.insert(1, \"clst\", \"all\") # Insert Modern Label\n",
    "df_sa_anc\n",
    "#pd.concat([df_sa_anc, df_rest_anc])"
   ]
  },
  {
   "cell_type": "code",
   "execution_count": 170,
   "metadata": {},
   "outputs": [],
   "source": [
    "df_rest_anc.insert (1, \"clst\", \"all\") # Insert Modern Label"
   ]
  },
  {
   "cell_type": "code",
   "execution_count": 171,
   "metadata": {},
   "outputs": [],
   "source": [
    "dfs = [df_sa_anc, df_rest_anc, df_eu_anc, df_ho]\n",
    "df_all = pd.concat(dfs)"
   ]
  },
  {
   "cell_type": "code",
   "execution_count": 174,
   "metadata": {},
   "outputs": [
    {
     "name": "stdout",
     "output_type": "stream",
     "text": [
      "Saved 192 Pops to ./TablesOut/fractions_stat>70.csv\n"
     ]
    }
   ],
   "source": [
    "savepath = \"./TablesOut/fractions_stat>70.csv\"\n",
    "df_all.to_csv(savepath, sep=\"\\t\", index=False)\n",
    "print(f\"Saved {len(df_all)} Pops to {savepath}\")"
   ]
  },
  {
   "cell_type": "markdown",
   "metadata": {},
   "source": [
    "# Calculate 0 Fractions"
   ]
  },
  {
   "cell_type": "markdown",
   "metadata": {},
   "source": [
    "# Area 51"
   ]
  },
  {
   "cell_type": "code",
   "execution_count": 93,
   "metadata": {},
   "outputs": [],
   "source": [
    "df = pd.read_csv(\"./Empirical/roh_all_inds.csv\", sep='\\t')"
   ]
  },
  {
   "cell_type": "code",
   "execution_count": 100,
   "metadata": {},
   "outputs": [],
   "source": [
    "df_t = df[(df[\"region\"]==\"Black Sea\") & (df[\"clst\"]==\"Neolithic\")]"
   ]
  },
  {
   "cell_type": "code",
   "execution_count": null,
   "metadata": {},
   "outputs": [],
   "source": []
  }
 ],
 "metadata": {
  "kernelspec": {
   "display_name": "Python 3",
   "language": "python",
   "name": "python3"
  },
  "language_info": {
   "codemirror_mode": {
    "name": "ipython",
    "version": 3
   },
   "file_extension": ".py",
   "mimetype": "text/x-python",
   "name": "python",
   "nbconvert_exporter": "python",
   "pygments_lexer": "ipython3",
   "version": "3.7.0"
  }
 },
 "nbformat": 4,
 "nbformat_minor": 4
}
