{
 "cells": [
  {
   "cell_type": "markdown",
   "metadata": {},
   "source": [
    "# Analyze Output of Ped Sim\n",
    "(Assume Ped Sim Output is in parallel folder to the hapsburg git folder"
   ]
  },
  {
   "cell_type": "code",
   "execution_count": 1,
   "metadata": {},
   "outputs": [
    {
     "name": "stdout",
     "output_type": "stream",
     "text": [
      "Harald-Laptop-X1\n",
      "Midway jnovmbre partition detected.\n",
      "/home/hringbauer/git/HAPSBURG\n",
      "CPU Count: 8\n"
     ]
    }
   ],
   "source": [
    "import numpy as np\n",
    "import os as os\n",
    "import sys as sys\n",
    "import multiprocessing as mp\n",
    "import pandas as pd\n",
    "import socket\n",
    "import matplotlib.pyplot as plt\n",
    "\n",
    "### Do the Arial \n",
    "from matplotlib import rcParams\n",
    "rcParams['font.family'] = 'sans-serif'   # Set the default\n",
    "rcParams['font.sans-serif'] = ['Arial']  # Make sure to have the font installed (it is on cluster for Harald)\n",
    "\n",
    "### Pick the right path (whether on cluster or at home)\n",
    "socket_name = socket.gethostname()\n",
    "print(socket_name)\n",
    "if socket_name == \"VioletQueen\":\n",
    "    path = \"/home/harald/git/HAPSBURG/\"   # The Path on Harald's machine\n",
    "elif socket_name.startswith(\"midway2\"):\n",
    "    print(\"Midway jnovmbre partition detected.\")\n",
    "    path = \"/project2/jnovembre/hringbauer/HAPSBURG/\"  # The Path on Midway Cluster\n",
    "elif socket_name.startswith(\"Harald-Laptop\"):\n",
    "    print(\"Midway jnovmbre partition detected.\")\n",
    "    path = \"/home/hringbauer/git/HAPSBURG/\"  # The Path on Midway Cluster\n",
    "else: \n",
    "    raise RuntimeWarning(\"Not compatible machine. Check!!\")\n",
    "    \n",
    "os.chdir(path)  # Set the right Path (in line with Atom default)\n",
    "\n",
    "sys.path.append(\"./package/\")  # Go to the hapsburg package directory\n",
    "\n",
    "from hapsburg.PackagesSupport.pp_individual_roh_csvs import post_process_roh_df, combine_ROH_df\n",
    "from hapsburg.figures.plot_bars import plot_panel_row, prepare_dfs_plot, create_cousins_roh\n",
    "\n",
    "print(os.getcwd()) # Show the current working directory. Should be HAPSBURG/Notebooks/ParallelRuns\n",
    "print(f\"CPU Count: {mp.cpu_count()}\")"
   ]
  },
  {
   "cell_type": "markdown",
   "metadata": {},
   "source": [
    "### Code to run pedsim\n",
    "Run in shell:  \n",
    "`./ped-sim -d example/roh_1st_cousin.def -m refined_mf.simmap -o output/c1 --intf interfere/nu_p_campbell.tsv`  \n",
    "`./ped-sim -d example/roh_2nd_cousin.def -m refined_mf.simmap -o output/c2 --intf interfere/nu_p_campbell.tsv`  \n",
    "`./ped-sim -d example/roh_3rd_cousin.def -m refined_mf.simmap -o output/c3 --intf interfere/nu_p_campbell.tsv`\n"
   ]
  },
  {
   "cell_type": "markdown",
   "metadata": {},
   "source": [
    "### Funtion to load and process data"
   ]
  },
  {
   "cell_type": "code",
   "execution_count": 6,
   "metadata": {},
   "outputs": [],
   "source": [
    "def load_segment_file(path_segments=\"../ped-sim/output/output.seg\",\n",
    "                      roh_only=False, cm_fac=0.01):\n",
    "    \"\"\"Load and return segment File of IBD & ROH blocks.\n",
    "    Return Pandas dataframe. \n",
    "    roh_only: Only load ROH blocks\n",
    "    cm_fac: Factor with which to multiply genetic length columns\"\"\"\n",
    "    df = pd.read_csv(path_segments, sep=\"\\t\", header=None)\n",
    "    df.columns = [\"iid1\", \"iid2\", \"ch\", \"Start\", \"End\", \n",
    "                  \"ibd_stat\", \"StartM\", \"EndM\", \"lengthM\"]\n",
    "    df[\"length\"] = (df[\"End\"] - df[\"Start\"])\n",
    "    \n",
    "    for col in [\"StartM\", \"EndM\", \"lengthM\"]:\n",
    "        df[col] = df[col] * cm_fac\n",
    "        \n",
    "    if roh_only:\n",
    "        df = extract_roh_df(df)\n",
    "    return df\n",
    "\n",
    "def extract_roh_df(df, col=\"ibd_stat\", stat=\"HBD\"):\n",
    "    \"\"\"Extract and return Dataframe of ROH segments \n",
    "    in hapsburg format\"\"\"\n",
    "    df = df[df[col]==stat]\n",
    "    df = df.drop(columns=\"iid2\")\n",
    "    df = df.rename(columns={\"iid1\": \"iid\"})\n",
    "    return df\n",
    "\n",
    "def to_hapsburg_df(path_segments = \"../ped-sim/output/test.seg\", clst=\"1st_cousin\",\n",
    "                   savepath = \"\",\n",
    "                   min_cm=[4, 8, 12, 20], snp_cm=100,\n",
    "                   gap=0.5, min_len1=2, min_len2=4,\n",
    "                   output=False, sort=True):\n",
    "    \"\"\"Load pd_sim output and post_process into Hapsburg\n",
    "    Summary output. Return this dataframe.\n",
    "    If savepath is given, save to there (tab-seperated)\"\"\"\n",
    "    \n",
    "    df1 = load_segment_file(path_segments, roh_only=True)  # Load the full segment file, transfomred\n",
    "\n",
    "    ### Split up into lists of Dataframes\n",
    "    grouped = df1.groupby(['iid'])\n",
    "    df_rohs = [x[1] for x in list(grouped)] \n",
    "    iids = [x[0] for x in list(grouped)]\n",
    "    \n",
    "    df_roh = combine_ROH_df(df_rohs, iids=iids, pops=clst, \n",
    "             min_cm=min_cm, snp_cm=snp_cm,\n",
    "             gap=gap, min_len1=min_len1, min_len2=min_len2,\n",
    "             output=output, sort=sort)\n",
    "    \n",
    "    if len(savepath)>0:\n",
    "        df1.to_csv(savepath, sep=\"\\t\", index=False)\n",
    "        print(f\"Saved to: {savepath}\")    \n",
    "    return df_roh"
   ]
  },
  {
   "cell_type": "markdown",
   "metadata": {},
   "source": [
    "### Convert to hapsburg Formats\n",
    "Do first, second and third cousins"
   ]
  },
  {
   "cell_type": "code",
   "execution_count": 4,
   "metadata": {},
   "outputs": [
    {
     "name": "stdout",
     "output_type": "stream",
     "text": [
      "Saved to: ./Empirical/c1.tsv\n",
      "CPU times: user 35.9 s, sys: 22.5 ms, total: 36 s\n",
      "Wall time: 35.9 s\n"
     ]
    }
   ],
   "source": [
    "%%time\n",
    "df1 = to_hapsburg_df(path_segments = \"../ped-sim/output/c1.seg\", \n",
    "                     clst=\"1st_cousin\", savepath=\"./Empirical/c1.tsv\")\n",
    "df1[\"age\"] = 0\n",
    "df1[\"clst\"] = df2[\"pop\"]"
   ]
  },
  {
   "cell_type": "code",
   "execution_count": 11,
   "metadata": {},
   "outputs": [
    {
     "name": "stdout",
     "output_type": "stream",
     "text": [
      "Saved to: ./Empirical/c2.tsv\n",
      "CPU times: user 14.5 s, sys: 4 ms, total: 14.5 s\n",
      "Wall time: 14.5 s\n"
     ]
    }
   ],
   "source": [
    "%%time\n",
    "df2 = to_hapsburg_df(path_segments = \"../ped-sim/output/c2.seg\", \n",
    "                     clst=\"2nd_cousin\", savepath=\"./Empirical/c2.tsv\")\n",
    "df2[\"age\"]=0\n",
    "df2[\"clst\"]=df2[\"pop\"]"
   ]
  },
  {
   "cell_type": "code",
   "execution_count": 14,
   "metadata": {},
   "outputs": [
    {
     "name": "stdout",
     "output_type": "stream",
     "text": [
      "Saved to: ./Empirical/c3.tsv\n",
      "CPU times: user 7.52 s, sys: 15 µs, total: 7.52 s\n",
      "Wall time: 7.51 s\n"
     ]
    }
   ],
   "source": [
    "%%time\n",
    "df3 = to_hapsburg_df(path_segments = \"../ped-sim/output/c3.seg\", \n",
    "                     clst=\"3rd_cousin\", savepath=\"./Empirical/c3.tsv\")\n",
    "df3[\"age\"]=0\n",
    "df3[\"clst\"]=df2[\"pop\"]"
   ]
  },
  {
   "cell_type": "code",
   "execution_count": 20,
   "metadata": {},
   "outputs": [
    {
     "data": {
      "text/html": [
       "<div>\n",
       "<style scoped>\n",
       "    .dataframe tbody tr th:only-of-type {\n",
       "        vertical-align: middle;\n",
       "    }\n",
       "\n",
       "    .dataframe tbody tr th {\n",
       "        vertical-align: top;\n",
       "    }\n",
       "\n",
       "    .dataframe thead th {\n",
       "        text-align: right;\n",
       "    }\n",
       "</style>\n",
       "<table border=\"1\" class=\"dataframe\">\n",
       "  <thead>\n",
       "    <tr style=\"text-align: right;\">\n",
       "      <th></th>\n",
       "      <th>iid</th>\n",
       "      <th>pop</th>\n",
       "      <th>max_roh</th>\n",
       "      <th>sum_roh&gt;4</th>\n",
       "      <th>n_roh&gt;4</th>\n",
       "      <th>sum_roh&gt;8</th>\n",
       "      <th>n_roh&gt;8</th>\n",
       "      <th>sum_roh&gt;12</th>\n",
       "      <th>n_roh&gt;12</th>\n",
       "      <th>sum_roh&gt;20</th>\n",
       "      <th>n_roh&gt;20</th>\n",
       "      <th>age</th>\n",
       "      <th>clst</th>\n",
       "    </tr>\n",
       "  </thead>\n",
       "  <tbody>\n",
       "    <tr>\n",
       "      <th>60</th>\n",
       "      <td>c316_g6-b1-i1</td>\n",
       "      <td>3rd_cousin</td>\n",
       "      <td>46.987332</td>\n",
       "      <td>129.154033</td>\n",
       "      <td>4</td>\n",
       "      <td>122.152084</td>\n",
       "      <td>3</td>\n",
       "      <td>122.152084</td>\n",
       "      <td>3</td>\n",
       "      <td>122.152084</td>\n",
       "      <td>3</td>\n",
       "      <td>0</td>\n",
       "      <td>3rd_cousin</td>\n",
       "    </tr>\n",
       "    <tr>\n",
       "      <th>126</th>\n",
       "      <td>c3255_g6-b1-i1</td>\n",
       "      <td>3rd_cousin</td>\n",
       "      <td>40.047005</td>\n",
       "      <td>105.922978</td>\n",
       "      <td>6</td>\n",
       "      <td>95.620342</td>\n",
       "      <td>4</td>\n",
       "      <td>85.111709</td>\n",
       "      <td>3</td>\n",
       "      <td>65.350868</td>\n",
       "      <td>2</td>\n",
       "      <td>0</td>\n",
       "      <td>3rd_cousin</td>\n",
       "    </tr>\n",
       "    <tr>\n",
       "      <th>31</th>\n",
       "      <td>c3135_g6-b1-i1</td>\n",
       "      <td>3rd_cousin</td>\n",
       "      <td>55.854785</td>\n",
       "      <td>93.537235</td>\n",
       "      <td>4</td>\n",
       "      <td>87.949511</td>\n",
       "      <td>3</td>\n",
       "      <td>87.949511</td>\n",
       "      <td>3</td>\n",
       "      <td>75.906556</td>\n",
       "      <td>2</td>\n",
       "      <td>0</td>\n",
       "      <td>3rd_cousin</td>\n",
       "    </tr>\n",
       "    <tr>\n",
       "      <th>294</th>\n",
       "      <td>c3472_g6-b1-i1</td>\n",
       "      <td>3rd_cousin</td>\n",
       "      <td>38.966725</td>\n",
       "      <td>91.931643</td>\n",
       "      <td>6</td>\n",
       "      <td>74.043190</td>\n",
       "      <td>3</td>\n",
       "      <td>74.043190</td>\n",
       "      <td>3</td>\n",
       "      <td>60.167024</td>\n",
       "      <td>2</td>\n",
       "      <td>0</td>\n",
       "      <td>3rd_cousin</td>\n",
       "    </tr>\n",
       "    <tr>\n",
       "      <th>38</th>\n",
       "      <td>c3144_g6-b1-i1</td>\n",
       "      <td>3rd_cousin</td>\n",
       "      <td>36.718880</td>\n",
       "      <td>91.053187</td>\n",
       "      <td>6</td>\n",
       "      <td>91.053187</td>\n",
       "      <td>6</td>\n",
       "      <td>49.136966</td>\n",
       "      <td>2</td>\n",
       "      <td>36.718880</td>\n",
       "      <td>1</td>\n",
       "      <td>0</td>\n",
       "      <td>3rd_cousin</td>\n",
       "    </tr>\n",
       "    <tr>\n",
       "      <th>...</th>\n",
       "      <td>...</td>\n",
       "      <td>...</td>\n",
       "      <td>...</td>\n",
       "      <td>...</td>\n",
       "      <td>...</td>\n",
       "      <td>...</td>\n",
       "      <td>...</td>\n",
       "      <td>...</td>\n",
       "      <td>...</td>\n",
       "      <td>...</td>\n",
       "      <td>...</td>\n",
       "      <td>...</td>\n",
       "      <td>...</td>\n",
       "    </tr>\n",
       "    <tr>\n",
       "      <th>129</th>\n",
       "      <td>c3259_g6-b1-i1</td>\n",
       "      <td>3rd_cousin</td>\n",
       "      <td>0.000000</td>\n",
       "      <td>0.000000</td>\n",
       "      <td>0</td>\n",
       "      <td>0.000000</td>\n",
       "      <td>0</td>\n",
       "      <td>0.000000</td>\n",
       "      <td>0</td>\n",
       "      <td>0.000000</td>\n",
       "      <td>0</td>\n",
       "      <td>0</td>\n",
       "      <td>3rd_cousin</td>\n",
       "    </tr>\n",
       "    <tr>\n",
       "      <th>14</th>\n",
       "      <td>c3114_g6-b1-i1</td>\n",
       "      <td>3rd_cousin</td>\n",
       "      <td>0.000000</td>\n",
       "      <td>0.000000</td>\n",
       "      <td>0</td>\n",
       "      <td>0.000000</td>\n",
       "      <td>0</td>\n",
       "      <td>0.000000</td>\n",
       "      <td>0</td>\n",
       "      <td>0.000000</td>\n",
       "      <td>0</td>\n",
       "      <td>0</td>\n",
       "      <td>3rd_cousin</td>\n",
       "    </tr>\n",
       "    <tr>\n",
       "      <th>170</th>\n",
       "      <td>c3308_g6-b1-i1</td>\n",
       "      <td>3rd_cousin</td>\n",
       "      <td>0.000000</td>\n",
       "      <td>0.000000</td>\n",
       "      <td>0</td>\n",
       "      <td>0.000000</td>\n",
       "      <td>0</td>\n",
       "      <td>0.000000</td>\n",
       "      <td>0</td>\n",
       "      <td>0.000000</td>\n",
       "      <td>0</td>\n",
       "      <td>0</td>\n",
       "      <td>3rd_cousin</td>\n",
       "    </tr>\n",
       "    <tr>\n",
       "      <th>66</th>\n",
       "      <td>c3175_g6-b1-i1</td>\n",
       "      <td>3rd_cousin</td>\n",
       "      <td>0.000000</td>\n",
       "      <td>0.000000</td>\n",
       "      <td>0</td>\n",
       "      <td>0.000000</td>\n",
       "      <td>0</td>\n",
       "      <td>0.000000</td>\n",
       "      <td>0</td>\n",
       "      <td>0.000000</td>\n",
       "      <td>0</td>\n",
       "      <td>0</td>\n",
       "      <td>3rd_cousin</td>\n",
       "    </tr>\n",
       "    <tr>\n",
       "      <th>245</th>\n",
       "      <td>c3403_g6-b1-i1</td>\n",
       "      <td>3rd_cousin</td>\n",
       "      <td>0.000000</td>\n",
       "      <td>0.000000</td>\n",
       "      <td>0</td>\n",
       "      <td>0.000000</td>\n",
       "      <td>0</td>\n",
       "      <td>0.000000</td>\n",
       "      <td>0</td>\n",
       "      <td>0.000000</td>\n",
       "      <td>0</td>\n",
       "      <td>0</td>\n",
       "      <td>3rd_cousin</td>\n",
       "    </tr>\n",
       "  </tbody>\n",
       "</table>\n",
       "<p>359 rows × 13 columns</p>\n",
       "</div>"
      ],
      "text/plain": [
       "                iid         pop    max_roh   sum_roh>4  n_roh>4   sum_roh>8  \\\n",
       "60    c316_g6-b1-i1  3rd_cousin  46.987332  129.154033        4  122.152084   \n",
       "126  c3255_g6-b1-i1  3rd_cousin  40.047005  105.922978        6   95.620342   \n",
       "31   c3135_g6-b1-i1  3rd_cousin  55.854785   93.537235        4   87.949511   \n",
       "294  c3472_g6-b1-i1  3rd_cousin  38.966725   91.931643        6   74.043190   \n",
       "38   c3144_g6-b1-i1  3rd_cousin  36.718880   91.053187        6   91.053187   \n",
       "..              ...         ...        ...         ...      ...         ...   \n",
       "129  c3259_g6-b1-i1  3rd_cousin   0.000000    0.000000        0    0.000000   \n",
       "14   c3114_g6-b1-i1  3rd_cousin   0.000000    0.000000        0    0.000000   \n",
       "170  c3308_g6-b1-i1  3rd_cousin   0.000000    0.000000        0    0.000000   \n",
       "66   c3175_g6-b1-i1  3rd_cousin   0.000000    0.000000        0    0.000000   \n",
       "245  c3403_g6-b1-i1  3rd_cousin   0.000000    0.000000        0    0.000000   \n",
       "\n",
       "     n_roh>8  sum_roh>12  n_roh>12  sum_roh>20  n_roh>20  age        clst  \n",
       "60         3  122.152084         3  122.152084         3    0  3rd_cousin  \n",
       "126        4   85.111709         3   65.350868         2    0  3rd_cousin  \n",
       "31         3   87.949511         3   75.906556         2    0  3rd_cousin  \n",
       "294        3   74.043190         3   60.167024         2    0  3rd_cousin  \n",
       "38         6   49.136966         2   36.718880         1    0  3rd_cousin  \n",
       "..       ...         ...       ...         ...       ...  ...         ...  \n",
       "129        0    0.000000         0    0.000000         0    0  3rd_cousin  \n",
       "14         0    0.000000         0    0.000000         0    0  3rd_cousin  \n",
       "170        0    0.000000         0    0.000000         0    0  3rd_cousin  \n",
       "66         0    0.000000         0    0.000000         0    0  3rd_cousin  \n",
       "245        0    0.000000         0    0.000000         0    0  3rd_cousin  \n",
       "\n",
       "[359 rows x 13 columns]"
      ]
     },
     "execution_count": 20,
     "metadata": {},
     "output_type": "execute_result"
    }
   ],
   "source": [
    "df3"
   ]
  },
  {
   "cell_type": "markdown",
   "metadata": {},
   "source": [
    "# Show the Barplots"
   ]
  },
  {
   "cell_type": "code",
   "execution_count": 19,
   "metadata": {},
   "outputs": [
    {
     "data": {
      "image/png": "[encoded data removed]",
      "text/plain": [
       "<Figure size 1080x576 with 3 Axes>"
      ]
     },
     "metadata": {
      "needs_background": "light"
     },
     "output_type": "display_data"
    }
   ],
   "source": [
    "#plot_dfs =prepare_dfs_plot(df3, cms=[4,8,12,20])\n",
    "plot_panel_row([df3], ylim=[0,500],\n",
    "               figsize=(15,8), r_title=45,\n",
    "               savepath=\"\", \n",
    "               leg_pos=-1)  # ./figures_test/1st_cousin_ped_sim.pdf"
   ]
  },
  {
   "cell_type": "markdown",
   "metadata": {},
   "source": [
    "### Plot Distributions of Cousins"
   ]
  },
  {
   "cell_type": "code",
   "execution_count": 33,
   "metadata": {},
   "outputs": [],
   "source": [
    "def plot_distributions_roh(df, cm1=8, cm2=12, \n",
    "                           xlim=[0, 200],\n",
    "                           lw = 3, c = \"silver\",\n",
    "                           degree=2,\n",
    "                           bins=np.linspace(0, 400, 50)):\n",
    "    \"\"\"Plot Distribution of ROH in specific class\"\"\"\n",
    "    \n",
    "    if cm2>0:\n",
    "        cousin_means = create_cousins_roh(degrees=[degree],\n",
    "                                      bins=[[cm1/100, cm2/100]])[0][0] * 100\n",
    "        y = df[f\"sum_roh>{cm1}\"] - df[f\"sum_roh>{cm2}\"]\n",
    "    else: \n",
    "        cousin_means = create_cousins_roh(degrees=[degree],\n",
    "                                      bins=[[cm1/100, 3.0]])[0][0] * 100\n",
    "        y = df[f\"sum_roh>{cm1}\"]\n",
    "\n",
    "    plt.figure()\n",
    "    ax=plt.gca()\n",
    "    \n",
    "    ax.hist(y, bins, \n",
    "            ec=\"k\", zorder=0, color=c)\n",
    "    if cm2>0:\n",
    "        ax.set_title(f\"Sum ROH {cm1} - {cm2} cM for parents being degree {degree} Cousins\")\n",
    "    else:\n",
    "        ax.set_title(f\"Sum ROH >{cm1} cM for parents being degree {degree} Cousins\")\n",
    "        \n",
    "    ax.set_xlabel(\"cM\")\n",
    "    \n",
    "    if cm2>0:\n",
    "        ax.set_ylabel(f\"Count ROH blocks {cm1}-{cm2} cM\")\n",
    "    else:\n",
    "        ax.set_ylabel(f\"Count ROH blocks >{cm1} cM\")\n",
    "        \n",
    "    ax.axvline(cousin_means, zorder=1, lw=lw, c=\"green\", \n",
    "               label=\"Theoretical Mean\")\n",
    "    ax.axvline(np.mean(y), zorder=1, lw=lw, c=\"k\", \n",
    "               label=\"Observed Mean\")\n",
    "    ax.set_xlim(xlim)\n",
    "    ax.legend(loc=\"upper right\")\n",
    "\n",
    "    plt.show()"
   ]
  },
  {
   "cell_type": "code",
   "execution_count": 56,
   "metadata": {},
   "outputs": [
    {
     "data": {
      "image/png": "[encoded data removed]",
      "text/plain": [
       "<Figure size 432x288 with 1 Axes>"
      ]
     },
     "metadata": {
      "needs_background": "light"
     },
     "output_type": "display_data"
    }
   ],
   "source": [
    "plot_distributions_roh(df2, cm1=20, cm2=0,\n",
    "                       degree=2,\n",
    "                       xlim=[0, 200],\n",
    "                       lw = 3, c = \"silver\")"
   ]
  },
  {
   "cell_type": "code",
   "execution_count": null,
   "metadata": {},
   "outputs": [],
   "source": []
  },
  {
   "cell_type": "markdown",
   "metadata": {},
   "source": [
    "# Do statistics on Distributions"
   ]
  },
  {
   "cell_type": "markdown",
   "metadata": {},
   "source": [
    "### Area 51"
   ]
  },
  {
   "cell_type": "code",
   "execution_count": 81,
   "metadata": {},
   "outputs": [
    {
     "name": "stdout",
     "output_type": "stream",
     "text": [
      "Min SNPs per cM> 60: 1435/1435\n",
      "> 4 cM: 1127/1435\n"
     ]
    }
   ],
   "source": [
    "df"
   ]
  },
  {
   "cell_type": "code",
   "execution_count": 85,
   "metadata": {},
   "outputs": [
    {
     "data": {
      "text/plain": [
       "88"
      ]
     },
     "execution_count": 85,
     "metadata": {},
     "output_type": "execute_result"
    }
   ],
   "source": [
    "np.sum(df2[\"sum_roh>20\"]>50)"
   ]
  },
  {
   "cell_type": "code",
   "execution_count": null,
   "metadata": {},
   "outputs": [],
   "source": []
  }
 ],
 "metadata": {
  "kernelspec": {
   "display_name": "Python 3",
   "language": "python",
   "name": "python3"
  },
  "language_info": {
   "codemirror_mode": {
    "name": "ipython",
    "version": 3
   },
   "file_extension": ".py",
   "mimetype": "text/x-python",
   "name": "python",
   "nbconvert_exporter": "python",
   "pygments_lexer": "ipython3",
   "version": "3.6.9"
  }
 },
 "nbformat": 4,
 "nbformat_minor": 4
}
