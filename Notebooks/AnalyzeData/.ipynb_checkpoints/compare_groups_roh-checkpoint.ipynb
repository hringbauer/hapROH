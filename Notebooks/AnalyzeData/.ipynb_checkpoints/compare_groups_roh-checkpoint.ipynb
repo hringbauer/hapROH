{
 "cells": [
  {
   "cell_type": "markdown",
   "metadata": {},
   "source": [
    "# Compare ROH between groups\n",
    "Load empirical ROH Dataframe, and compare ROH sharing between groups with statistical tests (producing p-Values)\n",
    "Assumes data is ROH analyzed, and pre-processed (into one dataframe, with region and clst Columns set."
   ]
  },
  {
   "cell_type": "code",
   "execution_count": 3,
   "metadata": {},
   "outputs": [
    {
     "name": "stdout",
     "output_type": "stream",
     "text": [
      "midway2-0401.rcc.local\n",
      "Midway jnovmbre partition detected.\n",
      "/project2/jnovembre/hringbauer/HAPSBURG\n",
      "CPU Count: 28\n"
     ]
    }
   ],
   "source": [
    "import pandas as pd\n",
    "import numpy as np\n",
    "import matplotlib.pyplot as plt\n",
    "import socket\n",
    "import os as os\n",
    "import sys as sys\n",
    "import multiprocessing as mp\n",
    "import itertools as it\n",
    "from math import log10, floor\n",
    "from skbio.stats.distance import permanova\n",
    "from skbio import DistanceMatrix\n",
    "\n",
    "socket_name = socket.gethostname()\n",
    "print(socket_name)\n",
    "if socket_name == \"VioletQueen\":\n",
    "    path = \"/home/harald/git/HAPSBURG/\"   # The Path on Harald's machine\n",
    "elif socket_name.startswith(\"midway2\"):\n",
    "    print(\"Midway jnovmbre partition detected.\")\n",
    "    path = \"/project2/jnovembre/hringbauer/HAPSBURG/\"  # The Path on Midway Cluster\n",
    "else: \n",
    "    raise RuntimeWarning(\"Not compatible machine. Check!!\")\n",
    "    \n",
    "from scipy.stats import mannwhitneyu\n",
    "\n",
    "os.chdir(path)  # Set the right Path (in line with Atom default)\n",
    "print(os.getcwd()) # Show the current working directory. Should be HAPSBURG/Notebooks/ParallelRuns\n",
    "print(f\"CPU Count: {mp.cpu_count()}\")"
   ]
  },
  {
   "cell_type": "markdown",
   "metadata": {},
   "source": [
    "### Functions for statistical Analysis.\n",
    "The overall scheme: pandas dataframe, subset, col of interested extracted,\n",
    "and compared with statistic test. Creates Summary dataframe with Latex output for table."
   ]
  },
  {
   "cell_type": "code",
   "execution_count": 4,
   "metadata": {},
   "outputs": [],
   "source": [
    "def test_mwu(df, region1=\"Iberia\", region2=\"Iberia\", clst1=\"Early Neolithic\", clst2=\"Neolithic\", \n",
    "             col=\"sum_roh_4-8\", prt=True, alternative='two-sided', col_group=\"region\"):\n",
    "    \"\"\"MWann Whitney U-Test. Print and return result and nr Individuals in each group\n",
    "    df: Dataframe to test on\n",
    "    prt: Whether to print the results\"\"\"\n",
    "    df1 = df[(df[\"clst\"]==clst1) & (df[col_group]==region1)]\n",
    "    df2 = df[(df[\"clst\"]==clst2) & (df[col_group]==region2)]\n",
    "    \n",
    "    test = mannwhitneyu(df1[col], df2[col], alternative=alternative)\n",
    "    if prt:\n",
    "        print(test)\n",
    "        print(f\"Loaded {len(df1)} Samples from clst {clst1} {region1}\")\n",
    "        print(f\"Loaded {len(df2)} Samples from clst {clst2} {region2}\")\n",
    "        \n",
    "    return test, len(df1), len(df2)\n",
    "\n",
    "def test_mwu_groups(df1, df2, col=\"sum_roh_4-8\",\n",
    "                    prt=True, alternative='two-sided'):\n",
    "    \"\"\"Compare two Dataframes with values in col with mannwhitneyu Test\"\"\"\n",
    "    test = mannwhitneyu(df1[col], df2[col], alternative=alternative)\n",
    "    mean2 = np.mean(df2[col])\n",
    "    mean1 = np.mean(df1[col])\n",
    "    mean_diff =  mean2 - mean1\n",
    "    \n",
    "    if prt:\n",
    "        print(test)\n",
    "        print(f\"Loaded {len(df1)} Samples Set1\")\n",
    "        print(f\"Loaded {len(df2)} Samples Set2\") \n",
    "        print(f\"Mean 1: {mean1:.4f}\")\n",
    "        print(f\"Mean 2: {mean2:.4f}\")\n",
    "        print(f\"Mean difference 2 - 1: {mean_diff:.4f}\")\n",
    "    return test, len(df1), len(df2)\n",
    "\n",
    "def load_ROH_nolong(path=\"./Empirical/roh_all_inds_final_v42.csv\",\n",
    "                    cm=20, cutoff=50, anc_only=False):\n",
    "    \"\"\"Load Dataframe without ROH\"\"\"\n",
    "    df = pd.read_csv(path, sep='\\t')\n",
    "    df[\"sum_roh_4-8\"] = df[\"sum_roh>4\"] - df[\"sum_roh>8\"]\n",
    "    print(f\"Loaded {len(df)} Individuals\")\n",
    "    df = df[df[f\"sum_roh>{cm}\"]<cutoff]\n",
    "    print(f\"Filtered to {len(df)} Individuals with no long ROH\")\n",
    "    if anc_only:\n",
    "        df = df[df[\"age\"]>0]\n",
    "        print(f\"Filtered to {len(df)} ancient Individuals\")\n",
    "    return df\n",
    "\n",
    "def compare_groups(df1, df2, col=\"sum_roh_4-8\",\n",
    "                   label1=\"\", label2=\"\", rep_panova=0,\n",
    "                   alternative=\"two-sided\", sig=2, \n",
    "                   pr=False):\n",
    "    \n",
    "    df = pd.DataFrame({\"Group A\":[label1], \"Group B\":[label2]})\n",
    "    \n",
    "    df[\"# A\"]= len(df1)\n",
    "    df[\"# B\"] = len(df2)\n",
    "    \n",
    "    ### Set the summary Stats\n",
    "    df[\"25% A\"] = np.quantile(df1[col], 0.25)\n",
    "    df[\"50% A\"] = np.quantile(df1[col], 0.5)\n",
    "    df[\"75% A\"] = np.quantile(df1[col], 0.75)\n",
    "\n",
    "    df[\"25% B\"] = np.quantile(df2[col], 0.25)\n",
    "    df[\"50% B\"] = np.quantile(df2[col], 0.5)\n",
    "    df[\"75% B\"] = np.quantile(df2[col], 0.75)\n",
    "    \n",
    "    ### Set the p-Value\n",
    "    x, y = df1[col], df2[col]\n",
    "    #test = mannwhitneyu(x, y, alternative=alternative)\n",
    "    ###df[\"p\"] = round_sig(test[1], sig=sig)\n",
    "    #df[\"p\"] = test[1]\n",
    "    #df[\"p\"] = df[\"p\"].apply(lambda x: '{:.1e}'.format(x))\n",
    "    \n",
    "    if rep_panova>0:\n",
    "        test1 = anova_2group(x, y, reps=rep_panova)\n",
    "        df[\"p1\"] = test1[\"p-value\"]\n",
    "        df[\"p1\"] = df[\"p1\"].apply(lambda x: '{:.1e}'.format(x))\n",
    "    \n",
    "    if pr:\n",
    "        print_latex(df)\n",
    "    return df\n",
    "\n",
    "def round_sig(x, sig=2):\n",
    "    \"\"\"Round to Significant digits.\n",
    "    Return rounded number\"\"\"\n",
    "    return round(x, sig-int(floor(log10(abs(x))))-1)\n",
    "\n",
    "####################################################################\n",
    "####################################################################\n",
    "\n",
    "def prep_distance_matrix(x,y):\n",
    "    \"\"\"Prepare a Distance Matrix\"\"\"\n",
    "    z=np.concatenate((x,y))\n",
    "    d_mat = np.abs(z-z[:,None])\n",
    "    dm = DistanceMatrix(d_mat)\n",
    "    return dm\n",
    "\n",
    "def anova_2group(x, y, reps=999):\n",
    "    \"\"\"Calculate Anove for 2Group. Return Statistic object\"\"\"\n",
    "    dm = prep_distance_matrix(x,y)\n",
    "    grouping = [\"A\"]*len(x) + [\"B\"]*len(y)\n",
    "    pma = permanova(dm, grouping, permutations=reps)\n",
    "    return pma\n",
    "\n",
    "####################################################################\n",
    "####################################################################\n",
    "\n",
    "def print_latex(df, index=False,  float_format=\"%.1f\", ret=False):\n",
    "    \"\"\"Print Latex table from Dataframe\"\"\"\n",
    "    out = df.to_latex(index=index, float_format=float_format)\n",
    "    print(out)\n",
    "\n",
    "    if ret:\n",
    "        return out\n",
    "\n",
    "####################################################################\n",
    "\n",
    "def give_roh_stats(df, cm1, cm2=0):\n",
    "    \"\"\"Gives ROH Stats for dataframe df\n",
    "    for all ROH blocks between cm1-cm2 cm long\"\"\"\n",
    "    cm_vec = df[f\"sum_roh>{cm1}\"]\n",
    "    if cm2>0:\n",
    "        cm_vec = cm_vec -  df[f\"sum_roh>{cm2}\"]\n",
    "        \n",
    "    print(f\"# Individuals: {len(cm_vec)}\")\n",
    "    print(f\"Mean: {np.mean(cm_vec):.4f}\")\n",
    "    print(f\"Median: {np.median(cm_vec):.4f}\")\n",
    "    \n",
    "    idx = cm_vec==0\n",
    "    print(f\"No ROH in bin: n={np.sum(idx)}/{len(idx)}\")\n",
    "    return cm_vec"
   ]
  },
  {
   "cell_type": "markdown",
   "metadata": {},
   "source": [
    "# Early HG vrs later HG"
   ]
  },
  {
   "cell_type": "code",
   "execution_count": 3,
   "metadata": {},
   "outputs": [
    {
     "name": "stdout",
     "output_type": "stream",
     "text": [
      "Loaded 3731 Individuals\n",
      "Filtered to 3497 Individuals with no long ROH\n",
      "Filtered to 1739 Inviduals in age range\n"
     ]
    }
   ],
   "source": [
    "df = load_ROH_nolong(path=\"./Empirical/roh_all_inds_final_v42.csv\")\n",
    "df1 = df[(df[\"age\"]>0) & (df[\"age\"]<100000)]\n",
    "print(f\"Filtered to {len(df1)} Inviduals in age range\")\n",
    "df_hg = df1[(df1[\"economy\"]==\"Foraging\")]"
   ]
  },
  {
   "cell_type": "code",
   "execution_count": 4,
   "metadata": {},
   "outputs": [
    {
     "data": {
      "text/plain": [
       "Agriculture        1086\n",
       "Pastoralism         342\n",
       "Foraging            233\n",
       "Low Certainty        64\n",
       "Aceramic Farmer      12\n",
       "Not Assigned          1\n",
       "Name: economy, dtype: int64"
      ]
     },
     "execution_count": 4,
     "metadata": {},
     "output_type": "execute_result"
    }
   ],
   "source": [
    "df1[\"economy\"].value_counts()"
   ]
  },
  {
   "cell_type": "code",
   "execution_count": 19,
   "metadata": {},
   "outputs": [],
   "source": [
    "df_hg1 =  df_hg[df_hg[\"age\"]>10e3]\n",
    "df_hg2 =  df_hg[(df_hg[\"age\"]>8e3) & (df_hg[\"age\"]<10e3)]"
   ]
  },
  {
   "cell_type": "code",
   "execution_count": 20,
   "metadata": {},
   "outputs": [
    {
     "name": "stdout",
     "output_type": "stream",
     "text": [
      "\\begin{tabular}{llrrrrrrrrl}\n",
      "\\toprule\n",
      "     Group A &       Group B &  \\# A &  \\# B &  25\\% A &  50\\% A &  75\\% A &  25\\% B &  50\\% B &  75\\% B &       p1 \\\\\n",
      "\\midrule\n",
      " HG > 10k BP &  HG  8-10k BP &   35 &   53 &   29.2 &   51.0 &   81.6 &    9.9 &   20.8 &   39.2 &  3.5e-04 \\\\\n",
      "\\bottomrule\n",
      "\\end{tabular}\n",
      "\n",
      "CPU times: user 18.5 s, sys: 27.1 ms, total: 18.6 s\n",
      "Wall time: 18.6 s\n"
     ]
    }
   ],
   "source": [
    "%%time\n",
    "df_add = compare_groups(df_hg1, df_hg2, label1 = \"HG > 10k BP\",  label2 = \"HG  8-10k BP\", \\\n",
    "                        pr=True, rep_panova=99999)"
   ]
  },
  {
   "cell_type": "markdown",
   "metadata": {},
   "source": [
    "# EEF vrs HG Table [Paper]"
   ]
  },
  {
   "cell_type": "code",
   "execution_count": 41,
   "metadata": {},
   "outputs": [
    {
     "name": "stdout",
     "output_type": "stream",
     "text": [
      "Loaded 3731 Individuals\n",
      "Filtered to 3497 Individuals with no long ROH\n",
      "Filtered to 1739 Inviduals in age range\n"
     ]
    }
   ],
   "source": [
    "df = load_ROH_nolong(path=\"./Empirical/roh_all_inds_final_v42.csv\")\n",
    "df1 = df[(df[\"age\"]>0) & (df[\"age\"]<100000)]\n",
    "print(f\"Filtered to {len(df1)} Inviduals in age range\")\n",
    "df_hg = df1[(df1[\"economy\"]==\"Foraging\")]\n",
    "df_ef = df1[(df1[\"economy\"]==\"Agriculture\")]\n",
    "#set(df_hg[\"region\"])"
   ]
  },
  {
   "cell_type": "markdown",
   "metadata": {},
   "source": [
    "### All HG vrs Agriculturalists"
   ]
  },
  {
   "cell_type": "code",
   "execution_count": 27,
   "metadata": {},
   "outputs": [
    {
     "name": "stdout",
     "output_type": "stream",
     "text": [
      "\\begin{tabular}{llrrrrrrrrl}\n",
      "\\toprule\n",
      "Group A &      Group B &  \\# A &   \\# B &  25\\% A &  50\\% A &  75\\% A &  25\\% B &  50\\% B &  75\\% B &       p1 \\\\\n",
      "\\midrule\n",
      " All FG &  All Farmers &  233 &  1086 &   14.0 &   29.4 &   54.1 &    0.0 &    0.0 &    5.9 &  1.0e-03 \\\\\n",
      "\\bottomrule\n",
      "\\end{tabular}\n",
      "\n",
      "CPU times: user 34.1 s, sys: 17.2 s, total: 51.3 s\n",
      "Wall time: 51.3 s\n"
     ]
    }
   ],
   "source": [
    "%%time\n",
    "df_add = compare_groups(df_hg, df_ef, label1 = \"All FG\",  label2 = \"All Farmers\", \n",
    "                        pr=True, rep_panova=999)"
   ]
  },
  {
   "cell_type": "markdown",
   "metadata": {},
   "source": [
    "# HG vrs early Agriculturalists"
   ]
  },
  {
   "cell_type": "code",
   "execution_count": 50,
   "metadata": {},
   "outputs": [
    {
     "name": "stdout",
     "output_type": "stream",
     "text": [
      "Loaded 3731 Individuals\n",
      "Filtered to 3497 Individuals with no long ROH\n",
      "Filtered to 1739 Inviduals in age range\n",
      "Aegan: Reduced to 27/43, Age Max: 8505.0\n",
      "Balkans: Reduced to 35/71, Age Max: 7836.0\n",
      "Britain: Reduced to 90/135, Age Max: 5770.0\n",
      "Central Europe: Reduced to 17/143, Age Max: 7140.0\n",
      "Iberia: Reduced to 23/133, Age Max: 7348.0\n",
      "Central Italy: Reduced to 11/120, Age Max: 7984.0\n",
      "Steppe: Reduced to 13/25, Age Max: 5456.0\n",
      "Baltic Sea: Reduced to 7/25, Age Max: 5190.0\n",
      "CPU times: user 1min 31s, sys: 21.4 ms, total: 1min 32s\n",
      "Wall time: 1min 32s\n"
     ]
    }
   ],
   "source": [
    "%%time\n",
    "df = load_ROH_nolong(path=\"./Empirical/roh_all_inds_final_v42.csv\")\n",
    "df1 = df[(df[\"age\"]>0) & (df[\"age\"]<100000)]\n",
    "print(f\"Filtered to {len(df1)} Inviduals in age range\")\n",
    "df_hg = df1[(df1[\"economy\"]==\"Foraging\")]\n",
    "df_ef = df1[(df1[\"economy\"]==\"Agriculture\")]\n",
    "\n",
    "regions = ['Aegan', 'Balkans', \n",
    "           'Britain', 'Central Europe',\n",
    "           'Iberia', 'Central Italy', 'Steppe', \n",
    "           \"Baltic Sea\"]\n",
    "\n",
    "df_hgs, df_efs, df_vec = [], [], []\n",
    "\n",
    "for r in regions:\n",
    "    df1 = df_hg[df_hg[\"region\"]==r]\n",
    "    df2 = df_ef[df_ef[\"region\"]==r]\n",
    "    if len(df1)==0:\n",
    "        print(f\"No HG Found for {r}. Continuing.\")\n",
    "        continue\n",
    "    \n",
    "    ### Set age boundary\n",
    "    age_max = np.max(df2[\"age\"])\n",
    "    df3 = df2[df2[\"age\"]> (age_max-2000)].reset_index()\n",
    "    \n",
    "    \n",
    "    print(f\"{r}: Reduced to {len(df3)}/{len(df2)}, Age Max: {age_max}\")\n",
    "    label1 = r #+ \"-HG\"\n",
    "    label2 = r #+ \"-EF\"\n",
    "    df_add = compare_groups(df1, df3, label1 = label1,  label2 = label2, \n",
    "                            rep_panova=99999, pr=False)\n",
    "    ### Save results and dataframes\n",
    "    df_vec.append(df_add)\n",
    "    df_hgs.append(df1)\n",
    "    df_efs.append(df3)\n",
    "    \n",
    "df_res = pd.concat(df_vec)"
   ]
  },
  {
   "cell_type": "code",
   "execution_count": 46,
   "metadata": {},
   "outputs": [
    {
     "name": "stdout",
     "output_type": "stream",
     "text": [
      "\\begin{tabular}{llrrrrrrrrl}\n",
      "\\toprule\n",
      "        Group A &         Group B &  \\# A &  \\# B &  25\\% A &  50\\% A &  75\\% A &  25\\% B &  50\\% B &  75\\% B &       p1 \\\\\n",
      "\\midrule\n",
      "          Aegan &           Aegan &    1 &   27 &   30.9 &   30.9 &   30.9 &    0.0 &    0.0 &    5.0 &  3.6e-02 \\\\\n",
      "        Balkans &         Balkans &   38 &   35 &    5.6 &   13.6 &   21.0 &    0.0 &    4.2 &    8.5 &  1.0e-05 \\\\\n",
      "        Britain &         Britain &    1 &   90 &   39.8 &   39.8 &   39.8 &    4.2 &    5.6 &    9.4 &  1.1e-02 \\\\\n",
      " Central Europe &  Central Europe &    4 &   17 &   26.6 &   36.9 &   46.7 &    0.0 &    0.0 &    4.5 &  3.6e-04 \\\\\n",
      "         Iberia &          Iberia &    4 &   23 &    7.5 &   25.6 &   45.9 &    0.0 &    5.1 &   26.5 &  1.3e-01 \\\\\n",
      "  Central Italy &   Central Italy &    2 &   11 &   49.2 &   65.8 &   82.4 &    0.0 &    4.4 &   10.8 &  1.3e-02 \\\\\n",
      "         Steppe &          Steppe &   20 &   13 &    5.6 &   17.3 &   51.7 &    0.0 &    4.3 &    9.5 &  9.9e-03 \\\\\n",
      "     Baltic Sea &      Baltic Sea &   41 &    7 &    9.3 &   22.2 &   38.8 &    6.9 &    8.7 &   12.7 &  3.5e-02 \\\\\n",
      "\\bottomrule\n",
      "\\end{tabular}\n",
      "\n"
     ]
    }
   ],
   "source": [
    "print(df_res.to_latex(index=False,  float_format=\"%.1f\"))"
   ]
  },
  {
   "cell_type": "markdown",
   "metadata": {},
   "source": [
    "### Combined Comparison\n",
    "Needs above function"
   ]
  },
  {
   "cell_type": "code",
   "execution_count": 52,
   "metadata": {},
   "outputs": [
    {
     "name": "stdout",
     "output_type": "stream",
     "text": [
      "\\begin{tabular}{llrrrrrrrrl}\n",
      "\\toprule\n",
      "Group A &             Group B &  \\# A &  \\# B &  25\\% A &  50\\% A &  75\\% A &  25\\% B &  50\\% B &  75\\% B &       p1 \\\\\n",
      "\\midrule\n",
      " All FG &  Early Farmers (EF) &  111 &  223 &    7.2 &   18.7 &   37.5 &    0.0 &    4.6 &    9.4 &  1.0e-03 \\\\\n",
      "\\bottomrule\n",
      "\\end{tabular}\n",
      "\n",
      "CPU times: user 1.59 s, sys: 1.98 ms, total: 1.59 s\n",
      "Wall time: 1.58 s\n"
     ]
    }
   ],
   "source": [
    "%%time\n",
    "df1 = pd.concat(df_hgs)\n",
    "df2 = pd.concat(df_efs)\n",
    "df_res = compare_groups(df1, df2, \n",
    "                        label1 = \"All FG\",  label2 = \"Early Farmers (EF)\", \n",
    "                        rep_panova=999, pr=True)"
   ]
  },
  {
   "cell_type": "markdown",
   "metadata": {},
   "source": [
    "### Iberia"
   ]
  },
  {
   "cell_type": "code",
   "execution_count": 54,
   "metadata": {},
   "outputs": [
    {
     "name": "stdout",
     "output_type": "stream",
     "text": [
      "Loaded 3731 Individuals\n",
      "Filtered to 3497 Individuals with no long ROH\n"
     ]
    }
   ],
   "source": [
    "df = load_ROH_nolong(path=\"./Empirical/roh_all_inds_final_v42.csv\")\n",
    "df_ef = df[(df[\"economy\"]==\"Agriculture\")]\n",
    "df1 = df_ef[df_ef[\"pop\"].str.contains(\"Iberia_EN\")]\n",
    "df2 = df_ef[df_ef[\"pop\"].str.contains(\"Iberia_MN\")]"
   ]
  },
  {
   "cell_type": "code",
   "execution_count": 55,
   "metadata": {},
   "outputs": [
    {
     "name": "stdout",
     "output_type": "stream",
     "text": [
      "\\begin{tabular}{llrrrrrrrrl}\n",
      "\\toprule\n",
      "   Group A &    Group B &  \\# A &  \\# B &  25\\% A &  50\\% A &  75\\% A &  25\\% B &  50\\% B &  75\\% B &       p1 \\\\\n",
      "\\midrule\n",
      " Iberia-EN &  Iberia-MN &    7 &   15 &   23.7 &   32.8 &   37.3 &    0.0 &    0.0 &    4.7 &  1.0e-05 \\\\\n",
      "\\bottomrule\n",
      "\\end{tabular}\n",
      "\n",
      "CPU times: user 8.56 s, sys: 2.32 ms, total: 8.56 s\n",
      "Wall time: 8.56 s\n"
     ]
    }
   ],
   "source": [
    "%%time\n",
    "df_add = compare_groups(df1, df2, \n",
    "                        label1 = \"Iberia-EN\",  label2 = \"Iberia-MN\", \n",
    "                        rep_panova=99999, pr=True)"
   ]
  },
  {
   "cell_type": "markdown",
   "metadata": {},
   "source": [
    "# Aceramic to EF"
   ]
  },
  {
   "cell_type": "code",
   "execution_count": 75,
   "metadata": {},
   "outputs": [
    {
     "name": "stdout",
     "output_type": "stream",
     "text": [
      "Loaded 3731 Individuals\n",
      "Filtered to 3497 Individuals with no long ROH\n"
     ]
    }
   ],
   "source": [
    "df = load_ROH_nolong(path=\"./Empirical/roh_all_inds_final_v42.csv\")\n",
    "\n",
    "df_ac = df[(df[\"economy\"]==\"Aceramic Farmer\")]\n",
    "df_ef = df[(df[\"economy\"]==\"Agriculture\")]\n",
    "regions = [\"Aegan\", \"Levante\", \"Central Asia\"]\n",
    "# df_ac[\"region\"].value_counts()"
   ]
  },
  {
   "cell_type": "code",
   "execution_count": 76,
   "metadata": {},
   "outputs": [
    {
     "name": "stdout",
     "output_type": "stream",
     "text": [
      "CPU times: user 25.7 s, sys: 7.3 ms, total: 25.7 s\n",
      "Wall time: 25.7 s\n"
     ]
    }
   ],
   "source": [
    "%%time\n",
    "\n",
    "df_hgs, df_efs, df_vec = [], [], []\n",
    "\n",
    "for r in regions:\n",
    "    df1 = df_ac[df_ac[\"region\"].str.contains(r)]\n",
    "    df2 = df_ef[df_ef[\"region\"].str.contains(r)]\n",
    "\n",
    "    age_max = np.max(df2[\"age\"])\n",
    "    df3 = df2[df2[\"age\"] > (age_max-2000)].reset_index()\n",
    "    \n",
    "    df_add = compare_groups(df1, df3, label1 = f\"{r}-AC\",  label2 = f\"{r}-EF\", \n",
    "                            pr=False, rep_panova=99999)\n",
    "    \n",
    "    df_vec.append(df_add)\n",
    "    df_hgs.append(df1)\n",
    "    df_efs.append(df3)\n",
    "\n",
    "df_res = pd.concat(df_vec)"
   ]
  },
  {
   "cell_type": "code",
   "execution_count": 77,
   "metadata": {},
   "outputs": [
    {
     "name": "stdout",
     "output_type": "stream",
     "text": [
      "\\begin{tabular}{llrrrrrrrrl}\n",
      "\\toprule\n",
      "         Group A &          Group B &  \\# A &  \\# B &  25\\% A &  50\\% A &  75\\% A &  25\\% B &  50\\% B &  75\\% B &       p1 \\\\\n",
      "\\midrule\n",
      "        Aegan-AC &         Aegan-EF &    5 &   27 &   36.2 &   37.2 &   38.0 &    0.0 &    0.0 &    5.0 &  6.0e-05 \\\\\n",
      "      Levante-AC &       Levante-EF &    2 &   11 &   11.0 &   16.4 &   21.8 &    0.0 &    0.0 &    2.0 &  3.8e-02 \\\\\n",
      " Central Asia-AC &  Central Asia-EF &    5 &    5 &   11.4 &   15.2 &   25.8 &    0.0 &    4.8 &    7.0 &  5.4e-02 \\\\\n",
      "\\bottomrule\n",
      "\\end{tabular}\n",
      "\n"
     ]
    }
   ],
   "source": [
    "print(df_res.to_latex(index=False,  float_format=\"%.1f\"))"
   ]
  },
  {
   "cell_type": "markdown",
   "metadata": {},
   "source": [
    "# Steppe Pastoralists"
   ]
  },
  {
   "cell_type": "code",
   "execution_count": 5,
   "metadata": {},
   "outputs": [
    {
     "name": "stdout",
     "output_type": "stream",
     "text": [
      "Loaded 3731 Individuals\n",
      "Filtered to 3497 Individuals with no long ROH\n"
     ]
    }
   ],
   "source": [
    "df = load_ROH_nolong(path=\"./Empirical/roh_all_inds_final_v42.csv\")\n",
    "\n",
    "df_pa = df[(df[\"economy\"]==\"Pastoralism\") & (df[\"region\"]==\"Steppe\")]\n",
    "df2 = df_pa[df_pa['age']>3000]\n",
    "\n",
    "df_ef = df[(df[\"economy\"]==\"Agriculture\")]\n",
    "df1 = df_ef[df_ef[\"age\"]>5000]"
   ]
  },
  {
   "cell_type": "code",
   "execution_count": 7,
   "metadata": {},
   "outputs": [
    {
     "name": "stdout",
     "output_type": "stream",
     "text": [
      "\\begin{tabular}{llrrrrrrrrl}\n",
      "\\toprule\n",
      "        Group A &              Group B &  \\# A &  \\# B &  25\\% A &  50\\% A &  75\\% A &  25\\% B &  50\\% B &  75\\% B &       p1 \\\\\n",
      "\\midrule\n",
      " Farmers >5k BP &  Steppe-PA 5.2-3k BP &  286 &  188 &    0.0 &    4.2 &    9.2 &    4.2 &   10.9 &   17.1 &  1.0e-05 \\\\\n",
      "\\bottomrule\n",
      "\\end{tabular}\n",
      "\n",
      "CPU times: user 4min 40s, sys: 20 ms, total: 4min 40s\n",
      "Wall time: 4min 40s\n"
     ]
    }
   ],
   "source": [
    "%%time\n",
    "df_add = compare_groups(df1, df2, label1 = \"Farmers >5k BP\", label2 = \"Steppe-PA 5.2-3k BP\",   \n",
    "                        pr=True, rep_panova=99999)"
   ]
  },
  {
   "cell_type": "markdown",
   "metadata": {},
   "source": [
    "### Steppe Pastoralists vrs Contemporary Central Asia"
   ]
  },
  {
   "cell_type": "code",
   "execution_count": 98,
   "metadata": {},
   "outputs": [
    {
     "name": "stdout",
     "output_type": "stream",
     "text": [
      "Loaded 3731 Individuals\n",
      "Filtered to 3497 Individuals with no long ROH\n"
     ]
    }
   ],
   "source": [
    "df = load_ROH_nolong(path=\"./Empirical/roh_all_inds_final_v42.csv\")\n",
    "\n",
    "df_pa = df[(df[\"economy\"]==\"Pastoralism\") & (df[\"region\"]==\"Steppe\")]\n",
    "df1 = df_pa[df_pa['age']>3000]\n",
    "df_pak = df[df[\"region\"].str.contains(\"Central Asia\")].sort_values(by=\"age\", ascending=False)\n",
    "df2 = df_pak[df_pak[\"age\"]>3000]"
   ]
  },
  {
   "cell_type": "markdown",
   "metadata": {},
   "source": [
    "### Black Sea Region (Western PC Steppe)"
   ]
  },
  {
   "cell_type": "code",
   "execution_count": 116,
   "metadata": {},
   "outputs": [
    {
     "name": "stdout",
     "output_type": "stream",
     "text": [
      "Loaded 3731 Individuals\n",
      "Filtered to 3497 Individuals with no long ROH\n"
     ]
    }
   ],
   "source": [
    "df = load_ROH_nolong(path=\"./Empirical/roh_all_inds_final_v42.csv\")\n",
    "df_bs = df[df[\"region\"]==\"Black Sea\"]\n",
    "df1 = df_bs[df_bs[\"economy\"]==\"Foraging\"]\n",
    "df2 = df_bs[df_bs[\"economy\"]==\"Pastoralism\"]"
   ]
  },
  {
   "cell_type": "code",
   "execution_count": 117,
   "metadata": {},
   "outputs": [
    {
     "name": "stdout",
     "output_type": "stream",
     "text": [
      "\\begin{tabular}{llrrrrrrrrl}\n",
      "\\toprule\n",
      "         Group A &      Group B &  \\# A &  \\# B &  25\\% A &  50\\% A &  75\\% A &  25\\% B &  50\\% B &  75\\% B &       p1 \\\\\n",
      "\\midrule\n",
      " Hunter Gatherer &  Pastoralism &   13 &    8 &    4.5 &   14.2 &   17.3 &    0.0 &    0.0 &    1.0 &  6.9e-03 \\\\\n",
      "\\bottomrule\n",
      "\\end{tabular}\n",
      "\n",
      "CPU times: user 8.67 s, sys: 1.07 ms, total: 8.67 s\n",
      "Wall time: 8.67 s\n"
     ]
    }
   ],
   "source": [
    "%%time\n",
    "df_add = compare_groups(df1, df2, label1 = \"Hunter Gatherer\", label2 = \"Pastoralism\",   \n",
    "                        pr=True, rep_panova=99999)"
   ]
  },
  {
   "cell_type": "markdown",
   "metadata": {},
   "source": [
    "### Eastern Steppe"
   ]
  },
  {
   "cell_type": "code",
   "execution_count": 118,
   "metadata": {},
   "outputs": [
    {
     "name": "stdout",
     "output_type": "stream",
     "text": [
      "Loaded 3731 Individuals\n",
      "Filtered to 3497 Individuals with no long ROH\n"
     ]
    }
   ],
   "source": [
    "df = load_ROH_nolong(path=\"./Empirical/roh_all_inds_final_v42.csv\")\n",
    "df_bs = df[df[\"region\"]==\"East Steppe\"]\n",
    "df1 = df_bs[df_bs[\"economy\"]==\"Foraging\"]\n",
    "df2 = df_bs[df_bs[\"economy\"]==\"Pastoralism\"]"
   ]
  },
  {
   "cell_type": "code",
   "execution_count": 119,
   "metadata": {},
   "outputs": [
    {
     "name": "stdout",
     "output_type": "stream",
     "text": [
      "\\begin{tabular}{llrrrrrrrrl}\n",
      "\\toprule\n",
      "         Group A &      Group B &  \\# A &  \\# B &  25\\% A &  50\\% A &  75\\% A &  25\\% B &  50\\% B &  75\\% B &       p1 \\\\\n",
      "\\midrule\n",
      " Hunter Gatherer &  Pastoralism &   28 &   18 &   24.3 &   32.5 &   49.9 &    0.0 &    4.7 &   12.4 &  1.0e-05 \\\\\n",
      "\\bottomrule\n",
      "\\end{tabular}\n",
      "\n",
      "CPU times: user 11.4 s, sys: 2.03 ms, total: 11.4 s\n",
      "Wall time: 11.4 s\n"
     ]
    }
   ],
   "source": [
    "%%time\n",
    "df_add = compare_groups(df1, df2, label1 = \"Hunter Gatherer\", label2 = \"Pastoralism\",   \n",
    "                        pr=True, rep_panova=99999)"
   ]
  },
  {
   "cell_type": "markdown",
   "metadata": {},
   "source": [
    "### Legacy Split Up"
   ]
  },
  {
   "cell_type": "code",
   "execution_count": 123,
   "metadata": {},
   "outputs": [],
   "source": [
    "pops = [\"Turkmenistan_C\", \"Iran_BA\", \"Uzbekistan_BA\"]\n",
    "\n",
    "df_efs, df_vec = [], []\n",
    "\n",
    "for p in pops:\n",
    "    df2 = df[(df[\"pop\"].str.contains(p))]\n",
    "    \n",
    "    # Set age boundary\n",
    "    label1 = \"Steppe-PA >3kBP\"\n",
    "    label2 = p\n",
    "    df_add = compare_groups(df1, df2, label1 = label1,  label2 = label2, \n",
    "                            rep_panova=99999, pr=False)\n",
    "    df_vec.append(df_add)\n",
    "    \n",
    "df_res = pd.concat(df_vec)\n",
    "print(df_res.to_latex(index=False,  float_format=\"%.1f\"))"
   ]
  },
  {
   "cell_type": "markdown",
   "metadata": {},
   "source": [
    "## Plot sROH statistics for Yamnaya, Afanisieve and Shintashta"
   ]
  },
  {
   "cell_type": "code",
   "execution_count": 82,
   "metadata": {},
   "outputs": [
    {
     "name": "stdout",
     "output_type": "stream",
     "text": [
      "Loaded 3731 Individuals\n",
      "Filtered to 3497 Individuals with no long ROH\n"
     ]
    }
   ],
   "source": [
    "df = load_ROH_nolong(path=\"./Empirical/roh_all_inds_final_v42.csv\")\n",
    "df_pa = df[(df[\"economy\"]==\"Pastoralism\")]"
   ]
  },
  {
   "cell_type": "code",
   "execution_count": 83,
   "metadata": {},
   "outputs": [
    {
     "name": "stdout",
     "output_type": "stream",
     "text": [
      "Yamnaya\n",
      "# Individuals: 17\n",
      "Mean: 15.9901\n",
      "Median: 17.5448\n",
      "No ROH in bin: n=2/17\n",
      "Afanasievo\n",
      "# Individuals: 22\n",
      "Mean: 20.3418\n",
      "Median: 18.0733\n",
      "No ROH in bin: n=1/22\n",
      "Okunevo\n",
      "# Individuals: 12\n",
      "Mean: 25.3374\n",
      "Median: 24.5162\n",
      "No ROH in bin: n=0/12\n",
      "Sintashta\n",
      "# Individuals: 21\n",
      "Mean: 8.6577\n",
      "Median: 5.7030\n",
      "No ROH in bin: n=6/21\n",
      "Srubnaya\n",
      "# Individuals: 19\n",
      "Mean: 7.9361\n",
      "Median: 4.7852\n",
      "No ROH in bin: n=4/19\n"
     ]
    }
   ],
   "source": [
    "pops = [\"Yamnaya\", \"Afanasievo\", \"Okunevo\", \"Sintashta\", \"Srubnaya\"]\n",
    "for p in pops:\n",
    "    print(p)\n",
    "    df1 = df_pa[df_pa[\"pop\"].str.contains(p)]\n",
    "    give_roh_stats(df1, cm1=4, cm2=8);"
   ]
  },
  {
   "cell_type": "markdown",
   "metadata": {},
   "source": [
    "# South American Populations"
   ]
  },
  {
   "cell_type": "code",
   "execution_count": 5,
   "metadata": {},
   "outputs": [
    {
     "name": "stdout",
     "output_type": "stream",
     "text": [
      "Loaded 3726 Individuals\n",
      "Filtered to 3496 Individuals with no long ROH\n",
      "Filtered to 1731 ancient Individuals\n"
     ]
    }
   ],
   "source": [
    "df = load_ROH_nolong(path=\"./Empirical/roh_all_inds_final_v42.1.csv\", anc_only=True)\n",
    "#df_pa = df[(df[\"region\"]==\"Pastoralist\")]"
   ]
  },
  {
   "cell_type": "code",
   "execution_count": 6,
   "metadata": {},
   "outputs": [
    {
     "name": "stdout",
     "output_type": "stream",
     "text": [
      "Bering Sea\n",
      "# Individuals: 9\n",
      "Mean: 59.4518\n",
      "Median: 52.3705\n",
      "No ROH in bin: n=0/9\n",
      "Pacific NW\n",
      "# Individuals: 7\n",
      "Mean: 66.8397\n",
      "Median: 67.1348\n",
      "No ROH in bin: n=0/7\n",
      "Andean\n",
      "# Individuals: 20\n",
      "Mean: 42.6681\n",
      "Median: 31.5311\n",
      "No ROH in bin: n=2/20\n",
      "Atlantic Coast\n",
      "# Individuals: 13\n",
      "Mean: 65.5116\n",
      "Median: 58.9876\n",
      "No ROH in bin: n=0/13\n",
      "Patagonia\n",
      "# Individuals: 8\n",
      "Mean: 108.8283\n",
      "Median: 112.5231\n",
      "No ROH in bin: n=0/8\n"
     ]
    }
   ],
   "source": [
    "regs = [\"Bering Sea\", \"Pacific NW\", \"Andean\", \"Atlantic Coast\", \"Patagonia\"]\n",
    "for r in regs:\n",
    "    print(r)\n",
    "    df1 = df[df[\"region\"].str.contains(r)]\n",
    "    give_roh_stats(df1, cm1=4, cm2=8);"
   ]
  },
  {
   "cell_type": "markdown",
   "metadata": {},
   "source": [
    "## SA Comparison"
   ]
  },
  {
   "cell_type": "code",
   "execution_count": 9,
   "metadata": {},
   "outputs": [],
   "source": [
    "regs = [\"Pacific NW\", \"Andean\", \"Atlantic Coast\", \"Patagonia\", \"Bering Sea\"]\n",
    "idx = df[\"region\"].str.contains(\"|\".join(regs))\n",
    "df1=df[idx]\n",
    "df2 = df[~idx & (df[\"age\"]<13e3)]"
   ]
  },
  {
   "cell_type": "code",
   "execution_count": 10,
   "metadata": {},
   "outputs": [
    {
     "name": "stdout",
     "output_type": "stream",
     "text": [
      "\\begin{tabular}{llrrrrrrrrl}\n",
      "\\toprule\n",
      "Group A &      Group B &  \\# A &   \\# B &  25\\% A &  50\\% A &  75\\% A &  25\\% B &  50\\% B &  75\\% B &       p1 \\\\\n",
      "\\midrule\n",
      "     SA &  other\\$<\\$13k &   57 &  1658 &   28.0 &   56.3 &   85.8 &    0.0 &    4.2 &   10.5 &  1.0e-02 \\\\\n",
      "\\bottomrule\n",
      "\\end{tabular}\n",
      "\n",
      "CPU times: user 9.21 s, sys: 3.79 s, total: 13 s\n",
      "Wall time: 13 s\n"
     ]
    }
   ],
   "source": [
    "%%time\n",
    "df_add = compare_groups(df1, df2, label1 = \"SA\",  label2 = \"other$<$13k\", \n",
    "                        pr=True, rep_panova=99)"
   ]
  },
  {
   "cell_type": "markdown",
   "metadata": {},
   "source": [
    "### Andean"
   ]
  },
  {
   "cell_type": "code",
   "execution_count": 3,
   "metadata": {},
   "outputs": [
    {
     "name": "stdout",
     "output_type": "stream",
     "text": [
      "Loaded 3732 Individuals\n",
      "Filtered to 3497 Individuals with no long ROH\n",
      "Filtered to 1739 ancient Individuals\n"
     ]
    }
   ],
   "source": [
    "### LEGACY\n",
    "df = load_ROH_nolong(path=\"./Empirical/roh_all_inds_final_v42.csv\", anc_only=True)\n",
    "df_an = df[df[\"region\"].str.contains(\"Andean\")]\n",
    "df1 = df_an[df_an[\"age\"]>2000]\n",
    "df2 = df_an[df_an[\"age\"]<2000]"
   ]
  },
  {
   "cell_type": "code",
   "execution_count": 87,
   "metadata": {},
   "outputs": [
    {
     "name": "stdout",
     "output_type": "stream",
     "text": [
      "Loaded 3731 Individuals\n",
      "Filtered to 3497 Individuals with no long ROH\n",
      "Filtered to 1739 ancient Individuals\n"
     ]
    }
   ],
   "source": [
    "df = load_ROH_nolong(path=\"./Empirical/roh_all_inds_final_v42.csv\", anc_only=True)\n",
    "df_an = df[df[\"region\"].str.contains(\"Andean\")]\n",
    "df1 = df_an[df_an[\"economy\"]==\"Foraging\"]\n",
    "df2 = df_an[df_an[\"economy\"]==\"Agriculture\"]"
   ]
  },
  {
   "cell_type": "code",
   "execution_count": 88,
   "metadata": {},
   "outputs": [
    {
     "name": "stdout",
     "output_type": "stream",
     "text": [
      "\\begin{tabular}{llrrrrrrrrl}\n",
      "\\toprule\n",
      " Group A &      Group B &  \\# A &  \\# B &  25\\% A &  50\\% A &  75\\% A &  25\\% B &  50\\% B &  75\\% B &       p1 \\\\\n",
      "\\midrule\n",
      " Forager &  Agriculture &    7 &    5 &   46.8 &   55.4 &   95.2 &    9.6 &   17.9 &   22.1 &  1.2e-02 \\\\\n",
      "\\bottomrule\n",
      "\\end{tabular}\n",
      "\n",
      "CPU times: user 8.1 s, sys: 2.97 ms, total: 8.11 s\n",
      "Wall time: 8.11 s\n"
     ]
    }
   ],
   "source": [
    "%%time\n",
    "df_add = compare_groups(df1, df2, label1 = \"Forager\",  label2 = \"Agriculture\", \n",
    "                        pr=True, rep_panova=99999)"
   ]
  },
  {
   "cell_type": "code",
   "execution_count": null,
   "metadata": {},
   "outputs": [],
   "source": [
    "df1"
   ]
  },
  {
   "cell_type": "markdown",
   "metadata": {},
   "source": [
    "# Area 51"
   ]
  },
  {
   "cell_type": "markdown",
   "metadata": {},
   "source": [
    "### Test permanova"
   ]
  },
  {
   "cell_type": "code",
   "execution_count": 4,
   "metadata": {},
   "outputs": [],
   "source": [
    "dm = DistanceMatrix([[0, 1, 1, 4],\n",
    "                     [1, 0, 3, 2],\n",
    "                     [1, 3, 0, 3],\n",
    "                     [4, 2, 3, 0]],\n",
    "                     ['s1', 's2', 's3', 's4'])\n",
    "grouping = ['Group1', 'Group1', 'Group2', 'Group2']"
   ]
  },
  {
   "cell_type": "code",
   "execution_count": 5,
   "metadata": {},
   "outputs": [],
   "source": []
  },
  {
   "cell_type": "code",
   "execution_count": 11,
   "metadata": {},
   "outputs": [
    {
     "name": "stdout",
     "output_type": "stream",
     "text": [
      "CPU times: user 886 ms, sys: 0 ns, total: 886 ms\n",
      "Wall time: 880 ms\n"
     ]
    },
    {
     "data": {
      "text/plain": [
       "method name               PERMANOVA\n",
       "test statistic name        pseudo-F\n",
       "sample size                       4\n",
       "number of groups                  2\n",
       "test statistic                    2\n",
       "p-value                      0.6709\n",
       "number of permutations         9999\n",
       "Name: PERMANOVA results, dtype: object"
      ]
     },
     "execution_count": 11,
     "metadata": {},
     "output_type": "execute_result"
    }
   ],
   "source": [
    "%%time\n",
    "permanova(dm, grouping, permutations=9999)"
   ]
  },
  {
   "cell_type": "markdown",
   "metadata": {},
   "source": [
    "### Permanova implementation with 1D Dist"
   ]
  },
  {
   "cell_type": "code",
   "execution_count": 41,
   "metadata": {},
   "outputs": [
    {
     "name": "stdout",
     "output_type": "stream",
     "text": [
      "CPU times: user 1.49 ms, sys: 68 µs, total: 1.56 ms\n",
      "Wall time: 950 µs\n"
     ]
    }
   ],
   "source": [
    "%%time\n",
    "dm = prep_distance_matrix(x,y)"
   ]
  },
  {
   "cell_type": "code",
   "execution_count": 48,
   "metadata": {},
   "outputs": [
    {
     "name": "stdout",
     "output_type": "stream",
     "text": [
      "CPU times: user 93.2 ms, sys: 1.02 ms, total: 94.2 ms\n",
      "Wall time: 92.5 ms\n"
     ]
    }
   ],
   "source": [
    "%%time\n",
    "pma=anova_2group(x, y, reps=99)"
   ]
  },
  {
   "cell_type": "code",
   "execution_count": 54,
   "metadata": {},
   "outputs": [
    {
     "data": {
      "text/plain": [
       "method name               PERMANOVA\n",
       "test statistic name        pseudo-F\n",
       "sample size                     200\n",
       "number of groups                  2\n",
       "test statistic             0.491598\n",
       "p-value                         0.5\n",
       "number of permutations           99\n",
       "Name: PERMANOVA results, dtype: object"
      ]
     },
     "execution_count": 54,
     "metadata": {},
     "output_type": "execute_result"
    }
   ],
   "source": [
    "pma"
   ]
  },
  {
   "cell_type": "markdown",
   "metadata": {},
   "source": [
    "### Tests MWU"
   ]
  },
  {
   "cell_type": "code",
   "execution_count": 60,
   "metadata": {},
   "outputs": [
    {
     "data": {
      "image/png": "[encoded data removed]",
      "text/plain": [
       "<Figure size 432x288 with 1 Axes>"
      ]
     },
     "metadata": {
      "needs_background": "light"
     },
     "output_type": "display_data"
    },
    {
     "name": "stdout",
     "output_type": "stream",
     "text": [
      "CPU times: user 426 ms, sys: 8.61 ms, total: 435 ms\n",
      "Wall time: 433 ms\n"
     ]
    }
   ],
   "source": [
    "%%time\n",
    "bins=np.linspace(0,1,21)\n",
    "reps = 999\n",
    "mean1, mean2 = 2, 0\n",
    "s1, s2 = 2, 10\n",
    "std1, std2 = 1.0, 1.0\n",
    "\n",
    "p = np.zeros(reps)\n",
    "\n",
    "for i in range(reps):\n",
    "    x = np.random.normal(loc=mean1, scale=std1, size=s1)\n",
    "    y = np.random.normal(loc=mean2, scale=std2, size=s2)\n",
    "    #x=np.clip(x, 0, None)\n",
    "    #y=np.clip(y, 0, None)\n",
    "    p[i] = mannwhitneyu(x, y, alternative='two-sided')[1]\n",
    "    \n",
    "##### Plot figures of distribution p-Values\n",
    "plt.figure()\n",
    "ax = plt.gca()\n",
    "ax.hist(p, bins=bins, ec=\"k\")\n",
    "ax.set_title(\"WMU\")\n",
    "ax.set_xlabel(\"p-Values\")\n",
    "ax.set_ylabel(\"Counts\")\n",
    "plt.show()"
   ]
  },
  {
   "cell_type": "markdown",
   "metadata": {},
   "source": [
    "### Test Permanova"
   ]
  },
  {
   "cell_type": "code",
   "execution_count": 59,
   "metadata": {},
   "outputs": [
    {
     "data": {
      "image/png": "[encoded data removed]",
      "text/plain": [
       "<Figure size 432x288 with 1 Axes>"
      ]
     },
     "metadata": {
      "needs_background": "light"
     },
     "output_type": "display_data"
    },
    {
     "name": "stdout",
     "output_type": "stream",
     "text": [
      "CPU times: user 8.26 s, sys: 3.33 ms, total: 8.27 s\n",
      "Wall time: 8.27 s\n"
     ]
    }
   ],
   "source": [
    "%%time\n",
    "reps = 999\n",
    "bins=np.linspace(0,1,21)\n",
    "mean1, mean2 = 2, 0\n",
    "s1, s2 = 2, 10\n",
    "std1, std2 = 1.0, 1.0\n",
    "\n",
    "p = np.zeros(reps)\n",
    "\n",
    "for i in range(reps):\n",
    "    x = np.random.normal(loc=mean1, scale=std1, size=s1)\n",
    "    y = np.random.normal(loc=mean2, scale=std2, size=s2)\n",
    "    x=np.clip(x, 0, None)\n",
    "    y=np.clip(y, 0, None)\n",
    "    \n",
    "    p[i] = anova_2group(x, y, reps=99)[\"p-value\"]\n",
    "    \n",
    "##### Plot figures of distribution p-Values\n",
    "plt.figure()\n",
    "ax = plt.gca()\n",
    "ax.hist(p, bins=bins, ec=\"k\")\n",
    "ax.set_title(\"Permanova\")\n",
    "ax.set_xlabel(\"p-Values\")\n",
    "ax.set_ylabel(\"Counts\")\n",
    "plt.show()"
   ]
  },
  {
   "cell_type": "markdown",
   "metadata": {},
   "source": [
    "### t test"
   ]
  },
  {
   "cell_type": "code",
   "execution_count": 2,
   "metadata": {},
   "outputs": [],
   "source": [
    "from scipy.stats import ttest_ind"
   ]
  },
  {
   "cell_type": "code",
   "execution_count": 58,
   "metadata": {},
   "outputs": [
    {
     "data": {
      "image/png": "[encoded data removed]",
      "text/plain": [
       "<Figure size 432x288 with 1 Axes>"
      ]
     },
     "metadata": {
      "needs_background": "light"
     },
     "output_type": "display_data"
    },
    {
     "name": "stdout",
     "output_type": "stream",
     "text": [
      "CPU times: user 492 ms, sys: 32.4 ms, total: 525 ms\n",
      "Wall time: 491 ms\n"
     ]
    }
   ],
   "source": [
    "%%time\n",
    "reps = 999\n",
    "bins=np.linspace(0,1,21)\n",
    "mean1, mean2 = 2, 0\n",
    "s1, s2 = 2, 10\n",
    "std1, std2 = 1.0, 1.0\n",
    "\n",
    "p = np.zeros(reps)\n",
    "\n",
    "for i in range(reps):\n",
    "    x = np.random.normal(loc=mean1, scale=std1, size=s1)\n",
    "    y = np.random.normal(loc=mean2, scale=std2, size=s2)\n",
    "    x=np.clip(x, 0, None)\n",
    "    y=np.clip(y, 0, None)\n",
    "    \n",
    "    p[i] = ttest_ind(x, y)[1]\n",
    "    \n",
    "##### Plot figures of distribution p-Values\n",
    "plt.figure()\n",
    "ax = plt.gca()\n",
    "ax.hist(p, bins=bins, ec=\"k\")\n",
    "ax.set_title(\"t-Test\")\n",
    "ax.set_xlabel(\"p-Values\")\n",
    "ax.set_ylabel(\"Counts\")\n",
    "plt.show()"
   ]
  },
  {
   "cell_type": "code",
   "execution_count": 123,
   "metadata": {},
   "outputs": [
    {
     "name": "stdout",
     "output_type": "stream",
     "text": [
      "Loaded 3731 Individuals\n",
      "Filtered to 3497 Individuals with no long ROH\n"
     ]
    }
   ],
   "source": [
    "df = load_ROH_nolong(path=\"./Empirical/roh_all_inds_final_v42.csv\")"
   ]
  },
  {
   "cell_type": "code",
   "execution_count": 124,
   "metadata": {},
   "outputs": [
    {
     "data": {
      "text/html": [
       "<div>\n",
       "<style scoped>\n",
       "    .dataframe tbody tr th:only-of-type {\n",
       "        vertical-align: middle;\n",
       "    }\n",
       "\n",
       "    .dataframe tbody tr th {\n",
       "        vertical-align: top;\n",
       "    }\n",
       "\n",
       "    .dataframe thead th {\n",
       "        text-align: right;\n",
       "    }\n",
       "</style>\n",
       "<table border=\"1\" class=\"dataframe\">\n",
       "  <thead>\n",
       "    <tr style=\"text-align: right;\">\n",
       "      <th></th>\n",
       "      <th>iid</th>\n",
       "      <th>pop</th>\n",
       "      <th>max_roh</th>\n",
       "      <th>sum_roh&gt;4</th>\n",
       "      <th>n_roh&gt;4</th>\n",
       "      <th>sum_roh&gt;8</th>\n",
       "      <th>n_roh&gt;8</th>\n",
       "      <th>sum_roh&gt;12</th>\n",
       "      <th>n_roh&gt;12</th>\n",
       "      <th>sum_roh&gt;20</th>\n",
       "      <th>...</th>\n",
       "      <th>age</th>\n",
       "      <th>study</th>\n",
       "      <th>clst</th>\n",
       "      <th>mean_cov</th>\n",
       "      <th>n_cov_snp</th>\n",
       "      <th>include_alt</th>\n",
       "      <th>region</th>\n",
       "      <th>color</th>\n",
       "      <th>economy</th>\n",
       "      <th>sum_roh_4-8</th>\n",
       "    </tr>\n",
       "  </thead>\n",
       "  <tbody>\n",
       "    <tr>\n",
       "      <th>127</th>\n",
       "      <td>mur.SG</td>\n",
       "      <td>Iberia_EN.SG</td>\n",
       "      <td>7.606703</td>\n",
       "      <td>32.830095</td>\n",
       "      <td>6</td>\n",
       "      <td>0.000000</td>\n",
       "      <td>0</td>\n",
       "      <td>0.000000</td>\n",
       "      <td>0</td>\n",
       "      <td>0.0000</td>\n",
       "      <td>...</td>\n",
       "      <td>7136.0</td>\n",
       "      <td>ValdioseraPNAS2018</td>\n",
       "      <td>Iberia_EN.SG</td>\n",
       "      <td>2.880033</td>\n",
       "      <td>1078491</td>\n",
       "      <td>1</td>\n",
       "      <td>Iberia</td>\n",
       "      <td>blue</td>\n",
       "      <td>Agriculture</td>\n",
       "      <td>32.830095</td>\n",
       "    </tr>\n",
       "    <tr>\n",
       "      <th>222</th>\n",
       "      <td>I0412</td>\n",
       "      <td>Iberia_EN</td>\n",
       "      <td>10.391801</td>\n",
       "      <td>19.374900</td>\n",
       "      <td>3</td>\n",
       "      <td>10.391801</td>\n",
       "      <td>1</td>\n",
       "      <td>0.000000</td>\n",
       "      <td>0</td>\n",
       "      <td>0.0000</td>\n",
       "      <td>...</td>\n",
       "      <td>7144.0</td>\n",
       "      <td>MathiesonNature2015 (1240k of same same sample...</td>\n",
       "      <td>Iberia_EN</td>\n",
       "      <td>13.785000</td>\n",
       "      <td>983710</td>\n",
       "      <td>1</td>\n",
       "      <td>Iberia</td>\n",
       "      <td>blue</td>\n",
       "      <td>Agriculture</td>\n",
       "      <td>8.983099</td>\n",
       "    </tr>\n",
       "    <tr>\n",
       "      <th>1058</th>\n",
       "      <td>CB13.SG</td>\n",
       "      <td>Iberia_EN.SG</td>\n",
       "      <td>10.550499</td>\n",
       "      <td>51.762991</td>\n",
       "      <td>8</td>\n",
       "      <td>10.550499</td>\n",
       "      <td>1</td>\n",
       "      <td>0.000000</td>\n",
       "      <td>0</td>\n",
       "      <td>0.0000</td>\n",
       "      <td>...</td>\n",
       "      <td>7348.0</td>\n",
       "      <td>OlaldeMBE2015</td>\n",
       "      <td>Iberia_EN.SG</td>\n",
       "      <td>0.979000</td>\n",
       "      <td>717337</td>\n",
       "      <td>1</td>\n",
       "      <td>Iberia</td>\n",
       "      <td>blue</td>\n",
       "      <td>Agriculture</td>\n",
       "      <td>41.212492</td>\n",
       "    </tr>\n",
       "    <tr>\n",
       "      <th>1257</th>\n",
       "      <td>I0413</td>\n",
       "      <td>Iberia_EN</td>\n",
       "      <td>15.617700</td>\n",
       "      <td>83.949992</td>\n",
       "      <td>10</td>\n",
       "      <td>50.522896</td>\n",
       "      <td>4</td>\n",
       "      <td>29.483500</td>\n",
       "      <td>2</td>\n",
       "      <td>0.0000</td>\n",
       "      <td>...</td>\n",
       "      <td>7139.0</td>\n",
       "      <td>MathiesonNature2015 (1240k of same same sample...</td>\n",
       "      <td>Iberia_EN</td>\n",
       "      <td>1.572000</td>\n",
       "      <td>638681</td>\n",
       "      <td>1</td>\n",
       "      <td>Iberia</td>\n",
       "      <td>blue</td>\n",
       "      <td>Agriculture</td>\n",
       "      <td>33.427096</td>\n",
       "    </tr>\n",
       "    <tr>\n",
       "      <th>3477</th>\n",
       "      <td>I0410</td>\n",
       "      <td>Iberia_EN</td>\n",
       "      <td>32.208100</td>\n",
       "      <td>105.965106</td>\n",
       "      <td>13</td>\n",
       "      <td>56.868104</td>\n",
       "      <td>3</td>\n",
       "      <td>45.904401</td>\n",
       "      <td>2</td>\n",
       "      <td>32.2081</td>\n",
       "      <td>...</td>\n",
       "      <td>7130.0</td>\n",
       "      <td>MathiesonNature2015 (1240k of same same sample...</td>\n",
       "      <td>Iberia_EN</td>\n",
       "      <td>1.305000</td>\n",
       "      <td>521870</td>\n",
       "      <td>1</td>\n",
       "      <td>Iberia</td>\n",
       "      <td>blue</td>\n",
       "      <td>Agriculture</td>\n",
       "      <td>49.097002</td>\n",
       "    </tr>\n",
       "    <tr>\n",
       "      <th>3501</th>\n",
       "      <td>I0409</td>\n",
       "      <td>Iberia_EN</td>\n",
       "      <td>11.218012</td>\n",
       "      <td>47.406925</td>\n",
       "      <td>7</td>\n",
       "      <td>19.820607</td>\n",
       "      <td>2</td>\n",
       "      <td>0.000000</td>\n",
       "      <td>0</td>\n",
       "      <td>0.0000</td>\n",
       "      <td>...</td>\n",
       "      <td>7215.0</td>\n",
       "      <td>MathiesonNature2015 (1240k of same same sample...</td>\n",
       "      <td>Iberia_EN</td>\n",
       "      <td>0.686000</td>\n",
       "      <td>511453</td>\n",
       "      <td>1</td>\n",
       "      <td>Iberia</td>\n",
       "      <td>blue</td>\n",
       "      <td>Agriculture</td>\n",
       "      <td>27.586318</td>\n",
       "    </tr>\n",
       "    <tr>\n",
       "      <th>3644</th>\n",
       "      <td>FUC003_merged</td>\n",
       "      <td>Iberia_EN_Epicardial</td>\n",
       "      <td>9.400606</td>\n",
       "      <td>29.255519</td>\n",
       "      <td>4</td>\n",
       "      <td>9.400606</td>\n",
       "      <td>1</td>\n",
       "      <td>0.000000</td>\n",
       "      <td>0</td>\n",
       "      <td>0.0000</td>\n",
       "      <td>...</td>\n",
       "      <td>7035.0</td>\n",
       "      <td>VillalbaMoucoCurrentBiology2019</td>\n",
       "      <td>Iberia_EN_Epicardial</td>\n",
       "      <td>0.553330</td>\n",
       "      <td>437381</td>\n",
       "      <td>1</td>\n",
       "      <td>Iberia</td>\n",
       "      <td>blue</td>\n",
       "      <td>Agriculture</td>\n",
       "      <td>19.854913</td>\n",
       "    </tr>\n",
       "  </tbody>\n",
       "</table>\n",
       "<p>7 rows × 23 columns</p>\n",
       "</div>"
      ],
      "text/plain": [
       "                iid                   pop    max_roh   sum_roh>4  n_roh>4  \\\n",
       "127          mur.SG          Iberia_EN.SG   7.606703   32.830095        6   \n",
       "222           I0412             Iberia_EN  10.391801   19.374900        3   \n",
       "1058        CB13.SG          Iberia_EN.SG  10.550499   51.762991        8   \n",
       "1257          I0413             Iberia_EN  15.617700   83.949992       10   \n",
       "3477          I0410             Iberia_EN  32.208100  105.965106       13   \n",
       "3501          I0409             Iberia_EN  11.218012   47.406925        7   \n",
       "3644  FUC003_merged  Iberia_EN_Epicardial   9.400606   29.255519        4   \n",
       "\n",
       "      sum_roh>8  n_roh>8  sum_roh>12  n_roh>12  sum_roh>20  ...     age  \\\n",
       "127    0.000000        0    0.000000         0      0.0000  ...  7136.0   \n",
       "222   10.391801        1    0.000000         0      0.0000  ...  7144.0   \n",
       "1058  10.550499        1    0.000000         0      0.0000  ...  7348.0   \n",
       "1257  50.522896        4   29.483500         2      0.0000  ...  7139.0   \n",
       "3477  56.868104        3   45.904401         2     32.2081  ...  7130.0   \n",
       "3501  19.820607        2    0.000000         0      0.0000  ...  7215.0   \n",
       "3644   9.400606        1    0.000000         0      0.0000  ...  7035.0   \n",
       "\n",
       "                                                  study                  clst  \\\n",
       "127                                  ValdioseraPNAS2018          Iberia_EN.SG   \n",
       "222   MathiesonNature2015 (1240k of same same sample...             Iberia_EN   \n",
       "1058                                      OlaldeMBE2015          Iberia_EN.SG   \n",
       "1257  MathiesonNature2015 (1240k of same same sample...             Iberia_EN   \n",
       "3477  MathiesonNature2015 (1240k of same same sample...             Iberia_EN   \n",
       "3501  MathiesonNature2015 (1240k of same same sample...             Iberia_EN   \n",
       "3644                    VillalbaMoucoCurrentBiology2019  Iberia_EN_Epicardial   \n",
       "\n",
       "       mean_cov n_cov_snp include_alt  region  color      economy sum_roh_4-8  \n",
       "127    2.880033   1078491           1  Iberia   blue  Agriculture   32.830095  \n",
       "222   13.785000    983710           1  Iberia   blue  Agriculture    8.983099  \n",
       "1058   0.979000    717337           1  Iberia   blue  Agriculture   41.212492  \n",
       "1257   1.572000    638681           1  Iberia   blue  Agriculture   33.427096  \n",
       "3477   1.305000    521870           1  Iberia   blue  Agriculture   49.097002  \n",
       "3501   0.686000    511453           1  Iberia   blue  Agriculture   27.586318  \n",
       "3644   0.553330    437381           1  Iberia   blue  Agriculture   19.854913  \n",
       "\n",
       "[7 rows x 23 columns]"
      ]
     },
     "execution_count": 124,
     "metadata": {},
     "output_type": "execute_result"
    }
   ],
   "source": [
    "df[df[\"clst\"].str.contains(\"Iberia_EN\")]"
   ]
  },
  {
   "cell_type": "code",
   "execution_count": null,
   "metadata": {},
   "outputs": [],
   "source": []
  }
 ],
 "metadata": {
  "kernelspec": {
   "display_name": "Python 3",
   "language": "python",
   "name": "python3"
  },
  "language_info": {
   "codemirror_mode": {
    "name": "ipython",
    "version": 3
   },
   "file_extension": ".py",
   "mimetype": "text/x-python",
   "name": "python",
   "nbconvert_exporter": "python",
   "pygments_lexer": "ipython3",
   "version": "3.7.0"
  }
 },
 "nbformat": 4,
 "nbformat_minor": 4
}
