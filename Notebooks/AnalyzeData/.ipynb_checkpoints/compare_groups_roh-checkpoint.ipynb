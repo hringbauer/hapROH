{
 "cells": [
  {
   "cell_type": "markdown",
   "metadata": {},
   "source": [
    "# Compare ROH between groups\n",
    "Load empirical ROH Dataframe, and compare ROH sharing between groups with statistical tests (producing p-Values)\n",
    "Assumes data is ROH analyzed, and pre-processed (into one dataframe, with region and clst Columns set."
   ]
  },
  {
   "cell_type": "code",
   "execution_count": 6,
   "metadata": {},
   "outputs": [
    {
     "name": "stdout",
     "output_type": "stream",
     "text": [
      "midway2-0401.rcc.local\n",
      "Midway jnovmbre partition detected.\n",
      "/project2/jnovembre/hringbauer/HAPSBURG\n",
      "CPU Count: 28\n"
     ]
    }
   ],
   "source": [
    "import pandas as pd\n",
    "import numpy as np\n",
    "import matplotlib.pyplot as plt\n",
    "import socket\n",
    "import os as os\n",
    "import sys as sys\n",
    "import multiprocessing as mp\n",
    "import itertools as it\n",
    "\n",
    "socket_name = socket.gethostname()\n",
    "print(socket_name)\n",
    "if socket_name == \"VioletQueen\":\n",
    "    path = \"/home/harald/git/HAPSBURG/\"   # The Path on Harald's machine\n",
    "elif socket_name.startswith(\"midway2\"):\n",
    "    print(\"Midway jnovmbre partition detected.\")\n",
    "    path = \"/project2/jnovembre/hringbauer/HAPSBURG/\"  # The Path on Midway Cluster\n",
    "else: \n",
    "    raise RuntimeWarning(\"Not compatible machine. Check!!\")\n",
    "    \n",
    "from scipy.stats import mannwhitneyu\n",
    "\n",
    "os.chdir(path)  # Set the right Path (in line with Atom default)\n",
    "print(os.getcwd()) # Show the current working directory. Should be HAPSBURG/Notebooks/ParallelRuns\n",
    "print(f\"CPU Count: {mp.cpu_count()}\")"
   ]
  },
  {
   "cell_type": "markdown",
   "metadata": {},
   "source": [
    "### Tests of Mann Whitney U Test"
   ]
  },
  {
   "cell_type": "code",
   "execution_count": 2,
   "metadata": {},
   "outputs": [
    {
     "data": {
      "image/png": "[encoded data removed]",
      "text/plain": [
       "<Figure size 432x288 with 1 Axes>"
      ]
     },
     "metadata": {
      "needs_background": "light"
     },
     "output_type": "display_data"
    },
    {
     "name": "stdout",
     "output_type": "stream",
     "text": [
      "CPU times: user 465 ms, sys: 4.67 ms, total: 470 ms\n",
      "Wall time: 526 ms\n"
     ]
    }
   ],
   "source": [
    "%%time\n",
    "reps = 1000\n",
    "mean1, mean2 = 1.0, 50.0\n",
    "s1, s2 = 2, 20\n",
    "std1, std2 = 1.0, 10.0\n",
    "\n",
    "p = np.zeros(reps)\n",
    "\n",
    "for i in range(reps):\n",
    "    x = np.random.normal(loc=mean1, scale=std1, size=s1)\n",
    "    y = np.random.normal(loc=mean2, scale=std2, size=s2)\n",
    "    p[i] = mannwhitneyu(x, y)[1]\n",
    "    \n",
    "#### \n",
    "# Plot figures of distribution p-Values\n",
    "plt.figure()\n",
    "ax = plt.gca()\n",
    "ax.hist(p, bins=20)\n",
    "plt.show()"
   ]
  },
  {
   "cell_type": "markdown",
   "metadata": {},
   "source": [
    "### Apply to empirical Data"
   ]
  },
  {
   "cell_type": "code",
   "execution_count": 3,
   "metadata": {},
   "outputs": [],
   "source": [
    "### Load Big Data Frame (only ancients)\n",
    "df = pd.read_csv(\"./Empirical/roh_all_inds.csv\", sep='\\t')\n",
    "df = df[df[\"age\"]>0]\n",
    "df[\"sum_roh_4-8\"] = df[\"sum_roh>4\"] - df[\"sum_roh>8\"]"
   ]
  },
  {
   "cell_type": "code",
   "execution_count": 34,
   "metadata": {},
   "outputs": [],
   "source": [
    "def test_mwu(df, region=\"Iberia\", clst1=\"Early Neolithic\", clst2=\"Neolithic\", \n",
    "             col=\"sum_roh_4-8\", prt=True, alternative='two-sided'):\n",
    "    \"\"\"MWann Whitney U-Test. Print and return result and nr Individuals in each group\n",
    "    df: Dataframe to test on\n",
    "    prt: Whether to print the results\"\"\"\n",
    "    df_t = df[df[\"region\"]==region]\n",
    "    df1 = df_t[df_t[\"clst\"]==clst1]\n",
    "    df2 = df_t[df_t[\"clst\"]==clst2]\n",
    "    \n",
    "    test = mannwhitneyu(df1[col], df2[col], alternative=alternative)\n",
    "    if prt:\n",
    "        print(test)\n",
    "        print(f\"Loaded {len(df_t)} Samples from Region {region}\")\n",
    "        print(f\"Loaded {len(df1)} Samples from clst {clst1}\")\n",
    "        print(f\"Loaded {len(df2)} Samples from clst {clst2}\")\n",
    "        \n",
    "    return test, len(df1), len(df2)"
   ]
  },
  {
   "cell_type": "code",
   "execution_count": 35,
   "metadata": {},
   "outputs": [
    {
     "name": "stdout",
     "output_type": "stream",
     "text": [
      "MannwhitneyuResult(statistic=19.0, pvalue=0.8303242576557953)\n",
      "Loaded 134 Samples from Region Iberia\n",
      "Loaded 7 Samples from clst Mesolithic\n",
      "Loaded 6 Samples from clst Early Neolithic\n",
      "MannwhitneyuResult(statistic=128.0, pvalue=0.0038670303618025593)\n",
      "Loaded 134 Samples from Region Iberia\n",
      "Loaded 6 Samples from clst Early Neolithic\n",
      "Loaded 24 Samples from clst Neolithic\n",
      "MannwhitneyuResult(statistic=158.0, pvalue=0.000492384005230395)\n",
      "Loaded 134 Samples from Region Iberia\n",
      "Loaded 7 Samples from clst Mesolithic\n",
      "Loaded 24 Samples from clst Neolithic\n",
      "\n",
      "\n",
      "MannwhitneyuResult(statistic=302.0, pvalue=0.06454672358949157)\n",
      "Loaded 158 Samples from Region Balkans\n",
      "Loaded 37 Samples from clst Mesolithic\n",
      "Loaded 12 Samples from clst Early Neolithic\n",
      "MannwhitneyuResult(statistic=238.0, pvalue=0.22913306771562947)\n",
      "Loaded 158 Samples from Region Balkans\n",
      "Loaded 12 Samples from clst Early Neolithic\n",
      "Loaded 32 Samples from clst Neolithic\n",
      "MannwhitneyuResult(statistic=970.0, pvalue=5.524253515214728e-06)\n",
      "Loaded 158 Samples from Region Balkans\n",
      "Loaded 37 Samples from clst Mesolithic\n",
      "Loaded 32 Samples from clst Neolithic\n",
      "\n",
      "\n",
      "MannwhitneyuResult(statistic=27.0, pvalue=0.016043952137292594)\n",
      "Loaded 124 Samples from Region Rome\n",
      "Loaded 3 Samples from clst Mesolithic\n",
      "Loaded 9 Samples from clst Early Neolithic\n",
      "MannwhitneyuResult(statistic=0.0, pvalue=0.0)\n",
      "Loaded 124 Samples from Region Rome\n",
      "Loaded 9 Samples from clst Early Neolithic\n",
      "Loaded 0 Samples from clst Neolithic\n",
      "MannwhitneyuResult(statistic=0.0, pvalue=0.0)\n",
      "Loaded 124 Samples from Region Rome\n",
      "Loaded 3 Samples from clst Mesolithic\n",
      "Loaded 0 Samples from clst Neolithic\n",
      "\n",
      "\n",
      "MannwhitneyuResult(statistic=80.0, pvalue=0.0021188504897908366)\n",
      "Loaded 125 Samples from Region Central Europe\n",
      "Loaded 4 Samples from clst Mesolithic\n",
      "Loaded 20 Samples from clst Early Neolithic\n",
      "MannwhitneyuResult(statistic=30.0, pvalue=0.18355485874981248)\n",
      "Loaded 125 Samples from Region Central Europe\n",
      "Loaded 20 Samples from clst Early Neolithic\n",
      "Loaded 5 Samples from clst Neolithic\n",
      "MannwhitneyuResult(statistic=20.0, pvalue=0.019964453305216043)\n",
      "Loaded 125 Samples from Region Central Europe\n",
      "Loaded 4 Samples from clst Mesolithic\n",
      "Loaded 5 Samples from clst Neolithic\n",
      "\n",
      "\n",
      "MannwhitneyuResult(statistic=0.0, pvalue=0.0)\n",
      "Loaded 26 Samples from Region Black Sea\n",
      "Loaded 4 Samples from clst Mesolithic\n",
      "Loaded 0 Samples from clst Early Neolithic\n",
      "MannwhitneyuResult(statistic=0.0, pvalue=0.0)\n",
      "Loaded 26 Samples from Region Black Sea\n",
      "Loaded 0 Samples from clst Early Neolithic\n",
      "Loaded 14 Samples from clst Neolithic\n",
      "MannwhitneyuResult(statistic=39.0, pvalue=0.2648127507746577)\n",
      "Loaded 26 Samples from Region Black Sea\n",
      "Loaded 4 Samples from clst Mesolithic\n",
      "Loaded 14 Samples from clst Neolithic\n",
      "\n",
      "\n",
      "MannwhitneyuResult(statistic=0.0, pvalue=0.0)\n",
      "Loaded 46 Samples from Region Baltic Sea\n",
      "Loaded 26 Samples from clst Mesolithic\n",
      "Loaded 0 Samples from clst Early Neolithic\n",
      "MannwhitneyuResult(statistic=0.0, pvalue=0.0)\n",
      "Loaded 46 Samples from Region Baltic Sea\n",
      "Loaded 0 Samples from clst Early Neolithic\n",
      "Loaded 9 Samples from clst Neolithic\n",
      "MannwhitneyuResult(statistic=138.0, pvalue=0.4390948286289583)\n",
      "Loaded 46 Samples from Region Baltic Sea\n",
      "Loaded 26 Samples from clst Mesolithic\n",
      "Loaded 9 Samples from clst Neolithic\n",
      "\n",
      "\n"
     ]
    },
    {
     "name": "stderr",
     "output_type": "stream",
     "text": [
      "/home/hringbauer/.local/lib/python3.7/site-packages/scipy/stats/stats.py:5700: RuntimeWarning: divide by zero encountered in double_scalars\n",
      "  z = (bigu - meanrank) / sd\n"
     ]
    }
   ],
   "source": [
    "for reg in [\"Iberia\", \"Balkans\", \"Rome\", \"Central Europe\", \"Black Sea\", \"Baltic Sea\"]:\n",
    "    test_mwu(df, region=reg, clst1=\"Mesolithic\", clst2=\"Early Neolithic\")\n",
    "    test_mwu(df, region=reg, clst1=\"Early Neolithic\", clst2=\"Neolithic\")\n",
    "    test_mwu(df, region=reg, clst1=\"Mesolithic\", clst2=\"Neolithic\")\n",
    "    print(\"\\n\")"
   ]
  },
  {
   "cell_type": "markdown",
   "metadata": {},
   "source": [
    "# Produce Table for Paper\"\n",
    "Produce Dataframes - these are then concatenated and saved into ./tablesout"
   ]
  },
  {
   "cell_type": "code",
   "execution_count": 36,
   "metadata": {},
   "outputs": [
    {
     "name": "stderr",
     "output_type": "stream",
     "text": [
      "/home/hringbauer/.local/lib/python3.7/site-packages/scipy/stats/stats.py:5700: RuntimeWarning: divide by zero encountered in double_scalars\n",
      "  z = (bigu - meanrank) / sd\n"
     ]
    }
   ],
   "source": [
    "regions = [\"Iberia\", \"Balkans\", \"Rome\", \"Central Europe\", \"Black Sea\", \"Baltic Sea\"]\n",
    "periods = [\"Mesolithic\", \"Early Neolithic\", \"Neolithic\"]\n",
    "prt = False\n",
    "\n",
    "p1_vec, p2_vec, reg_vec = [], [], []\n",
    "n1_vec, n2_vec = [], []\n",
    "st_vec, p_vec = [], []\n",
    "\n",
    "for reg in regions:\n",
    "    for ps in it.combinations(periods, 2):\n",
    "        t, i1, i2 = test_mwu(df, region=reg, clst1=ps[0], clst2=ps[1], prt=prt)\n",
    "        if (i1>0) and (i2>0):\n",
    "            n1_vec.append(i1)\n",
    "            n2_vec.append(i2)\n",
    "            p1_vec.append(ps[0])\n",
    "            p2_vec.append(ps[1])\n",
    "            reg_vec.append(reg)\n",
    "            st_vec.append(t[0])\n",
    "            p_vec.append(t[1])\n",
    "            \n",
    "#### Combine into one dataframe\n",
    "df_res = pd.DataFrame({\"Region\":reg_vec, \"Period 1\": p1_vec, \"Period 2\": p2_vec, \n",
    "              \"n1\": n1_vec, \"n2\": n2_vec, \"Statistic\": st_vec, \"p-Value\": p_vec})"
   ]
  },
  {
   "cell_type": "markdown",
   "metadata": {},
   "source": [
    "### Combine and save final dataframe"
   ]
  },
  {
   "cell_type": "code",
   "execution_count": 37,
   "metadata": {},
   "outputs": [
    {
     "name": "stdout",
     "output_type": "stream",
     "text": [
      "Saved to ./TablesOut/p_vals_shifts.csv\n"
     ]
    }
   ],
   "source": [
    "savepath = \"./TablesOut/p_vals_shifts.csv\"\n",
    "df_res.to_csv(savepath, index=False, header=True)\n",
    "print(f\"Saved to {savepath}\")"
   ]
  },
  {
   "cell_type": "code",
   "execution_count": 38,
   "metadata": {},
   "outputs": [
    {
     "data": {
      "text/html": [
       "<div>\n",
       "<style scoped>\n",
       "    .dataframe tbody tr th:only-of-type {\n",
       "        vertical-align: middle;\n",
       "    }\n",
       "\n",
       "    .dataframe tbody tr th {\n",
       "        vertical-align: top;\n",
       "    }\n",
       "\n",
       "    .dataframe thead th {\n",
       "        text-align: right;\n",
       "    }\n",
       "</style>\n",
       "<table border=\"1\" class=\"dataframe\">\n",
       "  <thead>\n",
       "    <tr style=\"text-align: right;\">\n",
       "      <th></th>\n",
       "      <th>Region</th>\n",
       "      <th>Period 1</th>\n",
       "      <th>Period 2</th>\n",
       "      <th>n1</th>\n",
       "      <th>n2</th>\n",
       "      <th>Statistic</th>\n",
       "      <th>p-Value</th>\n",
       "    </tr>\n",
       "  </thead>\n",
       "  <tbody>\n",
       "    <tr>\n",
       "      <th>0</th>\n",
       "      <td>Iberia</td>\n",
       "      <td>Mesolithic</td>\n",
       "      <td>Early Neolithic</td>\n",
       "      <td>7</td>\n",
       "      <td>6</td>\n",
       "      <td>19.0</td>\n",
       "      <td>0.830324</td>\n",
       "    </tr>\n",
       "    <tr>\n",
       "      <th>1</th>\n",
       "      <td>Iberia</td>\n",
       "      <td>Mesolithic</td>\n",
       "      <td>Neolithic</td>\n",
       "      <td>7</td>\n",
       "      <td>24</td>\n",
       "      <td>158.0</td>\n",
       "      <td>0.000492</td>\n",
       "    </tr>\n",
       "    <tr>\n",
       "      <th>2</th>\n",
       "      <td>Iberia</td>\n",
       "      <td>Early Neolithic</td>\n",
       "      <td>Neolithic</td>\n",
       "      <td>6</td>\n",
       "      <td>24</td>\n",
       "      <td>128.0</td>\n",
       "      <td>0.003867</td>\n",
       "    </tr>\n",
       "    <tr>\n",
       "      <th>3</th>\n",
       "      <td>Balkans</td>\n",
       "      <td>Mesolithic</td>\n",
       "      <td>Early Neolithic</td>\n",
       "      <td>37</td>\n",
       "      <td>12</td>\n",
       "      <td>302.0</td>\n",
       "      <td>0.064547</td>\n",
       "    </tr>\n",
       "    <tr>\n",
       "      <th>4</th>\n",
       "      <td>Balkans</td>\n",
       "      <td>Mesolithic</td>\n",
       "      <td>Neolithic</td>\n",
       "      <td>37</td>\n",
       "      <td>32</td>\n",
       "      <td>970.0</td>\n",
       "      <td>0.000006</td>\n",
       "    </tr>\n",
       "    <tr>\n",
       "      <th>5</th>\n",
       "      <td>Balkans</td>\n",
       "      <td>Early Neolithic</td>\n",
       "      <td>Neolithic</td>\n",
       "      <td>12</td>\n",
       "      <td>32</td>\n",
       "      <td>238.0</td>\n",
       "      <td>0.229133</td>\n",
       "    </tr>\n",
       "    <tr>\n",
       "      <th>6</th>\n",
       "      <td>Rome</td>\n",
       "      <td>Mesolithic</td>\n",
       "      <td>Early Neolithic</td>\n",
       "      <td>3</td>\n",
       "      <td>9</td>\n",
       "      <td>27.0</td>\n",
       "      <td>0.016044</td>\n",
       "    </tr>\n",
       "    <tr>\n",
       "      <th>7</th>\n",
       "      <td>Central Europe</td>\n",
       "      <td>Mesolithic</td>\n",
       "      <td>Early Neolithic</td>\n",
       "      <td>4</td>\n",
       "      <td>20</td>\n",
       "      <td>80.0</td>\n",
       "      <td>0.002119</td>\n",
       "    </tr>\n",
       "    <tr>\n",
       "      <th>8</th>\n",
       "      <td>Central Europe</td>\n",
       "      <td>Mesolithic</td>\n",
       "      <td>Neolithic</td>\n",
       "      <td>4</td>\n",
       "      <td>5</td>\n",
       "      <td>20.0</td>\n",
       "      <td>0.019964</td>\n",
       "    </tr>\n",
       "    <tr>\n",
       "      <th>9</th>\n",
       "      <td>Central Europe</td>\n",
       "      <td>Early Neolithic</td>\n",
       "      <td>Neolithic</td>\n",
       "      <td>20</td>\n",
       "      <td>5</td>\n",
       "      <td>30.0</td>\n",
       "      <td>0.183555</td>\n",
       "    </tr>\n",
       "    <tr>\n",
       "      <th>10</th>\n",
       "      <td>Black Sea</td>\n",
       "      <td>Mesolithic</td>\n",
       "      <td>Neolithic</td>\n",
       "      <td>4</td>\n",
       "      <td>14</td>\n",
       "      <td>39.0</td>\n",
       "      <td>0.264813</td>\n",
       "    </tr>\n",
       "    <tr>\n",
       "      <th>11</th>\n",
       "      <td>Baltic Sea</td>\n",
       "      <td>Mesolithic</td>\n",
       "      <td>Neolithic</td>\n",
       "      <td>26</td>\n",
       "      <td>9</td>\n",
       "      <td>138.0</td>\n",
       "      <td>0.439095</td>\n",
       "    </tr>\n",
       "  </tbody>\n",
       "</table>\n",
       "</div>"
      ],
      "text/plain": [
       "            Region         Period 1         Period 2  n1  n2  Statistic  \\\n",
       "0           Iberia       Mesolithic  Early Neolithic   7   6       19.0   \n",
       "1           Iberia       Mesolithic        Neolithic   7  24      158.0   \n",
       "2           Iberia  Early Neolithic        Neolithic   6  24      128.0   \n",
       "3          Balkans       Mesolithic  Early Neolithic  37  12      302.0   \n",
       "4          Balkans       Mesolithic        Neolithic  37  32      970.0   \n",
       "5          Balkans  Early Neolithic        Neolithic  12  32      238.0   \n",
       "6             Rome       Mesolithic  Early Neolithic   3   9       27.0   \n",
       "7   Central Europe       Mesolithic  Early Neolithic   4  20       80.0   \n",
       "8   Central Europe       Mesolithic        Neolithic   4   5       20.0   \n",
       "9   Central Europe  Early Neolithic        Neolithic  20   5       30.0   \n",
       "10       Black Sea       Mesolithic        Neolithic   4  14       39.0   \n",
       "11      Baltic Sea       Mesolithic        Neolithic  26   9      138.0   \n",
       "\n",
       "     p-Value  \n",
       "0   0.830324  \n",
       "1   0.000492  \n",
       "2   0.003867  \n",
       "3   0.064547  \n",
       "4   0.000006  \n",
       "5   0.229133  \n",
       "6   0.016044  \n",
       "7   0.002119  \n",
       "8   0.019964  \n",
       "9   0.183555  \n",
       "10  0.264813  \n",
       "11  0.439095  "
      ]
     },
     "execution_count": 38,
     "metadata": {},
     "output_type": "execute_result"
    }
   ],
   "source": [
    "df_res"
   ]
  },
  {
   "cell_type": "markdown",
   "metadata": {},
   "source": [
    "# Area 51"
   ]
  }
 ],
 "metadata": {
  "kernelspec": {
   "display_name": "Python 3",
   "language": "python",
   "name": "python3"
  },
  "language_info": {
   "codemirror_mode": {
    "name": "ipython",
    "version": 3
   },
   "file_extension": ".py",
   "mimetype": "text/x-python",
   "name": "python",
   "nbconvert_exporter": "python",
   "pygments_lexer": "ipython3",
   "version": "3.7.0"
  }
 },
 "nbformat": 4,
 "nbformat_minor": 2
}
