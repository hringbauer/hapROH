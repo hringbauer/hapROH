{
 "cells": [
  {
   "cell_type": "markdown",
   "metadata": {},
   "source": [
    "# Compare ROH between groups\n",
    "Load empirical ROH Dataframe, and compare ROH sharing between groups with statistical tests (producing p-Values)\n",
    "Assumes data is ROH analyzed, and pre-processed (into one dataframe, with region and clst Columns set."
   ]
  },
  {
   "cell_type": "code",
   "execution_count": 1,
   "metadata": {},
   "outputs": [
    {
     "name": "stdout",
     "output_type": "stream",
     "text": [
      "midway2-0401.rcc.local\n",
      "Midway jnovmbre partition detected.\n",
      "/project2/jnovembre/hringbauer/HAPSBURG\n",
      "CPU Count: 28\n"
     ]
    }
   ],
   "source": [
    "import pandas as pd\n",
    "import numpy as np\n",
    "import matplotlib.pyplot as plt\n",
    "import socket\n",
    "import os as os\n",
    "import sys as sys\n",
    "import multiprocessing as mp\n",
    "import itertools as it\n",
    "from math import log10, floor\n",
    "\n",
    "socket_name = socket.gethostname()\n",
    "print(socket_name)\n",
    "if socket_name == \"VioletQueen\":\n",
    "    path = \"/home/harald/git/HAPSBURG/\"   # The Path on Harald's machine\n",
    "elif socket_name.startswith(\"midway2\"):\n",
    "    print(\"Midway jnovmbre partition detected.\")\n",
    "    path = \"/project2/jnovembre/hringbauer/HAPSBURG/\"  # The Path on Midway Cluster\n",
    "else: \n",
    "    raise RuntimeWarning(\"Not compatible machine. Check!!\")\n",
    "    \n",
    "from scipy.stats import mannwhitneyu\n",
    "\n",
    "os.chdir(path)  # Set the right Path (in line with Atom default)\n",
    "print(os.getcwd()) # Show the current working directory. Should be HAPSBURG/Notebooks/ParallelRuns\n",
    "print(f\"CPU Count: {mp.cpu_count()}\")"
   ]
  },
  {
   "cell_type": "markdown",
   "metadata": {},
   "source": [
    "### Mann Whitney U Test"
   ]
  },
  {
   "cell_type": "code",
   "execution_count": 175,
   "metadata": {},
   "outputs": [],
   "source": [
    "def test_mwu(df, region1=\"Iberia\", region2=\"Iberia\", clst1=\"Early Neolithic\", clst2=\"Neolithic\", \n",
    "             col=\"sum_roh_4-8\", prt=True, alternative='two-sided', col_group=\"region\"):\n",
    "    \"\"\"MWann Whitney U-Test. Print and return result and nr Individuals in each group\n",
    "    df: Dataframe to test on\n",
    "    prt: Whether to print the results\"\"\"\n",
    "    df1 = df[(df[\"clst\"]==clst1) & (df[col_group]==region1)]\n",
    "    df2 = df[(df[\"clst\"]==clst2) & (df[col_group]==region2)]\n",
    "    \n",
    "    test = mannwhitneyu(df1[col], df2[col], alternative=alternative)\n",
    "    if prt:\n",
    "        print(test)\n",
    "        print(f\"Loaded {len(df1)} Samples from clst {clst1} {region1}\")\n",
    "        print(f\"Loaded {len(df2)} Samples from clst {clst2} {region2}\")\n",
    "        \n",
    "    return test, len(df1), len(df2)\n",
    "\n",
    "def test_mwu_groups(df1, df2, col=\"sum_roh_4-8\",\n",
    "                    prt=True, alternative='two-sided'):\n",
    "    \"\"\"Compare two Dataframes with values in col with mannwhitneyu Test\"\"\"\n",
    "    test = mannwhitneyu(df1[col], df2[col], alternative=alternative)\n",
    "    mean2 = np.mean(df2[col])\n",
    "    mean1 = np.mean(df1[col])\n",
    "    mean_diff =  mean2 - mean1\n",
    "    \n",
    "    if prt:\n",
    "        print(test)\n",
    "        print(f\"Loaded {len(df1)} Samples Set1\")\n",
    "        print(f\"Loaded {len(df2)} Samples Set2\") \n",
    "        print(f\"Mean 1: {mean1:.4f}\")\n",
    "        print(f\"Mean 2: {mean2:.4f}\")\n",
    "        print(f\"Mean difference 2 - 1: {mean_diff:.4f}\")\n",
    "    return test, len(df1), len(df2)\n",
    "\n",
    "def load_ROH_nolong(path=\"./Empirical/roh_all_inds_final_v42.csv\",\n",
    "                    cm=20, cutoff=50):\n",
    "    \"\"\"Load Dataframe without ROH\"\"\"\n",
    "    df = pd.read_csv(path, sep='\\t')\n",
    "    df[\"sum_roh_4-8\"] = df[\"sum_roh>4\"] - df[\"sum_roh>8\"]\n",
    "    print(f\"Loaded {len(df)} Individuals\")\n",
    "    df = df[df[f\"sum_roh>{cm}\"]<cutoff]\n",
    "    print(f\"Filtered to {len(df)} Individuals with no long ROH\")\n",
    "    return df\n",
    "\n",
    "def compare_groups(df1, df2, col=\"sum_roh_4-8\",\n",
    "                   label1=\"\", label2=\"\",\n",
    "                   alternative=\"two-sided\", sig=2, pr=False):\n",
    "    \n",
    "    df = pd.DataFrame({\"Group A\":[label1], \"Group B\":[label2]})\n",
    "    \n",
    "    ### Set the summary Stats\n",
    "    df[\"Median A\"] = np.median(df1[col])\n",
    "    df[\"#Zero A\"] = np.sum(df1[col]==0) \n",
    "    df[\"# A\"]= len(df1)\n",
    "    df[\"Median B\"] = np.median(df2[col])\n",
    "    df[\"#Zero B\"] = np.sum(df2[col]==0)\n",
    "    df[\"# B\"] = len(df2)\n",
    "    \n",
    "    ### Set the p-Value\n",
    "    test = mannwhitneyu(df1[col], df2[col], alternative=alternative)\n",
    "    #df[\"p\"] = round_sig(test[1], sig=sig)\n",
    "    df[\"p\"] = test[1]\n",
    "    df[\"p\"] = df[\"p\"].apply(lambda x: '{:.1e}'.format(x))\n",
    "    \n",
    "    if pr:\n",
    "        print_latex(df)\n",
    "    return df\n",
    "\n",
    "def round_sig(x, sig=2):\n",
    "    \"\"\"Round to Significant digits.\n",
    "    Return rounded number\"\"\"\n",
    "    return round(x, sig-int(floor(log10(abs(x))))-1)\n",
    "\n",
    "####################################################################\n",
    "\n",
    "def prep_distance_matrix(x,y):\n",
    "    \"\"\"Prepare a Distance Matrix\"\"\"\n",
    "    z=np.concatenate((x,y))\n",
    "    d_mat = np.abs(z-z[:,None])\n",
    "    dm = DistanceMatrix(d_mat)\n",
    "    return dm\n",
    "\n",
    "def anova_2group(x, y, reps=999):\n",
    "    \"\"\"Calculate Anove for 2Group. Return Statistic object\"\"\"\n",
    "    dm = prep_distance_matrix(x,y)\n",
    "    grouping = [\"A\"]*len(x) + [\"B\"]*len(y)\n",
    "    pma = permanova(dm, grouping, permutations=reps)\n",
    "    return pma\n",
    "\n",
    "####################################################################\n",
    "\n",
    "def print_latex(df, index=False,  float_format=\"%.1f\", ret=False):\n",
    "    \"\"\"Print Latex table from Dataframe\"\"\"\n",
    "    out = df.to_latex(index=index, float_format=float_format)\n",
    "    print(out)\n",
    "\n",
    "    if ret:\n",
    "        return out\n",
    "    \n"
   ]
  },
  {
   "cell_type": "markdown",
   "metadata": {},
   "source": [
    "# Early HG vrs later HG"
   ]
  },
  {
   "cell_type": "code",
   "execution_count": 179,
   "metadata": {},
   "outputs": [
    {
     "name": "stdout",
     "output_type": "stream",
     "text": [
      "Loaded 3732 Individuals\n",
      "Filtered to 3497 Individuals with no long ROH\n",
      "Filtered to 1739 Inviduals in age range\n"
     ]
    }
   ],
   "source": [
    "df = load_ROH_nolong(path=\"./Empirical/roh_all_inds_final_v42.csv\")\n",
    "df1 = df[(df[\"age\"]>0) & (df[\"age\"]<100000)]\n",
    "print(f\"Filtered to {len(df1)} Inviduals in age range\")\n",
    "df_hg = df1[(df1[\"economy\"]==\"Hunter Gatherer\")]"
   ]
  },
  {
   "cell_type": "code",
   "execution_count": 167,
   "metadata": {},
   "outputs": [],
   "source": [
    "df_hg1 =  df_hg[df_hg[\"age\"]>10e3]\n",
    "df_hg2 =  df_hg[(df_hg[\"age\"]>8e3) & (df_hg[\"age\"]<10e3)]"
   ]
  },
  {
   "cell_type": "code",
   "execution_count": 181,
   "metadata": {},
   "outputs": [
    {
     "name": "stdout",
     "output_type": "stream",
     "text": [
      "\\begin{tabular}{llrrrrrrl}\n",
      "\\toprule\n",
      "     Group A &       Group B &  Median A &  \\#Zero A &  \\# A &  Median B &  \\#Zero B &  \\# B &        p \\\\\n",
      "\\midrule\n",
      " HG > 10k BP &  HG  8-10k BP &      30.5 &        0 &   22 &      14.1 &        3 &   37 &  1.5e-04 \\\\\n",
      "\\bottomrule\n",
      "\\end{tabular}\n",
      "\n"
     ]
    }
   ],
   "source": [
    "df_add = compare_groups(df_hg1, df_hg2, label1 = \"HG > 10k BP\",  label2 = \"HG  8-10k BP\", pr=True)"
   ]
  },
  {
   "cell_type": "code",
   "execution_count": null,
   "metadata": {},
   "outputs": [],
   "source": [
    "df_hg1"
   ]
  },
  {
   "cell_type": "markdown",
   "metadata": {},
   "source": [
    "# EEF vrs HG Table [Paper]"
   ]
  },
  {
   "cell_type": "code",
   "execution_count": 82,
   "metadata": {},
   "outputs": [
    {
     "name": "stdout",
     "output_type": "stream",
     "text": [
      "Loaded 3732 Individuals\n",
      "Filtered to 3497 Individuals with no long ROH\n",
      "Filtered to 1739 Inviduals in age range\n"
     ]
    }
   ],
   "source": [
    "df = load_ROH_nolong(path=\"./Empirical/roh_all_inds_final_v42.csv\")\n",
    "df1 = df[(df[\"age\"]>0) & (df[\"age\"]<100000)]\n",
    "print(f\"Filtered to {len(df1)} Inviduals in age range\")\n",
    "df_hg = df1[(df1[\"economy\"]==\"Hunter Gatherer\")]\n",
    "df_ef = df1[(df1[\"economy\"]==\"Agricultural\")]\n",
    "#set(df_hg[\"region\"])"
   ]
  },
  {
   "cell_type": "markdown",
   "metadata": {},
   "source": [
    "### All HG vrs Agriculturalists"
   ]
  },
  {
   "cell_type": "code",
   "execution_count": 86,
   "metadata": {},
   "outputs": [
    {
     "name": "stdout",
     "output_type": "stream",
     "text": [
      "\\begin{tabular}{llrrrrrrl}\n",
      "\\toprule\n",
      "Group A &      Group B &  Median A &  \\#Zero A &  \\# A &  Median B &  \\#Zero B &  \\# B &         p \\\\\n",
      "\\midrule\n",
      " All HG &  All Farmers &      17.0 &       16 &  138 &       0.0 &      543 &  921 &  2.31e-47 \\\\\n",
      "\\bottomrule\n",
      "\\end{tabular}\n",
      "\n"
     ]
    }
   ],
   "source": [
    "df_add = compare_groups(df_hg, df_ef, label1 = \"All HG\",  label2 = \"All Farmers\", pr=True)"
   ]
  },
  {
   "cell_type": "markdown",
   "metadata": {},
   "source": [
    "# HG vrs early Agriculturalists"
   ]
  },
  {
   "cell_type": "code",
   "execution_count": 171,
   "metadata": {},
   "outputs": [
    {
     "name": "stdout",
     "output_type": "stream",
     "text": [
      "Loaded 3732 Individuals\n",
      "Filtered to 3497 Individuals with no long ROH\n",
      "Filtered to 1739 Inviduals in age range\n",
      "Aegan: Reduced to 27/47, Age Max: 8505.0\n",
      "Balkans: Reduced to 41/101, Age Max: 7836.0\n",
      "Britain: Reduced to 90/135, Age Max: 5770.0\n",
      "Central Europe: Reduced to 25/129, Age Max: 7140.0\n",
      "Iberia: Reduced to 20/128, Age Max: 7348.0\n",
      "Rome: Reduced to 11/120, Age Max: 7984.0\n",
      "Steppe: Reduced to 10/10, Age Max: 5456.0\n",
      "Black Sea: Reduced to 3/3, Age Max: 4754.0\n",
      "North Africa: Reduced to 1/1, Age Max: 3635.0\n",
      "Baltic Sea: Reduced to 10/10, Age Max: 1431.0\n"
     ]
    }
   ],
   "source": [
    "df = load_ROH_nolong(path=\"./Empirical/roh_all_inds_final_v42.csv\")\n",
    "df1 = df[(df[\"age\"]>0) & (df[\"age\"]<100000)]\n",
    "print(f\"Filtered to {len(df1)} Inviduals in age range\")\n",
    "df_hg = df1[(df1[\"economy\"]==\"Hunter Gatherer\")]\n",
    "df_ef = df1[(df1[\"economy\"]==\"Agricultural\")]\n",
    "\n",
    "regions = ['Aegan', 'Balkans', \n",
    "           'Britain', 'Central Europe',\n",
    "           'Iberia', 'Rome', 'Steppe', \n",
    "           'Black Sea', 'North Africa',  \"Baltic Sea\"]\n",
    "# 'North Africa'  'Baltic Sea', \n",
    " #          'Black Sea'\n",
    "df_efs = []  # Fill up with \n",
    "df_vec = []\n",
    "\n",
    "for r in regions:\n",
    "    df1 = df_hg[df_hg[\"region\"]==r]\n",
    "    df2 = df_ef[df_ef[\"region\"]==r]\n",
    "    \n",
    "    # Set age boundary\n",
    "    age_max = np.max(df2[\"age\"])\n",
    "    df3 = df2[df2[\"age\"]> (age_max-2000)].reset_index()\n",
    "    df_efs.append(df3)\n",
    "    print(f\"{r}: Reduced to {len(df3)}/{len(df2)}, Age Max: {age_max}\")\n",
    "    label1 = r + \"-HG\"\n",
    "    label2 = r + \"-EF\"\n",
    "    df_add = compare_groups(df1, df3, label1 = label1,  label2 = label2)\n",
    "    df_vec.append(df_add)\n",
    "df_res = pd.concat(df_vec)"
   ]
  },
  {
   "cell_type": "code",
   "execution_count": 172,
   "metadata": {},
   "outputs": [
    {
     "name": "stdout",
     "output_type": "stream",
     "text": [
      "\\begin{tabular}{llrrrrrrl}\n",
      "\\toprule\n",
      "           Group A &            Group B &  Median A &  \\#Zero A &  \\# A &  Median B &  \\#Zero B &  \\# B &        p \\\\\n",
      "\\midrule\n",
      "          Aegan-HG &           Aegan-EF &      30.9 &        0 &    1 &       0.0 &       18 &   27 &  6.0e-02 \\\\\n",
      "        Balkans-HG &         Balkans-EF &      13.3 &        3 &   37 &       4.2 &       17 &   41 &  5.5e-06 \\\\\n",
      "        Britain-HG &         Britain-EF &      39.8 &        0 &    1 &       5.6 &       18 &   90 &  8.9e-02 \\\\\n",
      " Central Europe-HG &  Central Europe-EF &      42.8 &        0 &    1 &       0.0 &       15 &   25 &  7.5e-02 \\\\\n",
      "         Iberia-HG &          Iberia-EF &      25.6 &        0 &    4 &       4.7 &        7 &   20 &  1.5e-01 \\\\\n",
      "           Rome-HG &            Rome-EF &      65.8 &        0 &    2 &       4.4 &        5 &   11 &  3.3e-02 \\\\\n",
      "         Steppe-HG &          Steppe-EF &      39.2 &        2 &   12 &       7.1 &        3 &   10 &  1.9e-02 \\\\\n",
      "      Black Sea-HG &       Black Sea-EF &      14.7 &        1 &   14 &      15.1 &        1 &    3 &  5.3e-01 \\\\\n",
      "   North Africa-HG &    North Africa-EF &      29.1 &        0 &    3 &       0.0 &        1 &    1 &  3.7e-01 \\\\\n",
      "     Baltic Sea-HG &      Baltic Sea-EF &      21.8 &        5 &   34 &       0.0 &        6 &   10 &  5.5e-04 \\\\\n",
      "\\bottomrule\n",
      "\\end{tabular}\n",
      "\n"
     ]
    }
   ],
   "source": [
    "print(df_res.to_latex(index=False,  float_format=\"%.1f\"))"
   ]
  },
  {
   "cell_type": "markdown",
   "metadata": {},
   "source": [
    "### HG vrs Early Farmers \n",
    "Needs above function"
   ]
  },
  {
   "cell_type": "code",
   "execution_count": 178,
   "metadata": {},
   "outputs": [
    {
     "name": "stdout",
     "output_type": "stream",
     "text": [
      "\\begin{tabular}{llrrrrrrl}\n",
      "\\toprule\n",
      "Group A &             Group B &  Median A &  \\#Zero A &  \\# A &  Median B &  \\#Zero B &  \\# B &        p \\\\\n",
      "\\midrule\n",
      " All HG &  Early Farmers (EF) &      17.0 &       16 &  138 &       4.5 &       91 &  238 &  3.1e-22 \\\\\n",
      "\\bottomrule\n",
      "\\end{tabular}\n",
      "\n"
     ]
    }
   ],
   "source": [
    "df1 = pd.concat(df_efs)\n",
    "df_res = compare_groups(df_hg, df1, label1 = \"All HG\",  label2 = \"Early Farmers (EF)\", pr=True)"
   ]
  },
  {
   "cell_type": "markdown",
   "metadata": {},
   "source": [
    "### Iberia"
   ]
  },
  {
   "cell_type": "code",
   "execution_count": 103,
   "metadata": {},
   "outputs": [
    {
     "name": "stdout",
     "output_type": "stream",
     "text": [
      "Loaded 3732 Individuals\n",
      "Filtered to 3497 Individuals with no long ROH\n"
     ]
    }
   ],
   "source": [
    "df = load_ROH_nolong(path=\"./Empirical/roh_all_inds_final_v42.csv\")\n",
    "df_ef = df[(df[\"economy\"]==\"Agricultural\")]\n",
    "df1 = df_ef[df_ef[\"pop\"].str.contains(\"Iberia_EN\")]\n",
    "df2 = df_ef[df_ef[\"pop\"].str.contains(\"Iberia_MN\")]"
   ]
  },
  {
   "cell_type": "code",
   "execution_count": 106,
   "metadata": {},
   "outputs": [
    {
     "name": "stdout",
     "output_type": "stream",
     "text": [
      "\\begin{tabular}{llrrrrrrl}\n",
      "\\toprule\n",
      "   Group A &    Group B &  Median A &  \\#Zero A &  \\# A &  Median B &  \\#Zero B &  \\# B &         p \\\\\n",
      "\\midrule\n",
      " Iberia-EN &  Iberia-MN &      21.8 &        5 &   34 &       0.0 &        6 &   10 &  5.45e-04 \\\\\n",
      "\\bottomrule\n",
      "\\end{tabular}\n",
      "\n"
     ]
    }
   ],
   "source": [
    "df_add = compare_groups(df1, df2, label1 = \"Iberia-EN\",  label2 = \"Iberia-MN\", pr=True)"
   ]
  },
  {
   "cell_type": "markdown",
   "metadata": {},
   "source": [
    "### Aceramic to Anatolia-N"
   ]
  },
  {
   "cell_type": "code",
   "execution_count": 127,
   "metadata": {},
   "outputs": [
    {
     "name": "stdout",
     "output_type": "stream",
     "text": [
      "Loaded 3732 Individuals\n",
      "Filtered to 3497 Individuals with no long ROH\n"
     ]
    }
   ],
   "source": [
    "df = load_ROH_nolong(path=\"./Empirical/roh_all_inds_final_v42.csv\")\n",
    "\n",
    "df_ac = df[(df[\"economy\"]==\"Aceramic Farmer\")]\n",
    "df1 = df_ac[df_ac[\"pop\"].str.contains(\"Anatolia\")]\n",
    "\n",
    "df_ef = df[(df[\"economy\"]==\"Agricultural\")]\n",
    "df2 = df_ef[df_ef[\"pop\"].str.contains(\"Anatolia_N\")]"
   ]
  },
  {
   "cell_type": "code",
   "execution_count": 128,
   "metadata": {},
   "outputs": [
    {
     "name": "stdout",
     "output_type": "stream",
     "text": [
      "\\begin{tabular}{llrrrrrrl}\n",
      "\\toprule\n",
      "     Group A &     Group B &  Median A &  \\#Zero A &  \\# A &  Median B &  \\#Zero B &  \\# B &         p \\\\\n",
      "\\midrule\n",
      " Anatolia-AC &  Anatolia-N &      36.7 &        0 &    6 &       0.0 &       18 &   23 &  8.92e-05 \\\\\n",
      "\\bottomrule\n",
      "\\end{tabular}\n",
      "\n"
     ]
    }
   ],
   "source": [
    "df_add = compare_groups(df1, df2, label1 = \"Anatolia-AC\",  label2 = \"Anatolia-N\", pr=True)"
   ]
  },
  {
   "cell_type": "code",
   "execution_count": null,
   "metadata": {},
   "outputs": [],
   "source": [
    "df1"
   ]
  },
  {
   "cell_type": "markdown",
   "metadata": {},
   "source": [
    "### Apply to empirical Data"
   ]
  },
  {
   "cell_type": "code",
   "execution_count": 2,
   "metadata": {},
   "outputs": [],
   "source": [
    "### Load Big Data Frame (only ancients)\n",
    "df = pd.read_csv(\"./Empirical/roh_all_inds.csv\", sep='\\t')\n",
    "df = df[df[\"age\"]>0]\n",
    "df[\"sum_roh_4-8\"] = df[\"sum_roh>4\"] - df[\"sum_roh>8\"]"
   ]
  },
  {
   "cell_type": "code",
   "execution_count": 44,
   "metadata": {},
   "outputs": [
    {
     "name": "stdout",
     "output_type": "stream",
     "text": [
      "MannwhitneyuResult(statistic=19.0, pvalue=0.8303242576557953)\n",
      "Loaded 7 Samples from clst Mesolithic Iberia\n",
      "Loaded 6 Samples from clst Early Neolithic Iberia\n",
      "MannwhitneyuResult(statistic=128.0, pvalue=0.0038670303618025593)\n",
      "Loaded 6 Samples from clst Early Neolithic Iberia\n",
      "Loaded 24 Samples from clst Neolithic Iberia\n",
      "MannwhitneyuResult(statistic=158.0, pvalue=0.000492384005230395)\n",
      "Loaded 7 Samples from clst Mesolithic Iberia\n",
      "Loaded 24 Samples from clst Neolithic Iberia\n",
      "\n",
      "\n",
      "MannwhitneyuResult(statistic=302.0, pvalue=0.06454672358949157)\n",
      "Loaded 37 Samples from clst Mesolithic Balkans\n",
      "Loaded 12 Samples from clst Early Neolithic Balkans\n",
      "MannwhitneyuResult(statistic=238.0, pvalue=0.22913306771562947)\n",
      "Loaded 12 Samples from clst Early Neolithic Balkans\n",
      "Loaded 32 Samples from clst Neolithic Balkans\n",
      "MannwhitneyuResult(statistic=970.0, pvalue=5.524253515214728e-06)\n",
      "Loaded 37 Samples from clst Mesolithic Balkans\n",
      "Loaded 32 Samples from clst Neolithic Balkans\n",
      "\n",
      "\n",
      "MannwhitneyuResult(statistic=27.0, pvalue=0.016043952137292594)\n",
      "Loaded 3 Samples from clst Mesolithic Rome\n",
      "Loaded 9 Samples from clst Early Neolithic Rome\n",
      "MannwhitneyuResult(statistic=0.0, pvalue=0.0)\n",
      "Loaded 9 Samples from clst Early Neolithic Rome\n",
      "Loaded 0 Samples from clst Neolithic Rome\n",
      "MannwhitneyuResult(statistic=0.0, pvalue=0.0)\n",
      "Loaded 3 Samples from clst Mesolithic Rome\n",
      "Loaded 0 Samples from clst Neolithic Rome\n",
      "\n",
      "\n",
      "MannwhitneyuResult(statistic=80.0, pvalue=0.0021188504897908366)\n",
      "Loaded 4 Samples from clst Mesolithic Central Europe\n",
      "Loaded 20 Samples from clst Early Neolithic Central Europe\n",
      "MannwhitneyuResult(statistic=30.0, pvalue=0.18355485874981248)\n",
      "Loaded 20 Samples from clst Early Neolithic Central Europe\n",
      "Loaded 5 Samples from clst Neolithic Central Europe\n",
      "MannwhitneyuResult(statistic=20.0, pvalue=0.019964453305216043)\n",
      "Loaded 4 Samples from clst Mesolithic Central Europe\n",
      "Loaded 5 Samples from clst Neolithic Central Europe\n",
      "\n",
      "\n",
      "MannwhitneyuResult(statistic=0.0, pvalue=0.0)\n",
      "Loaded 4 Samples from clst Mesolithic Black Sea\n",
      "Loaded 0 Samples from clst Early Neolithic Black Sea\n",
      "MannwhitneyuResult(statistic=0.0, pvalue=0.0)\n",
      "Loaded 0 Samples from clst Early Neolithic Black Sea\n",
      "Loaded 14 Samples from clst Neolithic Black Sea\n",
      "MannwhitneyuResult(statistic=39.0, pvalue=0.2648127507746577)\n",
      "Loaded 4 Samples from clst Mesolithic Black Sea\n",
      "Loaded 14 Samples from clst Neolithic Black Sea\n",
      "\n",
      "\n",
      "MannwhitneyuResult(statistic=0.0, pvalue=0.0)\n",
      "Loaded 26 Samples from clst Mesolithic Baltic Sea\n",
      "Loaded 0 Samples from clst Early Neolithic Baltic Sea\n",
      "MannwhitneyuResult(statistic=0.0, pvalue=0.0)\n",
      "Loaded 0 Samples from clst Early Neolithic Baltic Sea\n",
      "Loaded 9 Samples from clst Neolithic Baltic Sea\n",
      "MannwhitneyuResult(statistic=138.0, pvalue=0.4390948286289583)\n",
      "Loaded 26 Samples from clst Mesolithic Baltic Sea\n",
      "Loaded 9 Samples from clst Neolithic Baltic Sea\n",
      "\n",
      "\n"
     ]
    },
    {
     "name": "stderr",
     "output_type": "stream",
     "text": [
      "/home/hringbauer/.local/lib/python3.7/site-packages/scipy/stats/stats.py:5700: RuntimeWarning: divide by zero encountered in double_scalars\n",
      "  z = (bigu - meanrank) / sd\n"
     ]
    }
   ],
   "source": [
    "for reg in [\"Iberia\", \"Balkans\", \"Rome\", \"Central Europe\", \"Black Sea\", \"Baltic Sea\"]:\n",
    "    test_mwu(df, region1=reg, region2=reg, clst1=\"Mesolithic\", clst2=\"Early Neolithic\")\n",
    "    test_mwu(df, region1=reg, region2=reg, clst1=\"Early Neolithic\", clst2=\"Neolithic\")\n",
    "    test_mwu(df, region1=reg, region2=reg, clst1=\"Mesolithic\", clst2=\"Neolithic\")\n",
    "    print(\"\\n\")"
   ]
  },
  {
   "cell_type": "markdown",
   "metadata": {},
   "source": [
    "# Tests for Papers"
   ]
  },
  {
   "cell_type": "code",
   "execution_count": 13,
   "metadata": {},
   "outputs": [
    {
     "name": "stdout",
     "output_type": "stream",
     "text": [
      "Loaded 3732 Individuals\n",
      "Filtered to 3497 Individuals with no long ROH\n",
      "Loaded 1739 Ancients\n",
      "{nan, 'Hunter Gatherer', 'unknown', 'Agricultural ', 'Pastoralist mixed', 'Pastoralist', 'Agricultural mixed', 'Hunter Gatherer mixed', 'Agricultural', 'Aceramic Farmer'}\n"
     ]
    }
   ],
   "source": [
    "df = pd.read_csv(\"./Empirical/roh_all_inds_final_v42.csv\", sep='\\t')\n",
    "df[\"sum_roh_4-8\"] = df[\"sum_roh>4\"] - df[\"sum_roh>8\"]\n",
    "print(f\"Loaded {len(df)} Individuals\")\n",
    "df = df[df[\"sum_roh>20\"]<50]\n",
    "print(f\"Filtered to {len(df)} Individuals with no long ROH\")\n",
    "df_anc =df[df[\"age\"]>0]\n",
    "print(f\"Loaded {len(df_anc)} Ancients\")\n",
    "print(set(df_anc[\"economy\"]))\n",
    "\n",
    "df_hg = df[(df[\"economy\"]==\"Hunter Gatherer\")]\n",
    "df_ef = df[(df[\"economy\"]==\"Agricultural\")]"
   ]
  },
  {
   "cell_type": "code",
   "execution_count": 14,
   "metadata": {},
   "outputs": [
    {
     "ename": "NameError",
     "evalue": "name 'test_mwu_groups' is not defined",
     "output_type": "error",
     "traceback": [
      "\u001b[0;31m---------------------------------------------------------------------------\u001b[0m",
      "\u001b[0;31mNameError\u001b[0m                                 Traceback (most recent call last)",
      "\u001b[0;32m<ipython-input-14-0cede0b40b6f>\u001b[0m in \u001b[0;36m<module>\u001b[0;34m()\u001b[0m\n\u001b[1;32m      1\u001b[0m \u001b[0mdf1\u001b[0m \u001b[0;34m=\u001b[0m \u001b[0mdf_anc\u001b[0m\u001b[0;34m[\u001b[0m\u001b[0mdf_anc\u001b[0m\u001b[0;34m[\u001b[0m\u001b[0;34m\"age\"\u001b[0m\u001b[0;34m]\u001b[0m\u001b[0;34m>\u001b[0m\u001b[0;36m10e3\u001b[0m\u001b[0;34m]\u001b[0m\u001b[0;34m\u001b[0m\u001b[0m\n\u001b[1;32m      2\u001b[0m \u001b[0mdf2\u001b[0m \u001b[0;34m=\u001b[0m\u001b[0mdf_anc\u001b[0m\u001b[0;34m[\u001b[0m\u001b[0mdf_anc\u001b[0m\u001b[0;34m[\u001b[0m\u001b[0;34m\"age\"\u001b[0m\u001b[0;34m]\u001b[0m\u001b[0;34m<\u001b[0m\u001b[0;36m5e3\u001b[0m\u001b[0;34m]\u001b[0m\u001b[0;34m\u001b[0m\u001b[0m\n\u001b[0;32m----> 3\u001b[0;31m \u001b[0mtest_mwu_groups\u001b[0m\u001b[0;34m(\u001b[0m\u001b[0mdf1\u001b[0m\u001b[0;34m,\u001b[0m \u001b[0mdf2\u001b[0m\u001b[0;34m)\u001b[0m\u001b[0;34m\u001b[0m\u001b[0m\n\u001b[0m",
      "\u001b[0;31mNameError\u001b[0m: name 'test_mwu_groups' is not defined"
     ]
    }
   ],
   "source": [
    "df1 = df_anc[df_anc[\"age\"]>10e3]\n",
    "df2 =df_anc[df_anc[\"age\"]<5e3]\n",
    "test_mwu_groups(df1, df2)"
   ]
  },
  {
   "cell_type": "markdown",
   "metadata": {},
   "source": [
    "### Tests 10-5k years ago"
   ]
  },
  {
   "cell_type": "code",
   "execution_count": 56,
   "metadata": {},
   "outputs": [
    {
     "name": "stdout",
     "output_type": "stream",
     "text": [
      "Loaded 3732 Individuals\n",
      "Filtered to 3497 Individuals with no long ROH\n",
      "Filtered to 493 Inviduals in age range\n"
     ]
    }
   ],
   "source": [
    "df = pd.read_csv(\"./Empirical/roh_all_inds_final_v42.csv\", sep='\\t')\n",
    "df[\"sum_roh_4-8\"] = df[\"sum_roh>4\"] - df[\"sum_roh>8\"]\n",
    "print(f\"Loaded {len(df)} Individuals\")\n",
    "df = df[df[\"sum_roh>20\"]<50]\n",
    "print(f\"Filtered to {len(df)} Individuals with no long ROH\")\n",
    "\n",
    "df1 = df[(df[\"age\"]>5000) & (df[\"age\"]<100000)]\n",
    "print(f\"Filtered to {len(df1)} Inviduals in age range\")\n",
    "df_hg = df1[(df1[\"economy\"]==\"Hunter Gatherer\")]\n",
    "df_ef = df1[(df1[\"economy\"]==\"Agricultural\")]"
   ]
  },
  {
   "cell_type": "code",
   "execution_count": 57,
   "metadata": {},
   "outputs": [
    {
     "data": {
      "text/plain": [
       "Balkans           37\n",
       "Baltic Sea        33\n",
       "East Steppe       15\n",
       "Black Sea         14\n",
       "Steppe            11\n",
       "all                7\n",
       "Iberia             4\n",
       "North Africa       3\n",
       "Rome               2\n",
       "Central Europe     1\n",
       "Aegan              1\n",
       "Britain            1\n",
       "Name: region, dtype: int64"
      ]
     },
     "execution_count": 57,
     "metadata": {},
     "output_type": "execute_result"
    }
   ],
   "source": [
    "df_hg[\"region\"].value_counts()"
   ]
  },
  {
   "cell_type": "code",
   "execution_count": 16,
   "metadata": {},
   "outputs": [
    {
     "name": "stdout",
     "output_type": "stream",
     "text": [
      "MannwhitneyuResult(statistic=240.0, pvalue=0.0005176262553425429)\n",
      "Loaded 2 Samples Set1\n",
      "Loaded 120 Samples Set2\n",
      "Mean 1: 65.8350\n",
      "Mean 2: 1.4111\n",
      "Mean difference 2 - 1: -64.4239\n"
     ]
    },
    {
     "data": {
      "text/plain": [
       "(MannwhitneyuResult(statistic=240.0, pvalue=0.0005176262553425429), 2, 120)"
      ]
     },
     "execution_count": 16,
     "metadata": {},
     "output_type": "execute_result"
    }
   ],
   "source": [
    "region = \"Rome\"\n",
    "df1 = df_hg[df_hg[\"region\"]==region]\n",
    "df2 = df_ef[df_ef[\"region\"]==region]\n",
    "test_mwu_groups(df1, df2)"
   ]
  },
  {
   "cell_type": "code",
   "execution_count": 27,
   "metadata": {},
   "outputs": [
    {
     "name": "stdout",
     "output_type": "stream",
     "text": [
      "MannwhitneyuResult(statistic=240.0, pvalue=0.0005176262553425429)\n",
      "Loaded 2 Samples Set1\n",
      "Loaded 120 Samples Set2\n",
      "Mean 1: 65.8350\n",
      "Mean 2: 1.4111\n",
      "Mean difference 2 - 1: -64.4239\n"
     ]
    },
    {
     "data": {
      "text/plain": [
       "(MannwhitneyuResult(statistic=240.0, pvalue=0.0005176262553425429), 2, 120)"
      ]
     },
     "execution_count": 27,
     "metadata": {},
     "output_type": "execute_result"
    }
   ],
   "source": [
    "test_mwu_groups(df1, df2)"
   ]
  },
  {
   "cell_type": "markdown",
   "metadata": {},
   "source": [
    "# Produce Table for Paper\"\n",
    "Produce Dataframes - these are then concatenated and saved into ./tablesout"
   ]
  },
  {
   "cell_type": "code",
   "execution_count": 4,
   "metadata": {},
   "outputs": [
    {
     "name": "stderr",
     "output_type": "stream",
     "text": [
      "/home/hringbauer/.local/lib/python3.7/site-packages/scipy/stats/stats.py:5700: RuntimeWarning: divide by zero encountered in double_scalars\n",
      "  z = (bigu - meanrank) / sd\n"
     ]
    }
   ],
   "source": [
    "regions = [\"Iberia\", \"Balkans\", \"Rome\", \"Central Europe\", \"Black Sea\", \"Baltic Sea\"]\n",
    "periods = [\"Mesolithic\", \"Early Neolithic\", \"Neolithic\"]\n",
    "prt = False\n",
    "\n",
    "p1_vec, p2_vec = [], []\n",
    "n1_vec, n2_vec = [], []\n",
    "st_vec, p_vec = [], []\n",
    "\n",
    "for reg in regions:\n",
    "    for ps in it.combinations(periods, 2):\n",
    "        t, i1, i2 = test_mwu(df, region1=reg, region2=reg, clst1=ps[0], clst2=ps[1], prt=prt)\n",
    "        if (i1>0) and (i2>0):\n",
    "            n1_vec.append(i1)\n",
    "            n2_vec.append(i2)\n",
    "            p1_vec.append(ps[0] + \" \" + reg)\n",
    "            p2_vec.append(ps[1] + \" \" + reg)\n",
    "            st_vec.append(t[0])\n",
    "            p_vec.append(t[1])\n",
    "            \n",
    "#### Combine into one dataframe\n",
    "df_res = pd.DataFrame({\"Population 1\": p1_vec, \"Population 2\": p2_vec, \n",
    "              \"n1\": n1_vec, \"n2\": n2_vec, \"Statistic\": st_vec, \"p-Value\": p_vec})"
   ]
  },
  {
   "cell_type": "markdown",
   "metadata": {},
   "source": [
    "### Compare all Mesolithic Populations"
   ]
  },
  {
   "cell_type": "code",
   "execution_count": 5,
   "metadata": {},
   "outputs": [
    {
     "name": "stderr",
     "output_type": "stream",
     "text": [
      "/home/hringbauer/.local/lib/python3.7/site-packages/scipy/stats/stats.py:5700: RuntimeWarning: divide by zero encountered in double_scalars\n",
      "  z = (bigu - meanrank) / sd\n"
     ]
    }
   ],
   "source": [
    "regions = [\"Iberia\", \"Balkans\", \"Rome\", \"Central Europe\", \"Black Sea\", \"Baltic Sea\"]\n",
    "periods = [\"Mesolithic\", \"Early Neolithic\", \"Neolithic\"]\n",
    "prt = False\n",
    "\n",
    "p1_vec, p2_vec = [], []\n",
    "n1_vec, n2_vec = [], []\n",
    "st_vec, p_vec = [], []\n",
    "\n",
    "for prd in periods:\n",
    "    for rgs in it.combinations(regions, 2):\n",
    "        t, i1, i2 = test_mwu(df, region1=rgs[0], region2=rgs[1], clst1=prd, clst2=prd, prt=prt)\n",
    "        if (i1>0) and (i2>0):\n",
    "            n1_vec.append(i1)\n",
    "            n2_vec.append(i2)\n",
    "            p1_vec.append(prd + \" \" + rgs[0])\n",
    "            p2_vec.append(prd + \" \" + rgs[1])\n",
    "            st_vec.append(t[0])\n",
    "            p_vec.append(t[1])\n",
    "            \n",
    "#### Combine into one dataframe\n",
    "df_res1 = pd.DataFrame({\"Population 1\": p1_vec, \"Population 2\": p2_vec, \n",
    "              \"n1\": n1_vec, \"n2\": n2_vec, \"Statistic\": st_vec, \"p-Value\": p_vec})"
   ]
  },
  {
   "cell_type": "markdown",
   "metadata": {},
   "source": [
    "### Combine and save final dataframe"
   ]
  },
  {
   "cell_type": "code",
   "execution_count": 6,
   "metadata": {},
   "outputs": [],
   "source": [
    "df_res = pd.concat([df_res, df_res1])"
   ]
  },
  {
   "cell_type": "code",
   "execution_count": 7,
   "metadata": {},
   "outputs": [
    {
     "name": "stdout",
     "output_type": "stream",
     "text": [
      "Saved to ./TablesOut/p_vals_shifts.csv\n"
     ]
    }
   ],
   "source": [
    "savepath = \"./TablesOut/p_vals_shifts.csv\"\n",
    "df_res.to_csv(savepath, index=False, header=True)\n",
    "print(f\"Saved to {savepath}\")"
   ]
  },
  {
   "cell_type": "code",
   "execution_count": 8,
   "metadata": {},
   "outputs": [
    {
     "data": {
      "text/html": [
       "<div>\n",
       "<style scoped>\n",
       "    .dataframe tbody tr th:only-of-type {\n",
       "        vertical-align: middle;\n",
       "    }\n",
       "\n",
       "    .dataframe tbody tr th {\n",
       "        vertical-align: top;\n",
       "    }\n",
       "\n",
       "    .dataframe thead th {\n",
       "        text-align: right;\n",
       "    }\n",
       "</style>\n",
       "<table border=\"1\" class=\"dataframe\">\n",
       "  <thead>\n",
       "    <tr style=\"text-align: right;\">\n",
       "      <th></th>\n",
       "      <th>Population 1</th>\n",
       "      <th>Population 2</th>\n",
       "      <th>n1</th>\n",
       "      <th>n2</th>\n",
       "      <th>Statistic</th>\n",
       "      <th>p-Value</th>\n",
       "    </tr>\n",
       "  </thead>\n",
       "  <tbody>\n",
       "    <tr>\n",
       "      <th>0</th>\n",
       "      <td>Mesolithic Iberia</td>\n",
       "      <td>Early Neolithic Iberia</td>\n",
       "      <td>7</td>\n",
       "      <td>6</td>\n",
       "      <td>19.0</td>\n",
       "      <td>0.830324</td>\n",
       "    </tr>\n",
       "    <tr>\n",
       "      <th>1</th>\n",
       "      <td>Mesolithic Iberia</td>\n",
       "      <td>Neolithic Iberia</td>\n",
       "      <td>7</td>\n",
       "      <td>24</td>\n",
       "      <td>158.0</td>\n",
       "      <td>0.000492</td>\n",
       "    </tr>\n",
       "    <tr>\n",
       "      <th>2</th>\n",
       "      <td>Early Neolithic Iberia</td>\n",
       "      <td>Neolithic Iberia</td>\n",
       "      <td>6</td>\n",
       "      <td>24</td>\n",
       "      <td>128.0</td>\n",
       "      <td>0.003867</td>\n",
       "    </tr>\n",
       "    <tr>\n",
       "      <th>3</th>\n",
       "      <td>Mesolithic Balkans</td>\n",
       "      <td>Early Neolithic Balkans</td>\n",
       "      <td>37</td>\n",
       "      <td>12</td>\n",
       "      <td>302.0</td>\n",
       "      <td>0.064547</td>\n",
       "    </tr>\n",
       "    <tr>\n",
       "      <th>4</th>\n",
       "      <td>Mesolithic Balkans</td>\n",
       "      <td>Neolithic Balkans</td>\n",
       "      <td>37</td>\n",
       "      <td>32</td>\n",
       "      <td>970.0</td>\n",
       "      <td>0.000006</td>\n",
       "    </tr>\n",
       "    <tr>\n",
       "      <th>5</th>\n",
       "      <td>Early Neolithic Balkans</td>\n",
       "      <td>Neolithic Balkans</td>\n",
       "      <td>12</td>\n",
       "      <td>32</td>\n",
       "      <td>238.0</td>\n",
       "      <td>0.229133</td>\n",
       "    </tr>\n",
       "    <tr>\n",
       "      <th>6</th>\n",
       "      <td>Mesolithic Rome</td>\n",
       "      <td>Early Neolithic Rome</td>\n",
       "      <td>3</td>\n",
       "      <td>9</td>\n",
       "      <td>27.0</td>\n",
       "      <td>0.016044</td>\n",
       "    </tr>\n",
       "    <tr>\n",
       "      <th>7</th>\n",
       "      <td>Mesolithic Central Europe</td>\n",
       "      <td>Early Neolithic Central Europe</td>\n",
       "      <td>4</td>\n",
       "      <td>20</td>\n",
       "      <td>80.0</td>\n",
       "      <td>0.002119</td>\n",
       "    </tr>\n",
       "    <tr>\n",
       "      <th>8</th>\n",
       "      <td>Mesolithic Central Europe</td>\n",
       "      <td>Neolithic Central Europe</td>\n",
       "      <td>4</td>\n",
       "      <td>5</td>\n",
       "      <td>20.0</td>\n",
       "      <td>0.019964</td>\n",
       "    </tr>\n",
       "    <tr>\n",
       "      <th>9</th>\n",
       "      <td>Early Neolithic Central Europe</td>\n",
       "      <td>Neolithic Central Europe</td>\n",
       "      <td>20</td>\n",
       "      <td>5</td>\n",
       "      <td>30.0</td>\n",
       "      <td>0.183555</td>\n",
       "    </tr>\n",
       "  </tbody>\n",
       "</table>\n",
       "</div>"
      ],
      "text/plain": [
       "                     Population 1                    Population 2  n1  n2  \\\n",
       "0               Mesolithic Iberia          Early Neolithic Iberia   7   6   \n",
       "1               Mesolithic Iberia                Neolithic Iberia   7  24   \n",
       "2          Early Neolithic Iberia                Neolithic Iberia   6  24   \n",
       "3              Mesolithic Balkans         Early Neolithic Balkans  37  12   \n",
       "4              Mesolithic Balkans               Neolithic Balkans  37  32   \n",
       "5         Early Neolithic Balkans               Neolithic Balkans  12  32   \n",
       "6                 Mesolithic Rome            Early Neolithic Rome   3   9   \n",
       "7       Mesolithic Central Europe  Early Neolithic Central Europe   4  20   \n",
       "8       Mesolithic Central Europe        Neolithic Central Europe   4   5   \n",
       "9  Early Neolithic Central Europe        Neolithic Central Europe  20   5   \n",
       "\n",
       "   Statistic   p-Value  \n",
       "0       19.0  0.830324  \n",
       "1      158.0  0.000492  \n",
       "2      128.0  0.003867  \n",
       "3      302.0  0.064547  \n",
       "4      970.0  0.000006  \n",
       "5      238.0  0.229133  \n",
       "6       27.0  0.016044  \n",
       "7       80.0  0.002119  \n",
       "8       20.0  0.019964  \n",
       "9       30.0  0.183555  "
      ]
     },
     "execution_count": 8,
     "metadata": {},
     "output_type": "execute_result"
    }
   ],
   "source": [
    "df_res.head(10)"
   ]
  },
  {
   "cell_type": "markdown",
   "metadata": {},
   "source": [
    "## Analysis for Sirak-Fernandez Paper"
   ]
  },
  {
   "cell_type": "code",
   "execution_count": 17,
   "metadata": {},
   "outputs": [],
   "source": [
    "df_t = pd.read_csv(\"./Empirical/Eigenstrat/Sirak20/combined_roh05.csv\", sep=\"\\t\")\n",
    "df_t[\"sum_roh_4-8\"] = df_t[\"sum_roh>4\"] - df_t[\"sum_roh>8\"]"
   ]
  },
  {
   "cell_type": "code",
   "execution_count": 18,
   "metadata": {},
   "outputs": [
    {
     "data": {
      "text/html": [
       "<div>\n",
       "<style scoped>\n",
       "    .dataframe tbody tr th:only-of-type {\n",
       "        vertical-align: middle;\n",
       "    }\n",
       "\n",
       "    .dataframe tbody tr th {\n",
       "        vertical-align: top;\n",
       "    }\n",
       "\n",
       "    .dataframe thead th {\n",
       "        text-align: right;\n",
       "    }\n",
       "</style>\n",
       "<table border=\"1\" class=\"dataframe\">\n",
       "  <thead>\n",
       "    <tr style=\"text-align: right;\">\n",
       "      <th></th>\n",
       "      <th>iid</th>\n",
       "      <th>pop</th>\n",
       "      <th>max_roh</th>\n",
       "      <th>sum_roh&gt;4</th>\n",
       "      <th>n_roh&gt;4</th>\n",
       "      <th>sum_roh&gt;8</th>\n",
       "      <th>n_roh&gt;8</th>\n",
       "      <th>sum_roh&gt;12</th>\n",
       "      <th>n_roh&gt;12</th>\n",
       "      <th>sum_roh&gt;20</th>\n",
       "      <th>...</th>\n",
       "      <th>lat</th>\n",
       "      <th>lon</th>\n",
       "      <th>age</th>\n",
       "      <th>age_range</th>\n",
       "      <th>study</th>\n",
       "      <th>clst</th>\n",
       "      <th>mean_cov</th>\n",
       "      <th>n_cov_snp</th>\n",
       "      <th>include_alt</th>\n",
       "      <th>sum_roh_4-8</th>\n",
       "    </tr>\n",
       "  </thead>\n",
       "  <tbody>\n",
       "    <tr>\n",
       "      <th>6</th>\n",
       "      <td>I10937</td>\n",
       "      <td>Cuba_PC_Guanataybes_3000BP</td>\n",
       "      <td>19.245398</td>\n",
       "      <td>197.068783</td>\n",
       "      <td>28</td>\n",
       "      <td>89.078182</td>\n",
       "      <td>8</td>\n",
       "      <td>31.484496</td>\n",
       "      <td>2</td>\n",
       "      <td>0.000000</td>\n",
       "      <td>...</td>\n",
       "      <td>23.038894</td>\n",
       "      <td>-81.495252</td>\n",
       "      <td>3046</td>\n",
       "      <td>1187-1004 calBCE (2890±20 BP, PSUAMS-4864)</td>\n",
       "      <td>Sirak20</td>\n",
       "      <td>Cuba_PC_Guanataybes_3000BP</td>\n",
       "      <td>0.622512</td>\n",
       "      <td>747014</td>\n",
       "      <td>1</td>\n",
       "      <td>107.990601</td>\n",
       "    </tr>\n",
       "    <tr>\n",
       "      <th>13</th>\n",
       "      <td>I13487</td>\n",
       "      <td>Cuba_unknown</td>\n",
       "      <td>25.732401</td>\n",
       "      <td>167.725115</td>\n",
       "      <td>22</td>\n",
       "      <td>52.622305</td>\n",
       "      <td>3</td>\n",
       "      <td>43.373004</td>\n",
       "      <td>2</td>\n",
       "      <td>25.732401</td>\n",
       "      <td>...</td>\n",
       "      <td>23.038894</td>\n",
       "      <td>-81.495252</td>\n",
       "      <td>2050</td>\n",
       "      <td>1400 BCE - 1200 CE</td>\n",
       "      <td>Sirak20</td>\n",
       "      <td>Cuba_unknown</td>\n",
       "      <td>0.442270</td>\n",
       "      <td>530724</td>\n",
       "      <td>1</td>\n",
       "      <td>115.102810</td>\n",
       "    </tr>\n",
       "    <tr>\n",
       "      <th>36</th>\n",
       "      <td>I11169</td>\n",
       "      <td>Cuba_PC_Guanataybes_1300BP</td>\n",
       "      <td>18.753999</td>\n",
       "      <td>96.583808</td>\n",
       "      <td>12</td>\n",
       "      <td>53.293002</td>\n",
       "      <td>4</td>\n",
       "      <td>43.730003</td>\n",
       "      <td>3</td>\n",
       "      <td>0.000000</td>\n",
       "      <td>...</td>\n",
       "      <td>23.038894</td>\n",
       "      <td>-81.495252</td>\n",
       "      <td>1322</td>\n",
       "      <td>605-651 calCE (1425±15 BP, PSUAMS-4868)</td>\n",
       "      <td>Sirak20</td>\n",
       "      <td>Cuba_PC_Guanataybes_1300BP</td>\n",
       "      <td>0.621566</td>\n",
       "      <td>745879</td>\n",
       "      <td>1</td>\n",
       "      <td>43.290806</td>\n",
       "    </tr>\n",
       "    <tr>\n",
       "      <th>60</th>\n",
       "      <td>I10757</td>\n",
       "      <td>Cuba_PC_Guanataybes</td>\n",
       "      <td>8.214600</td>\n",
       "      <td>73.450202</td>\n",
       "      <td>14</td>\n",
       "      <td>8.214600</td>\n",
       "      <td>1</td>\n",
       "      <td>0.000000</td>\n",
       "      <td>0</td>\n",
       "      <td>0.000000</td>\n",
       "      <td>...</td>\n",
       "      <td>23.038894</td>\n",
       "      <td>-81.495252</td>\n",
       "      <td>2050</td>\n",
       "      <td>1400 BCE - 1200 CE</td>\n",
       "      <td>Sirak20</td>\n",
       "      <td>Cuba_PC_Guanataybes</td>\n",
       "      <td>0.613718</td>\n",
       "      <td>736461</td>\n",
       "      <td>1</td>\n",
       "      <td>65.235602</td>\n",
       "    </tr>\n",
       "    <tr>\n",
       "      <th>76</th>\n",
       "      <td>I10756</td>\n",
       "      <td>Cuba_PC_Guanataybes</td>\n",
       "      <td>8.663797</td>\n",
       "      <td>57.772303</td>\n",
       "      <td>10</td>\n",
       "      <td>16.693997</td>\n",
       "      <td>2</td>\n",
       "      <td>0.000000</td>\n",
       "      <td>0</td>\n",
       "      <td>0.000000</td>\n",
       "      <td>...</td>\n",
       "      <td>23.038894</td>\n",
       "      <td>-81.495252</td>\n",
       "      <td>868</td>\n",
       "      <td>1016-1148 calCE (980±15 BP, PSUAMS-5340)</td>\n",
       "      <td>Sirak20</td>\n",
       "      <td>Cuba_PC_Guanataybes</td>\n",
       "      <td>0.623518</td>\n",
       "      <td>748222</td>\n",
       "      <td>1</td>\n",
       "      <td>41.078306</td>\n",
       "    </tr>\n",
       "  </tbody>\n",
       "</table>\n",
       "<p>5 rows × 21 columns</p>\n",
       "</div>"
      ],
      "text/plain": [
       "       iid                         pop    max_roh   sum_roh>4  n_roh>4  \\\n",
       "6   I10937  Cuba_PC_Guanataybes_3000BP  19.245398  197.068783       28   \n",
       "13  I13487                Cuba_unknown  25.732401  167.725115       22   \n",
       "36  I11169  Cuba_PC_Guanataybes_1300BP  18.753999   96.583808       12   \n",
       "60  I10757         Cuba_PC_Guanataybes   8.214600   73.450202       14   \n",
       "76  I10756         Cuba_PC_Guanataybes   8.663797   57.772303       10   \n",
       "\n",
       "    sum_roh>8  n_roh>8  sum_roh>12  n_roh>12  sum_roh>20     ...       \\\n",
       "6   89.078182        8   31.484496         2    0.000000     ...        \n",
       "13  52.622305        3   43.373004         2   25.732401     ...        \n",
       "36  53.293002        4   43.730003         3    0.000000     ...        \n",
       "60   8.214600        1    0.000000         0    0.000000     ...        \n",
       "76  16.693997        2    0.000000         0    0.000000     ...        \n",
       "\n",
       "          lat        lon   age                                   age_range  \\\n",
       "6   23.038894 -81.495252  3046  1187-1004 calBCE (2890±20 BP, PSUAMS-4864)   \n",
       "13  23.038894 -81.495252  2050                          1400 BCE - 1200 CE   \n",
       "36  23.038894 -81.495252  1322     605-651 calCE (1425±15 BP, PSUAMS-4868)   \n",
       "60  23.038894 -81.495252  2050                          1400 BCE - 1200 CE   \n",
       "76  23.038894 -81.495252   868    1016-1148 calCE (980±15 BP, PSUAMS-5340)   \n",
       "\n",
       "      study                        clst  mean_cov  n_cov_snp  include_alt  \\\n",
       "6   Sirak20  Cuba_PC_Guanataybes_3000BP  0.622512     747014            1   \n",
       "13  Sirak20                Cuba_unknown  0.442270     530724            1   \n",
       "36  Sirak20  Cuba_PC_Guanataybes_1300BP  0.621566     745879            1   \n",
       "60  Sirak20         Cuba_PC_Guanataybes  0.613718     736461            1   \n",
       "76  Sirak20         Cuba_PC_Guanataybes  0.623518     748222            1   \n",
       "\n",
       "    sum_roh_4-8  \n",
       "6    107.990601  \n",
       "13   115.102810  \n",
       "36    43.290806  \n",
       "60    65.235602  \n",
       "76    41.078306  \n",
       "\n",
       "[5 rows x 21 columns]"
      ]
     },
     "execution_count": 18,
     "metadata": {},
     "output_type": "execute_result"
    }
   ],
   "source": [
    "df_t[df_t[\"pop\"].str.contains(\"Cuba\")]"
   ]
  },
  {
   "cell_type": "markdown",
   "metadata": {},
   "source": [
    "### Test Cuba Early / Late"
   ]
  },
  {
   "cell_type": "code",
   "execution_count": 35,
   "metadata": {},
   "outputs": [
    {
     "name": "stdout",
     "output_type": "stream",
     "text": [
      "MannwhitneyuResult(statistic=6.0, pvalue=0.14891467317876572)\n",
      "Loaded 3 Samples Set1\n",
      "Loaded 2 Samples Set2\n"
     ]
    },
    {
     "data": {
      "text/plain": [
       "(MannwhitneyuResult(statistic=6.0, pvalue=0.14891467317876572), 3, 2)"
      ]
     },
     "execution_count": 35,
     "metadata": {},
     "output_type": "execute_result"
    }
   ],
   "source": [
    "df1 = df_t[(df_t[\"pop\"].str.contains(\"Cuba\")) & (df_t[\"age\"] > 2000)]\n",
    "df2 = df_t[(df_t[\"pop\"].str.contains(\"Cuba\")) & (df_t[\"age\"] <= 2000)]\n",
    "\n",
    "test_mwu_groups(df1, df2, col=\"sum_roh_4-8\",\n",
    "                prt=True, alternative='two-sided')"
   ]
  },
  {
   "cell_type": "markdown",
   "metadata": {},
   "source": [
    "### Test Cuba Early vrs Tainio"
   ]
  },
  {
   "cell_type": "code",
   "execution_count": 34,
   "metadata": {},
   "outputs": [
    {
     "name": "stdout",
     "output_type": "stream",
     "text": [
      "MannwhitneyuResult(statistic=340.0, pvalue=0.0036654464878695986)\n",
      "Loaded 3 Samples Set1\n",
      "Loaded 114 Samples Set2\n"
     ]
    },
    {
     "data": {
      "text/plain": [
       "(MannwhitneyuResult(statistic=340.0, pvalue=0.0036654464878695986), 3, 114)"
      ]
     },
     "execution_count": 34,
     "metadata": {},
     "output_type": "execute_result"
    }
   ],
   "source": [
    "df1 = df_t[(df_t[\"pop\"].str.contains(\"Cuba\")) & (df_t[\"age\"] > 2000)]\n",
    "df2 = df_t[(df_t[\"pop\"].str.contains(\"Dominican\"))]\n",
    "\n",
    "test_mwu_groups(df1, df2, col=\"sum_roh_4-8\",\n",
    "                prt=True, alternative='two-sided')"
   ]
  },
  {
   "cell_type": "markdown",
   "metadata": {},
   "source": [
    "### Test Venezuela"
   ]
  },
  {
   "cell_type": "code",
   "execution_count": 39,
   "metadata": {},
   "outputs": [
    {
     "name": "stdout",
     "output_type": "stream",
     "text": [
      "MannwhitneyuResult(statistic=36.0, pvalue=0.027468640385681333)\n",
      "Loaded 18 Samples Set1\n",
      "Loaded 2 Samples Set2\n"
     ]
    },
    {
     "data": {
      "text/plain": [
       "(MannwhitneyuResult(statistic=36.0, pvalue=0.027468640385681333), 18, 2)"
      ]
     },
     "execution_count": 39,
     "metadata": {},
     "output_type": "execute_result"
    }
   ],
   "source": [
    "df1 = df_t[(df_t[\"pop\"].str.contains(\"Venezuela\")) & (df_t[\"age\"] > 1000)]\n",
    "df2 = df_t[(df_t[\"pop\"].str.contains(\"Venezuela\")) & (df_t[\"age\"] <= 1000)]\n",
    "\n",
    "test_mwu_groups(df1, df2, col=\"sum_roh_4-8\",\n",
    "                prt=True, alternative='two-sided')"
   ]
  },
  {
   "cell_type": "markdown",
   "metadata": {},
   "source": [
    "# Area 51"
   ]
  },
  {
   "cell_type": "markdown",
   "metadata": {},
   "source": [
    "### Test permanova"
   ]
  },
  {
   "cell_type": "code",
   "execution_count": 4,
   "metadata": {},
   "outputs": [],
   "source": [
    "dm = DistanceMatrix([[0, 1, 1, 4],\n",
    "                     [1, 0, 3, 2],\n",
    "                     [1, 3, 0, 3],\n",
    "                     [4, 2, 3, 0]],\n",
    "                     ['s1', 's2', 's3', 's4'])\n",
    "grouping = ['Group1', 'Group1', 'Group2', 'Group2']"
   ]
  },
  {
   "cell_type": "code",
   "execution_count": 5,
   "metadata": {},
   "outputs": [],
   "source": [
    "from skbio.stats.distance import permanova\n",
    "from skbio import DistanceMatrix"
   ]
  },
  {
   "cell_type": "code",
   "execution_count": 11,
   "metadata": {},
   "outputs": [
    {
     "name": "stdout",
     "output_type": "stream",
     "text": [
      "CPU times: user 886 ms, sys: 0 ns, total: 886 ms\n",
      "Wall time: 880 ms\n"
     ]
    },
    {
     "data": {
      "text/plain": [
       "method name               PERMANOVA\n",
       "test statistic name        pseudo-F\n",
       "sample size                       4\n",
       "number of groups                  2\n",
       "test statistic                    2\n",
       "p-value                      0.6709\n",
       "number of permutations         9999\n",
       "Name: PERMANOVA results, dtype: object"
      ]
     },
     "execution_count": 11,
     "metadata": {},
     "output_type": "execute_result"
    }
   ],
   "source": [
    "%%time\n",
    "permanova(dm, grouping, permutations=9999)"
   ]
  },
  {
   "cell_type": "markdown",
   "metadata": {},
   "source": [
    "### Permanova implementation with 1D Dist"
   ]
  },
  {
   "cell_type": "code",
   "execution_count": 45,
   "metadata": {},
   "outputs": [],
   "source": []
  },
  {
   "cell_type": "code",
   "execution_count": 41,
   "metadata": {},
   "outputs": [
    {
     "name": "stdout",
     "output_type": "stream",
     "text": [
      "CPU times: user 1.49 ms, sys: 68 µs, total: 1.56 ms\n",
      "Wall time: 950 µs\n"
     ]
    }
   ],
   "source": [
    "%%time\n",
    "dm = prep_distance_matrix(x,y)"
   ]
  },
  {
   "cell_type": "code",
   "execution_count": 48,
   "metadata": {},
   "outputs": [
    {
     "name": "stdout",
     "output_type": "stream",
     "text": [
      "CPU times: user 93.2 ms, sys: 1.02 ms, total: 94.2 ms\n",
      "Wall time: 92.5 ms\n"
     ]
    }
   ],
   "source": [
    "%%time\n",
    "pma=anova_2group(x, y, reps=99)"
   ]
  },
  {
   "cell_type": "code",
   "execution_count": 54,
   "metadata": {},
   "outputs": [
    {
     "data": {
      "text/plain": [
       "method name               PERMANOVA\n",
       "test statistic name        pseudo-F\n",
       "sample size                     200\n",
       "number of groups                  2\n",
       "test statistic             0.491598\n",
       "p-value                         0.5\n",
       "number of permutations           99\n",
       "Name: PERMANOVA results, dtype: object"
      ]
     },
     "execution_count": 54,
     "metadata": {},
     "output_type": "execute_result"
    }
   ],
   "source": [
    "pma"
   ]
  },
  {
   "cell_type": "markdown",
   "metadata": {},
   "source": [
    "### Tests MWU"
   ]
  },
  {
   "cell_type": "code",
   "execution_count": 110,
   "metadata": {},
   "outputs": [
    {
     "data": {
      "image/png": "[encoded data removed]",
      "text/plain": [
       "<Figure size 432x288 with 1 Axes>"
      ]
     },
     "metadata": {
      "needs_background": "light"
     },
     "output_type": "display_data"
    },
    {
     "name": "stdout",
     "output_type": "stream",
     "text": [
      "CPU times: user 490 ms, sys: 7.01 ms, total: 497 ms\n",
      "Wall time: 495 ms\n"
     ]
    }
   ],
   "source": [
    "%%time\n",
    "reps = 999\n",
    "mean1, mean2 = 1, 1\n",
    "s1, s2 = 1, 10\n",
    "std1, std2 = 1.0, 1.0\n",
    "\n",
    "p = np.zeros(reps)\n",
    "\n",
    "for i in range(reps):\n",
    "    x = np.random.normal(loc=mean1, scale=std1, size=s1)\n",
    "    y = np.random.normal(loc=mean2, scale=std2, size=s2)\n",
    "    #x=np.clip(x, 0, None)\n",
    "    #y=np.clip(y, 0, None)\n",
    "    p[i] = mannwhitneyu(x, y, alternative='two-sided')[1]\n",
    "    \n",
    "##### Plot figures of distribution p-Values\n",
    "plt.figure()\n",
    "ax = plt.gca()\n",
    "ax.hist(p, bins=20, ec=\"k\")\n",
    "ax.set_title(\"WMU\")\n",
    "ax.set_xlabel(\"p-Values\")\n",
    "ax.set_ylabel(\"Counts\")\n",
    "plt.show()"
   ]
  },
  {
   "cell_type": "markdown",
   "metadata": {},
   "source": [
    "### Test Permanova"
   ]
  },
  {
   "cell_type": "code",
   "execution_count": 109,
   "metadata": {},
   "outputs": [
    {
     "data": {
      "image/png": "[encoded data removed]",
      "text/plain": [
       "<Figure size 432x288 with 1 Axes>"
      ]
     },
     "metadata": {
      "needs_background": "light"
     },
     "output_type": "display_data"
    },
    {
     "name": "stdout",
     "output_type": "stream",
     "text": [
      "CPU times: user 8.44 s, sys: 7.97 ms, total: 8.45 s\n",
      "Wall time: 8.45 s\n"
     ]
    }
   ],
   "source": [
    "%%time\n",
    "reps = 999\n",
    "mean1, mean2 = 1, 1\n",
    "s1, s2 = 1, 10\n",
    "std1, std2 = 1.0, 1.0\n",
    "\n",
    "p = np.zeros(reps)\n",
    "\n",
    "for i in range(reps):\n",
    "    x = np.random.normal(loc=mean1, scale=std1, size=s1)\n",
    "    y = np.random.normal(loc=mean2, scale=std2, size=s2)\n",
    "    x=np.clip(x, 0, None)\n",
    "    y=np.clip(y, 0, None)\n",
    "    \n",
    "    p[i] = anova_2group(x, y, reps=99)[\"p-value\"]\n",
    "    \n",
    "##### Plot figures of distribution p-Values\n",
    "plt.figure()\n",
    "ax = plt.gca()\n",
    "ax.hist(p, bins=20, ec=\"k\")\n",
    "ax.set_title(\"Permanova\")\n",
    "ax.set_xlabel(\"p-Values\")\n",
    "ax.set_ylabel(\"Counts\")\n",
    "plt.show()"
   ]
  },
  {
   "cell_type": "code",
   "execution_count": null,
   "metadata": {},
   "outputs": [],
   "source": []
  }
 ],
 "metadata": {
  "kernelspec": {
   "display_name": "Python 3",
   "language": "python",
   "name": "python3"
  },
  "language_info": {
   "codemirror_mode": {
    "name": "ipython",
    "version": 3
   },
   "file_extension": ".py",
   "mimetype": "text/x-python",
   "name": "python",
   "nbconvert_exporter": "python",
   "pygments_lexer": "ipython3",
   "version": "3.7.0"
  }
 },
 "nbformat": 4,
 "nbformat_minor": 2
}
