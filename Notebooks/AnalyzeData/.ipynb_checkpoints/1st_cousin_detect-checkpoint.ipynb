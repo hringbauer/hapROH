{
 "cells": [
  {
   "cell_type": "markdown",
   "metadata": {},
   "source": [
    "# Apply Summary Statistic to whole data\n",
    "Goal here: \n",
    "1. Develop Summary Statistic to identify offspring of first cousins or closer\n",
    "2. Apply to groups of ancient & modern Individuals"
   ]
  },
  {
   "cell_type": "code",
   "execution_count": 5,
   "metadata": {},
   "outputs": [
    {
     "name": "stdout",
     "output_type": "stream",
     "text": [
      "Harald-Laptop-X1\n",
      "Harald's new laptop detected!\n",
      "/home/hringbauer/git/HAPSBURG\n",
      "CPU Count: 8\n"
     ]
    }
   ],
   "source": [
    "import numpy as np\n",
    "import os as os\n",
    "import sys as sys\n",
    "import multiprocessing as mp\n",
    "import pandas as pd\n",
    "import socket\n",
    "import matplotlib.pyplot as plt\n",
    "\n",
    "### Do the Arial \n",
    "from matplotlib import rcParams\n",
    "rcParams['font.family'] = 'sans-serif'   # Set the default\n",
    "rcParams['font.sans-serif'] = ['Arial']  # Make sure to have the font installed (it is on cluster for Harald)\n",
    "\n",
    "### Pick the right path (whether on cluster or at home)\n",
    "socket_name = socket.gethostname()\n",
    "print(socket_name)\n",
    "if socket_name == \"VioletQueen\":\n",
    "    path = \"/home/harald/git/HAPSBURG/\"   # The Path on Harald's machine\n",
    "elif socket_name.startswith(\"midway2\"):\n",
    "    print(\"Midway jnovmbre partition detected.\")\n",
    "    path = \"/project2/jnovembre/hringbauer/HAPSBURG/\"  # The Path on Midway Cluster\n",
    "elif socket_name.startswith(\"Harald-Laptop\"):\n",
    "    print(\"Harald's new laptop detected!\")\n",
    "    path = \"/home/hringbauer/git/HAPSBURG/\" \n",
    "else: \n",
    "    raise RuntimeWarning(\"Not compatible machine. Check!!\")\n",
    "    \n",
    "os.chdir(path)  # Set the right Path (in line with Atom default)\n",
    "\n",
    "sys.path.append(\"./Python3/\")  # Since now we are in the Root Directory\n",
    "from statsmodels.stats.proportion import proportion_confint  # Estimate Binomial proportion Confidence Intervalls\n",
    "\n",
    "print(os.getcwd()) # Show the current working directory. Should be HAPSBURG/Notebooks/ParallelRuns\n",
    "print(f\"CPU Count: {mp.cpu_count()}\")\n",
    "\n"
   ]
  },
  {
   "cell_type": "markdown",
   "metadata": {},
   "source": [
    "### Helper Functions"
   ]
  },
  {
   "cell_type": "code",
   "execution_count": 6,
   "metadata": {},
   "outputs": [],
   "source": [
    "# frac = 0.65    # The fraction of the short ROH substraction\n",
    "# min_stat = 0.8 # The Minimum Stat\n",
    "def calc_statistic(df, frac=0.65, cm = [4,8,12] ):\n",
    "    \"\"\"Calculate the statistic from cutoff.\n",
    "    cm: Cutoffs [in centiMorgan]\n",
    "    frac: Fraction of the lower category to substract\"\"\"\n",
    "    statistic = df[f\"sum_roh>{cm[2]}\"] - frac * ((df[f\"sum_roh>{cm[0]}\"]) - df[f\"sum_roh>{cm[1]}\"])\n",
    "    return statistic\n",
    "\n",
    "def plot_statistic_hist(statistic, cut_off=70, bins=np.arange(-400,400,5),\n",
    "                   figsize=(8,4), xlim=[-400,400]):\n",
    "    \"\"\"Plot histogram of Statistic\"\"\"\n",
    "    plt.figure(figsize=figsize)\n",
    "    ax=plt.gca()\n",
    "    ax.hist(statistic, bins=bins, ec=\"k\")\n",
    "    ax.set_xlim(xlim)\n",
    "    ax.set_ylim([0,200])\n",
    "    ax.set_title(\"Distribution Summary Statistic\")\n",
    "    ax.axvline(x=cut_off, color=\"red\")\n",
    "    plt.show()\n",
    "    \n",
    "def print_statistic(statistic, cutoff=[70,100,150,200]):\n",
    "    \"\"\"Print # Values of statistic bigger than cutoff\"\"\"\n",
    "    n = len(statistic)\n",
    "    for c in cutoff:\n",
    "        n1 = np.sum(statistic>c)\n",
    "        print(f\"Bigger than {c}: {n1}/{n}\")\n",
    "        \n",
    "def estimate_ci_fractions(df, col_c=\"sum\", col_n=\"count\", method=\"wilson\"):\n",
    "    \"\"\"Estimate Confidence Intervals from Binomial Fractions.\n",
    "    Add these fractions as two new columns to data frame\n",
    "    (frac_low, frac_high) and return dataframe\n",
    "    df: Dataframe to use\n",
    "    col_c: Count Column\n",
    "    col_n Total Count Column\n",
    "    method: Which binomial proportion confidence interval to use\"\"\"\n",
    "    c, n = df[col_c].values, df[col_n].values\n",
    "    low, high = proportion_confint(c,n,method=method)\n",
    "    df[\"frac_low\"], df[\"frac_high\"] = low, high\n",
    "    return df\n",
    "\n",
    "def plot_bars_fractions(df, col=\"frac\", col_l=\"frac_low\", col_h=\"frac_high\", figsize=(18,5), \n",
    "                        bar_width=0.9, fs_l=7, ec=\"k\", c=\"coral\", legend=True,\n",
    "                        savepath=\"\"):\n",
    "    \"\"\"Plot Fractions in dataframe df. \n",
    "    col: Which column has values\n",
    "    col_l, col_h: Values for low & high CIs\"\"\"\n",
    "\n",
    "    x = np.arange(len(df))\n",
    "    y = df[col].values\n",
    "\n",
    "    plt.figure(figsize=figsize)\n",
    "    ax=plt.gca()\n",
    "    ax.bar(x, y, width = bar_width, color = c, edgecolor = ec)\n",
    "    # yerr=[df_t[\"frac_low\"], df_t[\"frac_high\"]]\n",
    "\n",
    "    # general layout\n",
    "    ax.set_xticks(x)\n",
    "    ax.set_xticklabels(df_t.index.values, rotation=90, fontsize=fs_l)\n",
    "    ax.set_xlim([-0.5,len(df_t)])\n",
    "    ax.set_ylim([0,1])\n",
    "    ax.set_ylabel(\"Fraction Individuals with Statistic > 70\")\n",
    "    ax.vlines(x, df[col_l], df[col_h], lw=0.5, label=\"95% CI Intervalls\")\n",
    "    if legend:\n",
    "        ax.legend(loc=\"upper right\")\n",
    "        \n",
    "    if len(savepath)>0:\n",
    "        plt.savefig(savepath, bbox_inches = 'tight', pad_inches = 0)\n",
    "        print(f\"Saved to {savepath}\")\n",
    "    plt.show()"
   ]
  },
  {
   "cell_type": "code",
   "execution_count": 3,
   "metadata": {},
   "outputs": [
    {
     "data": {
      "image/png": "[encoded data removed]",
      "text/plain": [
       "<Figure size 576x288 with 1 Axes>"
      ]
     },
     "metadata": {
      "needs_background": "light"
     },
     "output_type": "display_data"
    },
    {
     "name": "stdout",
     "output_type": "stream",
     "text": [
      "Bigger than 70: 216/3233\n",
      "Bigger than 100: 152/3233\n",
      "Bigger than 150: 92/3233\n",
      "Bigger than 200: 60/3233\n"
     ]
    }
   ],
   "source": [
    "df = pd.read_csv(\"./Empirical/roh_all_inds.csv\", sep='\\t')\n",
    "statistic = calc_statistic(df)\n",
    "plot_statistic_hist(statistic, xlim=[-200,500], cut_off=70)\n",
    "print_statistic(statistic)"
   ]
  },
  {
   "cell_type": "code",
   "execution_count": 6,
   "metadata": {},
   "outputs": [
    {
     "data": {
      "image/png": "[encoded data removed]",
      "text/plain": [
       "<Figure size 576x288 with 1 Axes>"
      ]
     },
     "metadata": {
      "needs_background": "light"
     },
     "output_type": "display_data"
    },
    {
     "name": "stdout",
     "output_type": "stream",
     "text": [
      "Bigger than 70: 37/1292\n",
      "Bigger than 100: 25/1292\n",
      "Bigger than 150: 12/1292\n",
      "Bigger than 200: 6/1292\n"
     ]
    }
   ],
   "source": [
    "df_m = df[df[\"age\"]>0].copy()\n",
    "statistic = calc_statistic(df_m)\n",
    "plot_statistic_hist(statistic, cut_off=70, xlim=[-200,500])\n",
    "print_statistic(statistic)"
   ]
  },
  {
   "cell_type": "code",
   "execution_count": 7,
   "metadata": {},
   "outputs": [
    {
     "data": {
      "image/png": "[encoded data removed]",
      "text/plain": [
       "<Figure size 576x288 with 1 Axes>"
      ]
     },
     "metadata": {
      "needs_background": "light"
     },
     "output_type": "display_data"
    },
    {
     "name": "stdout",
     "output_type": "stream",
     "text": [
      "Bigger than 70: 179/1941\n",
      "Bigger than 100: 127/1941\n",
      "Bigger than 150: 80/1941\n",
      "Bigger than 200: 54/1941\n"
     ]
    }
   ],
   "source": [
    "df_m = df[df[\"age\"]==0].copy()\n",
    "statistic = calc_statistic(df_m)\n",
    "plot_statistic_hist(statistic, cut_off=70, xlim=[-200,500])\n",
    "print_statistic(statistic)"
   ]
  },
  {
   "cell_type": "markdown",
   "metadata": {},
   "source": [
    "## Rank Individuals by statistic"
   ]
  },
  {
   "cell_type": "code",
   "execution_count": null,
   "metadata": {},
   "outputs": [],
   "source": [
    "statistic = calc_statistic(df)\n",
    "idx = np.argsort(statistic)\n",
    "df.iloc[idx,:]"
   ]
  },
  {
   "cell_type": "code",
   "execution_count": null,
   "metadata": {},
   "outputs": [],
   "source": [
    "### Calculate for Modern Samples\n",
    "df_m = df[df[\"age\"]==0].copy()\n",
    "statistic = calc_statistic(df_m)\n",
    "idx = np.argsort(statistic)\n",
    "df_m.iloc[idx,:]"
   ]
  },
  {
   "cell_type": "markdown",
   "metadata": {},
   "source": [
    "# Area 51"
   ]
  }
 ],
 "metadata": {
  "kernelspec": {
   "display_name": "Python 3",
   "language": "python",
   "name": "python3"
  },
  "language_info": {
   "codemirror_mode": {
    "name": "ipython",
    "version": 3
   },
   "file_extension": ".py",
   "mimetype": "text/x-python",
   "name": "python",
   "nbconvert_exporter": "python",
   "pygments_lexer": "ipython3",
   "version": "3.6.9"
  }
 },
 "nbformat": 4,
 "nbformat_minor": 2
}
