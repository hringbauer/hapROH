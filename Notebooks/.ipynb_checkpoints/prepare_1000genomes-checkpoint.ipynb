{
 "cells": [
  {
   "cell_type": "markdown",
   "metadata": {},
   "source": [
    "# Notebook to Prepare 1000 Genomes Data"
   ]
  },
  {
   "cell_type": "code",
   "execution_count": 27,
   "metadata": {},
   "outputs": [],
   "source": [
    "import allel\n",
    "import h5py  # Python Package to do the HDF5.\n",
    "import numpy as np\n",
    "import pandas as pd"
   ]
  },
  {
   "cell_type": "code",
   "execution_count": 57,
   "metadata": {},
   "outputs": [],
   "source": [
    "path_vcf = \"../Data/1000Genomes/ALL.chrX.phase3_shapeit2_mvncall_integrated_v1b.20130502.genotypes.vcf.gz\" # Path of VCF\n",
    "h5_path = \"../Data/1000Genomes/1000Genomes_X.hdf5\"\n",
    "ind_path = \"../Data/1000Genomes/integrated_call_samples_v2.20130502.ALL.ped\"  # Family Relationships\n",
    "pop_path = \"../Data/1000Genomes/integrated_call_samples_v3.20130502.ALL.panel\" # Population Information"
   ]
  },
  {
   "cell_type": "markdown",
   "metadata": {},
   "source": [
    "## Do the Conversion to HDF 5 \n",
    "Comment out"
   ]
  },
  {
   "cell_type": "code",
   "execution_count": 8,
   "metadata": {},
   "outputs": [],
   "source": [
    "### Do the conversion to hdf5 (if not done already)\n",
    "# geno = allel.read_vcf(path_vcf) # Load the VCF # Load the VCF # Needs too much Memory for my laptop\n",
    "# allel.vcf_to_hdf5(input=path_vcf, output=h5_path, compression=\"gzip\") # Do the conversion to hdf5. Takes 10 Minutes"
   ]
  },
  {
   "cell_type": "code",
   "execution_count": 19,
   "metadata": {},
   "outputs": [
    {
     "name": "stdout",
     "output_type": "stream",
     "text": [
      "Loaded 3468093 variants\n",
      "Loaded 2504 individuals\n",
      "['GT']\n",
      "['ALT', 'CHROM', 'FILTER_PASS', 'ID', 'POS', 'QUAL', 'REF']\n"
     ]
    },
    {
     "ename": "AttributeError",
     "evalue": "'Dataset' object has no attribute 'keys'",
     "output_type": "error",
     "traceback": [
      "\u001b[0;31m---------------------------------------------------------------------------\u001b[0m",
      "\u001b[0;31mAttributeError\u001b[0m                            Traceback (most recent call last)",
      "\u001b[0;32m<ipython-input-19-a71f60b8df25>\u001b[0m in \u001b[0;36m<module>\u001b[0;34m\u001b[0m\n\u001b[1;32m      5\u001b[0m \u001b[0mprint\u001b[0m\u001b[0;34m(\u001b[0m\u001b[0mlist\u001b[0m\u001b[0;34m(\u001b[0m\u001b[0mf\u001b[0m\u001b[0;34m[\u001b[0m\u001b[0;34m\"calldata\"\u001b[0m\u001b[0;34m]\u001b[0m\u001b[0;34m.\u001b[0m\u001b[0mkeys\u001b[0m\u001b[0;34m(\u001b[0m\u001b[0;34m)\u001b[0m\u001b[0;34m)\u001b[0m\u001b[0;34m)\u001b[0m\u001b[0;34m\u001b[0m\u001b[0;34m\u001b[0m\u001b[0m\n\u001b[1;32m      6\u001b[0m \u001b[0mprint\u001b[0m\u001b[0;34m(\u001b[0m\u001b[0mlist\u001b[0m\u001b[0;34m(\u001b[0m\u001b[0mf\u001b[0m\u001b[0;34m[\u001b[0m\u001b[0;34m\"variants\"\u001b[0m\u001b[0;34m]\u001b[0m\u001b[0;34m.\u001b[0m\u001b[0mkeys\u001b[0m\u001b[0;34m(\u001b[0m\u001b[0;34m)\u001b[0m\u001b[0;34m)\u001b[0m\u001b[0;34m)\u001b[0m\u001b[0;34m\u001b[0m\u001b[0;34m\u001b[0m\u001b[0m\n\u001b[0;32m----> 7\u001b[0;31m \u001b[0mprint\u001b[0m\u001b[0;34m(\u001b[0m\u001b[0mlist\u001b[0m\u001b[0;34m(\u001b[0m\u001b[0mf\u001b[0m\u001b[0;34m[\u001b[0m\u001b[0;34m\"samples\"\u001b[0m\u001b[0;34m]\u001b[0m\u001b[0;34m.\u001b[0m\u001b[0mkeys\u001b[0m\u001b[0;34m(\u001b[0m\u001b[0;34m)\u001b[0m\u001b[0;34m)\u001b[0m\u001b[0;34m)\u001b[0m\u001b[0;34m\u001b[0m\u001b[0;34m\u001b[0m\u001b[0m\n\u001b[0m",
      "\u001b[0;31mAttributeError\u001b[0m: 'Dataset' object has no attribute 'keys'"
     ]
    }
   ],
   "source": [
    "## Load HDF5\n",
    "f = h5py.File(h5_path, \"r\") # Load for Sanity Check. See below!\n",
    "print(\"Loaded %i variants\" % np.shape(f[\"calldata/GT\"])[0])\n",
    "print(\"Loaded %i individuals\" % np.shape(f[\"calldata/GT\"])[1])\n",
    "print(list(f[\"calldata\"].keys()))\n",
    "print(list(f[\"variants\"].keys()))\n",
    "#print(list(f[\"samples\"].keys()))"
   ]
  },
  {
   "cell_type": "code",
   "execution_count": 25,
   "metadata": {},
   "outputs": [
    {
     "data": {
      "text/plain": [
       "(3468093, 2504, 2)"
      ]
     },
     "execution_count": 25,
     "metadata": {},
     "output_type": "execute_result"
    }
   ],
   "source": [
    "np.shape(f[\"calldata/GT\"])"
   ]
  },
  {
   "cell_type": "code",
   "execution_count": 14,
   "metadata": {},
   "outputs": [],
   "source": [
    "### Load the ID of the Individuals\n",
    "ids = np.array(f[\"variants/ID\"])"
   ]
  },
  {
   "cell_type": "code",
   "execution_count": 39,
   "metadata": {},
   "outputs": [],
   "source": [
    "df_s_empirical = pd.DataFrame({'Individual ID' : list(f[\"samples\"])})"
   ]
  },
  {
   "cell_type": "markdown",
   "metadata": {},
   "source": [
    "# Load and Merge Individual Meta Data"
   ]
  },
  {
   "cell_type": "code",
   "execution_count": 63,
   "metadata": {},
   "outputs": [
    {
     "name": "stdout",
     "output_type": "stream",
     "text": [
      "Loaded 3691 Individuals\n",
      "Loaded 3691 Population Data\n",
      "Merged from 2504 to 2504 individuals\n"
     ]
    }
   ],
   "source": [
    "df_i = pd.read_csv(ind_path, sep=\"\\t\")\n",
    "print(f\"Loaded {np.shape(df_i)[0]} Individuals\")\n",
    "\n",
    "df_pops = pd.read_csv(pop_path, sep=\"\\t\")\n",
    "print(f\"Loaded {np.shape(df_i)[0]} Population Data\")\n",
    "\n",
    "### Merge with IDs in Genotype File\n",
    "df = pd.merge(df_s_empirical, df_i, on='Individual ID', how='inner')\n",
    "df = pd.merge(df, df_pops, left_on=\"Individual ID\", right_on=\"sample\", how=\"inner\")\n",
    "print(f\"Merged from {len(df_s_empirical)} to {len(df)} individuals\")\n",
    "assert(len(df_s_empirical) == len(df))  # Sanity Check"
   ]
  },
  {
   "cell_type": "code",
   "execution_count": 72,
   "metadata": {},
   "outputs": [
    {
     "data": {
      "text/plain": [
       "GWD    113\n",
       "YRI    108\n",
       "TSI    107\n",
       "IBS    107\n",
       "CHS    105\n",
       "PUR    104\n",
       "JPT    104\n",
       "CHB    103\n",
       "GIH    103\n",
       "STU    102\n",
       "ITU    102\n",
       "KHV     99\n",
       "ESN     99\n",
       "CEU     99\n",
       "FIN     99\n",
       "LWK     99\n",
       "PJL     96\n",
       "ACB     96\n",
       "CLM     94\n",
       "CDX     93\n",
       "GBR     91\n",
       "BEB     86\n",
       "MSL     85\n",
       "PEL     85\n",
       "MXL     64\n",
       "ASW     61\n",
       "Name: Population, dtype: int64"
      ]
     },
     "execution_count": 72,
     "metadata": {},
     "output_type": "execute_result"
    }
   ],
   "source": [
    "df[\"Population\"].value_counts()"
   ]
  },
  {
   "cell_type": "code",
   "execution_count": 77,
   "metadata": {},
   "outputs": [
    {
     "name": "stdout",
     "output_type": "stream",
     "text": [
      "Nr of European Samples: 503\n"
     ]
    }
   ],
   "source": [
    "eur_inds = df[\"super_pop\"]==\"EUR\"\n",
    "print(f\"Nr of European Samples: {np.sum(eur_inds)}\")"
   ]
  },
  {
   "cell_type": "code",
   "execution_count": 68,
   "metadata": {},
   "outputs": [
    {
     "data": {
      "text/html": [
       "<div>\n",
       "<style scoped>\n",
       "    .dataframe tbody tr th:only-of-type {\n",
       "        vertical-align: middle;\n",
       "    }\n",
       "\n",
       "    .dataframe tbody tr th {\n",
       "        vertical-align: top;\n",
       "    }\n",
       "\n",
       "    .dataframe thead th {\n",
       "        text-align: right;\n",
       "    }\n",
       "</style>\n",
       "<table border=\"1\" class=\"dataframe\">\n",
       "  <thead>\n",
       "    <tr style=\"text-align: right;\">\n",
       "      <th></th>\n",
       "      <th>Individual ID</th>\n",
       "      <th>Family ID</th>\n",
       "      <th>Paternal ID</th>\n",
       "      <th>Maternal ID</th>\n",
       "      <th>Gender</th>\n",
       "      <th>Phenotype</th>\n",
       "      <th>Population</th>\n",
       "      <th>Relationship</th>\n",
       "      <th>Siblings</th>\n",
       "      <th>Second Order</th>\n",
       "      <th>...</th>\n",
       "      <th>phase 3 genotypes</th>\n",
       "      <th>related genotypes</th>\n",
       "      <th>omni genotypes</th>\n",
       "      <th>affy_genotypes</th>\n",
       "      <th>sample</th>\n",
       "      <th>pop</th>\n",
       "      <th>super_pop</th>\n",
       "      <th>gender</th>\n",
       "      <th>Unnamed: 4</th>\n",
       "      <th>Unnamed: 5</th>\n",
       "    </tr>\n",
       "  </thead>\n",
       "  <tbody>\n",
       "    <tr>\n",
       "      <th>311</th>\n",
       "      <td>HG00867</td>\n",
       "      <td>CDX1</td>\n",
       "      <td>HG00866</td>\n",
       "      <td>0</td>\n",
       "      <td>2</td>\n",
       "      <td>0</td>\n",
       "      <td>CDX</td>\n",
       "      <td>unrel</td>\n",
       "      <td>0</td>\n",
       "      <td>0</td>\n",
       "      <td>...</td>\n",
       "      <td>1</td>\n",
       "      <td>0</td>\n",
       "      <td>1</td>\n",
       "      <td>1</td>\n",
       "      <td>HG00867</td>\n",
       "      <td>CDX</td>\n",
       "      <td>EAS</td>\n",
       "      <td>female</td>\n",
       "      <td>NaN</td>\n",
       "      <td>NaN</td>\n",
       "    </tr>\n",
       "    <tr>\n",
       "      <th>1301</th>\n",
       "      <td>HG03451</td>\n",
       "      <td>SL50</td>\n",
       "      <td>HG03466</td>\n",
       "      <td>0</td>\n",
       "      <td>1</td>\n",
       "      <td>0</td>\n",
       "      <td>MSL</td>\n",
       "      <td>father</td>\n",
       "      <td>HG03468</td>\n",
       "      <td>0</td>\n",
       "      <td>...</td>\n",
       "      <td>1</td>\n",
       "      <td>0</td>\n",
       "      <td>0</td>\n",
       "      <td>1</td>\n",
       "      <td>HG03451</td>\n",
       "      <td>MSL</td>\n",
       "      <td>AFR</td>\n",
       "      <td>male</td>\n",
       "      <td>NaN</td>\n",
       "      <td>NaN</td>\n",
       "    </tr>\n",
       "    <tr>\n",
       "      <th>1663</th>\n",
       "      <td>NA07048</td>\n",
       "      <td>1341</td>\n",
       "      <td>NA07034</td>\n",
       "      <td>NA07055</td>\n",
       "      <td>1</td>\n",
       "      <td>0</td>\n",
       "      <td>CEU</td>\n",
       "      <td>father</td>\n",
       "      <td>0</td>\n",
       "      <td>0</td>\n",
       "      <td>...</td>\n",
       "      <td>1</td>\n",
       "      <td>0</td>\n",
       "      <td>1</td>\n",
       "      <td>1</td>\n",
       "      <td>NA07048</td>\n",
       "      <td>CEU</td>\n",
       "      <td>EUR</td>\n",
       "      <td>male</td>\n",
       "      <td>NaN</td>\n",
       "      <td>NaN</td>\n",
       "    </tr>\n",
       "    <tr>\n",
       "      <th>1668</th>\n",
       "      <td>NA10847</td>\n",
       "      <td>1334</td>\n",
       "      <td>NA12146</td>\n",
       "      <td>NA12239</td>\n",
       "      <td>2</td>\n",
       "      <td>0</td>\n",
       "      <td>CEU</td>\n",
       "      <td>mother</td>\n",
       "      <td>0</td>\n",
       "      <td>0</td>\n",
       "      <td>...</td>\n",
       "      <td>1</td>\n",
       "      <td>0</td>\n",
       "      <td>1</td>\n",
       "      <td>1</td>\n",
       "      <td>NA10847</td>\n",
       "      <td>CEU</td>\n",
       "      <td>EUR</td>\n",
       "      <td>female</td>\n",
       "      <td>NaN</td>\n",
       "      <td>NaN</td>\n",
       "    </tr>\n",
       "    <tr>\n",
       "      <th>1669</th>\n",
       "      <td>NA10851</td>\n",
       "      <td>1344</td>\n",
       "      <td>NA12056</td>\n",
       "      <td>NA12057</td>\n",
       "      <td>1</td>\n",
       "      <td>0</td>\n",
       "      <td>CEU</td>\n",
       "      <td>father</td>\n",
       "      <td>0</td>\n",
       "      <td>0</td>\n",
       "      <td>...</td>\n",
       "      <td>1</td>\n",
       "      <td>0</td>\n",
       "      <td>1</td>\n",
       "      <td>1</td>\n",
       "      <td>NA10851</td>\n",
       "      <td>CEU</td>\n",
       "      <td>EUR</td>\n",
       "      <td>male</td>\n",
       "      <td>NaN</td>\n",
       "      <td>NaN</td>\n",
       "    </tr>\n",
       "    <tr>\n",
       "      <th>1752</th>\n",
       "      <td>NA12878</td>\n",
       "      <td>1463</td>\n",
       "      <td>NA12891</td>\n",
       "      <td>NA12892</td>\n",
       "      <td>2</td>\n",
       "      <td>0</td>\n",
       "      <td>CEU</td>\n",
       "      <td>mother; child</td>\n",
       "      <td>0</td>\n",
       "      <td>0</td>\n",
       "      <td>...</td>\n",
       "      <td>1</td>\n",
       "      <td>0</td>\n",
       "      <td>1</td>\n",
       "      <td>1</td>\n",
       "      <td>NA12878</td>\n",
       "      <td>CEU</td>\n",
       "      <td>EUR</td>\n",
       "      <td>female</td>\n",
       "      <td>NaN</td>\n",
       "      <td>NaN</td>\n",
       "    </tr>\n",
       "    <tr>\n",
       "      <th>2044</th>\n",
       "      <td>NA19129</td>\n",
       "      <td>Y077</td>\n",
       "      <td>NA19128</td>\n",
       "      <td>NA19127</td>\n",
       "      <td>2</td>\n",
       "      <td>0</td>\n",
       "      <td>YRI</td>\n",
       "      <td>child</td>\n",
       "      <td>0</td>\n",
       "      <td>0</td>\n",
       "      <td>...</td>\n",
       "      <td>1</td>\n",
       "      <td>0</td>\n",
       "      <td>1</td>\n",
       "      <td>1</td>\n",
       "      <td>NA19129</td>\n",
       "      <td>YRI</td>\n",
       "      <td>AFR</td>\n",
       "      <td>female</td>\n",
       "      <td>NaN</td>\n",
       "      <td>NaN</td>\n",
       "    </tr>\n",
       "    <tr>\n",
       "      <th>2148</th>\n",
       "      <td>NA19445</td>\n",
       "      <td>LWK004</td>\n",
       "      <td>NA19453</td>\n",
       "      <td>0</td>\n",
       "      <td>2</td>\n",
       "      <td>0</td>\n",
       "      <td>LWK</td>\n",
       "      <td>unrel</td>\n",
       "      <td>0</td>\n",
       "      <td>0</td>\n",
       "      <td>...</td>\n",
       "      <td>1</td>\n",
       "      <td>0</td>\n",
       "      <td>1</td>\n",
       "      <td>1</td>\n",
       "      <td>NA19445</td>\n",
       "      <td>LWK</td>\n",
       "      <td>AFR</td>\n",
       "      <td>female</td>\n",
       "      <td>NaN</td>\n",
       "      <td>NaN</td>\n",
       "    </tr>\n",
       "    <tr>\n",
       "      <th>2452</th>\n",
       "      <td>NA20910</td>\n",
       "      <td>GIH003</td>\n",
       "      <td>NA20909</td>\n",
       "      <td>0</td>\n",
       "      <td>2</td>\n",
       "      <td>0</td>\n",
       "      <td>GIH</td>\n",
       "      <td>unrel</td>\n",
       "      <td>0</td>\n",
       "      <td>0</td>\n",
       "      <td>...</td>\n",
       "      <td>1</td>\n",
       "      <td>0</td>\n",
       "      <td>1</td>\n",
       "      <td>1</td>\n",
       "      <td>NA20910</td>\n",
       "      <td>GIH</td>\n",
       "      <td>SAS</td>\n",
       "      <td>female</td>\n",
       "      <td>NaN</td>\n",
       "      <td>NaN</td>\n",
       "    </tr>\n",
       "  </tbody>\n",
       "</table>\n",
       "<p>9 rows × 23 columns</p>\n",
       "</div>"
      ],
      "text/plain": [
       "     Individual ID Family ID Paternal ID Maternal ID  Gender  Phenotype  \\\n",
       "311        HG00867      CDX1     HG00866           0       2          0   \n",
       "1301       HG03451      SL50     HG03466           0       1          0   \n",
       "1663       NA07048      1341     NA07034     NA07055       1          0   \n",
       "1668       NA10847      1334     NA12146     NA12239       2          0   \n",
       "1669       NA10851      1344     NA12056     NA12057       1          0   \n",
       "1752       NA12878      1463     NA12891     NA12892       2          0   \n",
       "2044       NA19129      Y077     NA19128     NA19127       2          0   \n",
       "2148       NA19445    LWK004     NA19453           0       2          0   \n",
       "2452       NA20910    GIH003     NA20909           0       2          0   \n",
       "\n",
       "     Population   Relationship Siblings Second Order    ...      \\\n",
       "311         CDX          unrel        0            0    ...       \n",
       "1301        MSL         father  HG03468            0    ...       \n",
       "1663        CEU         father        0            0    ...       \n",
       "1668        CEU         mother        0            0    ...       \n",
       "1669        CEU         father        0            0    ...       \n",
       "1752        CEU  mother; child        0            0    ...       \n",
       "2044        YRI          child        0            0    ...       \n",
       "2148        LWK          unrel        0            0    ...       \n",
       "2452        GIH          unrel        0            0    ...       \n",
       "\n",
       "     phase 3 genotypes related genotypes omni genotypes  affy_genotypes  \\\n",
       "311                  1                 0              1               1   \n",
       "1301                 1                 0              0               1   \n",
       "1663                 1                 0              1               1   \n",
       "1668                 1                 0              1               1   \n",
       "1669                 1                 0              1               1   \n",
       "1752                 1                 0              1               1   \n",
       "2044                 1                 0              1               1   \n",
       "2148                 1                 0              1               1   \n",
       "2452                 1                 0              1               1   \n",
       "\n",
       "       sample  pop  super_pop  gender Unnamed: 4 Unnamed: 5  \n",
       "311   HG00867  CDX        EAS  female        NaN        NaN  \n",
       "1301  HG03451  MSL        AFR    male        NaN        NaN  \n",
       "1663  NA07048  CEU        EUR    male        NaN        NaN  \n",
       "1668  NA10847  CEU        EUR  female        NaN        NaN  \n",
       "1669  NA10851  CEU        EUR    male        NaN        NaN  \n",
       "1752  NA12878  CEU        EUR  female        NaN        NaN  \n",
       "2044  NA19129  YRI        AFR  female        NaN        NaN  \n",
       "2148  NA19445  LWK        AFR  female        NaN        NaN  \n",
       "2452  NA20910  GIH        SAS  female        NaN        NaN  \n",
       "\n",
       "[9 rows x 23 columns]"
      ]
     },
     "execution_count": 68,
     "metadata": {},
     "output_type": "execute_result"
    }
   ],
   "source": [
    "df[df[\"Paternal ID\"] != \"0\"]"
   ]
  },
  {
   "cell_type": "code",
   "execution_count": 80,
   "metadata": {},
   "outputs": [
    {
     "data": {
      "text/plain": [
       "IBS    107\n",
       "TSI    107\n",
       "CEU     99\n",
       "FIN     99\n",
       "GBR     91\n",
       "Name: pop, dtype: int64"
      ]
     },
     "execution_count": 80,
     "metadata": {},
     "output_type": "execute_result"
    }
   ],
   "source": [
    "df[eur_inds][\"pop\"].value_counts()"
   ]
  },
  {
   "cell_type": "markdown",
   "metadata": {},
   "source": [
    "# Check against Sardinian X data"
   ]
  },
  {
   "cell_type": "code",
   "execution_count": 81,
   "metadata": {},
   "outputs": [
    {
     "name": "stderr",
     "output_type": "stream",
     "text": [
      "/usr/local/lib/python3.6/dist-packages/pandas/io/parsers.py:2230: FutureWarning: split() requires a non-empty pattern match.\n",
      "  yield pat.split(line.strip())\n",
      "/usr/local/lib/python3.6/dist-packages/pandas/io/parsers.py:2232: FutureWarning: split() requires a non-empty pattern match.\n",
      "  yield pat.split(line.strip())\n"
     ]
    },
    {
     "name": "stdout",
     "output_type": "stream",
     "text": [
      "Loaded 49711 X SNPs.\n"
     ]
    }
   ],
   "source": [
    "path_snp = \"../../ancient-sardinia/data/bed/full230.snp\" # All SNPs found in the ancients\n",
    "\n",
    "df_snp = pd.read_csv(path_snp, header=None, sep=r\"\\s*\", engine=\"python\")\n",
    "df_snp.columns = [\"SNP\", \"chr\", \"map\", \"pos\", \"ref\", \"alt\"]\n",
    "df_snp = df_snp[df_snp[\"chr\"]==23]\n",
    "\n",
    "print(f\"Loaded {len(df_snp)} X SNPs.\")"
   ]
  },
  {
   "cell_type": "code",
   "execution_count": 83,
   "metadata": {},
   "outputs": [
    {
     "data": {
      "text/plain": [
       "1151240       990180\n",
       "1151241      1501471\n",
       "1151242      2700157\n",
       "1151243      2709331\n",
       "1151244      2710887\n",
       "1151245      2711961\n",
       "1151246      2713211\n",
       "1151247      2719111\n",
       "1151248      2729625\n",
       "1151249      2732096\n",
       "1151250      2732166\n",
       "1151251      2743286\n",
       "1151252      2743627\n",
       "1151253      2746489\n",
       "1151254      2746835\n",
       "1151255      2759615\n",
       "1151256      2765370\n",
       "1151257      2765925\n",
       "1151258      2767020\n",
       "1151259      2767269\n",
       "1151260      2767366\n",
       "1151261      2774700\n",
       "1151262      2775998\n",
       "1151263      2777107\n",
       "1151264      2777560\n",
       "1151265      2779345\n",
       "1151266      2783126\n",
       "1151267      2783555\n",
       "1151268      2785740\n",
       "1151269      2786596\n",
       "             ...    \n",
       "1200921    155102468\n",
       "1200922    155105552\n",
       "1200923    155107315\n",
       "1200924    155111005\n",
       "1200925    155111702\n",
       "1200926    155113242\n",
       "1200927    155114213\n",
       "1200928    155119648\n",
       "1200929    155121526\n",
       "1200930    155121826\n",
       "1200931    155123668\n",
       "1200932    155148889\n",
       "1200933    155159480\n",
       "1200934    155168139\n",
       "1200935    155175965\n",
       "1200936    155189733\n",
       "1200937    155190984\n",
       "1200938    155195804\n",
       "1200939    155195853\n",
       "1200940    155207220\n",
       "1200941    155207269\n",
       "1200942    155208367\n",
       "1200943    155211511\n",
       "1200944    155217992\n",
       "1200945    155218417\n",
       "1200946    155225523\n",
       "1200947    155227607\n",
       "1200948    155228954\n",
       "1200949    155229100\n",
       "1200950    155234382\n",
       "Name: pos, Length: 49711, dtype: int64"
      ]
     },
     "execution_count": 83,
     "metadata": {},
     "output_type": "execute_result"
    }
   ],
   "source": [
    "df_snp[\"pos\"]"
   ]
  },
  {
   "cell_type": "code",
   "execution_count": 86,
   "metadata": {},
   "outputs": [],
   "source": [
    "pos = np.array(f[\"variants/POS\"])"
   ]
  },
  {
   "cell_type": "code",
   "execution_count": 90,
   "metadata": {},
   "outputs": [
    {
     "name": "stdout",
     "output_type": "stream",
     "text": [
      "Found 48013 out of 49711 SNPs\n"
     ]
    }
   ],
   "source": [
    "snps_found = df_snp[\"pos\"].isin(pos)\n",
    "print(f\"Found {np.sum(snps_found)} out of {len(snps_found)} SNPs\")"
   ]
  },
  {
   "cell_type": "code",
   "execution_count": 91,
   "metadata": {},
   "outputs": [
    {
     "data": {
      "text/plain": [
       "1151240     True\n",
       "1151241     True\n",
       "1151242     True\n",
       "1151243     True\n",
       "1151244     True\n",
       "1151245     True\n",
       "1151246     True\n",
       "1151247     True\n",
       "1151248    False\n",
       "1151249     True\n",
       "1151250     True\n",
       "1151251     True\n",
       "1151252     True\n",
       "1151253     True\n",
       "1151254     True\n",
       "1151255     True\n",
       "1151256     True\n",
       "1151257     True\n",
       "1151258     True\n",
       "1151259     True\n",
       "1151260     True\n",
       "1151261     True\n",
       "1151262     True\n",
       "1151263     True\n",
       "1151264     True\n",
       "1151265    False\n",
       "1151266     True\n",
       "1151267     True\n",
       "1151268     True\n",
       "1151269     True\n",
       "           ...  \n",
       "1200921     True\n",
       "1200922    False\n",
       "1200923     True\n",
       "1200924     True\n",
       "1200925     True\n",
       "1200926     True\n",
       "1200927     True\n",
       "1200928    False\n",
       "1200929     True\n",
       "1200930     True\n",
       "1200931     True\n",
       "1200932     True\n",
       "1200933     True\n",
       "1200934    False\n",
       "1200935     True\n",
       "1200936     True\n",
       "1200937     True\n",
       "1200938     True\n",
       "1200939    False\n",
       "1200940     True\n",
       "1200941    False\n",
       "1200942     True\n",
       "1200943     True\n",
       "1200944     True\n",
       "1200945     True\n",
       "1200946     True\n",
       "1200947     True\n",
       "1200948    False\n",
       "1200949     True\n",
       "1200950     True\n",
       "Name: pos, Length: 49711, dtype: bool"
      ]
     },
     "execution_count": 91,
     "metadata": {},
     "output_type": "execute_result"
    }
   ],
   "source": [
    "snps_found"
   ]
  },
  {
   "cell_type": "code",
   "execution_count": null,
   "metadata": {},
   "outputs": [],
   "source": []
  }
 ],
 "metadata": {
  "kernelspec": {
   "display_name": "Python 3",
   "language": "python",
   "name": "python3"
  },
  "language_info": {
   "codemirror_mode": {
    "name": "ipython",
    "version": 3
   },
   "file_extension": ".py",
   "mimetype": "text/x-python",
   "name": "python",
   "nbconvert_exporter": "python",
   "pygments_lexer": "ipython3",
   "version": "3.6.7"
  }
 },
 "nbformat": 4,
 "nbformat_minor": 2
}
