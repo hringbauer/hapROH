{
 "cells": [
  {
   "cell_type": "markdown",
   "metadata": {},
   "source": [
    "# Notebook to Prepare 1000 Genomes Data\n",
    "## Requires plink in binary folder and blink version: 1.9"
   ]
  },
  {
   "cell_type": "code",
   "execution_count": 1,
   "metadata": {},
   "outputs": [],
   "source": [
    "import allel\n",
    "import h5py  # Python Package to do the HDF5.\n",
    "import numpy as np\n",
    "import pandas as pd"
   ]
  },
  {
   "cell_type": "code",
   "execution_count": 2,
   "metadata": {},
   "outputs": [],
   "source": [
    "#path_vcf = \"../Data/1000Genomes/ALL.chrX.phase3_shapeit2_mvncall_integrated_v1b.20130502.genotypes.vcf.gz\" # Path of VCF\n",
    "path_vcf = \"../Data/1000Genomes/1000gX1240kEur.vcf\"\n",
    "#h5_path = \"../Data/1000Genomes/1000Genomes_X.hdf5\"\n",
    "h5_path = \"../Data/1000Genomes/1000gX1240kEur.hdf5\"\n",
    "ind_path = \"../Data/1000Genomes/integrated_call_samples_v2.20130502.ALL.ped\"  # Family Relationships\n",
    "pop_path = \"../Data/1000Genomes/integrated_call_samples_v3.20130502.ALL.panel\" # Population Information"
   ]
  },
  {
   "cell_type": "markdown",
   "metadata": {},
   "source": [
    "## Do the Conversion to HDF 5 \n",
    "Comment out / one can skip down for standalone extraction of autosomes"
   ]
  },
  {
   "cell_type": "code",
   "execution_count": 4,
   "metadata": {},
   "outputs": [],
   "source": [
    "### Do the conversion to hdf5 (if not done already)\n",
    "# geno = allel.read_vcf(path_vcf) # Load the VCF # Load the VCF # Needs too much Memory for my laptop\n",
    "#allel.vcf_to_hdf5(input=path_vcf, output=h5_path, compression=\"gzip\") # Do the conversion to hdf5. Takes 10 Minutes"
   ]
  },
  {
   "cell_type": "code",
   "execution_count": 3,
   "metadata": {},
   "outputs": [
    {
     "name": "stdout",
     "output_type": "stream",
     "text": [
      "Loaded 47297 variants\n",
      "Loaded 503 individuals\n",
      "['GT']\n",
      "['ALT', 'CHROM', 'FILTER_PASS', 'ID', 'POS', 'QUAL', 'REF']\n"
     ]
    }
   ],
   "source": [
    "## Load HDF5\n",
    "f = h5py.File(h5_path, \"r\") # Load for Sanity Check. See below!\n",
    "print(\"Loaded %i variants\" % np.shape(f[\"calldata/GT\"])[0])\n",
    "print(\"Loaded %i individuals\" % np.shape(f[\"calldata/GT\"])[1])\n",
    "print(list(f[\"calldata\"].keys()))\n",
    "print(list(f[\"variants\"].keys()))\n",
    "#print(list(f[\"samples\"].keys()))"
   ]
  },
  {
   "cell_type": "code",
   "execution_count": 4,
   "metadata": {},
   "outputs": [],
   "source": [
    "### Load the ID of the Individuals\n",
    "ids = np.array(f[\"variants/ID\"])\n",
    "df_s_empirical = pd.DataFrame({'Individual ID' : list(f[\"samples\"])})"
   ]
  },
  {
   "cell_type": "code",
   "execution_count": 5,
   "metadata": {},
   "outputs": [],
   "source": [
    "df_s_empirical[\"Individual ID\"] = df_s_empirical[\"Individual ID\"].str.split(\"_\").str[-1]"
   ]
  },
  {
   "cell_type": "markdown",
   "metadata": {},
   "source": [
    "# Load and Merge Individual Meta Data"
   ]
  },
  {
   "cell_type": "code",
   "execution_count": 8,
   "metadata": {},
   "outputs": [
    {
     "name": "stdout",
     "output_type": "stream",
     "text": [
      "Loaded 3691 Individuals\n",
      "Loaded 3691 Population Data\n",
      "Merged from 503 to 503 individuals\n"
     ]
    }
   ],
   "source": [
    "df_i = pd.read_csv(ind_path, sep=\"\\t\")\n",
    "print(f\"Loaded {np.shape(df_i)[0]} Individuals\")\n",
    "\n",
    "df_pops = pd.read_csv(pop_path, sep=\"\\t\")\n",
    "print(f\"Loaded {np.shape(df_i)[0]} Population Data\")\n",
    "\n",
    "### Merge with IDs in Genotype File\n",
    "df = pd.merge(df_s_empirical, df_i, on='Individual ID', how='inner')\n",
    "df = pd.merge(df, df_pops, left_on=\"Individual ID\", right_on=\"sample\", how=\"inner\")\n",
    "print(f\"Merged from {len(df_s_empirical)} to {len(df)} individuals\")\n",
    "assert(len(df_s_empirical) == len(df))  # Sanity Check"
   ]
  },
  {
   "cell_type": "code",
   "execution_count": 9,
   "metadata": {},
   "outputs": [
    {
     "data": {
      "text/plain": [
       "TSI    107\n",
       "IBS    107\n",
       "CEU     99\n",
       "FIN     99\n",
       "GBR     91\n",
       "Name: Population, dtype: int64"
      ]
     },
     "execution_count": 9,
     "metadata": {},
     "output_type": "execute_result"
    }
   ],
   "source": [
    "df[\"Population\"].value_counts()"
   ]
  },
  {
   "cell_type": "markdown",
   "metadata": {},
   "source": [
    "# Save Individual List\n",
    "Save table with Individual and Family IDs"
   ]
  },
  {
   "cell_type": "code",
   "execution_count": 5,
   "metadata": {},
   "outputs": [
    {
     "ename": "NameError",
     "evalue": "name 'df' is not defined",
     "output_type": "error",
     "traceback": [
      "\u001b[0;31m---------------------------------------------------------------------------\u001b[0m",
      "\u001b[0;31mNameError\u001b[0m                                 Traceback (most recent call last)",
      "\u001b[0;32m<ipython-input-5-a8c0557ad36b>\u001b[0m in \u001b[0;36m<module>\u001b[0;34m\u001b[0m\n\u001b[1;32m      1\u001b[0m \u001b[0msave_path\u001b[0m \u001b[0;34m=\u001b[0m \u001b[0;34m\"../Data/1000Genomes/EUR.csv\"\u001b[0m\u001b[0;34m\u001b[0m\u001b[0;34m\u001b[0m\u001b[0m\n\u001b[1;32m      2\u001b[0m \u001b[0;34m\u001b[0m\u001b[0m\n\u001b[0;32m----> 3\u001b[0;31m \u001b[0meur_inds\u001b[0m \u001b[0;34m=\u001b[0m \u001b[0mdf\u001b[0m\u001b[0;34m[\u001b[0m\u001b[0;34m\"super_pop\"\u001b[0m\u001b[0;34m]\u001b[0m\u001b[0;34m==\u001b[0m\u001b[0;34m\"EUR\"\u001b[0m\u001b[0;34m\u001b[0m\u001b[0;34m\u001b[0m\u001b[0m\n\u001b[0m\u001b[1;32m      4\u001b[0m \u001b[0mprint\u001b[0m\u001b[0;34m(\u001b[0m\u001b[0;34mf\"Nr of European Samples: {np.sum(eur_inds)}\"\u001b[0m\u001b[0;34m)\u001b[0m\u001b[0;34m\u001b[0m\u001b[0;34m\u001b[0m\u001b[0m\n\u001b[1;32m      5\u001b[0m \u001b[0;34m\u001b[0m\u001b[0m\n",
      "\u001b[0;31mNameError\u001b[0m: name 'df' is not defined"
     ]
    }
   ],
   "source": [
    "save_path = \"../Data/1000Genomes/EUR.csv\"\n",
    "\n",
    "eur_inds = df[\"super_pop\"]==\"EUR\"\n",
    "print(f\"Nr of European Samples: {np.sum(eur_inds)}\")\n",
    "\n",
    "df_save = df[eur_inds]\n",
    "df_save = df_save[[\"Family ID\", \"Individual ID\"]] # Extract column of Individual and Family ID\n",
    "df_save.to_csv(save_path, sep=\"\\t\", header=None, index=False)\n",
    "print(f\"Saved to {save_path}. Nr Individuals: {len(df_save)}\")\n",
    "\n",
    "### Do the same, but for families\n",
    "save_path = \"../Data/1000Genomes/EUR_fam.csv\"\n",
    "\n",
    "eur_inds = df[\"super_pop\"]==\"EUR\"\n",
    "print(f\"Nr of European Samples: {np.sum(eur_inds)}\")\n",
    "\n",
    "df_save = df[eur_inds]\n",
    "df_save = df_save[\"Individual ID\"] # Extract column of Individual and Family ID\n",
    "df_save.to_csv(save_path, sep=\"\\t\", header=None, index=False)\n",
    "print(f\"Saved to {save_path}. Nr Individuals: {len(df_save)}\")"
   ]
  },
  {
   "cell_type": "markdown",
   "metadata": {},
   "source": [
    "# Check against Sardinian X data"
   ]
  },
  {
   "cell_type": "code",
   "execution_count": 11,
   "metadata": {},
   "outputs": [
    {
     "name": "stderr",
     "output_type": "stream",
     "text": [
      "/usr/local/lib/python3.6/dist-packages/pandas/io/parsers.py:2230: FutureWarning: split() requires a non-empty pattern match.\n",
      "  yield pat.split(line.strip())\n",
      "/usr/local/lib/python3.6/dist-packages/pandas/io/parsers.py:2232: FutureWarning: split() requires a non-empty pattern match.\n",
      "  yield pat.split(line.strip())\n"
     ]
    },
    {
     "name": "stdout",
     "output_type": "stream",
     "text": [
      "Loaded 49711 X SNPs.\n"
     ]
    }
   ],
   "source": [
    "path_snp = \"../../ancient-sardinia/data/bed/full230.snp\" # All SNPs found in the 1240k Ancient Panel\n",
    "\n",
    "df_snp = pd.read_csv(path_snp, header=None, sep=r\"\\s*\", engine=\"python\")\n",
    "df_snp.columns = [\"SNP\", \"chr\", \"map\", \"pos\", \"ref\", \"alt\"]\n",
    "df_snp = df_snp[df_snp[\"chr\"]==23]\n",
    "\n",
    "print(f\"Loaded {len(df_snp)} X SNPs.\")"
   ]
  },
  {
   "cell_type": "markdown",
   "metadata": {},
   "source": [
    "# Save  interesection with 1240k Marker \n",
    "Prepare txt List for Plink filtering"
   ]
  },
  {
   "cell_type": "code",
   "execution_count": 6,
   "metadata": {},
   "outputs": [
    {
     "ename": "NameError",
     "evalue": "name 'df_snp' is not defined",
     "output_type": "error",
     "traceback": [
      "\u001b[0;31m---------------------------------------------------------------------------\u001b[0m",
      "\u001b[0;31mNameError\u001b[0m                                 Traceback (most recent call last)",
      "\u001b[0;32m<ipython-input-6-2ce60e01c790>\u001b[0m in \u001b[0;36m<module>\u001b[0;34m\u001b[0m\n\u001b[1;32m      1\u001b[0m \u001b[0msave_path\u001b[0m \u001b[0;34m=\u001b[0m \u001b[0;34m\"../Data/1000Genomes/variants1240k\"\u001b[0m\u001b[0;34m\u001b[0m\u001b[0;34m\u001b[0m\u001b[0m\n\u001b[1;32m      2\u001b[0m \u001b[0;34m\u001b[0m\u001b[0m\n\u001b[0;32m----> 3\u001b[0;31m \u001b[0mfound\u001b[0m \u001b[0;34m=\u001b[0m \u001b[0mnp\u001b[0m\u001b[0;34m.\u001b[0m\u001b[0misin\u001b[0m\u001b[0;34m(\u001b[0m\u001b[0mf\u001b[0m\u001b[0;34m[\u001b[0m\u001b[0;34m\"variants/POS\"\u001b[0m\u001b[0;34m]\u001b[0m\u001b[0;34m,\u001b[0m \u001b[0mdf_snp\u001b[0m\u001b[0;34m[\u001b[0m\u001b[0;34m\"pos\"\u001b[0m\u001b[0;34m]\u001b[0m\u001b[0;34m)\u001b[0m\u001b[0;34m\u001b[0m\u001b[0;34m\u001b[0m\u001b[0m\n\u001b[0m\u001b[1;32m      4\u001b[0m \u001b[0mprint\u001b[0m\u001b[0;34m(\u001b[0m\u001b[0;34mf\"Intersection: {np.sum(found)} out of {len(found)} SNPS\"\u001b[0m\u001b[0;34m)\u001b[0m\u001b[0;34m\u001b[0m\u001b[0;34m\u001b[0m\u001b[0m\n\u001b[1;32m      5\u001b[0m \u001b[0mvariants\u001b[0m \u001b[0;34m=\u001b[0m \u001b[0mf\u001b[0m\u001b[0;34m[\u001b[0m\u001b[0;34m\"variants/ID\"\u001b[0m\u001b[0;34m]\u001b[0m\u001b[0;34m[\u001b[0m\u001b[0mfound\u001b[0m\u001b[0;34m]\u001b[0m\u001b[0;34m\u001b[0m\u001b[0;34m\u001b[0m\u001b[0m\n",
      "\u001b[0;31mNameError\u001b[0m: name 'df_snp' is not defined"
     ]
    }
   ],
   "source": [
    "save_path = \"../Data/1000Genomes/variants1240k\"\n",
    "\n",
    "found = np.isin(f[\"variants/POS\"], df_snp[\"pos\"])\n",
    "print(f\"Intersection: {np.sum(found)} out of {len(found)} SNPS\")\n",
    "variants = f[\"variants/ID\"][found]\n",
    "\n",
    "dots = np.where(variants == \".\")[0]\n",
    "print(f\"Found {len(dots)} unnamed SNPs\")\n",
    "variants = np.delete(variants, dots)\n",
    "\n",
    "np.savetxt(save_path, variants, fmt=\"%s\")\n",
    "print(f\"Successfully saved to {save_path}. Length: {len(variants)}\")"
   ]
  },
  {
   "cell_type": "markdown",
   "metadata": {},
   "source": [
    "# Prepare downsampled Autosomal hdf5s\n",
    "Prepare a 1000 Genome autosomal hdf5 file. Include Recombination Map\n",
    "Input: 1000 Genome vcf file, Recombination Map from a 1240k Eigenstrat\n",
    "## Standalone from here forward."
   ]
  },
  {
   "cell_type": "code",
   "execution_count": 3,
   "metadata": {},
   "outputs": [],
   "source": [
    "### Important Parameters and paths\n",
    "ch = 3 # Which Chromosome to use:\n",
    "\n",
    "# Path of the 1000 Genome VCF:\n",
    "p1, p2 = \"\", \"\"\n",
    "file_vcf100g, path_vcf100g = \"\", \"\"\n",
    "out_vcf_path0, out_vcf_path = \"\", \"\"\n",
    "path_hdf5temp, path_hdf5final = \"\", \"\"\n",
    "\n",
    "snp1240k_path, ind_path = \"\", \"\"   # Where to find the 1240k SNPs\n",
    "snp_filter_path = \"\"\n",
    "\n",
    "def prepare_paths(ch = 3):\n",
    "    \"\"\"Prepares all the Paths need for processing Steps.\n",
    "    ch: Which Chromosomes to use\"\"\"\n",
    "    global p1, p2, file_vcf100g, path_vcf100g, out_vcf_path0, out_vcf_path, path_hdf5temp, path_hdf5final\n",
    "    global snp1240k_path, ind_path, snp_filter_path, out_vcf_path_gz, marker_path\n",
    "    # Path of the 1000 Genome VCF:\n",
    "    p1 = \"../Data/1000Genomes/AutosomeVCF/\"\n",
    "    p2 = \".phase3_shapeit2_mvncall_integrated_v5a.20130502.genotypes.vcf.gz\"\n",
    "    file_vcf100g = \"ALL.chr\" + str(ch) + p2\n",
    "    path_vcf100g = p1 + file_vcf100g\n",
    "    print(f\"Full Input path:\\n{path_vcf100g}\")\n",
    "    out_vcf_path0 = \"../Data/1000Genomes/AutosomeVCF/Subset/\" + \"1240EURchr\" + str(ch) # needs no .vcf\n",
    "    out_vcf_path = out_vcf_path0 + \".vcf\"\n",
    "    out_vcf_path_gz = out_vcf_path + \".gz\"\n",
    "    path_hdf5temp = \"../Data/1000Genomes/HDF5/FULLHDF5/cr\" + str(ch) + \".hdf5\"\n",
    "    path_hdf5final = \"../Data/1000Genomes/HDF5/1240kHDF5/Eur1240chr\" + str(ch) + \".hdf5\"\n",
    "    snp1240k_path = \"../Data/1000Genomes/Markers/MinMyc.snp\"   # Where to find the 1240k SNPs\n",
    "    ind_path = \"../Data/1000Genomes/Individuals/EUR_fam.csv\"   # Where to find the individual lists\n",
    "    marker_path = \"../Data/1000Genomes/Markers/1240k/chr\" + str(ch) + \".csv\"\n",
    "\n",
    "    # Path of SNP Filter\n",
    "    snp_filter_path = \"../Data/1000Genomes/Markers/variants1240k\" + str(ch) + \".txt\""
   ]
  },
  {
   "cell_type": "markdown",
   "metadata": {},
   "source": [
    "### Step 0: Download the Data\n",
    "### Step 1: Produce hdf5 file for all markers\n",
    "### Step 2: Extract Positions. Match with Eigenstrat File Positions\n",
    "### Step 3: Create new vcf based on subset of Individuals and Markers\n",
    "### Step 4: Transfer to hdf5. \n",
    "### Step 5: Merge in Linkage Map\n",
    "### Step 6: Quality Check? (Control ref/alt against hdf5 we have for Sardinians)"
   ]
  },
  {
   "cell_type": "code",
   "execution_count": 5,
   "metadata": {},
   "outputs": [],
   "source": [
    "### Step 0: Download the Data\n",
    "def download_1kg():\n",
    "    path_cl = \"/project/jnovembre/data/external_public/1kg_phase3/haps/\"\n",
    "    path_cluster = \"hringbauer@midway.rcc.uchicago.edu:\" + path_cl + file_vcf100g\n",
    "    \n",
    "    p_c = path_cluster + \".tbi\"\n",
    "    p_v = path_vcf100g + \".tbi\"\n",
    "    #!scp $p_c $p_v # Download the tbi\n",
    "    !scp $path_cluster $path_vcf100g # Only Download the .vcf (not the .tbi)\n",
    "    \n",
    "### Step 1: Produce hdf5 file for all markers\n",
    "def vcf_to_hdf5(in_path, out_path):\n",
    "    \"\"\"Transform Full VCF to FULL HDF5\"\"\"\n",
    "    allel.vcf_to_hdf5(input=in_path, output=out_path, compression=\"gzip\") # Takes 10 Minutes\n",
    "    \n",
    "### Step 2: Extract Positions. Match with Eigenstrat File Positions\n",
    "### Load HDF5\n",
    "\n",
    "def merge_positions():\n",
    "    \"\"\"Creates the Filter File to filter SNPs for\"\"\"\n",
    "    f_full = h5py.File(path_hdf5temp, \"r\") # Load for Sanity Check. See below!\n",
    "    print(\"Loaded %i variants\" % np.shape(f_full[\"calldata/GT\"])[0])\n",
    "    print(\"Loaded %i individuals\" % np.shape(f_full[\"calldata/GT\"])[1])\n",
    "    print(list(f_full[\"calldata\"].keys()))\n",
    "    print(list(f_full[\"variants\"].keys()))\n",
    "    #print(list(f[\"samples\"].keys()))\n",
    "\n",
    "    ### Load Eigenstrat\n",
    "    df_snp = pd.read_csv(snp1240k_path, header=None, sep=r\"\\s*\", engine=\"python\")\n",
    "    df_snp.columns = [\"SNP\", \"chr\", \"map\", \"pos\", \"ref\", \"alt\"]\n",
    "    df_snp = df_snp[df_snp[\"chr\"] == ch]\n",
    "    print(f\"Loaded {len(df_snp)} Chr.{ch} SNPs.\")\n",
    "\n",
    "    ### Prepare SNP File for Eigenstrat filtering \n",
    "    found = np.isin(f_full[\"variants/POS\"], df_snp[\"pos\"])\n",
    "    print(f\"Intersection: {np.sum(found)} out of {len(found)} SNPS\")\n",
    "    variants = f_full[\"variants/ID\"][found]\n",
    "\n",
    "    dots = np.where(variants == \".\")[0]\n",
    "    print(f\"Found {len(dots)} unnamed SNPs\")\n",
    "    variants = np.delete(variants, dots)\n",
    "\n",
    "    np.savetxt(snp_filter_path, variants, fmt=\"%s\")\n",
    "    print(f\"Successfully saved to {snp_filter_path}. Length: {len(variants)}\")\n",
    "    \n",
    "def save_1240kmarkers():\n",
    "    \"\"\"Save all 1240 Markers in csv\"\"\"\n",
    "    df_snp = pd.read_csv(snp1240k_path, header=None, sep=r\"\\s*\", engine=\"python\")\n",
    "    df_snp.columns = [\"SNP\", \"chr\", \"map\", \"pos\", \"ref\", \"alt\"]\n",
    "    df_snp = df_snp[df_snp[\"chr\"] == ch]\n",
    "    print(f\"Loaded {len(df_snp)} Chr.{ch} SNPs.\")\n",
    "\n",
    "    df_save = df_snp[[\"chr\", \"pos\"]]\n",
    "    df_save.to_csv(marker_path, sep=\"\\t\", header=None, index=False)\n",
    "    print(f\"Saved {len(df_save)} 1240k Markers on Chr. {ch} to {marker_path}\")\n",
    "    \n",
    "### Step 3: Create new vcf based on subset of Individuals and Markers\n",
    "def plink_new_vcf():\n",
    "    !plink --vcf $path_vcf100g --extract $snp_filter_path --keep-fam $ind_path --recode vcf --out $out_vcf_path0 --biallelic-only strict --keep-allele-order\n",
    "\n",
    "### Step 3b\n",
    "def bctools_new_vcf0():\n",
    "    \"\"\"Same as PLINK, but with bcftools\"\"\"\n",
    "    str_ex = \"ID=@\" + snp_filter_path\n",
    "    #!echo bcftools view -Oz -o $out_vcf_path_gz -S $ind_path -i $str_ex -m2 -M2 -v snps $path_vcf100g\n",
    "    !bcftools view -Oz -o $out_vcf_path_gz -S $ind_path -i $str_ex -m2 -M2 -v snps $path_vcf100g\n",
    "    print(\"Finished BCF tools runs.\")\n",
    "    \n",
    "def bctools_new_vcf():\n",
    "    \"\"\"Same as PLINK, but with bcftools and directly via Marker Positions\"\"\"\n",
    "    !bcftools view -Oz -o $out_vcf_path_gz -S $ind_path -T $marker_path -m2 -M2 -v snps $path_vcf100g\n",
    "    print(\"Finished BCF tools runs.\")\n",
    "\n",
    "### Step 4: Transfer to hdf5.\n",
    "#allel.vcf_to_hdf5(input=out_vcf_path, output=path_hdf5final, compression=\"gzip\") # Takes 1s\n",
    " \n",
    "### Step 5: Merge in Linkage Map\n",
    "### Load HDF5\n",
    "def merge_in_ld_map():\n",
    "    \"\"\"Merge in ld_map into HDF5!\"\"\"\n",
    "    f = h5py.File(path_hdf5final, \"r\") # Load for Sanity Check. See below!\n",
    "    print(\"Loaded %i variants\" % np.shape(f[\"calldata/GT\"])[0])\n",
    "    print(\"Loaded %i individuals\" % np.shape(f[\"calldata/GT\"])[1])\n",
    "    print(list(f[\"calldata\"].keys()))\n",
    "    print(list(f[\"variants\"].keys()))\n",
    "    #print(list(f[\"samples\"].keys()))\n",
    "\n",
    "    ### Load Eigenstrat\n",
    "    df_snp = pd.read_csv(snp1240k_path, header=None, sep=r\"\\s*\", engine=\"python\")\n",
    "    df_snp.columns = [\"SNP\", \"chr\", \"map\", \"pos\", \"ref\", \"alt\"]\n",
    "    df_snp = df_snp[df_snp[\"chr\"] == ch]\n",
    "    print(f\"Loaded {len(df_snp)} Chr.{ch} SNPs.\")\n",
    "\n",
    "    ### Intersect SNP positions\n",
    "    its, i1, i2 = np.intersect1d(f[\"variants/POS\"], df_snp[\"pos\"], return_indices=True)\n",
    "\n",
    "    l = len(f[\"variants/POS\"])\n",
    "    print(f\"Intersection {len(i2)} out of {l}\")\n",
    "\n",
    "    ### Extract \n",
    "    rec = np.zeros(len(f[\"variants/POS\"]))\n",
    "    rec[i1] = df_snp[\"map\"].values[i2]  # Fill in the values in Recombination map\n",
    "\n",
    "    ids0 = np.where(rec == 0)[0] # The 0 Values\n",
    "    rec[ids0] = (rec[ids0-1] + rec[ids0+1]) / 2.0 # Interpolate\n",
    "\n",
    "    ### Make sure that sorted\n",
    "    assert(np.all(np.diff(rec)>=0))  # Assert the Recombination Map is sorted! (no 0 left and no funky stuff)\n",
    "\n",
    "    f.close()\n",
    "    with h5py.File(path_hdf5final, 'a') as f0:\n",
    "        group = f0[\"variants\"]\n",
    "        group.create_dataset('MAP', (l,), dtype='f')   \n",
    "        f0[\"variants/MAP\"][:] = rec[:]\n",
    "\n",
    "    print(f\"Finished Chromosome {ch}\")\n",
    "    \n",
    "### Step 6: Delete the Data:\n",
    "def del_temp_data():\n",
    "    !rm $path_vcf100g # Remove the full .vcf\n",
    "    #!rm $out_vcf_path\n",
    "    #!rm $path_hdf5temp"
   ]
  },
  {
   "cell_type": "markdown",
   "metadata": {},
   "source": [
    "# All in one Run"
   ]
  },
  {
   "cell_type": "code",
   "execution_count": 6,
   "metadata": {},
   "outputs": [],
   "source": [
    "def prep_1000genomes_full(ch):\n",
    "    \"\"\"ch: Which Chromosome to prepare\"\"\"\n",
    "    prepare_paths(ch = ch)\n",
    "    download_1kg()\n",
    "    print(\"Download Complete\")\n",
    "    #vcf_to_hdf5(in_path=path_vcf100g, out_path=path_hdf5temp) # Takes 10 Minutes\n",
    "    #print(\"Transformation to HDF5 Complete.\")\n",
    "    #merge_positions()\n",
    "    save_1240kmarkers()\n",
    "    #plink_new_vcf()\n",
    "    bctools_new_vcf()\n",
    "    vcf_to_hdf5(in_path=out_vcf_path_gz, out_path=path_hdf5final)\n",
    "    merge_in_ld_map()\n",
    "    #del_temp_data()\n",
    "    print(f\"Finished Preparing HDF5 Chromosome {ch}. GZ!\")"
   ]
  },
  {
   "cell_type": "code",
   "execution_count": 7,
   "metadata": {},
   "outputs": [
    {
     "name": "stdout",
     "output_type": "stream",
     "text": [
      "Preparing Chromosome: 1\n",
      "Full Input path:\n",
      "../Data/1000Genomes/AutosomeVCF/ALL.chr1.phase3_shapeit2_mvncall_integrated_v5a.20130502.genotypes.vcf.gz\n",
      "ALL.chr1.phase3_shapeit2_mvncall_integrated_v 100% 1161MB  11.1MB/s   01:44    \n",
      "Download Complete\n"
     ]
    },
    {
     "name": "stderr",
     "output_type": "stream",
     "text": [
      "/usr/local/lib/python3.6/dist-packages/pandas/io/parsers.py:2230: FutureWarning: split() requires a non-empty pattern match.\n",
      "  yield pat.split(line.strip())\n",
      "/usr/local/lib/python3.6/dist-packages/pandas/io/parsers.py:2232: FutureWarning: split() requires a non-empty pattern match.\n",
      "  yield pat.split(line.strip())\n"
     ]
    },
    {
     "name": "stdout",
     "output_type": "stream",
     "text": [
      "Loaded 93166 Chr.1 SNPs.\n",
      "Saved 93166 1240k Markers on Chr. 1 to ../Data/1000Genomes/Markers/1240k/chr1.csv\n",
      "Finished BCF tools runs.\n",
      "Loaded 89147 variants\n",
      "Loaded 503 individuals\n",
      "['GT']\n",
      "['ALT', 'CHROM', 'FILTER_PASS', 'ID', 'POS', 'QUAL', 'REF']\n",
      "Loaded 93166 Chr.1 SNPs.\n",
      "Intersection 89147 out of 89147\n",
      "Finished Chromosome 1\n",
      "Finished Preparing HDF5 Chromosome 1. GZ!\n",
      "Preparing Chromosome: 2\n",
      "Full Input path:\n",
      "../Data/1000Genomes/AutosomeVCF/ALL.chr2.phase3_shapeit2_mvncall_integrated_v5a.20130502.genotypes.vcf.gz\n",
      "ALL.chr2.phase3_shapeit2_mvncall_integrated_v 100% 1252MB  11.2MB/s   01:52    \n",
      "Download Complete\n",
      "Loaded 98657 Chr.2 SNPs.\n",
      "Saved 98657 1240k Markers on Chr. 2 to ../Data/1000Genomes/Markers/1240k/chr2.csv\n",
      "Finished BCF tools runs.\n",
      "Loaded 94239 variants\n",
      "Loaded 503 individuals\n",
      "['GT']\n",
      "['ALT', 'CHROM', 'FILTER_PASS', 'ID', 'POS', 'QUAL', 'REF']\n",
      "Loaded 98657 Chr.2 SNPs.\n",
      "Intersection 94239 out of 94239\n",
      "Finished Chromosome 2\n",
      "Finished Preparing HDF5 Chromosome 2. GZ!\n",
      "Preparing Chromosome: 3\n",
      "Full Input path:\n",
      "../Data/1000Genomes/AutosomeVCF/ALL.chr3.phase3_shapeit2_mvncall_integrated_v5a.20130502.genotypes.vcf.gz\n",
      "ALL.chr3.phase3_shapeit2_mvncall_integrated_v 100% 1055MB  11.2MB/s   01:34    \n",
      "Download Complete\n",
      "Loaded 81416 Chr.3 SNPs.\n",
      "Saved 81416 1240k Markers on Chr. 3 to ../Data/1000Genomes/Markers/1240k/chr3.csv\n",
      "Finished BCF tools runs.\n",
      "Loaded 77652 variants\n",
      "Loaded 503 individuals\n",
      "['GT']\n",
      "['ALT', 'CHROM', 'FILTER_PASS', 'ID', 'POS', 'QUAL', 'REF']\n",
      "Loaded 81416 Chr.3 SNPs.\n",
      "Intersection 77652 out of 77652\n",
      "Finished Chromosome 3\n",
      "Finished Preparing HDF5 Chromosome 3. GZ!\n",
      "Preparing Chromosome: 4\n",
      "Full Input path:\n",
      "../Data/1000Genomes/AutosomeVCF/ALL.chr4.phase3_shapeit2_mvncall_integrated_v5a.20130502.genotypes.vcf.gz\n",
      "ALL.chr4.phase3_shapeit2_mvncall_integrated_v 100% 1065MB  11.2MB/s   01:35    \n",
      "Download Complete\n",
      "Loaded 71634 Chr.4 SNPs.\n",
      "Saved 71634 1240k Markers on Chr. 4 to ../Data/1000Genomes/Markers/1240k/chr4.csv\n",
      "Finished BCF tools runs.\n",
      "Loaded 68759 variants\n",
      "Loaded 503 individuals\n",
      "['GT']\n",
      "['ALT', 'CHROM', 'FILTER_PASS', 'ID', 'POS', 'QUAL', 'REF']\n",
      "Loaded 71634 Chr.4 SNPs.\n",
      "Intersection 68759 out of 68759\n",
      "Finished Chromosome 4\n",
      "Finished Preparing HDF5 Chromosome 4. GZ!\n",
      "Preparing Chromosome: 5\n",
      "Full Input path:\n",
      "../Data/1000Genomes/AutosomeVCF/ALL.chr5.phase3_shapeit2_mvncall_integrated_v5a.20130502.genotypes.vcf.gz\n",
      "ALL.chr5.phase3_shapeit2_mvncall_integrated_v 100%  943MB  11.2MB/s   01:24    \n",
      "Download Complete\n",
      "Loaded 74004 Chr.5 SNPs.\n",
      "Saved 74004 1240k Markers on Chr. 5 to ../Data/1000Genomes/Markers/1240k/chr5.csv\n",
      "Finished BCF tools runs.\n",
      "Loaded 69399 variants\n",
      "Loaded 503 individuals\n",
      "['GT']\n",
      "['ALT', 'CHROM', 'FILTER_PASS', 'ID', 'POS', 'QUAL', 'REF']\n",
      "Loaded 74004 Chr.5 SNPs.\n",
      "Intersection 69399 out of 69399\n",
      "Finished Chromosome 5\n",
      "Finished Preparing HDF5 Chromosome 5. GZ!\n",
      "Preparing Chromosome: 6\n",
      "Full Input path:\n",
      "../Data/1000Genomes/AutosomeVCF/ALL.chr6.phase3_shapeit2_mvncall_integrated_v5a.20130502.genotypes.vcf.gz\n",
      "ALL.chr6.phase3_shapeit2_mvncall_integrated_v 100%  953MB  11.1MB/s   01:26    \n",
      "Download Complete\n",
      "Loaded 78867 Chr.6 SNPs.\n",
      "Saved 78867 1240k Markers on Chr. 6 to ../Data/1000Genomes/Markers/1240k/chr6.csv\n",
      "Finished BCF tools runs.\n",
      "Loaded 75870 variants\n",
      "Loaded 503 individuals\n",
      "['GT']\n",
      "['ALT', 'CHROM', 'FILTER_PASS', 'ID', 'POS', 'QUAL', 'REF']\n",
      "Loaded 78867 Chr.6 SNPs.\n",
      "Intersection 75870 out of 75870\n",
      "Finished Chromosome 6\n",
      "Finished Preparing HDF5 Chromosome 6. GZ!\n",
      "Preparing Chromosome: 7\n",
      "Full Input path:\n",
      "../Data/1000Genomes/AutosomeVCF/ALL.chr7.phase3_shapeit2_mvncall_integrated_v5a.20130502.genotypes.vcf.gz\n",
      "ALL.chr7.phase3_shapeit2_mvncall_integrated_v 100%  866MB  11.2MB/s   01:17    \n",
      "Download Complete\n",
      "Loaded 62595 Chr.7 SNPs.\n",
      "Saved 62595 1240k Markers on Chr. 7 to ../Data/1000Genomes/Markers/1240k/chr7.csv\n",
      "Finished BCF tools runs.\n",
      "Loaded 59890 variants\n",
      "Loaded 503 individuals\n",
      "['GT']\n",
      "['ALT', 'CHROM', 'FILTER_PASS', 'ID', 'POS', 'QUAL', 'REF']\n",
      "Loaded 62595 Chr.7 SNPs.\n",
      "Intersection 59890 out of 59890\n",
      "Finished Chromosome 7\n",
      "Finished Preparing HDF5 Chromosome 7. GZ!\n",
      "Preparing Chromosome: 8\n",
      "Full Input path:\n",
      "../Data/1000Genomes/AutosomeVCF/ALL.chr8.phase3_shapeit2_mvncall_integrated_v5a.20130502.genotypes.vcf.gz\n",
      "ALL.chr8.phase3_shapeit2_mvncall_integrated_v 100%  821MB  11.2MB/s   01:13    \n",
      "Download Complete\n",
      "Loaded 63916 Chr.8 SNPs.\n",
      "Saved 63916 1240k Markers on Chr. 8 to ../Data/1000Genomes/Markers/1240k/chr8.csv\n",
      "Finished BCF tools runs.\n",
      "Loaded 61133 variants\n",
      "Loaded 503 individuals\n",
      "['GT']\n",
      "['ALT', 'CHROM', 'FILTER_PASS', 'ID', 'POS', 'QUAL', 'REF']\n",
      "Loaded 63916 Chr.8 SNPs.\n",
      "Intersection 61133 out of 61133\n",
      "Finished Chromosome 8\n",
      "Finished Preparing HDF5 Chromosome 8. GZ!\n",
      "Preparing Chromosome: 9\n",
      "Full Input path:\n",
      "../Data/1000Genomes/AutosomeVCF/ALL.chr9.phase3_shapeit2_mvncall_integrated_v5a.20130502.genotypes.vcf.gz\n",
      "ALL.chr9.phase3_shapeit2_mvncall_integrated_v 100%  642MB  11.1MB/s   00:57    \n",
      "Download Complete\n",
      "Loaded 52765 Chr.9 SNPs.\n",
      "Saved 52765 1240k Markers on Chr. 9 to ../Data/1000Genomes/Markers/1240k/chr9.csv\n",
      "Finished BCF tools runs.\n",
      "Loaded 50668 variants\n",
      "Loaded 503 individuals\n",
      "['GT']\n",
      "['ALT', 'CHROM', 'FILTER_PASS', 'ID', 'POS', 'QUAL', 'REF']\n",
      "Loaded 52765 Chr.9 SNPs.\n",
      "Intersection 50668 out of 50668\n",
      "Finished Chromosome 9\n",
      "Finished Preparing HDF5 Chromosome 9. GZ!\n",
      "Preparing Chromosome: 10\n",
      "Full Input path:\n",
      "../Data/1000Genomes/AutosomeVCF/ALL.chr10.phase3_shapeit2_mvncall_integrated_v5a.20130502.genotypes.vcf.gz\n",
      "ALL.chr10.phase3_shapeit2_mvncall_integrated_ 100%  738MB  11.2MB/s   01:06    \n",
      "Download Complete\n",
      "Loaded 61131 Chr.10 SNPs.\n",
      "Saved 61131 1240k Markers on Chr. 10 to ../Data/1000Genomes/Markers/1240k/chr10.csv\n",
      "Finished BCF tools runs.\n",
      "Loaded 58804 variants\n",
      "Loaded 503 individuals\n",
      "['GT']\n",
      "['ALT', 'CHROM', 'FILTER_PASS', 'ID', 'POS', 'QUAL', 'REF']\n",
      "Loaded 61131 Chr.10 SNPs.\n",
      "Intersection 58804 out of 58804\n",
      "Finished Chromosome 10\n",
      "Finished Preparing HDF5 Chromosome 10. GZ!\n",
      "Preparing Chromosome: 11\n",
      "Full Input path:\n",
      "../Data/1000Genomes/AutosomeVCF/ALL.chr11.phase3_shapeit2_mvncall_integrated_v5a.20130502.genotypes.vcf.gz\n",
      "ALL.chr11.phase3_shapeit2_mvncall_integrated_ 100%  732MB  11.1MB/s   01:05    \n",
      "Download Complete\n",
      "Loaded 57163 Chr.11 SNPs.\n",
      "Saved 57163 1240k Markers on Chr. 11 to ../Data/1000Genomes/Markers/1240k/chr11.csv\n",
      "Finished BCF tools runs.\n",
      "Loaded 54833 variants\n",
      "Loaded 503 individuals\n",
      "['GT']\n",
      "['ALT', 'CHROM', 'FILTER_PASS', 'ID', 'POS', 'QUAL', 'REF']\n",
      "Loaded 57163 Chr.11 SNPs.\n",
      "Intersection 54833 out of 54833\n",
      "Finished Chromosome 11\n",
      "Finished Preparing HDF5 Chromosome 11. GZ!\n",
      "Preparing Chromosome: 12\n",
      "Full Input path:\n",
      "../Data/1000Genomes/AutosomeVCF/ALL.chr12.phase3_shapeit2_mvncall_integrated_v5a.20130502.genotypes.vcf.gz\n",
      "ALL.chr12.phase3_shapeit2_mvncall_integrated_ 100%  706MB  11.2MB/s   01:03    \n",
      "Download Complete\n",
      "Loaded 56133 Chr.12 SNPs.\n",
      "Saved 56133 1240k Markers on Chr. 12 to ../Data/1000Genomes/Markers/1240k/chr12.csv\n",
      "Finished BCF tools runs.\n",
      "Loaded 53911 variants\n",
      "Loaded 503 individuals\n",
      "['GT']\n",
      "['ALT', 'CHROM', 'FILTER_PASS', 'ID', 'POS', 'QUAL', 'REF']\n",
      "Loaded 56133 Chr.12 SNPs.\n",
      "Intersection 53911 out of 53911\n",
      "Finished Chromosome 12\n",
      "Finished Preparing HDF5 Chromosome 12. GZ!\n",
      "Preparing Chromosome: 13\n",
      "Full Input path:\n",
      "../Data/1000Genomes/AutosomeVCF/ALL.chr13.phase3_shapeit2_mvncall_integrated_v5a.20130502.genotypes.vcf.gz\n",
      "ALL.chr13.phase3_shapeit2_mvncall_integrated_ 100%  531MB  11.2MB/s   00:47    \n",
      "Download Complete\n",
      "Loaded 40441 Chr.13 SNPs.\n",
      "Saved 40441 1240k Markers on Chr. 13 to ../Data/1000Genomes/Markers/1240k/chr13.csv\n",
      "Finished BCF tools runs.\n",
      "Loaded 39018 variants\n",
      "Loaded 503 individuals\n",
      "['GT']\n",
      "['ALT', 'CHROM', 'FILTER_PASS', 'ID', 'POS', 'QUAL', 'REF']\n",
      "Loaded 40441 Chr.13 SNPs.\n",
      "Intersection 39018 out of 39018\n",
      "Finished Chromosome 13\n",
      "Finished Preparing HDF5 Chromosome 13. GZ!\n",
      "Preparing Chromosome: 14\n",
      "Full Input path:\n",
      "../Data/1000Genomes/AutosomeVCF/ALL.chr14.phase3_shapeit2_mvncall_integrated_v5a.20130502.genotypes.vcf.gz\n",
      "ALL.chr14.phase3_shapeit2_mvncall_integrated_ 100%  483MB  11.2MB/s   00:43    \n",
      "Download Complete\n",
      "Loaded 37903 Chr.14 SNPs.\n",
      "Saved 37903 1240k Markers on Chr. 14 to ../Data/1000Genomes/Markers/1240k/chr14.csv\n",
      "Finished BCF tools runs.\n",
      "Loaded 36301 variants\n",
      "Loaded 503 individuals\n",
      "['GT']\n",
      "['ALT', 'CHROM', 'FILTER_PASS', 'ID', 'POS', 'QUAL', 'REF']\n"
     ]
    },
    {
     "name": "stdout",
     "output_type": "stream",
     "text": [
      "Loaded 37903 Chr.14 SNPs.\n",
      "Intersection 36301 out of 36301\n",
      "Finished Chromosome 14\n",
      "Finished Preparing HDF5 Chromosome 14. GZ!\n",
      "Preparing Chromosome: 15\n",
      "Full Input path:\n",
      "../Data/1000Genomes/AutosomeVCF/ALL.chr15.phase3_shapeit2_mvncall_integrated_v5a.20130502.genotypes.vcf.gz\n",
      "ALL.chr15.phase3_shapeit2_mvncall_integrated_ 100%  437MB  11.1MB/s   00:39    \n",
      "Download Complete\n",
      "Loaded 35991 Chr.15 SNPs.\n",
      "Saved 35991 1240k Markers on Chr. 15 to ../Data/1000Genomes/Markers/1240k/chr15.csv\n",
      "Finished BCF tools runs.\n",
      "Loaded 34429 variants\n",
      "Loaded 503 individuals\n",
      "['GT']\n",
      "['ALT', 'CHROM', 'FILTER_PASS', 'ID', 'POS', 'QUAL', 'REF']\n",
      "Loaded 35991 Chr.15 SNPs.\n",
      "Intersection 34429 out of 34429\n",
      "Finished Chromosome 15\n",
      "Finished Preparing HDF5 Chromosome 15. GZ!\n",
      "Preparing Chromosome: 16\n",
      "Full Input path:\n",
      "../Data/1000Genomes/AutosomeVCF/ALL.chr16.phase3_shapeit2_mvncall_integrated_v5a.20130502.genotypes.vcf.gz\n",
      "ALL.chr16.phase3_shapeit2_mvncall_integrated_ 100%  472MB  11.2MB/s   00:42    \n",
      "Download Complete\n",
      "Loaded 36000 Chr.16 SNPs.\n",
      "Saved 36000 1240k Markers on Chr. 16 to ../Data/1000Genomes/Markers/1240k/chr16.csv\n",
      "Finished BCF tools runs.\n",
      "Loaded 34402 variants\n",
      "Loaded 503 individuals\n",
      "['GT']\n",
      "['ALT', 'CHROM', 'FILTER_PASS', 'ID', 'POS', 'QUAL', 'REF']\n",
      "Loaded 36000 Chr.16 SNPs.\n",
      "Intersection 34402 out of 34402\n",
      "Finished Chromosome 16\n",
      "Finished Preparing HDF5 Chromosome 16. GZ!\n",
      "Preparing Chromosome: 17\n",
      "Full Input path:\n",
      "../Data/1000Genomes/AutosomeVCF/ALL.chr17.phase3_shapeit2_mvncall_integrated_v5a.20130502.genotypes.vcf.gz\n",
      "ALL.chr17.phase3_shapeit2_mvncall_integrated_ 100%  414MB  11.2MB/s   00:37    \n",
      "Download Complete\n",
      "Loaded 30733 Chr.17 SNPs.\n",
      "Saved 30733 1240k Markers on Chr. 17 to ../Data/1000Genomes/Markers/1240k/chr17.csv\n",
      "Finished BCF tools runs.\n",
      "Loaded 29314 variants\n",
      "Loaded 503 individuals\n",
      "['GT']\n",
      "['ALT', 'CHROM', 'FILTER_PASS', 'ID', 'POS', 'QUAL', 'REF']\n",
      "Loaded 30733 Chr.17 SNPs.\n",
      "Intersection 29314 out of 29314\n",
      "Finished Chromosome 17\n",
      "Finished Preparing HDF5 Chromosome 17. GZ!\n",
      "Preparing Chromosome: 18\n",
      "Full Input path:\n",
      "../Data/1000Genomes/AutosomeVCF/ALL.chr18.phase3_shapeit2_mvncall_integrated_v5a.20130502.genotypes.vcf.gz\n",
      "ALL.chr18.phase3_shapeit2_mvncall_integrated_ 100%  416MB  11.2MB/s   00:37    \n",
      "Download Complete\n",
      "Loaded 35327 Chr.18 SNPs.\n",
      "Saved 35327 1240k Markers on Chr. 18 to ../Data/1000Genomes/Markers/1240k/chr18.csv\n",
      "Finished BCF tools runs.\n",
      "Loaded 33917 variants\n",
      "Loaded 503 individuals\n",
      "['GT']\n",
      "['ALT', 'CHROM', 'FILTER_PASS', 'ID', 'POS', 'QUAL', 'REF']\n",
      "Loaded 35327 Chr.18 SNPs.\n",
      "Intersection 33917 out of 33917\n",
      "Finished Chromosome 18\n",
      "Finished Preparing HDF5 Chromosome 18. GZ!\n",
      "Preparing Chromosome: 19\n",
      "Full Input path:\n",
      "../Data/1000Genomes/AutosomeVCF/ALL.chr19.phase3_shapeit2_mvncall_integrated_v5a.20130502.genotypes.vcf.gz\n",
      "ALL.chr19.phase3_shapeit2_mvncall_integrated_ 100%  343MB  11.2MB/s   00:30    \n",
      "Download Complete\n",
      "Loaded 19273 Chr.19 SNPs.\n",
      "Saved 19273 1240k Markers on Chr. 19 to ../Data/1000Genomes/Markers/1240k/chr19.csv\n",
      "Finished BCF tools runs.\n",
      "Loaded 18460 variants\n",
      "Loaded 503 individuals\n",
      "['GT']\n",
      "['ALT', 'CHROM', 'FILTER_PASS', 'ID', 'POS', 'QUAL', 'REF']\n",
      "Loaded 19273 Chr.19 SNPs.\n",
      "Intersection 18460 out of 18460\n",
      "Finished Chromosome 19\n",
      "Finished Preparing HDF5 Chromosome 19. GZ!\n",
      "Preparing Chromosome: 20\n",
      "Full Input path:\n",
      "../Data/1000Genomes/AutosomeVCF/ALL.chr20.phase3_shapeit2_mvncall_integrated_v5a.20130502.genotypes.vcf.gz\n",
      "ALL.chr20.phase3_shapeit2_mvncall_integrated_ 100%  326MB  11.0MB/s   00:29    \n",
      "Download Complete\n",
      "Loaded 30377 Chr.20 SNPs.\n",
      "Saved 30377 1240k Markers on Chr. 20 to ../Data/1000Genomes/Markers/1240k/chr20.csv\n",
      "Finished BCF tools runs.\n",
      "Loaded 29078 variants\n",
      "Loaded 503 individuals\n",
      "['GT']\n",
      "['ALT', 'CHROM', 'FILTER_PASS', 'ID', 'POS', 'QUAL', 'REF']\n",
      "Loaded 30377 Chr.20 SNPs.\n",
      "Intersection 29078 out of 29078\n",
      "Finished Chromosome 20\n",
      "Finished Preparing HDF5 Chromosome 20. GZ!\n",
      "Preparing Chromosome: 21\n",
      "Full Input path:\n",
      "../Data/1000Genomes/AutosomeVCF/ALL.chr21.phase3_shapeit2_mvncall_integrated_v5a.20130502.genotypes.vcf.gz\n",
      "ALL.chr21.phase3_shapeit2_mvncall_integrated_ 100%  208MB  11.0MB/s   00:18    \n",
      "Download Complete\n",
      "Loaded 16727 Chr.21 SNPs.\n",
      "Saved 16727 1240k Markers on Chr. 21 to ../Data/1000Genomes/Markers/1240k/chr21.csv\n",
      "Finished BCF tools runs.\n",
      "Loaded 16038 variants\n",
      "Loaded 503 individuals\n",
      "['GT']\n",
      "['ALT', 'CHROM', 'FILTER_PASS', 'ID', 'POS', 'QUAL', 'REF']\n",
      "Loaded 16727 Chr.21 SNPs.\n",
      "Intersection 16038 out of 16038\n",
      "Finished Chromosome 21\n",
      "Finished Preparing HDF5 Chromosome 21. GZ!\n",
      "Preparing Chromosome: 22\n",
      "Full Input path:\n",
      "../Data/1000Genomes/AutosomeVCF/ALL.chr22.phase3_shapeit2_mvncall_integrated_v5a.20130502.genotypes.vcf.gz\n",
      "ALL.chr22.phase3_shapeit2_mvncall_integrated_ 100%  205MB  11.0MB/s   00:18    \n",
      "Download Complete\n",
      "Loaded 16420 Chr.22 SNPs.\n",
      "Saved 16420 1240k Markers on Chr. 22 to ../Data/1000Genomes/Markers/1240k/chr22.csv\n",
      "Finished BCF tools runs.\n",
      "Loaded 15802 variants\n",
      "Loaded 503 individuals\n",
      "['GT']\n",
      "['ALT', 'CHROM', 'FILTER_PASS', 'ID', 'POS', 'QUAL', 'REF']\n",
      "Loaded 16420 Chr.22 SNPs.\n",
      "Intersection 15802 out of 15802\n",
      "Finished Chromosome 22\n",
      "Finished Preparing HDF5 Chromosome 22. GZ!\n"
     ]
    }
   ],
   "source": [
    "#ch=2  # Which Chromosome to prepare\n",
    "\n",
    "for ch in range(1, 23):\n",
    "    print(f\"Preparing Chromosome: {ch}\")\n",
    "    prep_1000genomes_full(ch)\n",
    "    \n",
    "print"
   ]
  },
  {
   "cell_type": "markdown",
   "metadata": {},
   "source": [
    "### Trouble Shooting"
   ]
  },
  {
   "cell_type": "code",
   "execution_count": 49,
   "metadata": {},
   "outputs": [],
   "source": [
    "def prep_1000genomes_full_error(ch):\n",
    "    \"\"\"ch: Which Chromosome to prepare\"\"\"\n",
    "    prepare_paths(ch = ch)\n",
    "    #download_1kg()\n",
    "    #print(\"Download Complete\")\n",
    "    #vcf_to_hdf5(in_path=path_vcf100g, out_path=path_hdf5temp) # Takes 10 Minutes\n",
    "    #print(\"Transformation to HDF5 Complete.\")\n",
    "    #merge_positions()\n",
    "    #plink_new_vcf()\n",
    "    #bctools_new_vcf()\n",
    "    vcf_to_hdf5(in_path=out_vcf_path_gz, out_path=path_hdf5final)\n",
    "    #merge_in_ld_map()\n",
    "    #del_temp_data()\n",
    "    print(\"Finished Preparing HDF5. GZ!\")"
   ]
  },
  {
   "cell_type": "code",
   "execution_count": 50,
   "metadata": {
    "scrolled": true
   },
   "outputs": [
    {
     "name": "stdout",
     "output_type": "stream",
     "text": [
      "Full Input path:\n",
      "../Data/1000Genomes/AutosomeVCF/ALL.chr21.phase3_shapeit2_mvncall_integrated_v5a.20130502.genotypes.vcf.gz\n",
      "Finished Preparing HDF5. GZ!\n"
     ]
    }
   ],
   "source": [
    "ch = 21\n",
    "prep_1000genomes_full_error(ch=21)"
   ]
  },
  {
   "cell_type": "markdown",
   "metadata": {},
   "source": [
    "# Downsample to 1240k SNPs withing VCF\n",
    "Use bcftools"
   ]
  },
  {
   "cell_type": "code",
   "execution_count": 18,
   "metadata": {},
   "outputs": [
    {
     "name": "stdout",
     "output_type": "stream",
     "text": [
      "Loaded 81416 Chr.3 SNPs.\n",
      "Saved 81416 1240k Markers on Chr. 3 to ../Data/1000Genomes/Markers/1240k/chr3.csv\n"
     ]
    }
   ],
   "source": [
    "### Downsample to 1240k SNPs\n",
    "\n",
    "### Step1:\n",
    "# Produce the .csv\n",
    "\n",
    "\n"
   ]
  },
  {
   "cell_type": "code",
   "execution_count": 21,
   "metadata": {},
   "outputs": [
    {
     "name": "stdout",
     "output_type": "stream",
     "text": [
      "Finished BCF tools runs.\n"
     ]
    }
   ],
   "source": [
    "### Step2:\n",
    "# Do the BCF Tools Step\n",
    "str_ex = \"ID=@\" + snp_filter_path\n",
    "#!echo bcftools view -Oz -o $out_vcf_path_gz -S $ind_path -i $str_ex -m2 -M2 -v snps $path_vcf100g\n",
    "!bcftools view -Oz -o $out_vcf_path_gz -S $ind_path -i $str_ex -T $save_path -m2 -M2 -v snps $path_vcf100g\n",
    "print(\"Finished BCF tools runs.\")"
   ]
  },
  {
   "cell_type": "code",
   "execution_count": 22,
   "metadata": {},
   "outputs": [
    {
     "name": "stdout",
     "output_type": "stream",
     "text": [
      "Finished BCF tools runs.\n",
      "CPU times: user 10.6 s, sys: 1.63 s, total: 12.3 s\n",
      "Wall time: 13min 29s\n"
     ]
    }
   ],
   "source": [
    "%%time\n",
    "#!echo bcftools view -Oz -o $out_vcf_path_gz -S $ind_path -i $str_ex -m2 -M2 -v snps $path_vcf100g\n",
    "!bcftools view -Oz -o $out_vcf_path_gz -S $ind_path -T $save_path -m2 -M2 -v snps $path_vcf100g\n",
    "print(\"Finished BCF tools runs.\")"
   ]
  },
  {
   "cell_type": "code",
   "execution_count": 29,
   "metadata": {},
   "outputs": [
    {
     "name": "stdout",
     "output_type": "stream",
     "text": [
      "ALL.chr3.phase3_shapeit2_mvncall_integrated_v 100%  192KB   1.5MB/s   00:00    \n"
     ]
    }
   ],
   "source": [
    "#marker_path\n",
    "download_1kg()"
   ]
  },
  {
   "cell_type": "code",
   "execution_count": 30,
   "metadata": {},
   "outputs": [
    {
     "name": "stdout",
     "output_type": "stream",
     "text": [
      "Finished BCF tools runs.\n",
      "CPU times: user 12.1 s, sys: 1.91 s, total: 14 s\n",
      "Wall time: 13min 10s\n"
     ]
    }
   ],
   "source": [
    "%%time\n",
    "#!echo bcftools view -Oz -o $out_vcf_path_gz -S $ind_path -i $str_ex -m2 -M2 -v snps $path_vcf100g\n",
    "!bcftools view -Oz -o $out_vcf_path_gz -S $ind_path -R $save_path -m2 -M2 -v snps $path_vcf100g\n",
    "print(\"Finished BCF tools runs.\")"
   ]
  }
 ],
 "metadata": {
  "kernelspec": {
   "display_name": "Python 3",
   "language": "python",
   "name": "python3"
  },
  "language_info": {
   "codemirror_mode": {
    "name": "ipython",
    "version": 3
   },
   "file_extension": ".py",
   "mimetype": "text/x-python",
   "name": "python",
   "nbconvert_exporter": "python",
   "pygments_lexer": "ipython3",
   "version": "3.6.8"
  }
 },
 "nbformat": 4,
 "nbformat_minor": 2
}
