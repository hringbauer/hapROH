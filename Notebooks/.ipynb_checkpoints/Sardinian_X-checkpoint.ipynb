{
 "cells": [
  {
   "cell_type": "markdown",
   "metadata": {},
   "source": [
    "# Analyze the Sardinian X Chromosomes"
   ]
  },
  {
   "cell_type": "code",
   "execution_count": 1,
   "metadata": {},
   "outputs": [],
   "source": [
    "import allel\n",
    "import h5py\n",
    "import numpy as np\n",
    "import pandas as pd\n",
    "import matplotlib.pyplot as plt\n",
    "from matplotlib.ticker import FormatStrFormatter\n",
    "from matplotlib.ticker import StrMethodFormatter"
   ]
  },
  {
   "cell_type": "code",
   "execution_count": 2,
   "metadata": {},
   "outputs": [
    {
     "name": "stderr",
     "output_type": "stream",
     "text": [
      "/usr/local/lib/python3.6/dist-packages/pandas/io/parsers.py:2230: FutureWarning: split() requires a non-empty pattern match.\n",
      "  yield pat.split(line.strip())\n",
      "/usr/local/lib/python3.6/dist-packages/pandas/io/parsers.py:2232: FutureWarning: split() requires a non-empty pattern match.\n",
      "  yield pat.split(line.strip())\n"
     ]
    },
    {
     "name": "stdout",
     "output_type": "stream",
     "text": [
      "Loaded 49711 X SNPs.\n",
      "Loaded 957848 variants\n",
      "Loaded 3514 individuals\n",
      "['GT']\n",
      "['ALT', 'CHROM', 'FILTER_PASS', 'ID', 'POS', 'QUAL', 'REF']\n",
      "HDF5 loaded from ../../ancient-sardinia/output/xdata/sar_x.hdf5\n"
     ]
    }
   ],
   "source": [
    "#path_vcf = \"../../output/xdata/Sardinia.3500.beagle.chrX.NONPAR.vcf.gz\" # The original VCF \n",
    "h5_path = \"../../ancient-sardinia/output/xdata/sar_x.hdf5\" # Save to HDF5 (Binary Format)\n",
    "path_snp = \"../../ancient-sardinia/data/bed/full230.snp\" # All SNPs found in the ancients\n",
    "\n",
    "df_snp = pd.read_csv(path_snp, header=None, sep=r\"\\s*\", engine=\"python\")\n",
    "df_snp.columns = [\"SNP\", \"chr\", \"map\", \"pos\", \"ref\", \"alt\"]\n",
    "df_snp = df_snp[df_snp[\"chr\"]==23]\n",
    "\n",
    "print(f\"Loaded {len(df_snp)} X SNPs.\")\n",
    "\n",
    "## Load HDF5\n",
    "f = h5py.File(h5_path, \"r\") # Load for Sanity Check. See below!\n",
    "print(\"Loaded %i variants\" % np.shape(f[\"calldata/GT\"])[0])\n",
    "print(\"Loaded %i individuals\" % np.shape(f[\"calldata/GT\"])[1])\n",
    "print(list(f[\"calldata\"].keys()))\n",
    "print(list(f[\"variants\"].keys()))\n",
    "print(f\"HDF5 loaded from {h5_path}\")"
   ]
  },
  {
   "cell_type": "code",
   "execution_count": 3,
   "metadata": {},
   "outputs": [
    {
     "name": "stdout",
     "output_type": "stream",
     "text": [
      "Nr SNPs on Panel: 40052 out of 957848 SNPs\n",
      "Nr SNPs in both: 40052 out of 49711\n"
     ]
    }
   ],
   "source": [
    "df_pos = pd.Series(f[\"variants/POS\"])\n",
    "snp_panel = df_pos.isin(df_snp[\"pos\"])\n",
    "print(f\"Nr SNPs on Panel: {np.sum(snp_panel)} out of {len(snp_panel)} SNPs\")\n",
    "\n",
    "# Also extract SNPs in SNP Panel\n",
    "pos_both = df_pos[snp_panel]\n",
    "id_df = df_snp[\"pos\"].isin(pos_both)\n",
    "df_snp_both = df_snp[id_df]\n",
    "print(f\"Nr SNPs in both: {len(df_snp_both)} out of {len(df_snp)}\")\n",
    "\n",
    "map_pos = df_snp_both[\"map\"].values"
   ]
  },
  {
   "cell_type": "code",
   "execution_count": null,
   "metadata": {},
   "outputs": [],
   "source": [
    "###### Do some filtering for Markers:\n",
    "# 1) Markers in \n",
    "\n",
    "# 2) Markers in HW:"
   ]
  },
  {
   "cell_type": "markdown",
   "metadata": {},
   "source": [
    "# Area 51\n",
    "Test out code here"
   ]
  },
  {
   "cell_type": "code",
   "execution_count": 103,
   "metadata": {},
   "outputs": [
    {
     "name": "stdout",
     "output_type": "stream",
     "text": [
      "Nr. of Males: 1557\n"
     ]
    }
   ],
   "source": [
    "mal_idx = (f[\"calldata/GT\"][0,:,1]==-1)  # Extract all the Males\n",
    "mal_ids = np.where(mal_idx)[0]\n",
    "\n",
    "print(\"Nr. of Males: %i\" % np.sum(mal_idx))\n",
    "male1, male2 = mal_ids[100], mal_ids[202]"
   ]
  },
  {
   "cell_type": "code",
   "execution_count": 104,
   "metadata": {},
   "outputs": [
    {
     "name": "stdout",
     "output_type": "stream",
     "text": [
      "Loaded two Males on 40052 SNPs\n"
     ]
    }
   ],
   "source": [
    "g1 = f[\"calldata/GT\"][:, male1, 0]\n",
    "g2 = f[\"calldata/GT\"][:, male2, 0]\n",
    "\n",
    "g1 = g1[snp_panel]\n",
    "g2 = g2[snp_panel]\n",
    "print(f\"Loaded two Males on {len(g1)} SNPs\")"
   ]
  },
  {
   "cell_type": "code",
   "execution_count": 105,
   "metadata": {},
   "outputs": [
    {
     "name": "stdout",
     "output_type": "stream",
     "text": [
      "Average Heterozygosity: 0.2273\n"
     ]
    }
   ],
   "source": [
    "het = (g1 != g2)\n",
    "print(f\"Average Heterozygosity: {np.mean(het):.4f}\")"
   ]
  },
  {
   "cell_type": "code",
   "execution_count": 106,
   "metadata": {},
   "outputs": [
    {
     "data": {
      "image/png": "[encoded data removed]",
      "text/plain": [
       "<matplotlib.figure.Figure at 0x7f19485499b0>"
      ]
     },
     "metadata": {
      "needs_background": "light"
     },
     "output_type": "display_data"
    }
   ],
   "source": [
    "plt.figure(figsize=(14,2))\n",
    "cm_map = map_pos * 100\n",
    "plt.plot(cm_map[:], het[:], \"bo\", ms=4, alpha=0.3)\n",
    "plt.ylabel(\"Heterozygosity\")\n",
    "plt.xlabel(\"CentiMorgan\")\n",
    "plt.xlim([20, 100])\n",
    "\n",
    "#for i in cm_map[het]:\n",
    "#    plt.axvline(i)\n",
    "    \n",
    "plt.show()"
   ]
  },
  {
   "cell_type": "code",
   "execution_count": 87,
   "metadata": {},
   "outputs": [
    {
     "data": {
      "text/plain": [
       "array([ 20.9031,  20.918 ,  21.1201, ..., 201.6965, 201.6967, 201.6967])"
      ]
     },
     "execution_count": 87,
     "metadata": {},
     "output_type": "execute_result"
    }
   ],
   "source": [
    "cm_map[het]"
   ]
  },
  {
   "cell_type": "code",
   "execution_count": 85,
   "metadata": {},
   "outputs": [
    {
     "data": {
      "image/png": "[encoded data removed]",
      "text/plain": [
       "<matplotlib.figure.Figure at 0x7f194f05c080>"
      ]
     },
     "metadata": {
      "needs_background": "light"
     },
     "output_type": "display_data"
    }
   ],
   "source": [
    "# Preparte the axis ticks labels\n",
    "\n",
    "tick_id = [i for i in range(0,40000,2000)]\n",
    "cmap_val = np.around(cm_map[tick_id], decimals=2)\n",
    "\n",
    "plt.figure(figsize=(20,1))\n",
    "plt.imshow([het], cmap='Greys',  aspect='auto')\n",
    "plt.xticks(tick_id, cmap_val)\n",
    "plt.xlabel(\"Genetic distance [cM]\", fontsize=fs)\n",
    "plt.ylabel(\"Heterozygote\", fontsize=fs)\n",
    "ax = plt.gca()\n",
    "plt.show()"
   ]
  },
  {
   "cell_type": "code",
   "execution_count": 79,
   "metadata": {},
   "outputs": [
    {
     "name": "stdout",
     "output_type": "stream",
     "text": [
      "0\n",
      "5000\n",
      "10000\n",
      "15000\n",
      "20000\n",
      "25000\n",
      "30000\n",
      "35000\n"
     ]
    }
   ],
   "source": [
    "for i in range(0,40000,5000):\n",
    "    print(i)"
   ]
  },
  {
   "cell_type": "code",
   "execution_count": 66,
   "metadata": {},
   "outputs": [],
   "source": [
    "# Do a plot of nr_plot Sardinian Males\n",
    "nr_plot = 30\n",
    "g_males = f[\"calldata/GT\"][:, mal_ids[:nr_plot], 0].T\n",
    "g_males = g_males[:, snp_panel]"
   ]
  },
  {
   "cell_type": "code",
   "execution_count": 69,
   "metadata": {},
   "outputs": [
    {
     "name": "stdout",
     "output_type": "stream",
     "text": [
      "40052\n",
      "40052\n"
     ]
    },
    {
     "data": {
      "image/png": "[encoded data removed]",
      "text/plain": [
       "<matplotlib.figure.Figure at 0x7f194ef750b8>"
      ]
     },
     "metadata": {
      "needs_background": "light"
     },
     "output_type": "display_data"
    }
   ],
   "source": [
    "fs = 18\n",
    "begin, end = 1000, 2000\n",
    "ref_ind = 0\n",
    "\n",
    "print(len(g_males[0,:]))\n",
    "print(len(cm_map))\n",
    "assert(len(g_males[0,:]==len(cm_map)))\n",
    "\n",
    "same = np.array([g_males[i,:] != g_males[ref_ind,:] for i in range(nr_plot)])  # Polarize Markers\n",
    "\n",
    "plt.figure(figsize=(20,4))\n",
    "plt.imshow(same[:, begin:end], cmap='Greys',  aspect='auto')\n",
    "plt.xticks([0,end-begin], [np.around(cm_map[begin], decimals=3), np.around(cm_map[end], decimals=3)])\n",
    "plt.xlabel(\"Genetic distance [cM]\", fontsize=fs)\n",
    "plt.ylabel(\"Reference Haplotype\", fontsize=fs)\n",
    "ax = plt.gca()\n",
    "plt.show()"
   ]
  },
  {
   "cell_type": "code",
   "execution_count": 4,
   "metadata": {},
   "outputs": [
    {
     "data": {
      "image/png": "[encoded data removed]",
      "text/plain": [
       "<matplotlib.figure.Figure at 0x7f55227606a0>"
      ]
     },
     "metadata": {
      "needs_background": "light"
     },
     "output_type": "display_data"
    }
   ],
   "source": [
    "bins = np.arange(0,2,0.001)\n",
    "plt.figure(figsize=(8,4))\n",
    "n, _, _  = plt.hist(map_pos*100, bins=bins*100)  # df_snp[\"map\"]\n",
    "plt.title(\"1240k SNPs per 0.1 cM Window\")\n",
    "plt.ylim([0,100])\n",
    "#plt.xlim([80,90])\n",
    "plt.show()"
   ]
  },
  {
   "cell_type": "code",
   "execution_count": 133,
   "metadata": {},
   "outputs": [
    {
     "data": {
      "text/plain": [
       "[]"
      ]
     },
     "execution_count": 133,
     "metadata": {},
     "output_type": "execute_result"
    },
    {
     "data": {
      "image/png": "[encoded data removed]",
      "text/plain": [
       "<matplotlib.figure.Figure at 0x7f194f780dd8>"
      ]
     },
     "metadata": {
      "needs_background": "light"
     },
     "output_type": "display_data"
    }
   ],
   "source": [
    "bins = np.arange(-0.5,100,1)\n",
    "plt.hist(n, bins = bins)\n",
    "plt.title(\"SNPs per cM\")\n",
    "plt.ylim([0,100])\n",
    "plt.plot()"
   ]
  }
 ],
 "metadata": {
  "kernelspec": {
   "display_name": "Python 3",
   "language": "python",
   "name": "python3"
  },
  "language_info": {
   "codemirror_mode": {
    "name": "ipython",
    "version": 3
   },
   "file_extension": ".py",
   "mimetype": "text/x-python",
   "name": "python",
   "nbconvert_exporter": "python",
   "pygments_lexer": "ipython3",
   "version": "3.6.7"
  }
 },
 "nbformat": 4,
 "nbformat_minor": 2
}
