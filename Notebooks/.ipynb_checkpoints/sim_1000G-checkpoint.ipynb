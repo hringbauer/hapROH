{
 "cells": [
  {
   "cell_type": "markdown",
   "metadata": {},
   "source": [
    "# Simulate a 1000 Genome Individual.\n",
    "Idea: Create artifical Individual, that copies short diploid blocks, and sometimes haploid blocks\n",
    "Record the start and end position of these runs.\n",
    "\n",
    "Goal: Have a class in the end\n",
    "\n",
    "Author: Harald Ringbauer"
   ]
  },
  {
   "cell_type": "markdown",
   "metadata": {},
   "source": [
    "### Load Data\n",
    "Load the data: All that is needed: Linkage Map as well as reference Haplotypes"
   ]
  },
  {
   "cell_type": "code",
   "execution_count": 1,
   "metadata": {},
   "outputs": [],
   "source": [
    "import h5py   # For Processing HDF5s\n",
    "import numpy as np\n",
    "import pandas as pd\n",
    "import matplotlib.pyplot as plt"
   ]
  },
  {
   "cell_type": "code",
   "execution_count": 2,
   "metadata": {},
   "outputs": [],
   "source": [
    "def load_h5(path):\n",
    "        \"\"\"Load and return the HDF5 File from Path\"\"\"\n",
    "        f = h5py.File(path, \"r\")  # Load for Sanity Check. See below!\n",
    "        print(\"\\nLoaded %i variants\" % np.shape(f[\"calldata/GT\"])[0])\n",
    "        print(\"Loaded %i individuals\" % np.shape(f[\"calldata/GT\"])[1])\n",
    "        # print(list(f[\"calldata\"].keys()))\n",
    "        # print(list(f[\"variants\"].keys()))\n",
    "        print(f\"HDF5 loaded from {path}\")\n",
    "        return f"
   ]
  },
  {
   "cell_type": "code",
   "execution_count": 68,
   "metadata": {},
   "outputs": [],
   "source": [
    "ch = str(3)\n",
    "path1000G = \"../Data/1000Genomes/HDF5/1240kHDF5/Eur1240chr\" + ch + \".hdf5\"  # Path of 1000G (without chromosome part)\n",
    "pop_path = \"../Data/1000Genomes/integrated_call_samples_v3.20130502.ALL.panel\" # Population Information"
   ]
  },
  {
   "cell_type": "code",
   "execution_count": 116,
   "metadata": {},
   "outputs": [
    {
     "name": "stdout",
     "output_type": "stream",
     "text": [
      "\n",
      "Loaded 77658 variants\n",
      "Loaded 503 individuals\n",
      "HDF5 loaded from ../Data/1000Genomes/HDF5/1240kHDF5/Eur1240chr3.hdf5\n",
      "(77658, 503, 2)\n",
      "Loaded 503 Population Data\n"
     ]
    }
   ],
   "source": [
    "f = load_h5(path=path1000G)\n",
    "\n",
    "list(f.keys())\n",
    "list(f[\"variants\"])\n",
    "print(np.shape(f[\"calldata/GT\"]))\n",
    "\n",
    "### Load the Individual Names and merge in Population Data\n",
    "meta_df = pd.read_csv(pop_path, sep=\"\\t\")\n",
    "\n",
    "iids = np.array(f[\"samples\"]).astype(\"str\")\n",
    "iids0 = np.char.split(iids, sep ='_', maxsplit=1) \n",
    "iids0 = [i[0] for i in iids0]\n",
    "iid_df = pd.DataFrame({\"sample\":iids0})\n",
    "\n",
    "meta_df = pd.merge(iid_df, meta_df[[\"sample\", \"pop\", \"super_pop\"]], how=\"left\", on=\"sample\")\n",
    "\n",
    "assert(len(meta_df)==len(iids)) # Sanity Cehck\n",
    "print(f\"Loaded {np.shape(meta_df)[0]} Population Data.\")"
   ]
  },
  {
   "cell_type": "markdown",
   "metadata": {},
   "source": [
    "### Create the Copying matrix\n",
    "Imput: Only recombination Matrix\n",
    "IIDs: Which individuals to copy from\n",
    "\n",
    "Important parameters: Which individuals to copy from\n",
    "\n",
    "Chunk Lengths\n",
    "\n",
    "Beginning and end of ROH"
   ]
  },
  {
   "cell_type": "markdown",
   "metadata": {},
   "source": [
    "### Step 1: Create chunked Individual"
   ]
  },
  {
   "cell_type": "code",
   "execution_count": 43,
   "metadata": {},
   "outputs": [],
   "source": [
    "def create_chunked_gts(f, chunk_length, iids):\n",
    "    \"\"\"Create Chunked indiviual from Genotype Matrix f.\n",
    "    Chunk_Lentgh: Length of the chunking\n",
    "    iids: The Individual IDs\"\"\"\n",
    "\n",
    "    k = len(iids) # Nr of Individuals to copy from\n",
    "    nr_loci, _, _ = np.shape(f[\"calldata/GT\"])\n",
    "\n",
    "    rec = np.array(f[\"variants/MAP\"]).astype(\"float\")  # Load Recombination Map in Morgan\n",
    "    ch_min, ch_max = np.min(rec)-1e-10, np.max(rec)\n",
    "\n",
    "    nr_chunks = np.ceil((ch_max - ch_min) / chunk_length).astype(\"int\")\n",
    "    copy_id = np.random.randint(k, size=nr_chunks)  # Create all copying indices\n",
    "\n",
    "    len_bins = np.arange(ch_min, ch_max, chunk_length)  # Create Length Bin Vector \n",
    "    len_bins = np.append(len_bins, ch_max)  # Append the last Value\n",
    "\n",
    "    print(\"Setting new Genotypes...\")\n",
    "      \n",
    "    gts_new = -np.ones((2, nr_loci)) # Initialize with invalid Value\n",
    "\n",
    "    for i in range(len(len_bins)-1):  # Iterate over all Length Bins\n",
    "        c_min, c_max = len_bins[i], len_bins[i+1]\n",
    "\n",
    "        i_min, i_max = np.searchsorted(rec, [c_min, c_max])\n",
    "        #print((i_min, i_max))\n",
    "        ind = copy_id[i]\n",
    "        gts_new[1, i_min:i_max+1] = f[\"calldata/GT\"][i_min:i_max+1, ind, 0]\n",
    "        gts_new[0, i_min:i_max+1] = f[\"calldata/GT\"][i_min:i_max+1, ind, 1]  \n",
    "    print(\"Finished\")\n",
    "    \n",
    "    assert(nr_loci == len(rec)) # Sanity Check\n",
    "    assert(np.min(gts_new)>-1)  # Sanity Check    \n",
    "    return gts_new, rec"
   ]
  },
  {
   "cell_type": "code",
   "execution_count": 44,
   "metadata": {},
   "outputs": [
    {
     "name": "stdout",
     "output_type": "stream",
     "text": [
      "Setting new Genotypes...\n",
      "Finished\n"
     ]
    }
   ],
   "source": [
    "chunk_length = 0.005   # Chunk Length [in Morgan]\n",
    "iids = np.arange(100)\n",
    "\n",
    "gts_new, rec = create_chunked_gts(f, chunk_length, iids)"
   ]
  },
  {
   "cell_type": "markdown",
   "metadata": {},
   "source": [
    "### Step 2: Copy in ROH"
   ]
  },
  {
   "cell_type": "code",
   "execution_count": 61,
   "metadata": {},
   "outputs": [],
   "source": [
    "# Locations of ROH\n",
    "def copy_in_roh(f, gts, roh_begin, roh_end, id_copy):\n",
    "    \"\"\"Copy In ROH Block.\n",
    "    f: HDF where to copy from\n",
    "    gts: 2xn Matrix of Genotypes to copy ROH block in\n",
    "    id_copy: Integer Index of which Individual to copy from\n",
    "    roh_begin, roh_end: Start and End of Block to copy from [in Morgan].\n",
    "    Return: Genotype Matrix\"\"\"\n",
    "\n",
    "    rec = np.array(f[\"variants/MAP\"]).astype(\"float\")  # Load Recombination Map in Morgan\n",
    "    i_min, i_max = np.searchsorted(rec, [roh_begin, roh_end])  # Get the Indices where to begin and end ROH\n",
    "\n",
    "    print(f\"Copying in Block: {rec[i_min]:.4f}-{rec[i_max]:.4f} M\")\n",
    "    print(i_min)\n",
    "    \n",
    "    assert(np.shape(gts)[1] == len(rec)) # Sanity Check\n",
    "    \n",
    "    gts_copy = f[\"calldata/GT\"][i_min:i_max+1, id_copy, 1] # The Stretch to copy in\n",
    "    gts[:, i_min:i_max+1] = gts_copy[None, :] # Copy in the Stretch\n",
    "    \n",
    "    return gts"
   ]
  },
  {
   "cell_type": "code",
   "execution_count": 117,
   "metadata": {},
   "outputs": [
    {
     "name": "stdout",
     "output_type": "stream",
     "text": [
      "Copying in Block: 0.5000-0.5502 M\n",
      "14427\n"
     ]
    }
   ],
   "source": [
    "roh_begin = 0.5 # Where to insert the ROH\n",
    "roh_end = 0.55\n",
    "id_copy = 101  # ID where to copy from\n",
    "\n",
    "gts_roh = copy_in_roh(f, gts_new, roh_begin, roh_end, id_copy)  "
   ]
  },
  {
   "cell_type": "markdown",
   "metadata": {},
   "source": [
    "### Downsample to real Individual\n",
    "Various Downsampling as well as error Models"
   ]
  },
  {
   "cell_type": "markdown",
   "metadata": {},
   "source": [
    "### Save the artificial Individual\n",
    "\n",
    "### Create new HDF5"
   ]
  },
  {
   "cell_type": "markdown",
   "metadata": {},
   "source": [
    "# Area 51"
   ]
  },
  {
   "cell_type": "code",
   "execution_count": 15,
   "metadata": {
    "scrolled": true
   },
   "outputs": [
    {
     "data": {
      "image/png": "[encoded data removed]",
      "text/plain": [
       "<matplotlib.figure.Figure at 0x7f42f2d24898>"
      ]
     },
     "metadata": {
      "needs_background": "light"
     },
     "output_type": "display_data"
    }
   ],
   "source": [
    "plt.figure(figsize=(9,4))\n",
    "plt.plot(rec, copy_ind, \"ro\")\n",
    "plt.xlabel(\"Map Position of SNP\", fontsize=13)\n",
    "plt.ylabel(\"Individual ID to copy from\", fontsize=13)\n",
    "plt.xlim([0,0.5])\n",
    "plt.show()"
   ]
  },
  {
   "cell_type": "code",
   "execution_count": 33,
   "metadata": {},
   "outputs": [
    {
     "data": {
      "text/plain": [
       "(2, 77658)"
      ]
     },
     "execution_count": 33,
     "metadata": {},
     "output_type": "execute_result"
    }
   ],
   "source": [
    "np.shape(gts_new)"
   ]
  },
  {
   "cell_type": "markdown",
   "metadata": {},
   "source": [
    "## Extract Individuals"
   ]
  },
  {
   "cell_type": "code",
   "execution_count": 105,
   "metadata": {},
   "outputs": [],
   "source": [
    "\n",
    "#meta_df[\"pop\"]"
   ]
  },
  {
   "cell_type": "code",
   "execution_count": 113,
   "metadata": {},
   "outputs": [],
   "source": []
  }
 ],
 "metadata": {
  "kernelspec": {
   "display_name": "Python 3",
   "language": "python",
   "name": "python3"
  },
  "language_info": {
   "codemirror_mode": {
    "name": "ipython",
    "version": 3
   },
   "file_extension": ".py",
   "mimetype": "text/x-python",
   "name": "python",
   "nbconvert_exporter": "python",
   "pygments_lexer": "ipython3",
   "version": "3.6.7"
  }
 },
 "nbformat": 4,
 "nbformat_minor": 2
}
