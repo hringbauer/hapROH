{
 "cells": [
  {
   "cell_type": "markdown",
   "metadata": {},
   "source": [
    "# Analyze the Sardinian X Chromosomes\n",
    "Also prepare the files for HAPSBURG"
   ]
  },
  {
   "cell_type": "code",
   "execution_count": 1,
   "metadata": {},
   "outputs": [],
   "source": [
    "import allel\n",
    "import h5py\n",
    "import numpy as np\n",
    "import pandas as pd\n",
    "import matplotlib.pyplot as plt\n",
    "import os   # For creating folders\n",
    "\n",
    "from matplotlib.ticker import FormatStrFormatter\n",
    "from matplotlib.ticker import StrMethodFormatter\n",
    "\n",
    "from itertools import combinations"
   ]
  },
  {
   "cell_type": "code",
   "execution_count": 2,
   "metadata": {},
   "outputs": [
    {
     "name": "stderr",
     "output_type": "stream",
     "text": [
      "/usr/local/lib/python3.6/dist-packages/pandas/io/parsers.py:2230: FutureWarning: split() requires a non-empty pattern match.\n",
      "  yield pat.split(line.strip())\n",
      "/usr/local/lib/python3.6/dist-packages/pandas/io/parsers.py:2232: FutureWarning: split() requires a non-empty pattern match.\n",
      "  yield pat.split(line.strip())\n"
     ]
    },
    {
     "name": "stdout",
     "output_type": "stream",
     "text": [
      "Loaded 49711 X 1240k SNPs.\n",
      "\n",
      "Loaded 957848 variants\n",
      "Loaded 3514 individuals\n",
      "['GT']\n",
      "['ALT', 'CHROM', 'FILTER_PASS', 'ID', 'POS', 'QUAL', 'REF']\n",
      "HDF5 loaded from ../../ancient-sardinia/output/xdata/sar_x.hdf5\n",
      "\n",
      "Loaded 47297 variants\n",
      "Loaded 503 individuals\n",
      "['GT']\n",
      "['ALT', 'CHROM', 'FILTER_PASS', 'ID', 'POS', 'QUAL', 'REF']\n",
      "HDF5 loaded from ../Data/1000Genomes/1000gX1240kEur.hdf5\n"
     ]
    }
   ],
   "source": [
    "#path_vcf = \"../../output/xdata/Sardinia.3500.beagle.chrX.NONPAR.vcf.gz\" # The original VCF \n",
    "h5_path = \"../../ancient-sardinia/output/xdata/sar_x.hdf5\" # Save to HDF5 (Binary Format)\n",
    "\n",
    "path_snp = \"../../ancient-sardinia/data/bed/full230.snp\" # All SNPs found in the ancients\n",
    "\n",
    "### 1000 Genome\n",
    "h5_path1000g = \"../Data/1000Genomes/1000gX1240kEur.hdf5\"\n",
    "\n",
    "\n",
    "### 1240k SNP Panel:\n",
    "df_snp = pd.read_csv(path_snp, header=None, sep=r\"\\s*\", engine=\"python\")\n",
    "df_snp.columns = [\"SNP\", \"chr\", \"map\", \"pos\", \"ref\", \"alt\"]\n",
    "df_snp = df_snp[df_snp[\"chr\"]==23]\n",
    "\n",
    "print(f\"Loaded {len(df_snp)} X 1240k SNPs.\")\n",
    "\n",
    "## Load HDF5\n",
    "def load_h5(path):\n",
    "    \"\"\"Load and return the HDF5 File from Path\"\"\"\n",
    "    f = h5py.File(path, \"r\") # Load for Sanity Check. See below!\n",
    "    print(\"\\nLoaded %i variants\" % np.shape(f[\"calldata/GT\"])[0])\n",
    "    print(\"Loaded %i individuals\" % np.shape(f[\"calldata/GT\"])[1])\n",
    "    print(list(f[\"calldata\"].keys()))\n",
    "    print(list(f[\"variants\"].keys()))\n",
    "    print(f\"HDF5 loaded from {path}\")\n",
    "    return f\n",
    "\n",
    "f = load_h5(h5_path)\n",
    "f1000 = load_h5(h5_path1000g)"
   ]
  },
  {
   "cell_type": "code",
   "execution_count": 3,
   "metadata": {},
   "outputs": [],
   "source": [
    "### Do the Pre-Processing of identifying variants that are in both\n",
    "def merge_1240k(f):\n",
    "    \"\"\"Merge f and Sardinian X\n",
    "    Return Indices and Map Positions\"\"\"\n",
    "    df_pos = pd.Series(f[\"variants/POS\"])\n",
    "    snp_panel = df_pos.isin(df_snp[\"pos\"])\n",
    "    print(f\"Nr SNPs on Panel: {np.sum(snp_panel)} out of {len(snp_panel)} SNPs\")\n",
    "\n",
    "    # Also extract SNPs in SNP Panel\n",
    "    pos_both = df_pos[snp_panel]\n",
    "    id_df = df_snp[\"pos\"].isin(pos_both)\n",
    "    df_snp_both = df_snp[id_df]\n",
    "    print(f\"Nr SNPs in both: {len(df_snp_both)} out of {len(df_snp)}\")\n",
    "\n",
    "    map_pos = df_snp_both[\"map\"].values\n",
    "    cm_map = map_pos * 100   # To use centiMorgan\n",
    "    i0 = np.where(snp_panel)[0]\n",
    "    return i0, map_pos, cm_map\n",
    "\n",
    "def get_rmap1240k(f, snp_ids):\n",
    "    \"\"\"Get the Recombination Map from the 1240k SNPs.\n",
    "    snp_ids: Array with positions of SNPs of interest\"\"\"\n",
    "    pos = np.array(f[\"variants/POS\"])[snp_ids]\n",
    "    id_df = df_snp[\"pos\"].isin(pos)\n",
    "    df_snp_both = df_snp[id_df]\n",
    "    print(f\"Nr SNPs in Rec. Map: {len(df_snp_both)} out of {len(df_snp)}\")\n",
    "    map_pos = df_snp_both[\"map\"].values\n",
    "    cm_map = map_pos * 100   # To use centiMorgan\n",
    "    assert(len(map_pos) == len(snp_ids))\n",
    "    return map_pos, cm_map\n",
    "\n",
    "def extract_male_ids(f):\n",
    "    \"\"\"Extract Male Individuals\"\"\"\n",
    "    mal_idx = (f[\"calldata/GT\"][0,:,1]==-1)  # Extract all the Males\n",
    "    mal_ids = np.where(mal_idx)[0]\n",
    "    print(\"Nr. of Males: %i / %i\" % (np.sum(mal_idx), len(mal_idx)))\n",
    "    return mal_ids\n",
    "\n",
    "def extract_male_ids_homo(f):\n",
    "    \"\"\"Extract Male Individuals via Homozygosity\"\"\"\n",
    "    homo = f1000[\"calldata/GT\"][:50000,:,0] == f1000[\"calldata/GT\"][:50000,:,1]\n",
    "    homo_per_ind = np.mean(homo, axis=0)\n",
    "    male_ids = np.where(homo_per_ind == 1)[0]\n",
    "    print(\"Nr. of Males: %i / %i\" % (len(male_ids), len(homo_per_ind)))\n",
    "    return mal_ids\n",
    "\n",
    "def merge_2hdf(f, g):\n",
    "    \"\"\" Merge two HDF 5 f and g. Return Indices of Overlap Individuals\"\"\"\n",
    "    \n",
    "    pos1 = f[\"variants/POS\"]\n",
    "    pos2 = g[\"variants/POS\"]\n",
    "\n",
    "    ### Check if in both Datasets\n",
    "    b, i1, i2 = np.intersect1d(pos1, pos2, return_indices=True)\n",
    "\n",
    "    print(f\"Intersection on Positions: {len(b)}\")\n",
    "\n",
    "    ### Sanity Check if Reference is the same\n",
    "    ref1 = np.array(f[\"variants/REF\"])[i1]\n",
    "    ref2 = np.array(f1000[\"variants/REF\"])[i2]\n",
    "\n",
    "    alt1 = np.array(np.array(f[\"variants/ALT\"])[i1,0])\n",
    "    alt2 = np.array(np.array(f1000[\"variants/ALT\"])[i2,0])\n",
    "\n",
    "    ### Downsample to Site where both Ref and Alt are the same\n",
    "    same = (ref1 == ref2)\n",
    "    print(f\"Nr of Matching Refs: {np.sum(same)} / {len(same)}\")\n",
    "\n",
    "    both_same = (ref1 == ref2) & (alt1 == alt2)\n",
    "    i11 = i1[both_same]\n",
    "    i22 = i2[both_same]\n",
    "\n",
    "    print(f\"Full Intersection Ref/Alt Identical: {len(i11)} / {len(both_same)}\")\n",
    "    \n",
    "    return i11, i22"
   ]
  },
  {
   "cell_type": "code",
   "execution_count": 11,
   "metadata": {},
   "outputs": [
    {
     "name": "stdout",
     "output_type": "stream",
     "text": [
      "Nr SNPs on Panel: 40052 out of 957848 SNPs\n",
      "Nr SNPs in both: 40052 out of 49711\n",
      "Nr. of Males: 1557 / 3514\n",
      "Intersection on Positions: 39518\n",
      "Nr of Matching Refs: 39517 / 39518\n",
      "Full Intersection Ref/Alt Identical: 39482 / 39518\n",
      "Nr. of Males: 240 / 503\n",
      "Nr SNPs in Rec. Map: 39482 out of 49711\n"
     ]
    }
   ],
   "source": [
    "# For Sardinian Reference Sample\n",
    "i0, map_pos, cm_map = merge_1240k(f)\n",
    "mal_ids = extract_male_ids(f)\n",
    "\n",
    "# For 1000 Genomes\n",
    "i1, i2 = merge_2hdf(f, f1000)\n",
    "mal_ids2 =  extract_male_ids_homo(f1000)\n",
    "map_pos, cm_map = get_rmap1240k(f1000, snp_ids=i2)"
   ]
  },
  {
   "cell_type": "markdown",
   "metadata": {},
   "source": [
    "# Detect Runs of Homozygosity in the classical Way"
   ]
  },
  {
   "cell_type": "code",
   "execution_count": 6,
   "metadata": {},
   "outputs": [],
   "source": [
    "def detect_homo(i11, i22, snp_id):\n",
    "    \"\"\"Detect two males with long ROH\"\"\"\n",
    "    g1 = f[\"calldata/GT\"][:, i11, 0]\n",
    "    g2 = f[\"calldata/GT\"][:, i22, 0]\n",
    "    \n",
    "    g1 = g1[snp_id]\n",
    "    g2 = g2[snp_id]\n",
    "    \n",
    "    het = (g1 != g2)\n",
    "    \n",
    "    # Detect Stretches of 0s\n",
    "    x1 = np.hstack([ [True], het, [True] ])  # padding\n",
    "    d = np.diff(x1.astype(int))\n",
    "    starts = np.where(d == -1)[0]\n",
    "    ends = np.where(d == 1)[0]\n",
    "    return starts, ends\n",
    "\n",
    "def call_roh(i1, i2, snp_id, min_len=50):\n",
    "    \"\"\"Return List of long ROH: Index1, Index\"\"\"\n",
    "    starts, ends = detect_homo(i1, i2, snp_id)\n",
    "    lengths = ends - starts\n",
    "    m = np.max(lengths)\n",
    "    i = np.argmax(lengths)\n",
    "    \n",
    "    output = []\n",
    "    \n",
    "    if m > min_len:\n",
    "        output = [[i1, i2, m, starts[i]]]\n",
    "    return output"
   ]
  },
  {
   "cell_type": "code",
   "execution_count": 7,
   "metadata": {},
   "outputs": [],
   "source": [
    "### Iterate over all pairs: Takes about 2min for 20 Samples\n",
    "ls = []\n",
    "\n",
    "for k, l in combinations(range(850, 860), 2):\n",
    "    i11, i22 = mal_ids[k], mal_ids[l]\n",
    "    ls += call_roh(i11, i22, snp_id=i0, min_len=1000)"
   ]
  },
  {
   "cell_type": "code",
   "execution_count": 12,
   "metadata": {},
   "outputs": [
    {
     "data": {
      "text/plain": [
       "[[1768, 1771, 1428, 3629],\n",
       " [1771, 1782, 1396, 27546],\n",
       " [1778, 1784, 1028, 19590],\n",
       " [1780, 1782, 1091, 17872]]"
      ]
     },
     "execution_count": 12,
     "metadata": {},
     "output_type": "execute_result"
    }
   ],
   "source": [
    "ls   # Plot which samples are"
   ]
  },
  {
   "cell_type": "markdown",
   "metadata": {},
   "source": [
    "# Extract two males: "
   ]
  },
  {
   "cell_type": "code",
   "execution_count": 13,
   "metadata": {},
   "outputs": [
    {
     "name": "stdout",
     "output_type": "stream",
     "text": [
      "Loaded two Males on 39482 SNPs\n",
      "Average Heterozygosity: 0.2346\n"
     ]
    }
   ],
   "source": [
    "male1, male2 = 1768, 1771 #1358, 1362 # 100, 202\n",
    "g1 = f[\"calldata/GT\"][:, male1, 0]\n",
    "g2 = f[\"calldata/GT\"][:, male2, 0]\n",
    "\n",
    "g1 = g1[i1]\n",
    "g2 = g2[i1]\n",
    "print(f\"Loaded two Males on {len(g1)} SNPs\")\n",
    "\n",
    "het = (g1 != g2)\n",
    "print(f\"Average Heterozygosity: {np.mean(het):.4f}\")"
   ]
  },
  {
   "cell_type": "code",
   "execution_count": 14,
   "metadata": {},
   "outputs": [
    {
     "data": {
      "image/png": "[encoded data removed]",
      "text/plain": [
       "<matplotlib.figure.Figure at 0x7f5e45f3fb38>"
      ]
     },
     "metadata": {
      "needs_background": "light"
     },
     "output_type": "display_data"
    }
   ],
   "source": [
    "plt.figure(figsize=(14,2))\n",
    "plt.plot(cm_map[:], het[:], \"bo\", ms=4, alpha=0.3)\n",
    "#plt.plot(het[:], \"bo\", ms=4, alpha=0.3)\n",
    "plt.ylabel(\"Heterozygosity\")\n",
    "plt.xlabel(\"CentiMorgan\")\n",
    "#plt.xlim([20, 100])\n",
    "\n",
    "#for i in cm_map[het]:\n",
    "#    plt.axvline(i)\n",
    "plt.show()"
   ]
  },
  {
   "cell_type": "code",
   "execution_count": 163,
   "metadata": {},
   "outputs": [
    {
     "data": {
      "image/png": "[encoded data removed]",
      "text/plain": [
       "<matplotlib.figure.Figure at 0x7f671f5eda90>"
      ]
     },
     "metadata": {
      "needs_background": "light"
     },
     "output_type": "display_data"
    }
   ],
   "source": [
    "# Preparte the axis ticks labels\n",
    "tick_id = [i for i in range(0,40000,2000)]\n",
    "cmap_val = np.around(cm_map[tick_id], decimals=2)\n",
    "\n",
    "plt.figure(figsize=(20,1))\n",
    "plt.imshow([het], cmap='Greys',  aspect='auto')\n",
    "plt.xticks(tick_id, cmap_val)\n",
    "plt.xlabel(\"Genetic distance [cM]\", fontsize=fs)\n",
    "plt.ylabel(\"Heterozygote\", fontsize=fs)\n",
    "ax = plt.gca()\n",
    "plt.show()"
   ]
  },
  {
   "cell_type": "code",
   "execution_count": 134,
   "metadata": {},
   "outputs": [],
   "source": [
    "# Do a plot of nr_plot Sardinian Males\n",
    "nr_plot = 30\n",
    "g_males = f[\"calldata/GT\"][:, mal_ids[:nr_plot], 0].T\n",
    "g_males = g_males[:, snp_panel]"
   ]
  },
  {
   "cell_type": "code",
   "execution_count": 135,
   "metadata": {},
   "outputs": [
    {
     "name": "stdout",
     "output_type": "stream",
     "text": [
      "Nr markers: 40052\n"
     ]
    },
    {
     "data": {
      "image/png": "[encoded data removed]",
      "text/plain": [
       "<matplotlib.figure.Figure at 0x7f6708fb8e10>"
      ]
     },
     "metadata": {
      "needs_background": "light"
     },
     "output_type": "display_data"
    }
   ],
   "source": [
    "fs = 18\n",
    "begin, end = 0, 10000\n",
    "ref_ind = 0\n",
    "\n",
    "print(f\"Nr markers: {len(g_males[0,:])}\")\n",
    "assert(len(g_males[0,:]==len(cm_map)))\n",
    "\n",
    "same = np.array([g_males[i,:] != g_males[ref_ind,:] for i in range(nr_plot)])  # Polarize Markers\n",
    "\n",
    "plt.figure(figsize=(20,4))\n",
    "plt.imshow(same[:, begin:end], cmap='Greys',  aspect='auto')\n",
    "plt.xticks([0,end-begin], [np.around(cm_map[begin], decimals=3), np.around(cm_map[end], decimals=3)])\n",
    "plt.xlabel(\"Genetic distance [cM]\", fontsize=fs)\n",
    "plt.ylabel(\"Reference Haplotype\", fontsize=fs)\n",
    "ax = plt.gca()\n",
    "\n",
    "#plt.savefig(\"../figures_test/sard_haplotypes.png\", bbox_inches = 'tight', pad_inches = 0)\n",
    "plt.show()"
   ]
  },
  {
   "cell_type": "code",
   "execution_count": 138,
   "metadata": {},
   "outputs": [
    {
     "data": {
      "image/png": "[encoded data removed]",
      "text/plain": [
       "<matplotlib.figure.Figure at 0x7f6711448978>"
      ]
     },
     "metadata": {
      "needs_background": "light"
     },
     "output_type": "display_data"
    }
   ],
   "source": [
    "bins = np.arange(0,2,0.001)\n",
    "plt.figure(figsize=(8,4))\n",
    "n, _, _  = plt.hist(map_pos*100, bins=bins*100)  # df_snp[\"map\"]\n",
    "plt.title(\"1240k SNPs per 0.1 cM Window\")\n",
    "plt.ylim([0,100])\n",
    "#plt.xlim([80,90])\n",
    "plt.show()"
   ]
  },
  {
   "cell_type": "code",
   "execution_count": 136,
   "metadata": {},
   "outputs": [
    {
     "ename": "NameError",
     "evalue": "name 'n' is not defined",
     "output_type": "error",
     "traceback": [
      "\u001b[0;31m---------------------------------------------------------------------------\u001b[0m",
      "\u001b[0;31mNameError\u001b[0m                                 Traceback (most recent call last)",
      "\u001b[0;32m<ipython-input-136-9bcb64516420>\u001b[0m in \u001b[0;36m<module>\u001b[0;34m\u001b[0m\n\u001b[1;32m      1\u001b[0m \u001b[0mbins\u001b[0m \u001b[0;34m=\u001b[0m \u001b[0mnp\u001b[0m\u001b[0;34m.\u001b[0m\u001b[0marange\u001b[0m\u001b[0;34m(\u001b[0m\u001b[0;34m-\u001b[0m\u001b[0;36m0.5\u001b[0m\u001b[0;34m,\u001b[0m\u001b[0;36m100\u001b[0m\u001b[0;34m,\u001b[0m\u001b[0;36m1\u001b[0m\u001b[0;34m)\u001b[0m\u001b[0;34m\u001b[0m\u001b[0;34m\u001b[0m\u001b[0m\n\u001b[0;32m----> 2\u001b[0;31m \u001b[0mplt\u001b[0m\u001b[0;34m.\u001b[0m\u001b[0mhist\u001b[0m\u001b[0;34m(\u001b[0m\u001b[0mn\u001b[0m\u001b[0;34m,\u001b[0m \u001b[0mbins\u001b[0m \u001b[0;34m=\u001b[0m \u001b[0mbins\u001b[0m\u001b[0;34m)\u001b[0m\u001b[0;34m\u001b[0m\u001b[0;34m\u001b[0m\u001b[0m\n\u001b[0m\u001b[1;32m      3\u001b[0m \u001b[0mplt\u001b[0m\u001b[0;34m.\u001b[0m\u001b[0mtitle\u001b[0m\u001b[0;34m(\u001b[0m\u001b[0;34m\"SNPs per cM\"\u001b[0m\u001b[0;34m)\u001b[0m\u001b[0;34m\u001b[0m\u001b[0;34m\u001b[0m\u001b[0m\n\u001b[1;32m      4\u001b[0m \u001b[0mplt\u001b[0m\u001b[0;34m.\u001b[0m\u001b[0mylim\u001b[0m\u001b[0;34m(\u001b[0m\u001b[0;34m[\u001b[0m\u001b[0;36m0\u001b[0m\u001b[0;34m,\u001b[0m\u001b[0;36m100\u001b[0m\u001b[0;34m]\u001b[0m\u001b[0;34m)\u001b[0m\u001b[0;34m\u001b[0m\u001b[0;34m\u001b[0m\u001b[0m\n\u001b[1;32m      5\u001b[0m \u001b[0mplt\u001b[0m\u001b[0;34m.\u001b[0m\u001b[0mplot\u001b[0m\u001b[0;34m(\u001b[0m\u001b[0;34m)\u001b[0m\u001b[0;34m\u001b[0m\u001b[0;34m\u001b[0m\u001b[0m\n",
      "\u001b[0;31mNameError\u001b[0m: name 'n' is not defined"
     ]
    }
   ],
   "source": [
    "bins = np.arange(-0.5,100,1)\n",
    "plt.hist(n, bins = bins)\n",
    "plt.title(\"SNPs per cM\")\n",
    "plt.ylim([0,100])\n",
    "plt.plot()"
   ]
  },
  {
   "cell_type": "markdown",
   "metadata": {},
   "source": [
    "# Save Sardinian Haplotypes into Format required by HAPSBURG"
   ]
  },
  {
   "cell_type": "code",
   "execution_count": 22,
   "metadata": {},
   "outputs": [],
   "source": [
    "### Code for saving Reference Haplotypes\n",
    "def save_refs(gts, folder, cm_map, gt_individual=[]):\n",
    "    \"\"\"Save Sardinian references\n",
    "    ids: Which individuals\n",
    "    markers: Which markers\n",
    "    folders: Into which folder\n",
    "    Genotypes Individual: If given, save as well\"\"\"\n",
    "    print(f\"Nr of Markers used: {np.shape(gts)[1]}\") # Notice that 1 and 0 Dim. are shifted!\n",
    "    print(f\"Nr of individuals saved: {np.shape(gts)[0]}\")\n",
    "\n",
    "    assert(len(gt_individual)==2) # Sanity Check\n",
    "\n",
    "    if not os.path.exists(folder):\n",
    "                os.makedirs(folder)\n",
    "\n",
    "    np.savetxt(folder + \"refs.csv\", gts,\n",
    "                       delimiter=\",\",  fmt='%i')  # Save Reference Haplotypes\n",
    "\n",
    "    ### Save which individuals and markers\n",
    "    np.savetxt(folder + \"refs.csv\", gts, \n",
    "                       delimiter=\",\",  fmt='%i')\n",
    "    #np.savetxt(folder + \"inds.csv\", ids,\n",
    "    #                   delimiter=\",\",  fmt='%i')\n",
    "    \n",
    "    ### Save the cmap \n",
    "    np.savetxt(folder + \"map.csv\", cm_map, delimiter=\",\",  fmt='%.8f')\n",
    "    \n",
    "    if len(gt_individual)>0:\n",
    "            np.savetxt(folder + \"hap.csv\", gt_individual, \n",
    "                       delimiter=\",\",  fmt='%i')\n",
    "    print(f\"Successfully saved to {folder}\")\n",
    "\n",
    "#######################################\n",
    "### Code for saving Haplo\n",
    "def save_haplo(folder, ref_hdf5, obs_hdf5, ids_ref, ids_obs, \n",
    "               marker_ref, marker_obs, r_map, error_rate=0):\n",
    "    \"\"\"Save Folder with all relevant Information.\n",
    "    Folder: Where to save to\n",
    "    ref_hdf5: Reference HDF5\n",
    "    obs_hdf5: Observed HDF5\n",
    "    ids_ref: Indices of reference Individuals to save\n",
    "    ids_obs: Indices of observed Individuals\n",
    "    marker_ref: Indices of reference Markers\n",
    "    marker_obs: Indices of observed Markers\n",
    "    error_rate: Whether to Include an Error Rate\"\"\"\n",
    "    assert(len(marker_ref)==len(marker_obs))  # If reference and observe dataset are the same\n",
    "    assert(len(marker_ref)==len(r_map))  # If Linkage Map fits as well\n",
    "    \n",
    "    #ids_ind = [mal_ids[i] for i in ids_obs]     # Two indviduals to use as Haplotype\n",
    "\n",
    "    gts = ref_hdf5[\"calldata/GT\"][:, ids_ref, 0] # Extract Individuals (first haplo)\n",
    "    gts = gts[marker_ref, :].T       # Important: Swap of Dimensions!!\n",
    "    #gts = gts[:, markers]           # Extract Markers  \n",
    "    print(\"Extraction Complete!\")\n",
    "\n",
    "    gts_ind = obs_hdf5[\"calldata/GT\"][:, ids_obs, 0] # Extract Individuals (first haplo)\n",
    "    gts_ind = gts_ind[marker_obs, :].T \n",
    "    #gts_ind = gts_ind[:, markers]           # Extract Markers \n",
    "    \n",
    "    if error_rate>0:    # Do some Error Shennenigans\n",
    "        e_ids = np.random.binomial(1, error_rate, \n",
    "                                    size=np.shape(gts_ind)).astype(\"bool\") # Boolean Sample Vector\n",
    "        print(f\"Introducing {np.sum(e_ids)} Random Genotype Errors\")\n",
    "        gts_ind[e_ids] = 1 - gts_ind[e_ids] # Do a Flip\n",
    "    \n",
    "    save_refs(gts, folder, r_map, gt_individual=gts_ind)\n",
    "    \n",
    "    np.savetxt(folder + \"inds.csv\", ids_obs, delimiter=\",\",  fmt='%i')   # Save which Individuals were used"
   ]
  },
  {
   "cell_type": "markdown",
   "metadata": {},
   "source": [
    "# Save with Sardinian Ref"
   ]
  },
  {
   "cell_type": "code",
   "execution_count": 20,
   "metadata": {},
   "outputs": [
    {
     "name": "stdout",
     "output_type": "stream",
     "text": [
      "Extraction Complete!\n",
      "Nr of Markers used: 10000\n",
      "Nr of individuals saved: 100\n",
      "Successfully saved to ../Empirical/Sard100_0-10kROH8/\n"
     ]
    }
   ],
   "source": [
    "folder = \"../Empirical/Sard100_0-10kROH8/\"         # Which folder to save into\n",
    "nr_refs = 100 # How many Refs to save\n",
    "ids_obs = [1358, 1362] # The two male IDs of the observed Individuals  # [100,202], [510, 527] [708, 716]\n",
    "ids_ref = [mal_ids[i] for i in range(0, nr_refs)]   # List of which individuals to use (should be male!)\n",
    "\n",
    "markers = np.arange(0, 10000) # Which Markers to Slice out\n",
    "markers1 = i0[markers]\n",
    "r_map = map_pos[markers]\n",
    "\n",
    "save_haplo(folder, f, f, ids_ref, ids_obs, \n",
    "               markers1, markers1, r_map, error_rate=0)"
   ]
  },
  {
   "cell_type": "markdown",
   "metadata": {},
   "source": [
    "# Save with 1k Genome Reference\n",
    "(with n=503 European Haplotypes)"
   ]
  },
  {
   "cell_type": "code",
   "execution_count": 26,
   "metadata": {},
   "outputs": [
    {
     "name": "stdout",
     "output_type": "stream",
     "text": [
      "Extraction Complete!\n",
      "Nr of Markers used: 39000\n",
      "Nr of individuals saved: 503\n",
      "Successfully saved to ../Empirical/1kEUR_ROH10/\n"
     ]
    }
   ],
   "source": [
    "folder = \"../Empirical/1kEUR_ROH10/\"         # Which folder to save into\n",
    "ids_obs = 1768, 1771        # (209, 420) # The two male IDs of the observed Individuals  # [100,202], [510, 527] [708, 716]\n",
    "ids_ref = np.arange(503)  # All 503 EUR Samples as Reference (first Chromosome)\n",
    "\n",
    "markers = np.arange(0, 39000) # Which Markers to Slice out\n",
    "\n",
    "### Do Downsampling if needed\n",
    "#sample = np.random.binomial(1, 0.5, size=len(markers)).astype(\"bool\") # Boolean Sample Vector\n",
    "#markers = markers[sample]\n",
    "\n",
    "markers_ref = i2[markers]\n",
    "markers_obs = i1[markers]\n",
    "r_map = map_pos[markers]\n",
    "\n",
    "save_haplo(folder, f1000, f, ids_ref, ids_obs, \n",
    "               markers_ref, markers_obs, r_map, error_rate=0.0)"
   ]
  },
  {
   "cell_type": "markdown",
   "metadata": {},
   "source": [
    "# Do Downsampling and Saving"
   ]
  },
  {
   "cell_type": "code",
   "execution_count": null,
   "metadata": {},
   "outputs": [],
   "source": [
    "nr_refs = 100 # How many Refs to save\n",
    "ids_obs = [708, 716] # The two male IDs of the observed Individuals  # 1: [100,202], [510, 527] 4:[622, 624]\n",
    "markers = np.arange(30000, 40000)  # Which Markers to save\n",
    "#markers = np.arange(20000, 30000)\n",
    "#sample = np.random.binomial(1, 0.5, size=len(markers)).astype(\"bool\") # Boolean Sample Vector\n",
    "#markers = markers[sample]\n",
    "\n",
    "folder = \"../Empirical/Sard100_0-10kROH6e/\"         # Which folder to save into\n",
    "\n",
    "save_haplo(folder, nr_refs, ids_obs, markers, error_rate=0.01)"
   ]
  },
  {
   "cell_type": "markdown",
   "metadata": {},
   "source": [
    "# Area 51"
   ]
  },
  {
   "cell_type": "code",
   "execution_count": 42,
   "metadata": {},
   "outputs": [
    {
     "data": {
      "text/plain": [
       "(209, 420)"
      ]
     },
     "execution_count": 42,
     "metadata": {},
     "output_type": "execute_result"
    }
   ],
   "source": [
    "mal_ids[100], mal_ids[202]"
   ]
  },
  {
   "cell_type": "code",
   "execution_count": null,
   "metadata": {},
   "outputs": [],
   "source": []
  }
 ],
 "metadata": {
  "kernelspec": {
   "display_name": "Python 3",
   "language": "python",
   "name": "python3"
  },
  "language_info": {
   "codemirror_mode": {
    "name": "ipython",
    "version": 3
   },
   "file_extension": ".py",
   "mimetype": "text/x-python",
   "name": "python",
   "nbconvert_exporter": "python",
   "pygments_lexer": "ipython3",
   "version": "3.6.7"
  }
 },
 "nbformat": 4,
 "nbformat_minor": 2
}
