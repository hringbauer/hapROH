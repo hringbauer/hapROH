{
 "cells": [
  {
   "cell_type": "markdown",
   "metadata": {},
   "source": [
    "# Area 51\n",
    "Test Code Chunks here before going into Production."
   ]
  },
  {
   "cell_type": "markdown",
   "metadata": {},
   "source": [
    "## Simulator"
   ]
  },
  {
   "cell_type": "code",
   "execution_count": 1,
   "metadata": {},
   "outputs": [],
   "source": [
    "import numpy as np\n",
    "import matplotlib.pyplot as plt\n",
    "import os  # For Saving to Folder\n",
    "\n",
    "from matplotlib import gridspec"
   ]
  },
  {
   "cell_type": "code",
   "execution_count": 9,
   "metadata": {},
   "outputs": [],
   "source": [
    "class Simulator(object):\n",
    "    \"\"\"Simulator Class for HMMs. \n",
    "    This is the main Class, all specific Simulators can inherit from it\n",
    "    and overwrite functions. \n",
    "    Contains Parameters\"\"\"\n",
    "    l = 1000 # Nr of the Observations\n",
    "    k = 20 # Nr of Reference Haplotypes\n",
    "    lats = [] # The l latent States [l]\n",
    "    pure_stat = [] # The pure, unnoisy States [l]\n",
    "    ob_stat = []  # The observed State [l]\n",
    "    ref_states = [] # Ref. Array of k Reference States to Copy from. [kxl]\n",
    "    \n",
    "    ref_sim = 0 # Simulator object for References\n",
    "    \n",
    "     \n",
    "    def __init__(self, refsim=0):\n",
    "        \"\"\"refsim: Which Reference Simulator to use. If 0, set to Binomial\"\"\"\n",
    "        self.stats = np.ones(self.l) # Initialize the states to -1 (i.e. Unset)\n",
    "        \n",
    "        if refsim == 0:\n",
    "            refsim = BinomSimRefNoLD()\n",
    "            \n",
    "        self.set_ref_sim(sim=refsim)   # Set the Reference Simulator\n",
    "        self.ref_sim.set_params(k=self.k, l=self.l)\n",
    "        \n",
    "    def set_ref_sim(self, sim):\n",
    "        \"\"\"Set the Reference Simulator to sim\"\"\"\n",
    "        self.ref_sim = sim\n",
    "        \n",
    "    def simulate_latent(self):\n",
    "        \"\"\"Simulate all l latent States\"\"\"\n",
    "        raise NotImplementedError(\"Implement the Simlator!!\")\n",
    "        \n",
    "    def error_model(self):\n",
    "        \"\"\"Apply error model to all l latent States\"\"\"\n",
    "        self.stats = np.array(self.pure_stats) # The Latent State is the Same as the true State\n",
    "        \n",
    "    def simulate_full(self):\n",
    "        \"\"\"Return all Statistics\"\"\"\n",
    "        sim.simulate_ref()\n",
    "        sim.simulate_latent() # Simulate the Latent States\n",
    "        hap1 = sim.copyHaplo()\n",
    "        hap2 = sim.copyHaplo()\n",
    "        self.pure_stat = np.array([hap1, hap2]) # Combine the 2 Haplotypes\n",
    "        sim.apply_error()\n",
    "        print(\"Full Simulation Finished.\")\n",
    "    \n",
    "    def simulate_ref(self):\n",
    "        \"\"\"Generate the reference Data Set\"\"\"\n",
    "        \n",
    "        if self.ref_sim == 0:      # If not set, reset it\n",
    "            sim = BinomSimRefNoLD()\n",
    "            print(\"Setting Ref Simulator\")\n",
    "            self.set_ref_sim(sim)\n",
    "            \n",
    "        self.ref_states = self.ref_sim.simulate_refs()\n",
    "        print(\"Finished Simulation of Ref\")\n",
    "        \n",
    "    def apply_error(self):\n",
    "        \"\"\"Applies the Error Model\"\"\"\n",
    "        self.ob_stat = self.pure_stat  # Default: Don't have any Error.\n",
    "    \n",
    "    def save_data(self, folder=\"../Simulated/Test0/\"):\n",
    "        \"\"\"Save the simulated Data to a Directory\"\"\"\n",
    "        \n",
    "        # Check if Folder there. If not make it\n",
    "        if not os.path.exists(folder):\n",
    "            os.makedirs(folder)\n",
    "        \n",
    "        np.savetxt(folder + \"refs.csv\", self.ref_states, delimiter = \",\",  fmt='%i') # Save Reference Haplotypes\n",
    "        np.savetxt(folder + \"hap.csv\", sim.ob_stat, delimiter = \",\",  fmt='%i')      # Save Genotype Vector\n",
    "        np.savetxt(folder + \"lat.csv\", self.lats, delimiter = \",\",  fmt='%i')        # Save Hidden Path \n",
    "        print(f\"Successfully saved to: {folder}\")     \n",
    "        \n",
    "    def copyHaplo(self):\n",
    "        \"\"\"Copy from Haplotypes Refs via latent states\"\"\"\n",
    "        lat, refs = self.lats, self.ref_states # For easier Notation\n",
    "        \n",
    "        # Do HW draws:\n",
    "        p_mean = np.mean(refs, axis=0)\n",
    "        y = np.random.binomial(1, p_mean) # Do Hardy Weinberg Draw\n",
    "        \n",
    "        subs = lat>0             # Boolean Array where to sub in Ref Data\n",
    "        sub_inds = lat[subs] - 1   # Indices to Sub In (shift by one because of convention)\n",
    "        y[subs] = refs[sub_inds, subs]\n",
    "        return y # Set the observed Status\n",
    "           \n",
    "#####################################################\n",
    "#####################################################\n",
    "#####################################################\n",
    "\n",
    "class BinomSim(Simulator):\n",
    "    \"\"\"Bimomial Simulator.\n",
    "    Assume equally spaced SNPs.\n",
    "    Copying: 0: From HW state. 1,...,n from Reference Data Set [n]\"\"\"\n",
    "    spacing = []    # Spacing between SNPs [in Morgan]\n",
    "    \n",
    "    roh_in = 0.002      # The rate of jumping to another Haplotype\n",
    "    roh_out = 0.01     # The rate of jumping out\n",
    "    roh_jump = 0.05    # The rate of jumping within ROH     \n",
    "    \n",
    "    def set_cons_spacing(s=0.1):\n",
    "        \"\"\"Set the spacing of SNPs\"\"\"\n",
    "        self.spacing = np.ones(self.l) * s  # Set the constant Spacing\n",
    "    \n",
    "    def set_params(self):\n",
    "        \"\"\"Set the parameters\"\"\"\n",
    "        raise NotImplementedError(\"Implement this.\")  \n",
    "        \n",
    "    def first_state(self):\n",
    "        \"\"\"Generate the first latent state\"\"\"\n",
    "        return 0\n",
    "        \n",
    "    def sim_copying(self):\n",
    "        \"\"\"Simulate the Vector with States to copy from\"\"\"\n",
    "        print(self.l)\n",
    "        states = -np.ones(self.l, dtype=\"int\")  # Initialize all states to invalid values \n",
    "        \n",
    "        i = 0   # The current Position\n",
    "        state = self.first_state() # Generate first step\n",
    "        \n",
    "        # Iterate along line until done:\n",
    "        while i < self.l:  \n",
    "            if state == 0:\n",
    "                t, n_state = self.jump_no_roh()\n",
    "                \n",
    "            elif state >0:\n",
    "                t, n_state = self.jump_roh()\n",
    "                \n",
    "            else:\n",
    "                raise RuntimeError(\"WTF DUDE\")\n",
    "                \n",
    "            j = i + t\n",
    "            states[i:j] = state # Make it that State    \n",
    "            i, state = j, n_state # Go to next position\n",
    "        return states\n",
    "    \n",
    "    def jump_no_roh(self):\n",
    "        \"\"\"Generate length and next state not in ROH\"\"\"\n",
    "        m = 1 / self.roh_in\n",
    "        t = np.random.exponential(scale=m)\n",
    "        t = np.ceil(t).astype(\"int\")   # Round Up\n",
    "        n_state = np.random.randint(self.k) + 1 # The next state\n",
    "        return t, n_state\n",
    "    \n",
    "    def jump_roh(self):\n",
    "        \"\"\"Generate length and next state in ROH\"\"\"\n",
    "        m = 1 / (self.roh_out + self.roh_jump) # The overall rate for any jump\n",
    "        t = np.random.exponential(scale=m) # Where next event happens\n",
    "        t = np.ceil(t).astype(\"int\")   # Round Up\n",
    "        \n",
    "        if np.random.random() <  self.roh_jump * m:  # Chance of staying in\n",
    "            n_state = np.random.randint(self.k) + 1 # The next state. Could perhaps reuse prob.\n",
    "            \n",
    "        else:\n",
    "            n_state = 0 # Jump back to the origin\n",
    "        return t, n_state\n",
    "                \n",
    "    def simulate_latent(self):\n",
    "        \"\"\"Simulate l latent States\"\"\"\n",
    "        ### Do a copying vector: Each state is from whom you copy\n",
    "        # Do all randomness:\n",
    "        self.lats = self.sim_copying()  # Get all latent states\n",
    "\n",
    "    def draw_from_latent(self):\n",
    "        \"\"\"Draw from all latent States.\"\"\"\n",
    "        raise NotImplementedError(\"Implement This!!!\")\n",
    "    \n",
    "#####################################################\n",
    "#####################################################\n",
    "###### Reference Simulator\n",
    "\n",
    "class SimRef(object):\n",
    "    \"\"\"Class for Simulating the Reference Strings\"\"\"\n",
    "    refs = []\n",
    "    haps = []\n",
    "    \n",
    "    def simulate_refs(self):\n",
    "        \"\"\"Simulate and return Reference Strings\"\"\"\n",
    "        raise NotImplementedError(\"Implement this!\")   \n",
    "        \n",
    "    def set_params(self):\n",
    "        \"\"\"Set parameters\"\"\"\n",
    "        raise NotImplementedError(\"Implement this!\")\n",
    "    \n",
    "    def plot_ld_r2(self, haps=[], l=200, fs=18):\n",
    "        \"\"\"Plot R2 across pw. Distances of SNPs\"\"\"\n",
    "        if len(haps)==0:\n",
    "            haps=self.haps\n",
    "    \n",
    "        c = np.corrcoef(haps[:,:l], rowvar=False) # Do Correlation within 200 SNPs\n",
    "\n",
    "        k = int(np.ceil(l/2))\n",
    "\n",
    "        r2vec = np.zeros(k)\n",
    "\n",
    "\n",
    "        for i in range(k): ### Get all diagonals\n",
    "            d = np.diag(c, k=i)\n",
    "            r2 = np.nanmean(d**2) # To get r**2 Value (with NANs because sometimes no correlation)\n",
    "            r2vec[i] = r2\n",
    "\n",
    "        xarr = np.arange(k) + 1 # Make Vector of all pairwise Distances\n",
    "\n",
    "        plt.figure()\n",
    "        plt.plot(xarr, r2vec, \"bo\")\n",
    "        plt.xlabel(\"Pw. Distance [Loci]\", fontsize=fs)\n",
    "        plt.ylabel(r\"Correlation $r^2$\", fontsize=fs)\n",
    "        plt.axhline(y=0, linewidth=2)\n",
    "        plt.show()\n",
    "        \n",
    "class BinomSimRefNoLD(SimRef):\n",
    "    \"\"\"Simulate References under a Binomial Model.\n",
    "    For the moment: Do not do any LD Structure\"\"\"\n",
    "    h = 2     # Nr of different Haplotypes\n",
    "    k = 100   # Nr of overall Haplotypes\n",
    "    l = 1000  # Length of the Haplotypes\n",
    "    p = 0.5   # Mean Allele Frequency\n",
    "    \n",
    "    #def set_params(self, h=5, k=100, l=1000, p=0.5):\n",
    "    #    \"\"\"Set Parameters for reference\"\"\"\n",
    "    #    self.h=h\n",
    "    #    self.k=k\n",
    "    #    self.l=l\n",
    "    #    self.p=p\n",
    "    #    print(\"k set\")\n",
    "    #    print(self.k)\n",
    "        \n",
    "    def set_params(self, **kwargs):\n",
    "        \"\"\"Set Attributes with keyworded Arguments\"\"\"\n",
    "        for key, value in kwargs.items():\n",
    "            setattr(self, key, value)\n",
    "        \n",
    "    def simulate_refs(self):\n",
    "        \"\"\"Simulate References under a Binomial Model\"\"\"\n",
    "        h, k, l = self.h, self.k, self.l  # For better Readability\n",
    "        \n",
    "        ### Simulate effective Haplotypes \n",
    "        e_haps = np.random.binomial(1, 0.5, size=(h, l))\n",
    "        haps = np.zeros((k, l), dtype=\"int\") # Set to zero\n",
    "        \n",
    "        for i in range(h):\n",
    "            haps[i::h] = e_haps[i,:] # Set every ith entry\n",
    "\n",
    "        self.haps = haps\n",
    "        return haps"
   ]
  },
  {
   "cell_type": "markdown",
   "metadata": {},
   "source": [
    "## Mini Area 51"
   ]
  },
  {
   "cell_type": "code",
   "execution_count": 7,
   "metadata": {},
   "outputs": [
    {
     "name": "stdout",
     "output_type": "stream",
     "text": [
      "Finished Simulation of Ref\n",
      "1000\n",
      "Full Simulation Finished.\n",
      "Successfully saved to: ../Simulated/Test0/\n"
     ]
    },
    {
     "data": {
      "image/png": "[encoded data removed]",
      "text/plain": [
       "<matplotlib.figure.Figure at 0x7fe5610e13c8>"
      ]
     },
     "metadata": {
      "needs_background": "light"
     },
     "output_type": "display_data"
    }
   ],
   "source": [
    "### Plot Binomial Sampling\n",
    "sim = BinomSim()\n",
    "sim.ref_sim.set_params(h=2)\n",
    "sim.simulate_full()\n",
    "sim.save_data(folder=\"../Simulated/Test0/\")\n",
    "\n",
    "### Attach the copied Haplotype\n",
    "#plot_hap = np.array([sim.ob_stat for _ in range(1)])\n",
    "\n",
    "fs = 12\n",
    "\n",
    "plt.figure(figsize=(14,2))\n",
    "gs = gridspec.GridSpec(2, 1, height_ratios=[10, 1])\n",
    "gs.update(hspace=0.3) # set the spacing between axes. \n",
    "\n",
    "ax = plt.subplot(gs[0]) # The left subplot\n",
    "ax1 = plt.subplot(gs[1]) # The middle one\n",
    "\n",
    "ax.imshow(sim.ref_states, cmap='Greys',  aspect='auto')\n",
    "ax.plot(sim.lats-1.5, linewidth=2, color=\"red\") # Plot upper Boarder\n",
    "ax.plot(sim.lats-0.5, linewidth=2, color=\"red\") # Plot lower boarder\n",
    "\n",
    "ax.set_ylabel(\"Ref. Hapotype\",fontsize=fs)\n",
    "#ax.axhline(-.3)\n",
    "ax.set_xticks([])\n",
    "\n",
    "# Do the Reference SNP\n",
    "ax1.imshow(sim.ob_stat, cmap='Greys',  aspect='auto')\n",
    "ax1.set_xlabel(\"SNP\", fontsize=fs)\n",
    "ax1.set_yticks([])\n",
    "ax1.set_ylabel(\"Copy\")\n",
    "\n",
    "plt.savefig(\"../figures_test/haplotypes.pdf\", bbox_inches = 'tight', pad_inches = 0)\n",
    "plt.show()"
   ]
  },
  {
   "cell_type": "code",
   "execution_count": null,
   "metadata": {},
   "outputs": [],
   "source": [
    "sim.ref_sim.plot_ld_r2()"
   ]
  },
  {
   "cell_type": "code",
   "execution_count": null,
   "metadata": {},
   "outputs": [],
   "source": [
    "%%time\n",
    "sim = BinomSim()\n",
    "sim.simulate_latent() # Simulate the Latent States\n",
    "\n",
    "### Do the Plot\n",
    "fs = 14\n",
    "plt.figure(figsize=(12,4))\n",
    "plt.plot(sim.lats, linewidth=2, color=\"maroon\") # For Plotting them\n",
    "plt.ylabel(\"State\", fontsize=fs)\n",
    "plt.xlabel(\"SNP\", fontsize=fs)\n",
    "plt.ylim([-0.9,20.5])\n",
    "plt.show()"
   ]
  },
  {
   "cell_type": "code",
   "execution_count": null,
   "metadata": {},
   "outputs": [],
   "source": [
    "np.shape(sim.ref_states)"
   ]
  },
  {
   "cell_type": "markdown",
   "metadata": {},
   "source": [
    "# Test the Recombination Distances:"
   ]
  },
  {
   "cell_type": "code",
   "execution_count": 5,
   "metadata": {},
   "outputs": [],
   "source": [
    "folder = \"../Empirical/Sard100_0-10kROH/\"\n",
    "map_path = folder + \"map.csv\"\n",
    "r_map = np.loadtxt(map_path, dtype=\"float\", delimiter=\",\")"
   ]
  },
  {
   "cell_type": "code",
   "execution_count": 6,
   "metadata": {},
   "outputs": [
    {
     "data": {
      "text/plain": [
       "array([0.208504, 0.209002, 0.209031, ..., 0.67096 , 0.67096 , 0.670967])"
      ]
     },
     "execution_count": 6,
     "metadata": {},
     "output_type": "execute_result"
    }
   ],
   "source": [
    "r_map"
   ]
  },
  {
   "cell_type": "code",
   "execution_count": 8,
   "metadata": {},
   "outputs": [],
   "source": [
    "r_map_g = np.zeros(len(r_map))  # Make new array\n",
    "r_map_g[1:] = r_map[1:] - r_map[:-1] # Calculate Differences"
   ]
  },
  {
   "cell_type": "code",
   "execution_count": 9,
   "metadata": {},
   "outputs": [
    {
     "data": {
      "text/plain": [
       "array([0.00e+00, 4.98e-04, 2.90e-05, ..., 4.00e-05, 0.00e+00, 7.00e-06])"
      ]
     },
     "execution_count": 9,
     "metadata": {},
     "output_type": "execute_result"
    }
   ],
   "source": [
    "r_map_g"
   ]
  },
  {
   "cell_type": "code",
   "execution_count": 11,
   "metadata": {},
   "outputs": [
    {
     "data": {
      "image/png": "[encoded data removed]",
      "text/plain": [
       "<matplotlib.figure.Figure at 0x7f1339add160>"
      ]
     },
     "metadata": {
      "needs_background": "light"
     },
     "output_type": "display_data"
    }
   ],
   "source": [
    "plt.figure()\n",
    "plt.hist(r_map_g, bins=100)\n",
    "plt.show()"
   ]
  },
  {
   "cell_type": "code",
   "execution_count": 23,
   "metadata": {},
   "outputs": [
    {
     "name": "stdout",
     "output_type": "stream",
     "text": [
      "Gaps bigger than 0.1 cM: 53\n",
      "Maximum Gap: 0.2614 cM\n"
     ]
    }
   ],
   "source": [
    "print(f\"Gaps bigger than 0.1 cM: {np.sum(r_map_g > 0.001)}\")\n",
    "print(f\"Maximum Gap: {np.max(r_map_g) * 100:.4f} cM\")"
   ]
  },
  {
   "cell_type": "code",
   "execution_count": 26,
   "metadata": {},
   "outputs": [
    {
     "name": "stderr",
     "output_type": "stream",
     "text": [
      "/usr/local/lib/python3.6/dist-packages/ipykernel_launcher.py:1: RuntimeWarning: divide by zero encountered in log\n",
      "  \"\"\"Entry point for launching an IPython kernel.\n"
     ]
    },
    {
     "data": {
      "text/plain": [
       "-inf"
      ]
     },
     "execution_count": 26,
     "metadata": {},
     "output_type": "execute_result"
    }
   ],
   "source": [
    "np.log(0)"
   ]
  },
  {
   "cell_type": "code",
   "execution_count": null,
   "metadata": {},
   "outputs": [],
   "source": []
  }
 ],
 "metadata": {
  "kernelspec": {
   "display_name": "Python 3",
   "language": "python",
   "name": "python3"
  },
  "language_info": {
   "codemirror_mode": {
    "name": "ipython",
    "version": 3
   },
   "file_extension": ".py",
   "mimetype": "text/x-python",
   "name": "python",
   "nbconvert_exporter": "python",
   "pygments_lexer": "ipython3",
   "version": "3.6.7"
  }
 },
 "nbformat": 4,
 "nbformat_minor": 2
}
