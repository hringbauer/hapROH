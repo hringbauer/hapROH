{
 "cells": [
  {
   "cell_type": "code",
   "execution_count": 1,
   "metadata": {},
   "outputs": [
    {
     "name": "stdout",
     "output_type": "stream",
     "text": [
      "midway2-0401.rcc.local\n",
      "Midway jnovmbre partition detected.\n",
      "/project2/jnovembre/hringbauer/HAPSBURG\n",
      "CPU Count: 28\n"
     ]
    }
   ],
   "source": [
    "import numpy as np\n",
    "import os  # For Saving to Folder\n",
    "import pandas as pd\n",
    "import matplotlib.pyplot as plt\n",
    "import matplotlib.cm as cm\n",
    "import matplotlib.colorbar as clb\n",
    "import matplotlib.colors as cls\n",
    "from matplotlib import gridspec\n",
    "from mpl_toolkits.axes_grid1 import make_axes_locatable\n",
    "from mpl_toolkits.basemap import Basemap\n",
    "from sklearn.gaussian_process import GaussianProcessRegressor\n",
    "from sklearn.gaussian_process.kernels import RBF, WhiteKernel\n",
    "\n",
    "import socket\n",
    "import os as os\n",
    "import sys as sys\n",
    "import multiprocessing as mp\n",
    "\n",
    "### For Arial Font\n",
    "from matplotlib import rcParams\n",
    "rcParams['font.family'] = 'sans-serif'   # Set the defaul\n",
    "rcParams['font.sans-serif'] = ['Arial']  # Make sure to have the font installed (it is on cluster for Harald)\n",
    "\n",
    "### To do lowess smoothing\n",
    "import statsmodels.api as sm\n",
    "lowess = sm.nonparametric.lowess\n",
    "\n",
    "socket_name = socket.gethostname()\n",
    "print(socket_name)\n",
    "if socket_name == \"VioletQueen\":\n",
    "    path = \"/home/harald/git/HAPSBURG/\"   # The Path on Harald's machine\n",
    "elif socket_name.startswith(\"midway2\"):\n",
    "    print(\"Midway jnovmbre partition detected.\")\n",
    "    path = \"/project2/jnovembre/hringbauer/HAPSBURG/\"  # The Path on Midway Cluster\n",
    "else: \n",
    "    raise RuntimeWarning(\"Not compatible machine. Check!!\")\n",
    "\n",
    "os.chdir(path)  # Set the right Path (in line with Atom default)\n",
    "print(os.getcwd()) # Show the current working directory. Should be HAPSBURG/Notebooks/ParallelRuns\n",
    "print(f\"CPU Count: {mp.cpu_count()}\")\n",
    "\n",
    "sys.path.append(\"./PackagesSupport/\")\n",
    "from roh_expectations import Expected_Roh"
   ]
  },
  {
   "cell_type": "markdown",
   "metadata": {},
   "source": [
    "### Expectations for Cousins / Small Pop Size"
   ]
  },
  {
   "cell_type": "code",
   "execution_count": 3,
   "metadata": {},
   "outputs": [],
   "source": [
    "def create_cousins_roh(degrees=[1,2,3], bins = [[0.04,0.08],[0.08,0.12],[0.12,3.00]]):\n",
    "    \"\"\"Create ROH sharing in list of bins (list of [begin,end]) \n",
    "    for Cousins of degree degrees [list]\n",
    "    return sharing [len(degrees), len(bins)]\"\"\"\n",
    "    e_roh = Expected_Roh()\n",
    "    c_roh = np.zeros((len(degrees),len(bins))) # Container for results Cousins\n",
    "    for i,c in enumerate(degrees):\n",
    "        for j,b in enumerate(bins):\n",
    "            m = c*2 + 4\n",
    "            c_roh[i,j] = e_roh.exp_roh_len_in_bin_rel(l=b, m=m, comm_anc=4, bins=10000)\n",
    "    return c_roh\n",
    "\n",
    "#bins = [[0.04,0.08],[0.08,0.12],[0.12,3.00]]  # The bins I want to plot (eventually maybe do 12,16 as welll)\n",
    "#cousins = [1, 2, 3]  # Which Cousins to Plot\n",
    "\n",
    "def create_Ne_roh(Ns= [400, 800, 1600, 3200, 6400], bins = [[0.04,0.08],[0.08,0.12],[0.12,3.00]]):\n",
    "    \"\"\"Create ROH sharing in list of bins (list of [begin,end]) \n",
    "    for Cousins of degree degrees [list]\n",
    "    return sharing [len(degrees), len(bins)]\"\"\"\n",
    "    e_roh = Expected_Roh()\n",
    "    n_roh = np.zeros((len(Ns),len(bins))) # Container for results Cousins\n",
    "    for i,N in enumerate(Ns):\n",
    "        for j,b in enumerate(bins):\n",
    "            n_roh[i,j] = e_roh.exp_roh_len_in_bin_N(b, N=N, bins=10000)\n",
    "    return n_roh"
   ]
  },
  {
   "cell_type": "code",
   "execution_count": 5,
   "metadata": {},
   "outputs": [
    {
     "name": "stdout",
     "output_type": "stream",
     "text": [
      "CPU times: user 365 ms, sys: 16.8 ms, total: 382 ms\n",
      "Wall time: 381 ms\n"
     ]
    }
   ],
   "source": [
    "%%time\n",
    "bins = [[0.04,0.08],[0.08,0.12],[0.12,3.00]]\n",
    "Ns=[400, 800, 1600, 3200, 6400]\n",
    "degrees=[1,2,3]\n",
    "\n",
    "c_roh = create_cousins_roh(degrees=degrees, bins = bins) # Calcualte Expectations Cousins:\n",
    "##\n",
    "n_roh = create_Ne_roh(Ns=Ns, bins = bins) # Calculate Expectations Ne:"
   ]
  },
  {
   "cell_type": "code",
   "execution_count": 6,
   "metadata": {},
   "outputs": [
    {
     "data": {
      "text/plain": [
       "array([[0.15417107, 0.1989896 , 1.79197005],\n",
       "       [0.0579345 , 0.06908513, 0.39969971],\n",
       "       [0.01947492, 0.02146337, 0.08786535]])"
      ]
     },
     "execution_count": 6,
     "metadata": {},
     "output_type": "execute_result"
    }
   ],
   "source": [
    "c_roh"
   ]
  },
  {
   "cell_type": "markdown",
   "metadata": {},
   "source": [
    "# Load Empirical Data"
   ]
  },
  {
   "cell_type": "code",
   "execution_count": null,
   "metadata": {},
   "outputs": [],
   "source": []
  }
 ],
 "metadata": {
  "kernelspec": {
   "display_name": "Python 3",
   "language": "python",
   "name": "python3"
  },
  "language_info": {
   "codemirror_mode": {
    "name": "ipython",
    "version": 3
   },
   "file_extension": ".py",
   "mimetype": "text/x-python",
   "name": "python",
   "nbconvert_exporter": "python",
   "pygments_lexer": "ipython3",
   "version": "3.7.0"
  }
 },
 "nbformat": 4,
 "nbformat_minor": 2
}
