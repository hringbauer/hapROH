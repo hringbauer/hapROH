{
 "cells": [
  {
   "cell_type": "markdown",
   "metadata": {},
   "source": [
    "# Process Individual ROH csv files into Summary Files"
   ]
  },
  {
   "cell_type": "code",
   "execution_count": 6,
   "metadata": {},
   "outputs": [
    {
     "name": "stdout",
     "output_type": "stream",
     "text": [
      "VioletQueen\n",
      "/home/harald/git/HAPSBURG\n",
      "CPU Count: 4\n"
     ]
    }
   ],
   "source": [
    "import pandas as pd\n",
    "import numpy as np\n",
    "import matplotlib.pyplot as plt\n",
    "import matplotlib.cm as cm\n",
    "from matplotlib import gridspec\n",
    "import socket\n",
    "import os as os\n",
    "import sys as sys\n",
    "import multiprocessing as mp\n",
    "import matplotlib.colors as cls\n",
    "from mpl_toolkits.basemap import Basemap\n",
    "from matplotlib.patches import Polygon\n",
    "from matplotlib.collections import PatchCollection\n",
    "\n",
    "socket_name = socket.gethostname()\n",
    "print(socket_name)\n",
    "if socket_name == \"VioletQueen\":\n",
    "    path = \"/home/harald/git/HAPSBURG/\"   # The Path on Harald's machine\n",
    "elif socket_name.startswith(\"midway2\"):\n",
    "    print(\"Midway jnovmbre partition detected.\")\n",
    "    path = \"/project/jnovembre/hringbauer/HAPSBURG/\"  # The Path on Midway Cluster\n",
    "else: \n",
    "    raise RuntimeWarning(\"Not compatible machine. Check!!\")\n",
    "    \n",
    "os.chdir(path)  # Set the right Path (in line with Atom default)\n",
    "\n",
    "sys.path.append(\"./Python3/\")  # Since now we are in the Root Directory\n",
    "sys.path.append(\"./PackagesSupport/\")\n",
    "from pp_individual_roh_csvs import create_combined_ROH_df, give_iid_paths\n",
    "\n",
    "print(os.getcwd()) # Show the current working directory. Should be HAPSBURG/Notebooks/ParallelRuns\n",
    "print(f\"CPU Count: {mp.cpu_count()}\")"
   ]
  },
  {
   "cell_type": "markdown",
   "metadata": {},
   "source": [
    "# Eigenstrat ROH Results postprocessing"
   ]
  },
  {
   "cell_type": "code",
   "execution_count": 7,
   "metadata": {},
   "outputs": [],
   "source": [
    "### Load IIDs\n",
    "### Load Metafile from D. Reich:\n",
    "def load_eigenstrat_anno(path=\"./Data/ReichLabEigenstrat/Raw/v37.2.1240K.clean4.anno\", anc_only=True):\n",
    "    \"\"\"Load annotated Eigenstrat (from D. Reich's group)\"\"\"\n",
    "    df_anno = pd.read_csv(path, sep=\"\\t\", engine=\"python\")\n",
    "    coverage = pd.to_numeric(df_anno[\"Coverage\"], errors='coerce')\n",
    "    df_anno[\"coverage\"]=coverage\n",
    "\n",
    "    # Convert the Ages as well\n",
    "    ages = df_anno[\"Average of 95.4% date range in calBP (defined as 1950 CE)  \"]\n",
    "    df_anno[\"ages\"] = pd.to_numeric(ages, errors='coerce')  #\n",
    "\n",
    "    ### Convert Longitude and Latitude\n",
    "    lat = df_anno[\"Lat.\"]\n",
    "    lon = df_anno[\"Long.\"]\n",
    "    df_anno[\"lat\"] = pd.to_numeric(lat, errors='coerce')\n",
    "    df_anno[\"lon\"] = pd.to_numeric(lon, errors='coerce')\n",
    "    df_anno[\"iid\"] = df_anno[\"Instance ID\"]\n",
    "    \n",
    "    df_anc = df_anno[df_anno[\"ages\"]>0]\n",
    "\n",
    "    print(f\"Loaded {len(df_anc)} / {len(df_anno)} ancient Indivdiuals.\")\n",
    "    print(f\"Without Coverage: {np.sum(np.isnan(coverage))}\")\n",
    "    if anc_only:\n",
    "        df_anno=df_anc\n",
    "    return df_anno\n"
   ]
  },
  {
   "cell_type": "code",
   "execution_count": 16,
   "metadata": {},
   "outputs": [
    {
     "name": "stdout",
     "output_type": "stream",
     "text": [
      "Loaded 2106 / 5081 ancient Indivdiuals.\n",
      "Without Coverage: 2581\n"
     ]
    },
    {
     "data": {
      "text/plain": [
       "1099"
      ]
     },
     "execution_count": 16,
     "metadata": {},
     "output_type": "execute_result"
    }
   ],
   "source": [
    "df_anno = load_eigenstrat_anno()\n",
    "df_ana = df_anno[df_anno[\"coverage\"]>0.5]\n",
    "len(df_ana)"
   ]
  },
  {
   "cell_type": "code",
   "execution_count": 15,
   "metadata": {},
   "outputs": [],
   "source": [
    "### Create Paths\n",
    "paths = give_iid_paths(df_ana[\"iid\"], base_folder=\"./Empirical/Eigenstrat/Reichall/\", suffix='_roh_full.csv')"
   ]
  },
  {
   "cell_type": "code",
   "execution_count": 5,
   "metadata": {},
   "outputs": [],
   "source": [
    "### Combine them\n",
    "create_combined_ROH_df(paths, df_ana[\"iid\"], df_ana['Group ID'], min_cm=4, snp_cm=50, \n",
    "                       savepath='./Empirical/HO/roh_summary_HO.csv', gap=1.0, output=True)"
   ]
  },
  {
   "cell_type": "code",
   "execution_count": 18,
   "metadata": {},
   "outputs": [],
   "source": [
    "### Merge in other Data and Save"
   ]
  },
  {
   "cell_type": "markdown",
   "metadata": {},
   "source": [
    "## Do some basic Analysis"
   ]
  },
  {
   "cell_type": "code",
   "execution_count": null,
   "metadata": {},
   "outputs": [],
   "source": []
  },
  {
   "cell_type": "markdown",
   "metadata": {},
   "source": [
    "# Area 51"
   ]
  },
  {
   "cell_type": "code",
   "execution_count": 17,
   "metadata": {},
   "outputs": [
    {
     "data": {
      "text/plain": [
       "Index(['Instance ID', 'Master ID', 'Skeletal code', 'Skeletal element',\n",
       "       'LibraryID(s)', 'No. Libraries', 'Data type', 'Publication',\n",
       "       'Average of 95.4% date range in calBP (defined as 1950 CE)  ',\n",
       "       'Date: One of two formats. (Format 1) 95.4% CI calibrated radiocarbon age (Conventional Radiocarbon Age BP, Lab number) e.g. 5983-5747 calBCE (6980±50 BP, Beta-226472). (Format 2) Archaeological context date, e.g. 2500-1700 BCE',\n",
       "       'Group ID', 'Location', 'Country', 'Lat.', 'Long.', 'Sex', 'mtDNA',\n",
       "       'Y chrom. (automatically called only if >50000 autosomal SNPs hit)',\n",
       "       '% endogenous in shotgun sequencing for the best library', 'Coverage',\n",
       "       'SNPs hit on autosomes',\n",
       "       'UDG treatment (minus=untreated; half=treated except in last nucleotides; plus=treated over all nucleotides)',\n",
       "       'Damage restrict?', 'ASSESSMENT',\n",
       "       'Xcontam point estimate if male and >=200 SNPs',\n",
       "       'Xcontam Z-score if male and >=200 SNPs', 'endogenous by library',\n",
       "       'damage by library', 'mt.haplogroup by library',\n",
       "       'mt.match rate to consensus by library',\n",
       "       'Year this sample was first published', 'coverage', 'ages', 'lat',\n",
       "       'lon', 'iid'],\n",
       "      dtype='object')"
      ]
     },
     "execution_count": 17,
     "metadata": {},
     "output_type": "execute_result"
    }
   ],
   "source": [
    "df_ana.columns"
   ]
  },
  {
   "cell_type": "code",
   "execution_count": null,
   "metadata": {},
   "outputs": [],
   "source": []
  }
 ],
 "metadata": {
  "kernelspec": {
   "display_name": "Python 3",
   "language": "python",
   "name": "python3"
  },
  "language_info": {
   "codemirror_mode": {
    "name": "ipython",
    "version": 3
   },
   "file_extension": ".py",
   "mimetype": "text/x-python",
   "name": "python",
   "nbconvert_exporter": "python",
   "pygments_lexer": "ipython3",
   "version": "3.6.8"
  }
 },
 "nbformat": 4,
 "nbformat_minor": 2
}
