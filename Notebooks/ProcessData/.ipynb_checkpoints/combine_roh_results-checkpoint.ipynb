{
 "cells": [
  {
   "cell_type": "markdown",
   "metadata": {},
   "source": "# Process ROH Results into one big dataframe\nContains cleaning lines (i.e. to remove duplicates)"
  },
  {
   "cell_type": "code",
   "execution_count": 1,
   "metadata": {},
   "outputs": [
    {
     "name": "stdout",
     "output_type": "stream",
     "text": "midway2-0401.rcc.local\nMidway jnovmbre partition detected.\n/project2/jnovembre/hringbauer/HAPSBURG\nCPU Count: 28\n"
    }
   ],
   "source": "import numpy as np\nimport os  # For Saving to Folder\nimport pandas as pd\nimport matplotlib.pyplot as plt\nimport matplotlib.cm as cm\nimport matplotlib.colorbar as clb\nimport matplotlib.colors as cls\nfrom matplotlib import gridspec\nfrom mpl_toolkits.axes_grid1 import make_axes_locatable\nfrom mpl_toolkits.basemap import Basemap\nfrom sklearn.gaussian_process import GaussianProcessRegressor\nfrom sklearn.gaussian_process.kernels import RBF, WhiteKernel\n\nimport socket\nimport os as os\nimport sys as sys\nimport multiprocessing as mp\n\nsocket_name = socket.gethostname()\nprint(socket_name)\nif socket_name == \"VioletQueen\":\n    path = \"/home/harald/git/HAPSBURG/\"   # The Path on Harald's machine\nelif socket_name.startswith(\"midway2\"):\n    print(\"Midway jnovmbre partition detected.\")\n    path = \"/project2/jnovembre/hringbauer/HAPSBURG/\"  # The Path on Midway Cluster\nelse: \n    raise RuntimeWarning(\"Not compatible machine. Check!!\")\n    \nos.chdir(path)  # Set the right Path (in line with Atom default)\nprint(os.getcwd()) # Show the current working directory. Should be HAPSBURG/Notebooks/ParallelRuns\nprint(f\"CPU Count: {mp.cpu_count()}\")\n\n### Additional Imports from Support Packages\nsys.path.append(\"./PackagesSupport/\")\nfrom pp_individual_roh_csvs import extract_sub_df_geo_kw, give_df_clsts"
  },
  {
   "cell_type": "markdown",
   "metadata": {},
   "source": "### Functions that pre-process Data\nAdd \"region\" Field. Add \"color\" (based on Time) field"
  },
  {
   "cell_type": "code",
   "execution_count": 50,
   "metadata": {},
   "outputs": [],
   "source": "def pre_process_roman_df(df, age_error=0, remove_sard=False, cust_color=False, def_color=\"gray\"):\n    \"\"\"Preprocess and return roman df and adds colors\"\"\"\n    color_dict = {\"Medieval/EarlyModern\":\"yellow\", \"Imperial\":\"red\", \"Iron/Republic\":\"magenta\", \n                  \"LateAntiquity\":\"orange\", \"Copper Age\":\"aquamarine\", \"Neolithic\":\"dodgerblue\", \n                  \"Mesolithic\":\"purple\", \"(not included in analyses)\":\"gray\"}\n    if cust_color:\n        df[\"color\"] = df[\"clst\"].map(color_dict)\n    else:\n        df[\"color\"] = def_color\n    if age_error>0:\n        df[\"age\"]+= np.random.random(len(df))*age_error - age_error/2\n    \n    df[\"region\"]=\"Rome\" \n    ### Modify Sardinians\n    idx_sar = (df[\"clst\"] == \"(not included in analyses)\")\n    df.loc[idx_sar,\"region\"] = \"Sardinia\"\n    df.loc[df[\"iid\"]==\"RMPR-24\", \"clst\"] = \"Sar-MN\" # set cluster (given weirdly in meta)\n    return df\n\ndef pre_process_iberia_df(df, age_error=0, def_color=\"gray\"):\n    \"\"\"Preprocess and return roman df and adds colors\"\"\"\n    df[\"color\"] = def_color\n    df.loc[df[\"iid\"]==\"I10866\", \"age\"] = 1997 # set age (given weirdly in meta)\n\n    ### WHG Coloring\n    hg_terms = [\"HG\", \"Meso\", \"ElMiron\"]\n    idx = df[\"clst\"].str.contains('|'.join(hg_terms))\n    df.loc[idx, \"color\"]=\"purple\"\n    df.loc[idx, \"clst\"]=\"Mesolithic\"\n    \n    ### EN Coloring\n    en_terms = [\"Iberia_EN\"]\n    idx = df[\"clst\"].str.contains('|'.join(en_terms))\n    df.loc[idx,\"color\"]=\"blue\"\n    df.loc[idx,\"clst\"]=\"Early Neolithic\"\n    \n    ### Middle Late Neoltihic\n    mn_terms = [\"MN\", \"MLN\", \"MN\", \"LN\"]\n    idx = df[\"clst\"].str.contains('|'.join(mn_terms))\n    df.loc[idx,\"color\"]=\"lightblue\"\n    df.loc[idx,\"clst\"]=\"Middle/Late Neolithic\"\n    \n    ### Muslim Burials\n    en_terms = [\"SE_Iberia_c.10-16CE\"]\n    idx = df[\"clst\"].str.contains('|'.join(en_terms))\n    df.loc[idx,\"color\"]=\"red\"\n    df.loc[idx,\"clst\"]=\"Muslim Period\"\n        \n    if age_error>0:\n        df[\"age\"]+= np.random.random(len(df)) * age_error - age_error/2      \n    return df\n\ndef pre_process_reich_df(df, age_error=0, del_strings=[]):\n    \"\"\"Preprocess and return roman df and adds colors.\n    del_strings: iid column in df that contains this list of strings\n    gets deleted\"\"\"\n    ### Fix Geography\n    df.loc[df[\"iid\"]==\"I7554\", \"lon\"] = -3.249  # Flip Wrong Latitude Atlantic\n    df.loc[df[\"iid\"]==\"Aconcagua.SG\", \"lat\"] = -32.65  # Flip Wrong Latitude (32.64 is in Atlantic)\n    \n    ### Include Kennewick\n    df.loc[df[\"iid\"]==\"kennewick.SG\", \"include_alt\"] = 1\n    \n    ### Delete individuals\n    for ds in del_strings:\n        df = df[~df[\"iid\"].str.contains(ds)]\n    \n    ### WHG Coloring\n    hg_terms = [\"HG\", \"Meso\", \"ElMiron\", \"Iron Gates\", \"Loschbour\"]\n    idx = ((df[\"clst\"].str.contains('|'.join(hg_terms))) | (df[\"age\"]>10500)) & (df[\"age\"]>5000)\n    df.loc[idx,\"color\"]=\"purple\"\n    df.loc[idx,\"clst\"]=\"Mesolithic\"\n    \n    ### EN Coloring\n    en_terms = [\"EN\", \"Early Neol\", \"Neolithic\", \"Cardial\", \"MN\", \"LN\", \"MLN\", \"Ukraine_N\", \"Peloponnese_N\"]\n    idx = df[\"clst\"].str.contains('|'.join(en_terms)) & (df[\"age\"]>5500)\n    df.loc[idx,\"color\"] = \"aqua\"\n    df.loc[idx,\"clst\"] = \"Neolithic\"\n    \n    ### Antatolia Farmers\n    en_terms = [\"Anatolia_N\", \"Anatolia Farmers\"]\n    idx = df[\"clst\"].str.contains('|'.join(en_terms))\n    df.loc[idx,\"color\"]=\"blue\"\n    df.loc[idx,\"clst\"]=\"Anatolia Farmers\"\n    \n    en_terms = [\"Canaanite\"]\n    idx = df[\"clst\"].str.contains('|'.join(en_terms))\n    df.loc[idx,\"color\"]=\"red\"\n    df.loc[idx,\"clst\"]=\"Canaanite\"\n    \n    en_terms = [\"Sar-Nur\"]\n    idx = df[\"clst\"].str.contains('|'.join(en_terms))\n    df.loc[idx,\"color\"]=\"red\"\n    df.loc[idx,\"clst\"]=\"Nuragic\"\n    \n    en_terms = [\"skythian\", \"Skythian\"]\n    idx = df[\"clst\"].str.contains('|'.join(en_terms))\n    df.loc[idx,\"color\"]=\"orange\"\n    df.loc[idx,\"clst\"]=\"Skythian\"\n    \n    if age_error>0:\n        df[\"age\"]+= np.random.random(len(df)) * age_error - age_error/2\n    return df\n\n############################################################################\n### Post-Process Regions\ndef set_regions_from_csv(df, csv_path = \"./Data/RegionDefinition/regions.csv\", \n                         output=True, sep=\",\"):\n    \"\"\"Set Region column in df, by loading coordinates from csv_path\"\"\"\n    df_regions= pd.read_csv(csv_path, sep=sep)\n    for index, row in df_regions.iterrows():\n        region = row[\"Region\"] \n        if output:\n            print(f\"Doing {region}...\")\n        kw = str(row[\"Keywords\"]).split(\"|\") # produce list from Keywords\n        df_t = extract_sub_df_geo_kw(df, row[\"Lat_low\"], row[\"Lat_high\"], row[\"Lon_low\"], \n                                     row[\"Lon_high\"], kw, output=output)\n        idx = df[\"iid\"].isin(df_t[\"iid\"]) # Get Indices of Sub Dataframe\n        df.loc[idx, \"region\"] = row[\"Region\"] \n    return df\n\n############################################################################\n### Post-Process Colors\ndef set_colors_from_csv(df, csv_path = \"./Data/RegionDefinition/colors.csv\", \n                         output=True, sep=\",\"):\n    \"\"\"Set Color column in df, by loading colors from csv_path\"\"\"\n    df_colors= pd.read_csv(csv_path, sep=sep)\n    for index, row in df_colors.iterrows():\n        color = row[\"Color\"] \n        ig = row[\"InternalGroup\"]\n        kw = str(row[\"Keywords\"]).split(\"|\") # produce list from Keywords\n        df_t = give_df_clsts(df, search=kw, col=\"pop\")\n        idx = df[\"iid\"].isin(df_t[\"iid\"]) # Get Indices of Sub Dataframe\n        df.loc[idx, \"color\"] = color\n        df.loc[idx, \"clst\"] = row[\"clst\"]\n        \n        if output:\n            print(f\"Doing {ig}...\")\n            print(f\"Found {np.sum(idx)} Inds - set to color: {color}\")\n        \n    ### Do old HunterGatherers\n    return df\n\ndef set_color_hg_minage(df, color=\"blue\", min_age=10500, output=True):\n    \"\"\"Set the color for all ancient Huntergatherers.\"\"\"\n    idx = df[\"age\"] > min_age\n    df.loc[idx, \"color\"] = color\n    if output:\n        print(f\"Found {np.sum(idx)} Inds >{min_age} BP - set to color: {color}\")\n    return df\n    \ndef set_color_modern(df, color=\"white\", output=True):\n    \"\"\"Set color for all Modern Samples\"\"\"\n    idx = df[\"age\"] == 0\n    df.loc[idx, \"color\"] = color\n    df.loc[idx, \"clst\"] = \"Modern\"\n    if output:\n        print(f\"Found {np.sum(idx)} Moderns - set to color: {color}\")\n    return df"
  },
  {
   "cell_type": "markdown",
   "metadata": {},
   "source": "# Load all varying Dataframes"
  },
  {
   "cell_type": "code",
   "execution_count": 52,
   "metadata": {},
   "outputs": [
    {
     "name": "stdout",
     "output_type": "stream",
     "text": "Loaded Antonio Data: 131\nLoaded Reich Data: 1075\nLoaded Sardinian Data: 40\nLoaded Olalde19 Data: 92 Individuals\nLoaded modern Data: 1941 Individuals\nConcatenated 3279 Individual ROH Data!\nFiltered to 3233 Individuals with include_alt>0\n"
    }
   ],
   "source": "### Roman Dataframe\ndf_rome = pd.read_csv(\"./Empirical/1240k/Antonio/combined_roh05.csv\", sep=\"\\t\")\ndf_rome = pre_process_roman_df(df_rome, age_error=0, remove_sard=False, cust_color=False)\ndf_rome.drop(columns='age_range', inplace=True)\ncols = df_rome.columns # Extract key column names in right order\nprint(f\"Loaded Antonio Data: {len(df_rome)}\")\n\n### Reich Dataframe\n# Define Individuals we want to delete (Duplicates/Neanderthals)\ndel_strings = [\"Loschbour_snpAD.DG\", \"Mezmaiskaya\", \"Ishim_published.DG\", \"Vindija_snpAD\", \n               \"Kostenki14.SG\", \"Goyet\", \"Spy\", \"Denisova\", \"Altai\", \"Les_Cottes\", \"Anzick.SG\",\n               \"Russia_Karelia_HG.SG\", \"I0001\", \"I2966_all\", \"I5259_all\", \"I4450_all\",\n               \"I4105_all\", \"I4106_all\", \"I3921_all\"]\ndf_r = pd.read_csv(\"./Empirical/Eigenstrat/Reichall/combined_roh05.csv\", sep=\"\\t\")\ndf_r = pre_process_iberia_df(df_r, age_error=0)\ndf_r = pre_process_reich_df(df_r, del_strings=del_strings)\ndf_r['region'] = \"all\"   ### Modify this\nprint(f\"Loaded Reich Data: {len(df_r)}\")\n\n### Sardinians from Marcus et all\ndf_sard = pd.read_csv(\"./Empirical/1240k/MarcusAncs/combined_roh05.csv\", sep=\"\\t\")\ndf_sard = pre_process_reich_df(df_sard)\ndf_sard = df_sard[df_sard[\"pop\"].str.contains(\"Sar-\")]  #Extract Sardinia Data\ndf_sard[\"region\"]=\"Sardinia\"\ndf_sard = df_sard[cols]\nprint(f\"Loaded Sardinian Data: {len(df_sard)}\")\n\n### Iberia from Olalde19\ndf_ib = pd.read_csv(\"./Empirical/Eigenstrat/Olalde19/combined_roh05.csv\", sep=\"\\t\")\ndf_ib = pre_process_iberia_df(df_ib, age_error=0)\ndf_ib[\"region\"]=\"Iberia\"\ndf_ib.drop(columns='age_range', inplace=True)\nprint(f\"Loaded Olalde19 Data: {len(df_ib)} Individuals\")\n\n### Human Origin Data\ndf_ho = pd.read_csv(\"./Empirical/HO/CombinedROH/combined_roh05.csv\", sep=\"\\t\")\ndf_ho[\"region\"] = df_ho[\"pop\"] # Will be later overwritten for Macro Region!\ndf_ho[\"color\"] = \"gray\"\ndf_ho = df_ho[cols]\nprint(f\"Loaded modern Data: {len(df_ho)} Individuals\")\n\n### Concatenate the Dataframes\ndf_all = pd.concat([df_rome, df_r, df_sard, df_ib, df_ho])\ndf_all = pre_process_reich_df(df_all)\nprint(f\"Concatenated {len(df_all)} Individual ROH Data!\")\n\n### Filter to good individuals\ndf_all =df_all[df_all[\"include_alt\"]>0] \nprint(f\"Filtered to {len(df_all)} Individuals with include_alt>0\")"
  },
  {
   "cell_type": "markdown",
   "metadata": {},
   "source": "### Set the Regions"
  },
  {
   "cell_type": "code",
   "execution_count": 53,
   "metadata": {},
   "outputs": [
    {
     "name": "stdout",
     "output_type": "stream",
     "text": "Doing Iberia...\nFound 224 Individuals; 200 from Geography\nDoing Balkans...\nFound 168 Individuals; 111 from Geography\nDoing Aegan...\nFound 107 Individuals; 99 from Geography\nDoing Central Europe...\nFound 147 Individuals; 147 from Geography\nDoing Black Sea...\nFound 44 Individuals; 44 from Geography\nDoing North Africa...\nFound 55 Individuals; 54 from Geography\nDoing Britain...\nFound 149 Individuals; 136 from Geography\nDoing Baltic Sea...\nFound 83 Individuals; 83 from Geography\nDoing Sardinia...\nFound 67 Individuals; 67 from Geography\nDoing Levante...\nFound 173 Individuals; 172 from Geography\nDoing Vanuatu...\nFound 19 Individuals; 19 from Geography\nDoing Steppe...\nFound 414 Individuals; 414 from Geography\nDoing Patagonia...\nFound 8 Individuals; 8 from Geography\nDoing Andean...\nFound 37 Individuals; 37 from Geography\nDoing Pacific NW...\nFound 28 Individuals; 28 from Geography\nDoing Atlantic Coast...\nFound 23 Individuals; 23 from Geography\nDoing Rome...\nFound 110 Individuals; 110 from Geography\nDoing Vanuatu...\nFound 18 Individuals; 18 from Geography\nDoing East Africa...\nFound 43 Individuals; 43 from Geography\nDoing South Africa...\nFound 8 Individuals; 3 from Geography\nDoing East Steppe...\nFound 32 Individuals; 32 from Geography\n"
    }
   ],
   "source": "csv_path = \"./Data/RegionDefinition/regions.csv\"\ndf_t = set_regions_from_csv(df_all, csv_path)"
  },
  {
   "cell_type": "markdown",
   "metadata": {},
   "source": "### Set the colors"
  },
  {
   "cell_type": "code",
   "execution_count": 55,
   "metadata": {},
   "outputs": [
    {
     "name": "stdout",
     "output_type": "stream",
     "text": "Doing HGIberia...\nFound 91 Inds - set to color: purple\nDoing Neolithic...\nFound 88 Inds - set to color: aqua\nDoing Reich_HG...\nFound 92 Inds - set to color: purple\nDoing Reich_EN...\nFound 75 Inds - set to color: blue\nDoing Aegan_N...\nFound 25 Inds - set to color: blue\nDoing Reich_N...\nFound 116 Inds - set to color: aqua\nDoing Iberia_EN...\nFound 6 Inds - set to color: blue\nDoing Reset(Late)...\nFound 2 Inds - set to color: silver\nDoing Britain_N...\nFound 36 Inds - set to color: aqua\nDoing Levante_EN...\nFound 1 Inds - set to color: blue\nFound 30 Inds >10500 BP - set to color: purple\nFound 1941 Moderns - set to color: yellow\n"
    }
   ],
   "source": "df_t[\"color\"]= \"silver\" # Make Tabula Rasa\ncsv_path = \"./Data/RegionDefinition/colors.csv\"\ndf_t = set_colors_from_csv(df_t, csv_path)\ndf_t = set_color_hg_minage(df_t, color=\"purple\")\ndf_t = set_color_modern(df_t, color=\"yellow\")"
  },
  {
   "cell_type": "markdown",
   "metadata": {},
   "source": "### Save the Summary Dataframe"
  },
  {
   "cell_type": "code",
   "execution_count": 56,
   "metadata": {},
   "outputs": [
    {
     "name": "stdout",
     "output_type": "stream",
     "text": "Saved 3233 Individual ROH to: ./Empirical/roh_all_inds.csv\n"
    }
   ],
   "source": "savepath=\"./Empirical/roh_all_inds.csv\"\nif len(savepath)>0:\n    df_all.to_csv(savepath, sep=\"\\t\", index=False)\n    print(f\"Saved {len(df_all)} Individual ROH to: {savepath}\")"
  },
  {
   "cell_type": "markdown",
   "metadata": {},
   "source": "# Area 51"
  },
  {
   "cell_type": "code",
   "execution_count": null,
   "metadata": {},
   "outputs": [],
   "source": ""
  }
 ],
 "metadata": {
  "kernelspec": {
   "display_name": "Python 3",
   "language": "python",
   "name": "python3"
  },
  "language_info": {
   "codemirror_mode": {
    "name": "ipython",
    "version": 2
   },
   "file_extension": ".py",
   "mimetype": "text/x-python",
   "name": "python",
   "nbconvert_exporter": "python",
   "pygments_lexer": "ipython2",
   "version": "2.7.17"
  }
 },
 "nbformat": 4,
 "nbformat_minor": 2
}
