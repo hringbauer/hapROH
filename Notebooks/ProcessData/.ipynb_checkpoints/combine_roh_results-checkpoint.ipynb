{
 "cells": [
  {
   "cell_type": "markdown",
   "metadata": {},
   "source": [
    "# Process ROH Results into one big dataframe\n",
    "Contains cleaning lines (i.e. to remove duplicates)"
   ]
  },
  {
   "cell_type": "code",
   "execution_count": 1,
   "metadata": {},
   "outputs": [
    {
     "name": "stdout",
     "output_type": "stream",
     "text": [
      "VioletQueen\n",
      "/home/harald/git/HAPSBURG\n",
      "CPU Count: 4\n"
     ]
    }
   ],
   "source": [
    "import numpy as np\n",
    "import os  # For Saving to Folder\n",
    "import pandas as pd\n",
    "import matplotlib.pyplot as plt\n",
    "import matplotlib.cm as cm\n",
    "import matplotlib.colorbar as clb\n",
    "import matplotlib.colors as cls\n",
    "from matplotlib import gridspec\n",
    "from mpl_toolkits.axes_grid1 import make_axes_locatable\n",
    "from mpl_toolkits.basemap import Basemap\n",
    "from sklearn.gaussian_process import GaussianProcessRegressor\n",
    "from sklearn.gaussian_process.kernels import RBF, WhiteKernel\n",
    "\n",
    "import socket\n",
    "import os as os\n",
    "import sys as sys\n",
    "import multiprocessing as mp\n",
    "\n",
    "socket_name = socket.gethostname()\n",
    "print(socket_name)\n",
    "if socket_name == \"VioletQueen\":\n",
    "    path = \"/home/harald/git/HAPSBURG/\"   # The Path on Harald's machine\n",
    "elif socket_name.startswith(\"midway2\"):\n",
    "    print(\"Midway jnovmbre partition detected.\")\n",
    "    path = \"/project2/jnovembre/hringbauer/HAPSBURG/\"  # The Path on Midway Cluster\n",
    "else: \n",
    "    raise RuntimeWarning(\"Not compatible machine. Check!!\")\n",
    "    \n",
    "os.chdir(path)  # Set the right Path (in line with Atom default)\n",
    "print(os.getcwd()) # Show the current working directory. Should be HAPSBURG/Notebooks/ParallelRuns\n",
    "print(f\"CPU Count: {mp.cpu_count()}\")"
   ]
  },
  {
   "cell_type": "markdown",
   "metadata": {},
   "source": [
    "### Functions that pre-process Data\n",
    "Add \"region\" Field. Add \"color\" (based on Time) field"
   ]
  },
  {
   "cell_type": "code",
   "execution_count": 2,
   "metadata": {},
   "outputs": [],
   "source": [
    "def pre_process_roman_df(df, age_error=0, remove_sard=False):\n",
    "    \"\"\"Preprocess and return roman df and adds colors\"\"\"\n",
    "    color_dict = {\"Medieval/EarlyModern\":\"yellow\", \"Imperial\":\"red\", \"Iron/Republic\":\"magenta\", \n",
    "                  \"LateAntiquity\":\"orange\", \"Copper Age\":\"aquamarine\", \"Neolithic\":\"dodgerblue\", \n",
    "                  \"Mesolithic\":\"purple\", \"(not included in analyses)\":\"gray\"}\n",
    "    df[\"color\"] = df[\"clst\"].map(color_dict)\n",
    "    if age_error>0:\n",
    "        df[\"age\"]+= np.random.random(len(df))*age_error - age_error/2\n",
    "    \n",
    "    df[\"region\"]=\"Rome\" \n",
    "    ### Modify Sardinians\n",
    "    idx_sar = (df[\"clst\"] == \"(not included in analyses)\")\n",
    "    df.loc[idx_sar,\"region\"] = \"Sardinia\"\n",
    "    return df\n",
    "\n",
    "def pre_process_iberia_df(df, age_error=0):\n",
    "    \"\"\"Preprocess and return roman df and adds colors\"\"\"\n",
    "    df[\"color\"]=\"silver\"\n",
    "\n",
    "    ### WHG Coloring\n",
    "    hg_terms = [\"HG\", \"Meso\", \"ElMiron\"]\n",
    "    idx = df[\"clst\"].str.contains('|'.join(hg_terms))\n",
    "    df.loc[idx, \"color\"]=\"purple\"\n",
    "    df.loc[idx, \"clst\"]=\"Mesolithic\"\n",
    "    \n",
    "    ### EN Coloring\n",
    "    en_terms = [\"Iberia_EN\"]\n",
    "    idx = df[\"clst\"].str.contains('|'.join(en_terms))\n",
    "    df.loc[idx,\"color\"]=\"blue\"\n",
    "    df.loc[idx,\"clst\"]=\"Early Neolithic\"\n",
    "    \n",
    "    ### Middle Late Neoltihic\n",
    "    mn_terms = [\"MN\", \"MLN\", \"MN\", \"LN\"]\n",
    "    idx = df[\"clst\"].str.contains('|'.join(mn_terms))\n",
    "    df.loc[idx,\"color\"]=\"lightblue\"\n",
    "    df.loc[idx,\"clst\"]=\"Middle/Late Neolithic\"\n",
    "    \n",
    "    ### Muslim Burials\n",
    "    en_terms = [\"SE_Iberia_c.10-16CE\"]\n",
    "    idx = df[\"clst\"].str.contains('|'.join(en_terms))\n",
    "    df.loc[idx,\"color\"]=\"red\"\n",
    "    df.loc[idx,\"clst\"]=\"Muslim Period\"\n",
    "        \n",
    "    if age_error>0:\n",
    "        df[\"age\"]+= np.random.random(len(df)) * age_error - age_error/2      \n",
    "    return df\n",
    "\n",
    "def pre_process_europe_df(df, age_error=0):\n",
    "    \"\"\"Preprocess and return roman df and adds colors\"\"\"\n",
    "    ### WHG Coloring\n",
    "    hg_terms = [\"HG\", \"Meso\", \"ElMiron\", \"Iron Gates\", \"Loschbour\"]\n",
    "    idx = ((df[\"clst\"].str.contains('|'.join(hg_terms))) | (df[\"age\"]>10500)) & (df[\"age\"]>5000)\n",
    "    df.loc[idx,\"color\"]=\"purple\"\n",
    "    df.loc[idx,\"clst\"]=\"Mesolithic\"\n",
    "    \n",
    "    ### EN Coloring\n",
    "    en_terms = [\"EN\", \"Early Neol\", \"Neolithic\", \"Cardial\", \"MN\", \"LN\", \"MLN\", \"Ukraine_N\", \"Peloponnese_N\"]\n",
    "    idx = df[\"clst\"].str.contains('|'.join(en_terms)) & (df[\"age\"]>5500)\n",
    "    df.loc[idx,\"color\"] = \"aqua\"\n",
    "    df.loc[idx,\"clst\"] = \"Neolithic\"\n",
    "    \n",
    "    ### Antatolia Farmers\n",
    "    en_terms = [\"Anatolia_N\", \"Anatolia Farmers\"]\n",
    "    idx = df[\"clst\"].str.contains('|'.join(en_terms))\n",
    "    df.loc[idx,\"color\"]=\"blue\"\n",
    "    df.loc[idx,\"clst\"]=\"Anatolia Farmers\"\n",
    "    \n",
    "    en_terms = [\"Canaanite\"]\n",
    "    idx = df[\"clst\"].str.contains('|'.join(en_terms))\n",
    "    df.loc[idx,\"color\"]=\"red\"\n",
    "    df.loc[idx,\"clst\"]=\"Canaanite\"\n",
    "    \n",
    "    en_terms = [\"Sar-Nur\"]\n",
    "    idx = df[\"clst\"].str.contains('|'.join(en_terms))\n",
    "    df.loc[idx,\"color\"]=\"red\"\n",
    "    df.loc[idx,\"clst\"]=\"Nuragic\"\n",
    "    \n",
    "    en_terms = [\"skythian\", \"Skythian\"]\n",
    "    idx = df[\"clst\"].str.contains('|'.join(en_terms))\n",
    "    df.loc[idx,\"color\"]=\"orange\"\n",
    "    df.loc[idx,\"clst\"]=\"Skythian\"\n",
    "    \n",
    "    if age_error>0:\n",
    "        df[\"age\"]+= np.random.random(len(df)) * age_error - age_error/2\n",
    "        \n",
    "    return df"
   ]
  },
  {
   "cell_type": "markdown",
   "metadata": {},
   "source": [
    "# Goal:\n",
    "Have one Master Dataframe. With Region field"
   ]
  },
  {
   "cell_type": "code",
   "execution_count": null,
   "metadata": {},
   "outputs": [],
   "source": [
    "### Roman Dataframe\n",
    "df1 = pd.read_csv(\"./Empirical/1240k/Antonio/combined_roh05.csv\", sep=\"\\t\")\n",
    "df1 = pre_process_roman_df(df1, age_error=0, remove_sard=False)"
   ]
  },
  {
   "cell_type": "code",
   "execution_count": 3,
   "metadata": {},
   "outputs": [],
   "source": [
    "### Reich Dataframe"
   ]
  },
  {
   "cell_type": "code",
   "execution_count": 4,
   "metadata": {},
   "outputs": [],
   "source": [
    "### Sardinians"
   ]
  },
  {
   "cell_type": "code",
   "execution_count": null,
   "metadata": {},
   "outputs": [],
   "source": []
  }
 ],
 "metadata": {
  "kernelspec": {
   "display_name": "Python 3",
   "language": "python",
   "name": "python3"
  },
  "language_info": {
   "codemirror_mode": {
    "name": "ipython",
    "version": 3
   },
   "file_extension": ".py",
   "mimetype": "text/x-python",
   "name": "python",
   "nbconvert_exporter": "python",
   "pygments_lexer": "ipython3",
   "version": "3.6.8"
  }
 },
 "nbformat": 4,
 "nbformat_minor": 2
}
