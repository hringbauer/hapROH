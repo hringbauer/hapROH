{
 "cells": [
  {
   "cell_type": "markdown",
   "metadata": {},
   "source": [
    "# Runs par file and puts output in Pedsim Folder"
   ]
  },
  {
   "cell_type": "code",
   "execution_count": 1,
   "metadata": {},
   "outputs": [
    {
     "name": "stdout",
     "output_type": "stream",
     "text": [
      "compute-e-16-229.o2.rc.hms.harvard.edu\n",
      "HSM Computational partition detected.\n",
      "/n/groups/reich/hringbauer/git/ped-sim\n",
      "CPU Count: 28\n"
     ]
    }
   ],
   "source": [
    "import numpy as np\n",
    "import os as os\n",
    "import sys as sys\n",
    "import multiprocessing as mp\n",
    "import pandas as pd\n",
    "import socket\n",
    "import matplotlib.pyplot as plt\n",
    "\n",
    "### Do the Arial \n",
    "from matplotlib import rcParams\n",
    "rcParams['font.family'] = 'sans-serif'   # Set the default\n",
    "rcParams['font.sans-serif'] = ['Arial']  # Make sure to have the font installed (it is on cluster for Harald)\n",
    "\n",
    "### Pick the right path (whether on cluster or at home)\n",
    "socket_name = socket.gethostname()\n",
    "print(socket_name)\n",
    "if socket_name == \"VioletQueen\":\n",
    "    path = \"/home/harald/git/HAPSBURG/\"   # The Path on Harald's machine\n",
    "elif socket_name.startswith(\"midway2\"):\n",
    "    print(\"Midway jnovmbre partition detected.\")\n",
    "    path = \"/project2/jnovembre/hringbauer/ped-sim/\"  # The Path on Midway Cluster\n",
    "elif socket_name.startswith(\"Harald-Laptop\"):\n",
    "    print(\"Harald's new laptop detected!\")\n",
    "    path = \"/home/hringbauer/git/ped-sim/\" \n",
    "if socket_name.startswith(\"compute-\"):\n",
    "    print(\"HSM Computational partition detected.\")\n",
    "    path = \"/n/groups/reich/hringbauer/git/ped-sim/\"  # The Path on Midway Cluster\n",
    "else: \n",
    "    raise RuntimeWarning(\"Not compatible machine. Check!!\")\n",
    "    \n",
    "os.chdir(path)  # Set the right Path (in line with Atom default)\n",
    "\n",
    "sys.path.append(\"./package/\")  # Go to the hapsburg package directory\n",
    "\n",
    "from hapsburg.PackagesSupport.pp_individual_roh_csvs import post_process_roh_df, combine_ROH_df, calc_average_roh\n",
    "from hapsburg.figures.plot_bars import plot_panel_row, prepare_dfs_plot, create_cousins_roh\n",
    "\n",
    "print(os.getcwd()) # Show the current working directory. Should be HAPSBURG/Notebooks/ParallelRuns\n",
    "print(f\"CPU Count: {mp.cpu_count()}\")"
   ]
  },
  {
   "cell_type": "markdown",
   "metadata": {},
   "source": [
    "# Installation Notes Pedsim\n",
    "git clone ...\n",
    "\n",
    "module load boost\n",
    "\n",
    "make"
   ]
  },
  {
   "cell_type": "code",
   "execution_count": 3,
   "metadata": {},
   "outputs": [],
   "source": [
    "def run_pedsim(par_file=\"par/ibd/gp1.def\",\n",
    "               output=\"output/ibd/gp1\",\n",
    "               gmap=\"refined_mf.simmap\",\n",
    "               o_file=\"output/ibd/gp1\",\n",
    "               i_file=\"interfere/nu_p_campbell.tsv\"):\n",
    "    \"\"\"Wrapper to run pedsim\"\"\"\n",
    "    !./ped-sim -d $par_file -m $gmap -o $output --intf $i_file"
   ]
  },
  {
   "cell_type": "code",
   "execution_count": 6,
   "metadata": {},
   "outputs": [
    {
     "name": "stdout",
     "output_type": "stream",
     "text": [
      "Pedigree simulator!  v1.1.16    (Released  8 Feb 2021)\n",
      "\n",
      "  Def file:\t\tpar/roh/roh_1st_cousin.def\n",
      "  Map file:\t\trefined_mf.simmap\n",
      "  Input VCF:\t\t[none: no genetic data]\n",
      "  Output prefix:\toutput/roh/c1\n",
      "\n",
      "  Random seed:\t\t4084031014\n",
      "\n",
      "  Interference file:\tinterfere/nu_p_campbell.tsv\n",
      "\n",
      "Simulating haplotype transmissions... done.\n",
      "Printing IBD segments... done.\n",
      "\n",
      "To simulate genetic data, must use an input VCF with 4000 founders.\n"
     ]
    }
   ],
   "source": [
    "### First cousin offspring\n",
    "run_pedsim(par_file=\"par/roh/roh_1st_cousin.def\", output=\"output/roh/c1\")"
   ]
  },
  {
   "cell_type": "code",
   "execution_count": null,
   "metadata": {},
   "outputs": [],
   "source": [
    "### Simulate 2nd cousins\n",
    "run_pedsim(par_file=\"par/roh/roh_2nd_cousin.def\", output=\"output/roh/c2\")"
   ]
  },
  {
   "cell_type": "code",
   "execution_count": 11,
   "metadata": {},
   "outputs": [
    {
     "name": "stdout",
     "output_type": "stream",
     "text": [
      "Pedigree simulator!  v1.1.16    (Released  8 Feb 2021)\n",
      "\n",
      "  Def file:\t\tpar/roh/roh_halfsib.def\n",
      "  Map file:\t\trefined_mf.simmap\n",
      "  Input VCF:\t\t[none: no genetic data]\n",
      "  Output prefix:\toutput/roh/h1\n",
      "\n",
      "  Random seed:\t\t892819616\n",
      "\n",
      "  Interference file:\tinterfere/nu_p_campbell.tsv\n",
      "\n",
      "Simulating haplotype transmissions... done.\n",
      "Printing IBD segments... done.\n",
      "\n",
      "To simulate genetic data, must use an input VCF with 3000 founders.\n"
     ]
    }
   ],
   "source": [
    "### Simulate Half Sibling Offspring\n",
    "run_pedsim(par_file=\"par/roh/roh_halfsib.def\", output=\"output/roh/h1\")"
   ]
  },
  {
   "cell_type": "markdown",
   "metadata": {},
   "source": [
    "# Process PEDSIM output"
   ]
  },
  {
   "cell_type": "code",
   "execution_count": 37,
   "metadata": {},
   "outputs": [],
   "source": [
    "def load_segment_file(path_segments=\"../ped-sim/output/output.seg\",\n",
    "                      roh_only=False, cm_fac=0.01):\n",
    "    \"\"\"Load and return segment File of IBD & ROH blocks.\n",
    "    Return Pandas dataframe. \n",
    "    roh_only: Only load ROH blocks\n",
    "    cm_fac: Factor with which to multiply genetic length columns\"\"\"\n",
    "    df = pd.read_csv(path_segments, sep=\"\\t\", header=None)\n",
    "    df.columns = [\"iid1\", \"iid2\", \"ch\", \"Start\", \"End\", \n",
    "                  \"ibd_stat\", \"StartM\", \"EndM\", \"lengthM\"]\n",
    "    df[\"length\"] = (df[\"End\"] - df[\"Start\"])\n",
    "    \n",
    "    for col in [\"StartM\", \"EndM\", \"lengthM\"]:\n",
    "        df[col] = df[col] * cm_fac\n",
    "        \n",
    "    if roh_only:\n",
    "        df = extract_roh_df(df)\n",
    "    return df\n",
    "\n",
    "def extract_roh_df(df, col=\"ibd_stat\", stat=\"HBD\"):\n",
    "    \"\"\"Extract and return Dataframe of ROH segments \n",
    "    in hapsburg format\"\"\"\n",
    "    df = df[df[col]==stat]\n",
    "    df = df.drop(columns=\"iid2\")\n",
    "    df = df.rename(columns={\"iid1\": \"iid\"})\n",
    "    return df\n",
    "\n",
    "def to_hapsburg_df(path_segments = \"../ped-sim/output/test.seg\", clst=\"1st_cousin\",\n",
    "                   savepath = \"\", n=500,\n",
    "                   min_cm=[4, 8, 12, 20], snp_cm=100,\n",
    "                   gap=0.5, min_len1=2, min_len2=4,\n",
    "                   output=False, sort=True):\n",
    "    \"\"\"Load pd_sim output and post_process into Hapsburg\n",
    "    Summary output. Return this dataframe.\n",
    "    If savepath is given, save to there (tab-seperated)\"\"\"\n",
    "    df1 = load_segment_file(path_segments, roh_only=True)  # Load the full segment file, transfomred\n",
    "\n",
    "    ### Split up into lists of Dataframes\n",
    "    grouped = df1.groupby(['iid'])\n",
    "    df_rohs = [x[1] for x in list(grouped)] \n",
    "    iids = [x[0] for x in list(grouped)]\n",
    "    \n",
    "    ### Add Individuals with 0 ROH\n",
    "    iids1 = [\"iid\" + str(i) for i in range(len(iids),n)]\n",
    "    df_rohs1 = [pd.DataFrame(columns = df1.columns) for _ in range(len(iids),n)]\n",
    "    \n",
    "    iids = iids + iids1\n",
    "    df_rohs = df_rohs + df_rohs1\n",
    "    \n",
    "    ### Create the combine Dataframe\n",
    "    df_roh = combine_ROH_df(df_rohs, iids=iids, pops=clst, \n",
    "             min_cm=min_cm, snp_cm=snp_cm,\n",
    "             gap=gap, min_len1=min_len1, min_len2=min_len2,\n",
    "             output=output, sort=sort)\n",
    "    \n",
    "    ### Some Minor Updates to stay compatible with hapsburg \n",
    "    # Full Format\n",
    "    df_roh[\"age\"]=0\n",
    "    df_roh[\"clst\"] = df_roh[\"pop\"]\n",
    "    \n",
    "    if len(savepath)>0:\n",
    "        df_roh.to_csv(savepath, sep=\"\\t\", index=False)\n",
    "        print(f\"Saved to: {savepath}\")    \n",
    "    return df_roh, df1"
   ]
  },
  {
   "cell_type": "code",
   "execution_count": 40,
   "metadata": {},
   "outputs": [
    {
     "name": "stdout",
     "output_type": "stream",
     "text": [
      "Saved to: ./output/roh/c1.tsv\n",
      "CPU times: user 1min 21s, sys: 161 ms, total: 1min 22s\n",
      "Wall time: 1min 22s\n"
     ]
    }
   ],
   "source": [
    "%%time\n",
    "df1, df11 = to_hapsburg_df(path_segments = \"./output/roh/c1.seg\", \n",
    "                     clst=\"1st_cousin\", savepath=\"./output/roh/c1.tsv\", n=1000)"
   ]
  },
  {
   "cell_type": "code",
   "execution_count": 38,
   "metadata": {},
   "outputs": [
    {
     "name": "stdout",
     "output_type": "stream",
     "text": [
      "Saved to: ./output/roh/c2.tsv\n",
      "CPU times: user 32.3 s, sys: 64 ms, total: 32.3 s\n",
      "Wall time: 32.4 s\n"
     ]
    }
   ],
   "source": [
    "%%time\n",
    "df2, df22 = to_hapsburg_df(path_segments = \"./output/roh/c2.seg\", \n",
    "                     clst=\"2nd_cousin\", savepath=\"./output/roh/c2.tsv\", n=1000)"
   ]
  },
  {
   "cell_type": "code",
   "execution_count": 41,
   "metadata": {},
   "outputs": [
    {
     "name": "stdout",
     "output_type": "stream",
     "text": [
      "Saved to: ./output/roh/h1.tsv\n",
      "CPU times: user 1min 50s, sys: 223 ms, total: 1min 51s\n",
      "Wall time: 1min 51s\n"
     ]
    }
   ],
   "source": [
    "%%time\n",
    "df3, df33 = to_hapsburg_df(path_segments = \"./output/roh/h1.seg\", \n",
    "                     clst=\"halfsib\", savepath=\"./output/roh/h1.tsv\", n=1000)"
   ]
  },
  {
   "cell_type": "code",
   "execution_count": 44,
   "metadata": {},
   "outputs": [],
   "source": [
    "df11.to_csv(\"./output/roh/c1_roh.csv\", index=False)\n",
    "df22.to_csv(\"./output/roh/c2_roh.csv\", index=False)\n",
    "df33.to_csv(\"./output/roh/h1_roh.csv\", index=False) "
   ]
  },
  {
   "cell_type": "markdown",
   "metadata": {},
   "source": [
    "# Do hapROH Plotting"
   ]
  },
  {
   "cell_type": "code",
   "execution_count": 36,
   "metadata": {},
   "outputs": [
    {
     "data": {
      "image/png": "[encoded data removed]",
      "text/plain": [
       "<Figure size 576x252 with 6 Axes>"
      ]
     },
     "metadata": {
      "needs_background": "light"
     },
     "output_type": "display_data"
    }
   ],
   "source": [
    "df1 = pd.read_csv(\"./output/roh/c1.tsv\", sep=\"\\t\")\n",
    "df2 = pd.read_csv(\"./output/roh/c2.tsv\", sep=\"\\t\")\n",
    "df3 = pd.read_csv(\"./output/roh/h1.tsv\", sep=\"\\t\")\n",
    "\n",
    "dfs_plot = [df.sample(n=20).sort_index() for df in [df3, df1,df2]]\n",
    "\n",
    "#df1 = pd.read_csv(\"./Empirical/Eigenstrat/Example/combined_roh05.csv\", sep='\\t')\n",
    "#plot_dfs, cols = prepare_dfs_plot(df1, cms=[4, 8, 12, 20])\n",
    "\n",
    "# ./figures_test/freilich20_bars.pdf\n",
    "plot_panel_row(dfs_plot, wspace=0.1, r_title=20, leg_pos=-1, \n",
    "               ylim=[0,700], figsize=(8,3.5), savepath=\"\")"
   ]
  },
  {
   "cell_type": "code",
   "execution_count": 39,
   "metadata": {},
   "outputs": [
    {
     "data": {
      "text/html": [
       "<div>\n",
       "<style scoped>\n",
       "    .dataframe tbody tr th:only-of-type {\n",
       "        vertical-align: middle;\n",
       "    }\n",
       "\n",
       "    .dataframe tbody tr th {\n",
       "        vertical-align: top;\n",
       "    }\n",
       "\n",
       "    .dataframe thead th {\n",
       "        text-align: right;\n",
       "    }\n",
       "</style>\n",
       "<table border=\"1\" class=\"dataframe\">\n",
       "  <thead>\n",
       "    <tr style=\"text-align: right;\">\n",
       "      <th></th>\n",
       "      <th>iid</th>\n",
       "      <th>ch</th>\n",
       "      <th>Start</th>\n",
       "      <th>End</th>\n",
       "      <th>ibd_stat</th>\n",
       "      <th>StartM</th>\n",
       "      <th>EndM</th>\n",
       "      <th>lengthM</th>\n",
       "      <th>length</th>\n",
       "    </tr>\n",
       "  </thead>\n",
       "  <tbody>\n",
       "    <tr>\n",
       "      <th>0</th>\n",
       "      <td>c21_g5-b1-i1</td>\n",
       "      <td>1</td>\n",
       "      <td>235096197</td>\n",
       "      <td>245967695</td>\n",
       "      <td>HBD</td>\n",
       "      <td>2.339684</td>\n",
       "      <td>2.589188</td>\n",
       "      <td>0.249504</td>\n",
       "      <td>10871498</td>\n",
       "    </tr>\n",
       "    <tr>\n",
       "      <th>1</th>\n",
       "      <td>c21_g5-b1-i1</td>\n",
       "      <td>12</td>\n",
       "      <td>6432697</td>\n",
       "      <td>7288412</td>\n",
       "      <td>HBD</td>\n",
       "      <td>0.157797</td>\n",
       "      <td>0.175660</td>\n",
       "      <td>0.017863</td>\n",
       "      <td>855715</td>\n",
       "    </tr>\n",
       "    <tr>\n",
       "      <th>2</th>\n",
       "      <td>c21_g5-b1-i1</td>\n",
       "      <td>20</td>\n",
       "      <td>59705701</td>\n",
       "      <td>62906514</td>\n",
       "      <td>HBD</td>\n",
       "      <td>0.988410</td>\n",
       "      <td>1.067967</td>\n",
       "      <td>0.079557</td>\n",
       "      <td>3200813</td>\n",
       "    </tr>\n",
       "    <tr>\n",
       "      <th>3</th>\n",
       "      <td>c22_g5-b1-i1</td>\n",
       "      <td>1</td>\n",
       "      <td>60226591</td>\n",
       "      <td>67019400</td>\n",
       "      <td>HBD</td>\n",
       "      <td>0.829499</td>\n",
       "      <td>0.918710</td>\n",
       "      <td>0.089211</td>\n",
       "      <td>6792809</td>\n",
       "    </tr>\n",
       "    <tr>\n",
       "      <th>4</th>\n",
       "      <td>c22_g5-b1-i1</td>\n",
       "      <td>10</td>\n",
       "      <td>7793910</td>\n",
       "      <td>10249805</td>\n",
       "      <td>HBD</td>\n",
       "      <td>0.193609</td>\n",
       "      <td>0.237107</td>\n",
       "      <td>0.043499</td>\n",
       "      <td>2455895</td>\n",
       "    </tr>\n",
       "    <tr>\n",
       "      <th>...</th>\n",
       "      <td>...</td>\n",
       "      <td>...</td>\n",
       "      <td>...</td>\n",
       "      <td>...</td>\n",
       "      <td>...</td>\n",
       "      <td>...</td>\n",
       "      <td>...</td>\n",
       "      <td>...</td>\n",
       "      <td>...</td>\n",
       "    </tr>\n",
       "    <tr>\n",
       "      <th>4574</th>\n",
       "      <td>c2999_g5-b1-i1</td>\n",
       "      <td>8</td>\n",
       "      <td>8523658</td>\n",
       "      <td>14886894</td>\n",
       "      <td>HBD</td>\n",
       "      <td>0.181405</td>\n",
       "      <td>0.271763</td>\n",
       "      <td>0.090358</td>\n",
       "      <td>6363236</td>\n",
       "    </tr>\n",
       "    <tr>\n",
       "      <th>4575</th>\n",
       "      <td>c2999_g5-b1-i1</td>\n",
       "      <td>16</td>\n",
       "      <td>87607017</td>\n",
       "      <td>90141355</td>\n",
       "      <td>HBD</td>\n",
       "      <td>1.212207</td>\n",
       "      <td>1.250710</td>\n",
       "      <td>0.038503</td>\n",
       "      <td>2534338</td>\n",
       "    </tr>\n",
       "    <tr>\n",
       "      <th>4576</th>\n",
       "      <td>c2999_g5-b1-i1</td>\n",
       "      <td>21</td>\n",
       "      <td>14665973</td>\n",
       "      <td>22076619</td>\n",
       "      <td>HBD</td>\n",
       "      <td>0.000000</td>\n",
       "      <td>0.146443</td>\n",
       "      <td>0.146443</td>\n",
       "      <td>7410646</td>\n",
       "    </tr>\n",
       "    <tr>\n",
       "      <th>4577</th>\n",
       "      <td>c21000_g5-b1-i1</td>\n",
       "      <td>11</td>\n",
       "      <td>241489</td>\n",
       "      <td>5920558</td>\n",
       "      <td>HBD</td>\n",
       "      <td>0.000000</td>\n",
       "      <td>0.111213</td>\n",
       "      <td>0.111213</td>\n",
       "      <td>5679069</td>\n",
       "    </tr>\n",
       "    <tr>\n",
       "      <th>4578</th>\n",
       "      <td>c21000_g5-b1-i1</td>\n",
       "      <td>19</td>\n",
       "      <td>13722986</td>\n",
       "      <td>51105168</td>\n",
       "      <td>HBD</td>\n",
       "      <td>0.328049</td>\n",
       "      <td>0.773270</td>\n",
       "      <td>0.445221</td>\n",
       "      <td>37382182</td>\n",
       "    </tr>\n",
       "  </tbody>\n",
       "</table>\n",
       "<p>4579 rows × 9 columns</p>\n",
       "</div>"
      ],
      "text/plain": [
       "                  iid  ch      Start        End ibd_stat    StartM      EndM  \\\n",
       "0        c21_g5-b1-i1   1  235096197  245967695      HBD  2.339684  2.589188   \n",
       "1        c21_g5-b1-i1  12    6432697    7288412      HBD  0.157797  0.175660   \n",
       "2        c21_g5-b1-i1  20   59705701   62906514      HBD  0.988410  1.067967   \n",
       "3        c22_g5-b1-i1   1   60226591   67019400      HBD  0.829499  0.918710   \n",
       "4        c22_g5-b1-i1  10    7793910   10249805      HBD  0.193609  0.237107   \n",
       "...               ...  ..        ...        ...      ...       ...       ...   \n",
       "4574   c2999_g5-b1-i1   8    8523658   14886894      HBD  0.181405  0.271763   \n",
       "4575   c2999_g5-b1-i1  16   87607017   90141355      HBD  1.212207  1.250710   \n",
       "4576   c2999_g5-b1-i1  21   14665973   22076619      HBD  0.000000  0.146443   \n",
       "4577  c21000_g5-b1-i1  11     241489    5920558      HBD  0.000000  0.111213   \n",
       "4578  c21000_g5-b1-i1  19   13722986   51105168      HBD  0.328049  0.773270   \n",
       "\n",
       "       lengthM    length  \n",
       "0     0.249504  10871498  \n",
       "1     0.017863    855715  \n",
       "2     0.079557   3200813  \n",
       "3     0.089211   6792809  \n",
       "4     0.043499   2455895  \n",
       "...        ...       ...  \n",
       "4574  0.090358   6363236  \n",
       "4575  0.038503   2534338  \n",
       "4576  0.146443   7410646  \n",
       "4577  0.111213   5679069  \n",
       "4578  0.445221  37382182  \n",
       "\n",
       "[4579 rows x 9 columns]"
      ]
     },
     "execution_count": 39,
     "metadata": {},
     "output_type": "execute_result"
    }
   ],
   "source": []
  },
  {
   "cell_type": "code",
   "execution_count": null,
   "metadata": {},
   "outputs": [],
   "source": []
  }
 ],
 "metadata": {
  "kernelspec": {
   "display_name": "Python 3",
   "language": "python",
   "name": "python3"
  },
  "language_info": {
   "codemirror_mode": {
    "name": "ipython",
    "version": 3
   },
   "file_extension": ".py",
   "mimetype": "text/x-python",
   "name": "python",
   "nbconvert_exporter": "python",
   "pygments_lexer": "ipython3",
   "version": "3.7.4"
  }
 },
 "nbformat": 4,
 "nbformat_minor": 4
}
