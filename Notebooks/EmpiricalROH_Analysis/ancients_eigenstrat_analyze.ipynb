{
 "cells": [
  {
   "cell_type": "markdown",
   "metadata": {},
   "source": [
    "# Load, Process and Plot the ancient Eigenstrats Summary\n",
    "Load individual .csvs, post-process and eventually save them"
   ]
  },
  {
   "cell_type": "code",
   "execution_count": 2,
   "metadata": {},
   "outputs": [
    {
     "name": "stdout",
     "output_type": "stream",
     "text": [
      "VioletQueen\n",
      "/home/harald/git/HAPSBURG\n",
      "CPU Count: 4\n"
     ]
    }
   ],
   "source": [
    "import numpy as np\n",
    "import matplotlib.pyplot as plt\n",
    "import pandas as pd\n",
    "import socket\n",
    "import os as os\n",
    "import sys as sys\n",
    "import multiprocessing as mp\n",
    "from scipy import stats\n",
    "\n",
    "socket_name = socket.gethostname()\n",
    "print(socket_name)\n",
    "\n",
    "if socket_name == \"VioletQueen\":\n",
    "    path = \"/home/harald/git/HAPSBURG/\"   # The Path on Harald's machine\n",
    "\n",
    "elif socket_name.startswith(\"midway2\"):\n",
    "    print(\"Midway jnovmbre partition detected.\")\n",
    "    path = \"/project/jnovembre/hringbauer/HAPSBURG/\"  # The Path on Midway Cluster\n",
    "\n",
    "else: \n",
    "    raise RuntimeWarning(\"Not compatible machine. Check!!\")\n",
    "    \n",
    "os.chdir(path)  # Set the right Path (in line with Atom default)\n",
    "\n",
    "sys.path.append(\"./PackagesSupport/\")  # Since now we are in the Root Directory\n",
    "from pp_individual_roh_csvs import give_iid_paths, create_combined_ROH_df\n",
    "\n",
    "print(os.getcwd()) # Show the current working directory. Should be HAPSBURG/Notebooks/ParallelRuns\n",
    "print(f\"CPU Count: {mp.cpu_count()}\")"
   ]
  },
  {
   "cell_type": "markdown",
   "metadata": {},
   "source": [
    "# Compare RC Data and Eigenstrat calls\n",
    "- 1) Get intersecting IIDs\n",
    "- 2) Get Summary Dataframe from both of them\n",
    "- 3) Combine and plot"
   ]
  },
  {
   "cell_type": "markdown",
   "metadata": {},
   "source": [
    "## Code to Load Data"
   ]
  },
  {
   "cell_type": "code",
   "execution_count": 10,
   "metadata": {},
   "outputs": [],
   "source": [
    "### Load Metafile from D. Reich:\n",
    "def load_eigenstrat_anno(path=\"./Data/ReichLabEigenstrat/Raw/v37.2.1240K.clean4.anno\", anc_only=True):\n",
    "    \"\"\"Load annotated Eigenstrat (from D. Reich's group)\"\"\"\n",
    "    df_anno = pd.read_csv(path, sep=\"\\t\", engine=\"python\")\n",
    "    coverage = pd.to_numeric(df_anno[\"Coverage\"], errors='coerce')\n",
    "    df_anno[\"coverage\"]=coverage\n",
    "\n",
    "    # Convert the Ages as well\n",
    "    ages = df_anno[\"Average of 95.4% date range in calBP (defined as 1950 CE)  \"]\n",
    "    df_anno[\"ages\"] = pd.to_numeric(ages, errors='coerce')  #\n",
    "\n",
    "    ### Convert Longitude and Latitude\n",
    "    lat = df_anno[\"Lat.\"]\n",
    "    lon = df_anno[\"Long.\"]\n",
    "    df_anno[\"lat\"] = pd.to_numeric(lat, errors='coerce')\n",
    "    df_anno[\"lon\"] = pd.to_numeric(lon, errors='coerce')\n",
    "    df_anno[\"iid\"] = df_anno[\"Instance ID\"]\n",
    "    \n",
    "    df_anc = df_anno[df_anno[\"ages\"]>0]\n",
    "\n",
    "    print(f\"Loaded {len(df_anc)} / {len(df_anno)} ancient Indivdiuals.\")\n",
    "    print(f\"Without Coverage: {np.sum(np.isnan(coverage))}\")\n",
    "    if anc_only:\n",
    "        df_anno=df_anc\n",
    "    return df_anno\n",
    "\n",
    "def load_meta_marcus(path=\"./Data/Marcus2019_1240k/meta_rev_final.csv\", anc_ind=1057): # 1098 is all ancients\n",
    "    ########## Some key Parameters\n",
    "    #meta_path = \"./Data/Marcus2019_1240k/meta_rev_unique_ids.csv\"  ### Important: Meta with unique IDs!\n",
    "    meta_df = pd.read_csv(path)  # Load the Meta File\n",
    "    return meta_df[:anc_ind]\n",
    "\n",
    "def give_merge_reich_marcus():\n",
    "    \"\"\"Return a Merge of Reich and Marcus Dataset\"\"\"\n",
    "    df_anno = load_eigenstrat_anno(\"./Data/ReichLabEigenstrat/Raw/v37.2.1240K.clean4.anno\")\n",
    "    df_marcus = load_meta_marcus(\"./Data/Marcus2019_1240k/meta_rev_final.csv\", anc_ind=1057)\n",
    "    \n",
    "    ### Merge\n",
    "    df_merge = pd.merge(df_anno, df_marcus, on=\"iid\")\n",
    "    print(f\"Merged to {len(df_merge)} Individuals\")\n",
    "    return df_merge"
   ]
  },
  {
   "cell_type": "code",
   "execution_count": 11,
   "metadata": {},
   "outputs": [
    {
     "name": "stdout",
     "output_type": "stream",
     "text": [
      "Loaded 2106 / 5081 ancient Indivdiuals.\n",
      "Without Coverage: 2581\n",
      "Merged to 846 Individuals\n"
     ]
    }
   ],
   "source": [
    "### Produce Merge of Data:\n",
    "df_merge = give_merge_reich_marcus()"
   ]
  },
  {
   "cell_type": "markdown",
   "metadata": {},
   "source": [
    "### Load both ROH Dataframes"
   ]
  },
  {
   "cell_type": "code",
   "execution_count": 12,
   "metadata": {},
   "outputs": [],
   "source": [
    "df_pp = df_merge[:10] ### Do the first 10 Individuals"
   ]
  },
  {
   "cell_type": "code",
   "execution_count": 13,
   "metadata": {},
   "outputs": [],
   "source": [
    "### Do the Ancients from \n",
    "paths = give_iid_paths(df_pp[\"iid\"], base_folder=\"./Empirical/Eigenstrat/Reichall/\", suffix = \"_roh_full.csv\") \n",
    "df1 = create_combined_ROH_df(paths, df_pp[\"iid\"], df_pp[\"clst\"], \n",
    "                       min_cm=4, snp_cm=50, savepath=\"\", gap=1.0, output=False)"
   ]
  },
  {
   "cell_type": "code",
   "execution_count": null,
   "metadata": {},
   "outputs": [],
   "source": [
    "### Load the Marcus Ancients\n",
    "df_marcus_roh = pd.read_csv(\"./Empirical/\")"
   ]
  },
  {
   "cell_type": "markdown",
   "metadata": {},
   "source": [
    "### Now merge the two results data frames"
   ]
  },
  {
   "cell_type": "markdown",
   "metadata": {},
   "source": [
    "## Plot the merged full result data frame\n",
    "Do a scatter plot of total length ROH"
   ]
  },
  {
   "cell_type": "markdown",
   "metadata": {},
   "source": [
    "# Area 51"
   ]
  },
  {
   "cell_type": "code",
   "execution_count": 15,
   "metadata": {},
   "outputs": [
    {
     "data": {
      "text/plain": [
       "['./Empirical/Eigenstrat/Reichall/I3719_roh_full.csv',\n",
       " './Empirical/Eigenstrat/Reichall/I7579_roh_full.csv',\n",
       " './Empirical/Eigenstrat/Reichall/I7580_roh_full.csv',\n",
       " './Empirical/Eigenstrat/Reichall/I7271_roh_full.csv',\n",
       " './Empirical/Eigenstrat/Reichall/I7278_roh_full.csv',\n",
       " './Empirical/Eigenstrat/Reichall/I7041_roh_full.csv',\n",
       " './Empirical/Eigenstrat/Reichall/I7043_roh_full.csv',\n",
       " './Empirical/Eigenstrat/Reichall/I7282_roh_full.csv',\n",
       " './Empirical/Eigenstrat/Reichall/I7283_roh_full.csv',\n",
       " './Empirical/Eigenstrat/Reichall/I7289_roh_full.csv']"
      ]
     },
     "execution_count": 15,
     "metadata": {},
     "output_type": "execute_result"
    }
   ],
   "source": [
    "paths"
   ]
  },
  {
   "cell_type": "code",
   "execution_count": null,
   "metadata": {},
   "outputs": [],
   "source": []
  }
 ],
 "metadata": {
  "kernelspec": {
   "display_name": "Python 3",
   "language": "python",
   "name": "python3"
  },
  "language_info": {
   "codemirror_mode": {
    "name": "ipython",
    "version": 3
   },
   "file_extension": ".py",
   "mimetype": "text/x-python",
   "name": "python",
   "nbconvert_exporter": "python",
   "pygments_lexer": "ipython3",
   "version": "3.6.8"
  }
 },
 "nbformat": 4,
 "nbformat_minor": 2
}
