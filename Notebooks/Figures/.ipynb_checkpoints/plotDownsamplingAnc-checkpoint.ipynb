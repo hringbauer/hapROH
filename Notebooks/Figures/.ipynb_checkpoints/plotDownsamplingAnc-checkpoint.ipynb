{
 "cells": [
  {
   "cell_type": "markdown",
   "metadata": {},
   "source": [
    "# Plot downsampled Ancients\n",
    "Take the high-coverage Ancients, and plot results from their downampled Versions\n",
    "1. Ancient SA: Are prepared in ./PrepareData/prepare_SA_readcount.ipynb and then run via ./ParallelRuns/parallel_AS_hdf5_callroh.ipynb\n",
    "\n",
    "Here: For each Individual: Load RC and PH Inference, as well as Reich Eigenstrat PH inference. Then plot in one plot (if not loaded and not given to plotting function, not plotted)"
   ]
  },
  {
   "cell_type": "code",
   "execution_count": 1,
   "metadata": {},
   "outputs": [
    {
     "name": "stdout",
     "output_type": "stream",
     "text": [
      "midway2-0401.rcc.local\n",
      "Midway jnovmbre partition detected.\n",
      "/project2/jnovembre/hringbauer/HAPSBURG\n",
      "CPU Count: 28\n"
     ]
    }
   ],
   "source": [
    "import numpy as np\n",
    "import matplotlib.pyplot as plt\n",
    "import os  # For Saving to Folder\n",
    "import pandas as pd\n",
    "from matplotlib import gridspec\n",
    "\n",
    "##############################\n",
    "import socket\n",
    "import os as os\n",
    "import sys as sys\n",
    "import multiprocessing as mp\n",
    "\n",
    "socket_name = socket.gethostname()\n",
    "print(socket_name)\n",
    "if socket_name == \"VioletQueen\":\n",
    "    path = \"/home/harald/git/HAPSBURG/\"   # The Path on Harald's machine\n",
    "elif socket_name.startswith(\"midway2\"):\n",
    "    print(\"Midway jnovmbre partition detected.\")\n",
    "    path = \"/project2/jnovembre/hringbauer/HAPSBURG/\"  # The Path on Midway Cluster\n",
    "else: \n",
    "    raise RuntimeWarning(\"Not compatible machine. Check!!\")\n",
    "    \n",
    "os.chdir(path)  # Set the right Path (in line with Atom default)\n",
    "print(os.getcwd()) # Show the current working directory. Should be HAPSBURG/Notebooks/ParallelRuns\n",
    "print(f\"CPU Count: {mp.cpu_count()}\")\n",
    "\n",
    "sys.path.append(\"./PackagesSupport/\")\n",
    "from pp_individual_roh_csvs import create_combined_ROH_df"
   ]
  },
  {
   "cell_type": "markdown",
   "metadata": {},
   "source": [
    "## Prepare Data"
   ]
  },
  {
   "cell_type": "markdown",
   "metadata": {},
   "source": [
    "### Ancient South Americans: Take example IPK12"
   ]
  },
  {
   "cell_type": "markdown",
   "metadata": {},
   "source": [
    "### Load downsampled Inference"
   ]
  },
  {
   "cell_type": "code",
   "execution_count": 31,
   "metadata": {},
   "outputs": [],
   "source": [
    "def prep_rc_res_df(base_path = \"./Empirical/1240k/SA_Readcounts/Downsample_Loschbour/\", iid = \"Loschbour\",\n",
    "                          suffix = \"_roh_full.csv\", down_sampling_covs=np.geomspace(0.01, 1.0, 10), cms = [4, 8, 12],\n",
    "                            gap = 0.5, tot_cov=19.5486, prefix=\"\"):\n",
    "    \"\"\"Prepare Dataframe of results -> Combine Individual results into one dataframe\"\"\"\n",
    "    ###['IPY10', 'IPK12', 'MA577', '894', '895']\n",
    "    #down_sampling_covs = np.geomspace(0.04, 1.0, 10)[:]  # Modify depending on how much Coverage has been loaded. FOR IPK12\n",
    "    samples = np.array([prefix + f\"{c:.4f}\" for c in down_sampling_covs])   # Numpy Array for better slicing\n",
    "    paths = [os.path.join(base_path, s[:10] + suffix) for s in samples]\n",
    "    df_t = create_combined_ROH_df(paths, samples, pops=samples, min_cm=cms, snp_cm=50, gap=gap, output=False)\n",
    "    df_t[\"mean_cov\"] = down_sampling_covs * tot_cov   #* 10.439 for IPK12\n",
    "    return df_t\n",
    "    #df_t[\">cm\"]=cm\n",
    "    #df_ipk12 = pd.concat(df_ipk12s)  # Combine all Dataframes into one (can be decomposed later)"
   ]
  },
  {
   "cell_type": "markdown",
   "metadata": {},
   "source": [
    "## Create the Figure with loaded Data"
   ]
  },
  {
   "cell_type": "code",
   "execution_count": 13,
   "metadata": {},
   "outputs": [],
   "source": [
    "#def plot_downsample_fig(df1):\n",
    "def plot_downsample_ind(df_plot, df_ph=[], df_ph_reich=[], cms=[4,8,12], fs=16, fs_leg=10, \n",
    "                        title=\"IKP12, Patagonia, 1000y BP\", xlim=[0, 2], ylim=[0, 550]):\n",
    "    \"\"\"Plot downsampled Individual.\n",
    "    df_ph: If given, plot pseudohaploid data\"\"\"\n",
    "    mss = [\"bo-\", \"bo--\", \"bo-.\"]\n",
    "    plt.figure(figsize=(8, 6))\n",
    "    ax=plt.gca()\n",
    "\n",
    "    ### IPK12\n",
    "    for i, cm in enumerate(cms):\n",
    "        ### Plot the RC Line for cm\n",
    "        #df_plot = df_ipk12[df_ipk12[\">cm\"]==cm]\n",
    "        plt.plot(df_rc[\"mean_cov\"], df_rc[f\"sum_roh>{cm}\"], mss[i], label=f\">{cm}cm\", lw=1.5, ms=6, zorder=1, color=\"b\")\n",
    "\n",
    "        ### Plot PH Line for cm\n",
    "        if len(df_ph)>0:\n",
    "            plt.plot(df_ph[\"mean_cov\"], df_ph[f\"sum_roh>{cm}\"], mss[i], lw=1.5, ms=6, zorder=0, color=\"r\")      \n",
    "    \n",
    "    if len(df_ph_reich)>0:\n",
    "        y=[df_ph_reich[f\"sum_roh>{cm}\"].values[0] for cm in cms]\n",
    "        plt.scatter(np.ones(len(cms)), y, c=\"r\", s=80, ec=\"k\", label=\"PseudoHaploid (Eigenstrat)\", zorder=1)\n",
    "\n",
    "    plt.legend(loc=\"upper right\", fontsize=fs_leg)\n",
    "    plt.ylim(ylim)\n",
    "\n",
    "    plt.ylabel(\"Sum ROH >x cM\", fontsize=fs)\n",
    "    plt.xlabel(\"Mean Depth\", fontsize=fs)\n",
    "    plt.title(title, fontsize=fs)\n",
    "    #plt.xscale(\"log\")\n",
    "    plt.xlim(xlim)\n",
    "    ax.axvline(0.5, c=\"r\")\n",
    "    plt.show()"
   ]
  },
  {
   "cell_type": "markdown",
   "metadata": {},
   "source": [
    "### Do IPKG12, South America"
   ]
  },
  {
   "cell_type": "code",
   "execution_count": 42,
   "metadata": {},
   "outputs": [],
   "source": [
    "### Load Readcount Data\n",
    "df_rc = prep_rc_res_df(base_path = \"./Empirical/1240k/SA_Readcounts/Downsample_IPK12/\", iid = \"IPK12\",\n",
    "                          suffix = \"_roh_full.csv\", down_sampling_covs = np.geomspace(0.04, 1.0, 10), cms = [4, 8, 12],\n",
    "                            gap = 0.5, tot_cov=10.438989, prefix=\"IPK12\")"
   ]
  },
  {
   "cell_type": "code",
   "execution_count": 43,
   "metadata": {},
   "outputs": [],
   "source": [
    "### Reich Eigenstrat PH\n",
    "paths = [\"./Empirical/Eigenstrat/Reichall/IPK12.SG_roh_full.csv\",]\n",
    "cms = [4, 8, 12]\n",
    "iids=np.array([\"IPK12,\"])\n",
    "df_ph_reich = create_combined_ROH_df(paths, iids, iids, min_cm=cms, snp_cm=50, gap=0.5, output=False)"
   ]
  },
  {
   "cell_type": "code",
   "execution_count": 44,
   "metadata": {},
   "outputs": [],
   "source": [
    "### Downsampled PH\n",
    "df_ph = prep_rc_res_df(base_path = \"./Empirical/1240k/SA_Readcounts/Downsample_IPK12/\", iid = \"IPK12\",\n",
    "                       suffix = \"_roh_full.csv\", down_sampling_covs=np.linspace(0.3, 0.8, 6), cms = [4, 8, 12],\n",
    "                       gap = 0.5, tot_cov=1.0, prefix=\"IPK12\")  # Keep in mind the overall folder -> it's not PH bc old run diff"
   ]
  },
  {
   "cell_type": "code",
   "execution_count": 48,
   "metadata": {},
   "outputs": [
    {
     "data": {
      "image/png": "[encoded data removed]",
      "text/plain": [
       "<Figure size 576x432 with 1 Axes>"
      ]
     },
     "metadata": {
      "needs_background": "light"
     },
     "output_type": "display_data"
    }
   ],
   "source": [
    "plot_downsample_ind(df_rc, df_ph=df_ph, df_ph_reich=df_ph_reich, \n",
    "                    title=\"IPK12, 1000 BP Patagonia\", ylim=[0,500], xlim=[0.1,10])"
   ]
  },
  {
   "cell_type": "markdown",
   "metadata": {},
   "source": [
    "### Do Loschbour, WHG"
   ]
  },
  {
   "cell_type": "code",
   "execution_count": 32,
   "metadata": {},
   "outputs": [],
   "source": [
    "### Downsampled Readcount\n",
    "df_rc = prep_rc_res_df(tot_cov=19.5486)"
   ]
  },
  {
   "cell_type": "code",
   "execution_count": 33,
   "metadata": {},
   "outputs": [],
   "source": [
    "### Reich Eigenstrat PH\n",
    "paths = [\"./Empirical/Eigenstrat/Reichall/Loschbour_snpAD.DG_roh_full.csv\",]\n",
    "cms = [4, 8, 12]\n",
    "iids=np.array([\"IPK12,\"])\n",
    "df_ph_reich = create_combined_ROH_df(paths, iids, iids, min_cm=cms, snp_cm=50, gap=0.5, output=False)"
   ]
  },
  {
   "cell_type": "code",
   "execution_count": 34,
   "metadata": {},
   "outputs": [],
   "source": [
    "### Downsampled PH\n",
    "df_ph = prep_rc_res_df(base_path = \"./Empirical/1240k/SA_Readcounts/Downsample_Loschbour_ph//\", iid = \"Loschbour\",\n",
    "                       suffix = \"_roh_full.csv\", down_sampling_covs=np.linspace(0.3, 0.8, 6), cms = [4, 8, 12],\n",
    "                       gap = 0.5, tot_cov=1.0)"
   ]
  },
  {
   "cell_type": "code",
   "execution_count": 35,
   "metadata": {},
   "outputs": [
    {
     "data": {
      "image/png": "[encoded data removed]",
      "text/plain": [
       "<Figure size 576x432 with 1 Axes>"
      ]
     },
     "metadata": {
      "needs_background": "light"
     },
     "output_type": "display_data"
    }
   ],
   "source": [
    "plot_downsample_ind(df_rc, df_ph=df_ph, df_ph_reich=df_ph_reich, \n",
    "                    title=\"Loschbour, WHG, 8000 BP Luxembourg\", ylim=[0,500], xlim=[0.1,8])"
   ]
  },
  {
   "cell_type": "markdown",
   "metadata": {},
   "source": [
    "### Do Stuttgart EEF"
   ]
  },
  {
   "cell_type": "code",
   "execution_count": 24,
   "metadata": {},
   "outputs": [],
   "source": [
    "### Load Readcount Data\n",
    "df_rc = prep_rc_res_df(base_path = \"./Empirical/1240k/SA_Readcounts/Downsample_Stuttgart/\", iid = \"Stuttgart\",\n",
    "                          suffix = \"_roh_full.csv\", down_sampling_covs=np.geomspace(0.01, 1.0, 10)[:], cms = [4, 8, 12],\n",
    "                            gap = 0.5, tot_cov=18.2127)"
   ]
  },
  {
   "cell_type": "code",
   "execution_count": 25,
   "metadata": {},
   "outputs": [],
   "source": [
    "### Reich Eigenstrat PH\n",
    "paths = [\"./Empirical/Eigenstrat/Reichall/Stuttgart_published.DG_roh_full.csv\",]\n",
    "cms = [4, 8, 12]\n",
    "iids=np.array([\"Stuttgart_published,\"])\n",
    "df_ph_reich = create_combined_ROH_df(paths, iids, iids, min_cm=cms, snp_cm=50, gap=0.5, output=False)"
   ]
  },
  {
   "cell_type": "code",
   "execution_count": 26,
   "metadata": {},
   "outputs": [],
   "source": [
    "### Downsampled PH\n",
    "df_ph = prep_rc_res_df(base_path = \"./Empirical/1240k/SA_Readcounts/Downsample_Stuttgart_ph//\", iid = \"Stuttgart\",\n",
    "                       suffix = \"_roh_full.csv\", down_sampling_covs=np.linspace(0.3, 1.0, 8), cms = [4, 8, 12],\n",
    "                       gap = 0.5, tot_cov=1.0)"
   ]
  },
  {
   "cell_type": "code",
   "execution_count": 27,
   "metadata": {},
   "outputs": [
    {
     "data": {
      "image/png": "[encoded data removed]",
      "text/plain": [
       "<Figure size 576x432 with 1 Axes>"
      ]
     },
     "metadata": {
      "needs_background": "light"
     },
     "output_type": "display_data"
    }
   ],
   "source": [
    "plot_downsample_ind(df_rc, df_ph=df_ph, df_ph_reich=df_ph_reich, title=\"Stuttgart, EEF, 8000 BP Germany\", ylim=[0,100], xlim=[0.1,8])\n",
    "#df_ph=df_ph, df_ph_reich=df_ph_reich"
   ]
  },
  {
   "cell_type": "markdown",
   "metadata": {},
   "source": [
    "# Area 51"
   ]
  },
  {
   "cell_type": "code",
   "execution_count": 51,
   "metadata": {},
   "outputs": [],
   "source": [
    "from pp_individual_roh_csvs import create_combined_ROH_df, give_iid_paths, pp_individual_roh"
   ]
  },
  {
   "cell_type": "code",
   "execution_count": 53,
   "metadata": {},
   "outputs": [],
   "source": [
    "iids = np.array([\"A460\", \"Andaman\", \"5832\", \"Lovelock4\", \"Sumidouro4\",\"Sumidouro5\", \n",
    "        \"Sumidouro6\", \"Sumidouro7\"]) #, \"19651\", \"AHUR_2064\", \"Lovelock1\", \"Lovelock2\", \"Lovelock3\", \"Aconcagua\"]"
   ]
  },
  {
   "cell_type": "code",
   "execution_count": 54,
   "metadata": {},
   "outputs": [],
   "source": [
    "paths = give_iid_paths(iids, base_folder=\"./Empirical/1240k/SA_Readcounts/\", suffix='_roh_full.csv')\n",
    "df1 = create_combined_ROH_df(paths, iids, pops=iids, min_cm=[4, 8, 12], snp_cm=50, gap=0.5, output=False)"
   ]
  },
  {
   "cell_type": "code",
   "execution_count": 72,
   "metadata": {},
   "outputs": [],
   "source": [
    "df_es = pd.read_csv(\"./Empirical/Eigenstrat/Reichall/combined_roh05.csv\", sep=\"\\t\")\n",
    "df_es[\"iid\"] = df_es[\"iid\"].str.split(\".\", expand=True)[0]"
   ]
  },
  {
   "cell_type": "code",
   "execution_count": 75,
   "metadata": {},
   "outputs": [],
   "source": [
    "df_merge = pd.merge(df1, df_es, on=\"iid\")\n",
    "df_merge"
   ]
  },
  {
   "cell_type": "code",
   "execution_count": 76,
   "metadata": {},
   "outputs": [
    {
     "data": {
      "text/html": [
       "<div>\n",
       "<style scoped>\n",
       "    .dataframe tbody tr th:only-of-type {\n",
       "        vertical-align: middle;\n",
       "    }\n",
       "\n",
       "    .dataframe tbody tr th {\n",
       "        vertical-align: top;\n",
       "    }\n",
       "\n",
       "    .dataframe thead th {\n",
       "        text-align: right;\n",
       "    }\n",
       "</style>\n",
       "<table border=\"1\" class=\"dataframe\">\n",
       "  <thead>\n",
       "    <tr style=\"text-align: right;\">\n",
       "      <th></th>\n",
       "      <th>iid</th>\n",
       "      <th>pop</th>\n",
       "      <th>max_roh_x</th>\n",
       "      <th>sum_roh&gt;4</th>\n",
       "      <th>n_roh&gt;4</th>\n",
       "      <th>sum_roh&gt;8</th>\n",
       "      <th>n_roh&gt;8</th>\n",
       "      <th>sum_roh&gt;12</th>\n",
       "      <th>n_roh&gt;12</th>\n",
       "      <th>max_roh_y</th>\n",
       "      <th>sum_roh</th>\n",
       "      <th>n_roh</th>\n",
       "      <th>lat</th>\n",
       "      <th>lon</th>\n",
       "      <th>age</th>\n",
       "      <th>study</th>\n",
       "      <th>clst</th>\n",
       "      <th>mean_cov</th>\n",
       "      <th>n_cov_snp</th>\n",
       "      <th>include_alt</th>\n",
       "    </tr>\n",
       "  </thead>\n",
       "  <tbody>\n",
       "    <tr>\n",
       "      <th>0</th>\n",
       "      <td>A460</td>\n",
       "      <td>A460</td>\n",
       "      <td>30.305803</td>\n",
       "      <td>305.416405</td>\n",
       "      <td>34</td>\n",
       "      <td>197.560012</td>\n",
       "      <td>14</td>\n",
       "      <td>132.673108</td>\n",
       "      <td>7</td>\n",
       "      <td>30.377900</td>\n",
       "      <td>401.539840</td>\n",
       "      <td>50</td>\n",
       "      <td>-50.10</td>\n",
       "      <td>-75.24</td>\n",
       "      <td>5121.0</td>\n",
       "      <td>MorenoMayarScience2018</td>\n",
       "      <td>Chile_Ayayema_5100BP.SG</td>\n",
       "      <td>10.318539</td>\n",
       "      <td>1181323</td>\n",
       "      <td>1</td>\n",
       "    </tr>\n",
       "    <tr>\n",
       "      <th>1</th>\n",
       "      <td>Andaman</td>\n",
       "      <td>Andaman</td>\n",
       "      <td>43.800003</td>\n",
       "      <td>383.260324</td>\n",
       "      <td>33</td>\n",
       "      <td>279.048626</td>\n",
       "      <td>16</td>\n",
       "      <td>218.905308</td>\n",
       "      <td>10</td>\n",
       "      <td>43.910703</td>\n",
       "      <td>399.450187</td>\n",
       "      <td>37</td>\n",
       "      <td>12.50</td>\n",
       "      <td>92.80</td>\n",
       "      <td>90.0</td>\n",
       "      <td>MorenoMayarScience2018</td>\n",
       "      <td>Indian_GreatAndaman_100BP.SG</td>\n",
       "      <td>18.180248</td>\n",
       "      <td>1163016</td>\n",
       "      <td>1</td>\n",
       "    </tr>\n",
       "    <tr>\n",
       "      <th>2</th>\n",
       "      <td>Sumidouro4</td>\n",
       "      <td>Sumidouro4</td>\n",
       "      <td>16.576799</td>\n",
       "      <td>157.251820</td>\n",
       "      <td>25</td>\n",
       "      <td>64.106396</td>\n",
       "      <td>6</td>\n",
       "      <td>16.576799</td>\n",
       "      <td>1</td>\n",
       "      <td>11.340300</td>\n",
       "      <td>193.978929</td>\n",
       "      <td>34</td>\n",
       "      <td>-19.54</td>\n",
       "      <td>-43.94</td>\n",
       "      <td>10096.0</td>\n",
       "      <td>MorenoMayarScience2018</td>\n",
       "      <td>Brazil_Sumidouro_10100BP.SG</td>\n",
       "      <td>0.734382</td>\n",
       "      <td>606831</td>\n",
       "      <td>1</td>\n",
       "    </tr>\n",
       "    <tr>\n",
       "      <th>3</th>\n",
       "      <td>Lovelock4</td>\n",
       "      <td>Lovelock4</td>\n",
       "      <td>14.474010</td>\n",
       "      <td>148.489242</td>\n",
       "      <td>23</td>\n",
       "      <td>66.994715</td>\n",
       "      <td>6</td>\n",
       "      <td>26.707113</td>\n",
       "      <td>2</td>\n",
       "      <td>14.604592</td>\n",
       "      <td>214.599305</td>\n",
       "      <td>35</td>\n",
       "      <td>39.96</td>\n",
       "      <td>-118.56</td>\n",
       "      <td>1785.0</td>\n",
       "      <td>MorenoMayarScience2018</td>\n",
       "      <td>USA_Nevada_LovelockCave_1850BP.SG</td>\n",
       "      <td>0.527598</td>\n",
       "      <td>489663</td>\n",
       "      <td>1</td>\n",
       "    </tr>\n",
       "    <tr>\n",
       "      <th>4</th>\n",
       "      <td>Sumidouro5</td>\n",
       "      <td>Sumidouro5</td>\n",
       "      <td>13.258201</td>\n",
       "      <td>103.765207</td>\n",
       "      <td>16</td>\n",
       "      <td>39.649302</td>\n",
       "      <td>4</td>\n",
       "      <td>13.258201</td>\n",
       "      <td>1</td>\n",
       "      <td>13.487297</td>\n",
       "      <td>131.716395</td>\n",
       "      <td>20</td>\n",
       "      <td>-19.54</td>\n",
       "      <td>-43.94</td>\n",
       "      <td>10405.0</td>\n",
       "      <td>MorenoMayarScience2018</td>\n",
       "      <td>Brazil_Sumidouro_10100BP.SG</td>\n",
       "      <td>13.628461</td>\n",
       "      <td>1180724</td>\n",
       "      <td>1</td>\n",
       "    </tr>\n",
       "    <tr>\n",
       "      <th>5</th>\n",
       "      <td>Sumidouro6</td>\n",
       "      <td>Sumidouro6</td>\n",
       "      <td>19.128601</td>\n",
       "      <td>83.856596</td>\n",
       "      <td>12</td>\n",
       "      <td>39.636407</td>\n",
       "      <td>3</td>\n",
       "      <td>19.128601</td>\n",
       "      <td>1</td>\n",
       "      <td>19.128601</td>\n",
       "      <td>135.362497</td>\n",
       "      <td>22</td>\n",
       "      <td>-19.54</td>\n",
       "      <td>-43.94</td>\n",
       "      <td>10154.0</td>\n",
       "      <td>MorenoMayarScience2018</td>\n",
       "      <td>Brazil_Sumidouro_10100BP.SG</td>\n",
       "      <td>1.799139</td>\n",
       "      <td>965237</td>\n",
       "      <td>1</td>\n",
       "    </tr>\n",
       "  </tbody>\n",
       "</table>\n",
       "</div>"
      ],
      "text/plain": [
       "          iid         pop  max_roh_x   sum_roh>4  n_roh>4   sum_roh>8  \\\n",
       "0        A460        A460  30.305803  305.416405       34  197.560012   \n",
       "1     Andaman     Andaman  43.800003  383.260324       33  279.048626   \n",
       "2  Sumidouro4  Sumidouro4  16.576799  157.251820       25   64.106396   \n",
       "3   Lovelock4   Lovelock4  14.474010  148.489242       23   66.994715   \n",
       "4  Sumidouro5  Sumidouro5  13.258201  103.765207       16   39.649302   \n",
       "5  Sumidouro6  Sumidouro6  19.128601   83.856596       12   39.636407   \n",
       "\n",
       "   n_roh>8  sum_roh>12  n_roh>12  max_roh_y     sum_roh  n_roh    lat     lon  \\\n",
       "0       14  132.673108         7  30.377900  401.539840     50 -50.10  -75.24   \n",
       "1       16  218.905308        10  43.910703  399.450187     37  12.50   92.80   \n",
       "2        6   16.576799         1  11.340300  193.978929     34 -19.54  -43.94   \n",
       "3        6   26.707113         2  14.604592  214.599305     35  39.96 -118.56   \n",
       "4        4   13.258201         1  13.487297  131.716395     20 -19.54  -43.94   \n",
       "5        3   19.128601         1  19.128601  135.362497     22 -19.54  -43.94   \n",
       "\n",
       "       age                   study                               clst  \\\n",
       "0   5121.0  MorenoMayarScience2018            Chile_Ayayema_5100BP.SG   \n",
       "1     90.0  MorenoMayarScience2018       Indian_GreatAndaman_100BP.SG   \n",
       "2  10096.0  MorenoMayarScience2018        Brazil_Sumidouro_10100BP.SG   \n",
       "3   1785.0  MorenoMayarScience2018  USA_Nevada_LovelockCave_1850BP.SG   \n",
       "4  10405.0  MorenoMayarScience2018        Brazil_Sumidouro_10100BP.SG   \n",
       "5  10154.0  MorenoMayarScience2018        Brazil_Sumidouro_10100BP.SG   \n",
       "\n",
       "    mean_cov  n_cov_snp  include_alt  \n",
       "0  10.318539    1181323            1  \n",
       "1  18.180248    1163016            1  \n",
       "2   0.734382     606831            1  \n",
       "3   0.527598     489663            1  \n",
       "4  13.628461    1180724            1  \n",
       "5   1.799139     965237            1  "
      ]
     },
     "execution_count": 76,
     "metadata": {},
     "output_type": "execute_result"
    }
   ],
   "source": []
  },
  {
   "cell_type": "code",
   "execution_count": 83,
   "metadata": {},
   "outputs": [
    {
     "data": {
      "image/png": "[encoded data removed]",
      "text/plain": [
       "<Figure size 576x576 with 1 Axes>"
      ]
     },
     "metadata": {
      "needs_background": "light"
     },
     "output_type": "display_data"
    }
   ],
   "source": [
    "plt.figure(figsize=(8,8))\n",
    "plt.scatter(df_merge[\"sum_roh>4\"], df_merge[\"sum_roh\"], s=40, c=\"r\", ec=\"gray\")\n",
    "plt.plot([0,600],[0,600])\n",
    "plt.show()"
   ]
  },
  {
   "cell_type": "code",
   "execution_count": null,
   "metadata": {},
   "outputs": [],
   "source": []
  }
 ],
 "metadata": {
  "kernelspec": {
   "display_name": "Python 3",
   "language": "python",
   "name": "python3"
  },
  "language_info": {
   "codemirror_mode": {
    "name": "ipython",
    "version": 3
   },
   "file_extension": ".py",
   "mimetype": "text/x-python",
   "name": "python",
   "nbconvert_exporter": "python",
   "pygments_lexer": "ipython3",
   "version": "3.7.0"
  }
 },
 "nbformat": 4,
 "nbformat_minor": 2
}
