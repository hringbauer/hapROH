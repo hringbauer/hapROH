{
 "cells": [
  {
   "cell_type": "markdown",
   "metadata": {},
   "source": [
    "# Plot Individual ROH\n",
    "Make nice plots of whole genome, in Karyotype style.\n",
    "\n",
    "Plot every chromosome: Centromer, and then list of ROH Blocks"
   ]
  },
  {
   "cell_type": "code",
   "execution_count": 1,
   "metadata": {},
   "outputs": [
    {
     "name": "stdout",
     "output_type": "stream",
     "text": [
      "Midway jnovmbre partition detected.\n",
      "/project/jnovembre/hringbauer/HAPSBURG\n",
      "CPU Count: 28\n"
     ]
    }
   ],
   "source": [
    "import numpy as np\n",
    "import pandas as pd\n",
    "import matplotlib.pyplot as plt\n",
    "from matplotlib import gridspec\n",
    "import matplotlib.patheffects as pe\n",
    "import h5py   # For Processing HDF5s\n",
    "\n",
    "import socket\n",
    "import os as os\n",
    "import sys as sys\n",
    "import multiprocessing as mp\n",
    "\n",
    "if socket.gethostname() == \"VioletQueen\":\n",
    "    path = \"/home/harald/git/HAPSBURG/\"   # The Path on Harald's machine\n",
    "elif socket.gethostname() == \"midway2-0401.rcc.local\" or socket.gethostname() == 'midway2-0402.rcc.local':\n",
    "    print(\"Midway jnovmbre partition detected.\")\n",
    "    path = \"/project/jnovembre/hringbauer/HAPSBURG/\"  # The Path on Midway Cluster\n",
    "else: \n",
    "    raise RuntimeWarning(\"Not compatible machine. Check!!\")\n",
    "    \n",
    "os.chdir(path)  # Set the right Path (in line with Atom default)\n",
    "\n",
    "sys.path.append(\"./Python3/\")  # Since now we are in the Root Directory\n",
    "from hmm_inference import HMM_Analyze   # Do not move. Should be after sys.path..\n",
    "#sys.path.append(\"./Python3/create1000G_Mosaic/\")  # Since now we are in the Root Directory\n",
    "#from createMosaicsMulti import Mosaic_1000G_Multi  # Import the object that can create the Multiruns\n",
    "\n",
    "print(os.getcwd()) # Show the current working directory. Should be HAPSBURG/Notebooks/ParallelRuns\n",
    "print(f\"CPU Count: {mp.cpu_count()}\")"
   ]
  },
  {
   "cell_type": "code",
   "execution_count": 50,
   "metadata": {},
   "outputs": [],
   "source": [
    "def load_roh(iid, ch, path_folder = \"./Empirical/1240k/\", prefix_out = \"e01/\"):\n",
    "    \"\"\"Load the ROH Dataframe for Individual iid and \n",
    "    Chromosome ch\"\"\"\n",
    "    path = path_folder +  iid + \"/chr\" + str(ch) + \"/\" + prefix_out+ \"/roh.csv\"\n",
    "    roh_df = pd.read_csv(path)    \n",
    "    return roh_df\n",
    "\n",
    "def post_process_roh_df(df, min_cm=4, snp_cm=100, output=False):\n",
    "    \"\"\"Post Process ROH Dataframe.\n",
    "    min_cm: Minimum Length in CentiMorgan\n",
    "    snp_cm: How many SNPs per CentiMorgan\"\"\"\n",
    "    densities = df[\"length\"] / (df[\"lengthM\"] * 100)\n",
    "    densities_ok = (densities > snp_cm)\n",
    "    \n",
    "    df[\"SNP_Dens\"] = densities\n",
    "    \n",
    "    # Filter for SNP Density:\n",
    "    df = df[densities_ok]\n",
    "    \n",
    "    # Filter for Length:\n",
    "    length_okay = (df[\"lengthM\"] * 100) > min_cm\n",
    "    \n",
    "    if output==True:\n",
    "        print(f\"Min SNPs per cM> {snp_cm}: {np.sum(densities_ok)}/{len(densities_ok)}\")\n",
    "        print(f\"> {min_cm} cM: {np.sum(length_okay)}/{len(length_okay)}\")\n",
    "    \n",
    "    df = df[length_okay]\n",
    "    return df\n",
    "\n",
    "def load_h5(path, output=True):\n",
    "        \"\"\"Load and return the HDF5 File from Path\"\"\"\n",
    "        f = h5py.File(path, \"r\")  # Load for Sanity Check. See below!\n",
    "        if output == True:\n",
    "            print(\"\\nLoaded %i variants\" % np.shape(f[\"calldata/GT\"])[0])\n",
    "            print(\"Loaded %i individuals\" % np.shape(f[\"calldata/GT\"])[1])\n",
    "            # print(list(f[\"calldata\"].keys()))\n",
    "            # print(list(f[\"variants\"].keys()))\n",
    "            print(f\"HDF5 loaded from {path}\")\n",
    "        return f\n",
    "    \n",
    "def chrom_length(ch, output=False):\n",
    "    \"\"\"Get and retrun length of Chromosome\"\"\"\n",
    "    \n",
    "    path1000G = \"./Data/1000Genomes/HDF5/1240kHDF5/Eur1240chr\" + str(ch) + \".hdf5\"  # Path of 1000G (without chromosome part)\n",
    "    f = load_h5(path1000G, output=output)\n",
    "    rec = np.array(f[\"variants/MAP\"])\n",
    "    l = np.max(rec)\n",
    "    return rec, l\n",
    "\n",
    "def load_individual_roh(iid, min_cm=4, snp_cm=50, path_folder = \"./Empirical/1240k/\", prefix_out = \"e01/\"):\n",
    "    \"\"\"Load ROH of one Individual\"\"\"\n",
    "    df_rohs = []\n",
    "    for i in range(1,23):\n",
    "        df_roh = load_roh(iid=iid, ch=i, path_folder = \"./Empirical/1240k/\", prefix_out = \"e01/\")\n",
    "        df_roh = post_process_roh_df(df_roh, min_cm=min_cm, snp_cm=snp_cm) # Standad PP\n",
    "        df_rohs.append(df_roh)\n",
    "    return df_rohs"
   ]
  },
  {
   "cell_type": "code",
   "execution_count": 45,
   "metadata": {},
   "outputs": [],
   "source": [
    "def plot_chromosome(ax, l, x_pos, lw=24, df_roh = []):\n",
    "    \"\"\"Plot a Chromosome of length l with centromer ctr on ax \n",
    "    at x_pos\"\"\"\n",
    "    ln, = ax.plot([x_pos, x_pos], [-0.05,l+0.05], lw = lw, color=\"lightgray\",\n",
    "                      solid_capstyle = 'round', zorder=0,\n",
    "                  path_effects=[pe.Stroke(linewidth=lw+3, foreground='k'), pe.Normal()])\n",
    "    \n",
    "    ### Plot the ROH List if given\n",
    "    if len(df_roh) > 0:\n",
    "        starts, ends = df_roh[\"StartM\"].values, df_roh[\"EndM\"].values\n",
    "        \n",
    "        for i in range(len(df_roh)):\n",
    "            ax.plot([x_pos, x_pos], [starts[i], ends[i]], lw=lw, color=\"maroon\", \n",
    "                    zorder=1, alpha=1.0, solid_capstyle=\"butt\")\n",
    "            \n",
    "            #ax.plot([x_pos, x_pos], [-0.01, 0], lw=lw-1, color=\"black\", \n",
    "            #        zorder=1, alpha=0.6, solid_capstyle=\"butt\")"
   ]
  },
  {
   "cell_type": "code",
   "execution_count": 101,
   "metadata": {},
   "outputs": [],
   "source": [
    "def plot_roh_individual(iid=\"MA89\", fs=12, figsize=(8,8), save=False, min_cm=4, snp_cm=50):\n",
    "    \"\"\"Plot ROH in one ancient Individual\"\"\"\n",
    "    \n",
    "    ### Load the Data (could be done seperately)\n",
    "    df_rohs = load_individual_roh(iid, min_cm=min_cm, snp_cm=snp_cm)\n",
    "\n",
    "    plt.figure(figsize=figsize)\n",
    "    gs = gridspec.GridSpec(2, 1, height_ratios=[3, 2])\n",
    "    gs.update(hspace=0.1) # set the spacing between axes. \n",
    "\n",
    "    ax = plt.subplot(gs[0]) # The left subplot\n",
    "    ax1 = plt.subplot(gs[1]) # The middle one\n",
    "        \n",
    "    ### Plot the First 11 Chromosomes\n",
    "    for i in range(1,12):\n",
    "        rec, l = chrom_length(i)\n",
    "        plot_chromosome(ax, l, x_pos=(i), df_roh=df_rohs[i-1])  \n",
    "    \n",
    "    ### Plot the Second 11 Chromosomes\n",
    "    for i in range(12,23):\n",
    "        rec, l = chrom_length(i)\n",
    "        plot_chromosome(ax1, l, x_pos=(i - 11), df_roh=df_rohs[i-1])\n",
    "\n",
    "    ### Set the Plot Limits\n",
    "    ax.set_xlim([0.3, 11.5])\n",
    "    ax1.set_xlim([0.3, 11.5])\n",
    "\n",
    "    ax.set_ylim([-0.3,3.3])\n",
    "    ax1.set_ylim([-0.3, 2.05])\n",
    "\n",
    "    ### Turn off the Y Axis\n",
    "    for ax0 in [ax, ax1]:\n",
    "        ax0.spines['right'].set_visible(False)\n",
    "        ax0.spines['top'].set_visible(False)\n",
    "        ax0.spines['bottom'].set_visible(False)\n",
    "        ax0.yaxis.set_tick_params(labelsize=fs)\n",
    "\n",
    "    rang = np.arange(1,12)\n",
    "    ax.set_xticks(rang)\n",
    "    ax.set_xticklabels(rang, fontsize=fs)\n",
    "\n",
    "    ax1.set_xticks(rang)\n",
    "    ax1.set_xticklabels(rang+11, fontsize=fs)\n",
    "    ax1.set_xticklabels(rang+11, fontsize=fs)\n",
    "\n",
    "    if save==True:\n",
    "        savepath=\"./figures_test/\" + iid + \"_allchrroh.pdf\"\n",
    "        plt.savefig(savepath, bbox_inches = 'tight', pad_inches = 0)\n",
    "\n",
    "        savepath=\"./figures_test/\" + iid + \"_allchrroh.png\"\n",
    "        plt.savefig(savepath, bbox_inches = 'tight', pad_inches = 0)\n",
    "        print(f\"Saved to {savepath}\")\n",
    "    \n",
    "    ax.set_title(iid, fontsize=fs*2)\n",
    "    plt.show()"
   ]
  },
  {
   "cell_type": "code",
   "execution_count": 118,
   "metadata": {},
   "outputs": [
    {
     "data": {
      "image/png": "[encoded data removed]",
      "text/plain": [
       "<Figure size 576x576 with 2 Axes>"
      ]
     },
     "metadata": {
      "needs_background": "light"
     },
     "output_type": "display_data"
    }
   ],
   "source": [
    "plot_roh_individual(iid=\"Ogl_5\")  # MA89"
   ]
  },
  {
   "cell_type": "markdown",
   "metadata": {},
   "source": [
    "# Plot Distribution of different Relatedness Classes"
   ]
  },
  {
   "cell_type": "code",
   "execution_count": 110,
   "metadata": {},
   "outputs": [],
   "source": [
    "def expected_block_pdf(x, chr_l, m):\n",
    "    \"\"\"Gives back the pdfs for Blocks of Length l [Morgan]\n",
    "    on a Chromosome of Length [Morgan].\n",
    "    m: Nr of Meiosis.\n",
    "    Return PDF (per Morgan)\"\"\"\n",
    "    pdf0 = (chr_l - x) * m**2 * np.exp(-x * m)\n",
    "    pdf1 = 2 * np.exp(- x * m) * m \n",
    "    return (pdf0 + pdf1) * (x < chr_l)\n",
    "\n",
    "def expected_block_pdf_chromosomes(x, chr_lgts, m):\n",
    "    \"\"\"Calculate the PDF of ROH blocks of length x [Morgan]\n",
    "    for m Recombination events\n",
    "    x: Can be Array\n",
    "    chr_lgts: Array of all chromosome lengths [in Morgan]\n",
    "    Return PDF (per Morgan)\"\"\"\n",
    "    \n",
    "    pdfs = [expected_block_pdf(x, chr_l, m) for c in chr_lgts]\n",
    "    pdf_full = np.sum(pdfs, axis=0)\n",
    "    return pdf_full"
   ]
  },
  {
   "cell_type": "code",
   "execution_count": 103,
   "metadata": {},
   "outputs": [
    {
     "data": {
      "image/png": "[encoded data removed]",
      "text/plain": [
       "<Figure size 576x432 with 1 Axes>"
      ]
     },
     "metadata": {
      "needs_background": "light"
     },
     "output_type": "display_data"
    }
   ],
   "source": [
    "bins = np.arange(4, 50, 2)\n",
    "fs = 18\n",
    "\n",
    "plt.figure(figsize=(8,6))\n",
    "plt.hist(df_roh[\"lengthM\"]*100, bins=bins, ec=\"k\", fc=\"dodgerblue\")\n",
    "plt.xlabel(\"ROH Length [cm]\", fontsize=fs)\n",
    "plt.ylabel(\"Number per 2 cM Bin\", fontsize=fs)\n",
    "plt.title(\"Individual MA89\", fontsize=fs)\n",
    "plt.show()"
   ]
  },
  {
   "cell_type": "code",
   "execution_count": null,
   "metadata": {},
   "outputs": [],
   "source": [
    "df_rohs = load_individual_roh(iid=\"MA89\", min_cm=4, snp_cm=50)\n",
    "df_roh = pd.concat(df_rohs)"
   ]
  },
  {
   "cell_type": "code",
   "execution_count": 113,
   "metadata": {},
   "outputs": [],
   "source": [
    "### Create Some Test Case\n",
    "ch_lgts = [chrom_length(ch)[1] for ch in range(1,23)]\n",
    "x_arr = np.linspace(0.05, 0.5, 50) # Block Sharing up to 0.5 cM"
   ]
  },
  {
   "cell_type": "code",
   "execution_count": 116,
   "metadata": {},
   "outputs": [
    {
     "data": {
      "text/plain": [
       "array([706.07340145, 678.05542008, 651.1400133 , 625.28409438,\n",
       "       600.44625035, 576.5866773 , 553.66711822, 531.65080318,\n",
       "       510.5023918 , 490.18791799, 470.67473681, 451.93147329,\n",
       "       433.92797333, 416.63525646, 400.02547038, 384.07184727,\n",
       "       368.74866183, 354.03119086, 339.89567447, 326.31927874,\n",
       "       313.28005982, 300.75692945, 288.72962178, 277.17866149,\n",
       "       266.08533308, 255.43165148, 245.20033362, 235.37477123,\n",
       "       225.93900467, 216.87769768, 208.17611324, 199.82009024,\n",
       "       191.79602115, 184.0908305 , 176.69195417, 169.58731955,\n",
       "       162.76532642, 156.21482856, 149.92511613, 143.88589863,\n",
       "       138.08728865, 132.51978614, 127.17426335, 122.04195029,\n",
       "       117.11442087, 112.38357943, 107.84164791, 103.48115345,\n",
       "        99.29491651,  95.2760394 ])"
      ]
     },
     "execution_count": 116,
     "metadata": {},
     "output_type": "execute_result"
    }
   ],
   "source": [
    "expected_block_pdf_chromosomes(x_arr, ch_lgts, m=4)"
   ]
  },
  {
   "cell_type": "code",
   "execution_count": 117,
   "metadata": {},
   "outputs": [],
   "source": [
    "### Coalescence Probabability\n",
    "comm_anc = 1 # How many of the ancestors are in common"
   ]
  },
  {
   "cell_type": "markdown",
   "metadata": {},
   "source": [
    "# Area 51"
   ]
  },
  {
   "cell_type": "code",
   "execution_count": 100,
   "metadata": {},
   "outputs": [],
   "source": [
    "chr_l = 2\n",
    "x_arr = np.linspace(0.05, 0.5, 50)\n",
    "\n",
    "pdf = expected_block_pdf(x = x_arr, chr_l = 2.0, m = 4)"
   ]
  },
  {
   "cell_type": "code",
   "execution_count": 12,
   "metadata": {},
   "outputs": [
    {
     "data": {
      "text/html": [
       "<div>\n",
       "<style scoped>\n",
       "    .dataframe tbody tr th:only-of-type {\n",
       "        vertical-align: middle;\n",
       "    }\n",
       "\n",
       "    .dataframe tbody tr th {\n",
       "        vertical-align: top;\n",
       "    }\n",
       "\n",
       "    .dataframe thead th {\n",
       "        text-align: right;\n",
       "    }\n",
       "</style>\n",
       "<table border=\"1\" class=\"dataframe\">\n",
       "  <thead>\n",
       "    <tr style=\"text-align: right;\">\n",
       "      <th></th>\n",
       "      <th>Start</th>\n",
       "      <th>End</th>\n",
       "      <th>StartM</th>\n",
       "      <th>EndM</th>\n",
       "      <th>length</th>\n",
       "      <th>lengthM</th>\n",
       "      <th>iid</th>\n",
       "      <th>ch</th>\n",
       "    </tr>\n",
       "  </thead>\n",
       "  <tbody>\n",
       "    <tr>\n",
       "      <th>0</th>\n",
       "      <td>8763</td>\n",
       "      <td>9029</td>\n",
       "      <td>0.407479</td>\n",
       "      <td>0.419341</td>\n",
       "      <td>266</td>\n",
       "      <td>0.011862</td>\n",
       "      <td>MA89</td>\n",
       "      <td>3</td>\n",
       "    </tr>\n",
       "    <tr>\n",
       "      <th>1</th>\n",
       "      <td>28160</td>\n",
       "      <td>42012</td>\n",
       "      <td>1.066410</td>\n",
       "      <td>1.469917</td>\n",
       "      <td>13852</td>\n",
       "      <td>0.403507</td>\n",
       "      <td>MA89</td>\n",
       "      <td>3</td>\n",
       "    </tr>\n",
       "    <tr>\n",
       "      <th>2</th>\n",
       "      <td>49506</td>\n",
       "      <td>50020</td>\n",
       "      <td>1.714682</td>\n",
       "      <td>1.728582</td>\n",
       "      <td>514</td>\n",
       "      <td>0.013900</td>\n",
       "      <td>MA89</td>\n",
       "      <td>3</td>\n",
       "    </tr>\n",
       "  </tbody>\n",
       "</table>\n",
       "</div>"
      ],
      "text/plain": [
       "   Start    End    StartM      EndM  length   lengthM   iid  ch\n",
       "0   8763   9029  0.407479  0.419341     266  0.011862  MA89   3\n",
       "1  28160  42012  1.066410  1.469917   13852  0.403507  MA89   3\n",
       "2  49506  50020  1.714682  1.728582     514  0.013900  MA89   3"
      ]
     },
     "execution_count": 12,
     "metadata": {},
     "output_type": "execute_result"
    }
   ],
   "source": [
    "load_roh(iid=\"MA89\", ch=3)"
   ]
  },
  {
   "cell_type": "markdown",
   "metadata": {},
   "source": [
    "##Try Plotting various relationships in one plot"
   ]
  }
 ],
 "metadata": {
  "kernelspec": {
   "display_name": "Python 3",
   "language": "python",
   "name": "python3"
  },
  "language_info": {
   "codemirror_mode": {
    "name": "ipython",
    "version": 3
   },
   "file_extension": ".py",
   "mimetype": "text/x-python",
   "name": "python",
   "nbconvert_exporter": "python",
   "pygments_lexer": "ipython3",
   "version": "3.7.0"
  }
 },
 "nbformat": 4,
 "nbformat_minor": 2
}
