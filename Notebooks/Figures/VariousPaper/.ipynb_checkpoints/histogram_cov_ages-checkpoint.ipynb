{
 "cells": [
  {
   "cell_type": "markdown",
   "metadata": {},
   "source": [
    "# Histogram of Coverage and X Contamination,\n",
    "using David Reichs ancient data from their annotation file.\n",
    "Plot and save as .pdfs into ./figures/"
   ]
  },
  {
   "cell_type": "code",
   "execution_count": 6,
   "metadata": {},
   "outputs": [
    {
     "name": "stdout",
     "output_type": "stream",
     "text": [
      "midway2-0404.rcc.local\n",
      "Midway jnovmbre partition detected.\n",
      "/project2/jnovembre/hringbauer/HAPSBURG\n",
      "CPU Count: 28\n"
     ]
    }
   ],
   "source": [
    "import pandas as pd\n",
    "import numpy as np\n",
    "import matplotlib.pyplot as plt\n",
    "import matplotlib.cm as cm\n",
    "from matplotlib import gridspec\n",
    "import socket\n",
    "import os as os\n",
    "import sys as sys\n",
    "import multiprocessing as mp\n",
    "import matplotlib.colors as cls\n",
    "from mpl_toolkits.basemap import Basemap\n",
    "from matplotlib.patches import Polygon\n",
    "from matplotlib.collections import PatchCollection\n",
    "from matplotlib.ticker import MaxNLocator\n",
    "\n",
    "socket_name = socket.gethostname()\n",
    "print(socket_name)\n",
    "if socket_name == \"VioletQueen\":\n",
    "    path = \"/home/harald/git/HAPSBURG/\"   # The Path on Harald's machine\n",
    "elif socket_name.startswith(\"midway2\"):\n",
    "    print(\"Midway jnovmbre partition detected.\")\n",
    "    path = \"/project2/jnovembre/hringbauer/HAPSBURG/\"  # The Path on Midway Cluster\n",
    "else: \n",
    "    raise RuntimeWarning(\"Not compatible machine. Check!!\")\n",
    "    \n",
    "### For Arial Font\n",
    "from matplotlib import rcParams\n",
    "rcParams['font.family'] = 'sans-serif'   # Set the defaul\n",
    "rcParams['font.sans-serif'] = ['Arial']  # Make sure to have the font installed (it is on cluster for Harald)\n",
    "\n",
    "os.chdir(path)  # Set the right Path (in line with Atom default)\n",
    "print(os.getcwd()) # Show the current working directory. Should be HAPSBURG/Notebooks/ParallelRuns\n",
    "print(f\"CPU Count: {mp.cpu_count()}\")"
   ]
  },
  {
   "cell_type": "markdown",
   "metadata": {},
   "source": [
    "# Functions to Load Data\n",
    "Load from Eigenstrat Annotation File of D. Reich"
   ]
  },
  {
   "cell_type": "code",
   "execution_count": 7,
   "metadata": {},
   "outputs": [],
   "source": [
    "def load_eigenstrat_anno(path=\"./Data/ReichLabEigenstrat/Raw/v37.2.1240K.clean4.anno\", anc_only=True, sep=\"\\t\"):\n",
    "    \"\"\"Load annotated Eigenstrat (from D. Reich's group)\"\"\"\n",
    "    df_anno = pd.read_csv(path, sep=sep, engine=\"python\")\n",
    "    coverage = pd.to_numeric(df_anno[\"coverage\"], errors='coerce')\n",
    "    df_anno[\"coverage\"]=coverage\n",
    "\n",
    "    # Convert the Ages as well\n",
    "    ages = df_anno[\"Average of 95.4% date range in calBP (defined as 1950 CE)  \"]\n",
    "    df_anno[\"ages\"] = pd.to_numeric(ages, errors='coerce')  \n",
    "    \n",
    "    # Convert X Contamination:\n",
    "    contX = df_anno[\"Xcontam point estimate if male and >=200 SNPs\"]\n",
    "    df_anno[\"contX\"] = pd.to_numeric(contX, errors='coerce')\n",
    "    \n",
    "    ### Convert Longitude and Latitude\n",
    "    lat = df_anno[\"Lat.\"]\n",
    "    lon = df_anno[\"Long.\"]\n",
    "    df_anno[\"lat\"] = pd.to_numeric(lat, errors='coerce')\n",
    "    df_anno[\"lon\"] = pd.to_numeric(lon, errors='coerce')\n",
    "    df_anno[\"iid\"] = df_anno[\"Instance ID\"]\n",
    "    \n",
    "    df_anc = df_anno[df_anno[\"ages\"]>0]\n",
    "\n",
    "    print(f\"Loaded {len(df_anc)} / {len(df_anno)} ancient Indivdiuals.\")\n",
    "    print(f\"Without Coverage: {np.sum(np.isnan(coverage))}\")\n",
    "    if anc_only:\n",
    "        df_anno=df_anc\n",
    "    return df_anno"
   ]
  },
  {
   "cell_type": "code",
   "execution_count": 8,
   "metadata": {},
   "outputs": [
    {
     "name": "stdout",
     "output_type": "stream",
     "text": [
      "Loaded all Ancients: 3723 Individuals\n"
     ]
    }
   ],
   "source": [
    "#df_anno = pd.read_csv(\"./Data/ReichLabEigenstrat/Raw/v37.2.1240K.clean4.anno\", sep=\"\\t\", engine=\"python\")\n",
    "#df_anc = load_eigenstrat_anno(path = \"./Data/ReichLabEigenstrat/Raw/meta.v42.csv\", anc_only=True, sep=\"\\t\")\n",
    "df_anc = pd.read_csv(\"./Data/ReichLabEigenstrat/Raw/meta.v42.csv\")\n",
    "#df_meta = produce_meta_csv(df_anc, save_path=\"\")\n",
    "#path = \"./Data/ReichLabEigenstrat/Raw/meta.csv\"\n",
    "print(f\"Loaded all Ancients: {len(df_anc)} Individuals\")"
   ]
  },
  {
   "cell_type": "markdown",
   "metadata": {},
   "source": [
    "### Histogram of Ages"
   ]
  },
  {
   "cell_type": "code",
   "execution_count": 2,
   "metadata": {},
   "outputs": [],
   "source": [
    "def hist_ages(df_meta, ax=0, fs=14, lim=[0,3.5e4], bin_step=250, figsize=(6,4), \n",
    "              xlim=[], ylim=[0,230], lw=1.0, ec=\"k\", c=\"blue\", savepath=\"\", c2=\"maroon\",\n",
    "              labelpad=0, text=True, show=True):\n",
    "    \"\"\"Do Histogram of Sample Ages\"\"\"\n",
    "    ### Calculate Cumulative Density Function\n",
    "    x_cdf = np.sort(df_meta[\"age\"])\n",
    "    x_cdf = x_cdf[~np.isnan(x_cdf)]\n",
    "    y_cdf = np.array(range(len(x_cdf)))/len(x_cdf)\n",
    "    \n",
    "    bins = np.arange(lim[0], lim[1], bin_step) - 0.5 # Make 200 year bins\n",
    "    ages = df_meta[\"age\"]\n",
    "    \n",
    "    if ax==0:\n",
    "        plt.figure(figsize=figsize)\n",
    "        ax = plt.gca()\n",
    "    ax=plt.gca()\n",
    "    ax.hist(ages, color=c, ec=ec, bins=bins, lw=lw)\n",
    "    #ax.axvline(0.5, color=\"red\", lw=2)\n",
    "    ax.set_ylim(ylim)\n",
    "    if len(xlim)==0:\n",
    "        xlim=lim\n",
    "    ax.set_xlim(xlim)\n",
    "    ax.set_xlabel(\"Avg. Age [years BP]\", fontsize=fs)\n",
    "    ax.set_ylabel(\"Count\", fontsize=fs)\n",
    "    if text:\n",
    "        ax.text(x=0.37, y=0.8, \n",
    "                s=f\"# ancients: {len(df_anc)}\", transform=ax.transAxes, fontsize=fs)\n",
    "    \n",
    "    ax2 = ax.twinx()\n",
    "    ax2.plot(x_cdf, y_cdf, c=c2, lw=1.4)\n",
    "    ax2.set_ylabel(\"CDF\", color=c2, rotation=0, fontsize=fs, labelpad=labelpad)\n",
    "    ax2.set_ylim([0,1])\n",
    "    plt.setp(ax2.get_yticklabels(), color=c2)\n",
    "    \n",
    "    if len(savepath)>0:\n",
    "        plt.savefig(savepath, bbox_inches ='tight', pad_inches = 0, dpi=300)\n",
    "        print(f\"Saved to {savepath}\")\n",
    "    if show:\n",
    "        plt.show()\n",
    "    else:   #### Abuse as Keyword to signal that this plot is used in summary Plot\n",
    "        ax.set_xlabel(\"\")\n",
    "        ax.set_xticks([])"
   ]
  },
  {
   "cell_type": "code",
   "execution_count": 45,
   "metadata": {},
   "outputs": [
    {
     "name": "stdout",
     "output_type": "stream",
     "text": [
      "Saved to ./figures/manuscript/histograms/hist_ages.pdf\n"
     ]
    },
    {
     "data": {
      "image/png": "[encoded data removed]",
      "text/plain": [
       "<Figure size 288x360 with 2 Axes>"
      ]
     },
     "metadata": {
      "needs_background": "light"
     },
     "output_type": "display_data"
    }
   ],
   "source": [
    "hist_ages(df_anc, figsize=(4,5), ec=\"k\", c=\"blue\", lw=0.5, ylim=[0,210], \n",
    "          lim=[0,2.5e4], savepath=\"./figures/manuscript/histograms/hist_ages.pdf\")"
   ]
  },
  {
   "cell_type": "markdown",
   "metadata": {},
   "source": [
    "### Histogram of Coverage 1240k SNPs"
   ]
  },
  {
   "cell_type": "code",
   "execution_count": 1,
   "metadata": {},
   "outputs": [],
   "source": [
    "def hist_coverage(df_meta, ax=0, figsize=(4,5), c=\"blue\", ec=\"k\", lw=0.5, bins=[0,60], bin_step=1, \n",
    "                  xlim=[0,25], ylim=[0,500], savepath=\"\", c2=\"maroon\", fs=14):\n",
    "    \"\"\"Plot Histogram of Coverage\"\"\"\n",
    "    \n",
    "    ### Calculate Cumulative Density Function\n",
    "    x_cdf = np.sort(df_meta[\"mean_cov\"])\n",
    "    y_cdf = np.array(range(len(x_cdf)))/len(x_cdf)\n",
    " \n",
    "    bins = np.arange(bins[0], bins[1], bin_step)\n",
    "    \n",
    "    if ax==0:\n",
    "        plt.figure(figsize=figsize)\n",
    "        ax=plt.gca()\n",
    "    \n",
    "    print(\"here\")\n",
    "    ax=plt.gca()\n",
    "    plt.hist(df_meta[\"mean_cov\"], color=c, ec=ec, bins=bins, lw=0.5)\n",
    "    ax.axvline(0.5, color=\"red\", lw=1)\n",
    "    ax.set_ylim(ylim)\n",
    "    ax.set_xlim(xlim)\n",
    "    plt.xlabel(f\"Avg. Coverage 1240k (bin width: {bins[1]-bins[0]:.2f})\", fontsize=fs)\n",
    "    plt.ylabel(\"Count\", fontsize=fs)\n",
    "    #ax.text(x=0.27, y=0.8, \n",
    "    #        s=f\"Total Number ancients: {len(df_meta)}\", transform=ax.transAxes, fontsize=fs)\n",
    "     \n",
    "    print(\"here2\")\n",
    "    ax2 = ax.twinx()\n",
    "    ax2.plot(x_cdf, y_cdf, c=c2, lw=1.4)\n",
    "    ax2.set_ylabel(\"CDF\", color=c2, rotation=270, fontsize=fs)\n",
    "    ax2.set_ylim([0,1])\n",
    "    plt.setp(ax2.get_yticklabels(), color=c2)\n",
    "    \n",
    "    if len(savepath)>0:\n",
    "        plt.savefig(savepath, bbox_inches ='tight', pad_inches = 0, dpi=300)\n",
    "        print(f\"Saved to {savepath}\")\n",
    "    plt.show()"
   ]
  },
  {
   "cell_type": "code",
   "execution_count": 2,
   "metadata": {},
   "outputs": [
    {
     "ename": "NameError",
     "evalue": "name 'df_anc' is not defined",
     "output_type": "error",
     "traceback": [
      "\u001b[0;31m---------------------------------------------------------------------------\u001b[0m",
      "\u001b[0;31mNameError\u001b[0m                                 Traceback (most recent call last)",
      "\u001b[0;32m<ipython-input-2-5d397f6c70d0>\u001b[0m in \u001b[0;36m<module>\u001b[0;34m()\u001b[0m\n\u001b[0;32m----> 1\u001b[0;31m hist_coverage(df_anc, figsize=(4,5), bin_step=0.25, xlim=[0,12], ec=\"k\", c=\"blue\", \n\u001b[0m\u001b[1;32m      2\u001b[0m               c2=\"maroon\", savepath=\"./figures/manuscript/histograms/hist_covs.pdf\")\n",
      "\u001b[0;31mNameError\u001b[0m: name 'df_anc' is not defined"
     ]
    }
   ],
   "source": [
    "hist_coverage(df_anc, figsize=(4,5), bin_step=0.25, xlim=[0,12], ec=\"k\", c=\"blue\", \n",
    "              c2=\"maroon\", savepath=\"./figures/manuscript/histograms/hist_covs.pdf\")"
   ]
  },
  {
   "cell_type": "markdown",
   "metadata": {},
   "source": [
    "### Histogram of X Contamination"
   ]
  },
  {
   "cell_type": "code",
   "execution_count": 11,
   "metadata": {},
   "outputs": [],
   "source": [
    "def hist_xcont(df_meta, figsize=(4,5), c=\"blue\", ec=\"k\", lw=0.5, bins=[0,60], bin_step=1, \n",
    "                  xlim=[0,1], ylim=[0,200], savepath=\"\", c2=\"maroon\", fs=14):\n",
    "    \"\"\"Plot Histogram of Coverage\"\"\"\n",
    "    \n",
    "    ### Calculate Cumulative Density Function\n",
    "    x_cdf = np.sort(df_meta[\"contX\"])\n",
    "    x_cdf = x_cdf[~np.isnan(x_cdf)]\n",
    "    y_cdf = np.array(range(len(x_cdf)))/len(x_cdf)\n",
    "\n",
    "    bins = np.arange(bins[0], bins[1], bin_step)\n",
    "\n",
    "    plt.figure(figsize=figsize)\n",
    "    \n",
    "    ax=plt.gca()\n",
    "    plt.hist(df_meta[\"contX\"], color=c, ec=ec, bins=bins, lw=lw)\n",
    "    \n",
    "    ax.axvline(0.5, color=\"red\", lw=1)\n",
    "    ax.set_ylim(ylim)\n",
    "    ax.set_xlim(xlim)\n",
    "    plt.xlabel(f\"Estimated X Cont. (bin width: {bins[1]-bins[0]:.3f})\", fontsize=fs)\n",
    "    plt.ylabel(\"Count\", fontsize=fs)\n",
    "\n",
    "    ax2 = ax.twinx()\n",
    "    ax2.plot(x_cdf, y_cdf, c=c2, lw=1.4)\n",
    "    ax2.set_ylabel(\"CDF\", color=c2, rotation=270, fontsize=fs)\n",
    "    ax2.set_ylim([0,1])\n",
    "    plt.setp(ax2.get_yticklabels(), color=c2)\n",
    "    \n",
    "    if len(savepath)>0:\n",
    "        plt.savefig(savepath, bbox_inches ='tight', pad_inches = 0, dpi=300)\n",
    "        print(f\"Saved to {savepath}\")\n",
    "    plt.show()"
   ]
  },
  {
   "cell_type": "code",
   "execution_count": 12,
   "metadata": {},
   "outputs": [
    {
     "ename": "KeyError",
     "evalue": "'contX'",
     "output_type": "error",
     "traceback": [
      "\u001b[0;31m---------------------------------------------------------------------------\u001b[0m",
      "\u001b[0;31mKeyError\u001b[0m                                  Traceback (most recent call last)",
      "\u001b[0;32m/software/python-3.7.0-el7-x86_64/lib/python3.7/site-packages/pandas/core/indexes/base.py\u001b[0m in \u001b[0;36mget_loc\u001b[0;34m(self, key, method, tolerance)\u001b[0m\n\u001b[1;32m   3077\u001b[0m             \u001b[0;32mtry\u001b[0m\u001b[0;34m:\u001b[0m\u001b[0;34m\u001b[0m\u001b[0m\n\u001b[0;32m-> 3078\u001b[0;31m                 \u001b[0;32mreturn\u001b[0m \u001b[0mself\u001b[0m\u001b[0;34m.\u001b[0m\u001b[0m_engine\u001b[0m\u001b[0;34m.\u001b[0m\u001b[0mget_loc\u001b[0m\u001b[0;34m(\u001b[0m\u001b[0mkey\u001b[0m\u001b[0;34m)\u001b[0m\u001b[0;34m\u001b[0m\u001b[0m\n\u001b[0m\u001b[1;32m   3079\u001b[0m             \u001b[0;32mexcept\u001b[0m \u001b[0mKeyError\u001b[0m\u001b[0;34m:\u001b[0m\u001b[0;34m\u001b[0m\u001b[0m\n",
      "\u001b[0;32mpandas/_libs/index.pyx\u001b[0m in \u001b[0;36mpandas._libs.index.IndexEngine.get_loc\u001b[0;34m()\u001b[0m\n",
      "\u001b[0;32mpandas/_libs/index.pyx\u001b[0m in \u001b[0;36mpandas._libs.index.IndexEngine.get_loc\u001b[0;34m()\u001b[0m\n",
      "\u001b[0;32mpandas/_libs/hashtable_class_helper.pxi\u001b[0m in \u001b[0;36mpandas._libs.hashtable.PyObjectHashTable.get_item\u001b[0;34m()\u001b[0m\n",
      "\u001b[0;32mpandas/_libs/hashtable_class_helper.pxi\u001b[0m in \u001b[0;36mpandas._libs.hashtable.PyObjectHashTable.get_item\u001b[0;34m()\u001b[0m\n",
      "\u001b[0;31mKeyError\u001b[0m: 'contX'",
      "\nDuring handling of the above exception, another exception occurred:\n",
      "\u001b[0;31mKeyError\u001b[0m                                  Traceback (most recent call last)",
      "\u001b[0;32m<ipython-input-12-a066c1a24014>\u001b[0m in \u001b[0;36m<module>\u001b[0;34m()\u001b[0m\n\u001b[1;32m      1\u001b[0m hist_xcont(df_anc, figsize=(4,5), bins=[-0.03,0.08], bin_step=0.002, \n\u001b[0;32m----> 2\u001b[0;31m            xlim=[-0.03,0.08], ylim=[0,85], ec=\"k\", c=\"blue\", c2=\"maroon\", savepath=\"./figures/manuscript/histograms/hist_xcont.pdf\")\n\u001b[0m",
      "\u001b[0;32m<ipython-input-11-0a3868f42de3>\u001b[0m in \u001b[0;36mhist_xcont\u001b[0;34m(df_meta, figsize, c, ec, lw, bins, bin_step, xlim, ylim, savepath, c2, fs)\u001b[0m\n\u001b[1;32m      4\u001b[0m \u001b[0;34m\u001b[0m\u001b[0m\n\u001b[1;32m      5\u001b[0m     \u001b[0;31m### Calculate Cumulative Density Function\u001b[0m\u001b[0;34m\u001b[0m\u001b[0;34m\u001b[0m\u001b[0m\n\u001b[0;32m----> 6\u001b[0;31m     \u001b[0mx_cdf\u001b[0m \u001b[0;34m=\u001b[0m \u001b[0mnp\u001b[0m\u001b[0;34m.\u001b[0m\u001b[0msort\u001b[0m\u001b[0;34m(\u001b[0m\u001b[0mdf_meta\u001b[0m\u001b[0;34m[\u001b[0m\u001b[0;34m\"contX\"\u001b[0m\u001b[0;34m]\u001b[0m\u001b[0;34m)\u001b[0m\u001b[0;34m\u001b[0m\u001b[0m\n\u001b[0m\u001b[1;32m      7\u001b[0m     \u001b[0mx_cdf\u001b[0m \u001b[0;34m=\u001b[0m \u001b[0mx_cdf\u001b[0m\u001b[0;34m[\u001b[0m\u001b[0;34m~\u001b[0m\u001b[0mnp\u001b[0m\u001b[0;34m.\u001b[0m\u001b[0misnan\u001b[0m\u001b[0;34m(\u001b[0m\u001b[0mx_cdf\u001b[0m\u001b[0;34m)\u001b[0m\u001b[0;34m]\u001b[0m\u001b[0;34m\u001b[0m\u001b[0m\n\u001b[1;32m      8\u001b[0m     \u001b[0my_cdf\u001b[0m \u001b[0;34m=\u001b[0m \u001b[0mnp\u001b[0m\u001b[0;34m.\u001b[0m\u001b[0marray\u001b[0m\u001b[0;34m(\u001b[0m\u001b[0mrange\u001b[0m\u001b[0;34m(\u001b[0m\u001b[0mlen\u001b[0m\u001b[0;34m(\u001b[0m\u001b[0mx_cdf\u001b[0m\u001b[0;34m)\u001b[0m\u001b[0;34m)\u001b[0m\u001b[0;34m)\u001b[0m\u001b[0;34m/\u001b[0m\u001b[0mlen\u001b[0m\u001b[0;34m(\u001b[0m\u001b[0mx_cdf\u001b[0m\u001b[0;34m)\u001b[0m\u001b[0;34m\u001b[0m\u001b[0m\n",
      "\u001b[0;32m/software/python-3.7.0-el7-x86_64/lib/python3.7/site-packages/pandas/core/frame.py\u001b[0m in \u001b[0;36m__getitem__\u001b[0;34m(self, key)\u001b[0m\n\u001b[1;32m   2686\u001b[0m             \u001b[0;32mreturn\u001b[0m \u001b[0mself\u001b[0m\u001b[0;34m.\u001b[0m\u001b[0m_getitem_multilevel\u001b[0m\u001b[0;34m(\u001b[0m\u001b[0mkey\u001b[0m\u001b[0;34m)\u001b[0m\u001b[0;34m\u001b[0m\u001b[0m\n\u001b[1;32m   2687\u001b[0m         \u001b[0;32melse\u001b[0m\u001b[0;34m:\u001b[0m\u001b[0;34m\u001b[0m\u001b[0m\n\u001b[0;32m-> 2688\u001b[0;31m             \u001b[0;32mreturn\u001b[0m \u001b[0mself\u001b[0m\u001b[0;34m.\u001b[0m\u001b[0m_getitem_column\u001b[0m\u001b[0;34m(\u001b[0m\u001b[0mkey\u001b[0m\u001b[0;34m)\u001b[0m\u001b[0;34m\u001b[0m\u001b[0m\n\u001b[0m\u001b[1;32m   2689\u001b[0m \u001b[0;34m\u001b[0m\u001b[0m\n\u001b[1;32m   2690\u001b[0m     \u001b[0;32mdef\u001b[0m \u001b[0m_getitem_column\u001b[0m\u001b[0;34m(\u001b[0m\u001b[0mself\u001b[0m\u001b[0;34m,\u001b[0m \u001b[0mkey\u001b[0m\u001b[0;34m)\u001b[0m\u001b[0;34m:\u001b[0m\u001b[0;34m\u001b[0m\u001b[0m\n",
      "\u001b[0;32m/software/python-3.7.0-el7-x86_64/lib/python3.7/site-packages/pandas/core/frame.py\u001b[0m in \u001b[0;36m_getitem_column\u001b[0;34m(self, key)\u001b[0m\n\u001b[1;32m   2693\u001b[0m         \u001b[0;31m# get column\u001b[0m\u001b[0;34m\u001b[0m\u001b[0;34m\u001b[0m\u001b[0m\n\u001b[1;32m   2694\u001b[0m         \u001b[0;32mif\u001b[0m \u001b[0mself\u001b[0m\u001b[0;34m.\u001b[0m\u001b[0mcolumns\u001b[0m\u001b[0;34m.\u001b[0m\u001b[0mis_unique\u001b[0m\u001b[0;34m:\u001b[0m\u001b[0;34m\u001b[0m\u001b[0m\n\u001b[0;32m-> 2695\u001b[0;31m             \u001b[0;32mreturn\u001b[0m \u001b[0mself\u001b[0m\u001b[0;34m.\u001b[0m\u001b[0m_get_item_cache\u001b[0m\u001b[0;34m(\u001b[0m\u001b[0mkey\u001b[0m\u001b[0;34m)\u001b[0m\u001b[0;34m\u001b[0m\u001b[0m\n\u001b[0m\u001b[1;32m   2696\u001b[0m \u001b[0;34m\u001b[0m\u001b[0m\n\u001b[1;32m   2697\u001b[0m         \u001b[0;31m# duplicate columns & possible reduce dimensionality\u001b[0m\u001b[0;34m\u001b[0m\u001b[0;34m\u001b[0m\u001b[0m\n",
      "\u001b[0;32m/software/python-3.7.0-el7-x86_64/lib/python3.7/site-packages/pandas/core/generic.py\u001b[0m in \u001b[0;36m_get_item_cache\u001b[0;34m(self, item)\u001b[0m\n\u001b[1;32m   2487\u001b[0m         \u001b[0mres\u001b[0m \u001b[0;34m=\u001b[0m \u001b[0mcache\u001b[0m\u001b[0;34m.\u001b[0m\u001b[0mget\u001b[0m\u001b[0;34m(\u001b[0m\u001b[0mitem\u001b[0m\u001b[0;34m)\u001b[0m\u001b[0;34m\u001b[0m\u001b[0m\n\u001b[1;32m   2488\u001b[0m         \u001b[0;32mif\u001b[0m \u001b[0mres\u001b[0m \u001b[0;32mis\u001b[0m \u001b[0;32mNone\u001b[0m\u001b[0;34m:\u001b[0m\u001b[0;34m\u001b[0m\u001b[0m\n\u001b[0;32m-> 2489\u001b[0;31m             \u001b[0mvalues\u001b[0m \u001b[0;34m=\u001b[0m \u001b[0mself\u001b[0m\u001b[0;34m.\u001b[0m\u001b[0m_data\u001b[0m\u001b[0;34m.\u001b[0m\u001b[0mget\u001b[0m\u001b[0;34m(\u001b[0m\u001b[0mitem\u001b[0m\u001b[0;34m)\u001b[0m\u001b[0;34m\u001b[0m\u001b[0m\n\u001b[0m\u001b[1;32m   2490\u001b[0m             \u001b[0mres\u001b[0m \u001b[0;34m=\u001b[0m \u001b[0mself\u001b[0m\u001b[0;34m.\u001b[0m\u001b[0m_box_item_values\u001b[0m\u001b[0;34m(\u001b[0m\u001b[0mitem\u001b[0m\u001b[0;34m,\u001b[0m \u001b[0mvalues\u001b[0m\u001b[0;34m)\u001b[0m\u001b[0;34m\u001b[0m\u001b[0m\n\u001b[1;32m   2491\u001b[0m             \u001b[0mcache\u001b[0m\u001b[0;34m[\u001b[0m\u001b[0mitem\u001b[0m\u001b[0;34m]\u001b[0m \u001b[0;34m=\u001b[0m \u001b[0mres\u001b[0m\u001b[0;34m\u001b[0m\u001b[0m\n",
      "\u001b[0;32m/software/python-3.7.0-el7-x86_64/lib/python3.7/site-packages/pandas/core/internals.py\u001b[0m in \u001b[0;36mget\u001b[0;34m(self, item, fastpath)\u001b[0m\n\u001b[1;32m   4113\u001b[0m \u001b[0;34m\u001b[0m\u001b[0m\n\u001b[1;32m   4114\u001b[0m             \u001b[0;32mif\u001b[0m \u001b[0;32mnot\u001b[0m \u001b[0misna\u001b[0m\u001b[0;34m(\u001b[0m\u001b[0mitem\u001b[0m\u001b[0;34m)\u001b[0m\u001b[0;34m:\u001b[0m\u001b[0;34m\u001b[0m\u001b[0m\n\u001b[0;32m-> 4115\u001b[0;31m                 \u001b[0mloc\u001b[0m \u001b[0;34m=\u001b[0m \u001b[0mself\u001b[0m\u001b[0;34m.\u001b[0m\u001b[0mitems\u001b[0m\u001b[0;34m.\u001b[0m\u001b[0mget_loc\u001b[0m\u001b[0;34m(\u001b[0m\u001b[0mitem\u001b[0m\u001b[0;34m)\u001b[0m\u001b[0;34m\u001b[0m\u001b[0m\n\u001b[0m\u001b[1;32m   4116\u001b[0m             \u001b[0;32melse\u001b[0m\u001b[0;34m:\u001b[0m\u001b[0;34m\u001b[0m\u001b[0m\n\u001b[1;32m   4117\u001b[0m                 \u001b[0mindexer\u001b[0m \u001b[0;34m=\u001b[0m \u001b[0mnp\u001b[0m\u001b[0;34m.\u001b[0m\u001b[0marange\u001b[0m\u001b[0;34m(\u001b[0m\u001b[0mlen\u001b[0m\u001b[0;34m(\u001b[0m\u001b[0mself\u001b[0m\u001b[0;34m.\u001b[0m\u001b[0mitems\u001b[0m\u001b[0;34m)\u001b[0m\u001b[0;34m)\u001b[0m\u001b[0;34m[\u001b[0m\u001b[0misna\u001b[0m\u001b[0;34m(\u001b[0m\u001b[0mself\u001b[0m\u001b[0;34m.\u001b[0m\u001b[0mitems\u001b[0m\u001b[0;34m)\u001b[0m\u001b[0;34m]\u001b[0m\u001b[0;34m\u001b[0m\u001b[0m\n",
      "\u001b[0;32m/software/python-3.7.0-el7-x86_64/lib/python3.7/site-packages/pandas/core/indexes/base.py\u001b[0m in \u001b[0;36mget_loc\u001b[0;34m(self, key, method, tolerance)\u001b[0m\n\u001b[1;32m   3078\u001b[0m                 \u001b[0;32mreturn\u001b[0m \u001b[0mself\u001b[0m\u001b[0;34m.\u001b[0m\u001b[0m_engine\u001b[0m\u001b[0;34m.\u001b[0m\u001b[0mget_loc\u001b[0m\u001b[0;34m(\u001b[0m\u001b[0mkey\u001b[0m\u001b[0;34m)\u001b[0m\u001b[0;34m\u001b[0m\u001b[0m\n\u001b[1;32m   3079\u001b[0m             \u001b[0;32mexcept\u001b[0m \u001b[0mKeyError\u001b[0m\u001b[0;34m:\u001b[0m\u001b[0;34m\u001b[0m\u001b[0m\n\u001b[0;32m-> 3080\u001b[0;31m                 \u001b[0;32mreturn\u001b[0m \u001b[0mself\u001b[0m\u001b[0;34m.\u001b[0m\u001b[0m_engine\u001b[0m\u001b[0;34m.\u001b[0m\u001b[0mget_loc\u001b[0m\u001b[0;34m(\u001b[0m\u001b[0mself\u001b[0m\u001b[0;34m.\u001b[0m\u001b[0m_maybe_cast_indexer\u001b[0m\u001b[0;34m(\u001b[0m\u001b[0mkey\u001b[0m\u001b[0;34m)\u001b[0m\u001b[0;34m)\u001b[0m\u001b[0;34m\u001b[0m\u001b[0m\n\u001b[0m\u001b[1;32m   3081\u001b[0m \u001b[0;34m\u001b[0m\u001b[0m\n\u001b[1;32m   3082\u001b[0m         \u001b[0mindexer\u001b[0m \u001b[0;34m=\u001b[0m \u001b[0mself\u001b[0m\u001b[0;34m.\u001b[0m\u001b[0mget_indexer\u001b[0m\u001b[0;34m(\u001b[0m\u001b[0;34m[\u001b[0m\u001b[0mkey\u001b[0m\u001b[0;34m]\u001b[0m\u001b[0;34m,\u001b[0m \u001b[0mmethod\u001b[0m\u001b[0;34m=\u001b[0m\u001b[0mmethod\u001b[0m\u001b[0;34m,\u001b[0m \u001b[0mtolerance\u001b[0m\u001b[0;34m=\u001b[0m\u001b[0mtolerance\u001b[0m\u001b[0;34m)\u001b[0m\u001b[0;34m\u001b[0m\u001b[0m\n",
      "\u001b[0;32mpandas/_libs/index.pyx\u001b[0m in \u001b[0;36mpandas._libs.index.IndexEngine.get_loc\u001b[0;34m()\u001b[0m\n",
      "\u001b[0;32mpandas/_libs/index.pyx\u001b[0m in \u001b[0;36mpandas._libs.index.IndexEngine.get_loc\u001b[0;34m()\u001b[0m\n",
      "\u001b[0;32mpandas/_libs/hashtable_class_helper.pxi\u001b[0m in \u001b[0;36mpandas._libs.hashtable.PyObjectHashTable.get_item\u001b[0;34m()\u001b[0m\n",
      "\u001b[0;32mpandas/_libs/hashtable_class_helper.pxi\u001b[0m in \u001b[0;36mpandas._libs.hashtable.PyObjectHashTable.get_item\u001b[0;34m()\u001b[0m\n",
      "\u001b[0;31mKeyError\u001b[0m: 'contX'"
     ]
    }
   ],
   "source": [
    "hist_xcont(df_anc, figsize=(4,5), bins=[-0.03,0.08], bin_step=0.002, \n",
    "           xlim=[-0.03,0.08], ylim=[0,85], ec=\"k\", c=\"blue\", c2=\"maroon\", savepath=\"./figures/manuscript/histograms/hist_xcont.pdf\")"
   ]
  },
  {
   "cell_type": "markdown",
   "metadata": {},
   "source": [
    "# Do combined figure with histogram for Age & Coverage"
   ]
  },
  {
   "cell_type": "code",
   "execution_count": 9,
   "metadata": {},
   "outputs": [],
   "source": [
    "##### Functions to do parts of the Plot\n",
    "### Histogram Age\n",
    "### Worked into above function\n",
    "\n",
    "### Histogram \n",
    "def hist_coverage_vert(df_meta, ax=0, figsize=(8,4), c=\"blue\", ec=\"k\", lw=0.5, bins=[0,60], bin_step=1, \n",
    "                  xlim=[0,25], ylim=[0,500], savepath=\"\", c2=\"maroon\", fs=14, ax2label=False, lw_05=2):\n",
    "    \"\"\"Plot Histogram of Coverage\"\"\"\n",
    "    \n",
    "    ### Calculate Cumulative Density Function\n",
    "    x_cdf = np.sort(df_meta[\"mean_cov\"])\n",
    "    y_cdf = np.array(range(len(x_cdf)))/len(x_cdf)\n",
    " \n",
    "    bins = np.arange(bins[0], bins[1], bin_step)\n",
    "    \n",
    "    if ax==0:\n",
    "        plt.figure(figsize=figsize)\n",
    "        ax=plt.gca()\n",
    "    \n",
    "    ax=plt.gca()\n",
    "    plt.hist(df_meta[\"mean_cov\"], orientation=\"horizontal\",\n",
    "             color=c, ec=ec, bins=bins, lw=0.5)\n",
    "    ax.axhline(0.5, color=\"red\", lw=lw_05)\n",
    "    ax.set_ylim(ylim)\n",
    "    ax.set_xlim(xlim)\n",
    "    ax.set_xlabel(\"Count\", fontsize=fs)\n",
    "    ax.set_yticks([])\n",
    " \n",
    "    ax2 = ax.twiny()\n",
    "    ax2.plot(y_cdf, x_cdf, c=c2, lw=1.4)\n",
    "    if ax2label:\n",
    "        ax2.set_xlabel(\"CDF\", color=c2, rotation=0, fontsize=fs)\n",
    "        plt.setp(ax2.get_xticklabels(), color=c2)\n",
    "    else:\n",
    "        ax2.set_xticks([0.5, 1.0])\n",
    "        plt.setp(ax2.get_xticklabels(), color=c2)\n",
    "        #ax2.set_xticklabels([0.5, 1.0])\n",
    "    ax2.set_xlim([0,1])\n",
    "    \n",
    "\n",
    "### Combined Figure\n",
    "def scatter_age_cov(df_meta, ax, s=20, ec=\"k\", c=\"blue\", xlim=[0, 25000], ylim=[0,50],\n",
    "                    alpha=1.0, xlabel=\"Age [years BP]\", ylabel=\"Average Coverage (1240k)\", fs=10):\n",
    "    \"\"\"Plots Scatter Plot Coverage vrs Age.\n",
    "    df_meta: Gets input data from there\n",
    "    ax: Axis to plot on\"\"\"\n",
    "    ax.scatter(df_meta[\"age\"], df_meta[\"mean_cov\"], ec=\"k\", c=c, s=s, alpha=alpha)\n",
    "    ax.set_xlim(xlim)\n",
    "    ax.set_ylim(ylim)\n",
    "    ax.set_xlabel(xlabel, fontsize=fs)\n",
    "    ax.set_ylabel(ylabel, fontsize=fs)\n",
    "\n",
    "    ax.text(x=0.62, y=0.93, \n",
    "        s=f\"Total Number ancients: {len(df_meta)}\", transform=ax.transAxes, fontsize=fs)"
   ]
  },
  {
   "cell_type": "code",
   "execution_count": 58,
   "metadata": {},
   "outputs": [],
   "source": [
    "### Call All Subfigures\n",
    "def plot_anc_panel(df_meta, figsize=(9,4), fs=10, width_ratios = [6, 1],\n",
    "                   height_ratios = [1, 3], wspace = 0.02, hspace = 0.04,\n",
    "                   xlim_a = [-150, 20000], ylim_c = [-0.4, 10], s=18, alpha=1.0,\n",
    "                   labelpad_age = 20, c=\"DeepPink\", c2=\"coral\", savepath=\"\"):\n",
    "    \"\"\"Plot Panel with scatter plot of coverage vrs age, and the summary statistics\"\"\"\n",
    "    fig=plt.figure(figsize=figsize)\n",
    "    gs = gridspec.GridSpec(2, 2, width_ratios=width_ratios, height_ratios=height_ratios, figure=fig)\n",
    "    gs.update(wspace=wspace, hspace=hspace) # set the spacing between axes\n",
    "\n",
    "    ax_scatter = plt.subplot(gs[1,0])\n",
    "    scatter_age_cov(df_meta, ax_scatter, xlim=xlim_a, ylim=ylim_c, \n",
    "                    c=c, fs=fs, s=s, alpha=alpha)\n",
    "\n",
    "    ax_age_hist = plt.subplot(gs[0,0])\n",
    "    hist_ages(df_meta, ax_age_hist, xlim=xlim_a, labelpad=labelpad_age, text=False, \n",
    "              c=c, c2=c2, show=False, fs=fs)\n",
    "\n",
    "    ax_cov_hist = plt.subplot(gs[1,1])\n",
    "    hist_coverage_vert(df_meta, ax_cov_hist, xlim=[0,500], ylim=ylim_c, bin_step=0.25, \n",
    "                       c=c, c2=c2, fs=fs)\n",
    "\n",
    "    ### Some final touches\n",
    "    ax_scatter.xaxis.set_major_locator(MaxNLocator(prune='upper'))\n",
    "    ax_scatter.yaxis.set_major_locator(MaxNLocator(prune='upper'))\n",
    "    \n",
    "    if len(savepath)>0:\n",
    "        plt.savefig(savepath, bbox_inches ='tight', pad_inches = 0, dpi=300)\n",
    "        print(f\"Saved to {savepath}\")\n",
    "        \n",
    "    plt.show()"
   ]
  },
  {
   "cell_type": "code",
   "execution_count": 69,
   "metadata": {},
   "outputs": [
    {
     "name": "stdout",
     "output_type": "stream",
     "text": [
      "Saved to ./figures/manuscript/histograms/panel_hist.pdf\n"
     ]
    },
    {
     "data": {
      "image/png": "[encoded data removed]",
      "text/plain": [
       "<Figure size 648x288 with 5 Axes>"
      ]
     },
     "metadata": {},
     "output_type": "display_data"
    }
   ],
   "source": [
    "plot_anc_panel(df_meta, savepath=\"./figures/manuscript/histograms/panel_hist.pdf\", \n",
    "               c=\"gray\", alpha=0.5)"
   ]
  },
  {
   "cell_type": "markdown",
   "metadata": {},
   "source": [
    "# Area 51\n",
    "Test Code here"
   ]
  },
  {
   "cell_type": "code",
   "execution_count": 21,
   "metadata": {},
   "outputs": [
    {
     "data": {
      "text/plain": [
       "nan"
      ]
     },
     "execution_count": 21,
     "metadata": {},
     "output_type": "execute_result"
    }
   ],
   "source": [
    "np.quantile(df_meta[\"mean_cov\"].values, q=0.5)"
   ]
  },
  {
   "cell_type": "code",
   "execution_count": 39,
   "metadata": {},
   "outputs": [
    {
     "data": {
      "text/plain": [
       "iid                       I2933\n",
       "lat                       58.74\n",
       "lon                      -2.916\n",
       "age                        4898\n",
       "study          OlaldeNature2018\n",
       "clst                 Scotland_N\n",
       "mean_cov                  4.261\n",
       "n_cov_snp                736264\n",
       "include_alt                   1\n",
       "sex                           M\n",
       "contX                  0.000895\n",
       "Name: 1276, dtype: object"
      ]
     },
     "execution_count": 39,
     "metadata": {},
     "output_type": "execute_result"
    }
   ],
   "source": [
    "df_meta.sort_values(by=\"mean_cov\").iloc[1900,:]"
   ]
  },
  {
   "cell_type": "code",
   "execution_count": 28,
   "metadata": {},
   "outputs": [
    {
     "data": {
      "text/plain": [
       "2106"
      ]
     },
     "execution_count": 28,
     "metadata": {},
     "output_type": "execute_result"
    }
   ],
   "source": [
    "len(df_meta)"
   ]
  },
  {
   "cell_type": "code",
   "execution_count": null,
   "metadata": {},
   "outputs": [],
   "source": []
  }
 ],
 "metadata": {
  "kernelspec": {
   "display_name": "Python 3",
   "language": "python",
   "name": "python3"
  },
  "language_info": {
   "codemirror_mode": {
    "name": "ipython",
    "version": 3
   },
   "file_extension": ".py",
   "mimetype": "text/x-python",
   "name": "python",
   "nbconvert_exporter": "python",
   "pygments_lexer": "ipython3",
   "version": "3.7.0"
  }
 },
 "nbformat": 4,
 "nbformat_minor": 2
}
