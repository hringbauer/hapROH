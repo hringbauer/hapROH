{
 "cells": [
  {
   "cell_type": "markdown",
   "metadata": {},
   "source": [
    "# Histogram of Coverage and X Contamination,\n",
    "using David Reichs ancient data from their annotation file.\n",
    "Plot and save as .pdfs into ./figures/"
   ]
  },
  {
   "cell_type": "code",
   "execution_count": 7,
   "metadata": {},
   "outputs": [
    {
     "name": "stdout",
     "output_type": "stream",
     "text": [
      "midway2-0401.rcc.local\n",
      "Midway jnovmbre partition detected.\n",
      "/project2/jnovembre/hringbauer/HAPSBURG\n",
      "CPU Count: 28\n"
     ]
    }
   ],
   "source": [
    "import pandas as pd\n",
    "import numpy as np\n",
    "import matplotlib.pyplot as plt\n",
    "import matplotlib.cm as cm\n",
    "from matplotlib import gridspec\n",
    "import socket\n",
    "import os as os\n",
    "import sys as sys\n",
    "import multiprocessing as mp\n",
    "import matplotlib.colors as cls\n",
    "from mpl_toolkits.basemap import Basemap\n",
    "from matplotlib.patches import Polygon\n",
    "from matplotlib.collections import PatchCollection\n",
    "\n",
    "socket_name = socket.gethostname()\n",
    "print(socket_name)\n",
    "if socket_name == \"VioletQueen\":\n",
    "    path = \"/home/harald/git/HAPSBURG/\"   # The Path on Harald's machine\n",
    "elif socket_name.startswith(\"midway2\"):\n",
    "    print(\"Midway jnovmbre partition detected.\")\n",
    "    path = \"/project2/jnovembre/hringbauer/HAPSBURG/\"  # The Path on Midway Cluster\n",
    "else: \n",
    "    raise RuntimeWarning(\"Not compatible machine. Check!!\")\n",
    "    \n",
    "os.chdir(path)  # Set the right Path (in line with Atom default)\n",
    "\n",
    "print(os.getcwd()) # Show the current working directory. Should be HAPSBURG/Notebooks/ParallelRuns\n",
    "print(f\"CPU Count: {mp.cpu_count()}\")"
   ]
  },
  {
   "cell_type": "markdown",
   "metadata": {},
   "source": [
    "# Functions to Load Data\n",
    "Load from Eigenstrat Annotation File of D. Reich"
   ]
  },
  {
   "cell_type": "code",
   "execution_count": 177,
   "metadata": {},
   "outputs": [],
   "source": [
    "def load_eigenstrat_anno(path=\"./Data/ReichLabEigenstrat/Raw/v37.2.1240K.clean4.anno\", anc_only=True):\n",
    "    \"\"\"Load annotated Eigenstrat (from D. Reich's group)\"\"\"\n",
    "    df_anno = pd.read_csv(path, sep=\"\\t\", engine=\"python\")\n",
    "    coverage = pd.to_numeric(df_anno[\"Coverage\"], errors='coerce')\n",
    "    df_anno[\"coverage\"]=coverage\n",
    "\n",
    "    # Convert the Ages as well\n",
    "    ages = df_anno[\"Average of 95.4% date range in calBP (defined as 1950 CE)  \"]\n",
    "    df_anno[\"ages\"] = pd.to_numeric(ages, errors='coerce')  \n",
    "    \n",
    "    # Convert X Contamination:\n",
    "    contX = df_anno[\"Xcontam point estimate if male and >=200 SNPs\"]\n",
    "    df_anno[\"contX\"] = pd.to_numeric(contX, errors='coerce')\n",
    "    \n",
    "    ### Convert Longitude and Latitude\n",
    "    lat = df_anno[\"Lat.\"]\n",
    "    lon = df_anno[\"Long.\"]\n",
    "    df_anno[\"lat\"] = pd.to_numeric(lat, errors='coerce')\n",
    "    df_anno[\"lon\"] = pd.to_numeric(lon, errors='coerce')\n",
    "    df_anno[\"iid\"] = df_anno[\"Instance ID\"]\n",
    "    \n",
    "    df_anc = df_anno[df_anno[\"ages\"]>0]\n",
    "\n",
    "    print(f\"Loaded {len(df_anc)} / {len(df_anno)} ancient Indivdiuals.\")\n",
    "    print(f\"Without Coverage: {np.sum(np.isnan(coverage))}\")\n",
    "    if anc_only:\n",
    "        df_anno=df_anc\n",
    "    return df_anno\n",
    "\n",
    "\n",
    "def produce_meta_csv(df_anc, save_path = \"./Data/ReichLabEigenstrat/Raw/meta.csv\"):\n",
    "    \"\"\"Produce a formatted meta .csv in my style, to streamline\n",
    "    further processing (and use same machinery)\"\"\"\n",
    "    ### Transfer the include_alt column\n",
    "    asmts = df_anc[\"ASSESSMENT\"]\n",
    "    good = asmts.str.startswith(\"PASS\") # the ones that pass\n",
    "    bad = asmts.str.startswith(\"QUES\")  # The ones that are \"questionable\" contamination\n",
    "    \n",
    "    assert(len(asmts)==np.sum(good) + np.sum(bad))\n",
    "\n",
    "    include = np.zeros(len(asmts), dtype=\"int8\")\n",
    "    include[good]=1\n",
    "    df_anc[\"ASSESSMENT\"] = include # Save column\n",
    "\n",
    "    df_save = df_anc[[\"iid\", \"lat\", \"lon\", \"ages\", \"Publication\", \"Group ID\", \"coverage\", \"SNPs hit on autosomes\", \n",
    "                      \"ASSESSMENT\", \"Sex\", \"contX\"]]\n",
    "    df_save.columns =[\"iid\", \"lat\", \"lon\", \"age\", \"study\", \"clst\", \"mean_cov\", \"n_cov_snp\", \"include_alt\", \"sex\", \"contX\"]\n",
    "    if len(save_path)>0:\n",
    "        df_save.to_csv(save_path, index=False)\n",
    "        print(f\"Saved to {save_path}\")\n",
    "    return df_save"
   ]
  },
  {
   "cell_type": "code",
   "execution_count": 178,
   "metadata": {},
   "outputs": [
    {
     "name": "stdout",
     "output_type": "stream",
     "text": [
      "Loaded 2106 / 5081 ancient Indivdiuals.\n",
      "Without Coverage: 2581\n"
     ]
    }
   ],
   "source": [
    "df_anc = load_eigenstrat_anno(path = \"./Data/ReichLabEigenstrat/Raw/v37.2.1240K.clean4.anno\", anc_only=True)\n",
    "df_meta = produce_meta_csv(df_anc, save_path=\"\")\n",
    "#path = \"./Data/ReichLabEigenstrat/Raw/meta.csv\""
   ]
  },
  {
   "cell_type": "markdown",
   "metadata": {},
   "source": [
    "### Histogram of Ages"
   ]
  },
  {
   "cell_type": "code",
   "execution_count": 262,
   "metadata": {},
   "outputs": [],
   "source": [
    "def hist_ages(df_meta, fs=14, lim=[0,3.5e4], bin_step=250, figsize=(6,4), xlim=[], ylim=[0,230], \n",
    "              lw=1.0, ec=\"k\", c=\"blue\", savepath=\"\", c2=\"maroon\"):\n",
    "    \"\"\"Do Histogram of Sample Ages\"\"\"\n",
    "    ### Calculate Cumulative Density Function\n",
    "    x_cdf = np.sort(df_meta[\"age\"])\n",
    "    x_cdf = x_cdf[~np.isnan(x_cdf)]\n",
    "    y_cdf = np.array(range(len(x_cdf)))/len(x_cdf)\n",
    "    \n",
    "    bins = np.arange(lim[0], lim[1], bin_step) - 0.5 # Make 200 year bins\n",
    "    ages = df_meta[\"age\"]\n",
    "\n",
    "    plt.figure(figsize=figsize)\n",
    "    ax=plt.gca()\n",
    "    plt.hist(ages, color=c, ec=ec, bins=bins, lw=lw)\n",
    "    #ax.axvline(0.5, color=\"red\", lw=2)\n",
    "    plt.ylim(ylim)\n",
    "    if len(xlim)==0:\n",
    "        xlim=lim\n",
    "    ax.set_xlim(xlim)\n",
    "    plt.xlabel(\"Avg. Age [years BP]\", fontsize=fs)\n",
    "    plt.ylabel(\"Count\", fontsize=fs)\n",
    "    ax.text(x=0.37, y=0.8, \n",
    "            s=f\"Total Number ancients: {len(df_anc)}\", transform=ax.transAxes, fontsize=fs)\n",
    "    \n",
    "    ax2 = ax.twinx()\n",
    "    ax2.plot(x_cdf, y_cdf, c=c2, lw=1.4)\n",
    "    ax2.set_ylabel(\"CDF\", color=c2, rotation=270, fontsize=fs)\n",
    "    ax2.set_ylim([0,1])\n",
    "    plt.setp(ax2.get_yticklabels(), color=c2)\n",
    "    \n",
    "    if len(savepath)>0:\n",
    "        plt.savefig(savepath, bbox_inches ='tight', pad_inches = 0, dpi=300)\n",
    "        print(f\"Saved to {savepath}\")\n",
    "    plt.show()"
   ]
  },
  {
   "cell_type": "code",
   "execution_count": 263,
   "metadata": {},
   "outputs": [
    {
     "name": "stdout",
     "output_type": "stream",
     "text": [
      "Saved to ./figures/manuscript/histograms/hist_ages.pdf\n"
     ]
    },
    {
     "data": {
      "image/png": "[encoded data removed]",
      "text/plain": [
       "<Figure size 432x360 with 2 Axes>"
      ]
     },
     "metadata": {
      "needs_background": "light"
     },
     "output_type": "display_data"
    }
   ],
   "source": [
    "hist_ages(df_meta, figsize=(6,5), ec=\"k\", c=\"blue\", lw=0.5, ylim=[0,210], \n",
    "          lim=[0,2.5e4], savepath=\"./figures/manuscript/histograms/hist_ages.pdf\")"
   ]
  },
  {
   "cell_type": "markdown",
   "metadata": {},
   "source": [
    "### Histogram of Coverage 1240k SNPs"
   ]
  },
  {
   "cell_type": "code",
   "execution_count": 256,
   "metadata": {},
   "outputs": [],
   "source": [
    "def hist_coverage(df_meta, figsize=(8,4), c=\"blue\", ec=\"k\", lw=0.5, bins=[0,60], bin_step=1, \n",
    "                  xlim=[0,25], ylim=[0,500], savepath=\"\", c2=\"maroon\", fs=14):\n",
    "    \"\"\"Plot Histogram of Coverage\"\"\"\n",
    "    \n",
    "    ### Calculate Cumulative Density Function\n",
    "    x_cdf = np.sort(df_meta[\"mean_cov\"])\n",
    "    y_cdf = np.array(range(len(x_cdf)))/len(x_cdf)\n",
    " \n",
    "    bins = np.arange(bins[0], bins[1], bin_step)\n",
    "\n",
    "    plt.figure(figsize=figsize)\n",
    "    \n",
    "    ax=plt.gca()\n",
    "    plt.hist(df_anc[\"coverage\"], color=c, ec=ec, bins=bins, lw=0.5)\n",
    "    ax.axvline(0.5, color=\"red\", lw=1)\n",
    "    ax.set_ylim(ylim)\n",
    "    ax.set_xlim(xlim)\n",
    "    plt.xlabel(f\"Avg. Coverage 1240k (bin width: {bins[1]-bins[0]:.2f})\", fontsize=fs)\n",
    "    plt.ylabel(\"Count\", fontsize=fs)\n",
    "    #ax.text(x=0.27, y=0.8, \n",
    "    #        s=f\"Total Number ancients: {len(df_meta)}\", transform=ax.transAxes, fontsize=fs)\n",
    " \n",
    "    ax2 = ax.twinx()\n",
    "    ax2.plot(x_cdf, y_cdf, c=c2, lw=1.4)\n",
    "    ax2.set_ylabel(\"CDF\", color=c2, rotation=270, fontsize=fs)\n",
    "    ax2.set_ylim([0,1])\n",
    "    plt.setp(ax2.get_yticklabels(), color=c2)\n",
    "    \n",
    "    if len(savepath)>0:\n",
    "        plt.savefig(savepath, bbox_inches ='tight', pad_inches = 0, dpi=300)\n",
    "        print(f\"Saved to {savepath}\")\n",
    "    plt.show()"
   ]
  },
  {
   "cell_type": "code",
   "execution_count": 261,
   "metadata": {},
   "outputs": [
    {
     "name": "stdout",
     "output_type": "stream",
     "text": [
      "Saved to ./figures/manuscript/histograms/hist_covs.pdf\n"
     ]
    },
    {
     "data": {
      "image/png": "[encoded data removed]",
      "text/plain": [
       "<Figure size 360x360 with 2 Axes>"
      ]
     },
     "metadata": {
      "needs_background": "light"
     },
     "output_type": "display_data"
    }
   ],
   "source": [
    "hist_coverage(df_meta, figsize=(5,5), bin_step=0.25, xlim=[0,12], ec=\"k\", c=\"blue\", \n",
    "              c2=\"maroon\", savepath=\"./figures/manuscript/histograms/hist_covs.pdf\")"
   ]
  },
  {
   "cell_type": "markdown",
   "metadata": {},
   "source": [
    "### Histogram of X Contamination"
   ]
  },
  {
   "cell_type": "code",
   "execution_count": 259,
   "metadata": {},
   "outputs": [],
   "source": [
    "def hist_xcont(df_meta, figsize=(8,4), c=\"blue\", ec=\"k\", lw=0.5, bins=[0,60], bin_step=1, \n",
    "                  xlim=[0,1], ylim=[0,200], savepath=\"\", c2=\"maroon\", fs=14):\n",
    "    \"\"\"Plot Histogram of Coverage\"\"\"\n",
    "    \n",
    "    ### Calculate Cumulative Density Function\n",
    "    x_cdf = np.sort(df_meta[\"contX\"])\n",
    "    x_cdf = x_cdf[~np.isnan(x_cdf)]\n",
    "    y_cdf = np.array(range(len(x_cdf)))/len(x_cdf)\n",
    "\n",
    "    bins = np.arange(bins[0], bins[1], bin_step)\n",
    "\n",
    "    plt.figure(figsize=figsize)\n",
    "    \n",
    "    ax=plt.gca()\n",
    "    plt.hist(df_meta[\"contX\"], color=c, ec=ec, bins=bins, lw=lw)\n",
    "    \n",
    "    ax.axvline(0.5, color=\"red\", lw=1)\n",
    "    ax.set_ylim(ylim)\n",
    "    ax.set_xlim(xlim)\n",
    "    plt.xlabel(f\"Estimated X Cont. (bin width: {bins[1]-bins[0]:.3f})\", fontsize=fs)\n",
    "    plt.ylabel(\"Count\", fontsize=fs)\n",
    "\n",
    "    ax2 = ax.twinx()\n",
    "    ax2.plot(x_cdf, y_cdf, c=c2, lw=1.4)\n",
    "    ax2.set_ylabel(\"CDF\", color=c2, rotation=270, fontsize=fs)\n",
    "    ax2.set_ylim([0,1])\n",
    "    plt.setp(ax2.get_yticklabels(), color=c2)\n",
    "    \n",
    "    if len(savepath)>0:\n",
    "        plt.savefig(savepath, bbox_inches ='tight', pad_inches = 0, dpi=300)\n",
    "        print(f\"Saved to {savepath}\")\n",
    "    plt.show()"
   ]
  },
  {
   "cell_type": "code",
   "execution_count": 260,
   "metadata": {},
   "outputs": [
    {
     "name": "stdout",
     "output_type": "stream",
     "text": [
      "Saved to ./figures/manuscript/histograms/hist_xcont.pdf\n"
     ]
    },
    {
     "data": {
      "image/png": "[encoded data removed]",
      "text/plain": [
       "<Figure size 360x360 with 2 Axes>"
      ]
     },
     "metadata": {
      "needs_background": "light"
     },
     "output_type": "display_data"
    }
   ],
   "source": [
    "hist_xcont(df_meta, figsize=(5,5), bins=[-0.03,0.08], bin_step=0.002, \n",
    "           xlim=[-0.03,0.08], ylim=[0,85], ec=\"k\", c=\"blue\", c2=\"maroon\", savepath=\"./figures/manuscript/histograms/hist_xcont.pdf\")"
   ]
  },
  {
   "cell_type": "markdown",
   "metadata": {},
   "source": [
    "### Combine these figures here"
   ]
  },
  {
   "cell_type": "markdown",
   "metadata": {},
   "source": [
    "# Area 51\n",
    "Test Code here"
   ]
  },
  {
   "cell_type": "code",
   "execution_count": null,
   "metadata": {},
   "outputs": [],
   "source": []
  }
 ],
 "metadata": {
  "kernelspec": {
   "display_name": "Python 3",
   "language": "python",
   "name": "python3"
  },
  "language_info": {
   "codemirror_mode": {
    "name": "ipython",
    "version": 3
   },
   "file_extension": ".py",
   "mimetype": "text/x-python",
   "name": "python",
   "nbconvert_exporter": "python",
   "pygments_lexer": "ipython3",
   "version": "3.7.0"
  }
 },
 "nbformat": 4,
 "nbformat_minor": 2
}
