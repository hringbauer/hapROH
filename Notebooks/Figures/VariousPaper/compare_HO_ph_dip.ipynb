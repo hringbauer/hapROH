{
 "cells": [
  {
   "cell_type": "code",
   "execution_count": 1,
   "metadata": {},
   "outputs": [
    {
     "name": "stdout",
     "output_type": "stream",
     "text": [
      "midway2-0401.rcc.local\n",
      "Midway jnovmbre partition detected.\n",
      "/project2/jnovembre/hringbauer/HAPSBURG\n",
      "CPU Count: 28\n"
     ]
    }
   ],
   "source": [
    "import numpy as np\n",
    "import matplotlib.pyplot as plt\n",
    "import matplotlib.colors as colors\n",
    "import pandas as pd\n",
    "import socket\n",
    "import os as os\n",
    "import sys as sys\n",
    "import multiprocessing as mp\n",
    "from scipy import stats\n",
    "\n",
    "socket_name = socket.gethostname()\n",
    "print(socket_name)\n",
    "\n",
    "if socket_name == \"VioletQueen\":\n",
    "    path = \"/home/harald/git/HAPSBURG/\"   # The Path on Harald's machine\n",
    "\n",
    "elif socket_name.startswith(\"midway2\"):\n",
    "    print(\"Midway jnovmbre partition detected.\")\n",
    "    path = \"/project2/jnovembre/hringbauer/HAPSBURG/\"  # The Path on Midway Cluster\n",
    "\n",
    "else: \n",
    "    raise RuntimeWarning(\"Not compatible machine. Check!!\")\n",
    "    \n",
    "os.chdir(path)  # Set the right Path (in line with Atom default)\n",
    "print(os.getcwd()) # Show the current working directory. Should be HAPSBURG/Notebooks/ParallelRuns\n",
    "print(f\"CPU Count: {mp.cpu_count()}\")\n",
    "\n",
    "sys.path.append(\"./package/\")  # Since now we are in the Root Directory\n",
    "from hapsburg.PackagesSupport.pp_individual_roh_csvs import post_process_roh_df, merge_called_blocks, individual_roh_statistic  # Import PP Functions\n",
    "#from createMosaicsMulti import Mosaic_1000G_Multi  # Import the object that can create the Multiruns\n",
    "\n",
    "### For Arial Font\n",
    "from matplotlib import rcParams\n",
    "rcParams['font.family'] = 'sans-serif'   # Set the defaul\n",
    "rcParams['font.sans-serif'] = ['Arial']  # Make sure to have the font installed (it is on cluster for Harald)"
   ]
  },
  {
   "cell_type": "code",
   "execution_count": 2,
   "metadata": {},
   "outputs": [],
   "source": [
    "def merge_to_one_df(df1, df2, on=\"iid\", min_snps=400000, max_age=1e6, only_inc_alt=True):\n",
    "    \"\"\"Merge Two Dataframes to one\"\"\"\n",
    "    \n",
    "    df_merge = pd.merge(df1, df2, on=\"iid\")\n",
    "    print(f\"Merged to {len(df_merge)} Inds. (from {len(df1)} and {len(df2)}) resp.\")\n",
    "    \n",
    "    ### Filter to High Coverage Individuals\n",
    "    df_merge = df_merge[df_merge[\"n_cov_snp_x\"] > min_snps]\n",
    "    df_merge = df_merge[df_merge[\"age_x\"] < max_age]\n",
    "    if only_inc_alt:\n",
    "        df_merge = df_merge[df_merge[\"include_alt_x\"] > 0]\n",
    "    print(f\"Further filtered to {len(df_merge)} Individuals\")\n",
    "    return df_merge\n",
    "\n",
    "def plot_correlation_roh(df_merge, xlim=[0,380], ylim=[0,380], savepath=\"\", \n",
    "                         col1=\"sum_roh>4_y\", col2=\"sum_roh>4_x\", c_col=\"age_x\", \n",
    "                         barlabel=\"Age [y BP]\", figsize=(8,8), pad=20,\n",
    "                         c_line=\"gray\", lw=0.2, s=20, fs=14, fs_t=8, padax=4, \n",
    "                         vrange=[0.3,30], cmap=\"viridis\", cb_pad=0.0,\n",
    "                         cb_coords=[0.27, 0.8, 0.5, 0.05], pad_t1=4, \n",
    "                         tickwidth=2, ticklength=6, roh_bin=\">4\",\n",
    "                         xlabel=\"Sum Full Readcount Data (cM)\",\n",
    "                         ylabel=\"Sum Pseudohaploid Data only (cM)\"):\n",
    "    \"\"\"Plot correlation between ROH inferred on pseudo-haploid\n",
    "    and on Readcount data. Print Pearson product-moment correlation coefficient\"\"\"\n",
    "    r = np.corrcoef(df_merge[col1], df_merge[col2])[0,1]\n",
    "\n",
    "    fig=plt.figure(figsize=figsize)\n",
    "    ax=plt.gca()\n",
    "    sc=ax.scatter(df_merge[col1], df_merge[col2], c=df_merge[c_col],\n",
    "                  s=s, ec=\"k\", lw=lw, zorder=1, norm=colors.Normalize(vmin=vrange[0], vmax=vrange[1]),\n",
    "                  cmap=cmap) #LogNorm\n",
    "    ax.plot(xlim, xlim, c=c_line, alpha=0.8, zorder=0)\n",
    "    ax.set_xlabel(xlabel, fontsize=fs, labelpad=padax)\n",
    "    ax.set_ylabel(ylabel, fontsize=fs, labelpad=padax)\n",
    "    ax.set_xlim(xlim)\n",
    "    ax.set_ylim(ylim)\n",
    "    ax.tick_params(labelsize=fs_t, width=tickwidth, length=ticklength, pad=pad_t1)\n",
    "    text1=f\"$r={r:.3f}$\"\n",
    "    text2=f\"Inferred Sum ROH{roh_bin}cm \\n for {len(df_merge)} HO individuals\"\n",
    "    ax.text(0.5, 0.02, text1, transform=ax.transAxes, fontsize=fs)\n",
    "    ax.text(0.04, 0.87, text2, transform=ax.transAxes, fontsize=fs)\n",
    "    \n",
    "    # Do Colorbar Shennenigans\n",
    "    cax = fig.add_axes(cb_coords)\n",
    "    #fig.colorbar(im, cax=cax, orientation='horizontal')\n",
    "    cb = fig.colorbar(sc, cax=cax, orientation='vertical', extend=\"max\", pad=cb_pad)\n",
    "    cb.ax.set_ylabel(barlabel, rotation=270, fontsize=fs, labelpad=pad)\n",
    "    cb.ax.tick_params(labelsize=fs_t, direction=\"in\")\n",
    "    cb.ax.yaxis.set_ticks_position('left')\n",
    "    cb.ax.tick_params(width=tickwidth, length=ticklength)\n",
    "    \n",
    "    if len(savepath)>0:\n",
    "        plt.savefig(savepath, dpi=600) # bbox_inches = 'tight', pad_inches = 0\n",
    "        print(f\"Saved to {savepath}\")\n",
    "    plt.show()"
   ]
  },
  {
   "cell_type": "markdown",
   "metadata": {},
   "source": [
    "# Analyze Long ROH in pseudo-haploid and diploid data"
   ]
  },
  {
   "cell_type": "code",
   "execution_count": 72,
   "metadata": {},
   "outputs": [
    {
     "name": "stdout",
     "output_type": "stream",
     "text": [
      "Merged to 599 Inds. (from 599 and 599) resp.\n",
      "Further filtered to 599 Individuals\n"
     ]
    }
   ],
   "source": [
    "df_dip = pd.read_csv(\"./Empirical/HO/combined_roh_dip05.tsv\", sep=\"\\t\")\n",
    "df_hap = pd.read_csv(\"./Empirical/HO/combined_roh_hap05.tsv\", sep=\"\\t\")\n",
    "df_merge = merge_to_one_df(df_dip, df_hap, on=\"iid\", min_snps=400000, only_inc_alt=False)"
   ]
  },
  {
   "cell_type": "code",
   "execution_count": 73,
   "metadata": {},
   "outputs": [
    {
     "name": "stdout",
     "output_type": "stream",
     "text": [
      "Saved to ./figures/manuscript/supplement/HO_ROH/HO_hap_dip.png\n"
     ]
    },
    {
     "data": {
      "image/png": "[encoded data removed]",
      "text/plain": [
       "<Figure size 162x162 with 2 Axes>"
      ]
     },
     "metadata": {
      "needs_background": "light"
     },
     "output_type": "display_data"
    }
   ],
   "source": [
    "plot_correlation_roh(df_merge, xlim=[0,550], ylim=[0,550], c_col=\"lat_x\",padax=0.5,\n",
    "                     lw=0.2, s=10, figsize=(2.25, 2.25), fs=6, fs_t=6, pad=6, cb_pad=-0.2,\n",
    "                     barlabel=\"Latitude\", vrange=[-20,60],\n",
    "                     cb_coords = [0.79, 0.16, 0.05, 0.55], tickwidth=0.8, roh_bin=\" > 8\",\n",
    "                     ticklength=2, \n",
    "                     col1=\"sum_roh>8_x\", col2=\"sum_roh>8_y\", pad_t1=0.7,\n",
    "                     xlabel=\"Diploid Genotype Calls (cM)\",\n",
    "                     ylabel=\"Haploid Genotype Calls (cM)\",\n",
    "                     savepath = \"./figures/manuscript/supplement/HO_ROH/HO_hap_dip.png\")"
   ]
  },
  {
   "cell_type": "markdown",
   "metadata": {},
   "source": [
    "### Remove the Populations of the Outliers"
   ]
  },
  {
   "cell_type": "code",
   "execution_count": 7,
   "metadata": {},
   "outputs": [
    {
     "name": "stdout",
     "output_type": "stream",
     "text": [
      "Merged to 599 Inds. (from 599 and 599) resp.\n",
      "Further filtered to 599 Individuals\n"
     ]
    }
   ],
   "source": [
    "df_dip = pd.read_csv(\"./Empirical/HO/combined_roh_dip05.tsv\", sep=\"\\t\")\n",
    "df_hap = pd.read_csv(\"./Empirical/HO/combined_roh_hap05.tsv\", sep=\"\\t\")\n",
    "df_merge = merge_to_one_df(df_dip, df_hap, on=\"iid\", min_snps=400000, only_inc_alt=False)"
   ]
  },
  {
   "cell_type": "code",
   "execution_count": 8,
   "metadata": {},
   "outputs": [],
   "source": [
    "pops_remove = ['Biaka','Ethiopian_Jew', \n",
    "               'Hadza', 'Ju_hoan_North',\n",
    "               'Khomani', 'Mbuti', 'Somali']"
   ]
  },
  {
   "cell_type": "code",
   "execution_count": 9,
   "metadata": {},
   "outputs": [
    {
     "name": "stdout",
     "output_type": "stream",
     "text": [
      "Removing 25 Individuals\n"
     ]
    }
   ],
   "source": [
    "idx = df_merge[\"pop_x\"].str.contains(\"|\".join(pops_remove))\n",
    "print(f\"Removing {np.sum(idx)} Individuals\")\n",
    "df_clean = df_merge[~idx].reset_index(drop=True)"
   ]
  },
  {
   "cell_type": "code",
   "execution_count": 50,
   "metadata": {},
   "outputs": [
    {
     "name": "stdout",
     "output_type": "stream",
     "text": [
      "Difference Haplotype - Diploid Calls: -0.53 cM\n",
      "Mean: 97.50 cM\n"
     ]
    }
   ],
   "source": [
    "cm=8\n",
    "diff = np.mean(df_clean[f\"sum_roh>{cm}_y\"] - df_clean[f\"sum_roh>{cm}_x\"])\n",
    "mean = np.mean(df_clean[f\"sum_roh>{cm}_y\"])\n",
    "\n",
    "print(f\"Difference Haplotype - Diploid Calls: {diff:.2f} cM\\nMean: {mean:.2f} cM\")"
   ]
  },
  {
   "cell_type": "code",
   "execution_count": 46,
   "metadata": {},
   "outputs": [
    {
     "name": "stdout",
     "output_type": "stream",
     "text": [
      "Saved to ./figures/manuscript/supplement/HO_ROH/HO_hap_dip_clean.png\n"
     ]
    },
    {
     "data": {
      "image/png": "[encoded data removed]",
      "text/plain": [
       "<Figure size 162x162 with 2 Axes>"
      ]
     },
     "metadata": {
      "needs_background": "light"
     },
     "output_type": "display_data"
    }
   ],
   "source": [
    "plot_correlation_roh(df_clean, xlim=[0,550], ylim=[0,550], c_col=\"lat_x\",padax=0.5,\n",
    "                     lw=0.2, s=10, figsize=(2.25, 2.25), fs=6, fs_t=6, pad=6, cb_pad=-0.2,\n",
    "                     barlabel=\"Latitude\", vrange=[-20,60],\n",
    "                     cb_coords = [0.79, 0.16, 0.05, 0.55], tickwidth=0.8, roh_bin=\" > 8\",\n",
    "                     ticklength=2, \n",
    "                     col1=\"sum_roh>4_x\", col2=\"sum_roh>4_y\", pad_t1=0.7,\n",
    "                     xlabel=\"Diploid Genotype Calls (cM)\",\n",
    "                     ylabel=\"Haploid Genotype Calls (cM)\",\n",
    "                     savepath = \"./figures/manuscript/supplement/HO_ROH/HO_hap_dip_clean.png\")"
   ]
  },
  {
   "cell_type": "markdown",
   "metadata": {},
   "source": [
    "# Results for bins"
   ]
  },
  {
   "cell_type": "markdown",
   "metadata": {},
   "source": [
    "### 4-8 cM"
   ]
  },
  {
   "cell_type": "code",
   "execution_count": 65,
   "metadata": {},
   "outputs": [],
   "source": [
    "df_t = df_clean.copy()\n",
    "df_t[\"sum_roh_4-8_x\"] = df_t[\"sum_roh>4_x\"] - df_t[\"sum_roh>8_x\"] \n",
    "df_t[\"sum_roh_4-8_y\"] = df_t[\"sum_roh>4_y\"] - df_t[\"sum_roh>8_y\"] "
   ]
  },
  {
   "cell_type": "code",
   "execution_count": 66,
   "metadata": {},
   "outputs": [
    {
     "name": "stdout",
     "output_type": "stream",
     "text": [
      "Saved to ./figures/manuscript/supplement/HO_ROH/HO_hap_dip_clean_4_8.pdf\n"
     ]
    },
    {
     "data": {
      "image/png": "[encoded data removed]",
      "text/plain": [
       "<Figure size 162x162 with 2 Axes>"
      ]
     },
     "metadata": {
      "needs_background": "light"
     },
     "output_type": "display_data"
    }
   ],
   "source": [
    "plot_correlation_roh(df_t, xlim=[0,200], ylim=[0,200], c_col=\"lat_x\",padax=0.5,\n",
    "                     lw=0.2, s=10, figsize=(2.25, 2.25), fs=6, fs_t=6, pad=6, cb_pad=-0.2,\n",
    "                     barlabel=\"Latitude\", vrange=[-20,60],\n",
    "                     cb_coords = [0.79, 0.16, 0.05, 0.55], tickwidth=0.8, roh_bin=\" 4-8\",\n",
    "                     ticklength=2, \n",
    "                     col1=\"sum_roh_4-8_x\", col2=\"sum_roh_4-8_y\", pad_t1=0.7,\n",
    "                     xlabel=\"Diploid Genotype Calls (cM)\",\n",
    "                     ylabel=\"Haploid Genotype Calls (cM)\",\n",
    "                     savepath = \"./figures/manuscript/supplement/HO_ROH/HO_hap_dip_clean_4_8.pdf\")"
   ]
  },
  {
   "cell_type": "code",
   "execution_count": 67,
   "metadata": {},
   "outputs": [],
   "source": [
    "df_t[\"diff_4-8\"] = df_t[\"sum_roh_4-8_y\"] - df_t[\"sum_roh_4-8_x\"]"
   ]
  },
  {
   "cell_type": "markdown",
   "metadata": {},
   "source": [
    "### 8-20 cM"
   ]
  },
  {
   "cell_type": "code",
   "execution_count": 68,
   "metadata": {},
   "outputs": [],
   "source": [
    "df_t = df_clean.copy()\n",
    "df_t[\"sum_roh_8-20_x\"] = df_t[\"sum_roh>8_x\"] - df_t[\"sum_roh>20_x\"] \n",
    "df_t[\"sum_roh_8-20_y\"] = df_t[\"sum_roh>8_y\"] - df_t[\"sum_roh>20_y\"] "
   ]
  },
  {
   "cell_type": "code",
   "execution_count": 69,
   "metadata": {},
   "outputs": [
    {
     "name": "stdout",
     "output_type": "stream",
     "text": [
      "Saved to ./figures/manuscript/supplement/HO_ROH/HO_hap_dip_clean_8_20.pdf\n"
     ]
    },
    {
     "data": {
      "image/png": "[encoded data removed]",
      "text/plain": [
       "<Figure size 162x162 with 2 Axes>"
      ]
     },
     "metadata": {
      "needs_background": "light"
     },
     "output_type": "display_data"
    }
   ],
   "source": [
    "plot_correlation_roh(df_t, xlim=[0,400], ylim=[0,400], c_col=\"lat_x\",padax=0.5,\n",
    "                     lw=0.2, s=10, figsize=(2.25, 2.25), fs=6, fs_t=6, pad=6, cb_pad=-0.2,\n",
    "                     barlabel=\"Latitude\", vrange=[-20,60],\n",
    "                     cb_coords = [0.79, 0.16, 0.05, 0.55], tickwidth=0.8, roh_bin=\" 8-20\",\n",
    "                     ticklength=2, \n",
    "                     col1=\"sum_roh_8-20_x\", col2=\"sum_roh_8-20_y\", pad_t1=0.7,\n",
    "                     xlabel=\"Diploid Genotype Calls (cM)\",\n",
    "                     ylabel=\"Haploid Genotype Calls (cM)\",\n",
    "                     savepath = \"./figures/manuscript/supplement/HO_ROH/HO_hap_dip_clean_8_20.pdf\")"
   ]
  },
  {
   "cell_type": "markdown",
   "metadata": {},
   "source": [
    "### >20 cm"
   ]
  },
  {
   "cell_type": "code",
   "execution_count": 70,
   "metadata": {},
   "outputs": [],
   "source": [
    "df_t = df_clean.copy()"
   ]
  },
  {
   "cell_type": "code",
   "execution_count": 71,
   "metadata": {},
   "outputs": [
    {
     "name": "stdout",
     "output_type": "stream",
     "text": [
      "Saved to ./figures/manuscript/supplement/HO_ROH/HO_hap_dip_clean_20.pdf\n"
     ]
    },
    {
     "data": {
      "image/png": "[encoded data removed]",
      "text/plain": [
       "<Figure size 162x162 with 2 Axes>"
      ]
     },
     "metadata": {
      "needs_background": "light"
     },
     "output_type": "display_data"
    }
   ],
   "source": [
    "plot_correlation_roh(df_t, xlim=[0,550], ylim=[0,550], c_col=\"lat_x\",padax=0.5,\n",
    "                     lw=0.2, s=10, figsize=(2.25, 2.25), fs=6, fs_t=6, pad=6, cb_pad=-0.2,\n",
    "                     barlabel=\"Latitude\", vrange=[-20,60],\n",
    "                     cb_coords = [0.79, 0.16, 0.05, 0.55], tickwidth=0.8, roh_bin=\" > 20\",\n",
    "                     ticklength=2, \n",
    "                     col1=\"sum_roh>20_x\", col2=\"sum_roh>20_y\", pad_t1=0.7,\n",
    "                     xlabel=\"Diploid Genotype Calls (cM)\",\n",
    "                     ylabel=\"Haploid Genotype Calls (cM)\",\n",
    "                     savepath = \"./figures/manuscript/supplement/HO_ROH/HO_hap_dip_clean_20.pdf\")"
   ]
  },
  {
   "cell_type": "markdown",
   "metadata": {},
   "source": [
    "# Area 51"
   ]
  },
  {
   "cell_type": "code",
   "execution_count": 83,
   "metadata": {},
   "outputs": [
    {
     "data": {
      "text/plain": [
       "Index(['iid', 'pop_x', 'max_roh_x', 'sum_roh>4_x', 'n_roh>4_x', 'sum_roh>8_x',\n",
       "       'n_roh>8_x', 'sum_roh>12_x', 'n_roh>12_x', 'sum_roh>20_x', 'n_roh>20_x',\n",
       "       'label_x', 'lat_x', 'lon_x', 'x_contam_x', 'mt_contam_x', 'age_x',\n",
       "       'study_x', 'clst_alt_x', 'period_alt_x', 'include_alt_x', 'clst_x',\n",
       "       'mean_cov_x', 'med_cov_x', 'n_cov_snp_read_x', 'full_iid_x',\n",
       "       'n_cov_snp_x', 'pop_y', 'max_roh_y', 'sum_roh>4_y', 'n_roh>4_y',\n",
       "       'sum_roh>8_y', 'n_roh>8_y', 'sum_roh>12_y', 'n_roh>12_y',\n",
       "       'sum_roh>20_y', 'n_roh>20_y', 'label_y', 'lat_y', 'lon_y', 'x_contam_y',\n",
       "       'mt_contam_y', 'age_y', 'study_y', 'clst_alt_y', 'period_alt_y',\n",
       "       'include_alt_y', 'clst_y', 'mean_cov_y', 'med_cov_y',\n",
       "       'n_cov_snp_read_y', 'full_iid_y', 'n_cov_snp_y'],\n",
       "      dtype='object')"
      ]
     },
     "execution_count": 83,
     "metadata": {},
     "output_type": "execute_result"
    }
   ],
   "source": [
    "df_merge.columns"
   ]
  },
  {
   "cell_type": "code",
   "execution_count": 155,
   "metadata": {},
   "outputs": [],
   "source": [
    "cm=8\n",
    "idx = (df_merge[f\"sum_roh>{cm}_x\"] - df_merge[f\"sum_roh>{cm}_y\"])/(df_merge[f\"sum_roh>{cm}_x\"]) > 0.5\n",
    "#idx = (df_merge[f\"max_roh_x\"] - df_merge[f\"max_roh_y\"])/(df_merge[f\"max_roh_x\"]) > 0.5\n",
    "df_fail = df_merge[idx]"
   ]
  },
  {
   "cell_type": "code",
   "execution_count": 156,
   "metadata": {},
   "outputs": [],
   "source": [
    "fails = df_fail[\"pop_x\"].value_counts()\n",
    "tot_counts = df_merge[\"pop_x\"].value_counts()\n",
    "t1 = tot_counts[fails.index]"
   ]
  },
  {
   "cell_type": "code",
   "execution_count": 157,
   "metadata": {},
   "outputs": [],
   "source": [
    "df_stat = pd.DataFrame({\"failed\":fails, \"count\":t1})"
   ]
  },
  {
   "cell_type": "code",
   "execution_count": 160,
   "metadata": {},
   "outputs": [
    {
     "name": "stdout",
     "output_type": "stream",
     "text": [
      "\\begin{tabular}{lrr}\n",
      "\\toprule\n",
      "{} &  failed &  count \\\\\n",
      "\\midrule\n",
      "Ju\\_hoan\\_North &       4 &      4 \\\\\n",
      "Hadza         &       3 &      3 \\\\\n",
      "Mbuti         &       3 &      4 \\\\\n",
      "Khomani       &       3 &      3 \\\\\n",
      "Biaka         &       2 &      3 \\\\\n",
      "Ethiopian\\_Jew &       1 &      2 \\\\\n",
      "Somali        &       1 &      6 \\\\\n",
      "\\bottomrule\n",
      "\\end{tabular}\n",
      "\n"
     ]
    }
   ],
   "source": [
    "print(df_stat.to_latex())"
   ]
  },
  {
   "cell_type": "markdown",
   "metadata": {},
   "source": [
    "### df_merge[df_merge[f\"sum_roh>{cm}_x\"] - df_merge[f\"sum_roh>{cm}_y\"]>40]"
   ]
  },
  {
   "cell_type": "code",
   "execution_count": null,
   "metadata": {},
   "outputs": [],
   "source": []
  }
 ],
 "metadata": {
  "kernelspec": {
   "display_name": "Python 3",
   "language": "python",
   "name": "python3"
  },
  "language_info": {
   "codemirror_mode": {
    "name": "ipython",
    "version": 3
   },
   "file_extension": ".py",
   "mimetype": "text/x-python",
   "name": "python",
   "nbconvert_exporter": "python",
   "pygments_lexer": "ipython3",
   "version": "3.7.0"
  }
 },
 "nbformat": 4,
 "nbformat_minor": 4
}
