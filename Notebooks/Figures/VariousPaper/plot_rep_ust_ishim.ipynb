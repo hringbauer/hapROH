{
 "cells": [
  {
   "cell_type": "markdown",
   "metadata": {},
   "source": [
    "# Plot Downsampling for Ust Ishim\n",
    "(with replicates)"
   ]
  },
  {
   "cell_type": "code",
   "execution_count": 1,
   "metadata": {},
   "outputs": [
    {
     "name": "stdout",
     "output_type": "stream",
     "text": [
      "midway2-0401.rcc.local\n",
      "Midway jnovmbre partition detected.\n",
      "/project2/jnovembre/hringbauer/HAPSBURG\n",
      "CPU Count: 28\n"
     ]
    }
   ],
   "source": [
    "import numpy as np\n",
    "import matplotlib.pyplot as plt\n",
    "import os  # For Saving to Folder\n",
    "import pandas as pd\n",
    "from matplotlib import gridspec\n",
    "\n",
    "##############################\n",
    "import socket\n",
    "import os as os\n",
    "import sys as sys\n",
    "import multiprocessing as mp\n",
    "\n",
    "from matplotlib import rcParams\n",
    "rcParams['font.family'] = 'sans-serif'   # Set the default\n",
    "rcParams['font.sans-serif'] = ['Arial']  # Make sure to have the font installed (it is on cluster for Harald)\n",
    "\n",
    "socket_name = socket.gethostname()\n",
    "print(socket_name)\n",
    "if socket_name == \"VioletQueen\":\n",
    "    path = \"/home/harald/git/HAPSBURG/\"   # The Path on Harald's machine\n",
    "elif socket_name.startswith(\"midway2\"):\n",
    "    print(\"Midway jnovmbre partition detected.\")\n",
    "    path = \"/project2/jnovembre/hringbauer/HAPSBURG/\"  # The Path on Midway Cluster\n",
    "else: \n",
    "    raise RuntimeWarning(\"Not compatible machine. Check!!\")\n",
    "    \n",
    "os.chdir(path)  # Set the right Path (in line with Atom default)\n",
    "print(os.getcwd()) # Show the current working directory. Should be HAPSBURG/Notebooks/ParallelRuns\n",
    "print(f\"CPU Count: {mp.cpu_count()}\")\n",
    "\n",
    "sys.path.append(\"./package/hapsburg/PackagesSupport/\")\n",
    "from pp_individual_roh_csvs import create_combined_ROH_df"
   ]
  },
  {
   "cell_type": "code",
   "execution_count": 6,
   "metadata": {},
   "outputs": [],
   "source": [
    "def add_bins(df, cms=[4,8,12,20]):\n",
    "    \"\"\"Add bins with sums to dataframe\n",
    "    return new dataframe\"\"\"\n",
    "    for i in range(len(cms)-1):\n",
    "        cm1, cm2 = cms[i], cms[i+1]\n",
    "        label = str(cm1) + \"-\" + str(cm2)\n",
    "        df[label] = df[f\"sum_roh>{cm1}\"] - df[f\"sum_roh>{cm2}\"]\n",
    "    return df\n",
    "\n",
    "def load_dip_df(paths = [\"./Empirical/Eigenstrat/Reichall/diploid/Ust_Ishim_published.DG_roh_full.csv\"],\n",
    "                iids=np.array([\"UstIshim_snpAD.DG\"]),cms = [4, 8, 12, 20]):\n",
    "    \"\"\"Load diploid Genotype dataframe\"\"\"\n",
    "    df_dip = create_combined_ROH_df(paths, iids, iids, min_cm=cms, snp_cm=50, \n",
    "                                         gap=0.5, min_len1=2, min_len2=4, output=False)\n",
    "\n",
    "    hline_vec = np.array([df_dip[f\"sum_roh>{cm}\"].values[0] for cm in cms])\n",
    "    return df_dip, hline_vec\n",
    "\n",
    "\n",
    "### To get the RC Groundtruth data\n",
    "def prep_rc_res_df(base_path = \"./Empirical/1240k/SA_Readcounts/Downsample_Loschbour/\", iid = \"Loschbour\",\n",
    "                   suffix = \"_roh_full.csv\", down_sampling_covs=np.geomspace(0.01, 1.0, 10), cms = [4, 8, 12],\n",
    "                   gap = 0.5, min_len1=2.0, min_len2=4.0, tot_cov=19.5486, prefix=\"\"):\n",
    "    \"\"\"Prepare Dataframe of results -> Combine Individual results into one dataframe\"\"\"\n",
    "    samples = np.array([prefix + f\"{c:.4f}\" for c in down_sampling_covs])   # Numpy Array for better slicing\n",
    "    paths = [os.path.join(base_path, s[:10] + suffix) for s in samples]\n",
    "    df_t = create_combined_ROH_df(paths, samples, pops=samples, min_cm=cms, snp_cm=50, \n",
    "                                  gap=gap, min_len1=min_len1, min_len2=min_len2,\n",
    "                                  output=False, sort=False)\n",
    "    df_t[\"mean_cov\"] = down_sampling_covs * tot_cov   #* 10.439 for IPK12\n",
    "    return df_t\n",
    "\n",
    "def plot_downsampling_rep(df, figsize=(5,5), columns = [\"4-8\", \"8-12\", \"12-20\"],\n",
    "                          colors=['#313695', '#abd9e9', '#fee090', '#d7191c'],\n",
    "                          xlabel=\"Number 1240k SNPs covered [Ust Ishim, 45k BP]\",\n",
    "                          ms=7, fs_l=12, fs_t=10, ylim=[0,75], leg_loc=\"upper left\", \n",
    "                          hline_vec=[], cutoff=0.25, savepath=\"\"):\n",
    "    \"\"\"Plot Downsampling with replicates\"\"\"\n",
    "    plt.figure(figsize=figsize)\n",
    "    ax = plt.gca()\n",
    "    x = df[\"n_snps\"]\n",
    "\n",
    "    for i in range(len(columns)):\n",
    "        col, c = columns[i], colors[i]\n",
    "        y=df[col][\"mean\"]\n",
    "        std=df[col][\"std\"]\n",
    "        ax.plot(x,y, \"o--\", c=c, ms=ms, label=col+\"cM\",zorder=1)\n",
    "        ax.errorbar(x, y, yerr=std, zorder=0, c=c)\n",
    "\n",
    "    ax.set_xlabel(xlabel, fontsize=fs_l)\n",
    "    ax.set_ylabel(\"Genome-wide sROH [cM]\", fontsize=fs_l)\n",
    "    ax.tick_params(axis='both', labelsize=fs_t)\n",
    "    \n",
    "    if len(leg_loc)>0:\n",
    "        ax.legend(loc=leg_loc, title=\"sROH\")\n",
    "        \n",
    "    if len(ylim)>0:\n",
    "        ax.set_ylim(ylim)\n",
    "\n",
    "    if cutoff>0:\n",
    "        ax.axvline(cutoff, c=\"gray\")\n",
    "\n",
    "\n",
    "    for y in hline_vec:\n",
    "        ax.axhline(y, lw=1, zorder=0, c=\"gray\")\n",
    "        \n",
    "    if len(savepath)>0:\n",
    "        plt.savefig(savepath, bbox_inches = 'tight', pad_inches = 0)\n",
    "        print(f\"Saved Figure to: {savepath}\")\n",
    "    plt.show()"
   ]
  },
  {
   "cell_type": "markdown",
   "metadata": {},
   "source": [
    "# Plot Ust Ishim Replicates"
   ]
  },
  {
   "cell_type": "code",
   "execution_count": 7,
   "metadata": {},
   "outputs": [],
   "source": [
    "### Load the Diploid Data\n",
    "df_dip, hline_vec = load_dip_df()\n",
    "hline_vec = hline_vec[:-1]-hline_vec[1:]"
   ]
  },
  {
   "cell_type": "code",
   "execution_count": 8,
   "metadata": {},
   "outputs": [],
   "source": [
    "df = pd.read_csv(\"./Empirical/1240k/SA_Readcounts/Ust_Ishim_rep/combined_roh05.tsv\", sep='\\t')\n",
    "df = add_bins(df)\n",
    "df[\">20\"]=df[\"sum_roh>20\"]\n",
    "df1 = df[[\"iid\", \"pop\", \"4-8\", \"8-12\", \"12-20\", \">20\"]].copy()\n",
    "df_res = df1.groupby(\"pop\").agg([\"mean\", \"std\"])\n",
    "df_res[\"n_snps\"] = df_res.index.values * 1115315 # Ust Ishim Covered"
   ]
  },
  {
   "cell_type": "code",
   "execution_count": 9,
   "metadata": {},
   "outputs": [
    {
     "name": "stdout",
     "output_type": "stream",
     "text": [
      "Saved Figure to: ./figures/manuscript/supplement/downsampling_sa/down_ust_rep_v2.pdf\n"
     ]
    },
    {
     "data": {
      "image/png": "[encoded data removed]",
      "text/plain": [
       "<Figure size 360x216 with 1 Axes>"
      ]
     },
     "metadata": {
      "needs_background": "light"
     },
     "output_type": "display_data"
    }
   ],
   "source": [
    "plot_downsampling_rep(df = df_res, figsize=(5,3), columns = [\"4-8\", \"8-12\", \"12-20\", \">20\"],\n",
    "                      colors=['#313695', '#abd9e9', '#fee090', '#d7191c'],\n",
    "                      ms=7, fs_l=12, fs_t=12, ylim=[-0.5,65], leg_loc=\"\",\n",
    "                      hline_vec=hline_vec, cutoff=4e5,\n",
    "                      savepath=\"./figures/manuscript/supplement/downsampling_sa/down_ust_rep_v2.pdf\"\n",
    "                      )"
   ]
  },
  {
   "cell_type": "markdown",
   "metadata": {},
   "source": [
    "### Plot IPk12 [South America, 600 BP, 10x, 1,114,250 markers covered] "
   ]
  },
  {
   "cell_type": "code",
   "execution_count": 28,
   "metadata": {},
   "outputs": [],
   "source": [
    "### Load Readcount Data (for ground truth)\n",
    "#df_rc = prep_rc_res_df(base_path = \"./Empirical/1240k/SA_Readcounts/Downsample_IPK12/\", iid = \"IPK12\",\n",
    "#                       suffix = \"_roh_full.csv\", down_sampling_covs = np.geomspace(0.04, 1.0, 10), cms = [4, 8, 12, 20],\n",
    "#                       gap = 0.5, min_len1=2, min_len2=4, tot_cov=10.438989, prefix=\"IPK12\")"
   ]
  },
  {
   "cell_type": "code",
   "execution_count": 81,
   "metadata": {},
   "outputs": [],
   "source": [
    "### Load the Diploid Data\n",
    "#df_dip, hline_vec = load_dip_df()\n",
    "#df_rc\n",
    "#hline_vec = np.array([346.84,226.7,165.79,\t48.69]) # The 0.9 values\n",
    "#hline_vec1 = hline_vec[:-1]-hline_vec[1:]\n",
    "hline_vec1 = df_res.iloc[-1][[\"4-8\", \"8-12\", \"12-20\", \">20\"]]\n",
    "hline_vec1 = [x for x in hline_vec1][0::2]"
   ]
  },
  {
   "cell_type": "code",
   "execution_count": 47,
   "metadata": {},
   "outputs": [],
   "source": [
    "df = pd.read_csv(\"./Empirical/1240k/SA_Readcounts/IPK12_rep/combined_roh05.tsv\", sep='\\t')\n",
    "df = add_bins(df)\n",
    "df[\">20\"]=df[\"sum_roh>20\"]\n",
    "df1 = df[[\"iid\", \"pop\", \"4-8\", \"8-12\", \"12-20\", \">20\"]].copy()\n",
    "df_res = df1.groupby(\"pop\").agg([\"mean\", \"std\"])\n",
    "df_res[\"n_snps\"] = df_res.index.values * 1115315 # Ust Ishim Covered"
   ]
  },
  {
   "cell_type": "code",
   "execution_count": 83,
   "metadata": {},
   "outputs": [
    {
     "name": "stdout",
     "output_type": "stream",
     "text": [
      "Saved Figure to: ./figures/manuscript/supplement/downsampling_sa/IPK12_rep_v1.png\n"
     ]
    },
    {
     "data": {
      "image/png": "[encoded data removed]",
      "text/plain": [
       "<Figure size 360x216 with 1 Axes>"
      ]
     },
     "metadata": {
      "needs_background": "light"
     },
     "output_type": "display_data"
    }
   ],
   "source": [
    "plot_downsampling_rep(df = df_res, figsize=(5,3), columns = [\"4-8\", \"8-12\", \"12-20\", \">20\"],\n",
    "                      colors=['#313695', '#abd9e9', '#fee090', '#d7191c'],\n",
    "                      ms=7, fs_l=10, fs_t=9, ylim=[-0.5,200], leg_loc=\"\",\n",
    "                      hline_vec=hline_vec1,\n",
    "                      cutoff=4e5, xlabel = \"Number 1240k SNPs covered [IPK12, South America, 600 BP]\",\n",
    "                      savepath=\"./figures/manuscript/supplement/downsampling_sa/IPK12_rep_v1.png\"\n",
    "                      )"
   ]
  },
  {
   "cell_type": "code",
   "execution_count": null,
   "metadata": {},
   "outputs": [],
   "source": []
  }
 ],
 "metadata": {
  "kernelspec": {
   "display_name": "Python 3",
   "language": "python",
   "name": "python3"
  },
  "language_info": {
   "codemirror_mode": {
    "name": "ipython",
    "version": 3
   },
   "file_extension": ".py",
   "mimetype": "text/x-python",
   "name": "python",
   "nbconvert_exporter": "python",
   "pygments_lexer": "ipython3",
   "version": "3.7.0"
  }
 },
 "nbformat": 4,
 "nbformat_minor": 4
}
