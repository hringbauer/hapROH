{
 "cells": [
  {
   "cell_type": "code",
   "execution_count": 1,
   "metadata": {},
   "outputs": [
    {
     "name": "stdout",
     "output_type": "stream",
     "text": [
      "midway2-0401.rcc.local\n",
      "Midway jnovmbre partition detected.\n",
      "/project2/jnovembre/hringbauer/HAPSBURG\n",
      "CPU Count: 28\n"
     ]
    }
   ],
   "source": [
    "import numpy as np\n",
    "import matplotlib.pyplot as plt\n",
    "import matplotlib.colors as colors\n",
    "import pandas as pd\n",
    "import socket\n",
    "import os as os\n",
    "import sys as sys\n",
    "import multiprocessing as mp\n",
    "from scipy import stats\n",
    "\n",
    "socket_name = socket.gethostname()\n",
    "print(socket_name)\n",
    "\n",
    "if socket_name == \"VioletQueen\":\n",
    "    path = \"/home/harald/git/HAPSBURG/\"   # The Path on Harald's machine\n",
    "\n",
    "elif socket_name.startswith(\"midway2\"):\n",
    "    print(\"Midway jnovmbre partition detected.\")\n",
    "    path = \"/project2/jnovembre/hringbauer/HAPSBURG/\"  # The Path on Midway Cluster\n",
    "\n",
    "else: \n",
    "    raise RuntimeWarning(\"Not compatible machine. Check!!\")\n",
    "    \n",
    "os.chdir(path)  # Set the right Path (in line with Atom default)\n",
    "print(os.getcwd()) # Show the current working directory. Should be HAPSBURG/Notebooks/ParallelRuns\n",
    "print(f\"CPU Count: {mp.cpu_count()}\")\n",
    "\n",
    "sys.path.append(\"./PackagesSupport/\")  # Since now we are in the Root Directory\n",
    "from pp_individual_roh_csvs import post_process_roh_df, merge_called_blocks, individual_roh_statistic  # Import PP Functions\n",
    "#from createMosaicsMulti import Mosaic_1000G_Multi  # Import the object that can create the Multiruns\n",
    "\n",
    "### For Arial Font\n",
    "from matplotlib import rcParams\n",
    "rcParams['font.family'] = 'sans-serif'   # Set the defaul\n",
    "rcParams['font.sans-serif'] = ['Arial']  # Make sure to have the font installed (it is on cluster for Harald)"
   ]
  },
  {
   "cell_type": "markdown",
   "metadata": {},
   "source": [
    "## Helper Functions"
   ]
  },
  {
   "cell_type": "code",
   "execution_count": 2,
   "metadata": {},
   "outputs": [],
   "source": [
    "def merge_to_one_df(df1, df2, on=\"iid\", min_snps=500000, max_age=1e6, only_inc_alt=True):\n",
    "    \"\"\"Merge Two Dataframes to one\"\"\"\n",
    "    \n",
    "    df_merge = pd.merge(df1, df2, on=\"iid\")\n",
    "    print(f\"Merged to {len(df_merge)} Inds. (from {len(df1)} and {len(df2)}) resp.\")\n",
    "    \n",
    "    ### Filter to High Coverage Individuals\n",
    "    df_merge = df_merge[df_merge[\"n_cov_snp_x\"] > min_snps]\n",
    "    df_merge = df_merge[df_merge[\"age_x\"] < max_age]\n",
    "    if only_inc_alt:\n",
    "        df_merge = df_merge[df_merge[\"include_alt_x\"] > 0]\n",
    "    print(f\"Further filtered to {len(df_merge)} Individuals\")\n",
    "    return df_merge\n",
    "\n",
    "def plot_correlation_roh(df_merge, xlim=[0,380], ylim=[0,380], savepath=\"\", \n",
    "                         col1=\"sum_roh>4_y\", col2=\"sum_roh>4_x\", c_col=\"age_x\", \n",
    "                         barlabel=\"Age [y BP]\", figsize=(8,8), pad=20,\n",
    "                         c_line=\"gray\", lw=0.2, s=20, fs=14, fs_t=8, padax=4, \n",
    "                         vrange=[0.3,30], cmap=\"viridis\", cb_pad=0.0,\n",
    "                         cb_coords=[0.27, 0.8, 0.5, 0.05], pad_t1=4, \n",
    "                         tickwidth=2, ticklength=6):\n",
    "    \"\"\"Plot correlation between ROH inferred on pseudo-haploid\n",
    "    and on Readcount data. Print Pearson product-moment correlation coefficient\"\"\"\n",
    "    r = np.corrcoef(df_merge[col1], df_merge[col2])[0,1]\n",
    "\n",
    "    fig=plt.figure(figsize=figsize)\n",
    "    ax=plt.gca()\n",
    "    sc=ax.scatter(df_merge[col1], df_merge[col2], c=df_merge[c_col],\n",
    "                  s=s, ec=\"k\", lw=lw, zorder=1, norm=colors.Normalize(vmin=vrange[0], vmax=vrange[1]),\n",
    "                  cmap=cmap) #LogNorm\n",
    "    ax.plot(xlim, xlim, c=c_line, alpha=0.8, zorder=0)\n",
    "    ax.set_xlabel(\"Sum Full Readcount Data (cM)\", fontsize=fs, labelpad=padax)\n",
    "    ax.set_ylabel(\"Sum Pseudohaploid Data only (cM)\", fontsize=fs, labelpad=padax)\n",
    "    ax.set_xlim(xlim)\n",
    "    ax.set_ylim(ylim)\n",
    "    ax.tick_params(labelsize=fs_t, width=tickwidth, length=ticklength, pad=pad_t1)\n",
    "    text1=f\"$r={r:.3f}$\"\n",
    "    text2=f\"Inferred Sum ROH>4cm \\n for {len(df_merge)} individuals \\n>300k SNPs covered\"\n",
    "    ax.text(0.55, 0.02, text1, transform=ax.transAxes, fontsize=fs)\n",
    "    ax.text(0.04, 0.83, text2, transform=ax.transAxes, fontsize=fs)\n",
    "    \n",
    "    # Do Colorbar Shennenigans\n",
    "    cax = fig.add_axes(cb_coords)\n",
    "    #fig.colorbar(im, cax=cax, orientation='horizontal')\n",
    "    cb = fig.colorbar(sc, cax=cax, orientation='vertical', extend=\"max\", pad=cb_pad)\n",
    "    cb.ax.set_ylabel(barlabel, rotation=270, fontsize=fs, labelpad=pad)\n",
    "    cb.ax.tick_params(labelsize=fs_t, direction=\"in\")\n",
    "    cb.ax.yaxis.set_ticks_position('left')\n",
    "    cb.ax.tick_params(width=tickwidth, length=ticklength)\n",
    "    \n",
    "    if len(savepath)>0:\n",
    "        plt.savefig(savepath) # bbox_inches = 'tight', pad_inches = 0\n",
    "        print(f\"Saved to {savepath}\")\n",
    "    plt.show()"
   ]
  },
  {
   "cell_type": "code",
   "execution_count": 27,
   "metadata": {},
   "outputs": [
    {
     "name": "stdout",
     "output_type": "stream",
     "text": [
      "Merged to 511 Inds. (from 3232 and 557) resp.\n",
      "Further filtered to 511 Individuals\n"
     ]
    }
   ],
   "source": [
    "df_rc = pd.read_csv(\"./Empirical/1240k/MarcusAncs/combined_roh05.csv\", \"\\t\")\n",
    "df_es = pd.read_csv(\"./Empirical/Eigenstrat/Reichall/combined_roh05.csv\", '\\t')  # Load ES Data\n",
    "df_all = pd.read_csv(\"./Empirical/roh_all_inds.csv\", '\\t')  # Load final filtered Dataframe\n",
    "\n",
    "df_merge = merge_to_one_df(df_all, df_rc, min_snps=300000) # max_age=7000\n",
    "#df_es = pd.read_csv(\"./Empirical/1240k/MarcusAncsPH/combined_roh.csv\", \"\\t\")"
   ]
  },
  {
   "cell_type": "markdown",
   "metadata": {},
   "source": [
    "### Sum ROH longer than 4 cM"
   ]
  },
  {
   "cell_type": "code",
   "execution_count": 397,
   "metadata": {},
   "outputs": [
    {
     "name": "stdout",
     "output_type": "stream",
     "text": [
      "Saved to ./figures/manuscript/fig1/fig1b_ph_rc.pdf\n"
     ]
    },
    {
     "data": {
      "image/png": "[encoded data removed]",
      "text/plain": [
       "<Figure size 162x162 with 2 Axes>"
      ]
     },
     "metadata": {
      "needs_background": "light"
     },
     "output_type": "display_data"
    }
   ],
   "source": [
    "df_merge = df_merge.sort_values(by=\"mean_cov_x\")\n",
    "\n",
    "plot_correlation_roh(df_merge, xlim=[0,500], ylim=[0,500], c_col=\"mean_cov_x\",padax=0.5,\n",
    "                     lw=0.2, s=8, figsize=(2.25, 2.25), fs=6, fs_t=6, pad=5, cb_pad=-0.2,\n",
    "                     barlabel=\"Avg. Coverage on 1240k SNPs\", vrange=[0.5,5.5],\n",
    "                     cb_coords = [0.81, 0.135, 0.033, 0.57], tickwidth=0.8, pad_t1=0.7,\n",
    "                     ticklength=2, savepath = \"./figures/manuscript/fig1/fig1b_ph_rc.pdf\")"
   ]
  },
  {
   "cell_type": "markdown",
   "metadata": {},
   "source": [
    "### Sum ROH longer than 8 cM"
   ]
  },
  {
   "cell_type": "code",
   "execution_count": 6,
   "metadata": {},
   "outputs": [
    {
     "name": "stdout",
     "output_type": "stream",
     "text": [
      "Saved to ./figures/manuscript/fig1/fig1b_ph_rc_g8.pdf\n"
     ]
    },
    {
     "data": {
      "image/png": "[encoded data removed]",
      "text/plain": [
       "<Figure size 162x162 with 2 Axes>"
      ]
     },
     "metadata": {
      "needs_background": "light"
     },
     "output_type": "display_data"
    }
   ],
   "source": [
    "df_merge = df_merge.sort_values(by=\"mean_cov_x\")\n",
    "plot_correlation_roh(df_merge, xlim=[0,450], ylim=[0,450], c_col=\"mean_cov_x\",padax=0.5,\n",
    "                     lw=0.2, s=10, figsize=(2.25, 2.25), fs=6, fs_t=6, pad=6, cb_pad=-0.2,\n",
    "                     barlabel=\"Avg. Coverage on 1240k SNPs\", vrange=[0.5,5.5],\n",
    "                     cb_coords = [0.81, 0.135, 0.033, 0.57], tickwidth=0.8,\n",
    "                     ticklength=2, savepath = \"./figures/manuscript/fig1/fig1b_ph_rc_g8.pdf\",\n",
    "                     col1=\"sum_roh>8_y\", col2=\"sum_roh>8_x\", pad_t1=0.7)"
   ]
  },
  {
   "cell_type": "markdown",
   "metadata": {},
   "source": [
    "### Test for Blocks 4-8 cM"
   ]
  },
  {
   "cell_type": "code",
   "execution_count": 17,
   "metadata": {},
   "outputs": [],
   "source": [
    "df_t = df_merge.copy()\n",
    "df_t[\"sum_roh_4-8_x\"] = df_t[\"sum_roh>4_x\"] - df_t[\"sum_roh>8_x\"] \n",
    "df_t[\"sum_roh_4-8_y\"] = df_t[\"sum_roh>4_y\"] - df_t[\"sum_roh>8_y\"] "
   ]
  },
  {
   "cell_type": "code",
   "execution_count": 18,
   "metadata": {},
   "outputs": [
    {
     "name": "stdout",
     "output_type": "stream",
     "text": [
      "Saved to ./figures/manuscript/fig1/fig1b_ph_rc_4-8.pdf\n"
     ]
    },
    {
     "data": {
      "image/png": "[encoded data removed]",
      "text/plain": [
       "<Figure size 162x162 with 2 Axes>"
      ]
     },
     "metadata": {
      "needs_background": "light"
     },
     "output_type": "display_data"
    }
   ],
   "source": [
    "df_t = df_t.sort_values(by=\"mean_cov_x\")\n",
    "plot_correlation_roh(df_t, xlim=[0,100], ylim=[0,100], c_col=\"mean_cov_x\",padax=0.5,\n",
    "                     lw=0.2, s=10, figsize=(2.25, 2.25), fs=6, fs_t=6, pad=6, cb_pad=-0.2,\n",
    "                     barlabel=\"Avg. Coverage on 1240k SNPs\", vrange=[0.5,5.5],\n",
    "                     cb_coords = [0.81, 0.135, 0.033, 0.57], tickwidth=0.8,\n",
    "                     ticklength=2, savepath = \"./figures/manuscript/fig1/fig1b_ph_rc_4-8.pdf\",\n",
    "                     col1=\"sum_roh_4-8_y\", col2=\"sum_roh_4-8_x\", pad_t1=0.7)"
   ]
  },
  {
   "cell_type": "markdown",
   "metadata": {},
   "source": [
    "### For Blocks 8-12 cM"
   ]
  },
  {
   "cell_type": "code",
   "execution_count": 20,
   "metadata": {},
   "outputs": [],
   "source": [
    "df_t = df_merge.copy()\n",
    "df_t[\"sum_roh_8-12_x\"] = df_t[\"sum_roh>8_x\"] - df_t[\"sum_roh>12_x\"] \n",
    "df_t[\"sum_roh_8-12_y\"] = df_t[\"sum_roh>8_y\"] - df_t[\"sum_roh>12_y\"] "
   ]
  },
  {
   "cell_type": "code",
   "execution_count": 26,
   "metadata": {},
   "outputs": [
    {
     "name": "stdout",
     "output_type": "stream",
     "text": [
      "Saved to ./figures/manuscript/fig1/fig1b_ph_rc_8-12.pdf\n"
     ]
    },
    {
     "data": {
      "image/png": "[encoded data removed]",
      "text/plain": [
       "<Figure size 162x162 with 2 Axes>"
      ]
     },
     "metadata": {
      "needs_background": "light"
     },
     "output_type": "display_data"
    }
   ],
   "source": [
    "df_t = df_t.sort_values(by=\"mean_cov_x\")\n",
    "plot_correlation_roh(df_t, xlim=[0,100], ylim=[0,100], c_col=\"mean_cov_x\",padax=0.5,\n",
    "                     lw=0.2, s=10, figsize=(2.25, 2.25), fs=6, fs_t=6, pad=6, cb_pad=-0.2,\n",
    "                     barlabel=\"Avg. Coverage on 1240k SNPs\", vrange=[0.5,5.5],\n",
    "                     cb_coords = [0.81, 0.135, 0.033, 0.57], tickwidth=0.8,\n",
    "                     ticklength=2, savepath = \"./figures/manuscript/fig1/fig1b_ph_rc_8-12.pdf\",\n",
    "                     col1=\"sum_roh_8-12_y\", col2=\"sum_roh_8-12_x\", pad_t1=0.7)"
   ]
  },
  {
   "cell_type": "markdown",
   "metadata": {},
   "source": [
    "# Area 51"
   ]
  },
  {
   "cell_type": "code",
   "execution_count": 28,
   "metadata": {},
   "outputs": [],
   "source": [
    "df_all = pd.read_csv(\"./Empirical/roh_all_inds.csv\", '\\t')"
   ]
  },
  {
   "cell_type": "code",
   "execution_count": 29,
   "metadata": {},
   "outputs": [
    {
     "data": {
      "text/plain": [
       "1291"
      ]
     },
     "execution_count": 29,
     "metadata": {},
     "output_type": "execute_result"
    }
   ],
   "source": [
    "np.sum(df_all[\"age\"]>0)"
   ]
  },
  {
   "cell_type": "code",
   "execution_count": null,
   "metadata": {},
   "outputs": [],
   "source": []
  }
 ],
 "metadata": {
  "kernelspec": {
   "display_name": "Python 3",
   "language": "python",
   "name": "python3"
  },
  "language_info": {
   "codemirror_mode": {
    "name": "ipython",
    "version": 3
   },
   "file_extension": ".py",
   "mimetype": "text/x-python",
   "name": "python",
   "nbconvert_exporter": "python",
   "pygments_lexer": "ipython3",
   "version": "3.6.9"
  }
 },
 "nbformat": 4,
 "nbformat_minor": 2
}
