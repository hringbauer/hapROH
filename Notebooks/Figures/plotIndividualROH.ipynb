{
 "cells": [
  {
   "cell_type": "markdown",
   "metadata": {},
   "source": [
    "# Plot Individual ROH\n",
    "Make nice plots of whole genome, in Karyotype style.\n",
    "\n",
    "Plot every chromosome: Centromer, and then list of ROH Blocks"
   ]
  },
  {
   "cell_type": "code",
   "execution_count": 3,
   "metadata": {},
   "outputs": [
    {
     "name": "stdout",
     "output_type": "stream",
     "text": [
      "midway2-0403.rcc.local\n",
      "Midway jnovmbre partition detected.\n",
      "/project/jnovembre/hringbauer/HAPSBURG\n",
      "CPU Count: 28\n"
     ]
    }
   ],
   "source": [
    "import numpy as np\n",
    "import pandas as pd\n",
    "import matplotlib.pyplot as plt\n",
    "from matplotlib import gridspec\n",
    "import matplotlib.patheffects as pe\n",
    "import h5py   # For Processing HDF5s\n",
    "from scipy.stats import gaussian_kde\n",
    "\n",
    "import socket\n",
    "import os as os\n",
    "import sys as sys\n",
    "import multiprocessing as mp\n",
    "\n",
    "\n",
    "socket_name = socket.gethostname()\n",
    "print(socket_name)\n",
    "\n",
    "if socket_name == \"VioletQueen\":\n",
    "    path = \"/home/harald/git/HAPSBURG/\"   # The Path on Harald's machine\n",
    "    print(\"Harald's Machine Detected\")\n",
    "elif socket_name == \"midway2-0401.rcc.local\" or socket_name == 'midway2-0402.rcc.local' or socket_name == 'midway2-0403.rcc.local':\n",
    "    print(\"Midway jnovmbre partition detected.\")\n",
    "    path = \"/project/jnovembre/hringbauer/HAPSBURG/\"  # The Path on Midway Cluster\n",
    "else: \n",
    "    raise RuntimeWarning(\"Not compatible machine. Check!!\")\n",
    "    \n",
    "os.chdir(path)  # Set the right Path (in line with Atom default)\n",
    "\n",
    "sys.path.append(\"./Python3/\")  # Since now we are in the Root Directory\n",
    "from hmm_inference import HMM_Analyze   # Do not move. Should be after sys.path..\n",
    "#sys.path.append(\"./Python3/create1000G_Mosaic/\")  # Since now we are in the Root Directory\n",
    "#from createMosaicsMulti import Mosaic_1000G_Multi  # Import the object that can create the Multiruns\n",
    "\n",
    "print(os.getcwd()) # Show the current working directory. Should be HAPSBURG/Notebooks/ParallelRuns\n",
    "print(f\"CPU Count: {mp.cpu_count()}\")"
   ]
  },
  {
   "cell_type": "code",
   "execution_count": 5,
   "metadata": {},
   "outputs": [],
   "source": [
    "def load_roh(iid, ch, path_folder = \"./Empirical/1240k/\", prefix_out = \"e01/\"):\n",
    "    \"\"\"Load the ROH Dataframe for Individual iid and \n",
    "    Chromosome ch\"\"\"\n",
    "    path = path_folder +  iid + \"/chr\" + str(ch) + \"/\" + prefix_out+ \"/roh.csv\"\n",
    "    roh_df = pd.read_csv(path)    \n",
    "    return roh_df\n",
    "\n",
    "def post_process_roh_df(df, min_cm=4, snp_cm=100, output=False):\n",
    "    \"\"\"Post Process ROH Dataframe.\n",
    "    min_cm: Minimum Length in CentiMorgan\n",
    "    snp_cm: How many SNPs per CentiMorgan\"\"\"\n",
    "    densities = df[\"length\"] / (df[\"lengthM\"] * 100)\n",
    "    densities_ok = (densities > snp_cm)\n",
    "    \n",
    "    df[\"SNP_Dens\"] = densities\n",
    "    \n",
    "    # Filter for SNP Density:\n",
    "    df = df[densities_ok]\n",
    "    \n",
    "    # Filter for Length:\n",
    "    length_okay = (df[\"lengthM\"] * 100) > min_cm\n",
    "    \n",
    "    if output==True:\n",
    "        print(f\"Min SNPs per cM> {snp_cm}: {np.sum(densities_ok)}/{len(densities_ok)}\")\n",
    "        print(f\"> {min_cm} cM: {np.sum(length_okay)}/{len(length_okay)}\")\n",
    "    \n",
    "    df = df[length_okay]\n",
    "    return df\n",
    "\n",
    "def load_h5(path, output=True):\n",
    "        \"\"\"Load and return the HDF5 File from Path\"\"\"\n",
    "        f = h5py.File(path, \"r\")  # Load for Sanity Check. See below!\n",
    "        if output == True:\n",
    "            print(\"\\nLoaded %i variants\" % np.shape(f[\"calldata/GT\"])[0])\n",
    "            print(\"Loaded %i individuals\" % np.shape(f[\"calldata/GT\"])[1])\n",
    "            # print(list(f[\"calldata\"].keys()))\n",
    "            # print(list(f[\"variants\"].keys()))\n",
    "            print(f\"HDF5 loaded from {path}\")\n",
    "        return f\n",
    "    \n",
    "def chrom_length(ch, output=False):\n",
    "    \"\"\"Get and retrun length of Chromosome\"\"\"\n",
    "    \n",
    "    path1000G = \"./Data/1000Genomes/HDF5/1240kHDF5/Eur1240chr\" + str(ch) + \".hdf5\"  # Path of 1000G (without chromosome part)\n",
    "    f = load_h5(path1000G, output=output)\n",
    "    rec = np.array(f[\"variants/MAP\"])\n",
    "    l = np.max(rec)\n",
    "    return rec, l\n",
    "\n",
    "def load_individual_roh(iid, min_cm=4, snp_cm=50, path_folder = \"./Empirical/1240k/\", prefix_out = \"e01/\"):\n",
    "    \"\"\"Load ROH of one Individual\"\"\"\n",
    "    df_rohs = []\n",
    "    for i in range(1,23):\n",
    "        df_roh = load_roh(iid=iid, ch=i, path_folder = \"./Empirical/1240k/\", prefix_out = \"e01/\")\n",
    "        df_roh = post_process_roh_df(df_roh, min_cm=min_cm, snp_cm=snp_cm) # Standad PP\n",
    "        df_rohs.append(df_roh)\n",
    "    return df_rohs"
   ]
  },
  {
   "cell_type": "code",
   "execution_count": 6,
   "metadata": {},
   "outputs": [],
   "source": [
    "def plot_chromosome(ax, l, x_pos, lw=24, df_roh = []):\n",
    "    \"\"\"Plot a Chromosome of length l with centromer ctr on ax \n",
    "    at x_pos\"\"\"\n",
    "    ln, = ax.plot([x_pos, x_pos], [-0.05,l+0.05], lw = lw, color=\"lightgray\",\n",
    "                      solid_capstyle = 'round', zorder=0,\n",
    "                  path_effects=[pe.Stroke(linewidth=lw+3, foreground='k'), pe.Normal()])\n",
    "    \n",
    "    ### Plot the ROH List if given\n",
    "    if len(df_roh) > 0:\n",
    "        starts, ends = df_roh[\"StartM\"].values, df_roh[\"EndM\"].values\n",
    "        \n",
    "        for i in range(len(df_roh)):\n",
    "            ax.plot([x_pos, x_pos], [starts[i], ends[i]], lw=lw, color=\"maroon\", \n",
    "                    zorder=1, alpha=1.0, solid_capstyle=\"butt\")"
   ]
  },
  {
   "cell_type": "code",
   "execution_count": 7,
   "metadata": {},
   "outputs": [],
   "source": [
    "def plot_roh_individual(iid=\"MA89\", fs=12, figsize=(8,8), save=False, min_cm=4, snp_cm=50):\n",
    "    \"\"\"Plot ROH in one ancient Individual\"\"\"\n",
    "    \n",
    "    ### Load the Data (could be done seperately)\n",
    "    df_rohs = load_individual_roh(iid, min_cm=min_cm, snp_cm=snp_cm)\n",
    "\n",
    "    plt.figure(figsize=figsize)\n",
    "    gs = gridspec.GridSpec(2, 1, height_ratios=[3, 2])\n",
    "    gs.update(hspace=0.1) # set the spacing between axes. \n",
    "\n",
    "    ax = plt.subplot(gs[0]) # The left subplot\n",
    "    ax1 = plt.subplot(gs[1]) # The middle one\n",
    "        \n",
    "    ### Plot the First 11 Chromosomes\n",
    "    for i in range(1,12):\n",
    "        rec, l = chrom_length(i)\n",
    "        plot_chromosome(ax, l, x_pos=(i), df_roh=df_rohs[i-1])  \n",
    "    \n",
    "    ### Plot the Second 11 Chromosomes\n",
    "    for i in range(12,23):\n",
    "        rec, l = chrom_length(i)\n",
    "        plot_chromosome(ax1, l, x_pos=(i - 11), df_roh=df_rohs[i-1])\n",
    "\n",
    "    ### Set the Plot Limits\n",
    "    ax.set_xlim([0.3, 11.5])\n",
    "    ax1.set_xlim([0.3, 11.5])\n",
    "\n",
    "    ax.set_ylim([-0.3,3.3])\n",
    "    ax1.set_ylim([-0.3, 2.05])\n",
    "\n",
    "    ### Turn off the Y Axis\n",
    "    for ax0 in [ax, ax1]:\n",
    "        ax0.spines['right'].set_visible(False)\n",
    "        ax0.spines['top'].set_visible(False)\n",
    "        ax0.spines['bottom'].set_visible(False)\n",
    "        ax0.yaxis.set_tick_params(labelsize=fs)\n",
    "\n",
    "    rang = np.arange(1,12)\n",
    "    ax.set_xticks(rang)\n",
    "    ax.set_xticklabels(rang, fontsize=fs)\n",
    "\n",
    "    ax1.set_xticks(rang)\n",
    "    ax1.set_xticklabels(rang+11, fontsize=fs)\n",
    "    ax1.set_xticklabels(rang+11, fontsize=fs)\n",
    "\n",
    "    if save==True:\n",
    "        savepath=\"./figures_test/\" + iid + \"_allchrroh.pdf\"\n",
    "        plt.savefig(savepath, bbox_inches = 'tight', pad_inches = 0)\n",
    "\n",
    "        savepath=\"./figures_test/\" + iid + \"_allchrroh.png\"\n",
    "        plt.savefig(savepath, bbox_inches = 'tight', pad_inches = 0)\n",
    "        print(f\"Saved to {savepath}\")\n",
    "    \n",
    "    ax.set_title(iid, fontsize=fs*2)\n",
    "    plt.show()"
   ]
  },
  {
   "cell_type": "code",
   "execution_count": 19,
   "metadata": {},
   "outputs": [
    {
     "name": "stdout",
     "output_type": "stream",
     "text": [
      "Saved to ./figures_test/MA89_allchrroh.png\n"
     ]
    },
    {
     "data": {
      "image/png": "[encoded data removed]",
      "text/plain": [
       "<Figure size 576x576 with 2 Axes>"
      ]
     },
     "metadata": {
      "needs_background": "light"
     },
     "output_type": "display_data"
    }
   ],
   "source": [
    "plot_roh_individual(iid=\"MA89\", save=True)  # MA89 #Ogl_5"
   ]
  },
  {
   "cell_type": "markdown",
   "metadata": {},
   "source": [
    "# Plot Distribution of different Relatedness Classes"
   ]
  },
  {
   "cell_type": "code",
   "execution_count": 10,
   "metadata": {},
   "outputs": [],
   "source": [
    "def expected_block_pdf(x, chr_l, m):\n",
    "    \"\"\"Gives back the pdfs for Blocks of Length l [Morgan]\n",
    "    on a Chromosome of Length [Morgan].\n",
    "    m: Nr of Meiosis.\n",
    "    Return PDF (per Morgan)\"\"\"\n",
    "    pdf0 = (chr_l - x) * m**2 * np.exp(-x * m)\n",
    "    pdf1 = 2 * np.exp(- x * m) * m \n",
    "    return (pdf0 + pdf1) * (x < chr_l)  # If x < chr_l return 0\n",
    "\n",
    "def expected_block_pdf_chromosomes(x, chr_lgts, m):\n",
    "    \"\"\"Calculate the PDF of ROH blocks of length x [Morgan]\n",
    "    for m Recombination events\n",
    "    x: Can be Array\n",
    "    chr_lgts: Array of all chromosome lengths [in Morgan]\n",
    "    Return PDF (per Morgan)\"\"\"\n",
    "    pdfs = [expected_block_pdf(x, chr_l, m) for chr_l in chr_lgts]\n",
    "    pdf_full = np.sum(pdfs, axis=0)\n",
    "    return pdf_full\n",
    "\n",
    "def coal_prob(m, comm_anc=1):\n",
    "    \"\"\"Calculate Coalescence Probability.\n",
    "    m: Nr of Meiosis\n",
    "    comm_anc: How many common ancestors\"\"\"\n",
    "    c_prob = comm_anc * (1 / 2) ** m\n",
    "    return c_prob\n",
    "\n",
    "def exp_blocks_full_individual(x, m, comm_anc=1):\n",
    "    \"\"\"Calculates the Expected Nr of ROH Blocks per Morgan for full Individual\n",
    "    x: Array of Block Lenths\n",
    "    m: Nr of Meisois\n",
    "    comm_anc: Nr of Ancestry Loops\"\"\"\n",
    "    \n",
    "    chr_lgts = [chrom_length(ch)[1] for ch in range(1,23)]\n",
    "    \n",
    "    pdf_full = expected_block_pdf_chromosomes(x, chr_lgts, m)\n",
    "    c_prob = coal_prob(m, comm_anc)\n",
    "    exp_blocks = pdf_full * c_prob\n",
    "    return exp_blocks"
   ]
  },
  {
   "cell_type": "code",
   "execution_count": 11,
   "metadata": {},
   "outputs": [
    {
     "name": "stdout",
     "output_type": "stream",
     "text": [
      "35.44562\n"
     ]
    }
   ],
   "source": [
    "### Create Some Test Case\n",
    "ch_lgts = [chrom_length(ch)[1] for ch in range(1,23)]\n",
    "print(np.sum(ch_lgts)) ## Total Length of Human Genome (in Morgan)"
   ]
  },
  {
   "cell_type": "code",
   "execution_count": 17,
   "metadata": {},
   "outputs": [],
   "source": [
    "def plot_pde_indivdiual(iid=\"MA89\", min_cm=4, snp_cm=50, bw_cm=4, kde_plot=False, plotlim=[4,100], savepath=\"\"):\n",
    "    \"\"\"Plot Histograms/PDEs of ROH Distribution for one Individual\n",
    "    bw_cm: Length of one Bin (in cM)\"\"\"\n",
    "    #######################\n",
    "    ### Load And Prepare Data\n",
    "    df_rohs = load_individual_roh(iid=iid, min_cm=min_cm, snp_cm=snp_cm)\n",
    "    df_roh = pd.concat(df_rohs)\n",
    "\n",
    "    bins = np.arange(plotlim[0], plotlim[1], bw_cm)\n",
    "    bin_mean = (bins[1:] + bins[:-1]) / 2.0  # Mean of each bin\n",
    "\n",
    "    block_pdf1 = exp_blocks_full_individual(bin_mean/100, m=6, comm_anc=4)\n",
    "    block_pdf2 = exp_blocks_full_individual(bin_mean/100, m=6, comm_anc=8)\n",
    "    block_pdf3 = exp_blocks_full_individual(bin_mean/100, m=5, comm_anc=4)\n",
    "\n",
    "    ### Do the Gaussian KDE:\n",
    "    kde = gaussian_kde(df_roh[\"lengthM\"]*100) # KDE per cM\n",
    "    #kde = gaussian_kde()\n",
    "    #######################\n",
    "    ### Do the Actual Plot\n",
    "    fs = 16\n",
    "\n",
    "    plt.figure(figsize=(8,6))\n",
    "    plt.hist(df_roh[\"lengthM\"]*100, bins=bins, ec=\"k\", fc=\"dodgerblue\", label=\"Observed ROH\")\n",
    "\n",
    "    plt.plot(bin_mean, bw_cm * block_pdf2/100, c=\"red\", label=\"Double First Cousin\", lw=3) # Plot Density Per cM (adjusted for bin width)\n",
    "    plt.plot(bin_mean, bw_cm * block_pdf3/100, c=\"green\", label=\"Nephew / Full Aunt\", lw=3) # Plot Density Per cM (adjusted for bin width)\n",
    "    plt.plot(bin_mean, bw_cm * block_pdf1/100, c=\"orange\", label=\"First Cousins\", lw=3) # Plot Density Per cM (adjusted for bin width)\n",
    "    \n",
    "    if kde_plot==True:\n",
    "        plt.plot(bin_mean, bw_cm * kde(bin_mean) * len(df_roh), \"k--\", label=\"KDE of observed ROH\", lw=2)\n",
    "\n",
    "    plt.xlabel(\"ROH Length [cm]\", fontsize=fs)\n",
    "    plt.ylabel(f\"Number per {bw_cm} cM Bin\", fontsize=fs)\n",
    "    plt.title(f\"Individual: {iid}\", fontsize=fs)\n",
    "    leg = plt.legend(loc = \"upper right\", fontsize=fs)\n",
    "    leg.set_title(\"Parents being...\", prop = {'size':fs})\n",
    "    \n",
    "    plt.tick_params(axis='both', which='major', labelsize=fs)\n",
    "    \n",
    "    if len(savepath)>0:\n",
    "        plt.savefig(savepath, bbox_inches = 'tight', pad_inches = 0)\n",
    "    plt.show()"
   ]
  },
  {
   "cell_type": "code",
   "execution_count": 18,
   "metadata": {},
   "outputs": [
    {
     "data": {
      "image/png": "[encoded data removed]",
      "text/plain": [
       "<Figure size 576x432 with 1 Axes>"
      ]
     },
     "metadata": {
      "needs_background": "light"
     },
     "output_type": "display_data"
    }
   ],
   "source": [
    "plot_pde_indivdiual(iid=\"MA89\", min_cm=3, bw_cm=4, kde_plot=False, plotlim=[4, 60], savepath=\"./figures/talk_harvard/MA89_density.pdf\") # Ogl_5"
   ]
  },
  {
   "cell_type": "code",
   "execution_count": 190,
   "metadata": {},
   "outputs": [
    {
     "name": "stdout",
     "output_type": "stream",
     "text": [
      "Total Expected Nr of Blocks: 1.0006\n",
      "Expected Sum of Block Sharing: 13.0479 cM\n"
     ]
    }
   ],
   "source": [
    "### Sanity Check: Calculate total expected Block Sharing Lengths:\n",
    "x_arr = np.linspace(0.04, 1.5, 200)\n",
    "bin_width=x_arr[1] - x_arr[0]\n",
    "\n",
    "block_pdf = exp_blocks_full_individual(x_arr, m=10, comm_anc=4)  # That should be full first Cousin m=6/comm_ancs=4\n",
    "e_blocks = block_pdf * bin_width\n",
    "\n",
    "e_lengths = e_blocks * x_arr\n",
    "\n",
    "print(f\"Total Expected Nr of Blocks: {np.sum(e_blocks):.4f}\")\n",
    "print(f\"Expected Sum of Block Sharing: {np.sum(e_lengths)*100:.4f} cM\")"
   ]
  },
  {
   "cell_type": "markdown",
   "metadata": {},
   "source": [
    "# Area 51"
   ]
  },
  {
   "cell_type": "markdown",
   "metadata": {},
   "source": [
    "##Try Plotting various relationships in one plot"
   ]
  }
 ],
 "metadata": {
  "kernelspec": {
   "display_name": "Python 3",
   "language": "python",
   "name": "python3"
  },
  "language_info": {
   "codemirror_mode": {
    "name": "ipython",
    "version": 3
   },
   "file_extension": ".py",
   "mimetype": "text/x-python",
   "name": "python",
   "nbconvert_exporter": "python",
   "pygments_lexer": "ipython3",
   "version": "3.7.0"
  }
 },
 "nbformat": 4,
 "nbformat_minor": 2
}
