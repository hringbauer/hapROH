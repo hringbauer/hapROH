{
 "cells": [
  {
   "cell_type": "markdown",
   "metadata": {},
   "source": [
    "# Plot downsampled Ancients\n",
    "Take the high-coverage Ancients, and plot results from their downampled Versions\n",
    "1. Ancient SA: Are prepared in ./PrepareData/prepare_SA_readcount.ipynb and then run via ./ParallelRuns/parallel_AS_hdf5_callroh.ipynb"
   ]
  },
  {
   "cell_type": "code",
   "execution_count": 6,
   "metadata": {},
   "outputs": [
    {
     "name": "stdout",
     "output_type": "stream",
     "text": [
      "midway2-0406.rcc.local\n",
      "Midway jnovmbre partition detected.\n",
      "/project2/jnovembre/hringbauer/HAPSBURG\n",
      "CPU Count: 28\n"
     ]
    }
   ],
   "source": [
    "import numpy as np\n",
    "import matplotlib.pyplot as plt\n",
    "import os  # For Saving to Folder\n",
    "import pandas as pd\n",
    "from matplotlib import gridspec\n",
    "\n",
    "##############################\n",
    "import socket\n",
    "import os as os\n",
    "import sys as sys\n",
    "import multiprocessing as mp\n",
    "\n",
    "socket_name = socket.gethostname()\n",
    "print(socket_name)\n",
    "if socket_name == \"VioletQueen\":\n",
    "    path = \"/home/harald/git/HAPSBURG/\"   # The Path on Harald's machine\n",
    "elif socket_name.startswith(\"midway2\"):\n",
    "    print(\"Midway jnovmbre partition detected.\")\n",
    "    path = \"/project2/jnovembre/hringbauer/HAPSBURG/\"  # The Path on Midway Cluster\n",
    "else: \n",
    "    raise RuntimeWarning(\"Not compatible machine. Check!!\")\n",
    "    \n",
    "os.chdir(path)  # Set the right Path (in line with Atom default)\n",
    "print(os.getcwd()) # Show the current working directory. Should be HAPSBURG/Notebooks/ParallelRuns\n",
    "print(f\"CPU Count: {mp.cpu_count()}\")\n",
    "\n",
    "sys.path.append(\"./PackagesSupport/\")\n",
    "from pp_individual_roh_csvs import create_combined_ROH_df"
   ]
  },
  {
   "cell_type": "markdown",
   "metadata": {},
   "source": [
    "## Prepare Data"
   ]
  },
  {
   "cell_type": "markdown",
   "metadata": {},
   "source": [
    "### Ancient South Americans: Take example IPK12"
   ]
  },
  {
   "cell_type": "code",
   "execution_count": 109,
   "metadata": {},
   "outputs": [],
   "source": [
    "### Get the Individual names\n",
    "base_path = \"./Empirical/1240k/SA_Readcounts/Downsample_IPK12/\"\n",
    "iid = \"IPK12\"   ###['IPY10', 'IPK12', 'MA577', '894', '895']\n",
    "suffix = \"_roh_full.csv\"\n",
    "down_sampling_covs = np.geomspace(0.04, 1.0, 10)[:6]  # Modify depending on how much Coverage has been loaded\n",
    "cms = [4, 8, 12]\n",
    "gap = 0.5\n",
    "\n",
    "samples = np.array([iid + f\"{c:.4f}\" for c in down_sampling_covs])   # Numpy Array for better slicing\n",
    "paths = [os.path.join(base_path, s[:10] + suffix) for s in samples]\n",
    "\n",
    "df_ipk12s = [] # For each cM cutoff one df\n",
    "for cm in cms:\n",
    "    df_ipk12 = create_combined_ROH_df(paths, samples, pops=samples, min_cm=cm, snp_cm=50, gap=gap, output=False)\n",
    "    df_ipk12[\"mean_cov\"] = down_sampling_covs * 10.439\n",
    "    df_ipk12s.append(df_ipk12)"
   ]
  },
  {
   "cell_type": "code",
   "execution_count": 110,
   "metadata": {},
   "outputs": [],
   "source": [
    "### Load the Pseudohaploid Sum ROH\n",
    "paths = [\"./Empirical/Eigenstrat/Reichall/IPK12.SG_roh_full.csv\",]\n",
    "cms = [4, 8, 12]\n",
    "iids=np.array([\"IPK12,\"])\n",
    "sum_rohs_IPK12 = [create_combined_ROH_df(paths, iids, iids, min_cm=cm, snp_cm=50, gap=gap, output=False)[\"sum_roh\"].values[0] for cm in cms]"
   ]
  },
  {
   "cell_type": "markdown",
   "metadata": {},
   "source": [
    "## Do the Plot"
   ]
  },
  {
   "cell_type": "code",
   "execution_count": 112,
   "metadata": {},
   "outputs": [
    {
     "data": {
      "image/png": "[encoded data removed]",
      "text/plain": [
       "<Figure size 576x432 with 1 Axes>"
      ]
     },
     "metadata": {
      "needs_background": "light"
     },
     "output_type": "display_data"
    }
   ],
   "source": [
    "#def plot_downsample_fig(df1):\n",
    "fs=16\n",
    "fs_leg=10\n",
    "mss = [\"bo-\", \"bo--\", \"bo-.\"]\n",
    "\n",
    "plt.figure(figsize=(8, 6))\n",
    "\n",
    "### IPK12\n",
    "for i, cm in enumerate(cms):\n",
    "    df_ipk12 = df_ipk12s[i]\n",
    "    plt.plot(df_ipk12[\"mean_cov\"], df_ipk12[\"sum_roh\"], mss[i], label=f\"IPK12, Patagonia, 1000 y BP, >{cm}cm\", lw=2, ms=8, zorder=0)\n",
    "    \n",
    "    ### Plot PH Line\n",
    "plt.scatter(np.ones(len(cms)), sum_rohs_IPK12, c=\"r\", s=80, ec=\"k\", label=\"PseudoHaploid (Eigenstrat)\", zorder=1)\n",
    "    \n",
    "    \n",
    "plt.legend(loc=\"lower right\", fontsize=fs_leg)\n",
    "plt.ylim([0, 700])\n",
    "\n",
    "plt.ylabel(\"Sum ROH >x cM\", fontsize=fs)\n",
    "plt.xlabel(\"Mean Depth [x]\", fontsize=fs)\n",
    "#plt.xscale(\"log\")\n",
    "plt.show()"
   ]
  },
  {
   "cell_type": "code",
   "execution_count": null,
   "metadata": {},
   "outputs": [],
   "source": [
    "plot_"
   ]
  },
  {
   "cell_type": "markdown",
   "metadata": {},
   "source": [
    "# Area 51"
   ]
  },
  {
   "cell_type": "code",
   "execution_count": 17,
   "metadata": {},
   "outputs": [
    {
     "data": {
      "text/html": [
       "<div>\n",
       "<style scoped>\n",
       "    .dataframe tbody tr th:only-of-type {\n",
       "        vertical-align: middle;\n",
       "    }\n",
       "\n",
       "    .dataframe tbody tr th {\n",
       "        vertical-align: top;\n",
       "    }\n",
       "\n",
       "    .dataframe thead th {\n",
       "        text-align: right;\n",
       "    }\n",
       "</style>\n",
       "<table border=\"1\" class=\"dataframe\">\n",
       "  <thead>\n",
       "    <tr style=\"text-align: right;\">\n",
       "      <th></th>\n",
       "      <th>iid</th>\n",
       "      <th>pop</th>\n",
       "      <th>max_roh</th>\n",
       "      <th>sum_roh</th>\n",
       "      <th>n_roh</th>\n",
       "      <th>mean_cov</th>\n",
       "    </tr>\n",
       "  </thead>\n",
       "  <tbody>\n",
       "    <tr>\n",
       "      <th>0</th>\n",
       "      <td>IPK120.0400</td>\n",
       "      <td>IPK120.0400</td>\n",
       "      <td>38.902801</td>\n",
       "      <td>612.954906</td>\n",
       "      <td>72</td>\n",
       "      <td>0.040000</td>\n",
       "    </tr>\n",
       "    <tr>\n",
       "      <th>1</th>\n",
       "      <td>IPK120.0572</td>\n",
       "      <td>IPK120.0572</td>\n",
       "      <td>30.416703</td>\n",
       "      <td>518.499900</td>\n",
       "      <td>62</td>\n",
       "      <td>0.057199</td>\n",
       "    </tr>\n",
       "    <tr>\n",
       "      <th>2</th>\n",
       "      <td>IPK120.0818</td>\n",
       "      <td>IPK120.0818</td>\n",
       "      <td>30.244600</td>\n",
       "      <td>510.211080</td>\n",
       "      <td>56</td>\n",
       "      <td>0.081792</td>\n",
       "    </tr>\n",
       "  </tbody>\n",
       "</table>\n",
       "</div>"
      ],
      "text/plain": [
       "           iid          pop    max_roh     sum_roh  n_roh  mean_cov\n",
       "0  IPK120.0400  IPK120.0400  38.902801  612.954906     72  0.040000\n",
       "1  IPK120.0572  IPK120.0572  30.416703  518.499900     62  0.057199\n",
       "2  IPK120.0818  IPK120.0818  30.244600  510.211080     56  0.081792"
      ]
     },
     "execution_count": 17,
     "metadata": {},
     "output_type": "execute_result"
    }
   ],
   "source": [
    "df1"
   ]
  },
  {
   "cell_type": "code",
   "execution_count": null,
   "metadata": {},
   "outputs": [],
   "source": []
  }
 ],
 "metadata": {
  "kernelspec": {
   "display_name": "Python 3",
   "language": "python",
   "name": "python3"
  },
  "language_info": {
   "codemirror_mode": {
    "name": "ipython",
    "version": 3
   },
   "file_extension": ".py",
   "mimetype": "text/x-python",
   "name": "python",
   "nbconvert_exporter": "python",
   "pygments_lexer": "ipython3",
   "version": "3.7.0"
  }
 },
 "nbformat": 4,
 "nbformat_minor": 2
}
