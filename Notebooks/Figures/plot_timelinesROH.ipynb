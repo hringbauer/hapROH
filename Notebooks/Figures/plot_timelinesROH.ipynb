{
 "cells": [
  {
   "cell_type": "markdown",
   "metadata": {},
   "source": [
    "# Plot timelines of ROH sharing\n",
    "Plot individuals against their estimated age.\n",
    "Input: Post-processed Master .csv (pandas dfs) with individual ROH statistics and meta information (in particular age). Created from `./NotebooksProcessData/combine_roh_results.ipynb`"
   ]
  },
  {
   "cell_type": "code",
   "execution_count": 4,
   "metadata": {},
   "outputs": [
    {
     "name": "stdout",
     "output_type": "stream",
     "text": [
      "midway2-0401.rcc.local\n",
      "Midway jnovmbre partition detected.\n",
      "/project2/jnovembre/hringbauer/HAPSBURG\n",
      "CPU Count: 28\n"
     ]
    }
   ],
   "source": [
    "import numpy as np\n",
    "import os  # For Saving to Folder\n",
    "import pandas as pd\n",
    "import matplotlib.pyplot as plt\n",
    "import matplotlib.cm as cm\n",
    "import matplotlib.colorbar as clb\n",
    "import matplotlib.colors as cls\n",
    "from matplotlib.lines import Line2D\n",
    "from matplotlib import gridspec\n",
    "from mpl_toolkits.axes_grid1 import make_axes_locatable\n",
    "from mpl_toolkits.basemap import Basemap\n",
    "from sklearn.gaussian_process import GaussianProcessRegressor\n",
    "from sklearn.gaussian_process.kernels import RBF, WhiteKernel\n",
    "\n",
    "import socket\n",
    "import os as os\n",
    "import sys as sys\n",
    "import multiprocessing as mp\n",
    "\n",
    "### For Arial Font\n",
    "from matplotlib import rcParams\n",
    "rcParams['font.family'] = 'sans-serif'   # Set the defaul\n",
    "rcParams['font.sans-serif'] = ['Arial']  # Make sure to have the font installed (it is on cluster for Harald)\n",
    "rcParams['axes.linewidth'] = 0.2  # Set the Default Size of the Boundary for small 2.25in width figures\n",
    "\n",
    "### To do lowess smoothing\n",
    "import statsmodels.api as sm\n",
    "lowess = sm.nonparametric.lowess\n",
    "\n",
    "socket_name = socket.gethostname()\n",
    "print(socket_name)\n",
    "if socket_name == \"VioletQueen\":\n",
    "    path = \"/home/harald/git/HAPSBURG/\"   # The Path on Harald's machine\n",
    "elif socket_name.startswith(\"midway2\"):\n",
    "    print(\"Midway jnovmbre partition detected.\")\n",
    "    path = \"/project2/jnovembre/hringbauer/HAPSBURG/\"  # The Path on Midway Cluster\n",
    "elif socket_name.startswith(\"Harald-Laptop\"):\n",
    "    print(\"Harald's new laptop detected!\")\n",
    "    path = \"/home/hringbauer/git/HAPSBURG/\" \n",
    "else: \n",
    "    raise RuntimeWarning(\"Not compatible machine. Check!!\")\n",
    "    \n",
    "os.chdir(path)  # Set the right Path (in line with Atom default)\n",
    "print(os.getcwd()) # Show the current working directory. Should be HAPSBURG/Notebooks/ParallelRuns\n",
    "print(f\"CPU Count: {mp.cpu_count()}\")\n",
    "\n",
    "### Additional Imports\n",
    "sys.path.append(\"./package/\") # Append HAPSBURG\n",
    "from hapsburg.PackagesSupport.sqrt_scale import SquareRootScale # Import Matplotlib sqrt scale"
   ]
  },
  {
   "cell_type": "markdown",
   "metadata": {},
   "source": [
    "### Definie Plotting Function for Timelines"
   ]
  },
  {
   "cell_type": "code",
   "execution_count": 43,
   "metadata": {},
   "outputs": [],
   "source": [
    "def plot_scatter_cutoff(ax, age, roh, colors, labels, s, lw=1.0, ec=\"k\", \n",
    "                        zorder=10, def_color=\"silver\", clip_on=True, cutoff=1000):\n",
    "    \"\"\"Plot Scatter, with arrows on top.\n",
    "    cutoff: The maximum Value to plot\"\"\"\n",
    "    \n",
    "    idx = (roh<cutoff)\n",
    "    \n",
    "    ax.scatter(age[idx], roh[idx], c=colors[idx], \n",
    "               ec=ec, s=s, zorder=zorder, \n",
    "               lw=lw, clip_on=clip_on)\n",
    "    \n",
    "    y = [cutoff,] * np.sum(~idx)\n",
    "    \n",
    "    ax.scatter(age[~idx], y, c=colors[~idx], \n",
    "               ec=ec, s=s, marker=\"^\", zorder=zorder, \n",
    "               lw=lw, clip_on=clip_on)\n",
    "\n",
    "def plot_scatter_by_color(ax, age, roh, colors, labels, s, lw=1.0, ec=\"k\", \n",
    "                          zorder=10, def_color=\"silver\", clip_on=True):\n",
    "    \"\"\"Split up df per color, used to create legend\n",
    "    (based on \"clst\" column). If default color (def_color) don't add label\"\"\"\n",
    "    for c in pd.unique(np.array(colors)):\n",
    "        idx = (colors == c)\n",
    "        if c!=def_color:\n",
    "            ax.scatter(age[idx], roh[idx], c=c, ec=ec, s=s, \n",
    "                       label=labels[idx][0], lw=lw, zorder=zorder, \n",
    "                       clip_on=clip_on)\n",
    "        else:   # If default color don't plot label\n",
    "            ax.scatter(age[idx], roh[idx], c=c, ec=ec, s=s, zorder=zorder, \n",
    "                       lw=lw, clip_on=clip_on)\n",
    "            \n",
    "def plot_violin_ax(df, x=0, ax=0, figsize=(6,6), cm=4, cm1=0, widths=50, ec=\"k\", c=\"yellow\", \n",
    "                   alpha=0.5, zorder=0, col_median=\"red\", lw=0.4, roh_ofst=0.1):\n",
    "    \"\"\"Do a Violin Plot (usually on modern data)\n",
    "    ax: If given plot on this Axis Object\n",
    "    x: X Coordinate where to plot\n",
    "    df: Dataframe containing on which x position to plot\n",
    "    widths: With of the Violin\"\"\"\n",
    "    ### Extract Data\n",
    "    roh = df[f\"sum_roh>{cm}\"].values + roh_ofst\n",
    "    if len(c)==0:\n",
    "        c = df[\"color\"].values[0]\n",
    "    if cm1>0:\n",
    "        assert(np.sum(df[f\"sum_roh>{cm}\"].values < df[f\"sum_roh>{cm1}\"].values)==0)\n",
    "        roh = (df[f\"sum_roh>{cm}\"].values+0.1) - df[f\"sum_roh>{cm1}\"].values\n",
    "    \n",
    "    if ax==0:  \n",
    "        plt.figure(figsize=figsize)\n",
    "        ax = plt.gca()\n",
    "        \n",
    "    parts = ax.violinplot(roh, showmeans=False, positions=[x],\n",
    "                       showmedians=False, showextrema=False, widths=widths)\n",
    "    for i, pc in enumerate(parts['bodies']):\n",
    "        pc.set_facecolor(c)\n",
    "        pc.set_edgecolor(ec)\n",
    "        pc.set_alpha(alpha)\n",
    "        pc.set_linewidth(lw)\n",
    "\n",
    "    #quartile1, medians, quartile3 = np.percentile(roh, [25, 50, 75])\n",
    "    #ax.scatter(x, medians, marker='o', color=col_median, s=20, zorder=3, label=\"Median Modern\")\n",
    "    #ax.vlines(x, quartile1, quartile3, color='k', linestyle='-', lw=5, label=\"25-75% Quartile Modern\")\n",
    "\n",
    "def plot_lowess_smoothing(df, cm=4, cm1=0, fs=14, fsl=10, fs_leg=7, ec=\"k\", lw=1.0, ticks = [3539.39/16, 3539.39/64], tick_l=[\"1st C.\", \"2nd C.\"], \n",
    "                          figsize=(14,6), title=\"\", dpi=300, savepath=\"\",  xlim=[], ylim=[], s=40, frac=2/3, roh_ofst=0.1,\n",
    "                          cust_c=True, lw_fit=2.5, width_t=2, length_t=6, yl_pad=0, labelpad=10, lw_hline=0.4,\n",
    "                          std_band=0, lgth_s=[500,2000], err_s=[2,4], max_f_age=0, t_offset=0, clip_on=False,\n",
    "                          leg_loc=\"upper right\", ax=0, swap_ax=True, show=True, xticks=False, rightcol=True):\n",
    "    \"\"\"Plot Lowess Smoothing of ROH vrs Age.\n",
    "    df: Which Dataframe to use [standard pp format]\n",
    "    cm: Length of blocks to plot. \n",
    "    cm1: Maximum block length to plot (if 0, none)\n",
    "    savepath: If given save figure to there\n",
    "    tot_l: Total length of accessible Chromosome [in cM]\n",
    "    frac: Fraction Parameter to use for Lowess Smoothing.\n",
    "    leg_loc: Where to plot the Legend. If no string given do not plot at all\n",
    "    swap_ax: Whether to swap left/right tick axis\n",
    "    std_band: How many standard deviations to plot (1.96. is 95%). If >0 use gp model\n",
    "    lght_s: Length Scale of Gaussian Kernel to fit\n",
    "    err_s: Error Scale of Gaussian Kernel to fit\n",
    "    max_f_age: Maximum Age of sample to include in GP\n",
    "    fs/fsl: Fontsize Axis / Fontsize Legend/Cousin Ticks\n",
    "    lw: Linewidth in the Scatter Plot points\n",
    "    ec: Edge Color of Scatter Plot points\n",
    "    t_offset: Vertical Offset of the Ne/Cousin Text\n",
    "    width_t, length_t: Width and Length of Axis Ticks\n",
    "    roh_ofst: Y offset of ROH (aids plotting 0s)\n",
    "    yl_pad: Tick Label Pad of y Axis\"\"\"\n",
    "    \n",
    "    ### Extract what to plot from dataframe\n",
    "    df = df.sort_values(by=\"age\", ascending=False) # Sort by age from old to young\n",
    "    age,roh,labels = df[\"age\"].values, df[f\"sum_roh>{cm}\"].values+roh_ofst, df[\"clst\"].values\n",
    "    if cm1>0:\n",
    "        assert(np.sum(df[f\"sum_roh>{cm}\"].values < df[f\"sum_roh>{cm1}\"].values)==0)\n",
    "        roh = (df[f\"sum_roh>{cm}\"].values - df[f\"sum_roh>{cm1}\"].values) + roh_ofst\n",
    "    c = \"b\" \n",
    "    if cust_c==True:\n",
    "        c = df[\"color\"].values\n",
    "    \n",
    "    ### Make new axis if none given\n",
    "    if ax==0:  \n",
    "        plt.figure(figsize=figsize)\n",
    "        ax = plt.gca()\n",
    "    \n",
    "    plot_scatter_cutoff(ax, age, roh, colors=c, \n",
    "                        labels=labels, s=s, lw=lw, ec=ec, \n",
    "                        clip_on=clip_on, cutoff=ylim[1])\n",
    "    \n",
    "    #plot_scatter_by_color(ax, age0, roh0, colors=c0, labels=labels, \n",
    "    #                      s=s, lw=lw, ec=ec, clip_on=clip_on)\n",
    "    \n",
    "    if frac>0.0:\n",
    "        z = lowess_sqrt(age, roh, frac=frac)\n",
    "        plt.plot(z[:,0], z[:,1], \"k-\", label=r\"Lowess Smoothing ($\\sqrt{x}$)\", \n",
    "                 lw=lw_fit, zorder=1)\n",
    "    \n",
    "    if std_band>0:\n",
    "        if max_f_age>0:\n",
    "            idx = age<max_f_age\n",
    "            age, roh = age[idx], roh[idx]\n",
    "        x, y, y_up, y_down, y_up_mean, y_down_mean = fit_gp(age, roh, std_band=std_band, lgth_s=lgth_s, err_s=err_s)\n",
    "        ax.plot(x, y, \"k-\", label=r\"GP Estimation ($\\sqrt{x}$)\", \n",
    "                 lw=lw_fit, zorder=1)\n",
    "        ax.fill_between(x, y_down, y_up, alpha=0.1, lw=0, color='k', \n",
    "                        label=f\"95% CI Point\", zorder=0)\n",
    "        ax.fill_between(x, y_down_mean, y_up_mean, alpha=0.25, lw=0, color='k', \n",
    "                        label=f\"95% CI Mean\", zorder=0.5)\n",
    "        \n",
    "    if len(xlim)>0:\n",
    "        ax.set_xlim(xlim)\n",
    "    if not xticks:\n",
    "        ax.set_xticks([])\n",
    "        \n",
    "    if len(ylim)>0:\n",
    "        ax.set_ylim(ylim)\n",
    "        \n",
    "    if len(leg_loc)>0:\n",
    "        ax.legend(loc=leg_loc, fontsize=fs_leg)\n",
    "    if len(title)>0:\n",
    "        ax.set_title(title, fontsize=fs)\n",
    "\n",
    "    ### Horizontal Lines\n",
    "    for i in range(len(ticks)):\n",
    "        ax.axhline(ticks[i], color=\"gray\", lw=lw_hline, ls=\"--\")\n",
    "        if len(tick_l)>0:\n",
    "            ax.text(xlim[1], ticks[i] + t_offset, \n",
    "                    tick_l[i], fontsize=fsl, \n",
    "                    ha=\"left\", va=\"bottom\", zorder=0)\n",
    "        \n",
    "    ax.invert_xaxis()\n",
    "    ax.set_yscale('squareroot')\n",
    "    \n",
    "    ### Make left/right ticks (after Plotting!):\n",
    "    ax2 = ax.twinx()\n",
    "    ax2.set_ylim(ax.get_ylim())\n",
    "    ax2.set_yscale('squareroot')\n",
    "    \n",
    "    if swap_ax:\n",
    "        ax, ax2 = ax2, ax # Hack to swap left and right\n",
    "    \n",
    "    ax2.set_yticks([])\n",
    "    ax.tick_params(axis='both', which='major', labelsize=fsl, \n",
    "                   width=width_t, length=length_t, pad=yl_pad)\n",
    "    #ax2.tick_params(axis='y', direction='in', labelsize=fsl, pad=5)\n",
    "\n",
    "    # Do the original axis\n",
    "    ax.set_xlabel(\"Age BP [years]\", fontsize=fs)\n",
    "    \n",
    "    if rightcol:  # Plot only if right column\n",
    "        if cm1>0:\n",
    "            ax.set_ylabel(f\"Sum ROH {cm}-{cm1} cM [cM]\", fontsize=fs, rotation=270, labelpad=labelpad)\n",
    "        elif cm1==0:\n",
    "            ax.set_ylabel(f\"Sum ROH >{cm} cM [cM]\", fontsize=fs, rotation=270, labelpad=labelpad)\n",
    "    else:\n",
    "        ax.set_yticklabels([])\n",
    "        \n",
    "    if len(savepath)>0:\n",
    "        plt.savefig(savepath, bbox_inches = 'tight', pad_inches = 0, dpi=dpi)\n",
    "        print(f\"Saved to {savepath}\")\n",
    "    \n",
    "    if show:\n",
    "        plt.show()\n",
    "\n",
    "##########################################################################\n",
    "### Functions to fit\n",
    "def lowess_sqrt(x, y, frac=2/3):\n",
    "    \"\"\"Do a Lowess fitting on the sqrt.\n",
    "    frac: parameter for lowess smoothing\"\"\"\n",
    "    y=np.sqrt(y)\n",
    "    z = lowess(y, x, frac=frac)\n",
    "    z[:,1]=z[:,1]**2\n",
    "    return z\n",
    "\n",
    "def fit_gp(x, y, sqrt=True, in_lengthscale=0, in_noise=2.0, \n",
    "           std_band = 1.96, lgth_s=[500, 2000], err_s=[2,4]):\n",
    "    \"\"\"Fit Gaussian Process.\n",
    "    If sqrt: Take the square root for fit.\n",
    "    Return: x, y, y_max, y_min\"\"\"\n",
    "    if sqrt:\n",
    "        y=np.sqrt(y)\n",
    "    \n",
    "    ### Sort Values\n",
    "    idx =np.argsort(x)\n",
    "    x=x[idx]\n",
    "    y=y[idx]\n",
    "    \n",
    "    if in_lengthscale == 0:\n",
    "        in_lengthscale = (lgth_s[0] + lgth_s[1])/2 # Set it to mean\n",
    "        \n",
    "    X = x[:, np.newaxis]\n",
    "    kernel = 1.0 * RBF(length_scale=in_lengthscale, length_scale_bounds=lgth_s) \\\n",
    "                + WhiteKernel(noise_level=in_noise, noise_level_bounds=err_s)\n",
    "    gp = GaussianProcessRegressor(kernel=kernel,\n",
    "                                  alpha=0.0).fit(X, y)\n",
    "    \n",
    "    X_ = np.linspace(np.min(x), np.max(x), 1000)\n",
    "    y_mean, y_cov = gp.predict(X_[:, np.newaxis], return_cov=True)\n",
    "    \n",
    "    title = \"Initial: %s\\nOptimum: %s\\nLog-Marginal-Likelihood: %s\" % (kernel, gp.kernel_,\n",
    "                 gp.log_marginal_likelihood(gp.kernel_.theta))\n",
    "    print(title)\n",
    "    y_up = y_mean + std_band * np.sqrt(np.diag(y_cov))\n",
    "    y_down = y_mean - std_band * np.sqrt(np.diag(y_cov)) \n",
    "    \n",
    "    error_var = gp.kernel_.get_params()[\"k2__noise_level\"]\n",
    "    stds = np.sqrt(np.diag(y_cov) - error_var)\n",
    "    assert(np.min(stds)>=0)  # Sanity Check that Error in Mean is >0:\n",
    "    y_up_mean =  y_mean + std_band * stds\n",
    "    y_down_mean = y_mean - std_band * stds \n",
    "    \n",
    "    if sqrt:\n",
    "        y_mean, y_up, y_down = np.maximum(y_mean,0)**2, y_up**2, np.maximum(y_down,0)**2\n",
    "        y_up_mean, y_down_mean = y_up_mean**2, np.maximum(y_down_mean,0)**2\n",
    "        \n",
    "    return X_, y_mean, y_up, y_down, y_up_mean, y_down_mean\n",
    "\n",
    "####################################################\n",
    "##### Helper Functions to prepare plotting Dataframes\n",
    "def extract_pop(df, age_range=[], pop=\"\"):\n",
    "    \"\"\"Assumes plotting Dataframe is pre-produced.\n",
    "    Return Legend as well\"\"\"\n",
    "    mod_idx = (df[\"age\"]==0) ## Ancient Indices\n",
    "    anc_idx = ~mod_idx\n",
    "    if len(pop)>0:\n",
    "        df = df[df[\"region\"]==pop].copy()\n",
    "    if len(age_range)>0:\n",
    "        df = extract_df_age(df, age_range[0], age_range[1]).copy()\n",
    "    return df\n",
    "\n",
    "def prep_label(df, pop, only_anc=True):\n",
    "    \"\"\"Prepare a label string to use in legend.\n",
    "    pop: Population that's going to be used [string]\n",
    "    only_anc: Whether to only count ancients\"\"\"\n",
    "    if only_anc:\n",
    "        n_mod = np.sum(df[\"age\"]>0)\n",
    "    else:\n",
    "        n_mod = len(df)\n",
    "    label = f\"{pop}\\n(n={n_mod})\"\n",
    "    return label\n",
    "\n",
    "def extract_df_age(df, age0, age1=1e6):\n",
    "    \"\"\"Extract Dataframe based on age.\n",
    "    df: Input Dataframe; age0 and age1 min and max age\"\"\"\n",
    "    age_okay = (df[\"age\"]>=age0) & (df[\"age\"]<=age1)\n",
    "    df = df[age_okay]\n",
    "    return df\n",
    "\n",
    "############################################################\n",
    "############################################################\n",
    "\n",
    "\n",
    "def plot_map_ax(df, ax, crs=[30, 60, -10, 40], s=40, vrange=[0, 7500], cmap=\"viridis_r\", map_title=\"\", title_loc=(0.1,0.1), lw=1.0, ec=\"k\",\n",
    "                fs_label=14, figsize=(12,11), states=False, countries=False,\n",
    "                annotate=False, fs_labels=14, ew=0.5, y_off=1, title=\"\", plot_mod=True, \n",
    "                vrange_a=[], mm=3.1, hspace=0.02, fs=18, col_cont = \"#d9d9d9\", col_lake = \"#d9d9d9\", \n",
    "                show=True, lw_coast=0.5, res=\"i\"): \n",
    "    \"\"\"Plot a continent, based on coordinates in df\n",
    "    df: Pandas Datframe with lat lon column\n",
    "    crs: [4], Corners of plot (lat and then lon)\n",
    "    vrange: Normalization range for color [cM]\n",
    "    shiftlong: Add to longitude (in cases for map on South America)\n",
    "    vrange_a: The Age Range to Plot\n",
    "    col_cont: Color of the Continent: \"#d9d9d9\" is very faint gray from Sardinia paper\n",
    "    lw: Width of Scatter point edges\n",
    "    ec: Color of Scatter point edges\n",
    "    res: Resolution of Coastline: c l m i h\"\"\"\n",
    "    if not plot_mod:\n",
    "        df = df[df[\"age\"]>0].copy() \n",
    "    lon, lat = df[\"lon\"].values, df[\"lat\"].values\n",
    "    colors = df[\"age\"]  ### Plot based on sum roh\n",
    "    cmap = cm.get_cmap(cmap)\n",
    "    norm = plt.Normalize(vrange[0], vrange[1]) \n",
    "    \n",
    "    m = Basemap(projection='merc', llcrnrlat=crs[0], urcrnrlat=crs[1],\\\n",
    "                llcrnrlon=crs[2], urcrnrlon=crs[3], resolution=res, ax=ax)  # mill\n",
    "    m.fillcontinents(color=col_cont, zorder=0, lake_color=col_lake)\n",
    "    #m.etopo(scale=0.5, alpha=0.4)  # Topological Map\n",
    "    m.drawcoastlines(color='gray', zorder=0, linewidth=lw_coast)\n",
    "    if countries:\n",
    "        m.drawcountries(color=\"dimgray\")\n",
    "    if states:\n",
    "        m.drawstates()\n",
    "        \n",
    "    coords = np.array([m(lon[i], lat[i]) for i in range(len(lon))])\n",
    "    x,y = np.array(coords[:,0]), np.array(coords[:,1])\n",
    "    ax.scatter(x, y, c=colors, ec=ec, lw=lw, s=s, cmap=cmap, norm=norm, zorder=3)\n",
    "    \n",
    "    if annotate:\n",
    "        for i, txt in enumerate(df[\"iid\"]):\n",
    "            ax.text(x[i], y[i]+y_off, txt, fontsize=fs_labels, zorder=1, ha=\"center\", clip_on=True)\n",
    "\n",
    "    if len(title)>0:\n",
    "        ax.set_title(title, fontsize=fs_labels)\n",
    "    if len(map_title)>0:\n",
    "        ax.text(title_loc[0], title_loc[1], map_title,\n",
    "                fontsize=fs, transform=ax.transAxes, \n",
    "                ha=\"left\", va=\"bottom\")\n",
    "    if show:\n",
    "        plt.show()\n",
    "    \n",
    "def plot_colorbar_age(ax, fs_label, cmap, vrange, xlim=[], labelpad=10, \n",
    "                      invert=True, bottomrow=True, width_t=2, length_t=6,\n",
    "                      xl_pad=0):\n",
    "    \"\"\"Code for plotting a colorbar of age onto axis Object\"\"\"\n",
    "    if len(xlim)==0:\n",
    "        xlim=vrange\n",
    "    cmap = cm.get_cmap(cmap)\n",
    "    norm = plt.Normalize(vrange[0], vrange[1]) \n",
    "    cb1 = clb.ColorbarBase(ax, cmap=cmap,\n",
    "                           norm=norm, orientation='horizontal') # For the /1e3 format\n",
    "    cb1.ax.tick_params(axis='x', direction='in', labelsize=fs_label,\n",
    "                       width=width_t, length=length_t, pad=xl_pad)\n",
    "    cb1.solids.set_edgecolor(\"face\")\n",
    "    ax.set_xlim(xlim)  #vrange\n",
    "    if bottomrow:\n",
    "        cb1.ax.set_xlabel('Age [years BP]', fontsize=fs_label, rotation=0, labelpad=labelpad)\n",
    "    else:\n",
    "        cb1.ax.set_xticklabels([])\n",
    "    if invert:\n",
    "        ax.invert_xaxis()\n",
    "\n",
    "def filter_cousins(df, cutoff=[20,100], cousins_vec=[[20,50], [20,75], [20,100]]):\n",
    "    \"\"\"Split out cousin df and filter closely related individuals\n",
    "    df: Hapsburg Individual dataframe\n",
    "    cutoff: [cm,cutoff] Filter >cutoff Blocks >cm\n",
    "    cousins: [cm,cutoff] Plot>cutoff Blocks >cm\"\"\"\n",
    "    df_filter = df[df[f\"sum_roh>{cutoff[0]}\"]<=cutoff[1]].copy()\n",
    "    df_cousins = []\n",
    "    for cousins in cousins_vec:\n",
    "        df_cousins.append(df[df[f\"sum_roh>{cousins[0]}\"]>=cousins[1]].copy())\n",
    "    return df_filter, df_cousins\n",
    "\n",
    "def plot_cousins(df, ax, age_col=\"age\", y_frac=0.85, m=\"^\", s=80,\n",
    "                ec=\"k\", lw=1.0):\n",
    "    \"\"\"Plot Cousins onto axis.\n",
    "    y_frac: At which fraction of the Y Axis to Plot\"\"\"\n",
    "    x = df[age_col].values\n",
    "    colors = df[\"color\"]\n",
    "    _, ymax = ax.get_ylim()\n",
    "    \n",
    "    y = ymax * y_frac   # Modify the height value\n",
    "    #ax.axhline(y)\n",
    "    y = [y for _ in range(len(x))]\n",
    "    ax.scatter(x, y, c=colors, s=s, ec=ec, lw=lw, marker=m, label=\"Consangenous\")\n",
    "    return\n",
    "\n",
    "def plot_cousin_bar(dfs, ax, age_col=\"age\", m_c=\"*\", \n",
    "                    ss=[40,60,80], m_cs=[\"v\", \"s\"],\n",
    "                    label=\"\",\n",
    "                    ec=\"k\", lw=0.3, bg_c=\"lightgray\", xlim=[0,12000],\n",
    "                    fsl=10, invert=True):\n",
    "    \"\"\"Plot a bar with symbols for cousins\"\"\"\n",
    "    ax.set_xticks([]) \n",
    "    ax.set_yticks([]) \n",
    "    ax.set_facecolor(bg_c)\n",
    "    \n",
    "    ### Do the Scatter Plot\n",
    "    for i,df in enumerate(dfs):\n",
    "        x = df[age_col].values\n",
    "        colors = df[\"color\"]\n",
    "\n",
    "        y = 0\n",
    "        y = [y for _ in range(len(x))]\n",
    "        ax.scatter(x, y, c=colors, s=ss[i], ec=ec, lw=lw, \n",
    "                   marker=m_cs[i], label=label)\n",
    "        ax.set_ylim([-1,1])  # Shouldn't matter other than to \"center\"\n",
    "        ax.set_xlim(xlim)\n",
    "    \n",
    "    if invert:\n",
    "        ax.invert_xaxis()\n",
    "\n",
    "\n",
    "###########################################################\n",
    "\n",
    "def plot_legend(path_clst_clrs = \"./Data/RegionDefinition/economy_colors.csv\", \n",
    "                figsize = (3,2), s=60, lw=0.4, savepath=\"\"):\n",
    "    \"\"\"Plot Legend of the Scatter plot only\"\"\"\n",
    "    df = pd.read_csv(path_clst_clrs)\n",
    "    fig = plt.figure(figsize=figsize)\n",
    "    ax = plt.gca()\n",
    "\n",
    "    # Create the figure\n",
    "    handles = []\n",
    "    for i in range(len(df)):\n",
    "        select = ax.scatter([], [], c=df[\"color\"][i], \n",
    "                            s=s, lw=lw, label=df[\"economy\"][i], ec=\"k\")\n",
    "        handles += [select]\n",
    "    ax.legend(handles=handles, loc=\"center\")\n",
    "    ax.axis(\"off\")\n",
    "    \n",
    "    ### Save\n",
    "    if len(savepath)>0:\n",
    "        plt.savefig(savepath, pad_inches = 0,  \n",
    "                    bbox_inches = 'tight', dpi=600) #pad_inches = 0, bbox_inches = 'tight'\n",
    "        print(f\"Saved to {savepath}\")\n",
    "    plt.show()\n",
    "\n",
    "###########################################################        \n",
    "###########################################################\n",
    "### Plot Map AND timeline in one plot\n",
    "\n",
    "def plot_map_time(df, figsize=(20,4), width_ratios=[1,10], height_ratios=[20,1], wspace=0.02, hspace=0.03, \n",
    "                  ec=\"k\", lw=1.0, title_tl = \"\", s_tl=80,  x_lim_tl=[-100, 10000], y_lim_tl=[0,550], \n",
    "                  widths=50, alpha_vio=0.5, lw_fit=2.5, width_t=2, length_t=6, lw_coast=0.5,\n",
    "                  ticks = [3539.39/16, 3539.39/64], tick_l=[\"1st C.\", \"2nd C.\"], t_offset=0, max_f_age=0,\n",
    "                  leg_loc_tl=\"upper center\", frac=0.8, cm=4, cm1=0, fs=10, fsl=10, fs_leg=7, std_band = 1.96, \n",
    "                  lgth_s=[2000,5000], cutoff=[20,100], cousins_vec=[[20,50], [20,75], [20,100]], \n",
    "                  bg_c=\"lightgrey\", m_cs=[\"v\", \"s\"], s_cousins = [9,14], roh_ofst=0.1,\n",
    "                  err_s=[2,4], vrange_m=[], cmap_m=\"viridis_r\", crs_m=[30, 60, -10, 40], lbl_pad_age=10,\n",
    "                  lbl_pad_time=5, map_title=\"\", title_loc=(0.1,0.1), bottomrow=True, rightcol=True, \n",
    "                  xl_pad=4, yl_pad=4, plot_mod=False, savepath=\"\"):\n",
    "    \"\"\"Plot Map (Left) and Timeline (Right)\n",
    "    df: Dataframe with input data on individual block sharing: Columns for sum>cm, age, and color\n",
    "    _tl Arguments: Arguments for the Timeline.\n",
    "    fs, fsl, fs_leg: Fontsize (general, labels & legend)\n",
    "    cm: Minimum Block length shown\n",
    "    cm1: Maximum Block length. (if 0 none)\n",
    "    frac: Fraction for Lowess Smoothin (if 0 no lowess smoothing shown)\n",
    "    savepath: Where to save (if given)\n",
    "    cmap_m, vrange_m: Color Map (Keyword which one to use) and Range for Map Plots\n",
    "    crs_m: Corners for the Map (Lat0, Lat1, Lon0, Lon1)-Vector\n",
    "    lgth_s: Length scale of the Kerne to fit\n",
    "    std_band: Standard Deviation of Estimate to plot\n",
    "    ec: Edge Color of Scatter Plots\n",
    "    lw: Line Width of Scatter Plots\n",
    "    bottomrow: Whether plot is in bottom (plot xlabel then)\n",
    "    rightcol: Same, but whether plot on right (plot ylabel then)\n",
    "    alpha_vio: Alpha of the Violing Plot\n",
    "    width: Width of Violin Plot for moderns\n",
    "    lw_fit: Line Width of fitted line\n",
    "    width_t, length_t: Width and Length of Ticks\n",
    "    xl_pad, yl_pad: Label Pads of x and y Axis\n",
    "    cutoff: list of [cm,cutoff] Filter >cutoff Blocks >cm\n",
    "    cousins_vec: [cm,cutoff] Plot>cutoff Blocks >cm\n",
    "    s_cousins: Sizes of the Cousin Dots\n",
    "    bg_c: Background color for the color bar\n",
    "    m_c: Marker Style of the Cousin Subplot\n",
    "    roh_ofst: How much to add to ROH (aids plotting 0)\"\"\" \n",
    "    \n",
    "    ### Extract Modern Idx\n",
    "    idx_m = df[\"age\"]==0\n",
    "    \n",
    "    ### Set Up the outer Figure Layout\n",
    "    fig = plt.figure(figsize=figsize)\n",
    "    gs = gridspec.GridSpec(3, 2, height_ratios=height_ratios, width_ratios=width_ratios, figure=fig)\n",
    "    ax_map = plt.subplot(gs[:,0])    # The left subplot (Timeline)\n",
    "    ax_time_cousin =  plt.subplot(gs[0,1])\n",
    "    ax_time_roh = plt.subplot(gs[1,1])   # The right subplot (Timeline)\n",
    "    ax_time_leg = plt.subplot(gs[2,1])\n",
    "    \n",
    "    gs.update(wspace=wspace, hspace=hspace) # set the spacing between axes\n",
    "    \n",
    "    ### Filter and Split up into Cousins\n",
    "    df1, df_cs = filter_cousins(df, cutoff=cutoff, cousins_vec=cousins_vec)\n",
    "    \n",
    "    ### Plot the Colorbar for the Map\n",
    "    plot_colorbar_age(ax_time_leg, xlim=x_lim_tl, fs_label=fsl, cmap=cmap_m, \n",
    "                      vrange=vrange_m, labelpad=lbl_pad_age, xl_pad=xl_pad,\n",
    "                      bottomrow=bottomrow, width_t=width_t, length_t=length_t)\n",
    "    \n",
    "    ### Plot the Timeline (center right)\n",
    "    plot_lowess_smoothing(df1, ax=ax_time_roh, cm=cm, cm1=cm1, xlim=x_lim_tl, ylim=y_lim_tl, title=title_tl, fs=fs, fs_leg=fs_leg, \n",
    "                          max_f_age=max_f_age, s=s_tl, leg_loc=leg_loc_tl, lw_fit=lw_fit, roh_ofst=roh_ofst,\n",
    "                          lw=lw, ec=ec, fsl=fsl, std_band=std_band, lgth_s=lgth_s, err_s=err_s, frac=frac, \n",
    "                          ticks=ticks, tick_l=tick_l, labelpad=lbl_pad_time, show=False, t_offset=t_offset,\n",
    "                          rightcol=rightcol, width_t=width_t, length_t=length_t, yl_pad=yl_pad)\n",
    "    \n",
    "    ### Plot the Cousins (upper right)\n",
    "    plot_cousin_bar(df_cs, ax_time_cousin, xlim=x_lim_tl, lw=lw, \n",
    "                     bg_c=bg_c, m_c=m_cs, fsl=fsl, ss = s_cousins)\n",
    "    \n",
    "    ### Plot present-day indiviguals (center right)\n",
    "    if np.sum(idx_m)>0: # Only plot if modern Data exists\n",
    "        plot_violin_ax(df[idx_m], x=0, ax=ax_time_roh, widths=widths, alpha=alpha_vio,\n",
    "                       cm=cm, cm1=cm1, zorder=0, c=\"\")\n",
    "    \n",
    "    ### Plot the Map (left)\n",
    "    if not plot_mod:\n",
    "        df = df[~idx_m]\n",
    "    plot_map_ax(df, ax=ax_map, crs=crs_m, cmap=cmap_m, vrange=vrange_m, map_title=map_title, show=False, \n",
    "                lw=lw, ec=ec, fs=fs, title_loc=title_loc, s=s_tl, lw_coast=lw_coast)\n",
    "        \n",
    "    ### Save\n",
    "    if len(savepath)>0:\n",
    "        plt.savefig(savepath, pad_inches = 0,  \n",
    "                    bbox_inches = 'tight', dpi=600) #pad_inches = 0, bbox_inches = 'tight'\n",
    "        print(f\"Saved to {savepath}\")\n",
    "    plt.show()"
   ]
  },
  {
   "cell_type": "markdown",
   "metadata": {},
   "source": [
    "# Plot both map and ROH timeline"
   ]
  },
  {
   "cell_type": "code",
   "execution_count": 6,
   "metadata": {},
   "outputs": [
    {
     "name": "stdout",
     "output_type": "stream",
     "text": [
      "Saved to ./figures/manuscript/timelines/legend/legend_v5.pdf\n"
     ]
    },
    {
     "data": {
      "image/png": "[encoded data removed]",
      "text/plain": [
       "<Figure size 216x144 with 1 Axes>"
      ]
     },
     "metadata": {
      "needs_background": "light"
     },
     "output_type": "display_data"
    }
   ],
   "source": [
    "plot_legend(path_clst_clrs = \"./Data/RegionDefinition/economy_colors.csv\", \n",
    "                figsize = (3,2), s=60, lw=0.4, savepath=\"./figures/manuscript/timelines/legend/legend_v5.pdf\")"
   ]
  },
  {
   "cell_type": "markdown",
   "metadata": {},
   "source": [
    "### Function to plot the map"
   ]
  },
  {
   "cell_type": "markdown",
   "metadata": {},
   "source": [
    "### The Pilot. All other plots imitatet the parameters chosen here!\n",
    "For Europe: Copy all stuff in the middle of the function."
   ]
  },
  {
   "cell_type": "markdown",
   "metadata": {},
   "source": [
    "### Define the Parameters"
   ]
  },
  {
   "cell_type": "code",
   "execution_count": 5,
   "metadata": {},
   "outputs": [],
   "source": [
    "eu_params = {\"figsize\": (3.6, 1),\n",
    "              \"width_ratios\": (8, 22), \"height_ratios\": [1.5, 15, 1], \n",
    "              \"hspace\": 0.08, \"wspace\": 0.015,\n",
    "              \"s_tl\": 9, \"ec\":\"k\", \"m_c\":\"h\", \"lw\": 0.09, \n",
    "              \"x_lim_tl\": [-500, 12200], \"vrange_m\": [0,12200], \n",
    "              \"y_lim_tl\": [0,120], \"fsl\":5, \"fs\": 5, \"fs_leg\": 5, \n",
    "              \"leg_loc_tl\": \"\", \"title_tl\": \"\",\n",
    "              \"title_loc\": (0.2,0.01), \n",
    "              \"cm\": 4, \"cm1\": 8, \"frac\": 0, \n",
    "              \"lgth_s\": [1500,1500], \"lw_fit\":1.5, \n",
    "              \"ticks\": [83.73, 30.98, 4.41], \"tick_l\":[],\n",
    "              \"cutoff\": [20,50], \"cousins_vec\": [[20,50],[20,100]], \n",
    "              \"s_cousins\" : [9,14], \"bg_c\":\"lightgrey\",\n",
    "              \"width_t\": 0.6, \"length_t\":2, \"lbl_pad_time\": 5, \n",
    "              \"lbl_pad_age\":0, \"xl_pad\": 1.5, \"yl_pad\": 1, \n",
    "              \"widths\": 800, \"alpha_vio\": 0.3}"
   ]
  },
  {
   "cell_type": "code",
   "execution_count": 6,
   "metadata": {},
   "outputs": [
    {
     "name": "stdout",
     "output_type": "stream",
     "text": [
      "Initial: 1**2 * RBF(length_scale=1.5e+03) + WhiteKernel(noise_level=2)\n",
      "Optimum: 2.8**2 * RBF(length_scale=1.5e+03) + WhiteKernel(noise_level=2.2)\n",
      "Log-Marginal-Likelihood: -421.02795491146077\n",
      "Saved to ./figures_test/timeline_test.pdf\n"
     ]
    },
    {
     "data": {
      "image/png": "[encoded data removed]",
      "text/plain": [
       "<Figure size 259.2x72 with 5 Axes>"
      ]
     },
     "metadata": {
      "needs_background": "light"
     },
     "output_type": "display_data"
    }
   ],
   "source": [
    "pop = \"Iberia\"\n",
    "df1 = pd.read_csv(\"./Empirical/roh_all_inds_final_v42.csv\", sep=\"\\t\")\n",
    "df_t = extract_pop(df1, age_range=[0, 12200], pop=pop)\n",
    "label = prep_label(df_t, pop)\n",
    "\n",
    "#tick_l=[f\"$2N_e=250$\", f\"$2N_e=500$\", f\"$2N_e=2000$\"]\n",
    "plot_map_time(df_t, crs_m=[28, 63, -13, 38], map_title=label,\n",
    "              bottomrow=True, rightcol=True,\n",
    "              savepath=\"./figures_test/timeline_test.pdf\", **eu_params)"
   ]
  },
  {
   "cell_type": "code",
   "execution_count": null,
   "metadata": {},
   "outputs": [],
   "source": [
    "### Output to check values\n",
    "df_t.sort_values(by=\"sum_roh>20\", ascending=False)"
   ]
  },
  {
   "cell_type": "markdown",
   "metadata": {},
   "source": [
    "## Do n=X European Populations\n",
    "Instructions: \n",
    "- Load the functions at top and just above.\n",
    "- Run Populations one by one (use bottomrow and rightcol accordingly)\n",
    "- Use Incscape or AI to combine the figures"
   ]
  },
  {
   "cell_type": "markdown",
   "metadata": {},
   "source": [
    "# Produce European Panels (8 Figures, main manuscript)"
   ]
  },
  {
   "cell_type": "markdown",
   "metadata": {},
   "source": [
    "### Rome (Antonio et al. 2019) [Figure above is legacy from earlier, with different labels]"
   ]
  },
  {
   "cell_type": "code",
   "execution_count": 147,
   "metadata": {},
   "outputs": [
    {
     "name": "stdout",
     "output_type": "stream",
     "text": [
      "Initial: 1**2 * RBF(length_scale=1.5e+03) + WhiteKernel(noise_level=2)\n",
      "Optimum: 3.78**2 * RBF(length_scale=1.5e+03) + WhiteKernel(noise_level=2)\n",
      "Log-Marginal-Likelihood: -206.13061235982127\n",
      "Saved to ./figures/manuscript/timelines/eu_panel_v5/italy.pdf\n"
     ]
    },
    {
     "data": {
      "image/png": "[encoded data removed]",
      "text/plain": [
       "<Figure size 259.2x72 with 5 Axes>"
      ]
     },
     "metadata": {
      "needs_background": "light"
     },
     "output_type": "display_data"
    }
   ],
   "source": [
    "pop = \"Rome\"\n",
    "df1 = pd.read_csv(\"./Empirical/roh_all_inds_final_v42.csv\", sep=\"\\t\")\n",
    "df_t = extract_pop(df1, age_range=[0,12200], pop=pop)\n",
    "label = prep_label(df_t, pop)\n",
    "\n",
    "#tick_l=[f\"$2N_e=250$\", f\"$2N_e=500$\", f\"$2N_e=2000$\"]\n",
    "plot_map_time(df_t, crs_m=[28, 63, -13, 38], map_title=label,\n",
    "              bottomrow=False, rightcol=False,\n",
    "              savepath=\"./figures/manuscript/timelines/eu_panel_v5/italy.pdf\", **eu_params)"
   ]
  },
  {
   "cell_type": "code",
   "execution_count": null,
   "metadata": {},
   "outputs": [],
   "source": [
    "df_t.sort_values(by=\"sum_roh>4\", ascending=False)"
   ]
  },
  {
   "cell_type": "markdown",
   "metadata": {},
   "source": [
    "### Britain"
   ]
  },
  {
   "cell_type": "code",
   "execution_count": 148,
   "metadata": {},
   "outputs": [
    {
     "name": "stdout",
     "output_type": "stream",
     "text": [
      "Initial: 1**2 * RBF(length_scale=1.5e+03) + WhiteKernel(noise_level=2)\n",
      "Optimum: 2.33**2 * RBF(length_scale=1.5e+03) + WhiteKernel(noise_level=2)\n",
      "Log-Marginal-Likelihood: -288.170943147731\n",
      "Saved to ./figures/manuscript/timelines/eu_panel_v5/britain.pdf\n"
     ]
    },
    {
     "data": {
      "image/png": "[encoded data removed]",
      "text/plain": [
       "<Figure size 259.2x72 with 5 Axes>"
      ]
     },
     "metadata": {
      "needs_background": "light"
     },
     "output_type": "display_data"
    }
   ],
   "source": [
    "pop = \"Britain\"\n",
    "df1 = pd.read_csv(\"./Empirical/roh_all_inds_final_v42.csv\", sep=\"\\t\")\n",
    "df_t = extract_pop(df1, age_range=[0,12200], pop=pop)\n",
    "label = prep_label(df_t, pop)\n",
    "\n",
    "#tick_l=[f\"$2N_e=250$\", f\"$2N_e=500$\", f\"$2N_e=2000$\"]\n",
    "plot_map_time(df_t, crs_m=[28, 63, -13, 38], map_title=label,\n",
    "              bottomrow=False, rightcol=False, \n",
    "              savepath=\"./figures/manuscript/timelines/eu_panel_v5/britain.pdf\",\n",
    "              **eu_params)"
   ]
  },
  {
   "cell_type": "markdown",
   "metadata": {},
   "source": [
    "### Sardinia"
   ]
  },
  {
   "cell_type": "code",
   "execution_count": 150,
   "metadata": {},
   "outputs": [
    {
     "name": "stdout",
     "output_type": "stream",
     "text": [
      "Initial: 1**2 * RBF(length_scale=1.5e+03) + WhiteKernel(noise_level=2)\n",
      "Optimum: 1.74**2 * RBF(length_scale=1.5e+03) + WhiteKernel(noise_level=2.27)\n",
      "Log-Marginal-Likelihood: -142.99986472799424\n",
      "Saved to ./figures/manuscript/timelines/eu_panel_v4/Sardinia.pdf\n"
     ]
    },
    {
     "data": {
      "image/png": "[encoded data removed]",
      "text/plain": [
       "<Figure size 259.2x72 with 5 Axes>"
      ]
     },
     "metadata": {
      "needs_background": "light"
     },
     "output_type": "display_data"
    }
   ],
   "source": [
    "pop = \"Sardinia\"\n",
    "df1 = pd.read_csv(\"./Empirical/roh_all_inds_final_v42.csv\", sep=\"\\t\")\n",
    "df_t = extract_pop(df1, age_range=[0,12200], pop=pop)\n",
    "label = prep_label(df_t, pop)\n",
    "\n",
    "#tick_l=[f\"$2N_e=250$\", f\"$2N_e=500$\", f\"$2N_e=2000$\"]\n",
    "plot_map_time(df_t, crs_m=[28, 63, -13, 38], \n",
    "              map_title=label, bottomrow=False, rightcol=False,\n",
    "              savepath=\"./figures/manuscript/timelines/eu_panel_v4/Sardinia.pdf\", **eu_params)"
   ]
  },
  {
   "cell_type": "code",
   "execution_count": null,
   "metadata": {},
   "outputs": [],
   "source": [
    "df_t.sort_values(by=\"age\", ascending=False)[:50][[\"iid\", \"pop\",\"lat\", \"lon\"]]"
   ]
  },
  {
   "cell_type": "markdown",
   "metadata": {},
   "source": [
    "### Iberia (Olalde et al. 2019 and previous)"
   ]
  },
  {
   "cell_type": "code",
   "execution_count": 151,
   "metadata": {},
   "outputs": [
    {
     "name": "stdout",
     "output_type": "stream",
     "text": [
      "Initial: 1**2 * RBF(length_scale=1.5e+03) + WhiteKernel(noise_level=2)\n",
      "Optimum: 2.8**2 * RBF(length_scale=1.5e+03) + WhiteKernel(noise_level=2.2)\n",
      "Log-Marginal-Likelihood: -421.02795491146077\n",
      "Saved to ./figures/manuscript/timelines/eu_panel_v5/iberia.pdf\n"
     ]
    },
    {
     "data": {
      "image/png": "[encoded data removed]",
      "text/plain": [
       "<Figure size 259.2x72 with 5 Axes>"
      ]
     },
     "metadata": {
      "needs_background": "light"
     },
     "output_type": "display_data"
    }
   ],
   "source": [
    "pop = \"Iberia\"\n",
    "df1 = pd.read_csv(\"./Empirical/roh_all_inds_final_v42.csv\", sep=\"\\t\")\n",
    "df_t = extract_pop(df1, age_range=[0,12200], pop=pop)\n",
    "label = prep_label(df_t, pop)\n",
    "\n",
    "#tick_l=[f\"$2N_e=250$\", f\"$2N_e=500$\", f\"$2N_e=2000$\"]\n",
    "plot_map_time(df_t, crs_m=[28, 63, -13, 38],\n",
    "              map_title=label, bottomrow=True, rightcol=False,\n",
    "              savepath=\"./figures/manuscript/timelines/eu_panel_v5/iberia.pdf\", **eu_params)"
   ]
  },
  {
   "cell_type": "markdown",
   "metadata": {},
   "source": [
    "### Balkans"
   ]
  },
  {
   "cell_type": "code",
   "execution_count": 152,
   "metadata": {},
   "outputs": [
    {
     "name": "stdout",
     "output_type": "stream",
     "text": [
      "Initial: 1**2 * RBF(length_scale=1.5e+03) + WhiteKernel(noise_level=2)\n",
      "Optimum: 2.24**2 * RBF(length_scale=1.5e+03) + WhiteKernel(noise_level=2)\n",
      "Log-Marginal-Likelihood: -272.7406567164983\n",
      "Saved to ./figures/manuscript/timelines/eu_panel_v5/balkans.pdf\n"
     ]
    },
    {
     "data": {
      "image/png": "[encoded data removed]",
      "text/plain": [
       "<Figure size 259.2x72 with 5 Axes>"
      ]
     },
     "metadata": {
      "needs_background": "light"
     },
     "output_type": "display_data"
    }
   ],
   "source": [
    "pop = \"Balkans\"\n",
    "df1 = pd.read_csv(\"./Empirical/roh_all_inds_final_v42.csv\", sep=\"\\t\")\n",
    "df_t = extract_pop(df1, age_range=[0,12200], pop=pop)\n",
    "label = prep_label(df_t, pop)\n",
    "\n",
    "#tick_l=[f\"$2N_e=250$\", f\"$2N_e=500$\", f\"$2N_e=2000$\"]\n",
    "plot_map_time(df_t, crs_m=[28, 63, -13, 38], \n",
    "              map_title=label, bottomrow=False, rightcol=True, \n",
    "              savepath=\"./figures/manuscript/timelines/eu_panel_v5/balkans.pdf\",\n",
    "              **eu_params)"
   ]
  },
  {
   "cell_type": "code",
   "execution_count": null,
   "metadata": {},
   "outputs": [],
   "source": [
    "n=100\n",
    "df_t.sort_values(by=\"age\", ascending=False)[n:n+50]"
   ]
  },
  {
   "cell_type": "markdown",
   "metadata": {},
   "source": [
    "### Baltic"
   ]
  },
  {
   "cell_type": "code",
   "execution_count": 153,
   "metadata": {},
   "outputs": [
    {
     "name": "stdout",
     "output_type": "stream",
     "text": [
      "Initial: 1**2 * RBF(length_scale=1.5e+03) + WhiteKernel(noise_level=2)\n",
      "Optimum: 2.68**2 * RBF(length_scale=1.5e+03) + WhiteKernel(noise_level=3.22)\n",
      "Log-Marginal-Likelihood: -212.1474307274383\n",
      "Saved to ./figures/manuscript/timelines/eu_panel_v5/baltic.pdf\n"
     ]
    },
    {
     "data": {
      "image/png": "[encoded data removed]",
      "text/plain": [
       "<Figure size 259.2x72 with 5 Axes>"
      ]
     },
     "metadata": {
      "needs_background": "light"
     },
     "output_type": "display_data"
    }
   ],
   "source": [
    "pop = \"Baltic Sea\"\n",
    "df1 = pd.read_csv(\"./Empirical/roh_all_inds_final_v42.csv\", sep=\"\\t\")\n",
    "df_t = extract_pop(df1, age_range=[0,12200], pop=pop)\n",
    "label = prep_label(df_t, pop)\n",
    "\n",
    "#tick_l=[f\"$2N_e=250$\", f\"$2N_e=500$\", f\"$2N_e=2000$\"]\n",
    "plot_map_time(df_t, crs_m=[28, 63, -13, 38], \n",
    "              bottomrow=False, rightcol=True, map_title=label,\n",
    "              savepath=\"./figures/manuscript/timelines/eu_panel_v5/baltic.pdf\",\n",
    "              **eu_params)"
   ]
  },
  {
   "cell_type": "markdown",
   "metadata": {},
   "source": [
    "### Central Europe"
   ]
  },
  {
   "cell_type": "code",
   "execution_count": 154,
   "metadata": {},
   "outputs": [
    {
     "name": "stdout",
     "output_type": "stream",
     "text": [
      "Initial: 1**2 * RBF(length_scale=1.5e+03) + WhiteKernel(noise_level=2)\n",
      "Optimum: 4.1**2 * RBF(length_scale=1.5e+03) + WhiteKernel(noise_level=2)\n",
      "Log-Marginal-Likelihood: -293.41806749710116\n",
      "Saved to ./figures/manuscript/timelines/eu_panel_v5/ce.pdf\n"
     ]
    },
    {
     "data": {
      "image/png": "[encoded data removed]",
      "text/plain": [
       "<Figure size 259.2x72 with 5 Axes>"
      ]
     },
     "metadata": {
      "needs_background": "light"
     },
     "output_type": "display_data"
    }
   ],
   "source": [
    "pop = \"Central Europe\"\n",
    "df1 = pd.read_csv(\"./Empirical/roh_all_inds_final_v42.csv\", sep=\"\\t\")\n",
    "df_t = extract_pop(df1, age_range=[0,12200], pop=pop)\n",
    "label = prep_label(df_t, pop)\n",
    "\n",
    "#tick_l=[f\"$2N_e=250$\", f\"$2N_e=500$\", f\"$2N_e=2000$\"]\n",
    "plot_map_time(df_t, crs_m=[28, 63, -13, 38], map_title=label,\n",
    "              bottomrow=False, rightcol=False, \n",
    "              savepath=\"./figures/manuscript/timelines/eu_panel_v5/ce.pdf\", **eu_params)"
   ]
  },
  {
   "cell_type": "markdown",
   "metadata": {},
   "source": [
    "### Ukraine"
   ]
  },
  {
   "cell_type": "code",
   "execution_count": 155,
   "metadata": {},
   "outputs": [
    {
     "name": "stdout",
     "output_type": "stream",
     "text": [
      "Initial: 1**2 * RBF(length_scale=1.5e+03) + WhiteKernel(noise_level=2)\n",
      "Optimum: 2.36**2 * RBF(length_scale=1.5e+03) + WhiteKernel(noise_level=2)\n",
      "Log-Marginal-Likelihood: -64.30668506238412\n",
      "Saved to ./figures/manuscript/timelines/eu_panel_v5/black_sea.pdf\n"
     ]
    },
    {
     "data": {
      "image/png": "[encoded data removed]",
      "text/plain": [
       "<Figure size 259.2x72 with 5 Axes>"
      ]
     },
     "metadata": {
      "needs_background": "light"
     },
     "output_type": "display_data"
    }
   ],
   "source": [
    "pop = \"Black Sea\"\n",
    "df1 = pd.read_csv(\"./Empirical/roh_all_inds_final_v42.csv\", sep=\"\\t\")\n",
    "df_t = extract_pop(df1, age_range=[0,12200], pop=pop)\n",
    "label = prep_label(df_t, pop)\n",
    "\n",
    "#tick_l=[f\"$2N_e=250$\", f\"$2N_e=500$\", f\"$2N_e=2000$\"]\n",
    "plot_map_time(df_t, crs_m=[28, 63, -13, 38], \n",
    "              map_title=label, bottomrow=False, rightcol=True, \n",
    "              savepath=\"./figures/manuscript/timelines/eu_panel_v5/black_sea.pdf\",\n",
    "              **eu_params)"
   ]
  },
  {
   "cell_type": "code",
   "execution_count": null,
   "metadata": {},
   "outputs": [],
   "source": [
    "df_t.sort_values(by=\"sum_roh>20\", ascending=False)[:50]"
   ]
  },
  {
   "cell_type": "markdown",
   "metadata": {},
   "source": [
    "### Aegan"
   ]
  },
  {
   "cell_type": "code",
   "execution_count": 117,
   "metadata": {},
   "outputs": [
    {
     "name": "stdout",
     "output_type": "stream",
     "text": [
      "Initial: 1**2 * RBF(length_scale=1.5e+03) + WhiteKernel(noise_level=2)\n",
      "Optimum: 2.26**2 * RBF(length_scale=1.5e+03) + WhiteKernel(noise_level=2.79)\n",
      "Log-Marginal-Likelihood: -209.6451883636887\n",
      "Saved to ./figures/manuscript/timelines/eu_panel_v4/aegan.pdf\n"
     ]
    },
    {
     "data": {
      "image/png": "[encoded data removed]",
      "text/plain": [
       "<Figure size 259.2x72 with 5 Axes>"
      ]
     },
     "metadata": {
      "needs_background": "light"
     },
     "output_type": "display_data"
    }
   ],
   "source": [
    "pop = \"Aegan\"\n",
    "df1 = pd.read_csv(\"./Empirical/roh_all_inds_final_v42.csv\", sep=\"\\t\")\n",
    "df_t = extract_pop(df1, age_range=[0,12200], pop=pop)\n",
    "label = prep_label(df_t, pop)\n",
    "\n",
    "#tick_l=[f\"$2N_e=250$\", f\"$2N_e=500$\", f\"$2N_e=2000$\"]\n",
    "plot_map_time(df_t, figsize=(3.6 , 1), crs_m=[28, 63, -13, 38], \n",
    "              width_ratios=(8, 20), height_ratios=[1.5, 15, 1], hspace=0.06, wspace=0.015,\n",
    "              s_tl=9, ec=\"k\", lw=0.09, x_lim_tl=[-500, 12200], vrange_m=[0,12200], \n",
    "              y_lim_tl=[0,150], fsl=5, fs=5, fs_leg=5, leg_loc_tl=\"\", title_tl=\"\",\n",
    "              map_title=label, title_loc=(0.2,0.01), cm=4, cm1=8, frac=0, \n",
    "              lgth_s=[1500,1500], bottomrow=True, rightcol=True, lw_fit=1.5, \n",
    "              ticks=[158.74, 83.82, 21.84], tick_l=[], \n",
    "              cutoff=[20,50], cousins_vec=[[20,50],[20,100]], \n",
    "              s_cousins = [9,14],\n",
    "              width_t=0.6, length_t=2, lbl_pad_time=5, lbl_pad_age=0, xl_pad=1.5, yl_pad=1, \n",
    "              widths=800, alpha_vio=0.4, savepath=\"./figures/manuscript/timelines/eu_panel_v4/aegan.pdf\")"
   ]
  },
  {
   "cell_type": "code",
   "execution_count": null,
   "metadata": {},
   "outputs": [],
   "source": [
    "n=50\n",
    "df_t.sort_values(by=\"age\", ascending=False)[n:n+50]"
   ]
  },
  {
   "cell_type": "markdown",
   "metadata": {},
   "source": [
    "### Levante"
   ]
  },
  {
   "cell_type": "code",
   "execution_count": 104,
   "metadata": {},
   "outputs": [],
   "source": [
    "#tick_l=[f\"$2N_e=500$\", f\"$2N_e=2000$\"]\n",
    "#ticks=[158.74, 83.82, 21.84]\n",
    "ticks = [83.73, 30.98, 4.41]\n",
    "tick_l = [f\"$2N_e=500$\", f\"$2N_e=1400$\", f\"$2N_e=10000$\"]\n",
    "le_params = eu_params.copy()\n",
    "le_params[\"tick_l\"] = tick_l\n",
    "le_params[\"ticks\"] = ticks"
   ]
  },
  {
   "cell_type": "code",
   "execution_count": 118,
   "metadata": {},
   "outputs": [
    {
     "name": "stdout",
     "output_type": "stream",
     "text": [
      "Initial: 1**2 * RBF(length_scale=1.5e+03) + WhiteKernel(noise_level=2)\n",
      "Optimum: 1.8**2 * RBF(length_scale=1.5e+03) + WhiteKernel(noise_level=3.77)\n",
      "Log-Marginal-Likelihood: -282.55811897276305\n",
      "Saved to ./figures/manuscript/timelines/eu_panel_v5/levante.pdf\n"
     ]
    },
    {
     "data": {
      "image/png": "[encoded data removed]",
      "text/plain": [
       "<Figure size 259.2x72 with 5 Axes>"
      ]
     },
     "metadata": {
      "needs_background": "light"
     },
     "output_type": "display_data"
    }
   ],
   "source": [
    "pop = \"Levante\"\n",
    "df1 = pd.read_csv(\"./Empirical/roh_all_inds_final_v42.csv\", sep=\"\\t\")\n",
    "df_t = extract_pop(df1, age_range=[0, 12200], pop=pop)\n",
    "label = prep_label(df_t, pop)\n",
    "\n",
    "plot_map_time(df_t, crs_m=[28, 63, -13, 38],\n",
    "              map_title=label, bottomrow=True, rightcol=True,  \n",
    "              savepath=\"./figures/manuscript/timelines/eu_panel_v5/levante.pdf\",\n",
    "              **le_params)"
   ]
  },
  {
   "cell_type": "code",
   "execution_count": 70,
   "metadata": {},
   "outputs": [],
   "source": [
    "#df_t.sort_values(by=\"age\", ascending=False)"
   ]
  },
  {
   "cell_type": "code",
   "execution_count": null,
   "metadata": {},
   "outputs": [],
   "source": [
    "#df_t.sort_values(by=\"age\", ascending=False)[[\"clst\", \"color\"]][:]"
   ]
  },
  {
   "cell_type": "code",
   "execution_count": 156,
   "metadata": {},
   "outputs": [
    {
     "name": "stdout",
     "output_type": "stream",
     "text": [
      "  adding: figures/manuscript/timelines/eu_panel_v5/ (stored 0%)\n",
      "  adding: figures/manuscript/timelines/eu_panel_v5/britain.pdf (deflated 1%)\n",
      "  adding: figures/manuscript/timelines/eu_panel_v5/.ipynb_checkpoints/ (stored 0%)\n",
      "  adding: figures/manuscript/timelines/eu_panel_v5/.ipynb_checkpoints/levante-checkpoint.pdf (deflated 2%)\n",
      "  adding: figures/manuscript/timelines/eu_panel_v5/baltic.pdf (deflated 2%)\n",
      "  adding: figures/manuscript/timelines/eu_panel_v5/levante.pdf (deflated 3%)\n",
      "  adding: figures/manuscript/timelines/eu_panel_v5/italy.pdf (deflated 1%)\n",
      "  adding: figures/manuscript/timelines/eu_panel_v5/ce.pdf (deflated 1%)\n",
      "  adding: figures/manuscript/timelines/eu_panel_v5/black_sea.pdf (deflated 2%)\n",
      "  adding: figures/manuscript/timelines/eu_panel_v5/iberia.pdf (deflated 1%)\n",
      "  adding: figures/manuscript/timelines/eu_panel_v5/balkans.pdf (deflated 2%)\n"
     ]
    }
   ],
   "source": [
    "dir_tozip = \"./figures/manuscript/timelines/eu_panel_v5\"\n",
    "dir_zip = \"./figures/manuscript/timelines/eu_panel_v5/eu_all.zip\"\n",
    "!zip -r $dir_zip $dir_tozip"
   ]
  },
  {
   "cell_type": "markdown",
   "metadata": {},
   "source": [
    "### Combine all Figures for download"
   ]
  },
  {
   "cell_type": "markdown",
   "metadata": {},
   "source": [
    "### North Africa and Aegan Panel"
   ]
  },
  {
   "cell_type": "code",
   "execution_count": 5,
   "metadata": {},
   "outputs": [],
   "source": [
    "aegan_params = {\"figsize\": (3.6, 1),\n",
    "              \"width_ratios\": (8, 22), \"height_ratios\": [1.5, 15, 1], \n",
    "              \"hspace\": 0.08, \"wspace\": 0.015,\n",
    "              \"s_tl\": 9, \"ec\":\"k\", \"m_c\":\"h\", \"lw\": 0.09, \n",
    "              \"x_lim_tl\": [-500, 16000], \"vrange_m\": [0,16000], \n",
    "              \"y_lim_tl\": [0,120], \"fsl\":5, \"fs\": 5, \"fs_leg\": 5, \n",
    "              \"leg_loc_tl\": \"\", \"title_tl\": \"\",\n",
    "              \"title_loc\": (0.2,0.01), \n",
    "              \"cm\": 4, \"cm1\": 8, \"frac\": 0, \n",
    "              \"lgth_s\": [2000,2000], \"lw_fit\":1.5, \n",
    "              \"ticks\" : [83.73, 30.98, 4.41],\n",
    "              \"cutoff\": [20,50], \"cousins_vec\": [[20,50],[20,100]], \n",
    "              \"s_cousins\" : [9,14], \"bg_c\":\"lightgrey\",\n",
    "              \"width_t\": 0.6, \"length_t\":2, \"lbl_pad_time\": 5, \n",
    "              \"lbl_pad_age\":0, \"xl_pad\": 1.5, \"yl_pad\": 1, \n",
    "              \"widths\": 800, \"alpha_vio\": 0.3}"
   ]
  },
  {
   "cell_type": "code",
   "execution_count": 195,
   "metadata": {},
   "outputs": [
    {
     "name": "stdout",
     "output_type": "stream",
     "text": [
      "Initial: 1**2 * RBF(length_scale=2e+03) + WhiteKernel(noise_level=2)\n",
      "Optimum: 2.92**2 * RBF(length_scale=2e+03) + WhiteKernel(noise_level=2.83)\n",
      "Log-Marginal-Likelihood: -213.39012225588033\n",
      "Saved to ./figures/manuscript/timelines/aegan_panel_v5/aegan.pdf\n"
     ]
    },
    {
     "data": {
      "image/png": "[encoded data removed]",
      "text/plain": [
       "<Figure size 259.2x72 with 5 Axes>"
      ]
     },
     "metadata": {
      "needs_background": "light"
     },
     "output_type": "display_data"
    }
   ],
   "source": [
    "pop = \"Aegan\"\n",
    "df1 = pd.read_csv(\"./Empirical/roh_all_inds_final_v42.csv\", sep=\"\\t\")\n",
    "df_t = extract_pop(df1, age_range=[0, 16000], pop=pop)\n",
    "label = prep_label(df_t, pop)\n",
    "\n",
    "#title_loc=(0.2,0.01)\n",
    "#tick_l=[f\"$2N_e=250$\", f\"$2N_e=500$\", f\"$2N_e=2000$\"]\n",
    "plot_map_time(df_t, crs_m=[28, 63, -13, 38], \n",
    "              map_title=label, bottomrow=True, rightcol=True,\n",
    "              tick_l = [f\"$2N_e=500$\", f\"$2N_e=1400$\", f\"$2N_e=10000$\"],\n",
    "              savepath=\"./figures/manuscript/timelines/aegan_panel_v5/aegan.pdf\", \n",
    "              **aegan_params)"
   ]
  },
  {
   "cell_type": "code",
   "execution_count": 173,
   "metadata": {},
   "outputs": [],
   "source": [
    "#df_t.sort_values(by=\"age\", ascending=False)"
   ]
  },
  {
   "cell_type": "code",
   "execution_count": 6,
   "metadata": {},
   "outputs": [
    {
     "name": "stdout",
     "output_type": "stream",
     "text": [
      "Saved to ./figures/manuscript/timelines/aegan_panel_v5/n_afr.png\n"
     ]
    },
    {
     "data": {
      "image/png": "[encoded data removed]",
      "text/plain": [
       "<Figure size 259.2x72 with 5 Axes>"
      ]
     },
     "metadata": {
      "needs_background": "light"
     },
     "output_type": "display_data"
    }
   ],
   "source": [
    "pop = \"North Africa\"\n",
    "df1 = pd.read_csv(\"./Empirical/roh_all_inds_final_v42.csv\", sep=\"\\t\")\n",
    "df_t = extract_pop(df1, age_range=[0,16000], pop=pop)\n",
    "label = prep_label(df_t, pop)\n",
    "idx = df_t[\"iid\"].str.contains(\"TAF011\")\n",
    "df_t.loc[idx, \"age\"] = df_t.loc[idx, \"age\"]-200\n",
    "\n",
    "#df_ib = extract_df_age(df_ib, 0, 12200)\n",
    "plot_map_time(df_t, crs_m=[28, 63, -11, 38],\n",
    "              map_title=label, bottomrow=True, rightcol=False,\n",
    "              savepath=\"./figures/manuscript/timelines/aegan_panel_v5/n_afr.png\",\n",
    "              std_band = 0, tick_l = [],\n",
    "              **aegan_params)"
   ]
  },
  {
   "cell_type": "code",
   "execution_count": 8,
   "metadata": {},
   "outputs": [
    {
     "data": {
      "text/plain": [
       "Index(['iid', 'pop', 'max_roh', 'sum_roh>4', 'n_roh>4', 'sum_roh>8', 'n_roh>8',\n",
       "       'sum_roh>12', 'n_roh>12', 'sum_roh>20', 'n_roh>20', 'lat', 'lon', 'age',\n",
       "       'study', 'clst', 'mean_cov', 'n_cov_snp', 'include_alt', 'region',\n",
       "       'color', 'economy'],\n",
       "      dtype='object')"
      ]
     },
     "execution_count": 8,
     "metadata": {},
     "output_type": "execute_result"
    }
   ],
   "source": [
    "df_t.columns"
   ]
  },
  {
   "cell_type": "markdown",
   "metadata": {},
   "source": [
    "## Levante [Legacy Plot with map there]"
   ]
  },
  {
   "cell_type": "markdown",
   "metadata": {},
   "source": [
    "### With Levante Boarders"
   ]
  },
  {
   "cell_type": "code",
   "execution_count": 49,
   "metadata": {},
   "outputs": [
    {
     "name": "stdout",
     "output_type": "stream",
     "text": [
      "Initial: 1**2 * RBF(length_scale=1e+03) + WhiteKernel(noise_level=2)\n",
      "Optimum: 1.91**2 * RBF(length_scale=2e+03) + WhiteKernel(noise_level=3.76)\n",
      "Log-Marginal-Likelihood: -282.2169673172167\n",
      "Saved to ./figures/manuscript/timelines/eu_panel/levant.pdf\n"
     ]
    },
    {
     "data": {
      "image/png": "[encoded data removed]",
      "text/plain": [
       "<Figure size 259.2x72 with 5 Axes>"
      ]
     },
     "metadata": {
      "needs_background": "light"
     },
     "output_type": "display_data"
    }
   ],
   "source": [
    "pop = \"Levante\"\n",
    "df1 = pd.read_csv(\"./Empirical/roh_all_inds_final_v42.csv\", sep=\"\\t\")\n",
    "df_t = extract_pop(df1, age_range=[0, 15000], pop=pop)\n",
    "label = prep_label(df_t, pop)\n",
    "\n",
    "plot_map_time(df_t, figsize=(3.6 , 1), crs_m=[30, 37, 32, 38], width_ratios=(8, 20), height_ratios=[1.5, 15, 1], \n",
    "              s_tl=14, ec=\"k\", lw=0.09, x_lim_tl=[-500, 15000], vrange_m=[0,15000],\n",
    "              y_lim_tl=[0,200], lbl_pad_age=0, lbl_pad_time=11, fsl=7, fs=7, leg_loc_tl=\"\",\n",
    "              map_title=label,  title_loc=(0.06,0.02), frac=0.0, cm=4, cm1=8, std_band=1.96, lgth_s=[2000,2000],\n",
    "              ticks=[158.74, 83.82, 21.84], tick_l=[f\"$2N_e=250$\", f\"$2N_e=500$\", f\"$2N_e=2000$\"],\n",
    "              cutoff=[20,50], cousins_vec=[[20,50],[20,100]], s_cousins = [9,14],\n",
    "              savepath=\"./figures/manuscript/timelines/eu_panel/levant.pdf\")"
   ]
  },
  {
   "cell_type": "markdown",
   "metadata": {},
   "source": [
    "## Steppe Panel"
   ]
  },
  {
   "cell_type": "code",
   "execution_count": 57,
   "metadata": {},
   "outputs": [],
   "source": [
    "steppe_params_all = {\"figsize\": (3.6, 1), \"crs_m\":[0, 65, 26, 100],\n",
    "              \"width_ratios\": (8, 22), \"height_ratios\": [1.5, 15, 1], \n",
    "              \"hspace\": 0.08, \"wspace\": 0.015,\n",
    "              \"s_tl\": 9, \"ec\":\"k\", \"m_c\":\"h\", \"lw\": 0.09, \n",
    "              \"x_lim_tl\": [-500, 47000], \"vrange_m\": [0,47000], \n",
    "              \"y_lim_tl\": [0,150], \"fsl\":5, \"fs\": 5, \"fs_leg\": 5, \n",
    "              \"leg_loc_tl\": \"\", \"title_tl\": \"\",\n",
    "              \"title_loc\": (0.2,0.02), \n",
    "              \"cm\": 4, \"cm1\": 8, \"frac\": 0, \n",
    "              \"lgth_s\": [10000,10000], \"lw_fit\":1.5, \n",
    "              \"ticks\" : [83.73, 30.98, 4.41],\n",
    "              \"cutoff\": [20,50], \"cousins_vec\": [[20,50],[20,100]], \n",
    "              \"s_cousins\" : [9,14], \"bg_c\":\"lightgrey\",\n",
    "              \"width_t\": 0.6, \"length_t\":2, \"lbl_pad_time\": 5, \n",
    "              \"lbl_pad_age\":0, \"xl_pad\": 1.5, \"yl_pad\": 1, \n",
    "              \"widths\": 800, \"alpha_vio\": 0.3}"
   ]
  },
  {
   "cell_type": "code",
   "execution_count": 58,
   "metadata": {},
   "outputs": [
    {
     "name": "stdout",
     "output_type": "stream",
     "text": [
      "Initial: 1**2 * RBF(length_scale=1e+04) + WhiteKernel(noise_level=2)\n",
      "Optimum: 6.36**2 * RBF(length_scale=1e+04) + WhiteKernel(noise_level=2.58)\n",
      "Log-Marginal-Likelihood: -596.2118152618219\n",
      "Saved to ./figures/manuscript/timelines/steppe_panel_v5/steppe_all.pdf\n"
     ]
    },
    {
     "data": {
      "image/png": "[encoded data removed]",
      "text/plain": [
       "<Figure size 259.2x72 with 5 Axes>"
      ]
     },
     "metadata": {
      "needs_background": "light"
     },
     "output_type": "display_data"
    }
   ],
   "source": [
    "pop = \"Steppe\"\n",
    "df1 = pd.read_csv(\"./Empirical/roh_all_inds_final_v42.csv\", sep=\"\\t\")\n",
    "df_t = extract_pop(df1, age_range=[100, 47000], pop=pop)\n",
    "df_t=df_t.sort_values(by=\"age\", ascending=True)\n",
    "label = prep_label(df_t, pop)\n",
    "\n",
    "#tick_l=[f\"$2N_e=250$\", f\"$2N_e=500$\", f\"$2N_e=2000$\"]\n",
    "plot_map_time(df_t, map_title=label, tick_l = [],\n",
    "              savepath=\"./figures/manuscript/timelines/steppe_panel_v5/steppe_all.pdf\",          \n",
    "              **steppe_params_all)"
   ]
  },
  {
   "cell_type": "markdown",
   "metadata": {},
   "source": [
    "### Steppe Recent"
   ]
  },
  {
   "cell_type": "code",
   "execution_count": 88,
   "metadata": {},
   "outputs": [],
   "source": [
    "steppe_param_rec = steppe_params_all.copy()\n",
    "steppe_param_rec[\"vrange_m\"] = [0, 9000]\n",
    "steppe_param_rec[\"x_lim_tl\"] = [-100, 9000]\n",
    "steppe_param_rec[\"lgth_s\"] = [2000,2000]"
   ]
  },
  {
   "cell_type": "code",
   "execution_count": 89,
   "metadata": {},
   "outputs": [
    {
     "name": "stdout",
     "output_type": "stream",
     "text": [
      "Initial: 1**2 * RBF(length_scale=2e+03) + WhiteKernel(noise_level=2)\n",
      "Optimum: 1.87**2 * RBF(length_scale=2e+03) + WhiteKernel(noise_level=2.36)\n",
      "Log-Marginal-Likelihood: -564.6790555524706\n",
      "Saved to ./figures/manuscript/timelines/steppe_panel_v5/steppe_recent.pdf\n"
     ]
    },
    {
     "data": {
      "image/png": "[encoded data removed]",
      "text/plain": [
       "<Figure size 259.2x72 with 5 Axes>"
      ]
     },
     "metadata": {
      "needs_background": "light"
     },
     "output_type": "display_data"
    }
   ],
   "source": [
    "pop = \"Steppe\"\n",
    "df1 = pd.read_csv(\"./Empirical/roh_all_inds_final_v42.csv\", sep=\"\\t\")\n",
    "df_t = extract_pop(df1, age_range=[100, 9000], pop=pop)\n",
    "df_t = df_t.sort_values(by=\"age\", ascending=True)\n",
    "label = prep_label(df_t, \"Steppe\\n<12ky BP\")\n",
    "\n",
    "#tick_l=[f\"$2N_e=250$\", f\"$2N_e=500$\", f\"$2N_e=2000$\"]\n",
    "plot_map_time(df_t, map_title=label,  tick_l = [],\n",
    "              savepath=\"./figures/manuscript/timelines/steppe_panel_v5/steppe_recent.pdf\",\n",
    "              **steppe_param_rec)"
   ]
  },
  {
   "cell_type": "code",
   "execution_count": null,
   "metadata": {},
   "outputs": [],
   "source": [
    "df_t[df_t[\"clst\"].str.contains(\"Sin\")]"
   ]
  },
  {
   "cell_type": "markdown",
   "metadata": {},
   "source": [
    "### East Steppe"
   ]
  },
  {
   "cell_type": "code",
   "execution_count": 65,
   "metadata": {},
   "outputs": [
    {
     "name": "stdout",
     "output_type": "stream",
     "text": [
      "Initial: 1**2 * RBF(length_scale=2e+03) + WhiteKernel(noise_level=2)\n",
      "Optimum: 4.94**2 * RBF(length_scale=2e+03) + WhiteKernel(noise_level=2.17)\n",
      "Log-Marginal-Likelihood: -89.91058670468234\n",
      "Saved to ./figures/manuscript/timelines/steppe_panel_v5/e_steppe.pdf\n"
     ]
    },
    {
     "data": {
      "image/png": "[encoded data removed]",
      "text/plain": [
       "<Figure size 259.2x72 with 5 Axes>"
      ]
     },
     "metadata": {
      "needs_background": "light"
     },
     "output_type": "display_data"
    }
   ],
   "source": [
    "pop = \"East Steppe\"\n",
    "df1 = pd.read_csv(\"./Empirical/roh_all_inds_final_v42.csv\", sep=\"\\t\")\n",
    "df_t = extract_pop(df1, age_range=[100, 10000], pop=pop)\n",
    "label = prep_label(df_t, \"Baikal\")\n",
    "\n",
    "steppe_param_e = steppe_param_rec.copy()\n",
    "steppe_param_e[\"crs_m\"] = [-30, 58, 90, 180]\n",
    "\n",
    "#tick_l=[f\"$2N_e=250$\", f\"$2N_e=500$\", f\"$2N_e=2000$\"]\n",
    "plot_map_time(df_t, map_title=label, tick_l=[], \n",
    "              savepath=\"./figures/manuscript/timelines/steppe_panel_v5/e_steppe.pdf\",\n",
    "              **steppe_param_e)"
   ]
  },
  {
   "cell_type": "markdown",
   "metadata": {},
   "source": [
    "# Central Asia"
   ]
  },
  {
   "cell_type": "code",
   "execution_count": 85,
   "metadata": {},
   "outputs": [
    {
     "name": "stdout",
     "output_type": "stream",
     "text": [
      "Initial: 1**2 * RBF(length_scale=2e+03) + WhiteKernel(noise_level=2)\n",
      "Optimum: 0.85**2 * RBF(length_scale=2e+03) + WhiteKernel(noise_level=2)\n",
      "Log-Marginal-Likelihood: -213.8777422864689\n",
      "Saved to ./figures/manuscript/timelines/steppe_panel_v5/pakistan.pdf\n"
     ]
    },
    {
     "data": {
      "image/png": "[encoded data removed]",
      "text/plain": [
       "<Figure size 259.2x72 with 5 Axes>"
      ]
     },
     "metadata": {
      "needs_background": "light"
     },
     "output_type": "display_data"
    }
   ],
   "source": [
    "pop = \"Pakistan\"\n",
    "df1 = pd.read_csv(\"./Empirical/roh_all_inds_final_v42.csv\", sep=\"\\t\")\n",
    "df_t = extract_pop(df1, age_range=[100, 12000], pop=pop)\n",
    "df_t=df_t.sort_values(by=\"age\", ascending=True)\n",
    "label = prep_label(df_t, \"Central Asia\")\n",
    "\n",
    "#tick_l=[f\"$2N_e=250$\", f\"$2N_e=500$\", f\"$2N_e=2000$\"]\n",
    "plot_map_time(df_t, map_title=label, tick_l = [f\"$2N_e=500$\", f\"$2N_e=1400$\", f\"$2N_e=10000$\"],\n",
    "              savepath=\"./figures/manuscript/timelines/steppe_panel_v5/pakistan.pdf\",\n",
    "              **steppe_param_rec)"
   ]
  },
  {
   "cell_type": "code",
   "execution_count": null,
   "metadata": {},
   "outputs": [],
   "source": [
    "df_t[\"clst\"].value_counts()"
   ]
  },
  {
   "cell_type": "code",
   "execution_count": null,
   "metadata": {},
   "outputs": [],
   "source": [
    "df_t[df_t[\"clst\"].str.contains(\"Turkmenistan_C_Geoksyur\")]"
   ]
  },
  {
   "cell_type": "code",
   "execution_count": 87,
   "metadata": {},
   "outputs": [
    {
     "name": "stdout",
     "output_type": "stream",
     "text": [
      "updating: figures/manuscript/timelines/steppe_panel_v5/ (stored 0%)\n",
      "  adding: figures/manuscript/timelines/steppe_panel_v5/steppe_all.pdf (deflated 2%)\n",
      "  adding: figures/manuscript/timelines/steppe_panel_v5/steppe_recent.pdf (deflated 2%)\n",
      "  adding: figures/manuscript/timelines/steppe_panel_v5/e_steppe.pdf (deflated 1%)\n",
      "  adding: figures/manuscript/timelines/steppe_panel_v5/pakistan.pdf (deflated 2%)\n"
     ]
    }
   ],
   "source": [
    "dir_tozip = \"./figures/manuscript/timelines/steppe_panel_v5/\"\n",
    "dir_zip = \"./figures/manuscript/timelines/steppe_panel_v5/steppe_all.zip\"\n",
    "!zip -r $dir_zip $dir_tozip"
   ]
  },
  {
   "cell_type": "markdown",
   "metadata": {},
   "source": [
    "# South American Populations\n",
    "Instructions: \n",
    "- Load the functions at top and just above."
   ]
  },
  {
   "cell_type": "code",
   "execution_count": 44,
   "metadata": {},
   "outputs": [],
   "source": [
    "sa_params = {\"figsize\": (3.6, 1),\n",
    "             \"crs_m\":[-59, 57, -140, -25],\n",
    "              \"width_ratios\": (8, 22), \"height_ratios\": [1.5, 15, 1], \n",
    "              \"hspace\": 0.08, \"wspace\": 0.015,\n",
    "              \"s_tl\": 9, \"ec\":\"k\", \"lw\": 0.09, \n",
    "              \"x_lim_tl\": [-100, 13000], \"vrange_m\": [0,13000], \n",
    "              \"y_lim_tl\": [0,120], \"fsl\":5, \"fs\": 5, \"fs_leg\": 5, \n",
    "              \"leg_loc_tl\": \"\", \"title_tl\": \"\",\n",
    "              \"title_loc\": (0.05,0.01), \n",
    "              \"cm\": 4, \"cm1\": 8, \"frac\": 0, \n",
    "              \"lgth_s\": [2000,2000], \"lw_fit\":1.5, \n",
    "              \"ticks\" : [83.73, 30.98, 4.41],\n",
    "              \"cutoff\": [20,50], \"m_cs\": [\"v\", \"s\"], \n",
    "              \"cousins_vec\": [[20,50],[20,100]], \n",
    "              \"s_cousins\" : [9,14], \"bg_c\":\"lightgrey\",\n",
    "              \"width_t\": 0.6, \"length_t\":2, \"lbl_pad_time\": 5, \n",
    "              \"lbl_pad_age\":0, \"xl_pad\": 1.5, \"yl_pad\": 1, \n",
    "              \"widths\": 800, \"alpha_vio\": 0.3}"
   ]
  },
  {
   "cell_type": "markdown",
   "metadata": {},
   "source": [
    "### Pacific NW"
   ]
  },
  {
   "cell_type": "code",
   "execution_count": 54,
   "metadata": {},
   "outputs": [
    {
     "name": "stdout",
     "output_type": "stream",
     "text": [
      "Initial: 1**2 * RBF(length_scale=2e+03) + WhiteKernel(noise_level=2)\n",
      "Optimum: 7.05**2 * RBF(length_scale=2e+03) + WhiteKernel(noise_level=2.3)\n",
      "Log-Marginal-Likelihood: -34.23017000859323\n",
      "Saved to ./figures/manuscript/timelines/sa_panel_v5/pacific_nw.pdf\n"
     ]
    },
    {
     "data": {
      "image/png": "[encoded data removed]",
      "text/plain": [
       "<Figure size 259.2x72 with 5 Axes>"
      ]
     },
     "metadata": {
      "needs_background": "light"
     },
     "output_type": "display_data"
    }
   ],
   "source": [
    "pop = \"Pacific NW\"\n",
    "df1 = pd.read_csv(\"./Empirical/roh_all_inds_final_v42.csv\", sep=\"\\t\")\n",
    "df_t = extract_pop(df1, age_range=[100, 13000], pop=pop)\n",
    "label = prep_label(df_t, \"A1\")\n",
    "\n",
    "#tick_l=[f\"$2N_e=250$\", f\"$2N_e=500$\", f\"$2N_e=2000$\"]\n",
    "plot_map_time(df_t, map_title=label, \n",
    "              savepath=\"./figures/manuscript/timelines/sa_panel_v5/pacific_nw.pdf\",\n",
    "              tick_l = [], bottomrow = False, rightcol=False,\n",
    "              **sa_params)"
   ]
  },
  {
   "cell_type": "markdown",
   "metadata": {},
   "source": [
    "### Andean"
   ]
  },
  {
   "cell_type": "code",
   "execution_count": 56,
   "metadata": {},
   "outputs": [
    {
     "name": "stdout",
     "output_type": "stream",
     "text": [
      "Initial: 1**2 * RBF(length_scale=2e+03) + WhiteKernel(noise_level=2)\n",
      "Optimum: 6.5**2 * RBF(length_scale=2e+03) + WhiteKernel(noise_level=4)\n",
      "Log-Marginal-Likelihood: -52.33484292185372\n",
      "Saved to ./figures/manuscript/timelines/sa_panel_v5/andean.pdf\n"
     ]
    },
    {
     "data": {
      "image/png": "[encoded data removed]",
      "text/plain": [
       "<Figure size 259.2x72 with 5 Axes>"
      ]
     },
     "metadata": {
      "needs_background": "light"
     },
     "output_type": "display_data"
    }
   ],
   "source": [
    "pop = \"Andean\"\n",
    "df1 = pd.read_csv(\"./Empirical/roh_all_inds_final_v42.csv\", sep=\"\\t\")\n",
    "df_t = extract_pop(df1, age_range=[100, 13000], pop=pop)\n",
    "label = prep_label(df_t, \"A3\")\n",
    "\n",
    "#tick_l=[f\"$2N_e=250$\", f\"$2N_e=500$\", f\"$2N_e=2000$\"]\n",
    "plot_map_time(df_t, map_title=label, \n",
    "              savepath=\"./figures/manuscript/timelines/sa_panel_v5/andean.pdf\",\n",
    "              tick_l = [],\n",
    "              bottomrow = True, rightcol=False,\n",
    "              **sa_params)"
   ]
  },
  {
   "cell_type": "markdown",
   "metadata": {},
   "source": [
    "### Atlantic Coast"
   ]
  },
  {
   "cell_type": "code",
   "execution_count": 55,
   "metadata": {},
   "outputs": [
    {
     "name": "stdout",
     "output_type": "stream",
     "text": [
      "Initial: 1**2 * RBF(length_scale=2e+03) + WhiteKernel(noise_level=2)\n",
      "Optimum: 5.51**2 * RBF(length_scale=2e+03) + WhiteKernel(noise_level=4)\n",
      "Log-Marginal-Likelihood: -29.88881775744764\n",
      "Saved to ./figures/manuscript/timelines/sa_panel_v5/atlantic_coast.pdf\n"
     ]
    },
    {
     "data": {
      "image/png": "[encoded data removed]",
      "text/plain": [
       "<Figure size 259.2x72 with 5 Axes>"
      ]
     },
     "metadata": {
      "needs_background": "light"
     },
     "output_type": "display_data"
    }
   ],
   "source": [
    "pop = \"Atlantic Coast\"\n",
    "df1 = pd.read_csv(\"./Empirical/roh_all_inds_final_v42.csv\", sep=\"\\t\")\n",
    "df_t = extract_pop(df1, age_range=[100, 13000], pop=pop)\n",
    "label = prep_label(df_t, \"A2\")\n",
    "\n",
    "#tick_l=[f\"$2N_e=250$\", f\"$2N_e=500$\", f\"$2N_e=2000$\"]\n",
    "plot_map_time(df_t, map_title=label, \n",
    "              savepath=\"./figures/manuscript/timelines/sa_panel_v5/atlantic_coast.pdf\",\n",
    "              tick_l = [],\n",
    "              bottomrow = False, rightcol=True,\n",
    "              **sa_params)"
   ]
  },
  {
   "cell_type": "markdown",
   "metadata": {},
   "source": [
    "### Patagonia"
   ]
  },
  {
   "cell_type": "code",
   "execution_count": 57,
   "metadata": {},
   "outputs": [
    {
     "name": "stdout",
     "output_type": "stream",
     "text": [
      "Initial: 1**2 * RBF(length_scale=2e+03) + WhiteKernel(noise_level=2)\n",
      "Optimum: 7.91**2 * RBF(length_scale=2e+03) + WhiteKernel(noise_level=2)\n",
      "Log-Marginal-Likelihood: -18.61372516819521\n",
      "Saved to ./figures/manuscript/timelines/sa_panel_v5/patagonia.pdf\n"
     ]
    },
    {
     "data": {
      "image/png": "[encoded data removed]",
      "text/plain": [
       "<Figure size 259.2x72 with 5 Axes>"
      ]
     },
     "metadata": {
      "needs_background": "light"
     },
     "output_type": "display_data"
    }
   ],
   "source": [
    "pop = \"Patagonia\"\n",
    "df1 = pd.read_csv(\"./Empirical/roh_all_inds_final_v42.csv\", sep=\"\\t\")\n",
    "df_t = extract_pop(df1, age_range=[0, 13000], pop=pop)\n",
    "label = prep_label(df_t, \"A4\")\n",
    "\n",
    "#tick_l=[f\"$2N_e=250$\", f\"$2N_e=500$\", f\"$2N_e=2000$\"]\n",
    "plot_map_time(df_t, map_title=label, \n",
    "              savepath=\"./figures/manuscript/timelines/sa_panel_v5/patagonia.pdf\",\n",
    "              bottomrow = True, rightcol=True,\n",
    "              tick_l = [f\"$2N_e=500$\", f\"$2N_e=1400$\", f\"$2N_e=10000$\"],\n",
    "              **sa_params)"
   ]
  },
  {
   "cell_type": "code",
   "execution_count": 58,
   "metadata": {},
   "outputs": [
    {
     "name": "stdout",
     "output_type": "stream",
     "text": [
      "  adding: figures/manuscript/timelines/sa_panel_v5/ (stored 0%)\n",
      "  adding: figures/manuscript/timelines/sa_panel_v5/andean.pdf (deflated 0%)\n",
      "  adding: figures/manuscript/timelines/sa_panel_v5/.ipynb_checkpoints/ (stored 0%)\n",
      "  adding: figures/manuscript/timelines/sa_panel_v5/patagonia.pdf (deflated 1%)\n",
      "  adding: figures/manuscript/timelines/sa_panel_v5/atlantic_coast.pdf (deflated 0%)\n",
      "  adding: figures/manuscript/timelines/sa_panel_v5/pacific_nw.pdf (deflated 0%)\n"
     ]
    }
   ],
   "source": [
    "dir_tozip = \"./figures/manuscript/timelines/sa_panel_v5/\"\n",
    "dir_zip = \"./figures/manuscript/timelines/sa_panel_v5/sa_all.zip\"\n",
    "!zip -r $dir_zip $dir_tozip"
   ]
  },
  {
   "cell_type": "markdown",
   "metadata": {},
   "source": [
    "# Supplemental Figure"
   ]
  },
  {
   "cell_type": "markdown",
   "metadata": {},
   "source": [
    "# Africa\n",
    "South & Eeast Africa"
   ]
  },
  {
   "cell_type": "code",
   "execution_count": 71,
   "metadata": {},
   "outputs": [],
   "source": [
    "af_params   = {\"figsize\": (3.6, 1),\n",
    "              \"crs_m\":[-40, 15, 0, 50],\n",
    "              \"width_ratios\": (8, 22), \"height_ratios\": [1.5, 15, 1], \n",
    "              \"hspace\": 0.08, \"wspace\": 0.015,\n",
    "              \"s_tl\": 9, \"ec\":\"k\", \"lw\": 0.09, \n",
    "              \"x_lim_tl\": [-100, 5000], \"vrange_m\": [0,5000], \n",
    "              \"y_lim_tl\": [0,150], \"fsl\":5, \"fs\": 5, \"fs_leg\": 5, \n",
    "              \"leg_loc_tl\": \"\", \"title_tl\": \"\",\n",
    "              \"title_loc\": (0.05,0.01), \n",
    "              \"cm\": 4, \"cm1\": 8, \"frac\": 0, \n",
    "              \"lgth_s\": [2000,2000], \"lw_fit\":1.5, \n",
    "              \"ticks\" : [83.73, 30.98, 4.41],\n",
    "              \"cutoff\": [20,50], \"m_cs\": [\"v\", \"s\"], \"cousins_vec\": [[20,50],[20,100]], \n",
    "              \"s_cousins\" : [9,14], \"bg_c\":\"lightgrey\",\n",
    "              \"width_t\": 0.6, \"length_t\":2, \"lbl_pad_time\": 5, \n",
    "              \"lbl_pad_age\":0, \"xl_pad\": 1.5, \"yl_pad\": 1, \n",
    "              \"widths\": 800, \"alpha_vio\": 0.3}"
   ]
  },
  {
   "cell_type": "markdown",
   "metadata": {},
   "source": [
    "### East Africa"
   ]
  },
  {
   "cell_type": "code",
   "execution_count": 76,
   "metadata": {},
   "outputs": [
    {
     "name": "stdout",
     "output_type": "stream",
     "text": [
      "Initial: 1**2 * RBF(length_scale=2e+03) + WhiteKernel(noise_level=2)\n",
      "Optimum: 1.5**2 * RBF(length_scale=2e+03) + WhiteKernel(noise_level=2)\n",
      "Log-Marginal-Likelihood: -46.71899536720204\n",
      "Saved to ./figures/manuscript/timelines/supp_panel/east_africa.pdf\n"
     ]
    },
    {
     "data": {
      "image/png": "[encoded data removed]",
      "text/plain": [
       "<Figure size 259.2x72 with 5 Axes>"
      ]
     },
     "metadata": {
      "needs_background": "light"
     },
     "output_type": "display_data"
    }
   ],
   "source": [
    "pop = \"East Africa\"\n",
    "df1 = pd.read_csv(\"./Empirical/roh_all_inds_final_v42.csv\", sep=\"\\t\")\n",
    "df_t = extract_pop(df1, age_range=[100, 13000], pop=pop)\n",
    "label = prep_label(df_t, \"East\\nAfrica\")\n",
    "\n",
    "#tick_l=[f\"$2N_e=250$\", f\"$2N_e=500$\", f\"$2N_e=2000$\"]\n",
    "plot_map_time(df_t, map_title=label,\n",
    "              bottomrow=True, rightcol=True,\n",
    "              tick_l = [], # f\"$2N_e=500$\", f\"$2N_e=1400$\", f\"$2N_e=10000$\"\n",
    "              savepath=\"./figures/manuscript/timelines/supp_panel/east_africa.pdf\",\n",
    "              **af_params)"
   ]
  },
  {
   "cell_type": "markdown",
   "metadata": {},
   "source": [
    "### South Africa"
   ]
  },
  {
   "cell_type": "code",
   "execution_count": 75,
   "metadata": {},
   "outputs": [
    {
     "name": "stdout",
     "output_type": "stream",
     "text": [
      "Initial: 1**2 * RBF(length_scale=2e+03) + WhiteKernel(noise_level=2)\n",
      "Optimum: 1.68**2 * RBF(length_scale=2e+03) + WhiteKernel(noise_level=2)\n",
      "Log-Marginal-Likelihood: -14.879233260512926\n",
      "Saved to ./figures/manuscript/timelines/supp_panel/south_africa.pdf\n"
     ]
    },
    {
     "data": {
      "image/png": "[encoded data removed]",
      "text/plain": [
       "<Figure size 259.2x72 with 5 Axes>"
      ]
     },
     "metadata": {
      "needs_background": "light"
     },
     "output_type": "display_data"
    }
   ],
   "source": [
    "pop = \"South Africa\"\n",
    "df1 = pd.read_csv(\"./Empirical/roh_all_inds_final_v42.csv\", sep=\"\\t\")\n",
    "df_t = extract_pop(df1, age_range=[100, 13000], pop=pop)\n",
    "label = prep_label(df_t, \"South\\nAfrica\")\n",
    "\n",
    "\n",
    "#tick_l=[f\"$2N_e=250$\", f\"$2N_e=500$\", f\"$2N_e=2000$\"]\n",
    "plot_map_time(df_t, map_title=label,\n",
    "              bottomrow=True, rightcol=False, tick_l=[], \n",
    "              savepath=\"./figures/manuscript/timelines/supp_panel/south_africa.pdf\",\n",
    "              **af_params)"
   ]
  },
  {
   "cell_type": "markdown",
   "metadata": {},
   "source": [
    "### Vanuatu"
   ]
  },
  {
   "cell_type": "code",
   "execution_count": 68,
   "metadata": {},
   "outputs": [],
   "source": [
    "vanuatu_params  = {\"figsize\": (3.6, 1),\n",
    "              \"crs_m\":[-30, 58, 90, 180],\n",
    "              \"width_ratios\": (8, 22), \"height_ratios\": [1.5, 15, 1], \n",
    "              \"hspace\": 0.08, \"wspace\": 0.015,\n",
    "              \"s_tl\": 9, \"ec\":\"k\", \"lw\": 0.09, \n",
    "              \"x_lim_tl\": [-100, 3500], \"vrange_m\": [0,3500], \n",
    "              \"y_lim_tl\": [0,150], \"fsl\":5, \"fs\": 5, \"fs_leg\": 5, \n",
    "              \"leg_loc_tl\": \"\", \"title_tl\": \"\",\n",
    "              \"title_loc\": (0.05,0.01), \n",
    "              \"cm\": 4, \"cm1\": 8, \"frac\": 0, \n",
    "              \"lgth_s\": [2000,2000], \"lw_fit\":1.5, \n",
    "              \"ticks\" : [83.73, 30.98, 4.41],\n",
    "              \"cutoff\": [20,50], \"cousins_vec\": [[20,50],[20,100]], \"m_cs\":[\"v\", \"s\"],\n",
    "              \"s_cousins\" : [9,9], \"bg_c\":\"lightgrey\",\n",
    "              \"width_t\": 0.6, \"length_t\":2, \"lbl_pad_time\": 5, \n",
    "              \"lbl_pad_age\":0, \"xl_pad\": 1.5, \"yl_pad\": 1, \n",
    "              \"widths\": 800, \"alpha_vio\": 0.3}"
   ]
  },
  {
   "cell_type": "code",
   "execution_count": 74,
   "metadata": {},
   "outputs": [
    {
     "name": "stdout",
     "output_type": "stream",
     "text": [
      "Initial: 1**2 * RBF(length_scale=2e+03) + WhiteKernel(noise_level=2)\n",
      "Optimum: 3.06**2 * RBF(length_scale=2e+03) + WhiteKernel(noise_level=4)\n",
      "Log-Marginal-Likelihood: -35.30200782615787\n",
      "Saved to ./figures/manuscript/timelines/supp_panel/vanuatu.pdf\n"
     ]
    },
    {
     "data": {
      "image/png": "[encoded data removed]",
      "text/plain": [
       "<Figure size 259.2x72 with 5 Axes>"
      ]
     },
     "metadata": {
      "needs_background": "light"
     },
     "output_type": "display_data"
    }
   ],
   "source": [
    "pop = \"Vanuatu\"\n",
    "df1 = pd.read_csv(\"./Empirical/roh_all_inds_final_v42.csv\", sep=\"\\t\")\n",
    "df_t = extract_pop(df1, age_range=[0, 13000], pop=pop)\n",
    "df_t[\"color\"] = \"darkgray\"\n",
    "\n",
    "label = prep_label(df_t, pop)\n",
    "\n",
    "#tick_l=[f\"$2N_e=250$\", f\"$2N_e=500$\", f\"$2N_e=2000$\"]\n",
    "plot_map_time(df_t, map_title=label,\n",
    "              rightcol=True,\n",
    "              savepath=\"./figures/manuscript/timelines/supp_panel/vanuatu.pdf\",\n",
    "              tick_l = [f\"$2N_e=500$\", f\"$2N_e=1400$\", f\"$2N_e=10000$\"],\n",
    "              **vanuatu_params)"
   ]
  },
  {
   "cell_type": "markdown",
   "metadata": {},
   "source": [
    "### Sardinia"
   ]
  },
  {
   "cell_type": "code",
   "execution_count": 61,
   "metadata": {},
   "outputs": [],
   "source": [
    "sar_params = {\"figsize\": (3.6, 1),\n",
    "              \"width_ratios\": (8, 22), \"height_ratios\": [1.5, 15, 1], \n",
    "              \"hspace\": 0.08, \"wspace\": 0.015,\n",
    "              \"s_tl\": 9, \"ec\":\"k\", \"lw\": 0.09, \n",
    "              \"x_lim_tl\": [-500, 12200], \"vrange_m\": [0,12200], \n",
    "              \"y_lim_tl\": [0,150], \"fsl\":5, \"fs\": 5, \"fs_leg\": 5, \n",
    "              \"leg_loc_tl\": \"\", \"title_tl\": \"\",\n",
    "              \"title_loc\": (0.2,0.01), \n",
    "              \"cm\": 4, \"cm1\": 8, \"frac\": 0, \n",
    "              \"lgth_s\": [1500,1500], \"lw_fit\":1.5, \n",
    "              \"ticks\": [83.73, 30.98, 4.41],\n",
    "              \"cutoff\": [20,50], \"cousins_vec\": [[20,50],[20,100]], \"m_cs\":[\"v\", \"s\"],\n",
    "              \"s_cousins\" : [9,9], \"bg_c\":\"lightgrey\",\n",
    "              \"width_t\": 0.6, \"length_t\":2, \"lbl_pad_time\": 5, \n",
    "              \"lbl_pad_age\":0, \"xl_pad\": 1.5, \"yl_pad\": 1, \n",
    "              \"widths\": 800, \"alpha_vio\": 0.3}"
   ]
  },
  {
   "cell_type": "code",
   "execution_count": 62,
   "metadata": {},
   "outputs": [],
   "source": [
    "pop = \"Sardinia\"\n",
    "df1 = pd.read_csv(\"./Empirical/roh_all_inds_final_v42.csv\", sep=\"\\t\")\n",
    "df_t = extract_pop(df1, age_range=[0, 13000], pop=pop)\n",
    "label = prep_label(df_t, pop)"
   ]
  },
  {
   "cell_type": "code",
   "execution_count": 64,
   "metadata": {},
   "outputs": [
    {
     "name": "stdout",
     "output_type": "stream",
     "text": [
      "Initial: 1**2 * RBF(length_scale=1.5e+03) + WhiteKernel(noise_level=2)\n",
      "Optimum: 1.74**2 * RBF(length_scale=1.5e+03) + WhiteKernel(noise_level=2.27)\n",
      "Log-Marginal-Likelihood: -142.99986472799424\n",
      "Saved to ./figures/manuscript/timelines/supp_panel/sardinia.pdf\n"
     ]
    },
    {
     "data": {
      "image/png": "[encoded data removed]",
      "text/plain": [
       "<Figure size 259.2x72 with 5 Axes>"
      ]
     },
     "metadata": {
      "needs_background": "light"
     },
     "output_type": "display_data"
    }
   ],
   "source": [
    "#tick_l=[f\"$2N_e=250$\", f\"$2N_e=500$\", f\"$2N_e=2000$\"]\n",
    "plot_map_time(df_t, map_title=label,\n",
    "              rightcol=True,\n",
    "              savepath=\"./figures/manuscript/timelines/supp_panel/sardinia.pdf\",\n",
    "              tick_l = [],\n",
    "              **sar_params)"
   ]
  },
  {
   "cell_type": "markdown",
   "metadata": {},
   "source": [
    "# Area 51"
   ]
  },
  {
   "cell_type": "code",
   "execution_count": 2,
   "metadata": {},
   "outputs": [],
   "source": [
    "df1 = pd.read_csv(\"./Empirical/roh_all_inds_final_v42.csv\", sep=\"\\t\")"
   ]
  },
  {
   "cell_type": "code",
   "execution_count": 4,
   "metadata": {},
   "outputs": [
    {
     "data": {
      "text/html": [
       "<div>\n",
       "<style scoped>\n",
       "    .dataframe tbody tr th:only-of-type {\n",
       "        vertical-align: middle;\n",
       "    }\n",
       "\n",
       "    .dataframe tbody tr th {\n",
       "        vertical-align: top;\n",
       "    }\n",
       "\n",
       "    .dataframe thead th {\n",
       "        text-align: right;\n",
       "    }\n",
       "</style>\n",
       "<table border=\"1\" class=\"dataframe\">\n",
       "  <thead>\n",
       "    <tr style=\"text-align: right;\">\n",
       "      <th></th>\n",
       "      <th>iid</th>\n",
       "      <th>pop</th>\n",
       "      <th>max_roh</th>\n",
       "      <th>sum_roh&gt;4</th>\n",
       "      <th>n_roh&gt;4</th>\n",
       "      <th>sum_roh&gt;8</th>\n",
       "      <th>n_roh&gt;8</th>\n",
       "      <th>sum_roh&gt;12</th>\n",
       "      <th>n_roh&gt;12</th>\n",
       "      <th>sum_roh&gt;20</th>\n",
       "      <th>...</th>\n",
       "      <th>lon</th>\n",
       "      <th>age</th>\n",
       "      <th>study</th>\n",
       "      <th>clst</th>\n",
       "      <th>mean_cov</th>\n",
       "      <th>n_cov_snp</th>\n",
       "      <th>include_alt</th>\n",
       "      <th>region</th>\n",
       "      <th>color</th>\n",
       "      <th>economy</th>\n",
       "    </tr>\n",
       "  </thead>\n",
       "  <tbody>\n",
       "    <tr>\n",
       "      <th>64</th>\n",
       "      <td>IPK12.SG</td>\n",
       "      <td>Chile_WesternArchipelago_Kaweskar_800BP.SG</td>\n",
       "      <td>27.178198</td>\n",
       "      <td>352.390668</td>\n",
       "      <td>38</td>\n",
       "      <td>230.885918</td>\n",
       "      <td>16</td>\n",
       "      <td>181.213913</td>\n",
       "      <td>11</td>\n",
       "      <td>48.985499</td>\n",
       "      <td>...</td>\n",
       "      <td>-70.97</td>\n",
       "      <td>570.0</td>\n",
       "      <td>delaFuentePNAS2018</td>\n",
       "      <td>Chile_WesternArchipelago_Kaweskar_800BP.SG</td>\n",
       "      <td>6.334562</td>\n",
       "      <td>1142798</td>\n",
       "      <td>1</td>\n",
       "      <td>Patagonia</td>\n",
       "      <td>silver</td>\n",
       "      <td>NaN</td>\n",
       "    </tr>\n",
       "  </tbody>\n",
       "</table>\n",
       "<p>1 rows × 22 columns</p>\n",
       "</div>"
      ],
      "text/plain": [
       "         iid                                         pop    max_roh  \\\n",
       "64  IPK12.SG  Chile_WesternArchipelago_Kaweskar_800BP.SG  27.178198   \n",
       "\n",
       "     sum_roh>4  n_roh>4   sum_roh>8  n_roh>8  sum_roh>12  n_roh>12  \\\n",
       "64  352.390668       38  230.885918       16  181.213913        11   \n",
       "\n",
       "    sum_roh>20  ...    lon    age               study  \\\n",
       "64   48.985499  ... -70.97  570.0  delaFuentePNAS2018   \n",
       "\n",
       "                                          clst  mean_cov n_cov_snp  \\\n",
       "64  Chile_WesternArchipelago_Kaweskar_800BP.SG  6.334562   1142798   \n",
       "\n",
       "    include_alt     region   color economy  \n",
       "64            1  Patagonia  silver     NaN  \n",
       "\n",
       "[1 rows x 22 columns]"
      ]
     },
     "execution_count": 4,
     "metadata": {},
     "output_type": "execute_result"
    }
   ],
   "source": [
    "df1[df1[\"iid\"].str.contains(\"IPK12\")]"
   ]
  },
  {
   "cell_type": "markdown",
   "metadata": {},
   "source": [
    "# Legacy [Delete if no longer needed]"
   ]
  },
  {
   "cell_type": "markdown",
   "metadata": {},
   "source": [
    "### Legacy Code for Summary Statistics [Delete if not needed anymore, keep code for future reference]"
   ]
  },
  {
   "cell_type": "code",
   "execution_count": 13,
   "metadata": {},
   "outputs": [
    {
     "name": "stdout",
     "output_type": "stream",
     "text": [
      "Anatolia Farmers: 0 / 0 have 0 ROH > 4 cM\n"
     ]
    }
   ],
   "source": [
    "en_terms = [\"Anatolia Farmers\"]\n",
    "idx = df_eu[\"clst\"].str.contains('|'.join(en_terms))\n",
    "df_anatolia = df_eu[idx]\n",
    "zero_roh = np.sum(df_anatolia[\"n_roh>4\"]==0)\n",
    "print(f\"Anatolia Farmers: {zero_roh} / {len(df_anatolia)} have 0 ROH > 4 cM\")"
   ]
  },
  {
   "cell_type": "code",
   "execution_count": null,
   "metadata": {},
   "outputs": [],
   "source": [
    "### Fraction of whole European dataset with ROH > 150 cM\n",
    "zero_roh = np.sum(df_eu[\"sum_roh>4\"]>150)\n",
    "print(f\"All: {zero_roh} / {len(df_eu)} have 150 cM ROH > 4 cM\")\n",
    "\n",
    "### Same for WHG\n",
    "#en_terms = [\"Hunter Gatherers\"]\n",
    "#idx = df_euro[\"clst\"].str.contains('|'.join(en_terms))\n",
    "idx = (df_eu[\"color\"]==\"purple\")\n",
    "df_anatolia = df_eu[idx]\n",
    "zero_roh = np.sum(df_anatolia[\"sum_roh>4\"]>150)\n",
    "print(f\"Hunter Gatherers: {zero_roh} / {len(df_anatolia)}  have 150 cM ROH > 4 cM\")"
   ]
  },
  {
   "cell_type": "code",
   "execution_count": null,
   "metadata": {},
   "outputs": [],
   "source": [
    "df_eu = pd.read_csv(\"./Empirical/Eigenstrat/Reichall/combined_roh05.csv\", sep=\"\\t\")\n",
    "df_eu = extract_sub_df_geo_kw(df_eu, 28, 63, -11, 38)\n",
    "idx_flip = df_eu[\"iid\"]==\"I7554\"\n",
    "df_eu.loc[idx_flip, \"lon\"] = -df_eu.loc[idx_flip, \"lon\"]  # Flip Wrong Latitude Atlantic\n",
    "idx_del = df_eu[\"iid\"].str.contains(\"Loschbour\")\n",
    "df_eu = df_eu[~idx_del]\n",
    "\n",
    "\n",
    "### Plot all of Europe (not necessary in fow)\n",
    "df_eu[\"color\"] = \"silver\"\n",
    "df_1 = pre_process_europe_df(df_eu)\n",
    "df_1 = extract_df_age(df_1, 0, 15000)\n",
    "\n",
    "plot_map_time(df_1, figsize=(7.2 , 2.2), crs_m=[28, 63, -11, 38], width_ratios=(8, 20), height_ratios=[15, 1], s_tl=30, \n",
    "              x_lim_tl=[-100, 15000], y_lim_tl=[0,550], lbl_pad_age=0, lbl_pad_time=11, fsl=7, fs=7, leg_loc_tl=\"upper left\",\n",
    "              map_title=f\"Western\\nEurasia\\n(n={len(df_1)})\", title_loc=(0.06,0.02), frac=0)"
   ]
  },
  {
   "cell_type": "markdown",
   "metadata": {},
   "source": [
    "# Area 51"
   ]
  },
  {
   "cell_type": "markdown",
   "metadata": {},
   "source": [
    "### Experiment with small font size"
   ]
  },
  {
   "cell_type": "code",
   "execution_count": 3,
   "metadata": {},
   "outputs": [],
   "source": [
    "df1 = pd.read_csv(\"./Empirical/roh_all_inds_final_v42.csv\", sep=\"\\t\")"
   ]
  },
  {
   "cell_type": "code",
   "execution_count": 5,
   "metadata": {},
   "outputs": [
    {
     "data": {
      "text/html": [
       "<div>\n",
       "<style scoped>\n",
       "    .dataframe tbody tr th:only-of-type {\n",
       "        vertical-align: middle;\n",
       "    }\n",
       "\n",
       "    .dataframe tbody tr th {\n",
       "        vertical-align: top;\n",
       "    }\n",
       "\n",
       "    .dataframe thead th {\n",
       "        text-align: right;\n",
       "    }\n",
       "</style>\n",
       "<table border=\"1\" class=\"dataframe\">\n",
       "  <thead>\n",
       "    <tr style=\"text-align: right;\">\n",
       "      <th></th>\n",
       "      <th>iid</th>\n",
       "      <th>pop</th>\n",
       "      <th>max_roh</th>\n",
       "      <th>sum_roh&gt;4</th>\n",
       "      <th>n_roh&gt;4</th>\n",
       "      <th>sum_roh&gt;8</th>\n",
       "      <th>n_roh&gt;8</th>\n",
       "      <th>sum_roh&gt;12</th>\n",
       "      <th>n_roh&gt;12</th>\n",
       "      <th>sum_roh&gt;20</th>\n",
       "      <th>...</th>\n",
       "      <th>lon</th>\n",
       "      <th>age</th>\n",
       "      <th>study</th>\n",
       "      <th>clst</th>\n",
       "      <th>mean_cov</th>\n",
       "      <th>n_cov_snp</th>\n",
       "      <th>include_alt</th>\n",
       "      <th>region</th>\n",
       "      <th>color</th>\n",
       "      <th>economy</th>\n",
       "    </tr>\n",
       "  </thead>\n",
       "  <tbody>\n",
       "    <tr>\n",
       "      <th>1050</th>\n",
       "      <td>I1178</td>\n",
       "      <td>Israel_C</td>\n",
       "      <td>91.121798</td>\n",
       "      <td>703.154187</td>\n",
       "      <td>30</td>\n",
       "      <td>682.380788</td>\n",
       "      <td>26</td>\n",
       "      <td>625.101110</td>\n",
       "      <td>20</td>\n",
       "      <td>545.019401</td>\n",
       "      <td>...</td>\n",
       "      <td>35.331389</td>\n",
       "      <td>5950.0</td>\n",
       "      <td>HarneyMayNatureCommunications2018</td>\n",
       "      <td>Israel_C</td>\n",
       "      <td>2.383000</td>\n",
       "      <td>719331</td>\n",
       "      <td>1</td>\n",
       "      <td>Levante</td>\n",
       "      <td>blue</td>\n",
       "      <td>Agricultural</td>\n",
       "    </tr>\n",
       "    <tr>\n",
       "      <th>3081</th>\n",
       "      <td>Karitiana_11</td>\n",
       "      <td>Karitiana</td>\n",
       "      <td>71.722305</td>\n",
       "      <td>596.386334</td>\n",
       "      <td>37</td>\n",
       "      <td>494.799619</td>\n",
       "      <td>20</td>\n",
       "      <td>455.792115</td>\n",
       "      <td>16</td>\n",
       "      <td>392.679617</td>\n",
       "      <td>...</td>\n",
       "      <td>-63.000000</td>\n",
       "      <td>0.0</td>\n",
       "      <td>Lazaridis et al. 2014</td>\n",
       "      <td>Modern</td>\n",
       "      <td>NaN</td>\n",
       "      <td>553410</td>\n",
       "      <td>1</td>\n",
       "      <td>Karitiana</td>\n",
       "      <td>yellow</td>\n",
       "      <td>NaN</td>\n",
       "    </tr>\n",
       "    <tr>\n",
       "      <th>3137</th>\n",
       "      <td>Lebanese_6</td>\n",
       "      <td>Lebanese</td>\n",
       "      <td>59.008193</td>\n",
       "      <td>546.006877</td>\n",
       "      <td>29</td>\n",
       "      <td>511.061079</td>\n",
       "      <td>23</td>\n",
       "      <td>458.984076</td>\n",
       "      <td>18</td>\n",
       "      <td>358.673575</td>\n",
       "      <td>...</td>\n",
       "      <td>35.600000</td>\n",
       "      <td>0.0</td>\n",
       "      <td>Lazaridis et al. 2014</td>\n",
       "      <td>Modern</td>\n",
       "      <td>NaN</td>\n",
       "      <td>553090</td>\n",
       "      <td>1</td>\n",
       "      <td>Levante</td>\n",
       "      <td>yellow</td>\n",
       "      <td>NaN</td>\n",
       "    </tr>\n",
       "    <tr>\n",
       "      <th>2527</th>\n",
       "      <td>Pima_11</td>\n",
       "      <td>Pima</td>\n",
       "      <td>124.891199</td>\n",
       "      <td>543.410879</td>\n",
       "      <td>30</td>\n",
       "      <td>495.179579</td>\n",
       "      <td>21</td>\n",
       "      <td>422.557495</td>\n",
       "      <td>13</td>\n",
       "      <td>337.027990</td>\n",
       "      <td>...</td>\n",
       "      <td>-108.000000</td>\n",
       "      <td>0.0</td>\n",
       "      <td>Lazaridis et al. 2014</td>\n",
       "      <td>Modern</td>\n",
       "      <td>NaN</td>\n",
       "      <td>554855</td>\n",
       "      <td>1</td>\n",
       "      <td>Pima</td>\n",
       "      <td>yellow</td>\n",
       "      <td>NaN</td>\n",
       "    </tr>\n",
       "    <tr>\n",
       "      <th>3404</th>\n",
       "      <td>Surui_1</td>\n",
       "      <td>Surui</td>\n",
       "      <td>83.238797</td>\n",
       "      <td>571.983341</td>\n",
       "      <td>33</td>\n",
       "      <td>486.853216</td>\n",
       "      <td>18</td>\n",
       "      <td>447.016210</td>\n",
       "      <td>14</td>\n",
       "      <td>333.080091</td>\n",
       "      <td>...</td>\n",
       "      <td>-62.000000</td>\n",
       "      <td>0.0</td>\n",
       "      <td>Lazaridis et al. 2014</td>\n",
       "      <td>Modern</td>\n",
       "      <td>NaN</td>\n",
       "      <td>546003</td>\n",
       "      <td>1</td>\n",
       "      <td>Atlantic Coast</td>\n",
       "      <td>yellow</td>\n",
       "      <td>NaN</td>\n",
       "    </tr>\n",
       "    <tr>\n",
       "      <th>3711</th>\n",
       "      <td>MJ-41.SG</td>\n",
       "      <td>Russia_EarlySarmatian_SouthernUrals.SG</td>\n",
       "      <td>39.571500</td>\n",
       "      <td>489.093302</td>\n",
       "      <td>28</td>\n",
       "      <td>461.850809</td>\n",
       "      <td>23</td>\n",
       "      <td>391.090107</td>\n",
       "      <td>16</td>\n",
       "      <td>324.866605</td>\n",
       "      <td>...</td>\n",
       "      <td>58.660441</td>\n",
       "      <td>2525.0</td>\n",
       "      <td>JarveCurrentBiology2019</td>\n",
       "      <td>Russia_EarlySarmatian_SouthernUrals.SG</td>\n",
       "      <td>0.439047</td>\n",
       "      <td>407399</td>\n",
       "      <td>1</td>\n",
       "      <td>Steppe</td>\n",
       "      <td>gold</td>\n",
       "      <td>Pastoralist</td>\n",
       "    </tr>\n",
       "    <tr>\n",
       "      <th>2408</th>\n",
       "      <td>Surui_0</td>\n",
       "      <td>Surui</td>\n",
       "      <td>45.051694</td>\n",
       "      <td>688.967521</td>\n",
       "      <td>49</td>\n",
       "      <td>581.753403</td>\n",
       "      <td>30</td>\n",
       "      <td>521.008477</td>\n",
       "      <td>24</td>\n",
       "      <td>283.860490</td>\n",
       "      <td>...</td>\n",
       "      <td>-62.000000</td>\n",
       "      <td>0.0</td>\n",
       "      <td>Lazaridis et al. 2014</td>\n",
       "      <td>Modern</td>\n",
       "      <td>NaN</td>\n",
       "      <td>555005</td>\n",
       "      <td>1</td>\n",
       "      <td>Atlantic Coast</td>\n",
       "      <td>yellow</td>\n",
       "      <td>NaN</td>\n",
       "    </tr>\n",
       "    <tr>\n",
       "      <th>2128</th>\n",
       "      <td>Tunisian_Jew_2</td>\n",
       "      <td>Tunisian_Jew</td>\n",
       "      <td>101.071715</td>\n",
       "      <td>453.960818</td>\n",
       "      <td>27</td>\n",
       "      <td>386.749227</td>\n",
       "      <td>16</td>\n",
       "      <td>326.476012</td>\n",
       "      <td>10</td>\n",
       "      <td>281.803410</td>\n",
       "      <td>...</td>\n",
       "      <td>10.200000</td>\n",
       "      <td>0.0</td>\n",
       "      <td>Lazaridis et al. 2014</td>\n",
       "      <td>Modern</td>\n",
       "      <td>NaN</td>\n",
       "      <td>555263</td>\n",
       "      <td>1</td>\n",
       "      <td>Tunisian_Jew</td>\n",
       "      <td>yellow</td>\n",
       "      <td>NaN</td>\n",
       "    </tr>\n",
       "    <tr>\n",
       "      <th>2077</th>\n",
       "      <td>Saharawi_5</td>\n",
       "      <td>Saharawi</td>\n",
       "      <td>47.007999</td>\n",
       "      <td>395.034189</td>\n",
       "      <td>21</td>\n",
       "      <td>369.785593</td>\n",
       "      <td>16</td>\n",
       "      <td>337.566583</td>\n",
       "      <td>13</td>\n",
       "      <td>278.883290</td>\n",
       "      <td>...</td>\n",
       "      <td>-8.900000</td>\n",
       "      <td>0.0</td>\n",
       "      <td>Lazaridis et al. 2014</td>\n",
       "      <td>Modern</td>\n",
       "      <td>NaN</td>\n",
       "      <td>555296</td>\n",
       "      <td>1</td>\n",
       "      <td>North Africa</td>\n",
       "      <td>yellow</td>\n",
       "      <td>NaN</td>\n",
       "    </tr>\n",
       "    <tr>\n",
       "      <th>2648</th>\n",
       "      <td>Balochi_0</td>\n",
       "      <td>Balochi</td>\n",
       "      <td>90.107697</td>\n",
       "      <td>389.363121</td>\n",
       "      <td>20</td>\n",
       "      <td>340.396095</td>\n",
       "      <td>12</td>\n",
       "      <td>314.565102</td>\n",
       "      <td>9</td>\n",
       "      <td>273.343096</td>\n",
       "      <td>...</td>\n",
       "      <td>66.500000</td>\n",
       "      <td>0.0</td>\n",
       "      <td>Lazaridis et al. 2014</td>\n",
       "      <td>Modern</td>\n",
       "      <td>NaN</td>\n",
       "      <td>554689</td>\n",
       "      <td>1</td>\n",
       "      <td>Central Asia</td>\n",
       "      <td>yellow</td>\n",
       "      <td>NaN</td>\n",
       "    </tr>\n",
       "    <tr>\n",
       "      <th>694</th>\n",
       "      <td>I2521</td>\n",
       "      <td>Bulgaria_N</td>\n",
       "      <td>68.662197</td>\n",
       "      <td>333.891899</td>\n",
       "      <td>15</td>\n",
       "      <td>300.526295</td>\n",
       "      <td>9</td>\n",
       "      <td>300.526295</td>\n",
       "      <td>9</td>\n",
       "      <td>267.044592</td>\n",
       "      <td>...</td>\n",
       "      <td>25.883410</td>\n",
       "      <td>7505.0</td>\n",
       "      <td>MathiesonNature2018</td>\n",
       "      <td>Bulgaria_N</td>\n",
       "      <td>5.493000</td>\n",
       "      <td>802956</td>\n",
       "      <td>1</td>\n",
       "      <td>all</td>\n",
       "      <td>silver</td>\n",
       "      <td>NaN</td>\n",
       "    </tr>\n",
       "    <tr>\n",
       "      <th>1813</th>\n",
       "      <td>Tujia_2</td>\n",
       "      <td>Tujia</td>\n",
       "      <td>157.113902</td>\n",
       "      <td>280.060284</td>\n",
       "      <td>3</td>\n",
       "      <td>280.060284</td>\n",
       "      <td>3</td>\n",
       "      <td>280.060284</td>\n",
       "      <td>3</td>\n",
       "      <td>261.530988</td>\n",
       "      <td>...</td>\n",
       "      <td>109.000000</td>\n",
       "      <td>0.0</td>\n",
       "      <td>Lazaridis et al. 2014</td>\n",
       "      <td>Modern</td>\n",
       "      <td>NaN</td>\n",
       "      <td>555498</td>\n",
       "      <td>1</td>\n",
       "      <td>Tujia</td>\n",
       "      <td>yellow</td>\n",
       "      <td>NaN</td>\n",
       "    </tr>\n",
       "    <tr>\n",
       "      <th>2824</th>\n",
       "      <td>Makrani_12</td>\n",
       "      <td>Makrani</td>\n",
       "      <td>36.951209</td>\n",
       "      <td>554.466879</td>\n",
       "      <td>34</td>\n",
       "      <td>526.674573</td>\n",
       "      <td>29</td>\n",
       "      <td>439.624891</td>\n",
       "      <td>20</td>\n",
       "      <td>259.877804</td>\n",
       "      <td>...</td>\n",
       "      <td>64.000000</td>\n",
       "      <td>0.0</td>\n",
       "      <td>Lazaridis et al. 2014</td>\n",
       "      <td>Modern</td>\n",
       "      <td>NaN</td>\n",
       "      <td>554321</td>\n",
       "      <td>1</td>\n",
       "      <td>Central Asia</td>\n",
       "      <td>yellow</td>\n",
       "      <td>NaN</td>\n",
       "    </tr>\n",
       "    <tr>\n",
       "      <th>3323</th>\n",
       "      <td>Surui_6</td>\n",
       "      <td>Surui</td>\n",
       "      <td>96.734203</td>\n",
       "      <td>479.390981</td>\n",
       "      <td>28</td>\n",
       "      <td>438.381587</td>\n",
       "      <td>21</td>\n",
       "      <td>371.756096</td>\n",
       "      <td>14</td>\n",
       "      <td>255.592890</td>\n",
       "      <td>...</td>\n",
       "      <td>-62.000000</td>\n",
       "      <td>0.0</td>\n",
       "      <td>Lazaridis et al. 2014</td>\n",
       "      <td>Modern</td>\n",
       "      <td>NaN</td>\n",
       "      <td>551165</td>\n",
       "      <td>1</td>\n",
       "      <td>Atlantic Coast</td>\n",
       "      <td>yellow</td>\n",
       "      <td>NaN</td>\n",
       "    </tr>\n",
       "    <tr>\n",
       "      <th>732</th>\n",
       "      <td>tem003.SG</td>\n",
       "      <td>Russia_Late_Sarmatian.SG</td>\n",
       "      <td>151.873398</td>\n",
       "      <td>260.451093</td>\n",
       "      <td>4</td>\n",
       "      <td>255.382893</td>\n",
       "      <td>3</td>\n",
       "      <td>255.382893</td>\n",
       "      <td>3</td>\n",
       "      <td>255.382893</td>\n",
       "      <td>...</td>\n",
       "      <td>58.124300</td>\n",
       "      <td>1725.0</td>\n",
       "      <td>KrzewinskaScienceAdvances2018</td>\n",
       "      <td>Russia_Late_Sarmatian.SG</td>\n",
       "      <td>1.128012</td>\n",
       "      <td>795721</td>\n",
       "      <td>1</td>\n",
       "      <td>Steppe</td>\n",
       "      <td>gold</td>\n",
       "      <td>Pastoralist</td>\n",
       "    </tr>\n",
       "    <tr>\n",
       "      <th>3362</th>\n",
       "      <td>Uzbek_4</td>\n",
       "      <td>Uzbek</td>\n",
       "      <td>73.301301</td>\n",
       "      <td>413.623381</td>\n",
       "      <td>24</td>\n",
       "      <td>365.674584</td>\n",
       "      <td>16</td>\n",
       "      <td>345.910784</td>\n",
       "      <td>14</td>\n",
       "      <td>251.574996</td>\n",
       "      <td>...</td>\n",
       "      <td>69.200000</td>\n",
       "      <td>0.0</td>\n",
       "      <td>Lazaridis et al. 2014</td>\n",
       "      <td>Modern</td>\n",
       "      <td>NaN</td>\n",
       "      <td>549425</td>\n",
       "      <td>1</td>\n",
       "      <td>Steppe</td>\n",
       "      <td>yellow</td>\n",
       "      <td>NaN</td>\n",
       "    </tr>\n",
       "    <tr>\n",
       "      <th>194</th>\n",
       "      <td>I5320</td>\n",
       "      <td>USA_AK_Ancient_Athabaskan_1100BP_father.or.son...</td>\n",
       "      <td>58.043503</td>\n",
       "      <td>465.229703</td>\n",
       "      <td>33</td>\n",
       "      <td>360.172100</td>\n",
       "      <td>15</td>\n",
       "      <td>319.227291</td>\n",
       "      <td>11</td>\n",
       "      <td>248.605501</td>\n",
       "      <td>...</td>\n",
       "      <td>-155.594724</td>\n",
       "      <td>725.0</td>\n",
       "      <td>FlegontovNature2019</td>\n",
       "      <td>USA_AK_Ancient_Athabaskan_1100BP_father.or.son...</td>\n",
       "      <td>12.788392</td>\n",
       "      <td>1004830</td>\n",
       "      <td>1</td>\n",
       "      <td>all</td>\n",
       "      <td>silver</td>\n",
       "      <td>NaN</td>\n",
       "    </tr>\n",
       "    <tr>\n",
       "      <th>101</th>\n",
       "      <td>SN-44.SG</td>\n",
       "      <td>USA_CA_Early_SanNicolas.SG</td>\n",
       "      <td>65.982402</td>\n",
       "      <td>688.231434</td>\n",
       "      <td>58</td>\n",
       "      <td>525.930033</td>\n",
       "      <td>29</td>\n",
       "      <td>436.336621</td>\n",
       "      <td>20</td>\n",
       "      <td>247.849303</td>\n",
       "      <td>...</td>\n",
       "      <td>-119.539000</td>\n",
       "      <td>5337.0</td>\n",
       "      <td>ScheibScience2018</td>\n",
       "      <td>USA_CA_Early_SanNicolas.SG</td>\n",
       "      <td>3.097140</td>\n",
       "      <td>1111229</td>\n",
       "      <td>1</td>\n",
       "      <td>Pacific NW</td>\n",
       "      <td>silver</td>\n",
       "      <td>NaN</td>\n",
       "    </tr>\n",
       "    <tr>\n",
       "      <th>423</th>\n",
       "      <td>I6671</td>\n",
       "      <td>Turkmenistan_EBA_Parkhai</td>\n",
       "      <td>74.193197</td>\n",
       "      <td>466.843005</td>\n",
       "      <td>28</td>\n",
       "      <td>426.120911</td>\n",
       "      <td>21</td>\n",
       "      <td>360.486504</td>\n",
       "      <td>14</td>\n",
       "      <td>243.147800</td>\n",
       "      <td>...</td>\n",
       "      <td>56.245430</td>\n",
       "      <td>4550.0</td>\n",
       "      <td>NarasimhanPattersonScience2019</td>\n",
       "      <td>Turkmenistan_EBA_Parkhai</td>\n",
       "      <td>3.746394</td>\n",
       "      <td>863817</td>\n",
       "      <td>1</td>\n",
       "      <td>Central Asia</td>\n",
       "      <td>silver</td>\n",
       "      <td>NaN</td>\n",
       "    </tr>\n",
       "    <tr>\n",
       "      <th>3376</th>\n",
       "      <td>Surui_3</td>\n",
       "      <td>Surui</td>\n",
       "      <td>50.861692</td>\n",
       "      <td>401.023187</td>\n",
       "      <td>25</td>\n",
       "      <td>354.473185</td>\n",
       "      <td>17</td>\n",
       "      <td>309.200290</td>\n",
       "      <td>12</td>\n",
       "      <td>242.650894</td>\n",
       "      <td>...</td>\n",
       "      <td>-62.000000</td>\n",
       "      <td>0.0</td>\n",
       "      <td>Lazaridis et al. 2014</td>\n",
       "      <td>Modern</td>\n",
       "      <td>NaN</td>\n",
       "      <td>548535</td>\n",
       "      <td>1</td>\n",
       "      <td>Atlantic Coast</td>\n",
       "      <td>yellow</td>\n",
       "      <td>NaN</td>\n",
       "    </tr>\n",
       "  </tbody>\n",
       "</table>\n",
       "<p>20 rows × 22 columns</p>\n",
       "</div>"
      ],
      "text/plain": [
       "                 iid                                                pop  \\\n",
       "1050           I1178                                           Israel_C   \n",
       "3081    Karitiana_11                                          Karitiana   \n",
       "3137      Lebanese_6                                           Lebanese   \n",
       "2527         Pima_11                                               Pima   \n",
       "3404         Surui_1                                              Surui   \n",
       "3711        MJ-41.SG             Russia_EarlySarmatian_SouthernUrals.SG   \n",
       "2408         Surui_0                                              Surui   \n",
       "2128  Tunisian_Jew_2                                       Tunisian_Jew   \n",
       "2077      Saharawi_5                                           Saharawi   \n",
       "2648       Balochi_0                                            Balochi   \n",
       "694            I2521                                         Bulgaria_N   \n",
       "1813         Tujia_2                                              Tujia   \n",
       "2824      Makrani_12                                            Makrani   \n",
       "3323         Surui_6                                              Surui   \n",
       "732        tem003.SG                           Russia_Late_Sarmatian.SG   \n",
       "3362         Uzbek_4                                              Uzbek   \n",
       "194            I5320  USA_AK_Ancient_Athabaskan_1100BP_father.or.son...   \n",
       "101         SN-44.SG                         USA_CA_Early_SanNicolas.SG   \n",
       "423            I6671                           Turkmenistan_EBA_Parkhai   \n",
       "3376         Surui_3                                              Surui   \n",
       "\n",
       "         max_roh   sum_roh>4  n_roh>4   sum_roh>8  n_roh>8  sum_roh>12  \\\n",
       "1050   91.121798  703.154187       30  682.380788       26  625.101110   \n",
       "3081   71.722305  596.386334       37  494.799619       20  455.792115   \n",
       "3137   59.008193  546.006877       29  511.061079       23  458.984076   \n",
       "2527  124.891199  543.410879       30  495.179579       21  422.557495   \n",
       "3404   83.238797  571.983341       33  486.853216       18  447.016210   \n",
       "3711   39.571500  489.093302       28  461.850809       23  391.090107   \n",
       "2408   45.051694  688.967521       49  581.753403       30  521.008477   \n",
       "2128  101.071715  453.960818       27  386.749227       16  326.476012   \n",
       "2077   47.007999  395.034189       21  369.785593       16  337.566583   \n",
       "2648   90.107697  389.363121       20  340.396095       12  314.565102   \n",
       "694    68.662197  333.891899       15  300.526295        9  300.526295   \n",
       "1813  157.113902  280.060284        3  280.060284        3  280.060284   \n",
       "2824   36.951209  554.466879       34  526.674573       29  439.624891   \n",
       "3323   96.734203  479.390981       28  438.381587       21  371.756096   \n",
       "732   151.873398  260.451093        4  255.382893        3  255.382893   \n",
       "3362   73.301301  413.623381       24  365.674584       16  345.910784   \n",
       "194    58.043503  465.229703       33  360.172100       15  319.227291   \n",
       "101    65.982402  688.231434       58  525.930033       29  436.336621   \n",
       "423    74.193197  466.843005       28  426.120911       21  360.486504   \n",
       "3376   50.861692  401.023187       25  354.473185       17  309.200290   \n",
       "\n",
       "      n_roh>12  sum_roh>20  ...         lon     age  \\\n",
       "1050        20  545.019401  ...   35.331389  5950.0   \n",
       "3081        16  392.679617  ...  -63.000000     0.0   \n",
       "3137        18  358.673575  ...   35.600000     0.0   \n",
       "2527        13  337.027990  ... -108.000000     0.0   \n",
       "3404        14  333.080091  ...  -62.000000     0.0   \n",
       "3711        16  324.866605  ...   58.660441  2525.0   \n",
       "2408        24  283.860490  ...  -62.000000     0.0   \n",
       "2128        10  281.803410  ...   10.200000     0.0   \n",
       "2077        13  278.883290  ...   -8.900000     0.0   \n",
       "2648         9  273.343096  ...   66.500000     0.0   \n",
       "694          9  267.044592  ...   25.883410  7505.0   \n",
       "1813         3  261.530988  ...  109.000000     0.0   \n",
       "2824        20  259.877804  ...   64.000000     0.0   \n",
       "3323        14  255.592890  ...  -62.000000     0.0   \n",
       "732          3  255.382893  ...   58.124300  1725.0   \n",
       "3362        14  251.574996  ...   69.200000     0.0   \n",
       "194         11  248.605501  ... -155.594724   725.0   \n",
       "101         20  247.849303  ... -119.539000  5337.0   \n",
       "423         14  243.147800  ...   56.245430  4550.0   \n",
       "3376        12  242.650894  ...  -62.000000     0.0   \n",
       "\n",
       "                                  study  \\\n",
       "1050  HarneyMayNatureCommunications2018   \n",
       "3081              Lazaridis et al. 2014   \n",
       "3137              Lazaridis et al. 2014   \n",
       "2527              Lazaridis et al. 2014   \n",
       "3404              Lazaridis et al. 2014   \n",
       "3711            JarveCurrentBiology2019   \n",
       "2408              Lazaridis et al. 2014   \n",
       "2128              Lazaridis et al. 2014   \n",
       "2077              Lazaridis et al. 2014   \n",
       "2648              Lazaridis et al. 2014   \n",
       "694                 MathiesonNature2018   \n",
       "1813              Lazaridis et al. 2014   \n",
       "2824              Lazaridis et al. 2014   \n",
       "3323              Lazaridis et al. 2014   \n",
       "732       KrzewinskaScienceAdvances2018   \n",
       "3362              Lazaridis et al. 2014   \n",
       "194                 FlegontovNature2019   \n",
       "101                   ScheibScience2018   \n",
       "423      NarasimhanPattersonScience2019   \n",
       "3376              Lazaridis et al. 2014   \n",
       "\n",
       "                                                   clst   mean_cov n_cov_snp  \\\n",
       "1050                                           Israel_C   2.383000    719331   \n",
       "3081                                             Modern        NaN    553410   \n",
       "3137                                             Modern        NaN    553090   \n",
       "2527                                             Modern        NaN    554855   \n",
       "3404                                             Modern        NaN    546003   \n",
       "3711             Russia_EarlySarmatian_SouthernUrals.SG   0.439047    407399   \n",
       "2408                                             Modern        NaN    555005   \n",
       "2128                                             Modern        NaN    555263   \n",
       "2077                                             Modern        NaN    555296   \n",
       "2648                                             Modern        NaN    554689   \n",
       "694                                          Bulgaria_N   5.493000    802956   \n",
       "1813                                             Modern        NaN    555498   \n",
       "2824                                             Modern        NaN    554321   \n",
       "3323                                             Modern        NaN    551165   \n",
       "732                            Russia_Late_Sarmatian.SG   1.128012    795721   \n",
       "3362                                             Modern        NaN    549425   \n",
       "194   USA_AK_Ancient_Athabaskan_1100BP_father.or.son...  12.788392   1004830   \n",
       "101                          USA_CA_Early_SanNicolas.SG   3.097140   1111229   \n",
       "423                            Turkmenistan_EBA_Parkhai   3.746394    863817   \n",
       "3376                                             Modern        NaN    548535   \n",
       "\n",
       "      include_alt          region   color       economy  \n",
       "1050            1         Levante    blue  Agricultural  \n",
       "3081            1       Karitiana  yellow           NaN  \n",
       "3137            1         Levante  yellow           NaN  \n",
       "2527            1            Pima  yellow           NaN  \n",
       "3404            1  Atlantic Coast  yellow           NaN  \n",
       "3711            1          Steppe    gold   Pastoralist  \n",
       "2408            1  Atlantic Coast  yellow           NaN  \n",
       "2128            1    Tunisian_Jew  yellow           NaN  \n",
       "2077            1    North Africa  yellow           NaN  \n",
       "2648            1    Central Asia  yellow           NaN  \n",
       "694             1             all  silver           NaN  \n",
       "1813            1           Tujia  yellow           NaN  \n",
       "2824            1    Central Asia  yellow           NaN  \n",
       "3323            1  Atlantic Coast  yellow           NaN  \n",
       "732             1          Steppe    gold   Pastoralist  \n",
       "3362            1          Steppe  yellow           NaN  \n",
       "194             1             all  silver           NaN  \n",
       "101             1      Pacific NW  silver           NaN  \n",
       "423             1    Central Asia  silver           NaN  \n",
       "3376            1  Atlantic Coast  yellow           NaN  \n",
       "\n",
       "[20 rows x 22 columns]"
      ]
     },
     "execution_count": 5,
     "metadata": {},
     "output_type": "execute_result"
    }
   ],
   "source": [
    "df1.sort_values(by=\"sum_roh>20\", ascending=False)[:20]"
   ]
  },
  {
   "cell_type": "code",
   "execution_count": null,
   "metadata": {},
   "outputs": [],
   "source": []
  }
 ],
 "metadata": {
  "kernelspec": {
   "display_name": "Python 3",
   "language": "python",
   "name": "python3"
  },
  "language_info": {
   "codemirror_mode": {
    "name": "ipython",
    "version": 3
   },
   "file_extension": ".py",
   "mimetype": "text/x-python",
   "name": "python",
   "nbconvert_exporter": "python",
   "pygments_lexer": "ipython3",
   "version": "3.7.0"
  }
 },
 "nbformat": 4,
 "nbformat_minor": 4
}
