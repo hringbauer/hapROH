{
 "cells": [
  {
   "cell_type": "markdown",
   "metadata": {},
   "source": [
    "# Plot timelines of ROH sharing\n",
    "Plot individuals against their estimated age.\n",
    "Input: Post-processed Master .csv (pandas dfs) with individual ROH statistics and meta information (in particular age). Created from `./NotebooksProcessData/combine_roh_results.ipynb`"
   ]
  },
  {
   "cell_type": "code",
   "execution_count": 3,
   "metadata": {},
   "outputs": [
    {
     "name": "stdout",
     "output_type": "stream",
     "text": [
      "midway2-0401.rcc.local\n",
      "Midway jnovmbre partition detected.\n",
      "/project2/jnovembre/hringbauer/HAPSBURG\n",
      "CPU Count: 28\n"
     ]
    }
   ],
   "source": [
    "import numpy as np\n",
    "import os  # For Saving to Folder\n",
    "import pandas as pd\n",
    "import matplotlib.pyplot as plt\n",
    "import matplotlib.cm as cm\n",
    "import matplotlib.colorbar as clb\n",
    "import matplotlib.colors as cls\n",
    "from matplotlib.lines import Line2D\n",
    "from matplotlib import gridspec\n",
    "from mpl_toolkits.axes_grid1 import make_axes_locatable\n",
    "from mpl_toolkits.basemap import Basemap\n",
    "from sklearn.gaussian_process import GaussianProcessRegressor\n",
    "from sklearn.gaussian_process.kernels import RBF, WhiteKernel\n",
    "\n",
    "import socket\n",
    "import os as os\n",
    "import sys as sys\n",
    "import multiprocessing as mp\n",
    "\n",
    "### For Arial Font\n",
    "from matplotlib import rcParams\n",
    "rcParams['font.family'] = 'sans-serif'   # Set the defaul\n",
    "rcParams['font.sans-serif'] = ['Arial']  # Make sure to have the font installed (it is on cluster for Harald)\n",
    "rcParams['axes.linewidth'] = 0.2  # Set the Default Size of the Boundary for small 2.25in width figures\n",
    "\n",
    "### To do lowess smoothing\n",
    "import statsmodels.api as sm\n",
    "lowess = sm.nonparametric.lowess\n",
    "\n",
    "socket_name = socket.gethostname()\n",
    "print(socket_name)\n",
    "if socket_name == \"VioletQueen\":\n",
    "    path = \"/home/harald/git/HAPSBURG/\"   # The Path on Harald's machine\n",
    "elif socket_name.startswith(\"midway2\"):\n",
    "    print(\"Midway jnovmbre partition detected.\")\n",
    "    path = \"/project2/jnovembre/hringbauer/HAPSBURG/\"  # The Path on Midway Cluster\n",
    "elif socket_name.startswith(\"Harald-Laptop\"):\n",
    "    print(\"Harald's new laptop detected!\")\n",
    "    path = \"/home/hringbauer/git/HAPSBURG/\" \n",
    "else: \n",
    "    raise RuntimeWarning(\"Not compatible machine. Check!!\")\n",
    "    \n",
    "os.chdir(path)  # Set the right Path (in line with Atom default)\n",
    "print(os.getcwd()) # Show the current working directory. Should be HAPSBURG/Notebooks/ParallelRuns\n",
    "print(f\"CPU Count: {mp.cpu_count()}\")\n",
    "\n",
    "### Additional Imports\n",
    "sys.path.append(\"./package/\") # Append HAPSBURG\n",
    "from hapsburg.PackagesSupport.sqrt_scale import SquareRootScale # Import Matplotlib sqrt scale"
   ]
  },
  {
   "cell_type": "markdown",
   "metadata": {},
   "source": [
    "### Definie Plotting Function for Timelines"
   ]
  },
  {
   "cell_type": "code",
   "execution_count": 4,
   "metadata": {},
   "outputs": [],
   "source": [
    "def plot_scatter_cutoff(ax, age, roh, colors, labels, s, lw=1.0, ec=\"k\", \n",
    "                        zorder=10, def_color=\"silver\", clip_on=True, cutoff=1000):\n",
    "    \"\"\"Plot Scatter, with arrows on top.\n",
    "    cutoff: The maximum Value to plot\"\"\"\n",
    "    \n",
    "    idx = (roh<cutoff)\n",
    "    \n",
    "    ax.scatter(age[idx], roh[idx], c=colors[idx], \n",
    "               ec=ec, s=s, zorder=zorder, \n",
    "               lw=lw, clip_on=clip_on)\n",
    "    \n",
    "    y = [cutoff,] * np.sum(~idx)\n",
    "    \n",
    "    if np.sum(~idx)>0:\n",
    "        ax.scatter(age[~idx], y, c=colors[~idx], \n",
    "                   ec=ec, s=s, marker=\"^\", zorder=zorder, \n",
    "                   lw=lw, clip_on=clip_on)\n",
    "\n",
    "def plot_scatter_by_color(ax, age, roh, colors, labels, s, lw=1.0, ec=\"k\", \n",
    "                          zorder=10, def_color=\"silver\", clip_on=True):\n",
    "    \"\"\"Split up df per color, used to create legend\n",
    "    (based on \"clst\" column). If default color (def_color) don't add label\"\"\"\n",
    "    for c in pd.unique(np.array(colors)):\n",
    "        idx = (colors == c)\n",
    "        if c!=def_color:\n",
    "            ax.scatter(age[idx], roh[idx], c=c, ec=ec, s=s, \n",
    "                       label=labels[idx][0], lw=lw, zorder=zorder, \n",
    "                       clip_on=clip_on)\n",
    "        else:   # If default color don't plot label\n",
    "            ax.scatter(age[idx], roh[idx], c=c, ec=ec, s=s, zorder=zorder, \n",
    "                       lw=lw, clip_on=clip_on)\n",
    "            \n",
    "def plot_violin_ax(df, x=0, ax=0, figsize=(6,6), cm=4, cm1=0, widths=50, ec=\"k\", c=\"yellow\", \n",
    "                   alpha=0.5, zorder=0, col_median=\"red\", lw=0.4, roh_ofst=0.1):\n",
    "    \"\"\"Do a Violin Plot (usually on modern data)\n",
    "    ax: If given plot on this Axis Object\n",
    "    x: X Coordinate where to plot\n",
    "    df: Dataframe containing on which x position to plot\n",
    "    widths: With of the Violin\"\"\"\n",
    "    ### Extract Data\n",
    "    roh = df[f\"sum_roh>{cm}\"].values + roh_ofst\n",
    "    if len(c)==0:\n",
    "        c = df[\"color\"].values[0]\n",
    "    if cm1>0:\n",
    "        assert(np.sum(df[f\"sum_roh>{cm}\"].values < df[f\"sum_roh>{cm1}\"].values)==0)\n",
    "        roh = (df[f\"sum_roh>{cm}\"].values+0.1) - df[f\"sum_roh>{cm1}\"].values\n",
    "    \n",
    "    if ax==0:  \n",
    "        plt.figure(figsize=figsize)\n",
    "        ax = plt.gca()\n",
    "        \n",
    "    parts = ax.violinplot(roh, showmeans=False, positions=[x],\n",
    "                       showmedians=False, showextrema=False, widths=widths)\n",
    "    for i, pc in enumerate(parts['bodies']):\n",
    "        pc.set_facecolor(c)\n",
    "        pc.set_edgecolor(ec)\n",
    "        pc.set_alpha(alpha)\n",
    "        pc.set_linewidth(lw)\n",
    "\n",
    "    #quartile1, medians, quartile3 = np.percentile(roh, [25, 50, 75])\n",
    "    #ax.scatter(x, medians, marker='o', color=col_median, s=20, zorder=3, label=\"Median Modern\")\n",
    "    #ax.vlines(x, quartile1, quartile3, color='k', linestyle='-', lw=5, label=\"25-75% Quartile Modern\")\n",
    "\n",
    "def plot_lowess_smoothing(df, cm=4, cm1=0, fs=14, fsl=10, fs_leg=7, ec=\"k\", lw=1.0, ticks = [3539.39/16, 3539.39/64], tick_l=[\"1st C.\", \"2nd C.\"], \n",
    "                          figsize=(14,6), title=\"\", dpi=300, savepath=\"\",  xlim=[], ylim=[], s=40, frac=2/3, roh_ofst=0.1,\n",
    "                          cust_c=True, lw_fit=2.5, width_t=2, length_t=6, yl_pad=0, labelpad=10, lw_hline=0.4,\n",
    "                          std_band=0, lgth_s=[500,2000], err_s=[2,4], max_f_age=0, t_offset=0, clip_on=False,\n",
    "                          leg_loc=\"upper right\", ax=0, swap_ax=True, show=True, xticks=False, rightcol=True):\n",
    "    \"\"\"Plot Lowess Smoothing of ROH vrs Age.\n",
    "    df: Which Dataframe to use [standard pp format]\n",
    "    cm: Length of blocks to plot. \n",
    "    cm1: Maximum block length to plot (if 0, none)\n",
    "    savepath: If given save figure to there\n",
    "    tot_l: Total length of accessible Chromosome [in cM]\n",
    "    frac: Fraction Parameter to use for Lowess Smoothing.\n",
    "    leg_loc: Where to plot the Legend. If no string given do not plot at all\n",
    "    swap_ax: Whether to swap left/right tick axis\n",
    "    std_band: How many standard deviations to plot (1.96. is 95%). If >0 use gp model\n",
    "    lght_s: Length Scale of Gaussian Kernel to fit\n",
    "    err_s: Error Scale of Gaussian Kernel to fit\n",
    "    max_f_age: Maximum Age of sample to include in GP\n",
    "    fs/fsl: Fontsize Axis / Fontsize Legend/Cousin Ticks\n",
    "    lw: Linewidth in the Scatter Plot points\n",
    "    ec: Edge Color of Scatter Plot points\n",
    "    t_offset: Vertical Offset of the Ne/Cousin Text\n",
    "    width_t, length_t: Width and Length of Axis Ticks\n",
    "    roh_ofst: Y offset of ROH (aids plotting 0s)\n",
    "    yl_pad: Tick Label Pad of y Axis\"\"\"\n",
    "    \n",
    "    ### Extract what to plot from dataframe\n",
    "    df = df.sort_values(by=\"age\", ascending=False) # Sort by age from old to young\n",
    "    age,roh,labels = df[\"age\"].values, df[f\"sum_roh>{cm}\"].values+roh_ofst, df[\"clst\"].values\n",
    "    if cm1>0:\n",
    "        assert(np.sum(df[f\"sum_roh>{cm}\"].values < df[f\"sum_roh>{cm1}\"].values)==0)\n",
    "        roh = (df[f\"sum_roh>{cm}\"].values - df[f\"sum_roh>{cm1}\"].values) + roh_ofst\n",
    "    c = \"b\" \n",
    "    if cust_c==True:\n",
    "        c = df[\"color\"].values\n",
    "    \n",
    "    ### Make new axis if none given\n",
    "    if ax==0:  \n",
    "        plt.figure(figsize=figsize)\n",
    "        ax = plt.gca()\n",
    "    \n",
    "    plot_scatter_cutoff(ax, age, roh, colors=c, \n",
    "                        labels=labels, s=s, lw=lw, ec=ec, \n",
    "                        clip_on=clip_on, cutoff=ylim[1])\n",
    "    \n",
    "    #plot_scatter_by_color(ax, age0, roh0, colors=c0, labels=labels, \n",
    "    #                      s=s, lw=lw, ec=ec, clip_on=clip_on)\n",
    "    \n",
    "    if frac>0.0:\n",
    "        z = lowess_sqrt(age, roh, frac=frac)\n",
    "        plt.plot(z[:,0], z[:,1], \"k-\", label=r\"Lowess Smoothing ($\\sqrt{x}$)\", \n",
    "                 lw=lw_fit, zorder=1)\n",
    "    \n",
    "    if std_band>0:\n",
    "        if max_f_age>0:\n",
    "            idx = age<max_f_age\n",
    "            age, roh = age[idx], roh[idx]\n",
    "        x, y, y_up, y_down, y_up_mean, y_down_mean = fit_gp(age, roh, std_band=std_band, lgth_s=lgth_s, err_s=err_s)\n",
    "        ax.plot(x, y, \"k-\", label=r\"GP Estimation ($\\sqrt{x}$)\", \n",
    "                 lw=lw_fit, zorder=1)\n",
    "        ax.fill_between(x, y_down, y_up, alpha=0.1, lw=0, color='k', \n",
    "                        label=f\"95% CI Point\", zorder=0)\n",
    "        ax.fill_between(x, y_down_mean, y_up_mean, alpha=0.25, lw=0, color='k', \n",
    "                        label=f\"95% CI Mean\", zorder=0.5)\n",
    "        \n",
    "    if len(xlim)>0:\n",
    "        ax.set_xlim(xlim)\n",
    "    if not xticks:\n",
    "        ax.set_xticks([])\n",
    "        \n",
    "    if len(ylim)>0:\n",
    "        ax.set_ylim(ylim)\n",
    "        \n",
    "    if len(leg_loc)>0:\n",
    "        ax.legend(loc=leg_loc, fontsize=fs_leg)\n",
    "    if len(title)>0:\n",
    "        ax.set_title(title, fontsize=fs)\n",
    "\n",
    "    ### Horizontal Lines\n",
    "    for i in range(len(ticks)):\n",
    "        ax.axhline(ticks[i], color=\"gray\", lw=lw_hline, ls=\"--\")\n",
    "        if len(tick_l)>0:\n",
    "            ax.text(xlim[1], ticks[i] + t_offset, \n",
    "                    tick_l[i], fontsize=fsl, \n",
    "                    ha=\"left\", va=\"bottom\", zorder=0)\n",
    "        \n",
    "    ax.invert_xaxis()\n",
    "    ax.set_yscale('squareroot')\n",
    "    \n",
    "    ### Make left/right ticks (after Plotting!):\n",
    "    ax2 = ax.twinx()\n",
    "    ax2.set_ylim(ax.get_ylim())\n",
    "    ax2.set_yscale('squareroot')\n",
    "    \n",
    "    if swap_ax:\n",
    "        ax, ax2 = ax2, ax # Hack to swap left and right\n",
    "    \n",
    "    ax2.set_yticks([])\n",
    "    ax.tick_params(axis='both', which='major', labelsize=fsl, \n",
    "                   width=width_t, length=length_t, pad=yl_pad)\n",
    "    #ax2.tick_params(axis='y', direction='in', labelsize=fsl, pad=5)\n",
    "\n",
    "    # Do the original axis\n",
    "    ax.set_xlabel(\"Age BP [years]\", fontsize=fs)\n",
    "    \n",
    "    if rightcol:  # Plot only if right column\n",
    "        if cm1>0:\n",
    "            ax.set_ylabel(f\"Sum ROH {cm}-{cm1} cM [cM]\", fontsize=fs, rotation=270, labelpad=labelpad)\n",
    "        elif cm1==0:\n",
    "            ax.set_ylabel(f\"Sum ROH >{cm} cM [cM]\", fontsize=fs, rotation=270, labelpad=labelpad)\n",
    "    else:\n",
    "        ax.set_yticklabels([])\n",
    "        \n",
    "    if len(savepath)>0:\n",
    "        plt.savefig(savepath, bbox_inches = 'tight', pad_inches = 0, dpi=dpi)\n",
    "        print(f\"Saved to {savepath}\")\n",
    "    \n",
    "    if show:\n",
    "        plt.show()\n",
    "\n",
    "##########################################################################\n",
    "### Functions to fit\n",
    "def lowess_sqrt(x, y, frac=2/3):\n",
    "    \"\"\"Do a Lowess fitting on the sqrt.\n",
    "    frac: parameter for lowess smoothing\"\"\"\n",
    "    y=np.sqrt(y)\n",
    "    z = lowess(y, x, frac=frac)\n",
    "    z[:,1]=z[:,1]**2\n",
    "    return z\n",
    "\n",
    "def fit_gp(x, y, sqrt=True, in_lengthscale=0, in_noise=2.0, \n",
    "           std_band = 1.96, lgth_s=[500, 2000], err_s=[2,4]):\n",
    "    \"\"\"Fit Gaussian Process.\n",
    "    If sqrt: Take the square root for fit.\n",
    "    Return: x, y, y_max, y_min\"\"\"\n",
    "    if sqrt:\n",
    "        y=np.sqrt(y)\n",
    "    \n",
    "    ### Sort Values\n",
    "    idx =np.argsort(x)\n",
    "    x=x[idx]\n",
    "    y=y[idx]\n",
    "    \n",
    "    if in_lengthscale == 0:\n",
    "        in_lengthscale = (lgth_s[0] + lgth_s[1])/2 # Set it to mean\n",
    "        \n",
    "    X = x[:, np.newaxis]\n",
    "    kernel = 1.0 * RBF(length_scale=in_lengthscale, length_scale_bounds=lgth_s) \\\n",
    "                + WhiteKernel(noise_level=in_noise, noise_level_bounds=err_s)\n",
    "    gp = GaussianProcessRegressor(kernel=kernel,\n",
    "                                  alpha=0.0).fit(X, y)\n",
    "    \n",
    "    X_ = np.linspace(np.min(x), np.max(x), 1000)\n",
    "    y_mean, y_cov = gp.predict(X_[:, np.newaxis], return_cov=True)\n",
    "    \n",
    "    title = \"Initial: %s\\nOptimum: %s\\nLog-Marginal-Likelihood: %s\" % (kernel, gp.kernel_,\n",
    "                 gp.log_marginal_likelihood(gp.kernel_.theta))\n",
    "    print(title)\n",
    "    y_up = y_mean + std_band * np.sqrt(np.diag(y_cov))\n",
    "    y_down = y_mean - std_band * np.sqrt(np.diag(y_cov)) \n",
    "    \n",
    "    error_var = gp.kernel_.get_params()[\"k2__noise_level\"]\n",
    "    stds = np.sqrt(np.diag(y_cov) - error_var)\n",
    "    assert(np.min(stds)>=0)  # Sanity Check that Error in Mean is >0:\n",
    "    y_up_mean =  y_mean + std_band * stds\n",
    "    y_down_mean = y_mean - std_band * stds \n",
    "    \n",
    "    if sqrt:\n",
    "        y_mean, y_up, y_down = np.maximum(y_mean,0)**2, y_up**2, np.maximum(y_down,0)**2\n",
    "        y_up_mean, y_down_mean = y_up_mean**2, np.maximum(y_down_mean,0)**2\n",
    "        \n",
    "    return X_, y_mean, y_up, y_down, y_up_mean, y_down_mean\n",
    "\n",
    "####################################################\n",
    "##### Helper Functions to prepare plotting Dataframes\n",
    "def extract_pop(df, age_range=[], pop=\"\"):\n",
    "    \"\"\"Assumes plotting Dataframe is pre-produced.\n",
    "    Return Legend as well\"\"\"\n",
    "    mod_idx = (df[\"age\"]==0) ## Ancient Indices\n",
    "    anc_idx = ~mod_idx\n",
    "    if len(pop)>0:\n",
    "        df = df[df[\"region\"]==pop].copy()\n",
    "    if len(age_range)>0:\n",
    "        df = extract_df_age(df, age_range[0], age_range[1]).copy()\n",
    "    return df\n",
    "\n",
    "def prep_label(df, pop, only_anc=True):\n",
    "    \"\"\"Prepare a label string to use in legend.\n",
    "    pop: Population that's going to be used [string]\n",
    "    only_anc: Whether to only count ancients\"\"\"\n",
    "    if only_anc:\n",
    "        n_mod = np.sum(df[\"age\"]>0)\n",
    "    else:\n",
    "        n_mod = len(df)\n",
    "    label = f\"{pop}\\n(n={n_mod})\"\n",
    "    return label\n",
    "\n",
    "def extract_df_age(df, age0, age1=1e6):\n",
    "    \"\"\"Extract Dataframe based on age.\n",
    "    df: Input Dataframe; age0 and age1 min and max age\"\"\"\n",
    "    age_okay = (df[\"age\"]>=age0) & (df[\"age\"]<=age1)\n",
    "    df = df[age_okay]\n",
    "    return df\n",
    "\n",
    "############################################################\n",
    "############################################################\n",
    "\n",
    "\n",
    "def plot_map_ax(df, ax, crs=[30, 60, -10, 40], s=40, vrange=[0, 7500], cmap=\"viridis_r\", map_title=\"\", title_loc=(0.1,0.1), lw=1.0, ec=\"k\",\n",
    "                fs_label=14, figsize=(12,11), states=False, countries=False,\n",
    "                annotate=False, fs_labels=14, ew=0.5, y_off=1, title=\"\", plot_mod=True, \n",
    "                vrange_a=[], mm=3.1, hspace=0.02, fs=18, col_cont = \"#d9d9d9\", col_lake = \"#d9d9d9\", \n",
    "                show=True, lw_coast=0.5, res=\"i\"): \n",
    "    \"\"\"Plot a continent, based on coordinates in df\n",
    "    df: Pandas Datframe with lat lon column\n",
    "    crs: [4], Corners of plot (lat and then lon)\n",
    "    vrange: Normalization range for color [cM]\n",
    "    shiftlong: Add to longitude (in cases for map on South America)\n",
    "    vrange_a: The Age Range to Plot\n",
    "    col_cont: Color of the Continent: \"#d9d9d9\" is very faint gray from Sardinia paper\n",
    "    lw: Width of Scatter point edges\n",
    "    ec: Color of Scatter point edges\n",
    "    res: Resolution of Coastline: c l m i h\"\"\"\n",
    "    if not plot_mod:\n",
    "        df = df[df[\"age\"]>0].copy() \n",
    "    lon, lat = df[\"lon\"].values, df[\"lat\"].values\n",
    "    colors = df[\"age\"]  ### Plot based on sum roh\n",
    "    cmap = cm.get_cmap(cmap)\n",
    "    norm = plt.Normalize(vrange[0], vrange[1]) \n",
    "    \n",
    "    m = Basemap(projection='merc', llcrnrlat=crs[0], urcrnrlat=crs[1],\\\n",
    "                llcrnrlon=crs[2], urcrnrlon=crs[3], resolution=res, ax=ax)  # mill\n",
    "    m.fillcontinents(color=col_cont, zorder=0, lake_color=col_lake)\n",
    "    #m.etopo(scale=0.5, alpha=0.4)  # Topological Map\n",
    "    m.drawcoastlines(color='gray', zorder=0, linewidth=lw_coast)\n",
    "    if countries:\n",
    "        m.drawcountries(color=\"dimgray\")\n",
    "    if states:\n",
    "        m.drawstates()\n",
    "        \n",
    "    coords = np.array([m(lon[i], lat[i]) for i in range(len(lon))])\n",
    "    x,y = np.array(coords[:,0]), np.array(coords[:,1])\n",
    "    ax.scatter(x, y, c=colors, ec=ec, lw=lw, s=s, cmap=cmap, norm=norm, zorder=3)\n",
    "    \n",
    "    if annotate:\n",
    "        for i, txt in enumerate(df[\"iid\"]):\n",
    "            ax.text(x[i], y[i]+y_off, txt, fontsize=fs_labels, zorder=1, ha=\"center\", clip_on=True)\n",
    "\n",
    "    if len(title)>0:\n",
    "        ax.set_title(title, fontsize=fs_labels)\n",
    "    if len(map_title)>0:\n",
    "        ax.text(title_loc[0], title_loc[1], map_title,\n",
    "                fontsize=fs, transform=ax.transAxes, \n",
    "                ha=\"left\", va=\"bottom\")\n",
    "    if show:\n",
    "        plt.show()\n",
    "    \n",
    "def plot_colorbar_age(ax, fs_label, cmap, vrange, xlim=[], labelpad=10, \n",
    "                      invert=True, bottomrow=True, width_t=2, length_t=6,\n",
    "                      xl_pad=0):\n",
    "    \"\"\"Code for plotting a colorbar of age onto axis Object\"\"\"\n",
    "    if len(xlim)==0:\n",
    "        xlim=vrange\n",
    "    cmap = cm.get_cmap(cmap)\n",
    "    norm = plt.Normalize(vrange[0], vrange[1]) \n",
    "    cb1 = clb.ColorbarBase(ax, cmap=cmap,\n",
    "                           norm=norm, orientation='horizontal') # For the /1e3 format\n",
    "    cb1.ax.tick_params(axis='x', direction='in', labelsize=fs_label,\n",
    "                       width=width_t, length=length_t, pad=xl_pad)\n",
    "    cb1.solids.set_edgecolor(\"face\")\n",
    "    ax.set_xlim(xlim)  #vrange\n",
    "    if bottomrow:\n",
    "        cb1.ax.set_xlabel('Age [years BP]', fontsize=fs_label, rotation=0, labelpad=labelpad)\n",
    "    else:\n",
    "        cb1.ax.set_xticklabels([])\n",
    "    if invert:\n",
    "        ax.invert_xaxis()\n",
    "\n",
    "def filter_cousins(df, cutoff=[20,100], cousins_vec=[[20,50], [20,75], [20,100]]):\n",
    "    \"\"\"Split out cousin df and filter closely related individuals\n",
    "    df: Hapsburg Individual dataframe\n",
    "    cutoff: [cm,cutoff] Filter >cutoff Blocks >cm\n",
    "    cousins: [cm,cutoff] Plot>cutoff Blocks >cm\"\"\"\n",
    "    df_filter = df[df[f\"sum_roh>{cutoff[0]}\"]<=cutoff[1]].copy()\n",
    "    df_cousins = []\n",
    "    for cousins in cousins_vec:\n",
    "        df_cousins.append(df[df[f\"sum_roh>{cousins[0]}\"]>=cousins[1]].copy())\n",
    "    return df_filter, df_cousins\n",
    "\n",
    "def plot_cousins(df, ax, age_col=\"age\", y_frac=0.85, m=\"^\", s=80,\n",
    "                ec=\"k\", lw=1.0):\n",
    "    \"\"\"Plot Cousins onto axis.\n",
    "    y_frac: At which fraction of the Y Axis to Plot\"\"\"\n",
    "    x = df[age_col].values\n",
    "    colors = df[\"color\"]\n",
    "    _, ymax = ax.get_ylim()\n",
    "    \n",
    "    y = ymax * y_frac   # Modify the height value\n",
    "    #ax.axhline(y)\n",
    "    y = [y for _ in range(len(x))]\n",
    "    ax.scatter(x, y, c=colors, s=s, ec=ec, lw=lw, marker=m, label=\"Consangenous\")\n",
    "    return\n",
    "\n",
    "def plot_cousin_bar(dfs, ax, age_col=\"age\", ss=[40,60], m_cs=[\"v\", \"s\"],\n",
    "                    label=\"\", ec=\"k\", lw=0.3, bg_c=\"lightgray\", xlim=[0,12000],\n",
    "                    fsl=10, invert=True):\n",
    "    \"\"\"Plot a bar with symbols for cousins\"\"\"\n",
    "    ax.set_xticks([]) \n",
    "    ax.set_yticks([]) \n",
    "    ax.set_facecolor(bg_c)\n",
    "    \n",
    "    ### Do the Scatter Plot\n",
    "    for i,df in enumerate(dfs):\n",
    "        x = df[age_col].values\n",
    "        colors = df[\"color\"]\n",
    "\n",
    "        y = 0\n",
    "        y = [y for _ in range(len(x))]\n",
    "        ax.scatter(x, y, c=colors, s=ss[i], ec=ec, lw=lw, \n",
    "                   marker=m_cs[i], label=label)\n",
    "        ax.set_ylim([-1,1])  # Shouldn't matter other than to \"center\"\n",
    "        ax.set_xlim(xlim)\n",
    "    \n",
    "    if invert:\n",
    "        ax.invert_xaxis()\n",
    "\n",
    "\n",
    "###########################################################\n",
    "\n",
    "def plot_legend(path_clst_clrs = \"./Data/RegionDefinition/economy_colors.csv\", \n",
    "                figsize = (3,2), s=60, lw=0.4, savepath=\"\"):\n",
    "    \"\"\"Plot Legend of the Scatter plot only\"\"\"\n",
    "    df = pd.read_csv(path_clst_clrs)\n",
    "    fig = plt.figure(figsize=figsize)\n",
    "    ax = plt.gca()\n",
    "\n",
    "    # Create the figure\n",
    "    handles = []\n",
    "    for i in range(len(df)):\n",
    "        select = ax.scatter([], [], c=df[\"color\"][i], \n",
    "                            s=s, lw=lw, label=df[\"economy\"][i], ec=\"k\")\n",
    "        handles += [select]\n",
    "    ax.legend(handles=handles, loc=\"center\")\n",
    "    ax.axis(\"off\")\n",
    "    \n",
    "    ### Save\n",
    "    if len(savepath)>0:\n",
    "        plt.savefig(savepath, pad_inches = 0,  \n",
    "                    bbox_inches = 'tight', dpi=600) #pad_inches = 0, bbox_inches = 'tight'\n",
    "        print(f\"Saved to {savepath}\")\n",
    "    plt.show()\n",
    "\n",
    "###########################################################        \n",
    "###########################################################\n",
    "### Plot Map AND timeline in one plot\n",
    "\n",
    "def plot_map_time(df, figsize=(20,4), width_ratios=[1,10], height_ratios=[20,1], wspace=0.02, hspace=0.03, \n",
    "                  ec=\"k\", lw=1.0, title_tl = \"\", s_tl=80,  x_lim_tl=[-100, 10000], y_lim_tl=[0,550], \n",
    "                  widths=50, alpha_vio=0.5, lw_fit=2.5, width_t=2, length_t=6, lw_coast=0.5,\n",
    "                  ticks = [3539.39/16, 3539.39/64], tick_l=[\"1st C.\", \"2nd C.\"], t_offset=0, max_f_age=0,\n",
    "                  leg_loc_tl=\"upper center\", frac=0.8, cm=4, cm1=0, fs=10, fsl=10, fs_leg=7, std_band = 1.96, \n",
    "                  lgth_s=[2000,5000], cutoff=[20,100], cousins_vec=[[20,50], [20,75], [20,100]], \n",
    "                  bg_c=\"lightgrey\", m_cs=[\"v\", \"s\"], s_cousins = [9,14], roh_ofst=0.1,\n",
    "                  err_s=[2,4], vrange_m=[], cmap_m=\"viridis_r\", crs_m=[30, 60, -10, 40], lbl_pad_age=10,\n",
    "                  lbl_pad_time=5, map_title=\"\", title_loc=(0.1,0.1), bottomrow=True, rightcol=True, \n",
    "                  xl_pad=4, yl_pad=4, plot_mod=False, savepath=\"\"):\n",
    "    \"\"\"Plot Map (Left) and Timeline (Right)\n",
    "    df: Dataframe with input data on individual block sharing: Columns for sum>cm, age, and color\n",
    "    _tl Arguments: Arguments for the Timeline.\n",
    "    fs, fsl, fs_leg: Fontsize (general, labels & legend)\n",
    "    cm: Minimum Block length shown\n",
    "    cm1: Maximum Block length. (if 0 none)\n",
    "    frac: Fraction for Lowess Smoothin (if 0 no lowess smoothing shown)\n",
    "    savepath: Where to save (if given)\n",
    "    cmap_m, vrange_m: Color Map (Keyword which one to use) and Range for Map Plots\n",
    "    crs_m: Corners for the Map (Lat0, Lat1, Lon0, Lon1)-Vector\n",
    "    lgth_s: Length scale of the Kerne to fit\n",
    "    std_band: Standard Deviation of Estimate to plot\n",
    "    ec: Edge Color of Scatter Plots\n",
    "    lw: Line Width of Scatter Plots\n",
    "    bottomrow: Whether plot is in bottom (plot xlabel then)\n",
    "    rightcol: Same, but whether plot on right (plot ylabel then)\n",
    "    alpha_vio: Alpha of the Violing Plot\n",
    "    width: Width of Violin Plot for moderns\n",
    "    lw_fit: Line Width of fitted line\n",
    "    width_t, length_t: Width and Length of Ticks\n",
    "    xl_pad, yl_pad: Label Pads of x and y Axis\n",
    "    cutoff: list of [cm,cutoff] Filter >cutoff Blocks >cm\n",
    "    cousins_vec: [cm,cutoff] Plot>cutoff Blocks >cm\n",
    "    s_cousins: Sizes of the Cousin Dots\n",
    "    bg_c: Background color for the color bar\n",
    "    m_c: Marker Style of the Cousin Subplot\n",
    "    roh_ofst: How much to add to ROH (aids plotting 0)\"\"\" \n",
    "    \n",
    "    ### Extract Modern Idx\n",
    "    idx_m = df[\"age\"]==0\n",
    "    \n",
    "    ### Set Up the outer Figure Layout\n",
    "    fig = plt.figure(figsize=figsize)\n",
    "    gs = gridspec.GridSpec(3, 2, height_ratios=height_ratios, width_ratios=width_ratios, figure=fig)\n",
    "    ax_map = plt.subplot(gs[:,0])    # The left subplot (Timeline)\n",
    "    ax_time_cousin =  plt.subplot(gs[0,1])\n",
    "    ax_time_roh = plt.subplot(gs[1,1])   # The right subplot (Timeline)\n",
    "    ax_time_leg = plt.subplot(gs[2,1])\n",
    "    \n",
    "    gs.update(wspace=wspace, hspace=hspace) # set the spacing between axes\n",
    "    \n",
    "    ### Filter and Split up into Cousins\n",
    "    df1, df_cs = filter_cousins(df, cutoff=cutoff, cousins_vec=cousins_vec)\n",
    "    \n",
    "    ### Plot the Colorbar for the Map\n",
    "    plot_colorbar_age(ax_time_leg, xlim=x_lim_tl, fs_label=fsl, cmap=cmap_m, \n",
    "                      vrange=vrange_m, labelpad=lbl_pad_age, xl_pad=xl_pad,\n",
    "                      bottomrow=bottomrow, width_t=width_t, length_t=length_t)\n",
    "    \n",
    "    ### Plot the Timeline (center right)\n",
    "    plot_lowess_smoothing(df1, ax=ax_time_roh, cm=cm, cm1=cm1, xlim=x_lim_tl, ylim=y_lim_tl, title=title_tl, fs=fs, fs_leg=fs_leg, \n",
    "                          max_f_age=max_f_age, s=s_tl, leg_loc=leg_loc_tl, lw_fit=lw_fit, roh_ofst=roh_ofst,\n",
    "                          lw=lw, ec=ec, fsl=fsl, std_band=std_band, lgth_s=lgth_s, err_s=err_s, frac=frac, \n",
    "                          ticks=ticks, tick_l=tick_l, labelpad=lbl_pad_time, show=False, t_offset=t_offset,\n",
    "                          rightcol=rightcol, width_t=width_t, length_t=length_t, yl_pad=yl_pad)\n",
    "    \n",
    "    print(len(df_cs))\n",
    "    ### Plot the Cousins (upper right)\n",
    "    plot_cousin_bar(df_cs, ax_time_cousin, xlim=x_lim_tl, lw=lw, \n",
    "                     bg_c=bg_c, m_cs=m_cs, fsl=fsl, ss = s_cousins)\n",
    "    \n",
    "    ### Plot present-day indiviguals (center right)\n",
    "    if np.sum(idx_m)>0: # Only plot if modern Data exists\n",
    "        plot_violin_ax(df[idx_m], x=0, ax=ax_time_roh, widths=widths, alpha=alpha_vio,\n",
    "                       cm=cm, cm1=cm1, zorder=0, c=\"\")\n",
    "    \n",
    "    ### Plot the Map (left)\n",
    "    if not plot_mod:\n",
    "        df = df[~idx_m]\n",
    "    plot_map_ax(df, ax=ax_map, crs=crs_m, cmap=cmap_m, vrange=vrange_m, map_title=map_title, show=False, \n",
    "                lw=lw, ec=ec, fs=fs, title_loc=title_loc, s=s_tl, lw_coast=lw_coast)\n",
    "        \n",
    "    ### Save\n",
    "    if len(savepath)>0:\n",
    "        plt.savefig(savepath, pad_inches = 0,  \n",
    "                    bbox_inches = 'tight', dpi=600) #pad_inches = 0, bbox_inches = 'tight'\n",
    "        print(f\"Saved to {savepath}\")\n",
    "    plt.show()"
   ]
  },
  {
   "cell_type": "markdown",
   "metadata": {},
   "source": [
    "# Plot both map and ROH timeline"
   ]
  },
  {
   "cell_type": "code",
   "execution_count": 5,
   "metadata": {},
   "outputs": [
    {
     "name": "stdout",
     "output_type": "stream",
     "text": [
      "Saved to ./figures/manuscript/timelines/legend/legend_v6.pdf\n"
     ]
    },
    {
     "data": {
      "image/png": "[encoded data removed]",
      "text/plain": [
       "<Figure size 216x144 with 1 Axes>"
      ]
     },
     "metadata": {
      "needs_background": "light"
     },
     "output_type": "display_data"
    }
   ],
   "source": [
    "plot_legend(path_clst_clrs = \"./Data/RegionDefinition/economy_colors_v3.csv\", \n",
    "                figsize = (3,2), s=60, lw=0.4, savepath=\"./figures/manuscript/timelines/legend/legend_v6.pdf\")"
   ]
  },
  {
   "cell_type": "markdown",
   "metadata": {},
   "source": [
    "### Function to plot the map"
   ]
  },
  {
   "cell_type": "markdown",
   "metadata": {},
   "source": [
    "### The Pilot. All other plots imitatet the parameters chosen here!\n",
    "For Europe: Copy all stuff in the middle of the function."
   ]
  },
  {
   "cell_type": "markdown",
   "metadata": {},
   "source": [
    "### Define the Parameters"
   ]
  },
  {
   "cell_type": "code",
   "execution_count": 63,
   "metadata": {},
   "outputs": [],
   "source": [
    "eu_params = {\"figsize\": (3.6, 1),\n",
    "              \"width_ratios\": (8, 22), \"height_ratios\": [1.5, 15, 1], \n",
    "              \"hspace\": 0.08, \"wspace\": 0.015,\n",
    "              \"s_tl\": 9, \"ec\":\"k\", \"lw\": 0.09, \n",
    "              \"x_lim_tl\": [-500, 12200], \"vrange_m\": [0,12200], \n",
    "              \"y_lim_tl\": [0,120], \"fsl\":5, \"fs\": 5, \"fs_leg\": 5, \n",
    "              \"leg_loc_tl\": \"\", \"title_tl\": \"\",\n",
    "              \"title_loc\": (0.2,0.01), \n",
    "              \"cm\": 4, \"cm1\": 8, \"frac\": 0, \n",
    "              \"lgth_s\": [1500,1500], \"lw_fit\":1.5, \n",
    "              \"ticks\": [83.73, 30.98, 4.41], \"tick_l\":[],\n",
    "              \"cutoff\": [20,50], \"cousins_vec\": [[20,50],[20,100]],  \"m_cs\": [\"v\", \"s\"],\n",
    "              \"s_cousins\" : [9,14], \"bg_c\":\"lightgrey\",\n",
    "              \"width_t\": 0.6, \"length_t\":2, \"lbl_pad_time\": 5, \n",
    "              \"lbl_pad_age\":0, \"xl_pad\": 1.5, \"yl_pad\": 1, \n",
    "              \"widths\": 800, \"alpha_vio\": 0.3}"
   ]
  },
  {
   "cell_type": "code",
   "execution_count": 65,
   "metadata": {},
   "outputs": [
    {
     "name": "stdout",
     "output_type": "stream",
     "text": [
      "Initial: 1**2 * RBF(length_scale=1.5e+03) + WhiteKernel(noise_level=2)\n",
      "Optimum: 2.67**2 * RBF(length_scale=1.5e+03) + WhiteKernel(noise_level=2.21)\n",
      "Log-Marginal-Likelihood: -443.0207607095316\n",
      "2\n",
      "Saved to ./figures_test/timeline_test.pdf\n"
     ]
    },
    {
     "data": {
      "image/png": "[encoded data removed]",
      "text/plain": [
       "<Figure size 259.2x72 with 5 Axes>"
      ]
     },
     "metadata": {
      "needs_background": "light"
     },
     "output_type": "display_data"
    }
   ],
   "source": [
    "pop = \"Iberia\"\n",
    "df1 = pd.read_csv(\"./Empirical/roh_all_inds_final_v42.csv\", sep=\"\\t\")\n",
    "df_t = extract_pop(df1, age_range=[0, 12200], pop=pop)\n",
    "label = prep_label(df_t, pop)\n",
    "\n",
    "#tick_l=[f\"$2N_e=250$\", f\"$2N_e=500$\", f\"$2N_e=2000$\"]\n",
    "plot_map_time(df_t, crs_m=[28, 63, -13, 38], map_title=label,\n",
    "              bottomrow=True, rightcol=True,\n",
    "              savepath=\"./figures_test/timeline_test.pdf\", **eu_params)"
   ]
  },
  {
   "cell_type": "code",
   "execution_count": 36,
   "metadata": {},
   "outputs": [],
   "source": [
    "### Output to check values\n",
    "#df_t.sort_values(by=\"sum_roh>20\", ascending=False)"
   ]
  },
  {
   "cell_type": "markdown",
   "metadata": {},
   "source": [
    "## Timeline Plots of European Populations\n",
    "Instructions: \n",
    "- Load the functions at top and just above.\n",
    "- Run Populations one by one (use bottomrow and rightcol accordingly)\n",
    "- Use Incscape or AI to combine the figures"
   ]
  },
  {
   "cell_type": "markdown",
   "metadata": {},
   "source": [
    "# Produce European Panels (8 Figures, main manuscript)"
   ]
  },
  {
   "cell_type": "markdown",
   "metadata": {},
   "source": [
    "## Britain [E1]"
   ]
  },
  {
   "cell_type": "code",
   "execution_count": 67,
   "metadata": {},
   "outputs": [
    {
     "name": "stdout",
     "output_type": "stream",
     "text": [
      "Initial: 1**2 * RBF(length_scale=1.5e+03) + WhiteKernel(noise_level=2)\n",
      "Optimum: 2.33**2 * RBF(length_scale=1.5e+03) + WhiteKernel(noise_level=2)\n",
      "Log-Marginal-Likelihood: -288.170943147731\n",
      "2\n",
      "Saved to ./figures/manuscript/timelines/eu_panel_v6/E1.pdf\n"
     ]
    },
    {
     "data": {
      "image/png": "[encoded data removed]",
      "text/plain": [
       "<Figure size 259.2x72 with 5 Axes>"
      ]
     },
     "metadata": {
      "needs_background": "light"
     },
     "output_type": "display_data"
    }
   ],
   "source": [
    "pop = \"Britain\"\n",
    "df1 = pd.read_csv(\"./Empirical/roh_all_inds_final_v42.csv\", sep=\"\\t\")\n",
    "df_t = extract_pop(df1, age_range=[0,12200], pop=pop)\n",
    "label = prep_label(df_t, \"E1: Britain\")\n",
    "\n",
    "#tick_l=[f\"$2N_e=250$\", f\"$2N_e=500$\", f\"$2N_e=2000$\"]\n",
    "plot_map_time(df_t, crs_m=[28, 63, -13, 38], map_title=label,\n",
    "              bottomrow=False, rightcol=False, \n",
    "              savepath=\"./figures/manuscript/timelines/eu_panel_v6/E1.pdf\",\n",
    "              **eu_params)"
   ]
  },
  {
   "cell_type": "markdown",
   "metadata": {},
   "source": [
    "### Baltic [E2]"
   ]
  },
  {
   "cell_type": "code",
   "execution_count": 68,
   "metadata": {},
   "outputs": [
    {
     "name": "stdout",
     "output_type": "stream",
     "text": [
      "Initial: 1**2 * RBF(length_scale=1.5e+03) + WhiteKernel(noise_level=2)\n",
      "Optimum: 2.9**2 * RBF(length_scale=1.5e+03) + WhiteKernel(noise_level=3.24)\n",
      "Log-Marginal-Likelihood: -241.962983119431\n",
      "2\n",
      "Saved to ./figures/manuscript/timelines/eu_panel_v6/E2.pdf\n"
     ]
    },
    {
     "data": {
      "image/png": "[encoded data removed]",
      "text/plain": [
       "<Figure size 259.2x72 with 5 Axes>"
      ]
     },
     "metadata": {
      "needs_background": "light"
     },
     "output_type": "display_data"
    }
   ],
   "source": [
    "pop = \"Baltic Sea\"\n",
    "df1 = pd.read_csv(\"./Empirical/roh_all_inds_final_v42.csv\", sep=\"\\t\")\n",
    "df_t = extract_pop(df1, age_range=[0,12200], pop=pop)\n",
    "label = prep_label(df_t, \"E2: Baltic Sea\")\n",
    "\n",
    "#tick_l=[f\"$2N_e=250$\", f\"$2N_e=500$\", f\"$2N_e=2000$\"]\n",
    "plot_map_time(df_t, crs_m=[28, 63, -13, 38], \n",
    "              bottomrow=False, rightcol=True, map_title=label,\n",
    "              savepath=\"./figures/manuscript/timelines/eu_panel_v6/E2.pdf\",\n",
    "              **eu_params)"
   ]
  },
  {
   "cell_type": "markdown",
   "metadata": {},
   "source": [
    "## Central Europe [E3]"
   ]
  },
  {
   "cell_type": "code",
   "execution_count": 69,
   "metadata": {},
   "outputs": [
    {
     "name": "stdout",
     "output_type": "stream",
     "text": [
      "Initial: 1**2 * RBF(length_scale=1.5e+03) + WhiteKernel(noise_level=2)\n",
      "Optimum: 4.39**2 * RBF(length_scale=1.5e+03) + WhiteKernel(noise_level=2)\n",
      "Log-Marginal-Likelihood: -318.33544728614305\n",
      "2\n",
      "Saved to ./figures/manuscript/timelines/eu_panel_v6/E3.pdf\n"
     ]
    },
    {
     "data": {
      "image/png": "[encoded data removed]",
      "text/plain": [
       "<Figure size 259.2x72 with 5 Axes>"
      ]
     },
     "metadata": {
      "needs_background": "light"
     },
     "output_type": "display_data"
    }
   ],
   "source": [
    "pop = \"Central Europe\"\n",
    "df1 = pd.read_csv(\"./Empirical/roh_all_inds_final_v42.csv\", sep=\"\\t\")\n",
    "df_t = extract_pop(df1, age_range=[0,12200], pop=pop)\n",
    "label = prep_label(df_t, \"E3: Central Europe\")\n",
    "\n",
    "#tick_l=[f\"$2N_e=250$\", f\"$2N_e=500$\", f\"$2N_e=2000$\"]\n",
    "plot_map_time(df_t, crs_m=[28, 63, -13, 38], map_title=label,\n",
    "              bottomrow=False, rightcol=False, \n",
    "              savepath=\"./figures/manuscript/timelines/eu_panel_v6/E3.pdf\", **eu_params)"
   ]
  },
  {
   "cell_type": "code",
   "execution_count": 71,
   "metadata": {},
   "outputs": [],
   "source": [
    "#df_t[[\"iid\", \"pop\", \"economy\", \"age\"]].sort_values(by=\"age\", ascending=False)[:50]"
   ]
  },
  {
   "cell_type": "markdown",
   "metadata": {},
   "source": [
    "### Black Sea [E4]"
   ]
  },
  {
   "cell_type": "code",
   "execution_count": 72,
   "metadata": {},
   "outputs": [
    {
     "name": "stdout",
     "output_type": "stream",
     "text": [
      "Initial: 1**2 * RBF(length_scale=1.5e+03) + WhiteKernel(noise_level=2)\n",
      "Optimum: 2.42**2 * RBF(length_scale=1.5e+03) + WhiteKernel(noise_level=2)\n",
      "Log-Marginal-Likelihood: -52.77258245053822\n",
      "2\n",
      "Saved to ./figures/manuscript/timelines/eu_panel_v6/E4.pdf\n"
     ]
    },
    {
     "data": {
      "image/png": "[encoded data removed]",
      "text/plain": [
       "<Figure size 259.2x72 with 5 Axes>"
      ]
     },
     "metadata": {
      "needs_background": "light"
     },
     "output_type": "display_data"
    }
   ],
   "source": [
    "pop = \"Black Sea\"\n",
    "df1 = pd.read_csv(\"./Empirical/roh_all_inds_final_v42.csv\", sep=\"\\t\")\n",
    "df_t = extract_pop(df1, age_range=[0,12200], pop=pop)\n",
    "label = prep_label(df_t, \"E4: W. PC Steppe\")\n",
    "\n",
    "#tick_l=[f\"$2N_e=250$\", f\"$2N_e=500$\", f\"$2N_e=2000$\"]\n",
    "plot_map_time(df_t, crs_m=[28, 63, -13, 38], \n",
    "              map_title=label, bottomrow=False, rightcol=True, \n",
    "              savepath=\"./figures/manuscript/timelines/eu_panel_v6/E4.pdf\",\n",
    "              **eu_params)"
   ]
  },
  {
   "cell_type": "markdown",
   "metadata": {},
   "source": [
    "### Central Italy [E5]"
   ]
  },
  {
   "cell_type": "code",
   "execution_count": 73,
   "metadata": {},
   "outputs": [
    {
     "name": "stdout",
     "output_type": "stream",
     "text": [
      "Initial: 1**2 * RBF(length_scale=1.5e+03) + WhiteKernel(noise_level=2)\n",
      "Optimum: 3.78**2 * RBF(length_scale=1.5e+03) + WhiteKernel(noise_level=2)\n",
      "Log-Marginal-Likelihood: -206.13061235982127\n",
      "2\n",
      "Saved to ./figures/manuscript/timelines/eu_panel_v6/E5.pdf\n"
     ]
    },
    {
     "data": {
      "image/png": "[encoded data removed]",
      "text/plain": [
       "<Figure size 259.2x72 with 5 Axes>"
      ]
     },
     "metadata": {
      "needs_background": "light"
     },
     "output_type": "display_data"
    }
   ],
   "source": [
    "pop = \"Central Italy\"\n",
    "df1 = pd.read_csv(\"./Empirical/roh_all_inds_final_v42.csv\", sep=\"\\t\")\n",
    "df_t = extract_pop(df1, age_range=[0,12200], pop=pop)\n",
    "label = prep_label(df_t, \"E5: Central Italy\")\n",
    "\n",
    "#tick_l=[f\"$2N_e=250$\", f\"$2N_e=500$\", f\"$2N_e=2000$\"]\n",
    "plot_map_time(df_t, crs_m=[28, 63, -13, 38], map_title=label,\n",
    "              bottomrow=False, rightcol=False,\n",
    "              savepath=\"./figures/manuscript/timelines/eu_panel_v6/E5.pdf\", **eu_params)"
   ]
  },
  {
   "cell_type": "markdown",
   "metadata": {},
   "source": [
    "## Balkans [E6]"
   ]
  },
  {
   "cell_type": "code",
   "execution_count": 74,
   "metadata": {},
   "outputs": [
    {
     "name": "stdout",
     "output_type": "stream",
     "text": [
      "Initial: 1**2 * RBF(length_scale=1.5e+03) + WhiteKernel(noise_level=2)\n",
      "Optimum: 2.2**2 * RBF(length_scale=1.5e+03) + WhiteKernel(noise_level=2)\n",
      "Log-Marginal-Likelihood: -267.12226776417504\n",
      "2\n",
      "Saved to ./figures/manuscript/timelines/eu_panel_v6/E6.pdf\n"
     ]
    },
    {
     "data": {
      "image/png": "[encoded data removed]",
      "text/plain": [
       "<Figure size 259.2x72 with 5 Axes>"
      ]
     },
     "metadata": {
      "needs_background": "light"
     },
     "output_type": "display_data"
    }
   ],
   "source": [
    "pop = \"Balkans\"\n",
    "df1 = pd.read_csv(\"./Empirical/roh_all_inds_final_v42.csv\", sep=\"\\t\")\n",
    "df_t = extract_pop(df1, age_range=[0,12200], pop=pop)\n",
    "label = prep_label(df_t, \"E6: Balkans\")\n",
    "\n",
    "#tick_l=[f\"$2N_e=250$\", f\"$2N_e=500$\", f\"$2N_e=2000$\"]\n",
    "plot_map_time(df_t, crs_m=[28, 63, -13, 38], \n",
    "              map_title=label, bottomrow=False, rightcol=True, \n",
    "              savepath=\"./figures/manuscript/timelines/eu_panel_v6/E6.pdf\",\n",
    "              **eu_params)"
   ]
  },
  {
   "cell_type": "markdown",
   "metadata": {},
   "source": [
    "### Iberia [E7]"
   ]
  },
  {
   "cell_type": "code",
   "execution_count": 75,
   "metadata": {},
   "outputs": [
    {
     "name": "stdout",
     "output_type": "stream",
     "text": [
      "Initial: 1**2 * RBF(length_scale=1.5e+03) + WhiteKernel(noise_level=2)\n",
      "Optimum: 2.67**2 * RBF(length_scale=1.5e+03) + WhiteKernel(noise_level=2.21)\n",
      "Log-Marginal-Likelihood: -443.0207607095316\n",
      "2\n",
      "Saved to ./figures/manuscript/timelines/eu_panel_v6/E7.pdf\n"
     ]
    },
    {
     "data": {
      "image/png": "[encoded data removed]",
      "text/plain": [
       "<Figure size 259.2x72 with 5 Axes>"
      ]
     },
     "metadata": {
      "needs_background": "light"
     },
     "output_type": "display_data"
    }
   ],
   "source": [
    "ib_params = eu_params.copy()\n",
    "ib_params[\"tick_l\"] = [f\"$2N_e=500$\", f\"$2N_e=1400$\", f\"$2N_e=10000$\"]\n",
    "\n",
    "pop = \"Iberia\"\n",
    "df1 = pd.read_csv(\"./Empirical/roh_all_inds_final_v42.csv\", sep=\"\\t\")\n",
    "df_t = extract_pop(df1, age_range=[0,12200], pop=pop)\n",
    "label = prep_label(df_t, \"E7: Iberia\")\n",
    "\n",
    "#tick_l=[f\"$2N_e=250$\", f\"$2N_e=500$\", f\"$2N_e=2000$\"]\n",
    "plot_map_time(df_t, crs_m=[28, 63, -13, 38],\n",
    "              map_title=label, bottomrow=True, rightcol=False,\n",
    "              savepath=\"./figures/manuscript/timelines/eu_panel_v6/E7.pdf\", **ib_params)"
   ]
  },
  {
   "cell_type": "markdown",
   "metadata": {},
   "source": [
    "### Aegan [E8]"
   ]
  },
  {
   "cell_type": "code",
   "execution_count": 76,
   "metadata": {},
   "outputs": [
    {
     "name": "stdout",
     "output_type": "stream",
     "text": [
      "Initial: 1**2 * RBF(length_scale=1.5e+03) + WhiteKernel(noise_level=2)\n",
      "Optimum: 2.23**2 * RBF(length_scale=1.5e+03) + WhiteKernel(noise_level=2.83)\n",
      "Log-Marginal-Likelihood: -231.43105061141992\n",
      "2\n",
      "Saved to ./figures/manuscript/timelines/eu_panel_v6/E8.pdf\n"
     ]
    },
    {
     "data": {
      "image/png": "[encoded data removed]",
      "text/plain": [
       "<Figure size 259.2x72 with 5 Axes>"
      ]
     },
     "metadata": {
      "needs_background": "light"
     },
     "output_type": "display_data"
    }
   ],
   "source": [
    "pop = \"Aegan\"\n",
    "df1 = pd.read_csv(\"./Empirical/roh_all_inds_final_v42.csv\", sep=\"\\t\")\n",
    "df_t = extract_pop(df1, age_range=[0,12200], pop=pop)\n",
    "label = prep_label(df_t, \"E8: Aegan\")\n",
    "\n",
    "#tick_l=[f\"$2N_e=250$\", f\"$2N_e=500$\", f\"$2N_e=2000$\"]\n",
    "plot_map_time(df_t, crs_m=[28, 63, -13, 38],\n",
    "              map_title=label, bottomrow=True, rightcol=True,\n",
    "              savepath=\"./figures/manuscript/timelines/eu_panel_v6/E8.pdf\", **eu_params)"
   ]
  },
  {
   "cell_type": "markdown",
   "metadata": {},
   "source": [
    "# Euro Supp [2 Panels, E9 & E10]"
   ]
  },
  {
   "cell_type": "markdown",
   "metadata": {},
   "source": [
    "## Sardinia [E9]"
   ]
  },
  {
   "cell_type": "code",
   "execution_count": 77,
   "metadata": {},
   "outputs": [
    {
     "name": "stdout",
     "output_type": "stream",
     "text": [
      "Initial: 1**2 * RBF(length_scale=1.5e+03) + WhiteKernel(noise_level=2)\n",
      "Optimum: 1.74**2 * RBF(length_scale=1.5e+03) + WhiteKernel(noise_level=2.27)\n",
      "Log-Marginal-Likelihood: -142.99986472799424\n",
      "2\n",
      "Saved to ./figures/manuscript/timelines/supp_panel/SE9.pdf\n"
     ]
    },
    {
     "data": {
      "image/png": "[encoded data removed]",
      "text/plain": [
       "<Figure size 259.2x72 with 5 Axes>"
      ]
     },
     "metadata": {
      "needs_background": "light"
     },
     "output_type": "display_data"
    }
   ],
   "source": [
    "pop = \"Sardinia\"\n",
    "df1 = pd.read_csv(\"./Empirical/roh_all_inds_final_v42.csv\", sep=\"\\t\")\n",
    "df_t = extract_pop(df1, age_range=[0,12200], pop=pop)\n",
    "label = prep_label(df_t, \"E9: Sardinia\")\n",
    "\n",
    "#tick_l=[f\"$2N_e=250$\", f\"$2N_e=500$\", f\"$2N_e=2000$\"]\n",
    "plot_map_time(df_t, crs_m=[28, 63, -13, 38], \n",
    "              map_title=label, bottomrow=False, rightcol=False,\n",
    "              savepath=\"./figures/manuscript/timelines/supp_panel/SE9.pdf\", \n",
    "              **eu_params)"
   ]
  },
  {
   "cell_type": "markdown",
   "metadata": {},
   "source": [
    "### Eastern Europe [E10]"
   ]
  },
  {
   "cell_type": "code",
   "execution_count": 78,
   "metadata": {},
   "outputs": [
    {
     "name": "stdout",
     "output_type": "stream",
     "text": [
      "Initial: 1**2 * RBF(length_scale=1.5e+03) + WhiteKernel(noise_level=2)\n",
      "Optimum: 1.29**2 * RBF(length_scale=1.5e+03) + WhiteKernel(noise_level=2)\n",
      "Log-Marginal-Likelihood: -245.35684745996062\n",
      "2\n",
      "Saved to ./figures/manuscript/timelines/supp_panel/SE10.pdf\n"
     ]
    },
    {
     "data": {
      "image/png": "[encoded data removed]",
      "text/plain": [
       "<Figure size 259.2x72 with 5 Axes>"
      ]
     },
     "metadata": {
      "needs_background": "light"
     },
     "output_type": "display_data"
    }
   ],
   "source": [
    "pop = \"Eastern Europe\"\n",
    "df1 = pd.read_csv(\"./Empirical/roh_all_inds_final_v42.csv\", sep=\"\\t\")\n",
    "df_t = extract_pop(df1, age_range=[0,12200], pop=pop)\n",
    "label = prep_label(df_t, \"E10: E. Europe\")\n",
    "\n",
    "#tick_l=[f\"$2N_e=250$\", f\"$2N_e=500$\", f\"$2N_e=2000$\"]\n",
    "plot_map_time(df_t, crs_m=[28, 63, -13, 38], \n",
    "              map_title=label, bottomrow=False, rightcol=True, \n",
    "              savepath=\"./figures/manuscript/timelines/supp_panel/SE10.pdf\",\n",
    "              **eu_params)"
   ]
  },
  {
   "cell_type": "code",
   "execution_count": 82,
   "metadata": {},
   "outputs": [
    {
     "name": "stdout",
     "output_type": "stream",
     "text": [
      "  adding: E5.pdf (deflated 1%)\n",
      "  adding: E1.pdf (deflated 1%)\n",
      "  adding: E6.pdf (deflated 1%)\n",
      "  adding: E2.pdf (deflated 1%)\n",
      "  adding: E7.pdf (deflated 2%)\n",
      "  adding: E3.pdf (deflated 1%)\n",
      "  adding: E8.pdf (deflated 1%)\n",
      "  adding: E4.pdf (deflated 1%)\n"
     ]
    }
   ],
   "source": [
    "dir_tozip = \"./figures/manuscript/timelines/eu_panel_v6\"\n",
    "dir_zip = \"./figures/manuscript/timelines/eu_panel_v6/eu_all.zip\"\n",
    "!zip -r -j $dir_zip $dir_tozip"
   ]
  },
  {
   "cell_type": "markdown",
   "metadata": {},
   "source": [
    "### Levante"
   ]
  },
  {
   "cell_type": "code",
   "execution_count": 56,
   "metadata": {},
   "outputs": [],
   "source": [
    "#tick_l=[f\"$2N_e=500$\", f\"$2N_e=2000$\"]\n",
    "#ticks=[158.74, 83.82, 21.84]\n",
    "ticks = [83.73, 30.98, 4.41]\n",
    "tick_l = [f\"$2N_e=500$\", f\"$2N_e=1400$\", f\"$2N_e=10000$\"]\n",
    "le_params = eu_params.copy()\n",
    "le_params[\"tick_l\"] = tick_l\n",
    "le_params[\"ticks\"] = ticks"
   ]
  },
  {
   "cell_type": "code",
   "execution_count": 57,
   "metadata": {},
   "outputs": [
    {
     "name": "stdout",
     "output_type": "stream",
     "text": [
      "Initial: 1**2 * RBF(length_scale=1.5e+03) + WhiteKernel(noise_level=2)\n",
      "Optimum: 1.67**2 * RBF(length_scale=1.5e+03) + WhiteKernel(noise_level=3.78)\n",
      "Log-Marginal-Likelihood: -322.23668289548175\n",
      "2\n",
      "Saved to ./figures/manuscript/timelines/eu_panel_v5/levante.pdf\n"
     ]
    },
    {
     "data": {
      "image/png": "[encoded data removed]",
      "text/plain": [
       "<Figure size 259.2x72 with 5 Axes>"
      ]
     },
     "metadata": {
      "needs_background": "light"
     },
     "output_type": "display_data"
    }
   ],
   "source": [
    "pop = \"Levante\"\n",
    "df1 = pd.read_csv(\"./Empirical/roh_all_inds_final_v42.csv\", sep=\"\\t\")\n",
    "df_t = extract_pop(df1, age_range=[0, 12200], pop=pop)\n",
    "label = prep_label(df_t, pop)\n",
    "\n",
    "plot_map_time(df_t, crs_m=[28, 63, -13, 38],\n",
    "              map_title=label, bottomrow=True, rightcol=True,  \n",
    "              savepath=\"./figures/manuscript/timelines/eu_panel_v5/levante.pdf\",\n",
    "              **le_params)"
   ]
  },
  {
   "cell_type": "code",
   "execution_count": 156,
   "metadata": {},
   "outputs": [
    {
     "name": "stdout",
     "output_type": "stream",
     "text": [
      "  adding: figures/manuscript/timelines/eu_panel_v5/ (stored 0%)\n",
      "  adding: figures/manuscript/timelines/eu_panel_v5/britain.pdf (deflated 1%)\n",
      "  adding: figures/manuscript/timelines/eu_panel_v5/.ipynb_checkpoints/ (stored 0%)\n",
      "  adding: figures/manuscript/timelines/eu_panel_v5/.ipynb_checkpoints/levante-checkpoint.pdf (deflated 2%)\n",
      "  adding: figures/manuscript/timelines/eu_panel_v5/baltic.pdf (deflated 2%)\n",
      "  adding: figures/manuscript/timelines/eu_panel_v5/levante.pdf (deflated 3%)\n",
      "  adding: figures/manuscript/timelines/eu_panel_v5/italy.pdf (deflated 1%)\n",
      "  adding: figures/manuscript/timelines/eu_panel_v5/ce.pdf (deflated 1%)\n",
      "  adding: figures/manuscript/timelines/eu_panel_v5/black_sea.pdf (deflated 2%)\n",
      "  adding: figures/manuscript/timelines/eu_panel_v5/iberia.pdf (deflated 1%)\n",
      "  adding: figures/manuscript/timelines/eu_panel_v5/balkans.pdf (deflated 2%)\n"
     ]
    }
   ],
   "source": [
    "dir_tozip = \"./figures/manuscript/timelines/eu_panel_v5\"\n",
    "dir_zip = \"./figures/manuscript/timelines/eu_panel_v5/eu_all.zip\"\n",
    "!zip -r $dir_zip $dir_tozip"
   ]
  },
  {
   "cell_type": "markdown",
   "metadata": {},
   "source": [
    "### Combine all Figures for download"
   ]
  },
  {
   "cell_type": "markdown",
   "metadata": {},
   "source": [
    "### North Africa and Aegan Panel"
   ]
  },
  {
   "cell_type": "code",
   "execution_count": 5,
   "metadata": {},
   "outputs": [],
   "source": [
    "aegan_params = {\"figsize\": (3.6, 1),\n",
    "              \"width_ratios\": (8, 22), \"height_ratios\": [1.5, 15, 1], \n",
    "              \"hspace\": 0.08, \"wspace\": 0.015,\n",
    "              \"s_tl\": 9, \"ec\":\"k\", \"lw\": 0.09, \n",
    "              \"x_lim_tl\": [-500, 16000], \"vrange_m\": [0,16000], \n",
    "              \"y_lim_tl\": [0,120], \"fsl\":5, \"fs\": 5, \"fs_leg\": 5, \n",
    "              \"leg_loc_tl\": \"\", \"title_tl\": \"\",\n",
    "              \"title_loc\": (0.2,0.01), \n",
    "              \"cm\": 4, \"cm1\": 8, \"frac\": 0, \n",
    "              \"lgth_s\": [2000,2000], \"lw_fit\":1.5, \n",
    "              \"ticks\" : [83.73, 30.98, 4.41],\n",
    "              \"cutoff\": [20,50], \"cousins_vec\": [[20,50],[20,100]],  \"m_cs\": [\"v\", \"s\"],\n",
    "              \"s_cousins\" : [9,14], \"bg_c\":\"lightgrey\",\n",
    "              \"width_t\": 0.6, \"length_t\":2, \"lbl_pad_time\": 5, \n",
    "              \"lbl_pad_age\":0, \"xl_pad\": 1.5, \"yl_pad\": 1, \n",
    "              \"widths\": 800, \"alpha_vio\": 0.3}"
   ]
  },
  {
   "cell_type": "code",
   "execution_count": 62,
   "metadata": {},
   "outputs": [
    {
     "name": "stdout",
     "output_type": "stream",
     "text": [
      "Initial: 1**2 * RBF(length_scale=2e+03) + WhiteKernel(noise_level=2)\n",
      "Optimum: 2.94**2 * RBF(length_scale=2e+03) + WhiteKernel(noise_level=2.85)\n",
      "Log-Marginal-Likelihood: -235.22013055448105\n",
      "2\n",
      "Saved to ./figures/manuscript/timelines/aegan_panel_v5/aegan.pdf\n"
     ]
    },
    {
     "data": {
      "image/png": "[encoded data removed]",
      "text/plain": [
       "<Figure size 259.2x72 with 5 Axes>"
      ]
     },
     "metadata": {
      "needs_background": "light"
     },
     "output_type": "display_data"
    }
   ],
   "source": [
    "pop = \"Aegan\"\n",
    "df1 = pd.read_csv(\"./Empirical/roh_all_inds_final_v42.csv\", sep=\"\\t\")\n",
    "df_t = extract_pop(df1, age_range=[0, 16000], pop=pop)\n",
    "label = prep_label(df_t, pop)\n",
    "\n",
    "#title_loc=(0.2,0.01)\n",
    "#tick_l=[f\"$2N_e=250$\", f\"$2N_e=500$\", f\"$2N_e=2000$\"]\n",
    "plot_map_time(df_t, crs_m=[28, 63, -13, 38], \n",
    "              map_title=label, bottomrow=True, rightcol=True,\n",
    "              tick_l = [f\"$2N_e=500$\", f\"$2N_e=1400$\", f\"$2N_e=10000$\"],\n",
    "              savepath=\"./figures/manuscript/timelines/aegan_panel_v5/aegan.pdf\", \n",
    "              **aegan_params)"
   ]
  },
  {
   "cell_type": "markdown",
   "metadata": {},
   "source": [
    "# Panel Ancients"
   ]
  },
  {
   "cell_type": "markdown",
   "metadata": {},
   "source": [
    "## European HGs before 12,2 [HG0]"
   ]
  },
  {
   "cell_type": "code",
   "execution_count": 49,
   "metadata": {},
   "outputs": [],
   "source": [
    "hg_params = {\"figsize\": (3.6, 1),\n",
    "              \"width_ratios\": (8, 22), \"height_ratios\": [1.5, 15, 1], \n",
    "              \"hspace\": 0.08, \"wspace\": 0.015,\n",
    "              \"s_tl\": 9, \"ec\":\"k\", \"lw\": 0.09, \n",
    "              \"x_lim_tl\": [12200, 46000], \"vrange_m\": [12200,46000], \n",
    "              \"y_lim_tl\": [0,120], \"fsl\":5, \"fs\": 5, \"fs_leg\": 5, \n",
    "              \"leg_loc_tl\": \"\", \"title_tl\": \"\",\n",
    "              \"title_loc\": (0.25, 0.01), \n",
    "              \"cm\": 4, \"cm1\": 8, \"frac\": 0, \n",
    "              \"lgth_s\": [10000, 10000], \"lw_fit\":1.5, \n",
    "              \"ticks\" : [83.73, 30.98, 4.41],\n",
    "              \"cutoff\": [20,50], \"cousins_vec\": [[20,50], [20,100]], \"m_cs\": [\"v\", \"s\"],\n",
    "              \"s_cousins\" : [9,14], \"bg_c\":\"lightgrey\",\n",
    "              \"width_t\": 0.6, \"length_t\":2, \"lbl_pad_time\": 5, \n",
    "              \"lbl_pad_age\":0, \"xl_pad\": 1.5, \"yl_pad\": 1, \n",
    "              \"widths\": 800, \"alpha_vio\": 0.3}"
   ]
  },
  {
   "cell_type": "code",
   "execution_count": 50,
   "metadata": {},
   "outputs": [],
   "source": [
    "df1 = pd.read_csv(\"./Empirical/roh_all_inds_final_v42.csv\", sep=\"\\t\")\n",
    "df_t = extract_pop(df1, age_range=[12200, 46000], pop=\"\")\n",
    "regions = [\"North Africa\", \"Central Europe\", \"Eastern Europe\", \"Aegan\", \"Iberia\"]\n",
    "df_t = df_t[df_t[\"region\"].str.contains(\"|\".join(regions))]\n",
    "label = prep_label(df_t, \"C1: >12k BP\")"
   ]
  },
  {
   "cell_type": "code",
   "execution_count": 51,
   "metadata": {},
   "outputs": [
    {
     "name": "stdout",
     "output_type": "stream",
     "text": [
      "2\n",
      "Saved to ./figures/manuscript/timelines/hg_panel_v6/hg0.pdf\n"
     ]
    },
    {
     "data": {
      "image/png": "[encoded data removed]",
      "text/plain": [
       "<Figure size 259.2x72 with 5 Axes>"
      ]
     },
     "metadata": {
      "needs_background": "light"
     },
     "output_type": "display_data"
    }
   ],
   "source": [
    "plot_map_time(df_t, crs_m=[28, 63, -13, 38], \n",
    "              map_title=label, bottomrow=True, rightcol=False,\n",
    "              tick_l = [], std_band = 0,\n",
    "              savepath=\"./figures/manuscript/timelines/hg_panel_v6/hg0.pdf\",    # ./figures/manuscript/timelines/aegan_panel_v5/aegan.pdf\n",
    "              **hg_params)"
   ]
  },
  {
   "cell_type": "markdown",
   "metadata": {},
   "source": [
    "## Steppe Ancients before 12,2k BP [HG1]"
   ]
  },
  {
   "cell_type": "code",
   "execution_count": 43,
   "metadata": {},
   "outputs": [
    {
     "name": "stdout",
     "output_type": "stream",
     "text": [
      "2\n",
      "Saved to ./figures/manuscript/timelines/hg_panel_v6/hg1.pdf\n"
     ]
    },
    {
     "data": {
      "image/png": "[encoded data removed]",
      "text/plain": [
       "<Figure size 259.2x72 with 5 Axes>"
      ]
     },
     "metadata": {
      "needs_background": "light"
     },
     "output_type": "display_data"
    }
   ],
   "source": [
    "pop = \"Steppe\"\n",
    "df1 = pd.read_csv(\"./Empirical/roh_all_inds_final_v42.csv\", sep=\"\\t\")\n",
    "df_t = extract_pop(df1, age_range=[12200, 46000], pop=pop)\n",
    "df_t=df_t.sort_values(by=\"age\", ascending=True)\n",
    "label = prep_label(df_t, \"C2: >12k BP\")\n",
    "\n",
    "#tick_l=[f\"$2N_e=250$\", f\"$2N_e=500$\", f\"$2N_e=2000$\"]\n",
    "plot_map_time(df_t, map_title=label, tick_l = [], std_band = 0,\n",
    "              crs_m=[0, 65, 26, 100],\n",
    "              savepath=\"./figures/manuscript/timelines/hg_panel_v6/hg1.pdf\",          \n",
    "              **hg_params)"
   ]
  },
  {
   "cell_type": "markdown",
   "metadata": {},
   "source": [
    "## Steppe Panel [LEGACY]"
   ]
  },
  {
   "cell_type": "code",
   "execution_count": 58,
   "metadata": {},
   "outputs": [],
   "source": [
    "steppe_params_all = {\"figsize\": (3.6, 1), \"crs_m\":[0, 65, 26, 100],\n",
    "              \"width_ratios\": (8, 22), \"height_ratios\": [1.5, 15, 1], \n",
    "              \"hspace\": 0.08, \"wspace\": 0.015,\n",
    "              \"s_tl\": 9, \"ec\":\"k\", \"lw\": 0.09, \n",
    "              \"x_lim_tl\": [-500, 47000], \"vrange_m\": [0,47000], \n",
    "              \"y_lim_tl\": [0,150], \"fsl\":5, \"fs\": 5, \"fs_leg\": 5, \n",
    "              \"leg_loc_tl\": \"\", \"title_tl\": \"\",\n",
    "              \"title_loc\": (0.2,0.02), \n",
    "              \"cm\": 4, \"cm1\": 8, \"frac\": 0, \n",
    "              \"lgth_s\": [10000,10000], \"lw_fit\":1.5, \n",
    "              \"ticks\" : [83.73, 30.98, 4.41],\n",
    "              \"cutoff\": [20,50], \"m_cs\": [\"v\", \"s\"], \n",
    "              \"cousins_vec\": [[20,50],[20,100]], \n",
    "              \"s_cousins\" : [9,14], \"bg_c\":\"lightgrey\",\n",
    "              \"width_t\": 0.6, \"length_t\" : 2, \"lbl_pad_time\" : 5, \n",
    "              \"lbl_pad_age\" : 0, \"xl_pad\" : 1.5, \"yl_pad\": 1, \n",
    "              \"widths\" : 800, \"alpha_vio\" : 0.3}"
   ]
  },
  {
   "cell_type": "markdown",
   "metadata": {},
   "source": [
    "### Steppe All [LEGACY]"
   ]
  },
  {
   "cell_type": "code",
   "execution_count": 58,
   "metadata": {},
   "outputs": [
    {
     "name": "stdout",
     "output_type": "stream",
     "text": [
      "Initial: 1**2 * RBF(length_scale=1e+04) + WhiteKernel(noise_level=2)\n",
      "Optimum: 6.36**2 * RBF(length_scale=1e+04) + WhiteKernel(noise_level=2.58)\n",
      "Log-Marginal-Likelihood: -596.2118152618219\n",
      "Saved to ./figures/manuscript/timelines/steppe_panel_v5/steppe_all.pdf\n"
     ]
    },
    {
     "data": {
      "image/png": "[encoded data removed]",
      "text/plain": [
       "<Figure size 259.2x72 with 5 Axes>"
      ]
     },
     "metadata": {
      "needs_background": "light"
     },
     "output_type": "display_data"
    }
   ],
   "source": [
    "pop = \"Steppe\"\n",
    "df1 = pd.read_csv(\"./Empirical/roh_all_inds_final_v42.csv\", sep=\"\\t\")\n",
    "df_t = extract_pop(df1, age_range=[100, 47000], pop=pop)\n",
    "df_t=df_t.sort_values(by=\"age\", ascending=True)\n",
    "label = prep_label(df_t, pop)\n",
    "\n",
    "#tick_l=[f\"$2N_e=250$\", f\"$2N_e=500$\", f\"$2N_e=2000$\"]\n",
    "plot_map_time(df_t, map_title=label, tick_l = [],\n",
    "              savepath=\"./figures/manuscript/timelines/steppe_panel_v6/S.pdf\",          \n",
    "              **steppe_params_all)"
   ]
  },
  {
   "cell_type": "markdown",
   "metadata": {},
   "source": [
    "# Asia Panel [F]"
   ]
  },
  {
   "cell_type": "code",
   "execution_count": 71,
   "metadata": {},
   "outputs": [],
   "source": [
    "steppe_params_all = {\"figsize\": (3.6, 1), \"crs_m\":[-18, 62, 26, 115],\n",
    "              \"width_ratios\": (8, 22), \"height_ratios\": [1.5, 15, 1], \n",
    "              \"hspace\": 0.08, \"wspace\": 0.015,\n",
    "              \"s_tl\": 9, \"ec\":\"k\", \"lw\": 0.09, \n",
    "              \"x_lim_tl\": [-500, 12200], \"vrange_m\": [0,12200], \n",
    "              \"y_lim_tl\": [0,120], \"fsl\":5, \"fs\": 5, \"fs_leg\": 5, \n",
    "              \"leg_loc_tl\": \"\", \"title_tl\": \"\",\n",
    "              \"title_loc\": (0.35, 0.02), \n",
    "              \"cm\": 4, \"cm1\": 8, \"frac\": 0, \n",
    "              \"lgth_s\": [1500,1500], \"lw_fit\":1.5, \n",
    "              \"ticks\" : [83.73, 30.98, 4.41],\n",
    "              \"cutoff\": [20,50], \"cousins_vec\": [[20,50],[20,100]],  \"m_cs\": [\"v\", \"s\"],\n",
    "              \"s_cousins\" : [9,14], \"bg_c\":\"lightgrey\",\n",
    "              \"cutoff\": [20,50], \"m_cs\": [\"v\", \"s\"], \n",
    "              \"cousins_vec\": [[20,50],[20,100]], \n",
    "              \"s_cousins\" : [9,14], \"bg_c\":\"lightgrey\",\n",
    "              \"width_t\": 0.6, \"length_t\":2, \"lbl_pad_time\": 5, \n",
    "              \"lbl_pad_age\":0, \"xl_pad\": 1.5, \"yl_pad\": 1, \n",
    "              \"widths\": 800, \"alpha_vio\": 0.3}"
   ]
  },
  {
   "cell_type": "code",
   "execution_count": 76,
   "metadata": {},
   "outputs": [
    {
     "name": "stdout",
     "output_type": "stream",
     "text": [
      "Initial: 1**2 * RBF(length_scale=1.5e+03) + WhiteKernel(noise_level=2)\n",
      "Optimum: 2.66**2 * RBF(length_scale=1.5e+03) + WhiteKernel(noise_level=2.33)\n",
      "Log-Marginal-Likelihood: -589.3540309197151\n",
      "2\n",
      "Saved to ./figures/manuscript/timelines/steppe_panel_v6/F1.pdf\n"
     ]
    },
    {
     "data": {
      "image/png": "[encoded data removed]",
      "text/plain": [
       "<Figure size 259.2x72 with 5 Axes>"
      ]
     },
     "metadata": {
      "needs_background": "light"
     },
     "output_type": "display_data"
    }
   ],
   "source": [
    "pop = \"Steppe\"\n",
    "df1 = pd.read_csv(\"./Empirical/roh_all_inds_final_v42.csv\", sep=\"\\t\")\n",
    "df_t = extract_pop(df1, age_range=[100, 12200], pop=pop)\n",
    "df_t = df_t.sort_values(by=\"age\", ascending=True)\n",
    "label = prep_label(df_t, \"F1: PC Steppe\")\n",
    "\n",
    "#tick_l=[f\"$2N_e=250$\", f\"$2N_e=500$\", f\"$2N_e=2000$\"]\n",
    "plot_map_time(df_t, map_title=label,\n",
    "              bottomrow=False, rightcol=False,\n",
    "              tick_l=[],\n",
    "              savepath=\"./figures/manuscript/timelines/steppe_panel_v6/F1.pdf\",\n",
    "              **steppe_params_all)"
   ]
  },
  {
   "cell_type": "markdown",
   "metadata": {},
   "source": [
    "### East Steppe [K]"
   ]
  },
  {
   "cell_type": "code",
   "execution_count": 77,
   "metadata": {},
   "outputs": [
    {
     "name": "stdout",
     "output_type": "stream",
     "text": [
      "Initial: 1**2 * RBF(length_scale=1.5e+03) + WhiteKernel(noise_level=2)\n",
      "Optimum: 4.4**2 * RBF(length_scale=1.5e+03) + WhiteKernel(noise_level=2)\n",
      "Log-Marginal-Likelihood: -88.7719932741565\n",
      "2\n",
      "Saved to ./figures/manuscript/timelines/steppe_panel_v6/F2.pdf\n"
     ]
    },
    {
     "data": {
      "image/png": "[encoded data removed]",
      "text/plain": [
       "<Figure size 259.2x72 with 5 Axes>"
      ]
     },
     "metadata": {
      "needs_background": "light"
     },
     "output_type": "display_data"
    }
   ],
   "source": [
    "pop = \"East Steppe\"\n",
    "df1 = pd.read_csv(\"./Empirical/roh_all_inds_final_v42.csv\", sep=\"\\t\")\n",
    "df_t = extract_pop(df1, age_range=[100, 12200], pop=pop)\n",
    "label = prep_label(df_t, \"F2: Eastern Steppe\")\n",
    "\n",
    "#steppe_param_e = steppe_param_rec.copy()\n",
    "#steppe_param_e[\"crs_m\"] = [-30, 58, 90, 180]\n",
    "\n",
    "#tick_l=[f\"$2N_e=250$\", f\"$2N_e=500$\", f\"$2N_e=2000$\"]\n",
    "plot_map_time(df_t, map_title=label, tick_l=[f\"$2N_e=500$\", f\"$2N_e=1400$\", f\"$2N_e=10000$\"], \n",
    "              savepath=\"./figures/manuscript/timelines/steppe_panel_v6/F2.pdf\",\n",
    "              bottomrow=False, rightcol=True,\n",
    "              **steppe_params_all)"
   ]
  },
  {
   "cell_type": "markdown",
   "metadata": {},
   "source": [
    "## Levant [L]"
   ]
  },
  {
   "cell_type": "code",
   "execution_count": 78,
   "metadata": {},
   "outputs": [
    {
     "name": "stdout",
     "output_type": "stream",
     "text": [
      "Initial: 1**2 * RBF(length_scale=1.5e+03) + WhiteKernel(noise_level=2)\n",
      "Optimum: 1.51**2 * RBF(length_scale=1.5e+03) + WhiteKernel(noise_level=2)\n",
      "Log-Marginal-Likelihood: -51.51983128457999\n",
      "2\n",
      "Saved to ./figures/manuscript/timelines/steppe_panel_v6/F3.pdf\n"
     ]
    },
    {
     "data": {
      "image/png": "[encoded data removed]",
      "text/plain": [
       "<Figure size 259.2x72 with 5 Axes>"
      ]
     },
     "metadata": {
      "needs_background": "light"
     },
     "output_type": "display_data"
    }
   ],
   "source": [
    "pop = \"Levante\"\n",
    "df1 = pd.read_csv(\"./Empirical/roh_all_inds_final_v42.csv\", sep=\"\\t\")\n",
    "df_t = extract_pop(df1, age_range=[100, 12200], pop=pop)\n",
    "df_t=df_t.sort_values(by=\"age\", ascending=True)\n",
    "label = prep_label(df_t, \"F3: Levant\")\n",
    "\n",
    "#tick_l=[f\"$2N_e=250$\", f\"$2N_e=500$\", f\"$2N_e=2000$\"]\n",
    "plot_map_time(df_t, map_title=label, tick_l = [], #  [f\"$2N_e=500$\", f\"$2N_e=1400$\", f\"$2N_e=10000$\"]\n",
    "              savepath=\"./figures/manuscript/timelines/steppe_panel_v6/F3.pdf\", #./figures/manuscript/timelines/steppe_panel_v5/pakistan.pdf\n",
    "              bottomrow=True, rightcol=False,\n",
    "              **steppe_params_all)"
   ]
  },
  {
   "cell_type": "markdown",
   "metadata": {},
   "source": [
    "## Central Asia [L]"
   ]
  },
  {
   "cell_type": "code",
   "execution_count": 79,
   "metadata": {},
   "outputs": [
    {
     "name": "stdout",
     "output_type": "stream",
     "text": [
      "Initial: 1**2 * RBF(length_scale=1.5e+03) + WhiteKernel(noise_level=2)\n",
      "Optimum: 1.97**2 * RBF(length_scale=1.5e+03) + WhiteKernel(noise_level=2)\n",
      "Log-Marginal-Likelihood: -323.9233752083692\n",
      "2\n",
      "Saved to ./figures/manuscript/timelines/steppe_panel_v6/F4.pdf\n"
     ]
    },
    {
     "data": {
      "image/png": "[encoded data removed]",
      "text/plain": [
       "<Figure size 259.2x72 with 5 Axes>"
      ]
     },
     "metadata": {
      "needs_background": "light"
     },
     "output_type": "display_data"
    }
   ],
   "source": [
    "pop = \"Central Asia\"\n",
    "df1 = pd.read_csv(\"./Empirical/roh_all_inds_final_v42.csv\", sep=\"\\t\")\n",
    "df_t = extract_pop(df1, age_range=[100, 12200], pop=pop)\n",
    "df_t=df_t.sort_values(by=\"age\", ascending=True)\n",
    "label = prep_label(df_t, \"F4: Central Asia\")\n",
    "\n",
    "#tick_l=[f\"$2N_e=250$\", f\"$2N_e=500$\", f\"$2N_e=2000$\"]\n",
    "plot_map_time(df_t, map_title=label, tick_l = [], #  [f\"$2N_e=500$\", f\"$2N_e=1400$\", f\"$2N_e=10000$\"]\n",
    "              savepath=\"./figures/manuscript/timelines/steppe_panel_v6/F4.pdf\",\n",
    "              bottomrow=True, rightcol=True,\n",
    "              **steppe_params_all)"
   ]
  },
  {
   "cell_type": "code",
   "execution_count": 80,
   "metadata": {},
   "outputs": [
    {
     "name": "stdout",
     "output_type": "stream",
     "text": [
      "  adding: F4.pdf (deflated 1%)\n",
      "  adding: F1.pdf (deflated 1%)\n",
      "  adding: F2.pdf (deflated 2%)\n",
      "  adding: F3.pdf (deflated 1%)\n"
     ]
    }
   ],
   "source": [
    "dir_tozip = \"./figures/manuscript/timelines/steppe_panel_v6\"\n",
    "dir_zip = \"./figures/manuscript/timelines/steppe_panel_v6/steppe_all.zip\"\n",
    "!zip -r -j $dir_zip $dir_tozip"
   ]
  },
  {
   "cell_type": "markdown",
   "metadata": {},
   "source": [
    "# South American Populations\n",
    "Instructions: \n",
    "- Load the functions at top and just above."
   ]
  },
  {
   "cell_type": "code",
   "execution_count": 52,
   "metadata": {},
   "outputs": [],
   "source": [
    "sa_params = {\"figsize\": (3.6, 1),\n",
    "             \"crs_m\":[-59, 57, -140, -25],\n",
    "              \"width_ratios\": (8, 22), \"height_ratios\": [1.5, 15, 1], \n",
    "              \"hspace\": 0.08, \"wspace\": 0.015,\n",
    "              \"s_tl\": 9, \"ec\":\"k\", \"lw\": 0.09, \n",
    "              \"x_lim_tl\": [-100, 13000], \"vrange_m\": [0,13000], \n",
    "              \"y_lim_tl\": [0,120], \"fsl\":5, \"fs\": 5, \"fs_leg\": 5, \n",
    "              \"leg_loc_tl\": \"\", \"title_tl\": \"\",\n",
    "              \"title_loc\": (0.05,0.01), \n",
    "              \"cm\": 4, \"cm1\": 8, \"frac\": 0, \n",
    "              \"lgth_s\": [2000,2000], \"lw_fit\":1.5, \n",
    "              \"ticks\" : [83.73, 30.98, 4.41],\n",
    "              \"cutoff\": [20,50], \"m_cs\": [\"v\", \"s\"], \n",
    "              \"cousins_vec\": [[20,50],[20,100]], \n",
    "              \"s_cousins\" : [9,14], \"bg_c\":\"lightgrey\",\n",
    "              \"width_t\": 0.6, \"length_t\":2, \"lbl_pad_time\": 5, \n",
    "              \"lbl_pad_age\":0, \"xl_pad\": 1.5, \"yl_pad\": 1, \n",
    "              \"widths\": 800, \"alpha_vio\": 0.3}"
   ]
  },
  {
   "cell_type": "markdown",
   "metadata": {},
   "source": [
    "### Pacific NW [D1]"
   ]
  },
  {
   "cell_type": "code",
   "execution_count": 63,
   "metadata": {},
   "outputs": [
    {
     "name": "stdout",
     "output_type": "stream",
     "text": [
      "Initial: 1**2 * RBF(length_scale=2e+03) + WhiteKernel(noise_level=2)\n",
      "Optimum: 7.05**2 * RBF(length_scale=2e+03) + WhiteKernel(noise_level=2.3)\n",
      "Log-Marginal-Likelihood: -34.23017000859323\n",
      "2\n",
      "Saved to ./figures/manuscript/timelines/sa_panel_v5/D1.pdf\n"
     ]
    },
    {
     "data": {
      "image/png": "[encoded data removed]",
      "text/plain": [
       "<Figure size 259.2x72 with 5 Axes>"
      ]
     },
     "metadata": {
      "needs_background": "light"
     },
     "output_type": "display_data"
    }
   ],
   "source": [
    "pop = \"Pacific NW\"\n",
    "df1 = pd.read_csv(\"./Empirical/roh_all_inds_final_v42.csv\", sep=\"\\t\")\n",
    "df_t = extract_pop(df1, age_range=[100, 13000], pop=pop)\n",
    "label = prep_label(df_t, \"D1: West NA\")\n",
    "\n",
    "#tick_l=[f\"$2N_e=250$\", f\"$2N_e=500$\", f\"$2N_e=2000$\"]\n",
    "plot_map_time(df_t, map_title=label, \n",
    "              savepath=\"./figures/manuscript/timelines/sa_panel_v5/D1.pdf\",\n",
    "              tick_l = [], bottomrow = False, rightcol=False,\n",
    "              **sa_params)"
   ]
  },
  {
   "cell_type": "markdown",
   "metadata": {},
   "source": [
    "### Andean [A3]"
   ]
  },
  {
   "cell_type": "code",
   "execution_count": 64,
   "metadata": {},
   "outputs": [
    {
     "name": "stdout",
     "output_type": "stream",
     "text": [
      "Initial: 1**2 * RBF(length_scale=2e+03) + WhiteKernel(noise_level=2)\n",
      "Optimum: 6.5**2 * RBF(length_scale=2e+03) + WhiteKernel(noise_level=4)\n",
      "Log-Marginal-Likelihood: -52.33484292185372\n",
      "2\n",
      "Saved to ./figures/manuscript/timelines/sa_panel_v5/D3.pdf\n"
     ]
    },
    {
     "data": {
      "image/png": "[encoded data removed]",
      "text/plain": [
       "<Figure size 259.2x72 with 5 Axes>"
      ]
     },
     "metadata": {
      "needs_background": "light"
     },
     "output_type": "display_data"
    }
   ],
   "source": [
    "pop = \"Andean\"\n",
    "df1 = pd.read_csv(\"./Empirical/roh_all_inds_final_v42.csv\", sep=\"\\t\")\n",
    "df_t = extract_pop(df1, age_range=[100, 13000], pop=pop)\n",
    "label = prep_label(df_t, \"D3: Andean\")\n",
    "\n",
    "#tick_l=[f\"$2N_e=250$\", f\"$2N_e=500$\", f\"$2N_e=2000$\"]\n",
    "plot_map_time(df_t, map_title=label, \n",
    "              savepath=\"./figures/manuscript/timelines/sa_panel_v5/D3.pdf\",\n",
    "              tick_l = [],\n",
    "              bottomrow = True, rightcol=False,\n",
    "              **sa_params)"
   ]
  },
  {
   "cell_type": "markdown",
   "metadata": {},
   "source": [
    "### Atlantic Coast [A2]"
   ]
  },
  {
   "cell_type": "code",
   "execution_count": 65,
   "metadata": {},
   "outputs": [
    {
     "name": "stdout",
     "output_type": "stream",
     "text": [
      "Initial: 1**2 * RBF(length_scale=2e+03) + WhiteKernel(noise_level=2)\n",
      "Optimum: 5.51**2 * RBF(length_scale=2e+03) + WhiteKernel(noise_level=4)\n",
      "Log-Marginal-Likelihood: -29.88881775744764\n",
      "2\n",
      "Saved to ./figures/manuscript/timelines/sa_panel_v5/D2.pdf\n"
     ]
    },
    {
     "data": {
      "image/png": "[encoded data removed]",
      "text/plain": [
       "<Figure size 259.2x72 with 5 Axes>"
      ]
     },
     "metadata": {
      "needs_background": "light"
     },
     "output_type": "display_data"
    }
   ],
   "source": [
    "pop = \"Atlantic Coast\"\n",
    "df1 = pd.read_csv(\"./Empirical/roh_all_inds_final_v42.csv\", sep=\"\\t\")\n",
    "df_t = extract_pop(df1, age_range=[500, 13000], pop=pop)\n",
    "label = prep_label(df_t, \"D2: East SA\")\n",
    "\n",
    "#tick_l=[f\"$2N_e=250$\", f\"$2N_e=500$\", f\"$2N_e=2000$\"]\n",
    "plot_map_time(df_t, map_title=label, \n",
    "              savepath=\"./figures/manuscript/timelines/sa_panel_v5/D2.pdf\",\n",
    "              tick_l = [],\n",
    "              bottomrow = False, rightcol=True,\n",
    "              **sa_params)"
   ]
  },
  {
   "cell_type": "markdown",
   "metadata": {},
   "source": [
    "### Patagonia [A4]"
   ]
  },
  {
   "cell_type": "code",
   "execution_count": 66,
   "metadata": {},
   "outputs": [
    {
     "name": "stdout",
     "output_type": "stream",
     "text": [
      "Initial: 1**2 * RBF(length_scale=2e+03) + WhiteKernel(noise_level=2)\n",
      "Optimum: 7.91**2 * RBF(length_scale=2e+03) + WhiteKernel(noise_level=2)\n",
      "Log-Marginal-Likelihood: -18.61372516819521\n",
      "2\n",
      "Saved to ./figures/manuscript/timelines/sa_panel_v5/D4.pdf\n"
     ]
    },
    {
     "data": {
      "image/png": "[encoded data removed]",
      "text/plain": [
       "<Figure size 259.2x72 with 5 Axes>"
      ]
     },
     "metadata": {
      "needs_background": "light"
     },
     "output_type": "display_data"
    }
   ],
   "source": [
    "pop = \"Patagonia\"\n",
    "df1 = pd.read_csv(\"./Empirical/roh_all_inds_final_v42.csv\", sep=\"\\t\")\n",
    "df_t = extract_pop(df1, age_range=[0, 13000], pop=pop)\n",
    "label = prep_label(df_t, \"D4: South SA\")\n",
    "\n",
    "#tick_l=[f\"$2N_e=250$\", f\"$2N_e=500$\", f\"$2N_e=2000$\"]\n",
    "plot_map_time(df_t, map_title=label, \n",
    "              savepath=\"./figures/manuscript/timelines/sa_panel_v5/D4.pdf\",\n",
    "              bottomrow = True, rightcol=True, \n",
    "              tick_l = [f\"$2N_e=500$\", f\"$2N_e=1400$\", f\"$2N_e=10000$\"],\n",
    "              **sa_params)"
   ]
  },
  {
   "cell_type": "code",
   "execution_count": 67,
   "metadata": {},
   "outputs": [
    {
     "name": "stdout",
     "output_type": "stream",
     "text": [
      "updating: D1.pdf (deflated 0%)\n",
      "updating: D2.pdf (deflated 1%)\n",
      "updating: D3.pdf (deflated 1%)\n",
      "updating: D4.pdf (deflated 1%)\n"
     ]
    }
   ],
   "source": [
    "dir_tozip = \"./figures/manuscript/timelines/sa_panel_v5/\"\n",
    "dir_zip = \"./figures/manuscript/timelines/sa_panel_v5/sa_all.zip\"\n",
    "!zip -r -j $dir_zip $dir_tozip"
   ]
  },
  {
   "cell_type": "markdown",
   "metadata": {},
   "source": [
    "# Supplemental Figure"
   ]
  },
  {
   "cell_type": "markdown",
   "metadata": {},
   "source": [
    "## Bering Sea"
   ]
  },
  {
   "cell_type": "code",
   "execution_count": 233,
   "metadata": {},
   "outputs": [],
   "source": [
    "ber_params   = {\"figsize\": (3.6, 1),\n",
    "              \"width_ratios\": (8, 22), \"height_ratios\": [1.5, 15, 1], \n",
    "              \"hspace\": 0.08, \"wspace\": 0.015,\n",
    "              \"s_tl\": 9, \"ec\":\"k\", \"lw\": 0.09, \n",
    "              \"x_lim_tl\": [-100, 15000], \"vrange_m\": [0,15000], \n",
    "              \"y_lim_tl\": [0,150], \"fsl\":5, \"fs\": 5, \"fs_leg\": 5, \n",
    "              \"leg_loc_tl\": \"\", \"title_tl\": \"\",\n",
    "              \"title_loc\": (0.05,0.01), \n",
    "              \"cm\": 4, \"cm1\": 8, \"frac\": 0, \n",
    "              \"lgth_s\": [1500,1500], \"lw_fit\":1.5, \n",
    "              \"ticks\" : [83.73, 30.98, 4.41],\n",
    "              \"cutoff\": [20,50], \"m_cs\": [\"v\", \"s\"], \"cousins_vec\": [[20,50],[20,100]], \n",
    "              \"s_cousins\" : [9,14], \"bg_c\":\"lightgrey\",\n",
    "              \"width_t\": 0.6, \"length_t\":2, \"lbl_pad_time\": 5, \n",
    "              \"lbl_pad_age\":0, \"xl_pad\": 1.5, \"yl_pad\": 1, \n",
    "              \"widths\": 800, \"alpha_vio\": 0.3}"
   ]
  },
  {
   "cell_type": "code",
   "execution_count": 234,
   "metadata": {},
   "outputs": [],
   "source": [
    "pop = \"Bering Sea\"\n",
    "df1 = pd.read_csv(\"./Empirical/roh_all_inds_final_v42.csv\", sep=\"\\t\")\n",
    "df_t = extract_pop(df1, age_range=[100, 13000], pop=pop)\n",
    "label = prep_label(df_t, \"B\")\n",
    "df_t[\"color\"] = \"purple\""
   ]
  },
  {
   "cell_type": "code",
   "execution_count": 235,
   "metadata": {},
   "outputs": [
    {
     "name": "stdout",
     "output_type": "stream",
     "text": [
      "2\n",
      "Saved to ./figures/manuscript/timelines/supp_panel/B.pdf\n"
     ]
    },
    {
     "data": {
      "image/png": "[encoded data removed]",
      "text/plain": [
       "<Figure size 259.2x72 with 5 Axes>"
      ]
     },
     "metadata": {
      "needs_background": "light"
     },
     "output_type": "display_data"
    }
   ],
   "source": [
    "plot_map_time(df_t, map_title=label, crs_m=[40, 80, -180, -100],\n",
    "              bottomrow=True, rightcol=False,\n",
    "              std_band = 0,\n",
    "              tick_l = [f\"$2N_e=500$\", f\"$2N_e=1400$\", f\"$2N_e=10000$\"], # f\"$2N_e=500$\", f\"$2N_e=1400$\", f\"$2N_e=10000$\"\n",
    "              savepath=\"./figures/manuscript/timelines/supp_panel/B.pdf\",\n",
    "              **ber_params)"
   ]
  },
  {
   "cell_type": "markdown",
   "metadata": {},
   "source": [
    "## North Africa [N]"
   ]
  },
  {
   "cell_type": "code",
   "execution_count": 231,
   "metadata": {},
   "outputs": [],
   "source": [
    "pop = \"North Africa\"\n",
    "df1 = pd.read_csv(\"./Empirical/roh_all_inds_final_v42.csv\", sep=\"\\t\")\n",
    "df_t = extract_pop(df1, age_range=[100, 15000], pop=pop)\n",
    "label = prep_label(df_t, \"N\")"
   ]
  },
  {
   "cell_type": "code",
   "execution_count": 232,
   "metadata": {},
   "outputs": [
    {
     "name": "stdout",
     "output_type": "stream",
     "text": [
      "2\n",
      "Saved to ./figures/manuscript/timelines/supp_panel/N.pdf\n"
     ]
    },
    {
     "data": {
      "image/png": "[encoded data removed]",
      "text/plain": [
       "<Figure size 259.2x72 with 5 Axes>"
      ]
     },
     "metadata": {
      "needs_background": "light"
     },
     "output_type": "display_data"
    }
   ],
   "source": [
    "plot_map_time(df_t, map_title=label, crs_m=[28, 63, -13, 38],\n",
    "              bottomrow=True, rightcol=True,\n",
    "              std_band = 0,\n",
    "              tick_l = [], # f\"$2N_e=500$\", f\"$2N_e=1400$\", f\"$2N_e=10000$\"\n",
    "              savepath=\"./figures/manuscript/timelines/supp_panel/N.pdf\",\n",
    "              **ber_params)"
   ]
  },
  {
   "cell_type": "markdown",
   "metadata": {},
   "source": [
    "# Africa\n",
    "South & Eeast Africa"
   ]
  },
  {
   "cell_type": "code",
   "execution_count": 236,
   "metadata": {},
   "outputs": [],
   "source": [
    "af_params   = {\"figsize\": (3.6, 1),\n",
    "              \"width_ratios\": (8, 22), \"height_ratios\": [1.5, 15, 1], \n",
    "              \"hspace\": 0.08, \"wspace\": 0.015,\n",
    "              \"s_tl\": 9, \"ec\":\"k\", \"lw\": 0.09, \n",
    "              \"x_lim_tl\": [-100, 5000], \"vrange_m\": [0,5000], \n",
    "              \"y_lim_tl\": [0,150], \"fsl\":5, \"fs\": 5, \"fs_leg\": 5, \n",
    "              \"leg_loc_tl\": \"\", \"title_tl\": \"\",\n",
    "              \"title_loc\": (0.05,0.01), \n",
    "              \"cm\": 4, \"cm1\": 8, \"frac\": 0, \n",
    "              \"lgth_s\": [1500,1500], \"lw_fit\":1.5, \n",
    "              \"ticks\" : [83.73, 30.98, 4.41],\n",
    "              \"cutoff\": [20,50], \"m_cs\": [\"v\", \"s\"], \"cousins_vec\": [[20,50],[20,100]], \n",
    "              \"s_cousins\" : [9,14], \"bg_c\":\"lightgrey\",\n",
    "              \"width_t\": 0.6, \"length_t\":2, \"lbl_pad_time\": 5, \n",
    "              \"lbl_pad_age\":0, \"xl_pad\": 1.5, \"yl_pad\": 1, \n",
    "              \"widths\": 800, \"alpha_vio\": 0.3}"
   ]
  },
  {
   "cell_type": "markdown",
   "metadata": {},
   "source": [
    "### East Africa"
   ]
  },
  {
   "cell_type": "code",
   "execution_count": 237,
   "metadata": {},
   "outputs": [
    {
     "name": "stdout",
     "output_type": "stream",
     "text": [
      "Initial: 1**2 * RBF(length_scale=1.5e+03) + WhiteKernel(noise_level=2)\n",
      "Optimum: 1.46**2 * RBF(length_scale=1.5e+03) + WhiteKernel(noise_level=2)\n",
      "Log-Marginal-Likelihood: -48.22319272045034\n",
      "2\n",
      "Saved to ./figures/manuscript/timelines/supp_panel/F2.pdf\n"
     ]
    },
    {
     "data": {
      "image/png": "[encoded data removed]",
      "text/plain": [
       "<Figure size 259.2x72 with 5 Axes>"
      ]
     },
     "metadata": {
      "needs_background": "light"
     },
     "output_type": "display_data"
    }
   ],
   "source": [
    "pop = \"East Africa\"\n",
    "df1 = pd.read_csv(\"./Empirical/roh_all_inds_final_v42.csv\", sep=\"\\t\")\n",
    "df_t = extract_pop(df1, age_range=[100, 13000], pop=pop)\n",
    "label = prep_label(df_t, \"F2\")\n",
    "\n",
    "#tick_l=[f\"$2N_e=250$\", f\"$2N_e=500$\", f\"$2N_e=2000$\"]\n",
    "plot_map_time(df_t, map_title=label, crs_m=[-40, 15, 0, 50],\n",
    "              bottomrow=True, rightcol=True,\n",
    "              tick_l = [], # f\"$2N_e=500$\", f\"$2N_e=1400$\", f\"$2N_e=10000$\"\n",
    "              savepath=\"./figures/manuscript/timelines/supp_panel/F2.pdf\",\n",
    "              **af_params)"
   ]
  },
  {
   "cell_type": "markdown",
   "metadata": {},
   "source": [
    "### South Africa"
   ]
  },
  {
   "cell_type": "code",
   "execution_count": 238,
   "metadata": {},
   "outputs": [
    {
     "name": "stdout",
     "output_type": "stream",
     "text": [
      "Initial: 1**2 * RBF(length_scale=1.5e+03) + WhiteKernel(noise_level=2)\n",
      "Optimum: 1.67**2 * RBF(length_scale=1.5e+03) + WhiteKernel(noise_level=2)\n",
      "Log-Marginal-Likelihood: -15.0424563359277\n",
      "2\n",
      "Saved to ./figures/manuscript/timelines/supp_panel/F1.pdf\n"
     ]
    },
    {
     "data": {
      "image/png": "[encoded data removed]",
      "text/plain": [
       "<Figure size 259.2x72 with 5 Axes>"
      ]
     },
     "metadata": {
      "needs_background": "light"
     },
     "output_type": "display_data"
    }
   ],
   "source": [
    "pop = \"South Africa\"\n",
    "df1 = pd.read_csv(\"./Empirical/roh_all_inds_final_v42.csv\", sep=\"\\t\")\n",
    "df_t = extract_pop(df1, age_range=[100, 13000], pop=pop)\n",
    "label = prep_label(df_t, \"F1\")\n",
    "\n",
    "\n",
    "#tick_l=[f\"$2N_e=250$\", f\"$2N_e=500$\", f\"$2N_e=2000$\"]\n",
    "plot_map_time(df_t, map_title=label, crs_m=[-40, 15, 0, 50],\n",
    "              bottomrow=True, rightcol=False, tick_l=[], \n",
    "              savepath=\"./figures/manuscript/timelines/supp_panel/F1.pdf\",\n",
    "              **af_params)"
   ]
  },
  {
   "cell_type": "markdown",
   "metadata": {},
   "source": [
    "## Tibet [T]"
   ]
  },
  {
   "cell_type": "code",
   "execution_count": 239,
   "metadata": {},
   "outputs": [],
   "source": [
    "him_params  = {\"figsize\": (3.6, 1),\n",
    "              \"crs_m\":[0, 65, 26, 100],\n",
    "              \"width_ratios\": (8, 22), \"height_ratios\": [1.5, 15, 1], \n",
    "              \"hspace\": 0.08, \"wspace\": 0.015,\n",
    "              \"s_tl\": 9, \"ec\":\"k\", \"lw\": 0.09, \n",
    "              \"x_lim_tl\": [-100, 3500], \"vrange_m\": [0,3500], \n",
    "              \"y_lim_tl\": [0,150], \"fsl\":5, \"fs\": 5, \"fs_leg\": 5, \n",
    "              \"leg_loc_tl\": \"\", \"title_tl\": \"\",\n",
    "              \"title_loc\": (0.05,0.01), \n",
    "              \"cm\": 4, \"cm1\": 8, \"frac\": 0, \n",
    "              \"lgth_s\": [1500,1500], \"lw_fit\":1.5, \n",
    "              \"ticks\" : [83.73, 30.98, 4.41],\n",
    "              \"cutoff\": [20,50], \"cousins_vec\": [[20,50],[20,100]], \"m_cs\":[\"v\", \"s\"],\n",
    "              \"s_cousins\" : [9,9], \"bg_c\":\"lightgrey\",\n",
    "              \"width_t\": 0.6, \"length_t\":2, \"lbl_pad_time\": 5, \n",
    "              \"lbl_pad_age\":0, \"xl_pad\": 1.5, \"yl_pad\": 1, \n",
    "              \"widths\": 800, \"alpha_vio\": 0.3}"
   ]
  },
  {
   "cell_type": "code",
   "execution_count": 240,
   "metadata": {},
   "outputs": [
    {
     "name": "stdout",
     "output_type": "stream",
     "text": [
      "Initial: 1**2 * RBF(length_scale=1.5e+03) + WhiteKernel(noise_level=2)\n",
      "Optimum: 2.9**2 * RBF(length_scale=1.5e+03) + WhiteKernel(noise_level=4)\n",
      "Log-Marginal-Likelihood: -49.61279017617457\n",
      "2\n",
      "Saved to ./figures/manuscript/timelines/supp_panel/T.pdf\n"
     ]
    },
    {
     "data": {
      "image/png": "[encoded data removed]",
      "text/plain": [
       "<Figure size 259.2x72 with 5 Axes>"
      ]
     },
     "metadata": {
      "needs_background": "light"
     },
     "output_type": "display_data"
    }
   ],
   "source": [
    "pop = \"Himalaya\"\n",
    "df1 = pd.read_csv(\"./Empirical/roh_all_inds_final_v42.csv\", sep=\"\\t\")\n",
    "df_t = extract_pop(df1, age_range=[0, 13000], pop=pop)\n",
    "df_t.loc[df_t[\"age\"]>0, \"color\"] = \"blue\"\n",
    "label = prep_label(df_t, \"T\")\n",
    "\n",
    "#tick_l=[f\"$2N_e=250$\", f\"$2N_e=500$\", f\"$2N_e=2000$\"]\n",
    "plot_map_time(df_t, map_title=label,\n",
    "              rightcol=False,\n",
    "              savepath=\"./figures/manuscript/timelines/supp_panel/T.pdf\",\n",
    "              tick_l = [], # f\"$2N_e=500$\", f\"$2N_e=1400$\", f\"$2N_e=10000$\"\n",
    "              **him_params)"
   ]
  },
  {
   "cell_type": "markdown",
   "metadata": {},
   "source": [
    "### Vanuatu [V]"
   ]
  },
  {
   "cell_type": "code",
   "execution_count": 241,
   "metadata": {},
   "outputs": [],
   "source": [
    "vanuatu_params  = {\"figsize\": (3.6, 1),\n",
    "              \"crs_m\":[-30, 58, 90, 180],\n",
    "              \"width_ratios\": (8, 22), \"height_ratios\": [1.5, 15, 1], \n",
    "              \"hspace\": 0.08, \"wspace\": 0.015,\n",
    "              \"s_tl\": 9, \"ec\":\"k\", \"lw\": 0.09, \n",
    "              \"x_lim_tl\": [-100, 3500], \"vrange_m\": [0,3500], \n",
    "              \"y_lim_tl\": [0,150], \"fsl\":5, \"fs\": 5, \"fs_leg\": 5, \n",
    "              \"leg_loc_tl\": \"\", \"title_tl\": \"\",\n",
    "              \"title_loc\": (0.05,0.01), \n",
    "              \"cm\": 4, \"cm1\": 8, \"frac\": 0, \n",
    "              \"lgth_s\": [1500,1500], \"lw_fit\":1.5, \n",
    "              \"ticks\" : [83.73, 30.98, 4.41],\n",
    "              \"cutoff\": [20,50], \"cousins_vec\": [[20,50],[20,100]], \"m_cs\":[\"v\", \"s\"],\n",
    "              \"s_cousins\" : [9,9], \"bg_c\":\"lightgrey\",\n",
    "              \"width_t\": 0.6, \"length_t\":2, \"lbl_pad_time\": 5, \n",
    "              \"lbl_pad_age\":0, \"xl_pad\": 1.5, \"yl_pad\": 1, \n",
    "              \"widths\": 800, \"alpha_vio\": 0.3}"
   ]
  },
  {
   "cell_type": "code",
   "execution_count": 242,
   "metadata": {},
   "outputs": [
    {
     "name": "stdout",
     "output_type": "stream",
     "text": [
      "Initial: 1**2 * RBF(length_scale=1.5e+03) + WhiteKernel(noise_level=2)\n",
      "Optimum: 3.03**2 * RBF(length_scale=1.5e+03) + WhiteKernel(noise_level=4)\n",
      "Log-Marginal-Likelihood: -37.15264294836078\n",
      "2\n",
      "Saved to ./figures/manuscript/timelines/supp_panel/V.pdf\n"
     ]
    },
    {
     "data": {
      "image/png": "[encoded data removed]",
      "text/plain": [
       "<Figure size 259.2x72 with 5 Axes>"
      ]
     },
     "metadata": {
      "needs_background": "light"
     },
     "output_type": "display_data"
    }
   ],
   "source": [
    "pop = \"Vanuatu\"\n",
    "df1 = pd.read_csv(\"./Empirical/roh_all_inds_final_v42.csv\", sep=\"\\t\")\n",
    "df_t = extract_pop(df1, age_range=[0, 13000], pop=pop)\n",
    "df_t[\"color\"] = \"blue\"\n",
    "label = prep_label(df_t, \"V\")\n",
    "\n",
    "plot_map_time(df_t, map_title=label,\n",
    "              rightcol=True, bottomrow=False,\n",
    "              savepath=\"./figures/manuscript/timelines/supp_panel/V.pdf\",\n",
    "              tick_l = [f\"$2N_e=500$\", f\"$2N_e=1400$\", f\"$2N_e=10000$\"],\n",
    "              **vanuatu_params)"
   ]
  },
  {
   "cell_type": "code",
   "execution_count": 226,
   "metadata": {},
   "outputs": [
    {
     "name": "stdout",
     "output_type": "stream",
     "text": [
      "  adding: figures/manuscript/timelines/supp_panel/ (stored 0%)\n",
      "  adding: figures/manuscript/timelines/supp_panel/N.pdf (deflated 1%)\n",
      "  adding: figures/manuscript/timelines/supp_panel/.ipynb_checkpoints/ (stored 0%)\n",
      "  adding: figures/manuscript/timelines/supp_panel/T.pdf (deflated 1%)\n",
      "  adding: figures/manuscript/timelines/supp_panel/F1.pdf (deflated 3%)\n",
      "  adding: figures/manuscript/timelines/supp_panel/B.pdf (deflated 2%)\n",
      "  adding: figures/manuscript/timelines/supp_panel/F2.pdf (deflated 3%)\n",
      "  adding: figures/manuscript/timelines/supp_panel/SE9.pdf (deflated 1%)\n",
      "  adding: figures/manuscript/timelines/supp_panel/V.pdf (deflated 1%)\n",
      "  adding: figures/manuscript/timelines/supp_panel/SE10.pdf (deflated 1%)\n"
     ]
    }
   ],
   "source": [
    "dir_tozip = \"./figures/manuscript/timelines/supp_panel\"\n",
    "dir_zip = \"./figures/manuscript/timelines/supp_panel/all.zip\"\n",
    "!zip -r $dir_zip $dir_tozip"
   ]
  },
  {
   "cell_type": "markdown",
   "metadata": {},
   "source": [
    "# Area 51"
   ]
  },
  {
   "cell_type": "markdown",
   "metadata": {},
   "source": [
    "### Experiment with small font size"
   ]
  },
  {
   "cell_type": "code",
   "execution_count": 3,
   "metadata": {},
   "outputs": [],
   "source": [
    "df1 = pd.read_csv(\"./Empirical/roh_all_inds_final_v42.csv\", sep=\"\\t\")"
   ]
  },
  {
   "cell_type": "code",
   "execution_count": null,
   "metadata": {},
   "outputs": [],
   "source": [
    "df1.sort_values(by=\"sum_roh>20\", ascending=False)[:20]"
   ]
  },
  {
   "cell_type": "code",
   "execution_count": null,
   "metadata": {},
   "outputs": [],
   "source": []
  }
 ],
 "metadata": {
  "kernelspec": {
   "display_name": "Python 3",
   "language": "python",
   "name": "python3"
  },
  "language_info": {
   "codemirror_mode": {
    "name": "ipython",
    "version": 3
   },
   "file_extension": ".py",
   "mimetype": "text/x-python",
   "name": "python",
   "nbconvert_exporter": "python",
   "pygments_lexer": "ipython3",
   "version": "3.7.0"
  }
 },
 "nbformat": 4,
 "nbformat_minor": 4
}
