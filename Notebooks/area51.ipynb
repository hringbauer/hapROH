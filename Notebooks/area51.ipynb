{
 "cells": [
  {
   "cell_type": "markdown",
   "metadata": {},
   "source": [
    "# Area 51\n",
    "Test Code Chunks here before going into Production."
   ]
  },
  {
   "cell_type": "markdown",
   "metadata": {},
   "source": [
    "## Simulator"
   ]
  },
  {
   "cell_type": "code",
   "execution_count": 1,
   "metadata": {},
   "outputs": [],
   "source": [
    "import numpy as np\n",
    "import matplotlib.pyplot as plt"
   ]
  },
  {
   "cell_type": "code",
   "execution_count": 69,
   "metadata": {},
   "outputs": [],
   "source": [
    "class Simulator(object):\n",
    "    \"\"\"Simulator Class for HMMs. \n",
    "    This is the main Class, all specific Simulators can inherit from it\n",
    "    and overwrite functions. \n",
    "    Contains Parameters\"\"\"\n",
    "    l = 1000 # Nr of the Observations\n",
    "    lats = [] # The l latent States [l]\n",
    "    pure_stats = [] # The pure, unnoisy States [l]\n",
    "    y = [] # The l observed States [l]\n",
    "     \n",
    "    def __init__(self):\n",
    "        self.stats = np.ones(self.l) # Initialize the states to -1 (i.e. Unset)\n",
    "        \n",
    "    def simulate_latent(self):\n",
    "        \"\"\"Simulate all l latent States\"\"\"\n",
    "        raise NotImplementedError(\"Implement the Simlator!!\")\n",
    "        \n",
    "    def error_model(self):\n",
    "        \"\"\"Apply error model to all l latent States\"\"\"\n",
    "        self.stats = np.array(self.pure_stats) # The Latent State is the Same as the true State\n",
    "        \n",
    "    def simulate_full(self):\n",
    "        \"\"\"Return all Statistics\"\"\"\n",
    "        self.simulate_latent()   # Apply the latent States\n",
    "        self.g = self.copyHaplo()   # Do the copying according   \n",
    "        self.g = self.apply_error() # Do and error Model\n",
    "        return\n",
    "\n",
    "#####################################################\n",
    "#####################################################\n",
    "#####################################################\n",
    "\n",
    "class BinomSim(Simulator):\n",
    "    \"\"\"Bimomial Simulator.\n",
    "    Assume equally spaced SNPs.\n",
    "    Copying: 0: From HW state. 1,...,n from Reference Data Set [n]\"\"\"\n",
    "    spacing = []    # Spacing between SNPs [in Morgan]\n",
    "    \n",
    "    roh_in = 0.001      # The rate of jumping to another Haplotype\n",
    "    roh_out = 0.01     # The rate of jumping out\n",
    "    roh_jump = 0.05    # The rate of jumping within ROH\n",
    "    \n",
    "    l = 10000        # Nr of observations\n",
    "    k = 10          # Nr of reference haplotypes\n",
    "    \n",
    "    ref_states = [] # Ref. Array of k Reference States to Copy from. [kxl]\n",
    "    \n",
    "    ref_sim = 0     # Object to Simulate Reference\n",
    "    \n",
    "    \n",
    "    def set_cons_spacing(s=0.1):\n",
    "        \"\"\"Set the spacing of SNPs\"\"\"\n",
    "        self.spacing = np.ones(self.l) * s  # Sets the constant Spacing\n",
    "    \n",
    "    def set_params(self):\n",
    "        \"\"\"Set the parameters\"\"\"\n",
    "        raise NotImplementedError(\"Implement this.\")  \n",
    "        \n",
    "    def set_ref_sim(self, sim):\n",
    "        \"\"\"Set the Reference Simulator to sim\"\"\"\n",
    "        self.ref_sim = sim\n",
    "        \n",
    "    def first_state(self):\n",
    "        \"\"\"Generate the first laten state\"\"\"\n",
    "        return 0\n",
    "        \n",
    "    def sim_copying(self):\n",
    "        \"\"\"Simulate the Vector with States to copy from\"\"\"\n",
    "        print(self.l)\n",
    "        states = -np.ones(self.l)  # Initialize all states to invalid values \n",
    "        \n",
    "        i = 0   # The current Position\n",
    "        state = self.first_state() # Generate first step\n",
    "        \n",
    "        # Iterate along line until done:\n",
    "        while i < self.l:  \n",
    "            if state == 0:\n",
    "                t, n_state = self.jump_no_roh()\n",
    "                \n",
    "            elif state >0:\n",
    "                t, n_state = self.jump_roh()\n",
    "                \n",
    "            else:\n",
    "                raise RuntimeError(\"WTF DUDE\")\n",
    "                \n",
    "            j = i + t\n",
    "            states[i:j] = state # Make it that State    \n",
    "            i, state = j, n_state # Go to next position\n",
    "        return states\n",
    "    \n",
    "    def jump_no_roh(self):\n",
    "        \"\"\"Generate length and next state not in ROH\"\"\"\n",
    "        m = 1 / self.roh_in\n",
    "        t = np.random.exponential(scale=m)\n",
    "        t = np.ceil(t).astype(\"int\")   # Round Up\n",
    "        n_state = np.random.randint(self.k) + 1 # The next state\n",
    "        return t, n_state\n",
    "    \n",
    "    def jump_roh(self):\n",
    "        \"\"\"Generate length and next state in ROH\"\"\"\n",
    "        m = 1 / (self.roh_out + self.roh_jump) # The overall rate for any jump\n",
    "        t = np.random.exponential(scale=m) # Where next event happens\n",
    "        t = np.ceil(t).astype(\"int\")   # Round Up\n",
    "        \n",
    "        if np.random.random() <  self.roh_jump * m:  # Chance of staying in\n",
    "            n_state = np.random.randint(self.k) + 1 # The next state. Could perhaps reuse prob.\n",
    "            \n",
    "        else:\n",
    "            n_state = 0 # Jump back to the origin\n",
    "        return t, n_state\n",
    "        \n",
    "    def generate_reference(self):\n",
    "        \"\"\"Generate the reference Data Set\"\"\"\n",
    "        \n",
    "        if self.ref_sim == 0:      # If not set, reset it\n",
    "            sim = BinomSimRefNoLD()\n",
    "            self.set_ref_sim(sim)\n",
    "            \n",
    "        self.ref_states = self.ref_sim.simulate_refs()\n",
    "        print(\"Finished\")\n",
    "        \n",
    "    def simulate_latent(self):\n",
    "        \"\"\"Simulate l latent States\"\"\"\n",
    "\n",
    "        ### Do a copying vector: Each state is from whom you copy\n",
    "        # Do all randomness:\n",
    "        self.lats = self.sim_copying()  # Get all latent states\n",
    "\n",
    "        \n",
    "    def draw_from_latent(self):\n",
    "        \"\"\"Draw from all latent States.\"\"\"\n",
    "        raise NotImplementedError(\"Implement This!!!\")\n",
    "    \n",
    "    def copyHaplo(self, begin, end, refs, i=-1):\n",
    "        \"\"\"Copy from Haplotypes Refs\"\"\"\n",
    "        \n",
    "        raise NotImplementedError(\"Implement This!\")\n",
    "            \n",
    "    def apply_error(self):\n",
    "        \"\"\"Apply the error model\"\"\"\n",
    "        self.y = y\n",
    "\n",
    "#####################################################\n",
    "#####################################################\n",
    "###### Reference Simulator\n",
    "\n",
    "class SimRef(object):\n",
    "    \"\"\"Class for Simulating the Reference Strings\"\"\"\n",
    "    refs = []\n",
    "    haps = []\n",
    "    \n",
    "    def simulate_refs(self):\n",
    "        \"\"\"Simulate and return Reference Strings\"\"\"\n",
    "        raise NotImplementedError(\"Implement this!\")   \n",
    "        \n",
    "    def set_params(self):\n",
    "        \"\"\"Set parameters\"\"\"\n",
    "        raise NotImplementedError(\"Implement this!\")\n",
    "    \n",
    "    def plot_ld_r2(self, haps=[], l=200, fs=18):\n",
    "        \"\"\"Plot R2 across pw. Distances of SNPs\"\"\"\n",
    "        if len(haps)==0:\n",
    "            haps=self.haps\n",
    "    \n",
    "        c = np.corrcoef(haps[:,:l], rowvar=False) # Do Correlation within 200 SNPs\n",
    "\n",
    "        k = int(np.ceil(l/2))\n",
    "\n",
    "        r2vec = np.zeros(k)\n",
    "\n",
    "\n",
    "        for i in range(k): ### Get all diagonals\n",
    "            d = np.diag(c, k=i)\n",
    "            r2 = np.nanmean(d**2) # To get r**2 Value (with NANs because sometimes no correlation)\n",
    "            r2vec[i] = r2\n",
    "\n",
    "        xarr = np.arange(k) + 1 # Make Vector of all pairwise Distances\n",
    "\n",
    "        plt.figure()\n",
    "        plt.plot(xarr, r2vec, \"bo\")\n",
    "        plt.xlabel(\"Pw. Distance [Loci]\", fontsize=fs)\n",
    "        plt.ylabel(r\"Correlation $r^2$\", fontsize=fs)\n",
    "        plt.axhline(y=0, linewidth=2)\n",
    "        plt.show()\n",
    "        \n",
    "class BinomSimRefNoLD(SimRef):\n",
    "    \"\"\"Simulate References under a Binomial Model.\n",
    "    For the moment: Do not do any LD Structure\"\"\"\n",
    "    h = 5     # Nr of different Haplotypes\n",
    "    n = 100   # Nr of overall Haplotypes\n",
    "    l = 1000  # Length of the Haplotypes\n",
    "    p = 0.5   # Mean Allele Frequency\n",
    "    \n",
    "    def set_params(self, h=5, n=100, l=1000, p=0.5):\n",
    "        \"\"\"Set Parameters for reference\"\"\"\n",
    "        self.h=h\n",
    "        self.n=n\n",
    "        self.l=l\n",
    "        self.p=p\n",
    "    \n",
    "    def simulate_refs(self):\n",
    "        \"\"\"Simulate References under a Binomial Model\"\"\"\n",
    "        h, n, l = self.h, self.n, self.l  # For better Readability\n",
    "        \n",
    "        ### Simulate effective Haplotypes \n",
    "        e_haps = np.random.binomial(1, 0.5, size=(h, l))\n",
    "        haps = np.zeros((n, l), dtype=\"int\") # Set to zero\n",
    "        \n",
    "        for i in range(h):\n",
    "            haps[i::h] = e_haps[i,:] # Set every ith entry\n",
    "\n",
    "        self.haps = haps\n",
    "        return haps"
   ]
  },
  {
   "cell_type": "code",
   "execution_count": 54,
   "metadata": {},
   "outputs": [
    {
     "name": "stdout",
     "output_type": "stream",
     "text": [
      "10000\n"
     ]
    },
    {
     "data": {
      "image/png": "[encoded data removed]",
      "text/plain": [
       "<matplotlib.figure.Figure at 0x7f05edc76208>"
      ]
     },
     "metadata": {
      "needs_background": "light"
     },
     "output_type": "display_data"
    },
    {
     "name": "stdout",
     "output_type": "stream",
     "text": [
      "CPU times: user 287 ms, sys: 133 ms, total: 420 ms\n",
      "Wall time: 251 ms\n"
     ]
    }
   ],
   "source": [
    "%%time\n",
    "sim = BinomSim()\n",
    "sim.simulate_latent() # Simulate the Latent States\n",
    "\n",
    "\n",
    "### Do the Plot\n",
    "fs = 14\n",
    "plt.figure(figsize=(12,4))\n",
    "x = np.arange(len(sim.lats))\n",
    "plt.plot(sim.lats, linewidth=2, color=\"maroon\") # For Plotting them\n",
    "plt.ylabel(\"State\", fontsize=fs)\n",
    "plt.xlabel(\"SNP\", fontsize=fs)\n",
    "plt.ylim([-0.9,10.5])\n",
    "plt.show()"
   ]
  },
  {
   "cell_type": "markdown",
   "metadata": {},
   "source": [
    "## Mini Area 51"
   ]
  },
  {
   "cell_type": "code",
   "execution_count": 77,
   "metadata": {},
   "outputs": [
    {
     "data": {
      "image/png": "[encoded data removed]",
      "text/plain": [
       "<matplotlib.figure.Figure at 0x7f05ede3de48>"
      ]
     },
     "metadata": {
      "needs_background": "light"
     },
     "output_type": "display_data"
    },
    {
     "data": {
      "image/png": "[encoded data removed]",
      "text/plain": [
       "<matplotlib.figure.Figure at 0x7f06087d8978>"
      ]
     },
     "metadata": {
      "needs_background": "light"
     },
     "output_type": "display_data"
    }
   ],
   "source": [
    "# Test the Binomial Sample\n",
    "test = BinomSimRefNoLD()\n",
    "test.set_params(h=2)\n",
    "test.simulate_refs()\n",
    "test.haps\n",
    "\n",
    "fs = 16\n",
    "\n",
    "# Make quick Figure to test it:\n",
    "plt.figure(figsize=(10,4))\n",
    "plt.imshow(test.haps)\n",
    "plt.xlabel(\"SNP\", fontsize=fs)\n",
    "plt.ylabel(\"Haplotype\",fontsize=fs)\n",
    "plt.savefig(\"../figures_test/haplotypes.pdf\", bbox_inches = 'tight', pad_inches = 0)\n",
    "plt.show()\n",
    "\n",
    "test.plot_ld_r2()"
   ]
  },
  {
   "cell_type": "code",
   "execution_count": 48,
   "metadata": {},
   "outputs": [],
   "source": [
    "#def ld_curce(mat):\n",
    "\n"
   ]
  },
  {
   "cell_type": "code",
   "execution_count": 49,
   "metadata": {},
   "outputs": [
    {
     "data": {
      "image/png": "[encoded data removed]",
      "text/plain": [
       "<matplotlib.figure.Figure at 0x7f05edf72a90>"
      ]
     },
     "metadata": {
      "needs_background": "light"
     },
     "output_type": "display_data"
    }
   ],
   "source": [
    "mat = test.haps  # Do it for the Data Matrix\n",
    "plot_ld_r2(mat)"
   ]
  },
  {
   "cell_type": "code",
   "execution_count": 43,
   "metadata": {},
   "outputs": [],
   "source": [
    "a = False"
   ]
  },
  {
   "cell_type": "code",
   "execution_count": null,
   "metadata": {},
   "outputs": [],
   "source": [
    "np.corrcoef()\n",
    "np.co"
   ]
  }
 ],
 "metadata": {
  "kernelspec": {
   "display_name": "Python 3",
   "language": "python",
   "name": "python3"
  },
  "language_info": {
   "codemirror_mode": {
    "name": "ipython",
    "version": 3
   },
   "file_extension": ".py",
   "mimetype": "text/x-python",
   "name": "python",
   "nbconvert_exporter": "python",
   "pygments_lexer": "ipython3",
   "version": "3.6.7"
  }
 },
 "nbformat": 4,
 "nbformat_minor": 2
}
