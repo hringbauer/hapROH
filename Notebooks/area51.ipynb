{
 "cells": [
  {
   "cell_type": "markdown",
   "metadata": {},
   "source": [
    "# Area 51\n",
    "Test Code Chunks here before going into Production."
   ]
  },
  {
   "cell_type": "markdown",
   "metadata": {},
   "source": [
    "## Simulator"
   ]
  },
  {
   "cell_type": "code",
   "execution_count": 1,
   "metadata": {},
   "outputs": [],
   "source": [
    "import numpy as np\n",
    "import matplotlib.pyplot as plt"
   ]
  },
  {
   "cell_type": "code",
   "execution_count": 30,
   "metadata": {},
   "outputs": [],
   "source": [
    "class Simulator(object):\n",
    "    \"\"\"Simulator Class for HMMs. \n",
    "    This is the main Class, all specific Simulators can inherit from it\n",
    "    and overwrite functions. \n",
    "    Contains Parameters\"\"\"\n",
    "    l = 1000 # Nr of the Observations\n",
    "    lats = [] # The l latent States [l]\n",
    "    pure_stats = [] # The pure, unnoisy States [l]\n",
    "    y = [] # The l observed States [l]\n",
    "     \n",
    "    def __init__(self):\n",
    "        self.stats = np.ones(self.l) # Initialize the states to -1 (i.e. Unset)\n",
    "        \n",
    "    def simulate_latent(self):\n",
    "        \"\"\"Simulate all l latent States\"\"\"\n",
    "        raise NotImplementedError(\"Implement the Simlator!!\")\n",
    "        \n",
    "    def error_model(self):\n",
    "        \"\"\"Apply error model to all l latent States\"\"\"\n",
    "        self.stats = np.array(self.pure_stats) # The Latent State is the Same as the true State\n",
    "        \n",
    "    def simulate_full(self):\n",
    "        \"\"\"Return all Statistics\"\"\"\n",
    "        self.simulate_latent()   # Apply the latent States\n",
    "        self.g = self.copyHaplo()   # Do the copying according   \n",
    "        self.g = self.apply_error() # Do and error Model\n",
    "        return\n",
    "\n",
    "#####################################################\n",
    "#####################################################\n",
    "#####################################################\n",
    "\n",
    "class BinomSim(Simulator):\n",
    "    \"\"\"Bimomial Simulator.\n",
    "    Assume equally spaced SNPs.\n",
    "    Copying: 0: From HW state. 1,...,n from Reference Data Set [n]\"\"\"\n",
    "    spacing = []    # Spacing between SNPs [in Morgan]\n",
    "    \n",
    "    roh_in = 0.001      # The rate of jumping to another Haplotype\n",
    "    roh_out = 0.01     # The rate of jumping out\n",
    "    roh_jump = 0.05    # The rate of jumping within ROH\n",
    "    \n",
    "    l = 10000        # Nr of observations\n",
    "    k = 10          # Nr of reference haplotypes\n",
    "    \n",
    "    ref_states = [] # Ref. Array of k Reference States to Copy from. [kxl]\n",
    "    \n",
    "    ref_sim = 0     # Object to Simulate Reference\n",
    "    \n",
    "    \n",
    "    def set_cons_spacing(s=0.1):\n",
    "        \"\"\"Set the spacing of SNPs\"\"\"\n",
    "        self.spacing = np.ones(self.l) * s  # Sets the constant Spacing\n",
    "    \n",
    "    def set_params(self):\n",
    "        \"\"\"Set the parameters\"\"\"\n",
    "        raise NotImplementedError(\"Implement this.\")  \n",
    "        \n",
    "    def set_ref_sim(self, sim):\n",
    "        \"\"\"Set the Reference Simulator to sim\"\"\"\n",
    "        self.ref_sim = sim\n",
    "        \n",
    "    def first_state(self):\n",
    "        \"\"\"Generate the first laten state\"\"\"\n",
    "        return 0\n",
    "        \n",
    "    def sim_copying(self):\n",
    "        \"\"\"Simulate the Vector with States to copy from\"\"\"\n",
    "        print(self.l)\n",
    "        states = -np.ones(self.l)  # Initialize all states to invalid values \n",
    "        \n",
    "        i = 0   # The current Position\n",
    "        state = self.first_state() # Generate first step\n",
    "        \n",
    "        # Iterate along line until done:\n",
    "        while i < self.l:  \n",
    "            if state == 0:\n",
    "                t, n_state = self.jump_no_roh()\n",
    "                \n",
    "            elif state >0:\n",
    "                t, n_state = self.jump_roh()\n",
    "                \n",
    "            else:\n",
    "                raise RuntimeError(\"WTF DUDE\")\n",
    "                \n",
    "            j = i + t\n",
    "            states[i:j] = state # Make it that State    \n",
    "            i, state = j, n_state # Go to next position\n",
    "        return states\n",
    "    \n",
    "    def jump_no_roh(self):\n",
    "        \"\"\"Generate length and next state not in ROH\"\"\"\n",
    "        m = 1 / self.roh_in\n",
    "        t = np.random.exponential(scale=m)\n",
    "        t = np.ceil(t).astype(\"int\")   # Round Up\n",
    "        n_state = np.random.randint(self.k) + 1 # The next state\n",
    "        return t, n_state\n",
    "    \n",
    "    def jump_roh(self):\n",
    "        \"\"\"Generate length and next state in ROH\"\"\"\n",
    "        m = 1 / (self.roh_out + self.roh_jump) # The overall rate for any jump\n",
    "        t = np.random.exponential(scale=m)\n",
    "        t = np.ceil(t).astype(\"int\")   # Round Up\n",
    "        \n",
    "        if np.random.random() <  self.roh_jump * m:  # Chance of staying in\n",
    "            n_state = np.random.randint(self.k) + 1 # The next state. Could perhaps reuse prob.\n",
    "            \n",
    "        else:\n",
    "            n_state = 0 # Jump back to the origin\n",
    "        return t, n_state\n",
    "        \n",
    "    def generate_reference(self):\n",
    "        \"\"\"Generate the reference Data Set\"\"\"\n",
    "        \n",
    "        if self.ref_sim == 0:      # If not set, reset it\n",
    "            sim = BinomSimRefNoLD()\n",
    "            self.set_ref_sim(sim)\n",
    "            \n",
    "        self.ref_states = self.ref_sim.simulate_refs()\n",
    "        print(\"Finished\")\n",
    "        \n",
    "    def simulate_latent(self):\n",
    "        \"\"\"Simulate l latent States\"\"\"\n",
    "\n",
    "        ### Do a copying vector: Each state is from whom you copy\n",
    "        # Do all randomness:\n",
    "        self.lats = self.sim_copying()  # Get all latent states\n",
    "        \n",
    "\n",
    "        \n",
    "    def draw_from_latent(self):\n",
    "        \"\"\"Draw from all latent States.\"\"\"\n",
    "        raise NotImplementedError(\"Implement This!!!\")\n",
    "    \n",
    "    def copyHaplo(self, begin, end, refs, i=-1):\n",
    "        \"\"\"Copy from Haplotypes Refs\"\"\"\n",
    "        \n",
    "        self.y =  \n",
    "            \n",
    "    def apply_error(self):\n",
    "        \"\"\"Apply the error model\"\"\"\n",
    "        self.y = y\n",
    "\n",
    "#####################################################\n",
    "#####################################################\n",
    "###### Reference Simulator\n",
    "\n",
    "class SimRef(object):\n",
    "    \"\"\"Class for Simulating the Reference Strings\"\"\"\n",
    "    refs = []\n",
    "    \n",
    "    def simulate_refs(self):\n",
    "        \"\"\"Simulate and return Reference Strings\"\"\"\n",
    "        raise NotImplementedError(\"Implement this!\")   \n",
    "        \n",
    "    def set_params(self):\n",
    "        \"\"\"Set parameters\"\"\"\n",
    "        raise NotImplementedError(\"Implement this!\")\n",
    "        \n",
    "class BinomSimRefNoLD(SimRef):\n",
    "    \"\"\"Simulate References under a Binomial Model.\n",
    "    For the moment: Do not do any LD Structure\"\"\"\n",
    "    h = 5     # Nr of different Haplotypes\n",
    "    n = 100   # Nr of overall Haplotypes\n",
    "    l = 1000  # Length of the Haplotypes\n",
    "    p = 0.5   # Mean Allele Frequency\n",
    "    \n",
    "    def simulate_refs(self):\n",
    "        \"\"\"Simulate References under a Binomial Model\"\"\"\n",
    "        h, n, l = self.h, self.n, self.l  # For better Readability\n",
    "        \n",
    "        ### Simulate effective Haplotypes \n",
    "        e_haps = np.random.binomial(1, 0.5, size=(h, l))\n",
    "        haps = np.zeros((n, l), dtype=\"int\") # Set to zero\n",
    "        \n",
    "        for i in range(h):\n",
    "            haps[i::h] = e_haps[i,:] # Set every ith entry\n",
    "\n",
    "        self.haps = haps\n",
    "        return haps"
   ]
  },
  {
   "cell_type": "code",
   "execution_count": 45,
   "metadata": {},
   "outputs": [
    {
     "name": "stdout",
     "output_type": "stream",
     "text": [
      "10000\n"
     ]
    },
    {
     "data": {
      "image/png": "[encoded data removed]",
      "text/plain": [
       "<matplotlib.figure.Figure at 0x7f5ea5121ac8>"
      ]
     },
     "metadata": {
      "needs_background": "light"
     },
     "output_type": "display_data"
    },
    {
     "name": "stdout",
     "output_type": "stream",
     "text": [
      "CPU times: user 218 ms, sys: 99.3 ms, total: 317 ms\n",
      "Wall time: 198 ms\n"
     ]
    }
   ],
   "source": [
    "%%time\n",
    "sim = BinomSim()\n",
    "sim.simulate_latent() # Simulate the Latent States\n",
    "\n",
    "\n",
    "### Do the Plot\n",
    "fs = 14\n",
    "plt.figure(figsize=(12,4))\n",
    "x = np.arange(len(sim.lats))\n",
    "plt.plot(sim.lats, linewidth=2, color=\"maroon\") # For Plotting them\n",
    "plt.ylabel(\"State\", fontsize=fs)\n",
    "plt.xlabel(\"SNP\", fontsize=fs)\n",
    "plt.ylim([-0.9,10.5])\n",
    "plt.show()"
   ]
  },
  {
   "cell_type": "markdown",
   "metadata": {},
   "source": [
    "## Mini Area 51"
   ]
  },
  {
   "cell_type": "code",
   "execution_count": 46,
   "metadata": {},
   "outputs": [
    {
     "data": {
      "image/png": "[encoded data removed]",
      "text/plain": [
       "<matplotlib.figure.Figure at 0x7f5ea54c5630>"
      ]
     },
     "metadata": {
      "needs_background": "light"
     },
     "output_type": "display_data"
    }
   ],
   "source": [
    "# Test the Binomial Sample\n",
    "test = BinomSimRefNoLD()\n",
    "test.simulate_refs()\n",
    "test.haps\n",
    "\n",
    "fs = 16\n",
    "\n",
    "# Make quick Figure to test it:\n",
    "\n",
    "plt.figure(figsize=(10,4))\n",
    "plt.imshow(test.haps)\n",
    "plt.xlabel(\"SNP\", fontsize=fs)\n",
    "plt.ylabel(\"Haplotype\",fontsize=fs)\n",
    "plt.savefig(\"../figures_test/haplotypes.pdf\", bbox_inches = 'tight', pad_inches = 0)\n",
    "plt.show()"
   ]
  },
  {
   "cell_type": "code",
   "execution_count": 23,
   "metadata": {},
   "outputs": [
    {
     "name": "stdout",
     "output_type": "stream",
     "text": [
      "CPU times: user 865 ms, sys: 144 ms, total: 1.01 s\n",
      "Wall time: 1.01 s\n"
     ]
    },
    {
     "data": {
      "text/plain": [
       "array([0.18212874, 0.62608027, 0.74362044, ..., 0.6963877 , 0.93129171,\n",
       "       0.94723996])"
      ]
     },
     "execution_count": 23,
     "metadata": {},
     "output_type": "execute_result"
    }
   ],
   "source": [
    "%time np.random.random(100000000)"
   ]
  },
  {
   "cell_type": "code",
   "execution_count": 24,
   "metadata": {},
   "outputs": [
    {
     "name": "stdout",
     "output_type": "stream",
     "text": [
      "CPU times: user 30.7 s, sys: 2.8 s, total: 33.5 s\n",
      "Wall time: 51.3 s\n"
     ]
    }
   ],
   "source": [
    "%time r = [np.random.random() for _ in range(100000000)]"
   ]
  },
  {
   "cell_type": "code",
   "execution_count": 33,
   "metadata": {},
   "outputs": [
    {
     "data": {
      "text/plain": [
       "4.995382929367101"
      ]
     },
     "execution_count": 33,
     "metadata": {},
     "output_type": "execute_result"
    }
   ],
   "source": [
    "s = 5\n",
    "a = np.random.exponential(scale=s, size=50000)\n",
    "np.mean(a)"
   ]
  },
  {
   "cell_type": "code",
   "execution_count": 43,
   "metadata": {},
   "outputs": [],
   "source": [
    "a = False"
   ]
  },
  {
   "cell_type": "code",
   "execution_count": 11,
   "metadata": {},
   "outputs": [
    {
     "data": {
      "text/plain": [
       "array([2, 1, 5, 3, 5, 5, 4, 1, 4, 2, 4, 2, 1, 4, 3, 4, 1, 5, 4, 5, 2, 2,\n",
       "       4, 3, 4, 4, 5, 3, 4, 4, 3, 3, 2, 3, 1, 1, 3, 5, 5, 1, 2, 3, 1, 4,\n",
       "       5, 1, 4, 3, 5, 3, 4, 4, 2, 1, 1, 5, 2, 1, 2, 3, 1, 4, 4, 1, 5, 2,\n",
       "       5, 4, 2, 5, 1, 1, 4, 2, 5, 2, 1, 2, 1, 5, 2, 2, 1, 1, 4, 3, 5, 2,\n",
       "       1, 5, 1, 4, 4, 2, 1, 4, 2, 1, 2, 4])"
      ]
     },
     "execution_count": 11,
     "metadata": {},
     "output_type": "execute_result"
    }
   ],
   "source": [
    "np.random.randint(5, size=100) + 1"
   ]
  },
  {
   "cell_type": "code",
   "execution_count": null,
   "metadata": {},
   "outputs": [],
   "source": []
  }
 ],
 "metadata": {
  "kernelspec": {
   "display_name": "Python 3",
   "language": "python",
   "name": "python3"
  },
  "language_info": {
   "codemirror_mode": {
    "name": "ipython",
    "version": 3
   },
   "file_extension": ".py",
   "mimetype": "text/x-python",
   "name": "python",
   "nbconvert_exporter": "python",
   "pygments_lexer": "ipython3",
   "version": "3.6.7"
  }
 },
 "nbformat": 4,
 "nbformat_minor": 2
}
