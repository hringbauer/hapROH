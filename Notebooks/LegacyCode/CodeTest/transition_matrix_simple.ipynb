{
 "cells": [
  {
   "cell_type": "markdown",
   "metadata": {},
   "source": [
    "# Test whether the simplification of the Transition Matrix works"
   ]
  },
  {
   "cell_type": "code",
   "execution_count": 1,
   "metadata": {},
   "outputs": [],
   "source": [
    "import numpy as np\n",
    "from scipy.linalg import expm"
   ]
  },
  {
   "cell_type": "markdown",
   "metadata": {},
   "source": [
    "# Load the traditional Transition Matrix\n",
    "Transition matrix t[i,j]: Infinitesimal rate of jumping from state i to state j"
   ]
  },
  {
   "cell_type": "code",
   "execution_count": 2,
   "metadata": {},
   "outputs": [],
   "source": [
    "roh_in = 0.0005     # The rate of jumping to another Haplotype\n",
    "roh_out = 0.001     # The rate of jumping out\n",
    "roh_jump = 0.02   # The rate of jumping within ROH\n",
    "n=20 # Nr of Reference Haplotypes"
   ]
  },
  {
   "cell_type": "code",
   "execution_count": 3,
   "metadata": {},
   "outputs": [],
   "source": [
    "def calc_transitions(rate=True):\n",
    "        \"\"\"Return Transition Matrix to exponate.\n",
    "        n: Nr of Reference Haplotypes\"\"\"\n",
    "\n",
    "        t_mat = -np.ones((n + 1, n + 1))  # Initialize Transition Matrix\n",
    "\n",
    "        t_mat[1:, 0] = roh_out  # The rate of jumping out roh\n",
    "        t_mat[0, 1:] = roh_in / n  # Jumping into any ROH State\n",
    "        t_mat[1:, 1:] = roh_jump / n  # Jumping between ROH State\n",
    "\n",
    "        ### Do the Diagonal (do the usual model - for inf. substract 1)\n",
    "        di = np.diag_indices(n + 1)\n",
    "        d = 1 - rate  # Whether to use 1 one the diagonal\n",
    "        #print(f\"Diagonal Factor: {d}\")\n",
    "        t_mat[di] =  d - roh_out - roh_jump + roh_jump / (n)  # Don't forget the self jump\n",
    "        t_mat[0, 0] = d  - roh_in   # The rate of staying in diploid\n",
    "\n",
    "        ### Sanity Check if everything was filled correctly\n",
    "        if rate == True:\n",
    "            assert(np.all(np.sum(t_mat, axis=1) > -0.0001))\n",
    "            assert(np.all(np.sum(t_mat, axis=1) <  0.0001))\n",
    "        return t_mat"
   ]
  },
  {
   "cell_type": "code",
   "execution_count": 4,
   "metadata": {},
   "outputs": [
    {
     "name": "stdout",
     "output_type": "stream",
     "text": [
      "(21, 21)\n"
     ]
    }
   ],
   "source": [
    "t = calc_transitions()\n",
    "print(np.shape(t))"
   ]
  },
  {
   "cell_type": "code",
   "execution_count": 5,
   "metadata": {},
   "outputs": [
    {
     "data": {
      "text/plain": [
       "array([[9.99950004e-01, 2.49981251e-06, 2.49981251e-06],\n",
       "       [9.99925004e-05, 9.98002094e-01, 9.98902021e-05],\n",
       "       [9.99925004e-05, 9.98902021e-05, 9.98002094e-01]])"
      ]
     },
     "execution_count": 5,
     "metadata": {},
     "output_type": "execute_result"
    }
   ],
   "source": [
    "e = expm(t*0.1)    # The exact, exponentiated Version\n",
    "e[:3,:3]"
   ]
  },
  {
   "cell_type": "code",
   "execution_count": 6,
   "metadata": {},
   "outputs": [
    {
     "data": {
      "text/plain": [
       "array([[9.9995e-01, 2.5000e-06, 2.5000e-06],\n",
       "       [1.0000e-04, 9.9800e-01, 1.0000e-04],\n",
       "       [1.0000e-04, 1.0000e-04, 9.9800e-01]])"
      ]
     },
     "execution_count": 6,
     "metadata": {},
     "output_type": "execute_result"
    }
   ],
   "source": [
    "np.eye(3) + 0.1 * t[:3,:3]   # The older, linearized Version"
   ]
  },
  {
   "cell_type": "markdown",
   "metadata": {},
   "source": [
    "# Do the Simplified Version:"
   ]
  },
  {
   "cell_type": "code",
   "execution_count": 54,
   "metadata": {},
   "outputs": [
    {
     "data": {
      "text/plain": [
       "array([[-5.00e-04,  2.50e-05,  4.75e-04],\n",
       "       [ 1.00e-03, -2.00e-02,  1.90e-02],\n",
       "       [ 1.00e-03,  1.00e-03, -2.00e-03]])"
      ]
     },
     "execution_count": 54,
     "metadata": {},
     "output_type": "execute_result"
    }
   ],
   "source": [
    "t_simple = prep_3x3matrix(t)\n",
    "t_simple"
   ]
  },
  {
   "cell_type": "code",
   "execution_count": 12,
   "metadata": {},
   "outputs": [
    {
     "data": {
      "text/plain": [
       "array([ 0.00000000e+00,  0.00000000e+00, -8.67361738e-19])"
      ]
     },
     "execution_count": 12,
     "metadata": {},
     "output_type": "execute_result"
    }
   ],
   "source": [
    "np.sum(t_simple, axis=1)  ### Sanity Check. Should sum to 0!"
   ]
  },
  {
   "cell_type": "markdown",
   "metadata": {},
   "source": [
    "# Compare the different ways of calculating the Matrix Exponential"
   ]
  },
  {
   "cell_type": "code",
   "execution_count": 13,
   "metadata": {},
   "outputs": [
    {
     "data": {
      "text/plain": [
       "array([[9.95037313e-01, 2.48134340e-04, 2.48134340e-04],\n",
       "       [9.92537360e-03, 8.19558765e-01, 8.97451902e-03],\n",
       "       [9.92537360e-03, 8.97451902e-03, 8.19558765e-01]])"
      ]
     },
     "execution_count": 13,
     "metadata": {},
     "output_type": "execute_result"
    }
   ],
   "source": [
    "e = expm(t*10)    # The exact, exponentiated Version of the full Matrix\n",
    "e[:3,:3]"
   ]
  },
  {
   "cell_type": "code",
   "execution_count": 49,
   "metadata": {},
   "outputs": [
    {
     "data": {
      "text/plain": [
       "array([[0.95356933, 0.00232153, 0.00232153],\n",
       "       [0.09286135, 0.16169054, 0.03923411],\n",
       "       [0.09286135, 0.03923411, 0.86790454]])"
      ]
     },
     "execution_count": 49,
     "metadata": {},
     "output_type": "execute_result"
    }
   ],
   "source": [
    "e_new = expm(t_simple * 100)\n",
    "e_new[:2,2] = e_new[:2,2] / (n-1)  # Normalize to transition rate for non-collapsed state\n",
    "e_new[:3, :3]"
   ]
  },
  {
   "cell_type": "markdown",
   "metadata": {},
   "source": [
    "## Only the 2,2 entry, which is \"staying in a different ROH\" State is obviously different. But this one is never used in my calculations anyways"
   ]
  },
  {
   "cell_type": "markdown",
   "metadata": {},
   "source": [
    "# Try with Eigenvalue Decomposition:"
   ]
  },
  {
   "cell_type": "code",
   "execution_count": 66,
   "metadata": {},
   "outputs": [],
   "source": [
    "def prep_3x3matrix(t):\n",
    "    \"\"\"Prepares the 3x3 Matrix\"\"\"\n",
    "    n = np.shape(t)[0] - 1 # Infer the Number of reference States\n",
    "    t_simple = -np.ones((3,3))  # Initiate to -1 (for later Sanity Check if everything is filled)\n",
    "    t_simple[:2, :2] = t[:2, :2]\n",
    "    t_simple[2, 2]   = np.sum(t[2, 2:]) # The probability of staying when in there\n",
    "    t_simple[:2, 2]  = t[:2,2] * (n-1) # Jumping into 3rd state: Sum over all reference states\n",
    "    t_simple[2,:2] = t[2,:2] # The jumping out probability is the same\n",
    "    return t_simple\n",
    "\n",
    "\n",
    "def exponentiate_r(rates, rec_v):\n",
    "    \"\"\"Calculates exponentiation of the rates matrix with rec_v\n",
    "    rates: 2D Matrix.\n",
    "    rec_v: Array of length l\"\"\"\n",
    "    eva, evec = np.linalg.eig(rates) # Do the Eigenvalue Decomposition\n",
    "    assert(np.max(eva)<0)   # Some Sanity Check that Matrix is valid rate Matrix\n",
    "    evec_r = np.linalg.inv(evec)    # Do the Inversion\n",
    "    \n",
    "    d = np.exp(rec_v[:, None] * eva)     # Create vector of the exponentiated diagonals \n",
    "    # Use some Einstein Sum Convention Fun (C Speed)\n",
    "    res = np.einsum('...ik, ...k, ...kj ->...ij', evec, d, evec_r)\n",
    "    return res"
   ]
  },
  {
   "cell_type": "markdown",
   "metadata": {},
   "source": [
    "# Do the testing for Transformation Matrix"
   ]
  },
  {
   "cell_type": "code",
   "execution_count": 71,
   "metadata": {},
   "outputs": [
    {
     "data": {
      "text/plain": [
       "array([[[9.99500375e-01, 2.49812594e-05, 4.74643928e-04],\n",
       "        [9.99250375e-04, 9.80208054e-01, 1.87926958e-02],\n",
       "        [9.99250375e-04, 9.89089253e-04, 9.98011660e-01]],\n",
       "\n",
       "       [[9.95037313e-01, 2.48134340e-04, 4.71455246e-03],\n",
       "        [9.92537360e-03, 8.19558765e-01, 1.70515861e-01],\n",
       "        [9.92537360e-03, 8.97451902e-03, 9.81100107e-01]],\n",
       "\n",
       "       [[9.53569325e-01, 2.32153373e-03, 4.41091408e-02],\n",
       "        [9.28613490e-02, 1.61690539e-01, 7.45448112e-01],\n",
       "        [9.28613490e-02, 3.92341111e-02, 8.67904540e-01]]])"
      ]
     },
     "execution_count": 71,
     "metadata": {},
     "output_type": "execute_result"
    }
   ],
   "source": [
    "r_vec = np.array([1, 10, 100])\n",
    "t_simple = prep_3x3matrix(t)\n",
    "r = exponentiate_r(t_simple, r_vec)\n",
    "r"
   ]
  },
  {
   "cell_type": "code",
   "execution_count": 69,
   "metadata": {},
   "outputs": [
    {
     "data": {
      "text/plain": [
       "array([[[9.99500375e-01, 2.49812594e-05, 4.74643928e-04],\n",
       "        [9.99250375e-04, 9.80208054e-01, 1.87926958e-02],\n",
       "        [9.99250375e-04, 9.89089253e-04, 9.98011660e-01]],\n",
       "\n",
       "       [[9.95037313e-01, 2.48134340e-04, 4.71455246e-03],\n",
       "        [9.92537360e-03, 8.19558765e-01, 1.70515861e-01],\n",
       "        [9.92537360e-03, 8.97451902e-03, 9.81100107e-01]],\n",
       "\n",
       "       [[9.53569325e-01, 2.32153373e-03, 4.41091408e-02],\n",
       "        [9.28613490e-02, 1.61690539e-01, 7.45448112e-01],\n",
       "        [9.28613490e-02, 3.92341111e-02, 8.67904540e-01]]])"
      ]
     },
     "execution_count": 69,
     "metadata": {},
     "output_type": "execute_result"
    }
   ],
   "source": [
    "r2 = np.array([expm(t_simple*r) for r in r_vec])\n",
    "r2"
   ]
  },
  {
   "cell_type": "code",
   "execution_count": 67,
   "metadata": {},
   "outputs": [
    {
     "name": "stdout",
     "output_type": "stream",
     "text": [
      "7.71 ms ± 1.23 ms per loop (mean ± std. dev. of 7 runs, 100 loops each)\n"
     ]
    }
   ],
   "source": [
    "r_vec = np.arange(10000)\n",
    "%timeit exponentiate_r(t_simple, r_vec)"
   ]
  },
  {
   "cell_type": "code",
   "execution_count": 76,
   "metadata": {},
   "outputs": [],
   "source": [
    "rr = exponentiate_r(t_simple, r_vec)"
   ]
  },
  {
   "cell_type": "code",
   "execution_count": null,
   "metadata": {},
   "outputs": [],
   "source": []
  }
 ],
 "metadata": {
  "kernelspec": {
   "display_name": "Python 3",
   "language": "python",
   "name": "python3"
  },
  "language_info": {
   "codemirror_mode": {
    "name": "ipython",
    "version": 3
   },
   "file_extension": ".py",
   "mimetype": "text/x-python",
   "name": "python",
   "nbconvert_exporter": "python",
   "pygments_lexer": "ipython3",
   "version": "3.6.7"
  }
 },
 "nbformat": 4,
 "nbformat_minor": 2
}
