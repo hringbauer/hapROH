{
 "cells": [
  {
   "cell_type": "markdown",
   "metadata": {},
   "source": [
    "# Vignette of plotting the likelihood of pop size estimate\n",
    "In this vignette you will learn how to estimate effective pop sizes from ROH in specific length bins. This model assumes as panmictic population, so think of this estimates as the size of the ancestry pool at the time depth of the co-ancestry of the ROH you are fitting. The model used is described in the Supplement of https://doi.org/10.1101/2020.06.01.126730 and using the same framework introduced in https://www.genetics.org/content/205/3/1335\n",
    "\n",
    "@author: Harald Ringbauer"
   ]
  },
  {
   "cell_type": "code",
   "execution_count": 1,
   "metadata": {},
   "outputs": [],
   "source": [
    "import os as os\n",
    "import pandas as pd"
   ]
  },
  {
   "cell_type": "markdown",
   "metadata": {},
   "source": [
    "## Set the path\n",
    "You can set the path here to the path you want to work in (relative data loads will be done from there)"
   ]
  },
  {
   "cell_type": "code",
   "execution_count": 2,
   "metadata": {},
   "outputs": [
    {
     "name": "stdout",
     "output_type": "stream",
     "text": [
      "Set path to: /mnt/archgen/users/hringbauer/git/hapROH/Notebooks/Vignettes\n"
     ]
    }
   ],
   "source": [
    "### Fill in your own path here!\n",
    "path = \"/mnt/archgen/users/hringbauer/git/hapROH/Notebooks/Vignettes/\"  # The Path to Package Midway Cluster\n",
    "os.chdir(path)  # Set the right Path (in line with Atom default)\n",
    "print(f\"Set path to: {os.getcwd()}\") # Show the current working directory. Should be HAPSBURG/Notebooks/ParallelRuns"
   ]
  },
  {
   "cell_type": "markdown",
   "metadata": {},
   "source": [
    "# Load the data for the MLE analysis\n",
    "We can analyse any set of individuals (including sets of a single individual). One has to load the ROH of these (as a list of lists), and passes them on to the MLE object.\n",
    "\n",
    "The example ROH data here is hapROH output from the `./callROH_vignette` for 8 Levant Neolithic Chalcolithic individuals, run on Eigenstrat pseudo-haploid aDNA data that can be downloaded from `https://reich.hms.harvard.edu/sites/reich.hms.harvard.edu/files/inline-files/Levant_ChL.tar.gz`. The code here can be easily adapted to the ROH output from any set of indivdiuals."
   ]
  },
  {
   "cell_type": "code",
   "execution_count": 3,
   "metadata": {},
   "outputs": [],
   "source": [
    "sys.path.insert(0, \"/mnt/archgen/users/hringbauer/git/hapROH/package\")  ### Leipzig  Development Version Harald\n",
    "from hapsburg.PackagesSupport.fit_ne import MLE_ROH_Ne, load_roh_vec"
   ]
  },
  {
   "cell_type": "code",
   "execution_count": 4,
   "metadata": {},
   "outputs": [
    {
     "name": "stdout",
     "output_type": "stream",
     "text": [
      "Loaded 8 IIDs\n"
     ]
    }
   ],
   "source": [
    "df1 = pd.read_csv(\"./ExampleOutput/combined_roh05.csv\", sep='\\t')\n",
    "df2 = df1[df1[\"sum_roh>20\"]<50] # Remove close-kin consanguineous individuals - 50 cm in total of very long ROH (>20cm) is the cutoff chosen here.\n",
    "iids = df2[\"iid\"].values # Load list of all iids\n",
    "print(f\"Loaded {len(iids)} IIDs\")"
   ]
  },
  {
   "cell_type": "code",
   "execution_count": 10,
   "metadata": {},
   "outputs": [
    {
     "data": {
      "text/plain": [
       "array(['I1170', 'I1166', 'I1160', 'I0644', 'I1152', 'I1168', 'I1165',\n",
       "       'I1182'], dtype=object)"
      ]
     },
     "execution_count": 10,
     "metadata": {},
     "output_type": "execute_result"
    }
   ],
   "source": [
    "iids"
   ]
  },
  {
   "cell_type": "markdown",
   "metadata": {},
   "source": [
    "### Load ROH to analyze\n",
    "This step requires that the individuals to analyse have been run with hapROH. Check the `callROH_vignette`\n",
    "It loads all ROH lengths - in the step below you can define which lengths to actually fit."
   ]
  },
  {
   "cell_type": "code",
   "execution_count": 7,
   "metadata": {},
   "outputs": [],
   "source": [
    "roh_vec = load_roh_vec(iids=iids, base_path = \"./ExampleOutput/\", suffix=\"_roh_full.csv\")"
   ]
  },
  {
   "cell_type": "markdown",
   "metadata": {},
   "source": [
    "# Use Maximum Likelihood to fit Ne\n",
    "Having the roh_vec loaded, now we can fit Ne. We use a class implemented in hapROH for that purpose. This retuns a pandas dataframe, with `coef` giving the most likely estimate, and two columns for the lower and upper bound of the 95% CI intervall for the estimate.\n",
    "\n",
    "Note: Depending on demography (how many generations are alive, skew of reproductive success), the ratio of effective to census size is often **0.1-0.3x**. So the census size can be 3-10x bigger than the effective size! Check the popgen literature for further details.\n",
    "\n",
    "Important: By default the reported estimates are for 2Ne. You have to divide by 2 to get the estimates in Ne."
   ]
  },
  {
   "cell_type": "code",
   "execution_count": 8,
   "metadata": {},
   "outputs": [
    {
     "name": "stdout",
     "output_type": "stream",
     "text": [
      "CPU times: user 1.35 s, sys: 7.71 ms, total: 1.35 s\n",
      "Wall time: 1.39 s\n"
     ]
    },
    {
     "data": {
      "text/html": [
       "<div>\n",
       "<style scoped>\n",
       "    .dataframe tbody tr th:only-of-type {\n",
       "        vertical-align: middle;\n",
       "    }\n",
       "\n",
       "    .dataframe tbody tr th {\n",
       "        vertical-align: top;\n",
       "    }\n",
       "\n",
       "    .dataframe thead th {\n",
       "        text-align: right;\n",
       "    }\n",
       "</style>\n",
       "<table border=\"1\" class=\"dataframe\">\n",
       "  <thead>\n",
       "    <tr style=\"text-align: right;\">\n",
       "      <th></th>\n",
       "      <th>coef</th>\n",
       "      <th>std err</th>\n",
       "      <th>0.025</th>\n",
       "      <th>0.975</th>\n",
       "      <th>n</th>\n",
       "    </tr>\n",
       "  </thead>\n",
       "  <tbody>\n",
       "    <tr>\n",
       "      <th>0</th>\n",
       "      <td>5284.379856</td>\n",
       "      <td>NaN</td>\n",
       "      <td>2855.793239</td>\n",
       "      <td>11543.389971</td>\n",
       "      <td>4.0</td>\n",
       "    </tr>\n",
       "  </tbody>\n",
       "</table>\n",
       "</div>"
      ],
      "text/plain": [
       "          coef  std err        0.025         0.975    n\n",
       "0  5284.379856      NaN  2855.793239  11543.389971  4.0"
      ]
     },
     "execution_count": 8,
     "metadata": {},
     "output_type": "execute_result"
    }
   ],
   "source": [
    "%%time\n",
    "output = True\n",
    "min_len = 4 # Min ROH length in cM to fit\n",
    "max_len = 20 # Max ROH length in cM to fit\n",
    "\n",
    "mle = MLE_ROH_Ne(start_params=1000, endog=roh_vec,\n",
    "                 min_len=min_len, max_len=max_len,\n",
    "                 chr_lgts=[],      # lengths of Chromosomes to fit (in cM). If len 0, use default for 1240K\n",
    "                 error_model=False, output=False)\n",
    "fit = mle.fit_ll_profile()\n",
    "#summary = fit.summary()\n",
    "mle.summary/2  # to get estimates in terms of Ne"
   ]
  },
  {
   "cell_type": "markdown",
   "metadata": {},
   "source": [
    "Ne=5284 (2855-11543 95% CI), that's a value typical for relatively large populations. It is a value where little ROH, even in the 4-8 cM category, as expected."
   ]
  },
  {
   "cell_type": "markdown",
   "metadata": {},
   "source": [
    "# Alternative Mode for CI Intervalls\n",
    "In the above method 95% Confidence Intervalls are fitted via the likelihood profile (calculating the log likelihood for a large number of 2Ne, and looking for the interval 1.92 LL units down from the Maximum Likelihood.)\n",
    "\n",
    "A simpler and quicker way is to use the curvature of the likelihood (the so called Fisher Information matrix). This works well for a lot of data and small pop sizes - as the likelihood is approxiamted well by this Gaussian fit. However, when the likelihood is \"flat\", it is better to use the above method."
   ]
  },
  {
   "cell_type": "code",
   "execution_count": 9,
   "metadata": {},
   "outputs": [
    {
     "name": "stdout",
     "output_type": "stream",
     "text": [
      "Optimization terminated successfully.\n",
      "         Current function value: 4.788653\n",
      "         Iterations: 33\n",
      "         Function evaluations: 67\n"
     ]
    },
    {
     "name": "stderr",
     "output_type": "stream",
     "text": [
      "/home/harald_ringbauer/.local/lib/python3.8/site-packages/statsmodels/base/model.py:2694: UserWarning: df_model + k_constant differs from nparams\n",
      "  warnings.warn(\"df_model + k_constant differs from nparams\")\n",
      "/home/harald_ringbauer/.local/lib/python3.8/site-packages/statsmodels/base/model.py:2696: UserWarning: df_resid differs from nobs - nparams\n",
      "  warnings.warn(\"df_resid differs from nobs - nparams\")\n"
     ]
    },
    {
     "name": "stdout",
     "output_type": "stream",
     "text": [
      "CPU times: user 233 ms, sys: 25.8 ms, total: 258 ms\n",
      "Wall time: 455 ms\n"
     ]
    },
    {
     "data": {
      "text/html": [
       "<div>\n",
       "<style scoped>\n",
       "    .dataframe tbody tr th:only-of-type {\n",
       "        vertical-align: middle;\n",
       "    }\n",
       "\n",
       "    .dataframe tbody tr th {\n",
       "        vertical-align: top;\n",
       "    }\n",
       "\n",
       "    .dataframe thead th {\n",
       "        text-align: right;\n",
       "    }\n",
       "</style>\n",
       "<table border=\"1\" class=\"dataframe\">\n",
       "  <thead>\n",
       "    <tr style=\"text-align: right;\">\n",
       "      <th></th>\n",
       "      <th>coef</th>\n",
       "      <th>std err</th>\n",
       "      <th>0.025</th>\n",
       "      <th>0.975</th>\n",
       "    </tr>\n",
       "  </thead>\n",
       "  <tbody>\n",
       "    <tr>\n",
       "      <th>const</th>\n",
       "      <td>5295.0</td>\n",
       "      <td>1877.148</td>\n",
       "      <td>1617.463</td>\n",
       "      <td>9000.0</td>\n",
       "    </tr>\n",
       "  </tbody>\n",
       "</table>\n",
       "</div>"
      ],
      "text/plain": [
       "         coef   std err     0.025   0.975\n",
       "const  5295.0  1877.148  1617.463  9000.0"
      ]
     },
     "execution_count": 9,
     "metadata": {},
     "output_type": "execute_result"
    }
   ],
   "source": [
    "%%time\n",
    "output = True\n",
    "min_len = 4 # Min ROH length in cM to fit\n",
    "max_len = 20 # Max ROH length in cM to fit\n",
    "\n",
    "mle = MLE_ROH_Ne(start_params=1000, endog=roh_vec,\n",
    "                 min_len=4, max_len=20,\n",
    "                 chr_lgts=[],      # lengths of Chromosomes to fit (in cM). If len 0, use default for 1240K\n",
    "                 error_model=False, output=False)\n",
    "fit = mle.fit()\n",
    "#summary = fit.summary()\n",
    "mle.summary/2  # to get estimates in terms of Ne"
   ]
  },
  {
   "cell_type": "markdown",
   "metadata": {},
   "source": [
    "The estimates agree, but the CI are different. The \"symmetric\" and local approximation capture the order of magnitude of uncertainty, but is problematic in this case."
   ]
  },
  {
   "cell_type": "markdown",
   "metadata": {},
   "source": [
    "# Further Application: Fitting IBD_X\n",
    "You can also use this machinery to fit pop sizes from IBD on the X. You have to set the chromosome length to chr_lgts=[180.85 * 2/3,], and first convert the length of the IBD_X to the sex-averaged rate (2/3 * (length of IBD in female map units)"
   ]
  }
 ],
 "metadata": {
  "kernelspec": {
   "display_name": "Python 3",
   "language": "python",
   "name": "python3"
  },
  "language_info": {
   "codemirror_mode": {
    "name": "ipython",
    "version": 3
   },
   "file_extension": ".py",
   "mimetype": "text/x-python",
   "name": "python",
   "nbconvert_exporter": "python",
   "pygments_lexer": "ipython3",
   "version": "3.8.10"
  }
 },
 "nbformat": 4,
 "nbformat_minor": 4
}
