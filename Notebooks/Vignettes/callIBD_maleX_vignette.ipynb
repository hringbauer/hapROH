{
 "cells": [
  {
   "cell_type": "markdown",
   "metadata": {},
   "source": [
    "# Example notebook to call IBD between two male X Chromosomes\n",
    "Two pseudo-haploid male X chromosomes get combined into one diploid sample and hapROH with readcount mode is run to identify IBD segments. This works for two X chromosomes with >0.3x coverage. As usual, IBD segments >4 cM are trustworthy. Keep in mind that the sex averaged rate on the X is 2/3 of the female map length (which is used for the output)."
   ]
  },
  {
   "cell_type": "code",
   "execution_count": 1,
   "metadata": {},
   "outputs": [
    {
     "name": "stdout",
     "output_type": "stream",
     "text": [
      "CPU Count: 28\n"
     ]
    }
   ],
   "source": [
    "### Some Code to set right paths on Harald's Machine\n",
    "import numpy as np\n",
    "import pandas as pd\n",
    "import os as os\n",
    "import sys as sys\n",
    "\n",
    "print(f\"CPU Count: {mp.cpu_count()}\")\n",
    "\n",
    "### If wanting to use local version and not  pip installed version\n",
    "#import sys\n",
    "#sys.path.insert(0,\"/project2/jnovembre/hringbauer/HAPSBURG/package/\")  # hack to get devolpment package first in path"
   ]
  },
  {
   "cell_type": "code",
   "execution_count": null,
   "metadata": {},
   "outputs": [],
   "source": [
    "from hapsburg.PackagesSupport.hapsburg_run import hapsb_chrom, hapsb_chromXs # Relevant functions to do the IBD_X analysis"
   ]
  },
  {
   "cell_type": "markdown",
   "metadata": {},
   "source": [
    "### Run single X Chromosome\n",
    "This uses these standard hapROH function, but with p_model and post_model designed for X. It also needs a list of exactly two iids from the eigenstrat that is analysed."
   ]
  },
  {
   "cell_type": "code",
   "execution_count": null,
   "metadata": {},
   "outputs": [],
   "source": [
    "hapsb_chrom(iid=[\"I15965\",\"I16171\"], ch=23, save=True, save_fp=False, n_ref=2504, diploid_ref=False, exclude_pops=[],\n",
    "            e_model='readcount', p_model='EigenstratX', readcounts=True, random_allele=False,\n",
    "            post_model=\"IBD_X\", logfile=False, \n",
    "            path_targets = \"/project2/jnovembre/hringbauer/caribbean_roh/data/eigenstrat/v421_CaribIllu1000GancSam_bySite_PAM\",\n",
    "            h5_path1000g = \"/project2/jnovembre/hringbauer/HAPSBURG/Data/1000Genomes/HDF5/1240kHDF5/all1240/chr\", \n",
    "            meta_path_ref = \"/project2/jnovembre/hringbauer/HAPSBURG/Data/1000Genomes/Individuals/meta_df_all_sex.tsv\",\n",
    "            folder_out = \"/project2/jnovembre/hringbauer/HAPSBURG/Empirical/dumpster/testx/\")"
   ]
  },
  {
   "cell_type": "markdown",
   "metadata": {},
   "source": [
    "### Run multiple pairs of Individuals\n",
    "Example how to run function that runs multiple individuals. You give the function a list of pairs of indivdiuals, and it works it off. As usual, you can set `processes` to higher numbers (but turn on the logile functionality, which pipes the output to .logs in the output folder). Runs on one CPU ca. 1 min."
   ]
  },
  {
   "cell_type": "code",
   "execution_count": null,
   "metadata": {},
   "outputs": [],
   "source": [
    "iids = [np.array(['I15595', 'I15970']), [\"I15965\",\"I16171\"]]\n",
    "\n",
    "hapsb_chromXs(iids=iids, ch=23, processes=1, \n",
    "              path_targets='/project2/jnovembre/hringbauer/caribbean_roh/data/eigenstrat/v421_CaribIllu1000GancSam_bySite_PAM', \n",
    "              h5_path1000g='/project2/jnovembre/hringbauer/HAPSBURG/Data/1000Genomes/HDF5/1240kHDF5/all1240/chr', \n",
    "              meta_path_ref='/project2/jnovembre/hringbauer/HAPSBURG/Data/1000Genomes/Individuals/meta_df_all_sex.tsv', \n",
    "              folder_out='/project2/jnovembre/hringbauer/HAPSBURG/Empirical/dumpster/testx/', \n",
    "              delete=False, logfile=False)"
   ]
  },
  {
   "cell_type": "markdown",
   "metadata": {},
   "source": [
    "### Combine output from multiple X Chromosomes\n",
    "Take individual outputs from Chromosomes, and combine them into one post-processed meta-file. In this example, two pairs of individuals are run. Runs on one CPU ca. 2 min."
   ]
  },
  {
   "cell_type": "code",
   "execution_count": 4,
   "metadata": {},
   "outputs": [],
   "source": [
    "from hapsburg.PackagesSupport.pp_individual_roh_csvs import pp_X_roh"
   ]
  },
  {
   "cell_type": "code",
   "execution_count": 6,
   "metadata": {},
   "outputs": [
    {
     "name": "stdout",
     "output_type": "stream",
     "text": [
      "Found 2 of 2 pairs output. Combining...\n"
     ]
    }
   ],
   "source": [
    "iids = [['I15595', 'I15970'], [\"I15965\",\"I16171\"]]\n",
    "\n",
    "df1 = pp_X_roh(iids=iids, base_folder=\"/project2/jnovembre/hringbauer/HAPSBURG/Empirical/dumpster/testx/\", \n",
    "               folder_ch=\"chrX/\", suffix='roh.csv', \n",
    "               meta_path=\"/project2/jnovembre/hringbauer/caribbean_roh/data/metadata_HR_May21_proc.tsv\", meta_sep=\"\\t\", \n",
    "               clst_col=\"clst\", iid_col=\"iid\",\n",
    "               save_path=\"\", min_cm=[4,8,12,20], snp_cm=60, \n",
    "               gap=0.5, min_len1=2.0, min_len2=4.0,\n",
    "               output=False, sort=False)"
   ]
  },
  {
   "cell_type": "markdown",
   "metadata": {},
   "source": [
    "# Further Processing\n",
    "As usual, you can plot the output. As the relevant output files are identical to usual hapROH output, you can use the same functions as described in the plotting vignette."
   ]
  }
 ],
 "metadata": {
  "kernelspec": {
   "display_name": "Python 3",
   "language": "python",
   "name": "python3"
  },
  "language_info": {
   "codemirror_mode": {
    "name": "ipython",
    "version": 3
   },
   "file_extension": ".py",
   "mimetype": "text/x-python",
   "name": "python",
   "nbconvert_exporter": "python",
   "pygments_lexer": "ipython3",
   "version": "3.7.6"
  }
 },
 "nbformat": 4,
 "nbformat_minor": 4
}
