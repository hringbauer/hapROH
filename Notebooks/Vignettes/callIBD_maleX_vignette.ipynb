{
 "cells": [
  {
   "cell_type": "markdown",
   "metadata": {},
   "source": [
    "# This is an example notebook to call IBD between two male X Chromosomes\n",
    "Essentially two pseudo-haploid male X chromosomes get combined into one diploid sample (forgetting the phasing) and hapROH with readcount mode is run to identify long IBD segments. This works for two X chromosomes with >0.3x coverage (and not too inbalanced coverage)"
   ]
  },
  {
   "cell_type": "code",
   "execution_count": null,
   "metadata": {},
   "outputs": [
    {
     "name": "stdout",
     "output_type": "stream",
     "text": [
      "CPU Count: 28\n"
     ]
    }
   ],
   "source": [
    "### Some Code to set right paths on Harald's Machine\n",
    "import numpy as np\n",
    "import pandas as pd\n",
    "import matplotlib.pyplot as plt\n",
    "import os as os\n",
    "import sys as sys\n",
    "import multiprocessing as mp\n",
    "\n",
    "print(f\"CPU Count: {mp.cpu_count()}\")\n",
    "\n",
    "### If wanting to use local version and not  pip installed version\n",
    "#sys.path.append(\"./package/\") # Append local Hapsburg Folder\n",
    "import sys\n",
    "sys.path.insert(0,\"/project2/jnovembre/hringbauer/HAPSBURG/package/\")  # hack to get local package first in path [FROM HARALD - DELETE!!!]\n",
    "from hapsburg.PackagesSupport.hapsburg_run import hapsb_chrom, hapsb_chromXs # Import for chromosome"
   ]
  },
  {
   "cell_type": "markdown",
   "metadata": {},
   "source": [
    "### Run single X Chromosome"
   ]
  },
  {
   "cell_type": "code",
   "execution_count": 5,
   "metadata": {},
   "outputs": [
    {
     "name": "stdout",
     "output_type": "stream",
     "text": [
      "Using Low-Mem Cython Linear Speed Up.\n",
      "Loaded Pre Processing Model: EigenstratX\n",
      "Loading Individual: ['I15965', 'I16171']\n",
      "\n",
      "Loaded 47898 variants\n",
      "Loaded 2504 individuals\n",
      "HDF5 loaded from /project2/jnovembre/hringbauer/HAPSBURG/Data/1000Genomes/HDF5/1240kHDF5/all1240/chrX.hdf5\n",
      "Eigenstrat packed: True\n",
      "3 Eigenstrat Files with 1488 Individuals and 1233013 SNPs\n",
      "\n",
      "Intersection on Positions: 47895\n",
      "Nr of Matching Refs: 9790 / 47895\n",
      "Ref/Alt Matching: 9772 / 47895\n",
      "Flipped Ref/Alt Matching: 37994\n",
      "Together: 47766 / 47895\n",
      "2504 / 2504 Individuals included in Reference\n",
      "Extracting up to 2504 Individuals\n",
      "Extraction of 2504 Haplotypes complete\n",
      "Flipping Ref/Alt in target for 37994 SNPs...\n",
      "Reduced to markers called 21264 / 47766\n",
      "Fraction SNPs covered: 0.4452\n",
      "Successfully saved to: /project2/jnovembre/hringbauer/HAPSBURG/Empirical/dumpster/testx/I15965_I16171/chrX/\n",
      "Loading Readcounts...\n",
      "Mean Readcount markers loaded: 1.42019\n",
      "Successfully loaded Data from: /project2/jnovembre/hringbauer/HAPSBURG/Empirical/dumpster/testx/I15965_I16171/chrX/\n",
      "Loaded Emission Model: readcount\n",
      "Loaded Transition Model: model\n",
      "Loaded Post Processing Model: IBD_X\n",
      "Minimum Genetic Map: 0.2085 Morgan\n",
      "Maximum Genetic Map: 2.0206 Morgan\n",
      "Gaps bigger than 0.1 cM: 326\n",
      "Maximum Gap: 1.3160 cM\n",
      "Upper Gap Cutoff: 5.0000 cM\n",
      "Loaded Transition and Emission Matrix:\n",
      "(3, 3)\n",
      "(2505, 21264)\n",
      "Loaded Observations:\n",
      "(2, 21264)\n",
      "Reference Number: 2504\n",
      "Total Log likelihood: -6731.517\n",
      "Memory Usage: 712.822784 mB\n",
      "Finished Calculation State Posteriors\n",
      "Saved Zero State Posterior to /project2/jnovembre/hringbauer/HAPSBURG/Empirical/dumpster/testx/I15965_I16171/chrX/.\n",
      "Successfully loaded for PP. from /project2/jnovembre/hringbauer/HAPSBURG/Empirical/dumpster/testx/I15965_I16171/chrX/\n",
      "Fraction Markers in ROH: 0.4254\n",
      "Merged n=0 gaps < 0 M\n",
      "Called n=11 ROH Blocks > 1.0 cM\n",
      "Longest Block: 36.10 cM\n",
      "Successfully saved to /project2/jnovembre/hringbauer/HAPSBURG/Empirical/dumpster/testx/I15965_I16171/chrX/roh.csv\n"
     ]
    }
   ],
   "source": [
    "hapsb_chrom(iid=[\"I15965\",\"I16171\"], ch=23, save=True, save_fp=False, n_ref=2504, diploid_ref=False, exclude_pops=[],\n",
    "            e_model='readcount', p_model='EigenstratX', readcounts=True, random_allele=False,\n",
    "            post_model=\"IBD_X\", logfile=False, \n",
    "            path_targets = \"/project2/jnovembre/hringbauer/caribbean_roh/data/eigenstrat/v421_CaribIllu1000GancSam_bySite_PAM\",\n",
    "            h5_path1000g = \"/project2/jnovembre/hringbauer/HAPSBURG/Data/1000Genomes/HDF5/1240kHDF5/all1240/chr\", \n",
    "            meta_path_ref = \"/project2/jnovembre/hringbauer/HAPSBURG/Data/1000Genomes/Individuals/meta_df_all_sex.tsv\",\n",
    "            folder_out = \"/project2/jnovembre/hringbauer/HAPSBURG/Empirical/dumpster/testx/\")"
   ]
  },
  {
   "cell_type": "markdown",
   "metadata": {},
   "source": [
    "### Second example [DELETE]"
   ]
  },
  {
   "cell_type": "code",
   "execution_count": 4,
   "metadata": {},
   "outputs": [
    {
     "name": "stdout",
     "output_type": "stream",
     "text": [
      "Using Low-Mem Cython Linear Speed Up.\n",
      "Loaded Pre Processing Model: EigenstratX\n",
      "Loading Individual: ['I15595', 'I15970']\n",
      "Creating folder /project2/jnovembre/hringbauer/HAPSBURG/Empirical/dumpster/testx/I15595_I15970/chrX/...\n",
      "\n",
      "Loaded 47898 variants\n",
      "Loaded 2504 individuals\n",
      "HDF5 loaded from /project2/jnovembre/hringbauer/HAPSBURG/Data/1000Genomes/HDF5/1240kHDF5/all1240/chrX.hdf5\n",
      "Eigenstrat packed: True\n",
      "3 Eigenstrat Files with 1488 Individuals and 1233013 SNPs\n",
      "\n",
      "Intersection on Positions: 47895\n",
      "Nr of Matching Refs: 9790 / 47895\n",
      "Ref/Alt Matching: 9772 / 47895\n",
      "Flipped Ref/Alt Matching: 37994\n",
      "Together: 47766 / 47895\n",
      "2504 / 2504 Individuals included in Reference\n",
      "Extracting up to 2504 Individuals\n",
      "Extraction of 2504 Haplotypes complete\n",
      "Flipping Ref/Alt in target for 37994 SNPs...\n",
      "Reduced to markers called 23427 / 47766\n",
      "Fraction SNPs covered: 0.4905\n",
      "Successfully saved to: /project2/jnovembre/hringbauer/HAPSBURG/Empirical/dumpster/testx/I15595_I15970/chrX/\n",
      "Loading Readcounts...\n",
      "Mean Readcount markers loaded: 1.41444\n",
      "Successfully loaded Data from: /project2/jnovembre/hringbauer/HAPSBURG/Empirical/dumpster/testx/I15595_I15970/chrX/\n",
      "Loaded Emission Model: readcount\n",
      "Loaded Transition Model: model\n",
      "Loaded Post Processing Model: IBD_X\n",
      "Minimum Genetic Map: 0.2085 Morgan\n",
      "Maximum Genetic Map: 2.0205 Morgan\n",
      "Gaps bigger than 0.1 cM: 326\n",
      "Maximum Gap: 1.3079 cM\n",
      "Upper Gap Cutoff: 5.0000 cM\n",
      "Loaded Transition and Emission Matrix:\n",
      "(3, 3)\n",
      "(2505, 23427)\n",
      "Loaded Observations:\n",
      "(2, 23427)\n",
      "Reference Number: 2504\n",
      "Total Log likelihood: -6457.393\n",
      "Memory Usage: 721.506304 mB\n",
      "Finished Calculation State Posteriors\n",
      "Saved Zero State Posterior to /project2/jnovembre/hringbauer/HAPSBURG/Empirical/dumpster/testx/I15595_I15970/chrX/.\n",
      "Successfully loaded for PP. from /project2/jnovembre/hringbauer/HAPSBURG/Empirical/dumpster/testx/I15595_I15970/chrX/\n",
      "Fraction Markers in ROH: 0.5214\n",
      "Merged n=0 gaps < 0 M\n",
      "Called n=15 ROH Blocks > 1.0 cM\n",
      "Longest Block: 34.93 cM\n",
      "Successfully saved to /project2/jnovembre/hringbauer/HAPSBURG/Empirical/dumpster/testx/I15595_I15970/chrX/roh.csv\n"
     ]
    }
   ],
   "source": [
    "hapsb_chrom(iid=[\"I15595\",\"I15970\"], ch=23, save=True, save_fp=False, n_ref=2504, diploid_ref=False, exclude_pops=[],\n",
    "            e_model='readcount', p_model='EigenstratX', readcounts=True, random_allele=False,\n",
    "            post_model=\"IBD_X\", logfile=False, \n",
    "            path_targets = \"/project2/jnovembre/hringbauer/caribbean_roh/data/eigenstrat/v421_CaribIllu1000GancSam_bySite_PAM\",\n",
    "            h5_path1000g = \"/project2/jnovembre/hringbauer/HAPSBURG/Data/1000Genomes/HDF5/1240kHDF5/all1240/chr\", \n",
    "            meta_path_ref = \"/project2/jnovembre/hringbauer/HAPSBURG/Data/1000Genomes/Individuals/meta_df_all_sex.tsv\",\n",
    "            folder_out = \"/project2/jnovembre/hringbauer/HAPSBURG/Empirical/dumpster/testx/\")"
   ]
  },
  {
   "cell_type": "markdown",
   "metadata": {},
   "source": [
    "### Run multiple pairs of Individuals\n",
    "Example how to run function that runs multiple individuals"
   ]
  },
  {
   "cell_type": "code",
   "execution_count": 5,
   "metadata": {},
   "outputs": [
    {
     "name": "stdout",
     "output_type": "stream",
     "text": [
      "Running 2 total jobs; 1 in parallel.\n",
      "Using Low-Mem Cython Linear Speed Up.\n",
      "Loaded Pre Processing Model: EigenstratX\n",
      "Loading Individual: ['I15595' 'I15970']\n",
      "\n",
      "Loaded 47898 variants\n",
      "Loaded 2504 individuals\n",
      "HDF5 loaded from /project2/jnovembre/hringbauer/HAPSBURG/Data/1000Genomes/HDF5/1240kHDF5/all1240/chrX.hdf5\n",
      "Eigenstrat packed: True\n",
      "3 Eigenstrat Files with 1488 Individuals and 1233013 SNPs\n",
      "\n",
      "Intersection on Positions: 47895\n",
      "Nr of Matching Refs: 9790 / 47895\n",
      "Ref/Alt Matching: 9772 / 47895\n",
      "Flipped Ref/Alt Matching: 37994\n",
      "Together: 47766 / 47895\n",
      "2504 / 2504 Individuals included in Reference\n",
      "Extracting up to 2504 Individuals\n",
      "Extraction of 2504 Haplotypes complete\n",
      "Flipping Ref/Alt in target for 37994 SNPs...\n",
      "Reduced to markers called 23427 / 47766\n",
      "Fraction SNPs covered: 0.4905\n",
      "Successfully saved target individual data to: /project2/jnovembre/hringbauer/HAPSBURG/Empirical/dumpster/testx/I15595_I15970/chr23/\n",
      "Loading Readcounts...\n",
      "Mean Readcount markers loaded: 1.41444\n",
      "Successfully loaded Data from: /project2/jnovembre/hringbauer/HAPSBURG/Empirical/dumpster/testx/I15595_I15970/chr23/\n",
      "Loaded Emission Model: readcount\n",
      "Loaded Transition Model: model\n",
      "Loaded Post Processing Model: IBD_X\n",
      "Minimum Genetic Map: 0.2085 Morgan\n",
      "Maximum Genetic Map: 2.0205 Morgan\n",
      "Gaps bigger than 0.1 cM: 326\n",
      "Maximum Gap: 1.3079 cM\n",
      "Upper Gap Cutoff: 5.0000 cM\n",
      "Loaded Transition and Emission Matrix:\n",
      "(3, 3)\n",
      "(2505, 23427)\n",
      "Loaded Observations:\n",
      "(2, 23427)\n",
      "Reference Number: 2504\n",
      "Total Log likelihood: -6457.393\n",
      "Memory Usage: 717.63968 mB\n",
      "Finished Calculation State Posteriors\n",
      "Saved Zero State Posterior to /project2/jnovembre/hringbauer/HAPSBURG/Empirical/dumpster/testx/I15595_I15970/chr23/.\n",
      "Successfully loaded for PP. from /project2/jnovembre/hringbauer/HAPSBURG/Empirical/dumpster/testx/I15595_I15970/chr23/\n",
      "Fraction Markers in ROH: 0.5214\n",
      "Merged n=0 gaps < 0 M\n",
      "Called n=15 ROH Blocks > 1.0 cM\n",
      "Longest Block: 34.93 cM\n",
      "Successfully saved to /project2/jnovembre/hringbauer/HAPSBURG/Empirical/dumpster/testx/I15595_I15970/chr23/roh.csv\n",
      "Using Low-Mem Cython Linear Speed Up.\n",
      "Loaded Pre Processing Model: EigenstratX\n",
      "Loading Individual: ['I15965', 'I16171']\n",
      "\n",
      "Loaded 47898 variants\n",
      "Loaded 2504 individuals\n",
      "HDF5 loaded from /project2/jnovembre/hringbauer/HAPSBURG/Data/1000Genomes/HDF5/1240kHDF5/all1240/chrX.hdf5\n",
      "Eigenstrat packed: True\n",
      "3 Eigenstrat Files with 1488 Individuals and 1233013 SNPs\n",
      "\n",
      "Intersection on Positions: 47895\n",
      "Nr of Matching Refs: 9790 / 47895\n",
      "Ref/Alt Matching: 9772 / 47895\n",
      "Flipped Ref/Alt Matching: 37994\n",
      "Together: 47766 / 47895\n",
      "2504 / 2504 Individuals included in Reference\n",
      "Extracting up to 2504 Individuals\n",
      "Extraction of 2504 Haplotypes complete\n",
      "Flipping Ref/Alt in target for 37994 SNPs...\n",
      "Reduced to markers called 21264 / 47766\n",
      "Fraction SNPs covered: 0.4452\n",
      "Successfully saved target individual data to: /project2/jnovembre/hringbauer/HAPSBURG/Empirical/dumpster/testx/I15965_I16171/chr23/\n",
      "Loading Readcounts...\n",
      "Mean Readcount markers loaded: 1.42019\n",
      "Successfully loaded Data from: /project2/jnovembre/hringbauer/HAPSBURG/Empirical/dumpster/testx/I15965_I16171/chr23/\n",
      "Loaded Emission Model: readcount\n",
      "Loaded Transition Model: model\n",
      "Loaded Post Processing Model: IBD_X\n",
      "Minimum Genetic Map: 0.2085 Morgan\n",
      "Maximum Genetic Map: 2.0206 Morgan\n",
      "Gaps bigger than 0.1 cM: 326\n",
      "Maximum Gap: 1.3160 cM\n",
      "Upper Gap Cutoff: 5.0000 cM\n",
      "Loaded Transition and Emission Matrix:\n",
      "(3, 3)\n",
      "(2505, 21264)\n",
      "Loaded Observations:\n",
      "(2, 21264)\n",
      "Reference Number: 2504\n",
      "Total Log likelihood: -6731.517\n",
      "Memory Usage: 708.534272 mB\n",
      "Finished Calculation State Posteriors\n",
      "Saved Zero State Posterior to /project2/jnovembre/hringbauer/HAPSBURG/Empirical/dumpster/testx/I15965_I16171/chr23/.\n",
      "Successfully loaded for PP. from /project2/jnovembre/hringbauer/HAPSBURG/Empirical/dumpster/testx/I15965_I16171/chr23/\n",
      "Fraction Markers in ROH: 0.4254\n",
      "Merged n=0 gaps < 0 M\n",
      "Called n=11 ROH Blocks > 1.0 cM\n",
      "Longest Block: 36.10 cM\n",
      "Successfully saved to /project2/jnovembre/hringbauer/HAPSBURG/Empirical/dumpster/testx/I15965_I16171/chr23/roh.csv\n"
     ]
    }
   ],
   "source": [
    "iids = [np.array(['I15595', 'I15970']), [\"I15965\",\"I16171\"]]\n",
    "\n",
    "hapsb_chromXs(iids=iids, ch=23, processes=1, \n",
    "              path_targets='/project2/jnovembre/hringbauer/caribbean_roh/data/eigenstrat/v421_CaribIllu1000GancSam_bySite_PAM', \n",
    "              h5_path1000g='/project2/jnovembre/hringbauer/HAPSBURG/Data/1000Genomes/HDF5/1240kHDF5/all1240/chr', \n",
    "              meta_path_ref='/project2/jnovembre/hringbauer/HAPSBURG/Data/1000Genomes/Individuals/meta_df_all_sex.tsv', \n",
    "              folder_out='/project2/jnovembre/hringbauer/HAPSBURG/Empirical/dumpster/testx/', \n",
    "              delete=False, logfile=False)"
   ]
  },
  {
   "cell_type": "markdown",
   "metadata": {},
   "source": [
    "### Combine output from multiple X Chromosomes\n",
    "Take individual outputs from Chromosomes, and combine them into one post-processed meta-file."
   ]
  },
  {
   "cell_type": "code",
   "execution_count": 6,
   "metadata": {},
   "outputs": [],
   "source": [
    "from hapsburg.PackagesSupport.pp_individual_roh_csvs import pp_X_roh"
   ]
  },
  {
   "cell_type": "code",
   "execution_count": 7,
   "metadata": {},
   "outputs": [
    {
     "name": "stdout",
     "output_type": "stream",
     "text": [
      "Found 2 of 2 pairs output. Combining...\n"
     ]
    }
   ],
   "source": [
    "iids = [['I15595', 'I15970'], [\"I15965\",\"I16171\"]]\n",
    "\n",
    "df1 = pp_X_roh(iids=iids, base_folder=\"/project2/jnovembre/hringbauer/HAPSBURG/Empirical/dumpster/testx/\", \n",
    "         folder_ch=\"chrX/\", suffix='roh.csv', \n",
    "         meta_path=\"/project2/jnovembre/hringbauer/caribbean_roh/data/metadata_HR_May21_proc.tsv\", meta_sep=\"\\t\", \n",
    "         clst_col=\"clst\", iid_col=\"iid\",\n",
    "         save_path=\"\", min_cm=[4,8,12,20], snp_cm=60, \n",
    "         gap=0.5, min_len1=2.0, min_len2=4.0,\n",
    "         output=False, sort=False)"
   ]
  },
  {
   "cell_type": "code",
   "execution_count": 8,
   "metadata": {},
   "outputs": [
    {
     "data": {
      "text/html": [
       "<div>\n",
       "<style scoped>\n",
       "    .dataframe tbody tr th:only-of-type {\n",
       "        vertical-align: middle;\n",
       "    }\n",
       "\n",
       "    .dataframe tbody tr th {\n",
       "        vertical-align: top;\n",
       "    }\n",
       "\n",
       "    .dataframe thead th {\n",
       "        text-align: right;\n",
       "    }\n",
       "</style>\n",
       "<table border=\"1\" class=\"dataframe\">\n",
       "  <thead>\n",
       "    <tr style=\"text-align: right;\">\n",
       "      <th></th>\n",
       "      <th>max_roh</th>\n",
       "      <th>sum_roh&gt;4</th>\n",
       "      <th>n_roh&gt;4</th>\n",
       "      <th>sum_roh&gt;8</th>\n",
       "      <th>n_roh&gt;8</th>\n",
       "      <th>sum_roh&gt;12</th>\n",
       "      <th>n_roh&gt;12</th>\n",
       "      <th>sum_roh&gt;20</th>\n",
       "      <th>n_roh&gt;20</th>\n",
       "      <th>iid1</th>\n",
       "      <th>iid2</th>\n",
       "      <th>clst1</th>\n",
       "      <th>clst2</th>\n",
       "    </tr>\n",
       "  </thead>\n",
       "  <tbody>\n",
       "    <tr>\n",
       "      <th>0</th>\n",
       "      <td>34.9262</td>\n",
       "      <td>47.506603</td>\n",
       "      <td>3</td>\n",
       "      <td>34.9262</td>\n",
       "      <td>1</td>\n",
       "      <td>34.9262</td>\n",
       "      <td>1</td>\n",
       "      <td>34.9262</td>\n",
       "      <td>1</td>\n",
       "      <td>I15595</td>\n",
       "      <td>I15970</td>\n",
       "      <td>SECoast_DR</td>\n",
       "      <td>SECoast_DR</td>\n",
       "    </tr>\n",
       "    <tr>\n",
       "      <th>1</th>\n",
       "      <td>36.0955</td>\n",
       "      <td>36.095500</td>\n",
       "      <td>1</td>\n",
       "      <td>36.0955</td>\n",
       "      <td>1</td>\n",
       "      <td>36.0955</td>\n",
       "      <td>1</td>\n",
       "      <td>36.0955</td>\n",
       "      <td>1</td>\n",
       "      <td>I15965</td>\n",
       "      <td>I16171</td>\n",
       "      <td>SECoast_DR</td>\n",
       "      <td>SECoast_DR</td>\n",
       "    </tr>\n",
       "  </tbody>\n",
       "</table>\n",
       "</div>"
      ],
      "text/plain": [
       "   max_roh  sum_roh>4  n_roh>4  sum_roh>8  n_roh>8  sum_roh>12  n_roh>12  \\\n",
       "0  34.9262  47.506603        3    34.9262        1     34.9262         1   \n",
       "1  36.0955  36.095500        1    36.0955        1     36.0955         1   \n",
       "\n",
       "   sum_roh>20  n_roh>20    iid1    iid2       clst1       clst2  \n",
       "0     34.9262         1  I15595  I15970  SECoast_DR  SECoast_DR  \n",
       "1     36.0955         1  I15965  I16171  SECoast_DR  SECoast_DR  "
      ]
     },
     "execution_count": 8,
     "metadata": {},
     "output_type": "execute_result"
    }
   ],
   "source": [
    "df1"
   ]
  }
 ],
 "metadata": {
  "kernelspec": {
   "display_name": "Python 3",
   "language": "python",
   "name": "python3"
  },
  "language_info": {
   "codemirror_mode": {
    "name": "ipython",
    "version": 3
   },
   "file_extension": ".py",
   "mimetype": "text/x-python",
   "name": "python",
   "nbconvert_exporter": "python",
   "pygments_lexer": "ipython3",
   "version": "3.7.0"
  }
 },
 "nbformat": 4,
 "nbformat_minor": 4
}
