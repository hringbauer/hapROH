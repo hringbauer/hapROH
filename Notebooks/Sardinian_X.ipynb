{
 "cells": [
  {
   "cell_type": "markdown",
   "metadata": {},
   "source": [
    "# Analyze the Sardinian X Chromosomes"
   ]
  },
  {
   "cell_type": "code",
   "execution_count": 1,
   "metadata": {},
   "outputs": [],
   "source": [
    "import allel\n",
    "import h5py\n",
    "import numpy as np\n",
    "import pandas as pd\n",
    "import matplotlib.pyplot as plt\n",
    "import os   # For creating folders\n",
    "\n",
    "from matplotlib.ticker import FormatStrFormatter\n",
    "from matplotlib.ticker import StrMethodFormatter"
   ]
  },
  {
   "cell_type": "code",
   "execution_count": 2,
   "metadata": {},
   "outputs": [
    {
     "name": "stderr",
     "output_type": "stream",
     "text": [
      "/usr/local/lib/python3.6/dist-packages/pandas/io/parsers.py:2230: FutureWarning: split() requires a non-empty pattern match.\n",
      "  yield pat.split(line.strip())\n",
      "/usr/local/lib/python3.6/dist-packages/pandas/io/parsers.py:2232: FutureWarning: split() requires a non-empty pattern match.\n",
      "  yield pat.split(line.strip())\n"
     ]
    },
    {
     "name": "stdout",
     "output_type": "stream",
     "text": [
      "Loaded 49711 X SNPs.\n",
      "Loaded 957848 variants\n",
      "Loaded 3514 individuals\n",
      "['GT']\n",
      "['ALT', 'CHROM', 'FILTER_PASS', 'ID', 'POS', 'QUAL', 'REF']\n",
      "HDF5 loaded from ../../ancient-sardinia/output/xdata/sar_x.hdf5\n"
     ]
    }
   ],
   "source": [
    "#path_vcf = \"../../output/xdata/Sardinia.3500.beagle.chrX.NONPAR.vcf.gz\" # The original VCF \n",
    "h5_path = \"../../ancient-sardinia/output/xdata/sar_x.hdf5\" # Save to HDF5 (Binary Format)\n",
    "path_snp = \"../../ancient-sardinia/data/bed/full230.snp\" # All SNPs found in the ancients\n",
    "\n",
    "df_snp = pd.read_csv(path_snp, header=None, sep=r\"\\s*\", engine=\"python\")\n",
    "df_snp.columns = [\"SNP\", \"chr\", \"map\", \"pos\", \"ref\", \"alt\"]\n",
    "df_snp = df_snp[df_snp[\"chr\"]==23]\n",
    "\n",
    "print(f\"Loaded {len(df_snp)} X SNPs.\")\n",
    "\n",
    "## Load HDF5\n",
    "f = h5py.File(h5_path, \"r\") # Load for Sanity Check. See below!\n",
    "print(\"Loaded %i variants\" % np.shape(f[\"calldata/GT\"])[0])\n",
    "print(\"Loaded %i individuals\" % np.shape(f[\"calldata/GT\"])[1])\n",
    "print(list(f[\"calldata\"].keys()))\n",
    "print(list(f[\"variants\"].keys()))\n",
    "print(f\"HDF5 loaded from {h5_path}\")"
   ]
  },
  {
   "cell_type": "code",
   "execution_count": 3,
   "metadata": {},
   "outputs": [
    {
     "name": "stdout",
     "output_type": "stream",
     "text": [
      "Nr SNPs on Panel: 40052 out of 957848 SNPs\n",
      "Nr SNPs in both: 40052 out of 49711\n",
      "Nr. of Males: 1557\n"
     ]
    }
   ],
   "source": [
    "### Do the Pre-Processing of identifying variants that are in both\n",
    "df_pos = pd.Series(f[\"variants/POS\"])\n",
    "snp_panel = df_pos.isin(df_snp[\"pos\"])\n",
    "print(f\"Nr SNPs on Panel: {np.sum(snp_panel)} out of {len(snp_panel)} SNPs\")\n",
    "\n",
    "# Also extract SNPs in SNP Panel\n",
    "pos_both = df_pos[snp_panel]\n",
    "id_df = df_snp[\"pos\"].isin(pos_both)\n",
    "df_snp_both = df_snp[id_df]\n",
    "print(f\"Nr SNPs in both: {len(df_snp_both)} out of {len(df_snp)}\")\n",
    "\n",
    "### Extract male Indices\n",
    "map_pos = df_snp_both[\"map\"].values\n",
    "cm_map = map_pos * 100   # To use centiMorgan\n",
    "\n",
    "mal_idx = (f[\"calldata/GT\"][0,:,1]==-1)  # Extract all the Males\n",
    "mal_ids = np.where(mal_idx)[0]\n",
    "\n",
    "print(\"Nr. of Males: %i\" % np.sum(mal_idx))"
   ]
  },
  {
   "cell_type": "code",
   "execution_count": null,
   "metadata": {},
   "outputs": [],
   "source": [
    "###### Do some filtering for Markers:\n",
    "# 1) Markers in MAF < 0.5\n",
    "# 2) Markers in HW:"
   ]
  },
  {
   "cell_type": "markdown",
   "metadata": {},
   "source": [
    "# Two males that are "
   ]
  },
  {
   "cell_type": "code",
   "execution_count": 46,
   "metadata": {},
   "outputs": [
    {
     "name": "stdout",
     "output_type": "stream",
     "text": [
      "Loaded two Males on 40052 SNPs\n"
     ]
    }
   ],
   "source": [
    "male1, male2 = mal_ids[100], mal_ids[202]\n",
    "g1 = f[\"calldata/GT\"][:, male1, 0]\n",
    "g2 = f[\"calldata/GT\"][:, male2, 0]\n",
    "\n",
    "g1 = g1[snp_panel]\n",
    "g2 = g2[snp_panel]\n",
    "print(f\"Loaded two Males on {len(g1)} SNPs\")"
   ]
  },
  {
   "cell_type": "code",
   "execution_count": 47,
   "metadata": {},
   "outputs": [
    {
     "name": "stdout",
     "output_type": "stream",
     "text": [
      "Average Heterozygosity: 0.2273\n"
     ]
    }
   ],
   "source": [
    "het = (g1 != g2)\n",
    "print(f\"Average Heterozygosity: {np.mean(het):.4f}\")"
   ]
  },
  {
   "cell_type": "code",
   "execution_count": 49,
   "metadata": {},
   "outputs": [
    {
     "data": {
      "image/png": "[encoded data removed]",
      "text/plain": [
       "<matplotlib.figure.Figure at 0x7f4816a402b0>"
      ]
     },
     "metadata": {
      "needs_background": "light"
     },
     "output_type": "display_data"
    }
   ],
   "source": [
    "plt.figure(figsize=(14,2))\n",
    "plt.plot(cm_map[:], het[:], \"bo\", ms=4, alpha=0.3)\n",
    "plt.ylabel(\"Heterozygosity\")\n",
    "plt.xlabel(\"CentiMorgan\")\n",
    "plt.xlim([20, 100])\n",
    "\n",
    "#for i in cm_map[het]:\n",
    "#    plt.axvline(i)\n",
    "plt.show()"
   ]
  },
  {
   "cell_type": "code",
   "execution_count": 85,
   "metadata": {},
   "outputs": [
    {
     "data": {
      "image/png": "[encoded data removed]",
      "text/plain": [
       "<matplotlib.figure.Figure at 0x7f194f05c080>"
      ]
     },
     "metadata": {
      "needs_background": "light"
     },
     "output_type": "display_data"
    }
   ],
   "source": [
    "# Preparte the axis ticks labels\n",
    "tick_id = [i for i in range(0,40000,2000)]\n",
    "cmap_val = np.around(cm_map[tick_id], decimals=2)\n",
    "\n",
    "plt.figure(figsize=(20,1))\n",
    "plt.imshow([het], cmap='Greys',  aspect='auto')\n",
    "plt.xticks(tick_id, cmap_val)\n",
    "plt.xlabel(\"Genetic distance [cM]\", fontsize=fs)\n",
    "plt.ylabel(\"Heterozygote\", fontsize=fs)\n",
    "ax = plt.gca()\n",
    "plt.show()"
   ]
  },
  {
   "cell_type": "code",
   "execution_count": 7,
   "metadata": {},
   "outputs": [],
   "source": [
    "# Do a plot of nr_plot Sardinian Males\n",
    "nr_plot = 30\n",
    "g_males = f[\"calldata/GT\"][:, mal_ids[:nr_plot], 0].T\n",
    "g_males = g_males[:, snp_panel]"
   ]
  },
  {
   "cell_type": "code",
   "execution_count": 42,
   "metadata": {},
   "outputs": [
    {
     "name": "stdout",
     "output_type": "stream",
     "text": [
      "Nr markers: 40052\n"
     ]
    },
    {
     "data": {
      "image/png": "[encoded data removed]",
      "text/plain": [
       "<matplotlib.figure.Figure at 0x7f48160bd3c8>"
      ]
     },
     "metadata": {
      "needs_background": "light"
     },
     "output_type": "display_data"
    }
   ],
   "source": [
    "fs = 18\n",
    "begin, end = 0, 10000\n",
    "ref_ind = 0\n",
    "\n",
    "print(f\"Nr markers: {len(g_males[0,:])}\")\n",
    "assert(len(g_males[0,:]==len(cm_map)))\n",
    "\n",
    "same = np.array([g_males[i,:] != g_males[ref_ind,:] for i in range(nr_plot)])  # Polarize Markers\n",
    "\n",
    "plt.figure(figsize=(20,4))\n",
    "plt.imshow(same[:, begin:end], cmap='Greys',  aspect='auto')\n",
    "plt.xticks([0,end-begin], [np.around(cm_map[begin], decimals=3), np.around(cm_map[end], decimals=3)])\n",
    "plt.xlabel(\"Genetic distance [cM]\", fontsize=fs)\n",
    "plt.ylabel(\"Reference Haplotype\", fontsize=fs)\n",
    "ax = plt.gca()\n",
    "\n",
    "#plt.savefig(\"../figures_test/sard_haplotypes.png\", bbox_inches = 'tight', pad_inches = 0)\n",
    "plt.show()"
   ]
  },
  {
   "cell_type": "code",
   "execution_count": 4,
   "metadata": {},
   "outputs": [
    {
     "data": {
      "image/png": "[encoded data removed]",
      "text/plain": [
       "<matplotlib.figure.Figure at 0x7f55227606a0>"
      ]
     },
     "metadata": {
      "needs_background": "light"
     },
     "output_type": "display_data"
    }
   ],
   "source": [
    "bins = np.arange(0,2,0.001)\n",
    "plt.figure(figsize=(8,4))\n",
    "n, _, _  = plt.hist(map_pos*100, bins=bins*100)  # df_snp[\"map\"]\n",
    "plt.title(\"1240k SNPs per 0.1 cM Window\")\n",
    "plt.ylim([0,100])\n",
    "#plt.xlim([80,90])\n",
    "plt.show()"
   ]
  },
  {
   "cell_type": "code",
   "execution_count": 133,
   "metadata": {},
   "outputs": [
    {
     "data": {
      "text/plain": [
       "[]"
      ]
     },
     "execution_count": 133,
     "metadata": {},
     "output_type": "execute_result"
    },
    {
     "data": {
      "image/png": "[encoded data removed]",
      "text/plain": [
       "<matplotlib.figure.Figure at 0x7f194f780dd8>"
      ]
     },
     "metadata": {
      "needs_background": "light"
     },
     "output_type": "display_data"
    }
   ],
   "source": [
    "bins = np.arange(-0.5,100,1)\n",
    "plt.hist(n, bins = bins)\n",
    "plt.title(\"SNPs per cM\")\n",
    "plt.ylim([0,100])\n",
    "plt.plot()"
   ]
  },
  {
   "cell_type": "markdown",
   "metadata": {},
   "source": [
    "# Save Sardinian Haplotypes into Format required by HAPSBURG"
   ]
  },
  {
   "cell_type": "code",
   "execution_count": 4,
   "metadata": {},
   "outputs": [],
   "source": [
    "### Code for saving Reference Haplotypes\n",
    "def save_refs(gts, folder, cm_map, gt_individual=[]):\n",
    "    \"\"\"Save Sardinian references\n",
    "    ids: Which individuals\n",
    "    markers: Which markers\n",
    "    folders: Into which folder\n",
    "    Genotypes Individual: If given, save as well\"\"\"\n",
    "    print(f\"Nr of Markers used: {len(markers)}\")\n",
    "    print(f\"Nr of Genotypes used: {len(ids)}\")\n",
    "\n",
    "    assert(len(gt_individual)==2) # Sanity Check\n",
    "\n",
    "    if not os.path.exists(folder):\n",
    "                os.makedirs(folder)\n",
    "\n",
    "    np.savetxt(folder + \"refs.csv\", gts,\n",
    "                       delimiter=\",\",  fmt='%i')  # Save Reference Haplotypes\n",
    "\n",
    "    ### Save which individuals and markers\n",
    "    np.savetxt(folder + \"refs.csv\", gts, \n",
    "                       delimiter=\",\",  fmt='%i')\n",
    "    #np.savetxt(folder + \"inds.csv\", ids,\n",
    "    #                   delimiter=\",\",  fmt='%i')\n",
    "    \n",
    "    ### Save the cmap \n",
    "    np.savetxt(folder + \"map.csv\", cm_map, delimiter=\",\",  fmt='%.8f')\n",
    "    \n",
    "    if len(gt_individual)>0:\n",
    "            np.savetxt(folder + \"hap.csv\", gt_individual, \n",
    "                       delimiter=\",\",  fmt='%i')\n",
    "\n",
    "    print(f\"Successfully saved to {folder}\")"
   ]
  },
  {
   "cell_type": "code",
   "execution_count": 5,
   "metadata": {},
   "outputs": [
    {
     "name": "stdout",
     "output_type": "stream",
     "text": [
      "Extraction Complete!\n",
      "Nr of Markers used: 10000\n",
      "Nr of Genotypes used: 100\n",
      "Successfully saved to ../Empirical/Sard100_0-10kROH/\n"
     ]
    }
   ],
   "source": [
    "nr_refs =100 # How many Refs to save\n",
    "ids_obs = [100, 202] # The two IDs of the observed Individuals\n",
    "folder = \"../Empirical/Sard100_0-10kROH/\"         # Which folder to save into\n",
    "\n",
    "### Code for saving Haplo\n",
    "assert(np.sum(snp_panel)==len(cm_map))\n",
    "ids = [mal_ids[i] for i in range(0, nr_refs)]   # List of which individuals to use (should be male!)\n",
    "markers = np.arange(0, 10000)             # List of which markers (from SNP Panel) to use\n",
    "ids_ind = [mal_ids[i] for i in ids_obs]     # Two indviduals to use as Haplotype\n",
    "\n",
    "gts = f[\"calldata/GT\"][:,ids,0] # Extract Individuals (first haplo)\n",
    "gts = gts[snp_panel, :].T \n",
    "gts = gts[:, markers]           # Extract Markers  \n",
    "print(\"Extraction Complete!\")\n",
    "\n",
    "gts_ind = f[\"calldata/GT\"][:, ids_ind, 0] # Extract Individuals (first haplo)\n",
    "gts_ind = gts_ind[snp_panel, :].T \n",
    "gts_ind = gts_ind[:, markers]           # Extract Markers  \n",
    "\n",
    "c_markers = map_pos[markers]\n",
    "\n",
    "save_refs(gts, folder, c_markers, gt_individual=gts_ind)"
   ]
  },
  {
   "cell_type": "markdown",
   "metadata": {},
   "source": [
    "# Area 51"
   ]
  },
  {
   "cell_type": "code",
   "execution_count": 20,
   "metadata": {},
   "outputs": [],
   "source": [
    "n = np.arange(3)\n",
    "m = np.array([[1,2],[3,4]])"
   ]
  },
  {
   "cell_type": "code",
   "execution_count": 28,
   "metadata": {},
   "outputs": [],
   "source": [
    "c = n[None,None, :] * m[:, :, None]"
   ]
  },
  {
   "cell_type": "code",
   "execution_count": 30,
   "metadata": {},
   "outputs": [
    {
     "data": {
      "text/plain": [
       "array([[[0, 1, 2],\n",
       "        [0, 2, 4]],\n",
       "\n",
       "       [[0, 3, 6],\n",
       "        [0, 4, 8]]])"
      ]
     },
     "execution_count": 30,
     "metadata": {},
     "output_type": "execute_result"
    }
   ],
   "source": [
    "c"
   ]
  },
  {
   "cell_type": "code",
   "execution_count": 35,
   "metadata": {},
   "outputs": [
    {
     "data": {
      "text/plain": [
       "array([[2, 4],\n",
       "       [6, 8]])"
      ]
     },
     "execution_count": 35,
     "metadata": {},
     "output_type": "execute_result"
    }
   ],
   "source": [
    "c[:,:,2]"
   ]
  },
  {
   "cell_type": "code",
   "execution_count": null,
   "metadata": {},
   "outputs": [],
   "source": []
  }
 ],
 "metadata": {
  "kernelspec": {
   "display_name": "Python 3",
   "language": "python",
   "name": "python3"
  },
  "language_info": {
   "codemirror_mode": {
    "name": "ipython",
    "version": 3
   },
   "file_extension": ".py",
   "mimetype": "text/x-python",
   "name": "python",
   "nbconvert_exporter": "python",
   "pygments_lexer": "ipython3",
   "version": "3.6.7"
  }
 },
 "nbformat": 4,
 "nbformat_minor": 2
}
