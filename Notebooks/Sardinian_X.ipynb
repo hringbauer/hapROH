{
 "cells": [
  {
   "cell_type": "markdown",
   "metadata": {},
   "source": [
    "# Analyze the Sardinian X Chromosomes"
   ]
  },
  {
   "cell_type": "code",
   "execution_count": 3,
   "metadata": {},
   "outputs": [],
   "source": [
    "import allel\n",
    "import h5py\n",
    "import numpy as np\n",
    "import pandas as pd\n",
    "import matplotlib.pyplot as plt"
   ]
  },
  {
   "cell_type": "code",
   "execution_count": 5,
   "metadata": {},
   "outputs": [
    {
     "name": "stderr",
     "output_type": "stream",
     "text": [
      "/usr/local/lib/python3.6/dist-packages/pandas/io/parsers.py:2230: FutureWarning: split() requires a non-empty pattern match.\n",
      "  yield pat.split(line.strip())\n",
      "/usr/local/lib/python3.6/dist-packages/pandas/io/parsers.py:2232: FutureWarning: split() requires a non-empty pattern match.\n",
      "  yield pat.split(line.strip())\n"
     ]
    },
    {
     "name": "stdout",
     "output_type": "stream",
     "text": [
      "Loaded 49711 X SNPs.\n"
     ]
    }
   ],
   "source": [
    "#path_vcf = \"../../output/xdata/Sardinia.3500.beagle.chrX.NONPAR.vcf.gz\" # The original VCF \n",
    "h5_path = \"../../ancient-sardinia/output/xdata/sar_x.hdf5\" # Save to HDF5 (Binary Format)\n",
    "path_snp = \"../../ancient-sardinia/data/bed/full230.snp\" # All SNPs found in the ancients\n",
    "\n",
    "df_snp = pd.read_csv(path_snp, header=None, sep=r\"\\s*\", engine=\"python\")\n",
    "df_snp.columns = [\"SNP\", \"chr\", \"map\", \"pos\", \"ref\", \"alt\"]\n",
    "df_snp = df_snp[df_snp[\"chr\"]==23]\n",
    "\n",
    "print(f\"Loaded {len(df_snp)} X SNPs.\")"
   ]
  },
  {
   "cell_type": "code",
   "execution_count": 52,
   "metadata": {},
   "outputs": [
    {
     "name": "stdout",
     "output_type": "stream",
     "text": [
      "Loaded 957848 variants\n",
      "Loaded 3514 individuals\n",
      "['GT']\n",
      "['ALT', 'CHROM', 'FILTER_PASS', 'ID', 'POS', 'QUAL', 'REF']\n",
      "HDF5 loaded from ../../ancient-sardinia/output/xdata/sar_x.hdf5\n"
     ]
    }
   ],
   "source": [
    "## Load HDF5\n",
    "f = h5py.File(h5_path, \"r\") # Load for Sanity Check. See below!\n",
    "print(\"Loaded %i variants\" % np.shape(f[\"calldata/GT\"])[0])\n",
    "print(\"Loaded %i individuals\" % np.shape(f[\"calldata/GT\"])[1])\n",
    "print(list(f[\"calldata\"].keys()))\n",
    "print(list(f[\"variants\"].keys()))\n",
    "print(f\"HDF5 loaded from {h5_path}\")\n",
    "\n",
    "\n"
   ]
  },
  {
   "cell_type": "code",
   "execution_count": 92,
   "metadata": {},
   "outputs": [
    {
     "name": "stdout",
     "output_type": "stream",
     "text": [
      "Nr SNPs on Panel: 40052 out of 957848 SNPs\n",
      "Nr SNPs in both: 40052 out of 49711\n"
     ]
    }
   ],
   "source": [
    "df_pos = pd.Series(f[\"variants/POS\"])\n",
    "snp_panel = df_pos.isin(df_snp[\"pos\"])\n",
    "print(f\"Nr SNPs on Panel: {np.sum(snp_panel)} out of {len(snp_panel)} SNPs\")\n",
    "\n",
    "# Also extract SNPs in SNP Panel\n",
    "pos_both = df_pos[snp_panel]\n",
    "id_df = df_snp[\"pos\"].isin(pos_both)\n",
    "df_snp_both = df_snp[id_df]\n",
    "print(f\"Nr SNPs in both: {len(df_snp_both)} out of {len(df_snp)}\")\n",
    "\n",
    "map_pos = df_snp_both[\"map\"].values"
   ]
  },
  {
   "cell_type": "code",
   "execution_count": null,
   "metadata": {},
   "outputs": [],
   "source": [
    "###### Do some filtering for Markers:\n",
    "# 1) Markers i\n",
    "\n",
    "# 2) Markers in HW"
   ]
  },
  {
   "cell_type": "markdown",
   "metadata": {},
   "source": [
    "# Area 51\n",
    "Test out code here"
   ]
  },
  {
   "cell_type": "code",
   "execution_count": 112,
   "metadata": {},
   "outputs": [
    {
     "name": "stdout",
     "output_type": "stream",
     "text": [
      "Nr. of Males: 1557\n"
     ]
    }
   ],
   "source": [
    "mal_idx = (f[\"calldata/GT\"][0,:,1]==-1)  # Extract all the Males\n",
    "mal_ids = np.where(mal_idx)[0]\n",
    "\n",
    "print(\"Nr. of Males: %i\" % np.sum(mal_idx))\n",
    "male1, male2 = mal_ids[100], mal_ids[202]"
   ]
  },
  {
   "cell_type": "code",
   "execution_count": 113,
   "metadata": {},
   "outputs": [
    {
     "name": "stdout",
     "output_type": "stream",
     "text": [
      "Loaded two Males on 40052 SNPs\n"
     ]
    }
   ],
   "source": [
    "g1 = f[\"calldata/GT\"][:, male1, 0]\n",
    "g2 = f[\"calldata/GT\"][:, male2, 0]\n",
    "\n",
    "g1 = g1[snp_panel]\n",
    "g2 = g2[snp_panel]\n",
    "print(f\"Loaded two Males on {len(g1)} SNPs\")"
   ]
  },
  {
   "cell_type": "code",
   "execution_count": 114,
   "metadata": {},
   "outputs": [
    {
     "name": "stdout",
     "output_type": "stream",
     "text": [
      "Average Heterozygosity: 0.2273\n"
     ]
    }
   ],
   "source": [
    "het = (g1 != g2)\n",
    "print(f\"Average Heterozygosity: {np.mean(het):.4f}\")"
   ]
  },
  {
   "cell_type": "code",
   "execution_count": 143,
   "metadata": {},
   "outputs": [
    {
     "data": {
      "image/png": "[encoded data removed]",
      "text/plain": [
       "<matplotlib.figure.Figure at 0x7f90b389dbe0>"
      ]
     },
     "metadata": {
      "needs_background": "light"
     },
     "output_type": "display_data"
    }
   ],
   "source": [
    "plt.figure(figsize=(14,2))\n",
    "cm_map = map_pos * 100\n",
    "plt.plot(cm_map[:], het[:],\"bo\", ms=4, alpha=0.3)\n",
    "plt.ylabel(\"Heterozygosity\")\n",
    "plt.xlabel(\"CentiMorgan\")\n",
    "plt.xlim([190, 200])\n",
    "plt.show()"
   ]
  },
  {
   "cell_type": "code",
   "execution_count": 159,
   "metadata": {},
   "outputs": [],
   "source": [
    "# Do a plot of 20 Sardinian Males\n",
    "g_males = f[\"calldata/GT\"][:, mal_ids[:20], 0].T\n",
    "g_males = g_males[:, snp_panel]"
   ]
  },
  {
   "cell_type": "code",
   "execution_count": 176,
   "metadata": {},
   "outputs": [
    {
     "data": {
      "image/png": "[encoded data removed]",
      "text/plain": [
       "<matplotlib.figure.Figure at 0x7f90b30158d0>"
      ]
     },
     "metadata": {
      "needs_background": "light"
     },
     "output_type": "display_data"
    }
   ],
   "source": [
    "plt.figure(figsize=(20,4))\n",
    "plt.imshow(same[:, 1000:2000], cmap='Greys',  aspect='auto')\n",
    "plt.xticks([0,1000], [cm_map[1000], cm_map[2000]])\n",
    "plt.show()"
   ]
  },
  {
   "cell_type": "code",
   "execution_count": 175,
   "metadata": {},
   "outputs": [],
   "source": [
    "same = np.array([g_males[i,:] != g_males[3,:] for i in range(20)])"
   ]
  },
  {
   "cell_type": "code",
   "execution_count": null,
   "metadata": {},
   "outputs": [],
   "source": [
    "sites"
   ]
  }
 ],
 "metadata": {
  "kernelspec": {
   "display_name": "Python 3",
   "language": "python",
   "name": "python3"
  },
  "language_info": {
   "codemirror_mode": {
    "name": "ipython",
    "version": 3
   },
   "file_extension": ".py",
   "mimetype": "text/x-python",
   "name": "python",
   "nbconvert_exporter": "python",
   "pygments_lexer": "ipython3",
   "version": "3.6.7"
  }
 },
 "nbformat": 4,
 "nbformat_minor": 2
}
