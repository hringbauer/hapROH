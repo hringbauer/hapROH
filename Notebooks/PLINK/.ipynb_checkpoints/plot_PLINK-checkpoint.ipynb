{
 "cells": [
  {
   "cell_type": "markdown",
   "metadata": {},
   "source": [
    "# Plot Results of PLINK\n",
    "Load PLINK and HAPSBURG Results, and plot them on top of each other\n",
    "@author Harald Ringbauer, October 2019. \n",
    "All rights reserved"
   ]
  },
  {
   "cell_type": "code",
   "execution_count": 1,
   "metadata": {},
   "outputs": [
    {
     "name": "stdout",
     "output_type": "stream",
     "text": [
      "midway2-0401.rcc.local\n",
      "Midway jnovmbre partition detected.\n",
      "/project2/jnovembre/hringbauer/HAPSBURG\n",
      "CPU Count: 28\n"
     ]
    }
   ],
   "source": [
    "import pandas as pd\n",
    "import numpy as np\n",
    "import matplotlib.pyplot as plt\n",
    "import matplotlib.cm as cm\n",
    "from matplotlib import gridspec\n",
    "import socket\n",
    "import os as os\n",
    "import sys as sys\n",
    "import multiprocessing as mp\n",
    "import matplotlib.colors as cls\n",
    "import h5py\n",
    "\n",
    "from mpl_toolkits.basemap import Basemap\n",
    "from matplotlib.patches import Polygon\n",
    "from matplotlib.collections import PatchCollection\n",
    "\n",
    "socket_name = socket.gethostname()\n",
    "print(socket_name)\n",
    "if socket_name == \"VioletQueen\":\n",
    "    path = \"/home/harald/git/HAPSBURG/\"   # The Path on Harald's machine\n",
    "elif socket_name.startswith(\"midway2\"):\n",
    "    print(\"Midway jnovmbre partition detected.\")\n",
    "    path = \"/project2/jnovembre/hringbauer/HAPSBURG/\"  # The Path on Midway Cluster\n",
    "else: \n",
    "    raise RuntimeWarning(\"Not compatible machine. Check!!\")\n",
    "    \n",
    "os.chdir(path)  # Set the right Path (in line with Atom default)\n",
    "\n",
    "sys.path.append(\"./PackagesSupport/h5_python/\")\n",
    "from h5_functions import load_h5\n",
    "\n",
    "print(os.getcwd()) # Show the current working directory. Should be HAPSBURG/Notebooks/ParallelRuns\n",
    "print(f\"CPU Count: {mp.cpu_count()}\")"
   ]
  },
  {
   "cell_type": "markdown",
   "metadata": {},
   "source": [
    "# Plot HAPSBURG ROH vrs PLINK ROH"
   ]
  },
  {
   "cell_type": "markdown",
   "metadata": {},
   "source": [
    "### Function to load Data"
   ]
  },
  {
   "cell_type": "code",
   "execution_count": 15,
   "metadata": {},
   "outputs": [
    {
     "name": "stdout",
     "output_type": "stream",
     "text": [
      "Loaded HDF5\n",
      "Loaded 77652 variants\n",
      "Loaded 100 individuals\n",
      "['AD', 'GT']\n",
      "['ALT', 'MAP', 'POS', 'REF']\n"
     ]
    }
   ],
   "source": [
    "basepath = \"./Simulated/1000G_Mosaic/TSI5/ch3_6cm/output/iid0/chr3/\"\n",
    "\n",
    "path_plink_roh = basepath+\"plink/roh.csv\"\n",
    "path_h5 = \"./Simulated/1000G_Mosaic/TSI5/ch3_6cm/data.h5\"\n",
    "\n",
    "#input_folder = \"./Simulated/1000G_Mosaic/TSI/ch3_5cm/output/iid0/chr3/\"\n",
    "\n",
    "df_plink = pd.read_csv(path_plink_roh, sep=\",\", engine=\"python\")\n",
    "\n",
    "### Create the Mapping Dictionary\n",
    "f = load_h5(path=path_h5)\n",
    "#new_dict = dict(zip(f[\"variants/POS\"], f[\"variants/MAP\"]))\n",
    "\n",
    "### Create Begin and End Point in Morgan ###Takes about 10s\n",
    "ob_stat = np.loadtxt(basepath + \"hap.csv\", dtype=\"int\", delimiter=\",\")\n",
    "het = (ob_stat[0,:] != ob_stat[1,:])\n",
    "\n",
    "gmap = np.loadtxt(basepath + \"map.csv\", dtype=\"float\", delimiter=\",\")\n",
    "df_roh  = pd.read_csv(basepath + \"roh_gt.csv\", delimiter=\"\\t\")"
   ]
  },
  {
   "cell_type": "markdown",
   "metadata": {},
   "source": [
    "### Plotting Function"
   ]
  },
  {
   "cell_type": "code",
   "execution_count": 18,
   "metadata": {},
   "outputs": [],
   "source": [
    "def plot_roh_plink_hpbg(df_plink, df_roh, gmap, ob_stat, fs = 14, lw = 8, het_c=\"blue\", post_c=\"maroon\", \n",
    "                            cm_lim = [],figsize=(14,2)):\n",
    "    \"\"\"Plot ROH inferred from PLINK (df_plink) and HAPSBURG (df_roh)\"\"\"\n",
    "    plt.figure(figsize=figsize)\n",
    "    ax1=plt.gca()\n",
    "\n",
    "    ax1.hlines(y=[1.25]*len(df_plink), xmin=100 * df_plink[\"StartM\"], xmax= 100*df_plink[\"EndM\"], \n",
    "                    colors=\"red\", linewidth=lw, label=\"PLINK\")\n",
    "\n",
    "    plt.hlines(y=[1.14]*len(df_roh), xmin=100 * df_roh[\"ROH_Begin\"], xmax= 100 * df_roh[\"ROH_End\"], \n",
    "                            colors=\"green\", linewidth=lw, label=\"HAPSBURG (diploid mode)\")\n",
    "\n",
    "    ax1.set_ylim([-0.09,1.33])\n",
    "    ax1.plot(gmap*100, (het * 1.1 - 0.05), \"o\", ms=1, alpha=0.3, zorder=0, color=het_c)\n",
    "    ax2 = ax1.twinx()\n",
    "    ax2.set_ylim(ax1.get_ylim())\n",
    "    ax1.set_yticks([])\n",
    "    ax2.set_yticks(np.array([1,0]) * 1.1 - 0.05)\n",
    "    ax2.set_yticklabels([])\n",
    "    ax1.set_yticklabels([])\n",
    "    ax2.set_ylabel(f\"Het. Genotypes\", fontsize=fs*0.9, color=het_c)\n",
    "\n",
    "    #ax1.set_ylabel(\"Post. Probability\", fontsize=fs, color=post_c)\n",
    "    ax1.set_xlabel(\"SNP\", fontsize=fs)\n",
    "    ax1.set_xlabel(\"CentiMorgan\")\n",
    "\n",
    "    ax1.legend(loc = \"center right\", title=\"ROH Calls\")\n",
    "\n",
    "    if len(cm_lim)>0:\n",
    "        ax1.set_xlim(cm_lim)\n",
    "\n",
    "    ax1.set_title(\"1240 Mosaic TSI IID0; 5x4cm ROH\", fontsize=fs)\n",
    "    plt.show()"
   ]
  },
  {
   "cell_type": "markdown",
   "metadata": {},
   "source": [
    "### Run the Plotting Function"
   ]
  },
  {
   "cell_type": "code",
   "execution_count": 19,
   "metadata": {},
   "outputs": [
    {
     "data": {
      "image/png": "[encoded data removed]",
      "text/plain": [
       "<Figure size 1008x144 with 2 Axes>"
      ]
     },
     "metadata": {
      "needs_background": "light"
     },
     "output_type": "display_data"
    }
   ],
   "source": [
    "plot_roh_plink_hpbg(df_plink, df_roh, gmap, ob_stat)"
   ]
  },
  {
   "cell_type": "markdown",
   "metadata": {},
   "source": [
    "# Plot posterior of bcftools/ROH"
   ]
  },
  {
   "cell_type": "code",
   "execution_count": 66,
   "metadata": {},
   "outputs": [],
   "source": [
    "def plot_posterior_bcftools(post, map_post, df_roh, df_roh_gt, het=[], het_map=[], fs = 14, lw = 8, het_c=\"blue\", post_c=\"maroon\", \n",
    "                            cm_lim = [],figsize=(14,2), title=\"\"):\n",
    "    \"\"\"Plot ROH inferred from PLINK (df_plink) and HAPSBURG (df_roh)\"\"\"\n",
    "    plt.figure(figsize=figsize)\n",
    "    ax1=plt.gca()\n",
    "\n",
    "    ax1.hlines(y=[1.25]*len(df_roh), xmin=100 * df_roh[\"StartM\"], xmax= 100*df_roh[\"EndM\"], \n",
    "                    colors=\"red\", linewidth=lw, label=\"BCF Tools\")\n",
    "\n",
    "    plt.hlines(y=[1.14]*len(df_roh), xmin=100 * df_roh_gt[\"ROH_Begin\"], xmax= 100 * df_roh_gt[\"ROH_End\"], \n",
    "                            colors=\"green\", linewidth=lw, label=\"Ground Truth\")\n",
    "    \n",
    "    ### Plot the Posterior\n",
    "    ax1.plot(map_post*100, np.exp(post), linewidth=2, color=post_c, label=\"State 0\", zorder=1)\n",
    "    \n",
    "    ### Plot Heterozygosity\n",
    "    if len(het)>0:\n",
    "        ax1.plot(het_map*100, (het * 1.1 - 0.05), \"o\", ms=1, alpha=0.3, zorder=0, color=het_c)\n",
    "\n",
    "    ax1.set_ylim([-0.09,1.33])\n",
    "    ax2 = ax1.twinx()\n",
    "    ax2.set_ylim(ax1.get_ylim())\n",
    "    ax1.set_yticks([])\n",
    "    ax2.set_yticks(np.array([1,0]) * 1.1 - 0.05)\n",
    "    ax2.set_yticklabels([])\n",
    "    ax1.set_yticklabels([])\n",
    "    ax2.set_ylabel(f\"Het. Genotypes\", fontsize=fs*0.9, color=het_c)\n",
    "\n",
    "    ax1.set_ylabel(\"Post. Probability\", fontsize=fs, color=post_c)\n",
    "    ax1.set_xlabel(\"SNP\", fontsize=fs)\n",
    "    ax1.set_xlabel(\"CentiMorgan\")\n",
    "\n",
    "    #ax1.legend(loc = \"center right\", title=\"ROH Calls\")\n",
    "\n",
    "    if len(cm_lim)>0:\n",
    "        ax1.set_xlim(cm_lim)\n",
    "    \n",
    "    if len(title)>0:\n",
    "        ax1.set_title(title, fontsize=fs)\n",
    "    plt.show()"
   ]
  },
  {
   "cell_type": "code",
   "execution_count": 67,
   "metadata": {},
   "outputs": [],
   "source": [
    "basepath=\"./Simulated/1000G_Mosaic/TSI5/ch3_6cm/output/iid1/chr3/\"\n",
    "path_bcf_roh_gt = os.path.join(basepath, \"bcftools/roh_gt.csv\")\n",
    "path_bcf_roh = os.path.join(basepath, \"bcftools/roh.csv\")\n",
    "path_map_post = os.path.join(basepath, \"bcftools/map.csv\")\n",
    "path_post = os.path.join(basepath, \"bcftools/posterior0.csv\")\n",
    "\n",
    "\n",
    "df_roh_gt = pd.read_csv(path_bcf_roh_gt, sep=\"\\t\", engine=\"python\")\n",
    "df_roh_bcf =  pd.read_csv(path_bcf_roh, sep=\",\", engine=\"python\")\n",
    "\n",
    "post = np.loadtxt(path_post)\n",
    "post_map = np.loadtxt(path_map_post)\n",
    "\n",
    "### Create Begin and End Point in Morgan ###Takes about 10s\n",
    "ob_stat = np.loadtxt(basepath + \"hap.csv\", dtype=\"int\", delimiter=\",\")\n",
    "het = (ob_stat[0,:] != ob_stat[1,:])\n",
    "het_map = np.loadtxt(basepath + \"map.csv\", dtype=\"float\", delimiter=\",\")"
   ]
  },
  {
   "cell_type": "code",
   "execution_count": 75,
   "metadata": {},
   "outputs": [
    {
     "data": {
      "image/png": "[encoded data removed]",
      "text/plain": [
       "<Figure size 1008x144 with 2 Axes>"
      ]
     },
     "metadata": {
      "needs_background": "light"
     },
     "output_type": "display_data"
    }
   ],
   "source": [
    "plot_posterior_bcftools(post, post_map, df_roh_bcf, df_roh_gt, het, het_map, cm_lim = [40,70], title=\"bcftools Posterior, Chr.3, TSI Mosaic iid1\")"
   ]
  },
  {
   "cell_type": "markdown",
   "metadata": {},
   "source": [
    "# Area 51"
   ]
  },
  {
   "cell_type": "code",
   "execution_count": 62,
   "metadata": {},
   "outputs": [
    {
     "data": {
      "text/html": [
       "<div>\n",
       "<style scoped>\n",
       "    .dataframe tbody tr th:only-of-type {\n",
       "        vertical-align: middle;\n",
       "    }\n",
       "\n",
       "    .dataframe tbody tr th {\n",
       "        vertical-align: top;\n",
       "    }\n",
       "\n",
       "    .dataframe thead th {\n",
       "        text-align: right;\n",
       "    }\n",
       "</style>\n",
       "<table border=\"1\" class=\"dataframe\">\n",
       "  <thead>\n",
       "    <tr style=\"text-align: right;\">\n",
       "      <th></th>\n",
       "      <th>ROH_Begin</th>\n",
       "      <th>ROH_End</th>\n",
       "      <th>iid</th>\n",
       "      <th>copyiid</th>\n",
       "      <th>chr</th>\n",
       "    </tr>\n",
       "  </thead>\n",
       "  <tbody>\n",
       "    <tr>\n",
       "      <th>0</th>\n",
       "      <td>0.215808</td>\n",
       "      <td>0.275808</td>\n",
       "      <td>iid1</td>\n",
       "      <td>NA20531</td>\n",
       "      <td>3</td>\n",
       "    </tr>\n",
       "    <tr>\n",
       "      <th>1</th>\n",
       "      <td>0.495953</td>\n",
       "      <td>0.555953</td>\n",
       "      <td>iid1</td>\n",
       "      <td>NA20753</td>\n",
       "      <td>3</td>\n",
       "    </tr>\n",
       "    <tr>\n",
       "      <th>2</th>\n",
       "      <td>1.107986</td>\n",
       "      <td>1.167986</td>\n",
       "      <td>iid1</td>\n",
       "      <td>NA20534</td>\n",
       "      <td>3</td>\n",
       "    </tr>\n",
       "    <tr>\n",
       "      <th>3</th>\n",
       "      <td>1.377671</td>\n",
       "      <td>1.437671</td>\n",
       "      <td>iid1</td>\n",
       "      <td>NA20766</td>\n",
       "      <td>3</td>\n",
       "    </tr>\n",
       "    <tr>\n",
       "      <th>4</th>\n",
       "      <td>1.838597</td>\n",
       "      <td>1.898597</td>\n",
       "      <td>iid1</td>\n",
       "      <td>NA20521</td>\n",
       "      <td>3</td>\n",
       "    </tr>\n",
       "  </tbody>\n",
       "</table>\n",
       "</div>"
      ],
      "text/plain": [
       "   ROH_Begin   ROH_End   iid  copyiid  chr\n",
       "0   0.215808  0.275808  iid1  NA20531    3\n",
       "1   0.495953  0.555953  iid1  NA20753    3\n",
       "2   1.107986  1.167986  iid1  NA20534    3\n",
       "3   1.377671  1.437671  iid1  NA20766    3\n",
       "4   1.838597  1.898597  iid1  NA20521    3"
      ]
     },
     "execution_count": 62,
     "metadata": {},
     "output_type": "execute_result"
    }
   ],
   "source": [
    "df_roh_gt"
   ]
  },
  {
   "cell_type": "code",
   "execution_count": null,
   "metadata": {},
   "outputs": [],
   "source": []
  }
 ],
 "metadata": {
  "kernelspec": {
   "display_name": "Python 3",
   "language": "python",
   "name": "python3"
  },
  "language_info": {
   "codemirror_mode": {
    "name": "ipython",
    "version": 3
   },
   "file_extension": ".py",
   "mimetype": "text/x-python",
   "name": "python",
   "nbconvert_exporter": "python",
   "pygments_lexer": "ipython3",
   "version": "3.7.0"
  }
 },
 "nbformat": 4,
 "nbformat_minor": 2
}
