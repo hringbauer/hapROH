{
 "cells": [
  {
   "cell_type": "markdown",
   "metadata": {},
   "source": [
    "# Prepare the genetic map as well as the allele Frequencies for bcfTools"
   ]
  },
  {
   "cell_type": "code",
   "execution_count": 1,
   "metadata": {},
   "outputs": [
    {
     "name": "stdout",
     "output_type": "stream",
     "text": [
      "midway2-0401.rcc.local\n",
      "Midway jnovmbre partition detected.\n",
      "/project2/jnovembre/hringbauer/HAPSBURG\n",
      "CPU Count: 28\n"
     ]
    }
   ],
   "source": [
    "import pandas as pd\n",
    "import numpy as np\n",
    "import socket\n",
    "import os as os\n",
    "import sys as sys\n",
    "import multiprocessing as mp\n",
    "import h5py\n",
    "\n",
    "socket_name = socket.gethostname()\n",
    "print(socket_name)\n",
    "if socket_name == \"VioletQueen\":\n",
    "    path = \"/home/harald/git/HAPSBURG/\"   # The Path on Harald's machine\n",
    "elif socket_name.startswith(\"midway2\"):\n",
    "    print(\"Midway jnovmbre partition detected.\")\n",
    "    path = \"/project2/jnovembre/hringbauer/HAPSBURG/\"  # The Path on Midway Cluster\n",
    "else: \n",
    "    raise RuntimeWarning(\"Not compatible machine. Check!!\")\n",
    "    \n",
    "os.chdir(path)  # Set the right Path (in line with Atom default)\n",
    "\n",
    "sys.path.append(\"./PackagesSupport/h5_python/\")\n",
    "from h5_functions import load_h5   # Import Function to convert hdf5 to vcf\n",
    "\n",
    "print(os.getcwd()) # Show the current working directory. Should be HAPSBURG/Notebooks/ParallelRuns\n",
    "print(f\"CPU Count: {mp.cpu_count()}\")"
   ]
  },
  {
   "cell_type": "markdown",
   "metadata": {},
   "source": [
    "### Generate the Map File\n",
    "position COMBINED_rate(cM/Mb) Genetic_Map(cM)"
   ]
  },
  {
   "cell_type": "code",
   "execution_count": 4,
   "metadata": {},
   "outputs": [],
   "source": [
    "def prep_map_file(snp1240k_path = \"./Data/1000Genomes/Markers/MinMyc.snp\", ch=3):\n",
    "    \"\"\"Prepare map file in bcftools format at save_path from snp1240k_path\"\"\"\n",
    "    save_path = f\"./Data/1000Genomes/Markers/rec_map_bcf.chr{ch}.txt\"\n",
    "    \n",
    "    df_snp = pd.read_csv(snp1240k_path, header=None, sep=r\"\\s+\", engine=\"python\")\n",
    "    df_snp.columns = [\"SNP\", \"chr\", \"map\", \"pos\", \"ref\", \"alt\"]\n",
    "    df_snp[\"map\"] = df_snp[\"map\"] * 100  # Switch to cm Map Position\n",
    "    df_snp = df_snp[df_snp[\"chr\"] == ch]\n",
    "    print(f\"Loaded {len(df_snp)} SNPs from Chr. {ch}\")\n",
    "    \n",
    "    df_save = df_snp[[\"pos\", \"map\", \"map\"]].copy()\n",
    "    df_save.columns = [\"position\",\"COMBINED_rate(cM/Mb)\", \"Genetic_Map(cM)\"]\n",
    "    df_save[\"COMBINED_rate(cM/Mb)\"] = 1.0\n",
    "    df_save.to_csv(save_path, sep=\" \", index=None)\n",
    "    print(f\"Created File {save_path} with {len(df_save)} SNPs.\")"
   ]
  },
  {
   "cell_type": "code",
   "execution_count": 5,
   "metadata": {},
   "outputs": [
    {
     "name": "stdout",
     "output_type": "stream",
     "text": [
      "Loaded 81416 SNPs from Chr. 3\n",
      "Created File ./Data/1000Genomes/Markers/rec_map_bcf.chr3.txt with 81416 SNPs.\n",
      "CPU times: user 8.34 s, sys: 428 ms, total: 8.77 s\n",
      "Wall time: 8.77 s\n"
     ]
    }
   ],
   "source": [
    "%%time\n",
    "prep_map_file(ch=3)"
   ]
  },
  {
   "cell_type": "markdown",
   "metadata": {},
   "source": [
    "### Generate the Allele Frequency File\n",
    "Tab delimited file with:\n",
    "CHROM\\tPOS\\tREF,ALT\\tAF"
   ]
  },
  {
   "cell_type": "code",
   "execution_count": 7,
   "metadata": {},
   "outputs": [],
   "source": [
    "def prep_af_file(h5_path = \"./Data/1000Genomes/HDF5/1240kHDF5/Eur1240chr3.hdf5\", ch=3):\n",
    "    \"\"\"Prepare Allele Frequency File for bcftools from h5\"\"\"\n",
    "    savepath = f\"./Data/1000Genomes/Markers/af_1000G_EUR_bcf.chr{ch}.txt\"\n",
    "\n",
    "    f = load_h5(path = h5_path)\n",
    "    p = np.mean(np.mean(f[\"calldata/GT\"], axis=1), axis=1)   # Calculate Mean Allele Frequencies\n",
    "    df_t = pd.DataFrame({\"CHROM\":f[\"variants/CHROM\"][:], \"POS\":f[\"variants/POS\"][:], \n",
    "                         \"REF\":f[\"variants/REF\"][:], \"ALT\":f[\"variants/ALT\"][:,0],\n",
    "                          \"AF\":p})\n",
    "    \n",
    "    #df_t[\"REF\"] = df_t[\"REF\"] +\",\"+ df_t[\"ALT\"]\n",
    "    #df_t.drop(columns=\"ALT\", inplace=True) # Delete Merged column\n",
    "\n",
    "    df_t.to_csv(savepath, sep=\"\\t\", index=None, header=False) # Write the tab delimited file\n",
    "    \n",
    "    savepath_c = savepath + \".gz\"\n",
    "    !bgzip -c $savepath > $savepath_c # Compress\n",
    "    !tabix -s1 -b2 -e2 $savepath_c   # Tabix\n",
    "    \n",
    "    print(f\"Saved {len(df_t)} AFs to file {savepath_c}\")"
   ]
  },
  {
   "cell_type": "code",
   "execution_count": 8,
   "metadata": {},
   "outputs": [
    {
     "name": "stdout",
     "output_type": "stream",
     "text": [
      "Loaded HDF5\n",
      "Loaded 77652 variants\n",
      "Loaded 503 individuals\n",
      "['GT']\n",
      "['ALT', 'CHROM', 'FILTER_PASS', 'ID', 'MAP', 'POS', 'QUAL', 'REF']\n",
      "Saved 77652 AFs to file ./Data/1000Genomes/Markers/af_1000G_EUR_bcf.chr3.txt.gz\n",
      "CPU times: user 2.34 s, sys: 170 ms, total: 2.51 s\n",
      "Wall time: 3.25 s\n"
     ]
    }
   ],
   "source": [
    "%%time\n",
    "prep_af_file(ch=3)"
   ]
  },
  {
   "cell_type": "markdown",
   "metadata": {},
   "source": [
    "# Area 51"
   ]
  },
  {
   "cell_type": "code",
   "execution_count": 12,
   "metadata": {},
   "outputs": [
    {
     "data": {
      "text/plain": [
       "['calldata', 'samples', 'variants']"
      ]
     },
     "execution_count": 12,
     "metadata": {},
     "output_type": "execute_result"
    }
   ],
   "source": [
    "list(f)"
   ]
  },
  {
   "cell_type": "code",
   "execution_count": 7,
   "metadata": {},
   "outputs": [],
   "source": [
    "ch=3\n",
    "save_path = f\"./Data/1000Genomes/Markers/rec_map_bcf.chr{ch}.txt\"\n",
    "\n",
    "df_t = pd.read_csv(save_path, sep=\" \")"
   ]
  },
  {
   "cell_type": "code",
   "execution_count": 50,
   "metadata": {},
   "outputs": [],
   "source": [
    "savepath = \"./Data/1000Genomes/Markers/af_1000G_EUR_bcf.chr3.txt\"\n",
    "df_t = pd.read_csv(savepath, sep=\"\\t\", header=None)"
   ]
  },
  {
   "cell_type": "code",
   "execution_count": null,
   "metadata": {},
   "outputs": [],
   "source": []
  }
 ],
 "metadata": {
  "kernelspec": {
   "display_name": "Python 3",
   "language": "python",
   "name": "python3"
  },
  "language_info": {
   "codemirror_mode": {
    "name": "ipython",
    "version": 3
   },
   "file_extension": ".py",
   "mimetype": "text/x-python",
   "name": "python",
   "nbconvert_exporter": "python",
   "pygments_lexer": "ipython3",
   "version": "3.7.0"
  }
 },
 "nbformat": 4,
 "nbformat_minor": 2
}
