{
 "cells": [
  {
   "cell_type": "markdown",
   "metadata": {},
   "source": [
    "# Python wrapper for PLINK\n",
    "Contains additional functions to mimic output of HAPSBURG for downstream analysis\n",
    "@Harald Ringbauer, October 2019"
   ]
  },
  {
   "cell_type": "code",
   "execution_count": 2,
   "metadata": {},
   "outputs": [
    {
     "name": "stdout",
     "output_type": "stream",
     "text": [
      "VioletQueen\n",
      "/home/harald/git/HAPSBURG\n",
      "CPU Count: 4\n"
     ]
    }
   ],
   "source": [
    "import pandas as pd\n",
    "import numpy as np\n",
    "import socket\n",
    "import os as os\n",
    "import sys as sys\n",
    "import multiprocessing as mp\n",
    "import h5py\n",
    "\n",
    "socket_name = socket.gethostname()\n",
    "print(socket_name)\n",
    "if socket_name == \"VioletQueen\":\n",
    "    path = \"/home/harald/git/HAPSBURG/\"   # The Path on Harald's machine\n",
    "elif socket_name.startswith(\"midway2\"):\n",
    "    print(\"Midway jnovmbre partition detected.\")\n",
    "    path = \"/project2/jnovembre/hringbauer/HAPSBURG/\"  # The Path on Midway Cluster\n",
    "else: \n",
    "    raise RuntimeWarning(\"Not compatible machine. Check!!\")\n",
    "    \n",
    "os.chdir(path)  # Set the right Path (in line with Atom default)\n",
    "\n",
    "sys.path.append(\"./PackagesSupport/h5_python/\")\n",
    "from h5_functions import hdf5_to_vcf, load_h5   # Import Function to convert hdf5 to vcf\n",
    "sys.path.append(\"./PackagesSupport/parallel_runs/\")\n",
    "from helper_functions import prepare_path, create_folders, postprocess_iid  # To split up ground truth ROH\n",
    "\n",
    "print(os.getcwd()) # Show the current working directory. Should be HAPSBURG/Notebooks/ParallelRuns\n",
    "print(f\"CPU Count: {mp.cpu_count()}\")"
   ]
  },
  {
   "cell_type": "markdown",
   "metadata": {},
   "source": [
    "### The PLINK core function"
   ]
  },
  {
   "cell_type": "code",
   "execution_count": 9,
   "metadata": {},
   "outputs": [],
   "source": [
    "def run_plink(path_vcf, output_folder, window_snp=50, kb=500, het=1, threshold=0.05, gap=1000, density=50):\n",
    "    \"\"\"Run PLINK ROH Caller on path_vcf, and save results in output_folder\"\"\"\n",
    "    !module load plink; plink --homozyg --vcf $path_vcf --homozyg-window-snp \\\n",
    "    $window_snp --homozyg-kb $kb --homozyg-window-het $het \\\n",
    "    --homozyg-window-threshold $threshold --homozyg-gap $gap \\\n",
    "    --homozyg-density $density --out $output_folder"
   ]
  },
  {
   "cell_type": "markdown",
   "metadata": {},
   "source": [
    "# Functions to modify PLINK output for simulated Mosaic Data\n",
    "Run PLINK on simulated Mosaic Data, for each individual, and save output into PLINK output folder\n",
    "For post-processing: Need roh.csv as well as roh_gt.csv. The latter will be needed to copy over"
   ]
  },
  {
   "cell_type": "code",
   "execution_count": 3,
   "metadata": {},
   "outputs": [],
   "source": [
    "def post_process_plink(plink_folder, new_dict):\n",
    "    \"\"\"Post Process the PLINK Result to match Hapsburg output. Load dataframe from plink_folder,\n",
    "    modify and return data frame\"\"\"\n",
    "    path_plink_roh = plink_folder + \"roh.hom\"\n",
    "    df_plink = pd.read_csv(path_plink_roh, sep=r\"\\s+\", engine=\"python\")\n",
    "\n",
    "    df_plink[\"StartM\"] = df_plink[\"POS1\"].map(new_dict)\n",
    "    df_plink[\"EndM\"] = df_plink[\"POS2\"].map(new_dict)\n",
    "    df_plink[\"lengthM\"] = df_plink[\"EndM\"] - df_plink[\"StartM\"]\n",
    "    df_plink.rename(columns = {\"POS1\":\"Start\", \"POS2\": \"End\", \"IID\":\"iid\", \"CHR\":\"ch\"}, inplace=True)\n",
    "    df_plink[\"length\"] = df_plink[\"End\"] - df_plink[\"Start\"]\n",
    "    # Add all fields for roh.csv\n",
    "    df_plink = df_plink[[\"Start\", \"End\", \"StartM\", \"EndM\", \"length\", \"lengthM\", \"iid\", \"ch\"]]\n",
    "    return df_plink\n",
    "        \n",
    "#############################################\n",
    "### Combine all subfunctions\n",
    "\n",
    "def full_plink_mosaic(input_base_folder, ch=3, prefix_out=\"plink/\"):\n",
    "    \"\"\"Run PLINK on Mosaic Data Set in ./Simulated\"\"\"\n",
    "    \n",
    "    input_h5, input_vcf, plink_folder = create_folders(input_base_folder, outfolder=\"plink_out/\")\n",
    "    hdf5_to_vcf(input_h5, input_vcf, chrom=ch) # Convert to VCF\n",
    "    \n",
    "    run_plink(input_vcf, plink_folder + \"roh\") # 1.1: Run PLINK on VCF\n",
    "    \n",
    "    ### Create the Mapping Dictionary\n",
    "    print(\"Creating Map Dict...\")\n",
    "    f = load_h5(path=input_h5, output=False)\n",
    "    map_dct = dict(zip(f[\"variants/POS\"], f[\"variants/MAP\"]))\n",
    "    iids = f[\"samples\"][:] # Get the IIDs\n",
    "    \n",
    "    print(\"Splitting up Plink results and GT...\")\n",
    "    df_plink =  post_process_plink(plink_folder, map_dct)\n",
    "    postprocess_iid(df_plink, input_base_folder, iids, ch, prefix_out)\n",
    "    print(f\"Finished {len(iids)} Individuals!\")"
   ]
  },
  {
   "cell_type": "markdown",
   "metadata": {},
   "source": [
    "### Run all Individuals for Mosaic Folder"
   ]
  },
  {
   "cell_type": "code",
   "execution_count": null,
   "metadata": {},
   "outputs": [],
   "source": [
    "%%time\n",
    "full_plink_mosaic(input_base_folder = \"./Simulated/1000G_Mosaic/TSI5/ch3_6cm\",\n",
    "                  ch=3, prefix_out=\"plink/\")"
   ]
  },
  {
   "cell_type": "markdown",
   "metadata": {},
   "source": [
    "### Run all lengths of copied in chromosomes"
   ]
  },
  {
   "cell_type": "code",
   "execution_count": null,
   "metadata": {},
   "outputs": [],
   "source": [
    "base_path =  \"./Simulated/1000G_Mosaic/TSI5/\"\n",
    "\n",
    "for l in [0, 2, 4, 6, 8, 10]:\n",
    "    input_base_folder = base_path + f\"ch3_{l}cm\"\n",
    "    print(f\"\\nDoing {input_base_folder}\")\n",
    "    full_plink_mosaic(input_base_folder = input_base_folder, ch=3, prefix_out=\"plink/\")"
   ]
  },
  {
   "cell_type": "markdown",
   "metadata": {},
   "source": [
    "# Area 51: Test code"
   ]
  },
  {
   "cell_type": "code",
   "execution_count": null,
   "metadata": {},
   "outputs": [],
   "source": []
  }
 ],
 "metadata": {
  "kernelspec": {
   "display_name": "Python 3",
   "language": "python",
   "name": "python3"
  },
  "language_info": {
   "codemirror_mode": {
    "name": "ipython",
    "version": 3
   },
   "file_extension": ".py",
   "mimetype": "text/x-python",
   "name": "python",
   "nbconvert_exporter": "python",
   "pygments_lexer": "ipython3",
   "version": "3.7.0"
  }
 },
 "nbformat": 4,
 "nbformat_minor": 2
}
