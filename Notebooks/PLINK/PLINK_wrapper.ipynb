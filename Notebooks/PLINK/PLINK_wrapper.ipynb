{
 "cells": [
  {
   "cell_type": "markdown",
   "metadata": {},
   "source": [
    "# Python wrapper for PLINK\n",
    "Contains additional functions to mimic output of HAPSBURG for downstream analysis\n",
    "@Harald Ringbauer, October 2019"
   ]
  },
  {
   "cell_type": "code",
   "execution_count": 1,
   "metadata": {},
   "outputs": [
    {
     "name": "stdout",
     "output_type": "stream",
     "text": [
      "midway2-0401.rcc.local\n",
      "Midway jnovmbre partition detected.\n",
      "/project2/jnovembre/hringbauer/HAPSBURG\n",
      "CPU Count: 28\n"
     ]
    }
   ],
   "source": [
    "import pandas as pd\n",
    "import numpy as np\n",
    "import socket\n",
    "import os as os\n",
    "import sys as sys\n",
    "import multiprocessing as mp\n",
    "import h5py\n",
    "\n",
    "socket_name = socket.gethostname()\n",
    "print(socket_name)\n",
    "if socket_name == \"VioletQueen\":\n",
    "    path = \"/home/harald/git/HAPSBURG/\"   # The Path on Harald's machine\n",
    "elif socket_name.startswith(\"midway2\"):\n",
    "    print(\"Midway jnovmbre partition detected.\")\n",
    "    path = \"/project2/jnovembre/hringbauer/HAPSBURG/\"  # The Path on Midway Cluster\n",
    "else: \n",
    "    raise RuntimeWarning(\"Not compatible machine. Check!!\")\n",
    "    \n",
    "os.chdir(path)  # Set the right Path (in line with Atom default)\n",
    "\n",
    "sys.path.append(\"./PackagesSupport/h5_python/\")\n",
    "from h5_functions import hdf5_to_vcf, load_h5   # Import Function to convert hdf5 to vcf\n",
    "sys.path.append(\"./PackagesSupport/parallel_runs/\")\n",
    "from helper_functions import split_up_roh_df, prepare_path  # To split up ground truth ROH\n",
    "\n",
    "print(os.getcwd()) # Show the current working directory. Should be HAPSBURG/Notebooks/ParallelRuns\n",
    "print(f\"CPU Count: {mp.cpu_count()}\")"
   ]
  },
  {
   "cell_type": "markdown",
   "metadata": {},
   "source": [
    "### The PLINK core function"
   ]
  },
  {
   "cell_type": "code",
   "execution_count": 9,
   "metadata": {},
   "outputs": [],
   "source": [
    "def run_plink(path_vcf, output_folder, window_snp=50, kb=500, het=1, threshold=0.05, gap=1000, density=50):\n",
    "    \"\"\"Run PLINK ROH Caller on path_vcf, and save results in output_folder\"\"\"\n",
    "    !module load plink; plink --homozyg --vcf $path_vcf --homozyg-window-snp \\\n",
    "    $window_snp --homozyg-kb $kb --homozyg-window-het $het \\\n",
    "    --homozyg-window-threshold $threshold --homozyg-gap $gap \\\n",
    "    --homozyg-density $density --out $output_folder"
   ]
  },
  {
   "cell_type": "markdown",
   "metadata": {},
   "source": [
    "# Functions to modify PLINK output for simulated Mosaic Data\n",
    "Run PLINK on simulated Mosaic Data, for each individual, and save output into PLINK output folder\n",
    "For post-processing: Need roh.csv as well as roh_gt.csv. The latter will be needed to copy over"
   ]
  },
  {
   "cell_type": "code",
   "execution_count": 10,
   "metadata": {},
   "outputs": [],
   "source": [
    "### Step0: Convert HDF5 to VCF\n",
    "def create_folders(input_base_folder):\n",
    "    \"\"\"Create Folders if not existing and returns \"\"\"\n",
    "    input_h5 = os.path.join(input_base_folder, \"data.h5\")\n",
    "    input_vcf = os.path.join(input_base_folder, \"data.vcf\")\n",
    "    \n",
    "    if not os.path.exists(input_h5):\n",
    "        raise RuntimeError(f\"Create .vcf file: {input_h5}\")\n",
    "        \n",
    "    plink_folder = os.path.join(input_base_folder,\"plink_out/\")\n",
    "    if not os.path.exists(plink_folder):\n",
    "        print(f\"Creating Folder for: {plink_folder}\")\n",
    "        os.makedirs(plink_folder)\n",
    "    \n",
    "    return input_h5, input_vcf, plink_folder\n",
    "\n",
    "def post_process_plink(plink_folder, new_dict):\n",
    "    \"\"\"Post Process the PLINK Result to match Hapsburg output. Load dataframe from plink_folder,\n",
    "    modify and return data frame\"\"\"\n",
    "    path_plink_roh = plink_folder + \"roh.hom\"\n",
    "    df_plink = pd.read_csv(path_plink_roh, sep=r\"\\s+\", engine=\"python\")\n",
    "\n",
    "    df_plink[\"StartM\"] = df_plink[\"POS1\"].map(new_dict)\n",
    "    df_plink[\"EndM\"] = df_plink[\"POS2\"].map(new_dict)\n",
    "    df_plink[\"lengthM\"] = df_plink[\"EndM\"] - df_plink[\"StartM\"]\n",
    "    df_plink.rename(columns = {\"POS1\":\"Start\", \"POS2\": \"End\", \"IID\":\"iid\", \"CHR\":\"ch\"}, inplace=True)\n",
    "    df_plink[\"length\"] = df_plink[\"End\"] - df_plink[\"Start\"]\n",
    "    # Add all fields for roh.csv\n",
    "    df_plink = df_plink[[\"Start\", \"End\", \"StartM\", \"EndM\", \"length\", \"lengthM\", \"iid\", \"ch\"]]\n",
    "    return df_plink\n",
    "\n",
    "# Step 2.2: Split up results into roh.csv & roh_gt.csv\n",
    "def split_up_inferred_roh(df_t, iid, save_path):\n",
    "    \"\"\"Extract only ROH from Individual iid and saves it to save_path\"\"\"\n",
    "    df_iid = df_t[df_t[\"iid\"]==iid]\n",
    "    df_iid.to_csv(save_path, index=False)\n",
    "    \n",
    "def postprocess_iid(df_plink, input_base_folder, iids, ch=3, prefix_out=\"\"):\n",
    "    \"\"\"Split up results into roh.csv and roh_gt.csv for each IID.\n",
    "    df_plink: Data Frame with Plink results, formated correctly\"\"\"\n",
    "\n",
    "    for iid in iids:\n",
    "        output_base_folder = os.path.join(input_base_folder, \"output/\")\n",
    "        path_out = prepare_path(output_base_folder, iid, ch, prefix_out=prefix_out, logfile=False)\n",
    "\n",
    "        path_inferred = os.path.join(path_out, \"roh.csv\")\n",
    "        split_up_inferred_roh(df_plink, iid, save_path=path_inferred)   # Split up Inferred ROH\n",
    "        split_up_roh_df(input_base_folder, path_out, iid)  # Split up Ground Truth ROH\n",
    "        \n",
    "        \n",
    "#############################################\n",
    "### Combine all subfunctions\n",
    "\n",
    "def full_plink_mosaic(input_base_folder, ch=3, prefix_out=\"plink/\"):\n",
    "    \"\"\"Run PLINK on Mosaic Data Set in ./Simulated\"\"\"\n",
    "    \n",
    "    input_h5, input_vcf, plink_folder = create_folders(input_base_folder)\n",
    "    hdf5_to_vcf(input_h5, input_vcf, chrom=ch) # Convert to VCF\n",
    "    \n",
    "    run_plink(input_vcf, plink_folder + \"roh\") # 1.1: Run PLINK on VCF\n",
    "    \n",
    "    ### Create the Mapping Dictionary\n",
    "    print(\"Creating Map Dict...\")\n",
    "    f = load_h5(path=input_h5, output=False)\n",
    "    map_dct = dict(zip(f[\"variants/POS\"], f[\"variants/MAP\"]))\n",
    "    iids = f[\"samples\"][:] # Get the IIDs\n",
    "    \n",
    "    print(\"Splitting up Plink results and GT...\")\n",
    "    df_plink =  post_process_plink(plink_folder, map_dct)\n",
    "    postprocess_iid(df_plink, input_base_folder, iids, ch, prefix_out)\n",
    "    print(f\"Finished {len(iids)} Individuals!\")"
   ]
  },
  {
   "cell_type": "markdown",
   "metadata": {},
   "source": [
    "### Run all Individuals for Mosaic Folder"
   ]
  },
  {
   "cell_type": "code",
   "execution_count": null,
   "metadata": {},
   "outputs": [],
   "source": [
    "%%time\n",
    "full_plink_mosaic(input_base_folder = \"./Simulated/1000G_Mosaic/TSI5/ch3_6cm\",\n",
    "                  ch=3, prefix_out=\"plink/\")"
   ]
  },
  {
   "cell_type": "markdown",
   "metadata": {},
   "source": [
    "### Run all lengths of copied in chromosomes"
   ]
  },
  {
   "cell_type": "code",
   "execution_count": null,
   "metadata": {},
   "outputs": [],
   "source": [
    "base_path =  \"./Simulated/1000G_Mosaic/TSI5/\"\n",
    "\n",
    "for l in [0, 2, 4, 6, 8, 10]:\n",
    "    input_base_folder = base_path + f\"ch3_{l}cm\"\n",
    "    print(f\"\\nDoing {input_base_folder}\")\n",
    "    full_plink_mosaic(input_base_folder = input_base_folder, ch=3, prefix_out=\"plink/\")"
   ]
  },
  {
   "cell_type": "markdown",
   "metadata": {},
   "source": [
    "# Call ROH on empirical Individual"
   ]
  },
  {
   "cell_type": "code",
   "execution_count": null,
   "metadata": {},
   "outputs": [],
   "source": [
    "### Convert from VCF to HDF5\n",
    "\n",
    "iids = []\n"
   ]
  },
  {
   "cell_type": "code",
   "execution_count": 15,
   "metadata": {},
   "outputs": [],
   "source": [
    "### Call ROH\n",
    "\n",
    "\n"
   ]
  },
  {
   "cell_type": "code",
   "execution_count": null,
   "metadata": {},
   "outputs": [],
   "source": [
    "### Postprocess ROH csv"
   ]
  },
  {
   "cell_type": "markdown",
   "metadata": {},
   "source": [
    "# Area 51: Test code"
   ]
  },
  {
   "cell_type": "code",
   "execution_count": 19,
   "metadata": {},
   "outputs": [
    {
     "name": "stdout",
     "output_type": "stream",
     "text": [
      "Loaded HDF5\n",
      "Loaded 1115215 variants\n",
      "Loaded 1 individuals\n",
      "['AD', 'GT']\n",
      "['ALT', 'CHROM', 'POS', 'REF']\n"
     ]
    }
   ],
   "source": [
    "### Figure out variants\n",
    "def load_h5(path, output=True):\n",
    "    \"\"\"Load HDF5 from path and return hdf5 object\"\"\"\n",
    "    f = h5py.File(path, \"r\") # Load for Sanity Check. See below!\n",
    "\n",
    "    if output == True:\n",
    "        print(\"Loaded HDF5\")\n",
    "        print(\"Loaded %i variants\" % np.shape(f[\"calldata/GT\"])[0])\n",
    "        print(\"Loaded %i individuals\" % np.shape(f[\"calldata/GT\"])[1])\n",
    "        print(list(f[\"calldata\"].keys()))\n",
    "        print(list(f[\"variants\"].keys()))\n",
    "        #self.f[\"samples\"] # Samples Vector\n",
    "\n",
    "    ### Sanity Check whether both Genotypes are there and nothing else\n",
    "    assert(np.min(f[\"calldata/GT\"]) >= -1)\n",
    "    assert(np.max(f[\"calldata/GT\"]) <= 1)\n",
    "    \n",
    "    return f\n",
    "\n",
    "f = load_h5(path=\"./Data/SA_1240kHDF5/Stuttgart.h5\")"
   ]
  },
  {
   "cell_type": "code",
   "execution_count": 26,
   "metadata": {},
   "outputs": [
    {
     "data": {
      "text/plain": [
       "array([[ 0, 24],\n",
       "       [23,  0],\n",
       "       [ 0, 13],\n",
       "       [ 0, 17],\n",
       "       [ 0, 18],\n",
       "       [ 0, 24],\n",
       "       [ 0, 29],\n",
       "       [ 7,  0],\n",
       "       [13,  7],\n",
       "       [ 6,  9],\n",
       "       [ 0, 16],\n",
       "       [ 0, 22],\n",
       "       [ 9,  5],\n",
       "       [10, 10],\n",
       "       [ 0, 16],\n",
       "       [10,  1],\n",
       "       [ 0, 10],\n",
       "       [27,  0],\n",
       "       [ 9, 13],\n",
       "       [20,  0]], dtype=int32)"
      ]
     },
     "execution_count": 26,
     "metadata": {},
     "output_type": "execute_result"
    }
   ],
   "source": [
    "f[\"calldata/AD\"][:20,0,:]"
   ]
  },
  {
   "cell_type": "code",
   "execution_count": 27,
   "metadata": {},
   "outputs": [
    {
     "name": "stdout",
     "output_type": "stream",
     "text": [
      "/bin/sh: bcftools: command not found\n"
     ]
    }
   ],
   "source": [
    "!bcftools"
   ]
  },
  {
   "cell_type": "code",
   "execution_count": 29,
   "metadata": {},
   "outputs": [
    {
     "data": {
      "text/plain": [
       "<Figure size 640x480 with 1 Axes>"
      ]
     },
     "metadata": {},
     "output_type": "display_data"
    }
   ],
   "source": [
    "import matplotlib.pyplot as plt\n",
    "\n"
   ]
  },
  {
   "cell_type": "code",
   "execution_count": 44,
   "metadata": {},
   "outputs": [
    {
     "data": {
      "image/png": "[encoded data removed]",
      "text/plain": [
       "<Figure size 720x720 with 1 Axes>"
      ]
     },
     "metadata": {
      "needs_background": "light"
     },
     "output_type": "display_data"
    }
   ],
   "source": [
    "nsnps=200000\n",
    "\n",
    "plt.figure(figsize=(10,10))\n",
    "plt.scatter(f[\"calldata/AD\"][:nsnps,0,0], f[\"calldata/AD\"][:nsnps,0,1], s=10, alpha=0.02)\n",
    "plt.xlabel(\"Ref Count\")\n",
    "plt.ylabel(\"Alt Count\")\n",
    "plt.xlim([0,60])\n",
    "plt.ylim([0,60])\n",
    "plt.show()"
   ]
  },
  {
   "cell_type": "code",
   "execution_count": null,
   "metadata": {},
   "outputs": [],
   "source": []
  }
 ],
 "metadata": {
  "kernelspec": {
   "display_name": "Python 3",
   "language": "python",
   "name": "python3"
  },
  "language_info": {
   "codemirror_mode": {
    "name": "ipython",
    "version": 3
   },
   "file_extension": ".py",
   "mimetype": "text/x-python",
   "name": "python",
   "nbconvert_exporter": "python",
   "pygments_lexer": "ipython3",
   "version": "3.7.0"
  }
 },
 "nbformat": 4,
 "nbformat_minor": 2
}
