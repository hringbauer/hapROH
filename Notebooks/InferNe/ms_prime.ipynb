{
 "cells": [
  {
   "cell_type": "markdown",
   "metadata": {},
   "source": [
    "# Simulate ROH under constant Ne"
   ]
  },
  {
   "cell_type": "code",
   "execution_count": 18,
   "metadata": {},
   "outputs": [
    {
     "name": "stdout",
     "output_type": "stream",
     "text": [
      "midway2-0401.rcc.local\n",
      "Midway jnovmbre partition detected.\n",
      "/project2/jnovembre/hringbauer/HAPSBURG\n",
      "CPU Count: 28\n"
     ]
    }
   ],
   "source": [
    "import numpy as np\n",
    "import os  # For Saving to Folder\n",
    "import pandas as pd\n",
    "import matplotlib.pyplot as plt\n",
    "import socket\n",
    "import os as os\n",
    "import sys as sys\n",
    "import multiprocessing as mp\n",
    "\n",
    "import msprime\n",
    "import tskit\n",
    "\n",
    "### For Arial Font\n",
    "from matplotlib import rcParams\n",
    "rcParams['font.family'] = 'sans-serif'   # Set the defaul\n",
    "rcParams['font.sans-serif'] = ['Arial']  # Make sure to have the font installed (it is on cluster for Harald)\n",
    "\n",
    "socket_name = socket.gethostname()\n",
    "print(socket_name)\n",
    "if socket_name == \"VioletQueen\":\n",
    "    path = \"/home/harald/git/HAPSBURG/\"   # The Path on Harald's machine\n",
    "elif socket_name.startswith(\"midway2\"):\n",
    "    print(\"Midway jnovmbre partition detected.\")\n",
    "    path = \"/project2/jnovembre/hringbauer/HAPSBURG/\"  # The Path on Midway Cluster\n",
    "elif socket_name.startswith(\"Harald-Laptop\"):\n",
    "    print(\"Harald laptop detected.\")\n",
    "    path = \"/home/hringbauer/git/HAPSBURG/\"  # The Path on Midway Cluster\n",
    "else: \n",
    "    raise RuntimeWarning(\"Not compatible machine. Check!!\")\n",
    "\n",
    "os.chdir(path)  # Set the right Path (in line with Atom default)\n",
    "print(os.getcwd()) # Show the current working directory. Should be HAPSBURG/Notebooks/ParallelRuns\n",
    "\n",
    "sys.path.append(\"./package/\") # Append Hapsburg Folder\n",
    "from hapsburg.PackagesSupport.pp_individual_roh_csvs import combine_ROH_df\n",
    "\n",
    "print(f\"CPU Count: {mp.cpu_count()}\")"
   ]
  },
  {
   "cell_type": "code",
   "execution_count": 62,
   "metadata": {},
   "outputs": [],
   "source": [
    "### Post process a single tree for two inds\n",
    "\n",
    "def get_roh_from_tree(tree_sequence, inds=[0,1], max_t=100):\n",
    "    \"\"\"Extract vector of all ROH from tree sequence.\n",
    "    inds: Pair of individuals to analyze [list]\n",
    "    max_t: Maximum time until which to call ROH\"\"\"\n",
    "    \n",
    "    roh_vec = []\n",
    "    t_vec = []\n",
    "\n",
    "    for tree in tree_sequence.trees():\n",
    "        try:\n",
    "            t_mrca = tree.tmrca(inds[0], inds[1])\n",
    "        except ValueError: # If no TMRCA found (nodes stop)\n",
    "            t_mrca = np.inf \n",
    "            \n",
    "        if t_mrca < max_t:\n",
    "            l = tree.interval\n",
    "            roh_vec.append(l)\n",
    "            t_vec.append(t_mrca)\n",
    "    return roh_vec, t_vec\n",
    "\n",
    "def merge_called_blocks(roh_vec, max_gap=0, \n",
    "                        output=False):\n",
    "        \"\"\"Merge Blocks in ROH vector (list of start/end position in Morgan)\n",
    "        Gap is given in Morgan\"\"\"\n",
    "        if len(roh_vec) == 0:\n",
    "            return roh_vec  # In case of empty dataframe don't do anything\n",
    "\n",
    "        out_vec = []\n",
    "        start_c, end_c = roh_vec[0]\n",
    "        \n",
    "        for roh in roh_vec[1:]:\n",
    "            ### Calculate Conditions\n",
    "            short_g = roh[0] - end_c\n",
    "            assert(short_g>=0) # Sanity Check\n",
    "            \n",
    "            if short_g<max_gap:\n",
    "                end_c = roh[1]\n",
    "\n",
    "            else:  # Save and save next ROH\n",
    "                out_vec.append([start_c, end_c])\n",
    "                start_c, end_c = roh\n",
    "                \n",
    "        out_vec.append([start_c, end_c]) # Append the last block\n",
    "\n",
    "        if output:\n",
    "            print(f\"Merged n={len(roh_vec) - len(out_vec)} gaps < {max_gap} M\")\n",
    "        return out_vec\n",
    "    \n",
    "def extract_roh_lengths(l_vec, min_l=0.04, max_l=0.2, output=False):\n",
    "    \"\"\"Extract all ROH with length in length bin\"\"\"\n",
    "    lengths = np.array([l[1]-l[0] for l in l_vec])\n",
    "    lengths = lengths[(lengths>min_l) & (lengths<max_l)]\n",
    "    if output:\n",
    "        print(f\"Extracted {len(lengths)}/{len(l_vec)} ROH {min_l}-{max_l}\")\n",
    "    return lengths\n",
    "\n",
    "\n",
    "def create_df(roh_vec=[], ch=0, ind=\"\"):\n",
    "    \"\"\"Create hapsburg ROH dataframe from roh_vec.\n",
    "    Return df\n",
    "    roh_vec: nx2 list of ROH.\n",
    "    \"\"\"\n",
    "    if len(roh_vec)==0:\n",
    "        df = pd.DataFrame(columns = [\"StartM\", \"EndM\", \"lengthM\", \n",
    "                                     \"Start\", \"End\", \"length\", \"ch\", \"ind\"])\n",
    "        return df\n",
    "    \n",
    "    roh_vec = np.array(roh_vec) # For indexing\n",
    "    df = pd.DataFrame({\"StartM\": roh_vec[:, 0],\n",
    "                       \"EndM\": roh_vec[:, 1]})\n",
    "    df[\"lengthM\"] = df[\"EndM\"] - df[\"StartM\"]\n",
    "    \n",
    "    ### Fill in positional values (default 1e6 bp/M)\n",
    "    df[\"Start\"] = df[\"StartM\"] * 1e6\n",
    "    df[\"End\"] = df[\"EndM\"] * 1e6\n",
    "    df[\"length\"] = df[\"End\"] - df[\"Start\"]\n",
    "    \n",
    "    ### Other Fields\n",
    "    df[\"ch\"] = ch\n",
    "    df[\"ind\"] = ind\n",
    "    return df\n",
    "    \n",
    "\n",
    "def simulate_roh_chromosomes(ch_ls, Ne=100, sample_size=2, pairs=[(0,1),],\n",
    "                             max_t=100, end_time=None, merge_gap=-0.1,\n",
    "                             record_full_arg=False, output=False, savepath=\"\"):\n",
    "    \"\"\"Simulate and post-process ROH for chromosomes\n",
    "    ch_ls: List of Lengths of Chromosomes to simulate [in Morgan]\n",
    "    Ne: Diploid population size to simulate\n",
    "    sample_size: How many samples to simulate.\n",
    "    max_t: How many generations back.\n",
    "    Gap to merge\n",
    "    \n",
    "    \n",
    "    Return dataframe of ROH blocks\"\"\"\n",
    "    \n",
    "    ind = []\n",
    "    roh_start, roh_end = [], []\n",
    "    chs = []\n",
    "    \n",
    "    df_res = []\n",
    "    \n",
    "    for i, ch_l in enumerate(ch_ls):\n",
    "        tree_sequence = msprime.simulate(sample_size=sample_size, Ne=Ne,\n",
    "                                         record_full_arg=record_full_arg,\n",
    "                                         end_time=end_time,\n",
    "                                         length=ch_l, recombination_rate=1)\n",
    "\n",
    "        for p in pairs:\n",
    "            roh_vec, t_vec = get_roh_from_tree(tree_sequence, inds=p, max_t=max_t)\n",
    "            \n",
    "            if merge_gap>0:\n",
    "                roh_vec = merge_called_blocks(roh_vec=roh_vec, \n",
    "                                              max_gap=merge_gap, output=output)\n",
    "            \n",
    "            ind = \"ind_\" + str(p[0]) + \"_\" +  str(p[1]) # Create Individual label\n",
    "            df_t = create_df(roh_vec, ch=i, ind=ind)\n",
    "            df_res.append(df_t)\n",
    "            \n",
    "    df = pd.concat(df_res).reset_index(drop=True) # Make one big summary Dataframe      \n",
    "    return df\n",
    "\n",
    "############################################################\n",
    "### Simulate multiple replicates of independent Inds\n",
    "\n",
    "def sim_ind_full_inds(lgths=[], inds=10, replicates=10, min_cm=0.04,\n",
    "                      ne=500, sample_size=2, merge_gap=1e-4, \n",
    "                      max_t=100, end_time=None,\n",
    "                      record_full_arg=False,\n",
    "                      savefolder=\"./Simulated/msprime/fixed_Ne/\"):\n",
    "    \"\"\"Simulate indeped\"\"\"\n",
    "    \n",
    "    for j in range(replicates):\n",
    "        print(f\"Running replicate {j}...\")\n",
    "        df_res_vec =[]\n",
    "\n",
    "        for r in range(inds):\n",
    "            df_res = simulate_roh_chromosomes(ch_ls=lgths, Ne=ne, sample_size=sample_size,\n",
    "                                              max_t=max_t, end_time=end_time,\n",
    "                                              merge_gap=merge_gap, output=False,\n",
    "                                              record_full_arg=record_full_arg,\n",
    "                                              pairs=[(0,1),], savepath=\"\")\n",
    "\n",
    "            df_res = df_res[df_res[\"lengthM\"]>min_cm]\n",
    "            df_res[\"replicate\"] = r\n",
    "            df_res_vec.append(df_res)\n",
    "\n",
    "        df_all = pd.concat(df_res_vec)\n",
    "        savepath = savefolder + str(ne) + \"_\" + str(j) + \".tsv\"\n",
    "        df_all.to_csv(savepath, sep=\"\\t\", index=False)\n",
    "        print(f\"#ROH={len(df_all)}, Successfully saved to {savepath}\")\n",
    "        \n",
    "        \n",
    "def produce_ind_roh_dfs(loadfolder = \"./Simulated/msprime/fixed_Ne_gaps_merged/\",\n",
    "                        nes = [250, 500, 1000, 2000], reps = 10, inds = 10):\n",
    "    \"\"\"Return list of individual ROH dfs. Splits up replicate individuals and\n",
    "    assigns individuals iids\n",
    "    nes: Diploid population size estimates\n",
    "    reps: How many replicates.\n",
    "    inds: How many individuals\"\"\"\n",
    "    df_rohs = []\n",
    "    iids, pops = [], []\n",
    "    \n",
    "    for ne_dip in nes:\n",
    "        iid = 0    \n",
    "        for r in range(reps):\n",
    "            loadpath = loadfolder + str(ne_dip) + \"_\" + str(r) + \".tsv\" \n",
    "            df_load = pd.read_csv(loadpath, sep=\"\\t\")\n",
    "            for ind in range(inds):\n",
    "                df_t = df_load[df_load[\"replicate\"]==ind]\n",
    "                df_rohs.append(df_t)\n",
    "                iids.append(f\"rep_{iid}\")\n",
    "                iid+=1\n",
    "                pops.append(\"2Ne_\" + str(ne_dip*2))\n",
    "    return df_rohs, iids, pops"
   ]
  },
  {
   "cell_type": "code",
   "execution_count": 132,
   "metadata": {},
   "outputs": [
    {
     "name": "stdout",
     "output_type": "stream",
     "text": [
      "CPU times: user 2.49 s, sys: 873 µs, total: 2.49 s\n",
      "Wall time: 2.48 s\n"
     ]
    }
   ],
   "source": [
    "%%time\n",
    "### Load Chromosome Lengths\n",
    "df_lengths = pd.read_csv(\"./Data/MapLengths/chs_lgths_1240k.tsv\", sep=\"\\t\")\n",
    "lgths = df_lengths[\"lengthM\"]\n",
    "\n",
    "df_res = simulate_roh_chromosomes(ch_ls=lgths, Ne=500, sample_size=2,\n",
    "                             max_t=100, merge_gap=0.0001, output=False,\n",
    "                             pairs=[(0,1),], savepath=\"\")"
   ]
  },
  {
   "cell_type": "code",
   "execution_count": null,
   "metadata": {},
   "outputs": [],
   "source": [
    "#df_res[df_res[\"lengthM\"]>0.04]"
   ]
  },
  {
   "cell_type": "markdown",
   "metadata": {},
   "source": [
    "# Simulate replicate batches of multiple Individuals, independently"
   ]
  },
  {
   "cell_type": "code",
   "execution_count": null,
   "metadata": {},
   "outputs": [],
   "source": [
    "%%time\n",
    "#nes = [100, 250, 500, 1500]   # Original Parameters\n",
    "#nes = [250, 500, 1000, 2000]  # Parameters for paper\n",
    "nes = [2000]\n",
    "replicates = 20\n",
    "record_full_arg=False\n",
    "\n",
    "###  Load Chromosome Lengths\n",
    "df_lengths = pd.read_csv(\"./Data/MapLengths/chs_lgths_1240k.tsv\", sep=\"\\t\")\n",
    "lgths = df_lengths[\"lengthM\"]\n",
    "\n",
    "for ne in nes:\n",
    "    sim_ind_full_inds(lgths=lgths, inds=10, replicates=replicates, min_cm=0.04,\n",
    "                      ne=ne, sample_size=2, merge_gap=1e-8, \n",
    "                      max_t=100, end_time=101, \n",
    "                      record_full_arg=record_full_arg,\n",
    "                      savefolder=\"./Simulated/msprime/fixed_Ne_gaps_merged/\") # fixed_Ne_all_rec"
   ]
  },
  {
   "cell_type": "markdown",
   "metadata": {},
   "source": [
    "### Postprocess into individual ROH tables"
   ]
  },
  {
   "cell_type": "code",
   "execution_count": 63,
   "metadata": {},
   "outputs": [
    {
     "name": "stdout",
     "output_type": "stream",
     "text": [
      "CPU times: user 3.84 s, sys: 15 ms, total: 3.86 s\n",
      "Wall time: 4.18 s\n"
     ]
    }
   ],
   "source": [
    "%%time\n",
    "df_rohs, iids, pops = produce_ind_roh_dfs(loadfolder = \"./Simulated/msprime/fixed_Ne_gaps_merged/\",\n",
    "                        nes = [250, 500, 1000, 2000], reps = 10, inds = 10)\n",
    "\n",
    "df_full = combine_ROH_df(df_rohs, iids=iids, pops=pops, min_cm=[4, 8, 12, 20], snp_cm=0, \n",
    "               gap=0, min_len1=0, min_len2=0, output=False, sort=False)"
   ]
  },
  {
   "cell_type": "code",
   "execution_count": 64,
   "metadata": {},
   "outputs": [
    {
     "name": "stdout",
     "output_type": "stream",
     "text": [
      "Saved 400 Individual ROH table to ./Simulated/msprime/fixed_Ne_gaps_merged/combined_roh.tsv\n"
     ]
    }
   ],
   "source": [
    "### Save\n",
    "savepath= \"./Simulated/msprime/fixed_Ne_gaps_merged/combined_roh.tsv\"\n",
    "df_full.to_csv(savepath, index=False, sep=\"\\t\")\n",
    "print(f\"Saved {len(df_full)} Individual ROH table to {savepath}\")"
   ]
  },
  {
   "cell_type": "markdown",
   "metadata": {},
   "source": [
    "# Simulate true ARG \n",
    "Each Recombination event matters!"
   ]
  },
  {
   "cell_type": "code",
   "execution_count": null,
   "metadata": {},
   "outputs": [],
   "source": [
    "%%time\n",
    "#nes = [100, 250, 500, 1500]\n",
    "nes = [250, 500, 1000, 2000]\n",
    "replicates = 20\n",
    "record_full_arg=True\n",
    "\n",
    "###  Load Chromosome Lengths\n",
    "df_lengths = pd.read_csv(\"./Data/MapLengths/chs_lgths_1240k.tsv\", sep=\"\\t\")\n",
    "lgths = df_lengths[\"lengthM\"]\n",
    "\n",
    "for ne in nes:\n",
    "    sim_ind_full_inds(lgths=lgths, inds=10, replicates=replicates, min_cm=0.04,\n",
    "                      ne=ne, sample_size=2, merge_gap=-0.1, \n",
    "                      max_t=100, end_time=101, \n",
    "                      record_full_arg=record_full_arg,\n",
    "                      savefolder=\"./Simulated/msprime/fixed_Ne_all_rec/\") # fixed_Ne_all_rec"
   ]
  },
  {
   "cell_type": "markdown",
   "metadata": {},
   "source": [
    "### Postprocess into individual ROH tables"
   ]
  },
  {
   "cell_type": "code",
   "execution_count": 65,
   "metadata": {},
   "outputs": [
    {
     "name": "stdout",
     "output_type": "stream",
     "text": [
      "CPU times: user 3.82 s, sys: 10.9 ms, total: 3.83 s\n",
      "Wall time: 4.4 s\n"
     ]
    }
   ],
   "source": [
    "%%time\n",
    "df_rohs, iids, pops = produce_ind_roh_dfs(loadfolder = \"./Simulated/msprime/fixed_Ne_all_rec/\",\n",
    "                        nes = [250, 500, 1000, 2000], reps = 10, inds = 10)\n",
    "\n",
    "df_full = combine_ROH_df(df_rohs, iids=iids, pops=pops, min_cm=[4, 8, 12, 20], snp_cm=0, \n",
    "               gap=0, min_len1=0, min_len2=0, output=False, sort=False)"
   ]
  },
  {
   "cell_type": "code",
   "execution_count": 66,
   "metadata": {},
   "outputs": [
    {
     "name": "stdout",
     "output_type": "stream",
     "text": [
      "Saved 400 Individual ROH table to ./Simulated/msprime/fixed_Ne_all_rec/combined_roh.tsv\n"
     ]
    }
   ],
   "source": [
    "### Save ROH tables\n",
    "savepath= \"./Simulated/msprime/fixed_Ne_all_rec/combined_roh.tsv\"\n",
    "df_full.to_csv(savepath, index=False, sep=\"\\t\")\n",
    "print(f\"Saved {len(df_full)} Individual ROH table to {savepath}\")"
   ]
  },
  {
   "cell_type": "markdown",
   "metadata": {},
   "source": [
    "# Simple Tests for one Chromosome"
   ]
  },
  {
   "cell_type": "code",
   "execution_count": 69,
   "metadata": {},
   "outputs": [
    {
     "name": "stdout",
     "output_type": "stream",
     "text": [
      "Simulated 482 trees\n",
      "CPU times: user 12.6 ms, sys: 1.3 ms, total: 13.9 ms\n",
      "Wall time: 12.5 ms\n"
     ]
    }
   ],
   "source": [
    "%%time\n",
    "tree_sequence = msprime.simulate(sample_size=2, Ne=100, \n",
    "                                 length=1.5, recombination_rate=1)\n",
    "print(f\"Simulated {tree_sequence.num_trees} trees\")"
   ]
  },
  {
   "cell_type": "code",
   "execution_count": 73,
   "metadata": {},
   "outputs": [],
   "source": [
    "roh_vec, t_vec = get_roh_from_tree(tree_sequence, inds=(0,1), max_t=1e8)"
   ]
  },
  {
   "cell_type": "code",
   "execution_count": 74,
   "metadata": {},
   "outputs": [
    {
     "name": "stdout",
     "output_type": "stream",
     "text": [
      "Extracted 1/482 ROH 0.04-0.2\n"
     ]
    }
   ],
   "source": [
    "roh_l = extract_roh_lengths(roh_vec, min_l=0.04, max_l=0.2, output=True)"
   ]
  },
  {
   "cell_type": "code",
   "execution_count": null,
   "metadata": {},
   "outputs": [],
   "source": [
    "df_res"
   ]
  },
  {
   "cell_type": "markdown",
   "metadata": {},
   "source": [
    "### Some sanity check summary statistics on the side"
   ]
  },
  {
   "cell_type": "code",
   "execution_count": 43,
   "metadata": {},
   "outputs": [
    {
     "name": "stdout",
     "output_type": "stream",
     "text": [
      "Merged n=4151 gaps < 0.1 M\n"
     ]
    }
   ],
   "source": [
    "### Sum Summary statistics. (run on side)\n",
    "l = np.array([(x[1] - x[0]) for x in roh_vec])\n",
    "t = np.array(t_vec)\n",
    "np.sum(l * t / np.sum(l))\n",
    "\n",
    "roh_vec1 = merge_called_blocks(roh_vec=roh_vec, \n",
    "                               max_gap=0.1, output=True)"
   ]
  },
  {
   "cell_type": "markdown",
   "metadata": {},
   "source": [
    "### Extract all ROH in length bin"
   ]
  },
  {
   "cell_type": "code",
   "execution_count": 4,
   "metadata": {},
   "outputs": [
    {
     "name": "stdout",
     "output_type": "stream",
     "text": [
      "Simulated 17501 trees\n",
      "CPU times: user 859 ms, sys: 10.8 ms, total: 870 ms\n",
      "Wall time: 868 ms\n"
     ]
    }
   ],
   "source": [
    "%%time\n",
    "tree_sequence = msprime.simulate(sample_size=20, Ne=1000, \n",
    "                                 length=1.5, recombination_rate=1)\n",
    "print(f\"Simulated {tree_sequence.num_trees} trees\")"
   ]
  },
  {
   "cell_type": "code",
   "execution_count": null,
   "metadata": {},
   "outputs": [],
   "source": [
    "merge_called_blocks(roh_vec, output=True, max_gap=0.01)"
   ]
  },
  {
   "cell_type": "code",
   "execution_count": null,
   "metadata": {},
   "outputs": [],
   "source": [
    "roh_vec"
   ]
  },
  {
   "cell_type": "code",
   "execution_count": null,
   "metadata": {},
   "outputs": [],
   "source": [
    "### Cut out ROH Blocks\n",
    "tree = tree\n",
    "n_inds = 1"
   ]
  },
  {
   "cell_type": "code",
   "execution_count": 144,
   "metadata": {},
   "outputs": [
    {
     "data": {
      "text/plain": [
       "[[0, 4]]"
      ]
     },
     "execution_count": 144,
     "metadata": {},
     "output_type": "execute_result"
    }
   ],
   "source": [
    "vec = [[0,1], [1.02,3], [3.11, 4]]\n",
    "merge_called_blocks(vec, max_gap=0.2)"
   ]
  },
  {
   "cell_type": "markdown",
   "metadata": {},
   "source": [
    "# Area 51"
   ]
  },
  {
   "cell_type": "markdown",
   "metadata": {},
   "source": [
    "### Move to multiple chromosomes"
   ]
  }
 ],
 "metadata": {
  "kernelspec": {
   "display_name": "Python 3",
   "language": "python",
   "name": "python3"
  },
  "language_info": {
   "codemirror_mode": {
    "name": "ipython",
    "version": 3
   },
   "file_extension": ".py",
   "mimetype": "text/x-python",
   "name": "python",
   "nbconvert_exporter": "python",
   "pygments_lexer": "ipython3",
   "version": "3.7.0"
  }
 },
 "nbformat": 4,
 "nbformat_minor": 4
}
