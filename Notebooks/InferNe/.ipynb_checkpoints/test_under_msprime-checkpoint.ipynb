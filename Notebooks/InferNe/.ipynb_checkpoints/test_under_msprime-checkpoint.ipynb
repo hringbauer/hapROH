{
 "cells": [
  {
   "cell_type": "code",
   "execution_count": 44,
   "metadata": {},
   "outputs": [
    {
     "name": "stdout",
     "output_type": "stream",
     "text": [
      "midway2-0401.rcc.local\n",
      "Midway jnovmbre partition detected.\n",
      "/project2/jnovembre/hringbauer/HAPSBURG\n",
      "CPU Count: 28\n"
     ]
    }
   ],
   "source": [
    "import numpy as np\n",
    "import os as os\n",
    "import sys as sys\n",
    "import multiprocessing as mp\n",
    "import matplotlib.pyplot as plt\n",
    "\n",
    "import pandas as pd\n",
    "import socket\n",
    "\n",
    "### For Arial Font\n",
    "from matplotlib import rcParams\n",
    "rcParams['font.family'] = 'sans-serif'   # Set the defaul\n",
    "rcParams['font.sans-serif'] = ['Arial']  # Make sure to have the font installed (it is on cluster for Harald)\n",
    "\n",
    "#######################################################\n",
    "### Pick the right path (whether on cluster or at home)\n",
    "socket_name = socket.gethostname()\n",
    "print(socket_name)\n",
    "if socket_name == \"VioletQueen\":\n",
    "    path = \"/home/harald/git/HAPSBURG/\"   # The Path on Harald's machine\n",
    "elif socket_name.startswith(\"midway2\"):\n",
    "    print(\"Midway jnovmbre partition detected.\")\n",
    "    path = \"/project2/jnovembre/hringbauer/HAPSBURG/\"  # The Path on Midway Cluster\n",
    "    sys.path.append(\"/project2/jnovembre/hringbauer/HAPSBURG/package/\")\n",
    "else: \n",
    "    raise RuntimeWarning(\"Not compatible machine. Check!!\")\n",
    "    \n",
    "os.chdir(path)  # Set the right Path (in line with Atom default)\n",
    "print(os.getcwd()) # Show the current working directory. Should be HAPSBURG/Notebooks/ParallelRuns\n",
    "print(f\"CPU Count: {mp.cpu_count()}\")\n",
    "\n",
    "### Import hapsburg Packages\n",
    "from hapsburg.PackagesSupport.roh_expectations import Expected_Roh\n",
    "from hapsburg.PackagesSupport.fit_ne import MLE_ROH_Ne, inds_roh_from_pdf"
   ]
  },
  {
   "cell_type": "code",
   "execution_count": 114,
   "metadata": {},
   "outputs": [],
   "source": [
    "def roh_vec_from_roh_df(df, split_names=[],\n",
    "                        rep_col=\"replicate\", length_col=\"lengthM\"):\n",
    "    \"\"\"Generates a ROH vector from a concatentation of ROH \n",
    "    dataframes, by splitting up the individuals\"\"\"\n",
    "    roh_vec = []\n",
    "    \n",
    "    for s in split_names:\n",
    "        df_t = df[df[rep_col] == s]\n",
    "        roh = df_t[length_col].values\n",
    "        roh_vec.append(roh)\n",
    "    return roh_vec\n",
    "\n",
    "\n",
    "def load_res_df_msprime(test_nes = [200, 500, 1000, 3000], reps = 20, n_ind = 10,\n",
    "                loadfolder = \"./Simulated/msprime/fixed_Ne_gaps_merged/\"):\n",
    "    \"\"\"Load the Results over replicates and return dataframe\"\"\"\n",
    "    res_dfs = [] # Vector of Results\n",
    "    for ne in test_nes:\n",
    "        print(f\"Analyzing 2Ne={ne}...\")\n",
    "        ne_dip = int(ne/2)\n",
    "\n",
    "        df_res_rep = []\n",
    "\n",
    "        for j in range(reps):\n",
    "            savepath = loadfolder + str(ne_dip) + \"_\" + str(j) + \".tsv\" \n",
    "            df_all = pd.read_csv(savepath, sep=\"\\t\")\n",
    "\n",
    "            roh_vec = roh_vec_from_roh_df(df_all, split_names=range(n_ind))\n",
    "            roh_vec = [roh * 100 for roh in roh_vec]\n",
    "\n",
    "            mle = MLE_ROH_Ne(start_params=500, endog=roh_vec, \n",
    "                        error_model=False, output=False)\n",
    "            fit = mle.fit(disp=False)\n",
    "            summary = fit.summary()\n",
    "            df_res = mle.get_summ_as_df()\n",
    "\n",
    "            df_res_rep.append(df_res)\n",
    "        df_t = pd.concat(df_res_rep)\n",
    "        df_t[\"ne\"]=ne\n",
    "        df_t[\"n_ind\"]=n_ind\n",
    "        res_dfs.append(df_t)\n",
    "    df = pd.concat(res_dfs)\n",
    "    return df\n",
    "\n",
    "########################################\n",
    "### Plot the results\n",
    "\n",
    "def plot_reps_inferred(df, test_nes, reps, figsize=(5,5), c2=[\"red\", \"orange\"],\n",
    "                      lw_true = 3, c_true = \"green\", title=\"\", ylim=[], yscale=\"linear\",\n",
    "                      savepath=\"./figures/ne_infer/under_model.png\"):\n",
    "    \"\"\"Plot Replicate Inferences\"\"\"\n",
    "    colors = ([c2[0]] * reps + [c2[1]] * reps) * int(len(test_nes) / 2)\n",
    "\n",
    "    x = np.arange(len(df))\n",
    "\n",
    "    plt.figure(figsize=figsize)\n",
    "    ax = plt.gca()\n",
    "    ax.scatter(x, df[\"coef\"], c= colors, ec=\"k\", label=\"ROH Estimate\")\n",
    "    ax.errorbar(x, df[\"coef\"], 1.96*df[\"std err\"],  fmt='none', color=\"gray\", zorder=0, label=\"95% CI\")\n",
    "\n",
    "    ax.set_xlabel(\"Replicate\")\n",
    "    ax.set_ylabel(\"Inferred 2Ne\")\n",
    "    ax.set_title(title)\n",
    "    if len(ylim)>0:\n",
    "        ax.set_ylim(ylim)\n",
    "    if len(yscale)>0:\n",
    "        ax.set_yscale(yscale)\n",
    "\n",
    "    for i,ne in enumerate(test_nes):\n",
    "        if i==0:\n",
    "            label=f\"True $2N_e$\"\n",
    "        else:\n",
    "            label=\"\"\n",
    "        ax.hlines(ne, i*reps, (i+1)*reps, color=c_true, lw=lw_true, label=label)\n",
    "\n",
    "    ax.legend(loc=\"upper left\")\n",
    "\n",
    "    if len(savepath)>0:\n",
    "        plt.savefig(savepath, bbox_inches = 'tight', pad_inches = 0, dpi=300)\n",
    "        print(f\"Saved figure to {savepath}\") \n",
    "    plt.show()"
   ]
  },
  {
   "cell_type": "code",
   "execution_count": 46,
   "metadata": {},
   "outputs": [],
   "source": [
    "df_all = pd.read_csv(\"./Simulated/msprime/fixed_Ne_all_rec/100_0.tsv\", sep=\"\\t\")\n",
    "roh_vec = roh_vec_from_roh_df(df_all, split_names=range(10))\n",
    "roh_vec = [roh * 100 for roh in roh_vec]"
   ]
  },
  {
   "cell_type": "markdown",
   "metadata": {},
   "source": [
    "### Do a Fit of the roh_vec"
   ]
  },
  {
   "cell_type": "code",
   "execution_count": 48,
   "metadata": {},
   "outputs": [
    {
     "name": "stdout",
     "output_type": "stream",
     "text": [
      "Optimization terminated successfully.\n",
      "         Current function value: 67.779746\n",
      "         Iterations: 24\n",
      "         Function evaluations: 48\n"
     ]
    },
    {
     "data": {
      "text/html": [
       "<div>\n",
       "<style scoped>\n",
       "    .dataframe tbody tr th:only-of-type {\n",
       "        vertical-align: middle;\n",
       "    }\n",
       "\n",
       "    .dataframe tbody tr th {\n",
       "        vertical-align: top;\n",
       "    }\n",
       "\n",
       "    .dataframe thead th {\n",
       "        text-align: right;\n",
       "    }\n",
       "</style>\n",
       "<table border=\"1\" class=\"dataframe\">\n",
       "  <thead>\n",
       "    <tr style=\"text-align: right;\">\n",
       "      <th></th>\n",
       "      <th>coef</th>\n",
       "      <th>std err</th>\n",
       "      <th>z</th>\n",
       "      <th>P&gt;|z|</th>\n",
       "      <th>[0.025</th>\n",
       "      <th>0.975]</th>\n",
       "    </tr>\n",
       "  </thead>\n",
       "  <tbody>\n",
       "    <tr>\n",
       "      <th>const</th>\n",
       "      <td>217.9794</td>\n",
       "      <td>11.762</td>\n",
       "      <td>18.533</td>\n",
       "      <td>0.0</td>\n",
       "      <td>194.927</td>\n",
       "      <td>241.032</td>\n",
       "    </tr>\n",
       "  </tbody>\n",
       "</table>\n",
       "</div>"
      ],
      "text/plain": [
       "           coef  std err       z  P>|z|   [0.025   0.975]\n",
       "const  217.9794   11.762  18.533    0.0  194.927  241.032"
      ]
     },
     "execution_count": 48,
     "metadata": {},
     "output_type": "execute_result"
    }
   ],
   "source": [
    "mle = MLE_ROH_Ne(start_params=500, endog=roh_vec, \n",
    "                    error_model=False, output=False)\n",
    "fit = mle.fit(disp=True)\n",
    "summary = fit.summary()\n",
    "df_res = mle.get_summ_as_df()\n",
    "df_res"
   ]
  },
  {
   "cell_type": "markdown",
   "metadata": {},
   "source": [
    "# Analyze Multiple Runs"
   ]
  },
  {
   "cell_type": "code",
   "execution_count": 97,
   "metadata": {},
   "outputs": [
    {
     "name": "stdout",
     "output_type": "stream",
     "text": [
      "Analyzing 2Ne=200...\n",
      "Analyzing 2Ne=500...\n",
      "Analyzing 2Ne=1000...\n",
      "Analyzing 2Ne=3000...\n",
      "CPU times: user 11.3 s, sys: 15.3 ms, total: 11.3 s\n",
      "Wall time: 11.8 s\n"
     ]
    }
   ],
   "source": []
  },
  {
   "cell_type": "markdown",
   "metadata": {},
   "source": [
    "## Full Arg\n",
    "Each recombination event counts"
   ]
  },
  {
   "cell_type": "code",
   "execution_count": 125,
   "metadata": {},
   "outputs": [
    {
     "name": "stdout",
     "output_type": "stream",
     "text": [
      "Analyzing 2Ne=200...\n",
      "Analyzing 2Ne=500...\n",
      "Analyzing 2Ne=1000...\n",
      "Analyzing 2Ne=3000...\n"
     ]
    }
   ],
   "source": [
    "df = load_res_df_msprime(test_nes = [200, 500, 1000, 3000], reps = 20, n_ind = 10,\n",
    "                loadfolder = \"./Simulated/msprime/fixed_Ne_all_rec/\")\n",
    "df = df.sort_values(by=[\"ne\", \"coef\"])"
   ]
  },
  {
   "cell_type": "code",
   "execution_count": 126,
   "metadata": {},
   "outputs": [
    {
     "name": "stdout",
     "output_type": "stream",
     "text": [
      "Saved figure to ./figures/ne_infer/ms_prime_all_recs.png\n"
     ]
    },
    {
     "data": {
      "image/png": "[encoded data removed]",
      "text/plain": [
       "<Figure size 360x360 with 1 Axes>"
      ]
     },
     "metadata": {
      "needs_background": "light"
     },
     "output_type": "display_data"
    }
   ],
   "source": [
    "plot_reps_inferred(df, test_nes, reps, ylim=[10,1e4], yscale=\"log\",\n",
    "                   title=\"Per Rep.: msprime ROH tracts 4-20cM of 10 full individuals\",\n",
    "                   savepath=\"./figures/ne_infer/ms_prime_all_recs.png\") # ./figures/ne_infer/ms_prime_all_recs.png"
   ]
  },
  {
   "cell_type": "markdown",
   "metadata": {},
   "source": [
    "### Gaps Merged (t=100 and less, 0.01 cM gaps merged)"
   ]
  },
  {
   "cell_type": "code",
   "execution_count": 108,
   "metadata": {},
   "outputs": [
    {
     "name": "stdout",
     "output_type": "stream",
     "text": [
      "Analyzing 2Ne=200...\n",
      "Analyzing 2Ne=500...\n",
      "Analyzing 2Ne=1000...\n",
      "Analyzing 2Ne=3000...\n"
     ]
    }
   ],
   "source": [
    "df = load_res_df_msprime(test_nes = [200, 500, 1000, 3000], reps = 20, n_ind = 10,\n",
    "                loadfolder = \"./Simulated/msprime/fixed_Ne_gaps_merged/\")\n",
    "df = df.sort_values(by=[\"ne\", \"coef\"])"
   ]
  },
  {
   "cell_type": "code",
   "execution_count": 123,
   "metadata": {},
   "outputs": [
    {
     "name": "stdout",
     "output_type": "stream",
     "text": [
      "Saved figure to ./figures/ne_infer/ms_prime_gaps_merged.png\n"
     ]
    },
    {
     "data": {
      "image/png": "[encoded data removed]",
      "text/plain": [
       "<Figure size 360x360 with 1 Axes>"
      ]
     },
     "metadata": {
      "needs_background": "light"
     },
     "output_type": "display_data"
    }
   ],
   "source": [
    "plot_reps_inferred(df, test_nes, reps, ylim=[10,1e4], yscale=\"log\",\n",
    "                   title=\"Per Rep.: msprime ROH tracts 4-20cM of 10 full individuals\",\n",
    "                   savepath=\"./figures/ne_infer/ms_prime_gaps_merged.png\")"
   ]
  },
  {
   "cell_type": "markdown",
   "metadata": {},
   "source": [
    "# Area 51"
   ]
  },
  {
   "cell_type": "code",
   "execution_count": 54,
   "metadata": {},
   "outputs": [
    {
     "data": {
      "text/plain": [
       "[193.98948402008432,\n",
       " 145.0874726271332,\n",
       " 212.55502284870045,\n",
       " 240.30634526438436,\n",
       " 142.28458278866287,\n",
       " 122.92410264734299,\n",
       " 154.07831708933531,\n",
       " 169.01007298102644,\n",
       " 199.94575832689017,\n",
       " 166.4290910110789]"
      ]
     },
     "execution_count": 54,
     "metadata": {},
     "output_type": "execute_result"
    }
   ],
   "source": [
    "[np.sum(roh) for roh in roh_vec]"
   ]
  },
  {
   "cell_type": "code",
   "execution_count": null,
   "metadata": {},
   "outputs": [],
   "source": []
  }
 ],
 "metadata": {
  "kernelspec": {
   "display_name": "Python 3",
   "language": "python",
   "name": "python3"
  },
  "language_info": {
   "codemirror_mode": {
    "name": "ipython",
    "version": 3
   },
   "file_extension": ".py",
   "mimetype": "text/x-python",
   "name": "python",
   "nbconvert_exporter": "python",
   "pygments_lexer": "ipython3",
   "version": "3.7.0"
  }
 },
 "nbformat": 4,
 "nbformat_minor": 4
}
