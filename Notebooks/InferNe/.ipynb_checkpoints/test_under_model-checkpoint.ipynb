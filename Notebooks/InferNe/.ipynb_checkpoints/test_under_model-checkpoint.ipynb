{
 "cells": [
  {
   "cell_type": "code",
   "execution_count": 33,
   "metadata": {},
   "outputs": [
    {
     "name": "stdout",
     "output_type": "stream",
     "text": [
      "midway2-0401.rcc.local\n",
      "Midway jnovmbre partition detected.\n",
      "/project2/jnovembre/hringbauer/caribbean_roh\n",
      "CPU Count: 28\n"
     ]
    }
   ],
   "source": [
    "import numpy as np\n",
    "import os as os\n",
    "import sys as sys\n",
    "import multiprocessing as mp\n",
    "import matplotlib.pyplot as plt\n",
    "\n",
    "import pandas as pd\n",
    "import socket\n",
    "\n",
    "### For Arial Font\n",
    "from matplotlib import rcParams\n",
    "rcParams['font.family'] = 'sans-serif'   # Set the defaul\n",
    "rcParams['font.sans-serif'] = ['Arial']  # Make sure to have the font installed (it is on cluster for Harald)\n",
    "\n",
    "#######################################################\n",
    "### Pick the right path (whether on cluster or at home)\n",
    "socket_name = socket.gethostname()\n",
    "print(socket_name)\n",
    "if socket_name == \"VioletQueen\":\n",
    "    path = \"/home/harald/git/HAPSBURG/\"   # The Path on Harald's machine\n",
    "elif socket_name.startswith(\"midway2\"):\n",
    "    print(\"Midway jnovmbre partition detected.\")\n",
    "    path = \"/project2/jnovembre/hringbauer/caribbean_roh/\"  # The Path on Midway Cluster\n",
    "    sys.path.append(\"/project2/jnovembre/hringbauer/HAPSBURG/package/\")\n",
    "else: \n",
    "    raise RuntimeWarning(\"Not compatible machine. Check!!\")\n",
    "    \n",
    "os.chdir(path)  # Set the right Path (in line with Atom default)\n",
    "print(os.getcwd()) # Show the current working directory. Should be HAPSBURG/Notebooks/ParallelRuns\n",
    "print(f\"CPU Count: {mp.cpu_count()}\")\n",
    "\n",
    "### Import hapsburg Packages\n",
    "from hapsburg.PackagesSupport.roh_expectations import Expected_Roh\n",
    "from hapsburg.PackagesSupport.fit_ne import MLE_ROH_Ne, inds_roh_from_pdf"
   ]
  },
  {
   "cell_type": "markdown",
   "metadata": {},
   "source": [
    "### Single Test Case"
   ]
  },
  {
   "cell_type": "code",
   "execution_count": 21,
   "metadata": {},
   "outputs": [],
   "source": [
    "def simulate_n_infer(n_ind=10, ne=1000, bin_range=[0.04,0.5], \n",
    "                     nbins=100000, start_params=2000, disp=0):\n",
    "    \"\"\"Simulate and infer Ne.\n",
    "    Return results df\"\"\"\n",
    "    roh_vec = inds_roh_from_pdf(n_ind=n_ind, ne=ne, \n",
    "                            bin_range=bin_range, nbins=nbins) \n",
    "    mle = MLE_ROH_Ne(start_params=start_params, endog=roh_vec, \n",
    "                 error_model=False, output=False)\n",
    "    fit = mle.fit(disp=disp)\n",
    "    summary = fit.summary()\n",
    "    df_res = mle.get_summ_as_df()\n",
    "    return df_res"
   ]
  },
  {
   "cell_type": "code",
   "execution_count": 12,
   "metadata": {},
   "outputs": [
    {
     "name": "stdout",
     "output_type": "stream",
     "text": [
      "Optimization terminated successfully.\n",
      "         Current function value: 30.296175\n",
      "         Iterations: 26\n",
      "         Function evaluations: 52\n"
     ]
    }
   ],
   "source": [
    "df_res = simulate_n_infer(n_ind=10, ne=1000)"
   ]
  },
  {
   "cell_type": "code",
   "execution_count": 13,
   "metadata": {},
   "outputs": [
    {
     "data": {
      "text/html": [
       "<div>\n",
       "<style scoped>\n",
       "    .dataframe tbody tr th:only-of-type {\n",
       "        vertical-align: middle;\n",
       "    }\n",
       "\n",
       "    .dataframe tbody tr th {\n",
       "        vertical-align: top;\n",
       "    }\n",
       "\n",
       "    .dataframe thead th {\n",
       "        text-align: right;\n",
       "    }\n",
       "</style>\n",
       "<table border=\"1\" class=\"dataframe\">\n",
       "  <thead>\n",
       "    <tr style=\"text-align: right;\">\n",
       "      <th></th>\n",
       "      <th>coef</th>\n",
       "      <th>std err</th>\n",
       "      <th>z</th>\n",
       "      <th>P&gt;|z|</th>\n",
       "      <th>[0.025</th>\n",
       "      <th>0.975]</th>\n",
       "    </tr>\n",
       "  </thead>\n",
       "  <tbody>\n",
       "    <tr>\n",
       "      <th>const</th>\n",
       "      <td>966.5762</td>\n",
       "      <td>95.94</td>\n",
       "      <td>10.075</td>\n",
       "      <td>0.0</td>\n",
       "      <td>778.536</td>\n",
       "      <td>1154.616</td>\n",
       "    </tr>\n",
       "  </tbody>\n",
       "</table>\n",
       "</div>"
      ],
      "text/plain": [
       "           coef  std err       z  P>|z|   [0.025    0.975]\n",
       "const  966.5762    95.94  10.075    0.0  778.536  1154.616"
      ]
     },
     "execution_count": 13,
     "metadata": {},
     "output_type": "execute_result"
    }
   ],
   "source": [
    "df_res"
   ]
  },
  {
   "cell_type": "markdown",
   "metadata": {},
   "source": [
    "# Systematic testing"
   ]
  },
  {
   "cell_type": "code",
   "execution_count": 85,
   "metadata": {},
   "outputs": [],
   "source": [
    "test_nes = [200, 500, 1000, 3000]\n",
    "reps = 50 # How many replicates\n",
    "n_ind = 10"
   ]
  },
  {
   "cell_type": "code",
   "execution_count": 86,
   "metadata": {},
   "outputs": [
    {
     "name": "stdout",
     "output_type": "stream",
     "text": [
      "Running 2Ne=200...\n",
      "Running 2Ne=500...\n",
      "Running 2Ne=1000...\n",
      "Running 2Ne=3000...\n",
      "CPU times: user 5min 32s, sys: 97.8 ms, total: 5min 32s\n",
      "Wall time: 5min 32s\n"
     ]
    }
   ],
   "source": [
    "%%time\n",
    "res_dfs = [] # Vector of Results\n",
    "\n",
    "for ne in test_nes:\n",
    "    print(f\"Running 2Ne={ne}...\")\n",
    "    df_res_rep = []\n",
    "    \n",
    "    for _ in range(reps):\n",
    "        df_res = simulate_n_infer(n_ind=n_ind, ne=ne)\n",
    "        df_res_rep.append(df_res)\n",
    "    df_t = pd.concat(df_res_rep)\n",
    "    df_t[\"ne\"]=ne\n",
    "    df_t[\"n_ind\"]=n_ind\n",
    "    res_dfs.append(df_t)\n",
    "df = pd.concat(res_dfs)"
   ]
  },
  {
   "cell_type": "code",
   "execution_count": null,
   "metadata": {},
   "outputs": [],
   "source": [
    "df.to_csv(\"./\", sep=\"\\t\")"
   ]
  },
  {
   "cell_type": "markdown",
   "metadata": {},
   "source": [
    "# Do the plotting"
   ]
  },
  {
   "cell_type": "code",
   "execution_count": 64,
   "metadata": {},
   "outputs": [],
   "source": [
    "df = df.sort_values(by=[\"ne\", \"coef\"])"
   ]
  },
  {
   "cell_type": "code",
   "execution_count": 83,
   "metadata": {},
   "outputs": [],
   "source": [
    "def plot_reps_inferred(test_nes, reps, figsize=(5,5), c2=[\"red\", \"orange\"],\n",
    "                      lw_true = 3, c_true = \"green\",\n",
    "                      savepath=\"./figures/ne_infer/under_model.png\"):\n",
    "    \"\"\"Plot Replicate Inferences\"\"\"\n",
    "    colors = ([c2[0]] * reps + [c2[1]] * reps) * int(len(test_nes) / 2)\n",
    "\n",
    "    x = np.arange(len(df))\n",
    "\n",
    "    plt.figure(figsize=figsize)\n",
    "    ax = plt.gca()\n",
    "    ax.scatter(x, df[\"coef\"], c= colors, ec=\"k\", label=\"ROH Estimate\")\n",
    "    ax.errorbar(x, df[\"coef\"], 1.96*df[\"std err\"],  fmt='none', color=\"gray\", zorder=0, label=\"95% CI\")\n",
    "\n",
    "\n",
    "    ax.set_xlabel(\"Replicate\")\n",
    "    ax.set_ylabel(\"Inferred 2Ne\")\n",
    "    ax.set_title(\"Per Replicate: ROH tracts 4-20cM of 10 Individuals used\")\n",
    "\n",
    "    for i,ne in enumerate(test_nes):\n",
    "        if i==0:\n",
    "            label=f\"True $2N_e$\"\n",
    "        else:\n",
    "            label=\"\"\n",
    "        ax.hlines(ne, i*reps, (i+1)*reps, color=c_true, lw=lw_true, label=label)\n",
    "\n",
    "    ax.legend(loc=\"upper left\")\n",
    "\n",
    "    if len(savepath)>0:\n",
    "        plt.savefig(savepath, bbox_inches = 'tight', pad_inches = 0, dpi=300)\n",
    "        print(f\"Saved figure to {savepath}\") \n",
    "\n",
    "    plt.show()"
   ]
  },
  {
   "cell_type": "code",
   "execution_count": 84,
   "metadata": {},
   "outputs": [
    {
     "name": "stdout",
     "output_type": "stream",
     "text": [
      "Saved figure to ./figures/ne_infer/under_model.png\n"
     ]
    },
    {
     "data": {
      "image/png": "[encoded data removed]",
      "text/plain": [
       "<Figure size 360x360 with 1 Axes>"
      ]
     },
     "metadata": {
      "needs_background": "light"
     },
     "output_type": "display_data"
    }
   ],
   "source": [
    "plot_reps_inferred(test_nes, reps,\n",
    "                   savepath=\"./figures/ne_infer/under_model.png\")"
   ]
  },
  {
   "cell_type": "code",
   "execution_count": null,
   "metadata": {},
   "outputs": [],
   "source": []
  }
 ],
 "metadata": {
  "kernelspec": {
   "display_name": "Python 3",
   "language": "python",
   "name": "python3"
  },
  "language_info": {
   "codemirror_mode": {
    "name": "ipython",
    "version": 3
   },
   "file_extension": ".py",
   "mimetype": "text/x-python",
   "name": "python",
   "nbconvert_exporter": "python",
   "pygments_lexer": "ipython3",
   "version": "3.7.0"
  }
 },
 "nbformat": 4,
 "nbformat_minor": 4
}
