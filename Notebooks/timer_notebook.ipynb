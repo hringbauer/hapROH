{
 "cells": [
  {
   "cell_type": "markdown",
   "metadata": {},
   "source": [
    "# Time Code"
   ]
  },
  {
   "cell_type": "code",
   "execution_count": 22,
   "metadata": {},
   "outputs": [],
   "source": [
    "### Some Code to set right paths on Harald's Machine\n",
    "import numpy as np\n",
    "import pandas as pd\n",
    "import matplotlib.pyplot as plt\n",
    "import os as os\n",
    "import sys as sys\n",
    "import multiprocessing as mp\n",
    "\n",
    "import socket\n",
    "import shutil as shutil\n",
    "\n",
    "from time import time\n",
    "from memory_profiler import memory_usage\n",
    "\n",
    "from memory_profiler import profile\n",
    "%load_ext memory_profiler\n",
    "\n",
    "socket_name = socket.gethostname()\n",
    "print(socket_name)\n",
    "if socket_name == \"VioletQueen\":\n",
    "    path = \"/home/harald/git/HAPSBURG/\"   # The Path on Harald's machine\n",
    "elif socket_name.startswith(\"midway2\"):\n",
    "    print(\"Midway jnovmbre partition detected.\")\n",
    "    path = \"/project2/jnovembre/hringbauer/HAPSBURG/\"  # The Path on Midway Cluster\n",
    "else: \n",
    "    raise RuntimeWarning(\"Not compatible machine. Check!!\")\n",
    "\n",
    "os.chdir(path)  # Set the right Path (in line with Atom default)\n",
    "print(os.getcwd()) # Show the current working directory. Should be HAPSBURG/Notebooks/ParallelRuns\n",
    "print(f\"CPU Count: {mp.cpu_count()}\")\n",
    "\n",
    "### If wanting to use local version and not  pip installed version\n",
    "import sys\n",
    "sys.path.insert(0,\"./package/\")  # hack to get local package first in path [FROM HARALD - DELETE!!!]\n",
    "from hapsburg.PackagesSupport.hapsburg_run import hapsb_ind  # Need this import"
   ]
  },
  {
   "cell_type": "code",
   "execution_count": 23,
   "metadata": {},
   "outputs": [],
   "source": [
    "def runtime_iid(iid=\"I1178\", chs=range(3, 4), logfile=False,\n",
    "               path_targets=\"./Data/ReichLabEigenstrat/Raw.v42.4/v42.4.1240K\",\n",
    "               h5_path1000g='./Data/1000Genomes/HDF5/1240kHDF5/all1240int8/chr', \n",
    "               meta_path_ref='./Data/1000Genomes/Individuals/meta_df_all.csv'):\n",
    "    \"\"\"Return runtime for individual iid \n",
    "    on chromosomes chs.\"\"\"\n",
    "    print(f\"Ruuning {iid}, Chromosomes {chs}\")\n",
    "    start = time()\n",
    "    hapsb_ind(iid=iid, chs=chs, \n",
    "              path_targets=path_targets, \n",
    "              h5_path1000g=h5_path1000g, \n",
    "              meta_path_ref=meta_path_ref, \n",
    "              folder_out='./sandbox/testout/',  # Folder where you want to save the results to \n",
    "              processes=1, output=True,\n",
    "              readcounts=False, logfile=logfile, combine=False)\n",
    "    rt = time() - start\n",
    "    return rt"
   ]
  },
  {
   "cell_type": "markdown",
   "metadata": {},
   "source": [
    "# Memory Notes\n",
    "Ust_Ishim_published.DG\n",
    "\n",
    "## Idle: 9.3 gb\n",
    "## Ch 2: 16.8"
   ]
  },
  {
   "cell_type": "code",
   "execution_count": 17,
   "metadata": {},
   "outputs": [
    {
     "name": "stdout",
     "output_type": "stream",
     "text": [
      "Ruuning Ust_Ishim_published.DG, Chromosomes [1]\n",
      "Doing Individual Ust_Ishim_published.DG...\n",
      "Running 1 total jobs; 1 in parallel.\n",
      "Running single process...\n",
      "Set Output Log path: ./sandbox/testout/Ust_Ishim_published.DG/chr1/hmm_run_log.txt\n"
     ]
    }
   ],
   "source": [
    "rts = [runtime_iid(iid=\"Ust_Ishim_published.DG\", chs=[ch,], logfile=True) for ch in range(1,23)]"
   ]
  },
  {
   "cell_type": "markdown",
   "metadata": {},
   "source": [
    "75.37326169013977,\n",
    " 62.4723801612854,\n",
    " 51.763784885406494,\n",
    " 45.933544874191284,\n",
    " 47.240623474121094,\n",
    " 51.952762603759766,\n",
    " 34.44305086135864,\n",
    " 50.73250770568848,\n",
    " 39.7453818321228,\n",
    " 39.23680758476257,\n",
    " 40.641263246536255,\n",
    " 37.695714235305786,\n",
    " 34.51327323913574,\n",
    " 28.789226770401,\n",
    " 28.846710443496704,\n",
    " 27.44998550415039,\n",
    " 26.48480224609375,\n",
    " 26.827011585235596,\n",
    " 23.624730825424194,\n",
    " 26.93461799621582,\n",
    " 22.036293745040894,\n",
    " 22.01661992073059]"
   ]
  },
  {
   "cell_type": "markdown",
   "metadata": {},
   "source": [
    "# Runtime low coverage Indivdiual"
   ]
  },
  {
   "cell_type": "markdown",
   "metadata": {},
   "source": [
    "### Idle: 1325\n",
    "### Running: max. 7050"
   ]
  },
  {
   "cell_type": "code",
   "execution_count": null,
   "metadata": {},
   "outputs": [],
   "source": [
    "%%memit\n",
    "rt = runtime_iid(iid=\"I2534\", chs=[1,], logfile=False)"
   ]
  },
  {
   "cell_type": "code",
   "execution_count": 31,
   "metadata": {},
   "outputs": [
    {
     "data": {
      "text/plain": [
       "56.91337561607361"
      ]
     },
     "execution_count": 31,
     "metadata": {},
     "output_type": "execute_result"
    }
   ],
   "source": [
    "rt"
   ]
  },
  {
   "cell_type": "markdown",
   "metadata": {},
   "source": [
    "# Test Memory Requirements"
   ]
  },
  {
   "cell_type": "markdown",
   "metadata": {},
   "source": [
    "### High Coverage Individual: Ust_Ishim_published.DG"
   ]
  },
  {
   "cell_type": "code",
   "execution_count": 37,
   "metadata": {},
   "outputs": [],
   "source": [
    "mem_usage = memory_usage((runtime_iid,(),{\"iid\":\"Ust_Ishim_published.DG\", \"logfile\":True, \"chs\":(1,)}))"
   ]
  },
  {
   "cell_type": "markdown",
   "metadata": {},
   "source": [
    "### Chromosome 1"
   ]
  },
  {
   "cell_type": "code",
   "execution_count": 38,
   "metadata": {},
   "outputs": [
    {
     "data": {
      "text/plain": [
       "7819.89453125"
      ]
     },
     "execution_count": 38,
     "metadata": {},
     "output_type": "execute_result"
    }
   ],
   "source": [
    "np.max(mem_usage) "
   ]
  },
  {
   "cell_type": "code",
   "execution_count": 33,
   "metadata": {},
   "outputs": [
    {
     "data": {
      "text/plain": [
       "7729.7578125"
      ]
     },
     "execution_count": 33,
     "metadata": {},
     "output_type": "execute_result"
    }
   ],
   "source": [
    "np.max(mem_usage) "
   ]
  },
  {
   "cell_type": "markdown",
   "metadata": {},
   "source": [
    "### Chromosome 2"
   ]
  },
  {
   "cell_type": "code",
   "execution_count": 39,
   "metadata": {},
   "outputs": [],
   "source": [
    "mem_usage = memory_usage((runtime_iid,(),{\"iid\":\"Ust_Ishim_published.DG\", \"logfile\":True, \"chs\":(2,)}))"
   ]
  },
  {
   "cell_type": "code",
   "execution_count": 40,
   "metadata": {},
   "outputs": [
    {
     "data": {
      "text/plain": [
       "8115.828125"
      ]
     },
     "execution_count": 40,
     "metadata": {},
     "output_type": "execute_result"
    }
   ],
   "source": [
    "np.max(mem_usage)"
   ]
  },
  {
   "cell_type": "markdown",
   "metadata": {},
   "source": [
    "### Low Coverage Individual: I2534"
   ]
  },
  {
   "cell_type": "code",
   "execution_count": 29,
   "metadata": {},
   "outputs": [],
   "source": [
    "mem_usage = memory_usage((runtime_iid,(),{\"iid\":\"I2534\", \"logfile\":True, \"chs\":(1,)}))"
   ]
  },
  {
   "cell_type": "code",
   "execution_count": 30,
   "metadata": {},
   "outputs": [
    {
     "data": {
      "text/plain": [
       "2937.7109375"
      ]
     },
     "execution_count": 30,
     "metadata": {},
     "output_type": "execute_result"
    }
   ],
   "source": [
    "np.max(mem_usage)  ### Chromosome 1, I2534"
   ]
  },
  {
   "cell_type": "code",
   "execution_count": 41,
   "metadata": {},
   "outputs": [],
   "source": [
    "mem_usage = memory_usage((runtime_iid,(),{\"iid\":\"I2534\", \"logfile\":True, \"chs\":(2,)}))"
   ]
  },
  {
   "cell_type": "code",
   "execution_count": 42,
   "metadata": {},
   "outputs": [
    {
     "data": {
      "text/plain": [
       "2925.03515625"
      ]
     },
     "execution_count": 42,
     "metadata": {},
     "output_type": "execute_result"
    }
   ],
   "source": [
    "np.max(mem_usage)  ### Chromosome 2, I2534"
   ]
  },
  {
   "cell_type": "code",
   "execution_count": 28,
   "metadata": {},
   "outputs": [
    {
     "data": {
      "text/plain": [
       "2914.12109375"
      ]
     },
     "execution_count": 28,
     "metadata": {},
     "output_type": "execute_result"
    }
   ],
   "source": [
    "np.max(mem_usage) ### Chromosome 3, I2534"
   ]
  },
  {
   "cell_type": "code",
   "execution_count": 24,
   "metadata": {},
   "outputs": [
    {
     "data": {
      "text/plain": [
       "2601.0859375"
      ]
     },
     "execution_count": 24,
     "metadata": {},
     "output_type": "execute_result"
    }
   ],
   "source": [
    "np.max(mem_usage) ### Chromosome 1, I2534"
   ]
  },
  {
   "cell_type": "markdown",
   "metadata": {},
   "source": [
    "### Make cute little figure of memory usage"
   ]
  },
  {
   "cell_type": "code",
   "execution_count": null,
   "metadata": {},
   "outputs": [],
   "source": []
  },
  {
   "cell_type": "code",
   "execution_count": null,
   "metadata": {},
   "outputs": [],
   "source": []
  },
  {
   "cell_type": "markdown",
   "metadata": {},
   "source": [
    "# Area 51"
   ]
  },
  {
   "cell_type": "code",
   "execution_count": 11,
   "metadata": {},
   "outputs": [
    {
     "data": {
      "text/plain": [
       "[20.5287504196167,\n",
       " 38.155433654785156,\n",
       " 33.38659477233887,\n",
       " 29.556857585906982,\n",
       " 30.712263584136963,\n",
       " 31.960157871246338,\n",
       " 19.083078622817993,\n",
       " 19.095980644226074,\n",
       " 24.733434438705444,\n",
       " 27.700116872787476,\n",
       " 26.361732244491577,\n",
       " 34.177557945251465,\n",
       " 32.831321239471436,\n",
       " 19.82069993019104,\n",
       " 23.294953107833862,\n",
       " 23.919950246810913,\n",
       " 22.68522596359253,\n",
       " 21.21843934059143,\n",
       " 21.1863374710083,\n",
       " 22.677460432052612,\n",
       " 20.377500295639038,\n",
       " 17.398675680160522]"
      ]
     },
     "execution_count": 11,
     "metadata": {},
     "output_type": "execute_result"
    }
   ],
   "source": [
    "rts"
   ]
  },
  {
   "cell_type": "code",
   "execution_count": 12,
   "metadata": {},
   "outputs": [
    {
     "data": {
      "text/plain": [
       "560.8625223636627"
      ]
     },
     "execution_count": 12,
     "metadata": {},
     "output_type": "execute_result"
    }
   ],
   "source": [
    "np.sum(rts)"
   ]
  },
  {
   "cell_type": "code",
   "execution_count": null,
   "metadata": {},
   "outputs": [],
   "source": []
  }
 ],
 "metadata": {
  "kernelspec": {
   "display_name": "Python 3",
   "language": "python",
   "name": "python3"
  },
  "language_info": {
   "codemirror_mode": {
    "name": "ipython",
    "version": 3
   },
   "file_extension": ".py",
   "mimetype": "text/x-python",
   "name": "python",
   "nbconvert_exporter": "python",
   "pygments_lexer": "ipython3",
   "version": "3.7.6"
  }
 },
 "nbformat": 4,
 "nbformat_minor": 4
}
