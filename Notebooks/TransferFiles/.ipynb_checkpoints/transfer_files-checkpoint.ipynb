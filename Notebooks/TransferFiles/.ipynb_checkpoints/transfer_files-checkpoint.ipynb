{
 "cells": [
  {
   "cell_type": "markdown",
   "metadata": {},
   "source": [
    "# File Transfer Notebook\n",
    "Idea: Contains code to transfer Data and Results between cluster and current work station"
   ]
  },
  {
   "cell_type": "code",
   "execution_count": 3,
   "metadata": {},
   "outputs": [
    {
     "name": "stdout",
     "output_type": "stream",
     "text": [
      "/home/harald/git/HAPSBURG\n"
     ]
    }
   ],
   "source": [
    "import numpy as np\n",
    "import os as os\n",
    "import sys as sys\n",
    "\n",
    "path = \"/home/harald/git/HAPSBURG/\"   # The Path on Harald's machine\n",
    "os.chdir(path)\n",
    "\n",
    "print(os.getcwd()) # Show the current working directory. Should be HAPSBURG git base Folder!!!"
   ]
  },
  {
   "cell_type": "code",
   "execution_count": 4,
   "metadata": {},
   "outputs": [],
   "source": [
    "def download_cluster(path_here, path_there):\n",
    "    \"\"\"Downloads File from cluster\"\"\"\n",
    "    raise NotImplementedError(\"Implement this!\")\n",
    "    \n",
    "def download_cluster_folder(path_here, path_there):\n",
    "    \"\"\"Downloads all files in Folder from cluster\"\"\"\n",
    "    raise NotImplementedError(\"Implement this!\")\n",
    "    \n",
    "def upload_cluster(path_here, path_there):\n",
    "    \"\"\"Upload Files from cluster\"\"\"\n",
    "    raise NotImplementedError(\"Implement this!\") \n",
    "    \n",
    "def upload_cluster_folder(path_here, path_there):\n",
    "    \"\"\"Upload all files in Folder from cluster\"\"\"\n",
    "    raise NotImplementedError(\"Implement this!\")"
   ]
  },
  {
   "cell_type": "markdown",
   "metadata": {},
   "source": [
    "# Transfer Specific Folders"
   ]
  },
  {
   "cell_type": "code",
   "execution_count": null,
   "metadata": {},
   "outputs": [],
   "source": []
  }
 ],
 "metadata": {
  "kernelspec": {
   "display_name": "Python 3",
   "language": "python",
   "name": "python3"
  },
  "language_info": {
   "codemirror_mode": {
    "name": "ipython",
    "version": 3
   },
   "file_extension": ".py",
   "mimetype": "text/x-python",
   "name": "python",
   "nbconvert_exporter": "python",
   "pygments_lexer": "ipython3",
   "version": "3.6.8"
  }
 },
 "nbformat": 4,
 "nbformat_minor": 2
}
