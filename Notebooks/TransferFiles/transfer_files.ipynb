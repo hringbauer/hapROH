{
 "cells": [
  {
   "cell_type": "markdown",
   "metadata": {},
   "source": [
    "# File Transfer Notebook\n",
    "Idea: Contains code to transfer Data and Results between cluster and current work station\n",
    "Should be run from local workstation!!!"
   ]
  },
  {
   "cell_type": "code",
   "execution_count": 10,
   "metadata": {},
   "outputs": [
    {
     "name": "stdout",
     "output_type": "stream",
     "text": [
      "/home/harald/git/HAPSBURG\n"
     ]
    }
   ],
   "source": [
    "import numpy as np\n",
    "import os as os\n",
    "import sys as sys\n",
    "\n",
    "path = \"/home/harald/git/HAPSBURG/\"   # The Path on Harald's machine\n",
    "path_cluster = \"hringbauer@midway.rcc.uchicago.edu:/project/jnovembre/hringbauer/HAPSBURG/\"\n",
    "os.chdir(path)\n",
    "\n",
    "print(os.getcwd()) # Show the current working directory. Should be HAPSBURG git base Folder!!!"
   ]
  },
  {
   "cell_type": "code",
   "execution_count": 13,
   "metadata": {},
   "outputs": [],
   "source": [
    "def download_cluster(path_here, path_there):\n",
    "    \"\"\"Downloads File from cluster\"\"\"\n",
    "    raise NotImplementedError(\"Implement this!\")\n",
    "    \n",
    "def download_cluster_folder(path_here, path_there):\n",
    "    \"\"\"Downloads all files in Folder from cluster\"\"\"\n",
    "    path_there = path_there + \"/.\"\n",
    "    ### command should be cp -r folder/. folder1\n",
    "    !scp -r $path_there $path_here\n",
    "    print(\"Successfully finished!\")\n",
    "    \n",
    "def upload_cluster(path_here, path_there):\n",
    "    \"\"\"Upload Files from cluster\"\"\"\n",
    "    raise NotImplementedError(\"Implement this!\") \n",
    "    \n",
    "def upload_cluster_folder(path_here, path_there):\n",
    "    \"\"\"Upload all files in Folder from cluster\"\"\"\n",
    "    path_here = path_here + \"/.\"\n",
    "    ### command should be cp -r folder/. folder1\n",
    "    !scp -r $path_here $path_there\n",
    "    print(\"Successfully finished!\")"
   ]
  },
  {
   "cell_type": "markdown",
   "metadata": {},
   "source": [
    "# Transfer Specific Folders"
   ]
  },
  {
   "cell_type": "markdown",
   "metadata": {},
   "source": [
    "# Transfer ALL Data from data folder"
   ]
  },
  {
   "cell_type": "code",
   "execution_count": 12,
   "metadata": {},
   "outputs": [
    {
     "name": "stdout",
     "output_type": "stream",
     "text": [
      "ALL.chrX.phase3_shapeit2_mvncall_integrated_v 100%  145KB   7.9MB/s   00:00    \n",
      "ALL.chr22.phase3_shapeit2_mvncall_integrated_ 100%  205MB  11.2MB/s   00:18    \n",
      "1240EURchr16.vcf.gz                           100% 6030KB  11.1MB/s   00:00    \n",
      "1240EURchr1.vcf.gz                            100%   15MB  11.2MB/s   00:01    \n",
      "1240EURchr4.vcf.gz                            100%   11MB  11.2MB/s   00:01    \n",
      "1240EURchr19.vcf.gz                           100% 3305KB  10.8MB/s   00:00    \n",
      "1240EURchr18.vcf.gz                           100% 5849KB  11.1MB/s   00:00    \n",
      "1240EURchr5.vcf.gz                            100%   12MB  11.1MB/s   00:01    \n",
      "1240EURchr2.vcf.gz                            100%   16MB  11.2MB/s   00:01    \n",
      "1240EURchr14.vcf.gz                           100% 6325KB  11.1MB/s   00:00    \n",
      "1240EURchr17.vcf.gz                           100% 5109KB  11.1MB/s   00:00    \n",
      "1240EURchr10.vcf.gz                           100%   10MB  11.1MB/s   00:00    \n",
      "1240EURchr20.vcf.gz                           100% 4930KB  11.1MB/s   00:00    \n",
      "1240EURchr12.vcf.gz                           100% 9311KB  11.1MB/s   00:00    \n",
      "1240EURchr22.vcf.gz                           100% 2786KB  11.0MB/s   00:00    \n",
      "1240EURchr7.vcf.gz                            100%   10MB  11.1MB/s   00:00    \n",
      "1240EURchr6.vcf.gz                            100%   13MB  11.1MB/s   00:01    \n",
      "1240EURchr11.vcf.gz                           100% 9466KB  11.1MB/s   00:00    \n",
      "1240EURchr3.vcf.gz                            100%   13MB  11.1MB/s   00:01    \n",
      "1240EURchr15.vcf.gz                           100% 5968KB  11.1MB/s   00:00    \n",
      "1240EURchr13.vcf.gz                           100% 6895KB  10.8MB/s   00:00    \n",
      "1240EURchr21.vcf.gz                           100% 2783KB  11.0MB/s   00:00    \n",
      "1240EURchr9.vcf.gz                            100% 8907KB  11.1MB/s   00:00    \n",
      "1240EURchr8.vcf.gz                            100%   10MB  11.2MB/s   00:00    \n",
      "integrated_call_samples_v3.20130502.ALL.panel 100%   54KB   5.3MB/s   00:00    \n",
      "1000gX1240kEur.nosex                          100%   39KB   4.8MB/s   00:00    \n",
      "variants1240k3.txt                            100%  788KB   9.6MB/s   00:00    \n",
      "variants1240k10.txt                           100%  605KB  10.4MB/s   00:00    \n",
      "variants1240k4.txt                            100%  706KB  10.5MB/s   00:00    \n",
      "variants1240k22.txt                           100%  156KB   8.3MB/s   00:00    \n",
      "variants1240k13.txt                           100%  391KB  10.0MB/s   00:00    \n",
      "chr8.csv                                      100%  701KB  10.5MB/s   00:00    \n",
      "chr13.csv                                     100%  482KB  10.3MB/s   00:00    \n",
      "chr19.csv                                     100%  222KB   9.3MB/s   00:00    \n",
      "chr6.csv                                      100%  872KB  10.7MB/s   00:00    \n",
      "chr4.csv                                      100%  798KB  10.6MB/s   00:00    \n",
      "chr3.csv                                      100%  906KB  10.7MB/s   00:00    \n",
      "chr12.csv                                     100%  669KB  10.5MB/s   00:00    \n",
      "chr15.csv                                     100%  423KB  10.2MB/s   00:00    \n",
      "chr21.csv                                     100%  196KB   8.9MB/s   00:00    \n",
      "chr16.csv                                     100%  416KB  10.1MB/s   00:00    \n",
      "chr20.csv                                     100%  350KB   9.9MB/s   00:00    \n",
      "chr10.csv                                     100%  728KB  10.6MB/s   00:00    \n",
      "chr5.csv                                      100%  824KB  10.6MB/s   00:00    \n",
      "chr14.csv                                     100%  446KB  10.0MB/s   00:00    \n",
      "chr2.csv                                      100% 1109KB  10.8MB/s   00:00    \n",
      "chr1.csv                                      100% 1048KB  10.3MB/s   00:00    \n",
      "chr17.csv                                     100%  355KB  10.0MB/s   00:00    \n",
      "chr18.csv                                     100%  408KB  10.1MB/s   00:00    \n",
      "chr11.csv                                     100%  682KB  10.5MB/s   00:00    \n",
      "chr9.csv                                      100%  578KB  10.4MB/s   00:00    \n",
      "chr7.csv                                      100%  691KB  10.5MB/s   00:00    \n",
      "chr22.csv                                     100%  192KB   8.8MB/s   00:00    \n",
      "variants1240k16.txt                           100%  351KB  10.0MB/s   00:00    \n",
      "variants1240k9.txt                            100%  520KB  10.3MB/s   00:00    \n",
      "MinMyc.snp                                    100%   74MB  11.2MB/s   00:06    \n",
      "variants1240k12.txt                           100%  556KB  10.1MB/s   00:00    \n",
      "variants1240k15.txt                           100%  352KB   9.9MB/s   00:00    \n",
      "variants1240k7.txt                            100%  612KB   9.9MB/s   00:00    \n",
      "variants1240k1.txt                            100%  911KB  10.6MB/s   00:00    \n",
      "variants1240k2.txt                            100%  968KB  10.7MB/s   00:00    \n",
      "variants1240k6.txt                            100%  762KB  10.5MB/s   00:00    \n",
      "variants1240k21.txt                           100%  160KB   8.5MB/s   00:00    \n",
      "variants1240k19.txt                           100%  187KB   9.0MB/s   00:00    \n",
      "variants1240k11.txt                           100%  558KB  10.3MB/s   00:00    \n",
      "variants1240k17.txt                           100%  298KB   9.7MB/s   00:00    \n",
      "variants1240k8.txt                            100%  627KB  10.4MB/s   00:00    \n",
      "variants1240k5.txt                            100%  701KB  10.5MB/s   00:00    \n",
      "variants1240k18.txt                           100%  343KB   9.9MB/s   00:00    \n",
      "variants1240k14.txt                           100%  372KB   9.9MB/s   00:00    \n",
      "variants1240k20.txt                           100%   10KB   1.9MB/s   00:00    \n",
      "1000gX1240kEur.hdf5                           100%   11MB  11.2MB/s   00:01    \n",
      "variants1240k                                 100%  487KB  10.1MB/s   00:00    \n",
      "integrated_call_samples_v2.20130502.ALL.ped   100%  204KB   9.2MB/s   00:00    \n",
      ".pversion                                     100%   10     3.2KB/s   00:00    \n",
      "1000gX1240kEur.vcf                            100%   92MB  11.2MB/s   00:08    \n",
      "Eur1240chr17.hdf5                             100% 8933KB  11.1MB/s   00:00    \n",
      "Eur1240chr15.hdf5                             100%   10MB  11.1MB/s   00:00    \n",
      "Eur1240chr14.hdf5                             100%   11MB  11.1MB/s   00:00    \n",
      "Eur1240chr21.hdf5                             100% 5072KB  11.1MB/s   00:00    \n",
      "Eur1240chr22.hdf5                             100% 5029KB  11.1MB/s   00:00    \n",
      "Eur1240chr17.hdf5                             100% 8675KB  11.1MB/s   00:00    \n",
      "Eur1240chr15.hdf5                             100%   10MB  11.1MB/s   00:00    \n",
      "Eur1240chr14.hdf5                             100%   10MB  11.1MB/s   00:00    \n",
      "Eur1240chr21.hdf5                             100% 4940KB  11.1MB/s   00:00    \n",
      "Eur1240chr22.hdf5                             100% 4891KB  11.1MB/s   00:00    \n",
      "Eur1240chr18.hdf5                             100% 9942KB  11.1MB/s   00:00    \n",
      "Eur1240chr5.hdf5                              100%   20MB  11.1MB/s   00:01    \n",
      "Eur1240chr7.hdf5                              100%   17MB  11.2MB/s   00:01    \n",
      "Eur1240chr4.hdf5                              100%   20MB  11.2MB/s   00:01    \n",
      "Eur1240chr19.hdf5                             100% 5705KB  11.1MB/s   00:00    \n",
      "Eur1240chr20.hdf5                             100% 8501KB  11.1MB/s   00:00    \n",
      "Eur1240chr11.hdf5                             100%   15MB  11.2MB/s   00:01    \n",
      "Eur1240chr16.hdf5                             100%   10MB  11.1MB/s   00:00    \n",
      "Eur1240chr13.hdf5                             100%   11MB  11.1MB/s   00:01    \n",
      "Eur1240chr3.hdf5                              100%   22MB  11.1MB/s   00:01    \n",
      "Eur1240chr8.hdf5                              100%   17MB  11.2MB/s   00:01    \n",
      "Eur1240chr6.hdf5                              100%   22MB  11.2MB/s   00:01    \n",
      "Eur1240chr2.hdf5                              100%   26MB  11.2MB/s   00:02    \n",
      "Eur1240chr21_new.hdf5                         100% 4876KB  11.1MB/s   00:00    \n",
      "Eur1240chr9.hdf5                              100%   15MB  11.2MB/s   00:01    \n",
      "Eur1240chr12.hdf5                             100%   15MB  11.2MB/s   00:01    \n"
     ]
    },
    {
     "name": "stdout",
     "output_type": "stream",
     "text": [
      "Eur1240chr10.hdf5                             100%   17MB  11.2MB/s   00:01    \n",
      "Eur1240chr1.hdf5                              100%   25MB  11.2MB/s   00:02    \n",
      "Eur1240chr18.hdf5                             100%   10MB  11.1MB/s   00:00    \n",
      "Eur1240chr5.hdf5                              100%   20MB  11.1MB/s   00:01    \n",
      "Eur1240chr7.hdf5                              100%   17MB  11.2MB/s   00:01    \n",
      "Eur1240chr4.hdf5                              100%   20MB  11.2MB/s   00:01    \n",
      "Eur1240chr19.hdf5                             100% 5834KB  11.1MB/s   00:00    \n",
      "Eur1240chr20.hdf5                             100% 8754KB  11.1MB/s   00:00    \n",
      "Eur1240chr11.hdf5                             100%   16MB  11.2MB/s   00:01    \n",
      "Eur1240chr16.hdf5                             100%   10MB  11.1MB/s   00:00    \n",
      "Eur1240chr13.hdf5                             100%   12MB  11.2MB/s   00:01    \n",
      "Eur1240chr3.hdf5                              100%   23MB  11.0MB/s   00:02    \n",
      "Eur1240chr8.hdf5                              100%   18MB  11.2MB/s   00:01    \n",
      "Eur1240chr6.hdf5                              100%   22MB  11.2MB/s   00:01    \n",
      "Eur1240chr2.hdf5                              100%   27MB  11.2MB/s   00:02    \n",
      "Eur1240chr9.hdf5                              100%   15MB  11.2MB/s   00:01    \n",
      "Eur1240chr12.hdf5                             100%   16MB  11.2MB/s   00:01    \n",
      "Eur1240chr10.hdf5                             100%   17MB  11.2MB/s   00:01    \n",
      "Eur1240chr1.hdf5                              100%   26MB  11.2MB/s   00:02    \n",
      "1000Genomes_X.hdf5                            100% 1543MB  11.2MB/s   02:17    \n",
      "EUR.csv                                       100% 7650   621.4KB/s   00:00    \n",
      "1000gX1240kEur.log                            100% 1177   329.9KB/s   00:00    \n",
      "ALL.chrX.phase3_shapeit2_mvncall_integrated_v 100% 1835MB  11.2MB/s   02:43    \n",
      "meta_df.csv                                   100% 8069   590.0KB/s   00:00    \n",
      "EUR.csv                                       100% 7650   610.0KB/s   00:00    \n",
      "EUR_fam.csv                                   100% 4024   455.0KB/s   00:00    \n",
      "EUR_fam.csv                                   100% 4024   428.0KB/s   00:00    \n"
     ]
    }
   ],
   "source": [
    "path_here = path + \"Data\" # Data/1000Genomes\n",
    "path_there = path_cluster + \"Data\"\n",
    "upload_cluster_folder(path_here, path_there)"
   ]
  },
  {
   "cell_type": "markdown",
   "metadata": {},
   "source": [
    "# Download Results"
   ]
  },
  {
   "cell_type": "code",
   "execution_count": null,
   "metadata": {},
   "outputs": [],
   "source": [
    "path_here = \n",
    "path_there = "
   ]
  }
 ],
 "metadata": {
  "kernelspec": {
   "display_name": "Python 3",
   "language": "python",
   "name": "python3"
  },
  "language_info": {
   "codemirror_mode": {
    "name": "ipython",
    "version": 3
   },
   "file_extension": ".py",
   "mimetype": "text/x-python",
   "name": "python",
   "nbconvert_exporter": "python",
   "pygments_lexer": "ipython3",
   "version": "3.6.8"
  }
 },
 "nbformat": 4,
 "nbformat_minor": 2
}
