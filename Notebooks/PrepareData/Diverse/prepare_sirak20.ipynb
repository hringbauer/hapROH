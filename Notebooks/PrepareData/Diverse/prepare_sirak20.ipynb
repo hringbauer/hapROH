{
 "cells": [
  {
   "cell_type": "code",
   "execution_count": 21,
   "metadata": {},
   "outputs": [
    {
     "name": "stdout",
     "output_type": "stream",
     "text": [
      "midway2-0402.rcc.local\n",
      "Midway jnovmbre partition detected.\n",
      "/project2/jnovembre/hringbauer/HAPSBURG\n",
      "CPU Count: 28\n"
     ]
    }
   ],
   "source": [
    "import pandas as pd\n",
    "import numpy as np\n",
    "import matplotlib.pyplot as plt\n",
    "import matplotlib.cm as cm\n",
    "from matplotlib import gridspec\n",
    "import socket\n",
    "import os as os\n",
    "import sys as sys\n",
    "import re\n",
    "import multiprocessing as mp\n",
    "import matplotlib.colors as cls\n",
    "from mpl_toolkits.basemap import Basemap\n",
    "from matplotlib.patches import Polygon\n",
    "from matplotlib.collections import PatchCollection\n",
    "\n",
    "socket_name = socket.gethostname()\n",
    "print(socket_name)\n",
    "if socket_name == \"VioletQueen\":\n",
    "    path = \"/home/harald/git/HAPSBURG/\"   # The Path on Harald's machine\n",
    "elif socket_name.startswith(\"midway2\"):\n",
    "    print(\"Midway jnovmbre partition detected.\")\n",
    "    path = \"/project2/jnovembre/hringbauer/HAPSBURG/\"  # The Path on Midway Cluster\n",
    "else: \n",
    "    raise RuntimeWarning(\"Not compatible machine. Check!!\")\n",
    "\n",
    "os.chdir(path)  # Set the right Path (in line with Atom default)\n",
    "print(os.getcwd()) # Show the current working directory. Should be HAPSBURG/Notebooks/ParallelRuns\n",
    "print(f\"CPU Count: {mp.cpu_count()}\")\n",
    "\n",
    "### To load Eigenstrat  \n",
    "sys.path.append(\"./package/\")  # Since now we are in the Root Directory\n",
    "from hapsburg.PackagesSupport.loadEigenstrat.loadEigenstrat import EigenstratLoad, load_eigenstrat"
   ]
  },
  {
   "cell_type": "code",
   "execution_count": 73,
   "metadata": {},
   "outputs": [],
   "source": [
    "def extract_only_eigenstrat(df, path_es, packed=False, sep=\"\\t\"):\n",
    "    \"\"\"Extract only raws of df that are found in .ind file at path_es\n",
    "    df: Dataframe with iid column. path_es: Eigenstrat basepath\"\"\"\n",
    "    es_load = load_eigenstrat(base_path=path_es, packed=packed, sep=sep)\n",
    "    df_ind = es_load.df_ind  # Get the Individual List\n",
    "    idx = df[\"iid\"].isin(df_ind[\"iid\"])\n",
    "    print(f\"Found {np.sum(idx)}/{len(df_ind)} Individuals in Eigenstrat\")\n",
    "    if np.sum(~idx)>0:\n",
    "        print(f\"Couldn't find: {df[~idx]}\")\n",
    "    df_found = df[idx]\n",
    "    return df_found"
   ]
  },
  {
   "cell_type": "markdown",
   "metadata": {},
   "source": [
    "# Process the two versions of Meta\n",
    "[Legacy version see below]"
   ]
  },
  {
   "cell_type": "code",
   "execution_count": 124,
   "metadata": {},
   "outputs": [
    {
     "name": "stdout",
     "output_type": "stream",
     "text": [
      "CPU times: user 9 µs, sys: 0 ns, total: 9 µs\n",
      "Wall time: 18.8 µs\n",
      "Loaded 184 Individuals from ./Data/Sirak20/metadata_hr.csv\n",
      "Loaded 184 Individuals from ./Data/Sirak20/metadata_hr.csv\n",
      "Saved 184 Individuals to ./Data/Sirak20/meta_final1.csv\n"
     ]
    }
   ],
   "source": [
    "%time\n",
    "col = \"Master ID\"\n",
    "path_meta_raw = \"./Data/Sirak20/metadata_hr.csv\"\n",
    "path_new = \"./Data/Sirak20/metadata_final.csv\"\n",
    "save_path = \"./Data/Sirak20/meta_final1.csv\"\n",
    "#save_path = \"\"\n",
    "\n",
    "### Load the saved Data\n",
    "df_raw0 = pd.read_csv(path_meta_raw, sep=\"\\t\")\n",
    "print(f\"Loaded {len(df_raw)} Individuals from {path_meta_raw}\")\n",
    "\n",
    "### Load the new \"raw\" Data\n",
    "df_raw = pd.read_csv(path_new, sep=\"\\t\")\n",
    "print(f\"Loaded {len(df_raw)} Individuals from {path_meta_raw}\")\n",
    "\n",
    "### Rename the Columns to Standard\n",
    "rename_dict = {\"Instance ID\" : \"iid\",\n",
    "               \"Date: One of two formats. (Format 1) 95.4% CI calibrated radiocarbon age (Conventional Radiocarbon Age BP, Lab number) e.g. 5983-5747 calBCE (6980±50 BP, Beta-226472). (Format 2) Archaeological context date, e.g. 2500-1700 BCE\":\"age_range\",\n",
    "               \"New Sample Name \" : \"clst\",\n",
    "               \"New Clade_Label (March 4)\" : \"clst1\",\n",
    "               'SNPs hit on autosomal targets' : \"n_cov_snp\",\n",
    "               \"Average of 95.4% date range in calBP (defined as 1950 CE)\" : \"age\",\n",
    "               'Lat.' : \"lat\",\n",
    "               \"Long.\" : \"lon\",\n",
    "               'ASSESSMENT (Xcontam listed if |Z|>2 standard errors from zero: 0.02-0.05=\"QUESTIONABLE\", >0.05=\"QUESTIONABLE_CRITICAL\" or \"FAIL\") (mtcontam 97.5th percentile estimates listed if coverage >2: <0.8 is \"QUESTIONABLE_CRITICAL\", 0.8-0.95 is \"QUESTIONABLE\", and 0.95-0.98 is recorded but \"PASS\", gets overriden by ANGSD)':\"include_alt1\"\n",
    "               }\n",
    "\n",
    "df_raw.rename(columns=rename_dict, inplace=True)\n",
    "df_raw[\"study\"]=\"Sirak20\"\n",
    "df_raw[\"include_alt\"] = df_raw[\"include_alt1\"].str.contains(\"pass\", flags=re.IGNORECASE).astype(\"int\")\n",
    "df_raw[\"mean_cov\"]=df_raw[\"n_cov_snp\"]/1.2e6\n",
    "df_full1 = df_raw[[\"iid\", \"lat\", \"lon\", \"age\", \"age_range\", \n",
    "                   \"study\", \"clst\", \"clst1\", \"mean_cov\", \n",
    "                   \"n_cov_snp\", \"include_alt\", \"Master ID\"]].copy()\n",
    "\n",
    "### Overwrite IID Field of 2nd Meta with first Meta\n",
    "df_merge = pd.merge(df_raw0[[\"Instance ID\", col]], df_full1, on=col)\n",
    "df_merge[\"iid\"] = df_merge[\"Instance ID\"]\n",
    "df_merge = df_merge.drop(columns=\"Instance ID\")\n",
    "\n",
    "### Manual rewrite one IID\n",
    "idx = df_merge[\"iid\"].str.contains(\"S11170\")\n",
    "df_merge.loc[idx, \"iid\"] = \"S11170\"\n",
    "\n",
    "### Save the Modified Meta\n",
    "if len(save_path)> 0:\n",
    "    df_merge.to_csv(save_path, index=None, sep=\"\\t\")  # sep='\\t' would not work with downstream analysis\n",
    "    print(f\"Saved {len(df_full1)} Individuals to {save_path}\")"
   ]
  },
  {
   "cell_type": "markdown",
   "metadata": {},
   "source": [
    "### Compare with Eigenstrat"
   ]
  },
  {
   "cell_type": "code",
   "execution_count": 125,
   "metadata": {},
   "outputs": [
    {
     "name": "stdout",
     "output_type": "stream",
     "text": [
      "CPU times: user 12 µs, sys: 1 µs, total: 13 µs\n",
      "Wall time: 26.2 µs\n",
      "Loaded 184 Individuals from ./Data/Sirak20/metadata_hr.csv\n",
      "Comparing to Eigenstrat...\n",
      "3 Eigenstrat Files with 1488 Individuals and 1233013 SNPs\n",
      "Found 184/1488 Individuals in Eigenstrat\n"
     ]
    }
   ],
   "source": [
    "%time\n",
    "path_es = \"./Data/Sirak20/v421_CaribIllu1000GancSam_bySite_PAM\"\n",
    "\n",
    "### Load the raw Data\n",
    "path_meta_proc = \"./Data/Sirak20/meta_final1.csv\"\n",
    "\n",
    "df_proc = pd.read_csv(path_meta_proc, sep=\"\\t\")\n",
    "print(f\"Loaded {len(df_raw)} Individuals from {path_meta_raw}\")\n",
    "\n",
    "print(\"Comparing to Eigenstrat...\")\n",
    "df_full = extract_only_eigenstrat(df_proc, path_es = path_es, \n",
    "                                   packed=True, sep=\"\\s+\")"
   ]
  },
  {
   "cell_type": "code",
   "execution_count": 126,
   "metadata": {},
   "outputs": [
    {
     "name": "stdout",
     "output_type": "stream",
     "text": [
      "Saved 184 Individuals to ./Data/Sirak20/meta_processed1.csv\n"
     ]
    }
   ],
   "source": [
    "save_path = \"./Data/Sirak20/meta_processed1.csv\"\n",
    "\n",
    "if len(save_path)> 0:\n",
    "    df_full.to_csv(save_path, index=None)  # sep='\\t' would not work with downstream analysis\n",
    "    print(f\"Saved {len(df_full)} Individuals to {save_path}\")"
   ]
  },
  {
   "cell_type": "markdown",
   "metadata": {},
   "source": [
    "# Mini Area 51"
   ]
  },
  {
   "cell_type": "code",
   "execution_count": 10,
   "metadata": {},
   "outputs": [],
   "source": [
    "path_new = \"./Data/Dumpster/meta_final.csv\"\n",
    "df_new = pd.read_csv(path_new, sep=\"\\t\")"
   ]
  },
  {
   "cell_type": "code",
   "execution_count": 23,
   "metadata": {},
   "outputs": [
    {
     "name": "stdout",
     "output_type": "stream",
     "text": [
      "Found 184 of 184 Individuals\n"
     ]
    }
   ],
   "source": [
    "col = \"Master ID\"\n",
    "idx = df_new[col].isin(df_raw[col])\n",
    "print(f\"Found {np.sum(idx)} of {len(idx)} Individuals\")"
   ]
  },
  {
   "cell_type": "code",
   "execution_count": 20,
   "metadata": {},
   "outputs": [
    {
     "data": {
      "text/html": [
       "<div>\n",
       "<style scoped>\n",
       "    .dataframe tbody tr th:only-of-type {\n",
       "        vertical-align: middle;\n",
       "    }\n",
       "\n",
       "    .dataframe tbody tr th {\n",
       "        vertical-align: top;\n",
       "    }\n",
       "\n",
       "    .dataframe thead th {\n",
       "        text-align: right;\n",
       "    }\n",
       "</style>\n",
       "<table border=\"1\" class=\"dataframe\">\n",
       "  <thead>\n",
       "    <tr style=\"text-align: right;\">\n",
       "      <th></th>\n",
       "      <th>Instance ID</th>\n",
       "      <th>Master ID</th>\n",
       "      <th>Average of 95.4% date range in calBP (defined as 1950 CE)</th>\n",
       "      <th>Date: One of two formats. (Format 1) 95.4% CI calibrated radiocarbon age (Conventional Radiocarbon Age BP, Lab number) e.g. 5983-5747 calBCE (6980±50 BP, Beta-226472). (Format 2) Archaeological context date, e.g. 2500-1700 BCE</th>\n",
       "      <th>Locality</th>\n",
       "      <th>Country</th>\n",
       "      <th>Lat.</th>\n",
       "      <th>Long.</th>\n",
       "      <th>New Sample Name</th>\n",
       "      <th>New Clade_Label (March 4)</th>\n",
       "      <th>...</th>\n",
       "      <th>Xcontam ANGSD MOM 95% CI truncated at 0 (only if male and ≥200)</th>\n",
       "      <th>UDG treatment</th>\n",
       "      <th>LibraryID(s)</th>\n",
       "      <th>endogenous by library (computed on shotgun data)</th>\n",
       "      <th>1240k coverage (by library)</th>\n",
       "      <th>Damage rate in first nucleotide on sequences overlapping 1240k targets (by library)</th>\n",
       "      <th>mtDNA coverage (by library)</th>\n",
       "      <th>mtDNA haplogroup if ≥2 coverage (by library)</th>\n",
       "      <th>mtDNA match to consensus if ≥2 coverage (by library)</th>\n",
       "      <th>ASSESSMENT (Xcontam listed if |Z|&gt;2 standard errors from zero: 0.02-0.05=\"QUESTIONABLE\", &gt;0.05=\"QUESTIONABLE_CRITICAL\" or \"FAIL\") (mtcontam 97.5th percentile estimates listed if coverage &gt;2: &lt;0.8 is \"QUESTIONABLE_CRITICAL\", 0.8-0.95 is \"QUESTIONABLE\", and 0.95-0.98 is recorded but \"PASS\", gets overriden by ANGSD)</th>\n",
       "    </tr>\n",
       "  </thead>\n",
       "  <tbody>\n",
       "    <tr>\n",
       "      <th>36</th>\n",
       "      <td>I11170</td>\n",
       "      <td>I11170</td>\n",
       "      <td>3950</td>\n",
       "      <td>778-982 calCE (1135±20 BP, PSUAMS-7294)</td>\n",
       "      <td>Canimar Abajo</td>\n",
       "      <td>Cuba</td>\n",
       "      <td>23.038894</td>\n",
       "      <td>-81.495252</td>\n",
       "      <td>Cuba_Lithic_CanimarAbajo_1d17592_2d10756</td>\n",
       "      <td>Cuba_Lithic_1d17592_2d10756</td>\n",
       "      <td>...</td>\n",
       "      <td>..</td>\n",
       "      <td>half</td>\n",
       "      <td>S11170.Y1.E1.L1</td>\n",
       "      <td>..</td>\n",
       "      <td>..</td>\n",
       "      <td>0.153</td>\n",
       "      <td>83.437262</td>\n",
       "      <td>C1d1</td>\n",
       "      <td>[0.882,0.96]</td>\n",
       "      <td>PASS</td>\n",
       "    </tr>\n",
       "    <tr>\n",
       "      <th>159</th>\n",
       "      <td>I7972</td>\n",
       "      <td>I7972</td>\n",
       "      <td>850</td>\n",
       "      <td>900-1300 CE</td>\n",
       "      <td>Macao</td>\n",
       "      <td>Dominican Republic</td>\n",
       "      <td>18.735000</td>\n",
       "      <td>-68.476000</td>\n",
       "      <td>Dominican_Ceramic_Macao</td>\n",
       "      <td>EasternGreaterAntilles_Ceramic</td>\n",
       "      <td>...</td>\n",
       "      <td>..</td>\n",
       "      <td>half</td>\n",
       "      <td>S7972.E1.L1</td>\n",
       "      <td>..</td>\n",
       "      <td>..</td>\n",
       "      <td>0.269</td>\n",
       "      <td>21.080089</td>\n",
       "      <td>C1d</td>\n",
       "      <td>[0.962,0.993]</td>\n",
       "      <td>PROVISIONAL_PASS</td>\n",
       "    </tr>\n",
       "    <tr>\n",
       "      <th>164</th>\n",
       "      <td>I10333</td>\n",
       "      <td>I10333</td>\n",
       "      <td>2975</td>\n",
       "      <td>1200-850 BCE [layer date of 1120-905 calBCE]</td>\n",
       "      <td>Cueva Roja</td>\n",
       "      <td>Dominican Republic</td>\n",
       "      <td>17.869158</td>\n",
       "      <td>-71.645458</td>\n",
       "      <td>Dominican_Lithic_CuevaRoja</td>\n",
       "      <td>Dominican_Lithic</td>\n",
       "      <td>...</td>\n",
       "      <td>..</td>\n",
       "      <td>half</td>\n",
       "      <td>S10333.E1.L1</td>\n",
       "      <td>..</td>\n",
       "      <td>..</td>\n",
       "      <td>0.0875</td>\n",
       "      <td>24.443841</td>\n",
       "      <td>D1</td>\n",
       "      <td>[0.921,0.967]</td>\n",
       "      <td>PROVISIONAL_PASS</td>\n",
       "    </tr>\n",
       "  </tbody>\n",
       "</table>\n",
       "<p>3 rows × 32 columns</p>\n",
       "</div>"
      ],
      "text/plain": [
       "    Instance ID Master ID  \\\n",
       "36       I11170    I11170   \n",
       "159       I7972     I7972   \n",
       "164      I10333    I10333   \n",
       "\n",
       "     Average of 95.4% date range in calBP (defined as 1950 CE)  \\\n",
       "36                                                3950           \n",
       "159                                                850           \n",
       "164                                               2975           \n",
       "\n",
       "    Date: One of two formats. (Format 1) 95.4% CI calibrated radiocarbon age (Conventional Radiocarbon Age BP, Lab number) e.g. 5983-5747 calBCE (6980±50 BP, Beta-226472). (Format 2) Archaeological context date, e.g. 2500-1700 BCE  \\\n",
       "36             778-982 calCE (1135±20 BP, PSUAMS-7294)                                                                                                                                                                                   \n",
       "159                                        900-1300 CE                                                                                                                                                                                   \n",
       "164       1200-850 BCE [layer date of 1120-905 calBCE]                                                                                                                                                                                   \n",
       "\n",
       "          Locality             Country       Lat.      Long.  \\\n",
       "36   Canimar Abajo                Cuba  23.038894 -81.495252   \n",
       "159          Macao  Dominican Republic  18.735000 -68.476000   \n",
       "164     Cueva Roja  Dominican Republic  17.869158 -71.645458   \n",
       "\n",
       "                             New Sample Name        New Clade_Label (March 4)  \\\n",
       "36   Cuba_Lithic_CanimarAbajo_1d17592_2d10756     Cuba_Lithic_1d17592_2d10756   \n",
       "159                   Dominican_Ceramic_Macao  EasternGreaterAntilles_Ceramic   \n",
       "164                Dominican_Lithic_CuevaRoja                Dominican_Lithic   \n",
       "\n",
       "                                                                                                                                                               ...                                                                                                                                                              \\\n",
       "36                                                                                                                                                             ...                                                                                                                                                               \n",
       "159                                                                                                                                                            ...                                                                                                                                                               \n",
       "164                                                                                                                                                            ...                                                                                                                                                               \n",
       "\n",
       "     Xcontam ANGSD MOM 95% CI truncated at 0 (only if male and ≥200)  \\\n",
       "36                                                  ..                 \n",
       "159                                                 ..                 \n",
       "164                                                 ..                 \n",
       "\n",
       "     UDG treatment     LibraryID(s)  \\\n",
       "36            half  S11170.Y1.E1.L1   \n",
       "159           half      S7972.E1.L1   \n",
       "164           half     S10333.E1.L1   \n",
       "\n",
       "    endogenous by library (computed on shotgun data)  \\\n",
       "36                                                ..   \n",
       "159                                               ..   \n",
       "164                                               ..   \n",
       "\n",
       "    1240k coverage (by library)  \\\n",
       "36                           ..   \n",
       "159                          ..   \n",
       "164                          ..   \n",
       "\n",
       "    Damage rate in first nucleotide on sequences overlapping 1240k targets (by library)  \\\n",
       "36                                               0.153                                    \n",
       "159                                              0.269                                    \n",
       "164                                             0.0875                                    \n",
       "\n",
       "    mtDNA coverage (by library) mtDNA haplogroup if ≥2 coverage (by library)  \\\n",
       "36                    83.437262                                         C1d1   \n",
       "159                   21.080089                                          C1d   \n",
       "164                   24.443841                                           D1   \n",
       "\n",
       "    mtDNA match to consensus if ≥2 coverage (by library)  \\\n",
       "36                                        [0.882,0.96]     \n",
       "159                                      [0.962,0.993]     \n",
       "164                                      [0.921,0.967]     \n",
       "\n",
       "    ASSESSMENT (Xcontam listed if |Z|>2 standard errors from zero: 0.02-0.05=\"QUESTIONABLE\", >0.05=\"QUESTIONABLE_CRITICAL\" or \"FAIL\") (mtcontam 97.5th percentile estimates listed if coverage >2: <0.8 is \"QUESTIONABLE_CRITICAL\", 0.8-0.95 is \"QUESTIONABLE\", and 0.95-0.98 is recorded but \"PASS\", gets overriden by ANGSD)  \n",
       "36                                                PASS                                                                                                                                                                                                                                                                          \n",
       "159                                   PROVISIONAL_PASS                                                                                                                                                                                                                                                                          \n",
       "164                                   PROVISIONAL_PASS                                                                                                                                                                                                                                                                          \n",
       "\n",
       "[3 rows x 32 columns]"
      ]
     },
     "execution_count": 20,
     "metadata": {},
     "output_type": "execute_result"
    }
   ],
   "source": [
    "df_new[~idx]"
   ]
  },
  {
   "cell_type": "markdown",
   "metadata": {},
   "source": [
    "# Legacy"
   ]
  },
  {
   "cell_type": "code",
   "execution_count": null,
   "metadata": {},
   "outputs": [],
   "source": [
    "%time\n",
    "### Load the raw Data\n",
    "df_raw = pd.read_csv(path_meta_raw, sep=\"\\t\")\n",
    "print(f\"Loaded {len(df_raw)} Individuals from {path_meta_raw}\")\n",
    "\n",
    "### Rename the Columns to Standard\n",
    "rename_dict = {\"Instance ID\":\"iid\",\n",
    "               \"Date: One of two formats. (Format 1) 95.4% CI calibrated radiocarbon age (Conventional Radiocarbon Age BP, Lab number) e.g. 5983-5747 calBCE (6980±50 BP, Beta-226472). (Format 2) Archaeological context date, e.g. 2500-1700 BCE\":\"age_range\",\n",
    "               \"Per_Site_Label\":\"clst\",\n",
    "               'SNPs hit on autosomal targets':\"n_cov_snp\",\n",
    "               \"Average of 95.4% date range in calBP (defined as 1950 CE)\":\"age\",\n",
    "               'Lat.':\"lat\",\n",
    "               \"Long.\":\"lon\",\n",
    "               'ASSESSMENT (Xcontam listed if |Z|>2 standard errors from zero: 0.02-0.05=\"QUESTIONABLE\", >0.05=\"QUESTIONABLE_CRITICAL\" or \"FAIL\") (mtcontam 97.5th percentile estimates listed if coverage >2: <0.8 is \"QUESTIONABLE_CRITICAL\", 0.8-0.95 is \"QUESTIONABLE\", and 0.95-0.98 is recorded but \"PASS\", gets overriden by ANGSD)':\"include_alt1\"\n",
    "               }\n",
    "\n",
    "df_raw.rename(columns=rename_dict, inplace=True)\n",
    "df_raw[\"study\"]=\"Sirak20\"\n",
    "df_raw[\"include_alt\"] = df_raw[\"include_alt1\"].str.contains(\"pass\", flags=re.IGNORECASE).astype(\"int\")\n",
    "df_raw[\"mean_cov\"]=df_raw[\"n_cov_snp\"]/1.2e6\n",
    "df_full = df_raw[[\"iid\", \"lat\", \"lon\", \"age\", \"age_range\", \"study\", \"clst\", \"mean_cov\", \"n_cov_snp\", \"include_alt\"]]\n",
    "\n",
    "print(\"Comparing to Eigenstrat...\")\n",
    "df_full = extract_only_eigenstrat(df_full, path_es = path_es, \n",
    "                                   packed=True, sep=\"\\s+\")"
   ]
  },
  {
   "cell_type": "markdown",
   "metadata": {},
   "source": [
    "### Area 51"
   ]
  },
  {
   "cell_type": "code",
   "execution_count": 16,
   "metadata": {},
   "outputs": [],
   "source": [
    "x = df_raw[\"Average of 95.4% date range in calBP (defined as 1950 CE)\"]\n",
    "y = df_raw[\"SNPs hit on autosomal targets\"]"
   ]
  },
  {
   "cell_type": "code",
   "execution_count": 70,
   "metadata": {},
   "outputs": [
    {
     "data": {
      "image/png": "[encoded data removed]",
      "text/plain": [
       "<Figure size 864x432 with 1 Axes>"
      ]
     },
     "metadata": {
      "needs_background": "light"
     },
     "output_type": "display_data"
    }
   ],
   "source": [
    "fs = 12\n",
    "plt.figure(figsize=(12,6))\n",
    "ax=plt.gca()\n",
    "ax.scatter(x,y, ec=\"k\", c=\"silver\", s=60)\n",
    "ax.invert_xaxis()\n",
    "ax.set_xlabel(\"Age BP\", fontsize=fs)\n",
    "ax.set_ylabel(\"Nr SNPs Covered\", fontsize=fs)\n",
    "ax.axhline(y=400000, c=\"r\", zorder=0, lw=2)\n",
    "plt.show()"
   ]
  },
  {
   "cell_type": "code",
   "execution_count": 67,
   "metadata": {},
   "outputs": [
    {
     "name": "stdout",
     "output_type": "stream",
     "text": [
      "Nr of usable samples 172 / 211\n"
     ]
    }
   ],
   "source": [
    "print(f\"Nr of usable samples {np.sum(y>400000)} / {len(y)}\")"
   ]
  },
  {
   "cell_type": "code",
   "execution_count": 69,
   "metadata": {},
   "outputs": [
    {
     "data": {
      "text/html": [
       "<div>\n",
       "<style scoped>\n",
       "    .dataframe tbody tr th:only-of-type {\n",
       "        vertical-align: middle;\n",
       "    }\n",
       "\n",
       "    .dataframe tbody tr th {\n",
       "        vertical-align: top;\n",
       "    }\n",
       "\n",
       "    .dataframe thead th {\n",
       "        text-align: right;\n",
       "    }\n",
       "</style>\n",
       "<table border=\"1\" class=\"dataframe\">\n",
       "  <thead>\n",
       "    <tr style=\"text-align: right;\">\n",
       "      <th></th>\n",
       "      <th>iid</th>\n",
       "      <th>Master ID</th>\n",
       "      <th>age</th>\n",
       "      <th>age_range</th>\n",
       "      <th>Locality</th>\n",
       "      <th>Country</th>\n",
       "      <th>lat</th>\n",
       "      <th>lon</th>\n",
       "      <th>To_Use</th>\n",
       "      <th>clst</th>\n",
       "      <th>...</th>\n",
       "      <th>mtDNA match to consensus if ≥2 coverage (by library)</th>\n",
       "      <th>batch notes (e.g. if a control well looks contaminated)</th>\n",
       "      <th>ASSESSMENT (Xcontam listed if |Z|&gt;2 standard errors from zero: 0.02-0.05=\"QUESTIONABLE\", &gt;0.05=\"QUESTIONABLE_CRITICAL\" or \"FAIL\") (mtcontam 97.5th percentile estimates listed if coverage &gt;2: &lt;0.8 is \"QUESTIONABLE_CRITICAL\", 0.8-0.95 is \"QUESTIONABLE\", and 0.95-0.98 is recorded but \"PASS\", gets overriden by ANGSD)</th>\n",
       "      <th>Famlst</th>\n",
       "      <th>Idlast</th>\n",
       "      <th>NewFamIst</th>\n",
       "      <th>NewIdlast</th>\n",
       "      <th>study</th>\n",
       "      <th>include_alt</th>\n",
       "      <th>mean_cov</th>\n",
       "    </tr>\n",
       "  </thead>\n",
       "  <tbody>\n",
       "    <tr>\n",
       "      <th>37</th>\n",
       "      <td>S11170.Y1.E1.L1</td>\n",
       "      <td>I11170</td>\n",
       "      <td>3950</td>\n",
       "      <td>4000 BCE - 2000 CE</td>\n",
       "      <td>Canimar Abajo</td>\n",
       "      <td>Cuba</td>\n",
       "      <td>23.038894</td>\n",
       "      <td>-81.495252</td>\n",
       "      <td>Yes (some, relative)</td>\n",
       "      <td>Cuba_unknown_1d17592_2d10756</td>\n",
       "      <td>...</td>\n",
       "      <td>[0.882,0.96]</td>\n",
       "      <td>..</td>\n",
       "      <td>PASS</td>\n",
       "      <td>Cuba_unknown</td>\n",
       "      <td>NaN</td>\n",
       "      <td>NaN</td>\n",
       "      <td>NaN</td>\n",
       "      <td>Sirak20</td>\n",
       "      <td>1</td>\n",
       "      <td>0.117118</td>\n",
       "    </tr>\n",
       "  </tbody>\n",
       "</table>\n",
       "<p>1 rows × 45 columns</p>\n",
       "</div>"
      ],
      "text/plain": [
       "                iid Master ID   age           age_range       Locality  \\\n",
       "37  S11170.Y1.E1.L1    I11170  3950  4000 BCE - 2000 CE  Canimar Abajo   \n",
       "\n",
       "   Country        lat        lon                To_Use  \\\n",
       "37    Cuba  23.038894 -81.495252  Yes (some, relative)   \n",
       "\n",
       "                            clst    ...     \\\n",
       "37  Cuba_unknown_1d17592_2d10756    ...      \n",
       "\n",
       "   mtDNA match to consensus if ≥2 coverage (by library)  \\\n",
       "37                                       [0.882,0.96]     \n",
       "\n",
       "   batch notes (e.g. if a control well looks contaminated)  \\\n",
       "37                                                 ..        \n",
       "\n",
       "   ASSESSMENT (Xcontam listed if |Z|>2 standard errors from zero: 0.02-0.05=\"QUESTIONABLE\", >0.05=\"QUESTIONABLE_CRITICAL\" or \"FAIL\") (mtcontam 97.5th percentile estimates listed if coverage >2: <0.8 is \"QUESTIONABLE_CRITICAL\", 0.8-0.95 is \"QUESTIONABLE\", and 0.95-0.98 is recorded but \"PASS\", gets overriden by ANGSD)  \\\n",
       "37                                               PASS                                                                                                                                                                                                                                                                           \n",
       "\n",
       "          Famlst  Idlast NewFamIst NewIdlast    study include_alt  mean_cov  \n",
       "37  Cuba_unknown     NaN       NaN       NaN  Sirak20           1  0.117118  \n",
       "\n",
       "[1 rows x 45 columns]"
      ]
     },
     "execution_count": 69,
     "metadata": {},
     "output_type": "execute_result"
    }
   ],
   "source": [
    "# Sample not in final Dataset\n",
    "df_raw[~df_raw[\"iid\"].isin(df_full[\"iid\"])]"
   ]
  },
  {
   "cell_type": "code",
   "execution_count": null,
   "metadata": {},
   "outputs": [],
   "source": [
    "df_full.sort_values(by=\"n_cov_snp\", ascending=False)"
   ]
  },
  {
   "cell_type": "code",
   "execution_count": null,
   "metadata": {},
   "outputs": [],
   "source": [
    "df_raw.columns"
   ]
  }
 ],
 "metadata": {
  "kernelspec": {
   "display_name": "Python 3",
   "language": "python",
   "name": "python3"
  },
  "language_info": {
   "codemirror_mode": {
    "name": "ipython",
    "version": 3
   },
   "file_extension": ".py",
   "mimetype": "text/x-python",
   "name": "python",
   "nbconvert_exporter": "python",
   "pygments_lexer": "ipython3",
   "version": "3.6.9"
  }
 },
 "nbformat": 4,
 "nbformat_minor": 2
}
