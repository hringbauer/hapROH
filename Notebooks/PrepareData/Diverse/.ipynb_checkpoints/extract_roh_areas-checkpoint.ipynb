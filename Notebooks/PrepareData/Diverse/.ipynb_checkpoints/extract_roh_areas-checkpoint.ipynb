{
 "cells": [
  {
   "cell_type": "markdown",
   "metadata": {},
   "source": [
    "# Prepare ROH Data for Arjun's project\n",
    "Create data that Arjun needs for his Li&Stephens copying Model:\n",
    "1. Target Genotype Data [2,l]\n",
    "2. Reference Genotype Data [n,l]\n",
    "3. Map Data in Morgan [l]\n",
    "\n",
    "Do it via Hapsburgs Preprocessing Object\n",
    "\n",
    "@author: Harald Ringbauer, 2019 (contact me @ hringbauer@uchicago.edu in case of trouble)"
   ]
  },
  {
   "cell_type": "code",
   "execution_count": 4,
   "metadata": {},
   "outputs": [
    {
     "name": "stdout",
     "output_type": "stream",
     "text": [
      "midway2-0402.rcc.local\n",
      "Midway jnovmbre partition detected.\n",
      "/project2/jnovembre/hringbauer/HAPSBURG\n",
      "CPU Count: 28\n"
     ]
    }
   ],
   "source": [
    "import numpy as np\n",
    "import matplotlib.pyplot as plt\n",
    "import os \n",
    "import pandas as pd\n",
    "\n",
    "import socket\n",
    "import os as os\n",
    "import sys as sys\n",
    "import multiprocessing as mp\n",
    "\n",
    "socket_name = socket.gethostname()\n",
    "print(socket_name)\n",
    "if socket_name == \"VioletQueen\":\n",
    "    path = \"/home/harald/git/HAPSBURG/\"   # The Path on Harald's machine\n",
    "elif socket_name.startswith(\"midway2\"):\n",
    "    print(\"Midway jnovmbre partition detected.\")\n",
    "    path = \"/project2/jnovembre/hringbauer/HAPSBURG/\"  # The Path on Midway Cluster\n",
    "else: \n",
    "    raise RuntimeWarning(\"Not compatible machine. Check!!\")\n",
    "    \n",
    "os.chdir(path)  # Set the right Path (in line with Atom default)\n",
    "\n",
    "sys.path.append(\"./Python3/\")  # Since now we are in the Root Directory\n",
    "from preprocessing import load_preprocessing ### The important Factory Method\n",
    "#from hmm_inference import HMM_Analyze   # Do not move. Should be after sys.path..\n",
    "\n",
    "print(os.getcwd()) # Show the current working directory. Should be HAPSBURG/Notebooks/ParallelRuns\n",
    "print(f\"CPU Count: {mp.cpu_count()}\")"
   ]
  },
  {
   "cell_type": "markdown",
   "metadata": {},
   "source": [
    "# 1) Get the Data\n",
    "Use HAPSBURG pre-processing object"
   ]
  },
  {
   "cell_type": "code",
   "execution_count": 21,
   "metadata": {},
   "outputs": [],
   "source": [
    "### What Eigenstrat File to run on:\n",
    "es_target_path=\"./Data/ReichLabEigenstrat/Raw/v37.2.1240K\"\n",
    "\n",
    "## Reference Files:\n",
    "h5_path1000g = \"./Data/1000Genomes/HDF5/1240kHDF5/all1240/chr\" \n",
    "meta_path_ref = \"./Data/1000Genomes/Individuals/meta_df_all.csv\"\n",
    "ch=2"
   ]
  },
  {
   "cell_type": "code",
   "execution_count": 7,
   "metadata": {},
   "outputs": [
    {
     "name": "stdout",
     "output_type": "stream",
     "text": [
      "Loading Individual: Stuttgart_published.DG\n",
      "Creating folder ./Data/Dumpster/Stuttgart_published.DG/chr2/...\n",
      "\n",
      "Loaded 94239 variants\n",
      "Loaded 2504 individuals\n",
      "HDF5 loaded from ./Data/1000Genomes/HDF5/1240kHDF5/all1240/chr2.hdf5\n",
      "3 Eigenstrat Files with 5081 Individuals and 1233013 SNPs\n",
      "\n",
      "Intersection on Positions: 94239\n",
      "Nr of Matching Refs: 94239 / 94239\n",
      "Full Intersection Ref/Alt Identical: 94173 / 94239\n",
      "2504 / 2504 Individuals included in Reference\n",
      "Extraction of 5008 Haplotypes complete\n",
      "Reduced to markers called 92561 / 94173\n",
      "(Fraction SNP: 0.9828825671901713)\n"
     ]
    }
   ],
   "source": [
    "%%time\n",
    "### Run the Factory Method\n",
    "pp = load_preprocessing(p_model=\"Eigenstrat\", save=False, output=True)  ## Save = False is important - we do NOT want to create anything in Hapsburg folders\n",
    "\n",
    "### Prepare the pre-processing Model\n",
    "pp.set_params(readcounts = False, destroy_phase=False,\n",
    "                     base_out_folder=\"./Data/Dumpster/\", prefix_out_data=\"\", excluded=[])   \n",
    "\n",
    "### Set Folder Parameters\n",
    "pp.set_params(h5_path1000g = h5_path1000g, meta_path_ref = meta_path_ref, es_target_path=es_target_path)\n",
    "\n",
    "### Load all the Data\n",
    "gts_ind, gts, r_map, out_folder = pp.load_data(iid=\"Stuttgart_published.DG\", ch=ch, n_ref=5008)  # Load the actual Data"
   ]
  },
  {
   "cell_type": "markdown",
   "metadata": {},
   "source": [
    "### Downsample to Interesting ROH region"
   ]
  },
  {
   "cell_type": "code",
   "execution_count": 16,
   "metadata": {},
   "outputs": [],
   "source": [
    "map_min_cM, map_max_cM = 198, 208"
   ]
  },
  {
   "cell_type": "code",
   "execution_count": 36,
   "metadata": {},
   "outputs": [
    {
     "name": "stdout",
     "output_type": "stream",
     "text": [
      "Extracting 4052 / 92561 Loci\n"
     ]
    }
   ],
   "source": [
    "tgt_loci = (r_map<map_max_cM/100) & (r_map>map_min_cM/100)\n",
    "print(f\"Extracting {np.sum(tgt_loci)} / {len(tgt_loci)} Loci\")"
   ]
  },
  {
   "cell_type": "code",
   "execution_count": 77,
   "metadata": {},
   "outputs": [
    {
     "name": "stdout",
     "output_type": "stream",
     "text": [
      "Found 6 / 4052 Heterozygotes\n"
     ]
    }
   ],
   "source": [
    "### Do the Extraction\n",
    "gts_ind_e = gts_ind[:,tgt_loci]\n",
    "r_map_e = r_map[tgt_loci]\n",
    "gts_e = gts[:,tgt_loci]\n",
    "\n",
    "print(f\"Found {np.sum(gts_ind_e[0,:]!=gts_ind_e[1,:])} / {len(gts_ind_e[0,:])} Heterozygotes\")"
   ]
  },
  {
   "cell_type": "code",
   "execution_count": 57,
   "metadata": {},
   "outputs": [
    {
     "data": {
      "image/png": "[encoded data removed]",
      "text/plain": [
       "<Figure size 864x216 with 1 Axes>"
      ]
     },
     "metadata": {
      "needs_background": "light"
     },
     "output_type": "display_data"
    }
   ],
   "source": [
    "#Sanity Check\n",
    "plt.figure(figsize=(12,3))\n",
    "plt.plot(r_map_e*100, gts_ind_e[0,:]!=gts_ind_e[1,:], \"ro\", ms=1)\n",
    "plt.show()"
   ]
  },
  {
   "cell_type": "markdown",
   "metadata": {},
   "source": [
    "### Save the Extracted Data"
   ]
  },
  {
   "cell_type": "code",
   "execution_count": 55,
   "metadata": {},
   "outputs": [
    {
     "name": "stdout",
     "output_type": "stream",
     "text": [
      "Saving to ./Data/Dumpster/Stuttgart_published.DG/chr2/ successful\n",
      "CPU times: user 3.73 s, sys: 17.7 ms, total: 3.75 s\n",
      "Wall time: 3.79 s\n"
     ]
    }
   ],
   "source": [
    "%%time\n",
    "np.savetxt(out_folder + \"gts_ind.csv\", gts_ind_e, fmt='%d')\n",
    "np.savetxt(out_folder + \"gts_ref.csv\", gts_e, fmt='%d')\n",
    "np.savetxt(out_folder + \"map.csv\", r_map_e)\n",
    "print(f\"Saving to {out_folder} successful\")"
   ]
  },
  {
   "cell_type": "markdown",
   "metadata": {},
   "source": [
    "# Area 51\n",
    "Test Code"
   ]
  },
  {
   "cell_type": "code",
   "execution_count": 68,
   "metadata": {},
   "outputs": [
    {
     "name": "stdout",
     "output_type": "stream",
     "text": [
      "CPU times: user 9.48 ms, sys: 25 µs, total: 9.51 ms\n",
      "Wall time: 8.96 ms\n"
     ]
    }
   ],
   "source": [
    "%%time\n",
    "test = np.loadtxt(out_folder + \"gts_ind.csv\", dtype=\"int8\")"
   ]
  },
  {
   "cell_type": "code",
   "execution_count": 69,
   "metadata": {},
   "outputs": [
    {
     "data": {
      "text/plain": [
       "(2, 4052)"
      ]
     },
     "execution_count": 69,
     "metadata": {},
     "output_type": "execute_result"
    }
   ],
   "source": [
    "np.shape(test)"
   ]
  },
  {
   "cell_type": "code",
   "execution_count": 75,
   "metadata": {},
   "outputs": [
    {
     "data": {
      "image/png": "[encoded data removed]",
      "text/plain": [
       "<Figure size 864x216 with 1 Axes>"
      ]
     },
     "metadata": {
      "needs_background": "light"
     },
     "output_type": "display_data"
    }
   ],
   "source": [
    "#Sanity Check\n",
    "plt.figure(figsize=(12,3))\n",
    "plt.plot(r_map_e*100, test[0,:] != test[1,:], \"go\", ms=2)\n",
    "plt.show()"
   ]
  },
  {
   "cell_type": "code",
   "execution_count": 76,
   "metadata": {},
   "outputs": [
    {
     "data": {
      "text/plain": [
       "'./Data/Dumpster/Stuttgart_published.DG/chr2/'"
      ]
     },
     "execution_count": 76,
     "metadata": {},
     "output_type": "execute_result"
    }
   ],
   "source": [
    "out_folder"
   ]
  },
  {
   "cell_type": "code",
   "execution_count": null,
   "metadata": {},
   "outputs": [],
   "source": []
  }
 ],
 "metadata": {
  "kernelspec": {
   "display_name": "Python 3",
   "language": "python",
   "name": "python3"
  },
  "language_info": {
   "codemirror_mode": {
    "name": "ipython",
    "version": 3
   },
   "file_extension": ".py",
   "mimetype": "text/x-python",
   "name": "python",
   "nbconvert_exporter": "python",
   "pygments_lexer": "ipython3",
   "version": "3.7.0"
  }
 },
 "nbformat": 4,
 "nbformat_minor": 2
}
