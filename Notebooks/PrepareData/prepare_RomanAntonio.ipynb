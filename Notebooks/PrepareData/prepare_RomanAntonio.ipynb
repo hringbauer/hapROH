{
 "cells": [
  {
   "cell_type": "markdown",
   "metadata": {},
   "source": [
    "# Prepare data from Antonio 2019\n",
    "Transform vcf with RCs into HDF5 that can be used by HAPSBURG"
   ]
  },
  {
   "cell_type": "code",
   "execution_count": 1,
   "metadata": {},
   "outputs": [
    {
     "name": "stdout",
     "output_type": "stream",
     "text": [
      "midway2-0401.rcc.local\n",
      "Midway jnovmbre partition detected.\n",
      "/project2/jnovembre/hringbauer/HAPSBURG\n",
      "CPU Count: 28\n"
     ]
    }
   ],
   "source": [
    "import allel\n",
    "import h5py  # Python Package to do the HDF5.\n",
    "import pandas as pd\n",
    "import numpy as np\n",
    "import matplotlib.pyplot as plt\n",
    "import socket\n",
    "import os as os\n",
    "import sys as sys\n",
    "import multiprocessing as mp\n",
    "from mpl_toolkits.basemap import Basemap\n",
    "\n",
    "socket_name = socket.gethostname()\n",
    "print(socket_name)\n",
    "if socket_name == \"VioletQueen\":\n",
    "    path = \"/home/harald/git/HAPSBURG/\"   # The Path on Harald's machine\n",
    "elif socket_name.startswith(\"midway2\"):\n",
    "    print(\"Midway jnovmbre partition detected.\")\n",
    "    path = \"/project2/jnovembre/hringbauer/HAPSBURG/\"  # The Path on Midway Cluster\n",
    "else: \n",
    "    raise RuntimeWarning(\"Not compatible machine. Check!!\")\n",
    "    \n",
    "os.chdir(path)  # Set the right Path (in line with Atom default)\n",
    "\n",
    "print(os.getcwd()) # Show the current working directory. Should be HAPSBURG/Notebooks/ParallelRuns\n",
    "print(f\"CPU Count: {mp.cpu_count()}\")"
   ]
  },
  {
   "cell_type": "markdown",
   "metadata": {},
   "source": [
    "# Downsampe to 1240k SNPs and transform to HDF5\n",
    "Needs to be run only one time!"
   ]
  },
  {
   "cell_type": "code",
   "execution_count": 20,
   "metadata": {},
   "outputs": [],
   "source": [
    "def save_1240kmarkers(snp1240k_path, marker_path):\n",
    "    \"\"\"Save all 1240 Markers in csv - used for bcftools filtering\"\"\"\n",
    "    df_snp = pd.read_csv(snp1240k_path, header=None, sep=r\"\\s+\", engine=\"python\")\n",
    "    df_snp.columns = [\"SNP\", \"chr\", \"map\", \"pos\", \"ref\", \"alt\"]\n",
    "    print(f\"Loaded {len(df_snp)} SNPs on all chromosomes.\")\n",
    "    df_save = df_snp[[\"chr\", \"pos\"]]\n",
    "    df_save.to_csv(marker_path, sep=\"\\t\", header=None, index=False)\n",
    "    print(f\"Saved {len(df_save)} 1240k Markers on all Chromosome to {marker_path}\")\n",
    "\n",
    "def bctools_filter_vcf_cluster(path_vcf, path_vcf_out, marker_path):\n",
    "    \"\"\"Filter to llist of variants with bcftools and directly via Marker Positions.\n",
    "    path_vcf: Path of the input VCF\n",
    "    path_vcf_out: Path where to save output VCF\n",
    "    marer_path: Where to find the list of markers\"\"\"\n",
    "    \n",
    "    !module load bcftools; bcftools view -Oz -o $path_vcf_out -T $marker_path -m2 -M2 -v snps $path_vcf\n",
    "    print(f\"Finished BCF tools. Save filtered VCF to {path_vcf_out}\")\n",
    "    \n",
    "def index_bcf_file(path_vcf):\n",
    "    \"\"\"Indexes a given vcf file\"\"\"\n",
    "    !module load bcftools; bcftools index $path_vcf"
   ]
  },
  {
   "cell_type": "code",
   "execution_count": 23,
   "metadata": {},
   "outputs": [],
   "source": [
    "marker_path = \"./Data/1000Genomes/Markers/1240k/chrALL.csv\" # Where to save list of downsampled SNPs to\n",
    "snp1240k_path = \"./Data/1000Genomes/Markers/MinMyc.snp\"     # Where to find the 1240k SNPs\n",
    "\n",
    "path_vcf = \"./Data/Antonio/rmpr_unigeno.vcf.gz\"\n",
    "path_vcf_out = \"./Data/Antonio/rmpr_unigeno_1240k.vcf.gz\"   # Where to save the downsampled 1240k SNPs to\n",
    "path_h5_out = \"./Data/Antonio/rmpr_unigeno_1240k.hdf5\"      # Where to save the final HDF4 to"
   ]
  },
  {
   "cell_type": "code",
   "execution_count": 15,
   "metadata": {},
   "outputs": [
    {
     "name": "stdout",
     "output_type": "stream",
     "text": [
      "Loaded 1233013 SNPs on all chromosomes.\n",
      "Saved 1233013 1240k Markers on all Chromosome to ./Data/1000Genomes/Markers/1240k/chrALL.csv\n",
      "CPU times: user 12.1 s, sys: 171 ms, total: 12.3 s\n",
      "Wall time: 12.3 s\n"
     ]
    }
   ],
   "source": [
    "%%time \n",
    "# Step 1: Prepare file with 1240k markers\n",
    "save_1240kmarkers(snp1240k_path, marker_path)"
   ]
  },
  {
   "cell_type": "code",
   "execution_count": 19,
   "metadata": {},
   "outputs": [
    {
     "name": "stdout",
     "output_type": "stream",
     "text": [
      "Finished BCF tools. Save filtered VCF to ./Data/Antonio/rmpr_unigeno_1240k.vcf.gz\n",
      "CPU times: user 20.8 s, sys: 2.78 s, total: 23.5 s\n",
      "Wall time: 15min 10s\n"
     ]
    }
   ],
   "source": [
    "%%time\n",
    "# Step 2: Downsample to VCF: Uncomment to run (takes 15 min!!)\n",
    "bctools_filter_vcf_cluster(path_vcf=path_vcf, path_vcf_out=path_vcf_out, marker_path=marker_path)"
   ]
  },
  {
   "cell_type": "code",
   "execution_count": 21,
   "metadata": {},
   "outputs": [
    {
     "name": "stdout",
     "output_type": "stream",
     "text": [
      "CPU times: user 534 ms, sys: 80.2 ms, total: 614 ms\n",
      "Wall time: 22.3 s\n"
     ]
    }
   ],
   "source": [
    "%%time\n",
    "# Step 3: Create Index File for VCF\n",
    "index_bcf_file(path_vcf_out)"
   ]
  },
  {
   "cell_type": "code",
   "execution_count": 117,
   "metadata": {},
   "outputs": [
    {
     "name": "stdout",
     "output_type": "stream",
     "text": [
      "CPU times: user 1min 9s, sys: 520 ms, total: 1min 10s\n",
      "Wall time: 1min 12s\n"
     ]
    }
   ],
   "source": [
    "%%time\n",
    "### Step 4: Transfer to HDF5\n",
    "# Takes about 1min, alt_number makes only 1 alt allele\n",
    "allel.vcf_to_hdf5(input=path_vcf_out, output=path_h5_out, compression=\"gzip\", \n",
    "                  fields = ['CHROM', 'POS', 'AD', 'GT', \"REF\", \"ALT\", \"ID\", \"samples\"], alt_number=1)   "
   ]
  },
  {
   "cell_type": "markdown",
   "metadata": {},
   "source": [
    "# Prepare the Meta Data File\n",
    "Prepares a Meta File in the standard format for this project"
   ]
  },
  {
   "cell_type": "code",
   "execution_count": 82,
   "metadata": {},
   "outputs": [],
   "source": [
    "def process_antonio_meta(raw_path = \"./Data/Antonio/meta_raw.csv\", site_path = \"./Data/Antonio/sites.csv\",\n",
    "                        save_path = \"./Data/Antonio/meta_processed.csv\", modify_iids=True, bp=True):\n",
    "    \"\"\"Process site level and ind level info into one Meta in Standard Format for HAPSBURG Analysis.\n",
    "    modify_iids: Whether to modify IIDs to match samples\"\"\"\n",
    "    df_raw = pd.read_csv(raw_path, sep=\"\\t\") # Load the data per each Individual\n",
    "    df_site = pd.read_csv(site_path, sep=\"\\t\") # Load the data per site\n",
    "    df_merge = pd.merge(df_raw, df_site, on=\"Site\", how='left')\n",
    "    print(f\"Merged from {len(df_raw)} to {len(df_merge)} Individuals with spatial Information\")\n",
    "\n",
    "    ### Rename columns\n",
    "    rename_dict = {'Date (Direct radiocarbon date on the individual calibrated 95% confidence interval or date range based on the archaeological context, including AMS dating of stratigraphic unit)':'age_range',\n",
    "                  \"Latitude\":\"lat\", \"Longitude\":\"lon\", \"Sample\":\"iid\", \"Period Label for Analyses\":\"clst\", \"Coverage\":\"mean_cov\", \"SNP Coverage\":\"n_cov_snp\"}\n",
    "    \n",
    "    df_merge.rename(columns=rename_dict, inplace=True)\n",
    "    df_merge[\"study\"]=\"Antonio2019\"\n",
    "    df_merge[\"include_alt\"]=1\n",
    "    df_merge = post_process_age_antonio(df_merge, bp=bp)\n",
    "    \n",
    "    if modify_iids:\n",
    "        df_merge[\"iid\"] = df_merge[\"iid\"].str.replace(\"R\", \"RMPR-\")\n",
    "        \n",
    "        ### Add bs where needed\n",
    "        iids_m = [\"RMPR-474\", \"RMPR-475\", \"RMPR-435\", \"RMPR-437\"]\n",
    "        idx= df_merge[\"iid\"].isin(iids_m)\n",
    "        df_merge.loc[idx, \"iid\"] = df_merge.loc[idx,\"iid\"] + \"b\"  # Add the b\n",
    "\n",
    "    df_full = df_merge[[\"iid\", \"lat\", \"lon\", \"age\", \"age_range\", \"study\", \"clst\", \"mean_cov\", \"n_cov_snp\", \"include_alt\"]]\n",
    "        \n",
    "    if len(save_path)> 0:\n",
    "        df_full.to_csv(save_path, index=None)  # sep='\\t' would not work with downstream analysis\n",
    "        print(f\"Saved {len(df_full)} Individuals to {save_path}\")\n",
    "\n",
    "    return df_full\n",
    "\n",
    "def post_process_age_antonio(df, bp=True):\n",
    "    \"\"\"Post Processes the age_range column of Antonio19 data.\n",
    "    Return data frame with a age column.\n",
    "    bp: If true: Report in Before Present time (1950), otherwise BCE\"\"\"\n",
    "    age = df[\"age_range\"].str.replace(\" - \", \"-\")\n",
    "    age = age.str.replace(\"- \", \"-\")  # one typo\n",
    "    age = age.str.replace(\" BCE-\", \"-\")  # one typo\n",
    "    age = age.str.split(r\"\\s+\")\n",
    "\n",
    "    ce_strings = ['CE', 'calCE']\n",
    "    ce_idx = age.str[1].isin(ce_strings)  # where to flip the age\n",
    "\n",
    "    num_age = age.str[0].str.split(\"-\")\n",
    "    mean_age = (num_age.str[0].astype(\"float\") + num_age.str[1].astype(\"float\"))/2.0\n",
    "    mean_age[ce_idx] =  mean_age[ce_idx] * (-1) # Flip Age\n",
    "    df[\"age\"] = mean_age + bp*1950\n",
    "    return df"
   ]
  },
  {
   "cell_type": "code",
   "execution_count": 83,
   "metadata": {},
   "outputs": [
    {
     "name": "stdout",
     "output_type": "stream",
     "text": [
      "Merged from 134 to 134 Individuals with spatial Information\n",
      "Saved 134 Individuals to ./Data/Antonio/meta_processed.csv\n"
     ]
    }
   ],
   "source": [
    "df_full = process_antonio_meta(raw_path = \"./Data/Antonio/meta_raw.csv\", site_path = \"./Data/Antonio/sites.csv\",\n",
    "                        save_path = \"./Data/Antonio/meta_processed.csv\")"
   ]
  },
  {
   "cell_type": "markdown",
   "metadata": {},
   "source": [
    "# Area 51"
   ]
  },
  {
   "cell_type": "code",
   "execution_count": 118,
   "metadata": {},
   "outputs": [
    {
     "name": "stdout",
     "output_type": "stream",
     "text": [
      "Loaded 1037883 variants\n",
      "Loaded 134 individuals\n",
      "['AD', 'GT']\n",
      "['ALT', 'CHROM', 'ID', 'POS', 'REF']\n"
     ]
    }
   ],
   "source": [
    "### Test the Final HDF5 just created\n",
    "\n",
    "f = h5py.File(path_h5_out, \"r\") # Load for Sanity Check. See below!\n",
    "print(\"Loaded %i variants\" % np.shape(f[\"calldata/GT\"])[0])\n",
    "print(\"Loaded %i individuals\" % np.shape(f[\"calldata/GT\"])[1])\n",
    "print(list(f[\"calldata\"].keys()))\n",
    "print(list(f[\"variants\"].keys()))"
   ]
  },
  {
   "cell_type": "code",
   "execution_count": 119,
   "metadata": {},
   "outputs": [
    {
     "data": {
      "text/plain": [
       "['calldata', 'samples', 'variants']"
      ]
     },
     "execution_count": 119,
     "metadata": {},
     "output_type": "execute_result"
    }
   ],
   "source": [
    "list(f)"
   ]
  },
  {
   "cell_type": "code",
   "execution_count": 120,
   "metadata": {},
   "outputs": [
    {
     "data": {
      "text/plain": [
       "['AD', 'GT']"
      ]
     },
     "execution_count": 120,
     "metadata": {},
     "output_type": "execute_result"
    }
   ],
   "source": [
    "list(f[\"calldata\"])"
   ]
  },
  {
   "cell_type": "code",
   "execution_count": 123,
   "metadata": {},
   "outputs": [
    {
     "data": {
      "text/plain": [
       "array(['RMPR-1014', 'RMPR-1015', 'RMPR-1016', 'RMPR-1021', 'RMPR-104',\n",
       "       'RMPR-105', 'RMPR-106', 'RMPR-107', 'RMPR-108', 'RMPR-109',\n",
       "       'RMPR-10', 'RMPR-110', 'RMPR-111', 'RMPR-113', 'RMPR-114',\n",
       "       'RMPR-115', 'RMPR-116', 'RMPR-117', 'RMPR-118', 'RMPR-11',\n",
       "       'RMPR-120', 'RMPR-1219', 'RMPR-121', 'RMPR-1220', 'RMPR-1221',\n",
       "       'RMPR-1224', 'RMPR-122', 'RMPR-123', 'RMPR-125', 'RMPR-126',\n",
       "       'RMPR-1283', 'RMPR-1285', 'RMPR-1286', 'RMPR-1287', 'RMPR-1288',\n",
       "       'RMPR-1289', 'RMPR-128', 'RMPR-1290', 'RMPR-130', 'RMPR-131',\n",
       "       'RMPR-132', 'RMPR-133', 'RMPR-134', 'RMPR-136', 'RMPR-137',\n",
       "       'RMPR-1543', 'RMPR-1544', 'RMPR-1545', 'RMPR-1547', 'RMPR-1548',\n",
       "       'RMPR-1549', 'RMPR-1550', 'RMPR-1551', 'RMPR-15', 'RMPR-16',\n",
       "       'RMPR-17', 'RMPR-18', 'RMPR-19', 'RMPR-1', 'RMPR-22', 'RMPR-24',\n",
       "       'RMPR-25', 'RMPR-26', 'RMPR-27', 'RMPR-28', 'RMPR-29', 'RMPR-2',\n",
       "       'RMPR-30', 'RMPR-31', 'RMPR-32', 'RMPR-33', 'RMPR-34', 'RMPR-35',\n",
       "       'RMPR-36', 'RMPR-37', 'RMPR-38', 'RMPR-39', 'RMPR-3', 'RMPR-40',\n",
       "       'RMPR-41', 'RMPR-42', 'RMPR-435b', 'RMPR-436', 'RMPR-437b',\n",
       "       'RMPR-43', 'RMPR-44', 'RMPR-45', 'RMPR-473', 'RMPR-474b',\n",
       "       'RMPR-475b', 'RMPR-47', 'RMPR-49', 'RMPR-4', 'RMPR-50', 'RMPR-51',\n",
       "       'RMPR-52', 'RMPR-53', 'RMPR-54', 'RMPR-55', 'RMPR-56', 'RMPR-57',\n",
       "       'RMPR-58', 'RMPR-59', 'RMPR-5', 'RMPR-60', 'RMPR-61', 'RMPR-62',\n",
       "       'RMPR-63', 'RMPR-64', 'RMPR-65', 'RMPR-66', 'RMPR-67', 'RMPR-68',\n",
       "       'RMPR-69', 'RMPR-6', 'RMPR-70', 'RMPR-71', 'RMPR-72', 'RMPR-73',\n",
       "       'RMPR-75', 'RMPR-76', 'RMPR-78', 'RMPR-7', 'RMPR-80', 'RMPR-81',\n",
       "       'RMPR-835', 'RMPR-836', 'RMPR-850', 'RMPR-851', 'RMPR-8',\n",
       "       'RMPR-969', 'RMPR-970', 'RMPR-973', 'RMPR-9'], dtype=object)"
      ]
     },
     "execution_count": 123,
     "metadata": {},
     "output_type": "execute_result"
    }
   ],
   "source": [
    "f[\"samples\"][:]"
   ]
  },
  {
   "cell_type": "markdown",
   "metadata": {},
   "source": [
    "### Do Histogram of 1240k Coverage"
   ]
  },
  {
   "cell_type": "code",
   "execution_count": 69,
   "metadata": {},
   "outputs": [
    {
     "data": {
      "text/plain": [
       "(1037883, 134, 2)"
      ]
     },
     "execution_count": 69,
     "metadata": {},
     "output_type": "execute_result"
    }
   ],
   "source": [
    "### Calculate Coverage\n",
    "np.shape(f[\"calldata/AD\"])"
   ]
  },
  {
   "cell_type": "code",
   "execution_count": 111,
   "metadata": {},
   "outputs": [
    {
     "data": {
      "text/plain": [
       "array([[ 1,  0],\n",
       "       [ 0,  1],\n",
       "       [-1, -1]], dtype=int16)"
      ]
     },
     "execution_count": 111,
     "metadata": {},
     "output_type": "execute_result"
    }
   ],
   "source": [
    "f[\"calldata/AD\"][20,:3,:]"
   ]
  },
  {
   "cell_type": "code",
   "execution_count": 79,
   "metadata": {},
   "outputs": [],
   "source": [
    "cov = np.mean(f[\"calldata/AD\"], axis=0)\n",
    "cov = np.sum(cov, axis=1)"
   ]
  },
  {
   "cell_type": "code",
   "execution_count": 112,
   "metadata": {},
   "outputs": [
    {
     "data": {
      "image/png": "[encoded data removed]",
      "text/plain": [
       "<Figure size 576x432 with 1 Axes>"
      ]
     },
     "metadata": {
      "needs_background": "light"
     },
     "output_type": "display_data"
    }
   ],
   "source": [
    "bins=np.arange(0, 6, 0.25)\n",
    "fs = 14\n",
    "\n",
    "plt.figure(figsize=(8,6))\n",
    "ax = plt.gca()\n",
    "\n",
    "plt.hist(cov, bins=bins, ec=\"k\")\n",
    "plt.xlabel(\"Avg. Depth 1240k SNPs\", fontsize=fs)\n",
    "plt.ylabel(\"Count [0.25 bins]\", fontsize=fs)\n",
    "ax.axvline(0.5, color=\"red\", lw=3)\n",
    "ax.text(x=0.5, y=0.9, \n",
    "        s=f\"Total Number ancients: {len(cov)}\", \n",
    "        transform=ax.transAxes, fontsize=fs)\n",
    "plt.title(\"Ancient Antonio 2019\", fontsize=fs)\n",
    "plt.show()"
   ]
  },
  {
   "cell_type": "markdown",
   "metadata": {},
   "source": [
    "## Check if Meta file processed correctly.\n",
    "In particular, check whether it intersects fully with Samples in HDF5"
   ]
  },
  {
   "cell_type": "code",
   "execution_count": 79,
   "metadata": {},
   "outputs": [],
   "source": [
    "df_t = pd.read_csv(\"./Data/Antonio/meta_processed.csv\")"
   ]
  },
  {
   "cell_type": "code",
   "execution_count": 160,
   "metadata": {},
   "outputs": [
    {
     "data": {
      "text/html": [
       "<div>\n",
       "<style scoped>\n",
       "    .dataframe tbody tr th:only-of-type {\n",
       "        vertical-align: middle;\n",
       "    }\n",
       "\n",
       "    .dataframe tbody tr th {\n",
       "        vertical-align: top;\n",
       "    }\n",
       "\n",
       "    .dataframe thead th {\n",
       "        text-align: right;\n",
       "    }\n",
       "</style>\n",
       "<table border=\"1\" class=\"dataframe\">\n",
       "  <thead>\n",
       "    <tr style=\"text-align: right;\">\n",
       "      <th></th>\n",
       "      <th>iid</th>\n",
       "      <th>lat</th>\n",
       "      <th>lon</th>\n",
       "      <th>age</th>\n",
       "      <th>study</th>\n",
       "      <th>clst</th>\n",
       "      <th>mean_cov</th>\n",
       "      <th>n_cov_snp</th>\n",
       "      <th>include_alt</th>\n",
       "    </tr>\n",
       "  </thead>\n",
       "  <tbody>\n",
       "    <tr>\n",
       "      <th>24</th>\n",
       "      <td>RMPR-1015</td>\n",
       "      <td>42.016838</td>\n",
       "      <td>12.100415</td>\n",
       "      <td>900 - 800 BCE</td>\n",
       "      <td>Antonio2019</td>\n",
       "      <td>Iron/Republic</td>\n",
       "      <td>0.87</td>\n",
       "      <td>290827</td>\n",
       "      <td>1</td>\n",
       "    </tr>\n",
       "  </tbody>\n",
       "</table>\n",
       "</div>"
      ],
      "text/plain": [
       "          iid        lat        lon            age        study  \\\n",
       "24  RMPR-1015  42.016838  12.100415  900 - 800 BCE  Antonio2019   \n",
       "\n",
       "             clst  mean_cov  n_cov_snp  include_alt  \n",
       "24  Iron/Republic      0.87     290827            1  "
      ]
     },
     "execution_count": 160,
     "metadata": {},
     "output_type": "execute_result"
    }
   ],
   "source": [
    "df_t[df_t[\"iid\"] == \"RMPR-1015\"]"
   ]
  },
  {
   "cell_type": "code",
   "execution_count": 126,
   "metadata": {},
   "outputs": [],
   "source": [
    "samples = f[\"samples\"][:]"
   ]
  },
  {
   "cell_type": "code",
   "execution_count": 153,
   "metadata": {},
   "outputs": [
    {
     "data": {
      "text/plain": [
       "134"
      ]
     },
     "execution_count": 153,
     "metadata": {},
     "output_type": "execute_result"
    }
   ],
   "source": [
    "np.sum(df_t[\"iid\"].isin(samples))  # Should be same as len() of samples"
   ]
  },
  {
   "cell_type": "code",
   "execution_count": 154,
   "metadata": {},
   "outputs": [
    {
     "data": {
      "text/plain": [
       "134"
      ]
     },
     "execution_count": 154,
     "metadata": {},
     "output_type": "execute_result"
    }
   ],
   "source": [
    "len(f[\"samples\"])"
   ]
  },
  {
   "cell_type": "markdown",
   "metadata": {},
   "source": [
    "### Verify the age post processing"
   ]
  },
  {
   "cell_type": "code",
   "execution_count": 84,
   "metadata": {},
   "outputs": [],
   "source": [
    "df_t = pd.read_csv(\"./Data/Antonio/meta_processed.csv\")"
   ]
  },
  {
   "cell_type": "code",
   "execution_count": 87,
   "metadata": {},
   "outputs": [],
   "source": [
    "#df_t"
   ]
  },
  {
   "cell_type": "code",
   "execution_count": null,
   "metadata": {},
   "outputs": [],
   "source": []
  }
 ],
 "metadata": {
  "kernelspec": {
   "display_name": "Python 3",
   "language": "python",
   "name": "python3"
  },
  "language_info": {
   "codemirror_mode": {
    "name": "ipython",
    "version": 3
   },
   "file_extension": ".py",
   "mimetype": "text/x-python",
   "name": "python",
   "nbconvert_exporter": "python",
   "pygments_lexer": "ipython3",
   "version": "3.6.8"
  }
 },
 "nbformat": 4,
 "nbformat_minor": 2
}
