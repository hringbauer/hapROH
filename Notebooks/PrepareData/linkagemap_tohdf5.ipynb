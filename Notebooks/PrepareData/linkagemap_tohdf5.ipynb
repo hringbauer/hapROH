{
 "cells": [
  {
   "cell_type": "markdown",
   "metadata": {},
   "source": [
    "# Create Linkage Map and append to Sardinia hdf5"
   ]
  },
  {
   "cell_type": "code",
   "execution_count": 1,
   "metadata": {},
   "outputs": [],
   "source": [
    "import allel\n",
    "import h5py\n",
    "import numpy as np\n",
    "import pandas as pd\n",
    "import matplotlib.pyplot as plt\n",
    "from scipy.interpolate import interp1d"
   ]
  },
  {
   "cell_type": "code",
   "execution_count": 6,
   "metadata": {},
   "outputs": [
    {
     "name": "stdout",
     "output_type": "stream",
     "text": [
      "['AD', 'GT']\n",
      "['AA', 'AF', 'AFR_AF', 'ALT', 'AMR_AF', 'CHROM', 'EAS_AF', 'EUR_AF', 'ID', 'MAP', 'POS', 'REF', 'SAS_AF']\n",
      "Loaded 1233013 SNPs.\n"
     ]
    }
   ],
   "source": [
    "### # Load Recombination Map\n",
    "h5_path_sard = \"../../../ancient-sardinia/output/h5/mod_reich_sardinia_ancients_mrg_dedup_3trm_anno.h5\"\n",
    "path_snp =     \"../../Data/1000Genomes/Markers/MinMyc.snp\" # All SNPs found in the 1240k Ancient Panel\n",
    "\n",
    "### Load HDF5\n",
    "f = h5py.File(h5_path_sard, \"r\") # Load for Sanity Check. See below!\n",
    "list(f.keys())\n",
    "print(list(f[\"calldata\"].keys()))\n",
    "print(list(f[\"variants\"].keys()))\n",
    "\n",
    "df_snp = pd.read_csv(path_snp, header=None, sep=r\"\\s*\", engine=\"python\")\n",
    "df_snp.columns = [\"SNP\", \"chr\", \"map\", \"pos\", \"ref\", \"alt\"]\n",
    "print(f\"Loaded {len(df_snp)} SNPs.\")"
   ]
  },
  {
   "cell_type": "code",
   "execution_count": 3,
   "metadata": {},
   "outputs": [],
   "source": [
    "def return_lmap(f, df_snp, chs=[]):\n",
    "    \"\"\"Port Linkage Map from df_snp to f\"\"\"\n",
    "    pos = np.array(f[\"variants/POS\"]).astype(\"int\")  # Load into vmem to be faster\n",
    "    chroms = np.array(f[\"variants/CHROM\"]).astype(\"int\")\n",
    "    maps = -np.ones(len(pos)) # Prepare the empty Map\n",
    "\n",
    "    if len(chs) == 0:\n",
    "        chs = np.arange(1,23)\n",
    "\n",
    "    # Return Linkage Map\n",
    "    for ch in chs:\n",
    "        print(f\"\\nDoing Chromosome {ch}\")\n",
    "        ids_ch = np.where(chroms==ch)[0]  # Remember the original Indices\n",
    "        pos_t = pos[ids_ch]\n",
    "        print(f\"SNPs in HDF 5: {len(pos_t)}\")\n",
    "\n",
    "        df_t = df_snp[df_snp[\"chr\"]==ch]\n",
    "        print(f\"SNPs from Linkage Map: {len(df_t)}\")\n",
    "\n",
    "        ### Find intersecting positions\n",
    "        _, i1, i2 = np.intersect1d(pos_t, df_t[\"pos\"].values, return_indices=True)\n",
    "        print(f\"Length Intersection: {len(i1)}\")\n",
    "\n",
    "        ### Prepare the Interpolation:\n",
    "        itpld = interp1d(pos_t[i1], df_t[\"map\"].values[i2], kind='linear')\n",
    "        maps[ids_ch] = itpld(pos_t)  # Fill in the Values\n",
    "        \n",
    "    assert(np.min(maps)>-1)  # Sanity Check\n",
    "    return maps"
   ]
  },
  {
   "cell_type": "markdown",
   "metadata": {},
   "source": [
    "# Port Linkage Map to HDF5\n",
    "### Be careful - messes with hdf5"
   ]
  },
  {
   "cell_type": "code",
   "execution_count": 5,
   "metadata": {},
   "outputs": [
    {
     "name": "stdout",
     "output_type": "stream",
     "text": [
      "\n",
      "Doing Chromosome 1\n",
      "SNPs in HDF 5: 93073\n",
      "SNPs from Linkage Map: 93166\n",
      "Length Intersection: 92953\n",
      "\n",
      "Doing Chromosome 2\n",
      "SNPs in HDF 5: 98549\n",
      "SNPs from Linkage Map: 98657\n",
      "Length Intersection: 98424\n",
      "\n",
      "Doing Chromosome 3\n",
      "SNPs in HDF 5: 81310\n",
      "SNPs from Linkage Map: 81416\n",
      "Length Intersection: 81215\n",
      "\n",
      "Doing Chromosome 4\n",
      "SNPs in HDF 5: 71540\n",
      "SNPs from Linkage Map: 71634\n",
      "Length Intersection: 71456\n",
      "\n",
      "Doing Chromosome 5\n",
      "SNPs in HDF 5: 73915\n",
      "SNPs from Linkage Map: 74004\n",
      "Length Intersection: 73829\n",
      "\n",
      "Doing Chromosome 6\n",
      "SNPs in HDF 5: 78784\n",
      "SNPs from Linkage Map: 78867\n",
      "Length Intersection: 78708\n",
      "\n",
      "Doing Chromosome 7\n",
      "SNPs in HDF 5: 62556\n",
      "SNPs from Linkage Map: 62595\n",
      "Length Intersection: 62454\n",
      "\n",
      "Doing Chromosome 8\n",
      "SNPs in HDF 5: 63829\n",
      "SNPs from Linkage Map: 63916\n",
      "Length Intersection: 63760\n",
      "\n",
      "Doing Chromosome 9\n",
      "SNPs in HDF 5: 52706\n",
      "SNPs from Linkage Map: 52765\n",
      "Length Intersection: 52649\n",
      "\n",
      "Doing Chromosome 10\n",
      "SNPs in HDF 5: 61038\n",
      "SNPs from Linkage Map: 61131\n",
      "Length Intersection: 60978\n",
      "\n",
      "Doing Chromosome 11\n",
      "SNPs in HDF 5: 57084\n",
      "SNPs from Linkage Map: 57163\n",
      "Length Intersection: 57004\n",
      "\n",
      "Doing Chromosome 12\n",
      "SNPs in HDF 5: 56080\n",
      "SNPs from Linkage Map: 56133\n",
      "Length Intersection: 56014\n",
      "\n",
      "Doing Chromosome 13\n",
      "SNPs in HDF 5: 40405\n",
      "SNPs from Linkage Map: 40441\n",
      "Length Intersection: 40359\n",
      "\n",
      "Doing Chromosome 14\n",
      "SNPs in HDF 5: 37851\n",
      "SNPs from Linkage Map: 37903\n",
      "Length Intersection: 37804\n",
      "\n",
      "Doing Chromosome 15\n",
      "SNPs in HDF 5: 35931\n",
      "SNPs from Linkage Map: 35991\n",
      "Length Intersection: 35888\n",
      "\n",
      "Doing Chromosome 16\n",
      "SNPs in HDF 5: 35946\n",
      "SNPs from Linkage Map: 36000\n",
      "Length Intersection: 35877\n",
      "\n",
      "Doing Chromosome 17\n",
      "SNPs in HDF 5: 30710\n",
      "SNPs from Linkage Map: 30733\n",
      "Length Intersection: 30660\n",
      "\n",
      "Doing Chromosome 18\n",
      "SNPs in HDF 5: 35282\n",
      "SNPs from Linkage Map: 35327\n",
      "Length Intersection: 35241\n",
      "\n",
      "Doing Chromosome 19\n",
      "SNPs in HDF 5: 19289\n",
      "SNPs from Linkage Map: 19273\n",
      "Length Intersection: 19233\n",
      "\n",
      "Doing Chromosome 20\n",
      "SNPs in HDF 5: 30333\n",
      "SNPs from Linkage Map: 30377\n",
      "Length Intersection: 30298\n",
      "\n",
      "Doing Chromosome 21\n",
      "SNPs in HDF 5: 16695\n",
      "SNPs from Linkage Map: 16727\n",
      "Length Intersection: 16687\n",
      "\n",
      "Doing Chromosome 22\n",
      "SNPs in HDF 5: 16408\n",
      "SNPs from Linkage Map: 16420\n",
      "Length Intersection: 16388\n",
      "Finished Creating Map\n",
      "Finished Modification\n"
     ]
    }
   ],
   "source": [
    "maps = return_lmap(f, df_snp)\n",
    "print(\"Finished Creating Map\")\n",
    "\n",
    "l = len(maps)\n",
    "assert(l == len(f[\"variants/POS\"]))\n",
    "\n",
    "f.close()  # Now we get serious.\n",
    "\n",
    "with h5py.File(h5_path_sard, 'a') as f0:\n",
    "    group = f0[\"variants\"]\n",
    "    group.create_dataset('MAP', (l,), dtype='f')   \n",
    "    f0[\"variants/MAP\"][:] = maps[:]\n",
    "    \n",
    "print(f\"Finished Modification\")"
   ]
  },
  {
   "cell_type": "markdown",
   "metadata": {},
   "source": [
    "# Test\n",
    "### Check whether everything worked"
   ]
  },
  {
   "cell_type": "code",
   "execution_count": 7,
   "metadata": {},
   "outputs": [
    {
     "name": "stdout",
     "output_type": "stream",
     "text": [
      "['AD', 'GT']\n",
      "['AA', 'AF', 'AFR_AF', 'ALT', 'AMR_AF', 'CHROM', 'EAS_AF', 'EUR_AF', 'ID', 'MAP', 'POS', 'REF', 'SAS_AF']\n"
     ]
    }
   ],
   "source": [
    "f = h5py.File(h5_path_sard, \"r\") # Load for Sanity Check. See below!\n",
    "\n",
    "list(f.keys())\n",
    "print(list(f[\"calldata\"].keys()))\n",
    "print(list(f[\"variants\"].keys()))"
   ]
  },
  {
   "cell_type": "code",
   "execution_count": null,
   "metadata": {},
   "outputs": [],
   "source": []
  }
 ],
 "metadata": {
  "kernelspec": {
   "display_name": "Python 3",
   "language": "python",
   "name": "python3"
  },
  "language_info": {
   "codemirror_mode": {
    "name": "ipython",
    "version": 3
   },
   "file_extension": ".py",
   "mimetype": "text/x-python",
   "name": "python",
   "nbconvert_exporter": "python",
   "pygments_lexer": "ipython3",
   "version": "3.6.7"
  }
 },
 "nbformat": 4,
 "nbformat_minor": 2
}
