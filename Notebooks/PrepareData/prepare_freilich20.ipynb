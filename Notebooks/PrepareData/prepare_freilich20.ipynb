{
 "cells": [
  {
   "cell_type": "code",
   "execution_count": 26,
   "metadata": {},
   "outputs": [
    {
     "name": "stdout",
     "output_type": "stream",
     "text": [
      "midway2-0402.rcc.local\n",
      "Midway jnovmbre partition detected.\n",
      "/project2/jnovembre/hringbauer/HAPSBURG\n",
      "CPU Count: 28\n"
     ]
    }
   ],
   "source": [
    "import pandas as pd\n",
    "import numpy as np\n",
    "import matplotlib.pyplot as plt\n",
    "import matplotlib.cm as cm\n",
    "from matplotlib import gridspec\n",
    "import socket\n",
    "import os as os\n",
    "import sys as sys\n",
    "import multiprocessing as mp\n",
    "import matplotlib.colors as cls\n",
    "from mpl_toolkits.basemap import Basemap\n",
    "from matplotlib.patches import Polygon\n",
    "from matplotlib.collections import PatchCollection\n",
    "\n",
    "socket_name = socket.gethostname()\n",
    "print(socket_name)\n",
    "if socket_name == \"VioletQueen\":\n",
    "    path = \"/home/harald/git/HAPSBURG/\"   # The Path on Harald's machine\n",
    "elif socket_name.startswith(\"midway2\"):\n",
    "    print(\"Midway jnovmbre partition detected.\")\n",
    "    path = \"/project2/jnovembre/hringbauer/HAPSBURG/\"  # The Path on Midway Cluster\n",
    "else: \n",
    "    raise RuntimeWarning(\"Not compatible machine. Check!!\")\n",
    "\n",
    "os.chdir(path)  # Set the right Path (in line with Atom default)\n",
    "print(os.getcwd()) # Show the current working directory. Should be HAPSBURG/Notebooks/ParallelRuns\n",
    "print(f\"CPU Count: {mp.cpu_count()}\")\n",
    "\n",
    "### To load Eigenstrat  \n",
    "sys.path.append(\"./PackagesSupport/loadEigenstrat/\")  # Since now we are in the Root Directory\n",
    "from loadEigenstrat import EigenstratLoad, load_eigenstrat"
   ]
  },
  {
   "cell_type": "code",
   "execution_count": 28,
   "metadata": {},
   "outputs": [],
   "source": [
    "def extract_only_eigenstrat(df, path_es, packed=False, sep=\"\\t\"):\n",
    "    \"\"\"Extract only raws of df that are found in .ind file at path_es\n",
    "    df: Dataframe with iid column. path_es: Eigenstrat basepath\"\"\"\n",
    "    es_load = load_eigenstrat(base_path=path_es, packed=packed, sep=sep)\n",
    "    df_ind = es_load.df_ind  # Get the Individual List\n",
    "    idx = df[\"iid\"].isin(df_ind[\"iid\"])\n",
    "    print(f\"Found {np.sum(idx)}/{len(df_ind)} Individuals of Eigenstrat\")\n",
    "    df_found = df[idx]\n",
    "    return df_found"
   ]
  },
  {
   "cell_type": "code",
   "execution_count": 14,
   "metadata": {},
   "outputs": [],
   "source": [
    "path_meta_raw = \"./Data/Freilich20/ancient.croatia.metadata.csv\"\n",
    "path_es = \"./Data/Freilich20/AncCroatia1240KallSNPs\"\n",
    "save_path = \"./Data/Freilich20/meta_processed.csv\""
   ]
  },
  {
   "cell_type": "code",
   "execution_count": null,
   "metadata": {},
   "outputs": [],
   "source": [
    "df_raw = pd.read_csv(path_meta_raw)\n",
    "print(f\"Loaded {len(df_raw)} Individuals from {path_meta_raw}\")\n",
    "rename_dict = {\"id\":\"iid\",\n",
    "               \"calBCE/BP_or_contextual dating_(BCE)  \":\"age_range\",\n",
    "               \"cluster\":\"clst\",\n",
    "               'SNPs_overlapping_1240K':\"n_cov_snp\"\n",
    "               }\n",
    "\n",
    "df_raw.rename(columns=rename_dict, inplace=True)\n",
    "df_raw[\"study\"]=\"Freilich20\"\n",
    "df_raw[\"include_alt\"] = 1\n",
    "df_raw[\"mean_cov\"]=df_raw[\"n_cov_snp\"]/1.2e6\n",
    "df_raw[\"age\"]=np.nan ### Implement this\n",
    "df_full = df_raw[[\"iid\", \"lat\", \"lon\", \"age\", \"age_range\", \"study\", \"clst\", \"mean_cov\", \"n_cov_snp\", \"include_alt\"]]\n",
    "df_full = extract_only_eigenstrat(df_full, path_es = path_es) \n",
    "\n",
    "if len(save_path)> 0:\n",
    "    df_full.to_csv(save_path, index=None)  # sep='\\t' would not work with downstream analysis\n",
    "    print(f\"Saved {len(df_full)} Individuals to {save_path}\")"
   ]
  },
  {
   "cell_type": "markdown",
   "metadata": {},
   "source": [
    "# Area 51"
   ]
  },
  {
   "cell_type": "code",
   "execution_count": null,
   "metadata": {},
   "outputs": [],
   "source": [
    "df_full"
   ]
  }
 ],
 "metadata": {
  "kernelspec": {
   "display_name": "Python 3",
   "language": "python",
   "name": "python3"
  },
  "language_info": {
   "codemirror_mode": {
    "name": "ipython",
    "version": 3
   },
   "file_extension": ".py",
   "mimetype": "text/x-python",
   "name": "python",
   "nbconvert_exporter": "python",
   "pygments_lexer": "ipython3",
   "version": "3.7.4"
  }
 },
 "nbformat": 4,
 "nbformat_minor": 4
}
