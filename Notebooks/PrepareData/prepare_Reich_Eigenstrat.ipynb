{
 "cells": [
  {
   "cell_type": "markdown",
   "metadata": {},
   "source": [
    "# Notebook to prepare the Eigenstrat of D. Reich\n",
    "Idea: Keep it as Code Sequence, so I can readily update in case data gets updated"
   ]
  },
  {
   "cell_type": "markdown",
   "metadata": {},
   "source": [
    "### Overview of structure of this notebook\n",
    "\n",
    "1. Download the Data\n",
    "2. Test "
   ]
  },
  {
   "cell_type": "code",
   "execution_count": 2,
   "metadata": {},
   "outputs": [
    {
     "name": "stdout",
     "output_type": "stream",
     "text": [
      "midway2-0401.rcc.local\n",
      "Midway jnovmbre partition detected.\n",
      "/project/jnovembre/hringbauer/HAPSBURG\n",
      "CPU Count: 28\n"
     ]
    }
   ],
   "source": [
    "import pandas as pd\n",
    "import numpy as np\n",
    "import matplotlib.pyplot as plt\n",
    "import matplotlib.cm as cm\n",
    "from matplotlib import gridspec\n",
    "import socket\n",
    "import os as os\n",
    "import sys as sys\n",
    "import multiprocessing as mp\n",
    "\n",
    "socket_name = socket.gethostname()\n",
    "print(socket_name)\n",
    "if socket_name == \"VioletQueen\":\n",
    "    path = \"/home/harald/git/HAPSBURG/\"   # The Path on Harald's machine\n",
    "elif socket_name.startswith(\"midway2\"):\n",
    "    print(\"Midway jnovmbre partition detected.\")\n",
    "    path = \"/project/jnovembre/hringbauer/HAPSBURG/\"  # The Path on Midway Cluster\n",
    "else: \n",
    "    raise RuntimeWarning(\"Not compatible machine. Check!!\")\n",
    "    \n",
    "os.chdir(path)  # Set the right Path (in line with Atom default)\n",
    "\n",
    "sys.path.append(\"./Python3/\")  # Since now we are in the Root Directory\n",
    "from hmm_inference import HMM_Analyze   # Do not move. Should be after sys.path..\n",
    "#sys.path.append(\"./Python3/create1000G_Mosaic/\")  # Since now we are in the Root Directory\n",
    "#from createMosaicsMulti import Mosaic_1000G_Multi  # Import the object that can create the Multiruns\n",
    "\n",
    "print(os.getcwd()) # Show the current working directory. Should be HAPSBURG/Notebooks/ParallelRuns\n",
    "print(f\"CPU Count: {mp.cpu_count()}\")"
   ]
  },
  {
   "cell_type": "code",
   "execution_count": 7,
   "metadata": {},
   "outputs": [
    {
     "name": "stdout",
     "output_type": "stream",
     "text": [
      "--2019-09-04 14:50:20--  https://reichdata.hms.harvard.edu/pub/datasets/amh_repo/curated_releases/V37/V37.2/SHARE/public.dir/v37.2.1240K.tar\n",
      "Resolving reichdata.hms.harvard.edu (reichdata.hms.harvard.edu)... 134.174.150.16\n",
      "Connecting to reichdata.hms.harvard.edu (reichdata.hms.harvard.edu)|134.174.150.16|:443... failed: Connection timed out.\n",
      "Retrying.\n",
      "\n",
      "--2019-09-04 14:52:28--  (try: 2)  https://reichdata.hms.harvard.edu/pub/datasets/amh_repo/curated_releases/V37/V37.2/SHARE/public.dir/v37.2.1240K.tar\n",
      "Connecting to reichdata.hms.harvard.edu (reichdata.hms.harvard.edu)|134.174.150.16|:443... ^C\n"
     ]
    }
   ],
   "source": [
    "### Download the Data\n",
    "download_link = \"https://reichdata.hms.harvard.edu/pub/datasets/amh_repo/curated_releases/V37/V37.2/SHARE/public.dir/v37.2.1240K.tar\"\n",
    "file_name = os.path.basename(download_link)  # Get the File Name\n",
    "local_folder =\"./Data/ReichLabEigenstrat/Raw/\"\n",
    "download_path = os.path.join(local_folder, file_name) \n",
    "\n",
    "if not os.path.exists(local_folder):\n",
    "    print(f\"Creating {local_folder}...\")\n",
    "    os.makedirs(local_folder)\n",
    "\n",
    "### Run the Shell Download\n",
    "!wget $download_link $download_path"
   ]
  },
  {
   "cell_type": "code",
   "execution_count": 8,
   "metadata": {},
   "outputs": [
    {
     "name": "stdout",
     "output_type": "stream",
     "text": [
      "Done\n"
     ]
    }
   ],
   "source": [
    "print(\"Done\")"
   ]
  },
  {
   "cell_type": "markdown",
   "metadata": {},
   "source": [
    "# Area 51\n",
    "Test code here"
   ]
  },
  {
   "cell_type": "code",
   "execution_count": 4,
   "metadata": {},
   "outputs": [
    {
     "data": {
      "text/plain": [
       "'v37.2.1240K.tar'"
      ]
     },
     "execution_count": 4,
     "metadata": {},
     "output_type": "execute_result"
    }
   ],
   "source": [
    "download_link = \"https://reichdata.hms.harvard.edu/pub/datasets/amh_repo/curated_releases/V37/V37.2/SHARE/public.dir/v37.2.1240K.tar\"\n",
    "os.path.basename(download_link)"
   ]
  },
  {
   "cell_type": "code",
   "execution_count": null,
   "metadata": {},
   "outputs": [],
   "source": []
  }
 ],
 "metadata": {
  "kernelspec": {
   "display_name": "Python 3",
   "language": "python",
   "name": "python3"
  },
  "language_info": {
   "codemirror_mode": {
    "name": "ipython",
    "version": 3
   },
   "file_extension": ".py",
   "mimetype": "text/x-python",
   "name": "python",
   "nbconvert_exporter": "python",
   "pygments_lexer": "ipython3",
   "version": "3.7.0"
  }
 },
 "nbformat": 4,
 "nbformat_minor": 2
}
