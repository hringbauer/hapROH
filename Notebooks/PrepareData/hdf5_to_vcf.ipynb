{
 "cells": [
  {
   "cell_type": "markdown",
   "metadata": {},
   "source": [
    "# Prepare VCF File from a HDF5 file / RUN PLINK on it\n",
    "goal: Have pipeline that prepares VCF file and then can run PLINK on it and produce output in a PLINK folder within HAPSBURGs output system"
   ]
  },
  {
   "cell_type": "code",
   "execution_count": 16,
   "metadata": {},
   "outputs": [
    {
     "name": "stdout",
     "output_type": "stream",
     "text": [
      "VioletQueen\n",
      "/home/harald/git/HAPSBURG\n",
      "CPU Count: 4\n"
     ]
    }
   ],
   "source": [
    "import pandas as pd\n",
    "import numpy as np\n",
    "import matplotlib.pyplot as plt\n",
    "import matplotlib.cm as cm\n",
    "from matplotlib import gridspec\n",
    "import socket\n",
    "import os as os\n",
    "import sys as sys\n",
    "import multiprocessing as mp\n",
    "import matplotlib.colors as cls\n",
    "import h5py\n",
    "\n",
    "from mpl_toolkits.basemap import Basemap\n",
    "from matplotlib.patches import Polygon\n",
    "from matplotlib.collections import PatchCollection\n",
    "\n",
    "socket_name = socket.gethostname()\n",
    "print(socket_name)\n",
    "if socket_name == \"VioletQueen\":\n",
    "    path = \"/home/harald/git/HAPSBURG/\"   # The Path on Harald's machine\n",
    "elif socket_name.startswith(\"midway2\"):\n",
    "    print(\"Midway jnovmbre partition detected.\")\n",
    "    path = \"/project2/jnovembre/hringbauer/HAPSBURG/\"  # The Path on Midway Cluster\n",
    "else: \n",
    "    raise RuntimeWarning(\"Not compatible machine. Check!!\")\n",
    "    \n",
    "os.chdir(path)  # Set the right Path (in line with Atom default)\n",
    "\n",
    "print(os.getcwd()) # Show the current working directory. Should be HAPSBURG/Notebooks/ParallelRuns\n",
    "print(f\"CPU Count: {mp.cpu_count()}\")"
   ]
  },
  {
   "cell_type": "markdown",
   "metadata": {},
   "source": [
    "## Define Functions needed for conversion"
   ]
  },
  {
   "cell_type": "code",
   "execution_count": 17,
   "metadata": {},
   "outputs": [],
   "source": [
    "def load_h5(path, output=True):\n",
    "    \"\"\"Load HDF5 from path and return hdf5 object\"\"\"\n",
    "    f = h5py.File(path, \"r\") # Load for Sanity Check. See below!\n",
    "\n",
    "    if output == True:\n",
    "        print(\"Loaded HDF5\")\n",
    "        print(\"Loaded %i variants\" % np.shape(f[\"calldata/GT\"])[0])\n",
    "        print(\"Loaded %i individuals\" % np.shape(f[\"calldata/GT\"])[1])\n",
    "        print(list(f[\"calldata\"].keys()))\n",
    "        print(list(f[\"variants\"].keys()))\n",
    "        #self.f[\"samples\"] # Samples Vector\n",
    "\n",
    "    ### Sanity Check whether both Genotypes are there and nothing else\n",
    "    assert(np.min(f[\"calldata/GT\"]) == 0)\n",
    "    assert(np.max(f[\"calldata/GT\"]) == 1)\n",
    "    \n",
    "    return f\n",
    "\n",
    "def add_gt_data(df, gt, ad=[], iids=[], m_sym=\".\"):\n",
    "    \"\"\"Add Genotype and Allele Depth Fields [l,n,2] for iids to pandas dataframe df.\n",
    "    Return modified Data Frame\"\"\"\n",
    "    assert(np.shape(gt)[1]==len(iids)) # Sanity Check\n",
    "    \n",
    "    ### Replace missing Data with dot again\n",
    "    missing = gt<0  # Missing Data\n",
    "    gt = gt.astype(\"str\") ## Convert To String\n",
    "    gt[missing] = m_sym\n",
    "    \n",
    "    gt_vcf = np.core.defchararray.add(gt[:,:,0], \"/\")\n",
    "    gt_vcf = np.core.defchararray.add(gt_vcf, gt[:,:,1])\n",
    "        \n",
    "    for i, iid in enumerate(iids):\n",
    "        #data = map('/'.join, zip(gt[:,i,0], gt[:,i,1]))\n",
    "        df[iid] = gt_vcf[:,i]\n",
    "        \n",
    "        #if len(ad)>0:   # Add Allele Depth Data if needed\n",
    "        #    print(\"Implement this\") \n",
    "    return df\n",
    "\n",
    "def to_vcf(chrom, pos, ref, alt, gt, iids, vcf_path, header=[]):\n",
    "    \"\"\"\"\"\"\n",
    "    ### Hard-Coded Default Header\n",
    "    if len(header)==0:\n",
    "        header = \"\"\"##fileformat=VCFv4.3\\n##FILTER=<ID=PASS,Description=\"All filters passed\">\\n##fileDate=20191010\\n##source=1000GenomesPhase3Pipeline\\n##reference=ftp://ftp.1000genomes.ebi.ac.uk//vol1/ftp/technical/reference/phase2_reference_assembly_sequence/hs37d5.fa.gz\\n\"\"\"     \n",
    "        \n",
    "    #last_line_h =  \"\\n#CHROM POS ID REF ALT QUAL FILTER INFO\"\n",
    "    dct = {'#CHROM':chrom, 'POS':pos, 'REF':ref, 'ALT':alt}\n",
    "    df = pd.DataFrame(dct)\n",
    "    df['ID'] = \"\"\n",
    "    df['QUAL'] = 40\n",
    "    df['FILTER'] = \"\"\n",
    "    df['INFO'] = \"\"\n",
    "    df[\"FORMAT\"] = \"GT\"  # GT:AD if allele depth given\n",
    "\n",
    "    df = df[['#CHROM', 'POS', 'ID', 'REF', 'ALT', 'QUAL', 'FILTER', 'INFO', \"FORMAT\"]] \n",
    "\n",
    "    ### Add the Genotype Data\n",
    "    add_gt_data(df, gt, iids=iids)\n",
    "    \n",
    "    ### Write the Header\n",
    "    with open(vcf_path, 'w') as vcf:\n",
    "        vcf.write(header)\n",
    "        #vcf.write(last_line_h)\n",
    "\n",
    "    #### Write the tab seperated data\n",
    "    df.to_csv(vcf_path, sep=\"\\t\", mode='a', index=False)  # Append\n",
    "    print(f\"Successfully saved VCF to {vcf_path}\")\n",
    "    \n",
    "def hdf5_to_vcf(path_h5, path_vcf, iids=[], markers=[], chrom=0):\n",
    "    \"\"\"Load HDF5 from path_h5, extract iids and\n",
    "    (if given) markers by position and save vcf to path_vcf.\n",
    "    iids: Which Individuals to match and save. If none give: Save all!\"\"\"\n",
    "    \n",
    "    f = load_h5(path=path_h5)\n",
    "    \n",
    "    if len(iids)==0:\n",
    "        iids = f[\"samples\"][:]\n",
    "        \n",
    "    if chrom==0:\n",
    "        chrom = f[\"variants/CHROM\"][:]\n",
    "        \n",
    "    pos = f[\"variants/POS\"][:]\n",
    "    ref = f[\"variants/REF\"][:] \n",
    "    alt = f[\"variants/ALT\"][:] \n",
    "    \n",
    "    idx = np.isin(f[\"samples\"], iids)\n",
    "    gt = f[\"calldata/GT\"][:,idx,:]\n",
    "\n",
    "    to_vcf(chrom, pos, ref, alt, gt, iids, path_vcf)"
   ]
  },
  {
   "cell_type": "markdown",
   "metadata": {},
   "source": [
    "### Test with Example Data"
   ]
  },
  {
   "cell_type": "code",
   "execution_count": 18,
   "metadata": {},
   "outputs": [
    {
     "name": "stdout",
     "output_type": "stream",
     "text": [
      "Loaded HDF5\n",
      "Loaded 77652 variants\n",
      "Loaded 503 individuals\n",
      "['GT']\n",
      "['ALT', 'CHROM', 'FILTER_PASS', 'ID', 'MAP', 'POS', 'QUAL', 'REF']\n",
      "Successfully saved VCF to ./Diverse/test.vcf\n"
     ]
    }
   ],
   "source": [
    "### Before copying to the above \n",
    "iids= [\"HG00097\", 'HG00099']\n",
    "f = load_h5(path=\"./Data/1000Genomes/HDF5/1240kHDF5/Eur1240chr3.hdf5\")\n",
    "idx = np.isin(f[\"samples\"], iids)\n",
    "\n",
    "chrom = [20, 20, 20, 20, 20] \n",
    "pos = [14370, 17330, 1110696, 1230237, 1234567] \n",
    "ref = ['G', 'T', 'A', 'T', 'T'] \n",
    "alt = ['A', 'A', 'G', 'C', 'G']\n",
    "\n",
    "# For testing purposes\n",
    "gt = f[\"calldata/GT\"][:5,:3,:]\n",
    "iids = f[\"samples\"][:3]\n",
    "\n",
    "vcf_path = \"./Diverse/test.vcf\"\n",
    "to_vcf(chrom, pos, ref, alt, gt, iids, vcf_path)"
   ]
  },
  {
   "cell_type": "markdown",
   "metadata": {},
   "source": [
    "# Convert a whole HDF5 File to VCF"
   ]
  },
  {
   "cell_type": "code",
   "execution_count": 120,
   "metadata": {},
   "outputs": [
    {
     "name": "stdout",
     "output_type": "stream",
     "text": [
      "Loaded HDF5\n",
      "Loaded 77652 variants\n",
      "Loaded 100 individuals\n",
      "['AD', 'GT']\n",
      "['ALT', 'MAP', 'POS', 'REF']\n",
      "Successfully saved VCF to ./Diverse/TSI4cmIID0.vcf\n",
      "CPU times: user 598 ms, sys: 68.1 ms, total: 666 ms\n",
      "Wall time: 680 ms\n"
     ]
    }
   ],
   "source": [
    "%%time\n",
    "#path_h5 = \"./Simulated/1000G_Mosaic/TSI/ch3_5cm/data.h5\"\n",
    "path_h5 = \"./Simulated/1000G_Mosaic/TSI5/ch3_4cm/data.h5\"\n",
    "path_vcf = \"./Diverse/TSI4cmIID0.vcf\"\n",
    "iids = [\"iid0\",]\n",
    "hdf5_to_vcf(path_h5, path_vcf, iids=iids, markers=[], chrom=3)"
   ]
  },
  {
   "cell_type": "markdown",
   "metadata": {},
   "source": [
    "# Run PLINK"
   ]
  },
  {
   "cell_type": "code",
   "execution_count": 122,
   "metadata": {
    "scrolled": true
   },
   "outputs": [
    {
     "name": "stdout",
     "output_type": "stream",
     "text": [
      "PLINK v1.90b6.9 64-bit (4 Mar 2019)            www.cog-genomics.org/plink/1.9/\r\n",
      "(C) 2005-2019 Shaun Purcell, Christopher Chang   GNU General Public License v3\r\n",
      "Logging to ./Simulated/1000G_Mosaic/TSI5/ch3_4cm/output/iid0/chr3/plink/roh.log.\r\n",
      "Options in effect:\r\n",
      "  --homozyg\r\n",
      "  --homozyg-density 50\r\n",
      "  --homozyg-gap 1000\r\n",
      "  --homozyg-kb 500\r\n",
      "  --homozyg-window-het 1\r\n",
      "  --homozyg-window-snp 50\r\n",
      "  --homozyg-window-threshold 0.05\r\n",
      "  --out ./Simulated/1000G_Mosaic/TSI5/ch3_4cm/output/iid0/chr3/plink/roh\r\n",
      "  --vcf ./Diverse/TSI4cmIID0.vcf\r\n",
      "\r\n",
      "7704 MB RAM detected; reserving 3852 MB for main workspace.\r\n",
      "\r",
      "--vcf: 1k variants complete.\r",
      "--vcf: 2k variants complete.\r",
      "--vcf: 3k variants complete.\r",
      "--vcf: 4k variants complete.\r",
      "--vcf: 5k variants complete.\r",
      "--vcf: 6k variants complete.\r",
      "--vcf: 7k variants complete.\r",
      "--vcf: 8k variants complete.\r",
      "--vcf: 9k variants complete.\r",
      "--vcf: 10k variants complete.\r",
      "--vcf: 11k variants complete.\r",
      "--vcf: 12k variants complete.\r",
      "--vcf: 13k variants complete.\r",
      "--vcf: 14k variants complete.\r",
      "--vcf: 15k variants complete.\r",
      "--vcf: 16k variants complete.\r",
      "--vcf: 17k variants complete.\r",
      "--vcf: 18k variants complete.\r",
      "--vcf: 19k variants complete.\r",
      "--vcf: 20k variants complete.\r",
      "--vcf: 21k variants complete.\r",
      "--vcf: 22k variants complete.\r",
      "--vcf: 23k variants complete.\r",
      "--vcf: 24k variants complete.\r",
      "--vcf: 25k variants complete.\r",
      "--vcf: 26k variants complete.\r",
      "--vcf: 27k variants complete.\r",
      "--vcf: 28k variants complete.\r",
      "--vcf: 29k variants complete.\r",
      "--vcf: 30k variants complete.\r",
      "--vcf: 31k variants complete.\r",
      "--vcf: 32k variants complete.\r",
      "--vcf: 33k variants complete.\r",
      "--vcf: 34k variants complete.\r",
      "--vcf: 35k variants complete.\r",
      "--vcf: 36k variants complete.\r",
      "--vcf: 37k variants complete.\r",
      "--vcf: 38k variants complete.\r",
      "--vcf: 39k variants complete.\r",
      "--vcf: 40k variants complete.\r",
      "--vcf: 41k variants complete.\r",
      "--vcf: 42k variants complete.\r",
      "--vcf: 43k variants complete.\r",
      "--vcf: 44k variants complete.\r",
      "--vcf: 45k variants complete.\r",
      "--vcf: 46k variants complete.\r",
      "--vcf: 47k variants complete.\r",
      "--vcf: 48k variants complete.\r",
      "--vcf: 49k variants complete.\r",
      "--vcf: 50k variants complete.\r",
      "--vcf: 51k variants complete.\r",
      "--vcf: 52k variants complete.\r",
      "--vcf: 53k variants complete.\r",
      "--vcf: 54k variants complete.\r",
      "--vcf: 55k variants complete.\r",
      "--vcf: 56k variants complete.\r",
      "--vcf: 57k variants complete.\r",
      "--vcf: 58k variants complete.\r",
      "--vcf: 59k variants complete.\r",
      "--vcf: 60k variants complete.\r",
      "--vcf: 61k variants complete.\r",
      "--vcf: 62k variants complete.\r",
      "--vcf: 63k variants complete.\r",
      "--vcf: 64k variants complete.\r",
      "--vcf: 65k variants complete.\r",
      "--vcf: 66k variants complete.\r",
      "--vcf: 67k variants complete.\r",
      "--vcf: 68k variants complete.\r",
      "--vcf: 69k variants complete.\r",
      "--vcf: 70k variants complete.\r",
      "--vcf: 71k variants complete.\r",
      "--vcf: 72k variants complete.\r",
      "--vcf: 73k variants complete.\r",
      "--vcf: 74k variants complete.\r",
      "--vcf: 75k variants complete.\r",
      "--vcf: 76k variants complete.\r",
      "--vcf: 77k variants complete.\r",
      "--vcf:\r\n",
      "./Simulated/1000G_Mosaic/TSI5/ch3_4cm/output/iid0/chr3/plink/roh-temporary.bed\r\n",
      "+\r\n",
      "./Simulated/1000G_Mosaic/TSI5/ch3_4cm/output/iid0/chr3/plink/roh-temporary.bim\r\n",
      "+\r\n",
      "./Simulated/1000G_Mosaic/TSI5/ch3_4cm/output/iid0/chr3/plink/roh-temporary.fam\r\n",
      "written.\r\n",
      "77652 variants loaded from .bim file.\r\n",
      "1 person (0 males, 0 females, 1 ambiguous) loaded from .fam.\r\n",
      "Ambiguous sex ID written to\r\n",
      "./Simulated/1000G_Mosaic/TSI5/ch3_4cm/output/iid0/chr3/plink/roh.nosex .\r\n",
      "Using 1 thread (no multithreaded calculations invoked).\r\n",
      "Before main variant filters, 1 founder and 0 nonfounders present.\r\n",
      "Calculating allele frequencies... 0%\b\b1%\b\b2%\b\b3%\b\b4%\b\b5%\b\b6%\b\b7%\b\b8%\b\b9%\b\b10%\b\b\b11%\b\b\b12%\b\b\b13%\b\b\b14%\b\b\b15%\b\b\b16%\b\b\b17%\b\b\b18%\b\b\b19%\b\b\b20%\b\b\b21%\b\b\b22%\b\b\b23%\b\b\b24%\b\b\b25%\b\b\b26%\b\b\b27%\b\b\b28%\b\b\b29%\b\b\b30%\b\b\b31%\b\b\b32%\b\b\b33%\b\b\b34%\b\b\b35%\b\b\b36%\b\b\b37%\b\b\b38%\b\b\b39%\b\b\b40%\b\b\b41%\b\b\b42%\b\b\b43%\b\b\b44%\b\b\b45%\b\b\b46%\b\b\b47%\b\b\b48%\b\b\b49%\b\b\b50%\b\b\b51%\b\b\b52%\b\b\b53%\b\b\b54%\b\b\b55%\b\b\b56%\b\b\b57%\b\b\b58%\b\b\b59%\b\b\b60%\b\b\b61%\b\b\b62%\b\b\b63%\b\b\b64%\b\b\b65%\b\b\b66%\b\b\b67%\b\b\b68%\b\b\b69%\b\b\b70%\b\b\b71%\b\b\b72%\b\b\b73%\b\b\b74%\b\b\b75%\b\b\b76%\b\b\b77%\b\b\b78%\b\b\b79%\b\b\b80%\b\b\b81%\b\b\b82%\b\b\b83%\b\b\b84%\b\b\b85%\b\b\b86%\b\b\b87%\b\b\b88%\b\b\b89%\b\b\b90%\b\b\b91%\b\b\b92%\b\b\b93%\b\b\b94%\b\b\b95%\b\b\b96%\b\b\b97%\b\b\b98%\b\b\b99%\b\b\b\b done.\r\n",
      "77652 variants and 1 person pass filters and QC.\r\n",
      "Note: No phenotypes present.\r\n",
      "\r",
      "--homozyg: Scanning chromosome 3. \b\r",
      "--homozyg: Scan complete, found 17 ROH.\r\n",
      "Results saved to\r\n",
      "./Simulated/1000G_Mosaic/TSI5/ch3_4cm/output/iid0/chr3/plink/roh.hom +\r\n",
      "./Simulated/1000G_Mosaic/TSI5/ch3_4cm/output/iid0/chr3/plink/roh.hom.indiv +\r\n",
      "./Simulated/1000G_Mosaic/TSI5/ch3_4cm/output/iid0/chr3/plink/roh.hom.summary .\r\n"
     ]
    }
   ],
   "source": [
    "file = path_vcf\n",
    "input_folder = \"./Simulated/1000G_Mosaic/TSI5/ch3_4cm/output/iid0/chr3/\"\n",
    "output_folder = os.path.join(input_folder, \"plink/roh\")\n",
    "\n",
    "!plink --homozyg --vcf $file --homozyg-window-snp 50 --homozyg-kb 500 --homozyg-window-het 1 --homozyg-window-threshold 0.05 --homozyg-gap 1000 --homozyg-density 50 --out $output_folder"
   ]
  },
  {
   "cell_type": "markdown",
   "metadata": {},
   "source": [
    "# Plot PLINK"
   ]
  },
  {
   "cell_type": "code",
   "execution_count": 123,
   "metadata": {},
   "outputs": [
    {
     "name": "stdout",
     "output_type": "stream",
     "text": [
      "Loaded HDF5\n",
      "Loaded 77652 variants\n",
      "Loaded 100 individuals\n",
      "['AD', 'GT']\n",
      "['ALT', 'MAP', 'POS', 'REF']\n"
     ]
    }
   ],
   "source": [
    "df_plink = pd.read_csv(output_folder + \".hom\", sep=r\"\\s+\", engine=\"python\")\n",
    "#df_map = pd.read_csv(input_folder + \"map.csv\", header=None)\n",
    "\n",
    "### Create the Mapping Dictionary\n",
    "f = load_h5(path=path_h5)\n",
    "new_dict = dict(zip(f[\"variants/POS\"], f[\"variants/MAP\"]))\n",
    "\n",
    "### Create Begin and End Point in Morgan ###Takes about 10s\n",
    "df_plink[\"POS1m\"] = df_plink[\"POS1\"].map(new_dict)\n",
    "df_plink[\"POS2m\"] = df_plink[\"POS2\"].map(new_dict)"
   ]
  },
  {
   "cell_type": "code",
   "execution_count": 124,
   "metadata": {},
   "outputs": [],
   "source": [
    "input_folder  = \"./Simulated/1000G_Mosaic/TSI5/ch3_4cm/output/iid0/chr3/test_d/\"\n",
    "#input_folder = \"./Simulated/1000G_Mosaic/TSI/ch3_5cm/output/iid0/chr3/\"\n",
    "ob_stat = np.loadtxt(input_folder + \"hap.csv\", dtype=\"int\", delimiter=\",\")\n",
    "het = (ob_stat[0,:] != ob_stat[1,:])\n",
    "\n",
    "gmap = np.loadtxt(input_folder + \"map.csv\", dtype=\"float\", delimiter=\",\")\n",
    "df_roh  = pd.read_csv(input_folder + \"roh.csv\", delimiter=\",\")"
   ]
  },
  {
   "cell_type": "markdown",
   "metadata": {},
   "source": [
    "### Plot HAPSBURG ROH vrs PLINK ROH"
   ]
  },
  {
   "cell_type": "code",
   "execution_count": 147,
   "metadata": {},
   "outputs": [
    {
     "data": {
      "image/png": "[encoded data removed]",
      "text/plain": [
       "<Figure size 1008x144 with 2 Axes>"
      ]
     },
     "metadata": {
      "needs_background": "light"
     },
     "output_type": "display_data"
    }
   ],
   "source": [
    "fs = 14\n",
    "lw = 8 # The Line With of the Inferred ROH Calls\n",
    "het_c=\"blue\"\n",
    "post_c=\"maroon\"\n",
    "cm_lim = []\n",
    "#cm_lim=[150,170]\n",
    "\n",
    "plt.figure(figsize=(14,2))\n",
    "ax1=plt.gca()\n",
    "\n",
    "ax1.hlines(y=[1.25]*len(df_plink), xmin=100 * df_plink[\"POS1m\"], xmax= 100*df_plink[\"POS2m\"], \n",
    "                colors=\"red\", linewidth=lw, label=\"PLINK\")\n",
    "\n",
    "plt.hlines(y=[1.14]*len(df_roh), xmin=100 * df_roh[\"StartM\"], xmax= 100 * df_roh[\"EndM\"], \n",
    "                        colors=\"green\", linewidth=lw, label=\"HAPSBURG (diploid mode)\")\n",
    "\n",
    "ax1.set_ylim([-0.09,1.33])\n",
    "ax1.plot(gmap*100, (het * 1.1 - 0.05), \"o\", ms=1, alpha=0.3, zorder=0, color=het_c)\n",
    "ax2 = ax1.twinx()\n",
    "ax2.set_ylim(ax1.get_ylim())\n",
    "ax1.set_yticks([])\n",
    "ax2.set_yticks(np.array([1,0]) * 1.1 - 0.05)\n",
    "ax2.set_yticklabels([])\n",
    "ax1.set_yticklabels([])\n",
    "ax2.set_ylabel(f\"Het. Genotypes\", fontsize=fs*0.9, color=het_c)\n",
    "\n",
    "#ax1.set_ylabel(\"Post. Probability\", fontsize=fs, color=post_c)\n",
    "ax1.set_xlabel(\"SNP\", fontsize=fs)\n",
    "ax1.set_xlabel(\"CentiMorgan\")\n",
    "\n",
    "ax1.legend(loc = \"center right\", title=\"ROH Calls\")\n",
    "\n",
    "if len(cm_lim)>0:\n",
    "    ax1.set_xlim(cm_lim)\n",
    "    \n",
    "ax1.set_title(\"1240 Mosaic TSI IID0; 5x4cm ROH\", fontsize=fs)\n",
    "plt.show()"
   ]
  },
  {
   "cell_type": "code",
   "execution_count": null,
   "metadata": {},
   "outputs": [],
   "source": [
    "def plot_posterior_cm(folder = \"../Simulated/Test20r/\", savepath=\"\", empirical=True, \n",
    "                      plot=True, cm_lim=[], m=1, groundtruth=False, readcount=False, \n",
    "                     plot_hets=True, plot_calls=True, plot_post=True,\n",
    "                      figsize=(14,4), title=\"\", post_c=\"maroon\", het_c=\"blue\"):\n",
    "    \"\"\"Plot Viterbi Path of Haplotype copying.\n",
    "    save: Whether to save the results.\n",
    "    empirical: If true, do not load and plot latent states\n",
    "    cm_lim: What Area to Zoom In (CentiMorgan)\n",
    "    m: How many reads for ref and alt\n",
    "    groundtruth: Whether to plot Ground Truth (saved as csv)\n",
    "    plot_hets: Whether to plot Heterozygote Markers\n",
    "    plot_calls: Whether to plot Calls\n",
    "    plot_post: Whether to plot posterior\"\"\"\n",
    "    \n",
    "    cmap = cm.get_cmap(\"viridis\")\n",
    "    norm = plt.Normalize(-8, 0)\n",
    "\n",
    "    fs = 14  \n",
    "    lw = 6   # Linewidth for ROH\n",
    "    \n",
    "    _, ob_stat,_,_,posterior, roh_df, read_counts, gmap = load_data(folder, empirical, readcounts=readcount)\n",
    "    assert(len(gmap)==np.shape(ob_stat)[1])\n",
    "        \n",
    "    ###########################\n",
    "    ###########################\n",
    "    # Do the Plot\n",
    "    \n",
    "    plt.figure(figsize=figsize)\n",
    "    gs = gridspec.GridSpec(2, 1, height_ratios=[4, 8])\n",
    "    gs.update(hspace=0.3) # set the spacing between axes. \n",
    "\n",
    "    #ax = plt.subplot(gs[0]) # The upper subplot\n",
    "    ax1 = plt.subplot(gs[1]) # The lower subplot\n",
    "    \n",
    "    ### Depict Readcounts or GT Heteroyzgotes\n",
    "    if readcount == False:\n",
    "        het = (ob_stat[0,:] != ob_stat[1,:])\n",
    "    elif readcount == True:\n",
    "        het = process_read_counts(read_counts, m=m)\n",
    "    else:\n",
    "        raise RuntimeError(\"Invalid Mode!\")\n",
    "        \n",
    "    #ax.plot(gmap*100, het, \"bo\", ms=2, alpha=0.3)\n",
    "    #ax.set_ylabel(\"Het\", fontsize=fs)\n",
    "    #ax.set_title(\"Hetorzygosity\", fontsize=fs)\n",
    "    if plot_post == True:\n",
    "        ax1.plot(gmap*100, np.exp(posterior), linewidth=2, color=post_c, label=\"State 0\", zorder=1)\n",
    "    \n",
    "    if plot_calls==True:\n",
    "        plt.hlines(y=[1.12]*len(roh_df), xmin=100 * roh_df[\"StartM\"], xmax= 100 * roh_df[\"EndM\"], \n",
    "                        colors=\"green\", linewidth=lw)\n",
    "        \n",
    "    if plot_hets==True:\n",
    "        ax1.plot(gmap*100, (het * 1.1 - 0.05), \"o\", ms=1, alpha=0.3, zorder=0, color=het_c)\n",
    "        ax2 = ax1.twinx()\n",
    "        ax2.set_ylim(ax1.get_ylim())\n",
    "        #ax2.set_yticks(np.array([1,0]) * 1.1 - 0.05)\n",
    "        ax2.set_yticklabels([])\n",
    "        ax1.set_yticklabels([])\n",
    "        #ax2.set_ylabel(f\"$\\geq/\\geq$ {m} Ref/Alt Reads\", fontsize=fs*0.7, color=het_c)\n",
    "    \n",
    "    #ax1.set_ylabel(\"Post. Probability\", fontsize=fs, color=post_c)\n",
    "    ax1.set_xlabel(\"SNP\", fontsize=fs)\n",
    "    ax1.set_xlabel(\"CentiMorgan\")\n",
    "    \n",
    "    if len(cm_lim)==2:\n",
    "        ax1.set_xlim(cm_lim)\n",
    "        \n",
    "    ### Load & Plot Groundtruth (if given):\n",
    "    if groundtruth==True:\n",
    "        path = folder + \"roh_gt.csv\"\n",
    "        dft = pd.read_csv(path, sep=\"\\t\")\n",
    "        \n",
    "        ### Plot them\n",
    "        plt.hlines(y=[1.2]*len(dft), xmin=100 * dft[\"ROH_Begin\"], xmax=100 * dft[\"ROH_End\"], \n",
    "                    colors=\"blue\", linewidth=lw)\n",
    "    if len(title)>0:\n",
    "        plt.title(title, fontsize=fs)\n",
    "        \n",
    "    if len(savepath)>0:\n",
    "        plt.savefig(savepath, bbox_inches = 'tight', pad_inches = 0, dpi=300)\n",
    "        #plt.savefig(folder + \"posterior_cm.png\", bbox_inches = 'tight', pad_inches = 0, dpi=300)\n",
    "    \n",
    "    if plot==True:\n",
    "        plt.show()"
   ]
  },
  {
   "cell_type": "markdown",
   "metadata": {},
   "source": [
    "# Area 51"
   ]
  },
  {
   "cell_type": "code",
   "execution_count": 14,
   "metadata": {},
   "outputs": [
    {
     "data": {
      "text/plain": [
       "array([0, 1], dtype=int8)"
      ]
     },
     "execution_count": 14,
     "metadata": {},
     "output_type": "execute_result"
    }
   ],
   "source": [
    "f[\"calldata/GT\"][0, 0, :]"
   ]
  },
  {
   "cell_type": "code",
   "execution_count": 16,
   "metadata": {},
   "outputs": [
    {
     "data": {
      "text/plain": [
       "<HDF5 dataset \"CHROM\": shape (77652,), type \"|O\">"
      ]
     },
     "execution_count": 16,
     "metadata": {},
     "output_type": "execute_result"
    }
   ],
   "source": [
    "f[\"variants/CHROM\"]"
   ]
  },
  {
   "cell_type": "code",
   "execution_count": 7,
   "metadata": {},
   "outputs": [
    {
     "data": {
      "text/plain": [
       "array(['HG00096', 'HG00097', 'HG00099', 'HG00100', 'HG00101', 'HG00102',\n",
       "       'HG00103', 'HG00105', 'HG00106', 'HG00107'], dtype=object)"
      ]
     },
     "execution_count": 7,
     "metadata": {},
     "output_type": "execute_result"
    }
   ],
   "source": [
    "f[\"samples\"][:10]"
   ]
  },
  {
   "cell_type": "code",
   "execution_count": 17,
   "metadata": {},
   "outputs": [],
   "source": [
    "df_test = pd.read_csv(\"./Data/ReichLabEigenstrat/Raw/v37.2.1240K.snp\", \n",
    "                      header=None, sep=r\"\\s+\", engine=\"python\")"
   ]
  },
  {
   "cell_type": "code",
   "execution_count": 26,
   "metadata": {},
   "outputs": [
    {
     "data": {
      "text/plain": [
       "32670"
      ]
     },
     "execution_count": 26,
     "metadata": {},
     "output_type": "execute_result"
    }
   ],
   "source": [
    "np.sum(df_test[1]==24)"
   ]
  },
  {
   "cell_type": "code",
   "execution_count": 7,
   "metadata": {},
   "outputs": [
    {
     "name": "stdout",
     "output_type": "stream",
     "text": [
      "Loaded HDF5\n",
      "Loaded 77652 variants\n",
      "Loaded 503 individuals\n",
      "['GT']\n",
      "['ALT', 'CHROM', 'FILTER_PASS', 'ID', 'MAP', 'POS', 'QUAL', 'REF']\n"
     ]
    }
   ],
   "source": [
    "f = load_h5(path=\"./Data/1000Genomes/HDF5/1240kHDF5/Eur1240chr3.hdf5\")"
   ]
  },
  {
   "cell_type": "code",
   "execution_count": 8,
   "metadata": {},
   "outputs": [
    {
     "name": "stdout",
     "output_type": "stream",
     "text": [
      "Loaded HDF5\n",
      "Loaded 77652 variants\n",
      "Loaded 20 individuals\n",
      "['AD', 'GT']\n",
      "['ALT', 'MAP', 'POS', 'REF']\n"
     ]
    }
   ],
   "source": [
    "f = load_h5(path=\"./Simulated/1000G_Mosaic/TSI/ch3_5cm/data.h5\")"
   ]
  },
  {
   "cell_type": "code",
   "execution_count": null,
   "metadata": {},
   "outputs": [],
   "source": []
  }
 ],
 "metadata": {
  "kernelspec": {
   "display_name": "Python 3",
   "language": "python",
   "name": "python3"
  },
  "language_info": {
   "codemirror_mode": {
    "name": "ipython",
    "version": 3
   },
   "file_extension": ".py",
   "mimetype": "text/x-python",
   "name": "python",
   "nbconvert_exporter": "python",
   "pygments_lexer": "ipython3",
   "version": "3.6.8"
  }
 },
 "nbformat": 4,
 "nbformat_minor": 2
}
