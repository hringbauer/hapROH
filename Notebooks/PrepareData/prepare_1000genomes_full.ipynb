{
 "cells": [
  {
   "cell_type": "markdown",
   "metadata": {},
   "source": [
    "# Prepare 1000 Genome Reference dataset with full data\n",
    "WARNING: NEEDS 60GB OF RAM"
   ]
  },
  {
   "cell_type": "code",
   "execution_count": 1,
   "metadata": {},
   "outputs": [
    {
     "name": "stdout",
     "output_type": "stream",
     "text": [
      "midway2-0401.rcc.local\n",
      "Midway jnovmbre partition detected.\n",
      "/project2/jnovembre/hringbauer/HAPSBURG\n",
      "CPU Count: 28\n"
     ]
    },
    {
     "ename": "ImportError",
     "evalue": "cannot import name 'save_h5' from 'hapsburg.PackagesSupport.h5_python.h5_functions' (./package/hapsburg/PackagesSupport/h5_python/h5_functions.py)",
     "output_type": "error",
     "traceback": [
      "\u001b[0;31m---------------------------------------------------------------------------\u001b[0m",
      "\u001b[0;31mImportError\u001b[0m                               Traceback (most recent call last)",
      "\u001b[0;32m<ipython-input-1-3479181c18f6>\u001b[0m in \u001b[0;36m<module>\u001b[0;34m\u001b[0m\n\u001b[1;32m     26\u001b[0m \u001b[0;34m\u001b[0m\u001b[0m\n\u001b[1;32m     27\u001b[0m \u001b[0msys\u001b[0m\u001b[0;34m.\u001b[0m\u001b[0mpath\u001b[0m\u001b[0;34m.\u001b[0m\u001b[0minsert\u001b[0m\u001b[0;34m(\u001b[0m\u001b[0;36m0\u001b[0m\u001b[0;34m,\u001b[0m\u001b[0;34m\"./package/\"\u001b[0m\u001b[0;34m)\u001b[0m  \u001b[0;31m# hack to get local package first in path\u001b[0m\u001b[0;34m\u001b[0m\u001b[0;34m\u001b[0m\u001b[0m\n\u001b[0;32m---> 28\u001b[0;31m \u001b[0;32mfrom\u001b[0m \u001b[0mhapsburg\u001b[0m\u001b[0;34m.\u001b[0m\u001b[0mPackagesSupport\u001b[0m\u001b[0;34m.\u001b[0m\u001b[0mh5_python\u001b[0m\u001b[0;34m.\u001b[0m\u001b[0mh5_functions\u001b[0m \u001b[0;32mimport\u001b[0m \u001b[0mmerge_in_ld_map\u001b[0m\u001b[0;34m,\u001b[0m \u001b[0msave_h5\u001b[0m\u001b[0;34m\u001b[0m\u001b[0;34m\u001b[0m\u001b[0m\n\u001b[0m",
      "\u001b[0;31mImportError\u001b[0m: cannot import name 'save_h5' from 'hapsburg.PackagesSupport.h5_python.h5_functions' (./package/hapsburg/PackagesSupport/h5_python/h5_functions.py)"
     ]
    }
   ],
   "source": [
    "import allel\n",
    "import h5py  # Python Package to do the HDF5.\n",
    "import numpy as np\n",
    "import pandas as pd\n",
    "import socket\n",
    "import os as os\n",
    "import sys as sys\n",
    "import multiprocessing as mp\n",
    "import matplotlib.pyplot as plt\n",
    "\n",
    "socket_name = socket.gethostname()\n",
    "print(socket_name)\n",
    "if socket_name == \"VioletQueen\":\n",
    "    path = \"/home/harald/git/HAPSBURG/\"   # The Path on Harald's machine\n",
    "elif socket_name.startswith(\"midway2\"):\n",
    "    print(\"Midway jnovmbre partition detected.\")\n",
    "    path = \"/project2/jnovembre/hringbauer/HAPSBURG/\"  # The Path on Midway Cluster\n",
    "else: \n",
    "    raise RuntimeWarning(\"Not compatible machine. Check!!\")\n",
    "    \n",
    "os.chdir(path)  # Set the right Path (in line with Atom default)\n",
    "#sys.path.append(\"./Python3/\")  # Since now we are in the Root Directory\n",
    "\n",
    "print(os.getcwd()) # Show the current working directory. Should be HAPSBURG/Notebooks/ParallelRuns\n",
    "print(f\"CPU Count: {mp.cpu_count()}\")\n",
    "\n",
    "sys.path.insert(0,\"./package/\")  # hack to get local package first in path\n",
    "from hapsburg.PackagesSupport.h5_python.h5_functions import merge_in_ld_map, save_h5"
   ]
  },
  {
   "cell_type": "markdown",
   "metadata": {},
   "source": [
    "### Helper Function"
   ]
  },
  {
   "cell_type": "code",
   "execution_count": 2,
   "metadata": {},
   "outputs": [],
   "source": [
    "def vcf_to_hdf5(in_path, out_path, path_vcf100g=\"\"):\n",
    "    \"\"\"Transform Full VCF to full HDF5\"\"\"\n",
    "    allel.vcf_to_hdf5(input=in_path, output=out_path, compression=\"gzip\") # Takes 10 Minutes ####chunk_length=1000000, chunk_width=1, garbage performance\n",
    "    \n",
    "def download_1kg(path_source=\"\", path_target=\"\"):\n",
    "    \"\"\"cluster: Whether program is run on cluster\"\"\"\n",
    "    tbi_s = path_source + \".tbi\"\n",
    "    tbi_t = path_target + \".tbi\"\n",
    "    \n",
    "    !scp $path_source $path_target # Only Download the .vcf (not the .tbi)\n",
    "    !scp $tbi_s $tbi_t             # Download the tbi\n",
    "    print(f\"Transfer complete. To {path_target}\")\n",
    "    \n",
    "def downsample_af(path_h5, path_save, maf=0.002, batch=1000000):\n",
    "    \"\"\"Loads hdf5 at path_h5, and filters to loci >maf.\n",
    "    Save h5 at path_save. Assumes everything is in standard format\"\"\"\n",
    "\n",
    "    f = h5py.File(path_h5, \"r\") # Load for Sanity Check. See below!\n",
    "\n",
    "    ### Calculate the AFs\n",
    "    k = np.shape(f[\"calldata/GT\"])[0]\n",
    "    \n",
    "    idcs = [] # the list of list of idx in each batch\n",
    "    ### Work in batches\n",
    "    for i in range(int(k/batch)+1):\n",
    "        print(f\"Doing batch {i}...\")\n",
    "        gt = f[\"calldata/GT\"][i*batch:(i+1)*batch,:,:]  \n",
    "        n = np.shape(gt)[1]*2 # number of haplotypes\n",
    "        gt = np.sum(gt==0, axis=1)\n",
    "        gt = np.sum(gt, axis=1)\n",
    "        p_der = 1 - gt/n\n",
    "        idx = p_der > maf # Filter\n",
    "        idcs.append(idx)\n",
    "        \n",
    "    idx = np.concatenate(idcs)\n",
    "    print(f\"Downsampling to {np.sum(idx)}/{len(idx)} Markers with MAF >{maf}\")\n",
    "\n",
    "    gt = f[\"calldata/GT\"][:,:,:][idx] # Extract the Ind\n",
    "    ref=f[\"variants/REF\"][:][idx]\n",
    "    alt=f[\"variants/ALT\"][:][idx,0] # only save the first alt allele\n",
    "    pos=f[\"variants/POS\"][:][idx]\n",
    "    rec=f[\"variants/MAP\"][:][idx]\n",
    "    samples=f[\"samples\"][:]\n",
    "    f.close()\n",
    "    \n",
    "    print(\"Saving new HDF...\")\n",
    "    save_h5(gt=gt, ad=[],\n",
    "            ref=ref, alt=alt,\n",
    "            pos=pos, rec=rec,\n",
    "            samples=samples,\n",
    "            path=path_save,\n",
    "            compression='gzip',\n",
    "            ad_group=False, gt_type='int8')"
   ]
  },
  {
   "cell_type": "markdown",
   "metadata": {},
   "source": [
    "### Master Function"
   ]
  },
  {
   "cell_type": "code",
   "execution_count": 3,
   "metadata": {},
   "outputs": [],
   "source": [
    "def full_prep_h5_full(ch = 4, maf=0.002):\n",
    "    \"\"\"Function to run the full preparation of HDF from 1000G VCF. \n",
    "    Comment out steps if not needed.\"\"\"\n",
    "    ### The Paths\n",
    "    path_vcf_source = f\"/project2/jnovembre/data/external_public/1kg_phase3/haps/ALL.chr{ch}.phase3_shapeit2_mvncall_integrated_v5a.20130502.genotypes.vcf.gz\"\n",
    "    path_vcf_here = f\"./Data/1000Genomes/AutosomeVCF/Full/chr{ch}.vcf.gz\"\n",
    "    path_h5 = f\"./Data/1000Genomes/HDF5/FULLHDF5/chr{ch}.hdf5\"\n",
    "    path_h5_maf = f\"./Data/1000Genomes/HDF5/FULLHDF5/maf02_chr{ch}.hdf5\"\n",
    "    \n",
    "    path_snp1240k = \"./Data/1000Genomes/Markers/MinMyc.snp\"\n",
    "    \n",
    "    ### The functions of the pipeline\n",
    "    download_1kg(path_vcf_source, path_vcf_here)  ## Takes about 20 seconds\n",
    "    vcf_to_hdf5(path_vcf_here, path_h5)            ## Takes about 20 minutes\n",
    "    merge_in_ld_map(path_h5=path_h5, path_snp1240k=path_snp1240k, chs=[ch,], write_mode=\"a\")  ## Takes about XX seconds, mode a for new LD Map\n",
    "    downsample_af(path_h5, path_h5_maf, maf=maf)\n",
    "    \n",
    "    print(f\"Run Finished Successfully!\")"
   ]
  },
  {
   "cell_type": "markdown",
   "metadata": {},
   "source": [
    "# Do the full Run"
   ]
  },
  {
   "cell_type": "code",
   "execution_count": 5,
   "metadata": {},
   "outputs": [
    {
     "name": "stdout",
     "output_type": "stream",
     "text": [
      "Transfer complete. To ./Data/1000Genomes/AutosomeVCF/Full/chr1.vcf.gz\n",
      "Lifting LD Map from eigenstrat to HDF5...\n",
      "Loaded 6468094 variants.\n",
      "Loaded 2504 individuals.\n",
      "Loaded 93166 Chr.1 1240K SNPs.\n",
      "Intersection 89658 out of 6468094 HDF5 SNPs\n",
      "Interpolating 6378436 variants.\n",
      "Finished Chromosome 1.\n",
      "Adding map to HDF5...\n",
      "We did it. Finished.\n",
      "Doing batch 0...\n",
      "Doing batch 1...\n",
      "Doing batch 2...\n",
      "Doing batch 3...\n",
      "Doing batch 4...\n",
      "Doing batch 5...\n",
      "Doing batch 6...\n",
      "Downsampling to 1840756/6468094 Markers with MAF >0.002\n",
      "Saving new HDF...\n",
      "Successfully saved 2504 individuals to: ./Data/1000Genomes/HDF5/FULLHDF5/maf02_chr1.hdf5\n",
      "Run Finished Successfully!\n",
      "Transfer complete. To ./Data/1000Genomes/AutosomeVCF/Full/chr2.vcf.gz\n",
      "Lifting LD Map from eigenstrat to HDF5...\n",
      "Loaded 7081600 variants.\n",
      "Loaded 2504 individuals.\n",
      "Loaded 98657 Chr.2 1240K SNPs.\n",
      "Intersection 94812 out of 7081600 HDF5 SNPs\n",
      "Interpolating 6986788 variants.\n",
      "Finished Chromosome 2.\n",
      "Adding map to HDF5...\n",
      "We did it. Finished.\n",
      "Doing batch 0...\n",
      "Doing batch 1...\n",
      "Doing batch 2...\n",
      "Doing batch 3...\n",
      "Doing batch 4...\n",
      "Doing batch 5...\n",
      "Doing batch 6...\n",
      "Doing batch 7...\n",
      "Downsampling to 1978023/7081600 Markers with MAF >0.002\n",
      "Saving new HDF...\n",
      "Successfully saved 2504 individuals to: ./Data/1000Genomes/HDF5/FULLHDF5/maf02_chr2.hdf5\n",
      "Run Finished Successfully!\n",
      "CPU times: user 1h 2min 14s, sys: 2min 55s, total: 1h 5min 10s\n",
      "Wall time: 1h 6min 5s\n"
     ]
    }
   ],
   "source": [
    "%%time\n",
    "for ch in range(1,3):\n",
    "    full_prep_h5_full(ch = ch)"
   ]
  },
  {
   "cell_type": "markdown",
   "metadata": {},
   "source": [
    "### Downsample to AF SNPs"
   ]
  },
  {
   "cell_type": "markdown",
   "metadata": {},
   "source": [
    "# Area 51"
   ]
  },
  {
   "cell_type": "code",
   "execution_count": 2,
   "metadata": {},
   "outputs": [
    {
     "name": "stdout",
     "output_type": "stream",
     "text": [
      "Loaded 77652 variants\n",
      "Loaded 100 individuals\n",
      "['AD', 'GT']\n",
      "['ALT', 'MAP', 'POS', 'REF']\n"
     ]
    }
   ],
   "source": [
    "### Test the Final HDF5 just created\n",
    "ch = 3\n",
    "path_load = f\"./Simulated/1000G_Mosaic/TSI5/ch3_0cm/data.h5\"\n",
    "\n",
    "f = h5py.File(path_load, \"r\") # Load for Sanity Check. See below!\n",
    "print(\"Loaded %i variants\" % np.shape(f[\"calldata/GT\"])[0])\n",
    "print(\"Loaded %i individuals\" % np.shape(f[\"calldata/GT\"])[1])\n",
    "print(list(f[\"calldata\"].keys()))\n",
    "print(list(f[\"variants\"].keys()))"
   ]
  },
  {
   "cell_type": "code",
   "execution_count": 6,
   "metadata": {},
   "outputs": [
    {
     "data": {
      "text/plain": [
       "array([ True, False, False, False, False, False, False, False, False,\n",
       "       False, False, False, False, False, False, False, False, False,\n",
       "       False, False, False, False, False, False, False, False, False,\n",
       "       False, False, False, False, False, False, False, False, False,\n",
       "       False, False, False, False, False, False, False, False, False,\n",
       "       False, False, False, False, False, False, False, False, False,\n",
       "       False, False, False, False, False, False, False, False, False,\n",
       "       False, False, False, False, False, False, False, False, False,\n",
       "       False, False, False, False, False, False, False, False, False,\n",
       "       False, False, False, False, False, False, False, False, False,\n",
       "       False, False, False, False, False, False, False, False, False,\n",
       "       False])"
      ]
     },
     "execution_count": 6,
     "metadata": {},
     "output_type": "execute_result"
    }
   ],
   "source": [
    "f[\"samples\"][:].astype(\"str\")==\"iid0\""
   ]
  },
  {
   "cell_type": "markdown",
   "metadata": {},
   "source": [
    "# Test loading the new hdf5 file"
   ]
  },
  {
   "cell_type": "code",
   "execution_count": 6,
   "metadata": {},
   "outputs": [
    {
     "name": "stdout",
     "output_type": "stream",
     "text": [
      "Loaded 1690781 variants\n",
      "Loaded 2504 individuals\n",
      "['GT']\n",
      "['ALT', 'MAP', 'POS', 'REF']\n"
     ]
    }
   ],
   "source": [
    "### Test the Final HDF5 just created\n",
    "ch = 4\n",
    "path_load = f\"./Data/1000Genomes/HDF5/FULLHDF5/maf02_chr{ch}.hdf5\"\n",
    "\n",
    "f = h5py.File(path_load, \"r\") # Load for Sanity Check. See below!\n",
    "print(\"Loaded %i variants\" % np.shape(f[\"calldata/GT\"])[0])\n",
    "print(\"Loaded %i individuals\" % np.shape(f[\"calldata/GT\"])[1])\n",
    "print(list(f[\"calldata\"].keys()))\n",
    "print(list(f[\"variants\"].keys()))"
   ]
  },
  {
   "cell_type": "code",
   "execution_count": 7,
   "metadata": {},
   "outputs": [],
   "source": [
    "f.close()"
   ]
  },
  {
   "cell_type": "markdown",
   "metadata": {},
   "source": [
    "# Do experiments about loading time of data"
   ]
  },
  {
   "cell_type": "code",
   "execution_count": 52,
   "metadata": {},
   "outputs": [],
   "source": [
    "from time import time"
   ]
  },
  {
   "cell_type": "code",
   "execution_count": null,
   "metadata": {},
   "outputs": [],
   "source": [
    "%%time\n",
    "res = []\n",
    "s = np.shape(f[\"calldata/GT\"])\n",
    "ts = [10,50,100,500,1000, 5000, 10000, 50000, 100000]\n",
    "\n",
    "for i in ts:\n",
    "    print(f\"Doing {i} Loci\")\n",
    "    t = time() \n",
    "    idx = np.random.choice(s[0], size=i, replace=False)\n",
    "    idx=  np.sort(idx)\n",
    "    gt = f[\"calldata/GT\"][idx,:,:]\n",
    "    e = time()\n",
    "    res.append(e-t)"
   ]
  },
  {
   "cell_type": "markdown",
   "metadata": {},
   "source": [
    "# Allele Frequency Spectrum"
   ]
  },
  {
   "cell_type": "code",
   "execution_count": null,
   "metadata": {},
   "outputs": [],
   "source": [
    "%%time\n",
    "gt = f[\"calldata/GT\"][:,:,:]\n",
    "gt1 = np.sum(gt==0, axis=1)\n",
    "gt2 = np.sum(gt1, axis=1)\n",
    "p_der = 1 - gt2/(np.shape(gt)[1]*2)"
   ]
  },
  {
   "cell_type": "code",
   "execution_count": null,
   "metadata": {},
   "outputs": [],
   "source": [
    "np.mean(p_der < 0.002)"
   ]
  },
  {
   "cell_type": "code",
   "execution_count": 21,
   "metadata": {},
   "outputs": [],
   "source": [
    "f.close()"
   ]
  },
  {
   "cell_type": "code",
   "execution_count": 12,
   "metadata": {},
   "outputs": [
    {
     "data": {
      "image/png": "[encoded data removed]",
      "text/plain": [
       "<Figure size 432x288 with 1 Axes>"
      ]
     },
     "metadata": {
      "needs_background": "light"
     },
     "output_type": "display_data"
    }
   ],
   "source": [
    "bins = np.linspace(0,1,201)\n",
    "\n",
    "plt.figure()\n",
    "ax = plt.gca()\n",
    "ax.hist(p_der, ec=\"k\", bins=bins)\n",
    "plt.show()"
   ]
  },
  {
   "cell_type": "code",
   "execution_count": 15,
   "metadata": {},
   "outputs": [
    {
     "data": {
      "text/plain": [
       "0.69748"
      ]
     },
     "execution_count": 15,
     "metadata": {},
     "output_type": "execute_result"
    }
   ],
   "source": [
    "np.mean(p_der < 0.002)"
   ]
  },
  {
   "cell_type": "code",
   "execution_count": 45,
   "metadata": {},
   "outputs": [],
   "source": [
    "f.close()"
   ]
  },
  {
   "cell_type": "markdown",
   "metadata": {},
   "source": [
    "### Plot the runtime curve for loading time of #random SNPs"
   ]
  },
  {
   "cell_type": "code",
   "execution_count": 65,
   "metadata": {},
   "outputs": [
    {
     "data": {
      "image/png": "[encoded data removed]",
      "text/plain": [
       "<Figure size 432x288 with 1 Axes>"
      ]
     },
     "metadata": {
      "needs_background": "light"
     },
     "output_type": "display_data"
    }
   ],
   "source": [
    "plt.figure()\n",
    "ax = plt.gca()\n",
    "ax.plot(ts, res, \"o-\")\n",
    "ax.set_xlabel(\"SNPs [#]\")\n",
    "ax.set_ylabel(\"Runtime [s]\")\n",
    "plt.show()"
   ]
  },
  {
   "cell_type": "code",
   "execution_count": 38,
   "metadata": {},
   "outputs": [
    {
     "data": {
      "text/plain": [
       "(100, 2504, 2)"
      ]
     },
     "execution_count": 38,
     "metadata": {},
     "output_type": "execute_result"
    }
   ],
   "source": [
    "gt = f[\"calldata/GT\"][idx,:,:]"
   ]
  },
  {
   "cell_type": "code",
   "execution_count": 72,
   "metadata": {},
   "outputs": [
    {
     "name": "stdout",
     "output_type": "stream",
     "text": [
      "CPU times: user 1min 2s, sys: 13.1 s, total: 1min 15s\n",
      "Wall time: 1min 15s\n"
     ]
    }
   ],
   "source": [
    "%%time\n",
    "gt = f[\"calldata/GT\"][:,:,:]"
   ]
  },
  {
   "cell_type": "code",
   "execution_count": 10,
   "metadata": {},
   "outputs": [
    {
     "data": {
      "text/plain": [
       "dtype('int8')"
      ]
     },
     "execution_count": 10,
     "metadata": {},
     "output_type": "execute_result"
    }
   ],
   "source": [
    "gt[0].dtype"
   ]
  },
  {
   "cell_type": "code",
   "execution_count": null,
   "metadata": {},
   "outputs": [],
   "source": [
    "print(f\"Doing {i} Loci\")"
   ]
  },
  {
   "cell_type": "code",
   "execution_count": 2,
   "metadata": {},
   "outputs": [
    {
     "name": "stdout",
     "output_type": "stream",
     "text": [
      "5.535064697265625\n",
      "62.49126052856445\n"
     ]
    }
   ],
   "source": [
    "import psutil\n",
    "print(psutil.virtual_memory().used / (1024.0 ** 3))\n",
    "print(psutil.virtual_memory().total / (1024.0 ** 3))"
   ]
  },
  {
   "cell_type": "markdown",
   "metadata": {},
   "source": [
    "### Try loading 1e6 genotypes - check how much data is needed"
   ]
  },
  {
   "cell_type": "code",
   "execution_count": 8,
   "metadata": {},
   "outputs": [],
   "source": [
    "a = 1"
   ]
  },
  {
   "cell_type": "code",
   "execution_count": 9,
   "metadata": {},
   "outputs": [
    {
     "name": "stdout",
     "output_type": "stream",
     "text": [
      "5.534832000732422\n",
      "62.49126052856445\n"
     ]
    }
   ],
   "source": [
    "print(psutil.virtual_memory().used / (1024.0 ** 3))\n",
    "print(psutil.virtual_memory().total / (1024.0 ** 3))"
   ]
  },
  {
   "cell_type": "code",
   "execution_count": 8,
   "metadata": {},
   "outputs": [
    {
     "name": "stdout",
     "output_type": "stream",
     "text": [
      "CPU times: user 19.1 s, sys: 1.26 s, total: 20.4 s\n",
      "Wall time: 20.4 s\n"
     ]
    }
   ],
   "source": [
    "%%time\n",
    "gt = f[\"calldata/GT\"][:1000000,:,1]"
   ]
  },
  {
   "cell_type": "code",
   "execution_count": 14,
   "metadata": {},
   "outputs": [
    {
     "name": "stdout",
     "output_type": "stream",
     "text": [
      "10.221786499023438\n",
      "62.49126052856445\n"
     ]
    }
   ],
   "source": [
    "print(psutil.virtual_memory().used / (1024.0 ** 3))\n",
    "print(psutil.virtual_memory().total / (1024.0 ** 3))"
   ]
  },
  {
   "cell_type": "markdown",
   "metadata": {},
   "source": [
    "# The chunked HDF5 [Legacy because too slow]"
   ]
  },
  {
   "cell_type": "code",
   "execution_count": 17,
   "metadata": {},
   "outputs": [
    {
     "name": "stdout",
     "output_type": "stream",
     "text": [
      "Loaded 5732585 variants\n",
      "Loaded 2504 individuals\n",
      "['GT']\n",
      "['ALT', 'CHROM', 'FILTER_PASS', 'ID', 'MAP', 'POS', 'QUAL', 'REF']\n"
     ]
    }
   ],
   "source": [
    "### Test the Final HDF5 just created\n",
    "ch = 4\n",
    "path_load = f\"./Data/1000Genomes/HDF5/FULLHDF5/chr{ch}_chunk.hdf5\"\n",
    "\n",
    "f = h5py.File(path_load, \"r\") # Load for Sanity Check. See below!\n",
    "print(\"Loaded %i variants\" % np.shape(f[\"calldata/GT\"])[0])\n",
    "print(\"Loaded %i individuals\" % np.shape(f[\"calldata/GT\"])[1])\n",
    "print(list(f[\"calldata\"].keys()))\n",
    "print(list(f[\"variants\"].keys()))"
   ]
  },
  {
   "cell_type": "markdown",
   "metadata": {},
   "source": [
    "# Test Imputed Genetic Map"
   ]
  },
  {
   "cell_type": "code",
   "execution_count": 14,
   "metadata": {},
   "outputs": [
    {
     "data": {
      "image/png": "[encoded data removed]",
      "text/plain": [
       "<Figure size 432x432 with 1 Axes>"
      ]
     },
     "metadata": {
      "needs_background": "light"
     },
     "output_type": "display_data"
    }
   ],
   "source": [
    "plt.figure(figsize=(6,6))\n",
    "ax = plt.gca()\n",
    "\n",
    "ax.plot(f[\"variants/POS\"][:], f[\"variants/MAP\"][:], lw=2)\n",
    "ax.set_xlabel(\"Position\")\n",
    "ax.set_ylabel(\"Morgan\")\n",
    "plt.show()"
   ]
  },
  {
   "cell_type": "code",
   "execution_count": 10,
   "metadata": {},
   "outputs": [
    {
     "data": {
      "text/plain": [
       "(5732585, 2504, 2)"
      ]
     },
     "execution_count": 10,
     "metadata": {},
     "output_type": "execute_result"
    }
   ],
   "source": [
    "np.shape(f[\"calldata/GT\"])"
   ]
  },
  {
   "cell_type": "code",
   "execution_count": 7,
   "metadata": {},
   "outputs": [
    {
     "data": {
      "text/plain": [
       "array([0, 0, 0, 0, 0, 0, 0, 0, 0, 0, 0, 0, 0, 0, 0, 0, 0, 0, 0, 0, 0, 0,\n",
       "       0, 0, 0, 0, 0, 0, 0, 0, 0, 0, 0, 0, 1, 0, 0, 0, 0, 0, 0, 0, 0, 0,\n",
       "       0, 0, 0, 0, 0, 0, 0, 0, 0, 0, 0, 0, 0, 0, 0, 0, 0, 0, 0, 0, 0, 0,\n",
       "       0, 0, 0, 0, 0, 0, 0, 0, 0, 0, 0, 0, 0, 0, 0, 0, 0, 0, 0, 0, 0, 0,\n",
       "       0, 0, 0, 0, 0, 0, 0, 0, 0, 0, 0, 0], dtype=int8)"
      ]
     },
     "execution_count": 7,
     "metadata": {},
     "output_type": "execute_result"
    }
   ],
   "source": [
    "f[\"calldata/GT\"][:100,0,0]."
   ]
  },
  {
   "cell_type": "code",
   "execution_count": 11,
   "metadata": {},
   "outputs": [],
   "source": [
    "f.close()"
   ]
  },
  {
   "cell_type": "markdown",
   "metadata": {},
   "source": [
    "## Sandbox"
   ]
  },
  {
   "cell_type": "code",
   "execution_count": null,
   "metadata": {},
   "outputs": [],
   "source": [
    "### Code to change hdf5 gt to int9\n",
    "%%time\n",
    "\n",
    "out_folder = \"./Data/1000Genomes/HDF5/1240kHDF5/all1240bool0/chr\"\n",
    "\n",
    "def create_int_h5(org_folder = \"./Data/1000Genomes/HDF5/FULLHDF5/chr\",\n",
    "                  out_folder = \"./Data/1000Genomes/HDF5/FULLHDF5.int8/chr\",\n",
    "                  ch=4):\n",
    "    \"\"\"Create a int8 genotype hdf5 from full hdf5\"\"\"\n",
    "    load_path = org_folder + str(ch) + \".h5\"\n",
    "    save_path = out_folder + str(ch) + \".h5\" \n",
    "\n",
    "    # Make Directory if not already there\n",
    "    if not os.path.exists(os.path.dirname(save_path)):   \n",
    "        os.makedirs(os.path.dirname(save_path))\n",
    "\n",
    "    #os.remove(save_path)  # For previous whoopsie\n",
    "    m = ModifyHDF5Genotypes(original_path=load_path, save_path=save_path)\n",
    "    m.downsample_gt(frac=1.0, ad=False, mult_alt=True, gt_type=\"int8\")"
   ]
  }
 ],
 "metadata": {
  "kernelspec": {
   "display_name": "Python 3",
   "language": "python",
   "name": "python3"
  },
  "language_info": {
   "codemirror_mode": {
    "name": "ipython",
    "version": 3
   },
   "file_extension": ".py",
   "mimetype": "text/x-python",
   "name": "python",
   "nbconvert_exporter": "python",
   "pygments_lexer": "ipython3",
   "version": "3.7.6"
  }
 },
 "nbformat": 4,
 "nbformat_minor": 4
}
