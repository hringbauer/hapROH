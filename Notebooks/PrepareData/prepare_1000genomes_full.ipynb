{
 "cells": [
  {
   "cell_type": "markdown",
   "metadata": {},
   "source": [
    "# Prepare 1000 Genome Reference dataset with full data\n",
    "WARNING: NEEDS 60GB OF RAM\n",
    "\n",
    "UPDATED September 21 to include saving of the X chromosome"
   ]
  },
  {
   "cell_type": "code",
   "execution_count": 46,
   "metadata": {},
   "outputs": [
    {
     "name": "stdout",
     "output_type": "stream",
     "text": [
      "midway2-0006.rcc.local\n",
      "Midway jnovmbre partition detected.\n",
      "/project2/jnovembre/hringbauer/HAPSBURG\n",
      "CPU Count: 28\n"
     ]
    }
   ],
   "source": [
    "import allel\n",
    "import h5py  # Python Package to do the HDF5.\n",
    "import numpy as np\n",
    "import pandas as pd\n",
    "import socket\n",
    "import os as os\n",
    "import sys as sys\n",
    "import multiprocessing as mp\n",
    "import matplotlib.pyplot as plt\n",
    "\n",
    "socket_name = socket.gethostname()\n",
    "print(socket_name)\n",
    "if socket_name == \"VioletQueen\":\n",
    "    path = \"/home/harald/git/HAPSBURG/\"   # The Path on Harald's machine\n",
    "elif socket_name.startswith(\"midway2\"):\n",
    "    print(\"Midway jnovmbre partition detected.\")\n",
    "    path = \"/project2/jnovembre/hringbauer/HAPSBURG/\"  # The Path on Midway Cluster\n",
    "else: \n",
    "    raise RuntimeWarning(\"Not compatible machine. Check!!\")\n",
    "    \n",
    "os.chdir(path)  # Set the right Path (in line with Atom default)\n",
    "#sys.path.append(\"./Python3/\")  # Since now we are in the Root Directory\n",
    "\n",
    "print(os.getcwd()) # Show the current working directory. Should be HAPSBURG/Notebooks/ParallelRuns\n",
    "print(f\"CPU Count: {mp.cpu_count()}\")\n",
    "\n",
    "sys.path.insert(0,\"./package/\")  # hack to get local package first in path\n",
    "from hapsburg.PackagesSupport.h5_python.h5_functions import merge_in_ld_map, save_data_h5"
   ]
  },
  {
   "cell_type": "markdown",
   "metadata": {},
   "source": [
    "### Helper Function"
   ]
  },
  {
   "cell_type": "code",
   "execution_count": 47,
   "metadata": {},
   "outputs": [],
   "source": [
    "def filter_vcf_to_biallelic(in_path, out_path):\n",
    "    \"\"\"Filters .vcf File to biallelic SNPs\"\"\"\n",
    "    !bcftools view -Oz -o $out_path -m2 -M2 -v snps $in_path \n",
    "    print(\"Finished BCF tools filtering to biallelic variants.\")\n",
    "\n",
    "def vcf_to_hdf5(in_path, out_path, path_vcf100g=\"\"):\n",
    "    \"\"\"Transform Full VCF to full HDF5\"\"\"\n",
    "    allel.vcf_to_hdf5(input=in_path, output=out_path, compression=\"gzip\") \n",
    "    # Takes 10 Minutes ####chunk_length=1000000, chunk_width=1, garbage performance\n",
    "    \n",
    "def download_1kg(path_source=\"\", path_target=\"\"):\n",
    "    \"\"\"cluster: Whether program is run on cluster\"\"\"\n",
    "    tbi_s = path_source + \".tbi\"\n",
    "    tbi_t = path_target + \".tbi\"\n",
    "    \n",
    "    !scp $path_source $path_target # Only Download the .vcf (not the .tbi)\n",
    "    !scp $tbi_s $tbi_t             # Download the tbi\n",
    "    print(f\"Transfer complete. To {path_target}\")\n",
    "    \n",
    "def downsample_af(path_h5, path_save, maf=0.002, batch=1000000):\n",
    "    \"\"\"Loads hdf5 at path_h5, and filters to loci >maf.\n",
    "    Save h5 at path_save. Assumes everything is in standard format\"\"\"\n",
    "\n",
    "    f = h5py.File(path_h5, \"r\") # Load for Sanity Check. See below!\n",
    "\n",
    "    ### Calculate the AFs\n",
    "    k = np.shape(f[\"calldata/GT\"])[0]\n",
    "    \n",
    "    idcs = [] # the list of list of idx in each batch\n",
    "    ### Work in batches\n",
    "    for i in range(int(k/batch)+1):\n",
    "        print(f\"Doing batch {i}...\")\n",
    "        gt = f[\"calldata/GT\"][i*batch:(i+1)*batch,:,:]  \n",
    "        assert(np.min(gt)==0) # Sanity Check for old data\n",
    "        assert(np.max(gt)==1) # Sanity Check for old data\n",
    "        n = np.shape(gt)[1]*2 # number of haplotypes\n",
    "        gt = np.sum(gt==0, axis=1)\n",
    "        gt = np.sum(gt, axis=1)\n",
    "        p_der = 1 - gt/n\n",
    "        idx = p_der > maf # Filter\n",
    "        idcs.append(idx)\n",
    "        \n",
    "    idx = np.concatenate(idcs)\n",
    "    print(f\"Downsampling to {np.sum(idx)}/{len(idx)} Markers with MAF >{maf}\")\n",
    "\n",
    "    gt = f[\"calldata/GT\"][:,:,:][idx] # Extract the Ind\n",
    "    assert(np.min(gt)==0) # Sanity Check for new data\n",
    "    assert(np.max(gt)==1) # Sanity Check for new data\n",
    "    \n",
    "    ref=f[\"variants/REF\"][:][idx]\n",
    "    if len(np.shape(f[\"variants/ALT\"]))>1:\n",
    "        alt=f[\"variants/ALT\"][:][idx,0] # only save the first alt allele\n",
    "    else:\n",
    "        alt=f[\"variants/ALT\"][:][idx]\n",
    "        \n",
    "    pos=f[\"variants/POS\"][:][idx]\n",
    "    rec=f[\"variants/MAP\"][:][idx]\n",
    "    samples=f[\"samples\"][:]\n",
    "    f.close()\n",
    "    \n",
    "    print(\"Saving new HDF...\")\n",
    "    save_data_h5(gt=gt, ad=[],\n",
    "                 ref=ref, alt=alt,\n",
    "                 pos=pos, rec=rec,\n",
    "                 samples=samples,\n",
    "                 path=path_save,\n",
    "                 compression='gzip',\n",
    "                 ad_group=False, gt_type='int8')"
   ]
  },
  {
   "cell_type": "markdown",
   "metadata": {},
   "source": [
    "### Master Function"
   ]
  },
  {
   "cell_type": "code",
   "execution_count": 51,
   "metadata": {},
   "outputs": [],
   "source": [
    "def full_prep_h5_full(ch = 4, maf=0.002):\n",
    "    \"\"\"Function to run the full preparation of HDF from 1000G VCF. \n",
    "    Comment out steps if not needed.\"\"\"\n",
    "    ### The Paths\n",
    "    path_vcf_source = f\"/project2/jnovembre/data/external_public/1kg_phase3/haps/ALL.chr{ch}.phase3_shapeit2_mvncall_integrated_v5a.20130502.genotypes.vcf.gz\"\n",
    "    path_vcf_here = f\"./Data/1000Genomes/AutosomeVCF/Full/chr{ch}.vcf.gz\"\n",
    "    path_vcf_filter = f\"./Data/1000Genomes/AutosomeVCF/Full/chr{ch}.biallelic.vcf.gz\"\n",
    "    path_h5 = f\"./Data/1000Genomes/HDF5/FULLHDF5/chr{ch}.hdf5\"\n",
    "    path_h5_maf = f\"./Data/1000Genomes/HDF5/FULLHDF5/maf05_chr{ch}.hdf5\"\n",
    "    path_snp1240k = \"./Data/1000Genomes/Markers/MinMyc.snp\"\n",
    "    \n",
    "    ### The functions of the pipeline\n",
    "    download_1kg(path_vcf_source, path_vcf_here)  ## Takes about 20 seconds\n",
    "    filter_vcf_to_biallelic(path_vcf_here, path_vcf_filter) ### Takes about XX seconds\n",
    "    vcf_to_hdf5(path_vcf_filter, path_h5)            ## Takes about 20 minutes\n",
    "    merge_in_ld_map(path_h5=path_h5, path_snp1240k=path_snp1240k, chs=[ch,], write_mode=\"a\")  ## Takes about XX seconds, mode a for new LD Map\n",
    "    downsample_af(path_h5, path_h5_maf, maf=maf)\n",
    "    \n",
    "    print(f\"Run Finished Successfully!\")"
   ]
  },
  {
   "cell_type": "markdown",
   "metadata": {},
   "source": [
    "# Do the full Run"
   ]
  },
  {
   "cell_type": "code",
   "execution_count": 52,
   "metadata": {},
   "outputs": [
    {
     "name": "stdout",
     "output_type": "stream",
     "text": [
      "Transfer complete. To ./Data/1000Genomes/AutosomeVCF/Full/chr20.vcf.gz\n",
      "Finished BCF tools filtering to biallelic variants.\n",
      "Lifting LD Map from eigenstrat to HDF5...\n",
      "Loaded 1739315 variants.\n",
      "Loaded 2504 individuals.\n",
      "Loaded 30377 Chr.20 1240K SNPs.\n",
      "Intersection 29078 out of 1739315 HDF5 SNPs\n",
      "Interpolating 1710237 variants.\n",
      "Finished Chromosome 20.\n",
      "Adding map to HDF5...\n",
      "We did it. Finished.\n",
      "Doing batch 0...\n",
      "Doing batch 1...\n",
      "Downsampling to 154419/1739315 Markers with MAF >0.05\n",
      "Saving new HDF...\n",
      "Successfully saved 2504 individuals to: ./Data/1000Genomes/HDF5/FULLHDF5/maf02_chr20.hdf5\n",
      "Run Finished Successfully!\n",
      "CPU times: user 7min 48s, sys: 22.4 s, total: 8min 11s\n",
      "Wall time: 15min 44s\n"
     ]
    }
   ],
   "source": [
    "%%time\n",
    "for ch in range(20,21):\n",
    "    full_prep_h5_full(ch = ch, maf=0.05)"
   ]
  },
  {
   "cell_type": "markdown",
   "metadata": {},
   "source": [
    "# Standalone Code for specific tasks"
   ]
  },
  {
   "cell_type": "markdown",
   "metadata": {},
   "source": [
    "### Downsample to AF SNPs\n",
    "Start from already downsampled file (for better gains)"
   ]
  },
  {
   "cell_type": "code",
   "execution_count": 7,
   "metadata": {},
   "outputs": [
    {
     "name": "stdout",
     "output_type": "stream",
     "text": [
      "Doing batch 0...\n",
      "Doing batch 1...\n",
      "Downsampling to 639105/1840756 Markers with MAF >0.05\n",
      "Saving new HDF...\n",
      "Successfully saved 2504 individuals to: ./Data/1000Genomes/HDF5/FULLHDF5/maf5_chr1.hdf5\n",
      "CPU times: user 5min 19s, sys: 15.9 s, total: 5min 35s\n",
      "Wall time: 5min 36s\n"
     ]
    }
   ],
   "source": [
    "%%time\n",
    "\n",
    "ch=1\n",
    "path_h5 = f\"./Data/1000Genomes/HDF5/FULLHDF5/maf02_chr{ch}.hdf5\"\n",
    "path_h5_maf = f\"./Data/1000Genomes/HDF5/FULLHDF5/maf5_chr{ch}.hdf5\"\n",
    "\n",
    "\n",
    "downsample_af(path_h5, path_h5_maf, maf=maf)"
   ]
  },
  {
   "cell_type": "code",
   "execution_count": 8,
   "metadata": {},
   "outputs": [
    {
     "name": "stdout",
     "output_type": "stream",
     "text": [
      "Running Chromosome 2\n",
      "Doing batch 0...\n",
      "Doing batch 1...\n",
      "Downsampling to 678281/1978023 Markers with MAF >0.05\n",
      "Saving new HDF...\n",
      "Successfully saved 2504 individuals to: ./Data/1000Genomes/HDF5/FULLHDF5/maf5_chr2.hdf5\n",
      "Running Chromosome 3\n",
      "Doing batch 0...\n",
      "Doing batch 1...\n",
      "Downsampling to 584832/1660264 Markers with MAF >0.05\n",
      "Saving new HDF...\n",
      "Successfully saved 2504 individuals to: ./Data/1000Genomes/HDF5/FULLHDF5/maf5_chr3.hdf5\n",
      "Running Chromosome 4\n",
      "Doing batch 0...\n",
      "Doing batch 1...\n",
      "Downsampling to 605578/1690781 Markers with MAF >0.05\n",
      "Saving new HDF...\n",
      "Successfully saved 2504 individuals to: ./Data/1000Genomes/HDF5/FULLHDF5/maf5_chr4.hdf5\n",
      "Running Chromosome 5\n",
      "Doing batch 0...\n",
      "Doing batch 1...\n",
      "Downsampling to 509422/1500704 Markers with MAF >0.05\n",
      "Saving new HDF...\n",
      "Successfully saved 2504 individuals to: ./Data/1000Genomes/HDF5/FULLHDF5/maf5_chr5.hdf5\n",
      "Running Chromosome 6\n",
      "Doing batch 0...\n",
      "Doing batch 1...\n",
      "Downsampling to 547121/1505863 Markers with MAF >0.05\n",
      "Saving new HDF...\n",
      "Successfully saved 2504 individuals to: ./Data/1000Genomes/HDF5/FULLHDF5/maf5_chr6.hdf5\n",
      "Running Chromosome 7\n",
      "Doing batch 0...\n",
      "Doing batch 1...\n",
      "Downsampling to 481806/1374467 Markers with MAF >0.05\n",
      "Saving new HDF...\n",
      "Successfully saved 2504 individuals to: ./Data/1000Genomes/HDF5/FULLHDF5/maf5_chr7.hdf5\n",
      "Running Chromosome 8\n",
      "Doing batch 0...\n",
      "Doing batch 1...\n",
      "Downsampling to 445761/1302022 Markers with MAF >0.05\n",
      "Saving new HDF...\n",
      "Successfully saved 2504 individuals to: ./Data/1000Genomes/HDF5/FULLHDF5/maf5_chr8.hdf5\n",
      "Running Chromosome 9\n",
      "Doing batch 0...\n",
      "Doing batch 1...\n",
      "Downsampling to 355302/1016267 Markers with MAF >0.05\n",
      "Saving new HDF...\n",
      "Successfully saved 2504 individuals to: ./Data/1000Genomes/HDF5/FULLHDF5/maf5_chr9.hdf5\n",
      "Running Chromosome 10\n",
      "Doing batch 0...\n",
      "Doing batch 1...\n",
      "Downsampling to 417950/1168444 Markers with MAF >0.05\n",
      "Saving new HDF...\n",
      "Successfully saved 2504 individuals to: ./Data/1000Genomes/HDF5/FULLHDF5/maf5_chr10.hdf5\n",
      "Running Chromosome 11\n",
      "Doing batch 0...\n",
      "Doing batch 1...\n",
      "Downsampling to 406394/1153635 Markers with MAF >0.05\n",
      "Saving new HDF...\n",
      "Successfully saved 2504 individuals to: ./Data/1000Genomes/HDF5/FULLHDF5/maf5_chr11.hdf5\n",
      "Running Chromosome 12\n",
      "Doing batch 0...\n",
      "Doing batch 1...\n",
      "Downsampling to 394877/1119685 Markers with MAF >0.05\n",
      "Saving new HDF...\n",
      "Successfully saved 2504 individuals to: ./Data/1000Genomes/HDF5/FULLHDF5/maf5_chr12.hdf5\n",
      "Running Chromosome 13\n",
      "Doing batch 0...\n",
      "Downsampling to 303802/838232 Markers with MAF >0.05\n",
      "Saving new HDF...\n",
      "Successfully saved 2504 individuals to: ./Data/1000Genomes/HDF5/FULLHDF5/maf5_chr13.hdf5\n",
      "Running Chromosome 14\n",
      "Doing batch 0...\n",
      "Downsampling to 268738/763401 Markers with MAF >0.05\n",
      "Saving new HDF...\n",
      "Successfully saved 2504 individuals to: ./Data/1000Genomes/HDF5/FULLHDF5/maf5_chr14.hdf5\n",
      "Running Chromosome 15\n",
      "Doing batch 0...\n",
      "Downsampling to 242067/693517 Markers with MAF >0.05\n",
      "Saving new HDF...\n",
      "Successfully saved 2504 individuals to: ./Data/1000Genomes/HDF5/FULLHDF5/maf5_chr15.hdf5\n",
      "Running Chromosome 16\n",
      "Doing batch 0...\n",
      "Downsampling to 255633/743347 Markers with MAF >0.05\n",
      "Saving new HDF...\n",
      "Successfully saved 2504 individuals to: ./Data/1000Genomes/HDF5/FULLHDF5/maf5_chr16.hdf5\n",
      "Running Chromosome 17\n",
      "Doing batch 0...\n",
      "Downsampling to 226862/649781 Markers with MAF >0.05\n",
      "Saving new HDF...\n",
      "Successfully saved 2504 individuals to: ./Data/1000Genomes/HDF5/FULLHDF5/maf5_chr17.hdf5\n",
      "Running Chromosome 18\n",
      "Doing batch 0...\n",
      "Downsampling to 235051/657816 Markers with MAF >0.05\n",
      "Saving new HDF...\n",
      "Successfully saved 2504 individuals to: ./Data/1000Genomes/HDF5/FULLHDF5/maf5_chr18.hdf5\n",
      "Running Chromosome 19\n",
      "Doing batch 0...\n",
      "Downsampling to 195294/539128 Markers with MAF >0.05\n",
      "Saving new HDF...\n",
      "Successfully saved 2504 individuals to: ./Data/1000Genomes/HDF5/FULLHDF5/maf5_chr19.hdf5\n",
      "Running Chromosome 20\n",
      "Doing batch 0...\n",
      "Downsampling to 177300/514022 Markers with MAF >0.05\n",
      "Saving new HDF...\n",
      "Successfully saved 2504 individuals to: ./Data/1000Genomes/HDF5/FULLHDF5/maf5_chr20.hdf5\n",
      "Running Chromosome 21\n",
      "Doing batch 0...\n",
      "Downsampling to 121109/328351 Markers with MAF >0.05\n",
      "Saving new HDF...\n",
      "Successfully saved 2504 individuals to: ./Data/1000Genomes/HDF5/FULLHDF5/maf5_chr21.hdf5\n",
      "Running Chromosome 22\n",
      "Doing batch 0...\n",
      "Downsampling to 115236/325158 Markers with MAF >0.05\n",
      "Saving new HDF...\n",
      "Successfully saved 2504 individuals to: ./Data/1000Genomes/HDF5/FULLHDF5/maf5_chr22.hdf5\n"
     ]
    }
   ],
   "source": [
    "for ch in range(2,23):\n",
    "    path_h5 = f\"./Data/1000Genomes/HDF5/FULLHDF5/maf02_chr{ch}.hdf5\"\n",
    "    path_h5_maf = f\"./Data/1000Genomes/HDF5/FULLHDF5/maf5_chr{ch}.hdf5\"\n",
    "\n",
    "    print(f\"Running Chromosome {ch}\")\n",
    "    downsample_af(path_h5, path_h5_maf, maf=0.05)"
   ]
  },
  {
   "cell_type": "code",
   "execution_count": null,
   "metadata": {},
   "outputs": [],
   "source": []
  },
  {
   "cell_type": "markdown",
   "metadata": {},
   "source": [
    "# Area 51"
   ]
  },
  {
   "cell_type": "code",
   "execution_count": 2,
   "metadata": {},
   "outputs": [
    {
     "name": "stdout",
     "output_type": "stream",
     "text": [
      "Loaded 77652 variants\n",
      "Loaded 100 individuals\n",
      "['AD', 'GT']\n",
      "['ALT', 'MAP', 'POS', 'REF']\n"
     ]
    }
   ],
   "source": [
    "### Test the Final HDF5 just created\n",
    "ch = 3\n",
    "path_load = f\"./Simulated/1000G_Mosaic/TSI5/ch3_0cm/data.h5\"\n",
    "\n",
    "f = h5py.File(path_load, \"r\") # Load for Sanity Check. See below!\n",
    "print(\"Loaded %i variants\" % np.shape(f[\"calldata/GT\"])[0])\n",
    "print(\"Loaded %i individuals\" % np.shape(f[\"calldata/GT\"])[1])\n",
    "print(list(f[\"calldata\"].keys()))\n",
    "print(list(f[\"variants\"].keys()))"
   ]
  },
  {
   "cell_type": "code",
   "execution_count": 6,
   "metadata": {},
   "outputs": [
    {
     "data": {
      "text/plain": [
       "array([ True, False, False, False, False, False, False, False, False,\n",
       "       False, False, False, False, False, False, False, False, False,\n",
       "       False, False, False, False, False, False, False, False, False,\n",
       "       False, False, False, False, False, False, False, False, False,\n",
       "       False, False, False, False, False, False, False, False, False,\n",
       "       False, False, False, False, False, False, False, False, False,\n",
       "       False, False, False, False, False, False, False, False, False,\n",
       "       False, False, False, False, False, False, False, False, False,\n",
       "       False, False, False, False, False, False, False, False, False,\n",
       "       False, False, False, False, False, False, False, False, False,\n",
       "       False, False, False, False, False, False, False, False, False,\n",
       "       False])"
      ]
     },
     "execution_count": 6,
     "metadata": {},
     "output_type": "execute_result"
    }
   ],
   "source": [
    "f[\"samples\"][:].astype(\"str\")==\"iid0\""
   ]
  },
  {
   "cell_type": "markdown",
   "metadata": {},
   "source": [
    "# Test loading the new hdf5 file"
   ]
  },
  {
   "cell_type": "code",
   "execution_count": 71,
   "metadata": {},
   "outputs": [],
   "source": [
    "ch=21\n",
    "path_h5_maf = f\"./Data/1000Genomes/HDF5/FULLHDF5/maf5_chr{ch}.hdf5\"\n",
    "#path_h5_maf = f\"./Data/1000Genomes/HDF5/FULLHDF5/maf5_chr{ch}.hdf5\""
   ]
  },
  {
   "cell_type": "code",
   "execution_count": 77,
   "metadata": {},
   "outputs": [
    {
     "name": "stdout",
     "output_type": "stream",
     "text": [
      "Loaded 100164 variants\n",
      "Loaded 2504 individuals\n",
      "['GT']\n",
      "['ALT', 'MAP', 'POS', 'REF']\n"
     ]
    }
   ],
   "source": [
    "### Test the Final HDF5 just created\n",
    "\n",
    "f = h5py.File(path_h5_maf, \"r\") # Load for Sanity Check. See below!\n",
    "print(\"Loaded %i variants\" % np.shape(f[\"calldata/GT\"])[0])\n",
    "print(\"Loaded %i individuals\" % np.shape(f[\"calldata/GT\"])[1])\n",
    "print(list(f[\"calldata\"].keys()))\n",
    "print(list(f[\"variants\"].keys()))"
   ]
  },
  {
   "cell_type": "code",
   "execution_count": 80,
   "metadata": {},
   "outputs": [],
   "source": [
    "gt = f[\"calldata/GT\"]"
   ]
  },
  {
   "cell_type": "code",
   "execution_count": 81,
   "metadata": {},
   "outputs": [
    {
     "data": {
      "text/plain": [
       "1"
      ]
     },
     "execution_count": 81,
     "metadata": {},
     "output_type": "execute_result"
    }
   ],
   "source": [
    "np.max(gt[:,:,:])"
   ]
  },
  {
   "cell_type": "code",
   "execution_count": 82,
   "metadata": {},
   "outputs": [
    {
     "data": {
      "text/plain": [
       "0"
      ]
     },
     "execution_count": 82,
     "metadata": {},
     "output_type": "execute_result"
    }
   ],
   "source": [
    "np.min(gt[:,:,:])"
   ]
  },
  {
   "cell_type": "markdown",
   "metadata": {},
   "source": [
    "# Do experiments about loading time of data"
   ]
  },
  {
   "cell_type": "code",
   "execution_count": 52,
   "metadata": {},
   "outputs": [],
   "source": [
    "from time import time"
   ]
  },
  {
   "cell_type": "code",
   "execution_count": null,
   "metadata": {},
   "outputs": [],
   "source": [
    "%%time\n",
    "res = []\n",
    "s = np.shape(f[\"calldata/GT\"])\n",
    "ts = [10,50,100,500,1000, 5000, 10000, 50000, 100000]\n",
    "\n",
    "for i in ts:\n",
    "    print(f\"Doing {i} Loci\")\n",
    "    t = time() \n",
    "    idx = np.random.choice(s[0], size=i, replace=False)\n",
    "    idx=  np.sort(idx)\n",
    "    gt = f[\"calldata/GT\"][idx,:,:]\n",
    "    e = time()\n",
    "    res.append(e-t)"
   ]
  },
  {
   "cell_type": "markdown",
   "metadata": {},
   "source": [
    "# Allele Frequency Spectrum"
   ]
  },
  {
   "cell_type": "code",
   "execution_count": 73,
   "metadata": {},
   "outputs": [
    {
     "name": "stdout",
     "output_type": "stream",
     "text": [
      "CPU times: user 8.89 s, sys: 559 ms, total: 9.45 s\n",
      "Wall time: 9.69 s\n"
     ]
    }
   ],
   "source": [
    "%%time\n",
    "gt = f[\"calldata/GT\"][:,:,:]\n",
    "gt1 = np.sum(gt==0, axis=1)\n",
    "gt2 = np.sum(gt1, axis=1)\n",
    "p_der = 1 - gt2/(np.shape(gt)[1]*2)"
   ]
  },
  {
   "cell_type": "code",
   "execution_count": 74,
   "metadata": {},
   "outputs": [
    {
     "data": {
      "text/plain": [
       "0.02882273072161655"
      ]
     },
     "execution_count": 74,
     "metadata": {},
     "output_type": "execute_result"
    }
   ],
   "source": [
    "np.mean(p_der < 0.055)"
   ]
  },
  {
   "cell_type": "code",
   "execution_count": 75,
   "metadata": {},
   "outputs": [],
   "source": [
    "f.close()"
   ]
  },
  {
   "cell_type": "code",
   "execution_count": 76,
   "metadata": {},
   "outputs": [
    {
     "data": {
      "image/png": "[encoded data removed]",
      "text/plain": [
       "<Figure size 432x288 with 1 Axes>"
      ]
     },
     "metadata": {
      "needs_background": "light"
     },
     "output_type": "display_data"
    }
   ],
   "source": [
    "bins = np.linspace(0,1,201)\n",
    "\n",
    "plt.figure()\n",
    "ax = plt.gca()\n",
    "ax.hist(p_der, ec=\"k\", bins=bins)\n",
    "plt.show()"
   ]
  },
  {
   "cell_type": "code",
   "execution_count": 15,
   "metadata": {},
   "outputs": [
    {
     "data": {
      "text/plain": [
       "0.69748"
      ]
     },
     "execution_count": 15,
     "metadata": {},
     "output_type": "execute_result"
    }
   ],
   "source": [
    "np.mean(p_der < 0.002)"
   ]
  },
  {
   "cell_type": "code",
   "execution_count": 45,
   "metadata": {},
   "outputs": [],
   "source": [
    "f.close()"
   ]
  },
  {
   "cell_type": "markdown",
   "metadata": {},
   "source": [
    "### Plot the runtime curve for loading time of #random SNPs"
   ]
  },
  {
   "cell_type": "code",
   "execution_count": 65,
   "metadata": {},
   "outputs": [
    {
     "data": {
      "image/png": "[encoded data removed]",
      "text/plain": [
       "<Figure size 432x288 with 1 Axes>"
      ]
     },
     "metadata": {
      "needs_background": "light"
     },
     "output_type": "display_data"
    }
   ],
   "source": [
    "plt.figure()\n",
    "ax = plt.gca()\n",
    "ax.plot(ts, res, \"o-\")\n",
    "ax.set_xlabel(\"SNPs [#]\")\n",
    "ax.set_ylabel(\"Runtime [s]\")\n",
    "plt.show()"
   ]
  },
  {
   "cell_type": "code",
   "execution_count": 38,
   "metadata": {},
   "outputs": [
    {
     "data": {
      "text/plain": [
       "(100, 2504, 2)"
      ]
     },
     "execution_count": 38,
     "metadata": {},
     "output_type": "execute_result"
    }
   ],
   "source": [
    "gt = f[\"calldata/GT\"][idx,:,:]"
   ]
  },
  {
   "cell_type": "code",
   "execution_count": 72,
   "metadata": {},
   "outputs": [
    {
     "name": "stdout",
     "output_type": "stream",
     "text": [
      "CPU times: user 1min 2s, sys: 13.1 s, total: 1min 15s\n",
      "Wall time: 1min 15s\n"
     ]
    }
   ],
   "source": [
    "%%time\n",
    "gt = f[\"calldata/GT\"][:,:,:]"
   ]
  },
  {
   "cell_type": "code",
   "execution_count": 10,
   "metadata": {},
   "outputs": [
    {
     "data": {
      "text/plain": [
       "dtype('int8')"
      ]
     },
     "execution_count": 10,
     "metadata": {},
     "output_type": "execute_result"
    }
   ],
   "source": [
    "gt[0].dtype"
   ]
  },
  {
   "cell_type": "code",
   "execution_count": null,
   "metadata": {},
   "outputs": [],
   "source": [
    "print(f\"Doing {i} Loci\")"
   ]
  },
  {
   "cell_type": "code",
   "execution_count": 2,
   "metadata": {},
   "outputs": [
    {
     "name": "stdout",
     "output_type": "stream",
     "text": [
      "5.535064697265625\n",
      "62.49126052856445\n"
     ]
    }
   ],
   "source": [
    "import psutil\n",
    "print(psutil.virtual_memory().used / (1024.0 ** 3))\n",
    "print(psutil.virtual_memory().total / (1024.0 ** 3))"
   ]
  },
  {
   "cell_type": "markdown",
   "metadata": {},
   "source": [
    "### Try loading 1e6 genotypes - check how much data is needed"
   ]
  },
  {
   "cell_type": "code",
   "execution_count": 8,
   "metadata": {},
   "outputs": [],
   "source": [
    "a = 1"
   ]
  },
  {
   "cell_type": "code",
   "execution_count": 9,
   "metadata": {},
   "outputs": [
    {
     "name": "stdout",
     "output_type": "stream",
     "text": [
      "5.534832000732422\n",
      "62.49126052856445\n"
     ]
    }
   ],
   "source": [
    "print(psutil.virtual_memory().used / (1024.0 ** 3))\n",
    "print(psutil.virtual_memory().total / (1024.0 ** 3))"
   ]
  },
  {
   "cell_type": "code",
   "execution_count": 8,
   "metadata": {},
   "outputs": [
    {
     "name": "stdout",
     "output_type": "stream",
     "text": [
      "CPU times: user 19.1 s, sys: 1.26 s, total: 20.4 s\n",
      "Wall time: 20.4 s\n"
     ]
    }
   ],
   "source": [
    "%%time\n",
    "gt = f[\"calldata/GT\"][:1000000,:,1]"
   ]
  },
  {
   "cell_type": "code",
   "execution_count": 14,
   "metadata": {},
   "outputs": [
    {
     "name": "stdout",
     "output_type": "stream",
     "text": [
      "10.221786499023438\n",
      "62.49126052856445\n"
     ]
    }
   ],
   "source": [
    "print(psutil.virtual_memory().used / (1024.0 ** 3))\n",
    "print(psutil.virtual_memory().total / (1024.0 ** 3))"
   ]
  },
  {
   "cell_type": "markdown",
   "metadata": {},
   "source": [
    "# The chunked HDF5 [Legacy because too slow]"
   ]
  },
  {
   "cell_type": "code",
   "execution_count": 17,
   "metadata": {},
   "outputs": [
    {
     "name": "stdout",
     "output_type": "stream",
     "text": [
      "Loaded 5732585 variants\n",
      "Loaded 2504 individuals\n",
      "['GT']\n",
      "['ALT', 'CHROM', 'FILTER_PASS', 'ID', 'MAP', 'POS', 'QUAL', 'REF']\n"
     ]
    }
   ],
   "source": [
    "### Test the Final HDF5 just created\n",
    "ch = 4\n",
    "path_load = f\"./Data/1000Genomes/HDF5/FULLHDF5/chr{ch}_chunk.hdf5\"\n",
    "\n",
    "f = h5py.File(path_load, \"r\") # Load for Sanity Check. See below!\n",
    "print(\"Loaded %i variants\" % np.shape(f[\"calldata/GT\"])[0])\n",
    "print(\"Loaded %i individuals\" % np.shape(f[\"calldata/GT\"])[1])\n",
    "print(list(f[\"calldata\"].keys()))\n",
    "print(list(f[\"variants\"].keys()))"
   ]
  },
  {
   "cell_type": "markdown",
   "metadata": {},
   "source": [
    "# Test Imputed Genetic Map"
   ]
  },
  {
   "cell_type": "code",
   "execution_count": 14,
   "metadata": {},
   "outputs": [
    {
     "data": {
      "image/png": "[encoded data removed]",
      "text/plain": [
       "<Figure size 432x432 with 1 Axes>"
      ]
     },
     "metadata": {
      "needs_background": "light"
     },
     "output_type": "display_data"
    }
   ],
   "source": [
    "plt.figure(figsize=(6,6))\n",
    "ax = plt.gca()\n",
    "\n",
    "ax.plot(f[\"variants/POS\"][:], f[\"variants/MAP\"][:], lw=2)\n",
    "ax.set_xlabel(\"Position\")\n",
    "ax.set_ylabel(\"Morgan\")\n",
    "plt.show()"
   ]
  },
  {
   "cell_type": "code",
   "execution_count": 10,
   "metadata": {},
   "outputs": [
    {
     "data": {
      "text/plain": [
       "(5732585, 2504, 2)"
      ]
     },
     "execution_count": 10,
     "metadata": {},
     "output_type": "execute_result"
    }
   ],
   "source": [
    "np.shape(f[\"calldata/GT\"])"
   ]
  },
  {
   "cell_type": "code",
   "execution_count": 7,
   "metadata": {},
   "outputs": [
    {
     "data": {
      "text/plain": [
       "array([0, 0, 0, 0, 0, 0, 0, 0, 0, 0, 0, 0, 0, 0, 0, 0, 0, 0, 0, 0, 0, 0,\n",
       "       0, 0, 0, 0, 0, 0, 0, 0, 0, 0, 0, 0, 1, 0, 0, 0, 0, 0, 0, 0, 0, 0,\n",
       "       0, 0, 0, 0, 0, 0, 0, 0, 0, 0, 0, 0, 0, 0, 0, 0, 0, 0, 0, 0, 0, 0,\n",
       "       0, 0, 0, 0, 0, 0, 0, 0, 0, 0, 0, 0, 0, 0, 0, 0, 0, 0, 0, 0, 0, 0,\n",
       "       0, 0, 0, 0, 0, 0, 0, 0, 0, 0, 0, 0], dtype=int8)"
      ]
     },
     "execution_count": 7,
     "metadata": {},
     "output_type": "execute_result"
    }
   ],
   "source": [
    "f[\"calldata/GT\"][:100,0,0]."
   ]
  },
  {
   "cell_type": "code",
   "execution_count": 11,
   "metadata": {},
   "outputs": [],
   "source": [
    "f.close()"
   ]
  },
  {
   "cell_type": "markdown",
   "metadata": {},
   "source": [
    "## Sandbox"
   ]
  },
  {
   "cell_type": "code",
   "execution_count": null,
   "metadata": {},
   "outputs": [],
   "source": [
    "### Code to change hdf5 gt to int9\n",
    "%%time\n",
    "\n",
    "out_folder = \"./Data/1000Genomes/HDF5/1240kHDF5/all1240bool0/chr\"\n",
    "\n",
    "def create_int_h5(org_folder = \"./Data/1000Genomes/HDF5/FULLHDF5/chr\",\n",
    "                  out_folder = \"./Data/1000Genomes/HDF5/FULLHDF5.int8/chr\",\n",
    "                  ch=4):\n",
    "    \"\"\"Create a int8 genotype hdf5 from full hdf5\"\"\"\n",
    "    load_path = org_folder + str(ch) + \".h5\"\n",
    "    save_path = out_folder + str(ch) + \".h5\" \n",
    "\n",
    "    # Make Directory if not already there\n",
    "    if not os.path.exists(os.path.dirname(save_path)):   \n",
    "        os.makedirs(os.path.dirname(save_path))\n",
    "\n",
    "    #os.remove(save_path)  # For previous whoopsie\n",
    "    m = ModifyHDF5Genotypes(original_path=load_path, save_path=save_path)\n",
    "    m.downsample_gt(frac=1.0, ad=False, mult_alt=True, gt_type=\"int8\")"
   ]
  }
 ],
 "metadata": {
  "kernelspec": {
   "display_name": "Python 3",
   "language": "python",
   "name": "python3"
  },
  "language_info": {
   "codemirror_mode": {
    "name": "ipython",
    "version": 3
   },
   "file_extension": ".py",
   "mimetype": "text/x-python",
   "name": "python",
   "nbconvert_exporter": "python",
   "pygments_lexer": "ipython3",
   "version": "3.7.6"
  }
 },
 "nbformat": 4,
 "nbformat_minor": 4
}
