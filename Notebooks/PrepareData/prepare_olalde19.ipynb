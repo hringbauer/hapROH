{
 "cells": [
  {
   "cell_type": "markdown",
   "metadata": {},
   "source": [
    "Prepare Metadata and check Eigenstrat from Olalde 19"
   ]
  },
  {
   "cell_type": "code",
   "execution_count": 1,
   "metadata": {},
   "outputs": [
    {
     "name": "stdout",
     "output_type": "stream",
     "text": [
      "midway2-0401.rcc.local\n",
      "Midway jnovmbre partition detected.\n",
      "/project2/jnovembre/hringbauer/HAPSBURG\n",
      "CPU Count: 28\n"
     ]
    }
   ],
   "source": [
    "import pandas as pd\n",
    "import numpy as np\n",
    "import matplotlib.pyplot as plt\n",
    "import matplotlib.cm as cm\n",
    "from matplotlib import gridspec\n",
    "import socket\n",
    "import os as os\n",
    "import sys as sys\n",
    "import multiprocessing as mp\n",
    "import matplotlib.colors as cls\n",
    "from mpl_toolkits.basemap import Basemap\n",
    "from matplotlib.patches import Polygon\n",
    "from matplotlib.collections import PatchCollection\n",
    "\n",
    "socket_name = socket.gethostname()\n",
    "print(socket_name)\n",
    "if socket_name == \"VioletQueen\":\n",
    "    path = \"/home/harald/git/HAPSBURG/\"   # The Path on Harald's machine\n",
    "elif socket_name.startswith(\"midway2\"):\n",
    "    print(\"Midway jnovmbre partition detected.\")\n",
    "    path = \"/project2/jnovembre/hringbauer/HAPSBURG/\"  # The Path on Midway Cluster\n",
    "else: \n",
    "    raise RuntimeWarning(\"Not compatible machine. Check!!\")\n",
    "\n",
    "os.chdir(path)  # Set the right Path (in line with Atom default)\n",
    "print(os.getcwd()) # Show the current working directory. Should be HAPSBURG/Notebooks/ParallelRuns\n",
    "print(f\"CPU Count: {mp.cpu_count()}\")\n",
    "\n",
    "### To load Eigenstrat  \n",
    "sys.path.append(\"./PackagesSupport/loadEigenstrat/\")  # Since now we are in the Root Directory\n",
    "from loadEigenstrat import EigenstratLoad"
   ]
  },
  {
   "cell_type": "markdown",
   "metadata": {},
   "source": [
    "# Prepare Meta\n",
    "Only extract raws that are actually in Eigenstrat"
   ]
  },
  {
   "cell_type": "code",
   "execution_count": 11,
   "metadata": {},
   "outputs": [],
   "source": [
    "def process_olalde_meta(path_meta_raw = \"./Data/Olalde19/meta_raw.csv\", \n",
    "                        path_es = \"./Data/Olalde19/Olalde_et_al_genotypes\",\n",
    "                        save_path = \"./Data/Olalde19/meta_processed.csv\", bp=True):\n",
    "    \"\"\"path_meta_raw: Where to find raw Meta\n",
    "    path_es: Wherre to find 3 Eigenstrat files (base path before .ind)\n",
    "    save_path: Where to save the new Meta to\"\"\"\n",
    "    df_raw = pd.read_csv(path_meta_raw, sep=\"\\t\")\n",
    "    print(f\"Loaded {len(df_raw)} Individuals from {path_meta_raw}\")\n",
    "\n",
    "    rename_dict = {\"Ind ID (_d, only sequences with aDNA damage were used for analysis)\":\"iid\",\n",
    "                  \"Date (Direct radiocarbon date on the individual calibrated at 2 sigma or date range based on the archaeological context)\":\"age_range\",\n",
    "                   \"Latitude\":\"lat\", \"Longitude\":\"lon\",\n",
    "                   \"Pop name (NE_Iberia, northeast Iberia; SE_Iberia, southeast Iberia; NW_Iberia, northwest Iberia; SW_Iberia, southwest Iberia; N_Iberia, northern Iberia; C_Iberia, central Iberia; E_Iberia, eastern Iberia; Meso, Mesolithic; EN, Early Neolithic; MLN, Middle-Late Neolithic; CA, Copper Age; Stp, steppe ancestry; Afr, African ancestry; BA, Bronze Age; IA, Iron Age; Hel, Hellenistic; RomP, Roman Period; c.; century; .SG, shotgun data; out, genetic outlier)\":\"clst\",\n",
    "                   'Autosomal SNPs covered':\"n_cov_snp\"\n",
    "                  }\n",
    "\n",
    "    df_raw.rename(columns=rename_dict, inplace=True)\n",
    "    df_raw[\"study\"]=\"Olalde2019\"\n",
    "    df_raw[\"include_alt\"] = (df_raw[\"Include in genome-wide analyses\"] == \"Yes\")\n",
    "    df_raw[\"mean_cov\"]=df_raw[\"n_cov_snp\"]/1.2e6\n",
    "    df_raw[\"age\"]=np.nan ### Implement this\n",
    "    df_full = df_raw[[\"iid\", \"lat\", \"lon\", \"age\", \"age_range\", \"study\", \"clst\", \"mean_cov\", \"n_cov_snp\", \"include_alt\"]]\n",
    "            \n",
    "    ### Extract only raws in Eigenstrat\n",
    "    df_full = extract_only_eigenstrat(df_full, path_es = path_es)  \n",
    "    \n",
    "    df_full=modifiy_age_olalde(df_full, bp=bp) # Modify Age\n",
    "    \n",
    "    df_full = fix_coordinates_iberia(df_full)  # Fix samples that are not where they should be\n",
    "    \n",
    "    ### Save Dataframe\n",
    "    if len(save_path)> 0:\n",
    "        df_full.to_csv(save_path, index=None)  # sep='\\t' would not work with downstream analysis\n",
    "        print(f\"Saved {len(df_full)} Individuals to {save_path}\")\n",
    "    return df_full\n",
    "\n",
    "def extract_only_eigenstrat(df, path_es):\n",
    "    \"\"\"Extract only raws of df that are found in .ind file at path_es\n",
    "    df: Dataframe with iid column. path_es: Eigenstrat basepath\"\"\"\n",
    "    es_load = EigenstratLoad(base_path=path_es)\n",
    "    df_ind = es_load.df_ind  # Get the Individual List\n",
    "    idx = df[\"iid\"].isin(df_ind[\"iid\"])\n",
    "    print(f\"Found {np.sum(idx)}/{len(df_ind)} Individuals of Eigenstrat\")\n",
    "    df_found = df[idx]\n",
    "    return df_found\n",
    "\n",
    "def modifiy_age_olalde(df, bp=True):\n",
    "    \"\"\"Modify dataframe with age_range column.\n",
    "    Process it and add age column\"\"\"\n",
    "    age = df[\"age_range\"]\n",
    "    bce = age.str.contains(\"BCE\")  # Whether BCE\n",
    "    age = age.str.replace(\" - \", \"-\")\n",
    "    age = df[\"age_range\"].str.replace(\"–\", \"-\")\n",
    "    age = age.str.split(r\"\\s+\")\n",
    "    \n",
    "    num_age = age.str[0].str.split(\"-\")\n",
    "    mean_age = (num_age.str[0].astype(\"float\") + num_age.str[1].astype(\"float\"))/2.0\n",
    "    mean_age[~bce] =  mean_age[~bce] * (-1) # Flip Age for not BCE\n",
    "    df[\"age\"] = mean_age + bp*1950\n",
    "    return df\n",
    "\n",
    "def fix_coordinates_iberia(df):\n",
    "    \"\"\"Fix coordinates that are not where they are supposed to be\n",
    "    Modifies dataframe df with lat / lon field\"\"\"\n",
    "    idx = df[\"lon\"]>8 ### Definitely not in Iberia\n",
    "    iids = df[\"iid\"][idx].values\n",
    "    print(f\"Fixing {np.sum(idx)} samples with Longitude too big: {iids}\")\n",
    "    df.loc[idx,\"lon\"] = -df.loc[idx,\"lon\"]\n",
    "    return df"
   ]
  },
  {
   "cell_type": "code",
   "execution_count": 12,
   "metadata": {},
   "outputs": [
    {
     "name": "stdout",
     "output_type": "stream",
     "text": [
      "Loaded 403 Individuals from ./Data/Olalde19/meta_raw.csv\n",
      "3 Eigenstrat Files with 278 Individuals and 1233013 SNPs\n",
      "Found 278/278 Individuals of Eigenstrat\n",
      "Fixing 2 samples with Longitude too big: ['I11614' 'I11592']\n",
      "Saved 278 Individuals to ./Data/Olalde19/meta_processed.csv\n",
      "CPU times: user 8.08 s, sys: 361 ms, total: 8.44 s\n",
      "Wall time: 8.44 s\n"
     ]
    }
   ],
   "source": [
    "%%time\n",
    "df_full = process_olalde_meta(path_meta_raw = \"./Data/Olalde19/meta_raw.csv\",\n",
    "                              path_es = \"./Data/Olalde19/Olalde_et_al_genotypes\",\n",
    "                              save_path = \"./Data/Olalde19/meta_processed.csv\")"
   ]
  },
  {
   "cell_type": "markdown",
   "metadata": {},
   "source": [
    "# Check Eigenstrat"
   ]
  },
  {
   "cell_type": "code",
   "execution_count": 9,
   "metadata": {},
   "outputs": [
    {
     "name": "stdout",
     "output_type": "stream",
     "text": [
      "3 Eigenstrat Files with 278 Individuals and 1233013 SNPs\n"
     ]
    }
   ],
   "source": [
    "es_load = EigenstratLoad(base_path=\"./Data/Olalde19/Olalde_et_al_genotypes\")"
   ]
  },
  {
   "cell_type": "markdown",
   "metadata": {},
   "source": [
    "# Area 51\n",
    "test code here"
   ]
  },
  {
   "cell_type": "code",
   "execution_count": 6,
   "metadata": {},
   "outputs": [],
   "source": [
    "## Identify the two samples that need being flipped"
   ]
  },
  {
   "cell_type": "code",
   "execution_count": 44,
   "metadata": {},
   "outputs": [
    {
     "data": {
      "image/png": "[encoded data removed]",
      "text/plain": [
       "<Figure size 432x288 with 1 Axes>"
      ]
     },
     "metadata": {
      "needs_background": "light"
     },
     "output_type": "display_data"
    }
   ],
   "source": [
    "plt.figure()\n",
    "plt.hist(df_full[\"n_cov_snp\"], bins=50)\n",
    "plt.title(\"Coverage 1240k SNPs\")\n",
    "plt.xlabel(\"SNPs covered\")\n",
    "plt.ylabel(\"Count\")\n",
    "plt.show()"
   ]
  }
 ],
 "metadata": {
  "kernelspec": {
   "display_name": "Python 3",
   "language": "python",
   "name": "python3"
  },
  "language_info": {
   "codemirror_mode": {
    "name": "ipython",
    "version": 3
   },
   "file_extension": ".py",
   "mimetype": "text/x-python",
   "name": "python",
   "nbconvert_exporter": "python",
   "pygments_lexer": "ipython3",
   "version": "3.7.0"
  }
 },
 "nbformat": 4,
 "nbformat_minor": 2
}
