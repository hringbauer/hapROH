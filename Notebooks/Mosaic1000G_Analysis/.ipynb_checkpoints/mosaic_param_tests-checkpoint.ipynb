{
 "cells": [
  {
   "cell_type": "markdown",
   "metadata": {},
   "source": [
    "# Notebook to test Parameters of conducted HAPSBURG runs"
   ]
  },
  {
   "cell_type": "code",
   "execution_count": 11,
   "metadata": {},
   "outputs": [
    {
     "name": "stdout",
     "output_type": "stream",
     "text": [
      "midway2-0402.rcc.local\n",
      "Midway jnovmbre partition detected.\n",
      "/project2/jnovembre/hringbauer/HAPSBURG\n",
      "CPU Count: 28\n"
     ]
    }
   ],
   "source": [
    "import pandas as pd\n",
    "import numpy as np\n",
    "import matplotlib.pyplot as plt\n",
    "import matplotlib.cm as cm\n",
    "from matplotlib import gridspec\n",
    "import socket\n",
    "import os as os\n",
    "import sys as sys\n",
    "import multiprocessing as mp\n",
    "from matplotlib import rcParams\n",
    "import shutil as shutil\n",
    "\n",
    "rcParams['font.family'] = 'sans-serif'   # Set the defaul\n",
    "rcParams['font.sans-serif'] = ['Arial']  # Make sure to have the font installed (it is on cluster for Harald)\n",
    "\n",
    "socket_name = socket.gethostname()\n",
    "print(socket_name)\n",
    "if socket_name == \"VioletQueen\":\n",
    "    path = \"/home/harald/git/HAPSBURG/\"   # The Path on Harald's machine\n",
    "elif socket_name.startswith(\"midway2\"):\n",
    "    print(\"Midway jnovmbre partition detected.\")\n",
    "    path = \"/project2/jnovembre/hringbauer/HAPSBURG/\"  # The Path on Midway Cluster\n",
    "else: \n",
    "    raise RuntimeWarning(\"Not compatible machine. Check!!\")\n",
    "    \n",
    "os.chdir(path)  # Set the right Path (in line with Atom default)\n",
    "\n",
    "sys.path.append(\"./Notebooks/Mosaic1000G_Analysis/mosaic_test/\")  # Assume we are in Hapsburg Root Directory\n",
    "sys.path.append(\"./package/hapsburg/\")  # Assume we are in Hapsburg Root Directory\n",
    "\n",
    "#from hmm_inference import HMM_Analyze   # Do not move. Should be after sys.path..\n",
    "from load_funcs import Summary_ROH_Calls, Summary_ROH_Calls_Error, statistics_power_df, calc_power, give_SE, false_power_statistics\n",
    "from plot_funcs import plot_power, plot_fp_distribution\n",
    "from PackagesSupport.pp_individual_roh_csvs import merge_called_blocks\n",
    "\n",
    "print(os.getcwd()) # Show the current working directory. Should be HAPSBURG/Notebooks/ParallelRuns\n",
    "print(f\"CPU Count: {mp.cpu_count()}\")"
   ]
  },
  {
   "cell_type": "markdown",
   "metadata": {},
   "source": [
    "# Test Statistics of replicate runs (of single copy length)\n",
    "See  \n",
    "https://docs.google.com/spreadsheets/d/1QhajP9yk6hzMoIiBzyriSARWuOWnBLei78ZOKS7QMUE/edit?usp=sharing  \n",
    "for tabulation of results"
   ]
  },
  {
   "cell_type": "markdown",
   "metadata": {},
   "source": [
    "### Report Parameters for a single Replicate\n",
    "(Before February 2020 everything run with that and 2020"
   ]
  },
  {
   "cell_type": "code",
   "execution_count": 20,
   "metadata": {},
   "outputs": [
    {
     "name": "stdout",
     "output_type": "stream",
     "text": [
      "40 unique Individuals\n",
      "200 / 200 Blocks called\n",
      "196 Blocks called > 80.0 %\n",
      "4.0418 average Block Length cM (called)\n",
      "Standard Error: 0.3749\n",
      "False Positives:\n",
      "Total Nr Simulated: 0\n",
      "Total Nr Called: 64\n"
     ]
    }
   ],
   "source": [
    "mosaic_folder = \"./Simulated/1000G_Mosaic/TSI5/\"\n",
    "output_prefix =  \"merged/\"\n",
    "n_iid = 40\n",
    "blen_cm = 4\n",
    "\n",
    "roh = Summary_ROH_Calls(mosaic_folder=mosaic_folder, ch=3, nr_iid = n_iid, \n",
    "                        blen_cm = blen_cm, output_prefix = output_prefix)\n",
    "\n",
    "df_calls = roh.collect_power_df()\n",
    "statistics_power_df(df_calls)\n",
    "calc_power(df_calls)\n",
    "se = give_SE(df_calls)\n",
    "print(f\"Standard Error: {se:.4f}\")\n",
    "\n",
    "roh = Summary_ROH_Calls(mosaic_folder = mosaic_folder, ch=3, nr_iid = n_iid, blen_cm = 0, \n",
    "                        output_prefix = output_prefix, output=True)\n",
    "print(\"False Positives:\")\n",
    "df_calls = roh.collect_power_df()"
   ]
  },
  {
   "cell_type": "markdown",
   "metadata": {},
   "source": [
    "### Plot Distribution of FP"
   ]
  },
  {
   "cell_type": "code",
   "execution_count": 23,
   "metadata": {},
   "outputs": [
    {
     "name": "stdout",
     "output_type": "stream",
     "text": [
      "Found 119 FP blocks\n",
      "Average Block length: 0.0134 cM\n",
      "Maximum Block length: 0.0366 cM\n"
     ]
    },
    {
     "data": {
      "image/png": "[encoded data removed]",
      "text/plain": [
       "<Figure size 216x216 with 1 Axes>"
      ]
     },
     "metadata": {
      "needs_background": "light"
     },
     "output_type": "display_data"
    }
   ],
   "source": [
    "roh = Summary_ROH_Calls(mosaic_folder=\"./Simulated/1000G_Mosaic/TSI6/\", ch=3, nr_iid = 50, \n",
    "                        blen_cm = 0, output_prefix = \"merged/\")\n",
    "df_call_fp = roh.collect_fp_df()\n",
    "false_power_statistics(df_call_fp)  # Do give some written statistics\n",
    "\n",
    "plot_fp_distribution(df_call_fp, title = \"100 Mosaic TSI Samples - Reference: 1000G Eur / TSI\",\n",
    "                    figsize=(3,3))"
   ]
  },
  {
   "cell_type": "code",
   "execution_count": 20,
   "metadata": {},
   "outputs": [
    {
     "name": "stdout",
     "output_type": "stream",
     "text": [
      "Found 64 FP blocks\n",
      "Average Block length: 0.0123 cM\n",
      "Maximum Block length: 0.0211 cM\n"
     ]
    },
    {
     "data": {
      "image/png": "[encoded data removed]",
      "text/plain": [
       "<Figure size 432x216 with 1 Axes>"
      ]
     },
     "metadata": {
      "needs_background": "light"
     },
     "output_type": "display_data"
    }
   ],
   "source": [
    "roh = Summary_ROH_Calls(mosaic_folder=\"./Simulated/1000G_Mosaic/TSI5/\", ch=3, nr_iid = 40, \n",
    "                        blen_cm = 0, output_prefix = \"0999/\")\n",
    "df_call_fp = roh.collect_fp_df()\n",
    "false_power_statistics(df_call_fp)  # Do give some written statistics\n",
    "plot_fp_distribution(df_call_fp, title = \"100 Mosaic TSI Samples - Reference: 1000G Eur / TSI\",\n",
    "                    figsize=(6,3))"
   ]
  },
  {
   "cell_type": "markdown",
   "metadata": {},
   "source": [
    "# Plot bias/power/se/fp rate"
   ]
  },
  {
   "cell_type": "code",
   "execution_count": 15,
   "metadata": {},
   "outputs": [],
   "source": [
    "def load_line_search(cutoffs=[], mosaic_folder = \"./Simulated/1000G_Mosaic/TSI6/\",\n",
    "                    ch=3, nr_iid=20, blen_cm=4, min_overlap=0.8, savepath=\"\"):\n",
    "    \"\"\"Load Line and Return Line Search Statistics\n",
    "    for posterior\"\"\"\n",
    "    \n",
    "    pfixes = [str(c).replace(\".\", \"\") + \"/\" for c in cutoffs]\n",
    "    n = len(pfixes)\n",
    "    sts = np.zeros(n, dtype=\"float\")\n",
    "    fps = np.zeros(n, dtype=\"float\")\n",
    "    fps2 = np.zeros(n, dtype=\"float\")\n",
    "    power = np.zeros(n, dtype=\"float\")\n",
    "    bias = np.zeros(n, dtype=\"float\")\n",
    "    \n",
    "    for i,p in enumerate(pfixes):\n",
    "        output_prefix= pfixes[i]\n",
    "        roh = Summary_ROH_Calls(mosaic_folder=mosaic_folder, ch=ch, nr_iid = nr_iid, blen_cm = blen_cm, \n",
    "                                output_prefix = output_prefix)\n",
    "\n",
    "        df_calls = roh.collect_power_df()\n",
    "        bias[i] = np.mean(df_calls[\"CalledLength\"] - df_calls[\"OriginalLength\"])\n",
    "        power[i] = np.mean(df_calls[\"OverlapFrac\"] > min_overlap)\n",
    "        calc_power(df_calls)\n",
    "        sts[i] = give_SE(df_calls)\n",
    "        roh = Summary_ROH_Calls(mosaic_folder = mosaic_folder, ch=3, nr_iid = nr_iid, blen_cm = 0, \n",
    "                                output_prefix = output_prefix, output=False)\n",
    "        df_call_fp = roh.collect_fp_df()\n",
    "        fps[i] = len(df_call_fp)/nr_iid\n",
    "        fps2[i] = np.sum(df_call_fp[\"lengthM\"]>0.02)/nr_iid\n",
    "        \n",
    "    ### Put into 1 Dataframe\n",
    "    df = pd.DataFrame({\"Posterior Cutoff\":cutoffs, \"Replicates\":nr_iid, \"STD. Length Called 4cM\":sts, \n",
    "                       \"False Positive ROH>1cM / Chr. 3\":fps,\n",
    "                       \"False Positive ROH>2cM / Chr. 3\": fps2,\n",
    "                       \"Avg. Length Bias 4 cM [cM]\":bias, \"Fraction of 80% of 4 cM Block detected\":power})\n",
    "    \n",
    "    if len(savepath)>0:\n",
    "        df.to_csv(savepath, index=False)\n",
    "        print(f\"Saved Output Table to {savepath}\")\n",
    "    return df\n",
    "\n",
    "\n",
    "def merge_blocks_simulations(mosaic_folder = \"./Simulated/1000G_Mosaic/TSI6/\",\n",
    "                             max_gap=0.05, min_len1=0.02, min_len2=0.02,\n",
    "                             blens=[4], iids=[0], copy_gt = True,\n",
    "                             output_prefix=\"0999/\", output_prefix1=\"merged/\"):\n",
    "    \"\"\"Merges Gaps from Simulated ROH Blocks. Loop over IIDs and save with new prefix\n",
    "    output_prefix: Prefix of output to load\n",
    "    output_prefix1: Prefix to save merged gaps to\"\"\"\n",
    "    for iid in iids:\n",
    "        for blen in blens:\n",
    "            path1 = mosaic_folder + \"ch3_\" + str(blen) + \"cm/output/iid\"+str(iid)+\"/chr3/\"\n",
    "            load_path = path1 + output_prefix + \"roh.csv\"        \n",
    "            save_path =  path1 + output_prefix1 + \"roh.csv\"\n",
    "\n",
    "            df = pd.read_csv(load_path)\n",
    "            df1 = merge_called_blocks(df, max_gap=max_gap, min_len1=min_len1, min_len2=min_len2)\n",
    "            \n",
    "            if not os.path.exists(os.path.dirname(save_path)):\n",
    "                os.makedirs(os.path.dirname(save_path))\n",
    "            df1.to_csv(save_path, index=False)\n",
    "            \n",
    "            ### Copy ground truth\n",
    "            if copy_gt:\n",
    "                shutil.copy(path1 + output_prefix + \"roh_gt.csv\", path1 + output_prefix1 + \"roh_gt.csv\")"
   ]
  },
  {
   "cell_type": "markdown",
   "metadata": {},
   "source": [
    "### The worst case [0.5x PH, 1% error]"
   ]
  },
  {
   "cell_type": "code",
   "execution_count": 7,
   "metadata": {},
   "outputs": [
    {
     "name": "stdout",
     "output_type": "stream",
     "text": [
      "Saved Output Table to ./TablesOut/var_post_cutoff.csv\n"
     ]
    }
   ],
   "source": [
    "#cutoffs = [0.9, 0.99, 0.992, 0.994, 0.996, 0.998, 0.999, 0.9999, 0.99999]\n",
    "#cutoffs = [0.99, 0.992, 0.994, 0.996, 0.998]\n",
    "cutoffs = [0.996, 0.997, 0.998, 0.999]\n",
    "df = load_line_search(cutoffs, mosaic_folder = \"./Simulated/1000G_Mosaic/TSI6/\",\n",
    "                      ch=3, nr_iid=100, blen_cm=4, min_overlap=0.8,\n",
    "                      savepath = \"./TablesOut/var_post_cutoff.csv\")"
   ]
  },
  {
   "cell_type": "code",
   "execution_count": 8,
   "metadata": {},
   "outputs": [
    {
     "data": {
      "text/html": [
       "<div>\n",
       "<style scoped>\n",
       "    .dataframe tbody tr th:only-of-type {\n",
       "        vertical-align: middle;\n",
       "    }\n",
       "\n",
       "    .dataframe tbody tr th {\n",
       "        vertical-align: top;\n",
       "    }\n",
       "\n",
       "    .dataframe thead th {\n",
       "        text-align: right;\n",
       "    }\n",
       "</style>\n",
       "<table border=\"1\" class=\"dataframe\">\n",
       "  <thead>\n",
       "    <tr style=\"text-align: right;\">\n",
       "      <th></th>\n",
       "      <th>Posterior Cutoff</th>\n",
       "      <th>Replicates</th>\n",
       "      <th>STD. Length Called 4cM</th>\n",
       "      <th>False Positive ROH&gt;1cM / Chr. 3</th>\n",
       "      <th>False Positive ROH&gt;2cM / Chr. 3</th>\n",
       "      <th>Avg. Length Bias 4 cM [cM]</th>\n",
       "      <th>Fraction of 80% of 4 cM Block detected</th>\n",
       "    </tr>\n",
       "  </thead>\n",
       "  <tbody>\n",
       "    <tr>\n",
       "      <th>0</th>\n",
       "      <td>0.996</td>\n",
       "      <td>100</td>\n",
       "      <td>0.614047</td>\n",
       "      <td>5.39</td>\n",
       "      <td>0.47</td>\n",
       "      <td>0.063425</td>\n",
       "      <td>0.958</td>\n",
       "    </tr>\n",
       "    <tr>\n",
       "      <th>1</th>\n",
       "      <td>0.997</td>\n",
       "      <td>100</td>\n",
       "      <td>0.586604</td>\n",
       "      <td>4.70</td>\n",
       "      <td>0.35</td>\n",
       "      <td>0.017201</td>\n",
       "      <td>0.950</td>\n",
       "    </tr>\n",
       "    <tr>\n",
       "      <th>2</th>\n",
       "      <td>0.998</td>\n",
       "      <td>100</td>\n",
       "      <td>0.571853</td>\n",
       "      <td>3.78</td>\n",
       "      <td>0.21</td>\n",
       "      <td>-0.032272</td>\n",
       "      <td>0.930</td>\n",
       "    </tr>\n",
       "    <tr>\n",
       "      <th>3</th>\n",
       "      <td>0.999</td>\n",
       "      <td>100</td>\n",
       "      <td>0.609868</td>\n",
       "      <td>2.34</td>\n",
       "      <td>0.11</td>\n",
       "      <td>-0.171452</td>\n",
       "      <td>0.874</td>\n",
       "    </tr>\n",
       "  </tbody>\n",
       "</table>\n",
       "</div>"
      ],
      "text/plain": [
       "   Posterior Cutoff  Replicates  STD. Length Called 4cM  \\\n",
       "0             0.996         100                0.614047   \n",
       "1             0.997         100                0.586604   \n",
       "2             0.998         100                0.571853   \n",
       "3             0.999         100                0.609868   \n",
       "\n",
       "   False Positive ROH>1cM / Chr. 3  False Positive ROH>2cM / Chr. 3  \\\n",
       "0                             5.39                             0.47   \n",
       "1                             4.70                             0.35   \n",
       "2                             3.78                             0.21   \n",
       "3                             2.34                             0.11   \n",
       "\n",
       "   Avg. Length Bias 4 cM [cM]  Fraction of 80% of 4 cM Block detected  \n",
       "0                    0.063425                                   0.958  \n",
       "1                    0.017201                                   0.950  \n",
       "2                   -0.032272                                   0.930  \n",
       "3                   -0.171452                                   0.874  "
      ]
     },
     "execution_count": 8,
     "metadata": {},
     "output_type": "execute_result"
    }
   ],
   "source": [
    "df"
   ]
  },
  {
   "cell_type": "markdown",
   "metadata": {},
   "source": [
    "### The best case"
   ]
  },
  {
   "cell_type": "code",
   "execution_count": 4,
   "metadata": {},
   "outputs": [
    {
     "name": "stdout",
     "output_type": "stream",
     "text": [
      "Saved Output Table to ./TablesOut/var_post_cutoff_bestcase.csv\n"
     ]
    }
   ],
   "source": [
    "cutoffs = [0.998, 0.999, 0.9995]\n",
    "df = load_line_search(cutoffs, mosaic_folder = \"./Simulated/1000G_Mosaic/TSI5/\",\n",
    "                      ch=3, nr_iid=40, blen_cm=4, min_overlap=0.8,\n",
    "                      savepath = \"./TablesOut/var_post_cutoff_bestcase.csv\")"
   ]
  },
  {
   "cell_type": "code",
   "execution_count": 8,
   "metadata": {},
   "outputs": [
    {
     "data": {
      "text/html": [
       "<div>\n",
       "<style scoped>\n",
       "    .dataframe tbody tr th:only-of-type {\n",
       "        vertical-align: middle;\n",
       "    }\n",
       "\n",
       "    .dataframe tbody tr th {\n",
       "        vertical-align: top;\n",
       "    }\n",
       "\n",
       "    .dataframe thead th {\n",
       "        text-align: right;\n",
       "    }\n",
       "</style>\n",
       "<table border=\"1\" class=\"dataframe\">\n",
       "  <thead>\n",
       "    <tr style=\"text-align: right;\">\n",
       "      <th></th>\n",
       "      <th>Posterior Cutoff</th>\n",
       "      <th>Replicates</th>\n",
       "      <th>STD. Length Called 4cM</th>\n",
       "      <th>False Positive ROH&gt;1cM / Chr. 3</th>\n",
       "      <th>False Positive ROH&gt;2cM / Chr. 3</th>\n",
       "      <th>Avg. Length Bias 4 cM [cM]</th>\n",
       "      <th>Fraction of 80% of 4 cM Block detected</th>\n",
       "    </tr>\n",
       "  </thead>\n",
       "  <tbody>\n",
       "    <tr>\n",
       "      <th>0</th>\n",
       "      <td>0.9980</td>\n",
       "      <td>40</td>\n",
       "      <td>0.395002</td>\n",
       "      <td>2.925</td>\n",
       "      <td>0.050</td>\n",
       "      <td>0.091163</td>\n",
       "      <td>0.985</td>\n",
       "    </tr>\n",
       "    <tr>\n",
       "      <th>1</th>\n",
       "      <td>0.9990</td>\n",
       "      <td>40</td>\n",
       "      <td>0.381483</td>\n",
       "      <td>1.600</td>\n",
       "      <td>0.025</td>\n",
       "      <td>0.029897</td>\n",
       "      <td>0.975</td>\n",
       "    </tr>\n",
       "    <tr>\n",
       "      <th>2</th>\n",
       "      <td>0.9995</td>\n",
       "      <td>40</td>\n",
       "      <td>0.418690</td>\n",
       "      <td>1.000</td>\n",
       "      <td>0.000</td>\n",
       "      <td>-0.048573</td>\n",
       "      <td>0.945</td>\n",
       "    </tr>\n",
       "  </tbody>\n",
       "</table>\n",
       "</div>"
      ],
      "text/plain": [
       "   Posterior Cutoff  Replicates  STD. Length Called 4cM  \\\n",
       "0            0.9980          40                0.395002   \n",
       "1            0.9990          40                0.381483   \n",
       "2            0.9995          40                0.418690   \n",
       "\n",
       "   False Positive ROH>1cM / Chr. 3  False Positive ROH>2cM / Chr. 3  \\\n",
       "0                            2.925                            0.050   \n",
       "1                            1.600                            0.025   \n",
       "2                            1.000                            0.000   \n",
       "\n",
       "   Avg. Length Bias 4 cM [cM]  Fraction of 80% of 4 cM Block detected  \n",
       "0                    0.091163                                   0.985  \n",
       "1                    0.029897                                   0.975  \n",
       "2                   -0.048573                                   0.945  "
      ]
     },
     "execution_count": 8,
     "metadata": {},
     "output_type": "execute_result"
    }
   ],
   "source": [
    "df"
   ]
  },
  {
   "cell_type": "code",
   "execution_count": 6,
   "metadata": {},
   "outputs": [
    {
     "data": {
      "image/png": "[encoded data removed]",
      "text/plain": [
       "<Figure size 432x288 with 1 Axes>"
      ]
     },
     "metadata": {
      "needs_background": "light"
     },
     "output_type": "display_data"
    }
   ],
   "source": [
    "plt.figure()\n",
    "ax=plt.gca()\n",
    "ax.plot(1-df[\"Posterior Cutoff\"], df[\"STD. Length Called 4cM\"], \"o--\", ms=7, lw=2)\n",
    "ax.set_xscale(\"log\")\n",
    "ax.set_ylabel(\"STD\")\n",
    "plt.show()"
   ]
  },
  {
   "cell_type": "markdown",
   "metadata": {},
   "source": [
    "# Merge Gaps and test the behaviour"
   ]
  },
  {
   "cell_type": "markdown",
   "metadata": {},
   "source": [
    "### Run the Block Merging, and save to new folders, with copied over ground truth"
   ]
  },
  {
   "cell_type": "code",
   "execution_count": 19,
   "metadata": {},
   "outputs": [
    {
     "name": "stdout",
     "output_type": "stream",
     "text": [
      "CPU times: user 1.04 s, sys: 17.6 ms, total: 1.05 s\n",
      "Wall time: 1.07 s\n"
     ]
    }
   ],
   "source": [
    "%%time\n",
    "iids = np.arange(40)\n",
    "#blens = [0, 2, 4, 6, 8, 10]\n",
    "blens = [4]\n",
    "merge_blocks_simulations(mosaic_folder='./Simulated/1000G_Mosaic/TSI5/',\n",
    "                         output_prefix='0999/', output_prefix1='merged/',\n",
    "                         blens=blens, iids=iids,\n",
    "                         max_gap=0.008, min_len1=0.02, min_len2=0.02)"
   ]
  },
  {
   "cell_type": "markdown",
   "metadata": {},
   "source": [
    "# Area 51"
   ]
  },
  {
   "cell_type": "code",
   "execution_count": null,
   "metadata": {},
   "outputs": [],
   "source": [
    "merge_bl"
   ]
  }
 ],
 "metadata": {
  "kernelspec": {
   "display_name": "Python 3",
   "language": "python",
   "name": "python3"
  },
  "language_info": {
   "codemirror_mode": {
    "name": "ipython",
    "version": 3
   },
   "file_extension": ".py",
   "mimetype": "text/x-python",
   "name": "python",
   "nbconvert_exporter": "python",
   "pygments_lexer": "ipython3",
   "version": "3.7.0"
  }
 },
 "nbformat": 4,
 "nbformat_minor": 2
}
