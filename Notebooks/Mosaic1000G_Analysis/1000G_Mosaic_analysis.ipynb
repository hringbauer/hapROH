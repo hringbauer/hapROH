{
 "cells": [
  {
   "cell_type": "markdown",
   "metadata": {},
   "source": [
    "# Analyze the 1000 Genome Mosaic Outputs\n",
    "Idea: Analyse a large number of samples together, and prepare summary plots.\n",
    "\n",
    "This codes assumes that the Simulation as well as the HMM Calling has been done, and that the files have been saved according to the guidelines. This code here loads these files, post-process them and provides summary level statistics"
   ]
  },
  {
   "cell_type": "code",
   "execution_count": 1,
   "metadata": {},
   "outputs": [],
   "source": [
    "import pandas as pd\n",
    "import numpy as np\n",
    "import matplotlib.pyplot as plt\n",
    "import matplotlib.cm as cm\n",
    "from matplotlib import gridspec"
   ]
  },
  {
   "cell_type": "markdown",
   "metadata": {},
   "source": [
    "# Pre-Process"
   ]
  },
  {
   "cell_type": "markdown",
   "metadata": {},
   "source": [
    "## First some Functions to Load and Pre-process the data"
   ]
  },
  {
   "cell_type": "code",
   "execution_count": 2,
   "metadata": {},
   "outputs": [],
   "source": [
    "#############################################\n",
    "### Functions for Loading\n",
    "\n",
    "def provide_iid_folders(folder, ch=3, nr_iid = 20, blen_cm = 1, output_prefix = \"\"):\n",
    "    \"\"\"Return a list of folders into which replicate simulations are saved into\n",
    "    folder: Full folder of the analysis\n",
    "    ch: Which Chromosome was analyzed\n",
    "    nr_iid: How many replicate Individual were produced\n",
    "    bl_cm: The length of the analyzed block class in cM\n",
    "    output_prefix: Prefix before the File\"\"\"\n",
    "    \n",
    "    path_1 = \"ch\" + str(ch) + \"_\" + str(int(blen_cm)) + \"cm/output/\"  # The first part of the Path\n",
    "    path_2 = \"/chr\" + str(ch) + \"/\" + output_prefix # The last part of the Path (within the folder)\n",
    "    iid_list = [\"iid\" + str(i) for i in range(nr_iid)]  # The middle parts of the path\n",
    "    \n",
    "    full_paths = [(folder + path_1 + str(i) + path_2)  for i in iid_list]\n",
    "    return full_paths\n",
    "\n",
    "def load_observed(path, file=\"roh.csv\"):\n",
    "    \"\"\" Load simulated Dataframe from path\"\"\"\n",
    "    df = pd.read_csv(path + file, sep=\",\")  # Load the Meta File\n",
    "    return df\n",
    "\n",
    "def load_simulated(path, file=\"roh_gt.csv\"):\n",
    "    \"\"\" Load Ground Truth Dataframe from path\"\"\"\n",
    "    df = pd.read_csv(path + file, sep=\"\\t\")  # Load the Meta File\n",
    "    return df\n",
    "\n",
    "#############################################\n",
    "### Functions for Analysis\n",
    "\n",
    "def find_overlap(l, min_l, max_l):\n",
    "    \"\"\" Find overlap of Interval l with intervals starting at min_l and ending at max_l\n",
    "    Return max overlap as well as Block length (or 0 and 0 if no overlap)\n",
    "    l: Interval [Length 2 list]\n",
    "    min_l: Minimum Interval Lengths\n",
    "    max_l: Maximum Interval Lengths\"\"\"\n",
    "    \n",
    "    min_both = np.maximum(l[0], min_l)\n",
    "    max_both = np.minimum(l[1], max_l)  \n",
    "    overlap = max_both - min_both   # Calculate the Overlap\n",
    "    \n",
    "    i = np.argmax(overlap)\n",
    "    max_overlap = overlap[i]\n",
    "    \n",
    "    if max_overlap < 0:\n",
    "        return 0., 0.   # Return 0 Overlap and 0 total length\n",
    "    \n",
    "    else:\n",
    "        orginal_length = max_l[i] - min_l[i]\n",
    "        return max_overlap, orginal_length\n",
    "    \n",
    "    \n",
    "def check_obs_vrs_sim(df_o, df_s):\n",
    "    \"\"\"Analyze observed . \n",
    "    Input: 2 Dataframes\n",
    "    Output: 1 Dataframe\n",
    "    Return: One dateframe with intersecting [Overlap, CalledLength, Position]\"\"\"\n",
    "    \n",
    "    begin_obs = df_o[\"StartM\"].values * 100  # Factor 100: To do everything in centiMorgan\n",
    "    end_obs = df_o[\"EndM\"].values * 100\n",
    "\n",
    "    overlaps = np.zeros(len(df_s))\n",
    "    lengths = np.zeros(len(df_s))\n",
    "\n",
    "    for i, row in df_s.iterrows():\n",
    "        roh = [row[\"ROH_Begin\"] * 100, row[\"ROH_End\"] * 100]\n",
    "        ovlp, lgth = find_overlap(roh, begin_obs, end_obs)  # Find the Overlap\n",
    "\n",
    "        overlaps[i] = ovlp\n",
    "        lengths[i] = lgth\n",
    "\n",
    "    df_call = pd.DataFrame({\"Overlap\": overlaps, \"CalledLength\":lengths, \n",
    "                            \"Position\": df_s[\"ROH_Begin\"].values * 100, \"iid\":df_s[\"iid\"]})\n",
    "\n",
    "    ###  Create df with Original Length, Found Length, Position, Overlap (Fraction)  \n",
    "    return df_call\n",
    "\n",
    "def collect_power_df(mosaic_folder = \"../../Simulated/1000G_Mosaic/TSI/\", ch=3, nr_iid = 20, blen_cm = 3, output_prefix=\"\"):\n",
    "    \"\"\"Create and return the Dataframe with the Power.\n",
    "    Check every simulated block for overlap.\"\"\"\n",
    "    folders = provide_iid_folders(folder = mosaic_folder, ch=ch, nr_iid = nr_iid, \n",
    "                                  blen_cm = blen_cm, output_prefix=output_prefix)   # Load all the folders\n",
    "    df_calls = []\n",
    "\n",
    "    for f in folders:   \n",
    "        df_o = load_observed(f)   # Loading should throw error if not existend\n",
    "        df_s = load_simulated(f)\n",
    "\n",
    "        df_call = check_obs_vrs_sim(df_o, df_s)\n",
    "        df_calls.append(df_call)\n",
    "\n",
    "    df_calls = pd.concat(df_calls)   # Concatenate all the Results\n",
    "    return df_calls\n",
    "\n",
    "def collect_fp_df(mosaic_folder = \"../../Simulated/1000G_Mosaic/TSI/\", ch=3, nr_iid = 20, blen_cm = 3, output_prefix = \"\"):\n",
    "    \"\"\"Collect and return the Dataframe with the false positive Calls\"\"\"\n",
    "    folders = provide_iid_folders(folder = mosaic_folder, ch=ch, nr_iid = nr_iid, \n",
    "                                  blen_cm = blen_cm, output_prefix=output_prefix)   # Load all the folders\n",
    "    \n",
    "    observed_dfs = [load_observed(f) for f in folders]\n",
    "    df_observed = pd.concat(observed_dfs)\n",
    "    return df_observed\n",
    "\n",
    "\n",
    "#############################################\n",
    "### Post-Processing the Call Dataframe\n",
    "\n",
    "def statistics_power_df(df):\n",
    "    \"\"\"Report some statistics on the Power Dataframe\"\"\"\n",
    "    l = len(set(df[\"iid\"]))\n",
    "    no_calls = df[\"Overlap\"]<0.01\n",
    "    df_c = df[~no_calls]  # The Dataframe with the lenghts called\n",
    "    mean_called = np.mean(df_c[\"CalledLength\"])\n",
    "    \n",
    "    print(f\"{l} unique Individuals\")\n",
    "    print(f\"{len(df)} total blocks tested\")\n",
    "    print(f\"{np.sum(no_calls)} Blocks not called\")\n",
    "    print(f\"{mean_called:.4f} average Block Length cM (called)\")\n",
    "        \n",
    "def calc_power(df):\n",
    "    \"\"\"Calculate and return the Power from the Calling Dataframe\"\"\"\n",
    "    \n",
    "    no_calls = np.sum(df[\"Overlap\"]<0.01)\n",
    "    power = 1  - (no_calls / len(df))\n",
    "    return power\n",
    "\n",
    "def return_calls_only(df):\n",
    "    \"\"\"Return Dataframe of only called Blocks\"\"\"\n",
    "    no_calls = df[\"Overlap\"]<0.01\n",
    "    df_c = df[~no_calls]  # The Dataframe with the lenghts called\n",
    "    return(df_c)\n",
    "\n",
    "def false_power_statistics(df):\n",
    "    '''Report some statistics on the false Power Dataframe'''\n",
    "    bl_lens = df[\"lengthM\"].values\n",
    "    \n",
    "    \n",
    "    print(f\"Found {len(bl_lens)} FP blocks\")\n",
    "    print(f\"Average Block length: {np.mean(bl_lens):.4f} cM\")\n",
    "    print(f\"Maximum Block length: {np.max(bl_lens):.4f} cM\")"
   ]
  },
  {
   "cell_type": "code",
   "execution_count": 3,
   "metadata": {},
   "outputs": [],
   "source": [
    "df_calls = collect_power_df(mosaic_folder = \"../../Simulated/1000G_Mosaic/TSI5/\", ch=3, nr_iid = 100, blen_cm = 4)"
   ]
  },
  {
   "cell_type": "code",
   "execution_count": 4,
   "metadata": {},
   "outputs": [
    {
     "name": "stdout",
     "output_type": "stream",
     "text": [
      "100 unique Individuals\n",
      "500 total blocks tested\n",
      "0 Blocks not called\n",
      "4.1508 average Block Length cM (called)\n"
     ]
    },
    {
     "data": {
      "text/plain": [
       "1.0"
      ]
     },
     "execution_count": 4,
     "metadata": {},
     "output_type": "execute_result"
    }
   ],
   "source": [
    "statistics_power_df(df_calls)\n",
    "calc_power(df_calls)"
   ]
  },
  {
   "cell_type": "markdown",
   "metadata": {},
   "source": [
    "# Figures\n",
    "### Idea: \n",
    "- Top Panel: False Positive Rate\n",
    "- Middle Panel: False Negative Rate\n",
    "- Lower Panel: Power Curves"
   ]
  },
  {
   "cell_type": "markdown",
   "metadata": {},
   "source": [
    "# Power and Error Plot\n",
    "\n",
    "- Uper Panel: Power Curve\n",
    "- Lower Panel: Power Curves"
   ]
  },
  {
   "cell_type": "code",
   "execution_count": 5,
   "metadata": {},
   "outputs": [],
   "source": [
    "bl_lens = [2, 4, 6, 8, 10]   # The Length of the Blocks\n",
    "\n",
    "### Extract Colors from Viridis\n",
    "cmap = cm.get_cmap(\"viridis_r\")\n",
    "colors = [cmap(x) for x in np.linspace(0,1, len(bl_lens))]\n",
    "\n",
    "### Extract the Pandas Dataframes for called blocks\n",
    "df_call_vec = [collect_power_df(mosaic_folder = \"../../Simulated/1000G_Mosaic/TSI5/\", ch=3, nr_iid = 100, blen_cm = l) \n",
    "            for l in bl_lens]\n",
    "\n",
    "powers = [calc_power(df) for df in df_call_vec]   # Calculate the Power per Block Length\n",
    "df_call_vec1 = [return_calls_only(df) for df in df_call_vec]   # Only Keep the called blocks for plotting\n",
    "\n",
    "bins = np.linspace(0, 15, 75)  # Bins of 0.1 cM"
   ]
  },
  {
   "cell_type": "code",
   "execution_count": 11,
   "metadata": {},
   "outputs": [],
   "source": [
    "def load_power_dfs(mosaic_folder, bl_lens, output_prefix=\"\"):\n",
    "    \"\"\"Load the Power dfs\"\"\"\n",
    "    ### Extract Colors from Viridis\n",
    "    cmap = cm.get_cmap(\"viridis_r\")\n",
    "    colors = [cmap(x) for x in np.linspace(0,1, len(bl_lens))]\n",
    "\n",
    "    ### Extract the Pandas Dataframes for called blocks\n",
    "    df_call_vec = [collect_power_df(mosaic_folder = mosaic_folder, ch=3, nr_iid = 20, \n",
    "                                    blen_cm = l, output_prefix=output_prefix) for l in bl_lens]\n",
    "\n",
    "    powers = [calc_power(df) for df in df_call_vec]   # Calculate the Power per Block Length\n",
    "    df_call_vec1 = [return_calls_only(df) for df in df_call_vec]   # Only Keep the called blocks for plotting\n",
    "\n",
    "    bins = np.linspace(0, 15, 75)  # Bins of 0.1 cM\n",
    "    \n",
    "    return df_call_vec, df_call_vec1\n",
    "\n",
    "def plot_power(fs = 14, fs_l=12, xlim=(0,13), figsize=(10,6), bl_lens=[1, 3, 5, 10], \n",
    "               mosaic_folder = \"../../Simulated/1000G_Mosaic/TSI/\", output_prefix = \"\", save=True, title=\"\"):\n",
    "    \"\"\"Plot power and power curves\"\"\"\n",
    "    ylim_pow =[0.5, 1.05]\n",
    "    \n",
    "    df_call_vec, df_call_vec1 = load_power_dfs(mosaic_folder, output_prefix=output_prefix, bl_lens = bl_lens)\n",
    "    \n",
    "    \n",
    "    plt.figure(figsize=figsize)\n",
    "\n",
    "    gs = gridspec.GridSpec(2, 1, height_ratios=[1, 4])\n",
    "    gs.update(hspace=0.04) # set the spacing between axes. \n",
    "\n",
    "\n",
    "    ax = plt.subplot(gs[1]) # The lower subplot\n",
    "    ax1 = plt.subplot(gs[0]) # The upper subplot\n",
    "\n",
    "    # Plot All Histograms\n",
    "    for i in range(len(bl_lens)):\n",
    "        l = bl_lens[i]\n",
    "        ax.hist(df_call_vec1[i][\"CalledLength\"], bins = bins, color = colors[i], alpha=0.9, label= str(l) + \" cM\", ec=\"silver\")\n",
    "        ax.axvline(l, color = \"gray\", linewidth=2)\n",
    "\n",
    "    ax.set_xlim(xlim)\n",
    "    ax.set_xlabel(\"Inferred block Length [cM]\", fontsize = fs)\n",
    "    ax.set_ylabel(\"# Inferred\", fontsize = fs)\n",
    "    ax.legend(loc = \"upper right\", fontsize = fs_l)\n",
    "\n",
    "    ax1.set_ylabel(\"Power\", fontsize = fs)\n",
    "    ax1.set_xticks([])\n",
    "    ax1.scatter(bl_lens, powers, c=colors, s=100,zorder=1)\n",
    "    ax1.plot(bl_lens, powers, \"gray\", zorder=0)\n",
    "    ax1.set_xlim(xlim)\n",
    "    ax1.set_ylim(ylim_pow)\n",
    "\n",
    "    plt.title(title, fontsize=fs)\n",
    "    \n",
    "    if save == True:\n",
    "        plt.savefig(\"../../figures/Power/tsi20.png\")\n",
    "    plt.show()"
   ]
  },
  {
   "cell_type": "code",
   "execution_count": 12,
   "metadata": {},
   "outputs": [
    {
     "data": {
      "image/png": "[encoded data removed]",
      "text/plain": [
       "<matplotlib.figure.Figure at 0x7f4dc53177b8>"
      ]
     },
     "metadata": {
      "needs_background": "light"
     },
     "output_type": "display_data"
    }
   ],
   "source": [
    "title = \"100 Tuscany Samples - Reference: Rest EUR 1000G\"\n",
    "plot_power(bl_lens=[2, 4, 6, 8, 10], mosaic_folder = \"../../Simulated/1000G_Mosaic/TSI5/\", output_prefix = \"\", \n",
    "           save=False, title=title)"
   ]
  },
  {
   "cell_type": "code",
   "execution_count": 10,
   "metadata": {},
   "outputs": [
    {
     "data": {
      "image/png": "[encoded data removed]",
      "text/plain": [
       "<matplotlib.figure.Figure at 0x7f86d275f2e8>"
      ]
     },
     "metadata": {
      "needs_background": "light"
     },
     "output_type": "display_data"
    }
   ],
   "source": [
    "plot_power(bl_lens=[1, 3, 5, 10], mosaic_folder = \"../../Simulated/1000G_Mosaic/TSI/\", output_prefix = \"baseline/\", save=False)"
   ]
  },
  {
   "cell_type": "markdown",
   "metadata": {},
   "source": [
    "# False Positive Plot"
   ]
  },
  {
   "cell_type": "code",
   "execution_count": 17,
   "metadata": {},
   "outputs": [],
   "source": [
    "def plot_fp_distribution(fs = 14, fs_l = 12, bins = np.linspace(1, 3, 26), xlim = (0, 13), figsize = (10, 4),\n",
    "                        title = \"100 Mosaic Tuscany Samples - Reference: Rest EUR 1000G\", \n",
    "                         mosaic_folder = \"../../Simulated/1000G_Mosaic/TSI/\", ch=3, nr_iid = 100, blen_cm = 0):\n",
    "    \"\"\" Plot the Distribution of false positive ROH calls\"\"\"\n",
    "    \n",
    "    df_call_fp = collect_fp_df(mosaic_folder = mosaic_folder, ch = ch, nr_iid = nr_iid, blen_cm = blen_cm)\n",
    "    false_power_statistics(df_call_fp)  # Do give some written statistics\n",
    "    \n",
    "    \n",
    "    ### The Actual Plot\n",
    "    plt.figure(figsize=figsize)\n",
    "\n",
    "    ax = plt.gca()\n",
    "    ax.hist(df_call_fp[\"lengthM\"] * 100, bins = bins, color = colors[2], alpha=0.9, ec=\"silver\")\n",
    "\n",
    "    plt.title(title, fontsize=fs)\n",
    "    ax.set_xlabel(\"Inferred block Length [cm]\", fontsize=fs)\n",
    "    ax.set_ylabel(\"Count\", fontsize=fs)\n",
    "    plt.show()"
   ]
  },
  {
   "cell_type": "code",
   "execution_count": 18,
   "metadata": {},
   "outputs": [
    {
     "name": "stdout",
     "output_type": "stream",
     "text": [
      "Found 163 FP blocks\n",
      "Average Block length: 0.0124 cM\n",
      "Maximum Block length: 0.0207 cM\n"
     ]
    },
    {
     "data": {
      "image/png": "[encoded data removed]",
      "text/plain": [
       "<matplotlib.figure.Figure at 0x7f86d22af898>"
      ]
     },
     "metadata": {
      "needs_background": "light"
     },
     "output_type": "display_data"
    }
   ],
   "source": [
    "plot_fp_distribution()"
   ]
  },
  {
   "cell_type": "markdown",
   "metadata": {},
   "source": [
    "# Area 51"
   ]
  },
  {
   "cell_type": "markdown",
   "metadata": {},
   "source": [
    "### Testing of Functions"
   ]
  },
  {
   "cell_type": "code",
   "execution_count": 96,
   "metadata": {},
   "outputs": [
    {
     "name": "stdout",
     "output_type": "stream",
     "text": [
      "Merged n=0 gaps < 0.01 M\n"
     ]
    }
   ],
   "source": [
    "### Function went into production. Can delete\n",
    "\n",
    "df = load_observed(\"../../Simulated/1000G_Mosaic/TSI/ch3_10cm/output/iid0/chr3/\")\n",
    "df_n = df.drop(df.index)  # Create New Data frame with all raws removed\n",
    "\n",
    "row_c = df.iloc[0, :].copy()\n",
    "max_gap = 0.01\n",
    "\n",
    "### Iterate over all rows, update blocks if gaps small enough\n",
    "for index, row in df.iterrows():\n",
    "    if row[\"StartM\"] - row_c[\"EndM\"] < max_gap:\n",
    "        row_c[\"End\"] = row[\"End\"]\n",
    "        row_c[\"EndM\"] = row[\"EndM\"]\n",
    "        row_c[\"length\"]  = row_c[\"End\"] - row_c[\"Start\"]\n",
    "        row_c[\"lengthM\"] = row_c[\"EndM\"] - row_c[\"StartM\"] \n",
    "        \n",
    "    else:     ### Save and go to next row\n",
    "        df_n.loc[len(df_n)] = row_c\n",
    "        row_c = row.copy()\n",
    "\n",
    "df_n.loc[len(df_n)] = row_c\n",
    "\n",
    "\n",
    "print(f\"Merged n={len(df) - len(df_n)} gaps < {max_gap} M\")"
   ]
  },
  {
   "cell_type": "code",
   "execution_count": 95,
   "metadata": {},
   "outputs": [
    {
     "data": {
      "text/html": [
       "<div>\n",
       "<style scoped>\n",
       "    .dataframe tbody tr th:only-of-type {\n",
       "        vertical-align: middle;\n",
       "    }\n",
       "\n",
       "    .dataframe tbody tr th {\n",
       "        vertical-align: top;\n",
       "    }\n",
       "\n",
       "    .dataframe thead th {\n",
       "        text-align: right;\n",
       "    }\n",
       "</style>\n",
       "<table border=\"1\" class=\"dataframe\">\n",
       "  <thead>\n",
       "    <tr style=\"text-align: right;\">\n",
       "      <th></th>\n",
       "      <th>Start</th>\n",
       "      <th>End</th>\n",
       "      <th>StartM</th>\n",
       "      <th>EndM</th>\n",
       "      <th>length</th>\n",
       "      <th>lengthM</th>\n",
       "      <th>iid</th>\n",
       "      <th>ch</th>\n",
       "    </tr>\n",
       "  </thead>\n",
       "  <tbody>\n",
       "    <tr>\n",
       "      <th>0</th>\n",
       "      <td>3685</td>\n",
       "      <td>6350</td>\n",
       "      <td>0.156614</td>\n",
       "      <td>0.258285</td>\n",
       "      <td>2665</td>\n",
       "      <td>0.101671</td>\n",
       "      <td>iid0</td>\n",
       "      <td>3</td>\n",
       "    </tr>\n",
       "    <tr>\n",
       "      <th>1</th>\n",
       "      <td>22958</td>\n",
       "      <td>27037</td>\n",
       "      <td>0.685552</td>\n",
       "      <td>0.783397</td>\n",
       "      <td>4079</td>\n",
       "      <td>0.097845</td>\n",
       "      <td>iid0</td>\n",
       "      <td>3</td>\n",
       "    </tr>\n",
       "    <tr>\n",
       "      <th>2</th>\n",
       "      <td>32429</td>\n",
       "      <td>35012</td>\n",
       "      <td>0.937753</td>\n",
       "      <td>1.036958</td>\n",
       "      <td>2583</td>\n",
       "      <td>0.099205</td>\n",
       "      <td>iid0</td>\n",
       "      <td>3</td>\n",
       "    </tr>\n",
       "    <tr>\n",
       "      <th>3</th>\n",
       "      <td>53021</td>\n",
       "      <td>55414</td>\n",
       "      <td>1.422184</td>\n",
       "      <td>1.478951</td>\n",
       "      <td>2393</td>\n",
       "      <td>0.056767</td>\n",
       "      <td>iid0</td>\n",
       "      <td>3</td>\n",
       "    </tr>\n",
       "    <tr>\n",
       "      <th>4</th>\n",
       "      <td>55489</td>\n",
       "      <td>57163</td>\n",
       "      <td>1.479852</td>\n",
       "      <td>1.522091</td>\n",
       "      <td>1674</td>\n",
       "      <td>0.042239</td>\n",
       "      <td>iid0</td>\n",
       "      <td>3</td>\n",
       "    </tr>\n",
       "    <tr>\n",
       "      <th>5</th>\n",
       "      <td>61657</td>\n",
       "      <td>62081</td>\n",
       "      <td>1.655665</td>\n",
       "      <td>1.669167</td>\n",
       "      <td>424</td>\n",
       "      <td>0.013502</td>\n",
       "      <td>iid0</td>\n",
       "      <td>3</td>\n",
       "    </tr>\n",
       "    <tr>\n",
       "      <th>6</th>\n",
       "      <td>71583</td>\n",
       "      <td>73817</td>\n",
       "      <td>1.937247</td>\n",
       "      <td>2.037171</td>\n",
       "      <td>2234</td>\n",
       "      <td>0.099924</td>\n",
       "      <td>iid0</td>\n",
       "      <td>3</td>\n",
       "    </tr>\n",
       "  </tbody>\n",
       "</table>\n",
       "</div>"
      ],
      "text/plain": [
       "   Start    End    StartM      EndM  length   lengthM   iid  ch\n",
       "0   3685   6350  0.156614  0.258285    2665  0.101671  iid0   3\n",
       "1  22958  27037  0.685552  0.783397    4079  0.097845  iid0   3\n",
       "2  32429  35012  0.937753  1.036958    2583  0.099205  iid0   3\n",
       "3  53021  55414  1.422184  1.478951    2393  0.056767  iid0   3\n",
       "4  55489  57163  1.479852  1.522091    1674  0.042239  iid0   3\n",
       "5  61657  62081  1.655665  1.669167     424  0.013502  iid0   3\n",
       "6  71583  73817  1.937247  2.037171    2234  0.099924  iid0   3"
      ]
     },
     "execution_count": 95,
     "metadata": {},
     "output_type": "execute_result"
    }
   ],
   "source": [
    "df"
   ]
  },
  {
   "cell_type": "code",
   "execution_count": 94,
   "metadata": {},
   "outputs": [
    {
     "data": {
      "text/html": [
       "<div>\n",
       "<style scoped>\n",
       "    .dataframe tbody tr th:only-of-type {\n",
       "        vertical-align: middle;\n",
       "    }\n",
       "\n",
       "    .dataframe tbody tr th {\n",
       "        vertical-align: top;\n",
       "    }\n",
       "\n",
       "    .dataframe thead th {\n",
       "        text-align: right;\n",
       "    }\n",
       "</style>\n",
       "<table border=\"1\" class=\"dataframe\">\n",
       "  <thead>\n",
       "    <tr style=\"text-align: right;\">\n",
       "      <th></th>\n",
       "      <th>Start</th>\n",
       "      <th>End</th>\n",
       "      <th>StartM</th>\n",
       "      <th>EndM</th>\n",
       "      <th>length</th>\n",
       "      <th>lengthM</th>\n",
       "      <th>iid</th>\n",
       "      <th>ch</th>\n",
       "    </tr>\n",
       "  </thead>\n",
       "  <tbody>\n",
       "    <tr>\n",
       "      <th>0</th>\n",
       "      <td>3685</td>\n",
       "      <td>6350</td>\n",
       "      <td>0.156614</td>\n",
       "      <td>0.258285</td>\n",
       "      <td>2665</td>\n",
       "      <td>0.101671</td>\n",
       "      <td>iid0</td>\n",
       "      <td>3</td>\n",
       "    </tr>\n",
       "    <tr>\n",
       "      <th>1</th>\n",
       "      <td>22958</td>\n",
       "      <td>27037</td>\n",
       "      <td>0.685552</td>\n",
       "      <td>0.783397</td>\n",
       "      <td>4079</td>\n",
       "      <td>0.097845</td>\n",
       "      <td>iid0</td>\n",
       "      <td>3</td>\n",
       "    </tr>\n",
       "    <tr>\n",
       "      <th>2</th>\n",
       "      <td>32429</td>\n",
       "      <td>35012</td>\n",
       "      <td>0.937753</td>\n",
       "      <td>1.036958</td>\n",
       "      <td>2583</td>\n",
       "      <td>0.099205</td>\n",
       "      <td>iid0</td>\n",
       "      <td>3</td>\n",
       "    </tr>\n",
       "    <tr>\n",
       "      <th>3</th>\n",
       "      <td>53021</td>\n",
       "      <td>57163</td>\n",
       "      <td>1.422184</td>\n",
       "      <td>1.522091</td>\n",
       "      <td>4142</td>\n",
       "      <td>0.099907</td>\n",
       "      <td>iid0</td>\n",
       "      <td>3</td>\n",
       "    </tr>\n",
       "    <tr>\n",
       "      <th>4</th>\n",
       "      <td>61657</td>\n",
       "      <td>62081</td>\n",
       "      <td>1.655665</td>\n",
       "      <td>1.669167</td>\n",
       "      <td>424</td>\n",
       "      <td>0.013502</td>\n",
       "      <td>iid0</td>\n",
       "      <td>3</td>\n",
       "    </tr>\n",
       "    <tr>\n",
       "      <th>5</th>\n",
       "      <td>71583</td>\n",
       "      <td>73817</td>\n",
       "      <td>1.937247</td>\n",
       "      <td>2.037171</td>\n",
       "      <td>2234</td>\n",
       "      <td>0.099924</td>\n",
       "      <td>iid0</td>\n",
       "      <td>3</td>\n",
       "    </tr>\n",
       "  </tbody>\n",
       "</table>\n",
       "</div>"
      ],
      "text/plain": [
       "   Start    End    StartM      EndM  length   lengthM   iid  ch\n",
       "0   3685   6350  0.156614  0.258285    2665  0.101671  iid0   3\n",
       "1  22958  27037  0.685552  0.783397    4079  0.097845  iid0   3\n",
       "2  32429  35012  0.937753  1.036958    2583  0.099205  iid0   3\n",
       "3  53021  57163  1.422184  1.522091    4142  0.099907  iid0   3\n",
       "4  61657  62081  1.655665  1.669167     424  0.013502  iid0   3\n",
       "5  71583  73817  1.937247  2.037171    2234  0.099924  iid0   3"
      ]
     },
     "execution_count": 94,
     "metadata": {},
     "output_type": "execute_result"
    }
   ],
   "source": [
    "df_n"
   ]
  }
 ],
 "metadata": {
  "kernelspec": {
   "display_name": "Python 3",
   "language": "python",
   "name": "python3"
  },
  "language_info": {
   "codemirror_mode": {
    "name": "ipython",
    "version": 3
   },
   "file_extension": ".py",
   "mimetype": "text/x-python",
   "name": "python",
   "nbconvert_exporter": "python",
   "pygments_lexer": "ipython3",
   "version": "3.6.8"
  }
 },
 "nbformat": 4,
 "nbformat_minor": 2
}
