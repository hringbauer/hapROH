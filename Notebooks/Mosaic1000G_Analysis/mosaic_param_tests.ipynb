{
 "cells": [
  {
   "cell_type": "markdown",
   "metadata": {},
   "source": [
    "# Notebook to test Parameters of conducted HAPSBURG runs"
   ]
  },
  {
   "cell_type": "code",
   "execution_count": 33,
   "metadata": {},
   "outputs": [
    {
     "name": "stdout",
     "output_type": "stream",
     "text": [
      "midway2-0402.rcc.local\n",
      "Midway jnovmbre partition detected.\n",
      "/project2/jnovembre/hringbauer/HAPSBURG\n",
      "CPU Count: 28\n"
     ]
    }
   ],
   "source": [
    "import pandas as pd\n",
    "import numpy as np\n",
    "import matplotlib.pyplot as plt\n",
    "import matplotlib.cm as cm\n",
    "from matplotlib import gridspec\n",
    "import socket\n",
    "import os as os\n",
    "import sys as sys\n",
    "import multiprocessing as mp\n",
    "from matplotlib import rcParams\n",
    "\n",
    "rcParams['font.family'] = 'sans-serif'   # Set the defaul\n",
    "rcParams['font.sans-serif'] = ['Arial']  # Make sure to have the font installed (it is on cluster for Harald)\n",
    "\n",
    "socket_name = socket.gethostname()\n",
    "print(socket_name)\n",
    "if socket_name == \"VioletQueen\":\n",
    "    path = \"/home/harald/git/HAPSBURG/\"   # The Path on Harald's machine\n",
    "elif socket_name.startswith(\"midway2\"):\n",
    "    print(\"Midway jnovmbre partition detected.\")\n",
    "    path = \"/project2/jnovembre/hringbauer/HAPSBURG/\"  # The Path on Midway Cluster\n",
    "else: \n",
    "    raise RuntimeWarning(\"Not compatible machine. Check!!\")\n",
    "    \n",
    "os.chdir(path)  # Set the right Path (in line with Atom default)\n",
    "\n",
    "sys.path.append(\"./Notebooks/Mosaic1000G_Analysis/mosaic_test/\")  # Assume we are in Hapsburg Root Directory\n",
    "#from hmm_inference import HMM_Analyze   # Do not move. Should be after sys.path..\n",
    "\n",
    "from load_funcs import Summary_ROH_Calls, Summary_ROH_Calls_Error, statistics_power_df, calc_power, give_SE, false_power_statistics\n",
    "from plot_funcs import plot_power, plot_fp_distribution\n",
    "\n",
    "print(os.getcwd()) # Show the current working directory. Should be HAPSBURG/Notebooks/ParallelRuns\n",
    "print(f\"CPU Count: {mp.cpu_count()}\")"
   ]
  },
  {
   "cell_type": "markdown",
   "metadata": {},
   "source": [
    "# Test Statistics of replicate runs (of single copy length)\n",
    "See  \n",
    "https://docs.google.com/spreadsheets/d/1QhajP9yk6hzMoIiBzyriSARWuOWnBLei78ZOKS7QMUE/edit?usp=sharing  \n",
    "for tabulation of results"
   ]
  },
  {
   "cell_type": "markdown",
   "metadata": {},
   "source": [
    "### For Gold Standard Parameters of Version 0\n",
    "(Before February 2020 everything run with that and 2020"
   ]
  },
  {
   "cell_type": "code",
   "execution_count": 37,
   "metadata": {},
   "outputs": [
    {
     "name": "stdout",
     "output_type": "stream",
     "text": [
      "20 unique Individuals\n",
      "100 / 100 Blocks called\n",
      "89 Blocks called > 80.0 %\n",
      "3.8915 average Block Length cM (called)\n",
      "Standard Error: 0.6136\n",
      "False Positives:\n",
      "Total Nr Simulated: 0\n",
      "Total Nr Called: 36\n"
     ]
    }
   ],
   "source": [
    "mosaic_folder = \"./Simulated/1000G_Mosaic/TSI6/\"\n",
    "output_prefix =  \"0999/\"\n",
    "\n",
    "roh = Summary_ROH_Calls(mosaic_folder=mosaic_folder, ch=3, nr_iid = 20, blen_cm = 4, \n",
    "                        output_prefix = output_prefix)\n",
    "\n",
    "df_calls = roh.collect_power_df()\n",
    "statistics_power_df(df_calls)\n",
    "calc_power(df_calls)\n",
    "se = give_SE(df_calls)\n",
    "print(f\"Standard Error: {se:.4f}\")\n",
    "\n",
    "roh = Summary_ROH_Calls(mosaic_folder = mosaic_folder, ch=3, nr_iid = 20, blen_cm = 0, \n",
    "                        output_prefix = output_prefix, output=True)\n",
    "print(\"False Positives:\")\n",
    "df_calls = roh.collect_power_df()"
   ]
  },
  {
   "cell_type": "code",
   "execution_count": 42,
   "metadata": {},
   "outputs": [
    {
     "name": "stdout",
     "output_type": "stream",
     "text": [
      "20 unique Individuals\n",
      "100 / 100 Blocks called\n",
      "89 Blocks called > 80.0 %\n",
      "3.8915 average Block Length cM (called)\n"
     ]
    }
   ],
   "source": [
    "mosaic_folder = \"./Simulated/1000G_Mosaic/TSI6/\"\n",
    "output_prefix =  \"0999/\"\n",
    "\n",
    "roh = Summary_ROH_Calls(mosaic_folder=mosaic_folder, ch=3, nr_iid = 20, blen_cm = 4, \n",
    "                        output_prefix = output_prefix)\n",
    "\n",
    "df_calls = roh.collect_power_df()\n",
    "statistics_power_df(df_calls)"
   ]
  },
  {
   "cell_type": "markdown",
   "metadata": {},
   "source": [
    "### Plot Distribution of FP"
   ]
  },
  {
   "cell_type": "code",
   "execution_count": 23,
   "metadata": {},
   "outputs": [
    {
     "name": "stdout",
     "output_type": "stream",
     "text": [
      "Found 322 FP blocks\n",
      "Average Block length: 0.0161 cM\n",
      "Maximum Block length: 0.0424 cM\n"
     ]
    },
    {
     "data": {
      "image/png": "[encoded data removed]",
      "text/plain": [
       "<Figure size 432x216 with 1 Axes>"
      ]
     },
     "metadata": {
      "needs_background": "light"
     },
     "output_type": "display_data"
    }
   ],
   "source": [
    "roh = Summary_ROH_Calls(mosaic_folder=\"./Simulated/1000G_Mosaic/TSI6/\", ch=3, nr_iid = 20, \n",
    "                        blen_cm = 0, output_prefix = \"09/\")\n",
    "df_call_fp = roh.collect_fp_df()\n",
    "false_power_statistics(df_call_fp)  # Do give some written statistics\n",
    "\n",
    "plot_fp_distribution(df_call_fp, title = \"100 Mosaic TSI Samples - Reference: 1000G Eur / TSI\",\n",
    "                    figsize=(6,3))"
   ]
  },
  {
   "cell_type": "code",
   "execution_count": 63,
   "metadata": {},
   "outputs": [
    {
     "name": "stdout",
     "output_type": "stream",
     "text": [
      "Found 207 FP blocks\n",
      "Average Block length: 0.0119 cM\n",
      "Maximum Block length: 0.0196 cM\n"
     ]
    },
    {
     "data": {
      "image/png": "[encoded data removed]",
      "text/plain": [
       "<Figure size 432x216 with 1 Axes>"
      ]
     },
     "metadata": {
      "needs_background": "light"
     },
     "output_type": "display_data"
    }
   ],
   "source": [
    "roh = Summary_ROH_Calls(mosaic_folder=\"./Simulated/1000G_Mosaic/TSI5/\", ch=3, nr_iid = 100, \n",
    "                        blen_cm = 0, output_prefix = \"ROH400/\")\n",
    "df_call_fp = roh.collect_fp_df()\n",
    "false_power_statistics(df_call_fp)  # Do give some written statistics\n",
    "\n",
    "plot_fp_distribution(df_call_fp, title = \"100 Mosaic TSI Samples - Reference: 1000G Eur / TSI\",\n",
    "                    figsize=(6,3))"
   ]
  },
  {
   "cell_type": "markdown",
   "metadata": {},
   "source": [
    "# Plot bias/power/se/fp rate"
   ]
  },
  {
   "cell_type": "code",
   "execution_count": 143,
   "metadata": {},
   "outputs": [],
   "source": [
    "def load_line_search(cutoffs=[], mosaic_folder = \"./Simulated/1000G_Mosaic/TSI6/\",\n",
    "                    ch=3, nr_iid=20, blen_cm=4, min_overlap=0.8, savepath=\"\"):\n",
    "    \"\"\"Load Line and Return Line Search Statistics\n",
    "    for posterior\"\"\"\n",
    "    \n",
    "    pfixes = [str(c).replace(\".\", \"\") + \"/\" for c in cutoffs]\n",
    "    n = len(pfixes)\n",
    "    sts = np.zeros(n, dtype=\"float\")\n",
    "    fps = np.zeros(n, dtype=\"int\")\n",
    "    fps2 = np.zeros(n, dtype=\"int\")\n",
    "    power = np.zeros(n, dtype=\"float\")\n",
    "    bias = np.zeros(n, dtype=\"float\")\n",
    "    \n",
    "    for i,p in enumerate(pfixes):\n",
    "        output_prefix= pfixes[i]\n",
    "        roh = Summary_ROH_Calls(mosaic_folder=mosaic_folder, ch=ch, nr_iid = nr_iid, blen_cm = blen_cm, \n",
    "                                output_prefix = output_prefix)\n",
    "\n",
    "        df_calls = roh.collect_power_df()\n",
    "        bias[i] = np.mean(df_calls[\"CalledLength\"] - df_calls[\"OriginalLength\"])\n",
    "        power[i] = np.mean(df_calls[\"OverlapFrac\"] > min_overlap)\n",
    "        calc_power(df_calls)\n",
    "        sts[i] = give_SE(df_calls)\n",
    "        roh = Summary_ROH_Calls(mosaic_folder = mosaic_folder, ch=3, nr_iid = 20, blen_cm = 0, \n",
    "                                output_prefix = output_prefix, output=True)\n",
    "        df_call_fp = roh.collect_fp_df()\n",
    "        fps[i] = len(df_call_fp)/nr_iid\n",
    "        fps2[i] = np.sum(df_call_fp[\"lengthM\"]>0.02)/nr_iid\n",
    "        \n",
    "    ### Put into 1 Dataframe\n",
    "    df = pd.DataFrame({\"Posterior Cutoff\":cutoffs, \"STD. Length Called 4cM\":sts, \"False Positive ROH>1cM / Chr. 3\":fps,\n",
    "                       \"False Positive ROH>2cM / Chr. 3\": fps2,\n",
    "                       \"Avg. Length Bias 4 cM [cM]\":bias, \"Fraction of 80% of 4 cM Block detected\":power})\n",
    "    \n",
    "    if len(savepath)>0:\n",
    "        df.to_csv(savepath, index=False)\n",
    "        print(f\"Saved Output Table to {savepath}\")\n",
    "    return df"
   ]
  },
  {
   "cell_type": "code",
   "execution_count": 146,
   "metadata": {},
   "outputs": [
    {
     "name": "stdout",
     "output_type": "stream",
     "text": [
      "Saved Output Table to ./TablesOut/statistics_cutoff.csv\n"
     ]
    }
   ],
   "source": [
    "cutoffs = [0.9, 0.99, 0.992, 0.994, 0.996, 0.998, 0.999, 0.9999, 0.99999]\n",
    "#cutoffs = [0.99, 0.992, 0.994, 0.996, 0.998]\n",
    "df = load_line_search(cutoffs, mosaic_folder = \"./Simulated/1000G_Mosaic/TSI6/\",\n",
    "                      ch=3, nr_iid=20, blen_cm=4, min_overlap=0.8,\n",
    "                      savepath = \"./TablesOut/statistics_cutoff.csv\")"
   ]
  },
  {
   "cell_type": "code",
   "execution_count": 147,
   "metadata": {},
   "outputs": [
    {
     "data": {
      "text/html": [
       "<div>\n",
       "<style scoped>\n",
       "    .dataframe tbody tr th:only-of-type {\n",
       "        vertical-align: middle;\n",
       "    }\n",
       "\n",
       "    .dataframe tbody tr th {\n",
       "        vertical-align: top;\n",
       "    }\n",
       "\n",
       "    .dataframe thead th {\n",
       "        text-align: right;\n",
       "    }\n",
       "</style>\n",
       "<table border=\"1\" class=\"dataframe\">\n",
       "  <thead>\n",
       "    <tr style=\"text-align: right;\">\n",
       "      <th></th>\n",
       "      <th>Posterior Cutoff</th>\n",
       "      <th>STD. Length Called 4cM</th>\n",
       "      <th>False Positive ROH&gt;1cM / Chr. 3</th>\n",
       "      <th>False Positive ROH&gt;2cM / Chr. 3</th>\n",
       "      <th>Avg. Length Bias 4 cM [cM]</th>\n",
       "      <th>Fraction of 80% of 4 cM Block detected</th>\n",
       "    </tr>\n",
       "  </thead>\n",
       "  <tbody>\n",
       "    <tr>\n",
       "      <th>0</th>\n",
       "      <td>0.90000</td>\n",
       "      <td>0.686527</td>\n",
       "      <td>16</td>\n",
       "      <td>2</td>\n",
       "      <td>0.570660</td>\n",
       "      <td>1.00</td>\n",
       "    </tr>\n",
       "    <tr>\n",
       "      <th>1</th>\n",
       "      <td>0.99000</td>\n",
       "      <td>0.587713</td>\n",
       "      <td>7</td>\n",
       "      <td>0</td>\n",
       "      <td>0.233491</td>\n",
       "      <td>0.97</td>\n",
       "    </tr>\n",
       "    <tr>\n",
       "      <th>2</th>\n",
       "      <td>0.99200</td>\n",
       "      <td>0.509959</td>\n",
       "      <td>6</td>\n",
       "      <td>0</td>\n",
       "      <td>0.232956</td>\n",
       "      <td>0.98</td>\n",
       "    </tr>\n",
       "    <tr>\n",
       "      <th>3</th>\n",
       "      <td>0.99400</td>\n",
       "      <td>0.510417</td>\n",
       "      <td>6</td>\n",
       "      <td>0</td>\n",
       "      <td>0.214564</td>\n",
       "      <td>0.98</td>\n",
       "    </tr>\n",
       "    <tr>\n",
       "      <th>4</th>\n",
       "      <td>0.99600</td>\n",
       "      <td>0.556533</td>\n",
       "      <td>5</td>\n",
       "      <td>0</td>\n",
       "      <td>0.147027</td>\n",
       "      <td>0.98</td>\n",
       "    </tr>\n",
       "    <tr>\n",
       "      <th>5</th>\n",
       "      <td>0.99800</td>\n",
       "      <td>0.571496</td>\n",
       "      <td>3</td>\n",
       "      <td>0</td>\n",
       "      <td>0.029770</td>\n",
       "      <td>0.94</td>\n",
       "    </tr>\n",
       "    <tr>\n",
       "      <th>6</th>\n",
       "      <td>0.99900</td>\n",
       "      <td>0.613571</td>\n",
       "      <td>1</td>\n",
       "      <td>0</td>\n",
       "      <td>-0.108460</td>\n",
       "      <td>0.89</td>\n",
       "    </tr>\n",
       "    <tr>\n",
       "      <th>7</th>\n",
       "      <td>0.99990</td>\n",
       "      <td>0.973190</td>\n",
       "      <td>0</td>\n",
       "      <td>0</td>\n",
       "      <td>-1.304151</td>\n",
       "      <td>0.35</td>\n",
       "    </tr>\n",
       "    <tr>\n",
       "      <th>8</th>\n",
       "      <td>0.99999</td>\n",
       "      <td>0.845633</td>\n",
       "      <td>0</td>\n",
       "      <td>0</td>\n",
       "      <td>-3.219375</td>\n",
       "      <td>0.00</td>\n",
       "    </tr>\n",
       "  </tbody>\n",
       "</table>\n",
       "</div>"
      ],
      "text/plain": [
       "   Posterior Cutoff  STD. Length Called 4cM  False Positive ROH>1cM / Chr. 3  \\\n",
       "0           0.90000                0.686527                               16   \n",
       "1           0.99000                0.587713                                7   \n",
       "2           0.99200                0.509959                                6   \n",
       "3           0.99400                0.510417                                6   \n",
       "4           0.99600                0.556533                                5   \n",
       "5           0.99800                0.571496                                3   \n",
       "6           0.99900                0.613571                                1   \n",
       "7           0.99990                0.973190                                0   \n",
       "8           0.99999                0.845633                                0   \n",
       "\n",
       "   False Positive ROH>2cM / Chr. 3  Avg. Length Bias 4 cM [cM]  \\\n",
       "0                                2                    0.570660   \n",
       "1                                0                    0.233491   \n",
       "2                                0                    0.232956   \n",
       "3                                0                    0.214564   \n",
       "4                                0                    0.147027   \n",
       "5                                0                    0.029770   \n",
       "6                                0                   -0.108460   \n",
       "7                                0                   -1.304151   \n",
       "8                                0                   -3.219375   \n",
       "\n",
       "   Fraction of 80% of 4 cM Block detected  \n",
       "0                                    1.00  \n",
       "1                                    0.97  \n",
       "2                                    0.98  \n",
       "3                                    0.98  \n",
       "4                                    0.98  \n",
       "5                                    0.94  \n",
       "6                                    0.89  \n",
       "7                                    0.35  \n",
       "8                                    0.00  "
      ]
     },
     "execution_count": 147,
     "metadata": {},
     "output_type": "execute_result"
    }
   ],
   "source": [
    "df"
   ]
  },
  {
   "cell_type": "code",
   "execution_count": 133,
   "metadata": {},
   "outputs": [
    {
     "data": {
      "image/png": "[encoded data removed]",
      "text/plain": [
       "<Figure size 432x288 with 1 Axes>"
      ]
     },
     "metadata": {
      "needs_background": "light"
     },
     "output_type": "display_data"
    }
   ],
   "source": [
    "plt.figure()\n",
    "ax=plt.gca()\n",
    "ax.plot(1-df[\"Posterior Cutoff\"], df[\"STD. Length Called 4cM\"], \"o--\", ms=7, lw=2)\n",
    "ax.set_xscale(\"log\")\n",
    "ax.set_ylabel(\"STD\")\n",
    "plt.show()"
   ]
  },
  {
   "cell_type": "code",
   "execution_count": null,
   "metadata": {},
   "outputs": [],
   "source": []
  }
 ],
 "metadata": {
  "kernelspec": {
   "display_name": "Python 3",
   "language": "python",
   "name": "python3"
  },
  "language_info": {
   "codemirror_mode": {
    "name": "ipython",
    "version": 3
   },
   "file_extension": ".py",
   "mimetype": "text/x-python",
   "name": "python",
   "nbconvert_exporter": "python",
   "pygments_lexer": "ipython3",
   "version": "3.7.0"
  }
 },
 "nbformat": 4,
 "nbformat_minor": 2
}
