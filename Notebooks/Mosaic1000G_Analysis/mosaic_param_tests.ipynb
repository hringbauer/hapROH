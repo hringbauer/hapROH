{
 "cells": [
  {
   "cell_type": "markdown",
   "metadata": {},
   "source": [
    "# Notebook to test Parameters of hapROH runs on Mosaic data"
   ]
  },
  {
   "cell_type": "code",
   "execution_count": 48,
   "metadata": {},
   "outputs": [
    {
     "name": "stdout",
     "output_type": "stream",
     "text": [
      "midway2-0402.rcc.local\n",
      "Midway jnovmbre partition detected.\n",
      "/project2/jnovembre/hringbauer/HAPSBURG\n",
      "CPU Count: 28\n"
     ]
    }
   ],
   "source": [
    "import pandas as pd\n",
    "import numpy as np\n",
    "import matplotlib.pyplot as plt\n",
    "import matplotlib.cm as cm\n",
    "from matplotlib import gridspec\n",
    "import socket\n",
    "import os as os\n",
    "import sys as sys\n",
    "import multiprocessing as mp\n",
    "from matplotlib import rcParams\n",
    "\n",
    "rcParams['font.family'] = 'sans-serif'   # Set the defaul\n",
    "rcParams['font.sans-serif'] = ['Arial']  # Make sure to have the font installed (it is on cluster for Harald)\n",
    "\n",
    "socket_name = socket.gethostname()\n",
    "print(socket_name)\n",
    "if socket_name == \"VioletQueen\":\n",
    "    path = \"/home/harald/git/HAPSBURG/\"   # The Path on Harald's machine\n",
    "elif socket_name.startswith(\"midway2\"):\n",
    "    print(\"Midway jnovmbre partition detected.\")\n",
    "    path = \"/project2/jnovembre/hringbauer/HAPSBURG/\"  # The Path on Midway Cluster\n",
    "else: \n",
    "    raise RuntimeWarning(\"Not compatible machine. Check!!\")\n",
    "    \n",
    "os.chdir(path)  # Set the right Path (in line with Atom default)\n",
    "\n",
    "sys.path.append(\"./Notebooks/Mosaic1000G_Analysis/mosaic_test/\")  # Assume we are in Hapsburg Root Directory\n",
    "#sys.path.append(\"./package/hapsburg/\")  # Assume we are in Hapsburg Root Directory\n",
    "\n",
    "#from hmm_inference import HMM_Analyze   # Do not move. Should be after sys.path..\n",
    "from load_funcs import Summary_ROH_Calls, Summary_ROH_Calls_Error, Summary_ROH_Calls_Missing,\\\n",
    "                        statistics_power_df, calc_power, give_SE, give_bias,\\\n",
    "                        false_power_statistics\n",
    "\n",
    "from plot_funcs import plot_power, plot_fp_distribution\n",
    "\n",
    "print(os.getcwd()) # Show the current working directory. Should be HAPSBURG/Notebooks/ParallelRuns\n",
    "print(f\"CPU Count: {mp.cpu_count()}\")"
   ]
  },
  {
   "cell_type": "markdown",
   "metadata": {},
   "source": [
    "# Test Statistics of replicate runs (of single copy length)\n",
    "See  \n",
    "https://docs.google.com/spreadsheets/d/1QhajP9yk6hzMoIiBzyriSARWuOWnBLei78ZOKS7QMUE/edit?usp=sharing  \n",
    "for tabulation of results"
   ]
  },
  {
   "cell_type": "markdown",
   "metadata": {},
   "source": [
    "### Report Parameters for a single Replicate\n",
    "(Modify parameters for run of interest)"
   ]
  },
  {
   "cell_type": "code",
   "execution_count": 65,
   "metadata": {},
   "outputs": [
    {
     "name": "stdout",
     "output_type": "stream",
     "text": [
      "100 unique Individuals\n",
      "339 / 500 Blocks called\n",
      "85 Blocks called > 80.0 %\n",
      "2.7392 average Block Length cM (called)\n",
      "Bias: -2.1428\n",
      "Standard Error: 1.6303\n",
      "False Positives:\n",
      "Total Nr Simulated: 0\n",
      "Total Nr Called: 181\n"
     ]
    }
   ],
   "source": [
    "mosaic_folder = \"./Simulated/1000G_Mosaic/TSI5/lambda_rc0.1/\"\n",
    "output_prefix =  \"ph_c999/\"\n",
    "n_iid = 100\n",
    "blen_cm = 4\n",
    "\n",
    "roh = Summary_ROH_Calls(mosaic_folder=mosaic_folder, ch=3, nr_iid = n_iid, \n",
    "                        blen_cm = blen_cm, output_prefix = output_prefix)\n",
    "\n",
    "df_calls = roh.collect_power_df()\n",
    "statistics_power_df(df_calls)\n",
    "calc_power(df_calls)\n",
    "bias = give_bias(df_calls, blen_cm)\n",
    "se = give_SE(df_calls)\n",
    "print(f\"Bias: {bias:.4f}\")\n",
    "print(f\"Standard Error: {se:.4f}\")\n",
    "\n",
    "roh = Summary_ROH_Calls(mosaic_folder = mosaic_folder, ch=3, nr_iid = n_iid, blen_cm = 0, \n",
    "                        output_prefix = output_prefix, output=True)\n",
    "print(\"False Positives:\")\n",
    "df_calls = roh.collect_power_df()"
   ]
  },
  {
   "cell_type": "code",
   "execution_count": 66,
   "metadata": {},
   "outputs": [
    {
     "name": "stdout",
     "output_type": "stream",
     "text": [
      "100 unique Individuals\n",
      "348 / 500 Blocks called\n",
      "94 Blocks called > 80.0 %\n",
      "2.7184 average Block Length cM (called)\n",
      "Bias: -2.1080\n",
      "Standard Error: 1.5533\n",
      "False Positives:\n",
      "Total Nr Simulated: 0\n",
      "Total Nr Called: 113\n"
     ]
    }
   ],
   "source": [
    "mosaic_folder = \"./Simulated/1000G_Mosaic/TSI5/lambda_rc0.1/\"\n",
    "output_prefix =  \"c999/\"\n",
    "n_iid = 100\n",
    "blen_cm = 4\n",
    "\n",
    "roh = Summary_ROH_Calls(mosaic_folder=mosaic_folder, ch=3, nr_iid = n_iid, \n",
    "                        blen_cm = blen_cm, output_prefix = output_prefix)\n",
    "\n",
    "df_calls = roh.collect_power_df()\n",
    "statistics_power_df(df_calls)\n",
    "calc_power(df_calls)\n",
    "bias = give_bias(df_calls, blen_cm)\n",
    "se = give_SE(df_calls)\n",
    "print(f\"Bias: {bias:.4f}\")\n",
    "print(f\"Standard Error: {se:.4f}\")\n",
    "\n",
    "roh = Summary_ROH_Calls(mosaic_folder = mosaic_folder, ch=3, nr_iid = n_iid, blen_cm = 0, \n",
    "                        output_prefix = output_prefix, output=True)\n",
    "print(\"False Positives:\")\n",
    "df_calls = roh.collect_power_df()"
   ]
  },
  {
   "cell_type": "markdown",
   "metadata": {},
   "source": [
    "### Plot Distribution of FP"
   ]
  },
  {
   "cell_type": "code",
   "execution_count": 55,
   "metadata": {},
   "outputs": [
    {
     "name": "stdout",
     "output_type": "stream",
     "text": [
      "Found 113 FP blocks\n",
      "Average Block length: 0.0172 cM\n",
      "Maximum Block length: 0.0506 cM\n"
     ]
    },
    {
     "data": {
      "image/png": "[encoded data removed]",
      "text/plain": [
       "<Figure size 360x216 with 1 Axes>"
      ]
     },
     "metadata": {
      "needs_background": "light"
     },
     "output_type": "display_data"
    }
   ],
   "source": [
    "roh = Summary_ROH_Calls(mosaic_folder=\"./Simulated/1000G_Mosaic/TSI5/lambda_rc0.1/\", ch=3, nr_iid = 100, \n",
    "                        blen_cm = 0, output_prefix = \"c999/\")\n",
    "df_call_fp = roh.collect_fp_df()\n",
    "false_power_statistics(df_call_fp)  # Do give some written statistics\n",
    "\n",
    "bins = np.linspace(2, 8, 26)\n",
    "plot_fp_distribution(df_call_fp, bins=bins,\n",
    "                     title = \"100 Mosaic TSI Samples - Lambda Readcount Default Params\",\n",
    "                     figsize=(5,3), xlim=[2,8])"
   ]
  },
  {
   "cell_type": "markdown",
   "metadata": {},
   "source": [
    "### Plot False Positive for Downsampled Pseudo-Haploid Data"
   ]
  },
  {
   "cell_type": "code",
   "execution_count": 56,
   "metadata": {},
   "outputs": [
    {
     "name": "stdout",
     "output_type": "stream",
     "text": [
      "Found 223 FP blocks\n",
      "Average Block length: 0.0161 cM\n",
      "Maximum Block length: 0.0378 cM\n"
     ]
    },
    {
     "data": {
      "image/png": "[encoded data removed]",
      "text/plain": [
       "<Figure size 360x216 with 1 Axes>"
      ]
     },
     "metadata": {
      "needs_background": "light"
     },
     "output_type": "display_data"
    }
   ],
   "source": [
    "roh = Summary_ROH_Calls_Missing(mosaic_folder=\"./Simulated/1000G_Mosaic/TSI5/\", \n",
    "                                ch=3, nr_iid = 100, missing=0.1,\n",
    "                                blen_cm = 0, output_prefix = \"merged/\")\n",
    "df_call_fp = roh.collect_fp_df()\n",
    "false_power_statistics(df_call_fp)  # Do give some written statistics\n",
    "\n",
    "bins = np.linspace(2, 8, 26)\n",
    "plot_fp_distribution(df_call_fp, bins=bins,\n",
    "                     title = \"100 Mosaic TSI Samples - Lambda Readcount Default Params\",\n",
    "                     figsize=(5,3), xlim=[2,8])"
   ]
  },
  {
   "cell_type": "code",
   "execution_count": 26,
   "metadata": {},
   "outputs": [
    {
     "data": {
      "text/plain": [
       "266"
      ]
     },
     "execution_count": 26,
     "metadata": {},
     "output_type": "execute_result"
    }
   ],
   "source": [
    "np.sum(df_call_fp[\"lengthM\"]>0.02)"
   ]
  },
  {
   "cell_type": "code",
   "execution_count": 20,
   "metadata": {},
   "outputs": [
    {
     "name": "stdout",
     "output_type": "stream",
     "text": [
      "Found 64 FP blocks\n",
      "Average Block length: 0.0123 cM\n",
      "Maximum Block length: 0.0211 cM\n"
     ]
    },
    {
     "data": {
      "image/png": "[encoded data removed]",
      "text/plain": [
       "<Figure size 432x216 with 1 Axes>"
      ]
     },
     "metadata": {
      "needs_background": "light"
     },
     "output_type": "display_data"
    }
   ],
   "source": [
    "roh = Summary_ROH_Calls(mosaic_folder=\"./Simulated/1000G_Mosaic/TSI5/\", ch=3, nr_iid = 40, \n",
    "                        blen_cm = 0, output_prefix = \"0999/\")\n",
    "df_call_fp = roh.collect_fp_df()\n",
    "false_power_statistics(df_call_fp)  # Do give some written statistics\n",
    "plot_fp_distribution(df_call_fp, title = \"100 Mosaic TSI Samples - Reference: 1000G Eur / TSI\",\n",
    "                    figsize=(6,3))"
   ]
  },
  {
   "cell_type": "markdown",
   "metadata": {},
   "source": [
    "# Plot bias/power/se/fp rate"
   ]
  },
  {
   "cell_type": "code",
   "execution_count": 2,
   "metadata": {},
   "outputs": [],
   "source": [
    "def load_line_search(cutoffs=[], mosaic_folder = \"./Simulated/1000G_Mosaic/TSI6/\",\n",
    "                    ch=3, nr_iid=20, blen_cm=4, min_overlap=0.8, savepath=\"\"):\n",
    "    \"\"\"Load Line and Return Line Search Statistics\n",
    "    for posterior\"\"\"\n",
    "    \n",
    "    pfixes = [str(c).replace(\".\", \"\") + \"/\" for c in cutoffs]\n",
    "    n = len(pfixes)\n",
    "    sts = np.zeros(n, dtype=\"float\")\n",
    "    fps = np.zeros(n, dtype=\"float\")\n",
    "    fps2 = np.zeros(n, dtype=\"float\")\n",
    "    power = np.zeros(n, dtype=\"float\")\n",
    "    bias = np.zeros(n, dtype=\"float\")\n",
    "    \n",
    "    for i,p in enumerate(pfixes):\n",
    "        output_prefix= pfixes[i]\n",
    "        roh = Summary_ROH_Calls(mosaic_folder=mosaic_folder, ch=ch, nr_iid = nr_iid, blen_cm = blen_cm, \n",
    "                                output_prefix = output_prefix)\n",
    "\n",
    "        df_calls = roh.collect_power_df()\n",
    "        bias[i] = np.mean(df_calls[\"CalledLength\"] - df_calls[\"OriginalLength\"])\n",
    "        power[i] = np.mean(df_calls[\"OverlapFrac\"] > min_overlap)\n",
    "        calc_power(df_calls)\n",
    "        sts[i] = give_SE(df_calls)\n",
    "        roh = Summary_ROH_Calls(mosaic_folder = mosaic_folder, ch=3, nr_iid = nr_iid, blen_cm = 0, \n",
    "                                output_prefix = output_prefix, output=False)\n",
    "        df_call_fp = roh.collect_fp_df()\n",
    "        fps[i] = len(df_call_fp)/nr_iid\n",
    "        fps2[i] = np.sum(df_call_fp[\"lengthM\"]>0.02)/nr_iid\n",
    "        \n",
    "    ### Put into 1 Dataframe\n",
    "    df = pd.DataFrame({\"Posterior Cutoff\":cutoffs, \"Replicates\":nr_iid, \"STD. Length Called 4cM\":sts, \n",
    "                       \"False Positive ROH>1cM / Chr. 3\":fps,\n",
    "                       \"False Positive ROH>2cM / Chr. 3\": fps2,\n",
    "                       \"Avg. Length Bias 4 cM [cM]\":bias, \"Fraction of 80% of 4 cM Block detected\":power})\n",
    "    \n",
    "    if len(savepath)>0:\n",
    "        df.to_csv(savepath, index=False)\n",
    "        print(f\"Saved Output Table to {savepath}\")\n",
    "    return df"
   ]
  },
  {
   "cell_type": "markdown",
   "metadata": {},
   "source": [
    "### The worst case [0.5x PH, 1% error]"
   ]
  },
  {
   "cell_type": "code",
   "execution_count": 7,
   "metadata": {},
   "outputs": [
    {
     "name": "stdout",
     "output_type": "stream",
     "text": [
      "Saved Output Table to ./TablesOut/var_post_cutoff.csv\n"
     ]
    }
   ],
   "source": [
    "cutoffs = [0.9, 0.99, 0.992, 0.994, 0.996, 0.998, 0.999, 0.9999, 0.99999]\n",
    "#cutoffs = [0.99, 0.992, 0.994, 0.996, 0.998]\n",
    "#cutoffs = [0.9, 0.99, 0.992, 0.994, 0.996, 0.997, 0.998, 0.999, 0.9999, 0.99999] # Run with 20 Individuals\n",
    "#cutoffs = [0.996, 0.997, 0.998, 0.999]  # Run with 100 individiuals\n",
    "df = load_line_search(cutoffs, mosaic_folder = \"./Simulated/1000G_Mosaic/TSI6/\",\n",
    "                      ch=3, nr_iid=20, blen_cm=4, min_overlap=0.8,\n",
    "                      savepath = \"./TablesOut/var_post_cutoff.csv\")"
   ]
  },
  {
   "cell_type": "code",
   "execution_count": 8,
   "metadata": {},
   "outputs": [
    {
     "data": {
      "text/plain": [
       "'\\\\begin{tabular}{lrrrrrrr}\\n\\\\toprule\\n{} &  Posterior Cutoff &  Replicates &  STD. Length Called 4cM &  False Positive ROH>1cM / Chr. 3 &  False Positive ROH>2cM / Chr. 3 &  Avg. Length Bias 4 cM [cM] &  Fraction of 80\\\\% of 4 cM Block detected \\\\\\\\\\n\\\\midrule\\n0 &           0.90000 &          20 &                0.686527 &                             16.1 &                             2.95 &                    0.570660 &                                    1.00 \\\\\\\\\\n1 &           0.99000 &          20 &                0.587713 &                              7.6 &                             0.65 &                    0.233491 &                                    0.97 \\\\\\\\\\n2 &           0.99200 &          20 &                0.509959 &                              6.8 &                             0.65 &                    0.232956 &                                    0.98 \\\\\\\\\\n3 &           0.99400 &          20 &                0.510417 &                              6.0 &                             0.55 &                    0.214564 &                                    0.98 \\\\\\\\\\n4 &           0.99600 &          20 &                0.562971 &                              5.5 &                             0.35 &                    0.131922 &                                    0.98 \\\\\\\\\\n5 &           0.99800 &          20 &                0.551759 &                              3.9 &                             0.15 &                   -0.031621 &                                    0.91 \\\\\\\\\\n6 &           0.99900 &          20 &                0.521639 &                              2.2 &                             0.10 &                   -0.084078 &                                    0.91 \\\\\\\\\\n7 &           0.99990 &          20 &                0.973190 &                              0.2 &                             0.00 &                   -1.304151 &                                    0.35 \\\\\\\\\\n8 &           0.99999 &          20 &                0.845633 &                              0.0 &                             0.00 &                   -3.219375 &                                    0.00 \\\\\\\\\\n\\\\bottomrule\\n\\\\end{tabular}\\n'"
      ]
     },
     "execution_count": 8,
     "metadata": {},
     "output_type": "execute_result"
    }
   ],
   "source": [
    "df.to_latex()"
   ]
  },
  {
   "cell_type": "code",
   "execution_count": 9,
   "metadata": {},
   "outputs": [
    {
     "name": "stdout",
     "output_type": "stream",
     "text": [
      "\\begin{tabular}{rrrrrrr}\n",
      "\\toprule\n",
      " Posterior Cutoff &  Replicates &  STD. Length Called 4cM &  False Positive ROH>1cM / Chr. 3 &  False Positive ROH>2cM / Chr. 3 &  Avg. Length Bias 4 cM [cM] &  Fraction of 80\\% of 4 cM Block detected \\\\\n",
      "\\midrule\n",
      "          0.90000 &          20 &                0.686527 &                             16.1 &                             2.95 &                    0.570660 &                                    1.00 \\\\\n",
      "          0.99000 &          20 &                0.587713 &                              7.6 &                             0.65 &                    0.233491 &                                    0.97 \\\\\n",
      "          0.99200 &          20 &                0.509959 &                              6.8 &                             0.65 &                    0.232956 &                                    0.98 \\\\\n",
      "          0.99400 &          20 &                0.510417 &                              6.0 &                             0.55 &                    0.214564 &                                    0.98 \\\\\n",
      "          0.99600 &          20 &                0.562971 &                              5.5 &                             0.35 &                    0.131922 &                                    0.98 \\\\\n",
      "          0.99800 &          20 &                0.551759 &                              3.9 &                             0.15 &                   -0.031621 &                                    0.91 \\\\\n",
      "          0.99900 &          20 &                0.521639 &                              2.2 &                             0.10 &                   -0.084078 &                                    0.91 \\\\\n",
      "          0.99990 &          20 &                0.973190 &                              0.2 &                             0.00 &                   -1.304151 &                                    0.35 \\\\\n",
      "          0.99999 &          20 &                0.845633 &                              0.0 &                             0.00 &                   -3.219375 &                                    0.00 \\\\\n",
      "\\bottomrule\n",
      "\\end{tabular}\n",
      "\n"
     ]
    }
   ],
   "source": [
    "print(df.to_latex(index=False))"
   ]
  },
  {
   "cell_type": "code",
   "execution_count": null,
   "metadata": {},
   "outputs": [],
   "source": [
    "df"
   ]
  },
  {
   "cell_type": "markdown",
   "metadata": {},
   "source": [
    "### The best case"
   ]
  },
  {
   "cell_type": "code",
   "execution_count": 4,
   "metadata": {},
   "outputs": [
    {
     "name": "stdout",
     "output_type": "stream",
     "text": [
      "Saved Output Table to ./TablesOut/var_post_cutoff_bestcase.csv\n"
     ]
    }
   ],
   "source": [
    "cutoffs = [0.998, 0.999, 0.9995]\n",
    "df = load_line_search(cutoffs, mosaic_folder = \"./Simulated/1000G_Mosaic/TSI5/\",\n",
    "                      ch=3, nr_iid=40, blen_cm=4, min_overlap=0.8,\n",
    "                      savepath = \"./TablesOut/var_post_cutoff_bestcase.csv\")"
   ]
  },
  {
   "cell_type": "code",
   "execution_count": 8,
   "metadata": {},
   "outputs": [
    {
     "data": {
      "text/html": [
       "<div>\n",
       "<style scoped>\n",
       "    .dataframe tbody tr th:only-of-type {\n",
       "        vertical-align: middle;\n",
       "    }\n",
       "\n",
       "    .dataframe tbody tr th {\n",
       "        vertical-align: top;\n",
       "    }\n",
       "\n",
       "    .dataframe thead th {\n",
       "        text-align: right;\n",
       "    }\n",
       "</style>\n",
       "<table border=\"1\" class=\"dataframe\">\n",
       "  <thead>\n",
       "    <tr style=\"text-align: right;\">\n",
       "      <th></th>\n",
       "      <th>Posterior Cutoff</th>\n",
       "      <th>Replicates</th>\n",
       "      <th>STD. Length Called 4cM</th>\n",
       "      <th>False Positive ROH&gt;1cM / Chr. 3</th>\n",
       "      <th>False Positive ROH&gt;2cM / Chr. 3</th>\n",
       "      <th>Avg. Length Bias 4 cM [cM]</th>\n",
       "      <th>Fraction of 80% of 4 cM Block detected</th>\n",
       "    </tr>\n",
       "  </thead>\n",
       "  <tbody>\n",
       "    <tr>\n",
       "      <th>0</th>\n",
       "      <td>0.9980</td>\n",
       "      <td>40</td>\n",
       "      <td>0.395002</td>\n",
       "      <td>2.925</td>\n",
       "      <td>0.050</td>\n",
       "      <td>0.091163</td>\n",
       "      <td>0.985</td>\n",
       "    </tr>\n",
       "    <tr>\n",
       "      <th>1</th>\n",
       "      <td>0.9990</td>\n",
       "      <td>40</td>\n",
       "      <td>0.381483</td>\n",
       "      <td>1.600</td>\n",
       "      <td>0.025</td>\n",
       "      <td>0.029897</td>\n",
       "      <td>0.975</td>\n",
       "    </tr>\n",
       "    <tr>\n",
       "      <th>2</th>\n",
       "      <td>0.9995</td>\n",
       "      <td>40</td>\n",
       "      <td>0.418690</td>\n",
       "      <td>1.000</td>\n",
       "      <td>0.000</td>\n",
       "      <td>-0.048573</td>\n",
       "      <td>0.945</td>\n",
       "    </tr>\n",
       "  </tbody>\n",
       "</table>\n",
       "</div>"
      ],
      "text/plain": [
       "   Posterior Cutoff  Replicates  STD. Length Called 4cM  \\\n",
       "0            0.9980          40                0.395002   \n",
       "1            0.9990          40                0.381483   \n",
       "2            0.9995          40                0.418690   \n",
       "\n",
       "   False Positive ROH>1cM / Chr. 3  False Positive ROH>2cM / Chr. 3  \\\n",
       "0                            2.925                            0.050   \n",
       "1                            1.600                            0.025   \n",
       "2                            1.000                            0.000   \n",
       "\n",
       "   Avg. Length Bias 4 cM [cM]  Fraction of 80% of 4 cM Block detected  \n",
       "0                    0.091163                                   0.985  \n",
       "1                    0.029897                                   0.975  \n",
       "2                   -0.048573                                   0.945  "
      ]
     },
     "execution_count": 8,
     "metadata": {},
     "output_type": "execute_result"
    }
   ],
   "source": [
    "df"
   ]
  },
  {
   "cell_type": "markdown",
   "metadata": {},
   "source": [
    "plt.figure()\n",
    "ax=plt.gca()\n",
    "ax.plot(1-df[\"Posterior Cutoff\"], df[\"STD. Length Called 4cM\"], \"o--\", ms=7, lw=2)\n",
    "ax.set_xscale(\"log\")\n",
    "ax.set_ylabel(\"STD\")\n",
    "plt.show()"
   ]
  },
  {
   "cell_type": "code",
   "execution_count": null,
   "metadata": {},
   "outputs": [],
   "source": []
  },
  {
   "cell_type": "markdown",
   "metadata": {},
   "source": [
    "# Analyze Missing PHs"
   ]
  },
  {
   "cell_type": "code",
   "execution_count": 5,
   "metadata": {},
   "outputs": [
    {
     "name": "stdout",
     "output_type": "stream",
     "text": [
      "100 unique Individuals\n",
      "494 / 500 Blocks called\n",
      "350 Blocks called > 80.0 %\n",
      "3.6422 average Block Length cM (called)\n",
      "Standard Error: 0.9503\n",
      "False Positives:\n",
      "Total Nr Simulated: 0\n",
      "Total Nr Called: 445\n"
     ]
    }
   ],
   "source": [
    "mosaic_folder = \"./Simulated/1000G_Mosaic/TSI5/\"\n",
    "output_prefix =  \"0999/\"\n",
    "n_iid = 100\n",
    "blen_cm = 4\n",
    "missing=0.2\n",
    "\n",
    "roh = Summary_ROH_Calls_Missing(mosaic_folder=mosaic_folder, ch=3, nr_iid = n_iid, \n",
    "                        blen_cm = blen_cm, output_prefix = output_prefix, missing=missing)\n",
    "\n",
    "df_calls = roh.collect_power_df()\n",
    "statistics_power_df(df_calls)\n",
    "calc_power(df_calls)\n",
    "se = give_SE(df_calls)\n",
    "print(f\"Standard Error: {se:.4f}\")\n",
    "\n",
    "roh = Summary_ROH_Calls_Missing(mosaic_folder = mosaic_folder, ch=3, nr_iid = n_iid, blen_cm = 0, \n",
    "                        output_prefix = output_prefix, output=True, missing=missing)\n",
    "print(\"False Positives:\")\n",
    "df_calls = roh.collect_power_df()"
   ]
  },
  {
   "cell_type": "code",
   "execution_count": 28,
   "metadata": {},
   "outputs": [
    {
     "name": "stdout",
     "output_type": "stream",
     "text": [
      "Found 223 FP blocks\n",
      "Average Block length: 0.0161 cM\n",
      "Maximum Block length: 0.0378 cM\n"
     ]
    },
    {
     "data": {
      "image/png": "[encoded data removed]",
      "text/plain": [
       "<Figure size 432x216 with 1 Axes>"
      ]
     },
     "metadata": {
      "needs_background": "light"
     },
     "output_type": "display_data"
    }
   ],
   "source": [
    "mosaic_folder = \"./Simulated/1000G_Mosaic/TSI5/\"\n",
    "output_prefix =  \"0999/\"\n",
    "n_iid = 100\n",
    "\n",
    "roh = Summary_ROH_Calls_Missing(mosaic_folder=mosaic_folder, ch=3, nr_iid = n_iid, \n",
    "                        blen_cm = 0, output_prefix = output_prefix, missing=0.1)\n",
    "df_call_fp = roh.collect_fp_df()\n",
    "false_power_statistics(df_call_fp)  # Do give some written statistics\n",
    "plot_fp_distribution(df_call_fp, title = \"100 Mosaic TSI Samples - Reference: 1000G Eur / TSI\",\n",
    "                    figsize=(6,3))"
   ]
  },
  {
   "cell_type": "markdown",
   "metadata": {},
   "source": [
    "# Merge Gaps and test the behaviour"
   ]
  },
  {
   "cell_type": "markdown",
   "metadata": {},
   "source": [
    "# Area 51"
   ]
  }
 ],
 "metadata": {
  "kernelspec": {
   "display_name": "Python 3",
   "language": "python",
   "name": "python3"
  },
  "language_info": {
   "codemirror_mode": {
    "name": "ipython",
    "version": 3
   },
   "file_extension": ".py",
   "mimetype": "text/x-python",
   "name": "python",
   "nbconvert_exporter": "python",
   "pygments_lexer": "ipython3",
   "version": "3.7.6"
  }
 },
 "nbformat": 4,
 "nbformat_minor": 4
}
