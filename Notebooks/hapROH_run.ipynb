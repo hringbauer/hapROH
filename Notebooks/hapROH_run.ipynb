{
 "cells": [
  {
   "cell_type": "markdown",
   "metadata": {},
   "source": [
    "# Vignette of Pypi-Package hapROH: Calling ROH from an Eigenstrat File\n",
    "This notebook contains an example application of hapROH:\n",
    "We will identify ROH in a target Eigenstrat. Importantly, it can serve as blueprint for your own ROH inference!\n",
    "\n",
    "You will learn how to run hapROH on single chromosomes, on whole individuals, and sets of individuals, and how to post-process multiple output files into one summary datafile (including meta data)\n",
    "\n",
    "If you want to learn how to visualize the results, have a look at the plotting vignette!"
   ]
  },
  {
   "cell_type": "code",
   "execution_count": 7,
   "metadata": {},
   "outputs": [
    {
     "name": "stdout",
     "output_type": "stream",
     "text": [
      "CPU Count: 28\n",
      "Set path to: /project2/jnovembre/hringbauer/HAPSBURG\n"
     ]
    }
   ],
   "source": [
    "### Some Code to set right paths on Harald's Machine\n",
    "import numpy as np\n",
    "import pandas as pd\n",
    "import matplotlib.pyplot as plt\n",
    "import os as os\n",
    "import sys as sys\n",
    "import multiprocessing as mp\n",
    "\n",
    "print(f\"CPU Count: {mp.cpu_count()}\")\n",
    "\n",
    "### If wanting to use local version and not  pip installed version\n",
    "#sys.path.append(\"./package/\") # Append local Hapsburg Folder\n",
    "import sys\n",
    "sys.path.insert(0,\"./package/\")  # hack to get local package first in path [FROM HARALD - DELETE!!!]\n",
    "\n",
    "### Fill in your own path here!\n",
    "path = \"/project2/jnovembre/hringbauer/HAPSBURG/\"  # The Path to Package Midway Cluster\n",
    "#path = \"/home/harald/git/HAPSBURG/\"   # The Path on Harald's machine\n",
    "os.chdir(path)  # Set the right Path (in line with Atom default)\n",
    "print(f\"Set path to: {os.getcwd()}\") # Show the current working directory. Should be HAPSBURG/Notebooks/ParallelRuns"
   ]
  },
  {
   "cell_type": "markdown",
   "metadata": {},
   "source": [
    "# 2) Call ROH"
   ]
  },
  {
   "cell_type": "code",
   "execution_count": 8,
   "metadata": {},
   "outputs": [],
   "source": [
    "from hapsburg.PackagesSupport.hapsburg_run import hapsb_ind  # Need this import"
   ]
  },
  {
   "cell_type": "markdown",
   "metadata": {},
   "source": [
    "### Power version [does same as above, but shows more parameters that could be changed]\n",
    "Shows most of the parameters that you can set. Warning: Try to understand what you are doing.\n",
    "E.g. the transition parameters are optimized for 1240k data already - changing them can have ...fun consequences."
   ]
  },
  {
   "cell_type": "code",
   "execution_count": 9,
   "metadata": {},
   "outputs": [
    {
     "name": "stdout",
     "output_type": "stream",
     "text": [
      "Doing Individual Villabruna...\n",
      "Running 1 total jobs; 1 in parallel.\n",
      "Running single process...\n",
      "Using Rescaled HMM.\n",
      "Loaded Pre Processing Model: Eigenstrat\n",
      "Loading Individual: Villabruna\n",
      "\n",
      "Loaded 29314 variants\n",
      "Loaded 2504 individuals\n",
      "HDF5 loaded from ./Data/1000Genomes/HDF5/1240kHDF5/all1240int8/chr17.hdf5\n",
      "Eigenstrat packed: True\n",
      "3 Eigenstrat Files with 6676 Individuals and 1233013 SNPs\n",
      "\n",
      "Intersection on Positions: 29314\n",
      "Nr of Matching Refs: 29314 / 29314\n",
      "Ref/Alt Matching: 29292 / 29314\n",
      "Flipped Ref/Alt Matching: 0\n",
      "Together: 29292 / 29314\n",
      "2504 / 2504 Individuals included in Reference\n",
      "Extracting up to 2504 Individuals\n",
      "Reduced to markers with data: 23996 / 29292\n",
      "Fraction SNPs covered: 0.8192\n",
      "Exctraction of hdf5 done. Subsetting...!\n",
      "Extraction of 5008 Haplotypes complete\n",
      "Flipping Ref/Alt Alleles in target for 0 SNPs...\n",
      "Successfully saved target individual data to: ./Empirical/Eigenstrat/Example/Villabruna/chr17/\n",
      "Shuffling phase of target...\n",
      "Successfully loaded Data from: ./Empirical/Eigenstrat/Example/Villabruna/chr17/\n",
      "Loaded Emission Model: haploid\n",
      "Loaded Transition Model: model\n",
      "Loaded Post Processing Model: Standard\n",
      "Minimum Genetic Map: -0.0003 Morgan\n",
      "Maximum Genetic Map: 1.2847 Morgan\n",
      "Gaps bigger than 0.1 cM: 149\n",
      "Maximum Gap: 1.2341 cM\n",
      "Upper Gap Cutoff: 5.0000 cM\n",
      "Loaded Transition and Emission Matrix:\n",
      "(3, 3)\n",
      "(5009, 23996)\n",
      "Loaded Observations:\n",
      "(2, 23996)\n",
      "Reference Number: 5008\n",
      "Memory Usage at end of HMM:\n",
      "Memory Usage: 1310.490624 mB\n",
      "Total Log likelihood: -7933.536\n",
      "Finished Calculation State Posteriors\n",
      "Saved Zero State Posterior to folder ./Empirical/Eigenstrat/Example/Villabruna/chr17/.\n",
      "Successfully loaded for PP. from ./Empirical/Eigenstrat/Example/Villabruna/chr17/\n",
      "Fraction Markers in ROH: 0.4434\n",
      "Merged n=0 gaps < 0 M\n",
      "Called n=15 ROH Blocks > 1.0 cM\n",
      "Longest Block: 3.08 cM\n",
      "Successfully saved to ./Empirical/Eigenstrat/Example/Villabruna/chr17/roh.csv\n",
      "Run finished successfully!\n"
     ]
    }
   ],
   "source": [
    "hapsb_ind(iid=\"Villabruna\", chs=range(17, 18), \n",
    "          path_targets='./Data/ReichLabEigenstrat/Raw.v42.4/v42.4.1240K', # The path before the .ind, .snp, .geno\n",
    "          h5_path1000g='./Data/1000Genomes/HDF5/1240kHDF5/all1240int8/chr', \n",
    "          meta_path_ref='./Data/1000Genomes/Individuals/meta_df_all.csv', \n",
    "          folder_out='./Empirical/Eigenstrat/Example/', prefix_out='', \n",
    "          e_model='haploid', p_model='Eigenstrat', \n",
    "          post_model='Standard', processes=1, delete=False, output=True, save=True, \n",
    "          save_fp=False, n_ref=2504, exclude_pops=[], readcounts=False, random_allele=True, \n",
    "          roh_in=1, roh_out=20, roh_jump=300, e_rate=0.01, e_rate_ref=0.0, \n",
    "          cutoff_post=0.999, max_gap=0, roh_min_l=0.01, \n",
    "          logfile=False, combine=False, file_result='_roh_full.csv')"
   ]
  },
  {
   "cell_type": "markdown",
   "metadata": {},
   "source": [
    "### Example run of whole individual (all chromosomes) with output to logfile\n",
    "This example runs a whole individual in parallel, with the output send to a logfile\n",
    "\n",
    "Attention: hapROH uses quite a bit of RAM, for an Eigenstrat it can be spiking up to 6gb for a long chromosome with most SNPs covered - allocate memory accoringly\n",
    "when running multiple processes, or set that number lower!"
   ]
  },
  {
   "cell_type": "code",
   "execution_count": 10,
   "metadata": {},
   "outputs": [
    {
     "name": "stdout",
     "output_type": "stream",
     "text": [
      "Doing Individual Villabruna...\n",
      "Running 22 total jobs; 8 in parallel.\n",
      "Starting Pool of multiple workers...\n",
      "Set Output Log path: ./Empirical/Eigenstrat/Example/Villabruna/chr2/hmm_run_log.txtSet Output Log path: ./Empirical/Eigenstrat/Example/Villabruna/chr1/hmm_run_log.txtSet Output Log path: ./Empirical/Eigenstrat/Example/Villabruna/chr4/hmm_run_log.txtSet Output Log path: ./Empirical/Eigenstrat/Example/Villabruna/chr3/hmm_run_log.txt\n",
      "\n",
      "\n",
      "\n",
      "Set Output Log path: ./Empirical/Eigenstrat/Example/Villabruna/chr5/hmm_run_log.txtSet Output Log path: ./Empirical/Eigenstrat/Example/Villabruna/chr6/hmm_run_log.txtSet Output Log path: ./Empirical/Eigenstrat/Example/Villabruna/chr7/hmm_run_log.txt\n",
      "Set Output Log path: ./Empirical/Eigenstrat/Example/Villabruna/chr8/hmm_run_log.txt\n",
      "\n",
      "\n",
      "Combining Information for 22 Chromosomes...\n",
      "Run finished successfully!\n"
     ]
    }
   ],
   "source": [
    "hapsb_ind(iid=\"Villabruna\", chs=range(1, 23), \n",
    "          path_targets='./Data/ReichLabEigenstrat/Raw.v42.4/v42.4.1240K', # The path before the .ind, .snp, .geno\n",
    "          h5_path1000g='./Data/1000Genomes/HDF5/1240kHDF5/all1240int8/chr', \n",
    "          meta_path_ref='./Data/1000Genomes/Individuals/meta_df_all.csv', \n",
    "          folder_out='./Empirical/Eigenstrat/Example/', prefix_out='', \n",
    "          e_model='haploid', p_model='Eigenstrat', \n",
    "          post_model='Standard', processes=8, delete=False, output=True, save=True, \n",
    "          save_fp=False, n_ref=2504, exclude_pops=[], readcounts=False, random_allele=True, \n",
    "          roh_in=1, roh_out=20, roh_jump=300, e_rate=0.01, e_rate_ref=0.0, \n",
    "          cutoff_post=0.999, max_gap=0, roh_min_l=0.01, \n",
    "          logfile=True, combine=True, file_result='_roh_full.csv')"
   ]
  },
  {
   "cell_type": "markdown",
   "metadata": {},
   "source": [
    "### Run multiple Individuals\n",
    "Here as a loop over individuals. In practice I run it as parallelized sbatch job (setting processes to 1 there) - this way you can parallelize it with 1 processor per indivual. That is a useful level of parallelization, as the individual output files will be combined in seperate step below."
   ]
  },
  {
   "cell_type": "code",
   "execution_count": 43,
   "metadata": {},
   "outputs": [
    {
     "name": "stdout",
     "output_type": "stream",
     "text": [
      "Doing Individual: I1178\n",
      "Doing Individual I1178...\n",
      "Running 22 total jobs; 6 in parallel.\n",
      "Set Output Log path: ./Empirical/Eigenstrat/Example/I1178/chr1/hmm_run_log.txt\n",
      "Set Output Log path: ./Empirical/Eigenstrat/Example/I1178/chr2/hmm_run_log.txt\n",
      "Set Output Log path: ./Empirical/Eigenstrat/Example/I1178/chr3/hmm_run_log.txt\n",
      "Set Output Log path: ./Empirical/Eigenstrat/Example/I1178/chr5/hmm_run_log.txt\n",
      "Set Output Log path: ./Empirical/Eigenstrat/Example/I1178/chr4/hmm_run_log.txt\n",
      "Set Output Log path: ./Empirical/Eigenstrat/Example/I1178/chr6/hmm_run_log.txt\n",
      "Combining Information for 22 Chromosomes...\n",
      "Run finished successfully!\n",
      "Doing Individual: I0644\n",
      "Doing Individual I0644...\n",
      "Running 22 total jobs; 6 in parallel.\n",
      "Set Output Log path: ./Empirical/Eigenstrat/Example/I0644/chr1/hmm_run_log.txt\n",
      "Set Output Log path: ./Empirical/Eigenstrat/Example/I0644/chr2/hmm_run_log.txt\n",
      "Set Output Log path: ./Empirical/Eigenstrat/Example/I0644/chr3/hmm_run_log.txt\n",
      "Set Output Log path: ./Empirical/Eigenstrat/Example/I0644/chr6/hmm_run_log.txt\n",
      "Set Output Log path: ./Empirical/Eigenstrat/Example/I0644/chr4/hmm_run_log.txt\n",
      "Set Output Log path: ./Empirical/Eigenstrat/Example/I0644/chr5/hmm_run_log.txt\n",
      "Combining Information for 22 Chromosomes...\n",
      "Run finished successfully!\n",
      "Doing Individual: I1160\n",
      "Doing Individual I1160...\n",
      "Running 22 total jobs; 6 in parallel.\n",
      "Set Output Log path: ./Empirical/Eigenstrat/Example/I1160/chr2/hmm_run_log.txt\n",
      "Set Output Log path: ./Empirical/Eigenstrat/Example/I1160/chr3/hmm_run_log.txt\n",
      "Set Output Log path: ./Empirical/Eigenstrat/Example/I1160/chr1/hmm_run_log.txt\n",
      "Set Output Log path: ./Empirical/Eigenstrat/Example/I1160/chr6/hmm_run_log.txt\n",
      "Set Output Log path: ./Empirical/Eigenstrat/Example/I1160/chr4/hmm_run_log.txt\n",
      "Set Output Log path: ./Empirical/Eigenstrat/Example/I1160/chr5/hmm_run_log.txt\n",
      "Combining Information for 22 Chromosomes...\n",
      "Run finished successfully!\n",
      "Doing Individual: I1152\n",
      "Doing Individual I1152...\n",
      "Running 22 total jobs; 6 in parallel.\n",
      "Set Output Log path: ./Empirical/Eigenstrat/Example/I1152/chr1/hmm_run_log.txt\n",
      "Set Output Log path: ./Empirical/Eigenstrat/Example/I1152/chr4/hmm_run_log.txt\n",
      "Set Output Log path: ./Empirical/Eigenstrat/Example/I1152/chr3/hmm_run_log.txt\n",
      "Set Output Log path: ./Empirical/Eigenstrat/Example/I1152/chr6/hmm_run_log.txt\n",
      "Set Output Log path: ./Empirical/Eigenstrat/Example/I1152/chr2/hmm_run_log.txt\n",
      "Set Output Log path: ./Empirical/Eigenstrat/Example/I1152/chr5/hmm_run_log.txt\n",
      "Combining Information for 22 Chromosomes...\n",
      "Run finished successfully!\n",
      "Doing Individual: I1168\n",
      "Doing Individual I1168...\n",
      "Running 22 total jobs; 6 in parallel.\n",
      "Set Output Log path: ./Empirical/Eigenstrat/Example/I1168/chr3/hmm_run_log.txt\n",
      "Set Output Log path: ./Empirical/Eigenstrat/Example/I1168/chr1/hmm_run_log.txt\n",
      "Set Output Log path: ./Empirical/Eigenstrat/Example/I1168/chr2/hmm_run_log.txt\n",
      "Set Output Log path: ./Empirical/Eigenstrat/Example/I1168/chr6/hmm_run_log.txt\n",
      "Set Output Log path: ./Empirical/Eigenstrat/Example/I1168/chr5/hmm_run_log.txt\n",
      "Set Output Log path: ./Empirical/Eigenstrat/Example/I1168/chr4/hmm_run_log.txt\n",
      "Combining Information for 22 Chromosomes...\n",
      "Run finished successfully!\n",
      "Doing Individual: I1166\n",
      "Doing Individual I1166...\n",
      "Running 22 total jobs; 6 in parallel.\n",
      "Set Output Log path: ./Empirical/Eigenstrat/Example/I1166/chr3/hmm_run_log.txt\n",
      "Set Output Log path: ./Empirical/Eigenstrat/Example/I1166/chr1/hmm_run_log.txt\n",
      "Set Output Log path: ./Empirical/Eigenstrat/Example/I1166/chr4/hmm_run_log.txt\n",
      "Set Output Log path: ./Empirical/Eigenstrat/Example/I1166/chr2/hmm_run_log.txt\n",
      "Set Output Log path: ./Empirical/Eigenstrat/Example/I1166/chr6/hmm_run_log.txt\n",
      "Set Output Log path: ./Empirical/Eigenstrat/Example/I1166/chr5/hmm_run_log.txt\n",
      "Combining Information for 22 Chromosomes...\n",
      "Run finished successfully!\n",
      "Doing Individual: I1170\n",
      "Doing Individual I1170...\n",
      "Running 22 total jobs; 6 in parallel.\n",
      "Set Output Log path: ./Empirical/Eigenstrat/Example/I1170/chr1/hmm_run_log.txt\n",
      "Set Output Log path: ./Empirical/Eigenstrat/Example/I1170/chr3/hmm_run_log.txt\n",
      "Set Output Log path: ./Empirical/Eigenstrat/Example/I1170/chr2/hmm_run_log.txt\n",
      "Set Output Log path: ./Empirical/Eigenstrat/Example/I1170/chr4/hmm_run_log.txt\n",
      "Set Output Log path: ./Empirical/Eigenstrat/Example/I1170/chr5/hmm_run_log.txt\n",
      "Set Output Log path: ./Empirical/Eigenstrat/Example/I1170/chr6/hmm_run_log.txt\n",
      "Combining Information for 22 Chromosomes...\n",
      "Run finished successfully!\n",
      "Doing Individual: I1165\n",
      "Doing Individual I1165...\n",
      "Running 22 total jobs; 6 in parallel.\n",
      "Set Output Log path: ./Empirical/Eigenstrat/Example/I1165/chr1/hmm_run_log.txt\n",
      "Set Output Log path: ./Empirical/Eigenstrat/Example/I1165/chr2/hmm_run_log.txt\n",
      "Set Output Log path: ./Empirical/Eigenstrat/Example/I1165/chr3/hmm_run_log.txt\n",
      "Set Output Log path: ./Empirical/Eigenstrat/Example/I1165/chr4/hmm_run_log.txt\n",
      "Set Output Log path: ./Empirical/Eigenstrat/Example/I1165/chr6/hmm_run_log.txt\n",
      "Set Output Log path: ./Empirical/Eigenstrat/Example/I1165/chr5/hmm_run_log.txt\n",
      "Combining Information for 22 Chromosomes...\n",
      "Run finished successfully!\n",
      "Doing Individual: I1182\n",
      "Doing Individual I1182...\n",
      "Running 22 total jobs; 6 in parallel.\n",
      "Set Output Log path: ./Empirical/Eigenstrat/Example/I1182/chr4/hmm_run_log.txt\n",
      "Set Output Log path: ./Empirical/Eigenstrat/Example/I1182/chr1/hmm_run_log.txt\n",
      "Set Output Log path: ./Empirical/Eigenstrat/Example/I1182/chr2/hmm_run_log.txt\n",
      "Set Output Log path: ./Empirical/Eigenstrat/Example/I1182/chr3/hmm_run_log.txt\n",
      "Set Output Log path: ./Empirical/Eigenstrat/Example/I1182/chr5/hmm_run_log.txt\n",
      "Set Output Log path: ./Empirical/Eigenstrat/Example/I1182/chr6/hmm_run_log.txt\n",
      "Combining Information for 22 Chromosomes...\n",
      "Run finished successfully!\n"
     ]
    }
   ],
   "source": [
    "### This are all individuals with 400k SNPs covered\n",
    "iids = ['I1178', 'I0644', 'I1160', 'I1152', 'I1168', 'I1166', 'I1170', 'I1165', 'I1182']\n",
    "\n",
    "for iid in iids:\n",
    "    print(f\"Doing Individual: {iid}\")\n",
    "    hapsb_ind(iid=iid, chs=range(1,23), processes=6, \n",
    "              path_targets='./Data/ExampleData/Levant_ChL', \n",
    "              h5_path1000g='./Data/1000Genomes/HDF5/1240kHDF5/all1240int8/chr', \n",
    "              meta_path_ref='./Data/1000Genomes/Individuals/meta_df_all.csv', \n",
    "              folder_out='./Empirical/Eigenstrat/Example/', prefix_out='', \n",
    "              e_model=\"haploid\", p_model=\"EigenstratPacked\", n_ref=2504,\n",
    "              random_allele=True, readcounts=False,\n",
    "              delete=False, logfile=True, combine=True)"
   ]
  },
  {
   "cell_type": "markdown",
   "metadata": {},
   "source": [
    "### Postprocess Results into one results.csv (copying in Meta Data)\n",
    "Take indivdiual output .csvs and combine into one big results .csv\n",
    "Merging of output gaps, and ROH>x cM happens here"
   ]
  },
  {
   "cell_type": "code",
   "execution_count": 44,
   "metadata": {},
   "outputs": [],
   "source": [
    "from hapsburg.PackagesSupport.pp_individual_roh_csvs import pp_individual_roh"
   ]
  },
  {
   "cell_type": "markdown",
   "metadata": {},
   "source": [
    "### Create Example Meta File\n",
    "This file will create a minimal meta data file (some plotting functions use individual meta information, such as age),\n",
    "which is then merged into the results when combining individuals.\n",
    "\n",
    "If you have metadata available for your dataset, you can prepare a comma seperated csv table with these headers!"
   ]
  },
  {
   "cell_type": "code",
   "execution_count": 52,
   "metadata": {},
   "outputs": [],
   "source": [
    "iids = ['I1178', 'I0644', 'I1160', 'I1152', 'I1168', 'I1166', 'I1170', 'I1165', 'I1182']\n",
    "df = pd.DataFrame({\"iid\":iids})\n",
    "\n",
    "df[\"age\"] = 5950\n",
    "df[\"clst\"] = \"Israel_C\"\n",
    "df[\"lat\"] = 32.974167\n",
    "df[\"lon\"] = 35.331389\n",
    "\n",
    "df.to_csv(\"./Data/ExampleData/meta_blank.csv\", \n",
    "          sep=\",\", index=False)"
   ]
  },
  {
   "cell_type": "markdown",
   "metadata": {},
   "source": [
    "### Combine individual output files into a single ROH output File\n",
    "Combines meta file, individual ROH output files\n",
    "into a summary table, contining statistical information for ROH for each indiviual.\n",
    "\n",
    "This is the table that a lot of the combined plotting software uses."
   ]
  },
  {
   "cell_type": "code",
   "execution_count": 56,
   "metadata": {},
   "outputs": [
    {
     "name": "stdout",
     "output_type": "stream",
     "text": [
      "Loaded 9 / 9 Individuals from Meta\n",
      "Saved to: ./Empirical/Eigenstrat/Example/combined_roh05.csv\n",
      "CPU times: user 4.4 s, sys: 0 ns, total: 4.4 s\n",
      "Wall time: 4.39 s\n"
     ]
    }
   ],
   "source": [
    "%%time\n",
    "### Postprocess the two Individuals from above and combine into one results .csv\n",
    "iids = ['I1178', 'I0644', 'I1160', 'I1152', \n",
    "        'I1168', 'I1166', 'I1170', 'I1165', 'I1182']\n",
    "\n",
    "df1 = pp_individual_roh(iids, meta_path=\"./Data/ExampleData/meta_blank.csv\", \n",
    "                        base_folder=\"./Empirical/Eigenstrat/Example/\",\n",
    "                        save_path=\"./Empirical/Eigenstrat/Example/combined_roh05.csv\", \n",
    "                        output=False, min_cm=[4, 8, 12, 20], snp_cm=50, \n",
    "                        gap=0.5, min_len1=2.0, min_len2=4.0)"
   ]
  },
  {
   "cell_type": "markdown",
   "metadata": {},
   "source": [
    "# Area 51"
   ]
  },
  {
   "cell_type": "code",
   "execution_count": null,
   "metadata": {},
   "outputs": [],
   "source": []
  }
 ],
 "metadata": {
  "kernelspec": {
   "display_name": "Python 3",
   "language": "python",
   "name": "python3"
  },
  "language_info": {
   "codemirror_mode": {
    "name": "ipython",
    "version": 3
   },
   "file_extension": ".py",
   "mimetype": "text/x-python",
   "name": "python",
   "nbconvert_exporter": "python",
   "pygments_lexer": "ipython3",
   "version": "3.8.2"
  }
 },
 "nbformat": 4,
 "nbformat_minor": 4
}
