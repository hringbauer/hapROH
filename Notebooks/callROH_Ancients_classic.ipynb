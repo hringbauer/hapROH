{
 "cells": [
  {
   "cell_type": "markdown",
   "metadata": {},
   "source": [
    "# Call ROH in more classical ways\n",
    "Use a classical Method: Check for long stretches where there are is a lack of heterozygous calls"
   ]
  },
  {
   "cell_type": "code",
   "execution_count": 1,
   "metadata": {},
   "outputs": [],
   "source": [
    "import allel\n",
    "import h5py\n",
    "import numpy as np\n",
    "import pandas as pd\n",
    "import matplotlib.pyplot as plt"
   ]
  },
  {
   "cell_type": "code",
   "execution_count": 2,
   "metadata": {},
   "outputs": [
    {
     "name": "stdout",
     "output_type": "stream",
     "text": [
      "['AD', 'GT']\n",
      "['AA', 'AF', 'AFR_AF', 'ALT', 'AMR_AF', 'CHROM', 'EAS_AF', 'EUR_AF', 'ID', 'MAP', 'POS', 'REF', 'SAS_AF']\n",
      "Found 30333 markers on Chr. 20\n"
     ]
    }
   ],
   "source": [
    "### Load the Data\n",
    "ch = 20\n",
    "h5_path_sard = \"../../ancient-sardinia/output/h5/mod_reich_sardinia_ancients_mrg_dedup_3trm_anno.h5\"\n",
    "meta_path = \"../../ancient-sardinia/output/meta/meta_final.csv\"\n",
    "\n",
    "anc_ind = 1029 # Up to which individual there are ancestrals\n",
    "anc_sardind = 57 # Nr of ancient Sarinian individuals\n",
    "\n",
    "f = h5py.File(h5_path_sard, \"r\") # Load for Sanity Check. See below!\n",
    "list(f.keys())\n",
    "print(list(f[\"calldata\"].keys()))\n",
    "print(list(f[\"variants\"].keys()))\n",
    "\n",
    "\n",
    "meta_df = pd.read_csv(meta_path)\n",
    "assert(len(meta_df)==np.shape(f[\"calldata/GT\"])[1])  # Sanity Check\n",
    "### Load the SNP Data (to merge in Map):\n",
    "\n",
    "ch_ids = np.array(f[\"variants/CHROM\"]) == str(ch)\n",
    "print(f\"Found {np.sum(ch_ids)} markers on Chr. {ch}\")"
   ]
  },
  {
   "cell_type": "code",
   "execution_count": 92,
   "metadata": {},
   "outputs": [],
   "source": [
    "def detect_homo(f, ind, snp_id=[]):\n",
    "    \"\"\"Detect two males with long ROH\"\"\"\n",
    "    g = f[\"calldata/GT\"][ch_ids, ind, :]\n",
    "    g = g[g[:,0]>-1]   # Only do the called Markers\n",
    "    het = (g[:,0] != g[:,1])\n",
    "    \n",
    "    # Detect Stretches of 0s\n",
    "    x1 = np.hstack([ [True], het, [True] ])  # padding\n",
    "    d = np.diff(x1.astype(int))\n",
    "    starts = np.where(d == -1)[0]\n",
    "    ends = np.where(d == 1)[0]\n",
    "    return starts, ends\n",
    "\n",
    "def call_roh(f, ind, snp_id=[], min_len=50):\n",
    "    \"\"\"Return List of long ROH: Index1, Index\"\"\"\n",
    "    print(f\"Doing Ind: {ind}\")\n",
    "    starts, ends = detect_homo(f, ind, snp_id)\n",
    "    lengths = ends - starts\n",
    "    m = np.max(lengths)\n",
    "    i = np.argmax(lengths)\n",
    "    \n",
    "    output = []\n",
    "    \n",
    "    if m > min_len:\n",
    "        output = [[ind, m, starts[i]]]\n",
    "    return output"
   ]
  },
  {
   "cell_type": "code",
   "execution_count": 93,
   "metadata": {
    "collapsed": true
   },
   "outputs": [
    {
     "name": "stdout",
     "output_type": "stream",
     "text": [
      "Doing Ind: 3000\n",
      "Doing Ind: 3001\n",
      "Doing Ind: 3002\n",
      "Doing Ind: 3003\n",
      "Doing Ind: 3004\n",
      "Doing Ind: 3005\n",
      "Doing Ind: 3006\n",
      "Doing Ind: 3007\n",
      "Doing Ind: 3008\n",
      "Doing Ind: 3009\n",
      "Doing Ind: 3010\n",
      "Doing Ind: 3011\n",
      "Doing Ind: 3012\n",
      "Doing Ind: 3013\n",
      "Doing Ind: 3014\n",
      "Doing Ind: 3015\n",
      "Doing Ind: 3016\n",
      "Doing Ind: 3017\n",
      "Doing Ind: 3018\n",
      "Doing Ind: 3019\n",
      "Doing Ind: 3020\n",
      "Doing Ind: 3021\n",
      "Doing Ind: 3022\n",
      "Doing Ind: 3023\n",
      "Doing Ind: 3024\n",
      "Doing Ind: 3025\n",
      "Doing Ind: 3026\n",
      "Doing Ind: 3027\n",
      "Doing Ind: 3028\n",
      "Doing Ind: 3029\n",
      "Doing Ind: 3030\n",
      "Doing Ind: 3031\n",
      "Doing Ind: 3032\n",
      "Doing Ind: 3033\n",
      "Doing Ind: 3034\n",
      "Doing Ind: 3035\n",
      "Doing Ind: 3036\n",
      "Doing Ind: 3037\n",
      "Doing Ind: 3038\n",
      "Doing Ind: 3039\n",
      "Doing Ind: 3040\n",
      "Doing Ind: 3041\n",
      "Doing Ind: 3042\n",
      "Doing Ind: 3043\n",
      "Doing Ind: 3044\n",
      "Doing Ind: 3045\n",
      "Doing Ind: 3046\n",
      "Doing Ind: 3047\n",
      "Doing Ind: 3048\n",
      "Doing Ind: 3049\n",
      "Doing Ind: 3050\n",
      "Doing Ind: 3051\n",
      "Doing Ind: 3052\n",
      "Doing Ind: 3053\n",
      "Doing Ind: 3054\n",
      "Doing Ind: 3055\n",
      "Doing Ind: 3056\n",
      "Doing Ind: 3057\n",
      "Doing Ind: 3058\n",
      "Doing Ind: 3059\n",
      "Doing Ind: 3060\n",
      "Doing Ind: 3061\n",
      "Doing Ind: 3062\n",
      "Doing Ind: 3063\n",
      "Doing Ind: 3064\n",
      "Doing Ind: 3065\n",
      "Doing Ind: 3066\n",
      "Doing Ind: 3067\n",
      "Doing Ind: 3068\n",
      "Doing Ind: 3069\n",
      "Doing Ind: 3070\n",
      "Doing Ind: 3071\n",
      "Doing Ind: 3072\n",
      "Doing Ind: 3073\n",
      "Doing Ind: 3074\n",
      "Doing Ind: 3075\n",
      "Doing Ind: 3076\n",
      "Doing Ind: 3077\n",
      "Doing Ind: 3078\n",
      "Doing Ind: 3079\n",
      "Doing Ind: 3080\n",
      "Doing Ind: 3081\n",
      "Doing Ind: 3082\n",
      "Doing Ind: 3083\n",
      "Doing Ind: 3084\n",
      "Doing Ind: 3085\n",
      "Doing Ind: 3086\n",
      "Doing Ind: 3087\n",
      "Doing Ind: 3088\n",
      "Doing Ind: 3089\n",
      "Doing Ind: 3090\n",
      "Doing Ind: 3091\n",
      "Doing Ind: 3092\n",
      "Doing Ind: 3093\n",
      "Doing Ind: 3094\n",
      "Doing Ind: 3095\n",
      "Doing Ind: 3096\n",
      "Doing Ind: 3097\n",
      "Doing Ind: 3098\n",
      "Doing Ind: 3099\n"
     ]
    }
   ],
   "source": [
    "#call_roh(f, 2998, min_len=500)\n",
    "ls = []\n",
    "\n",
    "for i in range(3000,3100):\n",
    "    ls += call_roh(f, i, min_len=500)"
   ]
  },
  {
   "cell_type": "code",
   "execution_count": 94,
   "metadata": {},
   "outputs": [
    {
     "data": {
      "text/plain": [
       "[[3005, 689, 6418], [3043, 1013, 8178], [3050, 2478, 9190], [3099, 2268, 8581]]"
      ]
     },
     "execution_count": 94,
     "metadata": {},
     "output_type": "execute_result"
    }
   ],
   "source": [
    "ls"
   ]
  },
  {
   "cell_type": "code",
   "execution_count": 96,
   "metadata": {},
   "outputs": [
    {
     "name": "stdout",
     "output_type": "stream",
     "text": [
      "Markers Called: 13698\n"
     ]
    },
    {
     "data": {
      "image/png": "[encoded data removed]",
      "text/plain": [
       "<matplotlib.figure.Figure at 0x7f90bdd042e8>"
      ]
     },
     "metadata": {
      "needs_background": "light"
     },
     "output_type": "display_data"
    }
   ],
   "source": [
    "ind = 3043\n",
    "\n",
    "no_call = f[\"calldata/GT\"][ch_ids, ind, 0] > -1\n",
    "print(f\"Markers Called: {np.sum(no_call)}\")\n",
    "\n",
    "### Get Individual Genotype:\n",
    "hets = (f[\"calldata/GT\"][ch_ids, ind, 0] != f[\"calldata/GT\"][ch_ids, ind, 1])\n",
    "\n",
    "\n",
    "plt.figure(figsize=(14,2))\n",
    "plt.xlabel(\"Base Pairs\")\n",
    "plt.ylabel(\"Heterozygosity\")\n",
    "plt.plot(hets, \"ro\", ms=1)\n",
    "plt.show()"
   ]
  },
  {
   "cell_type": "markdown",
   "metadata": {},
   "source": [
    "# Call ROH in ancients (from Read Count Data)"
   ]
  },
  {
   "cell_type": "code",
   "execution_count": 108,
   "metadata": {},
   "outputs": [],
   "source": [
    "def return_conflicts(f, iid, snp_ids, min_calls = 1):\n",
    "    \"\"\"Return Boolean Vector of conflicting Reads\"\"\"\n",
    "    ids = (meta_df[\"iid\"] == iid)\n",
    "    ids = np.where(ids)[0][0]\n",
    "    gt = f[\"calldata/AD\"][:, ids , :]\n",
    "    gt = gt[snp_ids,:] # Extract only the good SNPs\n",
    "    conf = (gt[:,0] >= min_calls) & (gt[:,1]>= min_calls)\n",
    "    return conf  \n",
    "    \n",
    "def identify_stretch_noconfl(f, iid, snp_ids):\n",
    "    \"\"\"Identify Stretches with no conflicting reads\n",
    "    Return Start, End and Length\"\"\"\n",
    "    conf = return_conflicts(f, iid, snp_ids)\n",
    "    \n",
    "    x1 = np.hstack([ [True], conf, [True] ])  # padding\n",
    "    d = np.diff(x1.astype(int))\n",
    "    starts = np.where(d == -1)[0]\n",
    "    ends = np.where(d == 1)[0]\n",
    "    lengths = ends - starts\n",
    "    return starts, ends, lengths\n",
    "\n",
    "def call_roh_readcounts(f, iid_list, ch=20, min_len=50, out=True):\n",
    "    \"\"\"Return List of long ROH: Index1, Index\"\"\"\n",
    "    ch_ids = np.array(f[\"variants/CHROM\"]) == str(ch)\n",
    "    \n",
    "    output = []\n",
    "    \n",
    "    for iid in iid_list:\n",
    "        if out==True:\n",
    "            print(f\"Doing Ind: {iid}\")\n",
    "        starts, ends, lengths = identify_stretch_noconfl(f, iid, ch_ids)\n",
    "        m = np.max(lengths)\n",
    "        i = np.argmax(lengths)\n",
    "        \n",
    "        if m > min_len:\n",
    "            output += [[iid, ch, m, starts[i]]]\n",
    "            \n",
    "    return output"
   ]
  },
  {
   "cell_type": "code",
   "execution_count": 109,
   "metadata": {},
   "outputs": [
    {
     "name": "stdout",
     "output_type": "stream",
     "text": [
      "Doing Chromosome: 1\n",
      "Doing Ind: LON001\n",
      "Doing Chromosome: 2\n",
      "Doing Ind: LON001\n",
      "Doing Chromosome: 3\n",
      "Doing Ind: LON001\n",
      "Doing Chromosome: 4\n",
      "Doing Ind: LON001\n",
      "Doing Chromosome: 5\n",
      "Doing Ind: LON001\n",
      "Doing Chromosome: 6\n",
      "Doing Ind: LON001\n",
      "Doing Chromosome: 7\n",
      "Doing Ind: LON001\n",
      "Doing Chromosome: 8\n",
      "Doing Ind: LON001\n",
      "Doing Chromosome: 9\n",
      "Doing Ind: LON001\n",
      "Doing Chromosome: 10\n",
      "Doing Ind: LON001\n",
      "Doing Chromosome: 11\n",
      "Doing Ind: LON001\n",
      "Doing Chromosome: 12\n",
      "Doing Ind: LON001\n",
      "Doing Chromosome: 13\n",
      "Doing Ind: LON001\n",
      "Doing Chromosome: 14\n",
      "Doing Ind: LON001\n",
      "Doing Chromosome: 15\n",
      "Doing Ind: LON001\n",
      "Doing Chromosome: 16\n",
      "Doing Ind: LON001\n",
      "Doing Chromosome: 17\n",
      "Doing Ind: LON001\n",
      "Doing Chromosome: 18\n",
      "Doing Ind: LON001\n",
      "Doing Chromosome: 19\n",
      "Doing Ind: LON001\n",
      "Doing Chromosome: 20\n",
      "Doing Ind: LON001\n",
      "Doing Chromosome: 21\n",
      "Doing Ind: LON001\n",
      "Doing Chromosome: 22\n",
      "Doing Ind: LON001\n"
     ]
    }
   ],
   "source": [
    "### Run ROH Detection for high coverage Individuals:\n",
    "# Pick out High Coverage Sardinian Ancients\n",
    "\n",
    "as_df = meta_df[:anc_sardind]\n",
    "#iid_list = as_df[as_df[\"mean_cov\"] > 1.0][\"iid\"].values\n",
    "#iid_list = as_df[(as_df[\"age\"] > 5000) & (as_df[\"mean_cov\"]>0.5)][\"iid\"].values\n",
    "iid_list = [\"LON001\"]\n",
    "\n",
    "ls = []\n",
    "\n",
    "for i in range(1,23):\n",
    "    print(f\"Doing Chromosome: {i}\")\n",
    "    ls += call_roh_readcounts(f, iid_list, ch=i, min_len=300)"
   ]
  },
  {
   "cell_type": "code",
   "execution_count": 110,
   "metadata": {},
   "outputs": [
    {
     "data": {
      "text/plain": [
       "[['LON001', 1, 540, 32420],\n",
       " ['LON001', 2, 593, 24749],\n",
       " ['LON001', 3, 490, 23481],\n",
       " ['LON001', 4, 571, 34488],\n",
       " ['LON001', 5, 401, 4787],\n",
       " ['LON001', 6, 331, 18773],\n",
       " ['LON001', 7, 433, 9040],\n",
       " ['LON001', 8, 623, 35975],\n",
       " ['LON001', 9, 372, 12918],\n",
       " ['LON001', 10, 490, 52213],\n",
       " ['LON001', 11, 365, 21917],\n",
       " ['LON001', 12, 597, 9501],\n",
       " ['LON001', 13, 448, 32858],\n",
       " ['LON001', 14, 439, 24907],\n",
       " ['LON001', 16, 315, 951],\n",
       " ['LON001', 22, 375, 8280]]"
      ]
     },
     "execution_count": 110,
     "metadata": {},
     "output_type": "execute_result"
    }
   ],
   "source": [
    "ls"
   ]
  },
  {
   "cell_type": "code",
   "execution_count": 3,
   "metadata": {},
   "outputs": [],
   "source": [
    "### Uncomment to save List\n",
    "#np.savetxt(\"../Diverse/list_roh_ancsard.csv\", ls, delimiter=\",\", fmt=\"%s\")"
   ]
  },
  {
   "cell_type": "markdown",
   "metadata": {},
   "source": [
    "### Plot Individual"
   ]
  },
  {
   "cell_type": "code",
   "execution_count": 81,
   "metadata": {},
   "outputs": [],
   "source": [
    "def plot_roh_individual(iid, f, ch=1, plotlim=[], cm=True, m=1):\n",
    "    \"\"\"Plot ROH of one Individual\n",
    "    iid: Name of individual\n",
    "    f: The Dataframe\n",
    "    ch: Wich Chromosome\n",
    "    markers: Range of Marers\n",
    "    cm: Whether to Plot CentiMorgan\"\"\"\n",
    "    \n",
    "    ch_ids = np.array(f[\"variants/CHROM\"]) == str(ch)\n",
    "    print(f\"Found {np.sum(ch_ids)} markers on Chr. {ch}\")\n",
    "\n",
    "\n",
    "    ids = (meta_df[\"iid\"] == iid)\n",
    "    ids = np.where(ids)[0][0]\n",
    "    gt = f[\"calldata/AD\"][ch_ids, ids, :]\n",
    "    cov = np.sum(gt, axis=1) # Sum the Coverage\n",
    "    mc = np.mean(cov)\n",
    "    covered = np.sum(cov>0)\n",
    "\n",
    "    print(f\"Mean Coverage: {mc:.3f}\")\n",
    "    print(f\"Covered Sites: {covered}\")\n",
    "\n",
    "    ### Conflicting Sites\n",
    "    conf = (gt[:,0] >= m) & (gt[:,1]>= m)\n",
    "    homo0 = (gt[:,0] >= m*2) & (gt[:,1] == 0)\n",
    "    homo1 = (gt[:,1] >= m*2) & (gt[:,0] == 0)\n",
    "    homo = homo0 | homo1\n",
    "\n",
    "    diff = np.sum(conf)\n",
    "\n",
    "    tot_cov = np.sum(gt, axis=1)\n",
    "    cov2plus = (tot_cov>=m*2)\n",
    "\n",
    "    print(f\"Nr Conflicting Sites: {diff}\")\n",
    "    print(f\"Nr No Conflicts: {np.sum(homo)}\")\n",
    "    print(f\"Nr Sites Covered >2x: {np.sum(cov2plus)}\")\n",
    "\n",
    "    ### Do A Plot of the Conflicts\n",
    "    ch_ids = np.array(f[\"variants/CHROM\"]) == str(ch)\n",
    "    print(f\"Found {np.sum(ch_ids)} markers on Chr. {ch}\")\n",
    "    homo_ids = np.where(homo)[0]\n",
    "    het_ids = np.where(conf)[0]\n",
    "    cov2_ids = np.where(cov2plus)[0]\n",
    "\n",
    "    ms = 1\n",
    "    fs = 14\n",
    "    \n",
    "    plt.figure(figsize=(16,2))\n",
    "    \n",
    "    if cm==False:\n",
    "        x1,x2,x3=cov2_ids, homo_ids, het_ids\n",
    "    \n",
    "    elif cm==True:\n",
    "        lmap = np.array(f[\"variants/MAP\"]) * 100\n",
    "        lmap = lmap[ch_ids]\n",
    "        assert(len(lmap)==len(homo))        \n",
    "        x1,x2,x3= lmap[cov2_ids], lmap[homo_ids], lmap[het_ids]\n",
    "        \n",
    "    plt.plot(x1, -0.1*np.ones(len(cov2_ids)), \"ko\", ms=ms, label=\"Covered Twice\")\n",
    "    plt.plot(x2, np.zeros(len(homo_ids)), \"ro\", ms=ms, label=\"Agreeing\")\n",
    "    plt.plot(x3, np.ones(len(het_ids)), \"bo\", ms=ms, label=\"Conflicting\") # The conflicting reads\n",
    "    \n",
    "    xlabel=\"Position\"\n",
    "    \n",
    "    if cm==True:\n",
    "        xlabel=\"CentiMorgan\"\n",
    "            \n",
    "    plt.xlabel(xlabel)\n",
    "    plt.ylabel(\"Conflicting Reads\", fontsize=fs)\n",
    "    plt.yticks([0,1])\n",
    "    \n",
    "    if len(plotlim)>0:\n",
    "        plt.xlim(plotlim)\n",
    "\n",
    "    plt.legend(loc = \"center right\", fontsize=fs)\n",
    "    plt.title(f\"Individual: {iid}, Chromosome: {ch}\")\n",
    "    plt.show()"
   ]
  },
  {
   "cell_type": "code",
   "execution_count": 138,
   "metadata": {},
   "outputs": [
    {
     "name": "stdout",
     "output_type": "stream",
     "text": [
      "Found 63829 markers on Chr. 8\n",
      "Mean Coverage: 2.428\n",
      "Covered Sites: 40748\n",
      "Nr Conflicting Sites: 2476\n",
      "Nr No Conflicts: 10907\n",
      "Nr Sites Covered >2x: 14396\n",
      "Found 63829 markers on Chr. 8\n"
     ]
    },
    {
     "data": {
      "image/png": "[encoded data removed]",
      "text/plain": [
       "<matplotlib.figure.Figure at 0x7f55d48d8c18>"
      ]
     },
     "metadata": {
      "needs_background": "light"
     },
     "output_type": "display_data"
    }
   ],
   "source": [
    "iid = \"LON001\"  # Which Individual to anlyze\n",
    "\n",
    "ch = 8\n",
    "plot_roh_individual(iid, f, ch=ch, plotlim=[70,120], cm=True, m=2)"
   ]
  },
  {
   "cell_type": "markdown",
   "metadata": {},
   "source": [
    "# Area 51"
   ]
  },
  {
   "cell_type": "code",
   "execution_count": 189,
   "metadata": {
    "scrolled": false
   },
   "outputs": [
    {
     "name": "stdout",
     "output_type": "stream",
     "text": [
      "['AD', 'GT']\n",
      "['AA', 'AF', 'AFR_AF', 'ALT', 'AMR_AF', 'CHROM', 'EAS_AF', 'EUR_AF', 'ID', 'POS', 'REF', 'SAS_AF']\n"
     ]
    },
    {
     "name": "stderr",
     "output_type": "stream",
     "text": [
      "/usr/local/lib/python3.6/dist-packages/pandas/io/parsers.py:2230: FutureWarning: split() requires a non-empty pattern match.\n",
      "  yield pat.split(line.strip())\n",
      "/usr/local/lib/python3.6/dist-packages/pandas/io/parsers.py:2232: FutureWarning: split() requires a non-empty pattern match.\n",
      "  yield pat.split(line.strip())\n"
     ]
    },
    {
     "name": "stdout",
     "output_type": "stream",
     "text": [
      "Loaded 1233013 X SNPs.\n"
     ]
    }
   ],
   "source": [
    "### Merge in Recombination Map into HDF5\n",
    "# Load HDF5\n",
    "f = h5py.File(h5_path_sard, \"r\") # Load for Sanity Check. See below!\n",
    "list(f.keys())\n",
    "print(list(f[\"calldata\"].keys()))\n",
    "print(list(f[\"variants\"].keys()))\n",
    "\n",
    "\n",
    "# Load Recombination Map\n",
    "path_snp = \"../Data/1000Genomes/Markers/MinMyc.snp\" # All SNPs found in the 1240k Ancient Panel\n",
    "\n",
    "df_snp = pd.read_csv(path_snp, header=None, sep=r\"\\s*\", engine=\"python\")\n",
    "df_snp.columns = [\"SNP\", \"chr\", \"map\", \"pos\", \"ref\", \"alt\"]\n",
    "print(f\"Loaded {len(df_snp)} X SNPs.\")"
   ]
  },
  {
   "cell_type": "code",
   "execution_count": 40,
   "metadata": {},
   "outputs": [
    {
     "data": {
      "text/plain": [
       "array(['MA89', 'MA79', 'SUC008'], dtype=object)"
      ]
     },
     "execution_count": 40,
     "metadata": {},
     "output_type": "execute_result"
    }
   ],
   "source": [
    "as_df = meta_df[:anc_sardind]\n",
    "iid_list = as_df[(as_df[\"age\"] > 5000) & (as_df[\"mean_cov\"]>0.5)][\"iid\"].values\n",
    "iid_list"
   ]
  },
  {
   "cell_type": "code",
   "execution_count": null,
   "metadata": {},
   "outputs": [],
   "source": []
  }
 ],
 "metadata": {
  "kernelspec": {
   "display_name": "Python 3",
   "language": "python",
   "name": "python3"
  },
  "language_info": {
   "codemirror_mode": {
    "name": "ipython",
    "version": 3
   },
   "file_extension": ".py",
   "mimetype": "text/x-python",
   "name": "python",
   "nbconvert_exporter": "python",
   "pygments_lexer": "ipython3",
   "version": "3.6.7"
  }
 },
 "nbformat": 4,
 "nbformat_minor": 2
}
