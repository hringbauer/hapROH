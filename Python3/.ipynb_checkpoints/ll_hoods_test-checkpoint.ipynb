{
 "cells": [
  {
   "cell_type": "markdown",
   "metadata": {},
   "source": [
    "# Test inferring multiple log likelihoods"
   ]
  },
  {
   "cell_type": "code",
   "execution_count": 1,
   "metadata": {},
   "outputs": [],
   "source": [
    "import numpy as np\n",
    "import os as os\n",
    "import matplotlib.pyplot as plt\n",
    "from hmm_inference import HMM_Analyze"
   ]
  },
  {
   "cell_type": "code",
   "execution_count": 4,
   "metadata": {},
   "outputs": [
    {
     "name": "stdout",
     "output_type": "stream",
     "text": [
      "Successfully loaded Data from: ../Simulated/TestBinomNoLD10k/\n",
      "Loaded Transition Model: model\n",
      "Loaded Emission Model: haploid\n",
      "Total Log likelihood: -6401.256\n",
      "Total Log likelihood: -6397.946\n",
      "Total Log likelihood: -6394.494\n",
      "Total Log likelihood: -6390.895\n",
      "Total Log likelihood: -6387.149\n",
      "Total Log likelihood: -6383.257\n",
      "Total Log likelihood: -6379.223\n",
      "Total Log likelihood: -6375.053\n",
      "Total Log likelihood: -6370.754\n",
      "Total Log likelihood: -6366.337\n",
      "Total Log likelihood: -6361.812\n",
      "Total Log likelihood: -6357.192\n",
      "Total Log likelihood: -6352.491\n",
      "Total Log likelihood: -6347.722\n",
      "Total Log likelihood: -6342.900\n",
      "Total Log likelihood: -6338.039\n",
      "Total Log likelihood: -6333.153\n",
      "Total Log likelihood: -6328.257\n",
      "Total Log likelihood: -6323.368\n",
      "Total Log likelihood: -6318.504\n",
      "Total Log likelihood: -6313.688\n",
      "Total Log likelihood: -6308.947\n",
      "Total Log likelihood: -6304.312\n",
      "Total Log likelihood: -6299.817\n",
      "Total Log likelihood: -6295.502\n",
      "Total Log likelihood: -6291.409\n",
      "Total Log likelihood: -6287.582\n",
      "Total Log likelihood: -6284.069\n",
      "Total Log likelihood: -6280.916\n",
      "Total Log likelihood: -6278.175\n",
      "Total Log likelihood: -6275.897\n",
      "Total Log likelihood: -6274.136\n",
      "Total Log likelihood: -6272.949\n",
      "Total Log likelihood: -6272.396\n",
      "Total Log likelihood: -6272.541\n",
      "Total Log likelihood: -6273.450\n",
      "Total Log likelihood: -6275.197\n",
      "Total Log likelihood: -6277.855\n",
      "Total Log likelihood: -6281.504\n",
      "Total Log likelihood: -6286.225\n",
      "Total Log likelihood: -6292.105\n",
      "Total Log likelihood: -6299.231\n",
      "Total Log likelihood: -6307.694\n",
      "Total Log likelihood: -6317.590\n",
      "Total Log likelihood: -6329.019\n",
      "Total Log likelihood: -6342.083\n",
      "Total Log likelihood: -6356.886\n",
      "Total Log likelihood: -6373.525\n",
      "Total Log likelihood: -6392.081\n",
      "Total Log likelihood: -6412.599\n"
     ]
    }
   ],
   "source": [
    "folder = \"../Simulated/TestBinomNoLD10k/\"\n",
    "jump_params = np.logspace(-2, -0.5, num=50)\n",
    "\n",
    "hmm = HMM_Analyze(folder=folder, output=False, cython=True)\n",
    "ll = hmm.optimze_ll_transition_param(jump_params)"
   ]
  },
  {
   "cell_type": "code",
   "execution_count": 4,
   "metadata": {},
   "outputs": [
    {
     "name": "stdout",
     "output_type": "stream",
     "text": [
      "Minimum Genetic Map: 0.208504\n",
      "Maximum Genetic Map: 0.670967\n",
      "Successfully loaded Data from: ../Empirical/Sard100_0-10kROH/\n",
      "Loaded Transition Model: model\n",
      "Loaded Emission Model: haploid\n",
      "Running the linear speed one.\n",
      "Total Log likelihood: -165460.676\n",
      "Total Log likelihood: -165458.913\n",
      "Total Log likelihood: -165457.106\n",
      "Total Log likelihood: -165455.254\n",
      "Total Log likelihood: -165453.355\n",
      "Total Log likelihood: -165451.407\n",
      "Total Log likelihood: -165449.408\n",
      "Total Log likelihood: -165447.361\n",
      "Total Log likelihood: -165445.264\n",
      "Total Log likelihood: -165443.117\n",
      "Total Log likelihood: -165440.919\n",
      "Total Log likelihood: -165438.668\n",
      "Total Log likelihood: -165436.360\n",
      "Total Log likelihood: -165433.990\n",
      "Total Log likelihood: -165431.555\n",
      "Total Log likelihood: -165429.050\n",
      "Total Log likelihood: -165426.473\n",
      "Total Log likelihood: -165423.824\n",
      "Total Log likelihood: -165421.104\n",
      "Total Log likelihood: -165418.318\n",
      "Total Log likelihood: -165415.473\n",
      "Total Log likelihood: -165412.576\n",
      "Total Log likelihood: -165409.640\n",
      "Total Log likelihood: -165406.676\n",
      "Total Log likelihood: -165403.699\n",
      "Total Log likelihood: -165400.725\n",
      "Total Log likelihood: -165397.772\n",
      "Total Log likelihood: -165394.860\n",
      "Total Log likelihood: -165392.011\n",
      "Total Log likelihood: -165389.248\n",
      "Total Log likelihood: -165386.596\n",
      "Total Log likelihood: -165384.077\n",
      "Total Log likelihood: -165381.712\n",
      "Total Log likelihood: -165379.517\n",
      "Total Log likelihood: -165377.508\n",
      "Total Log likelihood: -165375.703\n",
      "Total Log likelihood: -165374.130\n",
      "Total Log likelihood: -165372.829\n",
      "Total Log likelihood: -165371.851\n",
      "Total Log likelihood: -165371.252\n",
      "Total Log likelihood: -165371.088\n",
      "Total Log likelihood: -165371.413\n",
      "Total Log likelihood: -165372.279\n",
      "Total Log likelihood: -165373.727\n",
      "Total Log likelihood: -165375.774\n",
      "Total Log likelihood: -165378.392\n",
      "Total Log likelihood: -165381.527\n",
      "Total Log likelihood: -165385.135\n",
      "Total Log likelihood: -165389.231\n",
      "Total Log likelihood: -165393.888\n"
     ]
    }
   ],
   "source": [
    "folder = \"../Empirical/Sard100_0-10kROH/\"\n",
    "jump_params = np.logspace(-3, -1, num=50)\n",
    "\n",
    "hmm = HMM_Analyze(folder=folder, output=False, cython=2)\n",
    "hmm.set_diploid_observations()\n",
    "ll = hmm.optimze_ll_transition_param(jump_params)"
   ]
  },
  {
   "cell_type": "markdown",
   "metadata": {},
   "source": [
    "# Do the Plot"
   ]
  },
  {
   "cell_type": "code",
   "execution_count": 5,
   "metadata": {},
   "outputs": [
    {
     "name": "stdout",
     "output_type": "stream",
     "text": [
      "Maximum Likelihood at 0.04291934260128776 : -165371.08815712426\n"
     ]
    },
    {
     "data": {
      "image/png": "[encoded data removed]",
      "text/plain": [
       "<matplotlib.figure.Figure at 0x7f92d1284f60>"
      ]
     },
     "metadata": {
      "needs_background": "light"
     },
     "output_type": "display_data"
    }
   ],
   "source": [
    "fs = 18\n",
    "true_val = 0.1\n",
    "\n",
    "ll_plot = ll - np.max(ll)\n",
    "i = np.argmax(ll_plot)\n",
    "\n",
    "print(f\"Maximum Likelihood at {jump_params[i]} : {ll[i]}\")\n",
    "\n",
    "plt.figure(figsize=(8,6))\n",
    "plt.plot(jump_params, ll_plot, \"o-\", color=\"maroon\", label=\"Data\")\n",
    "plt.xscale(\"log\")\n",
    "plt.ylabel(\"Log Likelihood\", fontsize=fs)\n",
    "plt.xlabel(\"ROH Jump Probability\", fontsize=fs)\n",
    "#plt.axvline(x=0.1, linewidth=3, color=\"lawngreen\", label=\"True Value\")\n",
    "plt.axhline(y=-2, label=\"LL=-2\", color=\"gray\", zorder=0)\n",
    "plt.legend(loc=\"upper left\", fontsize=fs*0.8)\n",
    "plt.ylim([-130,5])\n",
    "#plt.savefig(\"../figures_test/ll_curveSardX.pdf\", bbox_inches = 'tight', pad_inches = 0)\n",
    "plt.show()"
   ]
  }
 ],
 "metadata": {
  "kernelspec": {
   "display_name": "Python 3",
   "language": "python",
   "name": "python3"
  },
  "language_info": {
   "codemirror_mode": {
    "name": "ipython",
    "version": 3
   },
   "file_extension": ".py",
   "mimetype": "text/x-python",
   "name": "python",
   "nbconvert_exporter": "python",
   "pygments_lexer": "ipython3",
   "version": "3.6.7"
  }
 },
 "nbformat": 4,
 "nbformat_minor": 2
}
