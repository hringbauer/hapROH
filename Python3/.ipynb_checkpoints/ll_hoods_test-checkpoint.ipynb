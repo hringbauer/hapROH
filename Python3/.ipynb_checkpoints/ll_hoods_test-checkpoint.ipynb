{
 "cells": [
  {
   "cell_type": "markdown",
   "metadata": {},
   "source": [
    "# Test inferring multiple log likelihoods"
   ]
  },
  {
   "cell_type": "code",
   "execution_count": 1,
   "metadata": {},
   "outputs": [],
   "source": [
    "import numpy as np\n",
    "import os as os\n",
    "import matplotlib.pyplot as plt\n",
    "from hmm_inference import HMM_Analyze"
   ]
  },
  {
   "cell_type": "code",
   "execution_count": 2,
   "metadata": {},
   "outputs": [
    {
     "name": "stdout",
     "output_type": "stream",
     "text": [
      "No Genetic Map found. Defaulting...\n",
      "Running the linear speed one.\n",
      "Total Log likelihood: -6454.814\n",
      "Total Log likelihood: -6450.042\n",
      "Total Log likelihood: -6445.081\n",
      "Total Log likelihood: -6439.955\n",
      "Total Log likelihood: -6434.686\n",
      "Total Log likelihood: -6429.293\n",
      "Total Log likelihood: -6423.788\n",
      "Total Log likelihood: -6418.181\n",
      "Total Log likelihood: -6412.478\n",
      "Total Log likelihood: -6406.687\n",
      "Total Log likelihood: -6400.817\n",
      "Total Log likelihood: -6394.878\n",
      "Total Log likelihood: -6388.883\n",
      "Total Log likelihood: -6382.848\n",
      "Total Log likelihood: -6376.791\n",
      "Total Log likelihood: -6370.733\n",
      "Total Log likelihood: -6364.698\n",
      "Total Log likelihood: -6358.714\n",
      "Total Log likelihood: -6352.814\n",
      "Total Log likelihood: -6347.028\n",
      "Total Log likelihood: -6341.386\n",
      "Total Log likelihood: -6335.918\n",
      "Total Log likelihood: -6330.652\n",
      "Total Log likelihood: -6325.614\n",
      "Total Log likelihood: -6320.830\n",
      "Total Log likelihood: -6316.329\n",
      "Total Log likelihood: -6312.138\n",
      "Total Log likelihood: -6308.286\n",
      "Total Log likelihood: -6304.803\n",
      "Total Log likelihood: -6301.720\n",
      "Total Log likelihood: -6299.072\n",
      "Total Log likelihood: -6296.894\n",
      "Total Log likelihood: -6295.222\n",
      "Total Log likelihood: -6294.097\n",
      "Total Log likelihood: -6293.558\n",
      "Total Log likelihood: -6293.647\n",
      "Total Log likelihood: -6294.405\n",
      "Total Log likelihood: -6295.874\n",
      "Total Log likelihood: -6298.092\n",
      "Total Log likelihood: -6301.099\n",
      "Total Log likelihood: -6304.935\n",
      "Total Log likelihood: -6309.645\n",
      "Total Log likelihood: -6315.281\n",
      "Total Log likelihood: -6321.896\n",
      "Total Log likelihood: -6329.542\n",
      "Total Log likelihood: -6338.258\n",
      "Total Log likelihood: -6348.062\n",
      "Total Log likelihood: -6358.951\n",
      "Total Log likelihood: -6370.912\n",
      "Total Log likelihood: -6383.924\n"
     ]
    }
   ],
   "source": [
    "folder = \"../Simulated/TestBinomNoLD10k/\"\n",
    "jump_params = np.logspace(-2, -0.5, num=50)\n",
    "\n",
    "hmm = HMM_Analyze(folder=folder, output=False, cython=2)\n",
    "ll = hmm.optimze_ll_transition_param(jump_params)"
   ]
  },
  {
   "cell_type": "code",
   "execution_count": 2,
   "metadata": {},
   "outputs": [
    {
     "name": "stdout",
     "output_type": "stream",
     "text": [
      "Running the linear speed one.\n",
      "Total Log likelihood: -2606.494\n",
      "Total Log likelihood: -2603.503\n",
      "Total Log likelihood: -2600.496\n",
      "Total Log likelihood: -2597.472\n",
      "Total Log likelihood: -2594.431\n",
      "Total Log likelihood: -2591.373\n",
      "Total Log likelihood: -2588.298\n",
      "Total Log likelihood: -2585.203\n",
      "Total Log likelihood: -2582.087\n",
      "Total Log likelihood: -2578.951\n",
      "Total Log likelihood: -2575.792\n",
      "Total Log likelihood: -2572.610\n",
      "Total Log likelihood: -2569.408\n",
      "Total Log likelihood: -2566.191\n",
      "Total Log likelihood: -2562.966\n",
      "Total Log likelihood: -2559.745\n",
      "Total Log likelihood: -2556.543\n",
      "Total Log likelihood: -2553.376\n",
      "Total Log likelihood: -2550.260\n",
      "Total Log likelihood: -2547.212\n",
      "Total Log likelihood: -2544.249\n",
      "Total Log likelihood: -2541.389\n",
      "Total Log likelihood: -2538.652\n",
      "Total Log likelihood: -2536.064\n",
      "Total Log likelihood: -2533.652\n",
      "Total Log likelihood: -2531.447\n",
      "Total Log likelihood: -2529.483\n",
      "Total Log likelihood: -2527.794\n",
      "Total Log likelihood: -2526.416\n",
      "Total Log likelihood: -2525.385\n",
      "Total Log likelihood: -2524.742\n",
      "Total Log likelihood: -2524.527\n",
      "Total Log likelihood: -2524.780\n",
      "Total Log likelihood: -2525.540\n",
      "Total Log likelihood: -2526.833\n",
      "Total Log likelihood: -2528.678\n",
      "Total Log likelihood: -2531.079\n",
      "Total Log likelihood: -2534.031\n",
      "Total Log likelihood: -2537.525\n",
      "Total Log likelihood: -2541.551\n",
      "Total Log likelihood: -2546.110\n",
      "Total Log likelihood: -2551.212\n",
      "Total Log likelihood: -2556.877\n",
      "Total Log likelihood: -2563.125\n",
      "Total Log likelihood: -2569.976\n",
      "Total Log likelihood: -2577.448\n",
      "Total Log likelihood: -2585.557\n",
      "Total Log likelihood: -2594.320\n",
      "Total Log likelihood: -2603.752\n",
      "Total Log likelihood: -2613.871\n"
     ]
    }
   ],
   "source": [
    "folder = \"../Empirical/Sard100_0-10kROH6/\"\n",
    "#jump_params = np.logspace(-3, -1, num=50)\n",
    "jump_params = np.logspace(1, 3.5, num=50)\n",
    "\n",
    "hmm = HMM_Analyze(folder=folder, output=False, cython=2)\n",
    "hmm.set_diploid_observations()\n",
    "ll = hmm.optimze_ll_transition_param(jump_params)"
   ]
  },
  {
   "cell_type": "markdown",
   "metadata": {},
   "source": [
    "# Do the Plot"
   ]
  },
  {
   "cell_type": "code",
   "execution_count": 4,
   "metadata": {},
   "outputs": [
    {
     "name": "stdout",
     "output_type": "stream",
     "text": [
      "Maximum Likelihood at 381.6213407949357 : -2524.5267240402904\n"
     ]
    },
    {
     "data": {
      "image/png": "[encoded data removed]",
      "text/plain": [
       "<matplotlib.figure.Figure at 0x7fce2e808438>"
      ]
     },
     "metadata": {
      "needs_background": "light"
     },
     "output_type": "display_data"
    }
   ],
   "source": [
    "fs = 18\n",
    "true_val = 0.1\n",
    "\n",
    "ll_plot = ll - np.max(ll)\n",
    "i = np.argmax(ll_plot)\n",
    "\n",
    "print(f\"Maximum Likelihood at {jump_params[i]} : {ll[i]}\")\n",
    "\n",
    "plt.figure(figsize=(8,6))\n",
    "plt.plot(jump_params, ll_plot, \"o-\", color=\"maroon\", label=\"Data\")\n",
    "plt.xscale(\"log\")\n",
    "plt.ylabel(\"Log Likelihood\", fontsize=fs)\n",
    "plt.xlabel(\"ROH Jump Probability\", fontsize=fs)\n",
    "#plt.axvline(x=0.1, linewidth=3, color=\"lawngreen\", label=\"True Value\")\n",
    "plt.axhline(y=-2, label=\"LL=-2\", color=\"gray\", zorder=0)\n",
    "plt.legend(fontsize=fs*0.8)\n",
    "plt.ylim([-100,5])\n",
    "plt.title(folder)\n",
    "#plt.savefig(\"../figures_test/ll_curveSardX.pdf\", bbox_inches = 'tight', pad_inches = 0)\n",
    "plt.show()"
   ]
  },
  {
   "cell_type": "code",
   "execution_count": null,
   "metadata": {},
   "outputs": [],
   "source": []
  }
 ],
 "metadata": {
  "kernelspec": {
   "display_name": "Python 3",
   "language": "python",
   "name": "python3"
  },
  "language_info": {
   "codemirror_mode": {
    "name": "ipython",
    "version": 3
   },
   "file_extension": ".py",
   "mimetype": "text/x-python",
   "name": "python",
   "nbconvert_exporter": "python",
   "pygments_lexer": "ipython3",
   "version": "3.6.7"
  }
 },
 "nbformat": 4,
 "nbformat_minor": 2
}
