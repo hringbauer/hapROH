{
 "cells": [
  {
   "cell_type": "markdown",
   "metadata": {},
   "source": [
    "# Test inferring multiple log likelihoods"
   ]
  },
  {
   "cell_type": "code",
   "execution_count": 1,
   "metadata": {},
   "outputs": [],
   "source": [
    "import numpy as np\n",
    "import matplotlib.pyplot as plt\n",
    "from hmm_inference import HMM_Analyze"
   ]
  },
  {
   "cell_type": "code",
   "execution_count": 4,
   "metadata": {},
   "outputs": [
    {
     "name": "stdout",
     "output_type": "stream",
     "text": [
      "Successfully loaded Data from: ../Simulated/TestBinomNoLD10k/\n",
      "Loaded Transition Model: model\n",
      "Loaded Emission Model: haploid\n",
      "Total Log likelihood: -6401.256\n",
      "Total Log likelihood: -6397.946\n",
      "Total Log likelihood: -6394.494\n",
      "Total Log likelihood: -6390.895\n",
      "Total Log likelihood: -6387.149\n",
      "Total Log likelihood: -6383.257\n",
      "Total Log likelihood: -6379.223\n",
      "Total Log likelihood: -6375.053\n",
      "Total Log likelihood: -6370.754\n",
      "Total Log likelihood: -6366.337\n",
      "Total Log likelihood: -6361.812\n",
      "Total Log likelihood: -6357.192\n",
      "Total Log likelihood: -6352.491\n",
      "Total Log likelihood: -6347.722\n",
      "Total Log likelihood: -6342.900\n",
      "Total Log likelihood: -6338.039\n",
      "Total Log likelihood: -6333.153\n",
      "Total Log likelihood: -6328.257\n",
      "Total Log likelihood: -6323.368\n",
      "Total Log likelihood: -6318.504\n",
      "Total Log likelihood: -6313.688\n",
      "Total Log likelihood: -6308.947\n",
      "Total Log likelihood: -6304.312\n",
      "Total Log likelihood: -6299.817\n",
      "Total Log likelihood: -6295.502\n",
      "Total Log likelihood: -6291.409\n",
      "Total Log likelihood: -6287.582\n",
      "Total Log likelihood: -6284.069\n",
      "Total Log likelihood: -6280.916\n",
      "Total Log likelihood: -6278.175\n",
      "Total Log likelihood: -6275.897\n",
      "Total Log likelihood: -6274.136\n",
      "Total Log likelihood: -6272.949\n",
      "Total Log likelihood: -6272.396\n",
      "Total Log likelihood: -6272.541\n",
      "Total Log likelihood: -6273.450\n",
      "Total Log likelihood: -6275.197\n",
      "Total Log likelihood: -6277.855\n",
      "Total Log likelihood: -6281.504\n",
      "Total Log likelihood: -6286.225\n",
      "Total Log likelihood: -6292.105\n",
      "Total Log likelihood: -6299.231\n",
      "Total Log likelihood: -6307.694\n",
      "Total Log likelihood: -6317.590\n",
      "Total Log likelihood: -6329.019\n",
      "Total Log likelihood: -6342.083\n",
      "Total Log likelihood: -6356.886\n",
      "Total Log likelihood: -6373.525\n",
      "Total Log likelihood: -6392.081\n",
      "Total Log likelihood: -6412.599\n"
     ]
    }
   ],
   "source": [
    "folder = \"../Simulated/TestBinomNoLD10k/\"\n",
    "jump_params = np.logspace(-2, -0.5, num=50)\n",
    "\n",
    "hmm = HMM_Analyze(folder=folder, output=False, cython=True)\n",
    "ll = hmm.optimze_ll_transition_param(jump_params)"
   ]
  },
  {
   "cell_type": "code",
   "execution_count": 2,
   "metadata": {},
   "outputs": [
    {
     "name": "stdout",
     "output_type": "stream",
     "text": [
      "Successfully loaded Data from: ../Empirical/Sard20_0-10kROH/\n",
      "Loaded Transition Model: model\n",
      "Loaded Emission Model: haploid\n",
      "Total Log likelihood: -2784.274\n",
      "Total Log likelihood: -2776.837\n",
      "Total Log likelihood: -2769.301\n",
      "Total Log likelihood: -2761.662\n",
      "Total Log likelihood: -2753.921\n",
      "Total Log likelihood: -2746.078\n",
      "Total Log likelihood: -2738.131\n",
      "Total Log likelihood: -2730.084\n",
      "Total Log likelihood: -2721.937\n",
      "Total Log likelihood: -2713.694\n",
      "Total Log likelihood: -2705.359\n",
      "Total Log likelihood: -2696.939\n",
      "Total Log likelihood: -2688.441\n",
      "Total Log likelihood: -2679.878\n",
      "Total Log likelihood: -2671.261\n",
      "Total Log likelihood: -2662.608\n",
      "Total Log likelihood: -2653.936\n",
      "Total Log likelihood: -2645.270\n",
      "Total Log likelihood: -2636.631\n",
      "Total Log likelihood: -2628.044\n",
      "Total Log likelihood: -2619.534\n",
      "Total Log likelihood: -2611.124\n",
      "Total Log likelihood: -2602.837\n",
      "Total Log likelihood: -2594.697\n",
      "Total Log likelihood: -2586.731\n",
      "Total Log likelihood: -2578.968\n",
      "Total Log likelihood: -2571.445\n",
      "Total Log likelihood: -2564.209\n",
      "Total Log likelihood: -2557.322\n",
      "Total Log likelihood: -2550.862\n",
      "Total Log likelihood: -2544.926\n",
      "Total Log likelihood: -2539.623\n",
      "Total Log likelihood: -2535.069\n",
      "Total Log likelihood: -2531.379\n",
      "Total Log likelihood: -2528.669\n",
      "Total Log likelihood: -2527.049\n",
      "Total Log likelihood: -2526.626\n",
      "Total Log likelihood: -2527.506\n",
      "Total Log likelihood: -2529.794\n",
      "Total Log likelihood: -2533.598\n",
      "Total Log likelihood: -2539.030\n",
      "Total Log likelihood: -2546.211\n",
      "Total Log likelihood: -2555.270\n",
      "Total Log likelihood: -2566.351\n",
      "Total Log likelihood: -2579.612\n",
      "Total Log likelihood: -2595.232\n",
      "Total Log likelihood: -2613.412\n",
      "Total Log likelihood: -2634.373\n",
      "Total Log likelihood: -2658.357\n",
      "Total Log likelihood: -2685.628\n"
     ]
    }
   ],
   "source": [
    "folder = \"../Empirical/Sard20_0-10kROH/\"\n",
    "jump_params = np.logspace(-3, -1, num=50)\n",
    "\n",
    "hmm = HMM_Analyze(folder=folder, output=False, cython=True)\n",
    "ll = hmm.optimze_ll_transition_param(jump_params)"
   ]
  },
  {
   "cell_type": "markdown",
   "metadata": {},
   "source": [
    "# Do the Plot"
   ]
  },
  {
   "cell_type": "code",
   "execution_count": 3,
   "metadata": {},
   "outputs": [
    {
     "name": "stdout",
     "output_type": "stream",
     "text": [
      "Maximum Likelihood at 0.029470517025518096 : -2526.6260517994965\n"
     ]
    },
    {
     "data": {
      "image/png": "[encoded data removed]",
      "text/plain": [
       "<matplotlib.figure.Figure at 0x7fb8dd27f978>"
      ]
     },
     "metadata": {
      "needs_background": "light"
     },
     "output_type": "display_data"
    }
   ],
   "source": [
    "fs = 18\n",
    "true_val = 0.1\n",
    "\n",
    "ll_plot = ll - np.max(ll)\n",
    "i = np.argmax(ll_plot)\n",
    "\n",
    "print(f\"Maximum Likelihood at {jump_params[i]} : {ll[i]}\")\n",
    "\n",
    "plt.figure(figsize=(8,6))\n",
    "plt.plot(jump_params, ll_plot, \"o-\", color=\"maroon\", label=\"Data\")\n",
    "plt.xscale(\"log\")\n",
    "plt.ylabel(\"Log Likelihood\", fontsize=fs)\n",
    "plt.xlabel(\"ROH Jump Probability\", fontsize=fs)\n",
    "#plt.axvline(x=0.1, linewidth=3, color=\"lawngreen\", label=\"True Value\")\n",
    "plt.axhline(y=-2, label=\"LL=-2\", color=\"gray\", zorder=0)\n",
    "plt.legend(loc=\"upper left\", fontsize=fs*0.8)\n",
    "plt.ylim([-130,5])\n",
    "plt.savefig(\"../figures_test/ll_curveSardX.pdf\", bbox_inches = 'tight', pad_inches = 0)\n",
    "plt.show()"
   ]
  },
  {
   "cell_type": "code",
   "execution_count": null,
   "metadata": {},
   "outputs": [],
   "source": []
  }
 ],
 "metadata": {
  "kernelspec": {
   "display_name": "Python 3",
   "language": "python",
   "name": "python3"
  },
  "language_info": {
   "codemirror_mode": {
    "name": "ipython",
    "version": 3
   },
   "file_extension": ".py",
   "mimetype": "text/x-python",
   "name": "python",
   "nbconvert_exporter": "python",
   "pygments_lexer": "ipython3",
   "version": "3.6.7"
  }
 },
 "nbformat": 4,
 "nbformat_minor": 2
}
