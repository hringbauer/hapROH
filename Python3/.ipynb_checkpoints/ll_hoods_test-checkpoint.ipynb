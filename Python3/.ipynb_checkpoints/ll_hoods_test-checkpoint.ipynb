{
 "cells": [
  {
   "cell_type": "markdown",
   "metadata": {},
   "source": [
    "# Test inferring multiple log likelihoods"
   ]
  },
  {
   "cell_type": "code",
   "execution_count": 1,
   "metadata": {},
   "outputs": [],
   "source": [
    "import numpy as np\n",
    "import os as os\n",
    "import matplotlib.pyplot as plt\n",
    "from hmm_inference import HMM_Analyze"
   ]
  },
  {
   "cell_type": "code",
   "execution_count": 2,
   "metadata": {},
   "outputs": [
    {
     "name": "stdout",
     "output_type": "stream",
     "text": [
      "No Genetic Map found. Defaulting...\n",
      "Running the linear speed one.\n",
      "Total Log likelihood: -6454.814\n",
      "Total Log likelihood: -6450.042\n",
      "Total Log likelihood: -6445.081\n",
      "Total Log likelihood: -6439.955\n",
      "Total Log likelihood: -6434.686\n",
      "Total Log likelihood: -6429.293\n",
      "Total Log likelihood: -6423.788\n",
      "Total Log likelihood: -6418.181\n",
      "Total Log likelihood: -6412.478\n",
      "Total Log likelihood: -6406.687\n",
      "Total Log likelihood: -6400.817\n",
      "Total Log likelihood: -6394.878\n",
      "Total Log likelihood: -6388.883\n",
      "Total Log likelihood: -6382.848\n",
      "Total Log likelihood: -6376.791\n",
      "Total Log likelihood: -6370.733\n",
      "Total Log likelihood: -6364.698\n",
      "Total Log likelihood: -6358.714\n",
      "Total Log likelihood: -6352.814\n",
      "Total Log likelihood: -6347.028\n",
      "Total Log likelihood: -6341.386\n",
      "Total Log likelihood: -6335.918\n",
      "Total Log likelihood: -6330.652\n",
      "Total Log likelihood: -6325.614\n",
      "Total Log likelihood: -6320.830\n",
      "Total Log likelihood: -6316.329\n",
      "Total Log likelihood: -6312.138\n",
      "Total Log likelihood: -6308.286\n",
      "Total Log likelihood: -6304.803\n",
      "Total Log likelihood: -6301.720\n",
      "Total Log likelihood: -6299.072\n",
      "Total Log likelihood: -6296.894\n",
      "Total Log likelihood: -6295.222\n",
      "Total Log likelihood: -6294.097\n",
      "Total Log likelihood: -6293.558\n",
      "Total Log likelihood: -6293.647\n",
      "Total Log likelihood: -6294.405\n",
      "Total Log likelihood: -6295.874\n",
      "Total Log likelihood: -6298.092\n",
      "Total Log likelihood: -6301.099\n",
      "Total Log likelihood: -6304.935\n",
      "Total Log likelihood: -6309.645\n",
      "Total Log likelihood: -6315.281\n",
      "Total Log likelihood: -6321.896\n",
      "Total Log likelihood: -6329.542\n",
      "Total Log likelihood: -6338.258\n",
      "Total Log likelihood: -6348.062\n",
      "Total Log likelihood: -6358.951\n",
      "Total Log likelihood: -6370.912\n",
      "Total Log likelihood: -6383.924\n"
     ]
    }
   ],
   "source": [
    "folder = \"../Simulated/TestBinomNoLD10k/\"\n",
    "jump_params = np.logspace(-2, -0.5, num=50)\n",
    "\n",
    "hmm = HMM_Analyze(folder=folder, output=False, cython=2)\n",
    "ll = hmm.optimze_ll_transition_param(jump_params)"
   ]
  },
  {
   "cell_type": "code",
   "execution_count": 12,
   "metadata": {},
   "outputs": [
    {
     "name": "stdout",
     "output_type": "stream",
     "text": [
      "Running the linear speed one.\n",
      "Total Log likelihood: -3001.336\n",
      "Total Log likelihood: -2999.411\n",
      "Total Log likelihood: -2997.481\n",
      "Total Log likelihood: -2995.546\n",
      "Total Log likelihood: -2993.605\n",
      "Total Log likelihood: -2991.657\n",
      "Total Log likelihood: -2989.703\n",
      "Total Log likelihood: -2987.742\n",
      "Total Log likelihood: -2985.772\n",
      "Total Log likelihood: -2983.793\n",
      "Total Log likelihood: -2981.804\n",
      "Total Log likelihood: -2979.804\n",
      "Total Log likelihood: -2977.793\n",
      "Total Log likelihood: -2975.771\n",
      "Total Log likelihood: -2973.738\n",
      "Total Log likelihood: -2971.695\n",
      "Total Log likelihood: -2969.645\n",
      "Total Log likelihood: -2967.594\n",
      "Total Log likelihood: -2965.547\n",
      "Total Log likelihood: -2963.512\n",
      "Total Log likelihood: -2961.500\n",
      "Total Log likelihood: -2959.519\n",
      "Total Log likelihood: -2957.578\n",
      "Total Log likelihood: -2955.686\n",
      "Total Log likelihood: -2953.850\n",
      "Total Log likelihood: -2952.072\n",
      "Total Log likelihood: -2950.355\n",
      "Total Log likelihood: -2948.697\n",
      "Total Log likelihood: -2947.096\n",
      "Total Log likelihood: -2945.559\n",
      "Total Log likelihood: -2944.100\n",
      "Total Log likelihood: -2942.743\n",
      "Total Log likelihood: -2941.516\n",
      "Total Log likelihood: -2940.449\n",
      "Total Log likelihood: -2939.568\n",
      "Total Log likelihood: -2938.895\n",
      "Total Log likelihood: -2938.456\n",
      "Total Log likelihood: -2938.272\n",
      "Total Log likelihood: -2938.365\n",
      "Total Log likelihood: -2938.759\n",
      "Total Log likelihood: -2939.475\n",
      "Total Log likelihood: -2940.532\n",
      "Total Log likelihood: -2941.948\n",
      "Total Log likelihood: -2943.734\n",
      "Total Log likelihood: -2945.897\n",
      "Total Log likelihood: -2948.438\n",
      "Total Log likelihood: -2951.357\n",
      "Total Log likelihood: -2954.648\n",
      "Total Log likelihood: -2958.309\n",
      "Total Log likelihood: -2962.340\n"
     ]
    }
   ],
   "source": [
    "folder = \"../Empirical/Sard100_0-10kROH4/\"\n",
    "#jump_params = np.logspace(-3, -1, num=50)\n",
    "jump_params = np.logspace(1, 3.5, num=50)\n",
    "\n",
    "hmm = HMM_Analyze(folder=folder, output=False, cython=2)\n",
    "hmm.set_diploid_observations()\n",
    "ll = hmm.optimze_ll_transition_param(jump_params)"
   ]
  },
  {
   "cell_type": "markdown",
   "metadata": {},
   "source": [
    "# Do the Plot"
   ]
  },
  {
   "cell_type": "code",
   "execution_count": 13,
   "metadata": {},
   "outputs": [
    {
     "name": "stdout",
     "output_type": "stream",
     "text": [
      "Maximum Likelihood at 772.2449945836254 : -2938.271692707777\n"
     ]
    },
    {
     "data": {
      "image/png": "[encoded data removed]",
      "text/plain": [
       "<matplotlib.figure.Figure at 0x7f94d642a828>"
      ]
     },
     "metadata": {
      "needs_background": "light"
     },
     "output_type": "display_data"
    }
   ],
   "source": [
    "fs = 18\n",
    "true_val = 0.1\n",
    "\n",
    "ll_plot = ll - np.max(ll)\n",
    "i = np.argmax(ll_plot)\n",
    "\n",
    "print(f\"Maximum Likelihood at {jump_params[i]} : {ll[i]}\")\n",
    "\n",
    "plt.figure(figsize=(8,6))\n",
    "plt.plot(jump_params, ll_plot, \"o-\", color=\"maroon\", label=\"Data\")\n",
    "plt.xscale(\"log\")\n",
    "plt.ylabel(\"Log Likelihood\", fontsize=fs)\n",
    "plt.xlabel(\"ROH Jump Probability\", fontsize=fs)\n",
    "#plt.axvline(x=0.1, linewidth=3, color=\"lawngreen\", label=\"True Value\")\n",
    "plt.axhline(y=-2, label=\"LL=-2\", color=\"gray\", zorder=0)\n",
    "plt.legend(fontsize=fs*0.8)\n",
    "plt.ylim([-100,5])\n",
    "#plt.savefig(\"../figures_test/ll_curveSardX.pdf\", bbox_inches = 'tight', pad_inches = 0)\n",
    "plt.show()"
   ]
  },
  {
   "cell_type": "code",
   "execution_count": null,
   "metadata": {},
   "outputs": [],
   "source": []
  }
 ],
 "metadata": {
  "kernelspec": {
   "display_name": "Python 3",
   "language": "python",
   "name": "python3"
  },
  "language_info": {
   "codemirror_mode": {
    "name": "ipython",
    "version": 3
   },
   "file_extension": ".py",
   "mimetype": "text/x-python",
   "name": "python",
   "nbconvert_exporter": "python",
   "pygments_lexer": "ipython3",
   "version": "3.6.7"
  }
 },
 "nbformat": 4,
 "nbformat_minor": 2
}
