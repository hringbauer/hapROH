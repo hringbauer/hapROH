{
 "cells": [
  {
   "cell_type": "markdown",
   "metadata": {},
   "source": [
    "# Test inferring multiple log likelihoods"
   ]
  },
  {
   "cell_type": "code",
   "execution_count": 1,
   "metadata": {},
   "outputs": [],
   "source": [
    "import numpy as np\n",
    "import os as os\n",
    "import matplotlib.pyplot as plt\n",
    "from hmm_inference import HMM_Analyze"
   ]
  },
  {
   "cell_type": "code",
   "execution_count": 2,
   "metadata": {},
   "outputs": [
    {
     "name": "stdout",
     "output_type": "stream",
     "text": [
      "No Genetic Map found. Defaulting...\n",
      "Running the linear speed one.\n",
      "Total Log likelihood: -6454.814\n",
      "Total Log likelihood: -6450.042\n",
      "Total Log likelihood: -6445.081\n",
      "Total Log likelihood: -6439.955\n",
      "Total Log likelihood: -6434.686\n",
      "Total Log likelihood: -6429.293\n",
      "Total Log likelihood: -6423.788\n",
      "Total Log likelihood: -6418.181\n",
      "Total Log likelihood: -6412.478\n",
      "Total Log likelihood: -6406.687\n",
      "Total Log likelihood: -6400.817\n",
      "Total Log likelihood: -6394.878\n",
      "Total Log likelihood: -6388.883\n",
      "Total Log likelihood: -6382.848\n",
      "Total Log likelihood: -6376.791\n",
      "Total Log likelihood: -6370.733\n",
      "Total Log likelihood: -6364.698\n",
      "Total Log likelihood: -6358.714\n",
      "Total Log likelihood: -6352.814\n",
      "Total Log likelihood: -6347.028\n",
      "Total Log likelihood: -6341.386\n",
      "Total Log likelihood: -6335.918\n",
      "Total Log likelihood: -6330.652\n",
      "Total Log likelihood: -6325.614\n",
      "Total Log likelihood: -6320.830\n",
      "Total Log likelihood: -6316.329\n",
      "Total Log likelihood: -6312.138\n",
      "Total Log likelihood: -6308.286\n",
      "Total Log likelihood: -6304.803\n",
      "Total Log likelihood: -6301.720\n",
      "Total Log likelihood: -6299.072\n",
      "Total Log likelihood: -6296.894\n",
      "Total Log likelihood: -6295.222\n",
      "Total Log likelihood: -6294.097\n",
      "Total Log likelihood: -6293.558\n",
      "Total Log likelihood: -6293.647\n",
      "Total Log likelihood: -6294.405\n",
      "Total Log likelihood: -6295.874\n",
      "Total Log likelihood: -6298.092\n",
      "Total Log likelihood: -6301.099\n",
      "Total Log likelihood: -6304.935\n",
      "Total Log likelihood: -6309.645\n",
      "Total Log likelihood: -6315.281\n",
      "Total Log likelihood: -6321.896\n",
      "Total Log likelihood: -6329.542\n",
      "Total Log likelihood: -6338.258\n",
      "Total Log likelihood: -6348.062\n",
      "Total Log likelihood: -6358.951\n",
      "Total Log likelihood: -6370.912\n",
      "Total Log likelihood: -6383.924\n"
     ]
    }
   ],
   "source": [
    "folder = \"../Simulated/TestBinomNoLD10k/\"\n",
    "jump_params = np.logspace(-2, -0.5, num=50)\n",
    "\n",
    "hmm = HMM_Analyze(folder=folder, output=False, cython=2)\n",
    "ll = hmm.optimze_ll_transition_param(jump_params)"
   ]
  },
  {
   "cell_type": "code",
   "execution_count": null,
   "metadata": {},
   "outputs": [
    {
     "name": "stdout",
     "output_type": "stream",
     "text": [
      "Running the linear speed one.\n"
     ]
    }
   ],
   "source": [
    "#folder = \"../Empirical/Sard100_0-10kROH6/\"\n",
    "folder = \"../Empirical/SEC002_Chr15_1000G_ROH/\"\n",
    "\n",
    "#jump_params = np.logspace(-3, -1, num=50)\n",
    "jump_params = np.logspace(2, 4, num=30)\n",
    "\n",
    "hmm = HMM_Analyze(folder=folder, output=False, cython=2)\n",
    "hmm.set_diploid_observations()\n",
    "ll = hmm.optimze_ll_transition_param(jump_params)"
   ]
  },
  {
   "cell_type": "markdown",
   "metadata": {},
   "source": [
    "# Do the Plot"
   ]
  },
  {
   "cell_type": "code",
   "execution_count": 5,
   "metadata": {},
   "outputs": [
    {
     "name": "stdout",
     "output_type": "stream",
     "text": [
      "Maximum Likelihood at 2043.3597178569416 : -3261.47215062772\n"
     ]
    },
    {
     "data": {
      "image/png": "[encoded data removed]",
      "text/plain": [
       "<matplotlib.figure.Figure at 0x7f89b3359160>"
      ]
     },
     "metadata": {
      "needs_background": "light"
     },
     "output_type": "display_data"
    }
   ],
   "source": [
    "fs = 18\n",
    "true_val = 0.1\n",
    "\n",
    "ll_plot = ll - np.max(ll)\n",
    "i = np.argmax(ll_plot)\n",
    "\n",
    "print(f\"Maximum Likelihood at {jump_params[i]} : {ll[i]}\")\n",
    "\n",
    "plt.figure(figsize=(8,6))\n",
    "plt.plot(jump_params, ll_plot, \"o-\", color=\"maroon\", label=\"Data\")\n",
    "plt.xscale(\"log\")\n",
    "plt.ylabel(\"Log Likelihood\", fontsize=fs)\n",
    "plt.xlabel(\"ROH Jump Probability\", fontsize=fs)\n",
    "#plt.axvline(x=0.1, linewidth=3, color=\"lawngreen\", label=\"True Value\")\n",
    "plt.axhline(y=-2, label=\"LL=-2\", color=\"gray\", zorder=0)\n",
    "plt.legend(fontsize=fs*0.8)\n",
    "plt.ylim([-100,5])\n",
    "plt.title(folder)\n",
    "#plt.savefig(\"../figures_test/ll_curveSardX.pdf\", bbox_inches = 'tight', pad_inches = 0)\n",
    "plt.show()"
   ]
  },
  {
   "cell_type": "code",
   "execution_count": null,
   "metadata": {},
   "outputs": [],
   "source": []
  }
 ],
 "metadata": {
  "kernelspec": {
   "display_name": "Python 3",
   "language": "python",
   "name": "python3"
  },
  "language_info": {
   "codemirror_mode": {
    "name": "ipython",
    "version": 3
   },
   "file_extension": ".py",
   "mimetype": "text/x-python",
   "name": "python",
   "nbconvert_exporter": "python",
   "pygments_lexer": "ipython3",
   "version": "3.6.7"
  }
 },
 "nbformat": 4,
 "nbformat_minor": 2
}
