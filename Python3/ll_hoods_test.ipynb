{
 "cells": [
  {
   "cell_type": "markdown",
   "metadata": {},
   "source": [
    "# Test inferring multiple log likelihoods"
   ]
  },
  {
   "cell_type": "code",
   "execution_count": 1,
   "metadata": {},
   "outputs": [],
   "source": [
    "import numpy as np\n",
    "import os as os\n",
    "import matplotlib.pyplot as plt\n",
    "from hmm_inference import HMM_Analyze"
   ]
  },
  {
   "cell_type": "code",
   "execution_count": 4,
   "metadata": {},
   "outputs": [
    {
     "name": "stdout",
     "output_type": "stream",
     "text": [
      "Successfully loaded Data from: ../Simulated/TestBinomNoLD10k/\n",
      "Loaded Transition Model: model\n",
      "Loaded Emission Model: haploid\n",
      "Total Log likelihood: -6401.256\n",
      "Total Log likelihood: -6397.946\n",
      "Total Log likelihood: -6394.494\n",
      "Total Log likelihood: -6390.895\n",
      "Total Log likelihood: -6387.149\n",
      "Total Log likelihood: -6383.257\n",
      "Total Log likelihood: -6379.223\n",
      "Total Log likelihood: -6375.053\n",
      "Total Log likelihood: -6370.754\n",
      "Total Log likelihood: -6366.337\n",
      "Total Log likelihood: -6361.812\n",
      "Total Log likelihood: -6357.192\n",
      "Total Log likelihood: -6352.491\n",
      "Total Log likelihood: -6347.722\n",
      "Total Log likelihood: -6342.900\n",
      "Total Log likelihood: -6338.039\n",
      "Total Log likelihood: -6333.153\n",
      "Total Log likelihood: -6328.257\n",
      "Total Log likelihood: -6323.368\n",
      "Total Log likelihood: -6318.504\n",
      "Total Log likelihood: -6313.688\n",
      "Total Log likelihood: -6308.947\n",
      "Total Log likelihood: -6304.312\n",
      "Total Log likelihood: -6299.817\n",
      "Total Log likelihood: -6295.502\n",
      "Total Log likelihood: -6291.409\n",
      "Total Log likelihood: -6287.582\n",
      "Total Log likelihood: -6284.069\n",
      "Total Log likelihood: -6280.916\n",
      "Total Log likelihood: -6278.175\n",
      "Total Log likelihood: -6275.897\n",
      "Total Log likelihood: -6274.136\n",
      "Total Log likelihood: -6272.949\n",
      "Total Log likelihood: -6272.396\n",
      "Total Log likelihood: -6272.541\n",
      "Total Log likelihood: -6273.450\n",
      "Total Log likelihood: -6275.197\n",
      "Total Log likelihood: -6277.855\n",
      "Total Log likelihood: -6281.504\n",
      "Total Log likelihood: -6286.225\n",
      "Total Log likelihood: -6292.105\n",
      "Total Log likelihood: -6299.231\n",
      "Total Log likelihood: -6307.694\n",
      "Total Log likelihood: -6317.590\n",
      "Total Log likelihood: -6329.019\n",
      "Total Log likelihood: -6342.083\n",
      "Total Log likelihood: -6356.886\n",
      "Total Log likelihood: -6373.525\n",
      "Total Log likelihood: -6392.081\n",
      "Total Log likelihood: -6412.599\n"
     ]
    }
   ],
   "source": [
    "folder = \"../Simulated/TestBinomNoLD10k/\"\n",
    "jump_params = np.logspace(-2, -0.5, num=50)\n",
    "\n",
    "hmm = HMM_Analyze(folder=folder, output=False, cython=True)\n",
    "ll = hmm.optimze_ll_transition_param(jump_params)"
   ]
  },
  {
   "cell_type": "code",
   "execution_count": 2,
   "metadata": {},
   "outputs": [
    {
     "name": "stdout",
     "output_type": "stream",
     "text": [
      "Successfully loaded Data from: ../Empirical/Sard100_0-10kROH/\n",
      "Loaded Transition Model: model\n",
      "Loaded Emission Model: haploid\n",
      "Running the linear speed one.\n",
      "Total Log likelihood: -3497.951\n",
      "Total Log likelihood: -3495.775\n",
      "Total Log likelihood: -3493.583\n",
      "Total Log likelihood: -3491.378\n",
      "Total Log likelihood: -3489.161\n",
      "Total Log likelihood: -3486.934\n",
      "Total Log likelihood: -3484.695\n",
      "Total Log likelihood: -3482.447\n",
      "Total Log likelihood: -3480.190\n",
      "Total Log likelihood: -3477.923\n",
      "Total Log likelihood: -3475.647\n",
      "Total Log likelihood: -3473.362\n",
      "Total Log likelihood: -3471.069\n",
      "Total Log likelihood: -3468.768\n",
      "Total Log likelihood: -3466.459\n",
      "Total Log likelihood: -3464.142\n",
      "Total Log likelihood: -3461.817\n",
      "Total Log likelihood: -3459.485\n",
      "Total Log likelihood: -3457.146\n",
      "Total Log likelihood: -3454.801\n",
      "Total Log likelihood: -3452.448\n",
      "Total Log likelihood: -3450.089\n",
      "Total Log likelihood: -3447.724\n",
      "Total Log likelihood: -3445.353\n",
      "Total Log likelihood: -3442.976\n",
      "Total Log likelihood: -3440.592\n",
      "Total Log likelihood: -3438.201\n",
      "Total Log likelihood: -3435.803\n",
      "Total Log likelihood: -3433.397\n",
      "Total Log likelihood: -3430.980\n",
      "Total Log likelihood: -3428.552\n",
      "Total Log likelihood: -3426.109\n",
      "Total Log likelihood: -3423.648\n",
      "Total Log likelihood: -3421.166\n",
      "Total Log likelihood: -3418.659\n",
      "Total Log likelihood: -3416.123\n",
      "Total Log likelihood: -3413.556\n",
      "Total Log likelihood: -3410.958\n",
      "Total Log likelihood: -3408.331\n",
      "Total Log likelihood: -3405.677\n",
      "Total Log likelihood: -3403.002\n",
      "Total Log likelihood: -3400.313\n",
      "Total Log likelihood: -3397.616\n",
      "Total Log likelihood: -3394.918\n",
      "Total Log likelihood: -3392.225\n",
      "Total Log likelihood: -3389.545\n",
      "Total Log likelihood: -3386.883\n",
      "Total Log likelihood: -3384.249\n",
      "Total Log likelihood: -3381.647\n",
      "Total Log likelihood: -3379.087\n"
     ]
    }
   ],
   "source": [
    "folder = \"../Empirical/Sard100_0-10kROH/\"\n",
    "jump_params = np.logspace(-3, -1, num=50)\n",
    "jump_params = np.logspace(0, 2, num=50)\n",
    "\n",
    "hmm = HMM_Analyze(folder=folder, output=False, cython=2)\n",
    "hmm.set_diploid_observations()\n",
    "ll = hmm.optimze_ll_transition_param(jump_params)"
   ]
  },
  {
   "cell_type": "markdown",
   "metadata": {},
   "source": [
    "# Do the Plot"
   ]
  },
  {
   "cell_type": "code",
   "execution_count": 3,
   "metadata": {},
   "outputs": [
    {
     "name": "stdout",
     "output_type": "stream",
     "text": [
      "Maximum Likelihood at 100.0 : -3379.0873939611574\n"
     ]
    },
    {
     "data": {
      "image/png": "[encoded data removed]",
      "text/plain": [
       "<matplotlib.figure.Figure at 0x7f94e4b9eba8>"
      ]
     },
     "metadata": {
      "needs_background": "light"
     },
     "output_type": "display_data"
    }
   ],
   "source": [
    "fs = 18\n",
    "true_val = 0.1\n",
    "\n",
    "ll_plot = ll - np.max(ll)\n",
    "i = np.argmax(ll_plot)\n",
    "\n",
    "print(f\"Maximum Likelihood at {jump_params[i]} : {ll[i]}\")\n",
    "\n",
    "plt.figure(figsize=(8,6))\n",
    "plt.plot(jump_params, ll_plot, \"o-\", color=\"maroon\", label=\"Data\")\n",
    "plt.xscale(\"log\")\n",
    "plt.ylabel(\"Log Likelihood\", fontsize=fs)\n",
    "plt.xlabel(\"ROH Jump Probability\", fontsize=fs)\n",
    "#plt.axvline(x=0.1, linewidth=3, color=\"lawngreen\", label=\"True Value\")\n",
    "plt.axhline(y=-2, label=\"LL=-2\", color=\"gray\", zorder=0)\n",
    "plt.legend(loc=\"upper left\", fontsize=fs*0.8)\n",
    "plt.ylim([-130,5])\n",
    "#plt.savefig(\"../figures_test/ll_curveSardX.pdf\", bbox_inches = 'tight', pad_inches = 0)\n",
    "plt.show()"
   ]
  },
  {
   "cell_type": "code",
   "execution_count": null,
   "metadata": {},
   "outputs": [],
   "source": []
  }
 ],
 "metadata": {
  "kernelspec": {
   "display_name": "Python 3",
   "language": "python",
   "name": "python3"
  },
  "language_info": {
   "codemirror_mode": {
    "name": "ipython",
    "version": 3
   },
   "file_extension": ".py",
   "mimetype": "text/x-python",
   "name": "python",
   "nbconvert_exporter": "python",
   "pygments_lexer": "ipython3",
   "version": "3.6.7"
  }
 },
 "nbformat": 4,
 "nbformat_minor": 2
}
