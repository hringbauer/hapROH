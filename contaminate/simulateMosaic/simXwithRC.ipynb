{
 "cells": [
  {
   "cell_type": "markdown",
   "source": [
    "Simulate male X chromosome data with readcount."
   ],
   "metadata": {}
  },
  {
   "cell_type": "code",
   "execution_count": 1,
   "source": [
    "import numpy as np\n",
    "import pandas as pd\n",
    "import matplotlib.pyplot as plt\n",
    "import os as os\n",
    "import sys as sys\n",
    "import multiprocessing as mp\n",
    "\n",
    "sys.path.insert(0, \"/mnt/archgen/users/yilei/tools/hapROH/create1000G_Mosaic\")\n",
    "from createMosaicsMulti import create_individual_mosaic\n",
    "\n",
    "path = \"/mnt/archgen/users/yilei/tools/hapROH\"   # The Path on Yilei's remote space\n",
    "os.chdir(path)  # Set the right Path (in line with Atom default)"
   ],
   "outputs": [],
   "metadata": {}
  },
  {
   "cell_type": "code",
   "execution_count": 3,
   "source": [
    "# actual simulation\n",
    "#### Create the parameters array for the starmap:\n",
    "base_path=\"./simulated/1000G_Mosaic/TSI/maleX2/con0/\" \n",
    "path1000G=\"/mnt/archgen/users/yilei/Data/1000G/1000g1240khdf5/chX1240/chr\"\n",
    "pop_list=[\"TSI0\"]\n",
    "conPop=[]\n",
    "n=1   # Number of Individuals\n",
    "ch='X'\n",
    "chunk_length=0.0025\n",
    "l = 5  # length of simulated ROH, in centiMorgen\n",
    "n_blocks=5 # How many blocks will be copied in\n",
    "\n",
    "# parameters for faking readcount data\n",
    "cov = 2.0\n",
    "con = 0.0\n",
    "err_rate=1e-3\n",
    "e_rate_ref=1e-3\n",
    "\n",
    "create_individual_mosaic(base_path, path1000G, pop_list, n, ch, chunk_length, l, n_blocks, cov, con, err_rate, e_rate_ref, conPop)\n"
   ],
   "outputs": [],
   "metadata": {}
  },
  {
   "cell_type": "markdown",
   "source": [
    "using hapROH to test whether the simulation makes sense."
   ],
   "metadata": {}
  },
  {
   "cell_type": "code",
   "execution_count": 2,
   "source": [
    "sys.path.insert(0, \"/mnt/archgen/users/yilei/tools/hapROH/package\")  # hack to get local package first in path [FROM HARALD - DELETE!!!]\n",
    "from hapsburg.PackagesSupport.hapsburg_run import hapsb_ind  # Need this import\n",
    "from hapsburg.PackagesSupport.hapsburg_run import hapCon_chrom  # Need this import\n"
   ],
   "outputs": [],
   "metadata": {}
  },
  {
   "cell_type": "code",
   "execution_count": 5,
   "source": [
    "hapsb_ind(iid=\"iid0\", chs=['X'], \n",
    "          path_targets='./simulated/1000G_Mosaic/TSI/maleX2/con0/chrX_5cM/data.h5',\n",
    "          h5_path1000g='../../Data/1000G/1000g1240khdf5/chX1240/chr',\n",
    "          meta_path_ref='/mnt/archgen/users/yilei/Data/1000G/1000g1240khdf5/all1240/meta_df_all.custom.csv', \n",
    "          folder_out='./test_output/contaminate/first_try/', prefix_out='hap_', \n",
    "          e_model='haploid', p_model='SardHDF5', \n",
    "          post_model='Standard', processes=1, delete=False, output=True, save=True, \n",
    "          save_fp=False, n_ref=2504, exclude_pops=[], readcounts=False, random_allele=True, \n",
    "          roh_in=1, roh_out=10, roh_jump=300, e_rate=1e-3, e_rate_ref=1e-3, \n",
    "          cutoff_post=0.999, max_gap=0, roh_min_l=0.01, \n",
    "          logfile=True, combine=False, file_result='_roh_full.csv')"
   ],
   "outputs": [],
   "metadata": {}
  },
  {
   "cell_type": "code",
   "execution_count": 10,
   "source": [
    "hapsb_ind(iid=\"iid0\", chs=['X'], \n",
    "          path_targets='./simulated/1000G_Mosaic/TSI/maleX2/con0/chrX_5cM/data.h5',\n",
    "          h5_path1000g='../../Data/1000G/1000g1240khdf5/chX1240/chr',\n",
    "          meta_path_ref='../../Data/1000G/meta_df_all.csv', \n",
    "          folder_out='./test_output/contaminate/first_try/', prefix_out='rc_', \n",
    "          e_model='readcount', p_model='SardHDF5', \n",
    "          post_model='Standard', processes=1, delete=False, output=True, save=True, \n",
    "          save_fp=False, n_ref=2504, exclude_pops=[\"TSI0\"], readcounts=True, random_allele=False, \n",
    "          roh_in=1, roh_out=10, roh_jump=300, e_rate=0.001, e_rate_ref=1e-3, \n",
    "          cutoff_post=0.999, max_gap=0, roh_min_l=0.01, \n",
    "          logfile=True, combine=False, file_result='_roh_full.csv')"
   ],
   "outputs": [],
   "metadata": {}
  },
  {
   "cell_type": "code",
   "execution_count": 6,
   "source": [
    "hapCon_chrom('iid0', '23', save=True, save_fp=False, n_ref=2504, diploid_ref=True, exclude_pops=[], \n",
    "                e_model=\"readcount_contam\", p_model=\"SardHDF5\", readcounts=True, random_allele=False,\n",
    "                post_model=\"Standard\", path_targets='./simulated/1000G_Mosaic/TSI/maleX/con10/chrX_cov5/data.h5',\n",
    "                h5_path1000g='../../Data/1000G/1000g1240khdf5/chX1240/chr',\n",
    "                meta_path_ref='../../Data/1000G/meta_df_all.csv', \n",
    "                folder_out='./test_output/contaminate/first_try/', prefix_out=\"hapCon_cov5_\",\n",
    "                c=0.1, roh_in=1, roh_out=20, roh_jump=300, e_rate=0.001, e_rate_ref=0.0,\n",
    "                max_gap=0, cutoff_post = 0.999, roh_min_l = 0.01, logfile=True)"
   ],
   "outputs": [],
   "metadata": {}
  },
  {
   "cell_type": "code",
   "execution_count": 3,
   "source": [
    "# test my new way to calculate loglikelihood and ci\n",
    "hapCon_chrom(\"iid5\", ch='X', \n",
    "            path_targets=\"/mnt/archgen/users/yilei/tools/hapROH/simulated/1000G_Mosaic/TSI/maleX4/con5/chrX_cov5/data.h5\",\n",
    "            h5_path1000g='/mnt/archgen/users/yilei/Data/1000G/1000g1240khdf5/all1240/chr',\n",
    "            meta_path_ref='/mnt/archgen/users/yilei/Data/1000G/1000g1240khdf5/all1240/meta_df_all.csv', \n",
    "            folder_out=\"./test_output/contaminate/first_try/\", prefix_out=\"fast_\",\n",
    "            e_model=\"readcount_contam\", p_model=\"SardHDF5\", post_model=\"Standard\", save=True, save_fp=False, \n",
    "            n_ref=2504, diploid_ref=True, exclude_pops=[\"TSI\"], conPop=[], readcounts=True, random_allele=False,\n",
    "            c=np.arange(0, 0.2, 0.05), roh_in=1, roh_out=0, roh_jump=300, e_rate=0.001, e_rate_ref=1e-3, \n",
    "            cutoff_post = 0.999, max_gap=0, roh_min_l = 0.01, logfile=False)"
   ],
   "outputs": [
    {
     "output_type": "stream",
     "name": "stdout",
     "text": [
      "Using Rescaled HMM.\n",
      "Loaded Pre Processing Model: SardHDF5\n",
      "Loading Individual: iid5\n",
      "\n",
      "Loaded 47898 variants\n",
      "Loaded 10 individuals\n",
      "HDF5 loaded from /mnt/archgen/users/yilei/tools/hapROH/simulated/1000G_Mosaic/TSI/maleX4/con5/chrX_cov5/data.h5\n",
      "\n",
      "Loaded 47898 variants\n",
      "Loaded 2504 individuals\n",
      "HDF5 loaded from /mnt/archgen/users/yilei/Data/1000G/1000g1240khdf5/all1240/chrX.hdf5\n",
      "\n",
      "Intersection on Positions: 47895\n",
      "Nr of Matching Refs: 47895 / 47895\n",
      "Ref/Alt Allele Matching: 47895 / 47895\n",
      "Flipped Ref/Alt Alleles for 0 SNPs\n",
      "Together: 47895 / 47895\n",
      "2397 / 2504 Individuals included in Reference\n",
      "Extracting up to 2504 Individuals\n",
      "Exctraction of hdf5 done. Subsetting...!\n",
      "size of gts matrix: (2, 47895)\n",
      "Extraction of 2 Haplotypes complete\n",
      "Flipping Ref/Alt Allele in target for 0 SNPs...\n",
      "Exctraction of hdf5 done. Subsetting...!\n",
      "size of gts matrix: (4794, 47895)\n",
      "Extraction of 3614 Haplotypes complete\n",
      "Subset to markers with data: 47588 / 47895\n",
      "Fraction SNPs covered: 0.9936\n",
      "Successfully saved target individual data to: ./test_output/contaminate/first_try/iid5/chrX/fast_\n",
      "Loading Readcounts...\n",
      "Mean Readcount on markers with data: 5.01967\n",
      "Successfully loaded Data from: ./test_output/contaminate/first_try/iid5/chrX/fast_\n",
      "Loaded Emission Model: readcount_contam\n",
      "Loaded Transition Model: model\n",
      "Loaded Post Processing Model: Standard\n",
      "\n",
      "Parameters in hapCon_chrom:\n",
      "iid\tiid5\n",
      "ch\tX\n",
      "save\tTrue\n",
      "save_fp\tFalse\n",
      "n_ref\t2504\n",
      "diploid_ref\tTrue\n",
      "exclude_pops\t['TSI']\n",
      "conPop\t[]\n",
      "e_model\treadcount_contam\n",
      "p_model\tSardHDF5\n",
      "readcounts\tTrue\n",
      "random_allele\tFalse\n",
      "post_model\tStandard\n",
      "path_targets\t/mnt/archgen/users/yilei/tools/hapROH/simulated/1000G_Mosaic/TSI/maleX4/con5/chrX_cov5/data.h5\n",
      "h5_path1000g\t/mnt/archgen/users/yilei/Data/1000G/1000g1240khdf5/all1240/chr\n",
      "meta_path_ref\t/mnt/archgen/users/yilei/Data/1000G/1000g1240khdf5/all1240/meta_df_all.csv\n",
      "folder_out\t./test_output/contaminate/first_try/\n",
      "prefix_out\tfast_\n",
      "c\t[0.  0.1]\n",
      "roh_in\t1\n",
      "roh_out\t0\n",
      "roh_jump\t300\n",
      "e_rate\t0.001\n",
      "e_rate_ref\t0.001\n",
      "max_gap\t0\n",
      "cutoff_post\t0.999\n",
      "roh_min_l\t0.01\n",
      "logfile\tFalse\n",
      "\n",
      "\n",
      "Minimum Genetic Map: 0.2085 Morgan\n",
      "Maximum Genetic Map: 2.0206 Morgan\n",
      "Gaps bigger than 0.1 cM: 214\n",
      "Maximum Gap: 0.9164 cM\n",
      "Upper Gap Cutoff: 5.0000 cM\n",
      "give emission_matrix takes: 7.975637197494507\n",
      "give emission state takes: 1.5691173076629639\n",
      "Reference Number: 3614\n",
      "Minimum Genetic Map: 0.2085 Morgan\n",
      "Maximum Genetic Map: 2.0206 Morgan\n",
      "Gaps bigger than 0.1 cM: 214\n",
      "Maximum Gap: 0.9164 cM\n",
      "Upper Gap Cutoff: 5.0000 cM\n",
      "give emission_matrix takes: 7.9428277015686035\n",
      "give emission state takes: 1.5525550842285156\n",
      "Reference Number: 3614\n",
      "Minimum Genetic Map: 0.2085 Morgan\n",
      "Maximum Genetic Map: 2.0206 Morgan\n",
      "Gaps bigger than 0.1 cM: 214\n",
      "Maximum Gap: 0.9164 cM\n",
      "Upper Gap Cutoff: 5.0000 cM\n",
      "give emission_matrix takes: 7.948106288909912\n",
      "give emission state takes: 1.5574469566345215\n",
      "Reference Number: 3614\n",
      "Minimum Genetic Map: 0.2085 Morgan\n",
      "Maximum Genetic Map: 2.0206 Morgan\n",
      "Gaps bigger than 0.1 cM: 214\n",
      "Maximum Gap: 0.9164 cM\n",
      "Upper Gap Cutoff: 5.0000 cM\n",
      "give emission_matrix takes: 7.972954750061035\n",
      "give emission state takes: 1.5588023662567139\n",
      "Reference Number: 3614\n",
      "Minimum Genetic Map: 0.2085 Morgan\n",
      "Maximum Genetic Map: 2.0206 Morgan\n",
      "Gaps bigger than 0.1 cM: 214\n",
      "Maximum Gap: 0.9164 cM\n",
      "Upper Gap Cutoff: 5.0000 cM\n",
      "give emission_matrix takes: 7.963923692703247\n",
      "give emission state takes: 1.580129623413086\n",
      "Reference Number: 3614\n"
     ]
    },
    {
     "output_type": "execute_result",
     "data": {
      "text/plain": [
       "([-19520.13627644732, -14671.148907585746],\n",
       " 0.1,\n",
       " 0.09650124578323321,\n",
       " 0.1034987542167668)"
      ]
     },
     "metadata": {},
     "execution_count": 3
    }
   ],
   "metadata": {}
  }
 ],
 "metadata": {
  "orig_nbformat": 4,
  "language_info": {
   "name": "python",
   "version": "3.8.10",
   "mimetype": "text/x-python",
   "codemirror_mode": {
    "name": "ipython",
    "version": 3
   },
   "pygments_lexer": "ipython3",
   "nbconvert_exporter": "python",
   "file_extension": ".py"
  },
  "kernelspec": {
   "name": "python3",
   "display_name": "Python 3.8.10 64-bit"
  },
  "interpreter": {
   "hash": "31f2aee4e71d21fbe5cf8b01ff0e069b9275f58929596ceb00d14d90e3e16cd6"
  }
 },
 "nbformat": 4,
 "nbformat_minor": 2
}