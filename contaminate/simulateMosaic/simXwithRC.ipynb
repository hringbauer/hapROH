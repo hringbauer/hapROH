{
 "cells": [
  {
   "cell_type": "markdown",
   "source": [
    "Simulate male X chromosome data with readcount."
   ],
   "metadata": {}
  },
  {
   "cell_type": "code",
   "execution_count": 1,
   "source": [
    "import numpy as np\n",
    "import pandas as pd\n",
    "import matplotlib.pyplot as plt\n",
    "import os as os\n",
    "import sys as sys\n",
    "import multiprocessing as mp\n",
    "\n",
    "sys.path.insert(0, \"/mnt/archgen/users/yilei/tools/hapROH/create1000G_Mosaic\")\n",
    "from createMosaicsMulti import create_individual_mosaic\n",
    "\n",
    "path = \"/mnt/archgen/users/yilei/tools/hapROH\"   # The Path on Yilei's remote space\n",
    "os.chdir(path)  # Set the right Path (in line with Atom default)"
   ],
   "outputs": [],
   "metadata": {}
  },
  {
   "cell_type": "code",
   "execution_count": 2,
   "source": [
    "# actual simulation\n",
    "#### Create the parameters array for the starmap:\n",
    "base_path=\"./simulated/1000G_Mosaic/TSI/maleX/con10/\" \n",
    "path1000G=\"/mnt/archgen/users/yilei/Data/1000G/1000g1240khdf5/chX1240/chr\"\n",
    "pop_list=[\"TSI\"]\n",
    "conPop=[]\n",
    "n=1   # Number of Individuals\n",
    "ch='X'\n",
    "chunk_length=0.0025\n",
    "l = 6  # length of simulated ROH, in centiMorgen\n",
    "n_blocks=5 # How many blocks will be copied in\n",
    "\n",
    "# parameters for faking readcount data\n",
    "cov = 5.0\n",
    "con = 0.1\n",
    "err_rate=1e-3\n",
    "\n",
    "\n",
    "create_individual_mosaic(base_path, path1000G, pop_list, n, ch, chunk_length, l, n_blocks, cov, con, err_rate, conPop)\n"
   ],
   "outputs": [
    {
     "output_type": "stream",
     "name": "stdout",
     "text": [
      "Setting save path...: ./simulated/1000G_Mosaic/TSI/maleX/con10/chrX_6cM/\n"
     ]
    }
   ],
   "metadata": {}
  },
  {
   "cell_type": "markdown",
   "source": [
    "using hapROH to test whether the simulation makes sense."
   ],
   "metadata": {}
  },
  {
   "cell_type": "code",
   "execution_count": 2,
   "source": [
    "sys.path.insert(0, \"/mnt/archgen/users/yilei/tools/hapROH/package\")  # hack to get local package first in path [FROM HARALD - DELETE!!!]\n",
    "from hapsburg.PackagesSupport.hapsburg_run import hapsb_ind  # Need this import\n",
    "from hapsburg.PackagesSupport.hapsburg_run import hapCon_chrom  # Need this import\n"
   ],
   "outputs": [],
   "metadata": {}
  },
  {
   "cell_type": "code",
   "execution_count": 7,
   "source": [
    "hapsb_ind(iid=\"iid0\", chs=['X'], \n",
    "          path_targets='./simulated/1000G_Mosaic/TSI/chrX_5cM/data.h5',\n",
    "          h5_path1000g='../../Data/1000G/1000g1240khdf5/chX1240/chr',\n",
    "          meta_path_ref='../../Data/1000G/meta_df_all.csv', \n",
    "          folder_out='./test_output/contaminate/first_try/', prefix_out='hap_', \n",
    "          e_model='haploid', p_model='SardHDF5', \n",
    "          post_model='Standard', processes=1, delete=False, output=True, save=True, \n",
    "          save_fp=False, n_ref=2504, exclude_pops=[], readcounts=False, random_allele=True, \n",
    "          roh_in=1, roh_out=10, roh_jump=300, e_rate=0.01, e_rate_ref=0.0, \n",
    "          cutoff_post=0.999, max_gap=0, roh_min_l=0.01, \n",
    "          logfile=True, combine=False, file_result='_roh_full.csv')"
   ],
   "outputs": [],
   "metadata": {}
  },
  {
   "cell_type": "code",
   "execution_count": 6,
   "source": [
    "hapsb_ind(iid=\"iid0\", chs=['X'], \n",
    "          path_targets='./simulated/1000G_Mosaic/TSI/chrX_5cM/data.h5',\n",
    "          h5_path1000g='../../Data/1000G/1000g1240khdf5/chX1240/chr',\n",
    "          meta_path_ref='../../Data/1000G/meta_df_all.csv', \n",
    "          folder_out='./test_output/contaminate/first_try/', prefix_out='rc_', \n",
    "          e_model='readcount', p_model='SardHDF5', \n",
    "          post_model='Standard', processes=1, delete=False, output=True, save=True, \n",
    "          save_fp=False, n_ref=2504, exclude_pops=[], readcounts=True, random_allele=False, \n",
    "          roh_in=1, roh_out=10, roh_jump=300, e_rate=0.01, e_rate_ref=0.0, \n",
    "          cutoff_post=0.999, max_gap=0, roh_min_l=0.01, \n",
    "          logfile=True, combine=False, file_result='_roh_full.csv')"
   ],
   "outputs": [],
   "metadata": {}
  },
  {
   "cell_type": "code",
   "execution_count": 6,
   "source": [
    "hapCon_chrom('iid0', '23', save=True, save_fp=False, n_ref=2504, diploid_ref=True, exclude_pops=[], \n",
    "                e_model=\"readcount_contam\", p_model=\"SardHDF5\", readcounts=True, random_allele=False,\n",
    "                post_model=\"Standard\", path_targets='./simulated/1000G_Mosaic/TSI/maleX/con10/chrX_cov5/data.h5',\n",
    "                h5_path1000g='../../Data/1000G/1000g1240khdf5/chX1240/chr',\n",
    "                meta_path_ref='../../Data/1000G/meta_df_all.csv', \n",
    "                folder_out='./test_output/contaminate/first_try/', prefix_out=\"hapCon_cov5_\",\n",
    "                c=0.1, roh_in=1, roh_out=20, roh_jump=300, e_rate=0.001, e_rate_ref=0.0,\n",
    "                max_gap=0, cutoff_post = 0.999, roh_min_l = 0.01, logfile=True)"
   ],
   "outputs": [],
   "metadata": {}
  }
 ],
 "metadata": {
  "orig_nbformat": 4,
  "language_info": {
   "name": "python",
   "version": "3.8.10",
   "mimetype": "text/x-python",
   "codemirror_mode": {
    "name": "ipython",
    "version": 3
   },
   "pygments_lexer": "ipython3",
   "nbconvert_exporter": "python",
   "file_extension": ".py"
  },
  "kernelspec": {
   "name": "python3",
   "display_name": "Python 3.8.10 64-bit"
  },
  "interpreter": {
   "hash": "31f2aee4e71d21fbe5cf8b01ff0e069b9275f58929596ceb00d14d90e3e16cd6"
  }
 },
 "nbformat": 4,
 "nbformat_minor": 2
}